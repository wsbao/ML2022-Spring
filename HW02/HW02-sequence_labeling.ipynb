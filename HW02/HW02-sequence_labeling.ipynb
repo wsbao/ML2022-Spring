{
  "cells": [
    {
      "cell_type": "markdown",
      "metadata": {
        "id": "OYlaRwNu7ojq"
      },
      "source": [
        "# **Homework 2 Phoneme Classification**\n",
        "\n",
        "* Slides: https://docs.google.com/presentation/d/1v6HkBWiJb8WNDcJ9_-2kwVstxUWml87b9CnA16Gdoio/edit?usp=sharing\n",
        "* Kaggle: https://www.kaggle.com/c/ml2022spring-hw2\n",
        "* Video: TBA\n"
      ]
    },
    {
      "cell_type": "code",
      "execution_count": 1,
      "metadata": {
        "colab": {
          "base_uri": "https://localhost:8080/"
        },
        "id": "mLQI0mNcmM-O",
        "outputId": "7d5b4d81-9438-4d50-8153-cd235c47ee21"
      },
      "outputs": [
        {
          "name": "stdout",
          "output_type": "stream",
          "text": [
            "Sat Apr  1 23:10:51 2023       \n",
            "+---------------------------------------------------------------------------------------+\n",
            "| NVIDIA-SMI 531.41                 Driver Version: 531.41       CUDA Version: 12.1     |\n",
            "|-----------------------------------------+----------------------+----------------------+\n",
            "| GPU  Name                      TCC/WDDM | Bus-Id        Disp.A | Volatile Uncorr. ECC |\n",
            "| Fan  Temp  Perf            Pwr:Usage/Cap|         Memory-Usage | GPU-Util  Compute M. |\n",
            "|                                         |                      |               MIG M. |\n",
            "|=========================================+======================+======================|\n",
            "|   0  NVIDIA GeForce RTX 3080 L...  WDDM | 00000000:01:00.0  On |                  N/A |\n",
            "| N/A   43C    P8               19W /  N/A|   4556MiB / 16384MiB |     17%      Default |\n",
            "|                                         |                      |                  N/A |\n",
            "+-----------------------------------------+----------------------+----------------------+\n",
            "                                                                                         \n",
            "+---------------------------------------------------------------------------------------+\n",
            "| Processes:                                                                            |\n",
            "|  GPU   GI   CI        PID   Type   Process name                            GPU Memory |\n",
            "|        ID   ID                                                             Usage      |\n",
            "|=======================================================================================|\n",
            "|    0   N/A  N/A      2928    C+G   ...2txyewy\\StartMenuExperienceHost.exe    N/A      |\n",
            "|    0   N/A  N/A      9152    C+G   ...ekyb3d8bbwe\\PhoneExperienceHost.exe    N/A      |\n",
            "|    0   N/A  N/A     11296    C+G   ...m Files\\Mozilla Firefox\\firefox.exe    N/A      |\n",
            "|    0   N/A  N/A     11332    C+G   C:\\Windows\\explorer.exe                   N/A      |\n",
            "|    0   N/A  N/A     15048    C+G   ...am Files\\Microsoft VS Code\\Code.exe    N/A      |\n",
            "|    0   N/A  N/A     15332    C+G   ...CBS_cw5n1h2txyewy\\TextInputHost.exe    N/A      |\n",
            "|    0   N/A  N/A     16956    C+G   ...1.0_x64__8wekyb3d8bbwe\\Video.UI.exe    N/A      |\n",
            "|    0   N/A  N/A     17952    C+G   ...4036\\office6\\promecefpluginhost.exe    N/A      |\n",
            "|    0   N/A  N/A     20224    C+G   ...GeForce Experience\\NVIDIA Share.exe    N/A      |\n",
            "|    0   N/A  N/A     22204    C+G   ...siveControlPanel\\SystemSettings.exe    N/A      |\n",
            "|    0   N/A  N/A     25660    C+G   ...nt.CBS_cw5n1h2txyewy\\SearchHost.exe    N/A      |\n",
            "|    0   N/A  N/A     26456      C   ...e3\\envs\\machine-learning\\python.exe    N/A      |\n",
            "|    0   N/A  N/A     26788    C+G   ...5n1h2txyewy\\ShellExperienceHost.exe    N/A      |\n",
            "|    0   N/A  N/A     32540    C+G   ...m Files\\Mozilla Firefox\\firefox.exe    N/A      |\n",
            "|    0   N/A  N/A     32672    C+G   ...7.0_x64__w2gh52qy24etm\\Nahimic3.exe    N/A      |\n",
            "|    0   N/A  N/A     32868    C+G   ...4036\\office6\\promecefpluginhost.exe    N/A      |\n",
            "|    0   N/A  N/A     36468      C   ...e3\\envs\\machine-learning\\python.exe    N/A      |\n",
            "|    0   N/A  N/A     37624    C+G   ...__8wekyb3d8bbwe\\WindowsTerminal.exe    N/A      |\n",
            "|    0   N/A  N/A     40852    C+G   ...t.LockApp_cw5n1h2txyewy\\LockApp.exe    N/A      |\n",
            "|    0   N/A  N/A     44236    C+G   ...4036\\office6\\promecefpluginhost.exe    N/A      |\n",
            "+---------------------------------------------------------------------------------------+\n"
          ]
        }
      ],
      "source": [
        "!nvidia-smi"
      ]
    },
    {
      "cell_type": "markdown",
      "metadata": {
        "id": "KVUGfWTo7_Oj"
      },
      "source": [
        "## Download Data\n",
        "Download data from google drive, then unzip it.\n",
        "\n",
        "You should have\n",
        "- `libriphone/train_split.txt`\n",
        "- `libriphone/train_labels`\n",
        "- `libriphone/test_split.txt`\n",
        "- `libriphone/feat/train/*.pt`: training feature<br>\n",
        "- `libriphone/feat/test/*.pt`:  testing feature<br>\n",
        "\n",
        "after running the following block.\n",
        "\n",
        "> **Notes: if the links are dead, you can download the data directly from [Kaggle](https://www.kaggle.com/c/ml2022spring-hw2/data) and upload it to the workspace, or you can use [the Kaggle API](https://www.kaggle.com/general/74235) to directly download the data into colab.**\n"
      ]
    },
    {
      "cell_type": "markdown",
      "metadata": {
        "id": "Bj5jYXsD9Ef3"
      },
      "source": [
        "### Download train/test metadata"
      ]
    },
    {
      "cell_type": "code",
      "execution_count": 2,
      "metadata": {
        "colab": {
          "base_uri": "https://localhost:8080/"
        },
        "id": "OzkiMEcC3Foq",
        "outputId": "cc90c16c-ee21-400e-ec08-dfcd422212a6"
      },
      "outputs": [],
      "source": [
        "# Main link\n",
        "# !wget -O libriphone.zip \"https://github.com/xraychen/shiny-robot/releases/download/v1.0/libriphone.zip\"\n",
        "\n",
        "# Backup Link 0\n",
        "# !pip install --upgrade gdown\n",
        "# !gdown --id '1o6Ag-G3qItSmYhTheX6DYiuyNzWyHyTc' --output libriphone.zip\n",
        "\n",
        "# Backup link 1\n",
        "# !pip install --upgrade gdown\n",
        "# !gdown --id '1R1uQYi4QpX0tBfUWt2mbZcncdBsJkxeW' --output libriphone.zip\n",
        "\n",
        "# Backup link 2\n",
        "# !wget -O libriphone.zip \"https://www.dropbox.com/s/wqww8c5dbrl2ka9/libriphone.zip?dl=1\"\n",
        "\n",
        "# Backup link 3\n",
        "# !wget -O libriphone.zip \"https://www.dropbox.com/s/p2ljbtb2bam13in/libriphone.zip?dl=1\"\n",
        "\n",
        "# !unzip -q libriphone.zip\n",
        "# !ls libriphone"
      ]
    },
    {
      "cell_type": "markdown",
      "metadata": {
        "id": "_L_4anls8Drv"
      },
      "source": [
        "### Preparing Data"
      ]
    },
    {
      "cell_type": "markdown",
      "metadata": {
        "id": "po4N3C-AWuWl"
      },
      "source": [
        "**Helper functions to pre-process the training data from raw MFCC features of each utterance.**\n",
        "\n",
        "A phoneme may span several frames and is dependent to past and future frames. \\\n",
        "Hence we concatenate neighboring phonemes for training to achieve higher accuracy. The **concat_feat** function concatenates past and future k frames (total 2k+1 = n frames), and we predict the center frame.\n",
        "\n",
        "Feel free to modify the data preprocess functions, but **do not drop any frame** (if you modify the functions, remember to check that the number of frames are the same as mentioned in the slides)"
      ]
    },
    {
      "cell_type": "code",
      "execution_count": 3,
      "metadata": {
        "id": "IJjLT8em-y9G"
      },
      "outputs": [],
      "source": [
        "import os\n",
        "import random\n",
        "import pandas as pd\n",
        "import torch\n",
        "from tqdm import tqdm\n",
        "from torch.nn.utils.rnn import pad_sequence\n",
        "\n",
        "def load_feat(path):\n",
        "    feat = torch.load(path)\n",
        "    return feat\n",
        "\n",
        "def shift(x, n):\n",
        "    if n < 0:\n",
        "        left = x[0].repeat(-n, 1)\n",
        "        right = x[:n]\n",
        "\n",
        "    elif n > 0:\n",
        "        right = x[-1].repeat(n, 1)\n",
        "        left = x[n:]\n",
        "    else:\n",
        "        return x\n",
        "\n",
        "    return torch.cat((left, right), dim=0)\n",
        "\n",
        "def concat_feat(x, concat_n):\n",
        "    assert concat_n % 2 == 1 # n must be odd\n",
        "    if concat_n < 2:\n",
        "        return x\n",
        "    seq_len, feature_dim = x.size(0), x.size(1)\n",
        "    x = x.repeat(1, concat_n) \n",
        "    x = x.view(seq_len, concat_n, feature_dim).permute(1, 0, 2) # concat_n, seq_len, feature_dim\n",
        "    mid = (concat_n // 2)\n",
        "    for r_idx in range(1, mid+1):\n",
        "        x[mid + r_idx, :] = shift(x[mid + r_idx], r_idx)\n",
        "        x[mid - r_idx, :] = shift(x[mid - r_idx], -r_idx)\n",
        "\n",
        "    return x.permute(1, 0, 2).view(seq_len, concat_n * feature_dim)\n",
        "\n",
        "# def preprocess_data(split, feat_dir, phone_path, concat_nframes, train_ratio=0.8, train_val_seed=1337, for_rnn=False):\n",
        "#     class_num = 41 # NOTE: pre-computed, should not need change\n",
        "#     mode = 'train' if (split == 'train' or split == 'val') else 'test'\n",
        "\n",
        "#     label_dict = {}\n",
        "#     if mode != 'test':\n",
        "#       phone_file = open(os.path.join(phone_path, f'{mode}_labels.txt')).readlines()\n",
        "\n",
        "#       for line in phone_file:\n",
        "#           line = line.strip('\\n').split(' ')\n",
        "#           label_dict[line[0]] = [int(p) for p in line[1:]]\n",
        "\n",
        "#     if split == 'train' or split == 'val':\n",
        "#         # split training and validation data\n",
        "#         usage_list = open(os.path.join(phone_path, 'train_split.txt')).readlines()\n",
        "#         random.seed(train_val_seed)\n",
        "#         random.shuffle(usage_list)\n",
        "#         percent = int(len(usage_list) * train_ratio)\n",
        "#         usage_list = usage_list[:percent] if split == 'train' else usage_list[percent:]\n",
        "#     elif split == 'test':\n",
        "#         usage_list = open(os.path.join(phone_path, 'test_split.txt')).readlines()\n",
        "#     else:\n",
        "#         raise ValueError('Invalid \\'split\\' argument for dataset: PhoneDataset!')\n",
        "\n",
        "#     usage_list = [line.strip('\\n') for line in usage_list]\n",
        "#     print('[Dataset] - # phone classes: ' + str(class_num) + ', number of utterances for ' + split + ': ' + str(len(usage_list)))\n",
        "\n",
        "#     max_len = 3000000\n",
        "#     X = torch.empty(max_len, 39 * concat_nframes)\n",
        "#     if mode != 'test':\n",
        "#         y = torch.empty(max_len, dtype=torch.long) if not for_rnn else torch.empty(max_len, concat_nframes, dtype=torch.long)\n",
        "\n",
        "#     idx = 0\n",
        "#     for i, fname in tqdm(enumerate(usage_list)):\n",
        "#         feat = load_feat(os.path.join(feat_dir, mode, f'{fname}.pt'))\n",
        "#         cur_len = len(feat)\n",
        "#         feat = concat_feat(feat, concat_nframes)\n",
        "#         if mode != 'test':\n",
        "#           label = torch.LongTensor(label_dict[fname])\n",
        "#           if for_rnn:\n",
        "#               label = torch.unsqueeze(label, 1)\n",
        "#               label = concat_feat(label, concat_nframes)\n",
        "\n",
        "#         X[idx: idx + cur_len, :] = feat\n",
        "#         if mode != 'test':\n",
        "#           y[idx: idx + cur_len] = label\n",
        "\n",
        "#         idx += cur_len\n",
        "\n",
        "#     X = X[:idx, :]\n",
        "#     if mode != 'test':\n",
        "#       y = y[:idx]\n",
        "    \n",
        "#     if for_rnn:\n",
        "#         X = X.view(idx, concat_nframes, -1)\n",
        "\n",
        "#     print(f'[INFO] {split} set')\n",
        "#     print(X.shape)\n",
        "#     if mode != 'test':\n",
        "#       print(y.shape)\n",
        "#       return X, y\n",
        "#     else:\n",
        "#       return X\n",
        "\n",
        "def preprocess_data(split, feat_dir, phone_path, train_ratio=0.8, train_val_seed=1337):\n",
        "    class_num = 41 # NOTE: pre-computed, should not need change\n",
        "    mode = 'train' if (split == 'train' or split == 'val') else 'test'\n",
        "\n",
        "    label_dict = {}\n",
        "    if mode != 'test':\n",
        "      phone_file = open(os.path.join(phone_path, f'{mode}_labels.txt')).readlines()\n",
        "\n",
        "      for line in phone_file:\n",
        "          line = line.strip('\\n').split(' ')\n",
        "          label_dict[line[0]] = [int(p) for p in line[1:]]\n",
        "\n",
        "    if split == 'train' or split == 'val':\n",
        "        # split training and validation data\n",
        "        usage_list = open(os.path.join(phone_path, 'train_split.txt')).readlines()\n",
        "        random.seed(train_val_seed)\n",
        "        random.shuffle(usage_list)\n",
        "        percent = int(len(usage_list) * train_ratio)\n",
        "        usage_list = usage_list[:percent] if split == 'train' else usage_list[percent:]\n",
        "    elif split == 'test':\n",
        "        usage_list = open(os.path.join(phone_path, 'test_split.txt')).readlines()\n",
        "    else:\n",
        "        raise ValueError('Invalid \\'split\\' argument for dataset: PhoneDataset!')\n",
        "\n",
        "    usage_list = [line.strip('\\n') for line in usage_list]\n",
        "    print('[Dataset] - # phone classes: ' + str(class_num) + ', number of utterances for ' + split + ': ' + str(len(usage_list)))\n",
        "    \n",
        "    X = []\n",
        "    if mode != 'test':\n",
        "        y = []\n",
        "    \n",
        "    for i, fname in tqdm(enumerate(usage_list)):\n",
        "        feat = load_feat(os.path.join(feat_dir, mode, f'{fname}.pt'))\n",
        "        if mode != 'test':\n",
        "            label = torch.LongTensor(label_dict[fname])\n",
        "            \n",
        "        X.append(feat)\n",
        "        if mode != 'test':\n",
        "            y.append(label)\n",
        "    \n",
        "    if mode != 'test':\n",
        "        return X, y\n",
        "    else:\n",
        "        return X\n",
        "        \n",
        "    # max_len = 3000000\n",
        "    # X = torch.empty(max_len, 39 * concat_nframes)\n",
        "    # if mode != 'test':\n",
        "    #     y = torch.empty(max_len, dtype=torch.long) if not for_rnn else torch.empty(max_len, concat_nframes, dtype=torch.long)\n",
        "\n",
        "    # idx = 0\n",
        "    # for i, fname in tqdm(enumerate(usage_list)):\n",
        "    #     feat = load_feat(os.path.join(feat_dir, mode, f'{fname}.pt'))\n",
        "    #     cur_len = len(feat)\n",
        "    #     feat = concat_feat(feat, concat_nframes)\n",
        "    #     if mode != 'test':\n",
        "    #       label = torch.LongTensor(label_dict[fname])\n",
        "    #       if for_rnn:\n",
        "    #           label = torch.unsqueeze(label, 1)\n",
        "    #           label = concat_feat(label, concat_nframes)\n",
        "\n",
        "    #     X[idx: idx + cur_len, :] = feat\n",
        "    #     if mode != 'test':\n",
        "    #       y[idx: idx + cur_len] = label\n",
        "\n",
        "    #     idx += cur_len\n",
        "\n",
        "    # X = X[:idx, :]\n",
        "    # if mode != 'test':\n",
        "    #   y = y[:idx]\n",
        "    \n",
        "    # if for_rnn:\n",
        "    #     X = X.view(idx, concat_nframes, -1)\n",
        "\n",
        "    # print(f'[INFO] {split} set')\n",
        "    # print(X.shape)\n",
        "    # if mode != 'test':\n",
        "    #   print(y.shape)\n",
        "    #   return X, y\n",
        "    # else:\n",
        "    #   return X\n",
        "\n",
        "def train_pad_collate_fn(batch):\n",
        "    \n",
        "    Xs, ys = zip(*batch)\n",
        "    masks = [ torch.ones_like(y) for y in ys ]\n",
        "    Xs = pad_sequence(Xs, batch_first=True)\n",
        "    ys = pad_sequence(ys, batch_first=True)\n",
        "    masks = pad_sequence(masks, batch_first=True)\n",
        "    \n",
        "    return Xs, ys, masks\n",
        "\n",
        "def test_pad_collate_fn(batch):\n",
        "    \n",
        "    Xs = batch\n",
        "    masks = [ torch.ones((X.shape[0],)) for X in Xs ]\n",
        "    Xs = pad_sequence(Xs, batch_first=True)\n",
        "    masks = pad_sequence(masks, batch_first=True)\n",
        "    \n",
        "    return Xs, masks\n"
      ]
    },
    {
      "cell_type": "markdown",
      "metadata": {
        "id": "us5XW_x6udZQ"
      },
      "source": [
        "## Define Dataset"
      ]
    },
    {
      "cell_type": "code",
      "execution_count": 4,
      "metadata": {
        "id": "Fjf5EcmJtf4e"
      },
      "outputs": [],
      "source": [
        "import torch\n",
        "from torch.utils.data import Dataset\n",
        "from torch.utils.data import DataLoader\n",
        "\n",
        "class LibriDataset(Dataset):\n",
        "    def __init__(self, X, y=None):\n",
        "        self.data = X\n",
        "        if y is not None:\n",
        "            # self.label = torch.LongTensor(y)\n",
        "            self.label = y\n",
        "        else:\n",
        "            self.label = None\n",
        "\n",
        "    def __getitem__(self, idx):\n",
        "        if self.label is not None:\n",
        "            return self.data[idx], self.label[idx]\n",
        "        else:\n",
        "            return self.data[idx]\n",
        "\n",
        "    def __len__(self):\n",
        "        return len(self.data)\n"
      ]
    },
    {
      "cell_type": "markdown",
      "metadata": {
        "id": "IRqKNvNZwe3V"
      },
      "source": [
        "## Define Model"
      ]
    },
    {
      "cell_type": "code",
      "execution_count": 5,
      "metadata": {
        "id": "Bg-GRd7ywdrL"
      },
      "outputs": [],
      "source": [
        "import torch\n",
        "import torch.nn as nn\n",
        "import torch.nn.functional as F\n",
        "from bi_lstm_crf import CRF\n",
        "\n",
        "# class BasicBlock(nn.Module):\n",
        "#     def __init__(self, input_dim, output_dim, drop_rate=0.1):\n",
        "#         super(BasicBlock, self).__init__()\n",
        "\n",
        "#         self.block = nn.Sequential(\n",
        "#             nn.Linear(input_dim, output_dim),\n",
        "#             nn.BatchNorm1d(output_dim),\n",
        "#             nn.Dropout(drop_rate),\n",
        "#             nn.ReLU(),\n",
        "#         )\n",
        "\n",
        "#     def forward(self, x):\n",
        "#         x = self.block(x)\n",
        "#         return x\n",
        "\n",
        "# class Classifier(nn.Module):\n",
        "#     def __init__(self, input_dim, output_dim=41, hidden_layers=1, hidden_dim=256, drop_rate=0.1):\n",
        "#         super(Classifier, self).__init__()\n",
        "\n",
        "#         self.fc = nn.Sequential(\n",
        "#             BasicBlock(input_dim, hidden_dim, drop_rate=drop_rate),\n",
        "#             *[BasicBlock(hidden_dim, hidden_dim, drop_rate=drop_rate) for _ in range(hidden_layers)],\n",
        "#             nn.Linear(hidden_dim, output_dim)\n",
        "#         )\n",
        "\n",
        "#     def forward(self, x):\n",
        "#         x = self.fc(x)\n",
        "#         return x\n",
        "\n",
        "class RNNClassifier(nn.Module):\n",
        "    def __init__(self, input_dim, out_dim=41, hidden_layers=1, hidden_dim=256, drop_rate=0.1):\n",
        "        super(RNNClassifier, self).__init__()\n",
        "        \n",
        "        self.lstm = nn.LSTM(input_dim, hidden_dim, hidden_layers, dropout=drop_rate, bidirectional=True, batch_first=True)\n",
        "        self.af = nn.Sequential(\n",
        "            nn.LazyBatchNorm1d(),\n",
        "            # nn.LayerNorm(2*hidden_dim),\n",
        "            # nn.GELU()\n",
        "        )\n",
        "        self.fc = nn.LazyLinear(out_dim)\n",
        "    \n",
        "    def forward(self, x):\n",
        "        x, _ = self.lstm(x)\n",
        "        x = self.af(x)\n",
        "        x = self.fc(x)\n",
        "        return x\n",
        "    \n",
        "    \n",
        "class BiLSTMCRF(nn.Module):\n",
        "    def __init__(self, input_dim, out_dim=41, hidden_layers=1, hidden_dim=256, drop_rate=0.1):\n",
        "        super(BiLSTMCRF, self).__init__()\n",
        "        self.bilstm = nn.LSTM(input_dim, hidden_dim, hidden_layers, dropout=drop_rate, bidirectional=True, batch_first=True)\n",
        "        self.crf = CRF(hidden_dim * 2, out_dim)\n",
        "        \n",
        "    def loss(self, x, y, masks):\n",
        "        features, _ = self.bilstm(x)\n",
        "        if masks is None:\n",
        "            masks = torch.ones_like(y, device=y.device)\n",
        "        loss = self.crf.loss(features, y, masks)\n",
        "        return loss\n",
        "    \n",
        "    def forward(self, x, masks=None):\n",
        "        features, _ = self.bilstm(x)\n",
        "        if masks is None:\n",
        "            masks = torch.ones(x.shape[:2], device=x.device)\n",
        "        scores, outputs = self.crf(features, masks)\n",
        "        return scores, outputs\n",
        "    \n",
        "    \n",
        "# class BiLSTMCRF(nn.Module):\n",
        "#     def __init__(self, input_dim, out_dim=41, hidden_layers=1, hidden_dim=256, drop_rate=0.1, device=\"cpu\"):\n",
        "#         super(BiLSTMCRF, self).__init__()\n",
        "        \n",
        "#         self._BIG_NEG = -1e5\n",
        "#         self.out_dim = out_dim\n",
        "#         self.bilstm = nn.LSTM(input_dim, hidden_dim, hidden_layers, dropout=drop_rate, bidirectional=True, batch_first=True)\n",
        "#         self.fc = nn.LazyLinear(out_dim)\n",
        "#         self.trans = nn.Parameter(torch.randn(out_dim+1, out_dim+1))\n",
        "#         self.trans.data[out_dim, :] = self._BIG_NEG\n",
        "#         self.device = device\n",
        "#         self.to(device)\n",
        "#         # self.trans.data[:,out_dim+1] = -1e5\n",
        "    \n",
        "#     def _get_bilstm_freatures(self, input):\n",
        "#         bilstm_out, _ = self.bilstm(input)\n",
        "#         bilstm_feats = self.fc(bilstm_out)\n",
        "#         return bilstm_feats # (batch_size, concat_nframes, out_dim)\n",
        "    \n",
        "#     def _score(self, feats, labels):\n",
        "#         batch_size = feats.shape[0]\n",
        "#         score = torch.zeros(batch_size, 1).to(self.device)\n",
        "#         labels = torch.cat([torch.tensor([[self.out_dim]] * batch_size).to(self.device), labels], dim=-1)\n",
        "#         for i in range(feats.shape[-2]):\n",
        "#             score += (self.trans[ labels[:, i+1], labels[:, i]] + feats[range(batch_size), i, labels[:, i+1]]).view(-1,1)\n",
        "#         # score += self.trans[ -1,  labels[:, -1] ]\n",
        "#         return score # (batch_size, 1)\n",
        "        \n",
        "#     def _log_sum_exp_score(self, feats):\n",
        "#         batch_size = feats.shape[0]\n",
        "#         forward_var = torch.full((batch_size, self.out_dim+1), self._BIG_NEG).to(self.device)\n",
        "#         forward_var[:, self.out_dim] = 0.\n",
        "        \n",
        "#         for i in range(feats.shape[-2]):\n",
        "#             alpha_t = []\n",
        "#             for next_label in range(self.out_dim+1):\n",
        "#                 emit_score = self._BIG_NEG if next_label == self.out_dim else feats[:, i, next_label].view(-1, 1)\n",
        "#                 trans_score = self.trans[next_label]\n",
        "#                 next_label_var = forward_var + (emit_score + trans_score)\n",
        "#                 alpha_t.append(torch.logsumexp(next_label_var, dim=-1, keepdim=True))\n",
        "#             forward_var = torch.cat(alpha_t, dim=-1)\n",
        "#         alpha = torch.logsumexp(forward_var, dim=-1, keepdim=True)\n",
        "#         return alpha # (batch_size, 1)\n",
        "    \n",
        "#     def _viterbi_decode(self, feats):\n",
        "#         backpointers = []\n",
        "#         batch_size = feats.shape[0]\n",
        "#         forward_var = torch.full((batch_size, self.out_dim+1), self._BIG_NEG).to(self.device)\n",
        "#         forward_var[:, self.out_dim] = 0.\n",
        "        \n",
        "#         for i in range(feats.shape[-2]):\n",
        "#             bptrs_t = []\n",
        "#             viterbivars_t = []\n",
        "#             for next_label in range(self.out_dim+1):\n",
        "#                 next_label_var = forward_var + self.trans[next_label]\n",
        "#                 best_label = torch.argmax(next_label_var, dim=-1, keepdim=True)\n",
        "#                 bptrs_t.append(best_label)\n",
        "#                 viterbivars_t.append(next_label_var[range(batch_size), best_label.squeeze()].view(-1,1))\n",
        "#             feat = feats[:, i, :] \n",
        "#             feat = torch.cat([feat, torch.full((batch_size, 1), self._BIG_NEG).to(self.device)], dim=-1)\n",
        "#             forward_var = torch.cat(viterbivars_t, dim=-1) + feat\n",
        "#             backpointers.append(torch.cat(bptrs_t, dim=-1))\n",
        "            \n",
        "#         best_label = torch.argmax(forward_var, dim=-1, keepdim=True)\n",
        "#         path_score = forward_var[range(batch_size), best_label.squeeze()].view(-1,1)\n",
        "#         best_path = [ best_label ]\n",
        "        \n",
        "#         for bptrs_t in reversed(backpointers):\n",
        "#             best_label = bptrs_t[range(batch_size), best_label.squeeze()].view(-1,1)\n",
        "#             best_path.append(best_label)\n",
        "            \n",
        "#         best_path.reverse()\n",
        "#         best_path = torch.cat(best_path, dim=-1)\n",
        "#         return path_score, best_path[:,1:]\n",
        "                \n",
        "#     def neg_log_likelihood(self, input, labels):\n",
        "#         feats = self._get_bilstm_freatures(input)\n",
        "#         forward_score = self._log_sum_exp_score(feats)\n",
        "#         gt_score = self._score(feats, labels)\n",
        "#         return torch.mean(forward_score - gt_score)\n",
        "                 \n",
        "#     def forward(self, x):\n",
        "#         x = self._get_bilstm_freatures(x)\n",
        "#         _, x = self._viterbi_decode(x)\n",
        "#         return x\n",
        "\n"
      ]
    },
    {
      "cell_type": "markdown",
      "metadata": {
        "id": "TlIq8JeqvvHC"
      },
      "source": [
        "## Hyper-parameters"
      ]
    },
    {
      "cell_type": "code",
      "execution_count": 6,
      "metadata": {
        "id": "iIHn79Iav1ri"
      },
      "outputs": [],
      "source": [
        "# data prarameters\n",
        "concat_nframes = 1 # 25 # 1     # the number of frames to concat with, n must be odd (total 2k+1 = n frames)\n",
        "train_ratio = 0.9 # 0.8         # the ratio of data used for training, the rest will be used for validation\n",
        "\n",
        "# training parameters\n",
        "seed = 0                        # random seed\n",
        "batch_size = 48 # 1024          # batch size\n",
        "num_epoch = 800                 # the number of training epoch\n",
        "learning_rate = 1e-3            # learning rate\n",
        "model_path = './model.ckpt'     # the path where the checkpoint will be saved\n",
        "drop_rate = 0.5                 # the probablity of drop out (Customized)\n",
        "early_stop = 8                  # If model has not improved for this many consecutive epochs, stop training. (Customized)\n",
        "weight_decay = 5e-2             # weight decay for optimizer (Customized)\n",
        "\n",
        "# model parameters\n",
        "input_dim = 39 * concat_nframes # the input dim of the model, you should not change the value\n",
        "hidden_layers = 6 # 1           # the number of hidden layers\n",
        "hidden_dim = 256                # the hidden dim"
      ]
    },
    {
      "cell_type": "markdown",
      "metadata": {
        "id": "IIUFRgG5yoDn"
      },
      "source": [
        "## Prepare dataset and model"
      ]
    },
    {
      "cell_type": "code",
      "execution_count": 7,
      "metadata": {
        "colab": {
          "base_uri": "https://localhost:8080/"
        },
        "id": "c1zI3v5jyrDn",
        "outputId": "3ea2823a-83f3-42d9-ef05-2f2c002f9538"
      },
      "outputs": [
        {
          "name": "stdout",
          "output_type": "stream",
          "text": [
            "[Dataset] - # phone classes: 41, number of utterances for train: 3857\n"
          ]
        },
        {
          "name": "stderr",
          "output_type": "stream",
          "text": [
            "3857it [00:01, 3115.80it/s]\n"
          ]
        },
        {
          "name": "stdout",
          "output_type": "stream",
          "text": [
            "[Dataset] - # phone classes: 41, number of utterances for val: 429\n"
          ]
        },
        {
          "name": "stderr",
          "output_type": "stream",
          "text": [
            "429it [00:00, 3170.48it/s]\n"
          ]
        }
      ],
      "source": [
        "import gc\n",
        "\n",
        "# preprocess data\n",
        "# train_X, train_y = preprocess_data(split='train', feat_dir='./libriphone/feat', phone_path='./libriphone', concat_nframes=concat_nframes, train_ratio=train_ratio, for_rnn=True)\n",
        "# val_X, val_y = preprocess_data(split='val', feat_dir='./libriphone/feat', phone_path='./libriphone', concat_nframes=concat_nframes, train_ratio=train_ratio, for_rnn=True)\n",
        "train_X, train_y = preprocess_data(split='train', feat_dir='./libriphone/feat', phone_path='./libriphone', train_ratio=train_ratio)\n",
        "val_X, val_y = preprocess_data(split='val', feat_dir='./libriphone/feat', phone_path='./libriphone', train_ratio=train_ratio)\n",
        "\n",
        "# get dataset\n",
        "train_set = LibriDataset(train_X, train_y)\n",
        "val_set = LibriDataset(val_X, val_y)\n",
        "\n",
        "# remove raw feature to save memory\n",
        "del train_X, train_y, val_X, val_y\n",
        "gc.collect()\n",
        "\n",
        "# get dataloader\n",
        "train_loader = DataLoader(train_set, batch_size=batch_size, shuffle=True, collate_fn=train_pad_collate_fn)\n",
        "val_loader = DataLoader(val_set, batch_size=batch_size, shuffle=False, collate_fn=train_pad_collate_fn)"
      ]
    },
    {
      "cell_type": "code",
      "execution_count": 8,
      "metadata": {
        "colab": {
          "base_uri": "https://localhost:8080/"
        },
        "id": "CfRUEgC0GxUV",
        "outputId": "f9804711-72b1-4717-896b-821a300cfe87"
      },
      "outputs": [
        {
          "name": "stdout",
          "output_type": "stream",
          "text": [
            "DEVICE: cuda:0\n"
          ]
        }
      ],
      "source": [
        "device = 'cuda:0' if torch.cuda.is_available() else 'cpu'\n",
        "print(f'DEVICE: {device}')"
      ]
    },
    {
      "cell_type": "code",
      "execution_count": 9,
      "metadata": {
        "id": "88xPiUnm0tAd"
      },
      "outputs": [],
      "source": [
        "import numpy as np\n",
        "\n",
        "#fix seed\n",
        "def same_seeds(seed):\n",
        "    torch.manual_seed(seed)\n",
        "    if torch.cuda.is_available():\n",
        "        torch.cuda.manual_seed(seed)\n",
        "        torch.cuda.manual_seed_all(seed)  \n",
        "    np.random.seed(seed)  \n",
        "    torch.backends.cudnn.benchmark = False\n",
        "    torch.backends.cudnn.deterministic = True"
      ]
    },
    {
      "cell_type": "code",
      "execution_count": 10,
      "metadata": {
        "id": "QTp3ZXg1yO9Y"
      },
      "outputs": [],
      "source": [
        "\n",
        "# fix random seed\n",
        "same_seeds(seed)\n",
        "\n",
        "# create model, define a loss function, and optimizer\n",
        "# model = Classifier(input_dim=input_dim, hidden_layers=hidden_layers, hidden_dim=hidden_dim, drop_rate=drop_rate).to(device)\n",
        "# model = RNNClassifier(input_dim=input_dim//concat_nframes, hidden_layers=hidden_layers, hidden_dim=hidden_dim, drop_rate=drop_rate).to(device)\n",
        "model = BiLSTMCRF(input_dim=input_dim//concat_nframes, hidden_layers=hidden_layers, hidden_dim=hidden_dim, drop_rate=drop_rate).to(device)\n",
        "# criterion = nn.CrossEntropyLoss() \n",
        "optimizer = torch.optim.AdamW(model.parameters(), lr=learning_rate, weight_decay=weight_decay)\n",
        "scheduler = torch.optim.lr_scheduler.CosineAnnealingWarmRestarts(optimizer, T_0=2, T_mult=2) # Customized learning rate scheduler"
      ]
    },
    {
      "cell_type": "markdown",
      "metadata": {
        "id": "pwWH1KIqzxEr"
      },
      "source": [
        "## Training"
      ]
    },
    {
      "cell_type": "code",
      "execution_count": 11,
      "metadata": {
        "colab": {
          "base_uri": "https://localhost:8080/"
        },
        "id": "CdMWsBs7zzNs",
        "outputId": "17922ad2-a319-4253-8783-3e4939d0a7cf"
      },
      "outputs": [
        {
          "name": "stderr",
          "output_type": "stream",
          "text": [
            "100%|██████████| 81/81 [02:58<00:00,  2.20s/it]\n",
            "100%|██████████| 9/9 [00:09<00:00,  1.06s/it]\n"
          ]
        },
        {
          "name": "stdout",
          "output_type": "stream",
          "text": [
            "[001/800] Train Acc: 0.284321 Loss: 1746.360290 | Val Acc: 0.457501 loss: 1190.433499\n",
            "saving model with acc 0.457501\n"
          ]
        },
        {
          "name": "stderr",
          "output_type": "stream",
          "text": [
            "100%|██████████| 81/81 [02:50<00:00,  2.11s/it]\n",
            "100%|██████████| 9/9 [00:10<00:00,  1.16s/it]\n"
          ]
        },
        {
          "name": "stdout",
          "output_type": "stream",
          "text": [
            "[002/800] Train Acc: 0.524211 Loss: 1005.492651 | Val Acc: 0.588476 loss: 855.193054\n",
            "saving model with acc 0.588476\n"
          ]
        },
        {
          "name": "stderr",
          "output_type": "stream",
          "text": [
            "100%|██████████| 81/81 [02:54<00:00,  2.15s/it]\n",
            "100%|██████████| 9/9 [00:10<00:00,  1.12s/it]\n"
          ]
        },
        {
          "name": "stdout",
          "output_type": "stream",
          "text": [
            "[003/800] Train Acc: 0.621163 Loss: 775.692766 | Val Acc: 0.673497 loss: 664.728448\n",
            "saving model with acc 0.673497\n"
          ]
        },
        {
          "name": "stderr",
          "output_type": "stream",
          "text": [
            "100%|██████████| 81/81 [02:47<00:00,  2.07s/it]\n",
            "100%|██████████| 9/9 [00:09<00:00,  1.06s/it]\n"
          ]
        },
        {
          "name": "stdout",
          "output_type": "stream",
          "text": [
            "[004/800] Train Acc: 0.691544 Loss: 615.541625 | Val Acc: 0.718230 loss: 558.927782\n",
            "saving model with acc 0.718230\n"
          ]
        },
        {
          "name": "stderr",
          "output_type": "stream",
          "text": [
            "100%|██████████| 81/81 [02:57<00:00,  2.19s/it]\n",
            "100%|██████████| 9/9 [00:10<00:00,  1.18s/it]\n"
          ]
        },
        {
          "name": "stdout",
          "output_type": "stream",
          "text": [
            "[005/800] Train Acc: 0.734429 Loss: 518.921962 | Val Acc: 0.748573 loss: 496.044139\n",
            "saving model with acc 0.748573\n"
          ]
        },
        {
          "name": "stderr",
          "output_type": "stream",
          "text": [
            "100%|██████████| 81/81 [02:59<00:00,  2.22s/it]\n",
            "100%|██████████| 9/9 [00:10<00:00,  1.13s/it]\n"
          ]
        },
        {
          "name": "stdout",
          "output_type": "stream",
          "text": [
            "[006/800] Train Acc: 0.758854 Loss: 467.254679 | Val Acc: 0.760963 loss: 468.636054\n",
            "saving model with acc 0.760963\n"
          ]
        },
        {
          "name": "stderr",
          "output_type": "stream",
          "text": [
            "100%|██████████| 81/81 [02:51<00:00,  2.12s/it]\n",
            "100%|██████████| 9/9 [00:10<00:00,  1.11s/it]\n"
          ]
        },
        {
          "name": "stdout",
          "output_type": "stream",
          "text": [
            "[007/800] Train Acc: 0.747402 Loss: 480.462813 | Val Acc: 0.755951 loss: 469.277289\n"
          ]
        },
        {
          "name": "stderr",
          "output_type": "stream",
          "text": [
            "100%|██████████| 81/81 [02:52<00:00,  2.13s/it]\n",
            "100%|██████████| 9/9 [00:10<00:00,  1.11s/it]\n"
          ]
        },
        {
          "name": "stdout",
          "output_type": "stream",
          "text": [
            "[008/800] Train Acc: 0.768058 Loss: 430.517047 | Val Acc: 0.771796 loss: 426.398298\n",
            "saving model with acc 0.771796\n"
          ]
        },
        {
          "name": "stderr",
          "output_type": "stream",
          "text": [
            "100%|██████████| 81/81 [02:51<00:00,  2.12s/it]\n",
            "100%|██████████| 9/9 [00:09<00:00,  1.10s/it]\n"
          ]
        },
        {
          "name": "stdout",
          "output_type": "stream",
          "text": [
            "[009/800] Train Acc: 0.788840 Loss: 381.570143 | Val Acc: 0.786011 loss: 390.611803\n",
            "saving model with acc 0.786011\n"
          ]
        },
        {
          "name": "stderr",
          "output_type": "stream",
          "text": [
            "100%|██████████| 81/81 [02:52<00:00,  2.12s/it]\n",
            "100%|██████████| 9/9 [00:10<00:00,  1.16s/it]\n"
          ]
        },
        {
          "name": "stdout",
          "output_type": "stream",
          "text": [
            "[010/800] Train Acc: 0.806433 Loss: 342.119157 | Val Acc: 0.797248 loss: 366.104435\n",
            "saving model with acc 0.797248\n"
          ]
        },
        {
          "name": "stderr",
          "output_type": "stream",
          "text": [
            "100%|██████████| 81/81 [03:04<00:00,  2.27s/it]\n",
            "100%|██████████| 9/9 [00:10<00:00,  1.19s/it]\n"
          ]
        },
        {
          "name": "stdout",
          "output_type": "stream",
          "text": [
            "[011/800] Train Acc: 0.821861 Loss: 309.624092 | Val Acc: 0.804834 loss: 352.463443\n",
            "saving model with acc 0.804834\n"
          ]
        },
        {
          "name": "stderr",
          "output_type": "stream",
          "text": [
            "100%|██████████| 81/81 [02:55<00:00,  2.17s/it]\n",
            "100%|██████████| 9/9 [00:11<00:00,  1.31s/it]\n"
          ]
        },
        {
          "name": "stdout",
          "output_type": "stream",
          "text": [
            "[012/800] Train Acc: 0.833501 Loss: 285.060659 | Val Acc: 0.809049 loss: 342.149841\n",
            "saving model with acc 0.809049\n"
          ]
        },
        {
          "name": "stderr",
          "output_type": "stream",
          "text": [
            "100%|██████████| 81/81 [02:50<00:00,  2.11s/it]\n",
            "100%|██████████| 9/9 [00:10<00:00,  1.12s/it]\n"
          ]
        },
        {
          "name": "stdout",
          "output_type": "stream",
          "text": [
            "[013/800] Train Acc: 0.842540 Loss: 267.253080 | Val Acc: 0.812840 loss: 334.915582\n",
            "saving model with acc 0.812840\n"
          ]
        },
        {
          "name": "stderr",
          "output_type": "stream",
          "text": [
            "100%|██████████| 81/81 [02:52<00:00,  2.13s/it]\n",
            "100%|██████████| 9/9 [00:10<00:00,  1.15s/it]\n"
          ]
        },
        {
          "name": "stdout",
          "output_type": "stream",
          "text": [
            "[014/800] Train Acc: 0.847645 Loss: 258.496272 | Val Acc: 0.813558 loss: 333.252580\n",
            "saving model with acc 0.813558\n"
          ]
        },
        {
          "name": "stderr",
          "output_type": "stream",
          "text": [
            "100%|██████████| 81/81 [02:55<00:00,  2.17s/it]\n",
            "100%|██████████| 9/9 [00:10<00:00,  1.14s/it]\n"
          ]
        },
        {
          "name": "stdout",
          "output_type": "stream",
          "text": [
            "[015/800] Train Acc: 0.816795 Loss: 306.535846 | Val Acc: 0.788162 loss: 367.880619\n"
          ]
        },
        {
          "name": "stderr",
          "output_type": "stream",
          "text": [
            "100%|██████████| 81/81 [02:56<00:00,  2.18s/it]\n",
            "100%|██████████| 9/9 [00:10<00:00,  1.18s/it]\n"
          ]
        },
        {
          "name": "stdout",
          "output_type": "stream",
          "text": [
            "[016/800] Train Acc: 0.823917 Loss: 287.406036 | Val Acc: 0.803572 loss: 334.548201\n"
          ]
        },
        {
          "name": "stderr",
          "output_type": "stream",
          "text": [
            "100%|██████████| 81/81 [02:53<00:00,  2.14s/it]\n",
            "100%|██████████| 9/9 [00:10<00:00,  1.12s/it]\n"
          ]
        },
        {
          "name": "stdout",
          "output_type": "stream",
          "text": [
            "[017/800] Train Acc: 0.836242 Loss: 258.936520 | Val Acc: 0.807586 loss: 322.050154\n"
          ]
        },
        {
          "name": "stderr",
          "output_type": "stream",
          "text": [
            "100%|██████████| 81/81 [02:55<00:00,  2.17s/it]\n",
            "100%|██████████| 9/9 [00:10<00:00,  1.14s/it]\n"
          ]
        },
        {
          "name": "stdout",
          "output_type": "stream",
          "text": [
            "[018/800] Train Acc: 0.847110 Loss: 235.826241 | Val Acc: 0.811052 loss: 311.766663\n"
          ]
        },
        {
          "name": "stderr",
          "output_type": "stream",
          "text": [
            "100%|██████████| 81/81 [02:55<00:00,  2.17s/it]\n",
            "100%|██████████| 9/9 [00:11<00:00,  1.26s/it]\n"
          ]
        },
        {
          "name": "stdout",
          "output_type": "stream",
          "text": [
            "[019/800] Train Acc: 0.856410 Loss: 215.535064 | Val Acc: 0.812031 loss: 306.555925\n"
          ]
        },
        {
          "name": "stderr",
          "output_type": "stream",
          "text": [
            "100%|██████████| 81/81 [02:56<00:00,  2.18s/it]\n",
            "100%|██████████| 9/9 [00:10<00:00,  1.15s/it]\n"
          ]
        },
        {
          "name": "stdout",
          "output_type": "stream",
          "text": [
            "[020/800] Train Acc: 0.865639 Loss: 198.178873 | Val Acc: 0.819035 loss: 299.029422\n",
            "saving model with acc 0.819035\n"
          ]
        },
        {
          "name": "stderr",
          "output_type": "stream",
          "text": [
            "100%|██████████| 81/81 [02:57<00:00,  2.19s/it]\n",
            "100%|██████████| 9/9 [00:10<00:00,  1.16s/it]\n"
          ]
        },
        {
          "name": "stdout",
          "output_type": "stream",
          "text": [
            "[021/800] Train Acc: 0.874625 Loss: 182.337831 | Val Acc: 0.817825 loss: 296.363658\n"
          ]
        },
        {
          "name": "stderr",
          "output_type": "stream",
          "text": [
            "100%|██████████| 81/81 [02:56<00:00,  2.18s/it]\n",
            "100%|██████████| 9/9 [00:10<00:00,  1.14s/it]\n"
          ]
        },
        {
          "name": "stdout",
          "output_type": "stream",
          "text": [
            "[022/800] Train Acc: 0.882610 Loss: 168.817445 | Val Acc: 0.821941 loss: 286.926314\n",
            "saving model with acc 0.821941\n"
          ]
        },
        {
          "name": "stderr",
          "output_type": "stream",
          "text": [
            "100%|██████████| 81/81 [02:56<00:00,  2.18s/it]\n",
            "100%|██████████| 9/9 [00:10<00:00,  1.15s/it]\n"
          ]
        },
        {
          "name": "stdout",
          "output_type": "stream",
          "text": [
            "[023/800] Train Acc: 0.889919 Loss: 155.820838 | Val Acc: 0.824863 loss: 287.627157\n",
            "saving model with acc 0.824863\n"
          ]
        },
        {
          "name": "stderr",
          "output_type": "stream",
          "text": [
            "100%|██████████| 81/81 [02:57<00:00,  2.19s/it]\n",
            "100%|██████████| 9/9 [00:10<00:00,  1.15s/it]\n"
          ]
        },
        {
          "name": "stdout",
          "output_type": "stream",
          "text": [
            "[024/800] Train Acc: 0.897194 Loss: 145.509021 | Val Acc: 0.826738 loss: 284.242672\n",
            "saving model with acc 0.826738\n"
          ]
        },
        {
          "name": "stderr",
          "output_type": "stream",
          "text": [
            "100%|██████████| 81/81 [02:58<00:00,  2.21s/it]\n",
            "100%|██████████| 9/9 [00:10<00:00,  1.16s/it]\n"
          ]
        },
        {
          "name": "stdout",
          "output_type": "stream",
          "text": [
            "[025/800] Train Acc: 0.902146 Loss: 138.579863 | Val Acc: 0.828204 loss: 286.524143\n",
            "saving model with acc 0.828204\n"
          ]
        },
        {
          "name": "stderr",
          "output_type": "stream",
          "text": [
            "100%|██████████| 81/81 [02:58<00:00,  2.20s/it]\n",
            "100%|██████████| 9/9 [00:10<00:00,  1.15s/it]\n"
          ]
        },
        {
          "name": "stdout",
          "output_type": "stream",
          "text": [
            "[026/800] Train Acc: 0.906074 Loss: 132.500478 | Val Acc: 0.828287 loss: 283.169501\n",
            "saving model with acc 0.828287\n"
          ]
        },
        {
          "name": "stderr",
          "output_type": "stream",
          "text": [
            "100%|██████████| 81/81 [02:58<00:00,  2.21s/it]\n",
            "100%|██████████| 9/9 [00:10<00:00,  1.18s/it]\n"
          ]
        },
        {
          "name": "stdout",
          "output_type": "stream",
          "text": [
            "[027/800] Train Acc: 0.908888 Loss: 128.282605 | Val Acc: 0.829070 loss: 284.297641\n",
            "saving model with acc 0.829070\n"
          ]
        },
        {
          "name": "stderr",
          "output_type": "stream",
          "text": [
            "100%|██████████| 81/81 [02:45<00:00,  2.05s/it]\n",
            "100%|██████████| 9/9 [00:09<00:00,  1.06s/it]\n"
          ]
        },
        {
          "name": "stdout",
          "output_type": "stream",
          "text": [
            "[028/800] Train Acc: 0.911621 Loss: 125.297944 | Val Acc: 0.829724 loss: 284.925320\n",
            "saving model with acc 0.829724\n"
          ]
        },
        {
          "name": "stderr",
          "output_type": "stream",
          "text": [
            "100%|██████████| 81/81 [02:43<00:00,  2.02s/it]\n",
            "100%|██████████| 9/9 [00:09<00:00,  1.06s/it]\n"
          ]
        },
        {
          "name": "stdout",
          "output_type": "stream",
          "text": [
            "[029/800] Train Acc: 0.912614 Loss: 123.312174 | Val Acc: 0.829950 loss: 284.639086\n",
            "saving model with acc 0.829950\n"
          ]
        },
        {
          "name": "stderr",
          "output_type": "stream",
          "text": [
            "100%|██████████| 81/81 [02:42<00:00,  2.01s/it]\n",
            "100%|██████████| 9/9 [00:09<00:00,  1.05s/it]\n"
          ]
        },
        {
          "name": "stdout",
          "output_type": "stream",
          "text": [
            "[030/800] Train Acc: 0.913588 Loss: 122.402177 | Val Acc: 0.830139 loss: 284.241835\n",
            "saving model with acc 0.830139\n"
          ]
        },
        {
          "name": "stderr",
          "output_type": "stream",
          "text": [
            "100%|██████████| 81/81 [02:41<00:00,  1.99s/it]\n",
            "100%|██████████| 9/9 [00:09<00:00,  1.07s/it]\n"
          ]
        },
        {
          "name": "stdout",
          "output_type": "stream",
          "text": [
            "[031/800] Train Acc: 0.875122 Loss: 172.114894 | Val Acc: 0.802782 loss: 318.334839\n"
          ]
        },
        {
          "name": "stderr",
          "output_type": "stream",
          "text": [
            "100%|██████████| 81/81 [02:41<00:00,  1.99s/it]\n",
            "100%|██████████| 9/9 [00:09<00:00,  1.06s/it]\n"
          ]
        },
        {
          "name": "stdout",
          "output_type": "stream",
          "text": [
            "[032/800] Train Acc: 0.862788 Loss: 184.466952 | Val Acc: 0.813048 loss: 291.199568\n"
          ]
        },
        {
          "name": "stderr",
          "output_type": "stream",
          "text": [
            "100%|██████████| 81/81 [02:41<00:00,  2.00s/it]\n",
            "100%|██████████| 9/9 [00:09<00:00,  1.08s/it]\n"
          ]
        },
        {
          "name": "stdout",
          "output_type": "stream",
          "text": [
            "[033/800] Train Acc: 0.879009 Loss: 159.715818 | Val Acc: 0.814828 loss: 281.744961\n"
          ]
        },
        {
          "name": "stderr",
          "output_type": "stream",
          "text": [
            "100%|██████████| 81/81 [02:42<00:00,  2.00s/it]\n",
            "100%|██████████| 9/9 [00:09<00:00,  1.06s/it]\n"
          ]
        },
        {
          "name": "stdout",
          "output_type": "stream",
          "text": [
            "[034/800] Train Acc: 0.888919 Loss: 145.083245 | Val Acc: 0.822845 loss: 270.383102\n"
          ]
        },
        {
          "name": "stderr",
          "output_type": "stream",
          "text": [
            "100%|██████████| 81/81 [02:41<00:00,  1.99s/it]\n",
            "100%|██████████| 9/9 [00:09<00:00,  1.06s/it]\n"
          ]
        },
        {
          "name": "stdout",
          "output_type": "stream",
          "text": [
            "[035/800] Train Acc: 0.897690 Loss: 132.185574 | Val Acc: 0.825434 loss: 269.531657\n"
          ]
        },
        {
          "name": "stderr",
          "output_type": "stream",
          "text": [
            "100%|██████████| 81/81 [02:41<00:00,  2.00s/it]\n",
            "100%|██████████| 9/9 [00:09<00:00,  1.06s/it]\n"
          ]
        },
        {
          "name": "stdout",
          "output_type": "stream",
          "text": [
            "[036/800] Train Acc: 0.903046 Loss: 123.619027 | Val Acc: 0.824976 loss: 266.191469\n"
          ]
        },
        {
          "name": "stderr",
          "output_type": "stream",
          "text": [
            "100%|██████████| 81/81 [02:41<00:00,  2.00s/it]\n",
            "100%|██████████| 9/9 [00:09<00:00,  1.05s/it]\n"
          ]
        },
        {
          "name": "stdout",
          "output_type": "stream",
          "text": [
            "[037/800] Train Acc: 0.907567 Loss: 117.102600 | Val Acc: 0.825596 loss: 265.160753\n"
          ]
        },
        {
          "name": "stderr",
          "output_type": "stream",
          "text": [
            "100%|██████████| 81/81 [02:41<00:00,  2.00s/it]\n",
            "100%|██████████| 9/9 [00:09<00:00,  1.05s/it]"
          ]
        },
        {
          "name": "stdout",
          "output_type": "stream",
          "text": [
            "[038/800] Train Acc: 0.912655 Loss: 111.101385 | Val Acc: 0.829739 loss: 264.111927\n",
            "\n",
            "Model is not improving, so we halt the training session.\n",
            "So far best_acc=0.830139471595419.\n"
          ]
        },
        {
          "name": "stderr",
          "output_type": "stream",
          "text": [
            "\n"
          ]
        }
      ],
      "source": [
        "best_acc = 0.0\n",
        "early_stop_count = 0\n",
        "for epoch in range(num_epoch):\n",
        "    train_acc = 0.0\n",
        "    # train_mid_acc = 0.0\n",
        "    train_all = 0.0\n",
        "    train_loss = 0.0\n",
        "    val_acc = 0.0\n",
        "    # val_mid_acc = 0.0\n",
        "    val_all = 0.0\n",
        "    val_loss = 0.0\n",
        "    \n",
        "    # training\n",
        "    model.train() # set the model to training mode\n",
        "    for i, batch in enumerate(tqdm(train_loader)):\n",
        "        features, labels, masks = batch\n",
        "        features = features.to(device)\n",
        "        labels = labels.to(device)\n",
        "        masks = masks.to(device)\n",
        "        \n",
        "        optimizer.zero_grad() \n",
        "        # outputs = model(features) \n",
        "        _, outputs = model(features, masks)\n",
        "        outputs = [ torch.Tensor(x) for x in outputs ]\n",
        "        outputs = pad_sequence(outputs, batch_first=True)\n",
        "        \n",
        "        # loss = criterion(outputs, labels) \n",
        "        # loss = criterion(outputs.transpose(1,-1), labels)\n",
        "        # loss = model.neg_log_likelihood(features, labels)\n",
        "        loss = model.loss(features, labels, masks)\n",
        "        loss.backward() \n",
        "        optimizer.step() \n",
        "        \n",
        "        # _, train_pred = torch.max(outputs, 1) # get the index of the class with the highest probability\n",
        "        # _, train_pred = torch.max(outputs, -1)\n",
        "        train_pred = torch.Tensor(outputs).to(device)\n",
        "        train_acc += ((train_pred.detach() == labels.detach()) * masks.detach()).sum().item()\n",
        "        train_all += masks.detach().sum().item()\n",
        "        # train_mid_acc += (train_pred[:, train_pred.shape[1] // 2].detach() == labels[:, labels.shape[1] // 2]).sum().item()\n",
        "        train_loss += loss.item()\n",
        "    \n",
        "    scheduler.step() # Update the learning rate scheduler\n",
        "    \n",
        "    # validation\n",
        "    if len(val_set) > 0:\n",
        "        model.eval() # set the model to evaluation mode\n",
        "        with torch.no_grad():\n",
        "            for i, batch in enumerate(tqdm(val_loader)):\n",
        "                features, labels, masks = batch\n",
        "                features = features.to(device)\n",
        "                labels = labels.to(device)\n",
        "                masks = masks.to(device)\n",
        "                # outputs = model(features)\n",
        "                _, outputs = model(features, masks)\n",
        "                outputs = [ torch.Tensor(x) for x in outputs ]\n",
        "                outputs = pad_sequence(outputs, batch_first=True)\n",
        "                \n",
        "                # loss = criterion(outputs, labels) \n",
        "                # loss = criterion(outputs.transpose(1,-1), labels)\n",
        "                # _, val_pred = torch.max(outputs, 1) \n",
        "                # loss = model.neg_log_likelihood(features, labels)\n",
        "                loss = model.loss(features, labels, masks)\n",
        "                # _, val_pred = torch.max(outputs, -1) # get the index of the class with the highest probability\n",
        "                val_pred = torch.Tensor(outputs).to(device)\n",
        "                val_acc += ((val_pred.cpu() == labels.cpu()) * masks.cpu()).sum().item()\n",
        "                val_all += masks.cpu().sum().item()\n",
        "                # val_mid_acc += (val_pred[:, val_pred.shape[1] // 2].detach() == labels[:, labels.shape[1] // 2]).sum().item()\n",
        "                val_loss += loss.item()\n",
        "\n",
        "            # print('[{:03d}/{:03d}] Train Acc: {:3.6f} Loss: {:3.6f} | Val Acc: {:3.6f} loss: {:3.6f}'.format(\n",
        "            #     epoch + 1, num_epoch, train_acc/len(train_set), train_loss/len(train_loader), val_acc/len(val_set), val_loss/len(val_loader)\n",
        "            # ))\n",
        "            \n",
        "            # print('[{:03d}/{:03d}] Train Acc: {:3.6f} Mid Acc: {:3.6f} Loss: {:3.6f} | Val Acc: {:3.6f} Mid Acc: {:3.6f} Loss: {:3.6f}'.format(\n",
        "            #     epoch + 1, num_epoch, train_acc/(len(train_set) * concat_nframes), train_mid_acc/len(train_set), train_loss/len(train_loader), \n",
        "            #     val_acc/(len(val_set) * concat_nframes), val_mid_acc/len(val_set), val_loss/len(val_loader)\n",
        "            # ))\n",
        "            \n",
        "            print('[{:03d}/{:03d}] Train Acc: {:3.6f} Loss: {:3.6f} | Val Acc: {:3.6f} loss: {:3.6f}'.format(\n",
        "                epoch + 1, num_epoch, train_acc/train_all, train_loss/len(train_loader), val_acc/val_all, val_loss/len(val_loader)\n",
        "            ))\n",
        "\n",
        "            # if the model improves, save a checkpoint at this epoch\n",
        "            if val_acc / val_all > best_acc:\n",
        "                best_acc = val_acc / val_all\n",
        "                torch.save(model.state_dict(), model_path)\n",
        "                print('saving model with acc {:3.6f}'.format(best_acc))\n",
        "                early_stop_count = 0\n",
        "            else:\n",
        "                early_stop_count += 1\n",
        "    else:\n",
        "        # print('[{:03d}/{:03d}] Train Acc: {:3.6f} Mid Acc: {:3.6f} Loss: {:3.6f}'.format(\n",
        "        #     epoch + 1, num_epoch, train_acc/(len(train_set) * concat_nframes), \n",
        "        #     train_mid_acc/len(train_set), train_loss/len(train_loader)\n",
        "        # ))\n",
        "        print('[{:03d}/{:03d}] Train Acc: {:3.6f} Loss: {:3.6f}'.format(\n",
        "            epoch + 1, num_epoch, train_acc/train_all, train_loss/len(train_loader)\n",
        "        ))\n",
        "        \n",
        "    if early_stop_count >= early_stop:\n",
        "        print(f'\\nModel is not improving, so we halt the training session.\\nSo far best_acc={best_acc}.')\n",
        "        break\n",
        "\n",
        "# if not validating, save the last epoch\n",
        "if len(val_set) == 0:\n",
        "    torch.save(model.state_dict(), model_path)\n",
        "    print('saving model at last epoch')\n"
      ]
    },
    {
      "cell_type": "code",
      "execution_count": 12,
      "metadata": {
        "colab": {
          "base_uri": "https://localhost:8080/"
        },
        "id": "ab33MxosWLmG",
        "outputId": "911e8c9b-fc0f-4591-b0f6-311a1231c5e2"
      },
      "outputs": [
        {
          "data": {
            "text/plain": [
              "18"
            ]
          },
          "execution_count": 12,
          "metadata": {},
          "output_type": "execute_result"
        }
      ],
      "source": [
        "del train_loader, val_loader\n",
        "gc.collect()"
      ]
    },
    {
      "cell_type": "markdown",
      "metadata": {
        "id": "1Hi7jTn3PX-m"
      },
      "source": [
        "## Testing\n",
        "Create a testing dataset, and load model from the saved checkpoint."
      ]
    },
    {
      "cell_type": "code",
      "execution_count": 13,
      "metadata": {
        "colab": {
          "base_uri": "https://localhost:8080/"
        },
        "id": "VOG1Ou0PGrhc",
        "outputId": "abaaa25b-a93c-49b0-d228-9eca1e2ab2e0"
      },
      "outputs": [
        {
          "name": "stdout",
          "output_type": "stream",
          "text": [
            "[Dataset] - # phone classes: 41, number of utterances for test: 1078\n"
          ]
        },
        {
          "name": "stderr",
          "output_type": "stream",
          "text": [
            "1078it [00:00, 1272.27it/s]\n"
          ]
        }
      ],
      "source": [
        "# load data\n",
        "# test_X = preprocess_data(split='test', feat_dir='./libriphone/feat', phone_path='./libriphone', concat_nframes=concat_nframes, for_rnn=True)\n",
        "test_X = preprocess_data(split='test', feat_dir='./libriphone/feat', phone_path='./libriphone')\n",
        "\n",
        "test_set = LibriDataset(test_X, None)\n",
        "test_loader = DataLoader(test_set, batch_size=batch_size, shuffle=False, collate_fn=test_pad_collate_fn)"
      ]
    },
    {
      "cell_type": "code",
      "execution_count": 15,
      "metadata": {
        "colab": {
          "base_uri": "https://localhost:8080/"
        },
        "id": "ay0Fu8Ovkdad",
        "outputId": "e5b20aa7-4d8b-43a9-e068-f5c89706a360"
      },
      "outputs": [
        {
          "data": {
            "text/plain": [
              "<All keys matched successfully>"
            ]
          },
          "execution_count": 15,
          "metadata": {},
          "output_type": "execute_result"
        }
      ],
      "source": [
        "# load model\n",
        "# model = Classifier(input_dim=input_dim, hidden_layers=hidden_layers, hidden_dim=hidden_dim).to(device)\n",
        "# model = RNNClassifier(input_dim=input_dim//concat_nframes, hidden_layers=hidden_layers, hidden_dim=hidden_dim).to(device)\n",
        "model = BiLSTMCRF(input_dim=input_dim//concat_nframes, hidden_layers=hidden_layers, hidden_dim=hidden_dim, drop_rate=drop_rate).to(device)\n",
        "model.load_state_dict(torch.load(model_path))"
      ]
    },
    {
      "cell_type": "markdown",
      "metadata": {
        "id": "zp-DV1p4r7Nz"
      },
      "source": [
        "Make prediction."
      ]
    },
    {
      "cell_type": "code",
      "execution_count": 16,
      "metadata": {
        "colab": {
          "base_uri": "https://localhost:8080/"
        },
        "id": "84HU5GGjPqR0",
        "outputId": "cebd6694-8f74-44ff-f922-96ca4385acb8"
      },
      "outputs": [
        {
          "name": "stderr",
          "output_type": "stream",
          "text": [
            "100%|██████████| 23/23 [00:12<00:00,  1.79it/s]\n"
          ]
        }
      ],
      "source": [
        "test_acc = 0.0\n",
        "test_lengths = 0\n",
        "pred = np.array([], dtype=np.int32)\n",
        "\n",
        "model.eval()\n",
        "with torch.no_grad():\n",
        "    for i, batch in enumerate(tqdm(test_loader)):\n",
        "        features, masks = batch\n",
        "        features = features.to(device)\n",
        "        masks = masks.to(device)\n",
        "\n",
        "        _, outputs = model(features, masks)\n",
        "        # outputs = [ torch.Tensor(x) for x in outputs ]\n",
        "        # outputs = pad_sequence(outputs, batch_first=True)\n",
        "\n",
        "        # _, test_pred = torch.max(outputs, 1) # get the index of the class with the highest probability\n",
        "        # _, test_pred = torch.max(outputs, -1)\n",
        "        # test_pred = torch.Tensor(outputs).to(device)\n",
        "        # test_pred = test_pred[:, test_pred.shape[1] // 2]\n",
        "        test_pred = np.concatenate(outputs)\n",
        "        \n",
        "        pred = np.concatenate((pred, test_pred), axis=0).astype(np.int32)\n"
      ]
    },
    {
      "cell_type": "markdown",
      "metadata": {
        "id": "wyZqy40Prz0v"
      },
      "source": [
        "Write prediction to a CSV file.\n",
        "\n",
        "After finish running this block, download the file `prediction.csv` from the files section on the left-hand side and submit it to Kaggle."
      ]
    },
    {
      "cell_type": "code",
      "execution_count": 17,
      "metadata": {
        "id": "GuljYSPHcZir"
      },
      "outputs": [],
      "source": [
        "with open('prediction.csv', 'w') as f:\n",
        "    f.write('Id,Class\\n')\n",
        "    for i, y in enumerate(pred):\n",
        "        f.write('{},{}\\n'.format(i, y))"
      ]
    },
    {
      "cell_type": "code",
      "execution_count": null,
      "metadata": {},
      "outputs": [],
      "source": []
    }
  ],
  "metadata": {
    "accelerator": "GPU",
    "colab": {
      "collapsed_sections": [],
      "name": "ML2022Spring - HW2.ipynb",
      "provenance": []
    },
    "kernelspec": {
      "display_name": "machine-learning",
      "language": "python",
      "name": "python3"
    },
    "language_info": {
      "codemirror_mode": {
        "name": "ipython",
        "version": 3
      },
      "file_extension": ".py",
      "mimetype": "text/x-python",
      "name": "python",
      "nbconvert_exporter": "python",
      "pygments_lexer": "ipython3",
      "version": "3.10.5"
    },
    "vscode": {
      "interpreter": {
        "hash": "3b287b2638b28c143e8b740ddcb0a96b617189043e0330c7f965d24699a487e2"
      }
    }
  },
  "nbformat": 4,
  "nbformat_minor": 0
}
