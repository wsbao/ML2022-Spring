{
  "cells": [
    {
      "cell_type": "markdown",
      "metadata": {
        "id": "OYlaRwNu7ojq"
      },
      "source": [
        "# **Homework 2 Phoneme Classification**\n",
        "\n",
        "* Slides: https://docs.google.com/presentation/d/1v6HkBWiJb8WNDcJ9_-2kwVstxUWml87b9CnA16Gdoio/edit?usp=sharing\n",
        "* Kaggle: https://www.kaggle.com/c/ml2022spring-hw2\n",
        "* Video: TBA\n"
      ]
    },
    {
      "cell_type": "code",
      "execution_count": 1,
      "metadata": {
        "colab": {
          "base_uri": "https://localhost:8080/"
        },
        "id": "mLQI0mNcmM-O",
        "outputId": "7d5b4d81-9438-4d50-8153-cd235c47ee21"
      },
      "outputs": [
        {
          "name": "stdout",
          "output_type": "stream",
          "text": [
            "Tue Mar 21 06:47:15 2023       \n",
            "+---------------------------------------------------------------------------------------+\n",
            "| NVIDIA-SMI 531.29                 Driver Version: 531.29       CUDA Version: 12.1     |\n",
            "|-----------------------------------------+----------------------+----------------------+\n",
            "| GPU  Name                      TCC/WDDM | Bus-Id        Disp.A | Volatile Uncorr. ECC |\n",
            "| Fan  Temp  Perf            Pwr:Usage/Cap|         Memory-Usage | GPU-Util  Compute M. |\n",
            "|                                         |                      |               MIG M. |\n",
            "|=========================================+======================+======================|\n",
            "|   0  NVIDIA GeForce RTX 3080 L...  WDDM | 00000000:01:00.0  On |                  N/A |\n",
            "| N/A   34C    P8               20W /  N/A|    553MiB / 16384MiB |     25%      Default |\n",
            "|                                         |                      |                  N/A |\n",
            "+-----------------------------------------+----------------------+----------------------+\n",
            "                                                                                         \n",
            "+---------------------------------------------------------------------------------------+\n",
            "| Processes:                                                                            |\n",
            "|  GPU   GI   CI        PID   Type   Process name                            GPU Memory |\n",
            "|        ID   ID                                                             Usage      |\n",
            "|=======================================================================================|\n",
            "|    0   N/A  N/A      1888    C+G   ...ekyb3d8bbwe\\PhoneExperienceHost.exe    N/A      |\n",
            "|    0   N/A  N/A      3432    C+G   ...5n1h2txyewy\\ShellExperienceHost.exe    N/A      |\n",
            "|    0   N/A  N/A      4272    C+G   ...2txyewy\\StartMenuExperienceHost.exe    N/A      |\n",
            "|    0   N/A  N/A      7732    C+G   ...nt.CBS_cw5n1h2txyewy\\SearchHost.exe    N/A      |\n",
            "|    0   N/A  N/A      7984    C+G   ...m Files\\Mozilla Firefox\\firefox.exe    N/A      |\n",
            "|    0   N/A  N/A     10592    C+G   ...CBS_cw5n1h2txyewy\\TextInputHost.exe    N/A      |\n",
            "|    0   N/A  N/A     11276    C+G   ...m Files\\Mozilla Firefox\\firefox.exe    N/A      |\n",
            "|    0   N/A  N/A     12976    C+G   ...siveControlPanel\\SystemSettings.exe    N/A      |\n",
            "|    0   N/A  N/A     14244    C+G   ...t.LockApp_cw5n1h2txyewy\\LockApp.exe    N/A      |\n",
            "|    0   N/A  N/A     15188    C+G   ...3703\\office6\\promecefpluginhost.exe    N/A      |\n",
            "|    0   N/A  N/A     15516    C+G   ...7.0_x64__w2gh52qy24etm\\Nahimic3.exe    N/A      |\n",
            "|    0   N/A  N/A     15616    C+G   ...__8wekyb3d8bbwe\\WindowsTerminal.exe    N/A      |\n",
            "|    0   N/A  N/A     17736    C+G   ...GeForce Experience\\NVIDIA Share.exe    N/A      |\n",
            "|    0   N/A  N/A     17948    C+G   ...1.0_x64__8wekyb3d8bbwe\\Video.UI.exe    N/A      |\n",
            "|    0   N/A  N/A     18684    C+G   C:\\Windows\\explorer.exe                   N/A      |\n",
            "|    0   N/A  N/A     18784    C+G   ...255.0_x64__dt26b99r8h8gj\\RtkUWP.exe    N/A      |\n",
            "|    0   N/A  N/A     25504    C+G   ...am Files\\Microsoft VS Code\\Code.exe    N/A      |\n",
            "+---------------------------------------------------------------------------------------+\n"
          ]
        }
      ],
      "source": [
        "!nvidia-smi"
      ]
    },
    {
      "cell_type": "markdown",
      "metadata": {
        "id": "KVUGfWTo7_Oj"
      },
      "source": [
        "## Download Data\n",
        "Download data from google drive, then unzip it.\n",
        "\n",
        "You should have\n",
        "- `libriphone/train_split.txt`\n",
        "- `libriphone/train_labels`\n",
        "- `libriphone/test_split.txt`\n",
        "- `libriphone/feat/train/*.pt`: training feature<br>\n",
        "- `libriphone/feat/test/*.pt`:  testing feature<br>\n",
        "\n",
        "after running the following block.\n",
        "\n",
        "> **Notes: if the links are dead, you can download the data directly from [Kaggle](https://www.kaggle.com/c/ml2022spring-hw2/data) and upload it to the workspace, or you can use [the Kaggle API](https://www.kaggle.com/general/74235) to directly download the data into colab.**\n"
      ]
    },
    {
      "cell_type": "markdown",
      "metadata": {
        "id": "Bj5jYXsD9Ef3"
      },
      "source": [
        "### Download train/test metadata"
      ]
    },
    {
      "cell_type": "code",
      "execution_count": 2,
      "metadata": {
        "colab": {
          "base_uri": "https://localhost:8080/"
        },
        "id": "OzkiMEcC3Foq",
        "outputId": "cc90c16c-ee21-400e-ec08-dfcd422212a6"
      },
      "outputs": [],
      "source": [
        "# Main link\n",
        "# !wget -O libriphone.zip \"https://github.com/xraychen/shiny-robot/releases/download/v1.0/libriphone.zip\"\n",
        "\n",
        "# Backup Link 0\n",
        "# !pip install --upgrade gdown\n",
        "# !gdown --id '1o6Ag-G3qItSmYhTheX6DYiuyNzWyHyTc' --output libriphone.zip\n",
        "\n",
        "# Backup link 1\n",
        "# !pip install --upgrade gdown\n",
        "# !gdown --id '1R1uQYi4QpX0tBfUWt2mbZcncdBsJkxeW' --output libriphone.zip\n",
        "\n",
        "# Backup link 2\n",
        "# !wget -O libriphone.zip \"https://www.dropbox.com/s/wqww8c5dbrl2ka9/libriphone.zip?dl=1\"\n",
        "\n",
        "# Backup link 3\n",
        "# !wget -O libriphone.zip \"https://www.dropbox.com/s/p2ljbtb2bam13in/libriphone.zip?dl=1\"\n",
        "\n",
        "# !unzip -q libriphone.zip\n",
        "# !ls libriphone"
      ]
    },
    {
      "cell_type": "markdown",
      "metadata": {
        "id": "_L_4anls8Drv"
      },
      "source": [
        "### Preparing Data"
      ]
    },
    {
      "cell_type": "markdown",
      "metadata": {
        "id": "po4N3C-AWuWl"
      },
      "source": [
        "**Helper functions to pre-process the training data from raw MFCC features of each utterance.**\n",
        "\n",
        "A phoneme may span several frames and is dependent to past and future frames. \\\n",
        "Hence we concatenate neighboring phonemes for training to achieve higher accuracy. The **concat_feat** function concatenates past and future k frames (total 2k+1 = n frames), and we predict the center frame.\n",
        "\n",
        "Feel free to modify the data preprocess functions, but **do not drop any frame** (if you modify the functions, remember to check that the number of frames are the same as mentioned in the slides)"
      ]
    },
    {
      "cell_type": "code",
      "execution_count": 3,
      "metadata": {
        "id": "IJjLT8em-y9G"
      },
      "outputs": [],
      "source": [
        "import os\n",
        "import random\n",
        "import pandas as pd\n",
        "import torch\n",
        "from tqdm import tqdm\n",
        "from torch.nn.utils.rnn import pad_sequence\n",
        "\n",
        "def load_feat(path):\n",
        "    feat = torch.load(path)\n",
        "    return feat\n",
        "\n",
        "def shift(x, n):\n",
        "    if n < 0:\n",
        "        left = x[0].repeat(-n, 1)\n",
        "        right = x[:n]\n",
        "\n",
        "    elif n > 0:\n",
        "        right = x[-1].repeat(n, 1)\n",
        "        left = x[n:]\n",
        "    else:\n",
        "        return x\n",
        "\n",
        "    return torch.cat((left, right), dim=0)\n",
        "\n",
        "def concat_feat(x, concat_n):\n",
        "    assert concat_n % 2 == 1 # n must be odd\n",
        "    if concat_n < 2:\n",
        "        return x\n",
        "    seq_len, feature_dim = x.size(0), x.size(1)\n",
        "    x = x.repeat(1, concat_n) \n",
        "    x = x.view(seq_len, concat_n, feature_dim).permute(1, 0, 2) # concat_n, seq_len, feature_dim\n",
        "    mid = (concat_n // 2)\n",
        "    for r_idx in range(1, mid+1):\n",
        "        x[mid + r_idx, :] = shift(x[mid + r_idx], r_idx)\n",
        "        x[mid - r_idx, :] = shift(x[mid - r_idx], -r_idx)\n",
        "\n",
        "    return x.permute(1, 0, 2).view(seq_len, concat_n * feature_dim)\n",
        "\n",
        "# def preprocess_data(split, feat_dir, phone_path, concat_nframes, train_ratio=0.8, train_val_seed=1337, for_rnn=False):\n",
        "#     class_num = 41 # NOTE: pre-computed, should not need change\n",
        "#     mode = 'train' if (split == 'train' or split == 'val') else 'test'\n",
        "\n",
        "#     label_dict = {}\n",
        "#     if mode != 'test':\n",
        "#       phone_file = open(os.path.join(phone_path, f'{mode}_labels.txt')).readlines()\n",
        "\n",
        "#       for line in phone_file:\n",
        "#           line = line.strip('\\n').split(' ')\n",
        "#           label_dict[line[0]] = [int(p) for p in line[1:]]\n",
        "\n",
        "#     if split == 'train' or split == 'val':\n",
        "#         # split training and validation data\n",
        "#         usage_list = open(os.path.join(phone_path, 'train_split.txt')).readlines()\n",
        "#         random.seed(train_val_seed)\n",
        "#         random.shuffle(usage_list)\n",
        "#         percent = int(len(usage_list) * train_ratio)\n",
        "#         usage_list = usage_list[:percent] if split == 'train' else usage_list[percent:]\n",
        "#     elif split == 'test':\n",
        "#         usage_list = open(os.path.join(phone_path, 'test_split.txt')).readlines()\n",
        "#     else:\n",
        "#         raise ValueError('Invalid \\'split\\' argument for dataset: PhoneDataset!')\n",
        "\n",
        "#     usage_list = [line.strip('\\n') for line in usage_list]\n",
        "#     print('[Dataset] - # phone classes: ' + str(class_num) + ', number of utterances for ' + split + ': ' + str(len(usage_list)))\n",
        "\n",
        "#     max_len = 3000000\n",
        "#     X = torch.empty(max_len, 39 * concat_nframes)\n",
        "#     if mode != 'test':\n",
        "#         y = torch.empty(max_len, dtype=torch.long) if not for_rnn else torch.empty(max_len, concat_nframes, dtype=torch.long)\n",
        "\n",
        "#     idx = 0\n",
        "#     for i, fname in tqdm(enumerate(usage_list)):\n",
        "#         feat = load_feat(os.path.join(feat_dir, mode, f'{fname}.pt'))\n",
        "#         cur_len = len(feat)\n",
        "#         feat = concat_feat(feat, concat_nframes)\n",
        "#         if mode != 'test':\n",
        "#           label = torch.LongTensor(label_dict[fname])\n",
        "#           if for_rnn:\n",
        "#               label = torch.unsqueeze(label, 1)\n",
        "#               label = concat_feat(label, concat_nframes)\n",
        "\n",
        "#         X[idx: idx + cur_len, :] = feat\n",
        "#         if mode != 'test':\n",
        "#           y[idx: idx + cur_len] = label\n",
        "\n",
        "#         idx += cur_len\n",
        "\n",
        "#     X = X[:idx, :]\n",
        "#     if mode != 'test':\n",
        "#       y = y[:idx]\n",
        "    \n",
        "#     if for_rnn:\n",
        "#         X = X.view(idx, concat_nframes, -1)\n",
        "\n",
        "#     print(f'[INFO] {split} set')\n",
        "#     print(X.shape)\n",
        "#     if mode != 'test':\n",
        "#       print(y.shape)\n",
        "#       return X, y\n",
        "#     else:\n",
        "#       return X\n",
        "\n",
        "def preprocess_data(split, feat_dir, phone_path, train_ratio=0.8, train_val_seed=1337):\n",
        "    class_num = 41 # NOTE: pre-computed, should not need change\n",
        "    mode = 'train' if (split == 'train' or split == 'val') else 'test'\n",
        "\n",
        "    label_dict = {}\n",
        "    if mode != 'test':\n",
        "      phone_file = open(os.path.join(phone_path, f'{mode}_labels.txt')).readlines()\n",
        "\n",
        "      for line in phone_file:\n",
        "          line = line.strip('\\n').split(' ')\n",
        "          label_dict[line[0]] = [int(p) for p in line[1:]]\n",
        "\n",
        "    if split == 'train' or split == 'val':\n",
        "        # split training and validation data\n",
        "        usage_list = open(os.path.join(phone_path, 'train_split.txt')).readlines()\n",
        "        random.seed(train_val_seed)\n",
        "        random.shuffle(usage_list)\n",
        "        percent = int(len(usage_list) * train_ratio)\n",
        "        usage_list = usage_list[:percent] if split == 'train' else usage_list[percent:]\n",
        "    elif split == 'test':\n",
        "        usage_list = open(os.path.join(phone_path, 'test_split.txt')).readlines()\n",
        "    else:\n",
        "        raise ValueError('Invalid \\'split\\' argument for dataset: PhoneDataset!')\n",
        "\n",
        "    usage_list = [line.strip('\\n') for line in usage_list]\n",
        "    print('[Dataset] - # phone classes: ' + str(class_num) + ', number of utterances for ' + split + ': ' + str(len(usage_list)))\n",
        "    \n",
        "    X = []\n",
        "    if mode != 'test':\n",
        "        y = []\n",
        "    \n",
        "    for i, fname in tqdm(enumerate(usage_list)):\n",
        "        feat = load_feat(os.path.join(feat_dir, mode, f'{fname}.pt'))\n",
        "        if mode != 'test':\n",
        "            label = torch.LongTensor(label_dict[fname])\n",
        "            \n",
        "        X.append(feat)\n",
        "        if mode != 'test':\n",
        "            y.append(label)\n",
        "    \n",
        "    if mode != 'test':\n",
        "        return X, y\n",
        "    else:\n",
        "        return X\n",
        "        \n",
        "    # max_len = 3000000\n",
        "    # X = torch.empty(max_len, 39 * concat_nframes)\n",
        "    # if mode != 'test':\n",
        "    #     y = torch.empty(max_len, dtype=torch.long) if not for_rnn else torch.empty(max_len, concat_nframes, dtype=torch.long)\n",
        "\n",
        "    # idx = 0\n",
        "    # for i, fname in tqdm(enumerate(usage_list)):\n",
        "    #     feat = load_feat(os.path.join(feat_dir, mode, f'{fname}.pt'))\n",
        "    #     cur_len = len(feat)\n",
        "    #     feat = concat_feat(feat, concat_nframes)\n",
        "    #     if mode != 'test':\n",
        "    #       label = torch.LongTensor(label_dict[fname])\n",
        "    #       if for_rnn:\n",
        "    #           label = torch.unsqueeze(label, 1)\n",
        "    #           label = concat_feat(label, concat_nframes)\n",
        "\n",
        "    #     X[idx: idx + cur_len, :] = feat\n",
        "    #     if mode != 'test':\n",
        "    #       y[idx: idx + cur_len] = label\n",
        "\n",
        "    #     idx += cur_len\n",
        "\n",
        "    # X = X[:idx, :]\n",
        "    # if mode != 'test':\n",
        "    #   y = y[:idx]\n",
        "    \n",
        "    # if for_rnn:\n",
        "    #     X = X.view(idx, concat_nframes, -1)\n",
        "\n",
        "    # print(f'[INFO] {split} set')\n",
        "    # print(X.shape)\n",
        "    # if mode != 'test':\n",
        "    #   print(y.shape)\n",
        "    #   return X, y\n",
        "    # else:\n",
        "    #   return X\n",
        "\n",
        "def train_pad_collate_fn(batch):\n",
        "    \n",
        "    Xs, ys = zip(*batch)\n",
        "    masks = [ torch.ones_like(y) for y in ys ]\n",
        "    Xs = pad_sequence(Xs, batch_first=True)\n",
        "    ys = pad_sequence(ys, batch_first=True)\n",
        "    masks = pad_sequence(masks, batch_first=True)\n",
        "    \n",
        "    return Xs, ys, masks\n",
        "\n",
        "def test_pad_collate_fn(batch):\n",
        "    \n",
        "    Xs = batch\n",
        "    masks = [ torch.ones((X.shape[0],)) for X in Xs ]\n",
        "    Xs = pad_sequence(Xs, batch_first=True)\n",
        "    masks = pad_sequence(masks, batch_first=True)\n",
        "    \n",
        "    return Xs, masks\n"
      ]
    },
    {
      "cell_type": "markdown",
      "metadata": {
        "id": "us5XW_x6udZQ"
      },
      "source": [
        "## Define Dataset"
      ]
    },
    {
      "cell_type": "code",
      "execution_count": 4,
      "metadata": {
        "id": "Fjf5EcmJtf4e"
      },
      "outputs": [],
      "source": [
        "import torch\n",
        "from torch.utils.data import Dataset\n",
        "from torch.utils.data import DataLoader\n",
        "\n",
        "class LibriDataset(Dataset):\n",
        "    def __init__(self, X, y=None):\n",
        "        self.data = X\n",
        "        if y is not None:\n",
        "            # self.label = torch.LongTensor(y)\n",
        "            self.label = y\n",
        "        else:\n",
        "            self.label = None\n",
        "\n",
        "    def __getitem__(self, idx):\n",
        "        if self.label is not None:\n",
        "            return self.data[idx], self.label[idx]\n",
        "        else:\n",
        "            return self.data[idx]\n",
        "\n",
        "    def __len__(self):\n",
        "        return len(self.data)\n"
      ]
    },
    {
      "cell_type": "markdown",
      "metadata": {
        "id": "IRqKNvNZwe3V"
      },
      "source": [
        "## Define Model"
      ]
    },
    {
      "cell_type": "code",
      "execution_count": 5,
      "metadata": {
        "id": "Bg-GRd7ywdrL"
      },
      "outputs": [],
      "source": [
        "import torch\n",
        "import torch.nn as nn\n",
        "import torch.nn.functional as F\n",
        "from bi_lstm_crf import CRF\n",
        "\n",
        "# class BasicBlock(nn.Module):\n",
        "#     def __init__(self, input_dim, output_dim, drop_rate=0.1):\n",
        "#         super(BasicBlock, self).__init__()\n",
        "\n",
        "#         self.block = nn.Sequential(\n",
        "#             nn.Linear(input_dim, output_dim),\n",
        "#             nn.BatchNorm1d(output_dim),\n",
        "#             nn.Dropout(drop_rate),\n",
        "#             nn.ReLU(),\n",
        "#         )\n",
        "\n",
        "#     def forward(self, x):\n",
        "#         x = self.block(x)\n",
        "#         return x\n",
        "\n",
        "# class Classifier(nn.Module):\n",
        "#     def __init__(self, input_dim, output_dim=41, hidden_layers=1, hidden_dim=256, drop_rate=0.1):\n",
        "#         super(Classifier, self).__init__()\n",
        "\n",
        "#         self.fc = nn.Sequential(\n",
        "#             BasicBlock(input_dim, hidden_dim, drop_rate=drop_rate),\n",
        "#             *[BasicBlock(hidden_dim, hidden_dim, drop_rate=drop_rate) for _ in range(hidden_layers)],\n",
        "#             nn.Linear(hidden_dim, output_dim)\n",
        "#         )\n",
        "\n",
        "#     def forward(self, x):\n",
        "#         x = self.fc(x)\n",
        "#         return x\n",
        "\n",
        "class RNNClassifier(nn.Module):\n",
        "    def __init__(self, input_dim, out_dim=41, hidden_layers=1, hidden_dim=256, drop_rate=0.1):\n",
        "        super(RNNClassifier, self).__init__()\n",
        "        \n",
        "        self.lstm = nn.LSTM(input_dim, hidden_dim, hidden_layers, dropout=drop_rate, bidirectional=True, batch_first=True)\n",
        "        self.af = nn.Sequential(\n",
        "            nn.LazyBatchNorm1d(),\n",
        "            # nn.LayerNorm(2*hidden_dim),\n",
        "            # nn.GELU()\n",
        "        )\n",
        "        self.fc = nn.LazyLinear(out_dim)\n",
        "    \n",
        "    def forward(self, x):\n",
        "        x, _ = self.lstm(x)\n",
        "        x = self.af(x)\n",
        "        x = self.fc(x)\n",
        "        return x\n",
        "    \n",
        "    \n",
        "class BiLSTMCRF(nn.Module):\n",
        "    def __init__(self, input_dim, out_dim=41, hidden_layers=1, hidden_dim=256, drop_rate=0.1, device=\"cpu\"):\n",
        "        super(BiLSTMCRF, self).__init__()\n",
        "        self.bilstm = nn.LSTM(input_dim, hidden_dim, hidden_layers, dropout=drop_rate, bidirectional=True, batch_first=True)\n",
        "        self.crf = CRF(hidden_dim * 2, out_dim)\n",
        "        self.device = device\n",
        "        self.to(device)\n",
        "        \n",
        "    def loss(self, x, y, masks):\n",
        "        x, y = x.to(self.device), y.to(self.device)\n",
        "        features, _ = self.bilstm(x)\n",
        "        if masks is None:\n",
        "            masks = torch.ones_like(y, device=self.device)\n",
        "        loss = self.crf.loss(features, y, masks)\n",
        "        return loss\n",
        "    \n",
        "    def forward(self, x, masks=None):\n",
        "        x = x.to(self.device)\n",
        "        features, _ = self.bilstm(x)\n",
        "        if masks is None:\n",
        "            masks = torch.ones(x.shape[:2], device=self.device)\n",
        "        scores, outputs = self.crf(features, masks)\n",
        "        return scores, outputs\n",
        "    \n",
        "    \n",
        "# class BiLSTMCRF(nn.Module):\n",
        "#     def __init__(self, input_dim, out_dim=41, hidden_layers=1, hidden_dim=256, drop_rate=0.1, device=\"cpu\"):\n",
        "#         super(BiLSTMCRF, self).__init__()\n",
        "        \n",
        "#         self._BIG_NEG = -1e5\n",
        "#         self.out_dim = out_dim\n",
        "#         self.bilstm = nn.LSTM(input_dim, hidden_dim, hidden_layers, dropout=drop_rate, bidirectional=True, batch_first=True)\n",
        "#         self.fc = nn.LazyLinear(out_dim)\n",
        "#         self.trans = nn.Parameter(torch.randn(out_dim+1, out_dim+1))\n",
        "#         self.trans.data[out_dim, :] = self._BIG_NEG\n",
        "#         self.device = device\n",
        "#         self.to(device)\n",
        "#         # self.trans.data[:,out_dim+1] = -1e5\n",
        "    \n",
        "#     def _get_bilstm_freatures(self, input):\n",
        "#         bilstm_out, _ = self.bilstm(input)\n",
        "#         bilstm_feats = self.fc(bilstm_out)\n",
        "#         return bilstm_feats # (batch_size, concat_nframes, out_dim)\n",
        "    \n",
        "#     def _score(self, feats, labels):\n",
        "#         batch_size = feats.shape[0]\n",
        "#         score = torch.zeros(batch_size, 1).to(self.device)\n",
        "#         labels = torch.cat([torch.tensor([[self.out_dim]] * batch_size).to(self.device), labels], dim=-1)\n",
        "#         for i in range(feats.shape[-2]):\n",
        "#             score += (self.trans[ labels[:, i+1], labels[:, i]] + feats[range(batch_size), i, labels[:, i+1]]).view(-1,1)\n",
        "#         # score += self.trans[ -1,  labels[:, -1] ]\n",
        "#         return score # (batch_size, 1)\n",
        "        \n",
        "#     def _log_sum_exp_score(self, feats):\n",
        "#         batch_size = feats.shape[0]\n",
        "#         forward_var = torch.full((batch_size, self.out_dim+1), self._BIG_NEG).to(self.device)\n",
        "#         forward_var[:, self.out_dim] = 0.\n",
        "        \n",
        "#         for i in range(feats.shape[-2]):\n",
        "#             alpha_t = []\n",
        "#             for next_label in range(self.out_dim+1):\n",
        "#                 emit_score = self._BIG_NEG if next_label == self.out_dim else feats[:, i, next_label].view(-1, 1)\n",
        "#                 trans_score = self.trans[next_label]\n",
        "#                 next_label_var = forward_var + (emit_score + trans_score)\n",
        "#                 alpha_t.append(torch.logsumexp(next_label_var, dim=-1, keepdim=True))\n",
        "#             forward_var = torch.cat(alpha_t, dim=-1)\n",
        "#         alpha = torch.logsumexp(forward_var, dim=-1, keepdim=True)\n",
        "#         return alpha # (batch_size, 1)\n",
        "    \n",
        "#     def _viterbi_decode(self, feats):\n",
        "#         backpointers = []\n",
        "#         batch_size = feats.shape[0]\n",
        "#         forward_var = torch.full((batch_size, self.out_dim+1), self._BIG_NEG).to(self.device)\n",
        "#         forward_var[:, self.out_dim] = 0.\n",
        "        \n",
        "#         for i in range(feats.shape[-2]):\n",
        "#             bptrs_t = []\n",
        "#             viterbivars_t = []\n",
        "#             for next_label in range(self.out_dim+1):\n",
        "#                 next_label_var = forward_var + self.trans[next_label]\n",
        "#                 best_label = torch.argmax(next_label_var, dim=-1, keepdim=True)\n",
        "#                 bptrs_t.append(best_label)\n",
        "#                 viterbivars_t.append(next_label_var[range(batch_size), best_label.squeeze()].view(-1,1))\n",
        "#             feat = feats[:, i, :] \n",
        "#             feat = torch.cat([feat, torch.full((batch_size, 1), self._BIG_NEG).to(self.device)], dim=-1)\n",
        "#             forward_var = torch.cat(viterbivars_t, dim=-1) + feat\n",
        "#             backpointers.append(torch.cat(bptrs_t, dim=-1))\n",
        "            \n",
        "#         best_label = torch.argmax(forward_var, dim=-1, keepdim=True)\n",
        "#         path_score = forward_var[range(batch_size), best_label.squeeze()].view(-1,1)\n",
        "#         best_path = [ best_label ]\n",
        "        \n",
        "#         for bptrs_t in reversed(backpointers):\n",
        "#             best_label = bptrs_t[range(batch_size), best_label.squeeze()].view(-1,1)\n",
        "#             best_path.append(best_label)\n",
        "            \n",
        "#         best_path.reverse()\n",
        "#         best_path = torch.cat(best_path, dim=-1)\n",
        "#         return path_score, best_path[:,1:]\n",
        "                \n",
        "#     def neg_log_likelihood(self, input, labels):\n",
        "#         feats = self._get_bilstm_freatures(input)\n",
        "#         forward_score = self._log_sum_exp_score(feats)\n",
        "#         gt_score = self._score(feats, labels)\n",
        "#         return torch.mean(forward_score - gt_score)\n",
        "                 \n",
        "#     def forward(self, x):\n",
        "#         x = self._get_bilstm_freatures(x)\n",
        "#         _, x = self._viterbi_decode(x)\n",
        "#         return x\n",
        "\n"
      ]
    },
    {
      "cell_type": "markdown",
      "metadata": {
        "id": "TlIq8JeqvvHC"
      },
      "source": [
        "## Hyper-parameters"
      ]
    },
    {
      "cell_type": "code",
      "execution_count": 6,
      "metadata": {
        "id": "iIHn79Iav1ri"
      },
      "outputs": [],
      "source": [
        "# data prarameters\n",
        "concat_nframes = 1 # 25 # 1     # the number of frames to concat with, n must be odd (total 2k+1 = n frames)\n",
        "train_ratio = 0.9 # 0.8         # the ratio of data used for training, the rest will be used for validation\n",
        "\n",
        "# training parameters\n",
        "seed = 0                        # random seed\n",
        "batch_size = 48 # 1024          # batch size\n",
        "num_epoch = 800                 # the number of training epoch\n",
        "learning_rate = 1e-3            # learning rate\n",
        "model_path = './model.ckpt'     # the path where the checkpoint will be saved\n",
        "drop_rate = 0.5                 # the probablity of drop out (Customized)\n",
        "early_stop = 8                  # If model has not improved for this many consecutive epochs, stop training. (Customized)\n",
        "weight_decay = 5e-2             # weight decay for optimizer (Customized)\n",
        "\n",
        "# model parameters\n",
        "input_dim = 39 * concat_nframes # the input dim of the model, you should not change the value\n",
        "hidden_layers = 6 # 1           # the number of hidden layers\n",
        "hidden_dim = 256                # the hidden dim"
      ]
    },
    {
      "cell_type": "markdown",
      "metadata": {
        "id": "IIUFRgG5yoDn"
      },
      "source": [
        "## Prepare dataset and model"
      ]
    },
    {
      "cell_type": "code",
      "execution_count": 7,
      "metadata": {
        "colab": {
          "base_uri": "https://localhost:8080/"
        },
        "id": "c1zI3v5jyrDn",
        "outputId": "3ea2823a-83f3-42d9-ef05-2f2c002f9538"
      },
      "outputs": [
        {
          "name": "stdout",
          "output_type": "stream",
          "text": [
            "[Dataset] - # phone classes: 41, number of utterances for train: 3857\n"
          ]
        },
        {
          "name": "stderr",
          "output_type": "stream",
          "text": [
            "3857it [00:01, 3133.47it/s]\n"
          ]
        },
        {
          "name": "stdout",
          "output_type": "stream",
          "text": [
            "[Dataset] - # phone classes: 41, number of utterances for val: 429\n"
          ]
        },
        {
          "name": "stderr",
          "output_type": "stream",
          "text": [
            "429it [00:00, 2876.71it/s]\n"
          ]
        }
      ],
      "source": [
        "import gc\n",
        "\n",
        "# preprocess data\n",
        "# train_X, train_y = preprocess_data(split='train', feat_dir='./libriphone/feat', phone_path='./libriphone', concat_nframes=concat_nframes, train_ratio=train_ratio, for_rnn=True)\n",
        "# val_X, val_y = preprocess_data(split='val', feat_dir='./libriphone/feat', phone_path='./libriphone', concat_nframes=concat_nframes, train_ratio=train_ratio, for_rnn=True)\n",
        "train_X, train_y = preprocess_data(split='train', feat_dir='./libriphone/feat', phone_path='./libriphone', train_ratio=train_ratio)\n",
        "val_X, val_y = preprocess_data(split='val', feat_dir='./libriphone/feat', phone_path='./libriphone', train_ratio=train_ratio)\n",
        "\n",
        "# get dataset\n",
        "train_set = LibriDataset(train_X, train_y)\n",
        "val_set = LibriDataset(val_X, val_y)\n",
        "\n",
        "# remove raw feature to save memory\n",
        "del train_X, train_y, val_X, val_y\n",
        "gc.collect()\n",
        "\n",
        "# get dataloader\n",
        "train_loader = DataLoader(train_set, batch_size=batch_size, shuffle=True, collate_fn=train_pad_collate_fn)\n",
        "val_loader = DataLoader(val_set, batch_size=batch_size, shuffle=False, collate_fn=train_pad_collate_fn)"
      ]
    },
    {
      "cell_type": "code",
      "execution_count": 8,
      "metadata": {
        "colab": {
          "base_uri": "https://localhost:8080/"
        },
        "id": "CfRUEgC0GxUV",
        "outputId": "f9804711-72b1-4717-896b-821a300cfe87"
      },
      "outputs": [
        {
          "name": "stdout",
          "output_type": "stream",
          "text": [
            "DEVICE: cuda:0\n"
          ]
        }
      ],
      "source": [
        "device = 'cuda:0' if torch.cuda.is_available() else 'cpu'\n",
        "print(f'DEVICE: {device}')"
      ]
    },
    {
      "cell_type": "code",
      "execution_count": 9,
      "metadata": {
        "id": "88xPiUnm0tAd"
      },
      "outputs": [],
      "source": [
        "import numpy as np\n",
        "\n",
        "#fix seed\n",
        "def same_seeds(seed):\n",
        "    torch.manual_seed(seed)\n",
        "    if torch.cuda.is_available():\n",
        "        torch.cuda.manual_seed(seed)\n",
        "        torch.cuda.manual_seed_all(seed)  \n",
        "    np.random.seed(seed)  \n",
        "    torch.backends.cudnn.benchmark = False\n",
        "    torch.backends.cudnn.deterministic = True"
      ]
    },
    {
      "cell_type": "code",
      "execution_count": 10,
      "metadata": {
        "id": "QTp3ZXg1yO9Y"
      },
      "outputs": [],
      "source": [
        "\n",
        "# fix random seed\n",
        "same_seeds(seed)\n",
        "\n",
        "# create model, define a loss function, and optimizer\n",
        "# model = Classifier(input_dim=input_dim, hidden_layers=hidden_layers, hidden_dim=hidden_dim, drop_rate=drop_rate).to(device)\n",
        "# model = RNNClassifier(input_dim=input_dim//concat_nframes, hidden_layers=hidden_layers, hidden_dim=hidden_dim, drop_rate=drop_rate).to(device)\n",
        "model = BiLSTMCRF(input_dim=input_dim//concat_nframes, hidden_layers=hidden_layers, hidden_dim=hidden_dim, drop_rate=drop_rate, device=device)\n",
        "# criterion = nn.CrossEntropyLoss() \n",
        "optimizer = torch.optim.AdamW(model.parameters(), lr=learning_rate, weight_decay=weight_decay)\n",
        "scheduler = torch.optim.lr_scheduler.CosineAnnealingWarmRestarts(optimizer, T_0=2, T_mult=2) # Customized learning rate scheduler"
      ]
    },
    {
      "cell_type": "markdown",
      "metadata": {
        "id": "pwWH1KIqzxEr"
      },
      "source": [
        "## Training"
      ]
    },
    {
      "cell_type": "code",
      "execution_count": 11,
      "metadata": {
        "colab": {
          "base_uri": "https://localhost:8080/"
        },
        "id": "CdMWsBs7zzNs",
        "outputId": "17922ad2-a319-4253-8783-3e4939d0a7cf"
      },
      "outputs": [
        {
          "name": "stderr",
          "output_type": "stream",
          "text": [
            "100%|██████████| 81/81 [02:42<00:00,  2.01s/it]\n",
            "100%|██████████| 9/9 [00:09<00:00,  1.03s/it]\n"
          ]
        },
        {
          "name": "stdout",
          "output_type": "stream",
          "text": [
            "[001/800] Train Acc: 0.156096 Loss: 2281.310574 | Val Acc: 0.219772 loss: 2009.323947\n",
            "saving model with acc 0.219772\n"
          ]
        },
        {
          "name": "stderr",
          "output_type": "stream",
          "text": [
            "100%|██████████| 81/81 [02:39<00:00,  1.97s/it]\n",
            "100%|██████████| 9/9 [00:09<00:00,  1.05s/it]\n"
          ]
        },
        {
          "name": "stdout",
          "output_type": "stream",
          "text": [
            "[002/800] Train Acc: 0.255450 Loss: 1844.033577 | Val Acc: 0.308191 loss: 1682.288818\n",
            "saving model with acc 0.308191\n"
          ]
        },
        {
          "name": "stderr",
          "output_type": "stream",
          "text": [
            "100%|██████████| 81/81 [02:38<00:00,  1.96s/it]\n",
            "100%|██████████| 9/9 [00:09<00:00,  1.05s/it]\n"
          ]
        },
        {
          "name": "stdout",
          "output_type": "stream",
          "text": [
            "[003/800] Train Acc: 0.355832 Loss: 1497.778724 | Val Acc: 0.419817 loss: 1323.454956\n",
            "saving model with acc 0.419817\n"
          ]
        },
        {
          "name": "stderr",
          "output_type": "stream",
          "text": [
            "100%|██████████| 81/81 [02:35<00:00,  1.92s/it]\n",
            "100%|██████████| 9/9 [00:09<00:00,  1.05s/it]\n"
          ]
        },
        {
          "name": "stdout",
          "output_type": "stream",
          "text": [
            "[004/800] Train Acc: 0.446426 Loss: 1236.154003 | Val Acc: 0.494017 loss: 1128.548313\n",
            "saving model with acc 0.494017\n"
          ]
        },
        {
          "name": "stderr",
          "output_type": "stream",
          "text": [
            "100%|██████████| 81/81 [02:36<00:00,  1.93s/it]\n",
            "100%|██████████| 9/9 [00:09<00:00,  1.05s/it]\n"
          ]
        },
        {
          "name": "stdout",
          "output_type": "stream",
          "text": [
            "[005/800] Train Acc: 0.493175 Loss: 1118.193525 | Val Acc: 0.521405 loss: 1059.095486\n",
            "saving model with acc 0.521405\n"
          ]
        },
        {
          "name": "stderr",
          "output_type": "stream",
          "text": [
            "100%|██████████| 81/81 [02:37<00:00,  1.94s/it]\n",
            "100%|██████████| 9/9 [00:09<00:00,  1.03s/it]\n"
          ]
        },
        {
          "name": "stdout",
          "output_type": "stream",
          "text": [
            "[006/800] Train Acc: 0.510864 Loss: 1072.440064 | Val Acc: 0.528095 loss: 1039.356316\n",
            "saving model with acc 0.528095\n"
          ]
        },
        {
          "name": "stderr",
          "output_type": "stream",
          "text": [
            "100%|██████████| 81/81 [02:39<00:00,  1.97s/it]\n",
            "100%|██████████| 9/9 [00:09<00:00,  1.04s/it]\n"
          ]
        },
        {
          "name": "stdout",
          "output_type": "stream",
          "text": [
            "[007/800] Train Acc: 0.528027 Loss: 1029.007201 | Val Acc: 0.561046 loss: 961.872464\n",
            "saving model with acc 0.561046\n"
          ]
        },
        {
          "name": "stderr",
          "output_type": "stream",
          "text": [
            "100%|██████████| 81/81 [02:38<00:00,  1.96s/it]\n",
            "100%|██████████| 9/9 [00:09<00:00,  1.04s/it]\n"
          ]
        },
        {
          "name": "stdout",
          "output_type": "stream",
          "text": [
            "[008/800] Train Acc: 0.560128 Loss: 949.608867 | Val Acc: 0.589209 loss: 890.424805\n",
            "saving model with acc 0.589209\n"
          ]
        },
        {
          "name": "stderr",
          "output_type": "stream",
          "text": [
            "100%|██████████| 81/81 [02:43<00:00,  2.01s/it]\n",
            "100%|██████████| 9/9 [00:09<00:00,  1.07s/it]\n"
          ]
        },
        {
          "name": "stdout",
          "output_type": "stream",
          "text": [
            "[009/800] Train Acc: 0.585477 Loss: 890.715345 | Val Acc: 0.616480 loss: 827.943251\n",
            "saving model with acc 0.616480\n"
          ]
        },
        {
          "name": "stderr",
          "output_type": "stream",
          "text": [
            "100%|██████████| 81/81 [02:45<00:00,  2.04s/it]\n",
            "100%|██████████| 9/9 [00:09<00:00,  1.09s/it]\n"
          ]
        },
        {
          "name": "stdout",
          "output_type": "stream",
          "text": [
            "[010/800] Train Acc: 0.604118 Loss: 845.226021 | Val Acc: 0.632347 loss: 792.390252\n",
            "saving model with acc 0.632347\n"
          ]
        },
        {
          "name": "stderr",
          "output_type": "stream",
          "text": [
            "100%|██████████| 81/81 [02:44<00:00,  2.03s/it]\n",
            "100%|██████████| 9/9 [00:09<00:00,  1.09s/it]\n"
          ]
        },
        {
          "name": "stdout",
          "output_type": "stream",
          "text": [
            "[011/800] Train Acc: 0.617778 Loss: 814.051416 | Val Acc: 0.642488 loss: 767.915487\n",
            "saving model with acc 0.642488\n"
          ]
        },
        {
          "name": "stderr",
          "output_type": "stream",
          "text": [
            "100%|██████████| 81/81 [02:44<00:00,  2.04s/it]\n",
            "100%|██████████| 9/9 [00:09<00:00,  1.07s/it]\n"
          ]
        },
        {
          "name": "stdout",
          "output_type": "stream",
          "text": [
            "[012/800] Train Acc: 0.626460 Loss: 792.708231 | Val Acc: 0.647216 loss: 758.927429\n",
            "saving model with acc 0.647216\n"
          ]
        },
        {
          "name": "stderr",
          "output_type": "stream",
          "text": [
            "100%|██████████| 81/81 [02:44<00:00,  2.03s/it]\n",
            "100%|██████████| 9/9 [00:09<00:00,  1.09s/it]\n"
          ]
        },
        {
          "name": "stdout",
          "output_type": "stream",
          "text": [
            "[013/800] Train Acc: 0.632295 Loss: 780.750662 | Val Acc: 0.651400 loss: 748.524970\n",
            "saving model with acc 0.651400\n"
          ]
        },
        {
          "name": "stderr",
          "output_type": "stream",
          "text": [
            "100%|██████████| 81/81 [02:44<00:00,  2.03s/it]\n",
            "100%|██████████| 9/9 [00:09<00:00,  1.08s/it]\n"
          ]
        },
        {
          "name": "stdout",
          "output_type": "stream",
          "text": [
            "[014/800] Train Acc: 0.633623 Loss: 775.138156 | Val Acc: 0.653430 loss: 745.354045\n",
            "saving model with acc 0.653430\n"
          ]
        },
        {
          "name": "stderr",
          "output_type": "stream",
          "text": [
            "100%|██████████| 81/81 [02:46<00:00,  2.06s/it]\n",
            "100%|██████████| 9/9 [00:09<00:00,  1.07s/it]\n"
          ]
        },
        {
          "name": "stdout",
          "output_type": "stream",
          "text": [
            "[015/800] Train Acc: 0.636528 Loss: 770.355642 | Val Acc: 0.664157 loss: 726.862040\n",
            "saving model with acc 0.664157\n"
          ]
        },
        {
          "name": "stderr",
          "output_type": "stream",
          "text": [
            "100%|██████████| 81/81 [02:44<00:00,  2.03s/it]\n",
            "100%|██████████| 9/9 [00:09<00:00,  1.09s/it]\n"
          ]
        },
        {
          "name": "stdout",
          "output_type": "stream",
          "text": [
            "[016/800] Train Acc: 0.650163 Loss: 740.168724 | Val Acc: 0.675606 loss: 697.830777\n",
            "saving model with acc 0.675606\n"
          ]
        },
        {
          "name": "stderr",
          "output_type": "stream",
          "text": [
            "100%|██████████| 81/81 [02:43<00:00,  2.02s/it]\n",
            "100%|██████████| 9/9 [00:09<00:00,  1.09s/it]\n"
          ]
        },
        {
          "name": "stdout",
          "output_type": "stream",
          "text": [
            "[017/800] Train Acc: 0.663117 Loss: 710.226512 | Val Acc: 0.685675 loss: 672.325758\n",
            "saving model with acc 0.685675\n"
          ]
        },
        {
          "name": "stderr",
          "output_type": "stream",
          "text": [
            "100%|██████████| 81/81 [02:41<00:00,  1.99s/it]\n",
            "100%|██████████| 9/9 [00:09<00:00,  1.08s/it]\n"
          ]
        },
        {
          "name": "stdout",
          "output_type": "stream",
          "text": [
            "[018/800] Train Acc: 0.673488 Loss: 685.598790 | Val Acc: 0.695143 loss: 652.024414\n",
            "saving model with acc 0.695143\n"
          ]
        },
        {
          "name": "stderr",
          "output_type": "stream",
          "text": [
            "100%|██████████| 81/81 [02:41<00:00,  2.00s/it]\n",
            "100%|██████████| 9/9 [00:09<00:00,  1.08s/it]\n"
          ]
        },
        {
          "name": "stdout",
          "output_type": "stream",
          "text": [
            "[019/800] Train Acc: 0.683035 Loss: 662.707645 | Val Acc: 0.700688 loss: 635.820557\n",
            "saving model with acc 0.700688\n"
          ]
        },
        {
          "name": "stderr",
          "output_type": "stream",
          "text": [
            "100%|██████████| 81/81 [02:41<00:00,  2.00s/it]\n",
            "100%|██████████| 9/9 [00:09<00:00,  1.08s/it]\n"
          ]
        },
        {
          "name": "stdout",
          "output_type": "stream",
          "text": [
            "[020/800] Train Acc: 0.691217 Loss: 644.599481 | Val Acc: 0.707030 loss: 618.570401\n",
            "saving model with acc 0.707030\n"
          ]
        },
        {
          "name": "stderr",
          "output_type": "stream",
          "text": [
            "100%|██████████| 81/81 [02:41<00:00,  2.00s/it]\n",
            "100%|██████████| 9/9 [00:09<00:00,  1.10s/it]\n"
          ]
        },
        {
          "name": "stdout",
          "output_type": "stream",
          "text": [
            "[021/800] Train Acc: 0.697941 Loss: 628.347481 | Val Acc: 0.713490 loss: 606.280965\n",
            "saving model with acc 0.713490\n"
          ]
        },
        {
          "name": "stderr",
          "output_type": "stream",
          "text": [
            "100%|██████████| 81/81 [02:41<00:00,  2.00s/it]\n",
            "100%|██████████| 9/9 [00:09<00:00,  1.09s/it]\n"
          ]
        },
        {
          "name": "stdout",
          "output_type": "stream",
          "text": [
            "[022/800] Train Acc: 0.704406 Loss: 614.728595 | Val Acc: 0.718120 loss: 596.544678\n",
            "saving model with acc 0.718120\n"
          ]
        },
        {
          "name": "stderr",
          "output_type": "stream",
          "text": [
            "100%|██████████| 81/81 [02:41<00:00,  1.99s/it]\n",
            "100%|██████████| 9/9 [00:09<00:00,  1.09s/it]\n"
          ]
        },
        {
          "name": "stdout",
          "output_type": "stream",
          "text": [
            "[023/800] Train Acc: 0.708994 Loss: 601.276780 | Val Acc: 0.722334 loss: 586.765055\n",
            "saving model with acc 0.722334\n"
          ]
        },
        {
          "name": "stderr",
          "output_type": "stream",
          "text": [
            "100%|██████████| 81/81 [02:41<00:00,  2.00s/it]\n",
            "100%|██████████| 9/9 [00:09<00:00,  1.09s/it]\n"
          ]
        },
        {
          "name": "stdout",
          "output_type": "stream",
          "text": [
            "[024/800] Train Acc: 0.713628 Loss: 590.560690 | Val Acc: 0.725022 loss: 579.286309\n",
            "saving model with acc 0.725022\n"
          ]
        },
        {
          "name": "stderr",
          "output_type": "stream",
          "text": [
            "100%|██████████| 81/81 [02:41<00:00,  2.00s/it]\n",
            "100%|██████████| 9/9 [00:09<00:00,  1.08s/it]\n"
          ]
        },
        {
          "name": "stdout",
          "output_type": "stream",
          "text": [
            "[025/800] Train Acc: 0.716834 Loss: 584.528299 | Val Acc: 0.728117 loss: 574.691515\n",
            "saving model with acc 0.728117\n"
          ]
        },
        {
          "name": "stderr",
          "output_type": "stream",
          "text": [
            "100%|██████████| 81/81 [02:41<00:00,  1.99s/it]\n",
            "100%|██████████| 9/9 [00:09<00:00,  1.08s/it]\n"
          ]
        },
        {
          "name": "stdout",
          "output_type": "stream",
          "text": [
            "[026/800] Train Acc: 0.719184 Loss: 577.918027 | Val Acc: 0.729142 loss: 572.178277\n",
            "saving model with acc 0.729142\n"
          ]
        },
        {
          "name": "stderr",
          "output_type": "stream",
          "text": [
            "100%|██████████| 81/81 [02:41<00:00,  1.99s/it]\n",
            "100%|██████████| 9/9 [00:09<00:00,  1.09s/it]\n"
          ]
        },
        {
          "name": "stdout",
          "output_type": "stream",
          "text": [
            "[027/800] Train Acc: 0.721056 Loss: 574.008565 | Val Acc: 0.729780 loss: 569.882073\n",
            "saving model with acc 0.729780\n"
          ]
        },
        {
          "name": "stderr",
          "output_type": "stream",
          "text": [
            "100%|██████████| 81/81 [02:42<00:00,  2.00s/it]\n",
            "100%|██████████| 9/9 [00:09<00:00,  1.08s/it]\n"
          ]
        },
        {
          "name": "stdout",
          "output_type": "stream",
          "text": [
            "[028/800] Train Acc: 0.722856 Loss: 570.874697 | Val Acc: 0.730582 loss: 567.347636\n",
            "saving model with acc 0.730582\n"
          ]
        },
        {
          "name": "stderr",
          "output_type": "stream",
          "text": [
            "100%|██████████| 81/81 [02:42<00:00,  2.00s/it]\n",
            "100%|██████████| 9/9 [00:09<00:00,  1.09s/it]\n"
          ]
        },
        {
          "name": "stdout",
          "output_type": "stream",
          "text": [
            "[029/800] Train Acc: 0.723134 Loss: 568.173298 | Val Acc: 0.731379 loss: 566.952644\n",
            "saving model with acc 0.731379\n"
          ]
        },
        {
          "name": "stderr",
          "output_type": "stream",
          "text": [
            "100%|██████████| 81/81 [02:41<00:00,  2.00s/it]\n",
            "100%|██████████| 9/9 [00:09<00:00,  1.08s/it]\n"
          ]
        },
        {
          "name": "stdout",
          "output_type": "stream",
          "text": [
            "[030/800] Train Acc: 0.723595 Loss: 567.287129 | Val Acc: 0.731527 loss: 566.385824\n",
            "saving model with acc 0.731527\n"
          ]
        },
        {
          "name": "stderr",
          "output_type": "stream",
          "text": [
            "100%|██████████| 81/81 [02:41<00:00,  2.00s/it]\n",
            "100%|██████████| 9/9 [00:09<00:00,  1.09s/it]\n"
          ]
        },
        {
          "name": "stdout",
          "output_type": "stream",
          "text": [
            "[031/800] Train Acc: 0.719904 Loss: 576.330424 | Val Acc: 0.731912 loss: 561.890205\n",
            "saving model with acc 0.731912\n"
          ]
        },
        {
          "name": "stderr",
          "output_type": "stream",
          "text": [
            "100%|██████████| 81/81 [02:41<00:00,  1.99s/it]\n",
            "100%|██████████| 9/9 [00:09<00:00,  1.09s/it]\n"
          ]
        },
        {
          "name": "stdout",
          "output_type": "stream",
          "text": [
            "[032/800] Train Acc: 0.725480 Loss: 560.765130 | Val Acc: 0.736285 loss: 552.062520\n",
            "saving model with acc 0.736285\n"
          ]
        },
        {
          "name": "stderr",
          "output_type": "stream",
          "text": [
            "100%|██████████| 81/81 [02:42<00:00,  2.00s/it]\n",
            "100%|██████████| 9/9 [00:09<00:00,  1.09s/it]\n"
          ]
        },
        {
          "name": "stdout",
          "output_type": "stream",
          "text": [
            "[033/800] Train Acc: 0.731253 Loss: 549.116290 | Val Acc: 0.740579 loss: 541.961121\n",
            "saving model with acc 0.740579\n"
          ]
        },
        {
          "name": "stderr",
          "output_type": "stream",
          "text": [
            "100%|██████████| 81/81 [02:41<00:00,  2.00s/it]\n",
            "100%|██████████| 9/9 [00:09<00:00,  1.08s/it]\n"
          ]
        },
        {
          "name": "stdout",
          "output_type": "stream",
          "text": [
            "[034/800] Train Acc: 0.737402 Loss: 532.854335 | Val Acc: 0.744865 loss: 527.773275\n",
            "saving model with acc 0.744865\n"
          ]
        },
        {
          "name": "stderr",
          "output_type": "stream",
          "text": [
            "100%|██████████| 81/81 [02:42<00:00,  2.01s/it]\n",
            "100%|██████████| 9/9 [00:09<00:00,  1.09s/it]\n"
          ]
        },
        {
          "name": "stdout",
          "output_type": "stream",
          "text": [
            "[035/800] Train Acc: 0.743190 Loss: 519.097594 | Val Acc: 0.749170 loss: 521.399543\n",
            "saving model with acc 0.749170\n"
          ]
        },
        {
          "name": "stderr",
          "output_type": "stream",
          "text": [
            "100%|██████████| 81/81 [02:41<00:00,  2.00s/it]\n",
            "100%|██████████| 9/9 [00:09<00:00,  1.08s/it]\n"
          ]
        },
        {
          "name": "stdout",
          "output_type": "stream",
          "text": [
            "[036/800] Train Acc: 0.747005 Loss: 508.997141 | Val Acc: 0.751703 loss: 511.274604\n",
            "saving model with acc 0.751703\n"
          ]
        },
        {
          "name": "stderr",
          "output_type": "stream",
          "text": [
            "100%|██████████| 81/81 [02:41<00:00,  2.00s/it]\n",
            "100%|██████████| 9/9 [00:09<00:00,  1.09s/it]\n"
          ]
        },
        {
          "name": "stdout",
          "output_type": "stream",
          "text": [
            "[037/800] Train Acc: 0.751892 Loss: 498.119037 | Val Acc: 0.754825 loss: 505.698201\n",
            "saving model with acc 0.754825\n"
          ]
        },
        {
          "name": "stderr",
          "output_type": "stream",
          "text": [
            "100%|██████████| 81/81 [02:42<00:00,  2.00s/it]\n",
            "100%|██████████| 9/9 [00:09<00:00,  1.11s/it]\n"
          ]
        },
        {
          "name": "stdout",
          "output_type": "stream",
          "text": [
            "[038/800] Train Acc: 0.756312 Loss: 487.965758 | Val Acc: 0.757335 loss: 498.883925\n",
            "saving model with acc 0.757335\n"
          ]
        },
        {
          "name": "stderr",
          "output_type": "stream",
          "text": [
            "100%|██████████| 81/81 [02:42<00:00,  2.00s/it]\n",
            "100%|██████████| 9/9 [00:09<00:00,  1.08s/it]\n"
          ]
        },
        {
          "name": "stdout",
          "output_type": "stream",
          "text": [
            "[039/800] Train Acc: 0.760359 Loss: 478.836402 | Val Acc: 0.759565 loss: 492.486053\n",
            "saving model with acc 0.759565\n"
          ]
        },
        {
          "name": "stderr",
          "output_type": "stream",
          "text": [
            "100%|██████████| 81/81 [02:41<00:00,  2.00s/it]\n",
            "100%|██████████| 9/9 [00:09<00:00,  1.10s/it]\n"
          ]
        },
        {
          "name": "stdout",
          "output_type": "stream",
          "text": [
            "[040/800] Train Acc: 0.763148 Loss: 469.404149 | Val Acc: 0.763034 loss: 485.431861\n",
            "saving model with acc 0.763034\n"
          ]
        },
        {
          "name": "stderr",
          "output_type": "stream",
          "text": [
            "100%|██████████| 81/81 [02:41<00:00,  1.99s/it]\n",
            "100%|██████████| 9/9 [00:09<00:00,  1.07s/it]\n"
          ]
        },
        {
          "name": "stdout",
          "output_type": "stream",
          "text": [
            "[041/800] Train Acc: 0.767495 Loss: 460.293097 | Val Acc: 0.765389 loss: 480.037727\n",
            "saving model with acc 0.765389\n"
          ]
        },
        {
          "name": "stderr",
          "output_type": "stream",
          "text": [
            "100%|██████████| 81/81 [02:41<00:00,  2.00s/it]\n",
            "100%|██████████| 9/9 [00:09<00:00,  1.09s/it]\n"
          ]
        },
        {
          "name": "stdout",
          "output_type": "stream",
          "text": [
            "[042/800] Train Acc: 0.770408 Loss: 452.643130 | Val Acc: 0.762747 loss: 483.842634\n"
          ]
        },
        {
          "name": "stderr",
          "output_type": "stream",
          "text": [
            "100%|██████████| 81/81 [02:41<00:00,  1.99s/it]\n",
            "100%|██████████| 9/9 [00:09<00:00,  1.08s/it]\n"
          ]
        },
        {
          "name": "stdout",
          "output_type": "stream",
          "text": [
            "[043/800] Train Acc: 0.773256 Loss: 445.768540 | Val Acc: 0.769925 loss: 470.611738\n",
            "saving model with acc 0.769925\n"
          ]
        },
        {
          "name": "stderr",
          "output_type": "stream",
          "text": [
            "100%|██████████| 81/81 [02:41<00:00,  1.99s/it]\n",
            "100%|██████████| 9/9 [00:09<00:00,  1.09s/it]\n"
          ]
        },
        {
          "name": "stdout",
          "output_type": "stream",
          "text": [
            "[044/800] Train Acc: 0.776695 Loss: 438.899176 | Val Acc: 0.769460 loss: 468.761729\n"
          ]
        },
        {
          "name": "stderr",
          "output_type": "stream",
          "text": [
            "100%|██████████| 81/81 [02:41<00:00,  1.99s/it]\n",
            "100%|██████████| 9/9 [00:09<00:00,  1.08s/it]\n"
          ]
        },
        {
          "name": "stdout",
          "output_type": "stream",
          "text": [
            "[045/800] Train Acc: 0.779446 Loss: 432.056304 | Val Acc: 0.772280 loss: 463.023861\n",
            "saving model with acc 0.772280\n"
          ]
        },
        {
          "name": "stderr",
          "output_type": "stream",
          "text": [
            "100%|██████████| 81/81 [02:41<00:00,  2.00s/it]\n",
            "100%|██████████| 9/9 [00:09<00:00,  1.09s/it]\n"
          ]
        },
        {
          "name": "stdout",
          "output_type": "stream",
          "text": [
            "[046/800] Train Acc: 0.781152 Loss: 426.213071 | Val Acc: 0.773035 loss: 460.013357\n",
            "saving model with acc 0.773035\n"
          ]
        },
        {
          "name": "stderr",
          "output_type": "stream",
          "text": [
            "100%|██████████| 81/81 [02:42<00:00,  2.01s/it]\n",
            "100%|██████████| 9/9 [00:09<00:00,  1.09s/it]\n"
          ]
        },
        {
          "name": "stdout",
          "output_type": "stream",
          "text": [
            "[047/800] Train Acc: 0.783682 Loss: 420.649846 | Val Acc: 0.773187 loss: 459.082747\n",
            "saving model with acc 0.773187\n"
          ]
        },
        {
          "name": "stderr",
          "output_type": "stream",
          "text": [
            "100%|██████████| 81/81 [02:41<00:00,  1.99s/it]\n",
            "100%|██████████| 9/9 [00:09<00:00,  1.08s/it]\n"
          ]
        },
        {
          "name": "stdout",
          "output_type": "stream",
          "text": [
            "[048/800] Train Acc: 0.785986 Loss: 416.678128 | Val Acc: 0.775791 loss: 454.290446\n",
            "saving model with acc 0.775791\n"
          ]
        },
        {
          "name": "stderr",
          "output_type": "stream",
          "text": [
            "100%|██████████| 81/81 [02:42<00:00,  2.00s/it]\n",
            "100%|██████████| 9/9 [00:09<00:00,  1.09s/it]\n"
          ]
        },
        {
          "name": "stdout",
          "output_type": "stream",
          "text": [
            "[049/800] Train Acc: 0.787540 Loss: 412.463903 | Val Acc: 0.776910 loss: 451.827362\n",
            "saving model with acc 0.776910\n"
          ]
        },
        {
          "name": "stderr",
          "output_type": "stream",
          "text": [
            "100%|██████████| 81/81 [02:41<00:00,  2.00s/it]\n",
            "100%|██████████| 9/9 [00:09<00:00,  1.09s/it]\n"
          ]
        },
        {
          "name": "stdout",
          "output_type": "stream",
          "text": [
            "[050/800] Train Acc: 0.789422 Loss: 407.954183 | Val Acc: 0.777008 loss: 451.733775\n",
            "saving model with acc 0.777008\n"
          ]
        },
        {
          "name": "stderr",
          "output_type": "stream",
          "text": [
            "100%|██████████| 81/81 [02:41<00:00,  1.99s/it]\n",
            "100%|██████████| 9/9 [00:09<00:00,  1.09s/it]\n"
          ]
        },
        {
          "name": "stdout",
          "output_type": "stream",
          "text": [
            "[051/800] Train Acc: 0.790394 Loss: 404.480838 | Val Acc: 0.778414 loss: 448.544108\n",
            "saving model with acc 0.778414\n"
          ]
        },
        {
          "name": "stderr",
          "output_type": "stream",
          "text": [
            "100%|██████████| 81/81 [02:42<00:00,  2.00s/it]\n",
            "100%|██████████| 9/9 [00:09<00:00,  1.09s/it]\n"
          ]
        },
        {
          "name": "stdout",
          "output_type": "stream",
          "text": [
            "[052/800] Train Acc: 0.792334 Loss: 403.365726 | Val Acc: 0.778860 loss: 447.914307\n",
            "saving model with acc 0.778860\n"
          ]
        },
        {
          "name": "stderr",
          "output_type": "stream",
          "text": [
            "100%|██████████| 81/81 [02:41<00:00,  1.99s/it]\n",
            "100%|██████████| 9/9 [00:09<00:00,  1.09s/it]\n"
          ]
        },
        {
          "name": "stdout",
          "output_type": "stream",
          "text": [
            "[053/800] Train Acc: 0.792589 Loss: 399.612891 | Val Acc: 0.778849 loss: 446.234453\n"
          ]
        },
        {
          "name": "stderr",
          "output_type": "stream",
          "text": [
            "100%|██████████| 81/81 [02:41<00:00,  2.00s/it]\n",
            "100%|██████████| 9/9 [00:09<00:00,  1.09s/it]\n"
          ]
        },
        {
          "name": "stdout",
          "output_type": "stream",
          "text": [
            "[054/800] Train Acc: 0.793982 Loss: 396.792849 | Val Acc: 0.780104 loss: 444.816159\n",
            "saving model with acc 0.780104\n"
          ]
        },
        {
          "name": "stderr",
          "output_type": "stream",
          "text": [
            "100%|██████████| 81/81 [02:41<00:00,  1.99s/it]\n",
            "100%|██████████| 9/9 [00:09<00:00,  1.09s/it]\n"
          ]
        },
        {
          "name": "stdout",
          "output_type": "stream",
          "text": [
            "[055/800] Train Acc: 0.794733 Loss: 394.405733 | Val Acc: 0.778849 loss: 445.821130\n"
          ]
        },
        {
          "name": "stderr",
          "output_type": "stream",
          "text": [
            "100%|██████████| 81/81 [02:42<00:00,  2.00s/it]\n",
            "100%|██████████| 9/9 [00:09<00:00,  1.09s/it]\n"
          ]
        },
        {
          "name": "stdout",
          "output_type": "stream",
          "text": [
            "[056/800] Train Acc: 0.795496 Loss: 393.881513 | Val Acc: 0.780379 loss: 443.762875\n",
            "saving model with acc 0.780379\n"
          ]
        },
        {
          "name": "stderr",
          "output_type": "stream",
          "text": [
            "100%|██████████| 81/81 [02:42<00:00,  2.00s/it]\n",
            "100%|██████████| 9/9 [00:09<00:00,  1.09s/it]\n"
          ]
        },
        {
          "name": "stdout",
          "output_type": "stream",
          "text": [
            "[057/800] Train Acc: 0.796202 Loss: 391.831695 | Val Acc: 0.780262 loss: 443.821699\n"
          ]
        },
        {
          "name": "stderr",
          "output_type": "stream",
          "text": [
            "100%|██████████| 81/81 [02:41<00:00,  1.99s/it]\n",
            "100%|██████████| 9/9 [00:09<00:00,  1.08s/it]\n"
          ]
        },
        {
          "name": "stdout",
          "output_type": "stream",
          "text": [
            "[058/800] Train Acc: 0.796345 Loss: 391.759385 | Val Acc: 0.780398 loss: 443.028052\n",
            "saving model with acc 0.780398\n"
          ]
        },
        {
          "name": "stderr",
          "output_type": "stream",
          "text": [
            "100%|██████████| 81/81 [02:41<00:00,  1.99s/it]\n",
            "100%|██████████| 9/9 [00:09<00:00,  1.09s/it]\n"
          ]
        },
        {
          "name": "stdout",
          "output_type": "stream",
          "text": [
            "[059/800] Train Acc: 0.797438 Loss: 390.137782 | Val Acc: 0.780625 loss: 442.675307\n",
            "saving model with acc 0.780625\n"
          ]
        },
        {
          "name": "stderr",
          "output_type": "stream",
          "text": [
            "100%|██████████| 81/81 [02:41<00:00,  1.99s/it]\n",
            "100%|██████████| 9/9 [00:09<00:00,  1.08s/it]\n"
          ]
        },
        {
          "name": "stdout",
          "output_type": "stream",
          "text": [
            "[060/800] Train Acc: 0.797046 Loss: 390.228533 | Val Acc: 0.781071 loss: 442.127580\n",
            "saving model with acc 0.781071\n"
          ]
        },
        {
          "name": "stderr",
          "output_type": "stream",
          "text": [
            "100%|██████████| 81/81 [02:41<00:00,  2.00s/it]\n",
            "100%|██████████| 9/9 [00:09<00:00,  1.08s/it]\n"
          ]
        },
        {
          "name": "stdout",
          "output_type": "stream",
          "text": [
            "[061/800] Train Acc: 0.797312 Loss: 390.522826 | Val Acc: 0.780943 loss: 442.640401\n"
          ]
        },
        {
          "name": "stderr",
          "output_type": "stream",
          "text": [
            "100%|██████████| 81/81 [02:41<00:00,  1.99s/it]\n",
            "100%|██████████| 9/9 [00:09<00:00,  1.08s/it]\n"
          ]
        },
        {
          "name": "stdout",
          "output_type": "stream",
          "text": [
            "[062/800] Train Acc: 0.797377 Loss: 390.281773 | Val Acc: 0.780844 loss: 442.531487\n"
          ]
        },
        {
          "name": "stderr",
          "output_type": "stream",
          "text": [
            "100%|██████████| 81/81 [02:42<00:00,  2.00s/it]\n",
            "100%|██████████| 9/9 [00:09<00:00,  1.10s/it]\n"
          ]
        },
        {
          "name": "stdout",
          "output_type": "stream",
          "text": [
            "[063/800] Train Acc: 0.791690 Loss: 400.759158 | Val Acc: 0.779828 loss: 442.405419\n"
          ]
        },
        {
          "name": "stderr",
          "output_type": "stream",
          "text": [
            "100%|██████████| 81/81 [02:41<00:00,  1.99s/it]\n",
            "100%|██████████| 9/9 [00:09<00:00,  1.08s/it]\n"
          ]
        },
        {
          "name": "stdout",
          "output_type": "stream",
          "text": [
            "[064/800] Train Acc: 0.793552 Loss: 394.689069 | Val Acc: 0.779382 loss: 442.952745\n"
          ]
        },
        {
          "name": "stderr",
          "output_type": "stream",
          "text": [
            "100%|██████████| 81/81 [02:42<00:00,  2.00s/it]\n",
            "100%|██████████| 9/9 [00:09<00:00,  1.08s/it]\n"
          ]
        },
        {
          "name": "stdout",
          "output_type": "stream",
          "text": [
            "[065/800] Train Acc: 0.796445 Loss: 386.790577 | Val Acc: 0.779484 loss: 437.773583\n"
          ]
        },
        {
          "name": "stderr",
          "output_type": "stream",
          "text": [
            "100%|██████████| 81/81 [02:41<00:00,  1.99s/it]\n",
            "100%|██████████| 9/9 [00:09<00:00,  1.11s/it]\n"
          ]
        },
        {
          "name": "stdout",
          "output_type": "stream",
          "text": [
            "[066/800] Train Acc: 0.799096 Loss: 380.338805 | Val Acc: 0.783936 loss: 430.764988\n",
            "saving model with acc 0.783936\n"
          ]
        },
        {
          "name": "stderr",
          "output_type": "stream",
          "text": [
            "100%|██████████| 81/81 [02:41<00:00,  1.99s/it]\n",
            "100%|██████████| 9/9 [00:09<00:00,  1.09s/it]\n"
          ]
        },
        {
          "name": "stdout",
          "output_type": "stream",
          "text": [
            "[067/800] Train Acc: 0.802247 Loss: 372.967235 | Val Acc: 0.783468 loss: 429.786621\n"
          ]
        },
        {
          "name": "stderr",
          "output_type": "stream",
          "text": [
            "100%|██████████| 81/81 [02:42<00:00,  2.01s/it]\n",
            "100%|██████████| 9/9 [00:09<00:00,  1.09s/it]\n"
          ]
        },
        {
          "name": "stdout",
          "output_type": "stream",
          "text": [
            "[068/800] Train Acc: 0.804626 Loss: 366.435898 | Val Acc: 0.784431 loss: 425.425106\n",
            "saving model with acc 0.784431\n"
          ]
        },
        {
          "name": "stderr",
          "output_type": "stream",
          "text": [
            "100%|██████████| 81/81 [02:41<00:00,  1.99s/it]\n",
            "100%|██████████| 9/9 [00:09<00:00,  1.08s/it]\n"
          ]
        },
        {
          "name": "stdout",
          "output_type": "stream",
          "text": [
            "[069/800] Train Acc: 0.806893 Loss: 359.652650 | Val Acc: 0.788631 loss: 418.717085\n",
            "saving model with acc 0.788631\n"
          ]
        },
        {
          "name": "stderr",
          "output_type": "stream",
          "text": [
            "100%|██████████| 81/81 [02:41<00:00,  1.99s/it]\n",
            "100%|██████████| 9/9 [00:09<00:00,  1.09s/it]\n"
          ]
        },
        {
          "name": "stdout",
          "output_type": "stream",
          "text": [
            "[070/800] Train Acc: 0.810563 Loss: 352.169672 | Val Acc: 0.788389 loss: 415.463379\n"
          ]
        },
        {
          "name": "stderr",
          "output_type": "stream",
          "text": [
            "100%|██████████| 81/81 [02:41<00:00,  1.99s/it]\n",
            "100%|██████████| 9/9 [00:09<00:00,  1.09s/it]\n"
          ]
        },
        {
          "name": "stdout",
          "output_type": "stream",
          "text": [
            "[071/800] Train Acc: 0.812662 Loss: 347.456689 | Val Acc: 0.787958 loss: 416.535085\n"
          ]
        },
        {
          "name": "stderr",
          "output_type": "stream",
          "text": [
            "100%|██████████| 81/81 [02:41<00:00,  1.99s/it]\n",
            "100%|██████████| 9/9 [00:09<00:00,  1.07s/it]\n"
          ]
        },
        {
          "name": "stdout",
          "output_type": "stream",
          "text": [
            "[072/800] Train Acc: 0.814583 Loss: 341.558065 | Val Acc: 0.788468 loss: 412.996314\n"
          ]
        },
        {
          "name": "stderr",
          "output_type": "stream",
          "text": [
            "100%|██████████| 81/81 [02:41<00:00,  2.00s/it]\n",
            "100%|██████████| 9/9 [00:09<00:00,  1.09s/it]\n"
          ]
        },
        {
          "name": "stdout",
          "output_type": "stream",
          "text": [
            "[073/800] Train Acc: 0.817081 Loss: 335.010984 | Val Acc: 0.791084 loss: 411.056203\n",
            "saving model with acc 0.791084\n"
          ]
        },
        {
          "name": "stderr",
          "output_type": "stream",
          "text": [
            "100%|██████████| 81/81 [02:41<00:00,  2.00s/it]\n",
            "100%|██████████| 9/9 [00:09<00:00,  1.08s/it]\n"
          ]
        },
        {
          "name": "stdout",
          "output_type": "stream",
          "text": [
            "[074/800] Train Acc: 0.819283 Loss: 330.880284 | Val Acc: 0.792327 loss: 404.257806\n",
            "saving model with acc 0.792327\n"
          ]
        },
        {
          "name": "stderr",
          "output_type": "stream",
          "text": [
            "100%|██████████| 81/81 [02:42<00:00,  2.01s/it]\n",
            "100%|██████████| 9/9 [00:09<00:00,  1.08s/it]\n"
          ]
        },
        {
          "name": "stdout",
          "output_type": "stream",
          "text": [
            "[075/800] Train Acc: 0.822044 Loss: 323.397048 | Val Acc: 0.793707 loss: 403.608148\n",
            "saving model with acc 0.793707\n"
          ]
        },
        {
          "name": "stderr",
          "output_type": "stream",
          "text": [
            "100%|██████████| 81/81 [02:41<00:00,  1.99s/it]\n",
            "100%|██████████| 9/9 [00:09<00:00,  1.09s/it]\n"
          ]
        },
        {
          "name": "stdout",
          "output_type": "stream",
          "text": [
            "[076/800] Train Acc: 0.823627 Loss: 319.468716 | Val Acc: 0.793699 loss: 401.359731\n"
          ]
        },
        {
          "name": "stderr",
          "output_type": "stream",
          "text": [
            "100%|██████████| 81/81 [02:41<00:00,  2.00s/it]\n",
            "100%|██████████| 9/9 [00:09<00:00,  1.10s/it]\n"
          ]
        },
        {
          "name": "stdout",
          "output_type": "stream",
          "text": [
            "[077/800] Train Acc: 0.825560 Loss: 314.585120 | Val Acc: 0.795018 loss: 399.062724\n",
            "saving model with acc 0.795018\n"
          ]
        },
        {
          "name": "stderr",
          "output_type": "stream",
          "text": [
            "100%|██████████| 81/81 [02:42<00:00,  2.01s/it]\n",
            "100%|██████████| 9/9 [00:09<00:00,  1.09s/it]\n"
          ]
        },
        {
          "name": "stdout",
          "output_type": "stream",
          "text": [
            "[078/800] Train Acc: 0.827193 Loss: 308.818979 | Val Acc: 0.794965 loss: 396.231489\n"
          ]
        },
        {
          "name": "stderr",
          "output_type": "stream",
          "text": [
            "100%|██████████| 81/81 [02:42<00:00,  2.00s/it]\n",
            "100%|██████████| 9/9 [00:09<00:00,  1.10s/it]\n"
          ]
        },
        {
          "name": "stdout",
          "output_type": "stream",
          "text": [
            "[079/800] Train Acc: 0.830134 Loss: 304.494057 | Val Acc: 0.796020 loss: 394.647169\n",
            "saving model with acc 0.796020\n"
          ]
        },
        {
          "name": "stderr",
          "output_type": "stream",
          "text": [
            "100%|██████████| 81/81 [02:42<00:00,  2.00s/it]\n",
            "100%|██████████| 9/9 [00:09<00:00,  1.09s/it]\n"
          ]
        },
        {
          "name": "stdout",
          "output_type": "stream",
          "text": [
            "[080/800] Train Acc: 0.831082 Loss: 299.549772 | Val Acc: 0.796783 loss: 390.567481\n",
            "saving model with acc 0.796783\n"
          ]
        },
        {
          "name": "stderr",
          "output_type": "stream",
          "text": [
            "100%|██████████| 81/81 [02:41<00:00,  1.99s/it]\n",
            "100%|██████████| 9/9 [00:09<00:00,  1.09s/it]\n"
          ]
        },
        {
          "name": "stdout",
          "output_type": "stream",
          "text": [
            "[081/800] Train Acc: 0.833054 Loss: 295.753140 | Val Acc: 0.798110 loss: 388.801568\n",
            "saving model with acc 0.798110\n"
          ]
        },
        {
          "name": "stderr",
          "output_type": "stream",
          "text": [
            "100%|██████████| 81/81 [02:42<00:00,  2.01s/it]\n",
            "100%|██████████| 9/9 [00:09<00:00,  1.09s/it]\n"
          ]
        },
        {
          "name": "stdout",
          "output_type": "stream",
          "text": [
            "[082/800] Train Acc: 0.833931 Loss: 291.358831 | Val Acc: 0.797263 loss: 388.632005\n"
          ]
        },
        {
          "name": "stderr",
          "output_type": "stream",
          "text": [
            "100%|██████████| 81/81 [02:42<00:00,  2.00s/it]\n",
            "100%|██████████| 9/9 [00:09<00:00,  1.09s/it]\n"
          ]
        },
        {
          "name": "stdout",
          "output_type": "stream",
          "text": [
            "[083/800] Train Acc: 0.836739 Loss: 286.633927 | Val Acc: 0.799252 loss: 387.051978\n",
            "saving model with acc 0.799252\n"
          ]
        },
        {
          "name": "stderr",
          "output_type": "stream",
          "text": [
            "100%|██████████| 81/81 [02:41<00:00,  2.00s/it]\n",
            "100%|██████████| 9/9 [00:09<00:00,  1.09s/it]\n"
          ]
        },
        {
          "name": "stdout",
          "output_type": "stream",
          "text": [
            "[084/800] Train Acc: 0.838120 Loss: 282.327217 | Val Acc: 0.799456 loss: 384.016066\n",
            "saving model with acc 0.799456\n"
          ]
        },
        {
          "name": "stderr",
          "output_type": "stream",
          "text": [
            "100%|██████████| 81/81 [02:42<00:00,  2.01s/it]\n",
            "100%|██████████| 9/9 [00:09<00:00,  1.08s/it]\n"
          ]
        },
        {
          "name": "stdout",
          "output_type": "stream",
          "text": [
            "[085/800] Train Acc: 0.839625 Loss: 278.917245 | Val Acc: 0.799902 loss: 384.495304\n",
            "saving model with acc 0.799902\n"
          ]
        },
        {
          "name": "stderr",
          "output_type": "stream",
          "text": [
            "100%|██████████| 81/81 [02:41<00:00,  2.00s/it]\n",
            "100%|██████████| 9/9 [00:09<00:00,  1.08s/it]\n"
          ]
        },
        {
          "name": "stdout",
          "output_type": "stream",
          "text": [
            "[086/800] Train Acc: 0.841472 Loss: 274.044006 | Val Acc: 0.800756 loss: 381.358212\n",
            "saving model with acc 0.800756\n"
          ]
        },
        {
          "name": "stderr",
          "output_type": "stream",
          "text": [
            "100%|██████████| 81/81 [02:42<00:00,  2.00s/it]\n",
            "100%|██████████| 9/9 [00:10<00:00,  1.11s/it]\n"
          ]
        },
        {
          "name": "stdout",
          "output_type": "stream",
          "text": [
            "[087/800] Train Acc: 0.842744 Loss: 271.722205 | Val Acc: 0.799887 loss: 383.766022\n"
          ]
        },
        {
          "name": "stderr",
          "output_type": "stream",
          "text": [
            "100%|██████████| 81/81 [02:41<00:00,  2.00s/it]\n",
            "100%|██████████| 9/9 [00:09<00:00,  1.08s/it]\n"
          ]
        },
        {
          "name": "stdout",
          "output_type": "stream",
          "text": [
            "[088/800] Train Acc: 0.844108 Loss: 267.983729 | Val Acc: 0.800794 loss: 380.900435\n",
            "saving model with acc 0.800794\n"
          ]
        },
        {
          "name": "stderr",
          "output_type": "stream",
          "text": [
            "100%|██████████| 81/81 [02:41<00:00,  1.99s/it]\n",
            "100%|██████████| 9/9 [00:09<00:00,  1.09s/it]\n"
          ]
        },
        {
          "name": "stdout",
          "output_type": "stream",
          "text": [
            "[089/800] Train Acc: 0.844893 Loss: 264.763626 | Val Acc: 0.799705 loss: 379.555155\n"
          ]
        },
        {
          "name": "stderr",
          "output_type": "stream",
          "text": [
            "100%|██████████| 81/81 [02:41<00:00,  2.00s/it]\n",
            "100%|██████████| 9/9 [00:09<00:00,  1.08s/it]\n"
          ]
        },
        {
          "name": "stdout",
          "output_type": "stream",
          "text": [
            "[090/800] Train Acc: 0.847470 Loss: 259.945898 | Val Acc: 0.800850 loss: 380.155857\n",
            "saving model with acc 0.800850\n"
          ]
        },
        {
          "name": "stderr",
          "output_type": "stream",
          "text": [
            "100%|██████████| 81/81 [02:42<00:00,  2.00s/it]\n",
            "100%|██████████| 9/9 [00:09<00:00,  1.10s/it]\n"
          ]
        },
        {
          "name": "stdout",
          "output_type": "stream",
          "text": [
            "[091/800] Train Acc: 0.848356 Loss: 257.486005 | Val Acc: 0.800862 loss: 377.622230\n",
            "saving model with acc 0.800862\n"
          ]
        },
        {
          "name": "stderr",
          "output_type": "stream",
          "text": [
            "100%|██████████| 81/81 [02:41<00:00,  1.99s/it]\n",
            "100%|██████████| 9/9 [00:09<00:00,  1.09s/it]\n"
          ]
        },
        {
          "name": "stdout",
          "output_type": "stream",
          "text": [
            "[092/800] Train Acc: 0.849366 Loss: 255.125092 | Val Acc: 0.800510 loss: 379.055874\n"
          ]
        },
        {
          "name": "stderr",
          "output_type": "stream",
          "text": [
            "100%|██████████| 81/81 [02:41<00:00,  1.99s/it]\n",
            "100%|██████████| 9/9 [00:09<00:00,  1.08s/it]\n"
          ]
        },
        {
          "name": "stdout",
          "output_type": "stream",
          "text": [
            "[093/800] Train Acc: 0.851512 Loss: 251.701947 | Val Acc: 0.801372 loss: 378.018639\n",
            "saving model with acc 0.801372\n"
          ]
        },
        {
          "name": "stderr",
          "output_type": "stream",
          "text": [
            "100%|██████████| 81/81 [02:41<00:00,  1.99s/it]\n",
            "100%|██████████| 9/9 [00:09<00:00,  1.09s/it]\n"
          ]
        },
        {
          "name": "stdout",
          "output_type": "stream",
          "text": [
            "[094/800] Train Acc: 0.852543 Loss: 247.910564 | Val Acc: 0.801149 loss: 376.406806\n"
          ]
        },
        {
          "name": "stderr",
          "output_type": "stream",
          "text": [
            "100%|██████████| 81/81 [02:41<00:00,  2.00s/it]\n",
            "100%|██████████| 9/9 [00:09<00:00,  1.08s/it]\n"
          ]
        },
        {
          "name": "stdout",
          "output_type": "stream",
          "text": [
            "[095/800] Train Acc: 0.852561 Loss: 246.298632 | Val Acc: 0.802941 loss: 377.360006\n",
            "saving model with acc 0.802941\n"
          ]
        },
        {
          "name": "stderr",
          "output_type": "stream",
          "text": [
            "100%|██████████| 81/81 [02:42<00:00,  2.01s/it]\n",
            "100%|██████████| 9/9 [00:09<00:00,  1.10s/it]\n"
          ]
        },
        {
          "name": "stdout",
          "output_type": "stream",
          "text": [
            "[096/800] Train Acc: 0.853917 Loss: 243.310902 | Val Acc: 0.803844 loss: 376.183221\n",
            "saving model with acc 0.803844\n"
          ]
        },
        {
          "name": "stderr",
          "output_type": "stream",
          "text": [
            "100%|██████████| 81/81 [02:42<00:00,  2.01s/it]\n",
            "100%|██████████| 9/9 [00:09<00:00,  1.09s/it]\n"
          ]
        },
        {
          "name": "stdout",
          "output_type": "stream",
          "text": [
            "[097/800] Train Acc: 0.855213 Loss: 240.071908 | Val Acc: 0.802869 loss: 377.546265\n"
          ]
        },
        {
          "name": "stderr",
          "output_type": "stream",
          "text": [
            "100%|██████████| 81/81 [02:42<00:00,  2.01s/it]\n",
            "100%|██████████| 9/9 [00:09<00:00,  1.09s/it]\n"
          ]
        },
        {
          "name": "stdout",
          "output_type": "stream",
          "text": [
            "[098/800] Train Acc: 0.856622 Loss: 239.153417 | Val Acc: 0.804131 loss: 375.268633\n",
            "saving model with acc 0.804131\n"
          ]
        },
        {
          "name": "stderr",
          "output_type": "stream",
          "text": [
            "100%|██████████| 81/81 [02:42<00:00,  2.00s/it]\n",
            "100%|██████████| 9/9 [00:09<00:00,  1.09s/it]\n"
          ]
        },
        {
          "name": "stdout",
          "output_type": "stream",
          "text": [
            "[099/800] Train Acc: 0.857587 Loss: 236.203431 | Val Acc: 0.804135 loss: 375.814731\n",
            "saving model with acc 0.804135\n"
          ]
        },
        {
          "name": "stderr",
          "output_type": "stream",
          "text": [
            "100%|██████████| 81/81 [02:41<00:00,  1.99s/it]\n",
            "100%|██████████| 9/9 [00:09<00:00,  1.09s/it]\n"
          ]
        },
        {
          "name": "stdout",
          "output_type": "stream",
          "text": [
            "[100/800] Train Acc: 0.857894 Loss: 234.795893 | Val Acc: 0.803708 loss: 375.254269\n"
          ]
        },
        {
          "name": "stderr",
          "output_type": "stream",
          "text": [
            "100%|██████████| 81/81 [02:42<00:00,  2.00s/it]\n",
            "100%|██████████| 9/9 [00:09<00:00,  1.11s/it]\n"
          ]
        },
        {
          "name": "stdout",
          "output_type": "stream",
          "text": [
            "[101/800] Train Acc: 0.859348 Loss: 233.320248 | Val Acc: 0.804505 loss: 373.113478\n",
            "saving model with acc 0.804505\n"
          ]
        },
        {
          "name": "stderr",
          "output_type": "stream",
          "text": [
            "100%|██████████| 81/81 [02:41<00:00,  1.99s/it]\n",
            "100%|██████████| 9/9 [00:09<00:00,  1.09s/it]\n"
          ]
        },
        {
          "name": "stdout",
          "output_type": "stream",
          "text": [
            "[102/800] Train Acc: 0.859664 Loss: 230.860291 | Val Acc: 0.804653 loss: 371.773115\n",
            "saving model with acc 0.804653\n"
          ]
        },
        {
          "name": "stderr",
          "output_type": "stream",
          "text": [
            "100%|██████████| 81/81 [02:42<00:00,  2.01s/it]\n",
            "100%|██████████| 9/9 [00:09<00:00,  1.10s/it]\n"
          ]
        },
        {
          "name": "stdout",
          "output_type": "stream",
          "text": [
            "[103/800] Train Acc: 0.860363 Loss: 229.435802 | Val Acc: 0.805269 loss: 371.455468\n",
            "saving model with acc 0.805269\n"
          ]
        },
        {
          "name": "stderr",
          "output_type": "stream",
          "text": [
            "100%|██████████| 81/81 [02:41<00:00,  2.00s/it]\n",
            "100%|██████████| 9/9 [00:09<00:00,  1.09s/it]\n"
          ]
        },
        {
          "name": "stdout",
          "output_type": "stream",
          "text": [
            "[104/800] Train Acc: 0.861342 Loss: 227.274130 | Val Acc: 0.803787 loss: 374.639798\n"
          ]
        },
        {
          "name": "stderr",
          "output_type": "stream",
          "text": [
            "100%|██████████| 81/81 [02:42<00:00,  2.00s/it]\n",
            "100%|██████████| 9/9 [00:09<00:00,  1.08s/it]\n"
          ]
        },
        {
          "name": "stdout",
          "output_type": "stream",
          "text": [
            "[105/800] Train Acc: 0.861506 Loss: 226.424197 | Val Acc: 0.805658 loss: 371.529477\n",
            "saving model with acc 0.805658\n"
          ]
        },
        {
          "name": "stderr",
          "output_type": "stream",
          "text": [
            "100%|██████████| 81/81 [02:42<00:00,  2.01s/it]\n",
            "100%|██████████| 9/9 [00:09<00:00,  1.09s/it]\n"
          ]
        },
        {
          "name": "stdout",
          "output_type": "stream",
          "text": [
            "[106/800] Train Acc: 0.862161 Loss: 225.243569 | Val Acc: 0.804615 loss: 373.165748\n"
          ]
        },
        {
          "name": "stderr",
          "output_type": "stream",
          "text": [
            "100%|██████████| 81/81 [02:41<00:00,  1.99s/it]\n",
            "100%|██████████| 9/9 [00:09<00:00,  1.10s/it]\n"
          ]
        },
        {
          "name": "stdout",
          "output_type": "stream",
          "text": [
            "[107/800] Train Acc: 0.863183 Loss: 223.391546 | Val Acc: 0.804849 loss: 372.686286\n"
          ]
        },
        {
          "name": "stderr",
          "output_type": "stream",
          "text": [
            "100%|██████████| 81/81 [02:42<00:00,  2.00s/it]\n",
            "100%|██████████| 9/9 [00:09<00:00,  1.09s/it]\n"
          ]
        },
        {
          "name": "stdout",
          "output_type": "stream",
          "text": [
            "[108/800] Train Acc: 0.863680 Loss: 223.094873 | Val Acc: 0.804589 loss: 371.681115\n"
          ]
        },
        {
          "name": "stderr",
          "output_type": "stream",
          "text": [
            "100%|██████████| 81/81 [02:41<00:00,  2.00s/it]\n",
            "100%|██████████| 9/9 [00:09<00:00,  1.09s/it]\n"
          ]
        },
        {
          "name": "stdout",
          "output_type": "stream",
          "text": [
            "[109/800] Train Acc: 0.863905 Loss: 221.178801 | Val Acc: 0.805760 loss: 370.000295\n",
            "saving model with acc 0.805760\n"
          ]
        },
        {
          "name": "stderr",
          "output_type": "stream",
          "text": [
            "100%|██████████| 81/81 [02:41<00:00,  2.00s/it]\n",
            "100%|██████████| 9/9 [00:09<00:00,  1.09s/it]\n"
          ]
        },
        {
          "name": "stdout",
          "output_type": "stream",
          "text": [
            "[110/800] Train Acc: 0.864582 Loss: 221.571527 | Val Acc: 0.805866 loss: 369.904331\n",
            "saving model with acc 0.805866\n"
          ]
        },
        {
          "name": "stderr",
          "output_type": "stream",
          "text": [
            "100%|██████████| 81/81 [02:42<00:00,  2.01s/it]\n",
            "100%|██████████| 9/9 [00:09<00:00,  1.09s/it]\n"
          ]
        },
        {
          "name": "stdout",
          "output_type": "stream",
          "text": [
            "[111/800] Train Acc: 0.865000 Loss: 219.684689 | Val Acc: 0.806221 loss: 369.875102\n",
            "saving model with acc 0.806221\n"
          ]
        },
        {
          "name": "stderr",
          "output_type": "stream",
          "text": [
            "100%|██████████| 81/81 [02:42<00:00,  2.01s/it]\n",
            "100%|██████████| 9/9 [00:09<00:00,  1.10s/it]\n"
          ]
        },
        {
          "name": "stdout",
          "output_type": "stream",
          "text": [
            "[112/800] Train Acc: 0.865525 Loss: 218.990183 | Val Acc: 0.805896 loss: 368.973406\n"
          ]
        },
        {
          "name": "stderr",
          "output_type": "stream",
          "text": [
            "100%|██████████| 81/81 [02:42<00:00,  2.01s/it]\n",
            "100%|██████████| 9/9 [00:09<00:00,  1.10s/it]\n"
          ]
        },
        {
          "name": "stdout",
          "output_type": "stream",
          "text": [
            "[113/800] Train Acc: 0.865482 Loss: 218.403873 | Val Acc: 0.805866 loss: 369.923737\n"
          ]
        },
        {
          "name": "stderr",
          "output_type": "stream",
          "text": [
            "100%|██████████| 81/81 [02:42<00:00,  2.01s/it]\n",
            "100%|██████████| 9/9 [00:09<00:00,  1.10s/it]\n"
          ]
        },
        {
          "name": "stdout",
          "output_type": "stream",
          "text": [
            "[114/800] Train Acc: 0.865808 Loss: 217.827717 | Val Acc: 0.806036 loss: 369.462769\n"
          ]
        },
        {
          "name": "stderr",
          "output_type": "stream",
          "text": [
            "100%|██████████| 81/81 [02:43<00:00,  2.01s/it]\n",
            "100%|██████████| 9/9 [00:09<00:00,  1.09s/it]\n"
          ]
        },
        {
          "name": "stdout",
          "output_type": "stream",
          "text": [
            "[115/800] Train Acc: 0.866519 Loss: 217.590380 | Val Acc: 0.806407 loss: 369.258891\n",
            "saving model with acc 0.806407\n"
          ]
        },
        {
          "name": "stderr",
          "output_type": "stream",
          "text": [
            "100%|██████████| 81/81 [02:42<00:00,  2.01s/it]\n",
            "100%|██████████| 9/9 [00:09<00:00,  1.09s/it]\n"
          ]
        },
        {
          "name": "stdout",
          "output_type": "stream",
          "text": [
            "[116/800] Train Acc: 0.866509 Loss: 216.906280 | Val Acc: 0.806138 loss: 370.013665\n"
          ]
        },
        {
          "name": "stderr",
          "output_type": "stream",
          "text": [
            "100%|██████████| 81/81 [02:42<00:00,  2.01s/it]\n",
            "100%|██████████| 9/9 [00:09<00:00,  1.09s/it]\n"
          ]
        },
        {
          "name": "stdout",
          "output_type": "stream",
          "text": [
            "[117/800] Train Acc: 0.866740 Loss: 215.656762 | Val Acc: 0.806021 loss: 369.590942\n"
          ]
        },
        {
          "name": "stderr",
          "output_type": "stream",
          "text": [
            "100%|██████████| 81/81 [02:41<00:00,  2.00s/it]\n",
            "100%|██████████| 9/9 [00:09<00:00,  1.10s/it]\n"
          ]
        },
        {
          "name": "stdout",
          "output_type": "stream",
          "text": [
            "[118/800] Train Acc: 0.867116 Loss: 215.697664 | Val Acc: 0.806093 loss: 369.233504\n"
          ]
        },
        {
          "name": "stderr",
          "output_type": "stream",
          "text": [
            "100%|██████████| 81/81 [02:42<00:00,  2.00s/it]\n",
            "100%|██████████| 9/9 [00:09<00:00,  1.09s/it]\n"
          ]
        },
        {
          "name": "stdout",
          "output_type": "stream",
          "text": [
            "[119/800] Train Acc: 0.867327 Loss: 215.554265 | Val Acc: 0.805998 loss: 369.692298\n"
          ]
        },
        {
          "name": "stderr",
          "output_type": "stream",
          "text": [
            "100%|██████████| 81/81 [02:42<00:00,  2.00s/it]\n",
            "100%|██████████| 9/9 [00:09<00:00,  1.09s/it]\n"
          ]
        },
        {
          "name": "stdout",
          "output_type": "stream",
          "text": [
            "[120/800] Train Acc: 0.867268 Loss: 214.983951 | Val Acc: 0.806221 loss: 369.296119\n"
          ]
        },
        {
          "name": "stderr",
          "output_type": "stream",
          "text": [
            "100%|██████████| 81/81 [02:42<00:00,  2.00s/it]\n",
            "100%|██████████| 9/9 [00:09<00:00,  1.09s/it]\n"
          ]
        },
        {
          "name": "stdout",
          "output_type": "stream",
          "text": [
            "[121/800] Train Acc: 0.867003 Loss: 214.765331 | Val Acc: 0.806176 loss: 369.576992\n"
          ]
        },
        {
          "name": "stderr",
          "output_type": "stream",
          "text": [
            "100%|██████████| 81/81 [02:42<00:00,  2.01s/it]\n",
            "100%|██████████| 9/9 [00:09<00:00,  1.09s/it]\n"
          ]
        },
        {
          "name": "stdout",
          "output_type": "stream",
          "text": [
            "[122/800] Train Acc: 0.867246 Loss: 215.324225 | Val Acc: 0.806082 loss: 369.606798\n"
          ]
        },
        {
          "name": "stderr",
          "output_type": "stream",
          "text": [
            "100%|██████████| 81/81 [02:42<00:00,  2.00s/it]\n",
            "100%|██████████| 9/9 [00:09<00:00,  1.10s/it]"
          ]
        },
        {
          "name": "stdout",
          "output_type": "stream",
          "text": [
            "[123/800] Train Acc: 0.867624 Loss: 215.585725 | Val Acc: 0.806040 loss: 369.509118\n",
            "\n",
            "Model is not improving, so we halt the training session.\n",
            "So far best_acc=0.8064066220659939.\n"
          ]
        },
        {
          "name": "stderr",
          "output_type": "stream",
          "text": [
            "\n"
          ]
        }
      ],
      "source": [
        "best_acc = 0.0\n",
        "early_stop_count = 0\n",
        "for epoch in range(num_epoch):\n",
        "    train_acc = 0.0\n",
        "    # train_mid_acc = 0.0\n",
        "    train_all = 0.0\n",
        "    train_loss = 0.0\n",
        "    val_acc = 0.0\n",
        "    # val_mid_acc = 0.0\n",
        "    val_all = 0.0\n",
        "    val_loss = 0.0\n",
        "    \n",
        "    # training\n",
        "    model.train() # set the model to training mode\n",
        "    for i, batch in enumerate(tqdm(train_loader)):\n",
        "        features, labels, masks = batch\n",
        "        features = features.to(device)\n",
        "        labels = labels.to(device)\n",
        "        masks = masks.to(device)\n",
        "        \n",
        "        optimizer.zero_grad() \n",
        "        # outputs = model(features) \n",
        "        _, outputs = model(features, masks)\n",
        "        outputs = [ torch.Tensor(x) for x in outputs ]\n",
        "        outputs = pad_sequence(outputs, batch_first=True)\n",
        "        \n",
        "        # loss = criterion(outputs, labels) \n",
        "        # loss = criterion(outputs.transpose(1,-1), labels)\n",
        "        # loss = model.neg_log_likelihood(features, labels)\n",
        "        loss = model.loss(features, labels, masks)\n",
        "        loss.backward() \n",
        "        optimizer.step() \n",
        "        \n",
        "        # _, train_pred = torch.max(outputs, 1) # get the index of the class with the highest probability\n",
        "        # _, train_pred = torch.max(outputs, -1)\n",
        "        train_pred = torch.Tensor(outputs).to(device)\n",
        "        train_acc += ((train_pred.detach() == labels.detach()) * masks.detach()).sum().item()\n",
        "        train_all += masks.detach().sum().item()\n",
        "        # train_mid_acc += (train_pred[:, train_pred.shape[1] // 2].detach() == labels[:, labels.shape[1] // 2]).sum().item()\n",
        "        train_loss += loss.item()\n",
        "    \n",
        "    scheduler.step() # Update the learning rate scheduler\n",
        "    \n",
        "    # validation\n",
        "    if len(val_set) > 0:\n",
        "        model.eval() # set the model to evaluation mode\n",
        "        with torch.no_grad():\n",
        "            for i, batch in enumerate(tqdm(val_loader)):\n",
        "                features, labels, masks = batch\n",
        "                features = features.to(device)\n",
        "                labels = labels.to(device)\n",
        "                masks = masks.to(device)\n",
        "                # outputs = model(features)\n",
        "                _, outputs = model(features, masks)\n",
        "                outputs = [ torch.Tensor(x) for x in outputs ]\n",
        "                outputs = pad_sequence(outputs, batch_first=True)\n",
        "                \n",
        "                # loss = criterion(outputs, labels) \n",
        "                # loss = criterion(outputs.transpose(1,-1), labels)\n",
        "                # _, val_pred = torch.max(outputs, 1) \n",
        "                # loss = model.neg_log_likelihood(features, labels)\n",
        "                loss = model.loss(features, labels, masks)\n",
        "                # _, val_pred = torch.max(outputs, -1) # get the index of the class with the highest probability\n",
        "                val_pred = torch.Tensor(outputs).to(device)\n",
        "                val_acc += ((val_pred.cpu() == labels.cpu()) * masks.cpu()).sum().item()\n",
        "                val_all += masks.cpu().sum().item()\n",
        "                # val_mid_acc += (val_pred[:, val_pred.shape[1] // 2].detach() == labels[:, labels.shape[1] // 2]).sum().item()\n",
        "                val_loss += loss.item()\n",
        "\n",
        "            # print('[{:03d}/{:03d}] Train Acc: {:3.6f} Loss: {:3.6f} | Val Acc: {:3.6f} loss: {:3.6f}'.format(\n",
        "            #     epoch + 1, num_epoch, train_acc/len(train_set), train_loss/len(train_loader), val_acc/len(val_set), val_loss/len(val_loader)\n",
        "            # ))\n",
        "            \n",
        "            # print('[{:03d}/{:03d}] Train Acc: {:3.6f} Mid Acc: {:3.6f} Loss: {:3.6f} | Val Acc: {:3.6f} Mid Acc: {:3.6f} Loss: {:3.6f}'.format(\n",
        "            #     epoch + 1, num_epoch, train_acc/(len(train_set) * concat_nframes), train_mid_acc/len(train_set), train_loss/len(train_loader), \n",
        "            #     val_acc/(len(val_set) * concat_nframes), val_mid_acc/len(val_set), val_loss/len(val_loader)\n",
        "            # ))\n",
        "            \n",
        "            print('[{:03d}/{:03d}] Train Acc: {:3.6f} Loss: {:3.6f} | Val Acc: {:3.6f} loss: {:3.6f}'.format(\n",
        "                epoch + 1, num_epoch, train_acc/train_all, train_loss/len(train_loader), val_acc/val_all, val_loss/len(val_loader)\n",
        "            ))\n",
        "\n",
        "            # if the model improves, save a checkpoint at this epoch\n",
        "            if val_acc / val_all > best_acc:\n",
        "                best_acc = val_acc / val_all\n",
        "                torch.save(model.state_dict(), model_path)\n",
        "                print('saving model with acc {:3.6f}'.format(best_acc))\n",
        "                early_stop_count = 0\n",
        "            else:\n",
        "                early_stop_count += 1\n",
        "    else:\n",
        "        # print('[{:03d}/{:03d}] Train Acc: {:3.6f} Mid Acc: {:3.6f} Loss: {:3.6f}'.format(\n",
        "        #     epoch + 1, num_epoch, train_acc/(len(train_set) * concat_nframes), \n",
        "        #     train_mid_acc/len(train_set), train_loss/len(train_loader)\n",
        "        # ))\n",
        "        print('[{:03d}/{:03d}] Train Acc: {:3.6f} Loss: {:3.6f}'.format(\n",
        "            epoch + 1, num_epoch, train_acc/train_all, train_loss/len(train_loader)\n",
        "        ))\n",
        "        \n",
        "    if early_stop_count >= early_stop:\n",
        "        print(f'\\nModel is not improving, so we halt the training session.\\nSo far best_acc={best_acc}.')\n",
        "        break\n",
        "\n",
        "# if not validating, save the last epoch\n",
        "if len(val_set) == 0:\n",
        "    torch.save(model.state_dict(), model_path)\n",
        "    print('saving model at last epoch')\n"
      ]
    },
    {
      "cell_type": "code",
      "execution_count": 12,
      "metadata": {
        "colab": {
          "base_uri": "https://localhost:8080/"
        },
        "id": "ab33MxosWLmG",
        "outputId": "911e8c9b-fc0f-4591-b0f6-311a1231c5e2"
      },
      "outputs": [
        {
          "data": {
            "text/plain": [
              "18"
            ]
          },
          "execution_count": 12,
          "metadata": {},
          "output_type": "execute_result"
        }
      ],
      "source": [
        "del train_loader, val_loader\n",
        "gc.collect()"
      ]
    },
    {
      "cell_type": "markdown",
      "metadata": {
        "id": "1Hi7jTn3PX-m"
      },
      "source": [
        "## Testing\n",
        "Create a testing dataset, and load model from the saved checkpoint."
      ]
    },
    {
      "cell_type": "code",
      "execution_count": 13,
      "metadata": {
        "colab": {
          "base_uri": "https://localhost:8080/"
        },
        "id": "VOG1Ou0PGrhc",
        "outputId": "abaaa25b-a93c-49b0-d228-9eca1e2ab2e0"
      },
      "outputs": [
        {
          "name": "stdout",
          "output_type": "stream",
          "text": [
            "[Dataset] - # phone classes: 41, number of utterances for test: 1078\n"
          ]
        },
        {
          "name": "stderr",
          "output_type": "stream",
          "text": [
            "1078it [00:00, 3132.35it/s]\n"
          ]
        }
      ],
      "source": [
        "# load data\n",
        "# test_X = preprocess_data(split='test', feat_dir='./libriphone/feat', phone_path='./libriphone', concat_nframes=concat_nframes, for_rnn=True)\n",
        "test_X = preprocess_data(split='test', feat_dir='./libriphone/feat', phone_path='./libriphone')\n",
        "\n",
        "test_set = LibriDataset(test_X, None)\n",
        "test_loader = DataLoader(test_set, batch_size=batch_size, shuffle=False, collate_fn=test_pad_collate_fn)"
      ]
    },
    {
      "cell_type": "code",
      "execution_count": 14,
      "metadata": {
        "colab": {
          "base_uri": "https://localhost:8080/"
        },
        "id": "ay0Fu8Ovkdad",
        "outputId": "e5b20aa7-4d8b-43a9-e068-f5c89706a360"
      },
      "outputs": [
        {
          "data": {
            "text/plain": [
              "<All keys matched successfully>"
            ]
          },
          "execution_count": 14,
          "metadata": {},
          "output_type": "execute_result"
        }
      ],
      "source": [
        "# load model\n",
        "# model = Classifier(input_dim=input_dim, hidden_layers=hidden_layers, hidden_dim=hidden_dim).to(device)\n",
        "# model = RNNClassifier(input_dim=input_dim//concat_nframes, hidden_layers=hidden_layers, hidden_dim=hidden_dim).to(device)\n",
        "model = BiLSTMCRF(input_dim=input_dim//concat_nframes, hidden_layers=hidden_layers, hidden_dim=hidden_dim, drop_rate=drop_rate, device=device)\n",
        "model.load_state_dict(torch.load(model_path))"
      ]
    },
    {
      "cell_type": "markdown",
      "metadata": {
        "id": "zp-DV1p4r7Nz"
      },
      "source": [
        "Make prediction."
      ]
    },
    {
      "cell_type": "code",
      "execution_count": 15,
      "metadata": {
        "colab": {
          "base_uri": "https://localhost:8080/"
        },
        "id": "84HU5GGjPqR0",
        "outputId": "cebd6694-8f74-44ff-f922-96ca4385acb8"
      },
      "outputs": [
        {
          "name": "stderr",
          "output_type": "stream",
          "text": [
            "100%|██████████| 23/23 [00:12<00:00,  1.91it/s]\n"
          ]
        }
      ],
      "source": [
        "test_acc = 0.0\n",
        "test_lengths = 0\n",
        "pred = np.array([], dtype=np.int32)\n",
        "\n",
        "model.eval()\n",
        "with torch.no_grad():\n",
        "    for i, batch in enumerate(tqdm(test_loader)):\n",
        "        features, masks = batch\n",
        "        features = features.to(device)\n",
        "        masks = masks.to(device)\n",
        "\n",
        "        _, outputs = model(features, masks)\n",
        "        # outputs = [ torch.Tensor(x) for x in outputs ]\n",
        "        # outputs = pad_sequence(outputs, batch_first=True)\n",
        "\n",
        "        # _, test_pred = torch.max(outputs, 1) # get the index of the class with the highest probability\n",
        "        # _, test_pred = torch.max(outputs, -1)\n",
        "        # test_pred = torch.Tensor(outputs).to(device)\n",
        "        # test_pred = test_pred[:, test_pred.shape[1] // 2]\n",
        "        test_pred = np.concatenate(outputs)\n",
        "        \n",
        "        pred = np.concatenate((pred, test_pred), axis=0).astype(np.int32)\n"
      ]
    },
    {
      "cell_type": "markdown",
      "metadata": {
        "id": "wyZqy40Prz0v"
      },
      "source": [
        "Write prediction to a CSV file.\n",
        "\n",
        "After finish running this block, download the file `prediction.csv` from the files section on the left-hand side and submit it to Kaggle."
      ]
    },
    {
      "cell_type": "code",
      "execution_count": 16,
      "metadata": {
        "id": "GuljYSPHcZir"
      },
      "outputs": [],
      "source": [
        "with open('prediction.csv', 'w') as f:\n",
        "    f.write('Id,Class\\n')\n",
        "    for i, y in enumerate(pred):\n",
        "        f.write('{},{}\\n'.format(i, y))"
      ]
    },
    {
      "cell_type": "code",
      "execution_count": null,
      "metadata": {},
      "outputs": [],
      "source": []
    }
  ],
  "metadata": {
    "accelerator": "GPU",
    "colab": {
      "collapsed_sections": [],
      "name": "ML2022Spring - HW2.ipynb",
      "provenance": []
    },
    "kernelspec": {
      "display_name": "machine-learning",
      "language": "python",
      "name": "python3"
    },
    "language_info": {
      "codemirror_mode": {
        "name": "ipython",
        "version": 3
      },
      "file_extension": ".py",
      "mimetype": "text/x-python",
      "name": "python",
      "nbconvert_exporter": "python",
      "pygments_lexer": "ipython3",
      "version": "3.10.5"
    },
    "vscode": {
      "interpreter": {
        "hash": "3b287b2638b28c143e8b740ddcb0a96b617189043e0330c7f965d24699a487e2"
      }
    }
  },
  "nbformat": 4,
  "nbformat_minor": 0
}
