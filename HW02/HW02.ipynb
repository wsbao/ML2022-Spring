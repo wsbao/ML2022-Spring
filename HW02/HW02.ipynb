{
  "cells": [
    {
      "cell_type": "markdown",
      "metadata": {
        "id": "OYlaRwNu7ojq"
      },
      "source": [
        "# **Homework 2 Phoneme Classification**\n",
        "\n",
        "* Slides: https://docs.google.com/presentation/d/1v6HkBWiJb8WNDcJ9_-2kwVstxUWml87b9CnA16Gdoio/edit?usp=sharing\n",
        "* Kaggle: https://www.kaggle.com/c/ml2022spring-hw2\n",
        "* Video: TBA\n"
      ]
    },
    {
      "cell_type": "code",
      "execution_count": 1,
      "metadata": {
        "colab": {
          "base_uri": "https://localhost:8080/"
        },
        "id": "mLQI0mNcmM-O",
        "outputId": "7d5b4d81-9438-4d50-8153-cd235c47ee21"
      },
      "outputs": [
        {
          "name": "stdout",
          "output_type": "stream",
          "text": [
            "Mon Mar  6 17:35:40 2023       \n",
            "+-----------------------------------------------------------------------------+\n",
            "| NVIDIA-SMI 528.49       Driver Version: 528.49       CUDA Version: 12.0     |\n",
            "|-------------------------------+----------------------+----------------------+\n",
            "| GPU  Name            TCC/WDDM | Bus-Id        Disp.A | Volatile Uncorr. ECC |\n",
            "| Fan  Temp  Perf  Pwr:Usage/Cap|         Memory-Usage | GPU-Util  Compute M. |\n",
            "|                               |                      |               MIG M. |\n",
            "|===============================+======================+======================|\n",
            "|   0  NVIDIA GeForce ... WDDM  | 00000000:01:00.0  On |                  N/A |\n",
            "| N/A   49C    P8    19W / 115W |    957MiB / 16384MiB |     13%      Default |\n",
            "|                               |                      |                  N/A |\n",
            "+-------------------------------+----------------------+----------------------+\n",
            "                                                                               \n",
            "+-----------------------------------------------------------------------------+\n",
            "| Processes:                                                                  |\n",
            "|  GPU   GI   CI        PID   Type   Process name                  GPU Memory |\n",
            "|        ID   ID                                                   Usage      |\n",
            "|=============================================================================|\n",
            "|    0   N/A  N/A      1368    C+G   ...zilla Firefox\\firefox.exe    N/A      |\n",
            "|    0   N/A  N/A      1692    C+G   ...zilla Firefox\\firefox.exe    N/A      |\n",
            "|    0   N/A  N/A      1876    C+G   ...e\\PhoneExperienceHost.exe    N/A      |\n",
            "|    0   N/A  N/A      6148    C+G   ...e6\\promecefpluginhost.exe    N/A      |\n",
            "|    0   N/A  N/A      8556    C+G   ...lPanel\\SystemSettings.exe    N/A      |\n",
            "|    0   N/A  N/A      8856    C+G   ...icrosoft VS Code\\Code.exe    N/A      |\n",
            "|    0   N/A  N/A      9092    C+G   ...perience\\NVIDIA Share.exe    N/A      |\n",
            "|    0   N/A  N/A     10232    C+G   ...2txyewy\\TextInputHost.exe    N/A      |\n",
            "|    0   N/A  N/A     10472    C+G   ...e6\\promecefpluginhost.exe    N/A      |\n",
            "|    0   N/A  N/A     15788    C+G   ...n1h2txyewy\\SearchHost.exe    N/A      |\n",
            "|    0   N/A  N/A     16444    C+G   ...cw5n1h2txyewy\\LockApp.exe    N/A      |\n",
            "|    0   N/A  N/A     18164    C+G   C:\\Windows\\explorer.exe         N/A      |\n",
            "|    0   N/A  N/A     20236    C+G   ...artMenuExperienceHost.exe    N/A      |\n",
            "|    0   N/A  N/A     24052    C+G   ...wekyb3d8bbwe\\Video.UI.exe    N/A      |\n",
            "+-----------------------------------------------------------------------------+\n"
          ]
        }
      ],
      "source": [
        "!nvidia-smi"
      ]
    },
    {
      "cell_type": "markdown",
      "metadata": {
        "id": "KVUGfWTo7_Oj"
      },
      "source": [
        "## Download Data\n",
        "Download data from google drive, then unzip it.\n",
        "\n",
        "You should have\n",
        "- `libriphone/train_split.txt`\n",
        "- `libriphone/train_labels`\n",
        "- `libriphone/test_split.txt`\n",
        "- `libriphone/feat/train/*.pt`: training feature<br>\n",
        "- `libriphone/feat/test/*.pt`:  testing feature<br>\n",
        "\n",
        "after running the following block.\n",
        "\n",
        "> **Notes: if the links are dead, you can download the data directly from [Kaggle](https://www.kaggle.com/c/ml2022spring-hw2/data) and upload it to the workspace, or you can use [the Kaggle API](https://www.kaggle.com/general/74235) to directly download the data into colab.**\n"
      ]
    },
    {
      "cell_type": "markdown",
      "metadata": {
        "id": "Bj5jYXsD9Ef3"
      },
      "source": [
        "### Download train/test metadata"
      ]
    },
    {
      "cell_type": "code",
      "execution_count": 2,
      "metadata": {
        "colab": {
          "base_uri": "https://localhost:8080/"
        },
        "id": "OzkiMEcC3Foq",
        "outputId": "cc90c16c-ee21-400e-ec08-dfcd422212a6"
      },
      "outputs": [],
      "source": [
        "# Main link\n",
        "# !wget -O libriphone.zip \"https://github.com/xraychen/shiny-robot/releases/download/v1.0/libriphone.zip\"\n",
        "\n",
        "# Backup Link 0\n",
        "# !pip install --upgrade gdown\n",
        "# !gdown --id '1o6Ag-G3qItSmYhTheX6DYiuyNzWyHyTc' --output libriphone.zip\n",
        "\n",
        "# Backup link 1\n",
        "# !pip install --upgrade gdown\n",
        "# !gdown --id '1R1uQYi4QpX0tBfUWt2mbZcncdBsJkxeW' --output libriphone.zip\n",
        "\n",
        "# Backup link 2\n",
        "# !wget -O libriphone.zip \"https://www.dropbox.com/s/wqww8c5dbrl2ka9/libriphone.zip?dl=1\"\n",
        "\n",
        "# Backup link 3\n",
        "# !wget -O libriphone.zip \"https://www.dropbox.com/s/p2ljbtb2bam13in/libriphone.zip?dl=1\"\n",
        "\n",
        "# !unzip -q libriphone.zip\n",
        "# !ls libriphone"
      ]
    },
    {
      "cell_type": "markdown",
      "metadata": {
        "id": "_L_4anls8Drv"
      },
      "source": [
        "### Preparing Data"
      ]
    },
    {
      "cell_type": "markdown",
      "metadata": {
        "id": "po4N3C-AWuWl"
      },
      "source": [
        "**Helper functions to pre-process the training data from raw MFCC features of each utterance.**\n",
        "\n",
        "A phoneme may span several frames and is dependent to past and future frames. \\\n",
        "Hence we concatenate neighboring phonemes for training to achieve higher accuracy. The **concat_feat** function concatenates past and future k frames (total 2k+1 = n frames), and we predict the center frame.\n",
        "\n",
        "Feel free to modify the data preprocess functions, but **do not drop any frame** (if you modify the functions, remember to check that the number of frames are the same as mentioned in the slides)"
      ]
    },
    {
      "cell_type": "code",
      "execution_count": 3,
      "metadata": {
        "id": "IJjLT8em-y9G"
      },
      "outputs": [],
      "source": [
        "import os\n",
        "import random\n",
        "import pandas as pd\n",
        "import torch\n",
        "from tqdm import tqdm\n",
        "\n",
        "def load_feat(path):\n",
        "    feat = torch.load(path)\n",
        "    return feat\n",
        "\n",
        "def shift(x, n):\n",
        "    if n < 0:\n",
        "        left = x[0].repeat(-n, 1)\n",
        "        right = x[:n]\n",
        "\n",
        "    elif n > 0:\n",
        "        right = x[-1].repeat(n, 1)\n",
        "        left = x[n:]\n",
        "    else:\n",
        "        return x\n",
        "\n",
        "    return torch.cat((left, right), dim=0)\n",
        "\n",
        "def concat_feat(x, concat_n):\n",
        "    assert concat_n % 2 == 1 # n must be odd\n",
        "    if concat_n < 2:\n",
        "        return x\n",
        "    seq_len, feature_dim = x.size(0), x.size(1)\n",
        "    x = x.repeat(1, concat_n) \n",
        "    x = x.view(seq_len, concat_n, feature_dim).permute(1, 0, 2) # concat_n, seq_len, feature_dim\n",
        "    mid = (concat_n // 2)\n",
        "    for r_idx in range(1, mid+1):\n",
        "        x[mid + r_idx, :] = shift(x[mid + r_idx], r_idx)\n",
        "        x[mid - r_idx, :] = shift(x[mid - r_idx], -r_idx)\n",
        "\n",
        "    return x.permute(1, 0, 2).view(seq_len, concat_n * feature_dim)\n",
        "\n",
        "def preprocess_data(split, feat_dir, phone_path, concat_nframes, train_ratio=0.8, train_val_seed=1337):\n",
        "    class_num = 41 # NOTE: pre-computed, should not need change\n",
        "    mode = 'train' if (split == 'train' or split == 'val') else 'test'\n",
        "\n",
        "    label_dict = {}\n",
        "    if mode != 'test':\n",
        "      phone_file = open(os.path.join(phone_path, f'{mode}_labels.txt')).readlines()\n",
        "\n",
        "      for line in phone_file:\n",
        "          line = line.strip('\\n').split(' ')\n",
        "          label_dict[line[0]] = [int(p) for p in line[1:]]\n",
        "\n",
        "    if split == 'train' or split == 'val':\n",
        "        # split training and validation data\n",
        "        usage_list = open(os.path.join(phone_path, 'train_split.txt')).readlines()\n",
        "        random.seed(train_val_seed)\n",
        "        random.shuffle(usage_list)\n",
        "        percent = int(len(usage_list) * train_ratio)\n",
        "        usage_list = usage_list[:percent] if split == 'train' else usage_list[percent:]\n",
        "    elif split == 'test':\n",
        "        usage_list = open(os.path.join(phone_path, 'test_split.txt')).readlines()\n",
        "    else:\n",
        "        raise ValueError('Invalid \\'split\\' argument for dataset: PhoneDataset!')\n",
        "\n",
        "    usage_list = [line.strip('\\n') for line in usage_list]\n",
        "    print('[Dataset] - # phone classes: ' + str(class_num) + ', number of utterances for ' + split + ': ' + str(len(usage_list)))\n",
        "\n",
        "    max_len = 3000000\n",
        "    X = torch.empty(max_len, 39 * concat_nframes)\n",
        "    if mode != 'test':\n",
        "      y = torch.empty(max_len, dtype=torch.long)\n",
        "\n",
        "    idx = 0\n",
        "    for i, fname in tqdm(enumerate(usage_list)):\n",
        "        feat = load_feat(os.path.join(feat_dir, mode, f'{fname}.pt'))\n",
        "        cur_len = len(feat)\n",
        "        feat = concat_feat(feat, concat_nframes)\n",
        "        if mode != 'test':\n",
        "          label = torch.LongTensor(label_dict[fname])\n",
        "\n",
        "        X[idx: idx + cur_len, :] = feat\n",
        "        if mode != 'test':\n",
        "          y[idx: idx + cur_len] = label\n",
        "\n",
        "        idx += cur_len\n",
        "\n",
        "    X = X[:idx, :]\n",
        "    if mode != 'test':\n",
        "      y = y[:idx]\n",
        "\n",
        "    print(f'[INFO] {split} set')\n",
        "    print(X.shape)\n",
        "    if mode != 'test':\n",
        "      print(y.shape)\n",
        "      return X, y\n",
        "    else:\n",
        "      return X\n"
      ]
    },
    {
      "cell_type": "markdown",
      "metadata": {
        "id": "us5XW_x6udZQ"
      },
      "source": [
        "## Define Dataset"
      ]
    },
    {
      "cell_type": "code",
      "execution_count": 4,
      "metadata": {
        "id": "Fjf5EcmJtf4e"
      },
      "outputs": [],
      "source": [
        "import torch\n",
        "from torch.utils.data import Dataset\n",
        "from torch.utils.data import DataLoader\n",
        "\n",
        "class LibriDataset(Dataset):\n",
        "    def __init__(self, X, y=None):\n",
        "        self.data = X\n",
        "        if y is not None:\n",
        "            self.label = torch.LongTensor(y)\n",
        "        else:\n",
        "            self.label = None\n",
        "\n",
        "    def __getitem__(self, idx):\n",
        "        if self.label is not None:\n",
        "            return self.data[idx], self.label[idx]\n",
        "        else:\n",
        "            return self.data[idx]\n",
        "\n",
        "    def __len__(self):\n",
        "        return len(self.data)\n"
      ]
    },
    {
      "cell_type": "markdown",
      "metadata": {
        "id": "IRqKNvNZwe3V"
      },
      "source": [
        "## Define Model"
      ]
    },
    {
      "cell_type": "code",
      "execution_count": 5,
      "metadata": {
        "id": "Bg-GRd7ywdrL"
      },
      "outputs": [],
      "source": [
        "import torch\n",
        "import torch.nn as nn\n",
        "import torch.nn.functional as F\n",
        "\n",
        "class BasicBlock(nn.Module):\n",
        "    def __init__(self, input_dim, output_dim, drop_rate=0.1):\n",
        "        super(BasicBlock, self).__init__()\n",
        "\n",
        "        self.block = nn.Sequential(\n",
        "            nn.Linear(input_dim, output_dim),\n",
        "            nn.BatchNorm1d(output_dim),\n",
        "            nn.Dropout(drop_rate),\n",
        "            nn.ReLU(),\n",
        "        )\n",
        "\n",
        "    def forward(self, x):\n",
        "        x = self.block(x)\n",
        "        return x\n",
        "\n",
        "class Classifier(nn.Module):\n",
        "    def __init__(self, input_dim, output_dim=41, hidden_layers=1, hidden_dim=256, drop_rate=0.1):\n",
        "        super(Classifier, self).__init__()\n",
        "\n",
        "        self.fc = nn.Sequential(\n",
        "            BasicBlock(input_dim, hidden_dim, drop_rate=drop_rate),\n",
        "            *[BasicBlock(hidden_dim, hidden_dim, drop_rate=drop_rate) for _ in range(hidden_layers)],\n",
        "            nn.Linear(hidden_dim, output_dim)\n",
        "        )\n",
        "\n",
        "    def forward(self, x):\n",
        "        x = self.fc(x)\n",
        "        return x"
      ]
    },
    {
      "cell_type": "markdown",
      "metadata": {
        "id": "TlIq8JeqvvHC"
      },
      "source": [
        "## Hyper-parameters"
      ]
    },
    {
      "cell_type": "code",
      "execution_count": 6,
      "metadata": {
        "id": "iIHn79Iav1ri"
      },
      "outputs": [],
      "source": [
        "# data prarameters\n",
        "concat_nframes = 19 # 1         # the number of frames to concat with, n must be odd (total 2k+1 = n frames)\n",
        "train_ratio = 0.9 # 0.8         # the ratio of data used for training, the rest will be used for validation\n",
        "\n",
        "# training parameters\n",
        "seed = 0                        # random seed\n",
        "batch_size = 2048               # batch size\n",
        "num_epoch = 100                 # the number of training epoch\n",
        "learning_rate = 1e-4            # learning rate\n",
        "model_path = './model.ckpt'     # the path where the checkpoint will be saved\n",
        "drop_rate = 0.25                # the probablity of drop out (Customized)\n",
        "early_stop = 8                  # If model has not improved for this many consecutive epochs, stop training. (Customized)\n",
        "weight_decay = 1e-2             # weight decay for optimizer (Customized)\n",
        "\n",
        "# model parameters\n",
        "input_dim = 39 * concat_nframes # the input dim of the model, you should not change the value\n",
        "hidden_layers = 12 # 1      # the number of hidden layers\n",
        "hidden_dim = 1024           # the hidden dim"
      ]
    },
    {
      "cell_type": "markdown",
      "metadata": {
        "id": "IIUFRgG5yoDn"
      },
      "source": [
        "## Prepare dataset and model"
      ]
    },
    {
      "cell_type": "code",
      "execution_count": 7,
      "metadata": {
        "colab": {
          "base_uri": "https://localhost:8080/"
        },
        "id": "c1zI3v5jyrDn",
        "outputId": "3ea2823a-83f3-42d9-ef05-2f2c002f9538"
      },
      "outputs": [
        {
          "name": "stdout",
          "output_type": "stream",
          "text": [
            "[Dataset] - # phone classes: 41, number of utterances for train: 3857\n"
          ]
        },
        {
          "name": "stderr",
          "output_type": "stream",
          "text": [
            "3857it [00:07, 519.26it/s]\n"
          ]
        },
        {
          "name": "stdout",
          "output_type": "stream",
          "text": [
            "[INFO] train set\n",
            "torch.Size([2379588, 741])\n",
            "torch.Size([2379588])\n",
            "[Dataset] - # phone classes: 41, number of utterances for val: 429\n"
          ]
        },
        {
          "name": "stderr",
          "output_type": "stream",
          "text": [
            "429it [00:00, 534.87it/s]"
          ]
        },
        {
          "name": "stdout",
          "output_type": "stream",
          "text": [
            "[INFO] val set\n",
            "torch.Size([264570, 741])\n",
            "torch.Size([264570])\n"
          ]
        },
        {
          "name": "stderr",
          "output_type": "stream",
          "text": [
            "\n"
          ]
        }
      ],
      "source": [
        "import gc\n",
        "\n",
        "# preprocess data\n",
        "train_X, train_y = preprocess_data(split='train', feat_dir='./libriphone/feat', phone_path='./libriphone', concat_nframes=concat_nframes, train_ratio=train_ratio)\n",
        "val_X, val_y = preprocess_data(split='val', feat_dir='./libriphone/feat', phone_path='./libriphone', concat_nframes=concat_nframes, train_ratio=train_ratio)\n",
        "\n",
        "# get dataset\n",
        "train_set = LibriDataset(train_X, train_y)\n",
        "val_set = LibriDataset(val_X, val_y)\n",
        "\n",
        "# remove raw feature to save memory\n",
        "del train_X, train_y, val_X, val_y\n",
        "gc.collect()\n",
        "\n",
        "# get dataloader\n",
        "train_loader = DataLoader(train_set, batch_size=batch_size, shuffle=True)\n",
        "val_loader = DataLoader(val_set, batch_size=batch_size, shuffle=False)"
      ]
    },
    {
      "cell_type": "code",
      "execution_count": 8,
      "metadata": {
        "colab": {
          "base_uri": "https://localhost:8080/"
        },
        "id": "CfRUEgC0GxUV",
        "outputId": "f9804711-72b1-4717-896b-821a300cfe87"
      },
      "outputs": [
        {
          "name": "stdout",
          "output_type": "stream",
          "text": [
            "DEVICE: cuda:0\n"
          ]
        }
      ],
      "source": [
        "device = 'cuda:0' if torch.cuda.is_available() else 'cpu'\n",
        "print(f'DEVICE: {device}')"
      ]
    },
    {
      "cell_type": "code",
      "execution_count": 9,
      "metadata": {
        "id": "88xPiUnm0tAd"
      },
      "outputs": [],
      "source": [
        "import numpy as np\n",
        "\n",
        "#fix seed\n",
        "def same_seeds(seed):\n",
        "    torch.manual_seed(seed)\n",
        "    if torch.cuda.is_available():\n",
        "        torch.cuda.manual_seed(seed)\n",
        "        torch.cuda.manual_seed_all(seed)  \n",
        "    np.random.seed(seed)  \n",
        "    torch.backends.cudnn.benchmark = False\n",
        "    torch.backends.cudnn.deterministic = True"
      ]
    },
    {
      "cell_type": "code",
      "execution_count": 10,
      "metadata": {
        "id": "QTp3ZXg1yO9Y"
      },
      "outputs": [],
      "source": [
        "\n",
        "# fix random seed\n",
        "same_seeds(seed)\n",
        "\n",
        "# create model, define a loss function, and optimizer\n",
        "model = Classifier(input_dim=input_dim, hidden_layers=hidden_layers, hidden_dim=hidden_dim, drop_rate=drop_rate).to(device)\n",
        "criterion = nn.CrossEntropyLoss() \n",
        "optimizer = torch.optim.AdamW(model.parameters(), lr=learning_rate, weight_decay=weight_decay)\n",
        "scheduler = torch.optim.lr_scheduler.CosineAnnealingWarmRestarts(optimizer, T_0=2, T_mult=2) # Customized learning rate scheduler"
      ]
    },
    {
      "cell_type": "markdown",
      "metadata": {
        "id": "pwWH1KIqzxEr"
      },
      "source": [
        "## Training"
      ]
    },
    {
      "cell_type": "code",
      "execution_count": 11,
      "metadata": {
        "colab": {
          "base_uri": "https://localhost:8080/"
        },
        "id": "CdMWsBs7zzNs",
        "outputId": "17922ad2-a319-4253-8783-3e4939d0a7cf"
      },
      "outputs": [
        {
          "name": "stderr",
          "output_type": "stream",
          "text": [
            "100%|██████████| 1162/1162 [00:54<00:00, 21.46it/s]\n",
            "100%|██████████| 130/130 [00:02<00:00, 45.51it/s]\n"
          ]
        },
        {
          "name": "stdout",
          "output_type": "stream",
          "text": [
            "[001/100] Train Acc: 0.437736 Loss: 1.945918 | Val Acc: 0.574392 loss: 1.408345\n",
            "saving model with acc 0.574\n"
          ]
        },
        {
          "name": "stderr",
          "output_type": "stream",
          "text": [
            "100%|██████████| 1162/1162 [00:52<00:00, 22.05it/s]\n",
            "100%|██████████| 130/130 [00:02<00:00, 45.17it/s]\n"
          ]
        },
        {
          "name": "stdout",
          "output_type": "stream",
          "text": [
            "[002/100] Train Acc: 0.556826 Loss: 1.468513 | Val Acc: 0.614182 loss: 1.266488\n",
            "saving model with acc 0.614\n"
          ]
        },
        {
          "name": "stderr",
          "output_type": "stream",
          "text": [
            "100%|██████████| 1162/1162 [00:54<00:00, 21.39it/s]\n",
            "100%|██████████| 130/130 [00:02<00:00, 44.37it/s]\n"
          ]
        },
        {
          "name": "stdout",
          "output_type": "stream",
          "text": [
            "[003/100] Train Acc: 0.590185 Loss: 1.353119 | Val Acc: 0.647269 loss: 1.149514\n",
            "saving model with acc 0.647\n"
          ]
        },
        {
          "name": "stderr",
          "output_type": "stream",
          "text": [
            "100%|██████████| 1162/1162 [00:53<00:00, 21.71it/s]\n",
            "100%|██████████| 130/130 [00:02<00:00, 45.78it/s]\n"
          ]
        },
        {
          "name": "stdout",
          "output_type": "stream",
          "text": [
            "[004/100] Train Acc: 0.618373 Loss: 1.254586 | Val Acc: 0.665915 loss: 1.081849\n",
            "saving model with acc 0.666\n"
          ]
        },
        {
          "name": "stderr",
          "output_type": "stream",
          "text": [
            "100%|██████████| 1162/1162 [00:53<00:00, 21.81it/s]\n",
            "100%|██████████| 130/130 [00:02<00:00, 45.41it/s]\n"
          ]
        },
        {
          "name": "stdout",
          "output_type": "stream",
          "text": [
            "[005/100] Train Acc: 0.635774 Loss: 1.193042 | Val Acc: 0.678210 loss: 1.040333\n",
            "saving model with acc 0.678\n"
          ]
        },
        {
          "name": "stderr",
          "output_type": "stream",
          "text": [
            "100%|██████████| 1162/1162 [00:53<00:00, 21.73it/s]\n",
            "100%|██████████| 130/130 [00:02<00:00, 44.71it/s]\n"
          ]
        },
        {
          "name": "stdout",
          "output_type": "stream",
          "text": [
            "[006/100] Train Acc: 0.644524 Loss: 1.160807 | Val Acc: 0.683698 loss: 1.022926\n",
            "saving model with acc 0.684\n"
          ]
        },
        {
          "name": "stderr",
          "output_type": "stream",
          "text": [
            "100%|██████████| 1162/1162 [00:53<00:00, 21.73it/s]\n",
            "100%|██████████| 130/130 [00:02<00:00, 44.86it/s]\n"
          ]
        },
        {
          "name": "stdout",
          "output_type": "stream",
          "text": [
            "[007/100] Train Acc: 0.644373 Loss: 1.162129 | Val Acc: 0.686401 loss: 1.010611\n",
            "saving model with acc 0.686\n"
          ]
        },
        {
          "name": "stderr",
          "output_type": "stream",
          "text": [
            "100%|██████████| 1162/1162 [00:53<00:00, 21.66it/s]\n",
            "100%|██████████| 130/130 [00:02<00:00, 45.58it/s]\n"
          ]
        },
        {
          "name": "stdout",
          "output_type": "stream",
          "text": [
            "[008/100] Train Acc: 0.655257 Loss: 1.122652 | Val Acc: 0.695884 loss: 0.978939\n",
            "saving model with acc 0.696\n"
          ]
        },
        {
          "name": "stderr",
          "output_type": "stream",
          "text": [
            "100%|██████████| 1162/1162 [00:53<00:00, 21.80it/s]\n",
            "100%|██████████| 130/130 [00:02<00:00, 44.89it/s]\n"
          ]
        },
        {
          "name": "stdout",
          "output_type": "stream",
          "text": [
            "[009/100] Train Acc: 0.664913 Loss: 1.087979 | Val Acc: 0.700979 loss: 0.956043\n",
            "saving model with acc 0.701\n"
          ]
        },
        {
          "name": "stderr",
          "output_type": "stream",
          "text": [
            "100%|██████████| 1162/1162 [00:54<00:00, 21.22it/s]\n",
            "100%|██████████| 130/130 [00:02<00:00, 44.13it/s]\n"
          ]
        },
        {
          "name": "stdout",
          "output_type": "stream",
          "text": [
            "[010/100] Train Acc: 0.672980 Loss: 1.059238 | Val Acc: 0.707597 loss: 0.934496\n",
            "saving model with acc 0.708\n"
          ]
        },
        {
          "name": "stderr",
          "output_type": "stream",
          "text": [
            "100%|██████████| 1162/1162 [00:54<00:00, 21.32it/s]\n",
            "100%|██████████| 130/130 [00:02<00:00, 45.94it/s]\n"
          ]
        },
        {
          "name": "stdout",
          "output_type": "stream",
          "text": [
            "[011/100] Train Acc: 0.679961 Loss: 1.034550 | Val Acc: 0.711766 loss: 0.917989\n",
            "saving model with acc 0.712\n"
          ]
        },
        {
          "name": "stderr",
          "output_type": "stream",
          "text": [
            "100%|██████████| 1162/1162 [00:53<00:00, 21.71it/s]\n",
            "100%|██████████| 130/130 [00:02<00:00, 44.74it/s]\n"
          ]
        },
        {
          "name": "stdout",
          "output_type": "stream",
          "text": [
            "[012/100] Train Acc: 0.685522 Loss: 1.014757 | Val Acc: 0.714816 loss: 0.907465\n",
            "saving model with acc 0.715\n"
          ]
        },
        {
          "name": "stderr",
          "output_type": "stream",
          "text": [
            "100%|██████████| 1162/1162 [00:53<00:00, 21.57it/s]\n",
            "100%|██████████| 130/130 [00:02<00:00, 44.64it/s]\n"
          ]
        },
        {
          "name": "stdout",
          "output_type": "stream",
          "text": [
            "[013/100] Train Acc: 0.688816 Loss: 1.003031 | Val Acc: 0.717043 loss: 0.900042\n",
            "saving model with acc 0.717\n"
          ]
        },
        {
          "name": "stderr",
          "output_type": "stream",
          "text": [
            "100%|██████████| 1162/1162 [00:53<00:00, 21.64it/s]\n",
            "100%|██████████| 130/130 [00:02<00:00, 44.72it/s]\n"
          ]
        },
        {
          "name": "stdout",
          "output_type": "stream",
          "text": [
            "[014/100] Train Acc: 0.690835 Loss: 0.995302 | Val Acc: 0.717655 loss: 0.897046\n",
            "saving model with acc 0.718\n"
          ]
        },
        {
          "name": "stderr",
          "output_type": "stream",
          "text": [
            "100%|██████████| 1162/1162 [00:53<00:00, 21.72it/s]\n",
            "100%|██████████| 130/130 [00:02<00:00, 44.23it/s]\n"
          ]
        },
        {
          "name": "stdout",
          "output_type": "stream",
          "text": [
            "[015/100] Train Acc: 0.683860 Loss: 1.022035 | Val Acc: 0.713448 loss: 0.910289\n"
          ]
        },
        {
          "name": "stderr",
          "output_type": "stream",
          "text": [
            "100%|██████████| 1162/1162 [00:53<00:00, 21.58it/s]\n",
            "100%|██████████| 130/130 [00:02<00:00, 45.05it/s]\n"
          ]
        },
        {
          "name": "stdout",
          "output_type": "stream",
          "text": [
            "[016/100] Train Acc: 0.687787 Loss: 1.006368 | Val Acc: 0.718033 loss: 0.896014\n",
            "saving model with acc 0.718\n"
          ]
        },
        {
          "name": "stderr",
          "output_type": "stream",
          "text": [
            "100%|██████████| 1162/1162 [00:53<00:00, 21.63it/s]\n",
            "100%|██████████| 130/130 [00:02<00:00, 45.25it/s]\n"
          ]
        },
        {
          "name": "stdout",
          "output_type": "stream",
          "text": [
            "[017/100] Train Acc: 0.693122 Loss: 0.988837 | Val Acc: 0.721401 loss: 0.887387\n",
            "saving model with acc 0.721\n"
          ]
        },
        {
          "name": "stderr",
          "output_type": "stream",
          "text": [
            "100%|██████████| 1162/1162 [00:53<00:00, 21.66it/s]\n",
            "100%|██████████| 130/130 [00:03<00:00, 42.82it/s]\n"
          ]
        },
        {
          "name": "stdout",
          "output_type": "stream",
          "text": [
            "[018/100] Train Acc: 0.697580 Loss: 0.972012 | Val Acc: 0.725245 loss: 0.872520\n",
            "saving model with acc 0.725\n"
          ]
        },
        {
          "name": "stderr",
          "output_type": "stream",
          "text": [
            "100%|██████████| 1162/1162 [00:53<00:00, 21.68it/s]\n",
            "100%|██████████| 130/130 [00:02<00:00, 45.20it/s]\n"
          ]
        },
        {
          "name": "stdout",
          "output_type": "stream",
          "text": [
            "[019/100] Train Acc: 0.701708 Loss: 0.957368 | Val Acc: 0.729104 loss: 0.859359\n",
            "saving model with acc 0.729\n"
          ]
        },
        {
          "name": "stderr",
          "output_type": "stream",
          "text": [
            "100%|██████████| 1162/1162 [00:53<00:00, 21.68it/s]\n",
            "100%|██████████| 130/130 [00:02<00:00, 45.46it/s]\n"
          ]
        },
        {
          "name": "stdout",
          "output_type": "stream",
          "text": [
            "[020/100] Train Acc: 0.706087 Loss: 0.941859 | Val Acc: 0.730740 loss: 0.853486\n",
            "saving model with acc 0.731\n"
          ]
        },
        {
          "name": "stderr",
          "output_type": "stream",
          "text": [
            "100%|██████████| 1162/1162 [00:53<00:00, 21.92it/s]\n",
            "100%|██████████| 130/130 [00:02<00:00, 45.17it/s]\n"
          ]
        },
        {
          "name": "stdout",
          "output_type": "stream",
          "text": [
            "[021/100] Train Acc: 0.710027 Loss: 0.927714 | Val Acc: 0.731976 loss: 0.846729\n",
            "saving model with acc 0.732\n"
          ]
        },
        {
          "name": "stderr",
          "output_type": "stream",
          "text": [
            "100%|██████████| 1162/1162 [00:53<00:00, 21.92it/s]\n",
            "100%|██████████| 130/130 [00:02<00:00, 44.89it/s]\n"
          ]
        },
        {
          "name": "stdout",
          "output_type": "stream",
          "text": [
            "[022/100] Train Acc: 0.713767 Loss: 0.915645 | Val Acc: 0.735488 loss: 0.838004\n",
            "saving model with acc 0.735\n"
          ]
        },
        {
          "name": "stderr",
          "output_type": "stream",
          "text": [
            "100%|██████████| 1162/1162 [00:53<00:00, 21.80it/s]\n",
            "100%|██████████| 130/130 [00:02<00:00, 45.48it/s]\n"
          ]
        },
        {
          "name": "stdout",
          "output_type": "stream",
          "text": [
            "[023/100] Train Acc: 0.716854 Loss: 0.904511 | Val Acc: 0.736848 loss: 0.833443\n",
            "saving model with acc 0.737\n"
          ]
        },
        {
          "name": "stderr",
          "output_type": "stream",
          "text": [
            "100%|██████████| 1162/1162 [00:54<00:00, 21.25it/s]\n",
            "100%|██████████| 130/130 [00:02<00:00, 43.40it/s]\n"
          ]
        },
        {
          "name": "stdout",
          "output_type": "stream",
          "text": [
            "[024/100] Train Acc: 0.719715 Loss: 0.894053 | Val Acc: 0.738727 loss: 0.825097\n",
            "saving model with acc 0.739\n"
          ]
        },
        {
          "name": "stderr",
          "output_type": "stream",
          "text": [
            "100%|██████████| 1162/1162 [00:53<00:00, 21.61it/s]\n",
            "100%|██████████| 130/130 [00:02<00:00, 45.09it/s]\n"
          ]
        },
        {
          "name": "stdout",
          "output_type": "stream",
          "text": [
            "[025/100] Train Acc: 0.722302 Loss: 0.885029 | Val Acc: 0.740035 loss: 0.822745\n",
            "saving model with acc 0.740\n"
          ]
        },
        {
          "name": "stderr",
          "output_type": "stream",
          "text": [
            "100%|██████████| 1162/1162 [00:52<00:00, 22.18it/s]\n",
            "100%|██████████| 130/130 [00:02<00:00, 49.13it/s]\n"
          ]
        },
        {
          "name": "stdout",
          "output_type": "stream",
          "text": [
            "[026/100] Train Acc: 0.724077 Loss: 0.878231 | Val Acc: 0.741169 loss: 0.819511\n",
            "saving model with acc 0.741\n"
          ]
        },
        {
          "name": "stderr",
          "output_type": "stream",
          "text": [
            "100%|██████████| 1162/1162 [00:50<00:00, 22.83it/s]\n",
            "100%|██████████| 130/130 [00:02<00:00, 46.94it/s]\n"
          ]
        },
        {
          "name": "stdout",
          "output_type": "stream",
          "text": [
            "[027/100] Train Acc: 0.726445 Loss: 0.870662 | Val Acc: 0.741947 loss: 0.815893\n",
            "saving model with acc 0.742\n"
          ]
        },
        {
          "name": "stderr",
          "output_type": "stream",
          "text": [
            "100%|██████████| 1162/1162 [00:51<00:00, 22.73it/s]\n",
            "100%|██████████| 130/130 [00:02<00:00, 48.34it/s]\n"
          ]
        },
        {
          "name": "stdout",
          "output_type": "stream",
          "text": [
            "[028/100] Train Acc: 0.727722 Loss: 0.865969 | Val Acc: 0.742681 loss: 0.813895\n",
            "saving model with acc 0.743\n"
          ]
        },
        {
          "name": "stderr",
          "output_type": "stream",
          "text": [
            "100%|██████████| 1162/1162 [00:51<00:00, 22.71it/s]\n",
            "100%|██████████| 130/130 [00:02<00:00, 49.54it/s]\n"
          ]
        },
        {
          "name": "stdout",
          "output_type": "stream",
          "text": [
            "[029/100] Train Acc: 0.728609 Loss: 0.863157 | Val Acc: 0.742926 loss: 0.813360\n",
            "saving model with acc 0.743\n"
          ]
        },
        {
          "name": "stderr",
          "output_type": "stream",
          "text": [
            "100%|██████████| 1162/1162 [00:51<00:00, 22.72it/s]\n",
            "100%|██████████| 130/130 [00:02<00:00, 48.04it/s]\n"
          ]
        },
        {
          "name": "stdout",
          "output_type": "stream",
          "text": [
            "[030/100] Train Acc: 0.728765 Loss: 0.862296 | Val Acc: 0.743032 loss: 0.812940\n",
            "saving model with acc 0.743\n"
          ]
        },
        {
          "name": "stderr",
          "output_type": "stream",
          "text": [
            "100%|██████████| 1162/1162 [00:51<00:00, 22.73it/s]\n",
            "100%|██████████| 130/130 [00:02<00:00, 48.49it/s]\n"
          ]
        },
        {
          "name": "stdout",
          "output_type": "stream",
          "text": [
            "[031/100] Train Acc: 0.718765 Loss: 0.898024 | Val Acc: 0.738583 loss: 0.829926\n"
          ]
        },
        {
          "name": "stderr",
          "output_type": "stream",
          "text": [
            "100%|██████████| 1162/1162 [00:50<00:00, 22.80it/s]\n",
            "100%|██████████| 130/130 [00:02<00:00, 48.27it/s]\n"
          ]
        },
        {
          "name": "stdout",
          "output_type": "stream",
          "text": [
            "[032/100] Train Acc: 0.719794 Loss: 0.894535 | Val Acc: 0.738289 loss: 0.828753\n"
          ]
        },
        {
          "name": "stderr",
          "output_type": "stream",
          "text": [
            "100%|██████████| 1162/1162 [00:51<00:00, 22.59it/s]\n",
            "100%|██████████| 130/130 [00:02<00:00, 48.25it/s]\n"
          ]
        },
        {
          "name": "stdout",
          "output_type": "stream",
          "text": [
            "[033/100] Train Acc: 0.721836 Loss: 0.886072 | Val Acc: 0.740643 loss: 0.820532\n"
          ]
        },
        {
          "name": "stderr",
          "output_type": "stream",
          "text": [
            "100%|██████████| 1162/1162 [00:51<00:00, 22.75it/s]\n",
            "100%|██████████| 130/130 [00:02<00:00, 48.23it/s]\n"
          ]
        },
        {
          "name": "stdout",
          "output_type": "stream",
          "text": [
            "[034/100] Train Acc: 0.724679 Loss: 0.877309 | Val Acc: 0.742235 loss: 0.816860\n"
          ]
        },
        {
          "name": "stderr",
          "output_type": "stream",
          "text": [
            "100%|██████████| 1162/1162 [00:51<00:00, 22.67it/s]\n",
            "100%|██████████| 130/130 [00:02<00:00, 48.24it/s]\n"
          ]
        },
        {
          "name": "stdout",
          "output_type": "stream",
          "text": [
            "[035/100] Train Acc: 0.726573 Loss: 0.869969 | Val Acc: 0.743274 loss: 0.812925\n",
            "saving model with acc 0.743\n"
          ]
        },
        {
          "name": "stderr",
          "output_type": "stream",
          "text": [
            "100%|██████████| 1162/1162 [00:51<00:00, 22.56it/s]\n",
            "100%|██████████| 130/130 [00:02<00:00, 46.94it/s]\n"
          ]
        },
        {
          "name": "stdout",
          "output_type": "stream",
          "text": [
            "[036/100] Train Acc: 0.728752 Loss: 0.861832 | Val Acc: 0.744487 loss: 0.809613\n",
            "saving model with acc 0.744\n"
          ]
        },
        {
          "name": "stderr",
          "output_type": "stream",
          "text": [
            "100%|██████████| 1162/1162 [00:52<00:00, 22.29it/s]\n",
            "100%|██████████| 130/130 [00:02<00:00, 48.64it/s]\n"
          ]
        },
        {
          "name": "stdout",
          "output_type": "stream",
          "text": [
            "[037/100] Train Acc: 0.731277 Loss: 0.854066 | Val Acc: 0.745753 loss: 0.804815\n",
            "saving model with acc 0.746\n"
          ]
        },
        {
          "name": "stderr",
          "output_type": "stream",
          "text": [
            "100%|██████████| 1162/1162 [00:51<00:00, 22.78it/s]\n",
            "100%|██████████| 130/130 [00:02<00:00, 48.08it/s]\n"
          ]
        },
        {
          "name": "stdout",
          "output_type": "stream",
          "text": [
            "[038/100] Train Acc: 0.733573 Loss: 0.845529 | Val Acc: 0.746460 loss: 0.802990\n",
            "saving model with acc 0.746\n"
          ]
        },
        {
          "name": "stderr",
          "output_type": "stream",
          "text": [
            "100%|██████████| 1162/1162 [00:51<00:00, 22.53it/s]\n",
            "100%|██████████| 130/130 [00:02<00:00, 49.38it/s]\n"
          ]
        },
        {
          "name": "stdout",
          "output_type": "stream",
          "text": [
            "[039/100] Train Acc: 0.735829 Loss: 0.838080 | Val Acc: 0.747719 loss: 0.798394\n",
            "saving model with acc 0.748\n"
          ]
        },
        {
          "name": "stderr",
          "output_type": "stream",
          "text": [
            "100%|██████████| 1162/1162 [00:51<00:00, 22.61it/s]\n",
            "100%|██████████| 130/130 [00:02<00:00, 48.34it/s]\n"
          ]
        },
        {
          "name": "stdout",
          "output_type": "stream",
          "text": [
            "[040/100] Train Acc: 0.738023 Loss: 0.830169 | Val Acc: 0.748532 loss: 0.795959\n",
            "saving model with acc 0.749\n"
          ]
        },
        {
          "name": "stderr",
          "output_type": "stream",
          "text": [
            "100%|██████████| 1162/1162 [00:53<00:00, 21.85it/s]\n",
            "100%|██████████| 130/130 [00:02<00:00, 45.53it/s]\n"
          ]
        },
        {
          "name": "stdout",
          "output_type": "stream",
          "text": [
            "[041/100] Train Acc: 0.739997 Loss: 0.823370 | Val Acc: 0.750036 loss: 0.791971\n",
            "saving model with acc 0.750\n"
          ]
        },
        {
          "name": "stderr",
          "output_type": "stream",
          "text": [
            "100%|██████████| 1162/1162 [00:51<00:00, 22.54it/s]\n",
            "100%|██████████| 130/130 [00:02<00:00, 49.12it/s]\n"
          ]
        },
        {
          "name": "stdout",
          "output_type": "stream",
          "text": [
            "[042/100] Train Acc: 0.741667 Loss: 0.816606 | Val Acc: 0.749888 loss: 0.790789\n"
          ]
        },
        {
          "name": "stderr",
          "output_type": "stream",
          "text": [
            "100%|██████████| 1162/1162 [00:51<00:00, 22.77it/s]\n",
            "100%|██████████| 130/130 [00:02<00:00, 48.45it/s]\n"
          ]
        },
        {
          "name": "stdout",
          "output_type": "stream",
          "text": [
            "[043/100] Train Acc: 0.743472 Loss: 0.809453 | Val Acc: 0.751650 loss: 0.788578\n",
            "saving model with acc 0.752\n"
          ]
        },
        {
          "name": "stderr",
          "output_type": "stream",
          "text": [
            "100%|██████████| 1162/1162 [00:51<00:00, 22.68it/s]\n",
            "100%|██████████| 130/130 [00:02<00:00, 47.55it/s]\n"
          ]
        },
        {
          "name": "stdout",
          "output_type": "stream",
          "text": [
            "[044/100] Train Acc: 0.745515 Loss: 0.802790 | Val Acc: 0.751827 loss: 0.787083\n",
            "saving model with acc 0.752\n"
          ]
        },
        {
          "name": "stderr",
          "output_type": "stream",
          "text": [
            "100%|██████████| 1162/1162 [00:51<00:00, 22.67it/s]\n",
            "100%|██████████| 130/130 [00:02<00:00, 48.75it/s]\n"
          ]
        },
        {
          "name": "stdout",
          "output_type": "stream",
          "text": [
            "[045/100] Train Acc: 0.747679 Loss: 0.796407 | Val Acc: 0.752474 loss: 0.784066\n",
            "saving model with acc 0.752\n"
          ]
        },
        {
          "name": "stderr",
          "output_type": "stream",
          "text": [
            "100%|██████████| 1162/1162 [00:51<00:00, 22.58it/s]\n",
            "100%|██████████| 130/130 [00:02<00:00, 48.09it/s]\n"
          ]
        },
        {
          "name": "stdout",
          "output_type": "stream",
          "text": [
            "[046/100] Train Acc: 0.749184 Loss: 0.790281 | Val Acc: 0.753562 loss: 0.782795\n",
            "saving model with acc 0.754\n"
          ]
        },
        {
          "name": "stderr",
          "output_type": "stream",
          "text": [
            "100%|██████████| 1162/1162 [00:51<00:00, 22.51it/s]\n",
            "100%|██████████| 130/130 [00:02<00:00, 45.36it/s]\n"
          ]
        },
        {
          "name": "stdout",
          "output_type": "stream",
          "text": [
            "[047/100] Train Acc: 0.750983 Loss: 0.784780 | Val Acc: 0.754787 loss: 0.777259\n",
            "saving model with acc 0.755\n"
          ]
        },
        {
          "name": "stderr",
          "output_type": "stream",
          "text": [
            "100%|██████████| 1162/1162 [00:54<00:00, 21.37it/s]\n",
            "100%|██████████| 130/130 [00:02<00:00, 44.22it/s]\n"
          ]
        },
        {
          "name": "stdout",
          "output_type": "stream",
          "text": [
            "[048/100] Train Acc: 0.752308 Loss: 0.779677 | Val Acc: 0.755713 loss: 0.776578\n",
            "saving model with acc 0.756\n"
          ]
        },
        {
          "name": "stderr",
          "output_type": "stream",
          "text": [
            "100%|██████████| 1162/1162 [00:54<00:00, 21.44it/s]\n",
            "100%|██████████| 130/130 [00:02<00:00, 44.97it/s]\n"
          ]
        },
        {
          "name": "stdout",
          "output_type": "stream",
          "text": [
            "[049/100] Train Acc: 0.754249 Loss: 0.774059 | Val Acc: 0.756261 loss: 0.774412\n",
            "saving model with acc 0.756\n"
          ]
        },
        {
          "name": "stderr",
          "output_type": "stream",
          "text": [
            "100%|██████████| 1162/1162 [00:54<00:00, 21.46it/s]\n",
            "100%|██████████| 130/130 [00:02<00:00, 43.97it/s]\n"
          ]
        },
        {
          "name": "stdout",
          "output_type": "stream",
          "text": [
            "[050/100] Train Acc: 0.755238 Loss: 0.769938 | Val Acc: 0.756186 loss: 0.773976\n"
          ]
        },
        {
          "name": "stderr",
          "output_type": "stream",
          "text": [
            "100%|██████████| 1162/1162 [00:54<00:00, 21.44it/s]\n",
            "100%|██████████| 130/130 [00:02<00:00, 44.84it/s]\n"
          ]
        },
        {
          "name": "stdout",
          "output_type": "stream",
          "text": [
            "[051/100] Train Acc: 0.756689 Loss: 0.764488 | Val Acc: 0.756960 loss: 0.772248\n",
            "saving model with acc 0.757\n"
          ]
        },
        {
          "name": "stderr",
          "output_type": "stream",
          "text": [
            "100%|██████████| 1162/1162 [00:53<00:00, 21.56it/s]\n",
            "100%|██████████| 130/130 [00:02<00:00, 44.31it/s]\n"
          ]
        },
        {
          "name": "stdout",
          "output_type": "stream",
          "text": [
            "[052/100] Train Acc: 0.757901 Loss: 0.760870 | Val Acc: 0.757278 loss: 0.771314\n",
            "saving model with acc 0.757\n"
          ]
        },
        {
          "name": "stderr",
          "output_type": "stream",
          "text": [
            "100%|██████████| 1162/1162 [00:53<00:00, 21.61it/s]\n",
            "100%|██████████| 130/130 [00:02<00:00, 45.43it/s]\n"
          ]
        },
        {
          "name": "stdout",
          "output_type": "stream",
          "text": [
            "[053/100] Train Acc: 0.758860 Loss: 0.757166 | Val Acc: 0.757384 loss: 0.770412\n",
            "saving model with acc 0.757\n"
          ]
        },
        {
          "name": "stderr",
          "output_type": "stream",
          "text": [
            "100%|██████████| 1162/1162 [00:53<00:00, 21.69it/s]\n",
            "100%|██████████| 130/130 [00:02<00:00, 44.55it/s]\n"
          ]
        },
        {
          "name": "stdout",
          "output_type": "stream",
          "text": [
            "[054/100] Train Acc: 0.760408 Loss: 0.752472 | Val Acc: 0.757841 loss: 0.770885\n",
            "saving model with acc 0.758\n"
          ]
        },
        {
          "name": "stderr",
          "output_type": "stream",
          "text": [
            "100%|██████████| 1162/1162 [00:53<00:00, 21.69it/s]\n",
            "100%|██████████| 130/130 [00:02<00:00, 44.43it/s]\n"
          ]
        },
        {
          "name": "stdout",
          "output_type": "stream",
          "text": [
            "[055/100] Train Acc: 0.761067 Loss: 0.749761 | Val Acc: 0.758382 loss: 0.769045\n",
            "saving model with acc 0.758\n"
          ]
        },
        {
          "name": "stderr",
          "output_type": "stream",
          "text": [
            "100%|██████████| 1162/1162 [00:55<00:00, 21.08it/s]\n",
            "100%|██████████| 130/130 [00:02<00:00, 43.92it/s]\n"
          ]
        },
        {
          "name": "stdout",
          "output_type": "stream",
          "text": [
            "[056/100] Train Acc: 0.761839 Loss: 0.747542 | Val Acc: 0.758748 loss: 0.767835\n",
            "saving model with acc 0.759\n"
          ]
        },
        {
          "name": "stderr",
          "output_type": "stream",
          "text": [
            "100%|██████████| 1162/1162 [00:53<00:00, 21.69it/s]\n",
            "100%|██████████| 130/130 [00:02<00:00, 45.24it/s]\n"
          ]
        },
        {
          "name": "stdout",
          "output_type": "stream",
          "text": [
            "[057/100] Train Acc: 0.762447 Loss: 0.745243 | Val Acc: 0.758741 loss: 0.767509\n"
          ]
        },
        {
          "name": "stderr",
          "output_type": "stream",
          "text": [
            "100%|██████████| 1162/1162 [00:53<00:00, 21.67it/s]\n",
            "100%|██████████| 130/130 [00:02<00:00, 45.54it/s]\n"
          ]
        },
        {
          "name": "stdout",
          "output_type": "stream",
          "text": [
            "[058/100] Train Acc: 0.762752 Loss: 0.743240 | Val Acc: 0.759202 loss: 0.766580\n",
            "saving model with acc 0.759\n"
          ]
        },
        {
          "name": "stderr",
          "output_type": "stream",
          "text": [
            "100%|██████████| 1162/1162 [00:53<00:00, 21.68it/s]\n",
            "100%|██████████| 130/130 [00:02<00:00, 44.96it/s]\n"
          ]
        },
        {
          "name": "stdout",
          "output_type": "stream",
          "text": [
            "[059/100] Train Acc: 0.763251 Loss: 0.741865 | Val Acc: 0.759300 loss: 0.766931\n",
            "saving model with acc 0.759\n"
          ]
        },
        {
          "name": "stderr",
          "output_type": "stream",
          "text": [
            "100%|██████████| 1162/1162 [00:53<00:00, 21.68it/s]\n",
            "100%|██████████| 130/130 [00:02<00:00, 45.18it/s]\n"
          ]
        },
        {
          "name": "stdout",
          "output_type": "stream",
          "text": [
            "[060/100] Train Acc: 0.763647 Loss: 0.741051 | Val Acc: 0.759455 loss: 0.766426\n",
            "saving model with acc 0.759\n"
          ]
        },
        {
          "name": "stderr",
          "output_type": "stream",
          "text": [
            "100%|██████████| 1162/1162 [00:53<00:00, 21.67it/s]\n",
            "100%|██████████| 130/130 [00:02<00:00, 44.35it/s]\n"
          ]
        },
        {
          "name": "stdout",
          "output_type": "stream",
          "text": [
            "[061/100] Train Acc: 0.763803 Loss: 0.740213 | Val Acc: 0.759549 loss: 0.766415\n",
            "saving model with acc 0.760\n"
          ]
        },
        {
          "name": "stderr",
          "output_type": "stream",
          "text": [
            "100%|██████████| 1162/1162 [00:53<00:00, 21.65it/s]\n",
            "100%|██████████| 130/130 [00:02<00:00, 45.22it/s]\n"
          ]
        },
        {
          "name": "stdout",
          "output_type": "stream",
          "text": [
            "[062/100] Train Acc: 0.763747 Loss: 0.740012 | Val Acc: 0.759391 loss: 0.766420\n"
          ]
        },
        {
          "name": "stderr",
          "output_type": "stream",
          "text": [
            "100%|██████████| 1162/1162 [00:53<00:00, 21.63it/s]\n",
            "100%|██████████| 130/130 [00:02<00:00, 44.56it/s]\n"
          ]
        },
        {
          "name": "stdout",
          "output_type": "stream",
          "text": [
            "[063/100] Train Acc: 0.752058 Loss: 0.780957 | Val Acc: 0.753396 loss: 0.782511\n"
          ]
        },
        {
          "name": "stderr",
          "output_type": "stream",
          "text": [
            "100%|██████████| 1162/1162 [00:53<00:00, 21.69it/s]\n",
            "100%|██████████| 130/130 [00:02<00:00, 45.32it/s]\n"
          ]
        },
        {
          "name": "stdout",
          "output_type": "stream",
          "text": [
            "[064/100] Train Acc: 0.751114 Loss: 0.783829 | Val Acc: 0.753676 loss: 0.780392\n"
          ]
        },
        {
          "name": "stderr",
          "output_type": "stream",
          "text": [
            "100%|██████████| 1162/1162 [00:53<00:00, 21.66it/s]\n",
            "100%|██████████| 130/130 [00:02<00:00, 44.31it/s]\n"
          ]
        },
        {
          "name": "stdout",
          "output_type": "stream",
          "text": [
            "[065/100] Train Acc: 0.752039 Loss: 0.781240 | Val Acc: 0.754001 loss: 0.778154\n"
          ]
        },
        {
          "name": "stderr",
          "output_type": "stream",
          "text": [
            "100%|██████████| 1162/1162 [00:53<00:00, 21.66it/s]\n",
            "100%|██████████| 130/130 [00:02<00:00, 45.68it/s]\n"
          ]
        },
        {
          "name": "stdout",
          "output_type": "stream",
          "text": [
            "[066/100] Train Acc: 0.752688 Loss: 0.778510 | Val Acc: 0.754927 loss: 0.776453\n"
          ]
        },
        {
          "name": "stderr",
          "output_type": "stream",
          "text": [
            "100%|██████████| 1162/1162 [00:53<00:00, 21.54it/s]\n",
            "100%|██████████| 130/130 [00:02<00:00, 45.37it/s]\n"
          ]
        },
        {
          "name": "stdout",
          "output_type": "stream",
          "text": [
            "[067/100] Train Acc: 0.753492 Loss: 0.775310 | Val Acc: 0.753974 loss: 0.778812\n"
          ]
        },
        {
          "name": "stderr",
          "output_type": "stream",
          "text": [
            "100%|██████████| 1162/1162 [00:53<00:00, 21.59it/s]\n",
            "100%|██████████| 130/130 [00:02<00:00, 45.10it/s]\n"
          ]
        },
        {
          "name": "stdout",
          "output_type": "stream",
          "text": [
            "[068/100] Train Acc: 0.754837 Loss: 0.771080 | Val Acc: 0.755539 loss: 0.776320\n"
          ]
        },
        {
          "name": "stderr",
          "output_type": "stream",
          "text": [
            "100%|██████████| 1162/1162 [00:53<00:00, 21.64it/s]\n",
            "100%|██████████| 130/130 [00:02<00:00, 44.98it/s]"
          ]
        },
        {
          "name": "stdout",
          "output_type": "stream",
          "text": [
            "[069/100] Train Acc: 0.756288 Loss: 0.767012 | Val Acc: 0.755978 loss: 0.776146\n",
            "\n",
            "Model is not improving, so we halt the training session.\n",
            "So far best_acc=0.7595494576104622.\n"
          ]
        },
        {
          "name": "stderr",
          "output_type": "stream",
          "text": [
            "\n"
          ]
        }
      ],
      "source": [
        "best_acc = 0.0\n",
        "early_stop_count = 0\n",
        "for epoch in range(num_epoch):\n",
        "    train_acc = 0.0\n",
        "    train_loss = 0.0\n",
        "    val_acc = 0.0\n",
        "    val_loss = 0.0\n",
        "    \n",
        "    # training\n",
        "    model.train() # set the model to training mode\n",
        "    for i, batch in enumerate(tqdm(train_loader)):\n",
        "        features, labels = batch\n",
        "        features = features.to(device)\n",
        "        labels = labels.to(device)\n",
        "        \n",
        "        optimizer.zero_grad() \n",
        "        outputs = model(features) \n",
        "        \n",
        "        loss = criterion(outputs, labels)\n",
        "        loss.backward() \n",
        "        optimizer.step() \n",
        "        \n",
        "        _, train_pred = torch.max(outputs, 1) # get the index of the class with the highest probability\n",
        "        train_acc += (train_pred.detach() == labels.detach()).sum().item()\n",
        "        train_loss += loss.item()\n",
        "    \n",
        "    scheduler.step() # Update the learning rate scheduler\n",
        "    \n",
        "    # validation\n",
        "    if len(val_set) > 0:\n",
        "        model.eval() # set the model to evaluation mode\n",
        "        with torch.no_grad():\n",
        "            for i, batch in enumerate(tqdm(val_loader)):\n",
        "                features, labels = batch\n",
        "                features = features.to(device)\n",
        "                labels = labels.to(device)\n",
        "                outputs = model(features)\n",
        "                \n",
        "                loss = criterion(outputs, labels) \n",
        "                \n",
        "                _, val_pred = torch.max(outputs, 1) \n",
        "                val_acc += (val_pred.cpu() == labels.cpu()).sum().item() # get the index of the class with the highest probability\n",
        "                val_loss += loss.item()\n",
        "\n",
        "            print('[{:03d}/{:03d}] Train Acc: {:3.6f} Loss: {:3.6f} | Val Acc: {:3.6f} loss: {:3.6f}'.format(\n",
        "                epoch + 1, num_epoch, train_acc/len(train_set), train_loss/len(train_loader), val_acc/len(val_set), val_loss/len(val_loader)\n",
        "            ))\n",
        "\n",
        "            # if the model improves, save a checkpoint at this epoch\n",
        "            if val_acc > best_acc:\n",
        "                best_acc = val_acc\n",
        "                torch.save(model.state_dict(), model_path)\n",
        "                print('saving model with acc {:.3f}'.format(best_acc/len(val_set)))\n",
        "                early_stop_count = 0\n",
        "            else:\n",
        "                early_stop_count += 1\n",
        "    else:\n",
        "        print('[{:03d}/{:03d}] Train Acc: {:3.6f} Loss: {:3.6f}'.format(\n",
        "            epoch + 1, num_epoch, train_acc/len(train_set), train_loss/len(train_loader)\n",
        "        ))\n",
        "        \n",
        "    if early_stop_count >= early_stop:\n",
        "        print(f'\\nModel is not improving, so we halt the training session.\\nSo far best_acc={best_acc/len(val_set)}.')\n",
        "        break\n",
        "\n",
        "# if not validating, save the last epoch\n",
        "if len(val_set) == 0:\n",
        "    torch.save(model.state_dict(), model_path)\n",
        "    print('saving model at last epoch')\n"
      ]
    },
    {
      "cell_type": "code",
      "execution_count": 12,
      "metadata": {
        "colab": {
          "base_uri": "https://localhost:8080/"
        },
        "id": "ab33MxosWLmG",
        "outputId": "911e8c9b-fc0f-4591-b0f6-311a1231c5e2"
      },
      "outputs": [
        {
          "data": {
            "text/plain": [
              "0"
            ]
          },
          "execution_count": 12,
          "metadata": {},
          "output_type": "execute_result"
        }
      ],
      "source": [
        "del train_loader, val_loader\n",
        "gc.collect()"
      ]
    },
    {
      "cell_type": "markdown",
      "metadata": {
        "id": "1Hi7jTn3PX-m"
      },
      "source": [
        "## Testing\n",
        "Create a testing dataset, and load model from the saved checkpoint."
      ]
    },
    {
      "cell_type": "code",
      "execution_count": 13,
      "metadata": {
        "colab": {
          "base_uri": "https://localhost:8080/"
        },
        "id": "VOG1Ou0PGrhc",
        "outputId": "abaaa25b-a93c-49b0-d228-9eca1e2ab2e0"
      },
      "outputs": [
        {
          "name": "stdout",
          "output_type": "stream",
          "text": [
            "[Dataset] - # phone classes: 41, number of utterances for test: 1078\n"
          ]
        },
        {
          "name": "stderr",
          "output_type": "stream",
          "text": [
            "1078it [00:02, 461.83it/s]"
          ]
        },
        {
          "name": "stdout",
          "output_type": "stream",
          "text": [
            "[INFO] test set\n",
            "torch.Size([646268, 741])\n"
          ]
        },
        {
          "name": "stderr",
          "output_type": "stream",
          "text": [
            "\n"
          ]
        }
      ],
      "source": [
        "# load data\n",
        "test_X = preprocess_data(split='test', feat_dir='./libriphone/feat', phone_path='./libriphone', concat_nframes=concat_nframes)\n",
        "\n",
        "test_set = LibriDataset(test_X, None)\n",
        "test_loader = DataLoader(test_set, batch_size=batch_size, shuffle=False)"
      ]
    },
    {
      "cell_type": "code",
      "execution_count": 14,
      "metadata": {
        "colab": {
          "base_uri": "https://localhost:8080/"
        },
        "id": "ay0Fu8Ovkdad",
        "outputId": "e5b20aa7-4d8b-43a9-e068-f5c89706a360"
      },
      "outputs": [
        {
          "data": {
            "text/plain": [
              "<All keys matched successfully>"
            ]
          },
          "execution_count": 14,
          "metadata": {},
          "output_type": "execute_result"
        }
      ],
      "source": [
        "# load model\n",
        "model = Classifier(input_dim=input_dim, hidden_layers=hidden_layers, hidden_dim=hidden_dim).to(device)\n",
        "model.load_state_dict(torch.load(model_path))"
      ]
    },
    {
      "cell_type": "markdown",
      "metadata": {
        "id": "zp-DV1p4r7Nz"
      },
      "source": [
        "Make prediction."
      ]
    },
    {
      "cell_type": "code",
      "execution_count": 15,
      "metadata": {
        "colab": {
          "base_uri": "https://localhost:8080/"
        },
        "id": "84HU5GGjPqR0",
        "outputId": "cebd6694-8f74-44ff-f922-96ca4385acb8"
      },
      "outputs": [
        {
          "name": "stderr",
          "output_type": "stream",
          "text": [
            "100%|██████████| 316/316 [00:04<00:00, 66.70it/s]\n"
          ]
        }
      ],
      "source": [
        "test_acc = 0.0\n",
        "test_lengths = 0\n",
        "pred = np.array([], dtype=np.int32)\n",
        "\n",
        "model.eval()\n",
        "with torch.no_grad():\n",
        "    for i, batch in enumerate(tqdm(test_loader)):\n",
        "        features = batch\n",
        "        features = features.to(device)\n",
        "\n",
        "        outputs = model(features)\n",
        "\n",
        "        _, test_pred = torch.max(outputs, 1) # get the index of the class with the highest probability\n",
        "        pred = np.concatenate((pred, test_pred.cpu().numpy()), axis=0)\n"
      ]
    },
    {
      "cell_type": "markdown",
      "metadata": {
        "id": "wyZqy40Prz0v"
      },
      "source": [
        "Write prediction to a CSV file.\n",
        "\n",
        "After finish running this block, download the file `prediction.csv` from the files section on the left-hand side and submit it to Kaggle."
      ]
    },
    {
      "cell_type": "code",
      "execution_count": 16,
      "metadata": {
        "id": "GuljYSPHcZir"
      },
      "outputs": [],
      "source": [
        "with open('prediction.csv', 'w') as f:\n",
        "    f.write('Id,Class\\n')\n",
        "    for i, y in enumerate(pred):\n",
        "        f.write('{},{}\\n'.format(i, y))"
      ]
    },
    {
      "cell_type": "code",
      "execution_count": null,
      "metadata": {},
      "outputs": [],
      "source": []
    }
  ],
  "metadata": {
    "accelerator": "GPU",
    "colab": {
      "collapsed_sections": [],
      "name": "ML2022Spring - HW2.ipynb",
      "provenance": []
    },
    "kernelspec": {
      "display_name": "machine-learning",
      "language": "python",
      "name": "python3"
    },
    "language_info": {
      "codemirror_mode": {
        "name": "ipython",
        "version": 3
      },
      "file_extension": ".py",
      "mimetype": "text/x-python",
      "name": "python",
      "nbconvert_exporter": "python",
      "pygments_lexer": "ipython3",
      "version": "3.10.5"
    },
    "vscode": {
      "interpreter": {
        "hash": "3b287b2638b28c143e8b740ddcb0a96b617189043e0330c7f965d24699a487e2"
      }
    }
  },
  "nbformat": 4,
  "nbformat_minor": 0
}
