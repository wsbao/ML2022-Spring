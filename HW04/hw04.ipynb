{
  "cells": [
    {
      "cell_type": "markdown",
      "metadata": {
        "id": "C_jdZ5vHJ4A9"
      },
      "source": [
        "# Task description\n",
        "- Classify the speakers of given features.\n",
        "- Main goal: Learn how to use transformer.\n",
        "- Baselines:\n",
        "  - Easy: Run sample code and know how to use transformer.\n",
        "  - Medium: Know how to adjust parameters of transformer.\n",
        "  - Strong: Construct [conformer](https://arxiv.org/abs/2005.08100) which is a variety of transformer. \n",
        "  - Boss: Implement [Self-Attention Pooling](https://arxiv.org/pdf/2008.01077v1.pdf) & [Additive Margin Softmax](https://arxiv.org/pdf/1801.05599.pdf) to further boost the performance.\n",
        "\n",
        "- Other links\n",
        "  - Kaggle: [link](https://www.kaggle.com/t/ac77388c90204a4c8daebeddd40ff916)\n",
        "  - Slide: [link](https://docs.google.com/presentation/d/1HLAj7UUIjZOycDe7DaVLSwJfXVd3bXPOyzSb6Zk3hYU/edit?usp=sharing)\n",
        "  - Data: [link](https://drive.google.com/drive/folders/1vI1kuLB-q1VilIftiwnPOCAeOOFfBZge?usp=sharing)\n",
        "\n",
        "# Download dataset\n",
        "- Data is [here](https://drive.google.com/drive/folders/1vI1kuLB-q1VilIftiwnPOCAeOOFfBZge?usp=sharing)"
      ]
    },
    {
      "cell_type": "code",
      "execution_count": 1,
      "metadata": {
        "id": "LhLNWB-AK2Z5"
      },
      "outputs": [],
      "source": [
        "# !wget https://github.com/MachineLearningHW/ML_HW4_Dataset/releases/latest/download/Dataset.tar.gz.partaa\n",
        "# !wget https://github.com/MachineLearningHW/ML_HW4_Dataset/releases/latest/download/Dataset.tar.gz.partab\n",
        "# !wget https://github.com/MachineLearningHW/ML_HW4_Dataset/releases/latest/download/Dataset.tar.gz.partac\n",
        "# !wget https://github.com/MachineLearningHW/ML_HW4_Dataset/releases/latest/download/Dataset.tar.gz.partad\n",
        "\n",
        "# !cat Dataset.tar.gz.part* > Dataset.tar.gz\n",
        "\n",
        "# # unzip the file\n",
        "# !tar zxvf Dataset.tar.gz"
      ]
    },
    {
      "cell_type": "markdown",
      "metadata": {
        "id": "ENWVAUDVJtVY"
      },
      "source": [
        "## Fix Random Seed"
      ]
    },
    {
      "cell_type": "code",
      "execution_count": 2,
      "metadata": {
        "id": "E6burzCXIyuA"
      },
      "outputs": [],
      "source": [
        "import numpy as np\n",
        "import torch\n",
        "import random\n",
        "\n",
        "def set_seed(seed):\n",
        "    np.random.seed(seed)\n",
        "    random.seed(seed)\n",
        "    torch.manual_seed(seed)\n",
        "    if torch.cuda.is_available():\n",
        "        torch.cuda.manual_seed(seed)\n",
        "        torch.cuda.manual_seed_all(seed)\n",
        "    torch.backends.cudnn.benchmark = False\n",
        "    torch.backends.cudnn.deterministic = True\n",
        "\n",
        "set_seed(87)"
      ]
    },
    {
      "cell_type": "markdown",
      "metadata": {
        "id": "k7dVbxW2LASN"
      },
      "source": [
        "# Data\n",
        "\n",
        "## Dataset\n",
        "- Original dataset is [Voxceleb2](https://www.robots.ox.ac.uk/~vgg/data/voxceleb/vox2.html).\n",
        "- The [license](https://creativecommons.org/licenses/by/4.0/) and [complete version](https://www.robots.ox.ac.uk/~vgg/data/voxceleb/files/license.txt) of Voxceleb2.\n",
        "- We randomly select 600 speakers from Voxceleb2.\n",
        "- Then preprocess the raw waveforms into mel-spectrograms.\n",
        "\n",
        "- Args:\n",
        "  - data_dir: The path to the data directory.\n",
        "  - metadata_path: The path to the metadata.\n",
        "  - segment_len: The length of audio segment for training. \n",
        "- The architecture of data directory \\\\\n",
        "  - data directory \\\\\n",
        "  |---- metadata.json \\\\\n",
        "  |---- testdata.json \\\\\n",
        "  |---- mapping.json \\\\\n",
        "  |---- uttr-{random string}.pt \\\\\n",
        "\n",
        "- The information in metadata\n",
        "  - \"n_mels\": The dimention of mel-spectrogram.\n",
        "  - \"speakers\": A dictionary. \n",
        "    - Key: speaker ids.\n",
        "    - value: \"feature_path\" and \"mel_len\"\n",
        "\n",
        "\n",
        "For efficiency, we segment the mel-spectrograms into segments in the traing step."
      ]
    },
    {
      "cell_type": "code",
      "execution_count": 3,
      "metadata": {
        "id": "KpuGxl4CI2pr"
      },
      "outputs": [],
      "source": [
        "import os\n",
        "import json\n",
        "import torch\n",
        "import random\n",
        "from pathlib import Path\n",
        "from torch.utils.data import Dataset\n",
        "from torch.nn.utils.rnn import pad_sequence\n",
        " \n",
        " \n",
        "class myDataset(Dataset):\n",
        "\tdef __init__(self, data_dir, segment_len=128):\n",
        "\t\tself.data_dir = data_dir\n",
        "\t\tself.segment_len = segment_len\n",
        "\t\n",
        "\t\t# Load the mapping from speaker neme to their corresponding id. \n",
        "\t\tmapping_path = Path(data_dir) / \"mapping.json\"\n",
        "\t\tmapping = json.load(mapping_path.open())\n",
        "\t\tself.speaker2id = mapping[\"speaker2id\"]\n",
        "\t\n",
        "\t\t# Load metadata of training data.\n",
        "\t\tmetadata_path = Path(data_dir) / \"metadata.json\"\n",
        "\t\tmetadata = json.load(open(metadata_path))[\"speakers\"]\n",
        "\t\n",
        "\t\t# Get the total number of speaker.\n",
        "\t\tself.speaker_num = len(metadata.keys())\n",
        "\t\tself.data = []\n",
        "\t\tfor speaker in metadata.keys():\n",
        "\t\t\tfor utterances in metadata[speaker]:\n",
        "\t\t\t\tself.data.append([utterances[\"feature_path\"], self.speaker2id[speaker]])\n",
        " \n",
        "\tdef __len__(self):\n",
        "\t\t\treturn len(self.data)\n",
        " \n",
        "\tdef __getitem__(self, index):\n",
        "\t\tfeat_path, speaker = self.data[index]\n",
        "\t\t# Load preprocessed mel-spectrogram.\n",
        "\t\tmel = torch.load(os.path.join(self.data_dir, feat_path))\n",
        "\n",
        "\t\t# Segmemt mel-spectrogram into \"segment_len\" frames.\n",
        "\t\tif len(mel) > self.segment_len:\n",
        "\t\t\t# Randomly get the starting point of the segment.\n",
        "\t\t\tstart = random.randint(0, len(mel) - self.segment_len)\n",
        "\t\t\t# Get a segment with \"segment_len\" frames.\n",
        "\t\t\tmel = torch.FloatTensor(mel[start:start+self.segment_len])\n",
        "\t\telse:\n",
        "\t\t\tmel = torch.FloatTensor(mel)\n",
        "\t\t# Turn the speaker id into long for computing loss later.\n",
        "\t\tspeaker = torch.FloatTensor([speaker]).long()\n",
        "\t\treturn mel, speaker\n",
        " \n",
        "\tdef get_speaker_number(self):\n",
        "\t\treturn self.speaker_num"
      ]
    },
    {
      "cell_type": "markdown",
      "metadata": {
        "id": "668hverTMlGN"
      },
      "source": [
        "## Dataloader\n",
        "- Split dataset into training dataset(90%) and validation dataset(10%).\n",
        "- Create dataloader to iterate the data."
      ]
    },
    {
      "cell_type": "code",
      "execution_count": 4,
      "metadata": {
        "id": "B7c2gZYoJDRS"
      },
      "outputs": [],
      "source": [
        "import torch\n",
        "from torch.utils.data import DataLoader, random_split\n",
        "from torch.nn.utils.rnn import pad_sequence\n",
        "\n",
        "\n",
        "def collate_batch(batch):\n",
        "\t# Process features within a batch.\n",
        "\t\"\"\"Collate a batch of data.\"\"\"\n",
        "\tmel, speaker = zip(*batch)\n",
        "\t# Because we train the model batch by batch, we need to pad the features in the same batch to make their lengths the same.\n",
        "\tmel = pad_sequence(mel, batch_first=True, padding_value=-20)    # pad log 10^(-20) which is very small value.\n",
        "\t# mel: (batch size, length, 40)\n",
        "\treturn mel, torch.FloatTensor(speaker).long()\n",
        "\n",
        "\n",
        "def get_dataloader(data_dir, batch_size, n_workers):\n",
        "\t\"\"\"Generate dataloader\"\"\"\n",
        "\tdataset = myDataset(data_dir)\n",
        "\tspeaker_num = dataset.get_speaker_number()\n",
        "\t# Split dataset into training dataset and validation dataset\n",
        "\ttrainlen = int(0.9 * len(dataset))\n",
        "\tlengths = [trainlen, len(dataset) - trainlen]\n",
        "\ttrainset, validset = random_split(dataset, lengths)\n",
        "\n",
        "\ttrain_loader = DataLoader(\n",
        "\t\ttrainset,\n",
        "\t\tbatch_size=batch_size,\n",
        "\t\tshuffle=True,\n",
        "\t\tdrop_last=True,\n",
        "\t\tnum_workers=n_workers,\n",
        "\t\tpin_memory=True,\n",
        "\t\tcollate_fn=collate_batch,\n",
        "\t)\n",
        "\tvalid_loader = DataLoader(\n",
        "\t\tvalidset,\n",
        "\t\tbatch_size=batch_size,\n",
        "\t\tnum_workers=n_workers,\n",
        "\t\tdrop_last=True,\n",
        "\t\tpin_memory=True,\n",
        "\t\tcollate_fn=collate_batch,\n",
        "\t)\n",
        "\n",
        "\treturn train_loader, valid_loader, speaker_num"
      ]
    },
    {
      "cell_type": "markdown",
      "metadata": {
        "id": "5FOSZYxrMqhc"
      },
      "source": [
        "# Model\n",
        "- TransformerEncoderLayer:\n",
        "  - Base transformer encoder layer in [Attention Is All You Need](https://arxiv.org/abs/1706.03762)\n",
        "  - Parameters:\n",
        "    - d_model: the number of expected features of the input (required).\n",
        "\n",
        "    - nhead: the number of heads of the multiheadattention models (required).\n",
        "\n",
        "    - dim_feedforward: the dimension of the feedforward network model (default=2048).\n",
        "\n",
        "    - dropout: the dropout value (default=0.1).\n",
        "\n",
        "    - activation: the activation function of intermediate layer, relu or gelu (default=relu).\n",
        "\n",
        "- TransformerEncoder:\n",
        "  - TransformerEncoder is a stack of N transformer encoder layers\n",
        "  - Parameters:\n",
        "    - encoder_layer: an instance of the TransformerEncoderLayer() class (required).\n",
        "\n",
        "    - num_layers: the number of sub-encoder-layers in the encoder (required).\n",
        "\n",
        "    - norm: the layer normalization component (optional)."
      ]
    },
    {
      "cell_type": "code",
      "execution_count": 5,
      "metadata": {
        "id": "iXZ5B0EKJGs8"
      },
      "outputs": [],
      "source": [
        "import torch\n",
        "import torch.nn as nn\n",
        "import torch.nn.functional as F\n",
        "\n",
        "\n",
        "class Classifier(nn.Module):\n",
        "\tdef __init__(self, d_model=224, n_spks=600, dropout=0.2):\n",
        "\t\tsuper().__init__()\n",
        "\t\t# Project the dimension of features from that of input into d_model.\n",
        "\t\tself.prenet = nn.Linear(40, d_model)\n",
        "\t\t# TODO:\n",
        "\t\t#   Change Transformer to Conformer.\n",
        "\t\t#   https://arxiv.org/abs/2005.08100\n",
        "\t\tself.encoder_layer = nn.TransformerEncoderLayer(\n",
        "\t\t\td_model=d_model, dim_feedforward=2*d_model, nhead=2, dropout=dropout\n",
        "\t\t)\n",
        "\t\tself.encoder = nn.TransformerEncoder(self.encoder_layer, num_layers=3)\n",
        "\n",
        "\t\t# Project the the dimension of features from d_model into speaker nums.\n",
        "\t\tself.pred_layer = nn.Sequential(\n",
        "\t\t\t# nn.Linear(d_model, d_model),\n",
        "\t\t\tnn.BatchNorm1d(d_model),\n",
        "   \t\t\t# nn.ReLU(),\n",
        "\t\t\tnn.Linear(d_model, n_spks),\n",
        "\t\t)\n",
        "\n",
        "\tdef forward(self, mels):\n",
        "\t\t\"\"\"\n",
        "\t\targs:\n",
        "\t\t\tmels: (batch size, length, 40)\n",
        "\t\treturn:\n",
        "\t\t\tout: (batch size, n_spks)\n",
        "\t\t\"\"\"\n",
        "\t\t# out: (batch size, length, d_model)\n",
        "\t\tout = self.prenet(mels)\n",
        "\t\t# out: (length, batch size, d_model)\n",
        "\t\tout = out.permute(1, 0, 2)\n",
        "\t\t# The encoder layer expect features in the shape of (length, batch size, d_model).\n",
        "\t\t# out = self.encoder_layer(out)\n",
        "\t\tout = self.encoder(out)\n",
        "\t\t# out: (batch size, length, d_model)\n",
        "\t\tout = out.transpose(0, 1)\n",
        "\t\t# mean pooling\n",
        "\t\tstats = out.mean(dim=1)\n",
        "\n",
        "\t\t# out: (batch, n_spks)\n",
        "\t\tout = self.pred_layer(stats)\n",
        "\t\treturn out"
      ]
    },
    {
      "cell_type": "markdown",
      "metadata": {
        "id": "W7yX8JinM5Ly"
      },
      "source": [
        "# Learning rate schedule\n",
        "- For transformer architecture, the design of learning rate schedule is different from that of CNN.\n",
        "- Previous works show that the warmup of learning rate is useful for training models with transformer architectures.\n",
        "- The warmup schedule\n",
        "  - Set learning rate to 0 in the beginning.\n",
        "  - The learning rate increases linearly from 0 to initial learning rate during warmup period."
      ]
    },
    {
      "cell_type": "code",
      "execution_count": 6,
      "metadata": {
        "id": "ykt0N1nVJJi2"
      },
      "outputs": [],
      "source": [
        "import math\n",
        "\n",
        "import torch\n",
        "from torch.optim import Optimizer\n",
        "from torch.optim.lr_scheduler import LambdaLR\n",
        "\n",
        "\n",
        "def get_cosine_schedule_with_warmup(\n",
        "\toptimizer: Optimizer,\n",
        "\tnum_warmup_steps: int,\n",
        "\tnum_training_steps: int,\n",
        "\tnum_cycles: float = 0.5,\n",
        "\tlast_epoch: int = -1,\n",
        "):\n",
        "\t\"\"\"\n",
        "\tCreate a schedule with a learning rate that decreases following the values of the cosine function between the\n",
        "\tinitial lr set in the optimizer to 0, after a warmup period during which it increases linearly between 0 and the\n",
        "\tinitial lr set in the optimizer.\n",
        "\n",
        "\tArgs:\n",
        "\t\toptimizer (:class:`~torch.optim.Optimizer`):\n",
        "\t\tThe optimizer for which to schedule the learning rate.\n",
        "\t\tnum_warmup_steps (:obj:`int`):\n",
        "\t\tThe number of steps for the warmup phase.\n",
        "\t\tnum_training_steps (:obj:`int`):\n",
        "\t\tThe total number of training steps.\n",
        "\t\tnum_cycles (:obj:`float`, `optional`, defaults to 0.5):\n",
        "\t\tThe number of waves in the cosine schedule (the defaults is to just decrease from the max value to 0\n",
        "\t\tfollowing a half-cosine).\n",
        "\t\tlast_epoch (:obj:`int`, `optional`, defaults to -1):\n",
        "\t\tThe index of the last epoch when resuming training.\n",
        "\n",
        "\tReturn:\n",
        "\t\t:obj:`torch.optim.lr_scheduler.LambdaLR` with the appropriate schedule.\n",
        "\t\"\"\"\n",
        "\tdef lr_lambda(current_step):\n",
        "\t\t# Warmup\n",
        "\t\tif current_step < num_warmup_steps:\n",
        "\t\t\treturn float(current_step) / float(max(1, num_warmup_steps))\n",
        "\t\t# decadence\n",
        "\t\tprogress = float(current_step - num_warmup_steps) / float(\n",
        "\t\t\tmax(1, num_training_steps - num_warmup_steps)\n",
        "\t\t)\n",
        "\t\treturn max(\n",
        "\t\t\t0.0, 0.5 * (1.0 + math.cos(math.pi * float(num_cycles) * 2.0 * progress))\n",
        "\t\t)\n",
        "\n",
        "\treturn LambdaLR(optimizer, lr_lambda, last_epoch)"
      ]
    },
    {
      "cell_type": "markdown",
      "metadata": {
        "id": "-LN2XkteM_uH"
      },
      "source": [
        "# Model Function\n",
        "- Model forward function."
      ]
    },
    {
      "cell_type": "code",
      "execution_count": 7,
      "metadata": {
        "id": "N-rr8529JMz0"
      },
      "outputs": [],
      "source": [
        "import torch\n",
        "\n",
        "\n",
        "def model_fn(batch, model, criterion, device):\n",
        "\t\"\"\"Forward a batch through the model.\"\"\"\n",
        "\n",
        "\tmels, labels = batch\n",
        "\tmels = mels.to(device)\n",
        "\tlabels = labels.to(device)\n",
        "\n",
        "\touts = model(mels)\n",
        "\n",
        "\tloss = criterion(outs, labels)\n",
        "\n",
        "\t# Get the speaker id with highest probability.\n",
        "\tpreds = outs.argmax(1)\n",
        "\t# Compute accuracy.\n",
        "\taccuracy = torch.mean((preds == labels).float())\n",
        "\n",
        "\treturn loss, accuracy"
      ]
    },
    {
      "cell_type": "markdown",
      "metadata": {
        "id": "cwM_xyOtNCI2"
      },
      "source": [
        "# Validate\n",
        "- Calculate accuracy of the validation set."
      ]
    },
    {
      "cell_type": "code",
      "execution_count": 8,
      "metadata": {
        "id": "YAiv6kpdJRTJ"
      },
      "outputs": [],
      "source": [
        "from tqdm import tqdm\n",
        "import torch\n",
        "\n",
        "\n",
        "def valid(dataloader, model, criterion, device): \n",
        "\t\"\"\"Validate on validation set.\"\"\"\n",
        "\n",
        "\tmodel.eval()\n",
        "\trunning_loss = 0.0\n",
        "\trunning_accuracy = 0.0\n",
        "\tpbar = tqdm(total=len(dataloader.dataset), ncols=0, desc=\"Valid\", unit=\" uttr\")\n",
        "\n",
        "\tfor i, batch in enumerate(dataloader):\n",
        "\t\twith torch.no_grad():\n",
        "\t\t\tloss, accuracy = model_fn(batch, model, criterion, device)\n",
        "\t\t\trunning_loss += loss.item()\n",
        "\t\t\trunning_accuracy += accuracy.item()\n",
        "\n",
        "\t\tpbar.update(dataloader.batch_size)\n",
        "\t\tpbar.set_postfix(\n",
        "\t\t\tloss=f\"{running_loss / (i+1):.2f}\",\n",
        "\t\t\taccuracy=f\"{running_accuracy / (i+1):.2f}\",\n",
        "\t\t)\n",
        "\n",
        "\tpbar.close()\n",
        "\tmodel.train()\n",
        "\n",
        "\treturn running_accuracy / len(dataloader)"
      ]
    },
    {
      "cell_type": "markdown",
      "metadata": {
        "id": "g6ne9G-eNEdG"
      },
      "source": [
        "# Main function"
      ]
    },
    {
      "cell_type": "code",
      "execution_count": 9,
      "metadata": {
        "id": "Usv9s-CuJSG7"
      },
      "outputs": [
        {
          "name": "stdout",
          "output_type": "stream",
          "text": [
            "[Info]: Use cuda now!\n",
            "[Info]: Finish loading data!\n",
            "[Info]: Finish creating model!\n"
          ]
        },
        {
          "name": "stderr",
          "output_type": "stream",
          "text": [
            "Train: 100% 2000/2000 [01:03<00:00, 31.62 step/s, accuracy=0.19, loss=3.66, step=2000]\n",
            "Valid: 100% 5664/5667 [00:02<00:00, 2005.36 uttr/s, accuracy=0.24, loss=3.66]\n",
            "Train: 100% 2000/2000 [01:02<00:00, 31.78 step/s, accuracy=0.47, loss=2.20, step=4000]\n",
            "Valid: 100% 5664/5667 [00:02<00:00, 1999.76 uttr/s, accuracy=0.43, loss=2.59]\n",
            "Train: 100% 2000/2000 [01:03<00:00, 31.57 step/s, accuracy=0.47, loss=2.29, step=6000]\n",
            "Valid: 100% 5664/5667 [00:02<00:00, 1983.35 uttr/s, accuracy=0.50, loss=2.32]\n",
            "Train: 100% 2000/2000 [01:03<00:00, 31.62 step/s, accuracy=0.59, loss=1.78, step=8000]\n",
            "Valid: 100% 5664/5667 [00:02<00:00, 1989.15 uttr/s, accuracy=0.55, loss=2.06]\n",
            "Train: 100% 2000/2000 [01:02<00:00, 31.78 step/s, accuracy=0.62, loss=1.77, step=1e+4]\n",
            "Valid: 100% 5664/5667 [00:02<00:00, 1897.29 uttr/s, accuracy=0.59, loss=1.83]\n",
            "Train:   0% 6/2000 [00:00<01:13, 27.10 step/s, accuracy=0.53, loss=1.66, step=1e+4]"
          ]
        },
        {
          "name": "stdout",
          "output_type": "stream",
          "text": [
            "Step 10000, best model saved. (accuracy=0.5890)\n"
          ]
        },
        {
          "name": "stderr",
          "output_type": "stream",
          "text": [
            "Train: 100% 2000/2000 [01:02<00:00, 31.96 step/s, accuracy=0.59, loss=1.16, step=12000]\n",
            "Valid: 100% 5664/5667 [00:02<00:00, 1927.98 uttr/s, accuracy=0.61, loss=1.74]\n",
            "Train: 100% 2000/2000 [01:02<00:00, 31.97 step/s, accuracy=0.66, loss=1.24, step=14000]\n",
            "Valid: 100% 5664/5667 [00:02<00:00, 1913.05 uttr/s, accuracy=0.61, loss=1.80]\n",
            "Train: 100% 2000/2000 [01:02<00:00, 31.84 step/s, accuracy=0.84, loss=0.85, step=16000]\n",
            "Valid: 100% 5664/5667 [00:02<00:00, 1919.19 uttr/s, accuracy=0.63, loss=1.68]\n",
            "Train: 100% 2000/2000 [01:02<00:00, 31.95 step/s, accuracy=0.75, loss=1.29, step=18000]\n",
            "Valid: 100% 5664/5667 [00:02<00:00, 1916.10 uttr/s, accuracy=0.62, loss=1.75]\n",
            "Train: 100% 2000/2000 [01:02<00:00, 31.97 step/s, accuracy=0.69, loss=1.19, step=2e+4] \n",
            "Valid: 100% 5664/5667 [00:02<00:00, 1917.17 uttr/s, accuracy=0.68, loss=1.41]\n",
            "Train:   0% 5/2000 [00:00<01:18, 25.56 step/s, accuracy=0.62, loss=1.43, step=2e+4]"
          ]
        },
        {
          "name": "stdout",
          "output_type": "stream",
          "text": [
            "Step 20000, best model saved. (accuracy=0.6834)\n"
          ]
        },
        {
          "name": "stderr",
          "output_type": "stream",
          "text": [
            "Train: 100% 2000/2000 [01:02<00:00, 31.95 step/s, accuracy=0.69, loss=1.35, step=22000]\n",
            "Valid: 100% 5664/5667 [00:02<00:00, 1910.88 uttr/s, accuracy=0.67, loss=1.48]\n",
            "Train: 100% 2000/2000 [01:02<00:00, 31.79 step/s, accuracy=0.69, loss=1.16, step=24000]\n",
            "Valid: 100% 5664/5667 [00:02<00:00, 1929.98 uttr/s, accuracy=0.69, loss=1.40]\n",
            "Train: 100% 2000/2000 [01:02<00:00, 31.87 step/s, accuracy=0.81, loss=0.64, step=26000]\n",
            "Valid: 100% 5664/5667 [00:02<00:00, 1915.86 uttr/s, accuracy=0.70, loss=1.34]\n",
            "Train: 100% 2000/2000 [01:02<00:00, 31.77 step/s, accuracy=0.78, loss=1.01, step=28000]\n",
            "Valid: 100% 5664/5667 [00:02<00:00, 1907.97 uttr/s, accuracy=0.71, loss=1.29]\n",
            "Train: 100% 2000/2000 [01:02<00:00, 31.91 step/s, accuracy=0.81, loss=0.97, step=3e+4] \n",
            "Valid: 100% 5664/5667 [00:02<00:00, 1920.35 uttr/s, accuracy=0.70, loss=1.41]\n",
            "Train:   0% 6/2000 [00:00<01:17, 25.64 step/s, accuracy=0.72, loss=1.07, step=3e+4]"
          ]
        },
        {
          "name": "stdout",
          "output_type": "stream",
          "text": [
            "Step 30000, best model saved. (accuracy=0.7064)\n"
          ]
        },
        {
          "name": "stderr",
          "output_type": "stream",
          "text": [
            "Train: 100% 2000/2000 [01:03<00:00, 31.74 step/s, accuracy=0.84, loss=0.64, step=32000]\n",
            "Valid: 100% 5664/5667 [00:02<00:00, 1920.53 uttr/s, accuracy=0.72, loss=1.26]\n",
            "Train: 100% 2000/2000 [01:02<00:00, 31.93 step/s, accuracy=0.78, loss=0.83, step=34000]\n",
            "Valid: 100% 5664/5667 [00:02<00:00, 1919.35 uttr/s, accuracy=0.71, loss=1.27]\n",
            "Train: 100% 2000/2000 [01:02<00:00, 31.94 step/s, accuracy=0.91, loss=0.44, step=36000]\n",
            "Valid: 100% 5664/5667 [00:02<00:00, 1920.50 uttr/s, accuracy=0.72, loss=1.33]\n",
            "Train: 100% 2000/2000 [01:02<00:00, 32.01 step/s, accuracy=0.84, loss=0.65, step=38000]\n",
            "Valid: 100% 5664/5667 [00:02<00:00, 1921.12 uttr/s, accuracy=0.72, loss=1.29]\n",
            "Train: 100% 2000/2000 [01:02<00:00, 31.84 step/s, accuracy=0.81, loss=0.52, step=4e+4] \n",
            "Valid: 100% 5664/5667 [00:02<00:00, 1917.96 uttr/s, accuracy=0.74, loss=1.22]\n",
            "Train:   0% 6/2000 [00:00<01:12, 27.43 step/s, accuracy=0.72, loss=1.05, step=4e+4]"
          ]
        },
        {
          "name": "stdout",
          "output_type": "stream",
          "text": [
            "Step 40000, best model saved. (accuracy=0.7357)\n"
          ]
        },
        {
          "name": "stderr",
          "output_type": "stream",
          "text": [
            "Train: 100% 2000/2000 [01:02<00:00, 31.79 step/s, accuracy=0.75, loss=0.74, step=42000]\n",
            "Valid: 100% 5664/5667 [00:02<00:00, 1917.95 uttr/s, accuracy=0.72, loss=1.27]\n",
            "Train: 100% 2000/2000 [01:02<00:00, 31.88 step/s, accuracy=0.69, loss=0.96, step=44000]\n",
            "Valid: 100% 5664/5667 [00:02<00:00, 1905.16 uttr/s, accuracy=0.73, loss=1.25]\n",
            "Train: 100% 2000/2000 [01:02<00:00, 31.97 step/s, accuracy=0.81, loss=0.82, step=46000]\n",
            "Valid: 100% 5664/5667 [00:02<00:00, 1909.85 uttr/s, accuracy=0.74, loss=1.19]\n",
            "Train: 100% 2000/2000 [01:02<00:00, 31.77 step/s, accuracy=0.75, loss=0.62, step=48000]\n",
            "Valid: 100% 5664/5667 [00:02<00:00, 1909.08 uttr/s, accuracy=0.76, loss=1.12]\n",
            "Train: 100% 2000/2000 [01:04<00:00, 31.22 step/s, accuracy=0.69, loss=0.94, step=5e+4] \n",
            "Valid: 100% 5664/5667 [00:02<00:00, 1907.39 uttr/s, accuracy=0.76, loss=1.13]\n",
            "Train:   0% 4/2000 [00:00<01:25, 23.37 step/s, accuracy=0.72, loss=0.98, step=5e+4]"
          ]
        },
        {
          "name": "stdout",
          "output_type": "stream",
          "text": [
            "Step 50000, best model saved. (accuracy=0.7641)\n"
          ]
        },
        {
          "name": "stderr",
          "output_type": "stream",
          "text": [
            "Train: 100% 2000/2000 [01:02<00:00, 32.03 step/s, accuracy=0.84, loss=1.04, step=52000]\n",
            "Valid: 100% 5664/5667 [00:02<00:00, 1917.20 uttr/s, accuracy=0.75, loss=1.15]\n",
            "Train: 100% 2000/2000 [01:04<00:00, 31.09 step/s, accuracy=0.66, loss=1.27, step=54000]\n",
            "Valid: 100% 5664/5667 [00:03<00:00, 1696.90 uttr/s, accuracy=0.77, loss=1.09]\n",
            "Train: 100% 2000/2000 [01:03<00:00, 31.73 step/s, accuracy=0.78, loss=0.78, step=56000]\n",
            "Valid: 100% 5664/5667 [00:02<00:00, 1927.02 uttr/s, accuracy=0.76, loss=1.18]\n",
            "Train: 100% 2000/2000 [01:02<00:00, 31.92 step/s, accuracy=0.91, loss=0.34, step=58000]\n",
            "Valid: 100% 5664/5667 [00:02<00:00, 1916.15 uttr/s, accuracy=0.76, loss=1.13]\n",
            "Train: 100% 2000/2000 [01:02<00:00, 31.99 step/s, accuracy=0.81, loss=0.67, step=6e+4] \n",
            "Valid: 100% 5664/5667 [00:02<00:00, 1919.43 uttr/s, accuracy=0.77, loss=1.11]\n",
            "Train:   0% 5/2000 [00:00<01:13, 27.31 step/s, accuracy=0.84, loss=0.50, step=6e+4]"
          ]
        },
        {
          "name": "stdout",
          "output_type": "stream",
          "text": [
            "Step 60000, best model saved. (accuracy=0.7655)\n"
          ]
        },
        {
          "name": "stderr",
          "output_type": "stream",
          "text": [
            "Train: 100% 2000/2000 [01:02<00:00, 31.97 step/s, accuracy=0.88, loss=0.48, step=62000]\n",
            "Valid: 100% 5664/5667 [00:02<00:00, 1927.05 uttr/s, accuracy=0.77, loss=1.08]\n",
            "Train: 100% 2000/2000 [01:02<00:00, 31.91 step/s, accuracy=0.78, loss=0.71, step=64000]\n",
            "Valid: 100% 5664/5667 [00:02<00:00, 1910.34 uttr/s, accuracy=0.78, loss=1.03]\n",
            "Train: 100% 2000/2000 [01:02<00:00, 31.98 step/s, accuracy=0.75, loss=0.70, step=66000]\n",
            "Valid: 100% 5664/5667 [00:03<00:00, 1880.66 uttr/s, accuracy=0.77, loss=1.07]\n",
            "Train: 100% 2000/2000 [01:03<00:00, 31.38 step/s, accuracy=0.88, loss=0.51, step=68000]\n",
            "Valid: 100% 5664/5667 [00:02<00:00, 1977.51 uttr/s, accuracy=0.77, loss=1.08]\n",
            "Train: 100% 2000/2000 [01:02<00:00, 31.78 step/s, accuracy=0.88, loss=0.38, step=7e+4] \n",
            "Valid: 100% 5664/5667 [00:02<00:00, 1950.70 uttr/s, accuracy=0.78, loss=1.01]\n",
            "Train:   0% 6/2000 [00:00<01:17, 25.86 step/s, accuracy=0.91, loss=0.44, step=7e+4]"
          ]
        },
        {
          "name": "stdout",
          "output_type": "stream",
          "text": [
            "Step 70000, best model saved. (accuracy=0.7848)\n"
          ]
        },
        {
          "name": "stderr",
          "output_type": "stream",
          "text": [
            "Train: 100% 2000/2000 [01:02<00:00, 31.80 step/s, accuracy=0.91, loss=0.50, step=72000]\n",
            "Valid: 100% 5664/5667 [00:02<00:00, 1932.47 uttr/s, accuracy=0.79, loss=1.03]\n",
            "Train: 100% 2000/2000 [01:02<00:00, 31.85 step/s, accuracy=0.84, loss=0.59, step=74000]\n",
            "Valid: 100% 5664/5667 [00:02<00:00, 1939.31 uttr/s, accuracy=0.79, loss=1.04]\n",
            "Train: 100% 2000/2000 [01:02<00:00, 32.08 step/s, accuracy=0.81, loss=0.38, step=76000]\n",
            "Valid: 100% 5664/5667 [00:02<00:00, 1930.59 uttr/s, accuracy=0.79, loss=1.02]\n",
            "Train: 100% 2000/2000 [01:02<00:00, 31.98 step/s, accuracy=0.75, loss=0.78, step=78000]\n",
            "Valid: 100% 5664/5667 [00:02<00:00, 1928.45 uttr/s, accuracy=0.78, loss=1.07]\n",
            "Train: 100% 2000/2000 [01:02<00:00, 31.97 step/s, accuracy=0.91, loss=0.34, step=8e+4] \n",
            "Valid: 100% 5664/5667 [00:02<00:00, 1905.64 uttr/s, accuracy=0.80, loss=0.97]\n",
            "Train:   0% 6/2000 [00:00<01:14, 26.91 step/s, accuracy=0.75, loss=0.66, step=8e+4]"
          ]
        },
        {
          "name": "stdout",
          "output_type": "stream",
          "text": [
            "Step 80000, best model saved. (accuracy=0.7966)\n"
          ]
        },
        {
          "name": "stderr",
          "output_type": "stream",
          "text": [
            "Train: 100% 2000/2000 [01:02<00:00, 31.97 step/s, accuracy=0.78, loss=0.49, step=82000]\n",
            "Valid: 100% 5664/5667 [00:03<00:00, 1820.58 uttr/s, accuracy=0.80, loss=0.97]\n",
            "Train: 100% 2000/2000 [01:03<00:00, 31.64 step/s, accuracy=0.88, loss=0.52, step=84000]\n",
            "Valid: 100% 5664/5667 [00:02<00:00, 1966.02 uttr/s, accuracy=0.79, loss=1.02]\n",
            "Train: 100% 2000/2000 [01:02<00:00, 31.77 step/s, accuracy=0.84, loss=0.78, step=86000]\n",
            "Valid: 100% 5664/5667 [00:03<00:00, 1884.35 uttr/s, accuracy=0.81, loss=0.93]\n",
            "Train: 100% 2000/2000 [01:02<00:00, 31.97 step/s, accuracy=0.81, loss=0.52, step=88000]\n",
            "Valid: 100% 5664/5667 [00:02<00:00, 1927.83 uttr/s, accuracy=0.80, loss=1.02]\n",
            "Train: 100% 2000/2000 [01:02<00:00, 31.81 step/s, accuracy=0.91, loss=0.39, step=9e+4] \n",
            "Valid: 100% 5664/5667 [00:02<00:00, 1917.99 uttr/s, accuracy=0.81, loss=0.96]\n",
            "Train:   0% 6/2000 [00:00<01:10, 28.10 step/s, accuracy=0.94, loss=0.26, step=9e+4]"
          ]
        },
        {
          "name": "stdout",
          "output_type": "stream",
          "text": [
            "Step 90000, best model saved. (accuracy=0.8088)\n"
          ]
        },
        {
          "name": "stderr",
          "output_type": "stream",
          "text": [
            "Train: 100% 2000/2000 [01:03<00:00, 31.73 step/s, accuracy=0.88, loss=0.55, step=92000]\n",
            "Valid: 100% 5664/5667 [00:02<00:00, 1936.80 uttr/s, accuracy=0.81, loss=0.94]\n",
            "Train: 100% 2000/2000 [01:02<00:00, 31.90 step/s, accuracy=0.97, loss=0.15, step=94000]\n",
            "Valid: 100% 5664/5667 [00:02<00:00, 1916.81 uttr/s, accuracy=0.82, loss=0.93]\n",
            "Train: 100% 2000/2000 [01:02<00:00, 32.02 step/s, accuracy=0.94, loss=0.33, step=96000]\n",
            "Valid: 100% 5664/5667 [00:02<00:00, 1933.42 uttr/s, accuracy=0.82, loss=0.87]\n",
            "Train: 100% 2000/2000 [01:02<00:00, 31.92 step/s, accuracy=0.91, loss=0.28, step=98000]\n",
            "Valid: 100% 5664/5667 [00:02<00:00, 1908.35 uttr/s, accuracy=0.81, loss=0.90]\n",
            "Train: 100% 2000/2000 [01:02<00:00, 32.03 step/s, accuracy=0.94, loss=0.22, step=1e+5] \n",
            "Valid: 100% 5664/5667 [00:02<00:00, 1922.05 uttr/s, accuracy=0.81, loss=0.90]\n",
            "Train:   0% 6/2000 [00:00<01:17, 25.61 step/s, accuracy=0.84, loss=0.40, step=1e+5]"
          ]
        },
        {
          "name": "stdout",
          "output_type": "stream",
          "text": [
            "Step 100000, best model saved. (accuracy=0.8208)\n"
          ]
        },
        {
          "name": "stderr",
          "output_type": "stream",
          "text": [
            "Train: 100% 2000/2000 [01:02<00:00, 32.01 step/s, accuracy=0.94, loss=0.32, step=102000]\n",
            "Valid: 100% 5664/5667 [00:02<00:00, 1907.03 uttr/s, accuracy=0.82, loss=0.92]\n",
            "Train: 100% 2000/2000 [01:02<00:00, 32.11 step/s, accuracy=0.81, loss=0.47, step=104000]\n",
            "Valid: 100% 5664/5667 [00:02<00:00, 1942.00 uttr/s, accuracy=0.83, loss=0.90]\n",
            "Train: 100% 2000/2000 [01:02<00:00, 32.19 step/s, accuracy=0.84, loss=0.53, step=106000]\n",
            "Valid: 100% 5664/5667 [00:02<00:00, 1911.34 uttr/s, accuracy=0.83, loss=0.82]\n",
            "Train: 100% 2000/2000 [01:02<00:00, 32.03 step/s, accuracy=0.88, loss=0.52, step=108000]\n",
            "Valid: 100% 5664/5667 [00:02<00:00, 1945.21 uttr/s, accuracy=0.83, loss=0.88]\n",
            "Train: 100% 2000/2000 [01:02<00:00, 31.93 step/s, accuracy=0.88, loss=0.26, step=110000]\n",
            "Valid: 100% 5664/5667 [00:02<00:00, 1932.65 uttr/s, accuracy=0.83, loss=0.82]\n",
            "Train:   0% 5/2000 [00:00<01:13, 27.01 step/s, accuracy=0.88, loss=0.45, step=110005]"
          ]
        },
        {
          "name": "stdout",
          "output_type": "stream",
          "text": [
            "Step 110000, best model saved. (accuracy=0.8346)\n"
          ]
        },
        {
          "name": "stderr",
          "output_type": "stream",
          "text": [
            "Train: 100% 2000/2000 [01:03<00:00, 31.66 step/s, accuracy=0.94, loss=0.15, step=112000]\n",
            "Valid: 100% 5664/5667 [00:02<00:00, 1924.08 uttr/s, accuracy=0.83, loss=0.87]\n",
            "Train: 100% 2000/2000 [01:02<00:00, 31.99 step/s, accuracy=0.91, loss=0.23, step=114000]\n",
            "Valid: 100% 5664/5667 [00:02<00:00, 1925.78 uttr/s, accuracy=0.83, loss=0.83]\n",
            "Train: 100% 2000/2000 [01:02<00:00, 31.93 step/s, accuracy=0.94, loss=0.34, step=116000]\n",
            "Valid: 100% 5664/5667 [00:02<00:00, 1914.19 uttr/s, accuracy=0.84, loss=0.80]\n",
            "Train: 100% 2000/2000 [01:02<00:00, 32.01 step/s, accuracy=0.97, loss=0.12, step=118000]\n",
            "Valid: 100% 5664/5667 [00:02<00:00, 1916.21 uttr/s, accuracy=0.84, loss=0.83]\n",
            "Train: 100% 2000/2000 [01:02<00:00, 32.02 step/s, accuracy=0.97, loss=0.12, step=120000]\n",
            "Valid: 100% 5664/5667 [00:02<00:00, 1904.02 uttr/s, accuracy=0.84, loss=0.80]\n",
            "Train:   0% 5/2000 [00:00<01:19, 25.02 step/s, accuracy=0.88, loss=0.32, step=120005]"
          ]
        },
        {
          "name": "stdout",
          "output_type": "stream",
          "text": [
            "Step 120000, best model saved. (accuracy=0.8439)\n"
          ]
        },
        {
          "name": "stderr",
          "output_type": "stream",
          "text": [
            "Train: 100% 2000/2000 [01:02<00:00, 32.02 step/s, accuracy=0.88, loss=0.44, step=122000]\n",
            "Valid: 100% 5664/5667 [00:02<00:00, 1936.87 uttr/s, accuracy=0.85, loss=0.82]\n",
            "Train: 100% 2000/2000 [01:02<00:00, 32.06 step/s, accuracy=0.91, loss=0.25, step=124000]\n",
            "Valid: 100% 5664/5667 [00:03<00:00, 1858.83 uttr/s, accuracy=0.85, loss=0.77]\n",
            "Train: 100% 2000/2000 [01:02<00:00, 32.00 step/s, accuracy=0.91, loss=0.41, step=126000]\n",
            "Valid: 100% 5664/5667 [00:02<00:00, 1924.90 uttr/s, accuracy=0.85, loss=0.78]\n",
            "Train: 100% 2000/2000 [01:02<00:00, 31.93 step/s, accuracy=0.97, loss=0.11, step=128000]\n",
            "Valid: 100% 5664/5667 [00:02<00:00, 1919.20 uttr/s, accuracy=0.85, loss=0.84]\n",
            "Train: 100% 2000/2000 [01:02<00:00, 32.05 step/s, accuracy=0.88, loss=0.22, step=130000]\n",
            "Valid: 100% 5664/5667 [00:02<00:00, 1908.05 uttr/s, accuracy=0.86, loss=0.75]\n",
            "Train:   0% 6/2000 [00:00<01:10, 28.27 step/s, accuracy=1.00, loss=0.07, step=130005]"
          ]
        },
        {
          "name": "stdout",
          "output_type": "stream",
          "text": [
            "Step 130000, best model saved. (accuracy=0.8602)\n"
          ]
        },
        {
          "name": "stderr",
          "output_type": "stream",
          "text": [
            "Train: 100% 2000/2000 [01:02<00:00, 31.93 step/s, accuracy=1.00, loss=0.07, step=132000]\n",
            "Valid: 100% 5664/5667 [00:02<00:00, 1934.55 uttr/s, accuracy=0.86, loss=0.74]\n",
            "Train: 100% 2000/2000 [01:02<00:00, 32.00 step/s, accuracy=0.88, loss=0.23, step=134000]\n",
            "Valid: 100% 5664/5667 [00:02<00:00, 1925.21 uttr/s, accuracy=0.86, loss=0.74]\n",
            "Train: 100% 2000/2000 [01:02<00:00, 31.97 step/s, accuracy=0.94, loss=0.24, step=136000]\n",
            "Valid: 100% 5664/5667 [00:02<00:00, 1936.99 uttr/s, accuracy=0.86, loss=0.74]\n",
            "Train: 100% 2000/2000 [01:02<00:00, 31.98 step/s, accuracy=0.97, loss=0.33, step=138000]\n",
            "Valid: 100% 5664/5667 [00:02<00:00, 1923.95 uttr/s, accuracy=0.86, loss=0.75]\n",
            "Train: 100% 2000/2000 [01:02<00:00, 32.11 step/s, accuracy=0.97, loss=0.05, step=140000]\n",
            "Valid: 100% 5664/5667 [00:02<00:00, 1932.27 uttr/s, accuracy=0.86, loss=0.76]\n",
            "Train:   0% 5/2000 [00:00<01:12, 27.45 step/s, accuracy=1.00, loss=0.07, step=140005]"
          ]
        },
        {
          "name": "stdout",
          "output_type": "stream",
          "text": [
            "Step 140000, best model saved. (accuracy=0.8649)\n"
          ]
        },
        {
          "name": "stderr",
          "output_type": "stream",
          "text": [
            "Train: 100% 2000/2000 [01:02<00:00, 32.00 step/s, accuracy=1.00, loss=0.01, step=142000]\n",
            "Valid: 100% 5664/5667 [00:02<00:00, 1926.34 uttr/s, accuracy=0.86, loss=0.75]\n",
            "Train: 100% 2000/2000 [01:02<00:00, 31.90 step/s, accuracy=0.97, loss=0.16, step=144000]\n",
            "Valid: 100% 5664/5667 [00:02<00:00, 1928.23 uttr/s, accuracy=0.87, loss=0.71]\n",
            "Train: 100% 2000/2000 [01:02<00:00, 32.05 step/s, accuracy=0.97, loss=0.10, step=146000]\n",
            "Valid: 100% 5664/5667 [00:03<00:00, 1872.96 uttr/s, accuracy=0.87, loss=0.70]\n",
            "Train: 100% 2000/2000 [01:02<00:00, 31.86 step/s, accuracy=0.97, loss=0.16, step=148000]\n",
            "Valid: 100% 5664/5667 [00:02<00:00, 1898.99 uttr/s, accuracy=0.87, loss=0.72]\n",
            "Train: 100% 2000/2000 [01:02<00:00, 32.12 step/s, accuracy=0.97, loss=0.07, step=150000]\n",
            "Valid: 100% 5664/5667 [00:02<00:00, 1912.74 uttr/s, accuracy=0.87, loss=0.71]\n",
            "Train:   0% 5/2000 [00:00<01:16, 26.00 step/s, accuracy=0.94, loss=0.17, step=150005]"
          ]
        },
        {
          "name": "stdout",
          "output_type": "stream",
          "text": [
            "Step 150000, best model saved. (accuracy=0.8731)\n"
          ]
        },
        {
          "name": "stderr",
          "output_type": "stream",
          "text": [
            "Train: 100% 2000/2000 [01:03<00:00, 31.65 step/s, accuracy=0.94, loss=0.10, step=152000]\n",
            "Valid: 100% 5664/5667 [00:02<00:00, 1909.09 uttr/s, accuracy=0.88, loss=0.69]\n",
            "Train: 100% 2000/2000 [01:02<00:00, 32.02 step/s, accuracy=1.00, loss=0.02, step=154000]\n",
            "Valid: 100% 5664/5667 [00:02<00:00, 1916.31 uttr/s, accuracy=0.87, loss=0.70]\n",
            "Train: 100% 2000/2000 [01:02<00:00, 32.03 step/s, accuracy=0.97, loss=0.17, step=156000]\n",
            "Valid: 100% 5664/5667 [00:02<00:00, 1929.92 uttr/s, accuracy=0.88, loss=0.66]\n",
            "Train: 100% 2000/2000 [01:02<00:00, 32.14 step/s, accuracy=1.00, loss=0.02, step=158000]\n",
            "Valid: 100% 5664/5667 [00:02<00:00, 1912.06 uttr/s, accuracy=0.87, loss=0.69]\n",
            "Train: 100% 2000/2000 [01:03<00:00, 31.53 step/s, accuracy=1.00, loss=0.04, step=160000]\n",
            "Valid: 100% 5664/5667 [00:02<00:00, 1929.41 uttr/s, accuracy=0.87, loss=0.71]\n",
            "Train:   0% 5/2000 [00:00<01:19, 25.08 step/s, accuracy=1.00, loss=0.03, step=160005]"
          ]
        },
        {
          "name": "stdout",
          "output_type": "stream",
          "text": [
            "Step 160000, best model saved. (accuracy=0.8792)\n"
          ]
        },
        {
          "name": "stderr",
          "output_type": "stream",
          "text": [
            "Train: 100% 2000/2000 [01:02<00:00, 31.81 step/s, accuracy=1.00, loss=0.01, step=162000]\n",
            "Valid: 100% 5664/5667 [00:02<00:00, 1916.91 uttr/s, accuracy=0.88, loss=0.69]\n",
            "Train: 100% 2000/2000 [01:03<00:00, 31.38 step/s, accuracy=1.00, loss=0.01, step=164000]\n",
            "Valid: 100% 5664/5667 [00:03<00:00, 1768.74 uttr/s, accuracy=0.87, loss=0.68]\n",
            "Train: 100% 2000/2000 [01:03<00:00, 31.48 step/s, accuracy=1.00, loss=0.02, step=166000]\n",
            "Valid: 100% 5664/5667 [00:02<00:00, 1929.91 uttr/s, accuracy=0.89, loss=0.63]\n",
            "Train: 100% 2000/2000 [01:02<00:00, 31.89 step/s, accuracy=1.00, loss=0.03, step=168000]\n",
            "Valid: 100% 5664/5667 [00:02<00:00, 1930.74 uttr/s, accuracy=0.89, loss=0.66]\n",
            "Train: 100% 2000/2000 [01:02<00:00, 32.16 step/s, accuracy=0.97, loss=0.19, step=170000]\n",
            "Valid: 100% 5664/5667 [00:02<00:00, 1940.68 uttr/s, accuracy=0.88, loss=0.69]\n",
            "Train:   0% 5/2000 [00:00<01:15, 26.37 step/s, accuracy=1.00, loss=0.07, step=170005]"
          ]
        },
        {
          "name": "stdout",
          "output_type": "stream",
          "text": [
            "Step 170000, best model saved. (accuracy=0.8893)\n"
          ]
        },
        {
          "name": "stderr",
          "output_type": "stream",
          "text": [
            "Train: 100% 2000/2000 [01:02<00:00, 31.99 step/s, accuracy=0.97, loss=0.10, step=172000]\n",
            "Valid: 100% 5664/5667 [00:02<00:00, 1919.61 uttr/s, accuracy=0.89, loss=0.62]\n",
            "Train: 100% 2000/2000 [01:02<00:00, 32.22 step/s, accuracy=1.00, loss=0.02, step=174000]\n",
            "Valid: 100% 5664/5667 [00:02<00:00, 1908.46 uttr/s, accuracy=0.89, loss=0.64]\n",
            "Train: 100% 2000/2000 [01:02<00:00, 31.97 step/s, accuracy=0.97, loss=0.05, step=176000]\n",
            "Valid: 100% 5664/5667 [00:02<00:00, 1934.07 uttr/s, accuracy=0.89, loss=0.63]\n",
            "Train: 100% 2000/2000 [01:02<00:00, 31.89 step/s, accuracy=0.97, loss=0.17, step=178000]\n",
            "Valid: 100% 5664/5667 [00:02<00:00, 1909.73 uttr/s, accuracy=0.89, loss=0.65]\n",
            "Train: 100% 2000/2000 [01:03<00:00, 31.66 step/s, accuracy=0.94, loss=0.18, step=180000]\n",
            "Valid: 100% 5664/5667 [00:03<00:00, 1882.61 uttr/s, accuracy=0.89, loss=0.62]\n",
            "Train:   0% 6/2000 [00:00<01:11, 28.06 step/s, accuracy=0.97, loss=0.08, step=180006]"
          ]
        },
        {
          "name": "stdout",
          "output_type": "stream",
          "text": [
            "Step 180000, best model saved. (accuracy=0.8902)\n"
          ]
        },
        {
          "name": "stderr",
          "output_type": "stream",
          "text": [
            "Train: 100% 2000/2000 [01:00<00:00, 32.87 step/s, accuracy=1.00, loss=0.02, step=182000]\n",
            "Valid: 100% 5664/5667 [00:02<00:00, 1919.36 uttr/s, accuracy=0.89, loss=0.63]\n",
            "Train: 100% 2000/2000 [01:00<00:00, 32.89 step/s, accuracy=1.00, loss=0.02, step=184000]\n",
            "Valid: 100% 5664/5667 [00:02<00:00, 1945.62 uttr/s, accuracy=0.89, loss=0.64]\n",
            "Train: 100% 2000/2000 [01:03<00:00, 31.42 step/s, accuracy=0.97, loss=0.09, step=186000]\n",
            "Valid: 100% 5664/5667 [00:02<00:00, 1976.45 uttr/s, accuracy=0.89, loss=0.64]\n",
            "Train: 100% 2000/2000 [01:03<00:00, 31.56 step/s, accuracy=0.97, loss=0.05, step=188000]\n",
            "Valid: 100% 5664/5667 [00:02<00:00, 1979.11 uttr/s, accuracy=0.89, loss=0.66]\n",
            "Train: 100% 2000/2000 [01:01<00:00, 32.65 step/s, accuracy=0.94, loss=0.13, step=190000]\n",
            "Valid: 100% 5664/5667 [00:02<00:00, 1942.73 uttr/s, accuracy=0.89, loss=0.65]\n",
            "Train:   0% 5/2000 [00:00<01:12, 27.69 step/s, accuracy=0.97, loss=0.08, step=190005]"
          ]
        },
        {
          "name": "stdout",
          "output_type": "stream",
          "text": [
            "Step 190000, best model saved. (accuracy=0.8914)\n"
          ]
        },
        {
          "name": "stderr",
          "output_type": "stream",
          "text": [
            "Train: 100% 2000/2000 [01:00<00:00, 32.89 step/s, accuracy=1.00, loss=0.03, step=192000]\n",
            "Valid: 100% 5664/5667 [00:02<00:00, 1941.01 uttr/s, accuracy=0.89, loss=0.64]\n",
            "Train: 100% 2000/2000 [01:01<00:00, 32.64 step/s, accuracy=0.94, loss=0.15, step=194000]\n",
            "Valid: 100% 5664/5667 [00:03<00:00, 1878.90 uttr/s, accuracy=0.89, loss=0.64]\n",
            "Train: 100% 2000/2000 [01:01<00:00, 32.66 step/s, accuracy=1.00, loss=0.02, step=196000]\n",
            "Valid: 100% 5664/5667 [00:02<00:00, 1919.34 uttr/s, accuracy=0.89, loss=0.66]\n",
            "Train: 100% 2000/2000 [01:02<00:00, 32.08 step/s, accuracy=1.00, loss=0.01, step=198000]\n",
            "Valid: 100% 5664/5667 [00:02<00:00, 1905.64 uttr/s, accuracy=0.89, loss=0.62]\n",
            "Train: 100% 2000/2000 [01:02<00:00, 32.24 step/s, accuracy=0.97, loss=0.09, step=2e+5]  \n",
            "Valid: 100% 5664/5667 [00:02<00:00, 1902.69 uttr/s, accuracy=0.89, loss=0.66]\n",
            "Train:   0% 0/2000 [00:00<?, ? step/s]"
          ]
        },
        {
          "name": "stdout",
          "output_type": "stream",
          "text": [
            "Step 200000, best model saved. (accuracy=0.8914)\n"
          ]
        },
        {
          "name": "stderr",
          "output_type": "stream",
          "text": [
            "\n"
          ]
        }
      ],
      "source": [
        "from tqdm import tqdm\n",
        "\n",
        "import torch\n",
        "import torch.nn as nn\n",
        "from torch.optim import AdamW\n",
        "from torch.utils.data import DataLoader, random_split\n",
        "\n",
        "\n",
        "def parse_args():\n",
        "\t\"\"\"arguments\"\"\"\n",
        "\tconfig = {\n",
        "\t\t\"data_dir\": \"./Dataset\",\n",
        "\t\t\"save_path\": \"model.ckpt\",\n",
        "\t\t\"batch_size\": 32,\n",
        "\t\t\"n_workers\": 0,\n",
        "\t\t\"valid_steps\": 2000,\n",
        "\t\t\"warmup_steps\": 1000,\n",
        "\t\t\"save_steps\": 10000,\n",
        "\t\t\"total_steps\": 200000 # 70000,\n",
        "\t}\n",
        "\n",
        "\treturn config\n",
        "\n",
        "\n",
        "def main(\n",
        "\tdata_dir,\n",
        "\tsave_path,\n",
        "\tbatch_size,\n",
        "\tn_workers,\n",
        "\tvalid_steps,\n",
        "\twarmup_steps,\n",
        "\ttotal_steps,\n",
        "\tsave_steps,\n",
        "):\n",
        "\t\"\"\"Main function.\"\"\"\n",
        "\tdevice = torch.device(\"cuda\" if torch.cuda.is_available() else \"cpu\")\n",
        "\tprint(f\"[Info]: Use {device} now!\")\n",
        "\n",
        "\ttrain_loader, valid_loader, speaker_num = get_dataloader(data_dir, batch_size, n_workers)\n",
        "\ttrain_iterator = iter(train_loader)\n",
        "\tprint(f\"[Info]: Finish loading data!\",flush = True)\n",
        "\n",
        "\tmodel = Classifier(n_spks=speaker_num).to(device)\n",
        "\tcriterion = nn.CrossEntropyLoss()\n",
        "\toptimizer = AdamW(model.parameters(), lr=1e-3)\n",
        "\tscheduler = get_cosine_schedule_with_warmup(optimizer, warmup_steps, total_steps)\n",
        "\tprint(f\"[Info]: Finish creating model!\",flush = True)\n",
        "\n",
        "\tbest_accuracy = -1.0\n",
        "\tbest_state_dict = None\n",
        "\n",
        "\tpbar = tqdm(total=valid_steps, ncols=0, desc=\"Train\", unit=\" step\")\n",
        "\n",
        "\tfor step in range(total_steps):\n",
        "\t\t# Get data\n",
        "\t\ttry:\n",
        "\t\t\tbatch = next(train_iterator)\n",
        "\t\texcept StopIteration:\n",
        "\t\t\ttrain_iterator = iter(train_loader)\n",
        "\t\t\tbatch = next(train_iterator)\n",
        "\n",
        "\t\tloss, accuracy = model_fn(batch, model, criterion, device)\n",
        "\t\tbatch_loss = loss.item()\n",
        "\t\tbatch_accuracy = accuracy.item()\n",
        "\n",
        "\t\t# Updata model\n",
        "\t\tloss.backward()\n",
        "\t\toptimizer.step()\n",
        "\t\tscheduler.step()\n",
        "\t\toptimizer.zero_grad()\n",
        "\n",
        "\t\t# Log\n",
        "\t\tpbar.update()\n",
        "\t\tpbar.set_postfix(\n",
        "\t\t\tloss=f\"{batch_loss:.2f}\",\n",
        "\t\t\taccuracy=f\"{batch_accuracy:.2f}\",\n",
        "\t\t\tstep=step + 1,\n",
        "\t\t)\n",
        "\n",
        "\t\t# Do validation\n",
        "\t\tif (step + 1) % valid_steps == 0:\n",
        "\t\t\tpbar.close()\n",
        "\n",
        "\t\t\tvalid_accuracy = valid(valid_loader, model, criterion, device)\n",
        "\n",
        "\t\t\t# keep the best model\n",
        "\t\t\tif valid_accuracy > best_accuracy:\n",
        "\t\t\t\tbest_accuracy = valid_accuracy\n",
        "\t\t\t\tbest_state_dict = model.state_dict()\n",
        "\n",
        "\t\t\tpbar = tqdm(total=valid_steps, ncols=0, desc=\"Train\", unit=\" step\")\n",
        "\n",
        "\t\t# Save the best model so far.\n",
        "\t\tif (step + 1) % save_steps == 0 and best_state_dict is not None:\n",
        "\t\t\ttorch.save(best_state_dict, save_path)\n",
        "\t\t\tpbar.write(f\"Step {step + 1}, best model saved. (accuracy={best_accuracy:.4f})\")\n",
        "\n",
        "\tpbar.close()\n",
        "\n",
        "\n",
        "if __name__ == \"__main__\":\n",
        "\tmain(**parse_args())"
      ]
    },
    {
      "cell_type": "markdown",
      "metadata": {
        "id": "NLatBYAhNNMx"
      },
      "source": [
        "# Inference\n",
        "\n",
        "## Dataset of inference"
      ]
    },
    {
      "cell_type": "code",
      "execution_count": 10,
      "metadata": {
        "colab": {
          "background_save": true
        },
        "id": "efS4pCmAJXJH"
      },
      "outputs": [],
      "source": [
        "import os\n",
        "import json\n",
        "import torch\n",
        "from pathlib import Path\n",
        "from torch.utils.data import Dataset\n",
        "\n",
        "\n",
        "class InferenceDataset(Dataset):\n",
        "\tdef __init__(self, data_dir):\n",
        "\t\ttestdata_path = Path(data_dir) / \"testdata.json\"\n",
        "\t\tmetadata = json.load(testdata_path.open())\n",
        "\t\tself.data_dir = data_dir\n",
        "\t\tself.data = metadata[\"utterances\"]\n",
        "\n",
        "\tdef __len__(self):\n",
        "\t\treturn len(self.data)\n",
        "\n",
        "\tdef __getitem__(self, index):\n",
        "\t\tutterance = self.data[index]\n",
        "\t\tfeat_path = utterance[\"feature_path\"]\n",
        "\t\tmel = torch.load(os.path.join(self.data_dir, feat_path))\n",
        "\n",
        "\t\treturn feat_path, mel\n",
        "\n",
        "\n",
        "def inference_collate_batch(batch):\n",
        "\t\"\"\"Collate a batch of data.\"\"\"\n",
        "\tfeat_paths, mels = zip(*batch)\n",
        "\n",
        "\treturn feat_paths, torch.stack(mels)"
      ]
    },
    {
      "cell_type": "markdown",
      "metadata": {
        "id": "tl0WnYwxNK_S"
      },
      "source": [
        "## Main funcrion of Inference"
      ]
    },
    {
      "cell_type": "code",
      "execution_count": 11,
      "metadata": {
        "colab": {
          "background_save": true
        },
        "id": "i8SAbuXEJb2A"
      },
      "outputs": [
        {
          "name": "stdout",
          "output_type": "stream",
          "text": [
            "[Info]: Use cuda now!\n",
            "[Info]: Finish loading data!\n",
            "[Info]: Finish creating model!\n"
          ]
        },
        {
          "data": {
            "application/vnd.jupyter.widget-view+json": {
              "model_id": "08b0f896f3254731bd377afe4be2ce2a",
              "version_major": 2,
              "version_minor": 0
            },
            "text/plain": [
              "  0%|          | 0/8000 [00:00<?, ?it/s]"
            ]
          },
          "metadata": {},
          "output_type": "display_data"
        }
      ],
      "source": [
        "import json\n",
        "import csv\n",
        "from pathlib import Path\n",
        "from tqdm.notebook import tqdm\n",
        "\n",
        "import torch\n",
        "from torch.utils.data import DataLoader\n",
        "\n",
        "def parse_args():\n",
        "\t\"\"\"arguments\"\"\"\n",
        "\tconfig = {\n",
        "\t\t\"data_dir\": \"./Dataset\",\n",
        "\t\t\"model_path\": \"./model.ckpt\",\n",
        "\t\t\"output_path\": \"./output.csv\",\n",
        "\t}\n",
        "\n",
        "\treturn config\n",
        "\n",
        "\n",
        "def main(\n",
        "\tdata_dir,\n",
        "\tmodel_path,\n",
        "\toutput_path,\n",
        "):\n",
        "\t\"\"\"Main function.\"\"\"\n",
        "\tdevice = torch.device(\"cuda\" if torch.cuda.is_available() else \"cpu\")\n",
        "\tprint(f\"[Info]: Use {device} now!\")\n",
        "\n",
        "\tmapping_path = Path(data_dir) / \"mapping.json\"\n",
        "\tmapping = json.load(mapping_path.open())\n",
        "\n",
        "\tdataset = InferenceDataset(data_dir)\n",
        "\tdataloader = DataLoader(\n",
        "\t\tdataset,\n",
        "\t\tbatch_size=1,\n",
        "\t\tshuffle=False,\n",
        "\t\tdrop_last=False,\n",
        "\t\tnum_workers=0,\n",
        "\t\tcollate_fn=inference_collate_batch,\n",
        "\t)\n",
        "\tprint(f\"[Info]: Finish loading data!\",flush = True)\n",
        "\n",
        "\tspeaker_num = len(mapping[\"id2speaker\"])\n",
        "\tmodel = Classifier(n_spks=speaker_num).to(device)\n",
        "\tmodel.load_state_dict(torch.load(model_path))\n",
        "\tmodel.eval()\n",
        "\tprint(f\"[Info]: Finish creating model!\",flush = True)\n",
        "\n",
        "\tresults = [[\"Id\", \"Category\"]]\n",
        "\tfor feat_paths, mels in tqdm(dataloader):\n",
        "\t\twith torch.no_grad():\n",
        "\t\t\tmels = mels.to(device)\n",
        "\t\t\touts = model(mels)\n",
        "\t\t\tpreds = outs.argmax(1).cpu().numpy()\n",
        "\t\t\tfor feat_path, pred in zip(feat_paths, preds):\n",
        "\t\t\t\tresults.append([feat_path, mapping[\"id2speaker\"][str(pred)]])\n",
        "\n",
        "\twith open(output_path, 'w', newline='') as csvfile:\n",
        "\t\twriter = csv.writer(csvfile)\n",
        "\t\twriter.writerows(results)\n",
        "\n",
        "\n",
        "if __name__ == \"__main__\":\n",
        "\tmain(**parse_args())"
      ]
    },
    {
      "cell_type": "code",
      "execution_count": null,
      "metadata": {},
      "outputs": [],
      "source": []
    }
  ],
  "metadata": {
    "accelerator": "GPU",
    "colab": {
      "collapsed_sections": [],
      "name": "hw04.ipynb",
      "provenance": []
    },
    "kernelspec": {
      "display_name": "Python 3",
      "name": "python3"
    },
    "language_info": {
      "codemirror_mode": {
        "name": "ipython",
        "version": 3
      },
      "file_extension": ".py",
      "mimetype": "text/x-python",
      "name": "python",
      "nbconvert_exporter": "python",
      "pygments_lexer": "ipython3",
      "version": "3.10.5"
    }
  },
  "nbformat": 4,
  "nbformat_minor": 0
}
