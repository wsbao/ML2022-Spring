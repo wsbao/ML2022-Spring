{
  "cells": [
    {
      "cell_type": "markdown",
      "metadata": {
        "id": "C_jdZ5vHJ4A9"
      },
      "source": [
        "# Task description\n",
        "- Classify the speakers of given features.\n",
        "- Main goal: Learn how to use transformer.\n",
        "- Baselines:\n",
        "  - Easy: Run sample code and know how to use transformer.\n",
        "  - Medium: Know how to adjust parameters of transformer.\n",
        "  - Strong: Construct [conformer](https://arxiv.org/abs/2005.08100) which is a variety of transformer. \n",
        "  - Boss: Implement [Self-Attention Pooling](https://arxiv.org/pdf/2008.01077v1.pdf) & [Additive Margin Softmax](https://arxiv.org/pdf/1801.05599.pdf) to further boost the performance.\n",
        "\n",
        "- Other links\n",
        "  - Kaggle: [link](https://www.kaggle.com/t/ac77388c90204a4c8daebeddd40ff916)\n",
        "  - Slide: [link](https://docs.google.com/presentation/d/1HLAj7UUIjZOycDe7DaVLSwJfXVd3bXPOyzSb6Zk3hYU/edit?usp=sharing)\n",
        "  - Data: [link](https://drive.google.com/drive/folders/1vI1kuLB-q1VilIftiwnPOCAeOOFfBZge?usp=sharing)\n",
        "\n",
        "# Download dataset\n",
        "- Data is [here](https://drive.google.com/drive/folders/1vI1kuLB-q1VilIftiwnPOCAeOOFfBZge?usp=sharing)"
      ]
    },
    {
      "cell_type": "code",
      "execution_count": 1,
      "metadata": {
        "id": "LhLNWB-AK2Z5"
      },
      "outputs": [],
      "source": [
        "# !wget https://github.com/MachineLearningHW/ML_HW4_Dataset/releases/latest/download/Dataset.tar.gz.partaa\n",
        "# !wget https://github.com/MachineLearningHW/ML_HW4_Dataset/releases/latest/download/Dataset.tar.gz.partab\n",
        "# !wget https://github.com/MachineLearningHW/ML_HW4_Dataset/releases/latest/download/Dataset.tar.gz.partac\n",
        "# !wget https://github.com/MachineLearningHW/ML_HW4_Dataset/releases/latest/download/Dataset.tar.gz.partad\n",
        "\n",
        "# !cat Dataset.tar.gz.part* > Dataset.tar.gz\n",
        "\n",
        "# # unzip the file\n",
        "# !tar zxvf Dataset.tar.gz"
      ]
    },
    {
      "cell_type": "markdown",
      "metadata": {
        "id": "ENWVAUDVJtVY"
      },
      "source": [
        "## Fix Random Seed"
      ]
    },
    {
      "cell_type": "code",
      "execution_count": 2,
      "metadata": {
        "id": "E6burzCXIyuA"
      },
      "outputs": [],
      "source": [
        "import numpy as np\n",
        "import torch\n",
        "import random\n",
        "\n",
        "def set_seed(seed):\n",
        "    np.random.seed(seed)\n",
        "    random.seed(seed)\n",
        "    torch.manual_seed(seed)\n",
        "    if torch.cuda.is_available():\n",
        "        torch.cuda.manual_seed(seed)\n",
        "        torch.cuda.manual_seed_all(seed)\n",
        "    torch.backends.cudnn.benchmark = False\n",
        "    torch.backends.cudnn.deterministic = True\n",
        "\n",
        "set_seed(87)"
      ]
    },
    {
      "cell_type": "markdown",
      "metadata": {
        "id": "k7dVbxW2LASN"
      },
      "source": [
        "# Data\n",
        "\n",
        "## Dataset\n",
        "- Original dataset is [Voxceleb2](https://www.robots.ox.ac.uk/~vgg/data/voxceleb/vox2.html).\n",
        "- The [license](https://creativecommons.org/licenses/by/4.0/) and [complete version](https://www.robots.ox.ac.uk/~vgg/data/voxceleb/files/license.txt) of Voxceleb2.\n",
        "- We randomly select 600 speakers from Voxceleb2.\n",
        "- Then preprocess the raw waveforms into mel-spectrograms.\n",
        "\n",
        "- Args:\n",
        "  - data_dir: The path to the data directory.\n",
        "  - metadata_path: The path to the metadata.\n",
        "  - segment_len: The length of audio segment for training. \n",
        "- The architecture of data directory \\\\\n",
        "  - data directory \\\\\n",
        "  |---- metadata.json \\\\\n",
        "  |---- testdata.json \\\\\n",
        "  |---- mapping.json \\\\\n",
        "  |---- uttr-{random string}.pt \\\\\n",
        "\n",
        "- The information in metadata\n",
        "  - \"n_mels\": The dimention of mel-spectrogram.\n",
        "  - \"speakers\": A dictionary. \n",
        "    - Key: speaker ids.\n",
        "    - value: \"feature_path\" and \"mel_len\"\n",
        "\n",
        "\n",
        "For efficiency, we segment the mel-spectrograms into segments in the traing step."
      ]
    },
    {
      "cell_type": "code",
      "execution_count": 3,
      "metadata": {
        "id": "KpuGxl4CI2pr"
      },
      "outputs": [],
      "source": [
        "import os\n",
        "import json\n",
        "import torch\n",
        "import random\n",
        "from pathlib import Path\n",
        "from torch.utils.data import Dataset\n",
        "from torch.nn.utils.rnn import pad_sequence\n",
        " \n",
        " \n",
        "class myDataset(Dataset):\n",
        "\tdef __init__(self, data_dir, segment_len=128):\n",
        "\t\tself.data_dir = data_dir\n",
        "\t\tself.segment_len = segment_len\n",
        "\t\n",
        "\t\t# Load the mapping from speaker neme to their corresponding id. \n",
        "\t\tmapping_path = Path(data_dir) / \"mapping.json\"\n",
        "\t\tmapping = json.load(mapping_path.open())\n",
        "\t\tself.speaker2id = mapping[\"speaker2id\"]\n",
        "\t\n",
        "\t\t# Load metadata of training data.\n",
        "\t\tmetadata_path = Path(data_dir) / \"metadata.json\"\n",
        "\t\tmetadata = json.load(open(metadata_path))[\"speakers\"]\n",
        "\t\n",
        "\t\t# Get the total number of speaker.\n",
        "\t\tself.speaker_num = len(metadata.keys())\n",
        "\t\tself.data = []\n",
        "\t\tfor speaker in metadata.keys():\n",
        "\t\t\tfor utterances in metadata[speaker]:\n",
        "\t\t\t\tself.data.append([utterances[\"feature_path\"], self.speaker2id[speaker]])\n",
        " \n",
        "\tdef __len__(self):\n",
        "\t\t\treturn len(self.data)\n",
        " \n",
        "\tdef __getitem__(self, index):\n",
        "\t\tfeat_path, speaker = self.data[index]\n",
        "\t\t# Load preprocessed mel-spectrogram.\n",
        "\t\tmel = torch.load(os.path.join(self.data_dir, feat_path))\n",
        "\n",
        "\t\t# Segmemt mel-spectrogram into \"segment_len\" frames.\n",
        "\t\tif len(mel) > self.segment_len:\n",
        "\t\t\t# Randomly get the starting point of the segment.\n",
        "\t\t\tstart = random.randint(0, len(mel) - self.segment_len)\n",
        "\t\t\t# Get a segment with \"segment_len\" frames.\n",
        "\t\t\tmel = torch.FloatTensor(mel[start:start+self.segment_len])\n",
        "\t\telse:\n",
        "\t\t\tmel = torch.FloatTensor(mel)\n",
        "\t\t# Turn the speaker id into long for computing loss later.\n",
        "\t\tspeaker = torch.FloatTensor([speaker]).long()\n",
        "\t\treturn mel, speaker\n",
        " \n",
        "\tdef get_speaker_number(self):\n",
        "\t\treturn self.speaker_num"
      ]
    },
    {
      "cell_type": "markdown",
      "metadata": {
        "id": "668hverTMlGN"
      },
      "source": [
        "## Dataloader\n",
        "- Split dataset into training dataset(90%) and validation dataset(10%).\n",
        "- Create dataloader to iterate the data."
      ]
    },
    {
      "cell_type": "code",
      "execution_count": 4,
      "metadata": {
        "id": "B7c2gZYoJDRS"
      },
      "outputs": [],
      "source": [
        "import torch\n",
        "from torch.utils.data import DataLoader, random_split\n",
        "from torch.nn.utils.rnn import pad_sequence\n",
        "\n",
        "\n",
        "def collate_batch(batch):\n",
        "\t# Process features within a batch.\n",
        "\t\"\"\"Collate a batch of data.\"\"\"\n",
        "\tmel, speaker = zip(*batch)\n",
        "\t# Because we train the model batch by batch, we need to pad the features in the same batch to make their lengths the same.\n",
        "\tmel = pad_sequence(mel, batch_first=True, padding_value=-20)    # pad log 10^(-20) which is very small value.\n",
        "\t# mel: (batch size, length, 40)\n",
        "\treturn mel, torch.FloatTensor(speaker).long()\n",
        "\n",
        "\n",
        "def get_dataloader(data_dir, batch_size, n_workers):\n",
        "\t\"\"\"Generate dataloader\"\"\"\n",
        "\tdataset = myDataset(data_dir)\n",
        "\tspeaker_num = dataset.get_speaker_number()\n",
        "\t# Split dataset into training dataset and validation dataset\n",
        "\ttrainlen = int(0.9 * len(dataset))\n",
        "\tlengths = [trainlen, len(dataset) - trainlen]\n",
        "\ttrainset, validset = random_split(dataset, lengths)\n",
        "\n",
        "\ttrain_loader = DataLoader(\n",
        "\t\ttrainset,\n",
        "\t\tbatch_size=batch_size,\n",
        "\t\tshuffle=True,\n",
        "\t\tdrop_last=True,\n",
        "\t\tnum_workers=n_workers,\n",
        "\t\tpin_memory=True,\n",
        "\t\tcollate_fn=collate_batch,\n",
        "\t)\n",
        "\tvalid_loader = DataLoader(\n",
        "\t\tvalidset,\n",
        "\t\tbatch_size=batch_size,\n",
        "\t\tnum_workers=n_workers,\n",
        "\t\tdrop_last=True,\n",
        "\t\tpin_memory=True,\n",
        "\t\tcollate_fn=collate_batch,\n",
        "\t)\n",
        "\n",
        "\treturn train_loader, valid_loader, speaker_num"
      ]
    },
    {
      "cell_type": "markdown",
      "metadata": {
        "id": "5FOSZYxrMqhc"
      },
      "source": [
        "# Model\n",
        "- TransformerEncoderLayer:\n",
        "  - Base transformer encoder layer in [Attention Is All You Need](https://arxiv.org/abs/1706.03762)\n",
        "  - Parameters:\n",
        "    - d_model: the number of expected features of the input (required).\n",
        "\n",
        "    - nhead: the number of heads of the multiheadattention models (required).\n",
        "\n",
        "    - dim_feedforward: the dimension of the feedforward network model (default=2048).\n",
        "\n",
        "    - dropout: the dropout value (default=0.1).\n",
        "\n",
        "    - activation: the activation function of intermediate layer, relu or gelu (default=relu).\n",
        "\n",
        "- TransformerEncoder:\n",
        "  - TransformerEncoder is a stack of N transformer encoder layers\n",
        "  - Parameters:\n",
        "    - encoder_layer: an instance of the TransformerEncoderLayer() class (required).\n",
        "\n",
        "    - num_layers: the number of sub-encoder-layers in the encoder (required).\n",
        "\n",
        "    - norm: the layer normalization component (optional)."
      ]
    },
    {
      "cell_type": "code",
      "execution_count": 5,
      "metadata": {
        "id": "iXZ5B0EKJGs8"
      },
      "outputs": [
        {
          "name": "stderr",
          "output_type": "stream",
          "text": [
            "d:\\miniforge3\\envs\\machine-learning\\lib\\site-packages\\torchaudio\\backend\\utils.py:62: UserWarning: No audio backend is available.\n",
            "  warnings.warn(\"No audio backend is available.\")\n"
          ]
        }
      ],
      "source": [
        "import torch\n",
        "import torchaudio\n",
        "import torch.nn as nn\n",
        "import torch.nn.functional as F\n",
        "\n",
        "\n",
        "class SelfAttentionPooling(nn.Module):\n",
        "    \"\"\"\n",
        "    Implementation of SelfAttentionPooling \n",
        "    Original Paper: Self-Attention Encoding and Pooling for Speaker Recognition\n",
        "    https://arxiv.org/pdf/2008.01077v1.pdf\n",
        "    \"\"\"\n",
        "    def __init__(self, input_dim):\n",
        "        super(SelfAttentionPooling, self).__init__()\n",
        "        self.W = nn.Linear(input_dim, 1)\n",
        "        \n",
        "    def forward(self, batch_rep):\n",
        "        \"\"\"\n",
        "        input:\n",
        "            batch_rep : size (N, T, H), N: batch size, T: sequence length, H: Hidden dimension\n",
        "        \n",
        "        attention_weight:\n",
        "            att_w : size (N, T, 1)\n",
        "        \n",
        "        return:\n",
        "            utter_rep: size (N, H)\n",
        "        \"\"\"\n",
        "        softmax = nn.functional.softmax\n",
        "        att_w = softmax(self.W(batch_rep).squeeze(-1)).unsqueeze(-1)\n",
        "        utter_rep = torch.sum(batch_rep * att_w, dim=1)\n",
        "\n",
        "        return utter_rep\n",
        "    \n",
        "\n",
        "class Classifier(nn.Module):\n",
        "\tdef __init__(self, d_model=224, n_spks=600, dropout=0.2):\n",
        "\t\tsuper().__init__()\n",
        "\t\t# Project the dimension of features from that of input into d_model.\n",
        "\t\tself.prenet = nn.Linear(40, d_model)\n",
        "\t\t# TODO:\n",
        "\t\t#   Change Transformer to Conformer.\n",
        "\t\t#   https://arxiv.org/abs/2005.08100\n",
        "\t\t# self.encoder_layer = nn.TransformerEncoderLayer(\n",
        "\t\t# \td_model=d_model, dim_feedforward=2*d_model, nhead=2, dropout=dropout\n",
        "\t\t# )\n",
        "\t\t# self.encoder = nn.TransformerEncoder(self.encoder_layer, num_layers=3)\n",
        "\t\tself.encoder = torchaudio.models.Conformer(d_model, num_heads=2, ffn_dim=2*d_model, num_layers=3, depthwise_conv_kernel_size=31 ,dropout=dropout)\n",
        "  \n",
        "\t\tself.attn_pooler = SelfAttentionPooling(d_model)\n",
        "\n",
        "\t\t# Project the the dimension of features from d_model into speaker nums.\n",
        "\t\t# self.pred_layer = nn.Sequential(\n",
        "\t\t# \t# nn.Linear(d_model, d_model),\n",
        "\t\t# \tnn.BatchNorm1d(d_model),\n",
        "\t\t# \t# nn.ReLU(),\n",
        "\t\t# \tnn.Linear(d_model, n_spks),\n",
        "\t\t# )\n",
        "\t\tself.bn = nn.BatchNorm1d(d_model)\n",
        "\t\tself.fc = nn.Linear(d_model, n_spks, bias=False)\n",
        "        \n",
        "\n",
        "\tdef forward(self, mels):\n",
        "\t\t\"\"\"\n",
        "\t\targs:\n",
        "\t\t\tmels: (batch size, length, 40)\n",
        "\t\treturn:\n",
        "\t\t\tout: (batch size, n_spks)\n",
        "\t\t\"\"\"\n",
        "\t\t# out: (batch size, length, d_model)\n",
        "\t\tout = self.prenet(mels)\n",
        "\t\t# out: (length, batch size, d_model)\n",
        "\t\t# out = out.permute(1, 0, 2)\n",
        "\t\t# The encoder layer expect features in the shape of (length, batch size, d_model).\n",
        "\t\t# out = self.encoder_layer(out)\n",
        "\t\t# out = self.encoder(out)\n",
        "\t\tB, length = out.shape[:2]\n",
        "\t\tout, _ = self.encoder(out, torch.Tensor([length] * B).to(out.device))\n",
        "\t\t# out: (batch size, length, d_model)\n",
        "\t\t# out = out.transpose(0, 1)\n",
        "\t\t# mean pooling\n",
        "\t\t# stats = out.mean(dim=1)\n",
        "\t\t# self attention pooling\n",
        "\t\tstats = self.attn_pooler(out)\n",
        "\n",
        "\t\t# out: (batch, n_spks)\n",
        "\t\tout = self.bn(stats)\n",
        "\t\tout = F.normalize(out, dim=1)\n",
        "\t\tfor W in self.fc.parameters():\n",
        "\t\t\tW = F.normalize(W, dim=1)\n",
        "\t\tout = self.fc(out)\n",
        "\t\treturn out\n",
        "\n",
        "\n",
        "def am_softmax_loss(cos_theta, labels, s=30.0, m=0.4):\n",
        "    _, n_class = cos_theta.shape\n",
        "    assert len(cos_theta) == len(labels)\n",
        "    assert torch.min(labels) >= 0\n",
        "    assert torch.max(labels) < n_class\n",
        "    psi = cos_theta - m\n",
        "    \n",
        "    onehot = F.one_hot(labels, n_class)\n",
        "    logits = s * torch.where(onehot == 1, psi, cos_theta)\n",
        "    loss = F.cross_entropy(logits, labels)\n",
        "    \n",
        "    return loss\n",
        "\n",
        "\n",
        "# class AdMSoftmaxLoss(nn.Module):\n",
        "\n",
        "#     def __init__(self, in_features=600, out_features=600, s=30.0, m=0.4):\n",
        "#         '''\n",
        "#         AM Softmax Loss\n",
        "#         '''\n",
        "#         super(AdMSoftmaxLoss, self).__init__()\n",
        "#         self.s = s\n",
        "#         self.m = m\n",
        "#         self.in_features = in_features\n",
        "#         self.out_features = out_features\n",
        "#         self.fc = nn.Linear(in_features, out_features, bias=False)\n",
        "\n",
        "#     def forward(self, x, labels):\n",
        "#         '''\n",
        "#         input shape (N, in_features)\n",
        "#         '''\n",
        "#         assert len(x) == len(labels)\n",
        "#         assert torch.min(labels) >= 0\n",
        "#         assert torch.max(labels) < self.out_features\n",
        "        \n",
        "#         for W in self.fc.parameters():\n",
        "#             W = F.normalize(W, dim=1)\n",
        "\n",
        "#         x = F.normalize(x, dim=1)\n",
        "\n",
        "#         wf = self.fc(x)\n",
        "#         numerator = self.s * (torch.diagonal(wf.transpose(0, 1)[labels]) - self.m)\n",
        "#         excl = torch.cat([torch.cat((wf[i, :y], wf[i, y+1:])).unsqueeze(0) for i, y in enumerate(labels)], dim=0)\n",
        "#         denominator = torch.exp(numerator) + torch.sum(torch.exp(self.s * excl), dim=1)\n",
        "#         L = numerator - torch.log(denominator)\n",
        "#         return -torch.mean(L)"
      ]
    },
    {
      "cell_type": "markdown",
      "metadata": {
        "id": "W7yX8JinM5Ly"
      },
      "source": [
        "# Learning rate schedule\n",
        "- For transformer architecture, the design of learning rate schedule is different from that of CNN.\n",
        "- Previous works show that the warmup of learning rate is useful for training models with transformer architectures.\n",
        "- The warmup schedule\n",
        "  - Set learning rate to 0 in the beginning.\n",
        "  - The learning rate increases linearly from 0 to initial learning rate during warmup period."
      ]
    },
    {
      "cell_type": "code",
      "execution_count": 6,
      "metadata": {
        "id": "ykt0N1nVJJi2"
      },
      "outputs": [],
      "source": [
        "import math\n",
        "\n",
        "import torch\n",
        "from torch.optim import Optimizer\n",
        "from torch.optim.lr_scheduler import LambdaLR\n",
        "\n",
        "\n",
        "def get_cosine_schedule_with_warmup(\n",
        "\toptimizer: Optimizer,\n",
        "\tnum_warmup_steps: int,\n",
        "\tnum_training_steps: int,\n",
        "\tnum_cycles: float = 0.5,\n",
        "\tlast_epoch: int = -1,\n",
        "):\n",
        "\t\"\"\"\n",
        "\tCreate a schedule with a learning rate that decreases following the values of the cosine function between the\n",
        "\tinitial lr set in the optimizer to 0, after a warmup period during which it increases linearly between 0 and the\n",
        "\tinitial lr set in the optimizer.\n",
        "\n",
        "\tArgs:\n",
        "\t\toptimizer (:class:`~torch.optim.Optimizer`):\n",
        "\t\tThe optimizer for which to schedule the learning rate.\n",
        "\t\tnum_warmup_steps (:obj:`int`):\n",
        "\t\tThe number of steps for the warmup phase.\n",
        "\t\tnum_training_steps (:obj:`int`):\n",
        "\t\tThe total number of training steps.\n",
        "\t\tnum_cycles (:obj:`float`, `optional`, defaults to 0.5):\n",
        "\t\tThe number of waves in the cosine schedule (the defaults is to just decrease from the max value to 0\n",
        "\t\tfollowing a half-cosine).\n",
        "\t\tlast_epoch (:obj:`int`, `optional`, defaults to -1):\n",
        "\t\tThe index of the last epoch when resuming training.\n",
        "\n",
        "\tReturn:\n",
        "\t\t:obj:`torch.optim.lr_scheduler.LambdaLR` with the appropriate schedule.\n",
        "\t\"\"\"\n",
        "\tdef lr_lambda(current_step):\n",
        "\t\t# Warmup\n",
        "\t\tif current_step < num_warmup_steps:\n",
        "\t\t\treturn float(current_step) / float(max(1, num_warmup_steps))\n",
        "\t\t# decadence\n",
        "\t\tprogress = float(current_step - num_warmup_steps) / float(\n",
        "\t\t\tmax(1, num_training_steps - num_warmup_steps)\n",
        "\t\t)\n",
        "\t\treturn max(\n",
        "\t\t\t0.0, 0.5 * (1.0 + math.cos(math.pi * float(num_cycles) * 2.0 * progress))\n",
        "\t\t)\n",
        "\n",
        "\treturn LambdaLR(optimizer, lr_lambda, last_epoch)"
      ]
    },
    {
      "cell_type": "markdown",
      "metadata": {
        "id": "-LN2XkteM_uH"
      },
      "source": [
        "# Model Function\n",
        "- Model forward function."
      ]
    },
    {
      "cell_type": "code",
      "execution_count": 7,
      "metadata": {
        "id": "N-rr8529JMz0"
      },
      "outputs": [],
      "source": [
        "import torch\n",
        "\n",
        "\n",
        "def model_fn(batch, model, criterion, device):\n",
        "\t\"\"\"Forward a batch through the model.\"\"\"\n",
        "\n",
        "\tmels, labels = batch\n",
        "\tmels = mels.to(device)\n",
        "\tlabels = labels.to(device)\n",
        "\n",
        "\touts = model(mels)\n",
        "\n",
        "\tloss = criterion(outs, labels)\n",
        "\n",
        "\t# Get the speaker id with highest probability.\n",
        "\tpreds = outs.argmax(1)\n",
        "\t# Compute accuracy.\n",
        "\taccuracy = torch.mean((preds == labels).float())\n",
        "\n",
        "\treturn loss, accuracy"
      ]
    },
    {
      "cell_type": "markdown",
      "metadata": {
        "id": "cwM_xyOtNCI2"
      },
      "source": [
        "# Validate\n",
        "- Calculate accuracy of the validation set."
      ]
    },
    {
      "cell_type": "code",
      "execution_count": 8,
      "metadata": {
        "id": "YAiv6kpdJRTJ"
      },
      "outputs": [],
      "source": [
        "from tqdm import tqdm\n",
        "import torch\n",
        "\n",
        "\n",
        "def valid(dataloader, model, criterion, device): \n",
        "\t\"\"\"Validate on validation set.\"\"\"\n",
        "\n",
        "\tmodel.eval()\n",
        "\trunning_loss = 0.0\n",
        "\trunning_accuracy = 0.0\n",
        "\tpbar = tqdm(total=len(dataloader.dataset), ncols=0, desc=\"Valid\", unit=\" uttr\")\n",
        "\n",
        "\tfor i, batch in enumerate(dataloader):\n",
        "\t\twith torch.no_grad():\n",
        "\t\t\tloss, accuracy = model_fn(batch, model, criterion, device)\n",
        "\t\t\trunning_loss += loss.item()\n",
        "\t\t\trunning_accuracy += accuracy.item()\n",
        "\n",
        "\t\tpbar.update(dataloader.batch_size)\n",
        "\t\tpbar.set_postfix(\n",
        "\t\t\tloss=f\"{running_loss / (i+1):.2f}\",\n",
        "\t\t\taccuracy=f\"{running_accuracy / (i+1):.2f}\",\n",
        "\t\t)\n",
        "\n",
        "\tpbar.close()\n",
        "\tmodel.train()\n",
        "\n",
        "\treturn running_accuracy / len(dataloader)"
      ]
    },
    {
      "cell_type": "markdown",
      "metadata": {
        "id": "g6ne9G-eNEdG"
      },
      "source": [
        "# Main function"
      ]
    },
    {
      "cell_type": "code",
      "execution_count": 9,
      "metadata": {
        "id": "Usv9s-CuJSG7"
      },
      "outputs": [
        {
          "name": "stdout",
          "output_type": "stream",
          "text": [
            "[Info]: Use cuda now!\n",
            "[Info]: Finish loading data!\n",
            "Train from previous saved state.\n",
            "[Info]: Finish creating model!\n"
          ]
        },
        {
          "name": "stderr",
          "output_type": "stream",
          "text": [
            "Train:   0% 0/2000 [00:00<?, ? step/s]C:\\Users\\Wei-shun Bao\\AppData\\Local\\Temp\\ipykernel_20148\\4057057843.py:29: UserWarning: Implicit dimension choice for softmax has been deprecated. Change the call to include dim=X as an argument.\n",
            "  att_w = softmax(self.W(batch_rep).squeeze(-1)).unsqueeze(-1)\n",
            "Train: 100% 2000/2000 [02:03<00:00, 16.18 step/s, accuracy=0.88, loss=4.19, step=2000]\n",
            "Valid: 100% 5664/5667 [00:03<00:00, 1532.53 uttr/s, accuracy=0.88, loss=3.71]\n",
            "Train: 100% 2000/2000 [02:02<00:00, 16.33 step/s, accuracy=0.97, loss=1.24, step=4000]\n",
            "Valid: 100% 5664/5667 [00:03<00:00, 1528.27 uttr/s, accuracy=0.88, loss=3.58]\n",
            "Train: 100% 2000/2000 [02:05<00:00, 15.97 step/s, accuracy=0.94, loss=1.71, step=6000]\n",
            "Valid: 100% 5664/5667 [00:03<00:00, 1426.57 uttr/s, accuracy=0.88, loss=3.68]\n",
            "Train: 100% 2000/2000 [02:05<00:00, 15.93 step/s, accuracy=0.97, loss=1.07, step=8000]\n",
            "Valid: 100% 5664/5667 [00:03<00:00, 1447.82 uttr/s, accuracy=0.89, loss=3.49]\n",
            "Train: 100% 2000/2000 [02:05<00:00, 15.89 step/s, accuracy=0.97, loss=1.85, step=1e+4]\n",
            "Valid: 100% 5664/5667 [00:03<00:00, 1452.39 uttr/s, accuracy=0.89, loss=3.50]\n",
            "Train:   0% 3/2000 [00:00<02:38, 12.57 step/s, accuracy=0.91, loss=2.40, step=1e+4]"
          ]
        },
        {
          "name": "stdout",
          "output_type": "stream",
          "text": [
            "Step 10000, best model saved. (accuracy=0.8898)\n"
          ]
        },
        {
          "name": "stderr",
          "output_type": "stream",
          "text": [
            "Train: 100% 2000/2000 [02:05<00:00, 15.94 step/s, accuracy=0.94, loss=1.94, step=12000]\n",
            "Valid: 100% 5664/5667 [00:03<00:00, 1470.36 uttr/s, accuracy=0.89, loss=3.50]\n",
            "Train: 100% 2000/2000 [02:05<00:00, 15.93 step/s, accuracy=1.00, loss=1.42, step=14000]\n",
            "Valid: 100% 5664/5667 [00:03<00:00, 1439.85 uttr/s, accuracy=0.89, loss=3.44]\n",
            "Train: 100% 2000/2000 [02:04<00:00, 16.04 step/s, accuracy=1.00, loss=0.92, step=16000]\n",
            "Valid: 100% 5664/5667 [00:03<00:00, 1441.23 uttr/s, accuracy=0.89, loss=3.47]\n",
            "Train: 100% 2000/2000 [02:03<00:00, 16.23 step/s, accuracy=0.97, loss=1.20, step=18000]\n",
            "Valid: 100% 5664/5667 [00:03<00:00, 1491.36 uttr/s, accuracy=0.89, loss=3.47]\n",
            "Train: 100% 2000/2000 [02:05<00:00, 15.96 step/s, accuracy=1.00, loss=0.63, step=2e+4] \n",
            "Valid: 100% 5664/5667 [00:04<00:00, 1272.63 uttr/s, accuracy=0.89, loss=3.57]\n",
            "Train:   0% 3/2000 [00:00<02:33, 13.02 step/s, accuracy=0.97, loss=0.67, step=2e+4]"
          ]
        },
        {
          "name": "stdout",
          "output_type": "stream",
          "text": [
            "Step 20000, best model saved. (accuracy=0.8918)\n"
          ]
        },
        {
          "name": "stderr",
          "output_type": "stream",
          "text": [
            "Train: 100% 2000/2000 [02:05<00:00, 15.99 step/s, accuracy=0.91, loss=2.46, step=22000]\n",
            "Valid: 100% 5664/5667 [00:03<00:00, 1507.35 uttr/s, accuracy=0.89, loss=3.25]\n",
            "Train: 100% 2000/2000 [02:03<00:00, 16.24 step/s, accuracy=0.97, loss=1.06, step=24000]\n",
            "Valid: 100% 5664/5667 [00:03<00:00, 1422.61 uttr/s, accuracy=0.89, loss=3.36]\n",
            "Train: 100% 2000/2000 [02:05<00:00, 15.96 step/s, accuracy=0.97, loss=1.43, step=26000]\n",
            "Valid: 100% 5664/5667 [00:04<00:00, 1390.19 uttr/s, accuracy=0.89, loss=3.33]\n",
            "Train: 100% 2000/2000 [02:05<00:00, 15.94 step/s, accuracy=0.97, loss=1.34, step=28000]\n",
            "Valid: 100% 5664/5667 [00:03<00:00, 1431.33 uttr/s, accuracy=0.90, loss=3.21]\n",
            "Train: 100% 2000/2000 [02:05<00:00, 15.97 step/s, accuracy=0.97, loss=1.58, step=3e+4] \n",
            "Valid: 100% 5664/5667 [00:03<00:00, 1485.32 uttr/s, accuracy=0.90, loss=3.15]\n",
            "Train:   0% 3/2000 [00:00<02:29, 13.40 step/s, accuracy=0.97, loss=1.23, step=3e+4]"
          ]
        },
        {
          "name": "stdout",
          "output_type": "stream",
          "text": [
            "Step 30000, best model saved. (accuracy=0.8988)\n"
          ]
        },
        {
          "name": "stderr",
          "output_type": "stream",
          "text": [
            "Train: 100% 2000/2000 [02:00<00:00, 16.58 step/s, accuracy=0.97, loss=1.24, step=32000]\n",
            "Valid: 100% 5664/5667 [00:03<00:00, 1485.03 uttr/s, accuracy=0.90, loss=3.11]\n",
            "Train: 100% 2000/2000 [02:00<00:00, 16.57 step/s, accuracy=1.00, loss=0.44, step=34000]\n",
            "Valid: 100% 5664/5667 [00:03<00:00, 1509.02 uttr/s, accuracy=0.90, loss=3.20]\n",
            "Train: 100% 2000/2000 [01:59<00:00, 16.73 step/s, accuracy=1.00, loss=1.44, step=36000]\n",
            "Valid: 100% 5664/5667 [00:03<00:00, 1526.09 uttr/s, accuracy=0.90, loss=3.04]\n",
            "Train: 100% 2000/2000 [01:59<00:00, 16.74 step/s, accuracy=0.97, loss=1.01, step=38000]\n",
            "Valid: 100% 5664/5667 [00:03<00:00, 1506.76 uttr/s, accuracy=0.90, loss=3.16]\n",
            "Train: 100% 2000/2000 [01:59<00:00, 16.73 step/s, accuracy=0.97, loss=1.14, step=4e+4] \n",
            "Valid: 100% 5664/5667 [00:03<00:00, 1489.30 uttr/s, accuracy=0.90, loss=3.08]\n",
            "Train:   0% 3/2000 [00:00<02:21, 14.13 step/s, accuracy=1.00, loss=0.42, step=4e+4]"
          ]
        },
        {
          "name": "stdout",
          "output_type": "stream",
          "text": [
            "Step 40000, best model saved. (accuracy=0.9038)\n"
          ]
        },
        {
          "name": "stderr",
          "output_type": "stream",
          "text": [
            "Train: 100% 2000/2000 [01:59<00:00, 16.74 step/s, accuracy=0.97, loss=1.16, step=42000]\n",
            "Valid: 100% 5664/5667 [00:03<00:00, 1518.59 uttr/s, accuracy=0.90, loss=3.15]\n",
            "Train: 100% 2000/2000 [01:59<00:00, 16.69 step/s, accuracy=0.94, loss=1.57, step=44000]\n",
            "Valid: 100% 5664/5667 [00:03<00:00, 1510.80 uttr/s, accuracy=0.90, loss=3.00]\n",
            "Train: 100% 2000/2000 [02:00<00:00, 16.66 step/s, accuracy=0.97, loss=1.15, step=46000]\n",
            "Valid: 100% 5664/5667 [00:03<00:00, 1497.24 uttr/s, accuracy=0.91, loss=2.93]\n",
            "Train: 100% 2000/2000 [02:00<00:00, 16.64 step/s, accuracy=0.97, loss=1.57, step=48000]\n",
            "Valid: 100% 5664/5667 [00:03<00:00, 1485.51 uttr/s, accuracy=0.91, loss=3.00]\n",
            "Train: 100% 2000/2000 [02:00<00:00, 16.55 step/s, accuracy=0.97, loss=1.61, step=5e+4] \n",
            "Valid: 100% 5664/5667 [00:03<00:00, 1496.92 uttr/s, accuracy=0.91, loss=2.94]\n",
            "Train:   0% 3/2000 [00:00<02:24, 13.80 step/s, accuracy=1.00, loss=0.50, step=5e+4]"
          ]
        },
        {
          "name": "stdout",
          "output_type": "stream",
          "text": [
            "Step 50000, best model saved. (accuracy=0.9096)\n"
          ]
        },
        {
          "name": "stderr",
          "output_type": "stream",
          "text": [
            "Train: 100% 2000/2000 [02:01<00:00, 16.49 step/s, accuracy=0.91, loss=1.77, step=52000]\n",
            "Valid: 100% 5664/5667 [00:03<00:00, 1512.20 uttr/s, accuracy=0.91, loss=2.99]\n",
            "Train: 100% 2000/2000 [01:59<00:00, 16.70 step/s, accuracy=0.97, loss=1.42, step=54000]\n",
            "Valid: 100% 5664/5667 [00:03<00:00, 1520.98 uttr/s, accuracy=0.91, loss=2.89]\n",
            "Train: 100% 2000/2000 [01:59<00:00, 16.73 step/s, accuracy=0.97, loss=0.50, step=56000]\n",
            "Valid: 100% 5664/5667 [00:03<00:00, 1508.53 uttr/s, accuracy=0.91, loss=2.85]\n",
            "Train: 100% 2000/2000 [01:59<00:00, 16.72 step/s, accuracy=1.00, loss=0.30, step=58000]\n",
            "Valid: 100% 5664/5667 [00:03<00:00, 1508.41 uttr/s, accuracy=0.91, loss=2.68]\n",
            "Train: 100% 2000/2000 [02:01<00:00, 16.53 step/s, accuracy=1.00, loss=0.24, step=6e+4] \n",
            "Valid: 100% 5664/5667 [00:03<00:00, 1492.75 uttr/s, accuracy=0.92, loss=2.69]\n",
            "Train:   0% 3/2000 [00:00<02:24, 13.87 step/s, accuracy=0.94, loss=1.92, step=6e+4]"
          ]
        },
        {
          "name": "stdout",
          "output_type": "stream",
          "text": [
            "Step 60000, best model saved. (accuracy=0.9160)\n"
          ]
        },
        {
          "name": "stderr",
          "output_type": "stream",
          "text": [
            "Train: 100% 2000/2000 [02:00<00:00, 16.59 step/s, accuracy=1.00, loss=0.37, step=62000]\n",
            "Valid: 100% 5664/5667 [00:03<00:00, 1511.42 uttr/s, accuracy=0.92, loss=2.71]\n",
            "Train: 100% 2000/2000 [02:00<00:00, 16.64 step/s, accuracy=0.94, loss=1.21, step=64000]\n",
            "Valid: 100% 5664/5667 [00:03<00:00, 1502.21 uttr/s, accuracy=0.91, loss=2.96]\n",
            "Train: 100% 2000/2000 [01:59<00:00, 16.71 step/s, accuracy=0.97, loss=1.16, step=66000]\n",
            "Valid: 100% 5664/5667 [00:03<00:00, 1509.75 uttr/s, accuracy=0.92, loss=2.68]\n",
            "Train: 100% 2000/2000 [01:58<00:00, 16.82 step/s, accuracy=1.00, loss=0.43, step=68000]\n",
            "Valid: 100% 5664/5667 [00:03<00:00, 1527.97 uttr/s, accuracy=0.92, loss=2.70]\n",
            "Train: 100% 2000/2000 [01:59<00:00, 16.73 step/s, accuracy=1.00, loss=0.54, step=7e+4] \n",
            "Valid: 100% 5664/5667 [00:03<00:00, 1515.36 uttr/s, accuracy=0.91, loss=2.82]\n",
            "Train:   0% 2/2000 [00:00<02:17, 14.55 step/s, accuracy=1.00, loss=0.12, step=7e+4]"
          ]
        },
        {
          "name": "stdout",
          "output_type": "stream",
          "text": [
            "Step 70000, best model saved. (accuracy=0.9161)\n"
          ]
        },
        {
          "name": "stderr",
          "output_type": "stream",
          "text": [
            "Train: 100% 2000/2000 [01:59<00:00, 16.77 step/s, accuracy=0.97, loss=1.47, step=72000]\n",
            "Valid: 100% 5664/5667 [00:03<00:00, 1531.62 uttr/s, accuracy=0.91, loss=2.73]\n",
            "Train: 100% 2000/2000 [02:00<00:00, 16.62 step/s, accuracy=0.94, loss=1.19, step=74000]\n",
            "Valid: 100% 5664/5667 [00:04<00:00, 1408.15 uttr/s, accuracy=0.92, loss=2.62]\n",
            "Train: 100% 2000/2000 [02:05<00:00, 15.98 step/s, accuracy=0.97, loss=1.53, step=76000]\n",
            "Valid: 100% 5664/5667 [00:03<00:00, 1443.39 uttr/s, accuracy=0.91, loss=2.71]\n",
            "Train: 100% 2000/2000 [02:06<00:00, 15.80 step/s, accuracy=1.00, loss=0.69, step=78000]\n",
            "Valid: 100% 5664/5667 [00:04<00:00, 1315.78 uttr/s, accuracy=0.93, loss=2.42]\n",
            "Train: 100% 2000/2000 [02:06<00:00, 15.85 step/s, accuracy=0.94, loss=1.53, step=8e+4] \n",
            "Valid: 100% 5664/5667 [00:03<00:00, 1428.54 uttr/s, accuracy=0.92, loss=2.68]\n",
            "Train:   0% 3/2000 [00:00<02:31, 13.20 step/s, accuracy=0.97, loss=1.13, step=8e+4]"
          ]
        },
        {
          "name": "stdout",
          "output_type": "stream",
          "text": [
            "Step 80000, best model saved. (accuracy=0.9264)\n"
          ]
        },
        {
          "name": "stderr",
          "output_type": "stream",
          "text": [
            "Train: 100% 2000/2000 [02:06<00:00, 15.81 step/s, accuracy=0.97, loss=0.77, step=82000]\n",
            "Valid: 100% 5664/5667 [00:03<00:00, 1425.29 uttr/s, accuracy=0.92, loss=2.53]\n",
            "Train: 100% 2000/2000 [02:06<00:00, 15.80 step/s, accuracy=0.97, loss=1.18, step=84000]\n",
            "Valid: 100% 5664/5667 [00:03<00:00, 1434.64 uttr/s, accuracy=0.92, loss=2.51]\n",
            "Train: 100% 2000/2000 [02:03<00:00, 16.15 step/s, accuracy=0.97, loss=0.79, step=86000]\n",
            "Valid: 100% 5664/5667 [00:03<00:00, 1535.31 uttr/s, accuracy=0.92, loss=2.40]\n",
            "Train: 100% 2000/2000 [01:59<00:00, 16.79 step/s, accuracy=1.00, loss=0.17, step=88000]\n",
            "Valid: 100% 5664/5667 [00:03<00:00, 1542.22 uttr/s, accuracy=0.92, loss=2.43]\n",
            "Train: 100% 2000/2000 [02:01<00:00, 16.52 step/s, accuracy=1.00, loss=0.19, step=9e+4] \n",
            "Valid: 100% 5664/5667 [00:03<00:00, 1504.54 uttr/s, accuracy=0.92, loss=2.38]\n",
            "Train: 100% 2000/2000 [02:02<00:00, 16.39 step/s, accuracy=1.00, loss=0.10, step=92000]\n",
            "Valid: 100% 5664/5667 [00:03<00:00, 1457.90 uttr/s, accuracy=0.92, loss=2.40]\n",
            "Train: 100% 2000/2000 [02:01<00:00, 16.46 step/s, accuracy=1.00, loss=0.48, step=94000]\n",
            "Valid: 100% 5664/5667 [00:03<00:00, 1511.52 uttr/s, accuracy=0.92, loss=2.40]\n",
            "Train: 100% 2000/2000 [02:02<00:00, 16.28 step/s, accuracy=1.00, loss=0.30, step=96000]\n",
            "Valid: 100% 5664/5667 [00:03<00:00, 1490.54 uttr/s, accuracy=0.93, loss=2.27]\n",
            "Train: 100% 2000/2000 [02:06<00:00, 15.87 step/s, accuracy=1.00, loss=0.41, step=98000]\n",
            "Valid: 100% 5664/5667 [00:03<00:00, 1458.25 uttr/s, accuracy=0.93, loss=2.36]\n",
            "Train: 100% 2000/2000 [02:02<00:00, 16.38 step/s, accuracy=1.00, loss=1.48, step=1e+5] \n",
            "Valid: 100% 5664/5667 [00:03<00:00, 1500.79 uttr/s, accuracy=0.93, loss=2.18]\n",
            "Train:   0% 3/2000 [00:00<02:26, 13.59 step/s, accuracy=1.00, loss=0.00, step=1e+5]"
          ]
        },
        {
          "name": "stdout",
          "output_type": "stream",
          "text": [
            "Step 100000, best model saved. (accuracy=0.9319)\n"
          ]
        },
        {
          "name": "stderr",
          "output_type": "stream",
          "text": [
            "Train: 100% 2000/2000 [02:01<00:00, 16.44 step/s, accuracy=1.00, loss=0.17, step=102000]\n",
            "Valid: 100% 5664/5667 [00:03<00:00, 1551.07 uttr/s, accuracy=0.93, loss=2.26]\n",
            "Train: 100% 2000/2000 [01:59<00:00, 16.77 step/s, accuracy=1.00, loss=0.23, step=104000]\n",
            "Valid: 100% 5664/5667 [00:03<00:00, 1548.09 uttr/s, accuracy=0.93, loss=2.28]\n",
            "Train: 100% 2000/2000 [01:59<00:00, 16.78 step/s, accuracy=1.00, loss=0.25, step=106000]\n",
            "Valid: 100% 5664/5667 [00:03<00:00, 1551.34 uttr/s, accuracy=0.93, loss=2.18]\n",
            "Train: 100% 2000/2000 [01:59<00:00, 16.75 step/s, accuracy=1.00, loss=0.83, step=108000]\n",
            "Valid: 100% 5664/5667 [00:03<00:00, 1539.79 uttr/s, accuracy=0.93, loss=2.21]\n",
            "Train: 100% 2000/2000 [01:58<00:00, 16.85 step/s, accuracy=1.00, loss=0.24, step=110000]\n",
            "Valid: 100% 5664/5667 [00:03<00:00, 1558.72 uttr/s, accuracy=0.93, loss=2.14]\n",
            "Train:   0% 3/2000 [00:00<02:23, 13.94 step/s, accuracy=0.97, loss=0.64, step=110003]"
          ]
        },
        {
          "name": "stdout",
          "output_type": "stream",
          "text": [
            "Step 110000, best model saved. (accuracy=0.9343)\n"
          ]
        },
        {
          "name": "stderr",
          "output_type": "stream",
          "text": [
            "Train: 100% 2000/2000 [01:59<00:00, 16.76 step/s, accuracy=1.00, loss=0.39, step=112000]\n",
            "Valid: 100% 5664/5667 [00:03<00:00, 1519.58 uttr/s, accuracy=0.93, loss=2.11]\n",
            "Train: 100% 2000/2000 [01:58<00:00, 16.83 step/s, accuracy=1.00, loss=0.22, step=114000]\n",
            "Valid: 100% 5664/5667 [00:03<00:00, 1543.90 uttr/s, accuracy=0.94, loss=2.09]\n",
            "Train: 100% 2000/2000 [01:58<00:00, 16.81 step/s, accuracy=0.97, loss=1.61, step=116000]\n",
            "Valid: 100% 5664/5667 [00:03<00:00, 1519.89 uttr/s, accuracy=0.93, loss=2.10]\n",
            "Train: 100% 2000/2000 [01:58<00:00, 16.82 step/s, accuracy=1.00, loss=0.13, step=118000]\n",
            "Valid: 100% 5664/5667 [00:03<00:00, 1553.49 uttr/s, accuracy=0.93, loss=2.15]\n",
            "Train: 100% 2000/2000 [01:58<00:00, 16.86 step/s, accuracy=1.00, loss=0.12, step=120000]\n",
            "Valid: 100% 5664/5667 [00:03<00:00, 1518.57 uttr/s, accuracy=0.94, loss=2.07]\n",
            "Train:   0% 3/2000 [00:00<02:30, 13.29 step/s, accuracy=1.00, loss=0.00, step=120003]"
          ]
        },
        {
          "name": "stdout",
          "output_type": "stream",
          "text": [
            "Step 120000, best model saved. (accuracy=0.9359)\n"
          ]
        },
        {
          "name": "stderr",
          "output_type": "stream",
          "text": [
            "Train: 100% 2000/2000 [01:58<00:00, 16.82 step/s, accuracy=1.00, loss=0.77, step=122000]\n",
            "Valid: 100% 5664/5667 [00:03<00:00, 1543.63 uttr/s, accuracy=0.94, loss=2.00]\n",
            "Train: 100% 2000/2000 [01:58<00:00, 16.84 step/s, accuracy=1.00, loss=0.28, step=124000]\n",
            "Valid: 100% 5664/5667 [00:03<00:00, 1528.12 uttr/s, accuracy=0.94, loss=2.06]\n",
            "Train: 100% 2000/2000 [01:58<00:00, 16.81 step/s, accuracy=1.00, loss=0.00, step=126000]\n",
            "Valid: 100% 5664/5667 [00:03<00:00, 1528.49 uttr/s, accuracy=0.94, loss=1.96]\n",
            "Train: 100% 2000/2000 [01:58<00:00, 16.82 step/s, accuracy=1.00, loss=0.08, step=128000]\n",
            "Valid: 100% 5664/5667 [00:03<00:00, 1536.08 uttr/s, accuracy=0.94, loss=1.96]\n",
            "Train: 100% 2000/2000 [01:58<00:00, 16.87 step/s, accuracy=1.00, loss=0.06, step=130000]\n",
            "Valid: 100% 5664/5667 [00:03<00:00, 1546.92 uttr/s, accuracy=0.94, loss=1.92]\n",
            "Train:   0% 2/2000 [00:00<02:39, 12.52 step/s, accuracy=1.00, loss=0.35, step=130002]"
          ]
        },
        {
          "name": "stdout",
          "output_type": "stream",
          "text": [
            "Step 130000, best model saved. (accuracy=0.9396)\n"
          ]
        },
        {
          "name": "stderr",
          "output_type": "stream",
          "text": [
            "Train: 100% 2000/2000 [01:58<00:00, 16.84 step/s, accuracy=1.00, loss=0.02, step=132000]\n",
            "Valid: 100% 5664/5667 [00:03<00:00, 1556.61 uttr/s, accuracy=0.94, loss=1.91]\n",
            "Train: 100% 2000/2000 [01:59<00:00, 16.77 step/s, accuracy=1.00, loss=0.14, step=134000]\n",
            "Valid: 100% 5664/5667 [00:03<00:00, 1491.52 uttr/s, accuracy=0.94, loss=1.99]\n",
            "Train: 100% 2000/2000 [02:01<00:00, 16.52 step/s, accuracy=1.00, loss=0.11, step=136000]\n",
            "Valid: 100% 5664/5667 [00:03<00:00, 1425.83 uttr/s, accuracy=0.94, loss=1.84]\n",
            "Train: 100% 2000/2000 [02:01<00:00, 16.49 step/s, accuracy=0.97, loss=0.69, step=138000]\n",
            "Valid: 100% 5664/5667 [00:03<00:00, 1518.96 uttr/s, accuracy=0.94, loss=1.96]\n",
            "Train: 100% 2000/2000 [02:00<00:00, 16.64 step/s, accuracy=1.00, loss=0.13, step=140000]\n",
            "Valid: 100% 5664/5667 [00:03<00:00, 1535.02 uttr/s, accuracy=0.95, loss=1.81]\n",
            "Train:   0% 3/2000 [00:00<02:16, 14.65 step/s, accuracy=1.00, loss=0.53, step=140003]"
          ]
        },
        {
          "name": "stdout",
          "output_type": "stream",
          "text": [
            "Step 140000, best model saved. (accuracy=0.9458)\n"
          ]
        },
        {
          "name": "stderr",
          "output_type": "stream",
          "text": [
            "Train: 100% 2000/2000 [01:59<00:00, 16.77 step/s, accuracy=1.00, loss=0.39, step=142000]\n",
            "Valid: 100% 5664/5667 [00:03<00:00, 1553.42 uttr/s, accuracy=0.94, loss=1.94]\n",
            "Train: 100% 2000/2000 [01:59<00:00, 16.74 step/s, accuracy=1.00, loss=0.26, step=144000]\n",
            "Valid: 100% 5664/5667 [00:03<00:00, 1534.41 uttr/s, accuracy=0.94, loss=1.81]\n",
            "Train: 100% 2000/2000 [01:58<00:00, 16.86 step/s, accuracy=1.00, loss=0.10, step=146000]\n",
            "Valid: 100% 5664/5667 [00:03<00:00, 1532.09 uttr/s, accuracy=0.94, loss=1.84]\n",
            "Train: 100% 2000/2000 [01:59<00:00, 16.76 step/s, accuracy=1.00, loss=0.24, step=148000]\n",
            "Valid: 100% 5664/5667 [00:03<00:00, 1557.02 uttr/s, accuracy=0.95, loss=1.73]\n",
            "Train: 100% 2000/2000 [01:59<00:00, 16.77 step/s, accuracy=0.97, loss=0.74, step=150000]\n",
            "Valid: 100% 5664/5667 [00:03<00:00, 1536.38 uttr/s, accuracy=0.94, loss=1.83]\n",
            "Train:   0% 2/2000 [00:00<02:52, 11.61 step/s, accuracy=1.00, loss=0.43, step=150002]"
          ]
        },
        {
          "name": "stdout",
          "output_type": "stream",
          "text": [
            "Step 150000, best model saved. (accuracy=0.9469)\n"
          ]
        },
        {
          "name": "stderr",
          "output_type": "stream",
          "text": [
            "Train: 100% 2000/2000 [01:58<00:00, 16.86 step/s, accuracy=1.00, loss=0.01, step=152000]\n",
            "Valid: 100% 5664/5667 [00:03<00:00, 1543.14 uttr/s, accuracy=0.95, loss=1.68]\n",
            "Train: 100% 2000/2000 [01:59<00:00, 16.78 step/s, accuracy=1.00, loss=0.00, step=154000]\n",
            "Valid: 100% 5664/5667 [00:03<00:00, 1547.06 uttr/s, accuracy=0.95, loss=1.72]\n",
            "Train: 100% 2000/2000 [01:59<00:00, 16.74 step/s, accuracy=1.00, loss=0.00, step=156000]\n",
            "Valid: 100% 5664/5667 [00:03<00:00, 1463.45 uttr/s, accuracy=0.95, loss=1.66]\n",
            "Train: 100% 2000/2000 [01:58<00:00, 16.85 step/s, accuracy=1.00, loss=0.03, step=158000]\n",
            "Valid: 100% 5664/5667 [00:03<00:00, 1558.99 uttr/s, accuracy=0.95, loss=1.69]\n",
            "Train: 100% 2000/2000 [01:58<00:00, 16.81 step/s, accuracy=0.97, loss=0.65, step=160000]\n",
            "Valid: 100% 5664/5667 [00:03<00:00, 1547.89 uttr/s, accuracy=0.95, loss=1.62]\n",
            "Train:   0% 3/2000 [00:00<02:26, 13.65 step/s, accuracy=1.00, loss=0.06, step=160003]"
          ]
        },
        {
          "name": "stdout",
          "output_type": "stream",
          "text": [
            "Step 160000, best model saved. (accuracy=0.9511)\n"
          ]
        },
        {
          "name": "stderr",
          "output_type": "stream",
          "text": [
            "Train: 100% 2000/2000 [01:59<00:00, 16.79 step/s, accuracy=1.00, loss=0.00, step=162000]\n",
            "Valid: 100% 5664/5667 [00:03<00:00, 1540.54 uttr/s, accuracy=0.95, loss=1.68]\n",
            "Train: 100% 2000/2000 [01:59<00:00, 16.78 step/s, accuracy=1.00, loss=0.05, step=164000]\n",
            "Valid: 100% 5664/5667 [00:03<00:00, 1541.14 uttr/s, accuracy=0.95, loss=1.56]\n",
            "Train: 100% 2000/2000 [01:59<00:00, 16.70 step/s, accuracy=1.00, loss=0.01, step=166000]\n",
            "Valid: 100% 5664/5667 [00:03<00:00, 1536.73 uttr/s, accuracy=0.95, loss=1.59]\n",
            "Train: 100% 2000/2000 [01:59<00:00, 16.76 step/s, accuracy=1.00, loss=0.00, step=168000]\n",
            "Valid: 100% 5664/5667 [00:03<00:00, 1548.80 uttr/s, accuracy=0.95, loss=1.61]\n",
            "Train: 100% 2000/2000 [01:59<00:00, 16.71 step/s, accuracy=1.00, loss=0.08, step=170000]\n",
            "Valid: 100% 5664/5667 [00:03<00:00, 1547.32 uttr/s, accuracy=0.95, loss=1.62]\n",
            "Train:   0% 3/2000 [00:00<02:18, 14.39 step/s, accuracy=1.00, loss=0.00, step=170003]"
          ]
        },
        {
          "name": "stdout",
          "output_type": "stream",
          "text": [
            "Step 170000, best model saved. (accuracy=0.9520)\n"
          ]
        },
        {
          "name": "stderr",
          "output_type": "stream",
          "text": [
            "Train: 100% 2000/2000 [01:59<00:00, 16.73 step/s, accuracy=1.00, loss=0.05, step=172000]\n",
            "Valid: 100% 5664/5667 [00:03<00:00, 1544.10 uttr/s, accuracy=0.95, loss=1.66]\n",
            "Train: 100% 2000/2000 [01:59<00:00, 16.72 step/s, accuracy=1.00, loss=0.00, step=174000]\n",
            "Valid: 100% 5664/5667 [00:03<00:00, 1542.52 uttr/s, accuracy=0.95, loss=1.60]\n",
            "Train: 100% 2000/2000 [01:59<00:00, 16.74 step/s, accuracy=1.00, loss=0.00, step=176000]\n",
            "Valid: 100% 5664/5667 [00:03<00:00, 1533.73 uttr/s, accuracy=0.95, loss=1.59]\n",
            "Train: 100% 2000/2000 [01:59<00:00, 16.70 step/s, accuracy=1.00, loss=0.04, step=178000]\n",
            "Valid: 100% 5664/5667 [00:03<00:00, 1521.69 uttr/s, accuracy=0.95, loss=1.59]\n",
            "Train: 100% 2000/2000 [01:59<00:00, 16.78 step/s, accuracy=1.00, loss=0.17, step=180000]\n",
            "Valid: 100% 5664/5667 [00:03<00:00, 1538.43 uttr/s, accuracy=0.95, loss=1.56]\n",
            "Train:   0% 3/2000 [00:00<02:17, 14.56 step/s, accuracy=1.00, loss=0.00, step=180003]"
          ]
        },
        {
          "name": "stdout",
          "output_type": "stream",
          "text": [
            "Step 180000, best model saved. (accuracy=0.9525)\n"
          ]
        },
        {
          "name": "stderr",
          "output_type": "stream",
          "text": [
            "Train: 100% 2000/2000 [01:59<00:00, 16.73 step/s, accuracy=1.00, loss=0.00, step=182000]\n",
            "Valid: 100% 5664/5667 [00:03<00:00, 1548.75 uttr/s, accuracy=0.95, loss=1.52]\n",
            "Train: 100% 2000/2000 [01:59<00:00, 16.78 step/s, accuracy=1.00, loss=0.01, step=184000]\n",
            "Valid: 100% 5664/5667 [00:03<00:00, 1542.19 uttr/s, accuracy=0.95, loss=1.58]\n",
            "Train: 100% 2000/2000 [01:59<00:00, 16.67 step/s, accuracy=1.00, loss=0.00, step=186000]\n",
            "Valid: 100% 5664/5667 [00:03<00:00, 1551.76 uttr/s, accuracy=0.95, loss=1.48]\n",
            "Train: 100% 2000/2000 [01:59<00:00, 16.75 step/s, accuracy=1.00, loss=0.10, step=188000]\n",
            "Valid: 100% 5664/5667 [00:03<00:00, 1545.91 uttr/s, accuracy=0.95, loss=1.60]\n",
            "Train: 100% 2000/2000 [01:59<00:00, 16.72 step/s, accuracy=1.00, loss=0.28, step=190000]\n",
            "Valid: 100% 5664/5667 [00:03<00:00, 1530.61 uttr/s, accuracy=0.95, loss=1.52]\n",
            "Train:   0% 3/2000 [00:00<02:24, 13.86 step/s, accuracy=1.00, loss=0.00, step=190003]"
          ]
        },
        {
          "name": "stdout",
          "output_type": "stream",
          "text": [
            "Step 190000, best model saved. (accuracy=0.9548)\n"
          ]
        },
        {
          "name": "stderr",
          "output_type": "stream",
          "text": [
            "Train: 100% 2000/2000 [01:59<00:00, 16.67 step/s, accuracy=1.00, loss=0.02, step=192000]\n",
            "Valid: 100% 5664/5667 [00:03<00:00, 1533.07 uttr/s, accuracy=0.95, loss=1.53]\n",
            "Train: 100% 2000/2000 [02:00<00:00, 16.66 step/s, accuracy=1.00, loss=0.17, step=194000]\n",
            "Valid: 100% 5664/5667 [00:03<00:00, 1534.40 uttr/s, accuracy=0.95, loss=1.54]\n",
            "Train: 100% 2000/2000 [02:01<00:00, 16.51 step/s, accuracy=1.00, loss=0.01, step=196000]\n",
            "Valid: 100% 5664/5667 [00:04<00:00, 1407.34 uttr/s, accuracy=0.95, loss=1.55]\n",
            "Train: 100% 2000/2000 [02:01<00:00, 16.48 step/s, accuracy=1.00, loss=0.00, step=198000]\n",
            "Valid: 100% 5664/5667 [00:03<00:00, 1534.23 uttr/s, accuracy=0.95, loss=1.51]\n",
            "Train: 100% 2000/2000 [02:00<00:00, 16.66 step/s, accuracy=1.00, loss=0.00, step=2e+5]  \n",
            "Valid: 100% 5664/5667 [00:03<00:00, 1491.64 uttr/s, accuracy=0.95, loss=1.51]\n",
            "Train:   0% 0/2000 [00:00<?, ? step/s]\n"
          ]
        }
      ],
      "source": [
        "from tqdm import tqdm\n",
        "\n",
        "import torch\n",
        "import torch.nn as nn\n",
        "from torch.optim import AdamW\n",
        "from torch.utils.data import DataLoader, random_split\n",
        "\n",
        "\n",
        "def parse_args():\n",
        "\t\"\"\"arguments\"\"\"\n",
        "\tconfig = {\n",
        "\t\t\"data_dir\": \"./Dataset\",\n",
        "\t\t\"save_path\": \"model.ckpt\",\n",
        "\t\t\"batch_size\": 32,\n",
        "\t\t\"n_workers\": 0,\n",
        "\t\t\"valid_steps\": 2000,\n",
        "\t\t\"warmup_steps\": 1000,\n",
        "\t\t\"save_steps\": 10000,\n",
        "\t\t\"total_steps\": 200000 # 70000,\n",
        "\t}\n",
        "\n",
        "\treturn config\n",
        "\n",
        "\n",
        "def main(\n",
        "\tdata_dir,\n",
        "\tsave_path,\n",
        "\tbatch_size,\n",
        "\tn_workers,\n",
        "\tvalid_steps,\n",
        "\twarmup_steps,\n",
        "\ttotal_steps,\n",
        "\tsave_steps,\n",
        "\tclip_norm=1.0\n",
        "):\n",
        "\t\"\"\"Main function.\"\"\"\n",
        "\tdevice = torch.device(\"cuda\" if torch.cuda.is_available() else \"cpu\")\n",
        "\tprint(f\"[Info]: Use {device} now!\")\n",
        "\n",
        "\ttrain_loader, valid_loader, speaker_num = get_dataloader(data_dir, batch_size, n_workers)\n",
        "\ttrain_iterator = iter(train_loader)\n",
        "\tprint(f\"[Info]: Finish loading data!\",flush = True)\n",
        "\n",
        "\tmodel = Classifier(n_spks=speaker_num).to(device)\n",
        "\ttry:\n",
        "\t\tmodel.load_state_dict(torch.load(save_path))\n",
        "\t\tprint(\"Train from previous saved state.\")\n",
        "\texcept:\n",
        "\t\tprint(\"Train from scratch.\")\n",
        "\t# criterion = nn.CrossEntropyLoss()\n",
        "\t# criterion = AdMSoftmaxLoss().to(device)\n",
        "\tcriterion = am_softmax_loss\n",
        "\toptimizer = AdamW(model.parameters(), lr=1e-3)\n",
        "\tscheduler = get_cosine_schedule_with_warmup(optimizer, warmup_steps, total_steps)\n",
        "\tprint(f\"[Info]: Finish creating model!\",flush = True)\n",
        "\n",
        "\tbest_accuracy = -1.0\n",
        "\tbest_state_dict = None\n",
        "\n",
        "\tpbar = tqdm(total=valid_steps, ncols=0, desc=\"Train\", unit=\" step\")\n",
        "\n",
        "\tfor step in range(total_steps):\n",
        "\t\t# Get data\n",
        "\t\ttry:\n",
        "\t\t\tbatch = next(train_iterator)\n",
        "\t\texcept StopIteration:\n",
        "\t\t\ttrain_iterator = iter(train_loader)\n",
        "\t\t\tbatch = next(train_iterator)\n",
        "\n",
        "\t\tloss, accuracy = model_fn(batch, model, criterion, device)\n",
        "\t\tbatch_loss = loss.item()\n",
        "\t\tbatch_accuracy = accuracy.item()\n",
        "\n",
        "\t\t# Updata model\n",
        "\t\tloss.backward()\n",
        "\t\tnn.utils.clip_grad_norm_(model.parameters(), max_norm=clip_norm)\n",
        "\t\toptimizer.step()\n",
        "\t\tscheduler.step()\n",
        "\t\toptimizer.zero_grad()\n",
        "\n",
        "\t\t# Log\n",
        "\t\tpbar.update()\n",
        "\t\tpbar.set_postfix(\n",
        "\t\t\tloss=f\"{batch_loss:.2f}\",\n",
        "\t\t\taccuracy=f\"{batch_accuracy:.2f}\",\n",
        "\t\t\tstep=step + 1,\n",
        "\t\t)\n",
        "\n",
        "\t\t# Do validation\n",
        "\t\tif (step + 1) % valid_steps == 0:\n",
        "\t\t\tpbar.close()\n",
        "\n",
        "\t\t\tvalid_accuracy = valid(valid_loader, model, criterion, device)\n",
        "\n",
        "\t\t\t# keep the best model\n",
        "\t\t\tif valid_accuracy > best_accuracy:\n",
        "\t\t\t\tbest_accuracy = valid_accuracy\n",
        "\t\t\t\tbest_state_dict = model.state_dict()\n",
        "\n",
        "\t\t\tpbar = tqdm(total=valid_steps, ncols=0, desc=\"Train\", unit=\" step\")\n",
        "\n",
        "\t\t# Save the best model so far.\n",
        "\t\tif (step + 1) % save_steps == 0 and best_state_dict is not None:\n",
        "\t\t\ttorch.save(best_state_dict, save_path)\n",
        "\t\t\tpbar.write(f\"Step {step + 1}, best model saved. (accuracy={best_accuracy:.4f})\")\n",
        "\t\t\tbest_state_dict = None\n",
        "\n",
        "\tpbar.close()\n",
        "\n",
        "\n",
        "if __name__ == \"__main__\":\n",
        "\tmain(**parse_args())"
      ]
    },
    {
      "cell_type": "markdown",
      "metadata": {
        "id": "NLatBYAhNNMx"
      },
      "source": [
        "# Inference\n",
        "\n",
        "## Dataset of inference"
      ]
    },
    {
      "cell_type": "code",
      "execution_count": 10,
      "metadata": {
        "colab": {
          "background_save": true
        },
        "id": "efS4pCmAJXJH"
      },
      "outputs": [],
      "source": [
        "import os\n",
        "import json\n",
        "import torch\n",
        "from pathlib import Path\n",
        "from torch.utils.data import Dataset\n",
        "\n",
        "\n",
        "class InferenceDataset(Dataset):\n",
        "\tdef __init__(self, data_dir):\n",
        "\t\ttestdata_path = Path(data_dir) / \"testdata.json\"\n",
        "\t\tmetadata = json.load(testdata_path.open())\n",
        "\t\tself.data_dir = data_dir\n",
        "\t\tself.data = metadata[\"utterances\"]\n",
        "\n",
        "\tdef __len__(self):\n",
        "\t\treturn len(self.data)\n",
        "\n",
        "\tdef __getitem__(self, index):\n",
        "\t\tutterance = self.data[index]\n",
        "\t\tfeat_path = utterance[\"feature_path\"]\n",
        "\t\tmel = torch.load(os.path.join(self.data_dir, feat_path))\n",
        "\n",
        "\t\treturn feat_path, mel\n",
        "\n",
        "\n",
        "def inference_collate_batch(batch):\n",
        "\t\"\"\"Collate a batch of data.\"\"\"\n",
        "\tfeat_paths, mels = zip(*batch)\n",
        "\n",
        "\treturn feat_paths, torch.stack(mels)"
      ]
    },
    {
      "cell_type": "markdown",
      "metadata": {
        "id": "tl0WnYwxNK_S"
      },
      "source": [
        "## Main funcrion of Inference"
      ]
    },
    {
      "cell_type": "code",
      "execution_count": 11,
      "metadata": {
        "colab": {
          "background_save": true
        },
        "id": "i8SAbuXEJb2A"
      },
      "outputs": [
        {
          "name": "stdout",
          "output_type": "stream",
          "text": [
            "[Info]: Use cuda now!\n",
            "[Info]: Finish loading data!\n",
            "[Info]: Finish creating model!\n"
          ]
        },
        {
          "data": {
            "application/vnd.jupyter.widget-view+json": {
              "model_id": "4acf5ce4357b443abe054f3a0c77f6a1",
              "version_major": 2,
              "version_minor": 0
            },
            "text/plain": [
              "  0%|          | 0/8000 [00:00<?, ?it/s]"
            ]
          },
          "metadata": {},
          "output_type": "display_data"
        },
        {
          "name": "stderr",
          "output_type": "stream",
          "text": [
            "C:\\Users\\Wei-shun Bao\\AppData\\Local\\Temp\\ipykernel_20148\\4057057843.py:29: UserWarning: Implicit dimension choice for softmax has been deprecated. Change the call to include dim=X as an argument.\n",
            "  att_w = softmax(self.W(batch_rep).squeeze(-1)).unsqueeze(-1)\n"
          ]
        }
      ],
      "source": [
        "import json\n",
        "import csv\n",
        "from pathlib import Path\n",
        "from tqdm.notebook import tqdm\n",
        "\n",
        "import torch\n",
        "from torch.utils.data import DataLoader\n",
        "\n",
        "def parse_args():\n",
        "\t\"\"\"arguments\"\"\"\n",
        "\tconfig = {\n",
        "\t\t\"data_dir\": \"./Dataset\",\n",
        "\t\t\"model_path\": \"./model.ckpt\",\n",
        "\t\t\"output_path\": \"./output.csv\",\n",
        "\t}\n",
        "\n",
        "\treturn config\n",
        "\n",
        "\n",
        "def main(\n",
        "\tdata_dir,\n",
        "\tmodel_path,\n",
        "\toutput_path,\n",
        "):\n",
        "\t\"\"\"Main function.\"\"\"\n",
        "\tdevice = torch.device(\"cuda\" if torch.cuda.is_available() else \"cpu\")\n",
        "\tprint(f\"[Info]: Use {device} now!\")\n",
        "\n",
        "\tmapping_path = Path(data_dir) / \"mapping.json\"\n",
        "\tmapping = json.load(mapping_path.open())\n",
        "\n",
        "\tdataset = InferenceDataset(data_dir)\n",
        "\tdataloader = DataLoader(\n",
        "\t\tdataset,\n",
        "\t\tbatch_size=1,\n",
        "\t\tshuffle=False,\n",
        "\t\tdrop_last=False,\n",
        "\t\tnum_workers=0,\n",
        "\t\tcollate_fn=inference_collate_batch,\n",
        "\t)\n",
        "\tprint(f\"[Info]: Finish loading data!\",flush = True)\n",
        "\n",
        "\tspeaker_num = len(mapping[\"id2speaker\"])\n",
        "\tmodel = Classifier(n_spks=speaker_num).to(device)\n",
        "\tmodel.load_state_dict(torch.load(model_path))\n",
        "\tmodel.eval()\n",
        "\tprint(f\"[Info]: Finish creating model!\",flush = True)\n",
        "\n",
        "\tresults = [[\"Id\", \"Category\"]]\n",
        "\tfor feat_paths, mels in tqdm(dataloader):\n",
        "\t\twith torch.no_grad():\n",
        "\t\t\tmels = mels.to(device)\n",
        "\t\t\touts = model(mels)\n",
        "\t\t\tpreds = outs.argmax(1).cpu().numpy()\n",
        "\t\t\tfor feat_path, pred in zip(feat_paths, preds):\n",
        "\t\t\t\tresults.append([feat_path, mapping[\"id2speaker\"][str(pred)]])\n",
        "\n",
        "\twith open(output_path, 'w', newline='') as csvfile:\n",
        "\t\twriter = csv.writer(csvfile)\n",
        "\t\twriter.writerows(results)\n",
        "\n",
        "\n",
        "if __name__ == \"__main__\":\n",
        "\tmain(**parse_args())"
      ]
    },
    {
      "cell_type": "code",
      "execution_count": null,
      "metadata": {},
      "outputs": [],
      "source": []
    }
  ],
  "metadata": {
    "accelerator": "GPU",
    "colab": {
      "collapsed_sections": [],
      "name": "hw04.ipynb",
      "provenance": []
    },
    "kernelspec": {
      "display_name": "Python 3",
      "name": "python3"
    },
    "language_info": {
      "codemirror_mode": {
        "name": "ipython",
        "version": 3
      },
      "file_extension": ".py",
      "mimetype": "text/x-python",
      "name": "python",
      "nbconvert_exporter": "python",
      "pygments_lexer": "ipython3",
      "version": "3.10.5"
    }
  },
  "nbformat": 4,
  "nbformat_minor": 0
}
