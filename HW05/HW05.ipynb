{
  "cells": [
    {
      "cell_type": "markdown",
      "metadata": {
        "id": "AFEKWoh3p1Mv"
      },
      "source": [
        "# Homework Description\n",
        "- English to Chinese (Traditional) Translation\n",
        "  - Input: an English sentence         (e.g.\t\ttom is a student .)\n",
        "  - Output: the Chinese translation  (e.g. \t\t湯姆 是 個 學生 。)\n",
        "\n",
        "- TODO\n",
        "    - Train a simple RNN seq2seq to acheive translation\n",
        "    - Switch to transformer model to boost performance\n",
        "    - Apply Back-translation to furthur boost performance"
      ]
    },
    {
      "cell_type": "code",
      "execution_count": 1,
      "metadata": {
        "id": "3Vf1Q79XPQ3D"
      },
      "outputs": [
        {
          "name": "stdout",
          "output_type": "stream",
          "text": [
            "Mon Apr  3 15:39:07 2023       \n",
            "+---------------------------------------------------------------------------------------+\n",
            "| NVIDIA-SMI 531.41                 Driver Version: 531.41       CUDA Version: 12.1     |\n",
            "|-----------------------------------------+----------------------+----------------------+\n",
            "| GPU  Name                      TCC/WDDM | Bus-Id        Disp.A | Volatile Uncorr. ECC |\n",
            "| Fan  Temp  Perf            Pwr:Usage/Cap|         Memory-Usage | GPU-Util  Compute M. |\n",
            "|                                         |                      |               MIG M. |\n",
            "|=========================================+======================+======================|\n",
            "|   0  NVIDIA GeForce RTX 3080 L...  WDDM | 00000000:01:00.0  On |                  N/A |\n",
            "| N/A   50C    P8               20W /  N/A|   1174MiB / 16384MiB |      8%      Default |\n",
            "|                                         |                      |                  N/A |\n",
            "+-----------------------------------------+----------------------+----------------------+\n",
            "                                                                                         \n",
            "+---------------------------------------------------------------------------------------+\n",
            "| Processes:                                                                            |\n",
            "|  GPU   GI   CI        PID   Type   Process name                            GPU Memory |\n",
            "|        ID   ID                                                             Usage      |\n",
            "|=======================================================================================|\n",
            "|    0   N/A  N/A      2792    C+G   ...nt.CBS_cw5n1h2txyewy\\SearchHost.exe    N/A      |\n",
            "|    0   N/A  N/A      5560    C+G   ...m Files\\Mozilla Firefox\\firefox.exe    N/A      |\n",
            "|    0   N/A  N/A     10744    C+G   ...4036\\office6\\promecefpluginhost.exe    N/A      |\n",
            "|    0   N/A  N/A     12156    C+G   ...m Files\\Mozilla Firefox\\firefox.exe    N/A      |\n",
            "|    0   N/A  N/A     12824    C+G   C:\\Windows\\explorer.exe                   N/A      |\n",
            "|    0   N/A  N/A     14404    C+G   ...t.LockApp_cw5n1h2txyewy\\LockApp.exe    N/A      |\n",
            "|    0   N/A  N/A     15180    C+G   ...GeForce Experience\\NVIDIA Share.exe    N/A      |\n",
            "|    0   N/A  N/A     15352    C+G   ...2txyewy\\StartMenuExperienceHost.exe    N/A      |\n",
            "|    0   N/A  N/A     21248    C+G   ...ekyb3d8bbwe\\PhoneExperienceHost.exe    N/A      |\n",
            "|    0   N/A  N/A     30712    C+G   ...7.0_x64__w2gh52qy24etm\\Nahimic3.exe    N/A      |\n",
            "|    0   N/A  N/A     31308    C+G   ...4036\\office6\\promecefpluginhost.exe    N/A      |\n",
            "|    0   N/A  N/A     32160    C+G   ...am Files\\Microsoft VS Code\\Code.exe    N/A      |\n",
            "|    0   N/A  N/A     36560    C+G   ...5n1h2txyewy\\ShellExperienceHost.exe    N/A      |\n",
            "|    0   N/A  N/A     40084    C+G   ...__8wekyb3d8bbwe\\WindowsTerminal.exe    N/A      |\n",
            "|    0   N/A  N/A     42116    C+G   ...CBS_cw5n1h2txyewy\\TextInputHost.exe    N/A      |\n",
            "+---------------------------------------------------------------------------------------+\n"
          ]
        }
      ],
      "source": [
        "!nvidia-smi"
      ]
    },
    {
      "cell_type": "markdown",
      "metadata": {
        "id": "59neB_Sxp5Ub"
      },
      "source": [
        "# Download and import required packages"
      ]
    },
    {
      "cell_type": "code",
      "execution_count": 2,
      "metadata": {
        "id": "rRlFbfFRpZYT"
      },
      "outputs": [],
      "source": [
        "# !pip install 'torch>=1.6.0' editdistance matplotlib sacrebleu sacremoses sentencepiece tqdm wandb\n",
        "# !pip install --upgrade jupyter ipywidgets"
      ]
    },
    {
      "cell_type": "code",
      "execution_count": 3,
      "metadata": {
        "id": "fSksMTdmp-Wt"
      },
      "outputs": [],
      "source": [
        "# !git clone https://github.com/pytorch/fairseq.git\n",
        "# !cd fairseq && git checkout 9a1c497\n",
        "# !pip install --upgrade ./fairseq/"
      ]
    },
    {
      "cell_type": "code",
      "execution_count": 4,
      "metadata": {
        "id": "uRLTiuIuqGNc"
      },
      "outputs": [],
      "source": [
        "import sys\n",
        "import pdb\n",
        "import pprint\n",
        "import logging\n",
        "import os\n",
        "import random\n",
        "\n",
        "import torch\n",
        "import torch.nn as nn\n",
        "import torch.nn.functional as F\n",
        "from torch.utils import data\n",
        "import numpy as np\n",
        "import tqdm.auto as tqdm\n",
        "from pathlib import Path\n",
        "from argparse import Namespace\n",
        "from fairseq import utils\n",
        "\n",
        "import matplotlib.pyplot as plt"
      ]
    },
    {
      "cell_type": "markdown",
      "metadata": {
        "id": "0n07Za1XqJzA"
      },
      "source": [
        "# Fix random seed"
      ]
    },
    {
      "cell_type": "code",
      "execution_count": 5,
      "metadata": {
        "id": "xllxxyWxqI7s"
      },
      "outputs": [],
      "source": [
        "seed = 73\n",
        "random.seed(seed)\n",
        "torch.manual_seed(seed)\n",
        "if torch.cuda.is_available():\n",
        "    torch.cuda.manual_seed(seed)\n",
        "    torch.cuda.manual_seed_all(seed)  \n",
        "np.random.seed(seed)  \n",
        "torch.backends.cudnn.benchmark = False\n",
        "torch.backends.cudnn.deterministic = True"
      ]
    },
    {
      "cell_type": "markdown",
      "metadata": {
        "id": "N5ORDJ-2qdYw"
      },
      "source": [
        "# Dataset\n",
        "\n",
        "## En-Zh Bilingual Parallel Corpus\n",
        "* [TED2020](#reimers-2020-multilingual-sentence-bert)\n",
        "    - Raw: 398,066 (sentences)   \n",
        "    - Processed: 393,980 (sentences)\n",
        "    \n",
        "\n",
        "## Testdata\n",
        "- Size: 4,000 (sentences)\n",
        "- **Chinese translation is undisclosed. The provided (.zh) file is psuedo translation, each line is a '。'**"
      ]
    },
    {
      "cell_type": "markdown",
      "metadata": {
        "id": "GQw2mY4Dqkzd"
      },
      "source": [
        "## Dataset Download"
      ]
    },
    {
      "cell_type": "code",
      "execution_count": 6,
      "metadata": {
        "id": "SXT42xQtqijD"
      },
      "outputs": [],
      "source": [
        "data_dir = './DATA/rawdata'\n",
        "dataset_name = 'ted2020'\n",
        "# urls = (\n",
        "#     \"https://github.com/yuhsinchan/ML2022-HW5Dataset/releases/download/v1.0.2/ted2020.tgz\",\n",
        "#     \"https://github.com/yuhsinchan/ML2022-HW5Dataset/releases/download/v1.0.2/test.tgz\",\n",
        "# )\n",
        "# file_names = (\n",
        "#     'ted2020.tgz', # train & dev\n",
        "#     'test.tgz', # test\n",
        "# )\n",
        "prefix = Path(data_dir).absolute() / dataset_name\n",
        "\n",
        "# prefix.mkdir(parents=True, exist_ok=True)\n",
        "# for u, f in zip(urls, file_names):\n",
        "#     path = prefix/f\n",
        "#     if not path.exists():\n",
        "#         !wget {u} -O {path}\n",
        "#     if path.suffix == \".tgz\":\n",
        "#         !tar -xvf {path} -C {prefix}\n",
        "#     elif path.suffix == \".zip\":\n",
        "#         !unzip -o {path} -d {prefix}\n",
        "# !mv {prefix/'raw.en'} {prefix/'train_dev.raw.en'}\n",
        "# !mv {prefix/'raw.zh'} {prefix/'train_dev.raw.zh'}\n",
        "# !mv {prefix/'test/test.en'} {prefix/'test.raw.en'}\n",
        "# !mv {prefix/'test/test.zh'} {prefix/'test.raw.zh'}\n",
        "# !rm -rf {prefix/'test'}"
      ]
    },
    {
      "cell_type": "markdown",
      "metadata": {
        "id": "YLkJwNiFrIwZ"
      },
      "source": [
        "## Language"
      ]
    },
    {
      "cell_type": "code",
      "execution_count": 7,
      "metadata": {
        "id": "_uJYkCncrKJb"
      },
      "outputs": [],
      "source": [
        "src_lang = 'en'\n",
        "tgt_lang = 'zh'\n",
        "\n",
        "data_prefix = os.path.join(prefix, \"train_dev.raw\") # f'{prefix}/train_dev.raw'\n",
        "test_prefix = os.path.join(prefix, \"test.raw\") # f'{prefix}/test.raw'"
      ]
    },
    {
      "cell_type": "code",
      "execution_count": 8,
      "metadata": {
        "id": "0t2CPt1brOT3"
      },
      "outputs": [
        {
          "name": "stdout",
          "output_type": "stream",
          "text": [
            "Thank you so much, Chris.\n",
            "And it's truly a great honor to have the opportunity to come to this stage twice; I'm extremely grateful.\n",
            "I have been blown away by this conference, and I want to thank all of you for the many nice comments about what I had to say the other night.\n",
            "And I say that sincerely, partly because  I need that.\n",
            "Put yourselves in my position.\n",
            "非常謝謝你，克里斯。能有這個機會第二度踏上這個演講台\n",
            "真是一大榮幸。我非常感激。\n",
            "這個研討會給我留下了極為深刻的印象，我想感謝大家 對我之前演講的好評。\n",
            "我是由衷的想這麼說，有部份原因是因為 —— 我真的有需要!\n",
            "請你們設身處地為我想一想！\n"
          ]
        }
      ],
      "source": [
        "!head \"{data_prefix+'.'+src_lang}\" -n 5\n",
        "!head \"{data_prefix+'.'+tgt_lang}\" -n 5"
      ]
    },
    {
      "cell_type": "markdown",
      "metadata": {
        "id": "pRoE9UK7r1gY"
      },
      "source": [
        "## Preprocess files"
      ]
    },
    {
      "cell_type": "code",
      "execution_count": 9,
      "metadata": {
        "id": "3tzFwtnFrle3"
      },
      "outputs": [],
      "source": [
        "import re\n",
        "\n",
        "def strQ2B(ustring):\n",
        "    \"\"\"Full width -> half width\"\"\"\n",
        "    # reference:https://ithelp.ithome.com.tw/articles/10233122\n",
        "    ss = []\n",
        "    for s in ustring:\n",
        "        rstring = \"\"\n",
        "        for uchar in s:\n",
        "            inside_code = ord(uchar)\n",
        "            if inside_code == 12288:  # Full width space: direct conversion\n",
        "                inside_code = 32\n",
        "            elif (inside_code >= 65281 and inside_code <= 65374):  # Full width chars (except space) conversion\n",
        "                inside_code -= 65248\n",
        "            rstring += chr(inside_code)\n",
        "        ss.append(rstring)\n",
        "    return ''.join(ss)\n",
        "                \n",
        "def clean_s(s, lang):\n",
        "    if lang == 'en':\n",
        "        s = re.sub(r\"\\([^()]*\\)\", \"\", s) # remove ([text])\n",
        "        s = s.replace('-', '') # remove '-'\n",
        "        s = re.sub('([.,;!?()\\\"])', r' \\1 ', s) # keep punctuation\n",
        "    elif lang == 'zh':\n",
        "        s = strQ2B(s) # Q2B\n",
        "        s = re.sub(r\"\\([^()]*\\)\", \"\", s) # remove ([text])\n",
        "        s = s.replace(' ', '')\n",
        "        s = s.replace('—', '')\n",
        "        s = s.replace('“', '\"')\n",
        "        s = s.replace('”', '\"')\n",
        "        s = s.replace('_', '')\n",
        "        s = re.sub('([。,;!?()\\\"~「」])', r' \\1 ', s) # keep punctuation\n",
        "    s = ' '.join(s.strip().split())\n",
        "    return s\n",
        "\n",
        "def len_s(s, lang):\n",
        "    if lang == 'zh':\n",
        "        return len(s)\n",
        "    return len(s.split())\n",
        "\n",
        "def clean_corpus(prefix, l1, l2, ratio=9, max_len=1000, min_len=1):\n",
        "    if Path(f'{prefix}.clean.{l1}').exists() and Path(f'{prefix}.clean.{l2}').exists():\n",
        "        print(f'{prefix}.clean.{l1} & {l2} exists. skipping clean.')\n",
        "        return\n",
        "    with open(f'{prefix}.{l1}', 'r') as l1_in_f:\n",
        "        with open(f'{prefix}.{l2}', 'r') as l2_in_f:\n",
        "            with open(f'{prefix}.clean.{l1}', 'w') as l1_out_f:\n",
        "                with open(f'{prefix}.clean.{l2}', 'w') as l2_out_f:\n",
        "                    for s1 in l1_in_f:\n",
        "                        s1 = s1.strip()\n",
        "                        s2 = l2_in_f.readline().strip()\n",
        "                        s1 = clean_s(s1, l1)\n",
        "                        s2 = clean_s(s2, l2)\n",
        "                        s1_len = len_s(s1, l1)\n",
        "                        s2_len = len_s(s2, l2)\n",
        "                        if min_len > 0: # remove short sentence\n",
        "                            if s1_len < min_len or s2_len < min_len:\n",
        "                                continue\n",
        "                        if max_len > 0: # remove long sentence\n",
        "                            if s1_len > max_len or s2_len > max_len:\n",
        "                                continue\n",
        "                        if ratio > 0: # remove by ratio of length\n",
        "                            if s1_len/s2_len > ratio or s2_len/s1_len > ratio:\n",
        "                                continue\n",
        "                        print(s1, file=l1_out_f)\n",
        "                        print(s2, file=l2_out_f)"
      ]
    },
    {
      "cell_type": "code",
      "execution_count": 10,
      "metadata": {
        "id": "h_i8b1PRr9Nf"
      },
      "outputs": [
        {
          "name": "stdout",
          "output_type": "stream",
          "text": [
            "d:\\Wei-shun Bao\\Learning\\Codes\\ML2022-Spring\\HW05\\DATA\\rawdata\\ted2020\\train_dev.raw.clean.en & zh exists. skipping clean.\n",
            "d:\\Wei-shun Bao\\Learning\\Codes\\ML2022-Spring\\HW05\\DATA\\rawdata\\ted2020\\test.raw.clean.en & zh exists. skipping clean.\n"
          ]
        }
      ],
      "source": [
        "clean_corpus(data_prefix, src_lang, tgt_lang)\n",
        "clean_corpus(test_prefix, src_lang, tgt_lang, ratio=-1, min_len=-1, max_len=-1)"
      ]
    },
    {
      "cell_type": "code",
      "execution_count": 11,
      "metadata": {
        "id": "gjT3XCy9r_rj"
      },
      "outputs": [
        {
          "name": "stdout",
          "output_type": "stream",
          "text": [
            "Thank you so much , Chris .\n",
            "And it's truly a great honor to have the opportunity to come to this stage twice ; I'm extremely grateful .\n",
            "I have been blown away by this conference , and I want to thank all of you for the many nice comments about what I had to say the other night .\n",
            "And I say that sincerely , partly because I need that .\n",
            "Put yourselves in my position .\n",
            "非常謝謝你 , 克里斯 。 能有這個機會第二度踏上這個演講台\n",
            "真是一大榮幸 。 我非常感激 。\n",
            "這個研討會給我留下了極為深刻的印象 , 我想感謝大家對我之前演講的好評 。\n",
            "我是由衷的想這麼說 , 有部份原因是因為我真的有需要 !\n",
            "請你們設身處地為我想一想 !\n"
          ]
        }
      ],
      "source": [
        "!head \"{data_prefix+'.clean.'+src_lang}\" -n 5\n",
        "!head \"{data_prefix+'.clean.'+tgt_lang}\" -n 5"
      ]
    },
    {
      "cell_type": "markdown",
      "metadata": {
        "id": "nKb4u67-sT_Z"
      },
      "source": [
        "## Split into train/valid"
      ]
    },
    {
      "cell_type": "code",
      "execution_count": 12,
      "metadata": {
        "id": "AuFKeDz3sGHL"
      },
      "outputs": [],
      "source": [
        "valid_ratio = 0.01 # 3000~4000 would suffice\n",
        "train_ratio = 1 - valid_ratio"
      ]
    },
    {
      "cell_type": "code",
      "execution_count": 13,
      "metadata": {
        "id": "QR2NVldqsXyY"
      },
      "outputs": [
        {
          "name": "stdout",
          "output_type": "stream",
          "text": [
            "train/valid splits exists. skipping split.\n"
          ]
        }
      ],
      "source": [
        "if (prefix/f'train.clean.{src_lang}').exists() \\\n",
        "and (prefix/f'train.clean.{tgt_lang}').exists() \\\n",
        "and (prefix/f'valid.clean.{src_lang}').exists() \\\n",
        "and (prefix/f'valid.clean.{tgt_lang}').exists():\n",
        "    print(f'train/valid splits exists. skipping split.')\n",
        "else:\n",
        "    line_num = sum(1 for line in open(f'{data_prefix}.clean.{src_lang}'))\n",
        "    labels = list(range(line_num))\n",
        "    random.shuffle(labels)\n",
        "    for lang in [src_lang, tgt_lang]:\n",
        "        train_f = open(os.path.join(data_dir, dataset_name, f'train.clean.{lang}'), 'w')\n",
        "        valid_f = open(os.path.join(data_dir, dataset_name, f'valid.clean.{lang}'), 'w')\n",
        "        count = 0\n",
        "        for line in open(f'{data_prefix}.clean.{lang}', 'r'):\n",
        "            if labels[count]/line_num < train_ratio:\n",
        "                train_f.write(line)\n",
        "            else:\n",
        "                valid_f.write(line)\n",
        "            count += 1\n",
        "        train_f.close()\n",
        "        valid_f.close()"
      ]
    },
    {
      "cell_type": "markdown",
      "metadata": {
        "id": "n1rwQysTsdJq"
      },
      "source": [
        "## Subword Units \n",
        "Out of vocabulary (OOV) has been a major problem in machine translation. This can be alleviated by using subword units.\n",
        "- We will use the [sentencepiece](#kudo-richardson-2018-sentencepiece) package\n",
        "- select 'unigram' or 'byte-pair encoding (BPE)' algorithm"
      ]
    },
    {
      "cell_type": "code",
      "execution_count": 14,
      "metadata": {
        "id": "Ecwllsa7sZRA"
      },
      "outputs": [
        {
          "name": "stdout",
          "output_type": "stream",
          "text": [
            "d:\\Wei-shun Bao\\Learning\\Codes\\ML2022-Spring\\HW05\\DATA\\rawdata\\ted2020/spm8000.model exists. skipping spm_train.\n"
          ]
        }
      ],
      "source": [
        "import sentencepiece as spm\n",
        "vocab_size = 8000\n",
        "if (prefix/f'spm{vocab_size}.model').exists():\n",
        "    print(f'{prefix}/spm{vocab_size}.model exists. skipping spm_train.')\n",
        "else:\n",
        "    spm.SentencePieceTrainer.train(\n",
        "        input=','.join([f'{prefix}/train.clean.{src_lang}',\n",
        "                        f'{prefix}/valid.clean.{src_lang}',\n",
        "                        f'{prefix}/train.clean.{tgt_lang}',\n",
        "                        f'{prefix}/valid.clean.{tgt_lang}']),\n",
        "        model_prefix=prefix/f'spm{vocab_size}',\n",
        "        vocab_size=vocab_size,\n",
        "        character_coverage=1,\n",
        "        model_type='unigram', # 'bpe' works as well\n",
        "        input_sentence_size=1e6,\n",
        "        shuffle_input_sentence=True,\n",
        "        normalization_rule_name='nmt_nfkc_cf',\n",
        "    )"
      ]
    },
    {
      "cell_type": "code",
      "execution_count": 15,
      "metadata": {
        "id": "lQPRNldqse_V"
      },
      "outputs": [
        {
          "name": "stdout",
          "output_type": "stream",
          "text": [
            "d:\\Wei-shun Bao\\Learning\\Codes\\ML2022-Spring\\HW05\\DATA\\rawdata\\ted2020\\train.en exists. skipping spm_encode.\n",
            "d:\\Wei-shun Bao\\Learning\\Codes\\ML2022-Spring\\HW05\\DATA\\rawdata\\ted2020\\train.zh exists. skipping spm_encode.\n",
            "d:\\Wei-shun Bao\\Learning\\Codes\\ML2022-Spring\\HW05\\DATA\\rawdata\\ted2020\\valid.en exists. skipping spm_encode.\n",
            "d:\\Wei-shun Bao\\Learning\\Codes\\ML2022-Spring\\HW05\\DATA\\rawdata\\ted2020\\valid.zh exists. skipping spm_encode.\n",
            "d:\\Wei-shun Bao\\Learning\\Codes\\ML2022-Spring\\HW05\\DATA\\rawdata\\ted2020\\test.en exists. skipping spm_encode.\n",
            "d:\\Wei-shun Bao\\Learning\\Codes\\ML2022-Spring\\HW05\\DATA\\rawdata\\ted2020\\test.zh exists. skipping spm_encode.\n"
          ]
        }
      ],
      "source": [
        "spm_model = spm.SentencePieceProcessor(model_file=str(prefix/f'spm{vocab_size}.model'))\n",
        "in_tag = {\n",
        "    'train': 'train.clean',\n",
        "    'valid': 'valid.clean',\n",
        "    'test': 'test.raw.clean',\n",
        "}\n",
        "for split in ['train', 'valid', 'test']:\n",
        "    for lang in [src_lang, tgt_lang]:\n",
        "        out_path = prefix/f'{split}.{lang}'\n",
        "        if out_path.exists():\n",
        "            print(f\"{out_path} exists. skipping spm_encode.\")\n",
        "        else:\n",
        "            with open(prefix/f'{split}.{lang}', 'w') as out_f:\n",
        "                with open(prefix/f'{in_tag[split]}.{lang}', 'r') as in_f:\n",
        "                    for line in in_f:\n",
        "                        line = line.strip()\n",
        "                        tok = spm_model.encode(line, out_type=str)\n",
        "                        print(' '.join(tok), file=out_f)"
      ]
    },
    {
      "cell_type": "code",
      "execution_count": 16,
      "metadata": {
        "id": "4j6lXHjAsjXa"
      },
      "outputs": [
        {
          "name": "stdout",
          "output_type": "stream",
          "text": [
            "▁thank ▁you ▁so ▁much ▁, ▁chris ▁.\n",
            "▁and ▁it ' s ▁ t ru ly ▁a ▁great ▁ho n or ▁to ▁have ▁the ▁ op port un ity ▁to ▁come ▁to ▁this ▁st age ▁ t wi ce ▁; ▁i ' m ▁ex t re me ly ▁gr ate ful ▁.\n",
            "▁i ▁have ▁been ▁ bl ow n ▁away ▁by ▁this ▁con fer ence ▁, ▁and ▁i ▁want ▁to ▁thank ▁all ▁of ▁you ▁for ▁the ▁many ▁ ni ce ▁ com ment s ▁about ▁what ▁i ▁had ▁to ▁say ▁the ▁other ▁night ▁.\n",
            "▁and ▁i ▁say ▁that ▁since re ly ▁, ▁part ly ▁because ▁i ▁need ▁that ▁.\n",
            "▁put ▁your s el ve s ▁in ▁my ▁po s ition ▁.\n",
            "▁ 非常 謝 謝 你 ▁, ▁ 克 里 斯 ▁。 ▁ 能 有 這個 機會 第二 度 踏 上 這個 演講 台\n",
            "▁ 真 是 一 大 榮 幸 ▁。 ▁我 非常 感 激 ▁。\n",
            "▁這個 研 討 會 給我 留 下 了 極 為 深 刻 的 印 象 ▁, ▁我想 感 謝 大家 對我 之前 演講 的 好 評 ▁。\n",
            "▁我 是由 衷 的 想 這麼 說 ▁, ▁有 部份 原因 是因為 我 真的 有 需要 ▁!\n",
            "▁ 請 你們 設 身 處 地 為 我想 一 想 ▁!\n"
          ]
        }
      ],
      "source": [
        "!head \"{data_dir+'/'+dataset_name+'/train.'+src_lang}\" -n 5\n",
        "!head \"{data_dir+'/'+dataset_name+'/train.'+tgt_lang}\" -n 5"
      ]
    },
    {
      "cell_type": "markdown",
      "metadata": {
        "id": "59si_C0Wsms7"
      },
      "source": [
        "## Binarize the data with fairseq"
      ]
    },
    {
      "cell_type": "code",
      "execution_count": 17,
      "metadata": {
        "id": "w-cHVLSpsknh"
      },
      "outputs": [
        {
          "name": "stdout",
          "output_type": "stream",
          "text": [
            "DATA\\data-bin\\ted2020 exists, will not overwrite!\n"
          ]
        }
      ],
      "source": [
        "binpath = Path('./DATA/data-bin', dataset_name)\n",
        "if binpath.exists():\n",
        "    print(binpath, \"exists, will not overwrite!\")\n",
        "else:\n",
        "    !python -m fairseq_cli.preprocess \\\n",
        "        --source-lang {src_lang}\\\n",
        "        --target-lang {tgt_lang}\\\n",
        "        --trainpref \"{prefix/'train'}\"\\\n",
        "        --validpref \"{prefix/'valid'}\"\\\n",
        "        --testpref \"{prefix/'test'}\"\\\n",
        "        --destdir {binpath}\\\n",
        "        --joined-dictionary\\\n",
        "        --workers 2"
      ]
    },
    {
      "cell_type": "markdown",
      "metadata": {
        "id": "szMuH1SWLPWA"
      },
      "source": [
        "# Configuration for experiments"
      ]
    },
    {
      "cell_type": "code",
      "execution_count": 18,
      "metadata": {
        "id": "5Luz3_tVLUxs"
      },
      "outputs": [],
      "source": [
        "config = Namespace(\n",
        "    datadir = \"./DATA/data-bin/ted2020\",\n",
        "    savedir = \"./checkpoints/rnn\",\n",
        "    source_lang = \"en\",\n",
        "    target_lang = \"zh\",\n",
        "    \n",
        "    # cpu threads when fetching & processing data.\n",
        "    num_workers=2,  \n",
        "    # batch size in terms of tokens. gradient accumulation increases the effective batchsize.\n",
        "    max_tokens=8192,\n",
        "    accum_steps=2,\n",
        "    \n",
        "    # the lr s calculated from Noam lr scheduler. you can tune the maximum lr by this factor.\n",
        "    lr_factor=2.,\n",
        "    lr_warmup=4000,\n",
        "    \n",
        "    # clipping gradient norm helps alleviate gradient exploding\n",
        "    clip_norm=1.0,\n",
        "    \n",
        "    # maximum epochs for training\n",
        "    max_epoch=100,\n",
        "    start_epoch=1,\n",
        "    \n",
        "    # early stop patience if no improvement\n",
        "    early_stop_patience=3,\n",
        "    \n",
        "    # beam size for beam search\n",
        "    beam=5, \n",
        "    # generate sequences of maximum length ax + b, where x is the source length\n",
        "    max_len_a=1.2, \n",
        "    max_len_b=10, \n",
        "    # when decoding, post process sentence by removing sentencepiece symbols and jieba tokenization.\n",
        "    post_process = \"sentencepiece\",\n",
        "    \n",
        "    # checkpoints\n",
        "    keep_last_epochs=5,\n",
        "    resume=None, # if resume from checkpoint name (under config.savedir)\n",
        "    \n",
        "    # logging\n",
        "    use_wandb=False,\n",
        ")"
      ]
    },
    {
      "cell_type": "markdown",
      "metadata": {
        "id": "cjrJFvyQLg86"
      },
      "source": [
        "# Logging\n",
        "- logging package logs ordinary messages\n",
        "- wandb logs the loss, bleu, etc. in the training process"
      ]
    },
    {
      "cell_type": "code",
      "execution_count": 19,
      "metadata": {
        "id": "-ZiMyDWALbDk"
      },
      "outputs": [],
      "source": [
        "logging.basicConfig(\n",
        "    format=\"%(asctime)s | %(levelname)s | %(name)s | %(message)s\",\n",
        "    datefmt=\"%Y-%m-%d %H:%M:%S\",\n",
        "    level=\"INFO\", # \"DEBUG\" \"WARNING\" \"ERROR\"\n",
        "    stream=sys.stdout,\n",
        ")\n",
        "proj = \"hw5.seq2seq\"\n",
        "logger = logging.getLogger(proj)\n",
        "if config.use_wandb:\n",
        "    import wandb\n",
        "    wandb.init(project=proj, name=Path(config.savedir).stem, config=config)"
      ]
    },
    {
      "cell_type": "markdown",
      "metadata": {
        "id": "BNoSkK45Lmqc"
      },
      "source": [
        "# CUDA Environments"
      ]
    },
    {
      "cell_type": "code",
      "execution_count": 20,
      "metadata": {
        "id": "oqrsbmcoLqMl"
      },
      "outputs": [
        {
          "name": "stderr",
          "output_type": "stream",
          "text": [
            "2023-04-03 15:39:26 | INFO | fairseq.utils | ***********************CUDA enviroments for all 1 workers***********************\n",
            "2023-04-03 15:39:26 | INFO | fairseq.utils | rank   0: capabilities =  8.6  ; total memory = 16.000 GB ; name = NVIDIA GeForce RTX 3080 Laptop GPU      \n",
            "2023-04-03 15:39:26 | INFO | fairseq.utils | ***********************CUDA enviroments for all 1 workers***********************\n"
          ]
        }
      ],
      "source": [
        "cuda_env = utils.CudaEnvironment()\n",
        "utils.CudaEnvironment.pretty_print_cuda_env_list([cuda_env])\n",
        "device = torch.device('cuda:0' if torch.cuda.is_available() else 'cpu')"
      ]
    },
    {
      "cell_type": "markdown",
      "metadata": {
        "id": "TbJuBIHLLt2D"
      },
      "source": [
        "# Dataloading"
      ]
    },
    {
      "cell_type": "markdown",
      "metadata": {
        "id": "oOpG4EBRLwe_"
      },
      "source": [
        "## We borrow the TranslationTask from fairseq\n",
        "* used to load the binarized data created above\n",
        "* well-implemented data iterator (dataloader)\n",
        "* built-in task.source_dictionary and task.target_dictionary are also handy\n",
        "* well-implemented beach search decoder"
      ]
    },
    {
      "cell_type": "code",
      "execution_count": 21,
      "metadata": {
        "id": "3gSEy1uFLvVs"
      },
      "outputs": [
        {
          "name": "stderr",
          "output_type": "stream",
          "text": [
            "2023-04-03 15:39:28 | INFO | fairseq.tasks.translation | [en] dictionary: 8000 types\n",
            "2023-04-03 15:39:28 | INFO | fairseq.tasks.translation | [zh] dictionary: 8000 types\n"
          ]
        }
      ],
      "source": [
        "from fairseq.tasks.translation import TranslationConfig, TranslationTask\n",
        "\n",
        "## setup task\n",
        "task_cfg = TranslationConfig(\n",
        "    data=config.datadir,\n",
        "    source_lang=config.source_lang,\n",
        "    target_lang=config.target_lang,\n",
        "    train_subset=\"train\",\n",
        "    required_seq_len_multiple=8,\n",
        "    dataset_impl=\"mmap\",\n",
        "    upsample_primary=1,\n",
        ")\n",
        "task = TranslationTask.setup_task(task_cfg)"
      ]
    },
    {
      "cell_type": "code",
      "execution_count": 22,
      "metadata": {
        "id": "mR7Bhov7L4IU"
      },
      "outputs": [
        {
          "name": "stderr",
          "output_type": "stream",
          "text": [
            "2023-04-03 15:39:28 | INFO | hw5.seq2seq | loading data for epoch 1\n",
            "2023-04-03 15:39:28 | INFO | fairseq.data.data_utils | loaded 390,041 examples from: ./DATA/data-bin/ted2020\\train.en-zh.en\n",
            "2023-04-03 15:39:28 | INFO | fairseq.data.data_utils | loaded 390,041 examples from: ./DATA/data-bin/ted2020\\train.en-zh.zh\n",
            "2023-04-03 15:39:28 | INFO | fairseq.tasks.translation | ./DATA/data-bin/ted2020 train en-zh 390041 examples\n",
            "2023-04-03 15:39:28 | INFO | fairseq.data.data_utils | loaded 3,939 examples from: ./DATA/data-bin/ted2020\\valid.en-zh.en\n",
            "2023-04-03 15:39:28 | INFO | fairseq.data.data_utils | loaded 3,939 examples from: ./DATA/data-bin/ted2020\\valid.en-zh.zh\n",
            "2023-04-03 15:39:28 | INFO | fairseq.tasks.translation | ./DATA/data-bin/ted2020 valid en-zh 3939 examples\n"
          ]
        }
      ],
      "source": [
        "logger.info(\"loading data for epoch 1\")\n",
        "task.load_dataset(split=\"train\", epoch=1, combine=True) # combine if you have back-translation data.\n",
        "task.load_dataset(split=\"valid\", epoch=1)"
      ]
    },
    {
      "cell_type": "code",
      "execution_count": 23,
      "metadata": {
        "id": "P0BCEm_9L6ig"
      },
      "outputs": [
        {
          "name": "stdout",
          "output_type": "stream",
          "text": [
            "{'id': 1,\n",
            " 'source': tensor([  18,   14,    6, 2234,   60,   19,   80,    5,  256,   16,  405, 1407,\n",
            "        1706,    7,    2]),\n",
            " 'target': tensor([ 140,  690,   28,  270,   45,  151, 1142,  660,  606,  369, 3114, 2434,\n",
            "        1434,  192,    2])}\n",
            "\"Source: that's exactly what i do optical mind control .\"\n",
            "'Target: 這實在就是我所做的--光學操控思想'\n"
          ]
        }
      ],
      "source": [
        "sample = task.dataset(\"valid\")[1]\n",
        "pprint.pprint(sample)\n",
        "pprint.pprint(\n",
        "    \"Source: \" + \\\n",
        "    task.source_dictionary.string(\n",
        "        sample['source'],\n",
        "        config.post_process,\n",
        "    )\n",
        ")\n",
        "pprint.pprint(\n",
        "    \"Target: \" + \\\n",
        "    task.target_dictionary.string(\n",
        "        sample['target'],\n",
        "        config.post_process,\n",
        "    )\n",
        ")"
      ]
    },
    {
      "cell_type": "markdown",
      "metadata": {
        "id": "UcfCVa2FMBSE"
      },
      "source": [
        "# Dataset iterator"
      ]
    },
    {
      "cell_type": "markdown",
      "metadata": {
        "id": "yBvc-B_6MKZM"
      },
      "source": [
        "* Controls every batch to contain no more than N tokens, which optimizes GPU memory efficiency\n",
        "* Shuffles the training set for every epoch\n",
        "* Ignore sentences exceeding maximum length\n",
        "* Pad all sentences in a batch to the same length, which enables parallel computing by GPU\n",
        "* Add eos and shift one token\n",
        "    - teacher forcing: to train the model to predict the next token based on prefix, we feed the right shifted target sequence as the decoder input.\n",
        "    - generally, prepending bos to the target would do the job (as shown below)\n",
        "![seq2seq](https://i.imgur.com/0zeDyuI.png)\n",
        "    - in fairseq however, this is done by moving the eos token to the begining. Empirically, this has the same effect. For instance:\n",
        "    ```\n",
        "    # output target (target) and Decoder input (prev_output_tokens): \n",
        "                   eos = 2\n",
        "                target = 419,  711,  238,  888,  792,   60,  968,    8,    2\n",
        "    prev_output_tokens = 2,  419,  711,  238,  888,  792,   60,  968,    8\n",
        "    ```\n",
        "\n"
      ]
    },
    {
      "cell_type": "code",
      "execution_count": 24,
      "metadata": {
        "id": "OWFJFmCnMDXW"
      },
      "outputs": [
        {
          "name": "stderr",
          "output_type": "stream",
          "text": [
            "2023-04-03 15:39:31 | WARNING | fairseq.tasks.fairseq_task | 2,532 samples have invalid sizes and will be skipped, max_positions=(20, 20), first few sample ids=[29, 135, 2444, 3058, 682, 731, 235, 1558, 3383, 559]\n"
          ]
        },
        {
          "data": {
            "text/plain": [
              "{'id': tensor([723]),\n",
              " 'nsentences': 1,\n",
              " 'ntokens': 18,\n",
              " 'net_input': {'src_tokens': tensor([[   1,    1,    1,    1,    1,   18,   26,   82,    8,  480,   15,  651,\n",
              "           1361,   38,    6,  176, 2696,   39,    5,  822,   92,  260,    7,    2]]),\n",
              "  'src_lengths': tensor([19]),\n",
              "  'prev_output_tokens': tensor([[   2,  140,  296,  318, 1560,   51,  568,  316,  225, 1952,  254,   78,\n",
              "            151, 2691,    9,  215, 1680,   10,    1,    1,    1,    1,    1,    1]])},\n",
              " 'target': tensor([[ 140,  296,  318, 1560,   51,  568,  316,  225, 1952,  254,   78,  151,\n",
              "          2691,    9,  215, 1680,   10,    2,    1,    1,    1,    1,    1,    1]])}"
            ]
          },
          "execution_count": 24,
          "metadata": {},
          "output_type": "execute_result"
        }
      ],
      "source": [
        "def load_data_iterator(task, split, epoch=1, max_tokens=4000, num_workers=1, cached=True):\n",
        "    batch_iterator = task.get_batch_iterator(\n",
        "        dataset=task.dataset(split),\n",
        "        max_tokens=max_tokens,\n",
        "        max_sentences=None,\n",
        "        max_positions=utils.resolve_max_positions(\n",
        "            task.max_positions(),\n",
        "            max_tokens,\n",
        "        ),\n",
        "        ignore_invalid_inputs=True,\n",
        "        seed=seed,\n",
        "        num_workers=num_workers,\n",
        "        epoch=epoch,\n",
        "        disable_iterator_cache=not cached,\n",
        "        # Set this to False to speed up. However, if set to False, changing max_tokens beyond \n",
        "        # first call of this method has no effect. \n",
        "    )\n",
        "    return batch_iterator\n",
        "\n",
        "demo_epoch_obj = load_data_iterator(task, \"valid\", epoch=1, max_tokens=20, num_workers=1, cached=False)\n",
        "demo_iter = demo_epoch_obj.next_epoch_itr(shuffle=True)\n",
        "sample = next(demo_iter)\n",
        "sample"
      ]
    },
    {
      "cell_type": "markdown",
      "metadata": {
        "id": "p86K-0g7Me4M"
      },
      "source": [
        "* each batch is a python dict, with string key and Tensor value. Contents are described below:\n",
        "```python\n",
        "batch = {\n",
        "    \"id\": id, # id for each example \n",
        "    \"nsentences\": len(samples), # batch size (sentences)\n",
        "    \"ntokens\": ntokens, # batch size (tokens)\n",
        "    \"net_input\": {\n",
        "        \"src_tokens\": src_tokens, # sequence in source language\n",
        "        \"src_lengths\": src_lengths, # sequence length of each example before padding\n",
        "        \"prev_output_tokens\": prev_output_tokens, # right shifted target, as mentioned above.\n",
        "    },\n",
        "    \"target\": target, # target sequence\n",
        "}\n",
        "```"
      ]
    },
    {
      "cell_type": "markdown",
      "metadata": {
        "id": "9EyDBE5ZMkFZ"
      },
      "source": [
        "# Model Architecture\n",
        "* We again inherit fairseq's encoder, decoder and model, so that in the testing phase we can directly leverage fairseq's beam search decoder."
      ]
    },
    {
      "cell_type": "code",
      "execution_count": 25,
      "metadata": {
        "id": "Hzh74qLIMfW_"
      },
      "outputs": [],
      "source": [
        "from fairseq.models import (\n",
        "    FairseqEncoder, \n",
        "    FairseqIncrementalDecoder,\n",
        "    FairseqEncoderDecoderModel\n",
        ")"
      ]
    },
    {
      "cell_type": "markdown",
      "metadata": {
        "id": "OI46v1z7MotH"
      },
      "source": [
        "# Encoder"
      ]
    },
    {
      "cell_type": "markdown",
      "metadata": {
        "id": "Wn0wSeLLMrbc"
      },
      "source": [
        "- The Encoder is a RNN or Transformer Encoder. The following description is for RNN. For every input token, Encoder will generate a output vector and a hidden states vector, and the hidden states vector is passed on to the next step. In other words, the Encoder sequentially reads in the input sequence, and outputs a single vector at each timestep, then finally outputs the final hidden states, or content vector, at the last timestep.\n",
        "- Parameters:\n",
        "  - *args*\n",
        "      - encoder_embed_dim: the dimension of embeddings, this compresses the one-hot vector into fixed dimensions, which achieves dimension reduction\n",
        "      - encoder_ffn_embed_dim is the dimension of hidden states and output vectors\n",
        "      - encoder_layers is the number of layers for Encoder RNN\n",
        "      - dropout determines the probability of a neuron's activation being set to 0, in order to prevent overfitting. Generally this is applied in training, and removed in testing.\n",
        "  - *dictionary*: the dictionary provided by fairseq. it's used to obtain the padding index, and in turn the encoder padding mask. \n",
        "  - *embed_tokens*: an instance of token embeddings (nn.Embedding)\n",
        "\n",
        "- Inputs: \n",
        "    - *src_tokens*: integer sequence representing english e.g. 1, 28, 29, 205, 2 \n",
        "- Outputs: \n",
        "    - *outputs*: the output of RNN at each timestep, can be furthur processed by Attention\n",
        "    - *final_hiddens*: the hidden states of each timestep, will be passed to decoder for decoding\n",
        "    - *encoder_padding_mask*: this tells the decoder which position to ignore\n"
      ]
    },
    {
      "cell_type": "code",
      "execution_count": 26,
      "metadata": {
        "id": "WcX3W4iGMq-S"
      },
      "outputs": [],
      "source": [
        "class RNNEncoder(FairseqEncoder):\n",
        "    def __init__(self, args, dictionary, embed_tokens):\n",
        "        super().__init__(dictionary)\n",
        "        self.embed_tokens = embed_tokens\n",
        "        \n",
        "        self.embed_dim = args.encoder_embed_dim\n",
        "        self.hidden_dim = args.encoder_ffn_embed_dim\n",
        "        self.num_layers = args.encoder_layers\n",
        "        \n",
        "        self.dropout_in_module = nn.Dropout(args.dropout)\n",
        "        self.rnn = nn.GRU(\n",
        "            self.embed_dim, \n",
        "            self.hidden_dim, \n",
        "            self.num_layers, \n",
        "            dropout=args.dropout, \n",
        "            batch_first=False, \n",
        "            bidirectional=True\n",
        "        )\n",
        "        self.dropout_out_module = nn.Dropout(args.dropout)\n",
        "        \n",
        "        self.padding_idx = dictionary.pad()\n",
        "        \n",
        "    def combine_bidir(self, outs, bsz: int):\n",
        "        out = outs.view(self.num_layers, 2, bsz, -1).transpose(1, 2).contiguous()\n",
        "        return out.view(self.num_layers, bsz, -1)\n",
        "\n",
        "    def forward(self, src_tokens, **unused):\n",
        "        bsz, seqlen = src_tokens.size()\n",
        "        \n",
        "        # get embeddings\n",
        "        x = self.embed_tokens(src_tokens)\n",
        "        x = self.dropout_in_module(x)\n",
        "\n",
        "        # B x T x C -> T x B x C\n",
        "        x = x.transpose(0, 1)\n",
        "        \n",
        "        # pass thru bidirectional RNN\n",
        "        h0 = x.new_zeros(2 * self.num_layers, bsz, self.hidden_dim)\n",
        "        x, final_hiddens = self.rnn(x, h0)\n",
        "        outputs = self.dropout_out_module(x)\n",
        "        # outputs = [sequence len, batch size, hid dim * directions]\n",
        "        # hidden =  [num_layers * directions, batch size  , hid dim]\n",
        "        \n",
        "        # Since Encoder is bidirectional, we need to concatenate the hidden states of two directions\n",
        "        final_hiddens = self.combine_bidir(final_hiddens, bsz)\n",
        "        # hidden =  [num_layers x batch x num_directions*hidden]\n",
        "        \n",
        "        encoder_padding_mask = src_tokens.eq(self.padding_idx).t()\n",
        "        return tuple(\n",
        "            (\n",
        "                outputs,  # seq_len x batch x hidden\n",
        "                final_hiddens,  # num_layers x batch x num_directions*hidden\n",
        "                encoder_padding_mask,  # seq_len x batch\n",
        "            )\n",
        "        )\n",
        "    \n",
        "    def reorder_encoder_out(self, encoder_out, new_order):\n",
        "        # This is used by fairseq's beam search. How and why is not particularly important here.\n",
        "        return tuple(\n",
        "            (\n",
        "                encoder_out[0].index_select(1, new_order),\n",
        "                encoder_out[1].index_select(1, new_order),\n",
        "                encoder_out[2].index_select(1, new_order),\n",
        "            )\n",
        "        )"
      ]
    },
    {
      "cell_type": "markdown",
      "metadata": {
        "id": "6ZlE_1JnMv56"
      },
      "source": [
        "## Attention"
      ]
    },
    {
      "cell_type": "markdown",
      "metadata": {
        "id": "ZSFSKt_ZMzgh"
      },
      "source": [
        "- When the input sequence is long, \"content vector\" alone cannot accurately represent the whole sequence, attention mechanism can provide the Decoder more information.\n",
        "- According to the **Decoder embeddings** of the current timestep, match the **Encoder outputs** with decoder embeddings to determine correlation, and then sum the Encoder outputs weighted by the correlation as the input to **Decoder** RNN.\n",
        "- Common attention implementations use neural network / dot product as the correlation between **query** (decoder embeddings) and **key** (Encoder outputs), followed by **softmax**  to obtain a distribution, and finally **values** (Encoder outputs) is **weighted sum**-ed by said distribution.\n",
        "\n",
        "- Parameters:\n",
        "  - *input_embed_dim*: dimensionality of key, should be that of the vector in decoder to attend others\n",
        "  - *source_embed_dim*: dimensionality of query, should be that of the vector to be attended to (encoder outputs)\n",
        "  - *output_embed_dim*: dimensionality of value, should be that of the vector after attention, expected by the next layer\n",
        "\n",
        "- Inputs: \n",
        "    - *inputs*: is the key, the vector to attend to others\n",
        "    - *encoder_outputs*:  is the query/value, the vector to be attended to\n",
        "    - *encoder_padding_mask*: this tells the decoder which position to ignore\n",
        "- Outputs: \n",
        "    - *output*: the context vector after attention\n",
        "    - *attention score*: the attention distribution\n"
      ]
    },
    {
      "cell_type": "code",
      "execution_count": 27,
      "metadata": {
        "id": "1Atf_YuCMyyF"
      },
      "outputs": [],
      "source": [
        "class AttentionLayer(nn.Module):\n",
        "    def __init__(self, input_embed_dim, source_embed_dim, output_embed_dim, bias=False):\n",
        "        super().__init__()\n",
        "\n",
        "        self.input_proj = nn.Linear(input_embed_dim, source_embed_dim, bias=bias)\n",
        "        self.output_proj = nn.Linear(\n",
        "            input_embed_dim + source_embed_dim, output_embed_dim, bias=bias\n",
        "        )\n",
        "\n",
        "    def forward(self, inputs, encoder_outputs, encoder_padding_mask):\n",
        "        # inputs: T, B, dim\n",
        "        # encoder_outputs: S x B x dim\n",
        "        # padding mask:  S x B\n",
        "        \n",
        "        # convert all to batch first\n",
        "        inputs = inputs.transpose(1,0) # B, T, dim\n",
        "        encoder_outputs = encoder_outputs.transpose(1,0) # B, S, dim\n",
        "        encoder_padding_mask = encoder_padding_mask.transpose(1,0) # B, S\n",
        "        \n",
        "        # project to the dimensionality of encoder_outputs\n",
        "        x = self.input_proj(inputs)\n",
        "\n",
        "        # compute attention\n",
        "        # (B, T, dim) x (B, dim, S) = (B, T, S)\n",
        "        attn_scores = torch.bmm(x, encoder_outputs.transpose(1,2))\n",
        "\n",
        "        # cancel the attention at positions corresponding to padding\n",
        "        if encoder_padding_mask is not None:\n",
        "            # leveraging broadcast  B, S -> (B, 1, S)\n",
        "            encoder_padding_mask = encoder_padding_mask.unsqueeze(1)\n",
        "            attn_scores = (\n",
        "                attn_scores.float()\n",
        "                .masked_fill_(encoder_padding_mask, float(\"-inf\"))\n",
        "                .type_as(attn_scores)\n",
        "            )  # FP16 support: cast to float and back\n",
        "\n",
        "        # softmax on the dimension corresponding to source sequence\n",
        "        attn_scores = F.softmax(attn_scores, dim=-1)\n",
        "\n",
        "        # shape (B, T, S) x (B, S, dim) = (B, T, dim) weighted sum\n",
        "        x = torch.bmm(attn_scores, encoder_outputs)\n",
        "\n",
        "        # (B, T, dim)\n",
        "        x = torch.cat((x, inputs), dim=-1)\n",
        "        x = torch.tanh(self.output_proj(x)) # concat + linear + tanh\n",
        "        \n",
        "        # restore shape (B, T, dim) -> (T, B, dim)\n",
        "        return x.transpose(1,0), attn_scores"
      ]
    },
    {
      "cell_type": "markdown",
      "metadata": {
        "id": "doSCOA2gM7fK"
      },
      "source": [
        "# Decoder"
      ]
    },
    {
      "cell_type": "markdown",
      "metadata": {
        "id": "2M8Vod2gNABR"
      },
      "source": [
        "* The hidden states of **Decoder** will be initialized by the final hidden states of **Encoder** (the content vector)\n",
        "* At the same time, **Decoder** will change its hidden states based on the input of the current timestep (the outputs of previous timesteps), and generates an output\n",
        "* Attention improves the performance\n",
        "* The seq2seq steps are implemented in decoder, so that later the Seq2Seq class can accept RNN and Transformer, without furthur modification.\n",
        "- Parameters:\n",
        "  - *args*\n",
        "      - decoder_embed_dim: is the dimensionality of the decoder embeddings, similar to encoder_embed_dim，\n",
        "      - decoder_ffn_embed_dim: is the dimensionality of the decoder RNN hidden states, similar to encoder_ffn_embed_dim\n",
        "      - decoder_layers: number of layers of RNN decoder\n",
        "      - share_decoder_input_output_embed: usually, the projection matrix of the decoder will share weights with the decoder input embeddings\n",
        "  - *dictionary*: the dictionary provided by fairseq\n",
        "  - *embed_tokens*: an instance of token embeddings (nn.Embedding)\n",
        "- Inputs: \n",
        "    - *prev_output_tokens*: integer sequence representing the right-shifted target e.g. 1, 28, 29, 205, 2 \n",
        "    - *encoder_out*: encoder's output.\n",
        "    - *incremental_state*: in order to speed up decoding during test time, we will save the hidden state of each timestep. see forward() for details.\n",
        "- Outputs: \n",
        "    - *outputs*: the logits (before softmax) output of decoder for each timesteps\n",
        "    - *extra*: unsused"
      ]
    },
    {
      "cell_type": "code",
      "execution_count": 28,
      "metadata": {
        "id": "QfvgqHYDM6Lp"
      },
      "outputs": [],
      "source": [
        "class RNNDecoder(FairseqIncrementalDecoder):\n",
        "    def __init__(self, args, dictionary, embed_tokens):\n",
        "        super().__init__(dictionary)\n",
        "        self.embed_tokens = embed_tokens\n",
        "        \n",
        "        assert args.decoder_layers == args.encoder_layers, f\"\"\"seq2seq rnn requires that encoder \n",
        "        and decoder have same layers of rnn. got: {args.encoder_layers, args.decoder_layers}\"\"\"\n",
        "        assert args.decoder_ffn_embed_dim == args.encoder_ffn_embed_dim*2, f\"\"\"seq2seq-rnn requires \n",
        "        that decoder hidden to be 2*encoder hidden dim. got: {args.decoder_ffn_embed_dim, args.encoder_ffn_embed_dim*2}\"\"\"\n",
        "        \n",
        "        self.embed_dim = args.decoder_embed_dim\n",
        "        self.hidden_dim = args.decoder_ffn_embed_dim\n",
        "        self.num_layers = args.decoder_layers\n",
        "        \n",
        "        \n",
        "        self.dropout_in_module = nn.Dropout(args.dropout)\n",
        "        self.rnn = nn.GRU(\n",
        "            self.embed_dim, \n",
        "            self.hidden_dim, \n",
        "            self.num_layers, \n",
        "            dropout=args.dropout, \n",
        "            batch_first=False, \n",
        "            bidirectional=False\n",
        "        )\n",
        "        self.attention = AttentionLayer(\n",
        "            self.embed_dim, self.hidden_dim, self.embed_dim, bias=False\n",
        "        ) \n",
        "        # self.attention = None\n",
        "        self.dropout_out_module = nn.Dropout(args.dropout)\n",
        "        \n",
        "        if self.hidden_dim != self.embed_dim:\n",
        "            self.project_out_dim = nn.Linear(self.hidden_dim, self.embed_dim)\n",
        "        else:\n",
        "            self.project_out_dim = None\n",
        "        \n",
        "        if args.share_decoder_input_output_embed:\n",
        "            self.output_projection = nn.Linear(\n",
        "                self.embed_tokens.weight.shape[1],\n",
        "                self.embed_tokens.weight.shape[0],\n",
        "                bias=False,\n",
        "            )\n",
        "            self.output_projection.weight = self.embed_tokens.weight\n",
        "        else:\n",
        "            self.output_projection = nn.Linear(\n",
        "                self.output_embed_dim, len(dictionary), bias=False\n",
        "            )\n",
        "            nn.init.normal_(\n",
        "                self.output_projection.weight, mean=0, std=self.output_embed_dim ** -0.5\n",
        "            )\n",
        "        \n",
        "    def forward(self, prev_output_tokens, encoder_out, incremental_state=None, **unused):\n",
        "        # extract the outputs from encoder\n",
        "        encoder_outputs, encoder_hiddens, encoder_padding_mask = encoder_out\n",
        "        # outputs:          seq_len x batch x num_directions*hidden\n",
        "        # encoder_hiddens:  num_layers x batch x num_directions*encoder_hidden\n",
        "        # padding_mask:     seq_len x batch\n",
        "        \n",
        "        if incremental_state is not None and len(incremental_state) > 0:\n",
        "            # if the information from last timestep is retained, we can continue from there instead of starting from bos\n",
        "            prev_output_tokens = prev_output_tokens[:, -1:]\n",
        "            cache_state = self.get_incremental_state(incremental_state, \"cached_state\")\n",
        "            prev_hiddens = cache_state[\"prev_hiddens\"]\n",
        "        else:\n",
        "            # incremental state does not exist, either this is training time, or the first timestep of test time\n",
        "            # prepare for seq2seq: pass the encoder_hidden to the decoder hidden states\n",
        "            prev_hiddens = encoder_hiddens\n",
        "        \n",
        "        bsz, seqlen = prev_output_tokens.size()\n",
        "        \n",
        "        # embed tokens\n",
        "        x = self.embed_tokens(prev_output_tokens)\n",
        "        x = self.dropout_in_module(x)\n",
        "\n",
        "        # B x T x C -> T x B x C\n",
        "        x = x.transpose(0, 1)\n",
        "                \n",
        "        # decoder-to-encoder attention\n",
        "        if self.attention is not None:\n",
        "            x, attn = self.attention(x, encoder_outputs, encoder_padding_mask)\n",
        "                        \n",
        "        # pass thru unidirectional RNN\n",
        "        x, final_hiddens = self.rnn(x, prev_hiddens)\n",
        "        # outputs = [sequence len, batch size, hid dim]\n",
        "        # hidden =  [num_layers * directions, batch size  , hid dim]\n",
        "        x = self.dropout_out_module(x)\n",
        "                \n",
        "        # project to embedding size (if hidden differs from embed size, and share_embedding is True, \n",
        "        # we need to do an extra projection)\n",
        "        if self.project_out_dim != None:\n",
        "            x = self.project_out_dim(x)\n",
        "        \n",
        "        # project to vocab size\n",
        "        x = self.output_projection(x)\n",
        "        \n",
        "        # T x B x C -> B x T x C\n",
        "        x = x.transpose(1, 0)\n",
        "        \n",
        "        # if incremental, record the hidden states of current timestep, which will be restored in the next timestep\n",
        "        cache_state = {\n",
        "            \"prev_hiddens\": final_hiddens,\n",
        "        }\n",
        "        self.set_incremental_state(incremental_state, \"cached_state\", cache_state)\n",
        "        \n",
        "        return x, None\n",
        "    \n",
        "    def reorder_incremental_state(\n",
        "        self,\n",
        "        incremental_state,\n",
        "        new_order,\n",
        "    ):\n",
        "        # This is used by fairseq's beam search. How and why is not particularly important here.\n",
        "        cache_state = self.get_incremental_state(incremental_state, \"cached_state\")\n",
        "        prev_hiddens = cache_state[\"prev_hiddens\"]\n",
        "        prev_hiddens = [p.index_select(0, new_order) for p in prev_hiddens]\n",
        "        cache_state = {\n",
        "            \"prev_hiddens\": torch.stack(prev_hiddens),\n",
        "        }\n",
        "        self.set_incremental_state(incremental_state, \"cached_state\", cache_state)\n",
        "        return"
      ]
    },
    {
      "cell_type": "markdown",
      "metadata": {
        "id": "UDAPmxjRNEEL"
      },
      "source": [
        "## Seq2Seq\n",
        "- Composed of **Encoder** and **Decoder**\n",
        "- Recieves inputs and pass to **Encoder** \n",
        "- Pass the outputs from **Encoder** to **Decoder**\n",
        "- **Decoder** will decode according to outputs of previous timesteps as well as **Encoder** outputs  \n",
        "- Once done decoding, return the **Decoder** outputs"
      ]
    },
    {
      "cell_type": "code",
      "execution_count": 29,
      "metadata": {
        "id": "oRwKdLa0NEU6"
      },
      "outputs": [],
      "source": [
        "class Seq2Seq(FairseqEncoderDecoderModel):\n",
        "    def __init__(self, args, encoder, decoder):\n",
        "        super().__init__(encoder, decoder)\n",
        "        self.args = args\n",
        "    \n",
        "    def forward(\n",
        "        self,\n",
        "        src_tokens,\n",
        "        src_lengths,\n",
        "        prev_output_tokens,\n",
        "        return_all_hiddens: bool = True,\n",
        "    ):\n",
        "        \"\"\"\n",
        "        Run the forward pass for an encoder-decoder model.\n",
        "        \"\"\"\n",
        "        encoder_out = self.encoder(\n",
        "            src_tokens, src_lengths=src_lengths, return_all_hiddens=return_all_hiddens\n",
        "        )\n",
        "        logits, extra = self.decoder(\n",
        "            prev_output_tokens,\n",
        "            encoder_out=encoder_out,\n",
        "            src_lengths=src_lengths,\n",
        "            return_all_hiddens=return_all_hiddens,\n",
        "        )\n",
        "        return logits, extra"
      ]
    },
    {
      "cell_type": "markdown",
      "metadata": {
        "id": "zu3C2JfqNHzk"
      },
      "source": [
        "# Model Initialization"
      ]
    },
    {
      "cell_type": "code",
      "execution_count": 30,
      "metadata": {
        "id": "nyI9FOx-NJ2m"
      },
      "outputs": [],
      "source": [
        "# # HINT: transformer architecture\n",
        "from fairseq.models.transformer import (\n",
        "    TransformerEncoder, \n",
        "    TransformerDecoder,\n",
        ")\n",
        "\n",
        "def build_model(args, task):\n",
        "    \"\"\" build a model instance based on hyperparameters \"\"\"\n",
        "    src_dict, tgt_dict = task.source_dictionary, task.target_dictionary\n",
        "\n",
        "    # token embeddings\n",
        "    encoder_embed_tokens = nn.Embedding(len(src_dict), args.encoder_embed_dim, src_dict.pad())\n",
        "    decoder_embed_tokens = nn.Embedding(len(tgt_dict), args.decoder_embed_dim, tgt_dict.pad())\n",
        "    \n",
        "    # encoder decoder\n",
        "    # HINT: TODO: switch to TransformerEncoder & TransformerDecoder\n",
        "    encoder = RNNEncoder(args, src_dict, encoder_embed_tokens)\n",
        "    decoder = RNNDecoder(args, tgt_dict, decoder_embed_tokens)\n",
        "    # encoder = TransformerEncoder(args, src_dict, encoder_embed_tokens)\n",
        "    # decoder = TransformerDecoder(args, tgt_dict, decoder_embed_tokens)\n",
        "\n",
        "    # sequence to sequence model\n",
        "    model = Seq2Seq(args, encoder, decoder)\n",
        "    \n",
        "    # initialization for seq2seq model is important, requires extra handling\n",
        "    def init_params(module):\n",
        "        from fairseq.modules import MultiheadAttention\n",
        "        if isinstance(module, nn.Linear):\n",
        "            module.weight.data.normal_(mean=0.0, std=0.02)\n",
        "            if module.bias is not None:\n",
        "                module.bias.data.zero_()\n",
        "        if isinstance(module, nn.Embedding):\n",
        "            module.weight.data.normal_(mean=0.0, std=0.02)\n",
        "            if module.padding_idx is not None:\n",
        "                module.weight.data[module.padding_idx].zero_()\n",
        "        if isinstance(module, MultiheadAttention):\n",
        "            module.q_proj.weight.data.normal_(mean=0.0, std=0.02)\n",
        "            module.k_proj.weight.data.normal_(mean=0.0, std=0.02)\n",
        "            module.v_proj.weight.data.normal_(mean=0.0, std=0.02)\n",
        "        if isinstance(module, nn.RNNBase):\n",
        "            for name, param in module.named_parameters():\n",
        "                if \"weight\" in name or \"bias\" in name:\n",
        "                    param.data.uniform_(-0.1, 0.1)\n",
        "            \n",
        "    # weight initialization\n",
        "    model.apply(init_params)\n",
        "    return model"
      ]
    },
    {
      "cell_type": "markdown",
      "metadata": {
        "id": "ce5n4eS7NQNy"
      },
      "source": [
        "## Architecture Related Configuration\n",
        "\n",
        "For strong baseline, please refer to the hyperparameters for *transformer-base* in Table 3 in [Attention is all you need](#vaswani2017)"
      ]
    },
    {
      "cell_type": "code",
      "execution_count": 31,
      "metadata": {
        "id": "Cyn30VoGNT6N"
      },
      "outputs": [],
      "source": [
        "arch_args = Namespace(\n",
        "    encoder_embed_dim=256,\n",
        "    encoder_ffn_embed_dim=512,\n",
        "    encoder_layers=1,\n",
        "    decoder_embed_dim=256,\n",
        "    decoder_ffn_embed_dim=1024,\n",
        "    decoder_layers=1,\n",
        "    share_decoder_input_output_embed=True,\n",
        "    dropout=0.3,\n",
        ")\n",
        "\n",
        "# HINT: these patches on parameters for Transformer\n",
        "def add_transformer_args(args):\n",
        "    args.encoder_attention_heads=4\n",
        "    args.encoder_normalize_before=True\n",
        "    \n",
        "    args.decoder_attention_heads=4\n",
        "    args.decoder_normalize_before=True\n",
        "    \n",
        "    args.activation_fn=\"relu\"\n",
        "    args.max_source_positions=1024\n",
        "    args.max_target_positions=1024\n",
        "    \n",
        "    # patches on default parameters for Transformer (those not set above)\n",
        "    from fairseq.models.transformer import base_architecture\n",
        "    base_architecture(arch_args)\n",
        "\n",
        "# add_transformer_args(arch_args)"
      ]
    },
    {
      "cell_type": "code",
      "execution_count": 32,
      "metadata": {
        "id": "Nbb76QLCNZZZ"
      },
      "outputs": [],
      "source": [
        "if config.use_wandb:\n",
        "    wandb.config.update(vars(arch_args))"
      ]
    },
    {
      "cell_type": "code",
      "execution_count": 33,
      "metadata": {
        "id": "7ZWfxsCDNatH"
      },
      "outputs": [
        {
          "name": "stderr",
          "output_type": "stream",
          "text": [
            "d:\\miniforge3\\envs\\machine-learning\\lib\\site-packages\\torch\\nn\\modules\\rnn.py:62: UserWarning: dropout option adds dropout after all but last recurrent layer, so non-zero dropout expects num_layers greater than 1, but got dropout=0.3 and num_layers=1\n",
            "  warnings.warn(\"dropout option adds dropout after all but last \"\n",
            "2023-04-03 15:39:51 | INFO | hw5.seq2seq | Seq2Seq(\n",
            "  (encoder): RNNEncoder(\n",
            "    (embed_tokens): Embedding(8000, 256, padding_idx=1)\n",
            "    (dropout_in_module): Dropout(p=0.3, inplace=False)\n",
            "    (rnn): GRU(256, 512, dropout=0.3, bidirectional=True)\n",
            "    (dropout_out_module): Dropout(p=0.3, inplace=False)\n",
            "  )\n",
            "  (decoder): RNNDecoder(\n",
            "    (embed_tokens): Embedding(8000, 256, padding_idx=1)\n",
            "    (dropout_in_module): Dropout(p=0.3, inplace=False)\n",
            "    (rnn): GRU(256, 1024, dropout=0.3)\n",
            "    (attention): AttentionLayer(\n",
            "      (input_proj): Linear(in_features=256, out_features=1024, bias=False)\n",
            "      (output_proj): Linear(in_features=1280, out_features=256, bias=False)\n",
            "    )\n",
            "    (dropout_out_module): Dropout(p=0.3, inplace=False)\n",
            "    (project_out_dim): Linear(in_features=1024, out_features=256, bias=True)\n",
            "    (output_projection): Linear(in_features=256, out_features=8000, bias=False)\n",
            "  )\n",
            ")\n"
          ]
        }
      ],
      "source": [
        "model = build_model(arch_args, task)\n",
        "logger.info(model)"
      ]
    },
    {
      "cell_type": "markdown",
      "metadata": {
        "id": "aHll7GRNNdqc"
      },
      "source": [
        "# Optimization"
      ]
    },
    {
      "cell_type": "markdown",
      "metadata": {
        "id": "rUB9f1WCNgMH"
      },
      "source": [
        "## Loss: Label Smoothing Regularization\n",
        "* let the model learn to generate less concentrated distribution, and prevent over-confidence\n",
        "* sometimes the ground truth may not be the only answer. thus, when calculating loss, we reserve some probability for incorrect labels\n",
        "* avoids overfitting\n",
        "\n",
        "code [source](https://fairseq.readthedocs.io/en/latest/_modules/fairseq/criterions/label_smoothed_cross_entropy.html)"
      ]
    },
    {
      "cell_type": "code",
      "execution_count": 34,
      "metadata": {
        "id": "IgspdJn0NdYF"
      },
      "outputs": [],
      "source": [
        "class LabelSmoothedCrossEntropyCriterion(nn.Module):\n",
        "    def __init__(self, smoothing, ignore_index=None, reduce=True):\n",
        "        super().__init__()\n",
        "        self.smoothing = smoothing\n",
        "        self.ignore_index = ignore_index\n",
        "        self.reduce = reduce\n",
        "    \n",
        "    def forward(self, lprobs, target):\n",
        "        if target.dim() == lprobs.dim() - 1:\n",
        "            target = target.unsqueeze(-1)\n",
        "        # nll: Negative log likelihood，the cross-entropy when target is one-hot. following line is same as F.nll_loss\n",
        "        nll_loss = -lprobs.gather(dim=-1, index=target)\n",
        "        #  reserve some probability for other labels. thus when calculating cross-entropy, \n",
        "        # equivalent to summing the log probs of all labels\n",
        "        smooth_loss = -lprobs.sum(dim=-1, keepdim=True)\n",
        "        if self.ignore_index is not None:\n",
        "            pad_mask = target.eq(self.ignore_index)\n",
        "            nll_loss.masked_fill_(pad_mask, 0.0)\n",
        "            smooth_loss.masked_fill_(pad_mask, 0.0)\n",
        "        else:\n",
        "            nll_loss = nll_loss.squeeze(-1)\n",
        "            smooth_loss = smooth_loss.squeeze(-1)\n",
        "        if self.reduce:\n",
        "            nll_loss = nll_loss.sum()\n",
        "            smooth_loss = smooth_loss.sum()\n",
        "        # when calculating cross-entropy, add the loss of other labels\n",
        "        eps_i = self.smoothing / lprobs.size(-1)\n",
        "        loss = (1.0 - self.smoothing) * nll_loss + eps_i * smooth_loss\n",
        "        return loss\n",
        "\n",
        "# generally, 0.1 is good enough\n",
        "criterion = LabelSmoothedCrossEntropyCriterion(\n",
        "    smoothing=0.1,\n",
        "    ignore_index=task.target_dictionary.pad(),\n",
        ")"
      ]
    },
    {
      "cell_type": "markdown",
      "metadata": {
        "id": "aRalDto2NkJJ"
      },
      "source": [
        "## Optimizer: Adam + lr scheduling\n",
        "Inverse square root scheduling is important to the stability when training Transformer. It's later used on RNN as well.\n",
        "Update the learning rate according to the following equation. Linearly increase the first stage, then decay proportionally to the inverse square root of timestep.\n",
        "$$lrate = d_{\\text{model}}^{-0.5}\\cdot\\min({step\\_num}^{-0.5},{step\\_num}\\cdot{warmup\\_steps}^{-1.5})$$"
      ]
    },
    {
      "cell_type": "code",
      "execution_count": 35,
      "metadata": {
        "id": "sS7tQj1ROBYm"
      },
      "outputs": [],
      "source": [
        "def get_rate(d_model, step_num, warmup_step):\n",
        "    # TODO: Change lr from constant to the equation shown above\n",
        "    # lr = 0.001\n",
        "    lr = d_model ** (-0.5) * min(step_num ** (-0.5), step_num * warmup_step ** (-1.5)) \n",
        "    return lr"
      ]
    },
    {
      "cell_type": "code",
      "execution_count": 36,
      "metadata": {
        "id": "J8hoAjHPNkh3"
      },
      "outputs": [],
      "source": [
        "class NoamOpt:\n",
        "    \"Optim wrapper that implements rate.\"\n",
        "    def __init__(self, model_size, factor, warmup, optimizer):\n",
        "        self.optimizer = optimizer\n",
        "        self._step = 0\n",
        "        self.warmup = warmup\n",
        "        self.factor = factor\n",
        "        self.model_size = model_size\n",
        "        self._rate = 0\n",
        "    \n",
        "    @property\n",
        "    def param_groups(self):\n",
        "        return self.optimizer.param_groups\n",
        "        \n",
        "    def multiply_grads(self, c):\n",
        "        \"\"\"Multiplies grads by a constant *c*.\"\"\"                \n",
        "        for group in self.param_groups:\n",
        "            for p in group['params']:\n",
        "                if p.grad is not None:\n",
        "                    p.grad.data.mul_(c)\n",
        "        \n",
        "    def step(self):\n",
        "        \"Update parameters and rate\"\n",
        "        self._step += 1\n",
        "        rate = self.rate()\n",
        "        for p in self.param_groups:\n",
        "            p['lr'] = rate\n",
        "        self._rate = rate\n",
        "        self.optimizer.step()\n",
        "        \n",
        "    def rate(self, step = None):\n",
        "        \"Implement `lrate` above\"\n",
        "        if step is None:\n",
        "            step = self._step\n",
        "        return 0 if not step else self.factor * get_rate(self.model_size, step, self.warmup)"
      ]
    },
    {
      "cell_type": "markdown",
      "metadata": {
        "id": "VFJlkOMONsc6"
      },
      "source": [
        "## Scheduling Visualized"
      ]
    },
    {
      "cell_type": "code",
      "execution_count": 37,
      "metadata": {
        "id": "A135fwPCNrQs"
      },
      "outputs": [
        {
          "data": {
            "image/png": "[encoded data removed]",
            "text/plain": [
              "<Figure size 432x288 with 1 Axes>"
            ]
          },
          "metadata": {
            "needs_background": "light"
          },
          "output_type": "display_data"
        }
      ],
      "source": [
        "optimizer = NoamOpt(\n",
        "    model_size=arch_args.encoder_embed_dim, \n",
        "    factor=config.lr_factor, \n",
        "    warmup=config.lr_warmup, \n",
        "    optimizer=torch.optim.AdamW(model.parameters(), lr=0, betas=(0.9, 0.98), eps=1e-9, weight_decay=0.0001))\n",
        "plt.plot(np.arange(1, 100000), [optimizer.rate(i) for i in range(1, 100000)])\n",
        "plt.legend([f\"{optimizer.model_size}:{optimizer.warmup}\"])\n",
        "None"
      ]
    },
    {
      "cell_type": "markdown",
      "metadata": {
        "id": "TOR0g-cVO5ZO"
      },
      "source": [
        "# Training Procedure"
      ]
    },
    {
      "cell_type": "markdown",
      "metadata": {
        "id": "f-0ZjbK3O8Iv"
      },
      "source": [
        "## Training"
      ]
    },
    {
      "cell_type": "code",
      "execution_count": 38,
      "metadata": {
        "id": "foal3xM1O404"
      },
      "outputs": [],
      "source": [
        "from fairseq.data import iterators\n",
        "from torch.cuda.amp import GradScaler, autocast\n",
        "\n",
        "def train_one_epoch(epoch_itr, model, task, criterion, optimizer, accum_steps=1):\n",
        "    itr = epoch_itr.next_epoch_itr(shuffle=True)\n",
        "    itr = iterators.GroupedIterator(itr, accum_steps) # gradient accumulation: update every accum_steps samples\n",
        "    \n",
        "    stats = {\"loss\": [], \"gnorm\": []}\n",
        "    scaler = GradScaler() # automatic mixed precision (amp) \n",
        "    \n",
        "    model.train()\n",
        "    progress = tqdm.tqdm(itr, desc=f\"train epoch {epoch_itr.epoch}\", leave=False)\n",
        "    for samples in progress:\n",
        "        model.zero_grad()\n",
        "        accum_loss = 0\n",
        "        sample_size = 0\n",
        "        # gradient accumulation: update every accum_steps samples\n",
        "        for i, sample in enumerate(samples):\n",
        "            if i == 1:\n",
        "                # emptying the CUDA cache after the first step can reduce the chance of OOM\n",
        "                torch.cuda.empty_cache()\n",
        "\n",
        "            sample = utils.move_to_cuda(sample, device=device)\n",
        "            target = sample[\"target\"]\n",
        "            sample_size_i = sample[\"ntokens\"]\n",
        "            sample_size += sample_size_i\n",
        "            \n",
        "            # mixed precision training\n",
        "            with autocast():\n",
        "                net_output = model.forward(**sample[\"net_input\"])\n",
        "                lprobs = F.log_softmax(net_output[0], -1)            \n",
        "                loss = criterion(lprobs.view(-1, lprobs.size(-1)), target.view(-1))\n",
        "                \n",
        "                # logging\n",
        "                accum_loss += loss.item()\n",
        "                # back-prop\n",
        "                scaler.scale(loss).backward()                \n",
        "        \n",
        "        scaler.unscale_(optimizer)\n",
        "        optimizer.multiply_grads(1 / (sample_size or 1.0)) # (sample_size or 1.0) handles the case of a zero gradient\n",
        "        gnorm = nn.utils.clip_grad_norm_(model.parameters(), config.clip_norm) # grad norm clipping prevents gradient exploding\n",
        "        \n",
        "        scaler.step(optimizer)\n",
        "        scaler.update()\n",
        "        \n",
        "        # logging\n",
        "        loss_print = accum_loss/sample_size\n",
        "        stats[\"loss\"].append(loss_print)\n",
        "        stats[\"gnorm\"].append(gnorm.item())\n",
        "        progress.set_postfix(loss=loss_print)\n",
        "        if config.use_wandb:\n",
        "            wandb.log({\n",
        "                \"train/loss\": loss_print,\n",
        "                \"train/grad_norm\": gnorm.item(),\n",
        "                \"train/lr\": optimizer.rate(),\n",
        "                \"train/sample_size\": sample_size,\n",
        "            })\n",
        "        \n",
        "    loss_print = np.mean(stats[\"loss\"])\n",
        "    logger.info(f\"training loss: {loss_print:.4f}\")\n",
        "    return stats"
      ]
    },
    {
      "cell_type": "markdown",
      "metadata": {
        "id": "Gt1lX3DRO_yU"
      },
      "source": [
        "## Validation & Inference\n",
        "To prevent overfitting, validation is required every epoch to validate the performance on unseen data.\n",
        "- the procedure is essensially same as training, with the addition of inference step\n",
        "- after validation we can save the model weights\n",
        "\n",
        "Validation loss alone cannot describe the actual performance of the model\n",
        "- Directly produce translation hypotheses based on current model, then calculate BLEU with the reference translation\n",
        "- We can also manually examine the hypotheses' quality\n",
        "- We use fairseq's sequence generator for beam search to generate translation hypotheses"
      ]
    },
    {
      "cell_type": "code",
      "execution_count": 39,
      "metadata": {
        "id": "2og80HYQPAKq"
      },
      "outputs": [],
      "source": [
        "# fairseq's beam search generator\n",
        "# given model and input seqeunce, produce translation hypotheses by beam search\n",
        "sequence_generator = task.build_generator([model], config)\n",
        "\n",
        "def decode(toks, dictionary):\n",
        "    # convert from Tensor to human readable sentence\n",
        "    s = dictionary.string(\n",
        "        toks.int().cpu(),\n",
        "        config.post_process,\n",
        "    )\n",
        "    return s if s else \"<unk>\"\n",
        "\n",
        "def inference_step(sample, model):\n",
        "    gen_out = sequence_generator.generate([model], sample)\n",
        "    srcs = []\n",
        "    hyps = []\n",
        "    refs = []\n",
        "    for i in range(len(gen_out)):\n",
        "        # for each sample, collect the input, hypothesis and reference, later be used to calculate BLEU\n",
        "        srcs.append(decode(\n",
        "            utils.strip_pad(sample[\"net_input\"][\"src_tokens\"][i], task.source_dictionary.pad()), \n",
        "            task.source_dictionary,\n",
        "        ))\n",
        "        hyps.append(decode(\n",
        "            gen_out[i][0][\"tokens\"], # 0 indicates using the top hypothesis in beam\n",
        "            task.target_dictionary,\n",
        "        ))\n",
        "        refs.append(decode(\n",
        "            utils.strip_pad(sample[\"target\"][i], task.target_dictionary.pad()), \n",
        "            task.target_dictionary,\n",
        "        ))\n",
        "    return srcs, hyps, refs"
      ]
    },
    {
      "cell_type": "code",
      "execution_count": 40,
      "metadata": {
        "id": "y1o7LeDkPDsd"
      },
      "outputs": [],
      "source": [
        "import shutil\n",
        "import sacrebleu\n",
        "\n",
        "def validate(model, task, criterion, log_to_wandb=True):\n",
        "    logger.info('begin validation')\n",
        "    itr = load_data_iterator(task, \"valid\", 1, config.max_tokens, config.num_workers).next_epoch_itr(shuffle=False)\n",
        "    \n",
        "    stats = {\"loss\":[], \"bleu\": 0, \"srcs\":[], \"hyps\":[], \"refs\":[]}\n",
        "    srcs = []\n",
        "    hyps = []\n",
        "    refs = []\n",
        "    \n",
        "    model.eval()\n",
        "    progress = tqdm.tqdm(itr, desc=f\"validation\", leave=False)\n",
        "    with torch.no_grad():\n",
        "        for i, sample in enumerate(progress):\n",
        "            # validation loss\n",
        "            sample = utils.move_to_cuda(sample, device=device)\n",
        "            net_output = model.forward(**sample[\"net_input\"])\n",
        "\n",
        "            lprobs = F.log_softmax(net_output[0], -1)\n",
        "            target = sample[\"target\"]\n",
        "            sample_size = sample[\"ntokens\"]\n",
        "            loss = criterion(lprobs.view(-1, lprobs.size(-1)), target.view(-1)) / sample_size\n",
        "            progress.set_postfix(valid_loss=loss.item())\n",
        "            stats[\"loss\"].append(loss)\n",
        "            \n",
        "            # do inference\n",
        "            s, h, r = inference_step(sample, model)\n",
        "            srcs.extend(s)\n",
        "            hyps.extend(h)\n",
        "            refs.extend(r)\n",
        "            \n",
        "    tok = 'zh' if task.cfg.target_lang == 'zh' else '13a'\n",
        "    stats[\"loss\"] = torch.stack(stats[\"loss\"]).mean().item()\n",
        "    stats[\"bleu\"] = sacrebleu.corpus_bleu(hyps, [refs], tokenize=tok) # 計算BLEU score\n",
        "    stats[\"srcs\"] = srcs\n",
        "    stats[\"hyps\"] = hyps\n",
        "    stats[\"refs\"] = refs\n",
        "    \n",
        "    if config.use_wandb and log_to_wandb:\n",
        "        wandb.log({\n",
        "            \"valid/loss\": stats[\"loss\"],\n",
        "            \"valid/bleu\": stats[\"bleu\"].score,\n",
        "        }, commit=False)\n",
        "    \n",
        "    showid = np.random.randint(len(hyps))\n",
        "    logger.info(\"example source: \" + srcs[showid])\n",
        "    logger.info(\"example hypothesis: \" + hyps[showid])\n",
        "    logger.info(\"example reference: \" + refs[showid])\n",
        "    \n",
        "    # show bleu results\n",
        "    logger.info(f\"validation loss:\\t{stats['loss']:.4f}\")\n",
        "    logger.info(stats[\"bleu\"].format())\n",
        "    return stats"
      ]
    },
    {
      "cell_type": "markdown",
      "metadata": {
        "id": "1sRF6nd4PGEE"
      },
      "source": [
        "# Save and Load Model Weights\n"
      ]
    },
    {
      "cell_type": "code",
      "execution_count": 41,
      "metadata": {
        "id": "edBuLlkuPGr9"
      },
      "outputs": [],
      "source": [
        "def validate_and_save(model, task, criterion, optimizer, epoch, save=True):   \n",
        "    stats = validate(model, task, criterion)\n",
        "    bleu = stats['bleu']\n",
        "    loss = stats['loss']\n",
        "    if save:\n",
        "        # save epoch checkpoints\n",
        "        savedir = Path(config.savedir).absolute()\n",
        "        savedir.mkdir(parents=True, exist_ok=True)\n",
        "        \n",
        "        check = {\n",
        "            \"model\": model.state_dict(),\n",
        "            \"stats\": {\"bleu\": bleu.score, \"loss\": loss},\n",
        "            \"optim\": {\"step\": optimizer._step}\n",
        "        }\n",
        "        torch.save(check, savedir/f\"checkpoint{epoch}.pt\")\n",
        "        shutil.copy(savedir/f\"checkpoint{epoch}.pt\", savedir/f\"checkpoint_last.pt\")\n",
        "        logger.info(f\"saved epoch checkpoint: {savedir}/checkpoint{epoch}.pt\")\n",
        "    \n",
        "        # save epoch samples\n",
        "        with open(savedir/f\"samples{epoch}.{config.source_lang}-{config.target_lang}.txt\", \"w\") as f:\n",
        "            for s, h in zip(stats[\"srcs\"], stats[\"hyps\"]):\n",
        "                f.write(f\"{s}\\t{h}\\n\")\n",
        "\n",
        "        # get best valid bleu    \n",
        "        if getattr(validate_and_save, \"best_bleu\", 0) < bleu.score:\n",
        "            validate_and_save.best_bleu = bleu.score\n",
        "            torch.save(check, savedir/f\"checkpoint_best.pt\")\n",
        "            \n",
        "        del_file = savedir / f\"checkpoint{epoch - config.keep_last_epochs}.pt\"\n",
        "        if del_file.exists():\n",
        "            del_file.unlink()\n",
        "    \n",
        "    return stats\n",
        "\n",
        "def try_load_checkpoint(model, optimizer=None, name=None):\n",
        "    name = name if name else \"checkpoint_last.pt\"\n",
        "    checkpath = Path(config.savedir)/name\n",
        "    if checkpath.exists():\n",
        "        check = torch.load(checkpath)\n",
        "        model.load_state_dict(check[\"model\"])\n",
        "        stats = check[\"stats\"]\n",
        "        step = \"unknown\"\n",
        "        if optimizer != None:\n",
        "            optimizer._step = step = check[\"optim\"][\"step\"]\n",
        "        logger.info(f\"loaded checkpoint {checkpath}: step={step} loss={stats['loss']} bleu={stats['bleu']}\")\n",
        "    else:\n",
        "        logger.info(f\"no checkpoints found at {checkpath}!\")"
      ]
    },
    {
      "cell_type": "markdown",
      "metadata": {
        "id": "KyIFpibfPJ5u"
      },
      "source": [
        "# Main\n",
        "## Training loop"
      ]
    },
    {
      "cell_type": "code",
      "execution_count": 42,
      "metadata": {
        "id": "hu7RZbCUPKQr"
      },
      "outputs": [],
      "source": [
        "model = model.to(device=device)\n",
        "criterion = criterion.to(device=device)"
      ]
    },
    {
      "cell_type": "code",
      "execution_count": 43,
      "metadata": {
        "id": "5xxlJxU2PeAo"
      },
      "outputs": [
        {
          "name": "stderr",
          "output_type": "stream",
          "text": [
            "2023-04-03 15:40:12 | INFO | hw5.seq2seq | task: TranslationTask\n",
            "2023-04-03 15:40:12 | INFO | hw5.seq2seq | encoder: RNNEncoder\n",
            "2023-04-03 15:40:12 | INFO | hw5.seq2seq | decoder: RNNDecoder\n",
            "2023-04-03 15:40:12 | INFO | hw5.seq2seq | criterion: LabelSmoothedCrossEntropyCriterion\n",
            "2023-04-03 15:40:12 | INFO | hw5.seq2seq | optimizer: NoamOpt\n",
            "2023-04-03 15:40:12 | INFO | hw5.seq2seq | num. model params: 11,251,968 (num. trained: 11,251,968)\n",
            "2023-04-03 15:40:12 | INFO | hw5.seq2seq | max tokens per batch = 8192, accumulate steps = 2\n"
          ]
        }
      ],
      "source": [
        "logger.info(\"task: {}\".format(task.__class__.__name__))\n",
        "logger.info(\"encoder: {}\".format(model.encoder.__class__.__name__))\n",
        "logger.info(\"decoder: {}\".format(model.decoder.__class__.__name__))\n",
        "logger.info(\"criterion: {}\".format(criterion.__class__.__name__))\n",
        "logger.info(\"optimizer: {}\".format(optimizer.__class__.__name__))\n",
        "logger.info(\n",
        "    \"num. model params: {:,} (num. trained: {:,})\".format(\n",
        "        sum(p.numel() for p in model.parameters()),\n",
        "        sum(p.numel() for p in model.parameters() if p.requires_grad),\n",
        "    )\n",
        ")\n",
        "logger.info(f\"max tokens per batch = {config.max_tokens}, accumulate steps = {config.accum_steps}\")"
      ]
    },
    {
      "cell_type": "code",
      "execution_count": 44,
      "metadata": {
        "id": "MSPRqpQUPfaX"
      },
      "outputs": [
        {
          "name": "stderr",
          "output_type": "stream",
          "text": [
            "2023-04-03 15:40:13 | WARNING | fairseq.tasks.fairseq_task | 1 samples have invalid sizes and will be skipped, max_positions=(1024, 1024), first few sample ids=[326674]\n",
            "2023-04-03 15:40:13 | INFO | hw5.seq2seq | no checkpoints found at checkpoints\\rnn\\checkpoint_last.pt!\n",
            "2023-04-03 15:40:19 | INFO | fairseq.data.iterators | grouped total_num_itrs = 791\n"
          ]
        },
        {
          "data": {
            "application/vnd.jupyter.widget-view+json": {
              "model_id": "bb4e28253aa14dd69ee266f4e69c1fbe",
              "version_major": 2,
              "version_minor": 0
            },
            "text/plain": [
              "train epoch 1:   0%|          | 0/791 [00:00<?, ?it/s]"
            ]
          },
          "metadata": {},
          "output_type": "display_data"
        },
        {
          "name": "stderr",
          "output_type": "stream",
          "text": [
            "2023-04-03 15:41:47 | INFO | hw5.seq2seq | training loss: 7.0693\n",
            "2023-04-03 15:41:47 | INFO | hw5.seq2seq | begin validation\n"
          ]
        },
        {
          "data": {
            "application/vnd.jupyter.widget-view+json": {
              "model_id": "c07c4b84e2544f2cb2cfe7bfa6cee642",
              "version_major": 2,
              "version_minor": 0
            },
            "text/plain": [
              "validation:   0%|          | 0/22 [00:00<?, ?it/s]"
            ]
          },
          "metadata": {},
          "output_type": "display_data"
        },
        {
          "name": "stderr",
          "output_type": "stream",
          "text": [
            "2023-04-03 15:42:09 | INFO | hw5.seq2seq | example source: so low income here , high income there .\n",
            "2023-04-03 15:42:09 | INFO | hw5.seq2seq | example hypothesis: 我 , 一年 , 一年 , 會 。 」\n",
            "2023-04-03 15:42:09 | INFO | hw5.seq2seq | example reference: 所以這裡是收入低的 , 這裡是收入高的\n",
            "2023-04-03 15:42:09 | INFO | hw5.seq2seq | validation loss:\t6.5453\n",
            "2023-04-03 15:42:09 | INFO | hw5.seq2seq | BLEU = 0.04 11.2/0.4/0.0/0.0 (BP = 0.727 ratio = 0.759 hyp_len = 84812 ref_len = 111811)\n",
            "2023-04-03 15:42:09 | INFO | hw5.seq2seq | saved epoch checkpoint: d:\\Wei-shun Bao\\Learning\\Codes\\ML2022-Spring\\HW05\\checkpoints\\rnn/checkpoint1.pt\n",
            "2023-04-03 15:42:09 | INFO | hw5.seq2seq | end of epoch 1\n",
            "2023-04-03 15:42:09 | INFO | fairseq.data.iterators | grouped total_num_itrs = 791\n"
          ]
        },
        {
          "data": {
            "application/vnd.jupyter.widget-view+json": {
              "model_id": "84bb493f7ba04535a8f9580c9f0a841c",
              "version_major": 2,
              "version_minor": 0
            },
            "text/plain": [
              "train epoch 2:   0%|          | 0/791 [00:00<?, ?it/s]"
            ]
          },
          "metadata": {},
          "output_type": "display_data"
        },
        {
          "name": "stderr",
          "output_type": "stream",
          "text": [
            "2023-04-03 15:43:37 | INFO | hw5.seq2seq | training loss: 6.3406\n",
            "2023-04-03 15:43:37 | INFO | hw5.seq2seq | begin validation\n"
          ]
        },
        {
          "data": {
            "application/vnd.jupyter.widget-view+json": {
              "model_id": "7feaa31f37384fd09a7ed2631ad93b28",
              "version_major": 2,
              "version_minor": 0
            },
            "text/plain": [
              "validation:   0%|          | 0/22 [00:00<?, ?it/s]"
            ]
          },
          "metadata": {},
          "output_type": "display_data"
        },
        {
          "name": "stderr",
          "output_type": "stream",
          "text": [
            "2023-04-03 15:43:51 | INFO | hw5.seq2seq | example source: you should have started with z .\n",
            "2023-04-03 15:43:51 | INFO | hw5.seq2seq | example hypothesis: 所以 , 很棒的 。\n",
            "2023-04-03 15:43:51 | INFO | hw5.seq2seq | example reference: 要從z開始讀 。\n",
            "2023-04-03 15:43:51 | INFO | hw5.seq2seq | validation loss:\t6.0007\n",
            "2023-04-03 15:43:51 | INFO | hw5.seq2seq | BLEU = 0.83 24.3/3.2/0.6/0.1 (BP = 0.537 ratio = 0.616 hyp_len = 68927 ref_len = 111811)\n",
            "2023-04-03 15:43:51 | INFO | hw5.seq2seq | saved epoch checkpoint: d:\\Wei-shun Bao\\Learning\\Codes\\ML2022-Spring\\HW05\\checkpoints\\rnn/checkpoint2.pt\n",
            "2023-04-03 15:43:51 | INFO | hw5.seq2seq | end of epoch 2\n",
            "2023-04-03 15:43:51 | INFO | fairseq.data.iterators | grouped total_num_itrs = 791\n"
          ]
        },
        {
          "data": {
            "application/vnd.jupyter.widget-view+json": {
              "model_id": "6d5387a7a74c4291a9d1affb53240a1d",
              "version_major": 2,
              "version_minor": 0
            },
            "text/plain": [
              "train epoch 3:   0%|          | 0/791 [00:00<?, ?it/s]"
            ]
          },
          "metadata": {},
          "output_type": "display_data"
        },
        {
          "name": "stderr",
          "output_type": "stream",
          "text": [
            "2023-04-03 15:45:19 | INFO | hw5.seq2seq | training loss: 5.8162\n",
            "2023-04-03 15:45:19 | INFO | hw5.seq2seq | begin validation\n"
          ]
        },
        {
          "data": {
            "application/vnd.jupyter.widget-view+json": {
              "model_id": "6aaea0ddb3214b97b3162beb04505692",
              "version_major": 2,
              "version_minor": 0
            },
            "text/plain": [
              "validation:   0%|          | 0/22 [00:00<?, ?it/s]"
            ]
          },
          "metadata": {},
          "output_type": "display_data"
        },
        {
          "name": "stderr",
          "output_type": "stream",
          "text": [
            "2023-04-03 15:45:36 | INFO | hw5.seq2seq | example source: grouper ?\n",
            "2023-04-03 15:45:36 | INFO | hw5.seq2seq | example hypothesis: 誰嗎 ?\n",
            "2023-04-03 15:45:36 | INFO | hw5.seq2seq | example reference: 石斑魚 ?\n",
            "2023-04-03 15:45:36 | INFO | hw5.seq2seq | validation loss:\t5.4317\n",
            "2023-04-03 15:45:36 | INFO | hw5.seq2seq | BLEU = 1.93 18.5/3.4/0.9/0.2 (BP = 1.000 ratio = 1.009 hyp_len = 112847 ref_len = 111811)\n",
            "2023-04-03 15:45:36 | INFO | hw5.seq2seq | saved epoch checkpoint: d:\\Wei-shun Bao\\Learning\\Codes\\ML2022-Spring\\HW05\\checkpoints\\rnn/checkpoint3.pt\n",
            "2023-04-03 15:45:36 | INFO | hw5.seq2seq | end of epoch 3\n",
            "2023-04-03 15:45:36 | INFO | fairseq.data.iterators | grouped total_num_itrs = 791\n"
          ]
        },
        {
          "data": {
            "application/vnd.jupyter.widget-view+json": {
              "model_id": "cbd879cc1a564eb787389d50ac7925e1",
              "version_major": 2,
              "version_minor": 0
            },
            "text/plain": [
              "train epoch 4:   0%|          | 0/791 [00:00<?, ?it/s]"
            ]
          },
          "metadata": {},
          "output_type": "display_data"
        },
        {
          "name": "stderr",
          "output_type": "stream",
          "text": [
            "2023-04-03 15:47:03 | INFO | hw5.seq2seq | training loss: 5.3725\n",
            "2023-04-03 15:47:03 | INFO | hw5.seq2seq | begin validation\n"
          ]
        },
        {
          "data": {
            "application/vnd.jupyter.widget-view+json": {
              "model_id": "2e4d27dce4c1426781196111725322eb",
              "version_major": 2,
              "version_minor": 0
            },
            "text/plain": [
              "validation:   0%|          | 0/22 [00:00<?, ?it/s]"
            ]
          },
          "metadata": {},
          "output_type": "display_data"
        },
        {
          "name": "stderr",
          "output_type": "stream",
          "text": [
            "2023-04-03 15:47:21 | INFO | hw5.seq2seq | example source: it's very destructive , but it also catalyzes the production of vitamin d in the skin , vitamin d being a molecule that we very much need for our strong bones , the health of our immune system , and myriad other important functions in our bodies .\n",
            "2023-04-03 15:47:21 | INFO | hw5.seq2seq | example hypothesis: 很顯然 , 最重要的是 , 最重要的是 , 最重要的是 , 最重要的是 , 最重要的是 , 最重要的是 , 最重要的是 , 最重要的是 , 最重要的是 , 最重要的是 , 人類的性別 , 尤其是 , 除了我們對抗生素的影響力 , 尤其是 , 除了我們對抗生素的影響力 。\n",
            "2023-04-03 15:47:21 | INFO | hw5.seq2seq | example reference: uvb非常的有破壞性 , 但是它也催化皮膚裡維生素d的生產 。 維生素d是我們非常需要的一種分子 , 它幫助強健骨骼、增強免疫系統、還有在我們身體裡行使其他各式各樣的重要功能 。\n",
            "2023-04-03 15:47:21 | INFO | hw5.seq2seq | validation loss:\t5.0045\n",
            "2023-04-03 15:47:21 | INFO | hw5.seq2seq | BLEU = 4.62 22.5/6.6/2.6/1.2 (BP = 1.000 ratio = 1.183 hyp_len = 132281 ref_len = 111811)\n",
            "2023-04-03 15:47:21 | INFO | hw5.seq2seq | saved epoch checkpoint: d:\\Wei-shun Bao\\Learning\\Codes\\ML2022-Spring\\HW05\\checkpoints\\rnn/checkpoint4.pt\n",
            "2023-04-03 15:47:21 | INFO | hw5.seq2seq | end of epoch 4\n",
            "2023-04-03 15:47:21 | INFO | fairseq.data.iterators | grouped total_num_itrs = 791\n"
          ]
        },
        {
          "data": {
            "application/vnd.jupyter.widget-view+json": {
              "model_id": "edd3af7463054499a54a87c569da21b7",
              "version_major": 2,
              "version_minor": 0
            },
            "text/plain": [
              "train epoch 5:   0%|          | 0/791 [00:00<?, ?it/s]"
            ]
          },
          "metadata": {},
          "output_type": "display_data"
        },
        {
          "name": "stderr",
          "output_type": "stream",
          "text": [
            "2023-04-03 15:48:49 | INFO | hw5.seq2seq | training loss: 4.9737\n",
            "2023-04-03 15:48:49 | INFO | hw5.seq2seq | begin validation\n"
          ]
        },
        {
          "data": {
            "application/vnd.jupyter.widget-view+json": {
              "model_id": "6c251583b6e045f3aa3e3f089ca64789",
              "version_major": 2,
              "version_minor": 0
            },
            "text/plain": [
              "validation:   0%|          | 0/22 [00:00<?, ?it/s]"
            ]
          },
          "metadata": {},
          "output_type": "display_data"
        },
        {
          "name": "stderr",
          "output_type": "stream",
          "text": [
            "2023-04-03 15:49:05 | INFO | hw5.seq2seq | example source: it's what we call , \" invest , connect and celebrate . \"\n",
            "2023-04-03 15:49:05 | INFO | hw5.seq2seq | example hypothesis: 我們稱之為 「 投資和平衡 」 。\n",
            "2023-04-03 15:49:05 | INFO | hw5.seq2seq | example reference: 也就是我們稱之為『投資 , 連結 , 發揚光大』\n",
            "2023-04-03 15:49:05 | INFO | hw5.seq2seq | validation loss:\t4.5962\n",
            "2023-04-03 15:49:05 | INFO | hw5.seq2seq | BLEU = 10.02 34.9/14.5/7.0/3.5 (BP = 0.946 ratio = 0.947 hyp_len = 105903 ref_len = 111811)\n",
            "2023-04-03 15:49:05 | INFO | hw5.seq2seq | saved epoch checkpoint: d:\\Wei-shun Bao\\Learning\\Codes\\ML2022-Spring\\HW05\\checkpoints\\rnn/checkpoint5.pt\n",
            "2023-04-03 15:49:05 | INFO | hw5.seq2seq | end of epoch 5\n",
            "2023-04-03 15:49:05 | INFO | fairseq.data.iterators | grouped total_num_itrs = 791\n"
          ]
        },
        {
          "data": {
            "application/vnd.jupyter.widget-view+json": {
              "model_id": "51a37d314ce14582bdbcf3707be6cce9",
              "version_major": 2,
              "version_minor": 0
            },
            "text/plain": [
              "train epoch 6:   0%|          | 0/791 [00:00<?, ?it/s]"
            ]
          },
          "metadata": {},
          "output_type": "display_data"
        },
        {
          "name": "stderr",
          "output_type": "stream",
          "text": [
            "2023-04-03 15:50:33 | INFO | hw5.seq2seq | training loss: 4.7192\n",
            "2023-04-03 15:50:33 | INFO | hw5.seq2seq | begin validation\n"
          ]
        },
        {
          "data": {
            "application/vnd.jupyter.widget-view+json": {
              "model_id": "69cae96ca7c44debb4414a5c9145d285",
              "version_major": 2,
              "version_minor": 0
            },
            "text/plain": [
              "validation:   0%|          | 0/22 [00:00<?, ?it/s]"
            ]
          },
          "metadata": {},
          "output_type": "display_data"
        },
        {
          "name": "stderr",
          "output_type": "stream",
          "text": [
            "2023-04-03 15:50:50 | INFO | hw5.seq2seq | example source: thank you very much .\n",
            "2023-04-03 15:50:50 | INFO | hw5.seq2seq | example hypothesis: 非常感謝各位 。\n",
            "2023-04-03 15:50:50 | INFO | hw5.seq2seq | example reference: 謝謝各位 。\n",
            "2023-04-03 15:50:50 | INFO | hw5.seq2seq | validation loss:\t4.3781\n",
            "2023-04-03 15:50:50 | INFO | hw5.seq2seq | BLEU = 10.49 32.7/14.3/7.1/3.7 (BP = 1.000 ratio = 1.136 hyp_len = 126986 ref_len = 111811)\n",
            "2023-04-03 15:50:50 | INFO | hw5.seq2seq | saved epoch checkpoint: d:\\Wei-shun Bao\\Learning\\Codes\\ML2022-Spring\\HW05\\checkpoints\\rnn/checkpoint6.pt\n",
            "2023-04-03 15:50:50 | INFO | hw5.seq2seq | end of epoch 6\n",
            "2023-04-03 15:50:50 | INFO | fairseq.data.iterators | grouped total_num_itrs = 791\n"
          ]
        },
        {
          "data": {
            "application/vnd.jupyter.widget-view+json": {
              "model_id": "eaf40e17cf4b411c81065d4721ce61db",
              "version_major": 2,
              "version_minor": 0
            },
            "text/plain": [
              "train epoch 7:   0%|          | 0/791 [00:00<?, ?it/s]"
            ]
          },
          "metadata": {},
          "output_type": "display_data"
        },
        {
          "name": "stderr",
          "output_type": "stream",
          "text": [
            "2023-04-03 15:52:17 | INFO | hw5.seq2seq | training loss: 4.5516\n",
            "2023-04-03 15:52:17 | INFO | hw5.seq2seq | begin validation\n"
          ]
        },
        {
          "data": {
            "application/vnd.jupyter.widget-view+json": {
              "model_id": "5c721bdc52774e43ae927e980d44d978",
              "version_major": 2,
              "version_minor": 0
            },
            "text/plain": [
              "validation:   0%|          | 0/22 [00:00<?, ?it/s]"
            ]
          },
          "metadata": {},
          "output_type": "display_data"
        },
        {
          "name": "stderr",
          "output_type": "stream",
          "text": [
            "2023-04-03 15:52:35 | INFO | hw5.seq2seq | example source: thank you very much .\n",
            "2023-04-03 15:52:35 | INFO | hw5.seq2seq | example hypothesis: 感謝各位 。\n",
            "2023-04-03 15:52:35 | INFO | hw5.seq2seq | example reference: 非常感謝\n",
            "2023-04-03 15:52:35 | INFO | hw5.seq2seq | validation loss:\t4.2769\n",
            "2023-04-03 15:52:35 | INFO | hw5.seq2seq | BLEU = 11.13 33.4/15.0/7.6/4.0 (BP = 1.000 ratio = 1.151 hyp_len = 128711 ref_len = 111811)\n",
            "2023-04-03 15:52:35 | INFO | hw5.seq2seq | saved epoch checkpoint: d:\\Wei-shun Bao\\Learning\\Codes\\ML2022-Spring\\HW05\\checkpoints\\rnn/checkpoint7.pt\n",
            "2023-04-03 15:52:35 | INFO | hw5.seq2seq | end of epoch 7\n",
            "2023-04-03 15:52:35 | INFO | fairseq.data.iterators | grouped total_num_itrs = 791\n"
          ]
        },
        {
          "data": {
            "application/vnd.jupyter.widget-view+json": {
              "model_id": "b30ac5fa7e3e4b6dbbed801a59bb78bf",
              "version_major": 2,
              "version_minor": 0
            },
            "text/plain": [
              "train epoch 8:   0%|          | 0/791 [00:00<?, ?it/s]"
            ]
          },
          "metadata": {},
          "output_type": "display_data"
        },
        {
          "name": "stderr",
          "output_type": "stream",
          "text": [
            "2023-04-03 15:54:02 | INFO | hw5.seq2seq | training loss: 4.4422\n",
            "2023-04-03 15:54:02 | INFO | hw5.seq2seq | begin validation\n"
          ]
        },
        {
          "data": {
            "application/vnd.jupyter.widget-view+json": {
              "model_id": "81c7982b73584b5db7e6d329d026a611",
              "version_major": 2,
              "version_minor": 0
            },
            "text/plain": [
              "validation:   0%|          | 0/22 [00:00<?, ?it/s]"
            ]
          },
          "metadata": {},
          "output_type": "display_data"
        },
        {
          "name": "stderr",
          "output_type": "stream",
          "text": [
            "2023-04-03 15:54:19 | INFO | hw5.seq2seq | example source: some will go on for further education , but many will enter the workforce .\n",
            "2023-04-03 15:54:19 | INFO | hw5.seq2seq | example hypothesis: 有些人會進入職業 , 但很多人會進入工作 。\n",
            "2023-04-03 15:54:19 | INFO | hw5.seq2seq | example reference: 有些人會繼續深造 , 但許多人會成為勞動力 。\n",
            "2023-04-03 15:54:19 | INFO | hw5.seq2seq | validation loss:\t4.1770\n",
            "2023-04-03 15:54:19 | INFO | hw5.seq2seq | BLEU = 13.62 38.7/18.3/9.4/5.2 (BP = 1.000 ratio = 1.010 hyp_len = 112947 ref_len = 111811)\n",
            "2023-04-03 15:54:19 | INFO | hw5.seq2seq | saved epoch checkpoint: d:\\Wei-shun Bao\\Learning\\Codes\\ML2022-Spring\\HW05\\checkpoints\\rnn/checkpoint8.pt\n",
            "2023-04-03 15:54:19 | INFO | hw5.seq2seq | end of epoch 8\n",
            "2023-04-03 15:54:19 | INFO | fairseq.data.iterators | grouped total_num_itrs = 791\n"
          ]
        },
        {
          "data": {
            "application/vnd.jupyter.widget-view+json": {
              "model_id": "45b51e25db0a48ac973157fe7b83ef11",
              "version_major": 2,
              "version_minor": 0
            },
            "text/plain": [
              "train epoch 9:   0%|          | 0/791 [00:00<?, ?it/s]"
            ]
          },
          "metadata": {},
          "output_type": "display_data"
        },
        {
          "name": "stderr",
          "output_type": "stream",
          "text": [
            "2023-04-03 15:55:46 | INFO | hw5.seq2seq | training loss: 4.3619\n",
            "2023-04-03 15:55:46 | INFO | hw5.seq2seq | begin validation\n"
          ]
        },
        {
          "data": {
            "application/vnd.jupyter.widget-view+json": {
              "model_id": "6e650d677f0a4dfab97684ff70eeb06d",
              "version_major": 2,
              "version_minor": 0
            },
            "text/plain": [
              "validation:   0%|          | 0/22 [00:00<?, ?it/s]"
            ]
          },
          "metadata": {},
          "output_type": "display_data"
        },
        {
          "name": "stderr",
          "output_type": "stream",
          "text": [
            "2023-04-03 15:56:03 | INFO | hw5.seq2seq | example source: what would i feel ?\n",
            "2023-04-03 15:56:03 | INFO | hw5.seq2seq | example hypothesis: 我會覺得什麼 ?\n",
            "2023-04-03 15:56:03 | INFO | hw5.seq2seq | example reference: 會有甚麼感覺呢 ?\n",
            "2023-04-03 15:56:03 | INFO | hw5.seq2seq | validation loss:\t4.1210\n",
            "2023-04-03 15:56:03 | INFO | hw5.seq2seq | BLEU = 14.01 39.2/18.7/9.8/5.4 (BP = 1.000 ratio = 1.046 hyp_len = 116907 ref_len = 111811)\n",
            "2023-04-03 15:56:03 | INFO | hw5.seq2seq | saved epoch checkpoint: d:\\Wei-shun Bao\\Learning\\Codes\\ML2022-Spring\\HW05\\checkpoints\\rnn/checkpoint9.pt\n",
            "2023-04-03 15:56:03 | INFO | hw5.seq2seq | end of epoch 9\n",
            "2023-04-03 15:56:03 | INFO | fairseq.data.iterators | grouped total_num_itrs = 791\n"
          ]
        },
        {
          "data": {
            "application/vnd.jupyter.widget-view+json": {
              "model_id": "346229682a134b86b9004e2bdd57b7f4",
              "version_major": 2,
              "version_minor": 0
            },
            "text/plain": [
              "train epoch 10:   0%|          | 0/791 [00:00<?, ?it/s]"
            ]
          },
          "metadata": {},
          "output_type": "display_data"
        },
        {
          "name": "stderr",
          "output_type": "stream",
          "text": [
            "2023-04-03 15:57:31 | INFO | hw5.seq2seq | training loss: 4.3014\n",
            "2023-04-03 15:57:31 | INFO | hw5.seq2seq | begin validation\n"
          ]
        },
        {
          "data": {
            "application/vnd.jupyter.widget-view+json": {
              "model_id": "4e4e208532984287b4dc692adf8357fc",
              "version_major": 2,
              "version_minor": 0
            },
            "text/plain": [
              "validation:   0%|          | 0/22 [00:00<?, ?it/s]"
            ]
          },
          "metadata": {},
          "output_type": "display_data"
        },
        {
          "name": "stderr",
          "output_type": "stream",
          "text": [
            "2023-04-03 15:57:48 | INFO | hw5.seq2seq | example source: so think about when you have friends , families and coworkers in california , on the west coast or in other parts of the world .\n",
            "2023-04-03 15:57:48 | INFO | hw5.seq2seq | example hypothesis: 所以 , 想想看 , 當你有朋友、家庭和同事在加州 , 在加州 , 在加州 , 在加州 , 在加州 , 在加州 , 到西岸或其他地方 。\n",
            "2023-04-03 15:57:48 | INFO | hw5.seq2seq | example reference: 所以 , 想像當你嘗試聯繫在加州 , 在西海岸或者在世界的另一面\n",
            "2023-04-03 15:57:48 | INFO | hw5.seq2seq | validation loss:\t4.0689\n",
            "2023-04-03 15:57:48 | INFO | hw5.seq2seq | BLEU = 14.42 39.3/19.1/10.2/5.7 (BP = 1.000 ratio = 1.064 hyp_len = 118970 ref_len = 111811)\n",
            "2023-04-03 15:57:48 | INFO | hw5.seq2seq | saved epoch checkpoint: d:\\Wei-shun Bao\\Learning\\Codes\\ML2022-Spring\\HW05\\checkpoints\\rnn/checkpoint10.pt\n",
            "2023-04-03 15:57:48 | INFO | hw5.seq2seq | end of epoch 10\n",
            "2023-04-03 15:57:48 | INFO | fairseq.data.iterators | grouped total_num_itrs = 791\n"
          ]
        },
        {
          "data": {
            "application/vnd.jupyter.widget-view+json": {
              "model_id": "8044af0f1a00418cb3949f8308fabd47",
              "version_major": 2,
              "version_minor": 0
            },
            "text/plain": [
              "train epoch 11:   0%|          | 0/791 [00:00<?, ?it/s]"
            ]
          },
          "metadata": {},
          "output_type": "display_data"
        },
        {
          "name": "stderr",
          "output_type": "stream",
          "text": [
            "2023-04-03 15:59:16 | INFO | hw5.seq2seq | training loss: 4.2534\n",
            "2023-04-03 15:59:16 | INFO | hw5.seq2seq | begin validation\n"
          ]
        },
        {
          "data": {
            "application/vnd.jupyter.widget-view+json": {
              "model_id": "219f77a3e1a94f0e87d6dad621296a72",
              "version_major": 2,
              "version_minor": 0
            },
            "text/plain": [
              "validation:   0%|          | 0/22 [00:00<?, ?it/s]"
            ]
          },
          "metadata": {},
          "output_type": "display_data"
        },
        {
          "name": "stderr",
          "output_type": "stream",
          "text": [
            "2023-04-03 15:59:34 | INFO | hw5.seq2seq | example source: okay , so by this logic , bad is always stronger than good when it comes to updating .\n",
            "2023-04-03 15:59:34 | INFO | hw5.seq2seq | example hypothesis: 嗯 , 這樣的邏輯 , 糟糕的比好 , 比好好 , 就會更強壯 。\n",
            "2023-04-03 15:59:34 | INFO | hw5.seq2seq | example reference: 好 , 依據這樣的邏輯當有新的印象出現時壞的效果比好的效果來得強烈\n",
            "2023-04-03 15:59:34 | INFO | hw5.seq2seq | validation loss:\t4.0334\n",
            "2023-04-03 15:59:34 | INFO | hw5.seq2seq | BLEU = 15.20 41.3/20.2/10.7/6.0 (BP = 1.000 ratio = 1.032 hyp_len = 115429 ref_len = 111811)\n",
            "2023-04-03 15:59:34 | INFO | hw5.seq2seq | saved epoch checkpoint: d:\\Wei-shun Bao\\Learning\\Codes\\ML2022-Spring\\HW05\\checkpoints\\rnn/checkpoint11.pt\n",
            "2023-04-03 15:59:34 | INFO | hw5.seq2seq | end of epoch 11\n",
            "2023-04-03 15:59:34 | INFO | fairseq.data.iterators | grouped total_num_itrs = 791\n"
          ]
        },
        {
          "data": {
            "application/vnd.jupyter.widget-view+json": {
              "model_id": "dc62279dd51c4e46a13f51ea718a9e2e",
              "version_major": 2,
              "version_minor": 0
            },
            "text/plain": [
              "train epoch 12:   0%|          | 0/791 [00:00<?, ?it/s]"
            ]
          },
          "metadata": {},
          "output_type": "display_data"
        },
        {
          "name": "stderr",
          "output_type": "stream",
          "text": [
            "2023-04-03 16:01:05 | INFO | hw5.seq2seq | training loss: 4.2160\n",
            "2023-04-03 16:01:05 | INFO | hw5.seq2seq | begin validation\n"
          ]
        },
        {
          "data": {
            "application/vnd.jupyter.widget-view+json": {
              "model_id": "b3b9afbcd9b041638d62128594d65872",
              "version_major": 2,
              "version_minor": 0
            },
            "text/plain": [
              "validation:   0%|          | 0/22 [00:00<?, ?it/s]"
            ]
          },
          "metadata": {},
          "output_type": "display_data"
        },
        {
          "name": "stderr",
          "output_type": "stream",
          "text": [
            "2023-04-03 16:01:23 | INFO | hw5.seq2seq | example source: never mind the fact that the address led to a strip mall somewhere in northern l . a .\n",
            "2023-04-03 16:01:23 | INFO | hw5.seq2seq | example hypothesis: 從來沒有注意到 , 在北爾的某個地方 , 在北加爾的地址上升了一大堆 。\n",
            "2023-04-03 16:01:23 | INFO | hw5.seq2seq | example reference: 但事實是這個公司位於洛杉磯北部的某購物中心\n",
            "2023-04-03 16:01:23 | INFO | hw5.seq2seq | validation loss:\t4.0040\n",
            "2023-04-03 16:01:23 | INFO | hw5.seq2seq | BLEU = 15.68 44.6/21.9/11.7/6.6 (BP = 0.944 ratio = 0.946 hyp_len = 105745 ref_len = 111811)\n",
            "2023-04-03 16:01:23 | INFO | hw5.seq2seq | saved epoch checkpoint: d:\\Wei-shun Bao\\Learning\\Codes\\ML2022-Spring\\HW05\\checkpoints\\rnn/checkpoint12.pt\n",
            "2023-04-03 16:01:23 | INFO | hw5.seq2seq | end of epoch 12\n",
            "2023-04-03 16:01:23 | INFO | fairseq.data.iterators | grouped total_num_itrs = 791\n"
          ]
        },
        {
          "data": {
            "application/vnd.jupyter.widget-view+json": {
              "model_id": "90f0b210799445f29177cc8185b0e318",
              "version_major": 2,
              "version_minor": 0
            },
            "text/plain": [
              "train epoch 13:   0%|          | 0/791 [00:00<?, ?it/s]"
            ]
          },
          "metadata": {},
          "output_type": "display_data"
        },
        {
          "name": "stderr",
          "output_type": "stream",
          "text": [
            "2023-04-03 16:02:53 | INFO | hw5.seq2seq | training loss: 4.1811\n",
            "2023-04-03 16:02:53 | INFO | hw5.seq2seq | begin validation\n"
          ]
        },
        {
          "data": {
            "application/vnd.jupyter.widget-view+json": {
              "model_id": "d7cafcd0266743e99cbe56a4bf9d158d",
              "version_major": 2,
              "version_minor": 0
            },
            "text/plain": [
              "validation:   0%|          | 0/22 [00:00<?, ?it/s]"
            ]
          },
          "metadata": {},
          "output_type": "display_data"
        },
        {
          "name": "stderr",
          "output_type": "stream",
          "text": [
            "2023-04-03 16:03:11 | INFO | hw5.seq2seq | example source: we wear all black , we get very depressed , you think we're adorable , we're dead inside because we've got no choice .\n",
            "2023-04-03 16:03:11 | INFO | hw5.seq2seq | example hypothesis: 我們穿著黑色 , 我們很沮喪 , 很憂鬱 , 你覺得我們很沮喪 , 很憂鬱 , 你覺得我們很沮喪 , 很沮喪 , 很憂鬱 , 你覺得我們很沮喪 。\n",
            "2023-04-03 16:03:11 | INFO | hw5.seq2seq | example reference: 我們身著華服你們認為我們是值得尊敬的我們內心是一片死寂 , 因為我們別無選擇\n",
            "2023-04-03 16:03:11 | INFO | hw5.seq2seq | validation loss:\t3.9967\n",
            "2023-04-03 16:03:11 | INFO | hw5.seq2seq | BLEU = 15.87 43.2/21.4/11.4/6.4 (BP = 0.984 ratio = 0.984 hyp_len = 110039 ref_len = 111811)\n",
            "2023-04-03 16:03:11 | INFO | hw5.seq2seq | saved epoch checkpoint: d:\\Wei-shun Bao\\Learning\\Codes\\ML2022-Spring\\HW05\\checkpoints\\rnn/checkpoint13.pt\n",
            "2023-04-03 16:03:11 | INFO | hw5.seq2seq | end of epoch 13\n",
            "2023-04-03 16:03:11 | INFO | fairseq.data.iterators | grouped total_num_itrs = 791\n"
          ]
        },
        {
          "data": {
            "application/vnd.jupyter.widget-view+json": {
              "model_id": "e02c7a08602d452db39e23e809dcc8cc",
              "version_major": 2,
              "version_minor": 0
            },
            "text/plain": [
              "train epoch 14:   0%|          | 0/791 [00:00<?, ?it/s]"
            ]
          },
          "metadata": {},
          "output_type": "display_data"
        },
        {
          "name": "stderr",
          "output_type": "stream",
          "text": [
            "2023-04-03 16:04:41 | INFO | hw5.seq2seq | training loss: 4.1533\n",
            "2023-04-03 16:04:41 | INFO | hw5.seq2seq | begin validation\n"
          ]
        },
        {
          "data": {
            "application/vnd.jupyter.widget-view+json": {
              "model_id": "5580c4326b2047989b8ff0588b9401f4",
              "version_major": 2,
              "version_minor": 0
            },
            "text/plain": [
              "validation:   0%|          | 0/22 [00:00<?, ?it/s]"
            ]
          },
          "metadata": {},
          "output_type": "display_data"
        },
        {
          "name": "stderr",
          "output_type": "stream",
          "text": [
            "2023-04-03 16:04:58 | INFO | hw5.seq2seq | example source: he's saying to me , 'electricity . ' was he an electrician ? \" \" no . \"\n",
            "2023-04-03 16:04:58 | INFO | hw5.seq2seq | example hypothesis: 他對我說: 「 不 。 」 「 不 。 」\n",
            "2023-04-03 16:04:58 | INFO | hw5.seq2seq | example reference: 他對我說『電流』他是一個電工嗎 ? 」 不是\n",
            "2023-04-03 16:04:58 | INFO | hw5.seq2seq | validation loss:\t3.9797\n",
            "2023-04-03 16:04:58 | INFO | hw5.seq2seq | BLEU = 15.92 48.8/24.7/13.5/7.7 (BP = 0.846 ratio = 0.857 hyp_len = 95792 ref_len = 111811)\n",
            "2023-04-03 16:04:58 | INFO | hw5.seq2seq | saved epoch checkpoint: d:\\Wei-shun Bao\\Learning\\Codes\\ML2022-Spring\\HW05\\checkpoints\\rnn/checkpoint14.pt\n",
            "2023-04-03 16:04:58 | INFO | hw5.seq2seq | end of epoch 14\n",
            "2023-04-03 16:04:58 | INFO | fairseq.data.iterators | grouped total_num_itrs = 791\n"
          ]
        },
        {
          "data": {
            "application/vnd.jupyter.widget-view+json": {
              "model_id": "b077487dbbe64e538a5c36bdd51ecdb1",
              "version_major": 2,
              "version_minor": 0
            },
            "text/plain": [
              "train epoch 15:   0%|          | 0/791 [00:00<?, ?it/s]"
            ]
          },
          "metadata": {},
          "output_type": "display_data"
        },
        {
          "name": "stderr",
          "output_type": "stream",
          "text": [
            "2023-04-03 16:06:27 | INFO | hw5.seq2seq | training loss: 4.1326\n",
            "2023-04-03 16:06:27 | INFO | hw5.seq2seq | begin validation\n"
          ]
        },
        {
          "data": {
            "application/vnd.jupyter.widget-view+json": {
              "model_id": "929b8d60003143ff81d1c15948785a05",
              "version_major": 2,
              "version_minor": 0
            },
            "text/plain": [
              "validation:   0%|          | 0/22 [00:00<?, ?it/s]"
            ]
          },
          "metadata": {},
          "output_type": "display_data"
        },
        {
          "name": "stderr",
          "output_type": "stream",
          "text": [
            "2023-04-03 16:06:45 | INFO | hw5.seq2seq | example source: so they went to their data science team , and they were able to scale this big data insight in with their quantitative data .\n",
            "2023-04-03 16:06:45 | INFO | hw5.seq2seq | example hypothesis: 所以他們去找他們的資料科學團隊 , 他們可以把大量的資料資料放到他們的資料中 。\n",
            "2023-04-03 16:06:45 | INFO | hw5.seq2seq | example reference: 於是叫他們的數據科學組把這洞察放大到量化數據的規模來衡量 。\n",
            "2023-04-03 16:06:45 | INFO | hw5.seq2seq | validation loss:\t3.9467\n",
            "2023-04-03 16:06:45 | INFO | hw5.seq2seq | BLEU = 16.46 43.9/21.9/11.9/6.8 (BP = 0.987 ratio = 0.987 hyp_len = 110401 ref_len = 111811)\n",
            "2023-04-03 16:06:45 | INFO | hw5.seq2seq | saved epoch checkpoint: d:\\Wei-shun Bao\\Learning\\Codes\\ML2022-Spring\\HW05\\checkpoints\\rnn/checkpoint15.pt\n",
            "2023-04-03 16:06:45 | INFO | hw5.seq2seq | end of epoch 15\n",
            "2023-04-03 16:06:45 | INFO | fairseq.data.iterators | grouped total_num_itrs = 791\n"
          ]
        },
        {
          "data": {
            "application/vnd.jupyter.widget-view+json": {
              "model_id": "77154e838d2541b1a331ac53270f61bb",
              "version_major": 2,
              "version_minor": 0
            },
            "text/plain": [
              "train epoch 16:   0%|          | 0/791 [00:00<?, ?it/s]"
            ]
          },
          "metadata": {},
          "output_type": "display_data"
        },
        {
          "name": "stderr",
          "output_type": "stream",
          "text": [
            "2023-04-03 16:08:15 | INFO | hw5.seq2seq | training loss: 4.1057\n",
            "2023-04-03 16:08:15 | INFO | hw5.seq2seq | begin validation\n"
          ]
        },
        {
          "data": {
            "application/vnd.jupyter.widget-view+json": {
              "model_id": "1c8c9e52986a4689884928760a96a9d4",
              "version_major": 2,
              "version_minor": 0
            },
            "text/plain": [
              "validation:   0%|          | 0/22 [00:00<?, ?it/s]"
            ]
          },
          "metadata": {},
          "output_type": "display_data"
        },
        {
          "name": "stderr",
          "output_type": "stream",
          "text": [
            "2023-04-03 16:08:32 | INFO | hw5.seq2seq | example source: in the 35 years i've been a climbing guide and taught on indoor walls , and stuff like that , the most important thing i've learned was , guys will always try to do pullups .\n",
            "2023-04-03 16:08:32 | INFO | hw5.seq2seq | example hypothesis: 在35年裡 , 我學到的最重要的事是 , 人們總是試著去做靈魂 。\n",
            "2023-04-03 16:08:32 | INFO | hw5.seq2seq | example reference: 35年來我一直擔任攀岩嚮導在室內岩場教學 , 並做些像這樣的工作 , 而我所學到的最重要的事情就是 , 男性們通常會做引體向上 。\n",
            "2023-04-03 16:08:32 | INFO | hw5.seq2seq | validation loss:\t3.9274\n",
            "2023-04-03 16:08:32 | INFO | hw5.seq2seq | BLEU = 16.40 43.3/21.5/11.7/6.6 (BP = 1.000 ratio = 1.032 hyp_len = 115401 ref_len = 111811)\n",
            "2023-04-03 16:08:32 | INFO | hw5.seq2seq | saved epoch checkpoint: d:\\Wei-shun Bao\\Learning\\Codes\\ML2022-Spring\\HW05\\checkpoints\\rnn/checkpoint16.pt\n",
            "2023-04-03 16:08:32 | INFO | hw5.seq2seq | end of epoch 16\n",
            "2023-04-03 16:08:32 | INFO | fairseq.data.iterators | grouped total_num_itrs = 791\n"
          ]
        },
        {
          "data": {
            "application/vnd.jupyter.widget-view+json": {
              "model_id": "28d3a1e2e38b4cab9d20607d84a3def4",
              "version_major": 2,
              "version_minor": 0
            },
            "text/plain": [
              "train epoch 17:   0%|          | 0/791 [00:00<?, ?it/s]"
            ]
          },
          "metadata": {},
          "output_type": "display_data"
        },
        {
          "name": "stderr",
          "output_type": "stream",
          "text": [
            "2023-04-03 16:10:02 | INFO | hw5.seq2seq | training loss: 4.0889\n",
            "2023-04-03 16:10:02 | INFO | hw5.seq2seq | begin validation\n"
          ]
        },
        {
          "data": {
            "application/vnd.jupyter.widget-view+json": {
              "model_id": "f613da514fb240bdb1bf143dc5bf690c",
              "version_major": 2,
              "version_minor": 0
            },
            "text/plain": [
              "validation:   0%|          | 0/22 [00:00<?, ?it/s]"
            ]
          },
          "metadata": {},
          "output_type": "display_data"
        },
        {
          "name": "stderr",
          "output_type": "stream",
          "text": [
            "2023-04-03 16:10:20 | INFO | hw5.seq2seq | example source: who gets safe surgery and who doesn't ?\n",
            "2023-04-03 16:10:20 | INFO | hw5.seq2seq | example hypothesis: 誰得到安全的手術 ? 誰會得到安全手術 ?\n",
            "2023-04-03 16:10:20 | INFO | hw5.seq2seq | example reference: 誰能接受安全的手術誰不能 ?\n",
            "2023-04-03 16:10:20 | INFO | hw5.seq2seq | validation loss:\t3.9115\n",
            "2023-04-03 16:10:20 | INFO | hw5.seq2seq | BLEU = 16.37 43.2/21.6/11.6/6.6 (BP = 1.000 ratio = 1.038 hyp_len = 116090 ref_len = 111811)\n",
            "2023-04-03 16:10:20 | INFO | hw5.seq2seq | saved epoch checkpoint: d:\\Wei-shun Bao\\Learning\\Codes\\ML2022-Spring\\HW05\\checkpoints\\rnn/checkpoint17.pt\n",
            "2023-04-03 16:10:20 | INFO | hw5.seq2seq | end of epoch 17\n",
            "2023-04-03 16:10:20 | INFO | fairseq.data.iterators | grouped total_num_itrs = 791\n"
          ]
        },
        {
          "data": {
            "application/vnd.jupyter.widget-view+json": {
              "model_id": "6018bc34aac64071bcb5c2f846cb6c55",
              "version_major": 2,
              "version_minor": 0
            },
            "text/plain": [
              "train epoch 18:   0%|          | 0/791 [00:00<?, ?it/s]"
            ]
          },
          "metadata": {},
          "output_type": "display_data"
        },
        {
          "name": "stderr",
          "output_type": "stream",
          "text": [
            "2023-04-03 16:11:51 | INFO | hw5.seq2seq | training loss: 4.0697\n",
            "2023-04-03 16:11:51 | INFO | hw5.seq2seq | begin validation\n"
          ]
        },
        {
          "data": {
            "application/vnd.jupyter.widget-view+json": {
              "model_id": "5492a5a2b8e74290a43352f5658e805c",
              "version_major": 2,
              "version_minor": 0
            },
            "text/plain": [
              "validation:   0%|          | 0/22 [00:00<?, ?it/s]"
            ]
          },
          "metadata": {},
          "output_type": "display_data"
        },
        {
          "name": "stderr",
          "output_type": "stream",
          "text": [
            "2023-04-03 16:12:08 | INFO | hw5.seq2seq | example source: they breathe easier .\n",
            "2023-04-03 16:12:08 | INFO | hw5.seq2seq | example hypothesis: 他們呼吸比較容易 。\n",
            "2023-04-03 16:12:08 | INFO | hw5.seq2seq | example reference: 他們比較能呼吸 。\n",
            "2023-04-03 16:12:08 | INFO | hw5.seq2seq | validation loss:\t3.9074\n",
            "2023-04-03 16:12:08 | INFO | hw5.seq2seq | BLEU = 16.86 46.0/23.0/12.6/7.1 (BP = 0.960 ratio = 0.961 hyp_len = 107459 ref_len = 111811)\n",
            "2023-04-03 16:12:08 | INFO | hw5.seq2seq | saved epoch checkpoint: d:\\Wei-shun Bao\\Learning\\Codes\\ML2022-Spring\\HW05\\checkpoints\\rnn/checkpoint18.pt\n",
            "2023-04-03 16:12:08 | INFO | hw5.seq2seq | end of epoch 18\n",
            "2023-04-03 16:12:08 | INFO | fairseq.data.iterators | grouped total_num_itrs = 791\n"
          ]
        },
        {
          "data": {
            "application/vnd.jupyter.widget-view+json": {
              "model_id": "923e2b4a7079476497710a9f9cb43a21",
              "version_major": 2,
              "version_minor": 0
            },
            "text/plain": [
              "train epoch 19:   0%|          | 0/791 [00:00<?, ?it/s]"
            ]
          },
          "metadata": {},
          "output_type": "display_data"
        },
        {
          "name": "stderr",
          "output_type": "stream",
          "text": [
            "2023-04-03 16:13:37 | INFO | hw5.seq2seq | training loss: 4.0534\n",
            "2023-04-03 16:13:37 | INFO | hw5.seq2seq | begin validation\n"
          ]
        },
        {
          "data": {
            "application/vnd.jupyter.widget-view+json": {
              "model_id": "52e4f0b32b5d4ac5930c6b26e80067ce",
              "version_major": 2,
              "version_minor": 0
            },
            "text/plain": [
              "validation:   0%|          | 0/22 [00:00<?, ?it/s]"
            ]
          },
          "metadata": {},
          "output_type": "display_data"
        },
        {
          "name": "stderr",
          "output_type": "stream",
          "text": [
            "2023-04-03 16:13:55 | INFO | hw5.seq2seq | example source: all of the world's defense budgets and military spending taken together total just under two trillion dollars per year .\n",
            "2023-04-03 16:13:55 | INFO | hw5.seq2seq | example hypothesis: 全世界的防禦預算和軍事花費在兩兆美元 。\n",
            "2023-04-03 16:13:55 | INFO | hw5.seq2seq | example reference: 全球的軍事預算加總起來 , 每年都不到兩兆美金 。\n",
            "2023-04-03 16:13:55 | INFO | hw5.seq2seq | validation loss:\t3.8965\n",
            "2023-04-03 16:13:55 | INFO | hw5.seq2seq | BLEU = 17.22 45.5/23.0/12.5/7.2 (BP = 0.983 ratio = 0.983 hyp_len = 109954 ref_len = 111811)\n",
            "2023-04-03 16:13:55 | INFO | hw5.seq2seq | saved epoch checkpoint: d:\\Wei-shun Bao\\Learning\\Codes\\ML2022-Spring\\HW05\\checkpoints\\rnn/checkpoint19.pt\n",
            "2023-04-03 16:13:55 | INFO | hw5.seq2seq | end of epoch 19\n",
            "2023-04-03 16:13:55 | INFO | fairseq.data.iterators | grouped total_num_itrs = 791\n"
          ]
        },
        {
          "data": {
            "application/vnd.jupyter.widget-view+json": {
              "model_id": "00bf7f4c807a4ee7864b901ab15f54b9",
              "version_major": 2,
              "version_minor": 0
            },
            "text/plain": [
              "train epoch 20:   0%|          | 0/791 [00:00<?, ?it/s]"
            ]
          },
          "metadata": {},
          "output_type": "display_data"
        },
        {
          "name": "stderr",
          "output_type": "stream",
          "text": [
            "2023-04-03 16:15:25 | INFO | hw5.seq2seq | training loss: 4.0381\n",
            "2023-04-03 16:15:25 | INFO | hw5.seq2seq | begin validation\n"
          ]
        },
        {
          "data": {
            "application/vnd.jupyter.widget-view+json": {
              "model_id": "db6516899c85488ab806cfbb4d3cacdd",
              "version_major": 2,
              "version_minor": 0
            },
            "text/plain": [
              "validation:   0%|          | 0/22 [00:00<?, ?it/s]"
            ]
          },
          "metadata": {},
          "output_type": "display_data"
        },
        {
          "name": "stderr",
          "output_type": "stream",
          "text": [
            "2023-04-03 16:15:42 | INFO | hw5.seq2seq | example source: how do these nielsen ratings reflect not just what you've heard about , which is the idea of our social , collective unconscious , but how do these top10 nielsenrated shows over 50 years reflect the idea of our social conscience ?\n",
            "2023-04-03 16:15:42 | INFO | hw5.seq2seq | example hypothesis: 這些尼爾斯·雷特並不只是你剛剛所聽到的 , 關於我們的社群、集體的意識 , 而是如何 , 將這個想法帶給我們社會社會的觀點 , 如何反映出我們社會的社會觀點 ?\n",
            "2023-04-03 16:15:42 | INFO | hw5.seq2seq | example reference: 尼爾森收視率調查如何反應出所謂的社會集體無意識 ? 尼爾森收視率調查又是如何在過去五十年中反應出我們社會的意識 ?\n",
            "2023-04-03 16:15:42 | INFO | hw5.seq2seq | validation loss:\t3.8775\n",
            "2023-04-03 16:15:42 | INFO | hw5.seq2seq | BLEU = 17.17 44.9/22.5/12.3/7.0 (BP = 1.000 ratio = 1.005 hyp_len = 112322 ref_len = 111811)\n",
            "2023-04-03 16:15:42 | INFO | hw5.seq2seq | saved epoch checkpoint: d:\\Wei-shun Bao\\Learning\\Codes\\ML2022-Spring\\HW05\\checkpoints\\rnn/checkpoint20.pt\n",
            "2023-04-03 16:15:42 | INFO | hw5.seq2seq | end of epoch 20\n",
            "2023-04-03 16:15:42 | INFO | fairseq.data.iterators | grouped total_num_itrs = 791\n"
          ]
        },
        {
          "data": {
            "application/vnd.jupyter.widget-view+json": {
              "model_id": "dcad80a142ef40cc9cefb9bfb2b394a4",
              "version_major": 2,
              "version_minor": 0
            },
            "text/plain": [
              "train epoch 21:   0%|          | 0/791 [00:00<?, ?it/s]"
            ]
          },
          "metadata": {},
          "output_type": "display_data"
        },
        {
          "name": "stderr",
          "output_type": "stream",
          "text": [
            "2023-04-03 16:17:13 | INFO | hw5.seq2seq | training loss: 4.0290\n",
            "2023-04-03 16:17:13 | INFO | hw5.seq2seq | begin validation\n"
          ]
        },
        {
          "data": {
            "application/vnd.jupyter.widget-view+json": {
              "model_id": "9c499925b1224667a4545abe37256376",
              "version_major": 2,
              "version_minor": 0
            },
            "text/plain": [
              "validation:   0%|          | 0/22 [00:00<?, ?it/s]"
            ]
          },
          "metadata": {},
          "output_type": "display_data"
        },
        {
          "name": "stderr",
          "output_type": "stream",
          "text": [
            "2023-04-03 16:17:30 | INFO | hw5.seq2seq | example source: moreover , we can calculate a probability that the universe was created in different states .\n",
            "2023-04-03 16:17:30 | INFO | hw5.seq2seq | example hypothesis: 此外 , 我們能計算出一個可能性 , 宇宙是由不同的州所創造出來的 。\n",
            "2023-04-03 16:17:30 | INFO | hw5.seq2seq | example reference: 不同狀態的或然率 。 這些預測可以由\n",
            "2023-04-03 16:17:30 | INFO | hw5.seq2seq | validation loss:\t3.8745\n",
            "2023-04-03 16:17:30 | INFO | hw5.seq2seq | BLEU = 17.42 45.9/23.2/12.6/7.2 (BP = 0.988 ratio = 0.988 hyp_len = 110468 ref_len = 111811)\n",
            "2023-04-03 16:17:30 | INFO | hw5.seq2seq | saved epoch checkpoint: d:\\Wei-shun Bao\\Learning\\Codes\\ML2022-Spring\\HW05\\checkpoints\\rnn/checkpoint21.pt\n",
            "2023-04-03 16:17:30 | INFO | hw5.seq2seq | end of epoch 21\n",
            "2023-04-03 16:17:30 | INFO | fairseq.data.iterators | grouped total_num_itrs = 791\n"
          ]
        },
        {
          "data": {
            "application/vnd.jupyter.widget-view+json": {
              "model_id": "92335cc4af2b42ac99171078966ab6cf",
              "version_major": 2,
              "version_minor": 0
            },
            "text/plain": [
              "train epoch 22:   0%|          | 0/791 [00:00<?, ?it/s]"
            ]
          },
          "metadata": {},
          "output_type": "display_data"
        },
        {
          "name": "stderr",
          "output_type": "stream",
          "text": [
            "2023-04-03 16:19:02 | INFO | hw5.seq2seq | training loss: 4.0109\n",
            "2023-04-03 16:19:02 | INFO | hw5.seq2seq | begin validation\n"
          ]
        },
        {
          "data": {
            "application/vnd.jupyter.widget-view+json": {
              "model_id": "f721c470734e4316b38c5cf6ee2de7a5",
              "version_major": 2,
              "version_minor": 0
            },
            "text/plain": [
              "validation:   0%|          | 0/22 [00:00<?, ?it/s]"
            ]
          },
          "metadata": {},
          "output_type": "display_data"
        },
        {
          "name": "stderr",
          "output_type": "stream",
          "text": [
            "2023-04-03 16:19:20 | INFO | hw5.seq2seq | example source: everything i do is stitched with its color . \"\n",
            "2023-04-03 16:19:20 | INFO | hw5.seq2seq | example hypothesis: 我所做的一切都是用它顏色來的 。 」\n",
            "2023-04-03 16:19:20 | INFO | hw5.seq2seq | example reference: 我的行為都縫上了你的色彩 。 」\n",
            "2023-04-03 16:19:20 | INFO | hw5.seq2seq | validation loss:\t3.8699\n",
            "2023-04-03 16:19:20 | INFO | hw5.seq2seq | BLEU = 17.55 45.4/23.0/12.5/7.2 (BP = 1.000 ratio = 1.005 hyp_len = 112345 ref_len = 111811)\n",
            "2023-04-03 16:19:20 | INFO | hw5.seq2seq | saved epoch checkpoint: d:\\Wei-shun Bao\\Learning\\Codes\\ML2022-Spring\\HW05\\checkpoints\\rnn/checkpoint22.pt\n",
            "2023-04-03 16:19:20 | INFO | hw5.seq2seq | end of epoch 22\n",
            "2023-04-03 16:19:20 | INFO | fairseq.data.iterators | grouped total_num_itrs = 791\n"
          ]
        },
        {
          "data": {
            "application/vnd.jupyter.widget-view+json": {
              "model_id": "81163bce5f904a198434a876c473863e",
              "version_major": 2,
              "version_minor": 0
            },
            "text/plain": [
              "train epoch 23:   0%|          | 0/791 [00:00<?, ?it/s]"
            ]
          },
          "metadata": {},
          "output_type": "display_data"
        },
        {
          "name": "stderr",
          "output_type": "stream",
          "text": [
            "2023-04-03 16:20:50 | INFO | hw5.seq2seq | training loss: 4.0010\n",
            "2023-04-03 16:20:50 | INFO | hw5.seq2seq | begin validation\n"
          ]
        },
        {
          "data": {
            "application/vnd.jupyter.widget-view+json": {
              "model_id": "416f94ccabac45e1b67a39faa5b1b473",
              "version_major": 2,
              "version_minor": 0
            },
            "text/plain": [
              "validation:   0%|          | 0/22 [00:00<?, ?it/s]"
            ]
          },
          "metadata": {},
          "output_type": "display_data"
        },
        {
          "name": "stderr",
          "output_type": "stream",
          "text": [
            "2023-04-03 16:21:07 | INFO | hw5.seq2seq | example source: the lesson that we learned from the soviet debacle is that only by a miracle will the working poor be reempowered , as they were in ancient athens , without creating new forms of brutality and waste .\n",
            "2023-04-03 16:21:07 | INFO | hw5.seq2seq | example hypothesis: 我們從中學到的教訓 , 是因為奇蹟 , 只能在古老的天堂中學習 , 創造出新的形式和廢棄 。\n",
            "2023-04-03 16:21:07 | INFO | hw5.seq2seq | example reference: 我們從蘇聯解體吸取到的教訓是 , 只有奇蹟發生 , 貧窮的勞工才能被重新賦權 , 就像古老雅典時代那樣 , 而不會創造新形式的暴行和浪費 。\n",
            "2023-04-03 16:21:07 | INFO | hw5.seq2seq | validation loss:\t3.8712\n",
            "2023-04-03 16:21:07 | INFO | hw5.seq2seq | BLEU = 17.41 48.4/24.9/13.7/7.9 (BP = 0.917 ratio = 0.920 hyp_len = 102853 ref_len = 111811)\n",
            "2023-04-03 16:21:07 | INFO | hw5.seq2seq | saved epoch checkpoint: d:\\Wei-shun Bao\\Learning\\Codes\\ML2022-Spring\\HW05\\checkpoints\\rnn/checkpoint23.pt\n",
            "2023-04-03 16:21:07 | INFO | hw5.seq2seq | end of epoch 23\n",
            "2023-04-03 16:21:07 | INFO | fairseq.data.iterators | grouped total_num_itrs = 791\n"
          ]
        },
        {
          "data": {
            "application/vnd.jupyter.widget-view+json": {
              "model_id": "c7412aa947c040768c608df96da5eb30",
              "version_major": 2,
              "version_minor": 0
            },
            "text/plain": [
              "train epoch 24:   0%|          | 0/791 [00:00<?, ?it/s]"
            ]
          },
          "metadata": {},
          "output_type": "display_data"
        },
        {
          "name": "stderr",
          "output_type": "stream",
          "text": [
            "2023-04-03 16:22:38 | INFO | hw5.seq2seq | training loss: 3.9889\n",
            "2023-04-03 16:22:38 | INFO | hw5.seq2seq | begin validation\n"
          ]
        },
        {
          "data": {
            "application/vnd.jupyter.widget-view+json": {
              "model_id": "a1f88cbf064c478f9ef8ae154d0ced89",
              "version_major": 2,
              "version_minor": 0
            },
            "text/plain": [
              "validation:   0%|          | 0/22 [00:00<?, ?it/s]"
            ]
          },
          "metadata": {},
          "output_type": "display_data"
        },
        {
          "name": "stderr",
          "output_type": "stream",
          "text": [
            "2023-04-03 16:22:56 | INFO | hw5.seq2seq | example source: a few years ago , my parents and i went to see the rockettes , radio city's highkicking dancers .\n",
            "2023-04-03 16:22:56 | INFO | hw5.seq2seq | example hypothesis: 幾年前 , 我父母和我去看火箭 , 拉迪波市高kickette 。\n",
            "2023-04-03 16:22:56 | INFO | hw5.seq2seq | example reference: 幾年前 , 我父母和我去看rockettes舞團 , 無線電城音樂廳中腿能踢很高的舞者們 。\n",
            "2023-04-03 16:22:56 | INFO | hw5.seq2seq | validation loss:\t3.8546\n",
            "2023-04-03 16:22:56 | INFO | hw5.seq2seq | BLEU = 17.66 45.8/23.2/12.6/7.3 (BP = 1.000 ratio = 1.002 hyp_len = 112009 ref_len = 111811)\n",
            "2023-04-03 16:22:56 | INFO | hw5.seq2seq | saved epoch checkpoint: d:\\Wei-shun Bao\\Learning\\Codes\\ML2022-Spring\\HW05\\checkpoints\\rnn/checkpoint24.pt\n",
            "2023-04-03 16:22:56 | INFO | hw5.seq2seq | end of epoch 24\n",
            "2023-04-03 16:22:56 | INFO | fairseq.data.iterators | grouped total_num_itrs = 791\n"
          ]
        },
        {
          "data": {
            "application/vnd.jupyter.widget-view+json": {
              "model_id": "b3384fb514fb4058870e4b25811299dc",
              "version_major": 2,
              "version_minor": 0
            },
            "text/plain": [
              "train epoch 25:   0%|          | 0/791 [00:00<?, ?it/s]"
            ]
          },
          "metadata": {},
          "output_type": "display_data"
        },
        {
          "name": "stderr",
          "output_type": "stream",
          "text": [
            "2023-04-03 16:24:26 | INFO | hw5.seq2seq | training loss: 3.9811\n",
            "2023-04-03 16:24:26 | INFO | hw5.seq2seq | begin validation\n"
          ]
        },
        {
          "data": {
            "application/vnd.jupyter.widget-view+json": {
              "model_id": "0378ca50b25e4531ad7802b4f97f44be",
              "version_major": 2,
              "version_minor": 0
            },
            "text/plain": [
              "validation:   0%|          | 0/22 [00:00<?, ?it/s]"
            ]
          },
          "metadata": {},
          "output_type": "display_data"
        },
        {
          "name": "stderr",
          "output_type": "stream",
          "text": [
            "2023-04-03 16:24:44 | INFO | hw5.seq2seq | example source: and reality and i we don't share the same values , the same goals to be honest , i don't have goals ; i have fantasies .\n",
            "2023-04-03 16:24:44 | INFO | hw5.seq2seq | example hypothesis: 現實是 , 我沒有目標 , 我也沒有目標 , 我也沒有目標 , 我也沒有目標 。\n",
            "2023-04-03 16:24:44 | INFO | hw5.seq2seq | example reference: 而現實和我我們沒有相同的價值觀、相同的目標老實說 , 我沒有目標 ; 我有幻想 。\n",
            "2023-04-03 16:24:44 | INFO | hw5.seq2seq | validation loss:\t3.8436\n",
            "2023-04-03 16:24:44 | INFO | hw5.seq2seq | BLEU = 17.58 45.3/23.0/12.6/7.3 (BP = 1.000 ratio = 1.009 hyp_len = 112847 ref_len = 111811)\n",
            "2023-04-03 16:24:44 | INFO | hw5.seq2seq | saved epoch checkpoint: d:\\Wei-shun Bao\\Learning\\Codes\\ML2022-Spring\\HW05\\checkpoints\\rnn/checkpoint25.pt\n",
            "2023-04-03 16:24:44 | INFO | hw5.seq2seq | end of epoch 25\n",
            "2023-04-03 16:24:44 | INFO | fairseq.data.iterators | grouped total_num_itrs = 791\n"
          ]
        },
        {
          "data": {
            "application/vnd.jupyter.widget-view+json": {
              "model_id": "3605d08578c04124bcc64128dc48b3fd",
              "version_major": 2,
              "version_minor": 0
            },
            "text/plain": [
              "train epoch 26:   0%|          | 0/791 [00:00<?, ?it/s]"
            ]
          },
          "metadata": {},
          "output_type": "display_data"
        },
        {
          "name": "stderr",
          "output_type": "stream",
          "text": [
            "2023-04-03 16:26:14 | INFO | hw5.seq2seq | training loss: 3.9727\n",
            "2023-04-03 16:26:14 | INFO | hw5.seq2seq | begin validation\n"
          ]
        },
        {
          "data": {
            "application/vnd.jupyter.widget-view+json": {
              "model_id": "5bc3ba62b851412283aba665df352085",
              "version_major": 2,
              "version_minor": 0
            },
            "text/plain": [
              "validation:   0%|          | 0/22 [00:00<?, ?it/s]"
            ]
          },
          "metadata": {},
          "output_type": "display_data"
        },
        {
          "name": "stderr",
          "output_type": "stream",
          "text": [
            "2023-04-03 16:26:31 | INFO | hw5.seq2seq | example source: we can't .\n",
            "2023-04-03 16:26:31 | INFO | hw5.seq2seq | example hypothesis: 我們不能 。\n",
            "2023-04-03 16:26:31 | INFO | hw5.seq2seq | example reference: 這是行不通的 。\n",
            "2023-04-03 16:26:31 | INFO | hw5.seq2seq | validation loss:\t3.8476\n",
            "2023-04-03 16:26:31 | INFO | hw5.seq2seq | BLEU = 17.63 49.2/25.3/13.9/8.1 (BP = 0.911 ratio = 0.915 hyp_len = 102306 ref_len = 111811)\n",
            "2023-04-03 16:26:31 | INFO | hw5.seq2seq | saved epoch checkpoint: d:\\Wei-shun Bao\\Learning\\Codes\\ML2022-Spring\\HW05\\checkpoints\\rnn/checkpoint26.pt\n",
            "2023-04-03 16:26:31 | INFO | hw5.seq2seq | end of epoch 26\n",
            "2023-04-03 16:26:31 | INFO | fairseq.data.iterators | grouped total_num_itrs = 791\n"
          ]
        },
        {
          "data": {
            "application/vnd.jupyter.widget-view+json": {
              "model_id": "44e67704ca5440ffaa3715701e6124f2",
              "version_major": 2,
              "version_minor": 0
            },
            "text/plain": [
              "train epoch 27:   0%|          | 0/791 [00:00<?, ?it/s]"
            ]
          },
          "metadata": {},
          "output_type": "display_data"
        },
        {
          "name": "stderr",
          "output_type": "stream",
          "text": [
            "2023-04-03 16:28:03 | INFO | hw5.seq2seq | training loss: 3.9656\n",
            "2023-04-03 16:28:03 | INFO | hw5.seq2seq | begin validation\n"
          ]
        },
        {
          "data": {
            "application/vnd.jupyter.widget-view+json": {
              "model_id": "44629bc7380e460891bcbef7ebf60610",
              "version_major": 2,
              "version_minor": 0
            },
            "text/plain": [
              "validation:   0%|          | 0/22 [00:00<?, ?it/s]"
            ]
          },
          "metadata": {},
          "output_type": "display_data"
        },
        {
          "name": "stderr",
          "output_type": "stream",
          "text": [
            "2023-04-03 16:28:20 | INFO | hw5.seq2seq | example source: particularly since september 11 the law has fallen down on the job , and we do not have the rules in place that we need .\n",
            "2023-04-03 16:28:20 | INFO | hw5.seq2seq | example hypothesis: 特別是 , 在九月11日 , 我們沒有規則 , 我們也沒有規則我們需要的 。\n",
            "2023-04-03 16:28:20 | INFO | hw5.seq2seq | example reference: 特別是911之後 , 法律更是沒有做到這一點 , 且我們所需要的法律還沒有就緒 。\n",
            "2023-04-03 16:28:20 | INFO | hw5.seq2seq | validation loss:\t3.8395\n",
            "2023-04-03 16:28:20 | INFO | hw5.seq2seq | BLEU = 18.04 46.8/24.0/13.2/7.6 (BP = 0.983 ratio = 0.983 hyp_len = 109909 ref_len = 111811)\n",
            "2023-04-03 16:28:20 | INFO | hw5.seq2seq | saved epoch checkpoint: d:\\Wei-shun Bao\\Learning\\Codes\\ML2022-Spring\\HW05\\checkpoints\\rnn/checkpoint27.pt\n",
            "2023-04-03 16:28:20 | INFO | hw5.seq2seq | end of epoch 27\n",
            "2023-04-03 16:28:20 | INFO | fairseq.data.iterators | grouped total_num_itrs = 791\n"
          ]
        },
        {
          "data": {
            "application/vnd.jupyter.widget-view+json": {
              "model_id": "562138a53ee8470484fcaadda6345479",
              "version_major": 2,
              "version_minor": 0
            },
            "text/plain": [
              "train epoch 28:   0%|          | 0/791 [00:00<?, ?it/s]"
            ]
          },
          "metadata": {},
          "output_type": "display_data"
        },
        {
          "name": "stderr",
          "output_type": "stream",
          "text": [
            "2023-04-03 16:29:51 | INFO | hw5.seq2seq | training loss: 3.9545\n",
            "2023-04-03 16:29:51 | INFO | hw5.seq2seq | begin validation\n"
          ]
        },
        {
          "data": {
            "application/vnd.jupyter.widget-view+json": {
              "model_id": "18d0b14418394234a91a2b25e7643ad9",
              "version_major": 2,
              "version_minor": 0
            },
            "text/plain": [
              "validation:   0%|          | 0/22 [00:00<?, ?it/s]"
            ]
          },
          "metadata": {},
          "output_type": "display_data"
        },
        {
          "name": "stderr",
          "output_type": "stream",
          "text": [
            "2023-04-03 16:30:09 | INFO | hw5.seq2seq | example source: today , the disease is still prevalent in 30 countries , most of which face other health crises that exacerbate tb and trigger latent cases .\n",
            "2023-04-03 16:30:09 | INFO | hw5.seq2seq | example hypothesis: 現今 , 疾病仍然在三十個國家中 , 大部分的健康危機都會出現在三十個國家中 , 大部分的健康危機都能在三十個國家中 , 大部分的健康危機都會出現在三十個國家中 。\n",
            "2023-04-03 16:30:09 | INFO | hw5.seq2seq | example reference: 結核病現今仍在三十個國家流行 , 大多數是有其他健康危機的國家 , 讓結核病惡化 , 觸發潛伏的案例 。\n",
            "2023-04-03 16:30:09 | INFO | hw5.seq2seq | validation loss:\t3.8315\n",
            "2023-04-03 16:30:09 | INFO | hw5.seq2seq | BLEU = 18.02 47.0/23.9/13.1/7.6 (BP = 0.986 ratio = 0.986 hyp_len = 110255 ref_len = 111811)\n",
            "2023-04-03 16:30:09 | INFO | hw5.seq2seq | saved epoch checkpoint: d:\\Wei-shun Bao\\Learning\\Codes\\ML2022-Spring\\HW05\\checkpoints\\rnn/checkpoint28.pt\n",
            "2023-04-03 16:30:09 | INFO | hw5.seq2seq | end of epoch 28\n",
            "2023-04-03 16:30:09 | INFO | fairseq.data.iterators | grouped total_num_itrs = 791\n"
          ]
        },
        {
          "data": {
            "application/vnd.jupyter.widget-view+json": {
              "model_id": "db908969548744e69e034d3c1043d2f8",
              "version_major": 2,
              "version_minor": 0
            },
            "text/plain": [
              "train epoch 29:   0%|          | 0/791 [00:00<?, ?it/s]"
            ]
          },
          "metadata": {},
          "output_type": "display_data"
        },
        {
          "name": "stderr",
          "output_type": "stream",
          "text": [
            "2023-04-03 16:31:40 | INFO | hw5.seq2seq | training loss: 3.9473\n",
            "2023-04-03 16:31:40 | INFO | hw5.seq2seq | begin validation\n"
          ]
        },
        {
          "data": {
            "application/vnd.jupyter.widget-view+json": {
              "model_id": "3ebf759e0dfc4dbaa82621567dce3c07",
              "version_major": 2,
              "version_minor": 0
            },
            "text/plain": [
              "validation:   0%|          | 0/22 [00:00<?, ?it/s]"
            ]
          },
          "metadata": {},
          "output_type": "display_data"
        },
        {
          "name": "stderr",
          "output_type": "stream",
          "text": [
            "2023-04-03 16:31:58 | INFO | hw5.seq2seq | example source: and so his dad couldn't necessarily afford to buy all these custom controllers .\n",
            "2023-04-03 16:31:58 | INFO | hw5.seq2seq | example hypothesis: 所以他爸爸無法負擔得起所有這些客戶 。\n",
            "2023-04-03 16:31:58 | INFO | hw5.seq2seq | example reference: 他的父親實在無法負擔量身訂做的控制器\n",
            "2023-04-03 16:31:58 | INFO | hw5.seq2seq | validation loss:\t3.8244\n",
            "2023-04-03 16:31:58 | INFO | hw5.seq2seq | BLEU = 18.10 46.5/23.7/13.0/7.5 (BP = 1.000 ratio = 1.010 hyp_len = 112905 ref_len = 111811)\n",
            "2023-04-03 16:31:58 | INFO | hw5.seq2seq | saved epoch checkpoint: d:\\Wei-shun Bao\\Learning\\Codes\\ML2022-Spring\\HW05\\checkpoints\\rnn/checkpoint29.pt\n",
            "2023-04-03 16:31:58 | INFO | hw5.seq2seq | end of epoch 29\n",
            "2023-04-03 16:31:58 | INFO | fairseq.data.iterators | grouped total_num_itrs = 791\n"
          ]
        },
        {
          "data": {
            "application/vnd.jupyter.widget-view+json": {
              "model_id": "6c2112af26364703b1324ee75418ef22",
              "version_major": 2,
              "version_minor": 0
            },
            "text/plain": [
              "train epoch 30:   0%|          | 0/791 [00:00<?, ?it/s]"
            ]
          },
          "metadata": {},
          "output_type": "display_data"
        },
        {
          "name": "stderr",
          "output_type": "stream",
          "text": [
            "2023-04-03 16:33:30 | INFO | hw5.seq2seq | training loss: 3.9394\n",
            "2023-04-03 16:33:30 | INFO | hw5.seq2seq | begin validation\n"
          ]
        },
        {
          "data": {
            "application/vnd.jupyter.widget-view+json": {
              "model_id": "e6cec502ebfc43738e234ef432ad8e71",
              "version_major": 2,
              "version_minor": 0
            },
            "text/plain": [
              "validation:   0%|          | 0/22 [00:00<?, ?it/s]"
            ]
          },
          "metadata": {},
          "output_type": "display_data"
        },
        {
          "name": "stderr",
          "output_type": "stream",
          "text": [
            "2023-04-03 16:33:48 | INFO | hw5.seq2seq | example source: the rock that kanzi is using is extremely hard and ideal for stone tool making , but difficult to handle , requiring great skill .\n",
            "2023-04-03 16:33:48 | INFO | hw5.seq2seq | example hypothesis: 石油的石油是非常困難的 , 需要非常困難的 , 需要很棒的技巧 。\n",
            "2023-04-03 16:33:48 | INFO | hw5.seq2seq | example reference: kanzi用的石頭非常硬很適合拿來做成工具 , 卻很難使用需要很多的技巧\n",
            "2023-04-03 16:33:48 | INFO | hw5.seq2seq | validation loss:\t3.8202\n",
            "2023-04-03 16:33:48 | INFO | hw5.seq2seq | BLEU = 18.06 47.0/24.0/13.2/7.6 (BP = 0.983 ratio = 0.983 hyp_len = 109936 ref_len = 111811)\n",
            "2023-04-03 16:33:48 | INFO | hw5.seq2seq | saved epoch checkpoint: d:\\Wei-shun Bao\\Learning\\Codes\\ML2022-Spring\\HW05\\checkpoints\\rnn/checkpoint30.pt\n",
            "2023-04-03 16:33:48 | INFO | hw5.seq2seq | end of epoch 30\n",
            "2023-04-03 16:33:48 | INFO | fairseq.data.iterators | grouped total_num_itrs = 791\n"
          ]
        },
        {
          "data": {
            "application/vnd.jupyter.widget-view+json": {
              "model_id": "d16e72381180494cb0083142748d86c4",
              "version_major": 2,
              "version_minor": 0
            },
            "text/plain": [
              "train epoch 31:   0%|          | 0/791 [00:00<?, ?it/s]"
            ]
          },
          "metadata": {},
          "output_type": "display_data"
        },
        {
          "name": "stderr",
          "output_type": "stream",
          "text": [
            "2023-04-03 16:35:19 | INFO | hw5.seq2seq | training loss: 3.9310\n",
            "2023-04-03 16:35:19 | INFO | hw5.seq2seq | begin validation\n"
          ]
        },
        {
          "data": {
            "application/vnd.jupyter.widget-view+json": {
              "model_id": "ef48464f1f364d428f467f03c02fba86",
              "version_major": 2,
              "version_minor": 0
            },
            "text/plain": [
              "validation:   0%|          | 0/22 [00:00<?, ?it/s]"
            ]
          },
          "metadata": {},
          "output_type": "display_data"
        },
        {
          "name": "stderr",
          "output_type": "stream",
          "text": [
            "2023-04-03 16:35:37 | INFO | hw5.seq2seq | example source: you know ?\n",
            "2023-04-03 16:35:37 | INFO | hw5.seq2seq | example hypothesis: 你知道嗎 ?\n",
            "2023-04-03 16:35:37 | INFO | hw5.seq2seq | example reference: 你知道嗎 ?\n",
            "2023-04-03 16:35:37 | INFO | hw5.seq2seq | validation loss:\t3.8262\n",
            "2023-04-03 16:35:37 | INFO | hw5.seq2seq | BLEU = 18.02 46.0/23.6/13.0/7.5 (BP = 1.000 ratio = 1.012 hyp_len = 113139 ref_len = 111811)\n",
            "2023-04-03 16:35:37 | INFO | hw5.seq2seq | saved epoch checkpoint: d:\\Wei-shun Bao\\Learning\\Codes\\ML2022-Spring\\HW05\\checkpoints\\rnn/checkpoint31.pt\n",
            "2023-04-03 16:35:37 | INFO | hw5.seq2seq | end of epoch 31\n",
            "2023-04-03 16:35:37 | INFO | fairseq.data.iterators | grouped total_num_itrs = 791\n"
          ]
        },
        {
          "data": {
            "application/vnd.jupyter.widget-view+json": {
              "model_id": "eca44b428f4247fb9c654e41dd5267e5",
              "version_major": 2,
              "version_minor": 0
            },
            "text/plain": [
              "train epoch 32:   0%|          | 0/791 [00:00<?, ?it/s]"
            ]
          },
          "metadata": {},
          "output_type": "display_data"
        },
        {
          "name": "stderr",
          "output_type": "stream",
          "text": [
            "2023-04-03 16:37:08 | INFO | hw5.seq2seq | training loss: 3.9266\n",
            "2023-04-03 16:37:08 | INFO | hw5.seq2seq | begin validation\n"
          ]
        },
        {
          "data": {
            "application/vnd.jupyter.widget-view+json": {
              "model_id": "43f7ffa6a351435799a052ff08e4c26f",
              "version_major": 2,
              "version_minor": 0
            },
            "text/plain": [
              "validation:   0%|          | 0/22 [00:00<?, ?it/s]"
            ]
          },
          "metadata": {},
          "output_type": "display_data"
        },
        {
          "name": "stderr",
          "output_type": "stream",
          "text": [
            "2023-04-03 16:37:26 | INFO | hw5.seq2seq | example source: well you can't get much bigger than pi , the mathematical constant .\n",
            "2023-04-03 16:37:26 | INFO | hw5.seq2seq | example hypothesis: 你不能比它更大 , 數學經常 。\n",
            "2023-04-03 16:37:26 | INFO | hw5.seq2seq | example reference: 沒有任何數字比pi更無限 , π是數學常數 。\n",
            "2023-04-03 16:37:26 | INFO | hw5.seq2seq | validation loss:\t3.8158\n",
            "2023-04-03 16:37:26 | INFO | hw5.seq2seq | BLEU = 17.63 45.3/23.0/12.7/7.3 (BP = 1.000 ratio = 1.044 hyp_len = 116714 ref_len = 111811)\n",
            "2023-04-03 16:37:26 | INFO | hw5.seq2seq | saved epoch checkpoint: d:\\Wei-shun Bao\\Learning\\Codes\\ML2022-Spring\\HW05\\checkpoints\\rnn/checkpoint32.pt\n",
            "2023-04-03 16:37:26 | INFO | hw5.seq2seq | end of epoch 32\n",
            "2023-04-03 16:37:26 | INFO | fairseq.data.iterators | grouped total_num_itrs = 791\n"
          ]
        },
        {
          "data": {
            "application/vnd.jupyter.widget-view+json": {
              "model_id": "bf7ec6ecf69848f98e09a440d600b07f",
              "version_major": 2,
              "version_minor": 0
            },
            "text/plain": [
              "train epoch 33:   0%|          | 0/791 [00:00<?, ?it/s]"
            ]
          },
          "metadata": {},
          "output_type": "display_data"
        },
        {
          "name": "stderr",
          "output_type": "stream",
          "text": [
            "2023-04-03 16:38:57 | INFO | hw5.seq2seq | training loss: 3.9200\n",
            "2023-04-03 16:38:57 | INFO | hw5.seq2seq | begin validation\n"
          ]
        },
        {
          "data": {
            "application/vnd.jupyter.widget-view+json": {
              "model_id": "d279501b66aa43acb3a5623d9f39e32b",
              "version_major": 2,
              "version_minor": 0
            },
            "text/plain": [
              "validation:   0%|          | 0/22 [00:00<?, ?it/s]"
            ]
          },
          "metadata": {},
          "output_type": "display_data"
        },
        {
          "name": "stderr",
          "output_type": "stream",
          "text": [
            "2023-04-03 16:39:14 | INFO | hw5.seq2seq | example source: it's bright and peaceful , and when you stand up in front of it , it's really hard to believe these were military barracks at the end of the '40s .\n",
            "2023-04-03 16:39:14 | INFO | hw5.seq2seq | example hypothesis: 這很明顯和平 , 但當你站在前面的時候 , 很難相信這些軍隊在四零年代末端 。\n",
            "2023-04-03 16:39:14 | INFO | hw5.seq2seq | example reference: 明亮而平和 , 而當你站在它前面時 , 很難相信這裡曾經是40年代末的軍事堡壘 。\n",
            "2023-04-03 16:39:14 | INFO | hw5.seq2seq | validation loss:\t3.8148\n",
            "2023-04-03 16:39:14 | INFO | hw5.seq2seq | BLEU = 18.16 47.3/24.2/13.3/7.7 (BP = 0.981 ratio = 0.982 hyp_len = 109745 ref_len = 111811)\n",
            "2023-04-03 16:39:14 | INFO | hw5.seq2seq | saved epoch checkpoint: d:\\Wei-shun Bao\\Learning\\Codes\\ML2022-Spring\\HW05\\checkpoints\\rnn/checkpoint33.pt\n",
            "2023-04-03 16:39:14 | INFO | hw5.seq2seq | end of epoch 33\n",
            "2023-04-03 16:39:14 | INFO | fairseq.data.iterators | grouped total_num_itrs = 791\n"
          ]
        },
        {
          "data": {
            "application/vnd.jupyter.widget-view+json": {
              "model_id": "f59e5863179643e3b878da35aa331d57",
              "version_major": 2,
              "version_minor": 0
            },
            "text/plain": [
              "train epoch 34:   0%|          | 0/791 [00:00<?, ?it/s]"
            ]
          },
          "metadata": {},
          "output_type": "display_data"
        },
        {
          "name": "stderr",
          "output_type": "stream",
          "text": [
            "2023-04-03 16:40:43 | INFO | hw5.seq2seq | training loss: 3.9138\n",
            "2023-04-03 16:40:43 | INFO | hw5.seq2seq | begin validation\n"
          ]
        },
        {
          "data": {
            "application/vnd.jupyter.widget-view+json": {
              "model_id": "ca65512f1e014605868c61e7c83e2017",
              "version_major": 2,
              "version_minor": 0
            },
            "text/plain": [
              "validation:   0%|          | 0/22 [00:00<?, ?it/s]"
            ]
          },
          "metadata": {},
          "output_type": "display_data"
        },
        {
          "name": "stderr",
          "output_type": "stream",
          "text": [
            "2023-04-03 16:41:00 | INFO | hw5.seq2seq | example source: this response has evolved from the physiological mechanism designed to make sure we can survive in a crisis .\n",
            "2023-04-03 16:41:00 | INFO | hw5.seq2seq | example hypothesis: 這個反應來自生理機制設計的確保我們可以生存在危機中 。\n",
            "2023-04-03 16:41:00 | INFO | hw5.seq2seq | example reference: 這是心理機制進化的反應 , 目的是使我們能夠應付危機 , 生存下來 。\n",
            "2023-04-03 16:41:00 | INFO | hw5.seq2seq | validation loss:\t3.8092\n",
            "2023-04-03 16:41:00 | INFO | hw5.seq2seq | BLEU = 17.39 44.7/22.8/12.5/7.2 (BP = 1.000 ratio = 1.070 hyp_len = 119594 ref_len = 111811)\n",
            "2023-04-03 16:41:00 | INFO | hw5.seq2seq | saved epoch checkpoint: d:\\Wei-shun Bao\\Learning\\Codes\\ML2022-Spring\\HW05\\checkpoints\\rnn/checkpoint34.pt\n",
            "2023-04-03 16:41:00 | INFO | hw5.seq2seq | end of epoch 34\n",
            "2023-04-03 16:41:00 | INFO | fairseq.data.iterators | grouped total_num_itrs = 791\n"
          ]
        },
        {
          "data": {
            "application/vnd.jupyter.widget-view+json": {
              "model_id": "17bffdaf4d1045eabd04e9a4e975b3dc",
              "version_major": 2,
              "version_minor": 0
            },
            "text/plain": [
              "train epoch 35:   0%|          | 0/791 [00:00<?, ?it/s]"
            ]
          },
          "metadata": {},
          "output_type": "display_data"
        },
        {
          "name": "stderr",
          "output_type": "stream",
          "text": [
            "2023-04-03 16:42:27 | INFO | hw5.seq2seq | training loss: 3.9087\n",
            "2023-04-03 16:42:27 | INFO | hw5.seq2seq | begin validation\n"
          ]
        },
        {
          "data": {
            "application/vnd.jupyter.widget-view+json": {
              "model_id": "09446dc246a049cb8c37a992868ba279",
              "version_major": 2,
              "version_minor": 0
            },
            "text/plain": [
              "validation:   0%|          | 0/22 [00:00<?, ?it/s]"
            ]
          },
          "metadata": {},
          "output_type": "display_data"
        },
        {
          "name": "stderr",
          "output_type": "stream",
          "text": [
            "2023-04-03 16:42:45 | INFO | hw5.seq2seq | example source: all cacilda and i have done is extend this sharing behavior to sexuality .\n",
            "2023-04-03 16:42:45 | INFO | hw5.seq2seq | example hypothesis: 所有cacia和我的行為 , 都將這種行為轉變為性行為 。\n",
            "2023-04-03 16:42:45 | INFO | hw5.seq2seq | example reference: 卡欣達和我一直以來所探討的是 , 將這種共享行為延伸到性行為 ,\n",
            "2023-04-03 16:42:45 | INFO | hw5.seq2seq | validation loss:\t3.8051\n",
            "2023-04-03 16:42:45 | INFO | hw5.seq2seq | BLEU = 17.00 43.9/22.3/12.2/7.0 (BP = 1.000 ratio = 1.094 hyp_len = 122305 ref_len = 111811)\n",
            "2023-04-03 16:42:45 | INFO | hw5.seq2seq | saved epoch checkpoint: d:\\Wei-shun Bao\\Learning\\Codes\\ML2022-Spring\\HW05\\checkpoints\\rnn/checkpoint35.pt\n",
            "2023-04-03 16:42:45 | INFO | hw5.seq2seq | end of epoch 35\n",
            "2023-04-03 16:42:45 | INFO | fairseq.data.iterators | grouped total_num_itrs = 791\n"
          ]
        },
        {
          "data": {
            "application/vnd.jupyter.widget-view+json": {
              "model_id": "eede41333088417eb0bf8dcb07232f12",
              "version_major": 2,
              "version_minor": 0
            },
            "text/plain": [
              "train epoch 36:   0%|          | 0/791 [00:00<?, ?it/s]"
            ]
          },
          "metadata": {},
          "output_type": "display_data"
        },
        {
          "name": "stderr",
          "output_type": "stream",
          "text": [
            "2023-04-03 16:44:12 | INFO | hw5.seq2seq | training loss: 3.9033\n",
            "2023-04-03 16:44:12 | INFO | hw5.seq2seq | begin validation\n"
          ]
        },
        {
          "data": {
            "application/vnd.jupyter.widget-view+json": {
              "model_id": "cf5d6b964c624ebea105a91ee282daf7",
              "version_major": 2,
              "version_minor": 0
            },
            "text/plain": [
              "validation:   0%|          | 0/22 [00:00<?, ?it/s]"
            ]
          },
          "metadata": {},
          "output_type": "display_data"
        },
        {
          "name": "stderr",
          "output_type": "stream",
          "text": [
            "2023-04-03 16:44:29 | INFO | hw5.seq2seq | example source: i will take those now . thank you all of you that did this .\n",
            "2023-04-03 16:44:29 | INFO | hw5.seq2seq | example hypothesis: 今天我要給大家看 , 謝謝你們 。 謝謝大家 。\n",
            "2023-04-03 16:44:29 | INFO | hw5.seq2seq | example reference: 現在都在我手上了 。 謝謝大家的配合 。\n",
            "2023-04-03 16:44:29 | INFO | hw5.seq2seq | validation loss:\t3.7978\n",
            "2023-04-03 16:44:29 | INFO | hw5.seq2seq | BLEU = 18.11 46.2/23.6/13.0/7.6 (BP = 1.000 ratio = 1.022 hyp_len = 114244 ref_len = 111811)\n",
            "2023-04-03 16:44:29 | INFO | hw5.seq2seq | saved epoch checkpoint: d:\\Wei-shun Bao\\Learning\\Codes\\ML2022-Spring\\HW05\\checkpoints\\rnn/checkpoint36.pt\n",
            "2023-04-03 16:44:29 | INFO | hw5.seq2seq | end of epoch 36\n",
            "2023-04-03 16:44:29 | INFO | fairseq.data.iterators | grouped total_num_itrs = 791\n"
          ]
        },
        {
          "data": {
            "application/vnd.jupyter.widget-view+json": {
              "model_id": "5390c159ebf846ac88b6104601bb884b",
              "version_major": 2,
              "version_minor": 0
            },
            "text/plain": [
              "train epoch 37:   0%|          | 0/791 [00:00<?, ?it/s]"
            ]
          },
          "metadata": {},
          "output_type": "display_data"
        },
        {
          "name": "stderr",
          "output_type": "stream",
          "text": [
            "2023-04-03 16:45:57 | INFO | hw5.seq2seq | training loss: 3.8963\n",
            "2023-04-03 16:45:57 | INFO | hw5.seq2seq | begin validation\n"
          ]
        },
        {
          "data": {
            "application/vnd.jupyter.widget-view+json": {
              "model_id": "f6669d5c681846ecb6373b3463d58986",
              "version_major": 2,
              "version_minor": 0
            },
            "text/plain": [
              "validation:   0%|          | 0/22 [00:00<?, ?it/s]"
            ]
          },
          "metadata": {},
          "output_type": "display_data"
        },
        {
          "name": "stderr",
          "output_type": "stream",
          "text": [
            "2023-04-03 16:46:13 | INFO | hw5.seq2seq | example source: they don't feel different .\n",
            "2023-04-03 16:46:13 | INFO | hw5.seq2seq | example hypothesis: 他們感覺不一樣 。\n",
            "2023-04-03 16:46:13 | INFO | hw5.seq2seq | example reference: 他們不會感覺不同 。\n",
            "2023-04-03 16:46:13 | INFO | hw5.seq2seq | validation loss:\t3.7995\n",
            "2023-04-03 16:46:13 | INFO | hw5.seq2seq | BLEU = 18.30 47.4/24.3/13.4/7.7 (BP = 0.986 ratio = 0.987 hyp_len = 110309 ref_len = 111811)\n",
            "2023-04-03 16:46:13 | INFO | hw5.seq2seq | saved epoch checkpoint: d:\\Wei-shun Bao\\Learning\\Codes\\ML2022-Spring\\HW05\\checkpoints\\rnn/checkpoint37.pt\n",
            "2023-04-03 16:46:13 | INFO | hw5.seq2seq | end of epoch 37\n",
            "2023-04-03 16:46:13 | INFO | fairseq.data.iterators | grouped total_num_itrs = 791\n"
          ]
        },
        {
          "data": {
            "application/vnd.jupyter.widget-view+json": {
              "model_id": "621d7b95472f4629a7ffed4e6f767030",
              "version_major": 2,
              "version_minor": 0
            },
            "text/plain": [
              "train epoch 38:   0%|          | 0/791 [00:00<?, ?it/s]"
            ]
          },
          "metadata": {},
          "output_type": "display_data"
        },
        {
          "name": "stderr",
          "output_type": "stream",
          "text": [
            "2023-04-03 16:47:41 | INFO | hw5.seq2seq | training loss: 3.8893\n",
            "2023-04-03 16:47:41 | INFO | hw5.seq2seq | begin validation\n"
          ]
        },
        {
          "data": {
            "application/vnd.jupyter.widget-view+json": {
              "model_id": "8ebc5c49ad854b5bb00ea40c7a9162d1",
              "version_major": 2,
              "version_minor": 0
            },
            "text/plain": [
              "validation:   0%|          | 0/22 [00:00<?, ?it/s]"
            ]
          },
          "metadata": {},
          "output_type": "display_data"
        },
        {
          "name": "stderr",
          "output_type": "stream",
          "text": [
            "2023-04-03 16:47:57 | INFO | hw5.seq2seq | example source: so , i was able to launch a threeyear project with caritas germany , and we trained 30 afghan women and men , and we opened 15 counseling centers in kabul .\n",
            "2023-04-03 16:47:57 | INFO | hw5.seq2seq | example hypothesis: 所以 , 我開了三年的 「 卡拉德國 」 , 我們訓練了30位阿富汗婦女和男人 , 我們開了十五位在卡拉德國的專案 。\n",
            "2023-04-03 16:47:57 | INFO | hw5.seq2seq | example reference: 因此 , 我就與德國慈善社發起了一個為期三年的計畫 , 我們訓練了30名阿富汗男女 , 我們在喀布爾創建了15個諮詢中心 。\n",
            "2023-04-03 16:47:57 | INFO | hw5.seq2seq | validation loss:\t3.7991\n",
            "2023-04-03 16:47:57 | INFO | hw5.seq2seq | BLEU = 18.44 47.0/24.1/13.3/7.7 (BP = 0.998 ratio = 0.998 hyp_len = 111642 ref_len = 111811)\n",
            "2023-04-03 16:47:57 | INFO | hw5.seq2seq | saved epoch checkpoint: d:\\Wei-shun Bao\\Learning\\Codes\\ML2022-Spring\\HW05\\checkpoints\\rnn/checkpoint38.pt\n",
            "2023-04-03 16:47:57 | INFO | hw5.seq2seq | end of epoch 38\n",
            "2023-04-03 16:47:57 | INFO | fairseq.data.iterators | grouped total_num_itrs = 791\n"
          ]
        },
        {
          "data": {
            "application/vnd.jupyter.widget-view+json": {
              "model_id": "85951a69514d47039496bba3e1e23d18",
              "version_major": 2,
              "version_minor": 0
            },
            "text/plain": [
              "train epoch 39:   0%|          | 0/791 [00:00<?, ?it/s]"
            ]
          },
          "metadata": {},
          "output_type": "display_data"
        },
        {
          "name": "stderr",
          "output_type": "stream",
          "text": [
            "2023-04-03 16:49:25 | INFO | hw5.seq2seq | training loss: 3.8866\n",
            "2023-04-03 16:49:25 | INFO | hw5.seq2seq | begin validation\n"
          ]
        },
        {
          "data": {
            "application/vnd.jupyter.widget-view+json": {
              "model_id": "17b59cc17ec1426bb111f73416c0b0da",
              "version_major": 2,
              "version_minor": 0
            },
            "text/plain": [
              "validation:   0%|          | 0/22 [00:00<?, ?it/s]"
            ]
          },
          "metadata": {},
          "output_type": "display_data"
        },
        {
          "name": "stderr",
          "output_type": "stream",
          "text": [
            "2023-04-03 16:49:42 | INFO | hw5.seq2seq | example source: it also means that if an artist wants to invade something like a swimming pool , they can begin to do their exhibition in a swimming pool , so they're not forced to always work within the confines of a contemporary gallery space .\n",
            "2023-04-03 16:49:42 | INFO | hw5.seq2seq | example hypothesis: 意思是 , 如果藝術家想要侵入像游泳池一樣 , 牠們可以開始在游泳池裡做實驗 , 所以他們不會被迫要像游泳池一樣 , 牠們可以開始在游泳池裡做實驗 , 牠們可以開始在游泳池裡玩耍 , 這樣他們就不會被迫在游泳池裡 。\n",
            "2023-04-03 16:49:42 | INFO | hw5.seq2seq | example reference: 這也意味著 , 如果藝術家想要選擇游泳池 , 他們能在游泳池開個畫展 , 而不需要總是局限於展覽館的空間.那麼這個怎麼建呢.\n",
            "2023-04-03 16:49:42 | INFO | hw5.seq2seq | validation loss:\t3.7954\n",
            "2023-04-03 16:49:42 | INFO | hw5.seq2seq | BLEU = 18.35 47.4/24.4/13.5/7.9 (BP = 0.980 ratio = 0.980 hyp_len = 109581 ref_len = 111811)\n",
            "2023-04-03 16:49:42 | INFO | hw5.seq2seq | saved epoch checkpoint: d:\\Wei-shun Bao\\Learning\\Codes\\ML2022-Spring\\HW05\\checkpoints\\rnn/checkpoint39.pt\n",
            "2023-04-03 16:49:42 | INFO | hw5.seq2seq | end of epoch 39\n",
            "2023-04-03 16:49:42 | INFO | fairseq.data.iterators | grouped total_num_itrs = 791\n"
          ]
        },
        {
          "data": {
            "application/vnd.jupyter.widget-view+json": {
              "model_id": "fa7add705348471cbf27d8efa26f6d9c",
              "version_major": 2,
              "version_minor": 0
            },
            "text/plain": [
              "train epoch 40:   0%|          | 0/791 [00:00<?, ?it/s]"
            ]
          },
          "metadata": {},
          "output_type": "display_data"
        },
        {
          "name": "stderr",
          "output_type": "stream",
          "text": [
            "2023-04-03 16:51:09 | INFO | hw5.seq2seq | training loss: 3.8822\n",
            "2023-04-03 16:51:09 | INFO | hw5.seq2seq | begin validation\n"
          ]
        },
        {
          "data": {
            "application/vnd.jupyter.widget-view+json": {
              "model_id": "ea5a11fa980f4b08b7b2e55e547ba124",
              "version_major": 2,
              "version_minor": 0
            },
            "text/plain": [
              "validation:   0%|          | 0/22 [00:00<?, ?it/s]"
            ]
          },
          "metadata": {},
          "output_type": "display_data"
        },
        {
          "name": "stderr",
          "output_type": "stream",
          "text": [
            "2023-04-03 16:51:25 | INFO | hw5.seq2seq | example source: his vision was pretty poor .\n",
            "2023-04-03 16:51:25 | INFO | hw5.seq2seq | example hypothesis: 他的視力非常窮 。\n",
            "2023-04-03 16:51:25 | INFO | hw5.seq2seq | example reference: 視力非常差 。\n",
            "2023-04-03 16:51:25 | INFO | hw5.seq2seq | validation loss:\t3.8005\n",
            "2023-04-03 16:51:25 | INFO | hw5.seq2seq | BLEU = 18.48 48.8/25.2/13.9/8.1 (BP = 0.957 ratio = 0.957 hyp_len = 107057 ref_len = 111811)\n",
            "2023-04-03 16:51:25 | INFO | hw5.seq2seq | saved epoch checkpoint: d:\\Wei-shun Bao\\Learning\\Codes\\ML2022-Spring\\HW05\\checkpoints\\rnn/checkpoint40.pt\n",
            "2023-04-03 16:51:25 | INFO | hw5.seq2seq | end of epoch 40\n",
            "2023-04-03 16:51:25 | INFO | fairseq.data.iterators | grouped total_num_itrs = 791\n"
          ]
        },
        {
          "data": {
            "application/vnd.jupyter.widget-view+json": {
              "model_id": "58758b3d711a42a78abfef844edabf5a",
              "version_major": 2,
              "version_minor": 0
            },
            "text/plain": [
              "train epoch 41:   0%|          | 0/791 [00:00<?, ?it/s]"
            ]
          },
          "metadata": {},
          "output_type": "display_data"
        },
        {
          "name": "stderr",
          "output_type": "stream",
          "text": [
            "2023-04-03 16:52:53 | INFO | hw5.seq2seq | training loss: 3.8774\n",
            "2023-04-03 16:52:53 | INFO | hw5.seq2seq | begin validation\n"
          ]
        },
        {
          "data": {
            "application/vnd.jupyter.widget-view+json": {
              "model_id": "247ebaecdd234cad98dc70106cb6bdde",
              "version_major": 2,
              "version_minor": 0
            },
            "text/plain": [
              "validation:   0%|          | 0/22 [00:00<?, ?it/s]"
            ]
          },
          "metadata": {},
          "output_type": "display_data"
        },
        {
          "name": "stderr",
          "output_type": "stream",
          "text": [
            "2023-04-03 16:53:10 | INFO | hw5.seq2seq | example source: the first thing i began to notice: how many big concepts were emerging from the wisdom of crowds to smart mobs around how ridiculously easy it is to form groups for a purpose .\n",
            "2023-04-03 16:53:10 | INFO | hw5.seq2seq | example hypothesis: 首先 , 我開始注意到 , 多大的概念來自於群眾智慧的智慧型態度 , 有多大的概念 , 由群眾的智慧型態度所構成的 , 很容易成為目標 。\n",
            "2023-04-03 16:53:10 | INFO | hw5.seq2seq | example reference: 我注意到的第一件事是--很多大概念慢慢出現烏合之眾的群體智慧為了共同目標而聚集變成多麼簡單的一件事\n",
            "2023-04-03 16:53:10 | INFO | hw5.seq2seq | validation loss:\t3.7982\n",
            "2023-04-03 16:53:10 | INFO | hw5.seq2seq | BLEU = 18.10 46.1/23.6/13.0/7.6 (BP = 1.000 ratio = 1.024 hyp_len = 114492 ref_len = 111811)\n",
            "2023-04-03 16:53:10 | INFO | hw5.seq2seq | saved epoch checkpoint: d:\\Wei-shun Bao\\Learning\\Codes\\ML2022-Spring\\HW05\\checkpoints\\rnn/checkpoint41.pt\n",
            "2023-04-03 16:53:10 | INFO | hw5.seq2seq | end of epoch 41\n",
            "2023-04-03 16:53:10 | INFO | fairseq.data.iterators | grouped total_num_itrs = 791\n"
          ]
        },
        {
          "data": {
            "application/vnd.jupyter.widget-view+json": {
              "model_id": "174c61002d8a49449ee0a9000aad0f54",
              "version_major": 2,
              "version_minor": 0
            },
            "text/plain": [
              "train epoch 42:   0%|          | 0/791 [00:00<?, ?it/s]"
            ]
          },
          "metadata": {},
          "output_type": "display_data"
        },
        {
          "name": "stderr",
          "output_type": "stream",
          "text": [
            "2023-04-03 16:54:37 | INFO | hw5.seq2seq | training loss: 3.8736\n",
            "2023-04-03 16:54:37 | INFO | hw5.seq2seq | begin validation\n"
          ]
        },
        {
          "data": {
            "application/vnd.jupyter.widget-view+json": {
              "model_id": "4a20e493dc7342bc9567f5670ccd09fd",
              "version_major": 2,
              "version_minor": 0
            },
            "text/plain": [
              "validation:   0%|          | 0/22 [00:00<?, ?it/s]"
            ]
          },
          "metadata": {},
          "output_type": "display_data"
        },
        {
          "name": "stderr",
          "output_type": "stream",
          "text": [
            "2023-04-03 16:54:54 | INFO | hw5.seq2seq | example source: it's amazing , when you meet a head of state and you say , \" what is your most precious natural resource ? \" they will not say children at first .\n",
            "2023-04-03 16:54:54 | INFO | hw5.seq2seq | example hypothesis: 很神奇 , 當你遇到一個頭 , 你會問: 「 你最珍貴的自然資源是什麼 ? 」 他們不會說: 「 你最珍貴的自然資源是什麼 ? 」 他們不會說: 「 你最珍貴的自然資源是什麼 ? 」\n",
            "2023-04-03 16:54:54 | INFO | hw5.seq2seq | example reference: 這很美妙 , 當你遇到一個國家元首時 , 你說 , \" 你國家最珍貴的資源是甚麼 ? \" 他們不會第一時間說是兒童 。\n",
            "2023-04-03 16:54:54 | INFO | hw5.seq2seq | validation loss:\t3.7864\n",
            "2023-04-03 16:54:54 | INFO | hw5.seq2seq | BLEU = 18.78 47.4/24.4/13.5/7.9 (BP = 1.000 ratio = 1.004 hyp_len = 112287 ref_len = 111811)\n",
            "2023-04-03 16:54:54 | INFO | hw5.seq2seq | saved epoch checkpoint: d:\\Wei-shun Bao\\Learning\\Codes\\ML2022-Spring\\HW05\\checkpoints\\rnn/checkpoint42.pt\n",
            "2023-04-03 16:54:54 | INFO | hw5.seq2seq | end of epoch 42\n",
            "2023-04-03 16:54:54 | INFO | fairseq.data.iterators | grouped total_num_itrs = 791\n"
          ]
        },
        {
          "data": {
            "application/vnd.jupyter.widget-view+json": {
              "model_id": "cb2dca6b39374045844654d136cc65c8",
              "version_major": 2,
              "version_minor": 0
            },
            "text/plain": [
              "train epoch 43:   0%|          | 0/791 [00:00<?, ?it/s]"
            ]
          },
          "metadata": {},
          "output_type": "display_data"
        },
        {
          "name": "stderr",
          "output_type": "stream",
          "text": [
            "2023-04-03 16:56:22 | INFO | hw5.seq2seq | training loss: 3.8700\n",
            "2023-04-03 16:56:22 | INFO | hw5.seq2seq | begin validation\n"
          ]
        },
        {
          "data": {
            "application/vnd.jupyter.widget-view+json": {
              "model_id": "dea2b5dcbf4c4999b0b54a4ae0b4e65d",
              "version_major": 2,
              "version_minor": 0
            },
            "text/plain": [
              "validation:   0%|          | 0/22 [00:00<?, ?it/s]"
            ]
          },
          "metadata": {},
          "output_type": "display_data"
        },
        {
          "name": "stderr",
          "output_type": "stream",
          "text": [
            "2023-04-03 16:56:38 | INFO | hw5.seq2seq | example source: so i'm going to show you a movie where you're going to see that kind of dynamic .\n",
            "2023-04-03 16:56:38 | INFO | hw5.seq2seq | example hypothesis: 所以我要給你們看一部電影 , 你會看到這種動態 。\n",
            "2023-04-03 16:56:38 | INFO | hw5.seq2seq | example reference: 在我接下來要放的影片裡你們可以觀察到這樣的變化 。 這個實驗是從我們\n",
            "2023-04-03 16:56:38 | INFO | hw5.seq2seq | validation loss:\t3.7867\n",
            "2023-04-03 16:56:38 | INFO | hw5.seq2seq | BLEU = 18.09 45.9/23.6/13.1/7.6 (BP = 1.000 ratio = 1.042 hyp_len = 116501 ref_len = 111811)\n",
            "2023-04-03 16:56:38 | INFO | hw5.seq2seq | saved epoch checkpoint: d:\\Wei-shun Bao\\Learning\\Codes\\ML2022-Spring\\HW05\\checkpoints\\rnn/checkpoint43.pt\n",
            "2023-04-03 16:56:38 | INFO | hw5.seq2seq | end of epoch 43\n",
            "2023-04-03 16:56:38 | INFO | fairseq.data.iterators | grouped total_num_itrs = 791\n"
          ]
        },
        {
          "data": {
            "application/vnd.jupyter.widget-view+json": {
              "model_id": "e2b438a5d58944b496b71f67c499bada",
              "version_major": 2,
              "version_minor": 0
            },
            "text/plain": [
              "train epoch 44:   0%|          | 0/791 [00:00<?, ?it/s]"
            ]
          },
          "metadata": {},
          "output_type": "display_data"
        },
        {
          "name": "stderr",
          "output_type": "stream",
          "text": [
            "2023-04-03 16:58:06 | INFO | hw5.seq2seq | training loss: 3.8632\n",
            "2023-04-03 16:58:06 | INFO | hw5.seq2seq | begin validation\n"
          ]
        },
        {
          "data": {
            "application/vnd.jupyter.widget-view+json": {
              "model_id": "616413d652354f5bb2ca7cadd2065119",
              "version_major": 2,
              "version_minor": 0
            },
            "text/plain": [
              "validation:   0%|          | 0/22 [00:00<?, ?it/s]"
            ]
          },
          "metadata": {},
          "output_type": "display_data"
        },
        {
          "name": "stderr",
          "output_type": "stream",
          "text": [
            "2023-04-03 16:58:23 | INFO | hw5.seq2seq | example source: it would be so crowded , so full of structure , of wiring all connecting one neuron to another .\n",
            "2023-04-03 16:58:23 | INFO | hw5.seq2seq | example hypothesis: 它會變得非常擁擠 , 所以 , 整個結構 , 連接著一個神經元 , 都連接著一個神經元 。\n",
            "2023-04-03 16:58:23 | INFO | hw5.seq2seq | example reference: 因為空間太壅擠、結構太複雜了 , 神經元蜿蜒地一個接著一個 。\n",
            "2023-04-03 16:58:23 | INFO | hw5.seq2seq | validation loss:\t3.7821\n",
            "2023-04-03 16:58:23 | INFO | hw5.seq2seq | BLEU = 18.00 45.9/23.4/13.0/7.5 (BP = 1.000 ratio = 1.055 hyp_len = 117922 ref_len = 111811)\n",
            "2023-04-03 16:58:23 | INFO | hw5.seq2seq | saved epoch checkpoint: d:\\Wei-shun Bao\\Learning\\Codes\\ML2022-Spring\\HW05\\checkpoints\\rnn/checkpoint44.pt\n",
            "2023-04-03 16:58:23 | INFO | hw5.seq2seq | end of epoch 44\n",
            "2023-04-03 16:58:23 | INFO | fairseq.data.iterators | grouped total_num_itrs = 791\n"
          ]
        },
        {
          "data": {
            "application/vnd.jupyter.widget-view+json": {
              "model_id": "d3eeb44f317e43ab9e0848dbd761abf4",
              "version_major": 2,
              "version_minor": 0
            },
            "text/plain": [
              "train epoch 45:   0%|          | 0/791 [00:00<?, ?it/s]"
            ]
          },
          "metadata": {},
          "output_type": "display_data"
        },
        {
          "name": "stderr",
          "output_type": "stream",
          "text": [
            "2023-04-03 16:59:50 | INFO | hw5.seq2seq | training loss: 3.8610\n",
            "2023-04-03 16:59:50 | INFO | hw5.seq2seq | begin validation\n"
          ]
        },
        {
          "data": {
            "application/vnd.jupyter.widget-view+json": {
              "model_id": "324401a80e104748ac9a8135677f0ff9",
              "version_major": 2,
              "version_minor": 0
            },
            "text/plain": [
              "validation:   0%|          | 0/22 [00:00<?, ?it/s]"
            ]
          },
          "metadata": {},
          "output_type": "display_data"
        },
        {
          "name": "stderr",
          "output_type": "stream",
          "text": [
            "2023-04-03 17:00:07 | INFO | hw5.seq2seq | example source: he could give school kids in this community the beautiful fly trap you see above in the slide .\n",
            "2023-04-03 17:00:07 | INFO | hw5.seq2seq | example hypothesis: 他可以給學校的孩子們在這個社群美麗的飛機上 , 可以在投影片上跳舞 。\n",
            "2023-04-03 17:00:07 | INFO | hw5.seq2seq | example reference: 他可以給這個社區的學校孩童美麗的蒼蠅陷阱你可在上面那張照片上看到\n",
            "2023-04-03 17:00:07 | INFO | hw5.seq2seq | validation loss:\t3.7903\n",
            "2023-04-03 17:00:07 | INFO | hw5.seq2seq | BLEU = 18.63 48.7/25.1/14.0/8.2 (BP = 0.964 ratio = 0.965 hyp_len = 107844 ref_len = 111811)\n",
            "2023-04-03 17:00:07 | INFO | hw5.seq2seq | saved epoch checkpoint: d:\\Wei-shun Bao\\Learning\\Codes\\ML2022-Spring\\HW05\\checkpoints\\rnn/checkpoint45.pt\n",
            "2023-04-03 17:00:07 | INFO | hw5.seq2seq | end of epoch 45\n",
            "2023-04-03 17:00:07 | INFO | fairseq.data.iterators | grouped total_num_itrs = 791\n"
          ]
        },
        {
          "data": {
            "application/vnd.jupyter.widget-view+json": {
              "model_id": "0930ac61cd2642feac0bc3df679f3608",
              "version_major": 2,
              "version_minor": 0
            },
            "text/plain": [
              "train epoch 46:   0%|          | 0/791 [00:00<?, ?it/s]"
            ]
          },
          "metadata": {},
          "output_type": "display_data"
        },
        {
          "name": "stderr",
          "output_type": "stream",
          "text": [
            "2023-04-03 17:01:34 | INFO | hw5.seq2seq | training loss: 3.8574\n",
            "2023-04-03 17:01:34 | INFO | hw5.seq2seq | begin validation\n"
          ]
        },
        {
          "data": {
            "application/vnd.jupyter.widget-view+json": {
              "model_id": "62a09edda0bb43aab3b18eaef24459f4",
              "version_major": 2,
              "version_minor": 0
            },
            "text/plain": [
              "validation:   0%|          | 0/22 [00:00<?, ?it/s]"
            ]
          },
          "metadata": {},
          "output_type": "display_data"
        },
        {
          "name": "stderr",
          "output_type": "stream",
          "text": [
            "2023-04-03 17:01:51 | INFO | hw5.seq2seq | example source: so what could this mean ?\n",
            "2023-04-03 17:01:51 | INFO | hw5.seq2seq | example hypothesis: 這意味著什麼 ?\n",
            "2023-04-03 17:01:51 | INFO | hw5.seq2seq | example reference: 所以這代表著什麼呢 ?\n",
            "2023-04-03 17:01:51 | INFO | hw5.seq2seq | validation loss:\t3.7796\n",
            "2023-04-03 17:01:51 | INFO | hw5.seq2seq | BLEU = 18.16 46.1/23.7/13.1/7.6 (BP = 1.000 ratio = 1.049 hyp_len = 117261 ref_len = 111811)\n",
            "2023-04-03 17:01:51 | INFO | hw5.seq2seq | saved epoch checkpoint: d:\\Wei-shun Bao\\Learning\\Codes\\ML2022-Spring\\HW05\\checkpoints\\rnn/checkpoint46.pt\n",
            "2023-04-03 17:01:51 | INFO | hw5.seq2seq | end of epoch 46\n"
          ]
        },
        {
          "name": "stdout",
          "output_type": "stream",
          "text": [
            "No improvements in the recent 3 epochs. So far the best BLEU score=18.78228\n"
          ]
        }
      ],
      "source": [
        "epoch_itr = load_data_iterator(task, \"train\", config.start_epoch, config.max_tokens, config.num_workers)\n",
        "try_load_checkpoint(model, optimizer, name=config.resume)\n",
        "bleu_best, early_stop_cnt = 0.0, 0\n",
        "gnorms = []\n",
        "while epoch_itr.next_epoch_idx <= config.max_epoch:\n",
        "    # train for one epoch\n",
        "    train_stats = train_one_epoch(epoch_itr, model, task, criterion, optimizer, config.accum_steps)\n",
        "    stats = validate_and_save(model, task, criterion, optimizer, epoch=epoch_itr.epoch)\n",
        "    logger.info(\"end of epoch {}\".format(epoch_itr.epoch))    \n",
        "    epoch_itr = load_data_iterator(task, \"train\", epoch_itr.next_epoch_idx, config.max_tokens, config.num_workers)\n",
        "    \n",
        "    gnorms += train_stats[\"gnorm\"]\n",
        "    \n",
        "    if stats[\"bleu\"].score > bleu_best:\n",
        "        bleu_best = stats[\"bleu\"].score\n",
        "        early_stop_cnt = 0\n",
        "    else:\n",
        "        early_stop_cnt += 1\n",
        "    \n",
        "    if early_stop_cnt > config.early_stop_patience:\n",
        "        print(f\"No improvements in the recent {config.early_stop_patience} epochs. So far the best BLEU score={bleu_best:.5f}\")\n",
        "        break"
      ]
    },
    {
      "cell_type": "code",
      "execution_count": 45,
      "metadata": {},
      "outputs": [
        {
          "data": {
            "image/png": "[encoded data removed]",
            "text/plain": [
              "<Figure size 1440x720 with 1 Axes>"
            ]
          },
          "metadata": {
            "needs_background": "light"
          },
          "output_type": "display_data"
        }
      ],
      "source": [
        "plt.figure(figsize=(20, 10))\n",
        "plt.plot(gnorms)\n",
        "plt.plot([config.clip_norm] * len(gnorms), \"--\")\n",
        "plt.xlim(0)\n",
        "plt.ylim(0)\n",
        "plt.xlabel(\"Step\")\n",
        "plt.ylabel(\"Grad norm\")\n",
        "plt.show()"
      ]
    },
    {
      "cell_type": "markdown",
      "metadata": {
        "id": "KyjRwllxPjtf"
      },
      "source": [
        "# Submission"
      ]
    },
    {
      "cell_type": "code",
      "execution_count": 46,
      "metadata": {
        "id": "N70Gc6smPi1d"
      },
      "outputs": [
        {
          "name": "stdout",
          "output_type": "stream",
          "text": [
            "Namespace(inputs=['./checkpoints/rnn'], output='./checkpoints/rnn/avg_last_5_checkpoint.pt', num_epoch_checkpoints=5, num_update_checkpoints=None, checkpoint_upper_bound=None)\n",
            "averaging checkpoints:  ['./checkpoints/rnn\\\\checkpoint46.pt', './checkpoints/rnn\\\\checkpoint45.pt', './checkpoints/rnn\\\\checkpoint44.pt', './checkpoints/rnn\\\\checkpoint43.pt', './checkpoints/rnn\\\\checkpoint42.pt']\n",
            "Finished writing averaged checkpoint to ./checkpoints/rnn/avg_last_5_checkpoint.pt\n"
          ]
        }
      ],
      "source": [
        "# averaging a few checkpoints can have a similar effect to ensemble\n",
        "checkdir=config.savedir\n",
        "!python ./fairseq/scripts/average_checkpoints.py \\\n",
        "--inputs {checkdir} \\\n",
        "--num-epoch-checkpoints 5 \\\n",
        "--output {checkdir}/avg_last_5_checkpoint.pt"
      ]
    },
    {
      "cell_type": "markdown",
      "metadata": {
        "id": "BAGMiun8PnZy"
      },
      "source": [
        "## Confirm model weights used to generate submission"
      ]
    },
    {
      "cell_type": "code",
      "execution_count": 47,
      "metadata": {
        "id": "tvRdivVUPnsU"
      },
      "outputs": [
        {
          "name": "stderr",
          "output_type": "stream",
          "text": [
            "2023-04-03 17:01:55 | INFO | hw5.seq2seq | loaded checkpoint checkpoints\\rnn\\avg_last_5_checkpoint.pt: step=unknown loss=3.779629945755005 bleu=18.16307789179446\n",
            "2023-04-03 17:01:55 | INFO | hw5.seq2seq | begin validation\n"
          ]
        },
        {
          "data": {
            "application/vnd.jupyter.widget-view+json": {
              "model_id": "2d77cc0dac4e4636a05f3acc140e76e3",
              "version_major": 2,
              "version_minor": 0
            },
            "text/plain": [
              "validation:   0%|          | 0/22 [00:00<?, ?it/s]"
            ]
          },
          "metadata": {},
          "output_type": "display_data"
        },
        {
          "name": "stderr",
          "output_type": "stream",
          "text": [
            "2023-04-03 17:02:12 | INFO | hw5.seq2seq | example source: i thought i'd begin with a scene of war .\n",
            "2023-04-03 17:02:12 | INFO | hw5.seq2seq | example hypothesis: 我想我從一場戰爭開始 。\n",
            "2023-04-03 17:02:12 | INFO | hw5.seq2seq | example reference: 我想從一個戰爭的場景來開始談 。\n",
            "2023-04-03 17:02:12 | INFO | hw5.seq2seq | validation loss:\t3.7523\n",
            "2023-04-03 17:02:12 | INFO | hw5.seq2seq | BLEU = 18.84 47.3/24.4/13.6/8.0 (BP = 1.000 ratio = 1.019 hyp_len = 113935 ref_len = 111811)\n"
          ]
        }
      ],
      "source": [
        "# checkpoint_last.pt : latest epoch\n",
        "# checkpoint_best.pt : highest validation bleu\n",
        "# avg_last_5_checkpoint.pt:　the average of last 5 epochs\n",
        "try_load_checkpoint(model, name=\"avg_last_5_checkpoint.pt\")\n",
        "validate(model, task, criterion, log_to_wandb=False)\n",
        "None"
      ]
    },
    {
      "cell_type": "markdown",
      "metadata": {
        "id": "ioAIflXpPsxt"
      },
      "source": [
        "## Generate Prediction"
      ]
    },
    {
      "cell_type": "code",
      "execution_count": 48,
      "metadata": {
        "id": "oYMxA8FlPtIq"
      },
      "outputs": [],
      "source": [
        "def generate_prediction(model, task, split=\"test\", outfile=\"./prediction.txt\"):    \n",
        "    task.load_dataset(split=split, epoch=1)\n",
        "    itr = load_data_iterator(task, split, 1, config.max_tokens, config.num_workers).next_epoch_itr(shuffle=False)\n",
        "    \n",
        "    idxs = []\n",
        "    hyps = []\n",
        "\n",
        "    model.eval()\n",
        "    progress = tqdm.tqdm(itr, desc=f\"prediction\")\n",
        "    with torch.no_grad():\n",
        "        for i, sample in enumerate(progress):\n",
        "            # validation loss\n",
        "            sample = utils.move_to_cuda(sample, device=device)\n",
        "\n",
        "            # do inference\n",
        "            s, h, r = inference_step(sample, model)\n",
        "            \n",
        "            hyps.extend(h)\n",
        "            idxs.extend(list(sample['id']))\n",
        "            \n",
        "    # sort based on the order before preprocess\n",
        "    hyps = [x for _,x in sorted(zip(idxs,hyps))]\n",
        "    \n",
        "    with open(outfile, \"w\") as f:\n",
        "        for h in hyps:\n",
        "            f.write(h+\"\\n\")"
      ]
    },
    {
      "cell_type": "code",
      "execution_count": 49,
      "metadata": {
        "id": "Le4RFWXxjmm0"
      },
      "outputs": [
        {
          "name": "stderr",
          "output_type": "stream",
          "text": [
            "2023-04-03 17:02:12 | INFO | fairseq.data.data_utils | loaded 4,000 examples from: ./DATA/data-bin/ted2020\\test.en-zh.en\n",
            "2023-04-03 17:02:12 | INFO | fairseq.data.data_utils | loaded 4,000 examples from: ./DATA/data-bin/ted2020\\test.en-zh.zh\n",
            "2023-04-03 17:02:12 | INFO | fairseq.tasks.translation | ./DATA/data-bin/ted2020 test en-zh 4000 examples\n"
          ]
        },
        {
          "data": {
            "application/vnd.jupyter.widget-view+json": {
              "model_id": "85c86be766f24731b939a6186e9994b5",
              "version_major": 2,
              "version_minor": 0
            },
            "text/plain": [
              "prediction:   0%|          | 0/17 [00:00<?, ?it/s]"
            ]
          },
          "metadata": {},
          "output_type": "display_data"
        }
      ],
      "source": [
        "generate_prediction(model, task)"
      ]
    },
    {
      "cell_type": "markdown",
      "metadata": {
        "id": "1z0cJE-wPzaU"
      },
      "source": [
        "# Back-translation"
      ]
    },
    {
      "cell_type": "markdown",
      "metadata": {
        "id": "5-7uPJ2CP0sm"
      },
      "source": [
        "## Train a backward translation model"
      ]
    },
    {
      "cell_type": "markdown",
      "metadata": {
        "id": "ppGHjg2ZP3sV"
      },
      "source": [
        "1. Switch the source_lang and target_lang in **config** \n",
        "2. Change the savedir in **config** (eg. \"./checkpoints/transformer-back\")\n",
        "3. Train model"
      ]
    },
    {
      "cell_type": "markdown",
      "metadata": {
        "id": "waTGz29UP6WI"
      },
      "source": [
        "## Generate synthetic data with backward model "
      ]
    },
    {
      "cell_type": "markdown",
      "metadata": {
        "id": "sIeTsPexP8FL"
      },
      "source": [
        "### Download monolingual data"
      ]
    },
    {
      "cell_type": "code",
      "execution_count": null,
      "metadata": {
        "id": "i7N4QlsbP8fh"
      },
      "outputs": [],
      "source": [
        "mono_dataset_name = 'mono'"
      ]
    },
    {
      "cell_type": "code",
      "execution_count": null,
      "metadata": {
        "id": "396saD9-QBPY"
      },
      "outputs": [],
      "source": [
        "mono_prefix = Path(data_dir).absolute() / mono_dataset_name\n",
        "mono_prefix.mkdir(parents=True, exist_ok=True)\n",
        "\n",
        "urls = (\n",
        "    \"https://github.com/yuhsinchan/ML2022-HW5Dataset/releases/download/v1.0.2/ted_zh_corpus.deduped.gz\"\n",
        ")\n",
        "file_names = (\n",
        "    'ted_zh_corpus.deduped.gz',\n",
        ")\n",
        "\n",
        "for u, f in zip(urls, file_names):\n",
        "    path = mono_prefix/f\n",
        "    if not path.exists():\n",
        "        else:\n",
        "            !wget {u} -O {path}\n",
        "    else:\n",
        "        print(f'{f} is exist, skip downloading')\n",
        "    if path.suffix == \".tgz\":\n",
        "        !tar -xvf {path} -C {prefix}\n",
        "    elif path.suffix == \".zip\":\n",
        "        !unzip -o {path} -d {prefix}\n",
        "    elif path.suffix == \".gz\":\n",
        "        !gzip -fkd {path}"
      ]
    },
    {
      "cell_type": "markdown",
      "metadata": {
        "id": "JOVQRHzGQU4-"
      },
      "source": [
        "### TODO: clean corpus\n",
        "\n",
        "1. remove sentences that are too long or too short\n",
        "2. unify punctuation\n",
        "\n",
        "hint: you can use clean_s() defined above to do this"
      ]
    },
    {
      "cell_type": "code",
      "execution_count": null,
      "metadata": {
        "id": "eIYmxfUOQSov"
      },
      "outputs": [],
      "source": []
    },
    {
      "cell_type": "markdown",
      "metadata": {
        "id": "jegH0bvMQVmR"
      },
      "source": [
        "### TODO: Subword Units\n",
        "\n",
        "Use the spm model of the backward model to tokenize the data into subword units\n",
        "\n",
        "hint: spm model is located at DATA/raw-data/\\[dataset\\]/spm\\[vocab_num\\].model"
      ]
    },
    {
      "cell_type": "code",
      "execution_count": null,
      "metadata": {
        "id": "vqgR4uUMQZGY"
      },
      "outputs": [],
      "source": []
    },
    {
      "cell_type": "markdown",
      "metadata": {
        "id": "a65glBVXQZiE"
      },
      "source": [
        "### Binarize\n",
        "\n",
        "use fairseq to binarize data"
      ]
    },
    {
      "cell_type": "code",
      "execution_count": null,
      "metadata": {
        "id": "b803qA5aQaEu"
      },
      "outputs": [],
      "source": [
        "binpath = Path('./DATA/data-bin', mono_dataset_name)\n",
        "src_dict_file = './DATA/data-bin/ted2020/dict.en.txt'\n",
        "tgt_dict_file = src_dict_file\n",
        "monopref = str(mono_prefix/\"mono.tok\") # whatever filepath you get after applying subword tokenization\n",
        "if binpath.exists():\n",
        "    print(binpath, \"exists, will not overwrite!\")\n",
        "else:\n",
        "    !python -m fairseq_cli.preprocess\\\n",
        "        --source-lang 'zh'\\\n",
        "        --target-lang 'en'\\\n",
        "        --trainpref {monopref}\\\n",
        "        --destdir {binpath}\\\n",
        "        --srcdict {src_dict_file}\\\n",
        "        --tgtdict {tgt_dict_file}\\\n",
        "        --workers 2"
      ]
    },
    {
      "cell_type": "markdown",
      "metadata": {
        "id": "smA0JraEQdxz"
      },
      "source": [
        "### TODO: Generate synthetic data with backward model\n",
        "\n",
        "Add binarized monolingual data to the original data directory, and name it with \"split_name\"\n",
        "\n",
        "ex. ./DATA/data-bin/ted2020/\\[split_name\\].zh-en.\\[\"en\", \"zh\"\\].\\[\"bin\", \"idx\"\\]\n",
        "\n",
        "then you can use 'generate_prediction(model, task, split=\"split_name\")' to generate translation prediction"
      ]
    },
    {
      "cell_type": "code",
      "execution_count": null,
      "metadata": {
        "id": "jvaOVHeoQfkB"
      },
      "outputs": [],
      "source": [
        "# # Add binarized monolingual data to the original data directory, and name it with \"split_name\"\n",
        "# # ex. ./DATA/data-bin/ted2020/\\[split_name\\].zh-en.\\[\"en\", \"zh\"\\].\\[\"bin\", \"idx\"\\]\n",
        "# !cp ./DATA/data-bin/mono/train.zh-en.zh.bin ./DATA/data-bin/ted2020/mono.zh-en.zh.bin\n",
        "# !cp ./DATA/data-bin/mono/train.zh-en.zh.idx ./DATA/data-bin/ted2020/mono.zh-en.zh.idx\n",
        "# !cp ./DATA/data-bin/mono/train.zh-en.en.bin ./DATA/data-bin/ted2020/mono.zh-en.en.bin\n",
        "# !cp ./DATA/data-bin/mono/train.zh-en.en.idx ./DATA/data-bin/ted2020/mono.zh-en.en.idx"
      ]
    },
    {
      "cell_type": "code",
      "execution_count": null,
      "metadata": {
        "id": "fFEkxPu-Qhlc"
      },
      "outputs": [],
      "source": [
        "# hint: do prediction on split='mono' to create prediction_file\n",
        "# generate_prediction( ... ,split=... ,outfile=... )"
      ]
    },
    {
      "cell_type": "markdown",
      "metadata": {
        "id": "Jn4XeawpQjLk"
      },
      "source": [
        "### TODO: Create new dataset\n",
        "\n",
        "1. Combine the prediction data with monolingual data\n",
        "2. Use the original spm model to tokenize data into Subword Units\n",
        "3. Binarize data with fairseq"
      ]
    },
    {
      "cell_type": "code",
      "execution_count": null,
      "metadata": {
        "id": "3R35JTaTQjkm"
      },
      "outputs": [],
      "source": [
        "# Combine prediction_file (.en) and mono.zh (.zh) into a new dataset.\n",
        "# \n",
        "# hint: tokenize prediction_file with the spm model\n",
        "# spm_model.encode(line, out_type=str)\n",
        "# output: ./DATA/rawdata/mono/mono.tok.en & mono.tok.zh\n",
        "#\n",
        "# hint: use fairseq to binarize these two files again\n",
        "# binpath = Path('./DATA/data-bin/synthetic')\n",
        "# src_dict_file = './DATA/data-bin/ted2020/dict.en.txt'\n",
        "# tgt_dict_file = src_dict_file\n",
        "# monopref = ./DATA/rawdata/mono/mono.tok # or whatever path after applying subword tokenization, w/o the suffix (.zh/.en)\n",
        "# if binpath.exists():\n",
        "#     print(binpath, \"exists, will not overwrite!\")\n",
        "# else:\n",
        "#     !python -m fairseq_cli.preprocess\\\n",
        "#         --source-lang 'zh'\\\n",
        "#         --target-lang 'en'\\\n",
        "#         --trainpref {monopref}\\\n",
        "#         --destdir {binpath}\\\n",
        "#         --srcdict {src_dict_file}\\\n",
        "#         --tgtdict {tgt_dict_file}\\\n",
        "#         --workers 2"
      ]
    },
    {
      "cell_type": "code",
      "execution_count": null,
      "metadata": {
        "id": "MSkse1tyQnsR"
      },
      "outputs": [],
      "source": [
        "# # create a new dataset from all the files prepared above\n",
        "# !cp -r ./DATA/data-bin/ted2020/ ./DATA/data-bin/ted2020_with_mono/\n",
        "\n",
        "# !cp ./DATA/data-bin/synthetic/train.zh-en.zh.bin ./DATA/data-bin/ted2020_with_mono/train1.en-zh.zh.bin\n",
        "# !cp ./DATA/data-bin/synthetic/train.zh-en.zh.idx ./DATA/data-bin/ted2020_with_mono/train1.en-zh.zh.idx\n",
        "# !cp ./DATA/data-bin/synthetic/train.zh-en.en.bin ./DATA/data-bin/ted2020_with_mono/train1.en-zh.en.bin\n",
        "# !cp ./DATA/data-bin/synthetic/train.zh-en.en.idx ./DATA/data-bin/ted2020_with_mono/train1.en-zh.en.idx"
      ]
    },
    {
      "cell_type": "markdown",
      "metadata": {
        "id": "YVdxVGO3QrSs"
      },
      "source": [
        "Created new dataset \"ted2020_with_mono\"\n",
        "\n",
        "1. Change the datadir in **config** (\"./DATA/data-bin/ted2020_with_mono\")\n",
        "2. Switch back the source_lang and target_lang in **config** (\"en\", \"zh\")\n",
        "2. Change the savedir in **config** (eg. \"./checkpoints/transformer-bt\")\n",
        "3. Train model"
      ]
    },
    {
      "cell_type": "markdown",
      "metadata": {
        "id": "_CZU2beUQtl3"
      },
      "source": [
        "1. <a name=ott2019fairseq></a>Ott, M., Edunov, S., Baevski, A., Fan, A., Gross, S., Ng, N., ... & Auli, M. (2019, June). fairseq: A Fast, Extensible Toolkit for Sequence Modeling. In Proceedings of the 2019 Conference of the North American Chapter of the Association for Computational Linguistics (Demonstrations) (pp. 48-53).\n",
        "2. <a name=vaswani2017></a>Vaswani, A., Shazeer, N., Parmar, N., Uszkoreit, J., Jones, L., Gomez, A. N., ... & Polosukhin, I. (2017, December). Attention is all you need. In Proceedings of the 31st International Conference on Neural Information Processing Systems (pp. 6000-6010).\n",
        "3. <a name=reimers-2020-multilingual-sentence-bert></a>Reimers, N., & Gurevych, I. (2020, November). Making Monolingual Sentence Embeddings Multilingual Using Knowledge Distillation. In Proceedings of the 2020 Conference on Empirical Methods in Natural Language Processing (EMNLP) (pp. 4512-4525).\n",
        "4. <a name=tiedemann2012parallel></a>Tiedemann, J. (2012, May). Parallel Data, Tools and Interfaces in OPUS. In Lrec (Vol. 2012, pp. 2214-2218).\n",
        "5. <a name=kudo-richardson-2018-sentencepiece></a>Kudo, T., & Richardson, J. (2018, November). SentencePiece: A simple and language independent subword tokenizer and detokenizer for Neural Text Processing. In Proceedings of the 2018 Conference on Empirical Methods in Natural Language Processing: System Demonstrations (pp. 66-71).\n",
        "6. <a name=sennrich-etal-2016-improving></a>Sennrich, R., Haddow, B., & Birch, A. (2016, August). Improving Neural Machine Translation Models with Monolingual Data. In Proceedings of the 54th Annual Meeting of the Association for Computational Linguistics (Volume 1: Long Papers) (pp. 86-96).\n",
        "7. <a name=edunov-etal-2018-understanding></a>Edunov, S., Ott, M., Auli, M., & Grangier, D. (2018). Understanding Back-Translation at Scale. In Proceedings of the 2018 Conference on Empirical Methods in Natural Language Processing (pp. 489-500).\n",
        "8. https://github.com/ajinkyakulkarni14/TED-Multilingual-Parallel-Corpus\n",
        "9. https://ithelp.ithome.com.tw/articles/10233122\n",
        "10. https://nlp.seas.harvard.edu/2018/04/03/attention.html\n",
        "11. https://colab.research.google.com/github/ga642381/ML2021-Spring/blob/main/HW05/HW05.ipynb"
      ]
    },
    {
      "cell_type": "code",
      "execution_count": null,
      "metadata": {
        "id": "Rrfm6iLJQ0tS"
      },
      "outputs": [],
      "source": []
    }
  ],
  "metadata": {
    "accelerator": "GPU",
    "colab": {
      "collapsed_sections": [
        "nKb4u67-sT_Z",
        "n1rwQysTsdJq",
        "59si_C0Wsms7",
        "oOpG4EBRLwe_",
        "6ZlE_1JnMv56",
        "UDAPmxjRNEEL",
        "ce5n4eS7NQNy",
        "rUB9f1WCNgMH",
        "VFJlkOMONsc6",
        "Gt1lX3DRO_yU",
        "BAGMiun8PnZy",
        "JOVQRHzGQU4-",
        "jegH0bvMQVmR",
        "a65glBVXQZiE",
        "smA0JraEQdxz",
        "Jn4XeawpQjLk"
      ],
      "name": "HW05.ipynb",
      "provenance": []
    },
    "kernelspec": {
      "display_name": "machine-learning",
      "language": "python",
      "name": "python3"
    },
    "language_info": {
      "codemirror_mode": {
        "name": "ipython",
        "version": 3
      },
      "file_extension": ".py",
      "mimetype": "text/x-python",
      "name": "python",
      "nbconvert_exporter": "python",
      "pygments_lexer": "ipython3",
      "version": "3.10.5"
    },
    "vscode": {
      "interpreter": {
        "hash": "3b287b2638b28c143e8b740ddcb0a96b617189043e0330c7f965d24699a487e2"
      }
    }
  },
  "nbformat": 4,
  "nbformat_minor": 0
}
