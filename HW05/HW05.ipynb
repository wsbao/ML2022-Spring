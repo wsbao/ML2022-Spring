{
  "cells": [
    {
      "cell_type": "markdown",
      "metadata": {
        "id": "AFEKWoh3p1Mv"
      },
      "source": [
        "# Homework Description\n",
        "- English to Chinese (Traditional) Translation\n",
        "  - Input: an English sentence         (e.g.\t\ttom is a student .)\n",
        "  - Output: the Chinese translation  (e.g. \t\t湯姆 是 個 學生 。)\n",
        "\n",
        "- TODO\n",
        "    - Train a simple RNN seq2seq to acheive translation\n",
        "    - Switch to transformer model to boost performance\n",
        "    - Apply Back-translation to furthur boost performance"
      ]
    },
    {
      "cell_type": "code",
      "execution_count": 1,
      "metadata": {
        "id": "3Vf1Q79XPQ3D"
      },
      "outputs": [
        {
          "name": "stdout",
          "output_type": "stream",
          "text": [
            "Sat Apr 15 01:19:50 2023       \n",
            "+---------------------------------------------------------------------------------------+\n",
            "| NVIDIA-SMI 531.41                 Driver Version: 531.41       CUDA Version: 12.1     |\n",
            "|-----------------------------------------+----------------------+----------------------+\n",
            "| GPU  Name                      TCC/WDDM | Bus-Id        Disp.A | Volatile Uncorr. ECC |\n",
            "| Fan  Temp  Perf            Pwr:Usage/Cap|         Memory-Usage | GPU-Util  Compute M. |\n",
            "|                                         |                      |               MIG M. |\n",
            "|=========================================+======================+======================|\n",
            "|   0  NVIDIA GeForce RTX 3080 L...  WDDM | 00000000:01:00.0  On |                  N/A |\n",
            "| N/A   45C    P8               19W /  N/A|   1184MiB / 16384MiB |     10%      Default |\n",
            "|                                         |                      |                  N/A |\n",
            "+-----------------------------------------+----------------------+----------------------+\n",
            "                                                                                         \n",
            "+---------------------------------------------------------------------------------------+\n",
            "| Processes:                                                                            |\n",
            "|  GPU   GI   CI        PID   Type   Process name                            GPU Memory |\n",
            "|        ID   ID                                                             Usage      |\n",
            "|=======================================================================================|\n",
            "|    0   N/A  N/A     10744    C+G   ...am Files\\Microsoft VS Code\\Code.exe    N/A      |\n",
            "|    0   N/A  N/A     13336    C+G   ...5n1h2txyewy\\ShellExperienceHost.exe    N/A      |\n",
            "|    0   N/A  N/A     19272    C+G   C:\\Windows\\explorer.exe                   N/A      |\n",
            "|    0   N/A  N/A     30040    C+G   ...nt.CBS_cw5n1h2txyewy\\SearchHost.exe    N/A      |\n",
            "|    0   N/A  N/A     32564    C+G   ...ekyb3d8bbwe\\PhoneExperienceHost.exe    N/A      |\n",
            "|    0   N/A  N/A     35384    C+G   ...2txyewy\\StartMenuExperienceHost.exe    N/A      |\n",
            "|    0   N/A  N/A     41440    C+G   ...t.LockApp_cw5n1h2txyewy\\LockApp.exe    N/A      |\n",
            "|    0   N/A  N/A     41696    C+G   ...GeForce Experience\\NVIDIA Share.exe    N/A      |\n",
            "|    0   N/A  N/A     43876    C+G   ...__8wekyb3d8bbwe\\WindowsTerminal.exe    N/A      |\n",
            "|    0   N/A  N/A     45600    C+G   ...1.0_x64__8wekyb3d8bbwe\\Video.UI.exe    N/A      |\n",
            "|    0   N/A  N/A     49376    C+G   ...m Files\\Mozilla Firefox\\firefox.exe    N/A      |\n",
            "|    0   N/A  N/A     50136    C+G   ...m Files\\Mozilla Firefox\\firefox.exe    N/A      |\n",
            "|    0   N/A  N/A     51848    C+G   ...CBS_cw5n1h2txyewy\\TextInputHost.exe    N/A      |\n",
            "|    0   N/A  N/A     52248    C+G   ...7.0_x64__w2gh52qy24etm\\Nahimic3.exe    N/A      |\n",
            "|    0   N/A  N/A     52668    C+G   ...siveControlPanel\\SystemSettings.exe    N/A      |\n",
            "+---------------------------------------------------------------------------------------+\n"
          ]
        }
      ],
      "source": [
        "!nvidia-smi"
      ]
    },
    {
      "cell_type": "markdown",
      "metadata": {
        "id": "59neB_Sxp5Ub"
      },
      "source": [
        "# Download and import required packages"
      ]
    },
    {
      "cell_type": "code",
      "execution_count": 2,
      "metadata": {
        "id": "rRlFbfFRpZYT"
      },
      "outputs": [],
      "source": [
        "# !pip install 'torch>=1.6.0' editdistance matplotlib sacrebleu sacremoses sentencepiece tqdm wandb\n",
        "# !pip install --upgrade jupyter ipywidgets"
      ]
    },
    {
      "cell_type": "code",
      "execution_count": 3,
      "metadata": {
        "id": "fSksMTdmp-Wt"
      },
      "outputs": [],
      "source": [
        "# !git clone https://github.com/pytorch/fairseq.git\n",
        "# !cd fairseq && git checkout 9a1c497\n",
        "# !pip install --upgrade ./fairseq/"
      ]
    },
    {
      "cell_type": "code",
      "execution_count": 4,
      "metadata": {
        "id": "uRLTiuIuqGNc"
      },
      "outputs": [],
      "source": [
        "import sys\n",
        "import pdb\n",
        "import pprint\n",
        "import logging\n",
        "import os\n",
        "import random\n",
        "\n",
        "import torch\n",
        "import torch.nn as nn\n",
        "import torch.nn.functional as F\n",
        "from torch.utils import data\n",
        "import numpy as np\n",
        "import tqdm.auto as tqdm\n",
        "from pathlib import Path\n",
        "from argparse import Namespace\n",
        "from fairseq import utils\n",
        "\n",
        "import matplotlib.pyplot as plt"
      ]
    },
    {
      "cell_type": "markdown",
      "metadata": {
        "id": "0n07Za1XqJzA"
      },
      "source": [
        "# Fix random seed"
      ]
    },
    {
      "cell_type": "code",
      "execution_count": 5,
      "metadata": {
        "id": "xllxxyWxqI7s"
      },
      "outputs": [],
      "source": [
        "seed = 73\n",
        "random.seed(seed)\n",
        "torch.manual_seed(seed)\n",
        "if torch.cuda.is_available():\n",
        "    torch.cuda.manual_seed(seed)\n",
        "    torch.cuda.manual_seed_all(seed)  \n",
        "np.random.seed(seed)  \n",
        "torch.backends.cudnn.benchmark = False\n",
        "torch.backends.cudnn.deterministic = True"
      ]
    },
    {
      "cell_type": "markdown",
      "metadata": {
        "id": "N5ORDJ-2qdYw"
      },
      "source": [
        "# Dataset\n",
        "\n",
        "## En-Zh Bilingual Parallel Corpus\n",
        "* [TED2020](#reimers-2020-multilingual-sentence-bert)\n",
        "    - Raw: 398,066 (sentences)   \n",
        "    - Processed: 393,980 (sentences)\n",
        "    \n",
        "\n",
        "## Testdata\n",
        "- Size: 4,000 (sentences)\n",
        "- **Chinese translation is undisclosed. The provided (.zh) file is psuedo translation, each line is a '。'**"
      ]
    },
    {
      "cell_type": "markdown",
      "metadata": {
        "id": "GQw2mY4Dqkzd"
      },
      "source": [
        "## Dataset Download"
      ]
    },
    {
      "cell_type": "code",
      "execution_count": 6,
      "metadata": {
        "id": "SXT42xQtqijD"
      },
      "outputs": [],
      "source": [
        "data_dir = './DATA/rawdata'\n",
        "dataset_name = 'ted2020'\n",
        "# urls = (\n",
        "#     \"https://github.com/yuhsinchan/ML2022-HW5Dataset/releases/download/v1.0.2/ted2020.tgz\",\n",
        "#     \"https://github.com/yuhsinchan/ML2022-HW5Dataset/releases/download/v1.0.2/test.tgz\",\n",
        "# )\n",
        "# file_names = (\n",
        "#     'ted2020.tgz', # train & dev\n",
        "#     'test.tgz', # test\n",
        "# )\n",
        "prefix = Path(data_dir).absolute() / dataset_name\n",
        "\n",
        "# prefix.mkdir(parents=True, exist_ok=True)\n",
        "# for u, f in zip(urls, file_names):\n",
        "#     path = prefix/f\n",
        "#     if not path.exists():\n",
        "#         !wget {u} -O {path}\n",
        "#     if path.suffix == \".tgz\":\n",
        "#         !tar -xvf {path} -C {prefix}\n",
        "#     elif path.suffix == \".zip\":\n",
        "#         !unzip -o {path} -d {prefix}\n",
        "# !mv {prefix/'raw.en'} {prefix/'train_dev.raw.en'}\n",
        "# !mv {prefix/'raw.zh'} {prefix/'train_dev.raw.zh'}\n",
        "# !mv {prefix/'test/test.en'} {prefix/'test.raw.en'}\n",
        "# !mv {prefix/'test/test.zh'} {prefix/'test.raw.zh'}\n",
        "# !rm -rf {prefix/'test'}"
      ]
    },
    {
      "cell_type": "markdown",
      "metadata": {
        "id": "YLkJwNiFrIwZ"
      },
      "source": [
        "## Language"
      ]
    },
    {
      "cell_type": "code",
      "execution_count": 7,
      "metadata": {
        "id": "_uJYkCncrKJb"
      },
      "outputs": [],
      "source": [
        "src_lang = 'zh' # 'en'\n",
        "tgt_lang = 'en' # 'zh'\n",
        "\n",
        "data_prefix = os.path.join(prefix, \"train_dev.raw\") # f'{prefix}/train_dev.raw'\n",
        "test_prefix = os.path.join(prefix, \"test.raw\") # f'{prefix}/test.raw'"
      ]
    },
    {
      "cell_type": "code",
      "execution_count": 8,
      "metadata": {
        "id": "0t2CPt1brOT3"
      },
      "outputs": [
        {
          "name": "stdout",
          "output_type": "stream",
          "text": [
            "非常謝謝你，克里斯。能有這個機會第二度踏上這個演講台\n",
            "真是一大榮幸。我非常感激。\n",
            "這個研討會給我留下了極為深刻的印象，我想感謝大家 對我之前演講的好評。\n",
            "我是由衷的想這麼說，有部份原因是因為 —— 我真的有需要!\n",
            "請你們設身處地為我想一想！\n",
            "Thank you so much, Chris.\n",
            "And it's truly a great honor to have the opportunity to come to this stage twice; I'm extremely grateful.\n",
            "I have been blown away by this conference, and I want to thank all of you for the many nice comments about what I had to say the other night.\n",
            "And I say that sincerely, partly because  I need that.\n",
            "Put yourselves in my position.\n"
          ]
        }
      ],
      "source": [
        "!head \"{data_prefix+'.'+src_lang}\" -n 5\n",
        "!head \"{data_prefix+'.'+tgt_lang}\" -n 5"
      ]
    },
    {
      "cell_type": "markdown",
      "metadata": {
        "id": "pRoE9UK7r1gY"
      },
      "source": [
        "## Preprocess files"
      ]
    },
    {
      "cell_type": "code",
      "execution_count": 9,
      "metadata": {
        "id": "3tzFwtnFrle3"
      },
      "outputs": [],
      "source": [
        "import re\n",
        "\n",
        "def strQ2B(ustring):\n",
        "    \"\"\"Full width -> half width\"\"\"\n",
        "    # reference:https://ithelp.ithome.com.tw/articles/10233122\n",
        "    ss = []\n",
        "    for s in ustring:\n",
        "        rstring = \"\"\n",
        "        for uchar in s:\n",
        "            inside_code = ord(uchar)\n",
        "            if inside_code == 12288:  # Full width space: direct conversion\n",
        "                inside_code = 32\n",
        "            elif (inside_code >= 65281 and inside_code <= 65374):  # Full width chars (except space) conversion\n",
        "                inside_code -= 65248\n",
        "            rstring += chr(inside_code)\n",
        "        ss.append(rstring)\n",
        "    return ''.join(ss)\n",
        "                \n",
        "def clean_s(s, lang):\n",
        "    if lang == 'en':\n",
        "        s = re.sub(r\"\\([^()]*\\)\", \"\", s) # remove ([text])\n",
        "        s = s.replace('-', '') # remove '-'\n",
        "        s = re.sub('([.,;!?()\\\"])', r' \\1 ', s) # keep punctuation\n",
        "    elif lang == 'zh':\n",
        "        s = strQ2B(s) # Q2B\n",
        "        s = re.sub(r\"\\([^()]*\\)\", \"\", s) # remove ([text])\n",
        "        s = s.replace(' ', '')\n",
        "        s = s.replace('—', '')\n",
        "        s = s.replace('“', '\"')\n",
        "        s = s.replace('”', '\"')\n",
        "        s = s.replace('_', '')\n",
        "        s = re.sub('([。,;!?()\\\"~「」])', r' \\1 ', s) # keep punctuation\n",
        "    s = ' '.join(s.strip().split())\n",
        "    return s\n",
        "\n",
        "def len_s(s, lang):\n",
        "    if lang == 'zh':\n",
        "        return len(s)\n",
        "    return len(s.split())\n",
        "\n",
        "def clean_corpus(prefix, l1, l2, ratio=9, max_len=1000, min_len=1):\n",
        "    if Path(f'{prefix}.clean.{l1}').exists() and Path(f'{prefix}.clean.{l2}').exists():\n",
        "        print(f'{prefix}.clean.{l1} & {l2} exists. skipping clean.')\n",
        "        return\n",
        "    with open(f'{prefix}.{l1}', 'r') as l1_in_f:\n",
        "        with open(f'{prefix}.{l2}', 'r') as l2_in_f:\n",
        "            with open(f'{prefix}.clean.{l1}', 'w') as l1_out_f:\n",
        "                with open(f'{prefix}.clean.{l2}', 'w') as l2_out_f:\n",
        "                    for s1 in l1_in_f:\n",
        "                        s1 = s1.strip()\n",
        "                        s2 = l2_in_f.readline().strip()\n",
        "                        s1 = clean_s(s1, l1)\n",
        "                        s2 = clean_s(s2, l2)\n",
        "                        s1_len = len_s(s1, l1)\n",
        "                        s2_len = len_s(s2, l2)\n",
        "                        if min_len > 0: # remove short sentence\n",
        "                            if s1_len < min_len or s2_len < min_len:\n",
        "                                continue\n",
        "                        if max_len > 0: # remove long sentence\n",
        "                            if s1_len > max_len or s2_len > max_len:\n",
        "                                continue\n",
        "                        if ratio > 0: # remove by ratio of length\n",
        "                            if s1_len/s2_len > ratio or s2_len/s1_len > ratio:\n",
        "                                continue\n",
        "                        print(s1, file=l1_out_f)\n",
        "                        print(s2, file=l2_out_f)"
      ]
    },
    {
      "cell_type": "code",
      "execution_count": 10,
      "metadata": {
        "id": "h_i8b1PRr9Nf"
      },
      "outputs": [
        {
          "name": "stdout",
          "output_type": "stream",
          "text": [
            "d:\\Wei-shun Bao\\Learning\\Codes\\ML2022-Spring\\HW05\\DATA\\rawdata\\ted2020\\train_dev.raw.clean.zh & en exists. skipping clean.\n",
            "d:\\Wei-shun Bao\\Learning\\Codes\\ML2022-Spring\\HW05\\DATA\\rawdata\\ted2020\\test.raw.clean.zh & en exists. skipping clean.\n"
          ]
        }
      ],
      "source": [
        "clean_corpus(data_prefix, src_lang, tgt_lang)\n",
        "clean_corpus(test_prefix, src_lang, tgt_lang, ratio=-1, min_len=-1, max_len=-1)"
      ]
    },
    {
      "cell_type": "code",
      "execution_count": 11,
      "metadata": {
        "id": "gjT3XCy9r_rj"
      },
      "outputs": [
        {
          "name": "stdout",
          "output_type": "stream",
          "text": [
            "非常謝謝你 , 克里斯 。 能有這個機會第二度踏上這個演講台\n",
            "真是一大榮幸 。 我非常感激 。\n",
            "這個研討會給我留下了極為深刻的印象 , 我想感謝大家對我之前演講的好評 。\n",
            "我是由衷的想這麼說 , 有部份原因是因為我真的有需要 !\n",
            "請你們設身處地為我想一想 !\n",
            "Thank you so much , Chris .\n",
            "And it's truly a great honor to have the opportunity to come to this stage twice ; I'm extremely grateful .\n",
            "I have been blown away by this conference , and I want to thank all of you for the many nice comments about what I had to say the other night .\n",
            "And I say that sincerely , partly because I need that .\n",
            "Put yourselves in my position .\n"
          ]
        }
      ],
      "source": [
        "!head \"{data_prefix+'.clean.'+src_lang}\" -n 5\n",
        "!head \"{data_prefix+'.clean.'+tgt_lang}\" -n 5"
      ]
    },
    {
      "cell_type": "markdown",
      "metadata": {
        "id": "nKb4u67-sT_Z"
      },
      "source": [
        "## Split into train/valid"
      ]
    },
    {
      "cell_type": "code",
      "execution_count": 12,
      "metadata": {
        "id": "AuFKeDz3sGHL"
      },
      "outputs": [],
      "source": [
        "valid_ratio = 0.01 # 3000~4000 would suffice\n",
        "train_ratio = 1 - valid_ratio"
      ]
    },
    {
      "cell_type": "code",
      "execution_count": 13,
      "metadata": {
        "id": "QR2NVldqsXyY"
      },
      "outputs": [
        {
          "name": "stdout",
          "output_type": "stream",
          "text": [
            "train/valid splits exists. skipping split.\n"
          ]
        }
      ],
      "source": [
        "if (prefix/f'train.clean.{src_lang}').exists() \\\n",
        "and (prefix/f'train.clean.{tgt_lang}').exists() \\\n",
        "and (prefix/f'valid.clean.{src_lang}').exists() \\\n",
        "and (prefix/f'valid.clean.{tgt_lang}').exists():\n",
        "    print(f'train/valid splits exists. skipping split.')\n",
        "else:\n",
        "    line_num = sum(1 for line in open(f'{data_prefix}.clean.{src_lang}'))\n",
        "    labels = list(range(line_num))\n",
        "    random.shuffle(labels)\n",
        "    for lang in [src_lang, tgt_lang]:\n",
        "        train_f = open(os.path.join(data_dir, dataset_name, f'train.clean.{lang}'), 'w')\n",
        "        valid_f = open(os.path.join(data_dir, dataset_name, f'valid.clean.{lang}'), 'w')\n",
        "        count = 0\n",
        "        for line in open(f'{data_prefix}.clean.{lang}', 'r'):\n",
        "            if labels[count]/line_num < train_ratio:\n",
        "                train_f.write(line)\n",
        "            else:\n",
        "                valid_f.write(line)\n",
        "            count += 1\n",
        "        train_f.close()\n",
        "        valid_f.close()"
      ]
    },
    {
      "cell_type": "markdown",
      "metadata": {
        "id": "n1rwQysTsdJq"
      },
      "source": [
        "## Subword Units \n",
        "Out of vocabulary (OOV) has been a major problem in machine translation. This can be alleviated by using subword units.\n",
        "- We will use the [sentencepiece](#kudo-richardson-2018-sentencepiece) package\n",
        "- select 'unigram' or 'byte-pair encoding (BPE)' algorithm"
      ]
    },
    {
      "cell_type": "code",
      "execution_count": 14,
      "metadata": {
        "id": "Ecwllsa7sZRA"
      },
      "outputs": [
        {
          "name": "stdout",
          "output_type": "stream",
          "text": [
            "d:\\Wei-shun Bao\\Learning\\Codes\\ML2022-Spring\\HW05\\DATA\\rawdata\\ted2020/spm8000.model exists. skipping spm_train.\n"
          ]
        }
      ],
      "source": [
        "import sentencepiece as spm\n",
        "vocab_size = 8000\n",
        "if (prefix/f'spm{vocab_size}.model').exists():\n",
        "    print(f'{prefix}/spm{vocab_size}.model exists. skipping spm_train.')\n",
        "else:\n",
        "    spm.SentencePieceTrainer.train(\n",
        "        input=','.join([f'{prefix}/train.clean.{src_lang}',\n",
        "                        f'{prefix}/valid.clean.{src_lang}',\n",
        "                        f'{prefix}/train.clean.{tgt_lang}',\n",
        "                        f'{prefix}/valid.clean.{tgt_lang}']),\n",
        "        model_prefix=prefix/f'spm{vocab_size}',\n",
        "        vocab_size=vocab_size,\n",
        "        character_coverage=1,\n",
        "        model_type='unigram', # 'bpe' works as well\n",
        "        input_sentence_size=1e6,\n",
        "        shuffle_input_sentence=True,\n",
        "        normalization_rule_name='nmt_nfkc_cf',\n",
        "    )"
      ]
    },
    {
      "cell_type": "code",
      "execution_count": 15,
      "metadata": {
        "id": "lQPRNldqse_V"
      },
      "outputs": [
        {
          "name": "stdout",
          "output_type": "stream",
          "text": [
            "d:\\Wei-shun Bao\\Learning\\Codes\\ML2022-Spring\\HW05\\DATA\\rawdata\\ted2020\\train.zh exists. skipping spm_encode.\n",
            "d:\\Wei-shun Bao\\Learning\\Codes\\ML2022-Spring\\HW05\\DATA\\rawdata\\ted2020\\train.en exists. skipping spm_encode.\n",
            "d:\\Wei-shun Bao\\Learning\\Codes\\ML2022-Spring\\HW05\\DATA\\rawdata\\ted2020\\valid.zh exists. skipping spm_encode.\n",
            "d:\\Wei-shun Bao\\Learning\\Codes\\ML2022-Spring\\HW05\\DATA\\rawdata\\ted2020\\valid.en exists. skipping spm_encode.\n",
            "d:\\Wei-shun Bao\\Learning\\Codes\\ML2022-Spring\\HW05\\DATA\\rawdata\\ted2020\\test.zh exists. skipping spm_encode.\n",
            "d:\\Wei-shun Bao\\Learning\\Codes\\ML2022-Spring\\HW05\\DATA\\rawdata\\ted2020\\test.en exists. skipping spm_encode.\n"
          ]
        }
      ],
      "source": [
        "spm_model = spm.SentencePieceProcessor(model_file=str(prefix/f'spm{vocab_size}.model'))\n",
        "in_tag = {\n",
        "    'train': 'train.clean',\n",
        "    'valid': 'valid.clean',\n",
        "    'test': 'test.raw.clean',\n",
        "}\n",
        "for split in ['train', 'valid', 'test']:\n",
        "    for lang in [src_lang, tgt_lang]:\n",
        "        out_path = prefix/f'{split}.{lang}'\n",
        "        if out_path.exists():\n",
        "            print(f\"{out_path} exists. skipping spm_encode.\")\n",
        "        else:\n",
        "            with open(prefix/f'{split}.{lang}', 'w') as out_f:\n",
        "                with open(prefix/f'{in_tag[split]}.{lang}', 'r') as in_f:\n",
        "                    for line in in_f:\n",
        "                        line = line.strip()\n",
        "                        tok = spm_model.encode(line, out_type=str)\n",
        "                        print(' '.join(tok), file=out_f)"
      ]
    },
    {
      "cell_type": "code",
      "execution_count": 16,
      "metadata": {
        "id": "4j6lXHjAsjXa"
      },
      "outputs": [
        {
          "name": "stdout",
          "output_type": "stream",
          "text": [
            "▁ 非常 謝 謝 你 ▁, ▁ 克 里 斯 ▁。 ▁ 能 有 這個 機會 第二 度 踏 上 這個 演講 台\n",
            "▁ 真 是 一 大 榮 幸 ▁。 ▁我 非常 感 激 ▁。\n",
            "▁這個 研 討 會 給我 留 下 了 極 為 深 刻 的 印 象 ▁, ▁我想 感 謝 大家 對我 之前 演講 的 好 評 ▁。\n",
            "▁我 是由 衷 的 想 這麼 說 ▁, ▁有 部份 原因 是因為 我 真的 有 需要 ▁!\n",
            "▁ 請 你們 設 身 處 地 為 我想 一 想 ▁!\n",
            "▁thank ▁you ▁so ▁much ▁, ▁chris ▁.\n",
            "▁and ▁it ' s ▁ t ru ly ▁a ▁great ▁ho n or ▁to ▁have ▁the ▁ op port un ity ▁to ▁come ▁to ▁this ▁st age ▁ t wi ce ▁; ▁i ' m ▁ex t re me ly ▁gr ate ful ▁.\n",
            "▁i ▁have ▁been ▁ bl ow n ▁away ▁by ▁this ▁con fer ence ▁, ▁and ▁i ▁want ▁to ▁thank ▁all ▁of ▁you ▁for ▁the ▁many ▁ ni ce ▁ com ment s ▁about ▁what ▁i ▁had ▁to ▁say ▁the ▁other ▁night ▁.\n",
            "▁and ▁i ▁say ▁that ▁since re ly ▁, ▁part ly ▁because ▁i ▁need ▁that ▁.\n",
            "▁put ▁your s el ve s ▁in ▁my ▁po s ition ▁.\n"
          ]
        }
      ],
      "source": [
        "!head \"{data_dir+'/'+dataset_name+'/train.'+src_lang}\" -n 5\n",
        "!head \"{data_dir+'/'+dataset_name+'/train.'+tgt_lang}\" -n 5"
      ]
    },
    {
      "cell_type": "markdown",
      "metadata": {
        "id": "59si_C0Wsms7"
      },
      "source": [
        "## Binarize the data with fairseq"
      ]
    },
    {
      "cell_type": "code",
      "execution_count": 17,
      "metadata": {
        "id": "w-cHVLSpsknh"
      },
      "outputs": [
        {
          "name": "stdout",
          "output_type": "stream",
          "text": [
            "DATA\\data-bin\\ted2020 exists, will not overwrite!\n"
          ]
        }
      ],
      "source": [
        "binpath = Path('./DATA/data-bin', dataset_name)\n",
        "if binpath.exists():\n",
        "    print(binpath, \"exists, will not overwrite!\")\n",
        "else:\n",
        "    !python -m fairseq_cli.preprocess \\\n",
        "        --source-lang {src_lang}\\\n",
        "        --target-lang {tgt_lang}\\\n",
        "        --trainpref \"{prefix/'train'}\"\\\n",
        "        --validpref \"{prefix/'valid'}\"\\\n",
        "        --testpref \"{prefix/'test'}\"\\\n",
        "        --destdir {binpath}\\\n",
        "        --joined-dictionary\\\n",
        "        --workers 2"
      ]
    },
    {
      "cell_type": "markdown",
      "metadata": {
        "id": "szMuH1SWLPWA"
      },
      "source": [
        "# Configuration for experiments"
      ]
    },
    {
      "cell_type": "code",
      "execution_count": 18,
      "metadata": {
        "id": "5Luz3_tVLUxs"
      },
      "outputs": [],
      "source": [
        "config = Namespace(\n",
        "    datadir = \"./DATA/data-bin/ted2020_with_mono\",\n",
        "    savedir = \"./checkpoints/transformer-bt\", # \"./checkpoints/transformer\", # \"./checkpoints/rnn\",\n",
        "    source_lang = \"en\",\n",
        "    target_lang = \"zh\",\n",
        "    \n",
        "    # cpu threads when fetching & processing data.\n",
        "    num_workers=2,  \n",
        "    # batch size in terms of tokens. gradient accumulation increases the effective batchsize.\n",
        "    max_tokens=8192,\n",
        "    accum_steps=2,\n",
        "    \n",
        "    # the lr s calculated from Noam lr scheduler. you can tune the maximum lr by this factor.\n",
        "    lr_factor=2.,\n",
        "    lr_warmup=4000,\n",
        "    \n",
        "    # clipping gradient norm helps alleviate gradient exploding\n",
        "    clip_norm=1.0,\n",
        "    \n",
        "    # maximum epochs for training\n",
        "    max_epoch=100,\n",
        "    start_epoch=1,\n",
        "    \n",
        "    # early stop patience if no improvement\n",
        "    early_stop_patience=3,\n",
        "    \n",
        "    # beam size for beam search\n",
        "    beam=5, \n",
        "    # generate sequences of maximum length ax + b, where x is the source length\n",
        "    max_len_a=1.2, \n",
        "    max_len_b=10, \n",
        "    # when decoding, post process sentence by removing sentencepiece symbols and jieba tokenization.\n",
        "    post_process = \"sentencepiece\",\n",
        "    \n",
        "    # checkpoints\n",
        "    keep_last_epochs=5,\n",
        "    resume=None, # if resume from checkpoint name (under config.savedir)\n",
        "    \n",
        "    # logging\n",
        "    use_wandb=False,\n",
        ")"
      ]
    },
    {
      "cell_type": "markdown",
      "metadata": {
        "id": "cjrJFvyQLg86"
      },
      "source": [
        "# Logging\n",
        "- logging package logs ordinary messages\n",
        "- wandb logs the loss, bleu, etc. in the training process"
      ]
    },
    {
      "cell_type": "code",
      "execution_count": 19,
      "metadata": {
        "id": "-ZiMyDWALbDk"
      },
      "outputs": [],
      "source": [
        "logging.basicConfig(\n",
        "    format=\"%(asctime)s | %(levelname)s | %(name)s | %(message)s\",\n",
        "    datefmt=\"%Y-%m-%d %H:%M:%S\",\n",
        "    level=\"INFO\", # \"DEBUG\" \"WARNING\" \"ERROR\"\n",
        "    stream=sys.stdout,\n",
        ")\n",
        "proj = \"hw5.seq2seq\"\n",
        "logger = logging.getLogger(proj)\n",
        "if config.use_wandb:\n",
        "    import wandb\n",
        "    wandb.init(project=proj, name=Path(config.savedir).stem, config=config)"
      ]
    },
    {
      "cell_type": "markdown",
      "metadata": {
        "id": "BNoSkK45Lmqc"
      },
      "source": [
        "# CUDA Environments"
      ]
    },
    {
      "cell_type": "code",
      "execution_count": 20,
      "metadata": {
        "id": "oqrsbmcoLqMl"
      },
      "outputs": [
        {
          "name": "stderr",
          "output_type": "stream",
          "text": [
            "2023-04-15 01:20:00 | INFO | fairseq.utils | ***********************CUDA enviroments for all 1 workers***********************\n",
            "2023-04-15 01:20:00 | INFO | fairseq.utils | rank   0: capabilities =  8.6  ; total memory = 16.000 GB ; name = NVIDIA GeForce RTX 3080 Laptop GPU      \n",
            "2023-04-15 01:20:00 | INFO | fairseq.utils | ***********************CUDA enviroments for all 1 workers***********************\n"
          ]
        }
      ],
      "source": [
        "cuda_env = utils.CudaEnvironment()\n",
        "utils.CudaEnvironment.pretty_print_cuda_env_list([cuda_env])\n",
        "device = torch.device('cuda:0' if torch.cuda.is_available() else 'cpu')"
      ]
    },
    {
      "cell_type": "markdown",
      "metadata": {
        "id": "TbJuBIHLLt2D"
      },
      "source": [
        "# Dataloading"
      ]
    },
    {
      "cell_type": "markdown",
      "metadata": {
        "id": "oOpG4EBRLwe_"
      },
      "source": [
        "## We borrow the TranslationTask from fairseq\n",
        "* used to load the binarized data created above\n",
        "* well-implemented data iterator (dataloader)\n",
        "* built-in task.source_dictionary and task.target_dictionary are also handy\n",
        "* well-implemented beach search decoder"
      ]
    },
    {
      "cell_type": "code",
      "execution_count": 21,
      "metadata": {
        "id": "3gSEy1uFLvVs"
      },
      "outputs": [
        {
          "name": "stderr",
          "output_type": "stream",
          "text": [
            "2023-04-15 01:20:01 | INFO | fairseq.tasks.translation | [en] dictionary: 8000 types\n",
            "2023-04-15 01:20:01 | INFO | fairseq.tasks.translation | [zh] dictionary: 8000 types\n"
          ]
        }
      ],
      "source": [
        "from fairseq.tasks.translation import TranslationConfig, TranslationTask\n",
        "\n",
        "## setup task\n",
        "task_cfg = TranslationConfig(\n",
        "    data=config.datadir,\n",
        "    source_lang=config.source_lang,\n",
        "    target_lang=config.target_lang,\n",
        "    train_subset=\"train\",\n",
        "    required_seq_len_multiple=8,\n",
        "    dataset_impl=\"mmap\",\n",
        "    upsample_primary=1,\n",
        ")\n",
        "task = TranslationTask.setup_task(task_cfg)"
      ]
    },
    {
      "cell_type": "code",
      "execution_count": 22,
      "metadata": {
        "id": "mR7Bhov7L4IU"
      },
      "outputs": [
        {
          "name": "stderr",
          "output_type": "stream",
          "text": [
            "2023-04-15 01:20:01 | INFO | hw5.seq2seq | loading data for epoch 1\n",
            "2023-04-15 01:20:01 | INFO | fairseq.data.data_utils | loaded 390,041 examples from: ./DATA/data-bin/ted2020_with_mono\\train.en-zh.en\n",
            "2023-04-15 01:20:01 | INFO | fairseq.data.data_utils | loaded 390,041 examples from: ./DATA/data-bin/ted2020_with_mono\\train.en-zh.zh\n",
            "2023-04-15 01:20:01 | INFO | fairseq.tasks.translation | ./DATA/data-bin/ted2020_with_mono train en-zh 390041 examples\n",
            "2023-04-15 01:20:01 | INFO | fairseq.data.data_utils | loaded 781,713 examples from: ./DATA/data-bin/ted2020_with_mono\\train1.en-zh.en\n",
            "2023-04-15 01:20:01 | INFO | fairseq.data.data_utils | loaded 781,713 examples from: ./DATA/data-bin/ted2020_with_mono\\train1.en-zh.zh\n",
            "2023-04-15 01:20:01 | INFO | fairseq.tasks.translation | ./DATA/data-bin/ted2020_with_mono train1 en-zh 781713 examples\n",
            "2023-04-15 01:20:01 | INFO | fairseq.data.data_utils | loaded 3,939 examples from: ./DATA/data-bin/ted2020_with_mono\\valid.en-zh.en\n",
            "2023-04-15 01:20:01 | INFO | fairseq.data.data_utils | loaded 3,939 examples from: ./DATA/data-bin/ted2020_with_mono\\valid.en-zh.zh\n",
            "2023-04-15 01:20:01 | INFO | fairseq.tasks.translation | ./DATA/data-bin/ted2020_with_mono valid en-zh 3939 examples\n"
          ]
        }
      ],
      "source": [
        "logger.info(\"loading data for epoch 1\")\n",
        "task.load_dataset(split=\"train\", epoch=1, combine=True) # combine if you have back-translation data.\n",
        "task.load_dataset(split=\"valid\", epoch=1)"
      ]
    },
    {
      "cell_type": "code",
      "execution_count": 23,
      "metadata": {
        "id": "P0BCEm_9L6ig"
      },
      "outputs": [
        {
          "name": "stdout",
          "output_type": "stream",
          "text": [
            "{'id': 1,\n",
            " 'source': tensor([  18,   14,    6, 2234,   60,   19,   80,    5,  256,   16,  405, 1407,\n",
            "        1706,    7,    2]),\n",
            " 'target': tensor([ 140,  690,   28,  270,   45,  151, 1142,  660,  606,  369, 3114, 2434,\n",
            "        1434,  192,    2])}\n",
            "\"Source: that's exactly what i do optical mind control .\"\n",
            "'Target: 這實在就是我所做的--光學操控思想'\n"
          ]
        }
      ],
      "source": [
        "sample = task.dataset(\"valid\")[1]\n",
        "pprint.pprint(sample)\n",
        "pprint.pprint(\n",
        "    \"Source: \" + \\\n",
        "    task.source_dictionary.string(\n",
        "        sample['source'],\n",
        "        config.post_process,\n",
        "    )\n",
        ")\n",
        "pprint.pprint(\n",
        "    \"Target: \" + \\\n",
        "    task.target_dictionary.string(\n",
        "        sample['target'],\n",
        "        config.post_process,\n",
        "    )\n",
        ")"
      ]
    },
    {
      "cell_type": "markdown",
      "metadata": {
        "id": "UcfCVa2FMBSE"
      },
      "source": [
        "# Dataset iterator"
      ]
    },
    {
      "cell_type": "markdown",
      "metadata": {
        "id": "yBvc-B_6MKZM"
      },
      "source": [
        "* Controls every batch to contain no more than N tokens, which optimizes GPU memory efficiency\n",
        "* Shuffles the training set for every epoch\n",
        "* Ignore sentences exceeding maximum length\n",
        "* Pad all sentences in a batch to the same length, which enables parallel computing by GPU\n",
        "* Add eos and shift one token\n",
        "    - teacher forcing: to train the model to predict the next token based on prefix, we feed the right shifted target sequence as the decoder input.\n",
        "    - generally, prepending bos to the target would do the job (as shown below)\n",
        "![seq2seq](https://i.imgur.com/0zeDyuI.png)\n",
        "    - in fairseq however, this is done by moving the eos token to the begining. Empirically, this has the same effect. For instance:\n",
        "    ```\n",
        "    # output target (target) and Decoder input (prev_output_tokens): \n",
        "                   eos = 2\n",
        "                target = 419,  711,  238,  888,  792,   60,  968,    8,    2\n",
        "    prev_output_tokens = 2,  419,  711,  238,  888,  792,   60,  968,    8\n",
        "    ```\n",
        "\n"
      ]
    },
    {
      "cell_type": "code",
      "execution_count": 24,
      "metadata": {
        "id": "OWFJFmCnMDXW"
      },
      "outputs": [
        {
          "name": "stderr",
          "output_type": "stream",
          "text": [
            "2023-04-15 01:20:03 | WARNING | fairseq.tasks.fairseq_task | 2,532 samples have invalid sizes and will be skipped, max_positions=(20, 20), first few sample ids=[29, 135, 2444, 3058, 682, 731, 235, 1558, 3383, 559]\n"
          ]
        },
        {
          "data": {
            "text/plain": [
              "{'id': tensor([723]),\n",
              " 'nsentences': 1,\n",
              " 'ntokens': 18,\n",
              " 'net_input': {'src_tokens': tensor([[   1,    1,    1,    1,    1,   18,   26,   82,    8,  480,   15,  651,\n",
              "           1361,   38,    6,  176, 2696,   39,    5,  822,   92,  260,    7,    2]]),\n",
              "  'src_lengths': tensor([19]),\n",
              "  'prev_output_tokens': tensor([[   2,  140,  296,  318, 1560,   51,  568,  316,  225, 1952,  254,   78,\n",
              "            151, 2691,    9,  215, 1680,   10,    1,    1,    1,    1,    1,    1]])},\n",
              " 'target': tensor([[ 140,  296,  318, 1560,   51,  568,  316,  225, 1952,  254,   78,  151,\n",
              "          2691,    9,  215, 1680,   10,    2,    1,    1,    1,    1,    1,    1]])}"
            ]
          },
          "execution_count": 24,
          "metadata": {},
          "output_type": "execute_result"
        }
      ],
      "source": [
        "def load_data_iterator(task, split, epoch=1, max_tokens=4000, num_workers=1, cached=True):\n",
        "    batch_iterator = task.get_batch_iterator(\n",
        "        dataset=task.dataset(split),\n",
        "        max_tokens=max_tokens,\n",
        "        max_sentences=None,\n",
        "        max_positions=utils.resolve_max_positions(\n",
        "            task.max_positions(),\n",
        "            max_tokens,\n",
        "        ),\n",
        "        ignore_invalid_inputs=True,\n",
        "        seed=seed,\n",
        "        num_workers=num_workers,\n",
        "        epoch=epoch,\n",
        "        disable_iterator_cache=not cached,\n",
        "        # Set this to False to speed up. However, if set to False, changing max_tokens beyond \n",
        "        # first call of this method has no effect. \n",
        "    )\n",
        "    return batch_iterator\n",
        "\n",
        "demo_epoch_obj = load_data_iterator(task, \"valid\", epoch=1, max_tokens=20, num_workers=1, cached=False)\n",
        "demo_iter = demo_epoch_obj.next_epoch_itr(shuffle=True)\n",
        "sample = next(demo_iter)\n",
        "sample"
      ]
    },
    {
      "cell_type": "markdown",
      "metadata": {
        "id": "p86K-0g7Me4M"
      },
      "source": [
        "* each batch is a python dict, with string key and Tensor value. Contents are described below:\n",
        "```python\n",
        "batch = {\n",
        "    \"id\": id, # id for each example \n",
        "    \"nsentences\": len(samples), # batch size (sentences)\n",
        "    \"ntokens\": ntokens, # batch size (tokens)\n",
        "    \"net_input\": {\n",
        "        \"src_tokens\": src_tokens, # sequence in source language\n",
        "        \"src_lengths\": src_lengths, # sequence length of each example before padding\n",
        "        \"prev_output_tokens\": prev_output_tokens, # right shifted target, as mentioned above.\n",
        "    },\n",
        "    \"target\": target, # target sequence\n",
        "}\n",
        "```"
      ]
    },
    {
      "cell_type": "markdown",
      "metadata": {
        "id": "9EyDBE5ZMkFZ"
      },
      "source": [
        "# Model Architecture\n",
        "* We again inherit fairseq's encoder, decoder and model, so that in the testing phase we can directly leverage fairseq's beam search decoder."
      ]
    },
    {
      "cell_type": "code",
      "execution_count": 25,
      "metadata": {
        "id": "Hzh74qLIMfW_"
      },
      "outputs": [],
      "source": [
        "from fairseq.models import (\n",
        "    FairseqEncoder, \n",
        "    FairseqIncrementalDecoder,\n",
        "    FairseqEncoderDecoderModel\n",
        ")"
      ]
    },
    {
      "cell_type": "markdown",
      "metadata": {
        "id": "OI46v1z7MotH"
      },
      "source": [
        "# Encoder"
      ]
    },
    {
      "cell_type": "markdown",
      "metadata": {
        "id": "Wn0wSeLLMrbc"
      },
      "source": [
        "- The Encoder is a RNN or Transformer Encoder. The following description is for RNN. For every input token, Encoder will generate a output vector and a hidden states vector, and the hidden states vector is passed on to the next step. In other words, the Encoder sequentially reads in the input sequence, and outputs a single vector at each timestep, then finally outputs the final hidden states, or content vector, at the last timestep.\n",
        "- Parameters:\n",
        "  - *args*\n",
        "      - encoder_embed_dim: the dimension of embeddings, this compresses the one-hot vector into fixed dimensions, which achieves dimension reduction\n",
        "      - encoder_ffn_embed_dim is the dimension of hidden states and output vectors\n",
        "      - encoder_layers is the number of layers for Encoder RNN\n",
        "      - dropout determines the probability of a neuron's activation being set to 0, in order to prevent overfitting. Generally this is applied in training, and removed in testing.\n",
        "  - *dictionary*: the dictionary provided by fairseq. it's used to obtain the padding index, and in turn the encoder padding mask. \n",
        "  - *embed_tokens*: an instance of token embeddings (nn.Embedding)\n",
        "\n",
        "- Inputs: \n",
        "    - *src_tokens*: integer sequence representing english e.g. 1, 28, 29, 205, 2 \n",
        "- Outputs: \n",
        "    - *outputs*: the output of RNN at each timestep, can be furthur processed by Attention\n",
        "    - *final_hiddens*: the hidden states of each timestep, will be passed to decoder for decoding\n",
        "    - *encoder_padding_mask*: this tells the decoder which position to ignore\n"
      ]
    },
    {
      "cell_type": "code",
      "execution_count": 26,
      "metadata": {
        "id": "WcX3W4iGMq-S"
      },
      "outputs": [],
      "source": [
        "class RNNEncoder(FairseqEncoder):\n",
        "    def __init__(self, args, dictionary, embed_tokens):\n",
        "        super().__init__(dictionary)\n",
        "        self.embed_tokens = embed_tokens\n",
        "        \n",
        "        self.embed_dim = args.encoder_embed_dim\n",
        "        self.hidden_dim = args.encoder_ffn_embed_dim\n",
        "        self.num_layers = args.encoder_layers\n",
        "        \n",
        "        self.dropout_in_module = nn.Dropout(args.dropout)\n",
        "        self.rnn = nn.GRU(\n",
        "            self.embed_dim, \n",
        "            self.hidden_dim, \n",
        "            self.num_layers, \n",
        "            dropout=args.dropout, \n",
        "            batch_first=False, \n",
        "            bidirectional=True\n",
        "        )\n",
        "        self.dropout_out_module = nn.Dropout(args.dropout)\n",
        "        \n",
        "        self.padding_idx = dictionary.pad()\n",
        "        \n",
        "    def combine_bidir(self, outs, bsz: int):\n",
        "        out = outs.view(self.num_layers, 2, bsz, -1).transpose(1, 2).contiguous()\n",
        "        return out.view(self.num_layers, bsz, -1)\n",
        "\n",
        "    def forward(self, src_tokens, **unused):\n",
        "        bsz, seqlen = src_tokens.size()\n",
        "        \n",
        "        # get embeddings\n",
        "        x = self.embed_tokens(src_tokens)\n",
        "        x = self.dropout_in_module(x)\n",
        "\n",
        "        # B x T x C -> T x B x C\n",
        "        x = x.transpose(0, 1)\n",
        "        \n",
        "        # pass thru bidirectional RNN\n",
        "        h0 = x.new_zeros(2 * self.num_layers, bsz, self.hidden_dim)\n",
        "        x, final_hiddens = self.rnn(x, h0)\n",
        "        outputs = self.dropout_out_module(x)\n",
        "        # outputs = [sequence len, batch size, hid dim * directions]\n",
        "        # hidden =  [num_layers * directions, batch size  , hid dim]\n",
        "        \n",
        "        # Since Encoder is bidirectional, we need to concatenate the hidden states of two directions\n",
        "        final_hiddens = self.combine_bidir(final_hiddens, bsz)\n",
        "        # hidden =  [num_layers x batch x num_directions*hidden]\n",
        "        \n",
        "        encoder_padding_mask = src_tokens.eq(self.padding_idx).t()\n",
        "        return tuple(\n",
        "            (\n",
        "                outputs,  # seq_len x batch x hidden\n",
        "                final_hiddens,  # num_layers x batch x num_directions*hidden\n",
        "                encoder_padding_mask,  # seq_len x batch\n",
        "            )\n",
        "        )\n",
        "    \n",
        "    def reorder_encoder_out(self, encoder_out, new_order):\n",
        "        # This is used by fairseq's beam search. How and why is not particularly important here.\n",
        "        return tuple(\n",
        "            (\n",
        "                encoder_out[0].index_select(1, new_order),\n",
        "                encoder_out[1].index_select(1, new_order),\n",
        "                encoder_out[2].index_select(1, new_order),\n",
        "            )\n",
        "        )"
      ]
    },
    {
      "cell_type": "markdown",
      "metadata": {
        "id": "6ZlE_1JnMv56"
      },
      "source": [
        "## Attention"
      ]
    },
    {
      "cell_type": "markdown",
      "metadata": {
        "id": "ZSFSKt_ZMzgh"
      },
      "source": [
        "- When the input sequence is long, \"content vector\" alone cannot accurately represent the whole sequence, attention mechanism can provide the Decoder more information.\n",
        "- According to the **Decoder embeddings** of the current timestep, match the **Encoder outputs** with decoder embeddings to determine correlation, and then sum the Encoder outputs weighted by the correlation as the input to **Decoder** RNN.\n",
        "- Common attention implementations use neural network / dot product as the correlation between **query** (decoder embeddings) and **key** (Encoder outputs), followed by **softmax**  to obtain a distribution, and finally **values** (Encoder outputs) is **weighted sum**-ed by said distribution.\n",
        "\n",
        "- Parameters:\n",
        "  - *input_embed_dim*: dimensionality of key, should be that of the vector in decoder to attend others\n",
        "  - *source_embed_dim*: dimensionality of query, should be that of the vector to be attended to (encoder outputs)\n",
        "  - *output_embed_dim*: dimensionality of value, should be that of the vector after attention, expected by the next layer\n",
        "\n",
        "- Inputs: \n",
        "    - *inputs*: is the key, the vector to attend to others\n",
        "    - *encoder_outputs*:  is the query/value, the vector to be attended to\n",
        "    - *encoder_padding_mask*: this tells the decoder which position to ignore\n",
        "- Outputs: \n",
        "    - *output*: the context vector after attention\n",
        "    - *attention score*: the attention distribution\n"
      ]
    },
    {
      "cell_type": "code",
      "execution_count": 27,
      "metadata": {
        "id": "1Atf_YuCMyyF"
      },
      "outputs": [],
      "source": [
        "class AttentionLayer(nn.Module):\n",
        "    def __init__(self, input_embed_dim, source_embed_dim, output_embed_dim, bias=False):\n",
        "        super().__init__()\n",
        "\n",
        "        self.input_proj = nn.Linear(input_embed_dim, source_embed_dim, bias=bias)\n",
        "        self.output_proj = nn.Linear(\n",
        "            input_embed_dim + source_embed_dim, output_embed_dim, bias=bias\n",
        "        )\n",
        "\n",
        "    def forward(self, inputs, encoder_outputs, encoder_padding_mask):\n",
        "        # inputs: T, B, dim\n",
        "        # encoder_outputs: S x B x dim\n",
        "        # padding mask:  S x B\n",
        "        \n",
        "        # convert all to batch first\n",
        "        inputs = inputs.transpose(1,0) # B, T, dim\n",
        "        encoder_outputs = encoder_outputs.transpose(1,0) # B, S, dim\n",
        "        encoder_padding_mask = encoder_padding_mask.transpose(1,0) # B, S\n",
        "        \n",
        "        # project to the dimensionality of encoder_outputs\n",
        "        x = self.input_proj(inputs)\n",
        "\n",
        "        # compute attention\n",
        "        # (B, T, dim) x (B, dim, S) = (B, T, S)\n",
        "        attn_scores = torch.bmm(x, encoder_outputs.transpose(1,2))\n",
        "\n",
        "        # cancel the attention at positions corresponding to padding\n",
        "        if encoder_padding_mask is not None:\n",
        "            # leveraging broadcast  B, S -> (B, 1, S)\n",
        "            encoder_padding_mask = encoder_padding_mask.unsqueeze(1)\n",
        "            attn_scores = (\n",
        "                attn_scores.float()\n",
        "                .masked_fill_(encoder_padding_mask, float(\"-inf\"))\n",
        "                .type_as(attn_scores)\n",
        "            )  # FP16 support: cast to float and back\n",
        "\n",
        "        # softmax on the dimension corresponding to source sequence\n",
        "        attn_scores = F.softmax(attn_scores, dim=-1)\n",
        "\n",
        "        # shape (B, T, S) x (B, S, dim) = (B, T, dim) weighted sum\n",
        "        x = torch.bmm(attn_scores, encoder_outputs)\n",
        "\n",
        "        # (B, T, dim)\n",
        "        x = torch.cat((x, inputs), dim=-1)\n",
        "        x = torch.tanh(self.output_proj(x)) # concat + linear + tanh\n",
        "        \n",
        "        # restore shape (B, T, dim) -> (T, B, dim)\n",
        "        return x.transpose(1,0), attn_scores"
      ]
    },
    {
      "cell_type": "markdown",
      "metadata": {
        "id": "doSCOA2gM7fK"
      },
      "source": [
        "# Decoder"
      ]
    },
    {
      "cell_type": "markdown",
      "metadata": {
        "id": "2M8Vod2gNABR"
      },
      "source": [
        "* The hidden states of **Decoder** will be initialized by the final hidden states of **Encoder** (the content vector)\n",
        "* At the same time, **Decoder** will change its hidden states based on the input of the current timestep (the outputs of previous timesteps), and generates an output\n",
        "* Attention improves the performance\n",
        "* The seq2seq steps are implemented in decoder, so that later the Seq2Seq class can accept RNN and Transformer, without furthur modification.\n",
        "- Parameters:\n",
        "  - *args*\n",
        "      - decoder_embed_dim: is the dimensionality of the decoder embeddings, similar to encoder_embed_dim，\n",
        "      - decoder_ffn_embed_dim: is the dimensionality of the decoder RNN hidden states, similar to encoder_ffn_embed_dim\n",
        "      - decoder_layers: number of layers of RNN decoder\n",
        "      - share_decoder_input_output_embed: usually, the projection matrix of the decoder will share weights with the decoder input embeddings\n",
        "  - *dictionary*: the dictionary provided by fairseq\n",
        "  - *embed_tokens*: an instance of token embeddings (nn.Embedding)\n",
        "- Inputs: \n",
        "    - *prev_output_tokens*: integer sequence representing the right-shifted target e.g. 1, 28, 29, 205, 2 \n",
        "    - *encoder_out*: encoder's output.\n",
        "    - *incremental_state*: in order to speed up decoding during test time, we will save the hidden state of each timestep. see forward() for details.\n",
        "- Outputs: \n",
        "    - *outputs*: the logits (before softmax) output of decoder for each timesteps\n",
        "    - *extra*: unsused"
      ]
    },
    {
      "cell_type": "code",
      "execution_count": 28,
      "metadata": {
        "id": "QfvgqHYDM6Lp"
      },
      "outputs": [],
      "source": [
        "class RNNDecoder(FairseqIncrementalDecoder):\n",
        "    def __init__(self, args, dictionary, embed_tokens):\n",
        "        super().__init__(dictionary)\n",
        "        self.embed_tokens = embed_tokens\n",
        "        \n",
        "        assert args.decoder_layers == args.encoder_layers, f\"\"\"seq2seq rnn requires that encoder \n",
        "        and decoder have same layers of rnn. got: {args.encoder_layers, args.decoder_layers}\"\"\"\n",
        "        assert args.decoder_ffn_embed_dim == args.encoder_ffn_embed_dim*2, f\"\"\"seq2seq-rnn requires \n",
        "        that decoder hidden to be 2*encoder hidden dim. got: {args.decoder_ffn_embed_dim, args.encoder_ffn_embed_dim*2}\"\"\"\n",
        "        \n",
        "        self.embed_dim = args.decoder_embed_dim\n",
        "        self.hidden_dim = args.decoder_ffn_embed_dim\n",
        "        self.num_layers = args.decoder_layers\n",
        "        \n",
        "        \n",
        "        self.dropout_in_module = nn.Dropout(args.dropout)\n",
        "        self.rnn = nn.GRU(\n",
        "            self.embed_dim, \n",
        "            self.hidden_dim, \n",
        "            self.num_layers, \n",
        "            dropout=args.dropout, \n",
        "            batch_first=False, \n",
        "            bidirectional=False\n",
        "        )\n",
        "        self.attention = AttentionLayer(\n",
        "            self.embed_dim, self.hidden_dim, self.embed_dim, bias=False\n",
        "        ) \n",
        "        # self.attention = None\n",
        "        self.dropout_out_module = nn.Dropout(args.dropout)\n",
        "        \n",
        "        if self.hidden_dim != self.embed_dim:\n",
        "            self.project_out_dim = nn.Linear(self.hidden_dim, self.embed_dim)\n",
        "        else:\n",
        "            self.project_out_dim = None\n",
        "        \n",
        "        if args.share_decoder_input_output_embed:\n",
        "            self.output_projection = nn.Linear(\n",
        "                self.embed_tokens.weight.shape[1],\n",
        "                self.embed_tokens.weight.shape[0],\n",
        "                bias=False,\n",
        "            )\n",
        "            self.output_projection.weight = self.embed_tokens.weight\n",
        "        else:\n",
        "            self.output_projection = nn.Linear(\n",
        "                self.output_embed_dim, len(dictionary), bias=False\n",
        "            )\n",
        "            nn.init.normal_(\n",
        "                self.output_projection.weight, mean=0, std=self.output_embed_dim ** -0.5\n",
        "            )\n",
        "        \n",
        "    def forward(self, prev_output_tokens, encoder_out, incremental_state=None, **unused):\n",
        "        # extract the outputs from encoder\n",
        "        encoder_outputs, encoder_hiddens, encoder_padding_mask = encoder_out\n",
        "        # outputs:          seq_len x batch x num_directions*hidden\n",
        "        # encoder_hiddens:  num_layers x batch x num_directions*encoder_hidden\n",
        "        # padding_mask:     seq_len x batch\n",
        "        \n",
        "        if incremental_state is not None and len(incremental_state) > 0:\n",
        "            # if the information from last timestep is retained, we can continue from there instead of starting from bos\n",
        "            prev_output_tokens = prev_output_tokens[:, -1:]\n",
        "            cache_state = self.get_incremental_state(incremental_state, \"cached_state\")\n",
        "            prev_hiddens = cache_state[\"prev_hiddens\"]\n",
        "        else:\n",
        "            # incremental state does not exist, either this is training time, or the first timestep of test time\n",
        "            # prepare for seq2seq: pass the encoder_hidden to the decoder hidden states\n",
        "            prev_hiddens = encoder_hiddens\n",
        "        \n",
        "        bsz, seqlen = prev_output_tokens.size()\n",
        "        \n",
        "        # embed tokens\n",
        "        x = self.embed_tokens(prev_output_tokens)\n",
        "        x = self.dropout_in_module(x)\n",
        "\n",
        "        # B x T x C -> T x B x C\n",
        "        x = x.transpose(0, 1)\n",
        "                \n",
        "        # decoder-to-encoder attention\n",
        "        if self.attention is not None:\n",
        "            x, attn = self.attention(x, encoder_outputs, encoder_padding_mask)\n",
        "                        \n",
        "        # pass thru unidirectional RNN\n",
        "        x, final_hiddens = self.rnn(x, prev_hiddens)\n",
        "        # outputs = [sequence len, batch size, hid dim]\n",
        "        # hidden =  [num_layers * directions, batch size  , hid dim]\n",
        "        x = self.dropout_out_module(x)\n",
        "                \n",
        "        # project to embedding size (if hidden differs from embed size, and share_embedding is True, \n",
        "        # we need to do an extra projection)\n",
        "        if self.project_out_dim != None:\n",
        "            x = self.project_out_dim(x)\n",
        "        \n",
        "        # project to vocab size\n",
        "        x = self.output_projection(x)\n",
        "        \n",
        "        # T x B x C -> B x T x C\n",
        "        x = x.transpose(1, 0)\n",
        "        \n",
        "        # if incremental, record the hidden states of current timestep, which will be restored in the next timestep\n",
        "        cache_state = {\n",
        "            \"prev_hiddens\": final_hiddens,\n",
        "        }\n",
        "        self.set_incremental_state(incremental_state, \"cached_state\", cache_state)\n",
        "        \n",
        "        return x, None\n",
        "    \n",
        "    def reorder_incremental_state(\n",
        "        self,\n",
        "        incremental_state,\n",
        "        new_order,\n",
        "    ):\n",
        "        # This is used by fairseq's beam search. How and why is not particularly important here.\n",
        "        cache_state = self.get_incremental_state(incremental_state, \"cached_state\")\n",
        "        prev_hiddens = cache_state[\"prev_hiddens\"]\n",
        "        prev_hiddens = [p.index_select(0, new_order) for p in prev_hiddens]\n",
        "        cache_state = {\n",
        "            \"prev_hiddens\": torch.stack(prev_hiddens),\n",
        "        }\n",
        "        self.set_incremental_state(incremental_state, \"cached_state\", cache_state)\n",
        "        return"
      ]
    },
    {
      "cell_type": "markdown",
      "metadata": {
        "id": "UDAPmxjRNEEL"
      },
      "source": [
        "## Seq2Seq\n",
        "- Composed of **Encoder** and **Decoder**\n",
        "- Recieves inputs and pass to **Encoder** \n",
        "- Pass the outputs from **Encoder** to **Decoder**\n",
        "- **Decoder** will decode according to outputs of previous timesteps as well as **Encoder** outputs  \n",
        "- Once done decoding, return the **Decoder** outputs"
      ]
    },
    {
      "cell_type": "code",
      "execution_count": 29,
      "metadata": {
        "id": "oRwKdLa0NEU6"
      },
      "outputs": [],
      "source": [
        "class Seq2Seq(FairseqEncoderDecoderModel):\n",
        "    def __init__(self, args, encoder, decoder):\n",
        "        super().__init__(encoder, decoder)\n",
        "        self.args = args\n",
        "    \n",
        "    def forward(\n",
        "        self,\n",
        "        src_tokens,\n",
        "        src_lengths,\n",
        "        prev_output_tokens,\n",
        "        return_all_hiddens: bool = True,\n",
        "    ):\n",
        "        \"\"\"\n",
        "        Run the forward pass for an encoder-decoder model.\n",
        "        \"\"\"\n",
        "        encoder_out = self.encoder(\n",
        "            src_tokens, src_lengths=src_lengths, return_all_hiddens=return_all_hiddens\n",
        "        )\n",
        "        logits, extra = self.decoder(\n",
        "            prev_output_tokens,\n",
        "            encoder_out=encoder_out,\n",
        "            src_lengths=src_lengths,\n",
        "            return_all_hiddens=return_all_hiddens,\n",
        "        )\n",
        "        return logits, extra"
      ]
    },
    {
      "cell_type": "markdown",
      "metadata": {
        "id": "zu3C2JfqNHzk"
      },
      "source": [
        "# Model Initialization"
      ]
    },
    {
      "cell_type": "code",
      "execution_count": 30,
      "metadata": {
        "id": "nyI9FOx-NJ2m"
      },
      "outputs": [],
      "source": [
        "# # HINT: transformer architecture\n",
        "from fairseq.models.transformer import (\n",
        "    TransformerEncoder, \n",
        "    TransformerDecoder,\n",
        ")\n",
        "\n",
        "def build_model(args, task):\n",
        "    \"\"\" build a model instance based on hyperparameters \"\"\"\n",
        "    src_dict, tgt_dict = task.source_dictionary, task.target_dictionary\n",
        "\n",
        "    # token embeddings\n",
        "    encoder_embed_tokens = nn.Embedding(len(src_dict), args.encoder_embed_dim, src_dict.pad())\n",
        "    decoder_embed_tokens = nn.Embedding(len(tgt_dict), args.decoder_embed_dim, tgt_dict.pad())\n",
        "    \n",
        "    # encoder decoder\n",
        "    # HINT: TODO: switch to TransformerEncoder & TransformerDecoder\n",
        "    # encoder = RNNEncoder(args, src_dict, encoder_embed_tokens)\n",
        "    # decoder = RNNDecoder(args, tgt_dict, decoder_embed_tokens)\n",
        "    encoder = TransformerEncoder(args, src_dict, encoder_embed_tokens)\n",
        "    decoder = TransformerDecoder(args, tgt_dict, decoder_embed_tokens)\n",
        "\n",
        "    # sequence to sequence model\n",
        "    model = Seq2Seq(args, encoder, decoder)\n",
        "    \n",
        "    # initialization for seq2seq model is important, requires extra handling\n",
        "    def init_params(module):\n",
        "        from fairseq.modules import MultiheadAttention\n",
        "        if isinstance(module, nn.Linear):\n",
        "            module.weight.data.normal_(mean=0.0, std=0.02)\n",
        "            if module.bias is not None:\n",
        "                module.bias.data.zero_()\n",
        "        if isinstance(module, nn.Embedding):\n",
        "            module.weight.data.normal_(mean=0.0, std=0.02)\n",
        "            if module.padding_idx is not None:\n",
        "                module.weight.data[module.padding_idx].zero_()\n",
        "        if isinstance(module, MultiheadAttention):\n",
        "            module.q_proj.weight.data.normal_(mean=0.0, std=0.02)\n",
        "            module.k_proj.weight.data.normal_(mean=0.0, std=0.02)\n",
        "            module.v_proj.weight.data.normal_(mean=0.0, std=0.02)\n",
        "        if isinstance(module, nn.RNNBase):\n",
        "            for name, param in module.named_parameters():\n",
        "                if \"weight\" in name or \"bias\" in name:\n",
        "                    param.data.uniform_(-0.1, 0.1)\n",
        "            \n",
        "    # weight initialization\n",
        "    model.apply(init_params)\n",
        "    return model"
      ]
    },
    {
      "cell_type": "markdown",
      "metadata": {
        "id": "ce5n4eS7NQNy"
      },
      "source": [
        "## Architecture Related Configuration\n",
        "\n",
        "For strong baseline, please refer to the hyperparameters for *transformer-base* in Table 3 in [Attention is all you need](#vaswani2017)"
      ]
    },
    {
      "cell_type": "code",
      "execution_count": 31,
      "metadata": {
        "id": "Cyn30VoGNT6N"
      },
      "outputs": [],
      "source": [
        "arch_args = Namespace(\n",
        "    encoder_embed_dim=256,\n",
        "    encoder_ffn_embed_dim=512,\n",
        "    encoder_layers=4, # 1,\n",
        "    decoder_embed_dim=256,\n",
        "    decoder_ffn_embed_dim=1024,\n",
        "    decoder_layers=4, # 1,\n",
        "    share_decoder_input_output_embed=True,\n",
        "    dropout=0.3,\n",
        ")\n",
        "\n",
        "# HINT: these patches on parameters for Transformer\n",
        "def add_transformer_args(args):\n",
        "    args.encoder_attention_heads=4\n",
        "    args.encoder_normalize_before=True\n",
        "    \n",
        "    args.decoder_attention_heads=4\n",
        "    args.decoder_normalize_before=True\n",
        "    \n",
        "    args.activation_fn=\"relu\"\n",
        "    args.max_source_positions=1024\n",
        "    args.max_target_positions=1024\n",
        "    \n",
        "    # patches on default parameters for Transformer (those not set above)\n",
        "    from fairseq.models.transformer import base_architecture\n",
        "    base_architecture(arch_args)\n",
        "\n",
        "add_transformer_args(arch_args)"
      ]
    },
    {
      "cell_type": "code",
      "execution_count": 32,
      "metadata": {
        "id": "Nbb76QLCNZZZ"
      },
      "outputs": [],
      "source": [
        "if config.use_wandb:\n",
        "    wandb.config.update(vars(arch_args))"
      ]
    },
    {
      "cell_type": "code",
      "execution_count": 33,
      "metadata": {
        "id": "7ZWfxsCDNatH"
      },
      "outputs": [
        {
          "name": "stderr",
          "output_type": "stream",
          "text": [
            "2023-04-15 01:20:10 | INFO | hw5.seq2seq | Seq2Seq(\n",
            "  (encoder): TransformerEncoder(\n",
            "    (dropout_module): FairseqDropout()\n",
            "    (embed_tokens): Embedding(8000, 256, padding_idx=1)\n",
            "    (embed_positions): SinusoidalPositionalEmbedding()\n",
            "    (layers): ModuleList(\n",
            "      (0): TransformerEncoderLayerBase(\n",
            "        (self_attn): MultiheadAttention(\n",
            "          (dropout_module): FairseqDropout()\n",
            "          (k_proj): Linear(in_features=256, out_features=256, bias=True)\n",
            "          (v_proj): Linear(in_features=256, out_features=256, bias=True)\n",
            "          (q_proj): Linear(in_features=256, out_features=256, bias=True)\n",
            "          (out_proj): Linear(in_features=256, out_features=256, bias=True)\n",
            "        )\n",
            "        (self_attn_layer_norm): LayerNorm((256,), eps=1e-05, elementwise_affine=True)\n",
            "        (dropout_module): FairseqDropout()\n",
            "        (activation_dropout_module): FairseqDropout()\n",
            "        (fc1): Linear(in_features=256, out_features=512, bias=True)\n",
            "        (fc2): Linear(in_features=512, out_features=256, bias=True)\n",
            "        (final_layer_norm): LayerNorm((256,), eps=1e-05, elementwise_affine=True)\n",
            "      )\n",
            "      (1): TransformerEncoderLayerBase(\n",
            "        (self_attn): MultiheadAttention(\n",
            "          (dropout_module): FairseqDropout()\n",
            "          (k_proj): Linear(in_features=256, out_features=256, bias=True)\n",
            "          (v_proj): Linear(in_features=256, out_features=256, bias=True)\n",
            "          (q_proj): Linear(in_features=256, out_features=256, bias=True)\n",
            "          (out_proj): Linear(in_features=256, out_features=256, bias=True)\n",
            "        )\n",
            "        (self_attn_layer_norm): LayerNorm((256,), eps=1e-05, elementwise_affine=True)\n",
            "        (dropout_module): FairseqDropout()\n",
            "        (activation_dropout_module): FairseqDropout()\n",
            "        (fc1): Linear(in_features=256, out_features=512, bias=True)\n",
            "        (fc2): Linear(in_features=512, out_features=256, bias=True)\n",
            "        (final_layer_norm): LayerNorm((256,), eps=1e-05, elementwise_affine=True)\n",
            "      )\n",
            "      (2): TransformerEncoderLayerBase(\n",
            "        (self_attn): MultiheadAttention(\n",
            "          (dropout_module): FairseqDropout()\n",
            "          (k_proj): Linear(in_features=256, out_features=256, bias=True)\n",
            "          (v_proj): Linear(in_features=256, out_features=256, bias=True)\n",
            "          (q_proj): Linear(in_features=256, out_features=256, bias=True)\n",
            "          (out_proj): Linear(in_features=256, out_features=256, bias=True)\n",
            "        )\n",
            "        (self_attn_layer_norm): LayerNorm((256,), eps=1e-05, elementwise_affine=True)\n",
            "        (dropout_module): FairseqDropout()\n",
            "        (activation_dropout_module): FairseqDropout()\n",
            "        (fc1): Linear(in_features=256, out_features=512, bias=True)\n",
            "        (fc2): Linear(in_features=512, out_features=256, bias=True)\n",
            "        (final_layer_norm): LayerNorm((256,), eps=1e-05, elementwise_affine=True)\n",
            "      )\n",
            "      (3): TransformerEncoderLayerBase(\n",
            "        (self_attn): MultiheadAttention(\n",
            "          (dropout_module): FairseqDropout()\n",
            "          (k_proj): Linear(in_features=256, out_features=256, bias=True)\n",
            "          (v_proj): Linear(in_features=256, out_features=256, bias=True)\n",
            "          (q_proj): Linear(in_features=256, out_features=256, bias=True)\n",
            "          (out_proj): Linear(in_features=256, out_features=256, bias=True)\n",
            "        )\n",
            "        (self_attn_layer_norm): LayerNorm((256,), eps=1e-05, elementwise_affine=True)\n",
            "        (dropout_module): FairseqDropout()\n",
            "        (activation_dropout_module): FairseqDropout()\n",
            "        (fc1): Linear(in_features=256, out_features=512, bias=True)\n",
            "        (fc2): Linear(in_features=512, out_features=256, bias=True)\n",
            "        (final_layer_norm): LayerNorm((256,), eps=1e-05, elementwise_affine=True)\n",
            "      )\n",
            "    )\n",
            "    (layer_norm): LayerNorm((256,), eps=1e-05, elementwise_affine=True)\n",
            "  )\n",
            "  (decoder): TransformerDecoder(\n",
            "    (dropout_module): FairseqDropout()\n",
            "    (embed_tokens): Embedding(8000, 256, padding_idx=1)\n",
            "    (embed_positions): SinusoidalPositionalEmbedding()\n",
            "    (layers): ModuleList(\n",
            "      (0): TransformerDecoderLayerBase(\n",
            "        (dropout_module): FairseqDropout()\n",
            "        (self_attn): MultiheadAttention(\n",
            "          (dropout_module): FairseqDropout()\n",
            "          (k_proj): Linear(in_features=256, out_features=256, bias=True)\n",
            "          (v_proj): Linear(in_features=256, out_features=256, bias=True)\n",
            "          (q_proj): Linear(in_features=256, out_features=256, bias=True)\n",
            "          (out_proj): Linear(in_features=256, out_features=256, bias=True)\n",
            "        )\n",
            "        (activation_dropout_module): FairseqDropout()\n",
            "        (self_attn_layer_norm): LayerNorm((256,), eps=1e-05, elementwise_affine=True)\n",
            "        (encoder_attn): MultiheadAttention(\n",
            "          (dropout_module): FairseqDropout()\n",
            "          (k_proj): Linear(in_features=256, out_features=256, bias=True)\n",
            "          (v_proj): Linear(in_features=256, out_features=256, bias=True)\n",
            "          (q_proj): Linear(in_features=256, out_features=256, bias=True)\n",
            "          (out_proj): Linear(in_features=256, out_features=256, bias=True)\n",
            "        )\n",
            "        (encoder_attn_layer_norm): LayerNorm((256,), eps=1e-05, elementwise_affine=True)\n",
            "        (fc1): Linear(in_features=256, out_features=1024, bias=True)\n",
            "        (fc2): Linear(in_features=1024, out_features=256, bias=True)\n",
            "        (final_layer_norm): LayerNorm((256,), eps=1e-05, elementwise_affine=True)\n",
            "      )\n",
            "      (1): TransformerDecoderLayerBase(\n",
            "        (dropout_module): FairseqDropout()\n",
            "        (self_attn): MultiheadAttention(\n",
            "          (dropout_module): FairseqDropout()\n",
            "          (k_proj): Linear(in_features=256, out_features=256, bias=True)\n",
            "          (v_proj): Linear(in_features=256, out_features=256, bias=True)\n",
            "          (q_proj): Linear(in_features=256, out_features=256, bias=True)\n",
            "          (out_proj): Linear(in_features=256, out_features=256, bias=True)\n",
            "        )\n",
            "        (activation_dropout_module): FairseqDropout()\n",
            "        (self_attn_layer_norm): LayerNorm((256,), eps=1e-05, elementwise_affine=True)\n",
            "        (encoder_attn): MultiheadAttention(\n",
            "          (dropout_module): FairseqDropout()\n",
            "          (k_proj): Linear(in_features=256, out_features=256, bias=True)\n",
            "          (v_proj): Linear(in_features=256, out_features=256, bias=True)\n",
            "          (q_proj): Linear(in_features=256, out_features=256, bias=True)\n",
            "          (out_proj): Linear(in_features=256, out_features=256, bias=True)\n",
            "        )\n",
            "        (encoder_attn_layer_norm): LayerNorm((256,), eps=1e-05, elementwise_affine=True)\n",
            "        (fc1): Linear(in_features=256, out_features=1024, bias=True)\n",
            "        (fc2): Linear(in_features=1024, out_features=256, bias=True)\n",
            "        (final_layer_norm): LayerNorm((256,), eps=1e-05, elementwise_affine=True)\n",
            "      )\n",
            "      (2): TransformerDecoderLayerBase(\n",
            "        (dropout_module): FairseqDropout()\n",
            "        (self_attn): MultiheadAttention(\n",
            "          (dropout_module): FairseqDropout()\n",
            "          (k_proj): Linear(in_features=256, out_features=256, bias=True)\n",
            "          (v_proj): Linear(in_features=256, out_features=256, bias=True)\n",
            "          (q_proj): Linear(in_features=256, out_features=256, bias=True)\n",
            "          (out_proj): Linear(in_features=256, out_features=256, bias=True)\n",
            "        )\n",
            "        (activation_dropout_module): FairseqDropout()\n",
            "        (self_attn_layer_norm): LayerNorm((256,), eps=1e-05, elementwise_affine=True)\n",
            "        (encoder_attn): MultiheadAttention(\n",
            "          (dropout_module): FairseqDropout()\n",
            "          (k_proj): Linear(in_features=256, out_features=256, bias=True)\n",
            "          (v_proj): Linear(in_features=256, out_features=256, bias=True)\n",
            "          (q_proj): Linear(in_features=256, out_features=256, bias=True)\n",
            "          (out_proj): Linear(in_features=256, out_features=256, bias=True)\n",
            "        )\n",
            "        (encoder_attn_layer_norm): LayerNorm((256,), eps=1e-05, elementwise_affine=True)\n",
            "        (fc1): Linear(in_features=256, out_features=1024, bias=True)\n",
            "        (fc2): Linear(in_features=1024, out_features=256, bias=True)\n",
            "        (final_layer_norm): LayerNorm((256,), eps=1e-05, elementwise_affine=True)\n",
            "      )\n",
            "      (3): TransformerDecoderLayerBase(\n",
            "        (dropout_module): FairseqDropout()\n",
            "        (self_attn): MultiheadAttention(\n",
            "          (dropout_module): FairseqDropout()\n",
            "          (k_proj): Linear(in_features=256, out_features=256, bias=True)\n",
            "          (v_proj): Linear(in_features=256, out_features=256, bias=True)\n",
            "          (q_proj): Linear(in_features=256, out_features=256, bias=True)\n",
            "          (out_proj): Linear(in_features=256, out_features=256, bias=True)\n",
            "        )\n",
            "        (activation_dropout_module): FairseqDropout()\n",
            "        (self_attn_layer_norm): LayerNorm((256,), eps=1e-05, elementwise_affine=True)\n",
            "        (encoder_attn): MultiheadAttention(\n",
            "          (dropout_module): FairseqDropout()\n",
            "          (k_proj): Linear(in_features=256, out_features=256, bias=True)\n",
            "          (v_proj): Linear(in_features=256, out_features=256, bias=True)\n",
            "          (q_proj): Linear(in_features=256, out_features=256, bias=True)\n",
            "          (out_proj): Linear(in_features=256, out_features=256, bias=True)\n",
            "        )\n",
            "        (encoder_attn_layer_norm): LayerNorm((256,), eps=1e-05, elementwise_affine=True)\n",
            "        (fc1): Linear(in_features=256, out_features=1024, bias=True)\n",
            "        (fc2): Linear(in_features=1024, out_features=256, bias=True)\n",
            "        (final_layer_norm): LayerNorm((256,), eps=1e-05, elementwise_affine=True)\n",
            "      )\n",
            "    )\n",
            "    (layer_norm): LayerNorm((256,), eps=1e-05, elementwise_affine=True)\n",
            "    (output_projection): Linear(in_features=256, out_features=8000, bias=False)\n",
            "  )\n",
            ")\n"
          ]
        }
      ],
      "source": [
        "model = build_model(arch_args, task)\n",
        "logger.info(model)"
      ]
    },
    {
      "cell_type": "markdown",
      "metadata": {
        "id": "aHll7GRNNdqc"
      },
      "source": [
        "# Optimization"
      ]
    },
    {
      "cell_type": "markdown",
      "metadata": {
        "id": "rUB9f1WCNgMH"
      },
      "source": [
        "## Loss: Label Smoothing Regularization\n",
        "* let the model learn to generate less concentrated distribution, and prevent over-confidence\n",
        "* sometimes the ground truth may not be the only answer. thus, when calculating loss, we reserve some probability for incorrect labels\n",
        "* avoids overfitting\n",
        "\n",
        "code [source](https://fairseq.readthedocs.io/en/latest/_modules/fairseq/criterions/label_smoothed_cross_entropy.html)"
      ]
    },
    {
      "cell_type": "code",
      "execution_count": 34,
      "metadata": {
        "id": "IgspdJn0NdYF"
      },
      "outputs": [],
      "source": [
        "class LabelSmoothedCrossEntropyCriterion(nn.Module):\n",
        "    def __init__(self, smoothing, ignore_index=None, reduce=True):\n",
        "        super().__init__()\n",
        "        self.smoothing = smoothing\n",
        "        self.ignore_index = ignore_index\n",
        "        self.reduce = reduce\n",
        "    \n",
        "    def forward(self, lprobs, target):\n",
        "        if target.dim() == lprobs.dim() - 1:\n",
        "            target = target.unsqueeze(-1)\n",
        "        # nll: Negative log likelihood，the cross-entropy when target is one-hot. following line is same as F.nll_loss\n",
        "        nll_loss = -lprobs.gather(dim=-1, index=target)\n",
        "        #  reserve some probability for other labels. thus when calculating cross-entropy, \n",
        "        # equivalent to summing the log probs of all labels\n",
        "        smooth_loss = -lprobs.sum(dim=-1, keepdim=True)\n",
        "        if self.ignore_index is not None:\n",
        "            pad_mask = target.eq(self.ignore_index)\n",
        "            nll_loss.masked_fill_(pad_mask, 0.0)\n",
        "            smooth_loss.masked_fill_(pad_mask, 0.0)\n",
        "        else:\n",
        "            nll_loss = nll_loss.squeeze(-1)\n",
        "            smooth_loss = smooth_loss.squeeze(-1)\n",
        "        if self.reduce:\n",
        "            nll_loss = nll_loss.sum()\n",
        "            smooth_loss = smooth_loss.sum()\n",
        "        # when calculating cross-entropy, add the loss of other labels\n",
        "        eps_i = self.smoothing / lprobs.size(-1)\n",
        "        loss = (1.0 - self.smoothing) * nll_loss + eps_i * smooth_loss\n",
        "        return loss\n",
        "\n",
        "# generally, 0.1 is good enough\n",
        "criterion = LabelSmoothedCrossEntropyCriterion(\n",
        "    smoothing=0.1,\n",
        "    ignore_index=task.target_dictionary.pad(),\n",
        ")"
      ]
    },
    {
      "cell_type": "markdown",
      "metadata": {
        "id": "aRalDto2NkJJ"
      },
      "source": [
        "## Optimizer: Adam + lr scheduling\n",
        "Inverse square root scheduling is important to the stability when training Transformer. It's later used on RNN as well.\n",
        "Update the learning rate according to the following equation. Linearly increase the first stage, then decay proportionally to the inverse square root of timestep.\n",
        "$$lrate = d_{\\text{model}}^{-0.5}\\cdot\\min({step\\_num}^{-0.5},{step\\_num}\\cdot{warmup\\_steps}^{-1.5})$$"
      ]
    },
    {
      "cell_type": "code",
      "execution_count": 35,
      "metadata": {
        "id": "sS7tQj1ROBYm"
      },
      "outputs": [],
      "source": [
        "def get_rate(d_model, step_num, warmup_step):\n",
        "    # TODO: Change lr from constant to the equation shown above\n",
        "    # lr = 0.001\n",
        "    lr = d_model ** (-0.5) * min(step_num ** (-0.5), step_num * warmup_step ** (-1.5)) \n",
        "    return lr"
      ]
    },
    {
      "cell_type": "code",
      "execution_count": 36,
      "metadata": {
        "id": "J8hoAjHPNkh3"
      },
      "outputs": [],
      "source": [
        "class NoamOpt:\n",
        "    \"Optim wrapper that implements rate.\"\n",
        "    def __init__(self, model_size, factor, warmup, optimizer):\n",
        "        self.optimizer = optimizer\n",
        "        self._step = 0\n",
        "        self.warmup = warmup\n",
        "        self.factor = factor\n",
        "        self.model_size = model_size\n",
        "        self._rate = 0\n",
        "    \n",
        "    @property\n",
        "    def param_groups(self):\n",
        "        return self.optimizer.param_groups\n",
        "        \n",
        "    def multiply_grads(self, c):\n",
        "        \"\"\"Multiplies grads by a constant *c*.\"\"\"                \n",
        "        for group in self.param_groups:\n",
        "            for p in group['params']:\n",
        "                if p.grad is not None:\n",
        "                    p.grad.data.mul_(c)\n",
        "        \n",
        "    def step(self):\n",
        "        \"Update parameters and rate\"\n",
        "        self._step += 1\n",
        "        rate = self.rate()\n",
        "        for p in self.param_groups:\n",
        "            p['lr'] = rate\n",
        "        self._rate = rate\n",
        "        self.optimizer.step()\n",
        "        \n",
        "    def rate(self, step = None):\n",
        "        \"Implement `lrate` above\"\n",
        "        if step is None:\n",
        "            step = self._step\n",
        "        return 0 if not step else self.factor * get_rate(self.model_size, step, self.warmup)"
      ]
    },
    {
      "cell_type": "markdown",
      "metadata": {
        "id": "VFJlkOMONsc6"
      },
      "source": [
        "## Scheduling Visualized"
      ]
    },
    {
      "cell_type": "code",
      "execution_count": 37,
      "metadata": {
        "id": "A135fwPCNrQs"
      },
      "outputs": [
        {
          "data": {
            "image/png": "[encoded data removed]",
            "text/plain": [
              "<Figure size 432x288 with 1 Axes>"
            ]
          },
          "metadata": {
            "needs_background": "light"
          },
          "output_type": "display_data"
        }
      ],
      "source": [
        "optimizer = NoamOpt(\n",
        "    model_size=arch_args.encoder_embed_dim, \n",
        "    factor=config.lr_factor, \n",
        "    warmup=config.lr_warmup, \n",
        "    optimizer=torch.optim.AdamW(model.parameters(), lr=0, betas=(0.9, 0.98), eps=1e-9, weight_decay=0.0001))\n",
        "plt.plot(np.arange(1, 100000), [optimizer.rate(i) for i in range(1, 100000)])\n",
        "plt.legend([f\"{optimizer.model_size}:{optimizer.warmup}\"])\n",
        "None"
      ]
    },
    {
      "cell_type": "markdown",
      "metadata": {
        "id": "TOR0g-cVO5ZO"
      },
      "source": [
        "# Training Procedure"
      ]
    },
    {
      "cell_type": "markdown",
      "metadata": {
        "id": "f-0ZjbK3O8Iv"
      },
      "source": [
        "## Training"
      ]
    },
    {
      "cell_type": "code",
      "execution_count": 38,
      "metadata": {
        "id": "foal3xM1O404"
      },
      "outputs": [],
      "source": [
        "from fairseq.data import iterators\n",
        "from torch.cuda.amp import GradScaler, autocast\n",
        "\n",
        "def train_one_epoch(epoch_itr, model, task, criterion, optimizer, accum_steps=1):\n",
        "    itr = epoch_itr.next_epoch_itr(shuffle=True)\n",
        "    itr = iterators.GroupedIterator(itr, accum_steps) # gradient accumulation: update every accum_steps samples\n",
        "    \n",
        "    stats = {\"loss\": [], \"gnorm\": []}\n",
        "    scaler = GradScaler() # automatic mixed precision (amp) \n",
        "    \n",
        "    model.train()\n",
        "    progress = tqdm.tqdm(itr, desc=f\"train epoch {epoch_itr.epoch}\", leave=False)\n",
        "    for samples in progress:\n",
        "        model.zero_grad()\n",
        "        accum_loss = 0\n",
        "        sample_size = 0\n",
        "        # gradient accumulation: update every accum_steps samples\n",
        "        for i, sample in enumerate(samples):\n",
        "            if i == 1:\n",
        "                # emptying the CUDA cache after the first step can reduce the chance of OOM\n",
        "                torch.cuda.empty_cache()\n",
        "\n",
        "            sample = utils.move_to_cuda(sample, device=device)\n",
        "            target = sample[\"target\"]\n",
        "            sample_size_i = sample[\"ntokens\"]\n",
        "            sample_size += sample_size_i\n",
        "            \n",
        "            # mixed precision training\n",
        "            with autocast():\n",
        "                net_output = model.forward(**sample[\"net_input\"])\n",
        "                lprobs = F.log_softmax(net_output[0], -1)            \n",
        "                loss = criterion(lprobs.view(-1, lprobs.size(-1)), target.view(-1))\n",
        "                \n",
        "                # logging\n",
        "                accum_loss += loss.item()\n",
        "                # back-prop\n",
        "                scaler.scale(loss).backward()                \n",
        "        \n",
        "        scaler.unscale_(optimizer)\n",
        "        optimizer.multiply_grads(1 / (sample_size or 1.0)) # (sample_size or 1.0) handles the case of a zero gradient\n",
        "        gnorm = nn.utils.clip_grad_norm_(model.parameters(), config.clip_norm) # grad norm clipping prevents gradient exploding\n",
        "        \n",
        "        scaler.step(optimizer)\n",
        "        scaler.update()\n",
        "        \n",
        "        # logging\n",
        "        loss_print = accum_loss/sample_size\n",
        "        stats[\"loss\"].append(loss_print)\n",
        "        stats[\"gnorm\"].append(gnorm.item())\n",
        "        progress.set_postfix(loss=loss_print)\n",
        "        if config.use_wandb:\n",
        "            wandb.log({\n",
        "                \"train/loss\": loss_print,\n",
        "                \"train/grad_norm\": gnorm.item(),\n",
        "                \"train/lr\": optimizer.rate(),\n",
        "                \"train/sample_size\": sample_size,\n",
        "            })\n",
        "        \n",
        "    loss_print = np.mean(stats[\"loss\"])\n",
        "    logger.info(f\"training loss: {loss_print:.4f}\")\n",
        "    return stats"
      ]
    },
    {
      "cell_type": "markdown",
      "metadata": {
        "id": "Gt1lX3DRO_yU"
      },
      "source": [
        "## Validation & Inference\n",
        "To prevent overfitting, validation is required every epoch to validate the performance on unseen data.\n",
        "- the procedure is essensially same as training, with the addition of inference step\n",
        "- after validation we can save the model weights\n",
        "\n",
        "Validation loss alone cannot describe the actual performance of the model\n",
        "- Directly produce translation hypotheses based on current model, then calculate BLEU with the reference translation\n",
        "- We can also manually examine the hypotheses' quality\n",
        "- We use fairseq's sequence generator for beam search to generate translation hypotheses"
      ]
    },
    {
      "cell_type": "code",
      "execution_count": 39,
      "metadata": {
        "id": "2og80HYQPAKq"
      },
      "outputs": [],
      "source": [
        "# fairseq's beam search generator\n",
        "# given model and input seqeunce, produce translation hypotheses by beam search\n",
        "sequence_generator = task.build_generator([model], config)\n",
        "\n",
        "def decode(toks, dictionary):\n",
        "    # convert from Tensor to human readable sentence\n",
        "    s = dictionary.string(\n",
        "        toks.int().cpu(),\n",
        "        config.post_process,\n",
        "    )\n",
        "    return s if s else \"<unk>\"\n",
        "\n",
        "def inference_step(sample, model):\n",
        "    gen_out = sequence_generator.generate([model], sample)\n",
        "    srcs = []\n",
        "    hyps = []\n",
        "    refs = []\n",
        "    for i in range(len(gen_out)):\n",
        "        # for each sample, collect the input, hypothesis and reference, later be used to calculate BLEU\n",
        "        srcs.append(decode(\n",
        "            utils.strip_pad(sample[\"net_input\"][\"src_tokens\"][i], task.source_dictionary.pad()), \n",
        "            task.source_dictionary,\n",
        "        ))\n",
        "        hyps.append(decode(\n",
        "            gen_out[i][0][\"tokens\"], # 0 indicates using the top hypothesis in beam\n",
        "            task.target_dictionary,\n",
        "        ))\n",
        "        refs.append(decode(\n",
        "            utils.strip_pad(sample[\"target\"][i], task.target_dictionary.pad()), \n",
        "            task.target_dictionary,\n",
        "        ))\n",
        "    return srcs, hyps, refs"
      ]
    },
    {
      "cell_type": "code",
      "execution_count": 40,
      "metadata": {
        "id": "y1o7LeDkPDsd"
      },
      "outputs": [],
      "source": [
        "import shutil\n",
        "import sacrebleu\n",
        "\n",
        "def validate(model, task, criterion, log_to_wandb=True):\n",
        "    logger.info('begin validation')\n",
        "    itr = load_data_iterator(task, \"valid\", 1, config.max_tokens, config.num_workers).next_epoch_itr(shuffle=False)\n",
        "    \n",
        "    stats = {\"loss\":[], \"bleu\": 0, \"srcs\":[], \"hyps\":[], \"refs\":[]}\n",
        "    srcs = []\n",
        "    hyps = []\n",
        "    refs = []\n",
        "    \n",
        "    model.eval()\n",
        "    progress = tqdm.tqdm(itr, desc=f\"validation\", leave=False)\n",
        "    with torch.no_grad():\n",
        "        for i, sample in enumerate(progress):\n",
        "            # validation loss\n",
        "            sample = utils.move_to_cuda(sample, device=device)\n",
        "            net_output = model.forward(**sample[\"net_input\"])\n",
        "\n",
        "            lprobs = F.log_softmax(net_output[0], -1)\n",
        "            target = sample[\"target\"]\n",
        "            sample_size = sample[\"ntokens\"]\n",
        "            loss = criterion(lprobs.view(-1, lprobs.size(-1)), target.view(-1)) / sample_size\n",
        "            progress.set_postfix(valid_loss=loss.item())\n",
        "            stats[\"loss\"].append(loss)\n",
        "            \n",
        "            # do inference\n",
        "            s, h, r = inference_step(sample, model)\n",
        "            srcs.extend(s)\n",
        "            hyps.extend(h)\n",
        "            refs.extend(r)\n",
        "            \n",
        "    tok = 'zh' if task.cfg.target_lang == 'zh' else '13a'\n",
        "    stats[\"loss\"] = torch.stack(stats[\"loss\"]).mean().item()\n",
        "    stats[\"bleu\"] = sacrebleu.corpus_bleu(hyps, [refs], tokenize=tok) # 計算BLEU score\n",
        "    stats[\"srcs\"] = srcs\n",
        "    stats[\"hyps\"] = hyps\n",
        "    stats[\"refs\"] = refs\n",
        "    \n",
        "    if config.use_wandb and log_to_wandb:\n",
        "        wandb.log({\n",
        "            \"valid/loss\": stats[\"loss\"],\n",
        "            \"valid/bleu\": stats[\"bleu\"].score,\n",
        "        }, commit=False)\n",
        "    \n",
        "    showid = np.random.randint(len(hyps))\n",
        "    logger.info(\"example source: \" + srcs[showid])\n",
        "    logger.info(\"example hypothesis: \" + hyps[showid])\n",
        "    logger.info(\"example reference: \" + refs[showid])\n",
        "    \n",
        "    # show bleu results\n",
        "    logger.info(f\"validation loss:\\t{stats['loss']:.4f}\")\n",
        "    logger.info(stats[\"bleu\"].format())\n",
        "    return stats"
      ]
    },
    {
      "cell_type": "markdown",
      "metadata": {
        "id": "1sRF6nd4PGEE"
      },
      "source": [
        "# Save and Load Model Weights\n"
      ]
    },
    {
      "cell_type": "code",
      "execution_count": 41,
      "metadata": {
        "id": "edBuLlkuPGr9"
      },
      "outputs": [],
      "source": [
        "def validate_and_save(model, task, criterion, optimizer, epoch, save=True):   \n",
        "    stats = validate(model, task, criterion)\n",
        "    bleu = stats['bleu']\n",
        "    loss = stats['loss']\n",
        "    if save:\n",
        "        # save epoch checkpoints\n",
        "        savedir = Path(config.savedir).absolute()\n",
        "        savedir.mkdir(parents=True, exist_ok=True)\n",
        "        \n",
        "        check = {\n",
        "            \"model\": model.state_dict(),\n",
        "            \"stats\": {\"bleu\": bleu.score, \"loss\": loss},\n",
        "            \"optim\": {\"step\": optimizer._step}\n",
        "        }\n",
        "        torch.save(check, savedir/f\"checkpoint{epoch}.pt\")\n",
        "        shutil.copy(savedir/f\"checkpoint{epoch}.pt\", savedir/f\"checkpoint_last.pt\")\n",
        "        logger.info(f\"saved epoch checkpoint: {savedir}/checkpoint{epoch}.pt\")\n",
        "    \n",
        "        # save epoch samples\n",
        "        with open(savedir/f\"samples{epoch}.{config.source_lang}-{config.target_lang}.txt\", \"w\") as f:\n",
        "            for s, h in zip(stats[\"srcs\"], stats[\"hyps\"]):\n",
        "                f.write(f\"{s}\\t{h}\\n\")\n",
        "\n",
        "        # get best valid bleu    \n",
        "        if getattr(validate_and_save, \"best_bleu\", 0) < bleu.score:\n",
        "            validate_and_save.best_bleu = bleu.score\n",
        "            torch.save(check, savedir/f\"checkpoint_best.pt\")\n",
        "            \n",
        "        del_file = savedir / f\"checkpoint{epoch - config.keep_last_epochs}.pt\"\n",
        "        if del_file.exists():\n",
        "            del_file.unlink()\n",
        "    \n",
        "    return stats\n",
        "\n",
        "def try_load_checkpoint(model, optimizer=None, name=None):\n",
        "    name = name if name else \"checkpoint_last.pt\"\n",
        "    checkpath = Path(config.savedir)/name\n",
        "    if checkpath.exists():\n",
        "        check = torch.load(checkpath)\n",
        "        model.load_state_dict(check[\"model\"])\n",
        "        stats = check[\"stats\"]\n",
        "        step = \"unknown\"\n",
        "        if optimizer != None:\n",
        "            optimizer._step = step = check[\"optim\"][\"step\"]\n",
        "        logger.info(f\"loaded checkpoint {checkpath}: step={step} loss={stats['loss']} bleu={stats['bleu']}\")\n",
        "    else:\n",
        "        logger.info(f\"no checkpoints found at {checkpath}!\")"
      ]
    },
    {
      "cell_type": "markdown",
      "metadata": {
        "id": "KyIFpibfPJ5u"
      },
      "source": [
        "# Main\n",
        "## Training loop"
      ]
    },
    {
      "cell_type": "code",
      "execution_count": 42,
      "metadata": {
        "id": "hu7RZbCUPKQr"
      },
      "outputs": [],
      "source": [
        "model = model.to(device=device)\n",
        "criterion = criterion.to(device=device)"
      ]
    },
    {
      "cell_type": "code",
      "execution_count": 43,
      "metadata": {
        "id": "5xxlJxU2PeAo"
      },
      "outputs": [
        {
          "name": "stderr",
          "output_type": "stream",
          "text": [
            "2023-04-15 01:20:17 | INFO | hw5.seq2seq | task: TranslationTask\n",
            "2023-04-15 01:20:17 | INFO | hw5.seq2seq | encoder: TransformerEncoder\n",
            "2023-04-15 01:20:17 | INFO | hw5.seq2seq | decoder: TransformerDecoder\n",
            "2023-04-15 01:20:17 | INFO | hw5.seq2seq | criterion: LabelSmoothedCrossEntropyCriterion\n",
            "2023-04-15 01:20:17 | INFO | hw5.seq2seq | optimizer: NoamOpt\n",
            "2023-04-15 01:20:17 | INFO | hw5.seq2seq | num. model params: 12,523,520 (num. trained: 12,523,520)\n",
            "2023-04-15 01:20:17 | INFO | hw5.seq2seq | max tokens per batch = 8192, accumulate steps = 2\n"
          ]
        }
      ],
      "source": [
        "logger.info(\"task: {}\".format(task.__class__.__name__))\n",
        "logger.info(\"encoder: {}\".format(model.encoder.__class__.__name__))\n",
        "logger.info(\"decoder: {}\".format(model.decoder.__class__.__name__))\n",
        "logger.info(\"criterion: {}\".format(criterion.__class__.__name__))\n",
        "logger.info(\"optimizer: {}\".format(optimizer.__class__.__name__))\n",
        "logger.info(\n",
        "    \"num. model params: {:,} (num. trained: {:,})\".format(\n",
        "        sum(p.numel() for p in model.parameters()),\n",
        "        sum(p.numel() for p in model.parameters() if p.requires_grad),\n",
        "    )\n",
        ")\n",
        "logger.info(f\"max tokens per batch = {config.max_tokens}, accumulate steps = {config.accum_steps}\")"
      ]
    },
    {
      "cell_type": "code",
      "execution_count": 44,
      "metadata": {
        "id": "MSPRqpQUPfaX"
      },
      "outputs": [
        {
          "name": "stderr",
          "output_type": "stream",
          "text": [
            "2023-04-15 01:20:19 | WARNING | fairseq.tasks.fairseq_task | 1 samples have invalid sizes and will be skipped, max_positions=(1024, 1024), first few sample ids=[326674]\n",
            "2023-04-15 01:20:19 | INFO | hw5.seq2seq | no checkpoints found at checkpoints\\transformer-bt\\checkpoint_last.pt!\n",
            "2023-04-15 01:20:25 | INFO | fairseq.data.iterators | grouped total_num_itrs = 1851\n"
          ]
        },
        {
          "data": {
            "application/vnd.jupyter.widget-view+json": {
              "model_id": "65fc73dc83e34d37a0b58e214c5ea47c",
              "version_major": 2,
              "version_minor": 0
            },
            "text/plain": [
              "train epoch 1:   0%|          | 0/1851 [00:00<?, ?it/s]"
            ]
          },
          "metadata": {},
          "output_type": "display_data"
        },
        {
          "name": "stderr",
          "output_type": "stream",
          "text": [
            "2023-04-15 01:26:53 | INFO | hw5.seq2seq | training loss: 5.9368\n",
            "2023-04-15 01:26:53 | INFO | hw5.seq2seq | begin validation\n"
          ]
        },
        {
          "data": {
            "application/vnd.jupyter.widget-view+json": {
              "model_id": "f69d006c4d754428875897b80f479b1f",
              "version_major": 2,
              "version_minor": 0
            },
            "text/plain": [
              "validation:   0%|          | 0/22 [00:00<?, ?it/s]"
            ]
          },
          "metadata": {},
          "output_type": "display_data"
        },
        {
          "name": "stderr",
          "output_type": "stream",
          "text": [
            "2023-04-15 01:27:20 | INFO | hw5.seq2seq | example source: so low income here , high income there .\n",
            "2023-04-15 01:27:20 | INFO | hw5.seq2seq | example hypothesis: 所以低入這裡 , 在高速中 ,\n",
            "2023-04-15 01:27:20 | INFO | hw5.seq2seq | example reference: 所以這裡是收入低的 , 這裡是收入高的\n",
            "2023-04-15 01:27:20 | INFO | hw5.seq2seq | validation loss:\t4.7905\n",
            "2023-04-15 01:27:20 | INFO | hw5.seq2seq | BLEU = 11.01 46.6/20.4/9.7/4.9 (BP = 0.756 ratio = 0.781 hyp_len = 87356 ref_len = 111811)\n",
            "2023-04-15 01:27:20 | INFO | hw5.seq2seq | saved epoch checkpoint: d:\\Wei-shun Bao\\Learning\\Codes\\ML2022-Spring\\HW05\\checkpoints\\transformer-bt/checkpoint1.pt\n",
            "2023-04-15 01:27:20 | INFO | hw5.seq2seq | end of epoch 1\n",
            "2023-04-15 01:27:20 | INFO | fairseq.data.iterators | grouped total_num_itrs = 1851\n"
          ]
        },
        {
          "data": {
            "application/vnd.jupyter.widget-view+json": {
              "model_id": "72298af22d1646beae132709cb06b9b5",
              "version_major": 2,
              "version_minor": 0
            },
            "text/plain": [
              "train epoch 2:   0%|          | 0/1851 [00:00<?, ?it/s]"
            ]
          },
          "metadata": {},
          "output_type": "display_data"
        },
        {
          "name": "stderr",
          "output_type": "stream",
          "text": [
            "2023-04-15 01:33:55 | INFO | hw5.seq2seq | training loss: 4.2255\n",
            "2023-04-15 01:33:55 | INFO | hw5.seq2seq | begin validation\n"
          ]
        },
        {
          "data": {
            "application/vnd.jupyter.widget-view+json": {
              "model_id": "c07e8822cc8044d69429e970bd70802e",
              "version_major": 2,
              "version_minor": 0
            },
            "text/plain": [
              "validation:   0%|          | 0/22 [00:00<?, ?it/s]"
            ]
          },
          "metadata": {},
          "output_type": "display_data"
        },
        {
          "name": "stderr",
          "output_type": "stream",
          "text": [
            "2023-04-15 01:34:24 | INFO | hw5.seq2seq | example source: you should have started with z .\n",
            "2023-04-15 01:34:24 | INFO | hw5.seq2seq | example hypothesis: 你應該從z開始 。\n",
            "2023-04-15 01:34:24 | INFO | hw5.seq2seq | example reference: 要從z開始讀 。\n",
            "2023-04-15 01:34:24 | INFO | hw5.seq2seq | validation loss:\t4.2190\n",
            "2023-04-15 01:34:24 | INFO | hw5.seq2seq | BLEU = 17.48 50.0/24.7/12.9/7.1 (BP = 0.953 ratio = 0.954 hyp_len = 106657 ref_len = 111811)\n",
            "2023-04-15 01:34:25 | INFO | hw5.seq2seq | saved epoch checkpoint: d:\\Wei-shun Bao\\Learning\\Codes\\ML2022-Spring\\HW05\\checkpoints\\transformer-bt/checkpoint2.pt\n",
            "2023-04-15 01:34:25 | INFO | hw5.seq2seq | end of epoch 2\n",
            "2023-04-15 01:34:25 | INFO | fairseq.data.iterators | grouped total_num_itrs = 1851\n"
          ]
        },
        {
          "data": {
            "application/vnd.jupyter.widget-view+json": {
              "model_id": "804771373c544c01a0636ba484a71905",
              "version_major": 2,
              "version_minor": 0
            },
            "text/plain": [
              "train epoch 3:   0%|          | 0/1851 [00:00<?, ?it/s]"
            ]
          },
          "metadata": {},
          "output_type": "display_data"
        },
        {
          "name": "stderr",
          "output_type": "stream",
          "text": [
            "2023-04-15 01:41:02 | INFO | hw5.seq2seq | training loss: 3.8211\n",
            "2023-04-15 01:41:02 | INFO | hw5.seq2seq | begin validation\n"
          ]
        },
        {
          "data": {
            "application/vnd.jupyter.widget-view+json": {
              "model_id": "aea58f301dd24714a3c838008583265e",
              "version_major": 2,
              "version_minor": 0
            },
            "text/plain": [
              "validation:   0%|          | 0/22 [00:00<?, ?it/s]"
            ]
          },
          "metadata": {},
          "output_type": "display_data"
        },
        {
          "name": "stderr",
          "output_type": "stream",
          "text": [
            "2023-04-15 01:41:25 | INFO | hw5.seq2seq | example source: grouper ?\n",
            "2023-04-15 01:41:25 | INFO | hw5.seq2seq | example hypothesis: 小組嗎 ?\n",
            "2023-04-15 01:41:25 | INFO | hw5.seq2seq | example reference: 石斑魚 ?\n",
            "2023-04-15 01:41:25 | INFO | hw5.seq2seq | validation loss:\t3.9672\n",
            "2023-04-15 01:41:25 | INFO | hw5.seq2seq | BLEU = 20.02 53.6/27.8/15.2/8.9 (BP = 0.946 ratio = 0.948 hyp_len = 105982 ref_len = 111811)\n",
            "2023-04-15 01:41:25 | INFO | hw5.seq2seq | saved epoch checkpoint: d:\\Wei-shun Bao\\Learning\\Codes\\ML2022-Spring\\HW05\\checkpoints\\transformer-bt/checkpoint3.pt\n",
            "2023-04-15 01:41:25 | INFO | hw5.seq2seq | end of epoch 3\n",
            "2023-04-15 01:41:25 | INFO | fairseq.data.iterators | grouped total_num_itrs = 1851\n"
          ]
        },
        {
          "data": {
            "application/vnd.jupyter.widget-view+json": {
              "model_id": "7c92bfe7e05349009dea76f43d269c73",
              "version_major": 2,
              "version_minor": 0
            },
            "text/plain": [
              "train epoch 4:   0%|          | 0/1851 [00:00<?, ?it/s]"
            ]
          },
          "metadata": {},
          "output_type": "display_data"
        },
        {
          "name": "stderr",
          "output_type": "stream",
          "text": [
            "2023-04-15 01:48:01 | INFO | hw5.seq2seq | training loss: 3.6239\n",
            "2023-04-15 01:48:01 | INFO | hw5.seq2seq | begin validation\n"
          ]
        },
        {
          "data": {
            "application/vnd.jupyter.widget-view+json": {
              "model_id": "dcdab90f4fb14316b70da9a2577c1fa6",
              "version_major": 2,
              "version_minor": 0
            },
            "text/plain": [
              "validation:   0%|          | 0/22 [00:00<?, ?it/s]"
            ]
          },
          "metadata": {},
          "output_type": "display_data"
        },
        {
          "name": "stderr",
          "output_type": "stream",
          "text": [
            "2023-04-15 01:48:22 | INFO | hw5.seq2seq | example source: it's very destructive , but it also catalyzes the production of vitamin d in the skin , vitamin d being a molecule that we very much need for our strong bones , the health of our immune system , and myriad other important functions in our bodies .\n",
            "2023-04-15 01:48:22 | INFO | hw5.seq2seq | example hypothesis: 它非常破壞性 , 但它也催化了皮膚中的維生素d的產量 , 維生素d是一種分子 , 我們非常需要強烈的骨頭 , 我們免疫系統的健康 , 以及我們身體內其他重要的功能 。\n",
            "2023-04-15 01:48:22 | INFO | hw5.seq2seq | example reference: uvb非常的有破壞性 , 但是它也催化皮膚裡維生素d的生產 。 維生素d是我們非常需要的一種分子 , 它幫助強健骨骼、增強免疫系統、還有在我們身體裡行使其他各式各樣的重要功能 。\n",
            "2023-04-15 01:48:22 | INFO | hw5.seq2seq | validation loss:\t3.8674\n",
            "2023-04-15 01:48:22 | INFO | hw5.seq2seq | BLEU = 20.04 56.5/30.2/16.7/9.9 (BP = 0.869 ratio = 0.877 hyp_len = 98055 ref_len = 111811)\n",
            "2023-04-15 01:48:22 | INFO | hw5.seq2seq | saved epoch checkpoint: d:\\Wei-shun Bao\\Learning\\Codes\\ML2022-Spring\\HW05\\checkpoints\\transformer-bt/checkpoint4.pt\n",
            "2023-04-15 01:48:22 | INFO | hw5.seq2seq | end of epoch 4\n",
            "2023-04-15 01:48:22 | INFO | fairseq.data.iterators | grouped total_num_itrs = 1851\n"
          ]
        },
        {
          "data": {
            "application/vnd.jupyter.widget-view+json": {
              "model_id": "2f0fb93f69444782888d229255307532",
              "version_major": 2,
              "version_minor": 0
            },
            "text/plain": [
              "train epoch 5:   0%|          | 0/1851 [00:00<?, ?it/s]"
            ]
          },
          "metadata": {},
          "output_type": "display_data"
        },
        {
          "name": "stderr",
          "output_type": "stream",
          "text": [
            "2023-04-15 01:54:58 | INFO | hw5.seq2seq | training loss: 3.5277\n",
            "2023-04-15 01:54:58 | INFO | hw5.seq2seq | begin validation\n"
          ]
        },
        {
          "data": {
            "application/vnd.jupyter.widget-view+json": {
              "model_id": "7e7eb53c5c7d41aa900b79bf5e08e9e9",
              "version_major": 2,
              "version_minor": 0
            },
            "text/plain": [
              "validation:   0%|          | 0/22 [00:00<?, ?it/s]"
            ]
          },
          "metadata": {},
          "output_type": "display_data"
        },
        {
          "name": "stderr",
          "output_type": "stream",
          "text": [
            "2023-04-15 01:55:19 | INFO | hw5.seq2seq | example source: it's what we call , \" invest , connect and celebrate . \"\n",
            "2023-04-15 01:55:19 | INFO | hw5.seq2seq | example hypothesis: 就是我們所謂的 「 投資、連結和慶祝 」\n",
            "2023-04-15 01:55:19 | INFO | hw5.seq2seq | example reference: 也就是我們稱之為『投資 , 連結 , 發揚光大』\n",
            "2023-04-15 01:55:19 | INFO | hw5.seq2seq | validation loss:\t3.7801\n",
            "2023-04-15 01:55:19 | INFO | hw5.seq2seq | BLEU = 21.35 55.5/29.5/16.4/9.7 (BP = 0.946 ratio = 0.947 hyp_len = 105892 ref_len = 111811)\n",
            "2023-04-15 01:55:19 | INFO | hw5.seq2seq | saved epoch checkpoint: d:\\Wei-shun Bao\\Learning\\Codes\\ML2022-Spring\\HW05\\checkpoints\\transformer-bt/checkpoint5.pt\n",
            "2023-04-15 01:55:19 | INFO | hw5.seq2seq | end of epoch 5\n",
            "2023-04-15 01:55:19 | INFO | fairseq.data.iterators | grouped total_num_itrs = 1851\n"
          ]
        },
        {
          "data": {
            "application/vnd.jupyter.widget-view+json": {
              "model_id": "437cdcc964be4ed295cf1c0197bf384e",
              "version_major": 2,
              "version_minor": 0
            },
            "text/plain": [
              "train epoch 6:   0%|          | 0/1851 [00:00<?, ?it/s]"
            ]
          },
          "metadata": {},
          "output_type": "display_data"
        },
        {
          "name": "stderr",
          "output_type": "stream",
          "text": [
            "2023-04-15 02:01:56 | INFO | hw5.seq2seq | training loss: 3.4700\n",
            "2023-04-15 02:01:56 | INFO | hw5.seq2seq | begin validation\n"
          ]
        },
        {
          "data": {
            "application/vnd.jupyter.widget-view+json": {
              "model_id": "ad4c36d4761f4b82a3a4162b21d58bfd",
              "version_major": 2,
              "version_minor": 0
            },
            "text/plain": [
              "validation:   0%|          | 0/22 [00:00<?, ?it/s]"
            ]
          },
          "metadata": {},
          "output_type": "display_data"
        },
        {
          "name": "stderr",
          "output_type": "stream",
          "text": [
            "2023-04-15 02:02:19 | INFO | hw5.seq2seq | example source: thank you very much .\n",
            "2023-04-15 02:02:19 | INFO | hw5.seq2seq | example hypothesis: 謝謝大家 。\n",
            "2023-04-15 02:02:19 | INFO | hw5.seq2seq | example reference: 謝謝各位 。\n",
            "2023-04-15 02:02:19 | INFO | hw5.seq2seq | validation loss:\t3.7324\n",
            "2023-04-15 02:02:19 | INFO | hw5.seq2seq | BLEU = 22.07 55.1/29.5/16.6/9.8 (BP = 0.972 ratio = 0.973 hyp_len = 108777 ref_len = 111811)\n",
            "2023-04-15 02:02:19 | INFO | hw5.seq2seq | saved epoch checkpoint: d:\\Wei-shun Bao\\Learning\\Codes\\ML2022-Spring\\HW05\\checkpoints\\transformer-bt/checkpoint6.pt\n",
            "2023-04-15 02:02:19 | INFO | hw5.seq2seq | end of epoch 6\n",
            "2023-04-15 02:02:19 | INFO | fairseq.data.iterators | grouped total_num_itrs = 1851\n"
          ]
        },
        {
          "data": {
            "application/vnd.jupyter.widget-view+json": {
              "model_id": "a4e74a836cc44b94b24335af04865575",
              "version_major": 2,
              "version_minor": 0
            },
            "text/plain": [
              "train epoch 7:   0%|          | 0/1851 [00:00<?, ?it/s]"
            ]
          },
          "metadata": {},
          "output_type": "display_data"
        },
        {
          "name": "stderr",
          "output_type": "stream",
          "text": [
            "2023-04-15 02:08:52 | INFO | hw5.seq2seq | training loss: 3.4277\n",
            "2023-04-15 02:08:52 | INFO | hw5.seq2seq | begin validation\n"
          ]
        },
        {
          "data": {
            "application/vnd.jupyter.widget-view+json": {
              "model_id": "49459dca70ad4c948098776f347e8c5e",
              "version_major": 2,
              "version_minor": 0
            },
            "text/plain": [
              "validation:   0%|          | 0/22 [00:00<?, ?it/s]"
            ]
          },
          "metadata": {},
          "output_type": "display_data"
        },
        {
          "name": "stderr",
          "output_type": "stream",
          "text": [
            "2023-04-15 02:09:13 | INFO | hw5.seq2seq | example source: thank you very much .\n",
            "2023-04-15 02:09:13 | INFO | hw5.seq2seq | example hypothesis: 非常感謝 。\n",
            "2023-04-15 02:09:13 | INFO | hw5.seq2seq | example reference: 非常感謝\n",
            "2023-04-15 02:09:13 | INFO | hw5.seq2seq | validation loss:\t3.6989\n",
            "2023-04-15 02:09:13 | INFO | hw5.seq2seq | BLEU = 21.99 56.9/30.8/17.4/10.4 (BP = 0.926 ratio = 0.929 hyp_len = 103846 ref_len = 111811)\n",
            "2023-04-15 02:09:14 | INFO | hw5.seq2seq | saved epoch checkpoint: d:\\Wei-shun Bao\\Learning\\Codes\\ML2022-Spring\\HW05\\checkpoints\\transformer-bt/checkpoint7.pt\n",
            "2023-04-15 02:09:14 | INFO | hw5.seq2seq | end of epoch 7\n",
            "2023-04-15 02:09:14 | INFO | fairseq.data.iterators | grouped total_num_itrs = 1851\n"
          ]
        },
        {
          "data": {
            "application/vnd.jupyter.widget-view+json": {
              "model_id": "ef07bbe564024a42b426d51fbb6b31d2",
              "version_major": 2,
              "version_minor": 0
            },
            "text/plain": [
              "train epoch 8:   0%|          | 0/1851 [00:00<?, ?it/s]"
            ]
          },
          "metadata": {},
          "output_type": "display_data"
        },
        {
          "name": "stderr",
          "output_type": "stream",
          "text": [
            "2023-04-15 02:15:47 | INFO | hw5.seq2seq | training loss: 3.3955\n",
            "2023-04-15 02:15:47 | INFO | hw5.seq2seq | begin validation\n"
          ]
        },
        {
          "data": {
            "application/vnd.jupyter.widget-view+json": {
              "model_id": "6504aab7397b42b6b9533b6459cf2499",
              "version_major": 2,
              "version_minor": 0
            },
            "text/plain": [
              "validation:   0%|          | 0/22 [00:00<?, ?it/s]"
            ]
          },
          "metadata": {},
          "output_type": "display_data"
        },
        {
          "name": "stderr",
          "output_type": "stream",
          "text": [
            "2023-04-15 02:16:09 | INFO | hw5.seq2seq | example source: some will go on for further education , but many will enter the workforce .\n",
            "2023-04-15 02:16:09 | INFO | hw5.seq2seq | example hypothesis: 有些人會更進一步的教育 , 但很多人會進入勞動力 。\n",
            "2023-04-15 02:16:09 | INFO | hw5.seq2seq | example reference: 有些人會繼續深造 , 但許多人會成為勞動力 。\n",
            "2023-04-15 02:16:09 | INFO | hw5.seq2seq | validation loss:\t3.6641\n",
            "2023-04-15 02:16:09 | INFO | hw5.seq2seq | BLEU = 22.38 56.6/30.7/17.4/10.4 (BP = 0.944 ratio = 0.945 hyp_len = 105696 ref_len = 111811)\n",
            "2023-04-15 02:16:09 | INFO | hw5.seq2seq | saved epoch checkpoint: d:\\Wei-shun Bao\\Learning\\Codes\\ML2022-Spring\\HW05\\checkpoints\\transformer-bt/checkpoint8.pt\n",
            "2023-04-15 02:16:09 | INFO | hw5.seq2seq | end of epoch 8\n",
            "2023-04-15 02:16:09 | INFO | fairseq.data.iterators | grouped total_num_itrs = 1851\n"
          ]
        },
        {
          "data": {
            "application/vnd.jupyter.widget-view+json": {
              "model_id": "7236ac2500b74737a85ce826c20ee1c9",
              "version_major": 2,
              "version_minor": 0
            },
            "text/plain": [
              "train epoch 9:   0%|          | 0/1851 [00:00<?, ?it/s]"
            ]
          },
          "metadata": {},
          "output_type": "display_data"
        },
        {
          "name": "stderr",
          "output_type": "stream",
          "text": [
            "2023-04-15 02:22:42 | INFO | hw5.seq2seq | training loss: 3.3715\n",
            "2023-04-15 02:22:42 | INFO | hw5.seq2seq | begin validation\n"
          ]
        },
        {
          "data": {
            "application/vnd.jupyter.widget-view+json": {
              "model_id": "e38b6e3283014edf94d114eab34f9f01",
              "version_major": 2,
              "version_minor": 0
            },
            "text/plain": [
              "validation:   0%|          | 0/22 [00:00<?, ?it/s]"
            ]
          },
          "metadata": {},
          "output_type": "display_data"
        },
        {
          "name": "stderr",
          "output_type": "stream",
          "text": [
            "2023-04-15 02:23:05 | INFO | hw5.seq2seq | example source: what would i feel ?\n",
            "2023-04-15 02:23:05 | INFO | hw5.seq2seq | example hypothesis: 我會感受到什麼 ?\n",
            "2023-04-15 02:23:05 | INFO | hw5.seq2seq | example reference: 會有甚麼感覺呢 ?\n",
            "2023-04-15 02:23:05 | INFO | hw5.seq2seq | validation loss:\t3.6599\n",
            "2023-04-15 02:23:05 | INFO | hw5.seq2seq | BLEU = 22.80 56.3/30.7/17.4/10.4 (BP = 0.964 ratio = 0.964 hyp_len = 107815 ref_len = 111811)\n",
            "2023-04-15 02:23:05 | INFO | hw5.seq2seq | saved epoch checkpoint: d:\\Wei-shun Bao\\Learning\\Codes\\ML2022-Spring\\HW05\\checkpoints\\transformer-bt/checkpoint9.pt\n",
            "2023-04-15 02:23:05 | INFO | hw5.seq2seq | end of epoch 9\n",
            "2023-04-15 02:23:05 | INFO | fairseq.data.iterators | grouped total_num_itrs = 1851\n"
          ]
        },
        {
          "data": {
            "application/vnd.jupyter.widget-view+json": {
              "model_id": "243ec4a69e8a46e78dae7fda8d876dd8",
              "version_major": 2,
              "version_minor": 0
            },
            "text/plain": [
              "train epoch 10:   0%|          | 0/1851 [00:00<?, ?it/s]"
            ]
          },
          "metadata": {},
          "output_type": "display_data"
        },
        {
          "name": "stderr",
          "output_type": "stream",
          "text": [
            "2023-04-15 02:29:34 | INFO | hw5.seq2seq | training loss: 3.3527\n",
            "2023-04-15 02:29:34 | INFO | hw5.seq2seq | begin validation\n"
          ]
        },
        {
          "data": {
            "application/vnd.jupyter.widget-view+json": {
              "model_id": "7af16089b0054bd89ce0ffbf795814a6",
              "version_major": 2,
              "version_minor": 0
            },
            "text/plain": [
              "validation:   0%|          | 0/22 [00:00<?, ?it/s]"
            ]
          },
          "metadata": {},
          "output_type": "display_data"
        },
        {
          "name": "stderr",
          "output_type": "stream",
          "text": [
            "2023-04-15 02:29:57 | INFO | hw5.seq2seq | example source: so think about when you have friends , families and coworkers in california , on the west coast or in other parts of the world .\n",
            "2023-04-15 02:29:57 | INFO | hw5.seq2seq | example hypothesis: 所以 , 想想看 , 當你有朋友、家庭和同事在加州 , 在西岸或其他地區 ,\n",
            "2023-04-15 02:29:57 | INFO | hw5.seq2seq | example reference: 所以 , 想像當你嘗試聯繫在加州 , 在西海岸或者在世界的另一面\n",
            "2023-04-15 02:29:57 | INFO | hw5.seq2seq | validation loss:\t3.6570\n",
            "2023-04-15 02:29:57 | INFO | hw5.seq2seq | BLEU = 22.96 55.0/29.8/16.9/10.1 (BP = 1.000 ratio = 1.006 hyp_len = 112494 ref_len = 111811)\n",
            "2023-04-15 02:29:58 | INFO | hw5.seq2seq | saved epoch checkpoint: d:\\Wei-shun Bao\\Learning\\Codes\\ML2022-Spring\\HW05\\checkpoints\\transformer-bt/checkpoint10.pt\n",
            "2023-04-15 02:29:58 | INFO | hw5.seq2seq | end of epoch 10\n",
            "2023-04-15 02:29:58 | INFO | fairseq.data.iterators | grouped total_num_itrs = 1851\n"
          ]
        },
        {
          "data": {
            "application/vnd.jupyter.widget-view+json": {
              "model_id": "615ed57ba137471fbee21df0a9239c08",
              "version_major": 2,
              "version_minor": 0
            },
            "text/plain": [
              "train epoch 11:   0%|          | 0/1851 [00:00<?, ?it/s]"
            ]
          },
          "metadata": {},
          "output_type": "display_data"
        },
        {
          "name": "stderr",
          "output_type": "stream",
          "text": [
            "2023-04-15 02:36:23 | INFO | hw5.seq2seq | training loss: 3.3368\n",
            "2023-04-15 02:36:23 | INFO | hw5.seq2seq | begin validation\n"
          ]
        },
        {
          "data": {
            "application/vnd.jupyter.widget-view+json": {
              "model_id": "abb3c79902df4d32b0872ac3eb56e711",
              "version_major": 2,
              "version_minor": 0
            },
            "text/plain": [
              "validation:   0%|          | 0/22 [00:00<?, ?it/s]"
            ]
          },
          "metadata": {},
          "output_type": "display_data"
        },
        {
          "name": "stderr",
          "output_type": "stream",
          "text": [
            "2023-04-15 02:36:44 | INFO | hw5.seq2seq | example source: okay , so by this logic , bad is always stronger than good when it comes to updating .\n",
            "2023-04-15 02:36:44 | INFO | hw5.seq2seq | example hypothesis: 好 , 所以 , 藉由這個邏輯 , 壞事總是比起在上升時更強烈 。\n",
            "2023-04-15 02:36:44 | INFO | hw5.seq2seq | example reference: 好 , 依據這樣的邏輯當有新的印象出現時壞的效果比好的效果來得強烈\n",
            "2023-04-15 02:36:44 | INFO | hw5.seq2seq | validation loss:\t3.6328\n",
            "2023-04-15 02:36:44 | INFO | hw5.seq2seq | BLEU = 23.02 56.4/30.8/17.6/10.7 (BP = 0.963 ratio = 0.964 hyp_len = 107734 ref_len = 111811)\n",
            "2023-04-15 02:36:44 | INFO | hw5.seq2seq | saved epoch checkpoint: d:\\Wei-shun Bao\\Learning\\Codes\\ML2022-Spring\\HW05\\checkpoints\\transformer-bt/checkpoint11.pt\n",
            "2023-04-15 02:36:44 | INFO | hw5.seq2seq | end of epoch 11\n",
            "2023-04-15 02:36:44 | INFO | fairseq.data.iterators | grouped total_num_itrs = 1851\n"
          ]
        },
        {
          "data": {
            "application/vnd.jupyter.widget-view+json": {
              "model_id": "12a618e39d5245f2978eda56d6f61f20",
              "version_major": 2,
              "version_minor": 0
            },
            "text/plain": [
              "train epoch 12:   0%|          | 0/1851 [00:00<?, ?it/s]"
            ]
          },
          "metadata": {},
          "output_type": "display_data"
        },
        {
          "name": "stderr",
          "output_type": "stream",
          "text": [
            "2023-04-15 02:43:13 | INFO | hw5.seq2seq | training loss: 3.3227\n",
            "2023-04-15 02:43:13 | INFO | hw5.seq2seq | begin validation\n"
          ]
        },
        {
          "data": {
            "application/vnd.jupyter.widget-view+json": {
              "model_id": "74ad3a81f6bb4d6387bb86585d18d025",
              "version_major": 2,
              "version_minor": 0
            },
            "text/plain": [
              "validation:   0%|          | 0/22 [00:00<?, ?it/s]"
            ]
          },
          "metadata": {},
          "output_type": "display_data"
        },
        {
          "name": "stderr",
          "output_type": "stream",
          "text": [
            "2023-04-15 02:43:36 | INFO | hw5.seq2seq | example source: never mind the fact that the address led to a strip mall somewhere in northern l . a .\n",
            "2023-04-15 02:43:36 | INFO | hw5.seq2seq | example hypothesis: 從來沒有想過地址導致北l.a某處的嚴格商場 。\n",
            "2023-04-15 02:43:36 | INFO | hw5.seq2seq | example reference: 但事實是這個公司位於洛杉磯北部的某購物中心\n",
            "2023-04-15 02:43:36 | INFO | hw5.seq2seq | validation loss:\t3.6267\n",
            "2023-04-15 02:43:36 | INFO | hw5.seq2seq | BLEU = 23.11 56.7/31.0/17.7/10.6 (BP = 0.964 ratio = 0.965 hyp_len = 107902 ref_len = 111811)\n",
            "2023-04-15 02:43:36 | INFO | hw5.seq2seq | saved epoch checkpoint: d:\\Wei-shun Bao\\Learning\\Codes\\ML2022-Spring\\HW05\\checkpoints\\transformer-bt/checkpoint12.pt\n",
            "2023-04-15 02:43:36 | INFO | hw5.seq2seq | end of epoch 12\n",
            "2023-04-15 02:43:36 | INFO | fairseq.data.iterators | grouped total_num_itrs = 1851\n"
          ]
        },
        {
          "data": {
            "application/vnd.jupyter.widget-view+json": {
              "model_id": "64b179b9159047609ccf26a3795ece26",
              "version_major": 2,
              "version_minor": 0
            },
            "text/plain": [
              "train epoch 13:   0%|          | 0/1851 [00:00<?, ?it/s]"
            ]
          },
          "metadata": {},
          "output_type": "display_data"
        },
        {
          "name": "stderr",
          "output_type": "stream",
          "text": [
            "2023-04-15 02:50:04 | INFO | hw5.seq2seq | training loss: 3.3094\n",
            "2023-04-15 02:50:04 | INFO | hw5.seq2seq | begin validation\n"
          ]
        },
        {
          "data": {
            "application/vnd.jupyter.widget-view+json": {
              "model_id": "38419ae4ce3c459db0a7e690f83b21a5",
              "version_major": 2,
              "version_minor": 0
            },
            "text/plain": [
              "validation:   0%|          | 0/22 [00:00<?, ?it/s]"
            ]
          },
          "metadata": {},
          "output_type": "display_data"
        },
        {
          "name": "stderr",
          "output_type": "stream",
          "text": [
            "2023-04-15 02:50:26 | INFO | hw5.seq2seq | example source: we wear all black , we get very depressed , you think we're adorable , we're dead inside because we've got no choice .\n",
            "2023-04-15 02:50:26 | INFO | hw5.seq2seq | example hypothesis: 我們穿著所有的黑色 , 我們變得非常沮喪 , 你覺得我們是可愛的 , 我們死在裡面 , 因為我們沒有選擇 。\n",
            "2023-04-15 02:50:26 | INFO | hw5.seq2seq | example reference: 我們身著華服你們認為我們是值得尊敬的我們內心是一片死寂 , 因為我們別無選擇\n",
            "2023-04-15 02:50:26 | INFO | hw5.seq2seq | validation loss:\t3.6096\n",
            "2023-04-15 02:50:26 | INFO | hw5.seq2seq | BLEU = 23.25 55.9/30.5/17.3/10.4 (BP = 0.987 ratio = 0.987 hyp_len = 110410 ref_len = 111811)\n",
            "2023-04-15 02:50:26 | INFO | hw5.seq2seq | saved epoch checkpoint: d:\\Wei-shun Bao\\Learning\\Codes\\ML2022-Spring\\HW05\\checkpoints\\transformer-bt/checkpoint13.pt\n",
            "2023-04-15 02:50:26 | INFO | hw5.seq2seq | end of epoch 13\n",
            "2023-04-15 02:50:26 | INFO | fairseq.data.iterators | grouped total_num_itrs = 1851\n"
          ]
        },
        {
          "data": {
            "application/vnd.jupyter.widget-view+json": {
              "model_id": "a80e53aa397a4835b5f554dbb716f3e6",
              "version_major": 2,
              "version_minor": 0
            },
            "text/plain": [
              "train epoch 14:   0%|          | 0/1851 [00:00<?, ?it/s]"
            ]
          },
          "metadata": {},
          "output_type": "display_data"
        },
        {
          "name": "stderr",
          "output_type": "stream",
          "text": [
            "2023-04-15 02:56:52 | INFO | hw5.seq2seq | training loss: 3.3005\n",
            "2023-04-15 02:56:52 | INFO | hw5.seq2seq | begin validation\n"
          ]
        },
        {
          "data": {
            "application/vnd.jupyter.widget-view+json": {
              "model_id": "c46682319cc34b9884700d4244d33488",
              "version_major": 2,
              "version_minor": 0
            },
            "text/plain": [
              "validation:   0%|          | 0/22 [00:00<?, ?it/s]"
            ]
          },
          "metadata": {},
          "output_type": "display_data"
        },
        {
          "name": "stderr",
          "output_type": "stream",
          "text": [
            "2023-04-15 02:57:12 | INFO | hw5.seq2seq | example source: he's saying to me , 'electricity . ' was he an electrician ? \" \" no . \"\n",
            "2023-04-15 02:57:12 | INFO | hw5.seq2seq | example hypothesis: 他對我說: 「 電力 。 他是電器嗎 ? 」\n",
            "2023-04-15 02:57:12 | INFO | hw5.seq2seq | example reference: 他對我說『電流』他是一個電工嗎 ? 」 不是\n",
            "2023-04-15 02:57:12 | INFO | hw5.seq2seq | validation loss:\t3.5916\n",
            "2023-04-15 02:57:12 | INFO | hw5.seq2seq | BLEU = 22.87 57.5/31.4/17.9/10.9 (BP = 0.939 ratio = 0.941 hyp_len = 105216 ref_len = 111811)\n",
            "2023-04-15 02:57:12 | INFO | hw5.seq2seq | saved epoch checkpoint: d:\\Wei-shun Bao\\Learning\\Codes\\ML2022-Spring\\HW05\\checkpoints\\transformer-bt/checkpoint14.pt\n",
            "2023-04-15 02:57:12 | INFO | hw5.seq2seq | end of epoch 14\n",
            "2023-04-15 02:57:12 | INFO | fairseq.data.iterators | grouped total_num_itrs = 1851\n"
          ]
        },
        {
          "data": {
            "application/vnd.jupyter.widget-view+json": {
              "model_id": "5ca21e45c9134a2694c8f48dc20535c3",
              "version_major": 2,
              "version_minor": 0
            },
            "text/plain": [
              "train epoch 15:   0%|          | 0/1851 [00:00<?, ?it/s]"
            ]
          },
          "metadata": {},
          "output_type": "display_data"
        },
        {
          "name": "stderr",
          "output_type": "stream",
          "text": [
            "2023-04-15 03:03:38 | INFO | hw5.seq2seq | training loss: 3.2912\n",
            "2023-04-15 03:03:38 | INFO | hw5.seq2seq | begin validation\n"
          ]
        },
        {
          "data": {
            "application/vnd.jupyter.widget-view+json": {
              "model_id": "1febd1b5134c4f7e9bbe6528c279c3bc",
              "version_major": 2,
              "version_minor": 0
            },
            "text/plain": [
              "validation:   0%|          | 0/22 [00:00<?, ?it/s]"
            ]
          },
          "metadata": {},
          "output_type": "display_data"
        },
        {
          "name": "stderr",
          "output_type": "stream",
          "text": [
            "2023-04-15 03:04:00 | INFO | hw5.seq2seq | example source: so they went to their data science team , and they were able to scale this big data insight in with their quantitative data .\n",
            "2023-04-15 03:04:00 | INFO | hw5.seq2seq | example hypothesis: 所以他們去了他們的數據科學團隊 , 他們能夠用量化資料來衡量這個大數據 。\n",
            "2023-04-15 03:04:00 | INFO | hw5.seq2seq | example reference: 於是叫他們的數據科學組把這洞察放大到量化數據的規模來衡量 。\n",
            "2023-04-15 03:04:00 | INFO | hw5.seq2seq | validation loss:\t3.5937\n",
            "2023-04-15 03:04:00 | INFO | hw5.seq2seq | BLEU = 23.34 56.6/31.1/17.8/10.8 (BP = 0.969 ratio = 0.969 hyp_len = 108345 ref_len = 111811)\n",
            "2023-04-15 03:04:00 | INFO | hw5.seq2seq | saved epoch checkpoint: d:\\Wei-shun Bao\\Learning\\Codes\\ML2022-Spring\\HW05\\checkpoints\\transformer-bt/checkpoint15.pt\n",
            "2023-04-15 03:04:00 | INFO | hw5.seq2seq | end of epoch 15\n",
            "2023-04-15 03:04:00 | INFO | fairseq.data.iterators | grouped total_num_itrs = 1851\n"
          ]
        },
        {
          "data": {
            "application/vnd.jupyter.widget-view+json": {
              "model_id": "854e0ac03dea46d59d5c9cdc47c2ca15",
              "version_major": 2,
              "version_minor": 0
            },
            "text/plain": [
              "train epoch 16:   0%|          | 0/1851 [00:00<?, ?it/s]"
            ]
          },
          "metadata": {},
          "output_type": "display_data"
        },
        {
          "name": "stderr",
          "output_type": "stream",
          "text": [
            "2023-04-15 03:10:25 | INFO | hw5.seq2seq | training loss: 3.2811\n",
            "2023-04-15 03:10:25 | INFO | hw5.seq2seq | begin validation\n"
          ]
        },
        {
          "data": {
            "application/vnd.jupyter.widget-view+json": {
              "model_id": "fc5b0094999049f1b498e8476cd99064",
              "version_major": 2,
              "version_minor": 0
            },
            "text/plain": [
              "validation:   0%|          | 0/22 [00:00<?, ?it/s]"
            ]
          },
          "metadata": {},
          "output_type": "display_data"
        },
        {
          "name": "stderr",
          "output_type": "stream",
          "text": [
            "2023-04-15 03:10:45 | INFO | hw5.seq2seq | example source: in the 35 years i've been a climbing guide and taught on indoor walls , and stuff like that , the most important thing i've learned was , guys will always try to do pullups .\n",
            "2023-04-15 03:10:45 | INFO | hw5.seq2seq | example hypothesis: 在三十五年來我一直在攀爬指導並在室內牆上教導 , 諸如此類的事情 , 我學到的最重要的是 , 各位總是會試著去做肺部 。\n",
            "2023-04-15 03:10:45 | INFO | hw5.seq2seq | example reference: 35年來我一直擔任攀岩嚮導在室內岩場教學 , 並做些像這樣的工作 , 而我所學到的最重要的事情就是 , 男性們通常會做引體向上 。\n",
            "2023-04-15 03:10:45 | INFO | hw5.seq2seq | validation loss:\t3.5717\n",
            "2023-04-15 03:10:45 | INFO | hw5.seq2seq | BLEU = 23.27 57.4/31.7/18.1/11.0 (BP = 0.948 ratio = 0.950 hyp_len = 106176 ref_len = 111811)\n",
            "2023-04-15 03:10:45 | INFO | hw5.seq2seq | saved epoch checkpoint: d:\\Wei-shun Bao\\Learning\\Codes\\ML2022-Spring\\HW05\\checkpoints\\transformer-bt/checkpoint16.pt\n",
            "2023-04-15 03:10:45 | INFO | hw5.seq2seq | end of epoch 16\n",
            "2023-04-15 03:10:45 | INFO | fairseq.data.iterators | grouped total_num_itrs = 1851\n"
          ]
        },
        {
          "data": {
            "application/vnd.jupyter.widget-view+json": {
              "model_id": "01e873e991624b0193c85a18039d4b41",
              "version_major": 2,
              "version_minor": 0
            },
            "text/plain": [
              "train epoch 17:   0%|          | 0/1851 [00:00<?, ?it/s]"
            ]
          },
          "metadata": {},
          "output_type": "display_data"
        },
        {
          "name": "stderr",
          "output_type": "stream",
          "text": [
            "2023-04-15 03:17:05 | INFO | hw5.seq2seq | training loss: 3.2722\n",
            "2023-04-15 03:17:05 | INFO | hw5.seq2seq | begin validation\n"
          ]
        },
        {
          "data": {
            "application/vnd.jupyter.widget-view+json": {
              "model_id": "56eddf682b98419f8efcb09e9a6ee0f5",
              "version_major": 2,
              "version_minor": 0
            },
            "text/plain": [
              "validation:   0%|          | 0/22 [00:00<?, ?it/s]"
            ]
          },
          "metadata": {},
          "output_type": "display_data"
        },
        {
          "name": "stderr",
          "output_type": "stream",
          "text": [
            "2023-04-15 03:17:28 | INFO | hw5.seq2seq | example source: who gets safe surgery and who doesn't ?\n",
            "2023-04-15 03:17:28 | INFO | hw5.seq2seq | example hypothesis: 誰得到安全的手術 , 以及誰沒有 ?\n",
            "2023-04-15 03:17:28 | INFO | hw5.seq2seq | example reference: 誰能接受安全的手術誰不能 ?\n",
            "2023-04-15 03:17:28 | INFO | hw5.seq2seq | validation loss:\t3.5737\n",
            "2023-04-15 03:17:28 | INFO | hw5.seq2seq | BLEU = 23.40 57.0/31.4/18.0/10.9 (BP = 0.963 ratio = 0.963 hyp_len = 107729 ref_len = 111811)\n",
            "2023-04-15 03:17:28 | INFO | hw5.seq2seq | saved epoch checkpoint: d:\\Wei-shun Bao\\Learning\\Codes\\ML2022-Spring\\HW05\\checkpoints\\transformer-bt/checkpoint17.pt\n",
            "2023-04-15 03:17:28 | INFO | hw5.seq2seq | end of epoch 17\n",
            "2023-04-15 03:17:28 | INFO | fairseq.data.iterators | grouped total_num_itrs = 1851\n"
          ]
        },
        {
          "data": {
            "application/vnd.jupyter.widget-view+json": {
              "model_id": "1e6db389ad7442e38320499234806c4a",
              "version_major": 2,
              "version_minor": 0
            },
            "text/plain": [
              "train epoch 18:   0%|          | 0/1851 [00:00<?, ?it/s]"
            ]
          },
          "metadata": {},
          "output_type": "display_data"
        },
        {
          "name": "stderr",
          "output_type": "stream",
          "text": [
            "2023-04-15 03:23:45 | INFO | hw5.seq2seq | training loss: 3.2681\n",
            "2023-04-15 03:23:45 | INFO | hw5.seq2seq | begin validation\n"
          ]
        },
        {
          "data": {
            "application/vnd.jupyter.widget-view+json": {
              "model_id": "44e6d57f8df8455997c70be5905484d8",
              "version_major": 2,
              "version_minor": 0
            },
            "text/plain": [
              "validation:   0%|          | 0/22 [00:00<?, ?it/s]"
            ]
          },
          "metadata": {},
          "output_type": "display_data"
        },
        {
          "name": "stderr",
          "output_type": "stream",
          "text": [
            "2023-04-15 03:24:07 | INFO | hw5.seq2seq | example source: they breathe easier .\n",
            "2023-04-15 03:24:07 | INFO | hw5.seq2seq | example hypothesis: 他們呼吸更容易\n",
            "2023-04-15 03:24:07 | INFO | hw5.seq2seq | example reference: 他們比較能呼吸 。\n",
            "2023-04-15 03:24:07 | INFO | hw5.seq2seq | validation loss:\t3.5535\n",
            "2023-04-15 03:24:07 | INFO | hw5.seq2seq | BLEU = 23.37 56.9/31.2/17.9/10.8 (BP = 0.965 ratio = 0.966 hyp_len = 107981 ref_len = 111811)\n",
            "2023-04-15 03:24:07 | INFO | hw5.seq2seq | saved epoch checkpoint: d:\\Wei-shun Bao\\Learning\\Codes\\ML2022-Spring\\HW05\\checkpoints\\transformer-bt/checkpoint18.pt\n",
            "2023-04-15 03:24:07 | INFO | hw5.seq2seq | end of epoch 18\n",
            "2023-04-15 03:24:07 | INFO | fairseq.data.iterators | grouped total_num_itrs = 1851\n"
          ]
        },
        {
          "data": {
            "application/vnd.jupyter.widget-view+json": {
              "model_id": "cf11e205d89d4434a51bf2198f7889ca",
              "version_major": 2,
              "version_minor": 0
            },
            "text/plain": [
              "train epoch 19:   0%|          | 0/1851 [00:00<?, ?it/s]"
            ]
          },
          "metadata": {},
          "output_type": "display_data"
        },
        {
          "name": "stderr",
          "output_type": "stream",
          "text": [
            "2023-04-15 03:30:34 | INFO | hw5.seq2seq | training loss: 3.2613\n",
            "2023-04-15 03:30:34 | INFO | hw5.seq2seq | begin validation\n"
          ]
        },
        {
          "data": {
            "application/vnd.jupyter.widget-view+json": {
              "model_id": "eff2ae127af84dd0a37841c5ca05ebf9",
              "version_major": 2,
              "version_minor": 0
            },
            "text/plain": [
              "validation:   0%|          | 0/22 [00:00<?, ?it/s]"
            ]
          },
          "metadata": {},
          "output_type": "display_data"
        },
        {
          "name": "stderr",
          "output_type": "stream",
          "text": [
            "2023-04-15 03:30:56 | INFO | hw5.seq2seq | example source: all of the world's defense budgets and military spending taken together total just under two trillion dollars per year .\n",
            "2023-04-15 03:30:56 | INFO | hw5.seq2seq | example hypothesis: 世界上所有的防禦預算和軍隊都花在每年兩兆美元下 。\n",
            "2023-04-15 03:30:56 | INFO | hw5.seq2seq | example reference: 全球的軍事預算加總起來 , 每年都不到兩兆美金 。\n",
            "2023-04-15 03:30:56 | INFO | hw5.seq2seq | validation loss:\t3.5631\n",
            "2023-04-15 03:30:56 | INFO | hw5.seq2seq | BLEU = 23.70 56.6/31.2/17.9/10.9 (BP = 0.979 ratio = 0.979 hyp_len = 109482 ref_len = 111811)\n",
            "2023-04-15 03:30:56 | INFO | hw5.seq2seq | saved epoch checkpoint: d:\\Wei-shun Bao\\Learning\\Codes\\ML2022-Spring\\HW05\\checkpoints\\transformer-bt/checkpoint19.pt\n",
            "2023-04-15 03:30:56 | INFO | hw5.seq2seq | end of epoch 19\n",
            "2023-04-15 03:30:56 | INFO | fairseq.data.iterators | grouped total_num_itrs = 1851\n"
          ]
        },
        {
          "data": {
            "application/vnd.jupyter.widget-view+json": {
              "model_id": "5ac08fcc1ba645a5bfb9498fa56508ca",
              "version_major": 2,
              "version_minor": 0
            },
            "text/plain": [
              "train epoch 20:   0%|          | 0/1851 [00:00<?, ?it/s]"
            ]
          },
          "metadata": {},
          "output_type": "display_data"
        },
        {
          "name": "stderr",
          "output_type": "stream",
          "text": [
            "2023-04-15 03:37:20 | INFO | hw5.seq2seq | training loss: 3.2556\n",
            "2023-04-15 03:37:20 | INFO | hw5.seq2seq | begin validation\n"
          ]
        },
        {
          "data": {
            "application/vnd.jupyter.widget-view+json": {
              "model_id": "04ae04b66d9c43fba7d9ce4946e8e793",
              "version_major": 2,
              "version_minor": 0
            },
            "text/plain": [
              "validation:   0%|          | 0/22 [00:00<?, ?it/s]"
            ]
          },
          "metadata": {},
          "output_type": "display_data"
        },
        {
          "name": "stderr",
          "output_type": "stream",
          "text": [
            "2023-04-15 03:37:41 | INFO | hw5.seq2seq | example source: how do these nielsen ratings reflect not just what you've heard about , which is the idea of our social , collective unconscious , but how do these top10 nielsenrated shows over 50 years reflect the idea of our social conscience ?\n",
            "2023-04-15 03:37:41 | INFO | hw5.seq2seq | example hypothesis: 這些尼爾森評級如何反映出的不只是你聽過的 , 哪些是我們社會、集體不自覺的想法 , 而是這些頂尖的10個nielsensensenenenenenenens的節目是如何反映出我們社會科學的想法 ?\n",
            "2023-04-15 03:37:41 | INFO | hw5.seq2seq | example reference: 尼爾森收視率調查如何反應出所謂的社會集體無意識 ? 尼爾森收視率調查又是如何在過去五十年中反應出我們社會的意識 ?\n",
            "2023-04-15 03:37:41 | INFO | hw5.seq2seq | validation loss:\t3.5592\n",
            "2023-04-15 03:37:41 | INFO | hw5.seq2seq | BLEU = 23.82 56.8/31.4/18.1/11.0 (BP = 0.977 ratio = 0.977 hyp_len = 109250 ref_len = 111811)\n",
            "2023-04-15 03:37:41 | INFO | hw5.seq2seq | saved epoch checkpoint: d:\\Wei-shun Bao\\Learning\\Codes\\ML2022-Spring\\HW05\\checkpoints\\transformer-bt/checkpoint20.pt\n",
            "2023-04-15 03:37:41 | INFO | hw5.seq2seq | end of epoch 20\n",
            "2023-04-15 03:37:41 | INFO | fairseq.data.iterators | grouped total_num_itrs = 1851\n"
          ]
        },
        {
          "data": {
            "application/vnd.jupyter.widget-view+json": {
              "model_id": "ce0c88b4be4547daa289d26d31cd30dc",
              "version_major": 2,
              "version_minor": 0
            },
            "text/plain": [
              "train epoch 21:   0%|          | 0/1851 [00:00<?, ?it/s]"
            ]
          },
          "metadata": {},
          "output_type": "display_data"
        },
        {
          "name": "stderr",
          "output_type": "stream",
          "text": [
            "2023-04-15 03:43:58 | INFO | hw5.seq2seq | training loss: 3.2504\n",
            "2023-04-15 03:43:58 | INFO | hw5.seq2seq | begin validation\n"
          ]
        },
        {
          "data": {
            "application/vnd.jupyter.widget-view+json": {
              "model_id": "ae6e396cff4148b7b903d9bf46e31d93",
              "version_major": 2,
              "version_minor": 0
            },
            "text/plain": [
              "validation:   0%|          | 0/22 [00:00<?, ?it/s]"
            ]
          },
          "metadata": {},
          "output_type": "display_data"
        },
        {
          "name": "stderr",
          "output_type": "stream",
          "text": [
            "2023-04-15 03:44:20 | INFO | hw5.seq2seq | example source: moreover , we can calculate a probability that the universe was created in different states .\n",
            "2023-04-15 03:44:20 | INFO | hw5.seq2seq | example hypothesis: 此外 , 我們可以計算出宇宙在不同狀態所創造的機率 。\n",
            "2023-04-15 03:44:20 | INFO | hw5.seq2seq | example reference: 不同狀態的或然率 。 這些預測可以由\n",
            "2023-04-15 03:44:20 | INFO | hw5.seq2seq | validation loss:\t3.5548\n",
            "2023-04-15 03:44:20 | INFO | hw5.seq2seq | BLEU = 23.91 56.2/30.9/17.8/10.9 (BP = 0.993 ratio = 0.993 hyp_len = 111031 ref_len = 111811)\n",
            "2023-04-15 03:44:20 | INFO | hw5.seq2seq | saved epoch checkpoint: d:\\Wei-shun Bao\\Learning\\Codes\\ML2022-Spring\\HW05\\checkpoints\\transformer-bt/checkpoint21.pt\n",
            "2023-04-15 03:44:20 | INFO | hw5.seq2seq | end of epoch 21\n",
            "2023-04-15 03:44:20 | INFO | fairseq.data.iterators | grouped total_num_itrs = 1851\n"
          ]
        },
        {
          "data": {
            "application/vnd.jupyter.widget-view+json": {
              "model_id": "9a490e7734bf4a36a2d61ee70c7171af",
              "version_major": 2,
              "version_minor": 0
            },
            "text/plain": [
              "train epoch 22:   0%|          | 0/1851 [00:00<?, ?it/s]"
            ]
          },
          "metadata": {},
          "output_type": "display_data"
        },
        {
          "name": "stderr",
          "output_type": "stream",
          "text": [
            "2023-04-15 03:50:32 | INFO | hw5.seq2seq | training loss: 3.2452\n",
            "2023-04-15 03:50:32 | INFO | hw5.seq2seq | begin validation\n"
          ]
        },
        {
          "data": {
            "application/vnd.jupyter.widget-view+json": {
              "model_id": "1d8cd77230064df08dab77aa38879103",
              "version_major": 2,
              "version_minor": 0
            },
            "text/plain": [
              "validation:   0%|          | 0/22 [00:00<?, ?it/s]"
            ]
          },
          "metadata": {},
          "output_type": "display_data"
        },
        {
          "name": "stderr",
          "output_type": "stream",
          "text": [
            "2023-04-15 03:50:53 | INFO | hw5.seq2seq | example source: everything i do is stitched with its color . \"\n",
            "2023-04-15 03:50:53 | INFO | hw5.seq2seq | example hypothesis: 我所做的每件事都是用它的顏色儲存下來 。 」\n",
            "2023-04-15 03:50:53 | INFO | hw5.seq2seq | example reference: 我的行為都縫上了你的色彩 。 」\n",
            "2023-04-15 03:50:53 | INFO | hw5.seq2seq | validation loss:\t3.5291\n",
            "2023-04-15 03:50:53 | INFO | hw5.seq2seq | BLEU = 23.77 56.7/31.2/17.9/10.9 (BP = 0.981 ratio = 0.981 hyp_len = 109669 ref_len = 111811)\n",
            "2023-04-15 03:50:53 | INFO | hw5.seq2seq | saved epoch checkpoint: d:\\Wei-shun Bao\\Learning\\Codes\\ML2022-Spring\\HW05\\checkpoints\\transformer-bt/checkpoint22.pt\n",
            "2023-04-15 03:50:53 | INFO | hw5.seq2seq | end of epoch 22\n",
            "2023-04-15 03:50:53 | INFO | fairseq.data.iterators | grouped total_num_itrs = 1851\n"
          ]
        },
        {
          "data": {
            "application/vnd.jupyter.widget-view+json": {
              "model_id": "9d9f465395404d898aa913fa08909c91",
              "version_major": 2,
              "version_minor": 0
            },
            "text/plain": [
              "train epoch 23:   0%|          | 0/1851 [00:00<?, ?it/s]"
            ]
          },
          "metadata": {},
          "output_type": "display_data"
        },
        {
          "name": "stderr",
          "output_type": "stream",
          "text": [
            "2023-04-15 03:57:12 | INFO | hw5.seq2seq | training loss: 3.2425\n",
            "2023-04-15 03:57:12 | INFO | hw5.seq2seq | begin validation\n"
          ]
        },
        {
          "data": {
            "application/vnd.jupyter.widget-view+json": {
              "model_id": "0d268c34f5cd41e0be416e9d4c2aae90",
              "version_major": 2,
              "version_minor": 0
            },
            "text/plain": [
              "validation:   0%|          | 0/22 [00:00<?, ?it/s]"
            ]
          },
          "metadata": {},
          "output_type": "display_data"
        },
        {
          "name": "stderr",
          "output_type": "stream",
          "text": [
            "2023-04-15 03:57:32 | INFO | hw5.seq2seq | example source: the lesson that we learned from the soviet debacle is that only by a miracle will the working poor be reempowered , as they were in ancient athens , without creating new forms of brutality and waste .\n",
            "2023-04-15 03:57:32 | INFO | hw5.seq2seq | example hypothesis: 我們從蘇聯戰役中學到的教訓是 , 只有一個奇蹟會讓工作窮人被重新塑造 , 當他們在古老的雅典時 , 沒有創造出新的殘酷和浪費形式 。\n",
            "2023-04-15 03:57:32 | INFO | hw5.seq2seq | example reference: 我們從蘇聯解體吸取到的教訓是 , 只有奇蹟發生 , 貧窮的勞工才能被重新賦權 , 就像古老雅典時代那樣 , 而不會創造新形式的暴行和浪費 。\n",
            "2023-04-15 03:57:32 | INFO | hw5.seq2seq | validation loss:\t3.5592\n",
            "2023-04-15 03:57:32 | INFO | hw5.seq2seq | BLEU = 23.64 57.0/31.4/18.0/10.9 (BP = 0.970 ratio = 0.971 hyp_len = 108514 ref_len = 111811)\n",
            "2023-04-15 03:57:32 | INFO | hw5.seq2seq | saved epoch checkpoint: d:\\Wei-shun Bao\\Learning\\Codes\\ML2022-Spring\\HW05\\checkpoints\\transformer-bt/checkpoint23.pt\n",
            "2023-04-15 03:57:32 | INFO | hw5.seq2seq | end of epoch 23\n",
            "2023-04-15 03:57:32 | INFO | fairseq.data.iterators | grouped total_num_itrs = 1851\n"
          ]
        },
        {
          "data": {
            "application/vnd.jupyter.widget-view+json": {
              "model_id": "27fd0fdfe98b4683b68398f9013e8c32",
              "version_major": 2,
              "version_minor": 0
            },
            "text/plain": [
              "train epoch 24:   0%|          | 0/1851 [00:00<?, ?it/s]"
            ]
          },
          "metadata": {},
          "output_type": "display_data"
        },
        {
          "name": "stderr",
          "output_type": "stream",
          "text": [
            "2023-04-15 04:03:34 | INFO | hw5.seq2seq | training loss: 3.2365\n",
            "2023-04-15 04:03:34 | INFO | hw5.seq2seq | begin validation\n"
          ]
        },
        {
          "data": {
            "application/vnd.jupyter.widget-view+json": {
              "model_id": "d75bed367a704cb48322700b305287a0",
              "version_major": 2,
              "version_minor": 0
            },
            "text/plain": [
              "validation:   0%|          | 0/22 [00:00<?, ?it/s]"
            ]
          },
          "metadata": {},
          "output_type": "display_data"
        },
        {
          "name": "stderr",
          "output_type": "stream",
          "text": [
            "2023-04-15 04:03:54 | INFO | hw5.seq2seq | example source: a few years ago , my parents and i went to see the rockettes , radio city's highkicking dancers .\n",
            "2023-04-15 04:03:54 | INFO | hw5.seq2seq | example hypothesis: 幾年前 , 我父母和我去看火箭 , 無線電城的高踢舞者 。\n",
            "2023-04-15 04:03:54 | INFO | hw5.seq2seq | example reference: 幾年前 , 我父母和我去看rockettes舞團 , 無線電城音樂廳中腿能踢很高的舞者們 。\n",
            "2023-04-15 04:03:54 | INFO | hw5.seq2seq | validation loss:\t3.5374\n",
            "2023-04-15 04:03:54 | INFO | hw5.seq2seq | BLEU = 23.73 56.9/31.4/18.0/11.0 (BP = 0.974 ratio = 0.974 hyp_len = 108887 ref_len = 111811)\n",
            "2023-04-15 04:03:54 | INFO | hw5.seq2seq | saved epoch checkpoint: d:\\Wei-shun Bao\\Learning\\Codes\\ML2022-Spring\\HW05\\checkpoints\\transformer-bt/checkpoint24.pt\n",
            "2023-04-15 04:03:54 | INFO | hw5.seq2seq | end of epoch 24\n",
            "2023-04-15 04:03:54 | INFO | fairseq.data.iterators | grouped total_num_itrs = 1851\n"
          ]
        },
        {
          "data": {
            "application/vnd.jupyter.widget-view+json": {
              "model_id": "49d048d288fb43be83839352c0c23098",
              "version_major": 2,
              "version_minor": 0
            },
            "text/plain": [
              "train epoch 25:   0%|          | 0/1851 [00:00<?, ?it/s]"
            ]
          },
          "metadata": {},
          "output_type": "display_data"
        },
        {
          "name": "stderr",
          "output_type": "stream",
          "text": [
            "2023-04-15 04:10:06 | INFO | hw5.seq2seq | training loss: 3.2345\n",
            "2023-04-15 04:10:06 | INFO | hw5.seq2seq | begin validation\n"
          ]
        },
        {
          "data": {
            "application/vnd.jupyter.widget-view+json": {
              "model_id": "ec9e2e7cc35e466f9c3fb5b456f12958",
              "version_major": 2,
              "version_minor": 0
            },
            "text/plain": [
              "validation:   0%|          | 0/22 [00:00<?, ?it/s]"
            ]
          },
          "metadata": {},
          "output_type": "display_data"
        },
        {
          "name": "stderr",
          "output_type": "stream",
          "text": [
            "2023-04-15 04:10:26 | INFO | hw5.seq2seq | example source: and reality and i we don't share the same values , the same goals to be honest , i don't have goals ; i have fantasies .\n",
            "2023-04-15 04:10:26 | INFO | hw5.seq2seq | example hypothesis: 現實和我沒有共享相同的價值觀 , 相同的目標老實說 , 我沒有目標 ; 我有幻想 。\n",
            "2023-04-15 04:10:26 | INFO | hw5.seq2seq | example reference: 而現實和我我們沒有相同的價值觀、相同的目標老實說 , 我沒有目標 ; 我有幻想 。\n",
            "2023-04-15 04:10:26 | INFO | hw5.seq2seq | validation loss:\t3.5302\n",
            "2023-04-15 04:10:26 | INFO | hw5.seq2seq | BLEU = 23.85 57.1/31.7/18.3/11.2 (BP = 0.966 ratio = 0.967 hyp_len = 108100 ref_len = 111811)\n",
            "2023-04-15 04:10:27 | INFO | hw5.seq2seq | saved epoch checkpoint: d:\\Wei-shun Bao\\Learning\\Codes\\ML2022-Spring\\HW05\\checkpoints\\transformer-bt/checkpoint25.pt\n",
            "2023-04-15 04:10:27 | INFO | hw5.seq2seq | end of epoch 25\n"
          ]
        },
        {
          "name": "stdout",
          "output_type": "stream",
          "text": [
            "No improvements in the recent 3 epochs. So far the best BLEU score=23.91494\n"
          ]
        }
      ],
      "source": [
        "epoch_itr = load_data_iterator(task, \"train\", config.start_epoch, config.max_tokens, config.num_workers)\n",
        "try_load_checkpoint(model, optimizer, name=config.resume)\n",
        "bleu_best, early_stop_cnt = 0.0, 0\n",
        "gnorms = []\n",
        "while epoch_itr.next_epoch_idx <= config.max_epoch:\n",
        "    # train for one epoch\n",
        "    train_stats = train_one_epoch(epoch_itr, model, task, criterion, optimizer, config.accum_steps)\n",
        "    stats = validate_and_save(model, task, criterion, optimizer, epoch=epoch_itr.epoch)\n",
        "    logger.info(\"end of epoch {}\".format(epoch_itr.epoch))    \n",
        "    epoch_itr = load_data_iterator(task, \"train\", epoch_itr.next_epoch_idx, config.max_tokens, config.num_workers)\n",
        "    \n",
        "    gnorms += train_stats[\"gnorm\"]\n",
        "    \n",
        "    if stats[\"bleu\"].score > bleu_best:\n",
        "        bleu_best = stats[\"bleu\"].score\n",
        "        early_stop_cnt = 0\n",
        "    else:\n",
        "        early_stop_cnt += 1\n",
        "    \n",
        "    if early_stop_cnt > config.early_stop_patience:\n",
        "        print(f\"No improvements in the recent {config.early_stop_patience} epochs. So far the best BLEU score={bleu_best:.5f}\")\n",
        "        break"
      ]
    },
    {
      "cell_type": "code",
      "execution_count": 45,
      "metadata": {},
      "outputs": [
        {
          "data": {
            "image/png": "[encoded data removed]",
            "text/plain": [
              "<Figure size 1440x720 with 1 Axes>"
            ]
          },
          "metadata": {
            "needs_background": "light"
          },
          "output_type": "display_data"
        }
      ],
      "source": [
        "plt.figure(figsize=(20, 10))\n",
        "plt.plot(gnorms)\n",
        "plt.plot([config.clip_norm] * len(gnorms), \"--\")\n",
        "plt.xlim(0)\n",
        "plt.ylim(0)\n",
        "plt.xlabel(\"Step\")\n",
        "plt.ylabel(\"Grad norm\")\n",
        "plt.show()"
      ]
    },
    {
      "cell_type": "code",
      "execution_count": 46,
      "metadata": {},
      "outputs": [
        {
          "name": "stderr",
          "output_type": "stream",
          "text": [
            "2023-04-15 04:10:27 | INFO | hw5.seq2seq | loaded checkpoint checkpoints\\transformer-bt\\checkpoint_best.pt: step=unknown loss=3.5547916889190674 bleu=23.91493534342627\n"
          ]
        }
      ],
      "source": [
        "try_load_checkpoint(model, name=\"checkpoint_best.pt\")\n",
        "\n",
        "pos_emb = model.decoder.embed_positions.weights.cpu().detach()\n",
        "pos_emb_n = F.normalize(pos_emb, p=2, dim=1)"
      ]
    },
    {
      "cell_type": "code",
      "execution_count": 47,
      "metadata": {},
      "outputs": [
        {
          "data": {
            "image/png": "[encoded data removed]",
            "text/plain": [
              "<Figure size 720x720 with 2 Axes>"
            ]
          },
          "metadata": {
            "needs_background": "light"
          },
          "output_type": "display_data"
        }
      ],
      "source": [
        "plt.figure(figsize=(10, 10))\n",
        "plt.imshow(pos_emb_n @ pos_emb_n.T)\n",
        "plt.colorbar(fraction=0.046, pad=0.04)\n",
        "plt.title(\"Position Embedding Cosine Similarity\")\n",
        "plt.show()"
      ]
    },
    {
      "cell_type": "markdown",
      "metadata": {
        "id": "KyjRwllxPjtf"
      },
      "source": [
        "# Submission"
      ]
    },
    {
      "cell_type": "code",
      "execution_count": 48,
      "metadata": {
        "id": "N70Gc6smPi1d"
      },
      "outputs": [
        {
          "name": "stdout",
          "output_type": "stream",
          "text": [
            "Namespace(inputs=['./checkpoints/transformer-bt'], output='./checkpoints/transformer-bt/avg_last_5_checkpoint.pt', num_epoch_checkpoints=5, num_update_checkpoints=None, checkpoint_upper_bound=None)\n",
            "averaging checkpoints:  ['./checkpoints/transformer-bt\\\\checkpoint25.pt', './checkpoints/transformer-bt\\\\checkpoint24.pt', './checkpoints/transformer-bt\\\\checkpoint23.pt', './checkpoints/transformer-bt\\\\checkpoint22.pt', './checkpoints/transformer-bt\\\\checkpoint21.pt']\n",
            "Finished writing averaged checkpoint to ./checkpoints/transformer-bt/avg_last_5_checkpoint.pt\n"
          ]
        }
      ],
      "source": [
        "# averaging a few checkpoints can have a similar effect to ensemble\n",
        "checkdir=config.savedir\n",
        "!python ./fairseq/scripts/average_checkpoints.py \\\n",
        "--inputs {checkdir} \\\n",
        "--num-epoch-checkpoints 5 \\\n",
        "--output {checkdir}/avg_last_5_checkpoint.pt"
      ]
    },
    {
      "cell_type": "markdown",
      "metadata": {
        "id": "BAGMiun8PnZy"
      },
      "source": [
        "## Confirm model weights used to generate submission"
      ]
    },
    {
      "cell_type": "code",
      "execution_count": 49,
      "metadata": {
        "id": "tvRdivVUPnsU"
      },
      "outputs": [
        {
          "name": "stderr",
          "output_type": "stream",
          "text": [
            "2023-04-15 04:10:31 | INFO | hw5.seq2seq | loaded checkpoint checkpoints\\transformer-bt\\avg_last_5_checkpoint.pt: step=unknown loss=3.530181407928467 bleu=23.847164376260757\n",
            "2023-04-15 04:10:31 | INFO | hw5.seq2seq | begin validation\n"
          ]
        },
        {
          "data": {
            "application/vnd.jupyter.widget-view+json": {
              "model_id": "6083997a00e447f0b55ec1a04fce3256",
              "version_major": 2,
              "version_minor": 0
            },
            "text/plain": [
              "validation:   0%|          | 0/22 [00:00<?, ?it/s]"
            ]
          },
          "metadata": {},
          "output_type": "display_data"
        },
        {
          "name": "stderr",
          "output_type": "stream",
          "text": [
            "2023-04-15 04:10:51 | INFO | hw5.seq2seq | example source: we can't .\n",
            "2023-04-15 04:10:51 | INFO | hw5.seq2seq | example hypothesis: 我們不能\n",
            "2023-04-15 04:10:51 | INFO | hw5.seq2seq | example reference: 這是行不通的 。\n",
            "2023-04-15 04:10:51 | INFO | hw5.seq2seq | validation loss:\t3.5276\n",
            "2023-04-15 04:10:51 | INFO | hw5.seq2seq | BLEU = 23.88 56.9/31.4/18.1/11.0 (BP = 0.978 ratio = 0.978 hyp_len = 109387 ref_len = 111811)\n"
          ]
        }
      ],
      "source": [
        "# checkpoint_last.pt : latest epoch\n",
        "# checkpoint_best.pt : highest validation bleu\n",
        "# avg_last_5_checkpoint.pt:　the average of last 5 epochs\n",
        "try_load_checkpoint(model, name=\"avg_last_5_checkpoint.pt\")\n",
        "validate(model, task, criterion, log_to_wandb=False)\n",
        "None"
      ]
    },
    {
      "cell_type": "markdown",
      "metadata": {
        "id": "ioAIflXpPsxt"
      },
      "source": [
        "## Generate Prediction"
      ]
    },
    {
      "cell_type": "code",
      "execution_count": 50,
      "metadata": {
        "id": "oYMxA8FlPtIq"
      },
      "outputs": [],
      "source": [
        "def generate_prediction(model, task, split=\"test\", outfile=\"./prediction.txt\"):    \n",
        "    task.load_dataset(split=split, epoch=1)\n",
        "    itr = load_data_iterator(task, split, 1, config.max_tokens, config.num_workers).next_epoch_itr(shuffle=False)\n",
        "    \n",
        "    idxs = []\n",
        "    hyps = []\n",
        "\n",
        "    model.eval()\n",
        "    progress = tqdm.tqdm(itr, desc=f\"prediction\")\n",
        "    with torch.no_grad():\n",
        "        for i, sample in enumerate(progress):\n",
        "            # validation loss\n",
        "            sample = utils.move_to_cuda(sample, device=device)\n",
        "\n",
        "            # do inference\n",
        "            s, h, r = inference_step(sample, model)\n",
        "            \n",
        "            hyps.extend(h)\n",
        "            idxs.extend(list(sample['id']))\n",
        "            \n",
        "    # sort based on the order before preprocess\n",
        "    hyps = [x for _,x in sorted(zip(idxs,hyps))]\n",
        "    \n",
        "    with open(outfile, \"w\") as f:\n",
        "        for h in hyps:\n",
        "            f.write(h+\"\\n\")"
      ]
    },
    {
      "cell_type": "code",
      "execution_count": 51,
      "metadata": {
        "id": "Le4RFWXxjmm0"
      },
      "outputs": [
        {
          "name": "stderr",
          "output_type": "stream",
          "text": [
            "2023-04-15 04:10:51 | INFO | fairseq.data.data_utils | loaded 4,000 examples from: ./DATA/data-bin/ted2020_with_mono\\test.en-zh.en\n",
            "2023-04-15 04:10:52 | INFO | fairseq.data.data_utils | loaded 4,000 examples from: ./DATA/data-bin/ted2020_with_mono\\test.en-zh.zh\n",
            "2023-04-15 04:10:52 | INFO | fairseq.tasks.translation | ./DATA/data-bin/ted2020_with_mono test en-zh 4000 examples\n"
          ]
        },
        {
          "data": {
            "application/vnd.jupyter.widget-view+json": {
              "model_id": "4dc9345f8ab745cf9f2cf3fdc50f456f",
              "version_major": 2,
              "version_minor": 0
            },
            "text/plain": [
              "prediction:   0%|          | 0/17 [00:00<?, ?it/s]"
            ]
          },
          "metadata": {},
          "output_type": "display_data"
        }
      ],
      "source": [
        "generate_prediction(model, task)"
      ]
    },
    {
      "cell_type": "markdown",
      "metadata": {
        "id": "1z0cJE-wPzaU"
      },
      "source": [
        "# Back-translation"
      ]
    },
    {
      "cell_type": "markdown",
      "metadata": {
        "id": "5-7uPJ2CP0sm"
      },
      "source": [
        "## Train a backward translation model"
      ]
    },
    {
      "cell_type": "markdown",
      "metadata": {
        "id": "ppGHjg2ZP3sV"
      },
      "source": [
        "1. Switch the source_lang and target_lang in **config** \n",
        "2. Change the savedir in **config** (eg. \"./checkpoints/transformer-back\")\n",
        "3. Train model"
      ]
    },
    {
      "cell_type": "markdown",
      "metadata": {
        "id": "waTGz29UP6WI"
      },
      "source": [
        "## Generate synthetic data with backward model "
      ]
    },
    {
      "cell_type": "markdown",
      "metadata": {
        "id": "sIeTsPexP8FL"
      },
      "source": [
        "### Download monolingual data"
      ]
    },
    {
      "cell_type": "code",
      "execution_count": 47,
      "metadata": {
        "id": "i7N4QlsbP8fh"
      },
      "outputs": [],
      "source": [
        "mono_dataset_name = 'mono'"
      ]
    },
    {
      "cell_type": "code",
      "execution_count": 48,
      "metadata": {
        "id": "396saD9-QBPY"
      },
      "outputs": [],
      "source": [
        "mono_prefix = Path(data_dir).absolute() / mono_dataset_name\n",
        "mono_prefix.mkdir(parents=True, exist_ok=True)\n",
        "\n",
        "# urls = (\n",
        "#     \"https://github.com/yuhsinchan/ML2022-HW5Dataset/releases/download/v1.0.2/ted_zh_corpus.deduped.gz\",\n",
        "# )\n",
        "# file_names = (\n",
        "#     'ted_zh_corpus.deduped.gz',\n",
        "# )\n",
        "\n",
        "# for u, f in zip(urls, file_names):\n",
        "#     path = mono_prefix/f\n",
        "#     if not path.exists():\n",
        "#         !wget \"{u}\" -O \"{path}\"\n",
        "#     else:\n",
        "#         print(f'{f} is exist, skip downloading')\n",
        "#     if path.suffix == \".tgz\":\n",
        "#         !tar -xvf \"{path}\" -C \"{prefix}\"\n",
        "#     elif path.suffix == \".zip\":\n",
        "#         !unzip -o \"{path}\" -d \"{prefix}\"\n",
        "#     elif path.suffix == \".gz\":\n",
        "#         !gzip -fkd \"{path}\""
      ]
    },
    {
      "cell_type": "markdown",
      "metadata": {
        "id": "JOVQRHzGQU4-"
      },
      "source": [
        "### TODO: clean corpus\n",
        "\n",
        "1. remove sentences that are too long or too short\n",
        "2. unify punctuation\n",
        "\n",
        "hint: you can use clean_s() defined above to do this"
      ]
    },
    {
      "cell_type": "code",
      "execution_count": 49,
      "metadata": {
        "id": "eIYmxfUOQSov"
      },
      "outputs": [],
      "source": [
        "data_mono_prefix = os.path.join(mono_prefix, \"ted_zh_corpus.deduped\")\n",
        "\n",
        "max_len=1000\n",
        "min_len=1\n",
        "\n",
        "if Path(f'{data_mono_prefix}.clean.zh').exists() and Path(f'{data_mono_prefix}.clean.en').exists():\n",
        "    print(f'{data_mono_prefix}.clean.zh & en exists. skipping clean.')\n",
        "else: \n",
        "    with open(f'{data_mono_prefix}', 'r') as in_f:\n",
        "        with open(f'{data_mono_prefix}.clean.zh', 'w') as out_f_zh:\n",
        "            with open(f'{data_mono_prefix}.clean.en', 'w') as out_f_en: # Need to create a dummy file due to the stupid design of 'generate_prediction'\n",
        "                for s in in_f:\n",
        "                    s = s.strip()\n",
        "                    s = clean_s(s, \"zh\")\n",
        "                    s_len = len_s(s, \"zh\")\n",
        "                    if min_len > 0: # remove short sentence\n",
        "                        if s_len < min_len:\n",
        "                            continue\n",
        "                    if max_len > 0: # remove long sentence\n",
        "                        if s_len > max_len:\n",
        "                            continue\n",
        "                    print(s, file=out_f_zh)\n",
        "                    print(\".\", file=out_f_en)"
      ]
    },
    {
      "cell_type": "code",
      "execution_count": 50,
      "metadata": {},
      "outputs": [
        {
          "name": "stdout",
          "output_type": "stream",
          "text": [
            "在16世紀中葉意大利人被一種男歌手迷住了那種男歌手的音域廣闊 , 包含的音高先前是一般成年男性不可能達到的\n",
            "但是 , 這天賦有一個很高的代價\n",
            "要防止他們變聲這些歌手在青春期前被閹割來停止荷爾蒙的變化 , 以免他們的聲線變低沉\n",
            "被稱為 「 閹伶 」 , 他們輕輕的、天使般的聲音在整個歐洲很有名直到這個殘酷的程序 , 在19世紀被禁止\n",
            "雖然阻止聲帶的成長 , 可以產生一個非凡廣闊的音域但自然發展的聲音 , 已經具有極多的可能性\n"
          ]
        }
      ],
      "source": [
        "!head \"{data_mono_prefix+'.clean.zh'}\" -n 5"
      ]
    },
    {
      "cell_type": "markdown",
      "metadata": {
        "id": "jegH0bvMQVmR"
      },
      "source": [
        "### TODO: Subword Units\n",
        "\n",
        "Use the spm model of the backward model to tokenize the data into subword units\n",
        "\n",
        "hint: spm model is located at DATA/raw-data/\\[dataset\\]/spm\\[vocab_num\\].model"
      ]
    },
    {
      "cell_type": "code",
      "execution_count": 51,
      "metadata": {
        "id": "vqgR4uUMQZGY"
      },
      "outputs": [
        {
          "name": "stdout",
          "output_type": "stream",
          "text": [
            "d:\\Wei-shun Bao\\Learning\\Codes\\ML2022-Spring\\HW05\\DATA\\rawdata\\mono\\mono.tok.zh exists. skipping spm_encode.\n",
            "d:\\Wei-shun Bao\\Learning\\Codes\\ML2022-Spring\\HW05\\DATA\\rawdata\\mono\\mono.tok.en exists. skipping spm_encode.\n"
          ]
        }
      ],
      "source": [
        "spm_model = spm.SentencePieceProcessor(model_file=str(prefix/f'spm{vocab_size}.model'))\n",
        "\n",
        "for lang in [ \"zh\", \"en\" ]:\n",
        "    mono_out_path = mono_prefix / f\"mono.tok.{lang}\"\n",
        "    if mono_out_path.exists():\n",
        "        print(f\"{mono_out_path} exists. skipping spm_encode.\")\n",
        "    else:\n",
        "        with open(mono_out_path, 'w') as out_f:\n",
        "            with open(f'{data_mono_prefix}.clean.{lang}', 'r') as in_f:\n",
        "                for line in in_f:\n",
        "                    line = line.strip()\n",
        "                    tok = spm_model.encode(line, out_type=str)\n",
        "                    print(' '.join(tok), file=out_f)"
      ]
    },
    {
      "cell_type": "code",
      "execution_count": 52,
      "metadata": {},
      "outputs": [
        {
          "name": "stdout",
          "output_type": "stream",
          "text": [
            "▁在 16 世紀 中 葉 意 大 利 人 被 一種 男 歌 手 迷 住 了 那種 男 歌 手 的 音 域 廣 闊 ▁, ▁ 包 含 的 音 高 先 前 是 一般 成 年 男性 不可能 達到 的\n",
            "▁但是 ▁, ▁這 天 賦 有一個 很 高 的 代 價\n",
            "▁要 防 止 他們 變 聲 這些 歌 手 在 青 春 期 前 被 閹 割 來 停 止 荷 爾 蒙 的 變化 ▁, ▁以 免 他們的 聲 線 變 低 沉\n",
            "▁ 被 稱為 ▁「 ▁ 閹 伶 ▁」 ▁, ▁他們 輕 輕 的 、 天 使 般 的 聲音 在 整個 歐 洲 很 有 名 直 到 這個 殘 酷 的 程 序 ▁, ▁在 19 世紀 被 禁 止\n",
            "▁雖然 阻 止 聲 帶 的 成長 ▁, ▁ 可以 產生 一個 非 凡 廣 闊 的 音 域 但 自然 發展 的 聲音 ▁, ▁ 已經 具有 極 多 的 可能 性\n"
          ]
        }
      ],
      "source": [
        "!head \"{mono_prefix / 'mono.tok.zh'}\" -n 5"
      ]
    },
    {
      "cell_type": "markdown",
      "metadata": {
        "id": "a65glBVXQZiE"
      },
      "source": [
        "### Binarize\n",
        "\n",
        "use fairseq to binarize data"
      ]
    },
    {
      "cell_type": "code",
      "execution_count": 53,
      "metadata": {
        "id": "b803qA5aQaEu"
      },
      "outputs": [
        {
          "name": "stdout",
          "output_type": "stream",
          "text": [
            "DATA\\data-bin\\mono exists, will not overwrite!\n"
          ]
        }
      ],
      "source": [
        "binpath = Path('./DATA/data-bin', mono_dataset_name)\n",
        "src_dict_file = './DATA/data-bin/ted2020/dict.en.txt'\n",
        "tgt_dict_file = src_dict_file\n",
        "monopref = str(mono_prefix/\"mono.tok\") # whatever filepath you get after applying subword tokenization\n",
        "if binpath.exists():\n",
        "    print(binpath, \"exists, will not overwrite!\")\n",
        "else:\n",
        "    !python -m fairseq_cli.preprocess\\\n",
        "        --source-lang zh\\\n",
        "        --target-lang en\\\n",
        "        --trainpref \"{monopref}\"\\\n",
        "        --destdir {binpath}\\\n",
        "        --srcdict {src_dict_file}\\\n",
        "        --tgtdict {tgt_dict_file}\\\n",
        "        --workers 2"
      ]
    },
    {
      "cell_type": "markdown",
      "metadata": {
        "id": "smA0JraEQdxz"
      },
      "source": [
        "### TODO: Generate synthetic data with backward model\n",
        "\n",
        "Add binarized monolingual data to the original data directory, and name it with \"split_name\"\n",
        "\n",
        "ex. ./DATA/data-bin/ted2020/\\[split_name\\].zh-en.\\[\"en\", \"zh\"\\].\\[\"bin\", \"idx\"\\]\n",
        "\n",
        "then you can use 'generate_prediction(model, task, split=\"split_name\")' to generate translation prediction"
      ]
    },
    {
      "cell_type": "code",
      "execution_count": 54,
      "metadata": {
        "id": "jvaOVHeoQfkB"
      },
      "outputs": [],
      "source": [
        "# # Add binarized monolingual data to the original data directory, and name it with \"split_name\"\n",
        "# # ex. ./DATA/data-bin/ted2020/\\[split_name\\].zh-en.\\[\"en\", \"zh\"\\].\\[\"bin\", \"idx\"\\]\n",
        "!cp ./DATA/data-bin/mono/train.zh-en.zh.bin ./DATA/data-bin/ted2020/mono.zh-en.zh.bin\n",
        "!cp ./DATA/data-bin/mono/train.zh-en.zh.idx ./DATA/data-bin/ted2020/mono.zh-en.zh.idx\n",
        "!cp ./DATA/data-bin/mono/train.zh-en.en.bin ./DATA/data-bin/ted2020/mono.zh-en.en.bin\n",
        "!cp ./DATA/data-bin/mono/train.zh-en.en.idx ./DATA/data-bin/ted2020/mono.zh-en.en.idx"
      ]
    },
    {
      "cell_type": "code",
      "execution_count": 55,
      "metadata": {
        "id": "fFEkxPu-Qhlc"
      },
      "outputs": [
        {
          "name": "stderr",
          "output_type": "stream",
          "text": [
            "2023-04-14 17:11:16 | INFO | fairseq.data.data_utils | loaded 781,713 examples from: ./DATA/data-bin/ted2020\\mono.zh-en.zh\n",
            "2023-04-14 17:11:16 | INFO | fairseq.data.data_utils | loaded 781,713 examples from: ./DATA/data-bin/ted2020\\mono.zh-en.en\n",
            "2023-04-14 17:11:16 | INFO | fairseq.tasks.translation | ./DATA/data-bin/ted2020 mono zh-en 781713 examples\n"
          ]
        },
        {
          "data": {
            "application/vnd.jupyter.widget-view+json": {
              "model_id": "01cc64abc4f247dc94a9bd54ed75014d",
              "version_major": 2,
              "version_minor": 0
            },
            "text/plain": [
              "prediction:   0%|          | 0/1715 [00:00<?, ?it/s]"
            ]
          },
          "metadata": {},
          "output_type": "display_data"
        }
      ],
      "source": [
        "# # hint: do prediction on split='mono' to create prediction_file\n",
        "# # generate_prediction( ... ,split=... ,outfile=... )\n",
        "# generate_prediction(model, task, split=\"mono\", outfile=\"./DATA/rawdata/mono/ted_zh_corpus.deduped.clean.en\")"
      ]
    },
    {
      "cell_type": "markdown",
      "metadata": {
        "id": "Jn4XeawpQjLk"
      },
      "source": [
        "### TODO: Create new dataset\n",
        "\n",
        "1. Combine the prediction data with monolingual data\n",
        "2. Use the original spm model to tokenize data into Subword Units\n",
        "3. Binarize data with fairseq"
      ]
    },
    {
      "cell_type": "code",
      "execution_count": 57,
      "metadata": {
        "id": "3R35JTaTQjkm"
      },
      "outputs": [
        {
          "name": "stdout",
          "output_type": "stream",
          "text": [
            "d:\\Wei-shun Bao\\Learning\\Codes\\ML2022-Spring\\HW05\\DATA\\rawdata\\mono\\mono.tok.zh exists. skipping spm_encode.\n",
            "d:\\Wei-shun Bao\\Learning\\Codes\\ML2022-Spring\\HW05\\DATA\\rawdata\\mono\\mono.tok.en exists. skipping spm_encode.\n"
          ]
        },
        {
          "name": "stderr",
          "output_type": "stream",
          "text": [
            "2023-04-15 01:03:23 | INFO | fairseq_cli.preprocess | Namespace(no_progress_bar=False, log_interval=100, log_format=None, log_file=None, aim_repo=None, aim_run_hash=None, tensorboard_logdir=None, wandb_project=None, azureml_logging=False, seed=1, cpu=False, tpu=False, bf16=False, memory_efficient_bf16=False, fp16=False, memory_efficient_fp16=False, fp16_no_flatten_grads=False, fp16_init_scale=128, fp16_scale_window=None, fp16_scale_tolerance=0.0, on_cpu_convert_precision=False, min_loss_scale=0.0001, threshold_loss_scale=None, amp=False, amp_batch_retries=2, amp_init_scale=128, amp_scale_window=None, user_dir=None, empty_cache_freq=0, all_gather_list_size=16384, model_parallel_size=1, quantization_config_path=None, profile=False, reset_logging=False, suppress_crashes=False, use_plasma_view=False, plasma_path='/tmp/plasma', criterion='cross_entropy', tokenizer=None, bpe=None, optimizer=None, lr_scheduler='fixed', scoring='bleu', task='translation', source_lang='zh', target_lang='en', trainpref='./DATA/rawdata/mono/mono.tok', validpref=None, testpref=None, align_suffix=None, destdir='DATA\\\\data-bin\\\\synthetic', thresholdtgt=0, thresholdsrc=0, tgtdict='./DATA/data-bin/ted2020/dict.en.txt', srcdict='./DATA/data-bin/ted2020/dict.en.txt', nwordstgt=-1, nwordssrc=-1, alignfile=None, dataset_impl='mmap', joined_dictionary=False, only_source=False, padding_factor=8, workers=2, dict_only=False)\n",
            "2023-04-15 01:03:23 | INFO | fairseq_cli.preprocess | [zh] Dictionary: 8000 types\n",
            "2023-04-15 01:05:04 | INFO | fairseq_cli.preprocess | [zh] ./DATA/rawdata/mono/mono.tok.zh: 781713 sents, 14003299 tokens, 0.0023% replaced (by <unk>)\n",
            "2023-04-15 01:05:04 | INFO | fairseq_cli.preprocess | [en] Dictionary: 8000 types\n",
            "2023-04-15 01:06:54 | INFO | fairseq_cli.preprocess | [en] ./DATA/rawdata/mono/mono.tok.en: 781713 sents, 16734005 tokens, 0.0% replaced (by <unk>)\n",
            "2023-04-15 01:06:54 | INFO | fairseq_cli.preprocess | Wrote preprocessed data to DATA\\data-bin\\synthetic\n"
          ]
        }
      ],
      "source": [
        "# Combine prediction_file (.en) and mono.zh (.zh) into a new dataset.\n",
        "# \n",
        "# hint: tokenize prediction_file with the spm model\n",
        "# spm_model.encode(line, out_type=str)\n",
        "# output: ./DATA/rawdata/mono/mono.tok.en & mono.tok.zh\n",
        "\n",
        "spm_model = spm.SentencePieceProcessor(model_file=str(prefix/f'spm{vocab_size}.model'))\n",
        "\n",
        "for lang in [ \"zh\", \"en\" ]:\n",
        "    mono_out_path = mono_prefix / f\"mono.tok.{lang}\"\n",
        "    if mono_out_path.exists():\n",
        "        print(f\"{mono_out_path} exists. skipping spm_encode.\")\n",
        "    else:\n",
        "        with open(mono_out_path, 'w') as out_f:\n",
        "            with open(f'{data_mono_prefix}.clean.{lang}', 'r') as in_f:\n",
        "                for line in in_f:\n",
        "                    line = line.strip()\n",
        "                    tok = spm_model.encode(line, out_type=str)\n",
        "                    print(' '.join(tok), file=out_f)\n",
        "\n",
        "#\n",
        "# hint: use fairseq to binarize these two files again\n",
        "binpath = Path('./DATA/data-bin/synthetic')\n",
        "src_dict_file = './DATA/data-bin/ted2020/dict.en.txt'\n",
        "tgt_dict_file = src_dict_file\n",
        "monopref = \"./DATA/rawdata/mono/mono.tok\" # or whatever path after applying subword tokenization, w/o the suffix (.zh/.en)\n",
        "if binpath.exists():\n",
        "    print(binpath, \"exists, will not overwrite!\")\n",
        "else:\n",
        "    !python -m fairseq_cli.preprocess\\\n",
        "        --source-lang zh\\\n",
        "        --target-lang en\\\n",
        "        --trainpref {monopref}\\\n",
        "        --destdir {binpath}\\\n",
        "        --srcdict {src_dict_file}\\\n",
        "        --tgtdict {tgt_dict_file}\\\n",
        "        --workers 2"
      ]
    },
    {
      "cell_type": "code",
      "execution_count": 58,
      "metadata": {
        "id": "MSkse1tyQnsR"
      },
      "outputs": [],
      "source": [
        "# create a new dataset from all the files prepared above\n",
        "!cp -r ./DATA/data-bin/ted2020/ ./DATA/data-bin/ted2020_with_mono/\n",
        "\n",
        "!cp ./DATA/data-bin/synthetic/train.zh-en.zh.bin ./DATA/data-bin/ted2020_with_mono/train1.en-zh.zh.bin\n",
        "!cp ./DATA/data-bin/synthetic/train.zh-en.zh.idx ./DATA/data-bin/ted2020_with_mono/train1.en-zh.zh.idx\n",
        "!cp ./DATA/data-bin/synthetic/train.zh-en.en.bin ./DATA/data-bin/ted2020_with_mono/train1.en-zh.en.bin\n",
        "!cp ./DATA/data-bin/synthetic/train.zh-en.en.idx ./DATA/data-bin/ted2020_with_mono/train1.en-zh.en.idx"
      ]
    },
    {
      "cell_type": "markdown",
      "metadata": {
        "id": "YVdxVGO3QrSs"
      },
      "source": [
        "Created new dataset \"ted2020_with_mono\"\n",
        "\n",
        "1. Change the datadir in **config** (\"./DATA/data-bin/ted2020_with_mono\")\n",
        "2. Switch back the source_lang and target_lang in **config** (\"en\", \"zh\")\n",
        "2. Change the savedir in **config** (eg. \"./checkpoints/transformer-bt\")\n",
        "3. Train model"
      ]
    },
    {
      "cell_type": "markdown",
      "metadata": {
        "id": "_CZU2beUQtl3"
      },
      "source": [
        "1. <a name=ott2019fairseq></a>Ott, M., Edunov, S., Baevski, A., Fan, A., Gross, S., Ng, N., ... & Auli, M. (2019, June). fairseq: A Fast, Extensible Toolkit for Sequence Modeling. In Proceedings of the 2019 Conference of the North American Chapter of the Association for Computational Linguistics (Demonstrations) (pp. 48-53).\n",
        "2. <a name=vaswani2017></a>Vaswani, A., Shazeer, N., Parmar, N., Uszkoreit, J., Jones, L., Gomez, A. N., ... & Polosukhin, I. (2017, December). Attention is all you need. In Proceedings of the 31st International Conference on Neural Information Processing Systems (pp. 6000-6010).\n",
        "3. <a name=reimers-2020-multilingual-sentence-bert></a>Reimers, N., & Gurevych, I. (2020, November). Making Monolingual Sentence Embeddings Multilingual Using Knowledge Distillation. In Proceedings of the 2020 Conference on Empirical Methods in Natural Language Processing (EMNLP) (pp. 4512-4525).\n",
        "4. <a name=tiedemann2012parallel></a>Tiedemann, J. (2012, May). Parallel Data, Tools and Interfaces in OPUS. In Lrec (Vol. 2012, pp. 2214-2218).\n",
        "5. <a name=kudo-richardson-2018-sentencepiece></a>Kudo, T., & Richardson, J. (2018, November). SentencePiece: A simple and language independent subword tokenizer and detokenizer for Neural Text Processing. In Proceedings of the 2018 Conference on Empirical Methods in Natural Language Processing: System Demonstrations (pp. 66-71).\n",
        "6. <a name=sennrich-etal-2016-improving></a>Sennrich, R., Haddow, B., & Birch, A. (2016, August). Improving Neural Machine Translation Models with Monolingual Data. In Proceedings of the 54th Annual Meeting of the Association for Computational Linguistics (Volume 1: Long Papers) (pp. 86-96).\n",
        "7. <a name=edunov-etal-2018-understanding></a>Edunov, S., Ott, M., Auli, M., & Grangier, D. (2018). Understanding Back-Translation at Scale. In Proceedings of the 2018 Conference on Empirical Methods in Natural Language Processing (pp. 489-500).\n",
        "8. https://github.com/ajinkyakulkarni14/TED-Multilingual-Parallel-Corpus\n",
        "9. https://ithelp.ithome.com.tw/articles/10233122\n",
        "10. https://nlp.seas.harvard.edu/2018/04/03/attention.html\n",
        "11. https://colab.research.google.com/github/ga642381/ML2021-Spring/blob/main/HW05/HW05.ipynb"
      ]
    },
    {
      "cell_type": "code",
      "execution_count": null,
      "metadata": {
        "id": "Rrfm6iLJQ0tS"
      },
      "outputs": [],
      "source": []
    }
  ],
  "metadata": {
    "accelerator": "GPU",
    "colab": {
      "collapsed_sections": [
        "nKb4u67-sT_Z",
        "n1rwQysTsdJq",
        "59si_C0Wsms7",
        "oOpG4EBRLwe_",
        "6ZlE_1JnMv56",
        "UDAPmxjRNEEL",
        "ce5n4eS7NQNy",
        "rUB9f1WCNgMH",
        "VFJlkOMONsc6",
        "Gt1lX3DRO_yU",
        "BAGMiun8PnZy",
        "JOVQRHzGQU4-",
        "jegH0bvMQVmR",
        "a65glBVXQZiE",
        "smA0JraEQdxz",
        "Jn4XeawpQjLk"
      ],
      "name": "HW05.ipynb",
      "provenance": []
    },
    "kernelspec": {
      "display_name": "machine-learning",
      "language": "python",
      "name": "python3"
    },
    "language_info": {
      "codemirror_mode": {
        "name": "ipython",
        "version": 3
      },
      "file_extension": ".py",
      "mimetype": "text/x-python",
      "name": "python",
      "nbconvert_exporter": "python",
      "pygments_lexer": "ipython3",
      "version": "3.10.5"
    },
    "vscode": {
      "interpreter": {
        "hash": "3b287b2638b28c143e8b740ddcb0a96b617189043e0330c7f965d24699a487e2"
      }
    }
  },
  "nbformat": 4,
  "nbformat_minor": 0
}
