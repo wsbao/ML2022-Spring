{
  "cells": [
    {
      "cell_type": "markdown",
      "metadata": {
        "id": "xvSGDbExff_I"
      },
      "source": [
        "# **Homework 7 - Bert (Question Answering)**\n",
        "\n",
        "If you have any questions, feel free to email us at mlta-2022-spring@googlegroups.com\n",
        "\n",
        "\n",
        "\n",
        "Slide:    [Link](https://docs.google.com/presentation/d/1H5ZONrb2LMOCixLY7D5_5-7LkIaXO6AGEaV2mRdTOMY/edit?usp=sharing)　Kaggle: [Link](https://www.kaggle.com/c/ml2022spring-hw7)　Data: [Link](https://drive.google.com/uc?id=1AVgZvy3VFeg0fX-6WQJMHPVrx3A-M1kb)\n",
        "\n",
        "\n"
      ]
    },
    {
      "cell_type": "markdown",
      "metadata": {
        "id": "WGOr_eS3wJJf"
      },
      "source": [
        "## Task description\n",
        "- Chinese Extractive Question Answering\n",
        "  - Input: Paragraph + Question\n",
        "  - Output: Answer\n",
        "\n",
        "- Objective: Learn how to fine tune a pretrained model on downstream task using transformers\n",
        "\n",
        "- Todo\n",
        "    - Fine tune a pretrained chinese BERT model\n",
        "    - Change hyperparameters (e.g. doc_stride)\n",
        "    - Apply linear learning rate decay\n",
        "    - Try other pretrained models\n",
        "    - Improve preprocessing\n",
        "    - Improve postprocessing\n",
        "- Training tips\n",
        "    - Automatic mixed precision\n",
        "    - Gradient accumulation\n",
        "    - Ensemble\n",
        "\n",
        "- Estimated training time (tesla t4 with automatic mixed precision enabled)\n",
        "    - Simple: 8mins\n",
        "    - Medium: 8mins\n",
        "    - Strong: 25mins\n",
        "    - Boss: 2.5hrs\n",
        "  "
      ]
    },
    {
      "cell_type": "markdown",
      "metadata": {
        "id": "TJ1fSAJE2oaC"
      },
      "source": [
        "## Download Dataset"
      ]
    },
    {
      "cell_type": "code",
      "execution_count": 1,
      "metadata": {
        "id": "YPrc4Eie9Yo5"
      },
      "outputs": [
        {
          "name": "stdout",
          "output_type": "stream",
          "text": [
            "Fri Apr 28 20:18:29 2023       \n",
            "+---------------------------------------------------------------------------------------+\n",
            "| NVIDIA-SMI 531.68                 Driver Version: 531.68       CUDA Version: 12.1     |\n",
            "|-----------------------------------------+----------------------+----------------------+\n",
            "| GPU  Name                      TCC/WDDM | Bus-Id        Disp.A | Volatile Uncorr. ECC |\n",
            "| Fan  Temp  Perf            Pwr:Usage/Cap|         Memory-Usage | GPU-Util  Compute M. |\n",
            "|                                         |                      |               MIG M. |\n",
            "|=========================================+======================+======================|\n",
            "|   0  NVIDIA GeForce RTX 3080 L...  WDDM | 00000000:01:00.0  On |                  N/A |\n",
            "| N/A   42C    P8               20W /  N/A|    969MiB / 16384MiB |     11%      Default |\n",
            "|                                         |                      |                  N/A |\n",
            "+-----------------------------------------+----------------------+----------------------+\n",
            "                                                                                         \n",
            "+---------------------------------------------------------------------------------------+\n",
            "| Processes:                                                                            |\n",
            "|  GPU   GI   CI        PID   Type   Process name                            GPU Memory |\n",
            "|        ID   ID                                                             Usage      |\n",
            "|=======================================================================================|\n",
            "|    0   N/A  N/A       228    C+G   ...64__8wekyb3d8bbwe\\CalculatorApp.exe    N/A      |\n",
            "|    0   N/A  N/A      1368    C+G   ...2txyewy\\StartMenuExperienceHost.exe    N/A      |\n",
            "|    0   N/A  N/A      3152    C+G   ...61.0_x64__8wekyb3d8bbwe\\GameBar.exe    N/A      |\n",
            "|    0   N/A  N/A      5688    C+G   ...am Files\\Microsoft VS Code\\Code.exe    N/A      |\n",
            "|    0   N/A  N/A      7652    C+G   ...ekyb3d8bbwe\\PhoneExperienceHost.exe    N/A      |\n",
            "|    0   N/A  N/A      7780    C+G   ...CBS_cw5n1h2txyewy\\TextInputHost.exe    N/A      |\n",
            "|    0   N/A  N/A      8512    C+G   ...t.LockApp_cw5n1h2txyewy\\LockApp.exe    N/A      |\n",
            "|    0   N/A  N/A      9020    C+G   ...255.0_x64__dt26b99r8h8gj\\RtkUWP.exe    N/A      |\n",
            "|    0   N/A  N/A      9480    C+G   C:\\Windows\\explorer.exe                   N/A      |\n",
            "|    0   N/A  N/A      9768    C+G   ...1.0_x64__8wekyb3d8bbwe\\Video.UI.exe    N/A      |\n",
            "|    0   N/A  N/A     10536    C+G   ...m Files\\Mozilla Firefox\\firefox.exe    N/A      |\n",
            "|    0   N/A  N/A     12700    C+G   ...siveControlPanel\\SystemSettings.exe    N/A      |\n",
            "|    0   N/A  N/A     14736    C+G   ...m Files\\Mozilla Firefox\\firefox.exe    N/A      |\n",
            "|    0   N/A  N/A     16476    C+G   ...5n1h2txyewy\\ShellExperienceHost.exe    N/A      |\n",
            "|    0   N/A  N/A     16984    C+G   ...nt.CBS_cw5n1h2txyewy\\SearchHost.exe    N/A      |\n",
            "|    0   N/A  N/A     20228    C+G   ...GeForce Experience\\NVIDIA Share.exe    N/A      |\n",
            "+---------------------------------------------------------------------------------------+\n"
          ]
        }
      ],
      "source": [
        "# Download link 1\n",
        "# !gdown --id '1AVgZvy3VFeg0fX-6WQJMHPVrx3A-M1kb' --output hw7_data.zip\n",
        "\n",
        "# Download Link 2 (if the above link fails) \n",
        "# !gdown --id '1qwjbRjq481lHsnTrrF4OjKQnxzgoLEFR' --output hw7_data.zip\n",
        "\n",
        "# Download Link 3 (if the above link fails) \n",
        "# !gdown --id '1QXuWjNRZH6DscSd6QcRER0cnxmpZvijn' --output hw7_data.zip\n",
        "\n",
        "# !unzip -o hw7_data.zip\n",
        "\n",
        "# For this HW, K80 < P4 < T4 < P100 <= T4(fp16) < V100\n",
        "!nvidia-smi"
      ]
    },
    {
      "cell_type": "markdown",
      "metadata": {
        "id": "TevOvhC03m0h"
      },
      "source": [
        "## Install transformers\n",
        "\n",
        "Documentation for the toolkit:　https://huggingface.co/transformers/"
      ]
    },
    {
      "cell_type": "code",
      "execution_count": 2,
      "metadata": {
        "id": "tbxWFX_jpDom"
      },
      "outputs": [],
      "source": [
        "# You are allowed to change version of transformers or use other toolkits\n",
        "# !pip install transformers==4.5.0"
      ]
    },
    {
      "cell_type": "markdown",
      "metadata": {
        "id": "8dKM4yCh4LI_"
      },
      "source": [
        "## Import Packages"
      ]
    },
    {
      "cell_type": "code",
      "execution_count": 3,
      "metadata": {
        "id": "WOTHHtWJoahe"
      },
      "outputs": [],
      "source": [
        "import json\n",
        "import numpy as np\n",
        "import random\n",
        "import torch\n",
        "from torch.utils.data import DataLoader, Dataset \n",
        "# from transformers import AdamW, BertForQuestionAnswering, BertTokenizerFast\n",
        "from torch.optim import AdamW\n",
        "from transformers import BertForQuestionAnswering, BertTokenizerFast, get_linear_schedule_with_warmup, get_cosine_with_hard_restarts_schedule_with_warmup, get_cosine_schedule_with_warmup\n",
        "\n",
        "from tqdm.auto import tqdm\n",
        "\n",
        "device = \"cuda\" if torch.cuda.is_available() else \"cpu\"\n",
        "\n",
        "# Fix random seed for reproducibility\n",
        "def same_seeds(seed):\n",
        "    torch.manual_seed(seed)\n",
        "    if torch.cuda.is_available():\n",
        "        torch.cuda.manual_seed(seed)\n",
        "        torch.cuda.manual_seed_all(seed)\n",
        "    np.random.seed(seed)\n",
        "    random.seed(seed)\n",
        "    torch.backends.cudnn.benchmark = False\n",
        "    torch.backends.cudnn.deterministic = True\n",
        "same_seeds(0)"
      ]
    },
    {
      "cell_type": "code",
      "execution_count": 4,
      "metadata": {
        "id": "7pBtSZP1SKQO"
      },
      "outputs": [],
      "source": [
        "# Change \"fp16_training\" to True to support automatic mixed precision training (fp16)\t\n",
        "fp16_training = True # False\n",
        "\n",
        "if fp16_training:\n",
        "    # !pip install accelerate==0.2.0\n",
        "    from accelerate import Accelerator\n",
        "    # accelerator = Accelerator(fp16=True)\n",
        "    accelerator = Accelerator(mixed_precision=\"fp16\")\n",
        "    device = accelerator.device\n",
        "\n",
        "# Documentation for the toolkit:  https://huggingface.co/docs/accelerate/"
      ]
    },
    {
      "cell_type": "markdown",
      "metadata": {
        "id": "2YgXHuVLp_6j"
      },
      "source": [
        "## Load Model and Tokenizer\n",
        "\n",
        "\n",
        "\n",
        "\n",
        " "
      ]
    },
    {
      "cell_type": "code",
      "execution_count": 5,
      "metadata": {
        "id": "xyBCYGjAp3ym"
      },
      "outputs": [
        {
          "data": {
            "application/vnd.jupyter.widget-view+json": {
              "model_id": "b36aa37cc0e74170bade7d09bf96258e",
              "version_major": 2,
              "version_minor": 0
            },
            "text/plain": [
              "Downloading:   0%|          | 0.00/669 [00:00<?, ?B/s]"
            ]
          },
          "metadata": {},
          "output_type": "display_data"
        },
        {
          "name": "stderr",
          "output_type": "stream",
          "text": [
            "d:\\miniforge3\\envs\\machine-learning\\lib\\site-packages\\huggingface_hub\\file_download.py:127: UserWarning: `huggingface_hub` cache-system uses symlinks by default to efficiently store duplicated files but your machine does not support them in C:\\Users\\Wei-shun Bao\\.cache\\huggingface\\hub. Caching files will still work but in a degraded version that might require more space on your disk. This warning can be disabled by setting the `HF_HUB_DISABLE_SYMLINKS_WARNING` environment variable. For more details, see https://huggingface.co/docs/huggingface_hub/how-to-cache#limitations.\n",
            "To support symlinks on Windows, you either need to activate Developer Mode or to run Python as an administrator. In order to see activate developer mode, see this article: https://docs.microsoft.com/en-us/windows/apps/get-started/enable-your-device-for-development\n",
            "  warnings.warn(message)\n"
          ]
        },
        {
          "data": {
            "application/vnd.jupyter.widget-view+json": {
              "model_id": "dfab4ede0bfa4709974cde0f4f35b0cf",
              "version_major": 2,
              "version_minor": 0
            },
            "text/plain": [
              "Downloading:   0%|          | 0.00/1.30G [00:00<?, ?B/s]"
            ]
          },
          "metadata": {},
          "output_type": "display_data"
        },
        {
          "data": {
            "application/vnd.jupyter.widget-view+json": {
              "model_id": "64ab06c090564a928e7e5ee835afe2de",
              "version_major": 2,
              "version_minor": 0
            },
            "text/plain": [
              "Downloading:   0%|          | 0.00/29.0 [00:00<?, ?B/s]"
            ]
          },
          "metadata": {},
          "output_type": "display_data"
        },
        {
          "data": {
            "application/vnd.jupyter.widget-view+json": {
              "model_id": "d27f7b068ab34b119e5bde99d1b80a6b",
              "version_major": 2,
              "version_minor": 0
            },
            "text/plain": [
              "Downloading:   0%|          | 0.00/110k [00:00<?, ?B/s]"
            ]
          },
          "metadata": {},
          "output_type": "display_data"
        },
        {
          "data": {
            "application/vnd.jupyter.widget-view+json": {
              "model_id": "6574318bfa2d43b687afa62022d51ff5",
              "version_major": 2,
              "version_minor": 0
            },
            "text/plain": [
              "Downloading:   0%|          | 0.00/269k [00:00<?, ?B/s]"
            ]
          },
          "metadata": {},
          "output_type": "display_data"
        }
      ],
      "source": [
        "model_name = \"luhua/chinese_pretrain_mrc_macbert_large\" # \"hfl/chinese-roberta-wwm-ext\" # \"bert-base-chinese\"\n",
        "\n",
        "model = BertForQuestionAnswering.from_pretrained(model_name).to(device)\n",
        "tokenizer = BertTokenizerFast.from_pretrained(model_name)\n",
        "\n",
        "# You can safely ignore the warning message (it pops up because new prediction heads for QA are initialized randomly)"
      ]
    },
    {
      "cell_type": "markdown",
      "metadata": {
        "id": "3Td-GTmk5OW4"
      },
      "source": [
        "## Read Data\n",
        "\n",
        "- Training set: 31690 QA pairs\n",
        "- Dev set: 4131  QA pairs\n",
        "- Test set: 4957  QA pairs\n",
        "\n",
        "- {train/dev/test}_questions:\t\n",
        "  - List of dicts with the following keys:\n",
        "   - id (int)\n",
        "   - paragraph_id (int)\n",
        "   - question_text (string)\n",
        "   - answer_text (string)\n",
        "   - answer_start (int)\n",
        "   - answer_end (int)\n",
        "- {train/dev/test}_paragraphs: \n",
        "  - List of strings\n",
        "  - paragraph_ids in questions correspond to indexs in paragraphs\n",
        "  - A paragraph may be used by several questions "
      ]
    },
    {
      "cell_type": "code",
      "execution_count": 6,
      "metadata": {
        "id": "NvX7hlepogvu"
      },
      "outputs": [],
      "source": [
        "def read_data(file):\n",
        "    with open(file, 'r', encoding=\"utf-8\") as reader:\n",
        "        data = json.load(reader)\n",
        "    return data[\"questions\"], data[\"paragraphs\"]\n",
        "\n",
        "train_questions, train_paragraphs = read_data(\"hw7_train.json\")\n",
        "dev_questions, dev_paragraphs = read_data(\"hw7_dev.json\")\n",
        "test_questions, test_paragraphs = read_data(\"hw7_test.json\")"
      ]
    },
    {
      "cell_type": "markdown",
      "metadata": {
        "id": "Fm0rpTHq0e4N"
      },
      "source": [
        "## Tokenize Data"
      ]
    },
    {
      "cell_type": "code",
      "execution_count": 7,
      "metadata": {
        "id": "rTZ6B70Hoxie"
      },
      "outputs": [],
      "source": [
        "# Tokenize questions and paragraphs separately\n",
        "# 「add_special_tokens」 is set to False since special tokens will be added when tokenized questions and paragraphs are combined in datset __getitem__ \n",
        "\n",
        "train_questions_tokenized = tokenizer([train_question[\"question_text\"] for train_question in train_questions], add_special_tokens=False)\n",
        "dev_questions_tokenized = tokenizer([dev_question[\"question_text\"] for dev_question in dev_questions], add_special_tokens=False)\n",
        "test_questions_tokenized = tokenizer([test_question[\"question_text\"] for test_question in test_questions], add_special_tokens=False) \n",
        "\n",
        "train_paragraphs_tokenized = tokenizer(train_paragraphs, add_special_tokens=False)\n",
        "dev_paragraphs_tokenized = tokenizer(dev_paragraphs, add_special_tokens=False)\n",
        "test_paragraphs_tokenized = tokenizer(test_paragraphs, add_special_tokens=False)\n",
        "\n",
        "# You can safely ignore the warning message as tokenized sequences will be futher processed in datset __getitem__ before passing to model"
      ]
    },
    {
      "cell_type": "markdown",
      "metadata": {
        "id": "Ws8c8_4d5UCI"
      },
      "source": [
        "## Dataset and Dataloader"
      ]
    },
    {
      "cell_type": "code",
      "execution_count": 8,
      "metadata": {},
      "outputs": [],
      "source": [
        "MAX_PARAGRAPH_LEN = 469\n",
        "DOC_STRIDE = MAX_PARAGRAPH_LEN // 5"
      ]
    },
    {
      "cell_type": "code",
      "execution_count": 9,
      "metadata": {
        "id": "Xjooag-Swnuh"
      },
      "outputs": [],
      "source": [
        "class QA_Dataset(Dataset):\n",
        "    def __init__(self, split, questions, tokenized_questions, tokenized_paragraphs):\n",
        "        self.split = split\n",
        "        self.questions = questions\n",
        "        self.tokenized_questions = tokenized_questions\n",
        "        self.tokenized_paragraphs = tokenized_paragraphs\n",
        "        self.max_question_len = 40\n",
        "        self.max_paragraph_len = MAX_PARAGRAPH_LEN # 150\n",
        "        \n",
        "        ##### TODO: Change value of doc_stride #####\n",
        "        self.doc_stride = DOC_STRIDE # 75 # 150\n",
        "\n",
        "        # Input sequence length = [CLS] + question + [SEP] + paragraph + [SEP]\n",
        "        self.max_seq_len = 1 + self.max_question_len + 1 + self.max_paragraph_len + 1\n",
        "\n",
        "    def __len__(self):\n",
        "        return len(self.questions)\n",
        "\n",
        "    def __getitem__(self, idx):\n",
        "        question = self.questions[idx]\n",
        "        tokenized_question = self.tokenized_questions[idx]\n",
        "        tokenized_paragraph = self.tokenized_paragraphs[question[\"paragraph_id\"]]\n",
        "\n",
        "        ##### TODO: Preprocessing #####\n",
        "        # Hint: How to prevent model from learning something it should not learn\n",
        "\n",
        "        if self.split == \"train\":\n",
        "            # Convert answer's start/end positions in paragraph_text to start/end positions in tokenized_paragraph  \n",
        "            answer_start_token = tokenized_paragraph.char_to_token(question[\"answer_start\"])\n",
        "            answer_end_token = tokenized_paragraph.char_to_token(question[\"answer_end\"])\n",
        "\n",
        "            # A single window is obtained by slicing the portion of paragraph containing the answer\n",
        "            # mid = (answer_start_token + answer_end_token) // 2\n",
        "            # paragraph_start = max(0, min(mid - self.max_paragraph_len // 2, len(tokenized_paragraph) - self.max_paragraph_len))\n",
        "            start_min = max(0, answer_end_token - self.max_paragraph_len + 1)\n",
        "            start_max = min(answer_start_token, len(tokenized_paragraph) - self.max_paragraph_len)\n",
        "            start_max = max(start_min, start_max)\n",
        "            paragraph_start = random.randint(start_min, start_max + 1)\n",
        "            paragraph_end = paragraph_start + self.max_paragraph_len\n",
        "            \n",
        "            # Slice question/paragraph and add special tokens (101: CLS, 102: SEP)\n",
        "            input_ids_question = [101] + tokenized_question.ids[:self.max_question_len] + [102] \n",
        "            input_ids_paragraph = tokenized_paragraph.ids[paragraph_start : paragraph_end] + [102]\t\t\n",
        "            \n",
        "            # Convert answer's start/end positions in tokenized_paragraph to start/end positions in the window  \n",
        "            answer_start_token += len(input_ids_question) - paragraph_start\n",
        "            answer_end_token += len(input_ids_question) - paragraph_start\n",
        "            \n",
        "            # Pad sequence and obtain inputs to model \n",
        "            input_ids, token_type_ids, attention_mask = self.padding(input_ids_question, input_ids_paragraph)\n",
        "            return torch.tensor(input_ids), torch.tensor(token_type_ids), torch.tensor(attention_mask), answer_start_token, answer_end_token\n",
        "\n",
        "        # Validation/Testing\n",
        "        else:\n",
        "            input_ids_list, token_type_ids_list, attention_mask_list = [], [], []\n",
        "            \n",
        "            # Paragraph is split into several windows, each with start positions separated by step \"doc_stride\"\n",
        "            for i in range(0, len(tokenized_paragraph), self.doc_stride):\n",
        "                \n",
        "                # Slice question/paragraph and add special tokens (101: CLS, 102: SEP)\n",
        "                input_ids_question = [101] + tokenized_question.ids[:self.max_question_len] + [102]\n",
        "                input_ids_paragraph = tokenized_paragraph.ids[i : i + self.max_paragraph_len] + [102]\n",
        "                \n",
        "                # Pad sequence and obtain inputs to model\n",
        "                input_ids, token_type_ids, attention_mask = self.padding(input_ids_question, input_ids_paragraph)\n",
        "                \n",
        "                input_ids_list.append(input_ids)\n",
        "                token_type_ids_list.append(token_type_ids)\n",
        "                attention_mask_list.append(attention_mask)\n",
        "            \n",
        "            return torch.tensor(input_ids_list), torch.tensor(token_type_ids_list), torch.tensor(attention_mask_list)\n",
        "\n",
        "    def padding(self, input_ids_question, input_ids_paragraph):\n",
        "        # Pad zeros if sequence length is shorter than max_seq_len\n",
        "        padding_len = self.max_seq_len - len(input_ids_question) - len(input_ids_paragraph)\n",
        "        # Indices of input sequence tokens in the vocabulary\n",
        "        input_ids = input_ids_question + input_ids_paragraph + [0] * padding_len\n",
        "        # Segment token indices to indicate first and second portions of the inputs. Indices are selected in [0, 1]\n",
        "        token_type_ids = [0] * len(input_ids_question) + [1] * len(input_ids_paragraph) + [0] * padding_len\n",
        "        # Mask to avoid performing attention on padding token indices. Mask values selected in [0, 1]\n",
        "        attention_mask = [1] * (len(input_ids_question) + len(input_ids_paragraph)) + [0] * padding_len\n",
        "        \n",
        "        return input_ids, token_type_ids, attention_mask\n",
        "\n",
        "train_set = QA_Dataset(\"train\", train_questions, train_questions_tokenized, train_paragraphs_tokenized)\n",
        "dev_set = QA_Dataset(\"dev\", dev_questions, dev_questions_tokenized, dev_paragraphs_tokenized)\n",
        "test_set = QA_Dataset(\"test\", test_questions, test_questions_tokenized, test_paragraphs_tokenized)\n",
        "\n",
        "train_batch_size = 8 # 16 # 32\n",
        "\n",
        "# Note: Do NOT change batch size of dev_loader / test_loader !\n",
        "# Although batch size=1, it is actually a batch consisting of several windows from the same QA pair\n",
        "train_loader = DataLoader(train_set, batch_size=train_batch_size, shuffle=True, pin_memory=True)\n",
        "dev_loader = DataLoader(dev_set, batch_size=1, shuffle=False, pin_memory=True)\n",
        "test_loader = DataLoader(test_set, batch_size=1, shuffle=False, pin_memory=True)"
      ]
    },
    {
      "cell_type": "markdown",
      "metadata": {
        "id": "5_H1kqhR8CdM"
      },
      "source": [
        "## Function for Evaluation"
      ]
    },
    {
      "cell_type": "code",
      "execution_count": 10,
      "metadata": {
        "id": "SqeA3PLPxOHu"
      },
      "outputs": [],
      "source": [
        "def evaluate(data, output, raw_paragraph=None):\n",
        "    ##### TODO: Postprocessing #####\n",
        "    # There is a bug and room for improvement in postprocessing \n",
        "    # Hint: Open your prediction file to see what is wrong \n",
        "    \n",
        "    answer = ''\n",
        "    max_prob = float('-inf')\n",
        "    num_of_windows = data[0].shape[1]\n",
        "    \n",
        "    for k in range(num_of_windows):\n",
        "        # Obtain answer by choosing the most probable start position / end position\n",
        "        start_prob, start_index = torch.max(output.start_logits[k], dim=0)\n",
        "        end_prob, end_index = torch.max(output.end_logits[k], dim=0)\n",
        "        \n",
        "        if start_index > end_index:\n",
        "            continue\n",
        "        \n",
        "        tmp_ans = tokenizer.decode(data[0][0][k][start_index : end_index + 1])\n",
        "        tmp_ans = tmp_ans.replace(\" \", \"\")\n",
        "        \n",
        "        if \"[CLS]\" in tmp_ans or \"[SEP]\" in tmp_ans:\n",
        "            continue\n",
        "        \n",
        "        # Probability of answer is calculated as sum of start_prob and end_prob\n",
        "        prob = start_prob + end_prob\n",
        "        # prob = start_prob * end_prob\n",
        "        \n",
        "        # Replace answer if calculated probability is larger than previous windows\n",
        "        if prob > max_prob:\n",
        "            max_prob = prob\n",
        "            # Convert tokens to chars (e.g. [1920, 7032] --> \"大 金\")\n",
        "            # answer = tokenizer.decode(data[0][0][k][start_index : end_index + 1])\n",
        "            # answer = answer.replace(\" \", \"\")\n",
        "            answer = tmp_ans\n",
        "        \n",
        "            if \"[UNK]\" in answer and raw_paragraph is not None:\n",
        "                sep_pos = np.where(data[0][0][k] == 102)[0][0] + 1\n",
        "                raw_paragraph_tokenized = tokenizer(raw_paragraph, add_special_tokens=False)\n",
        "                raw_start_index = raw_paragraph_tokenized.token_to_chars(k * DOC_STRIDE + start_index - sep_pos)[0]\n",
        "                raw_end_index = raw_paragraph_tokenized.token_to_chars(k * DOC_STRIDE + end_index - sep_pos)[1]\n",
        "                answer = raw_paragraph[raw_start_index:raw_end_index]\n",
        "    \n",
        "    # Remove spaces in answer (e.g. \"大 金\" --> \"大金\")\n",
        "    # return answer.replace(' ','')\n",
        "    return answer"
      ]
    },
    {
      "cell_type": "markdown",
      "metadata": {
        "id": "rzHQit6eMnKG"
      },
      "source": [
        "## Training"
      ]
    },
    {
      "cell_type": "code",
      "execution_count": 11,
      "metadata": {},
      "outputs": [],
      "source": [
        "num_epoch = 5\n",
        "validation = True\n",
        "logging_step = 100\n",
        "learning_rate = 1e-5\n",
        "grad_acc_step = 4\n",
        "early_stop_patience = 1\n",
        "model_save_dir = \"saved_model\" "
      ]
    },
    {
      "cell_type": "code",
      "execution_count": 12,
      "metadata": {
        "id": "3Q-B6ka7xoCM"
      },
      "outputs": [
        {
          "name": "stdout",
          "output_type": "stream",
          "text": [
            "Start Training ...\n"
          ]
        },
        {
          "data": {
            "application/vnd.jupyter.widget-view+json": {
              "model_id": "e8a3e185ffdc4c58af57d4019106b92c",
              "version_major": 2,
              "version_minor": 0
            },
            "text/plain": [
              "  0%|          | 0/3962 [00:00<?, ?it/s]"
            ]
          },
          "metadata": {},
          "output_type": "display_data"
        },
        {
          "name": "stdout",
          "output_type": "stream",
          "text": [
            "Epoch 1 | Step 100 | learning rate = 1.499e-07, loss = 2.341, acc = 0.414\n",
            "Epoch 1 | Step 200 | learning rate = 3.014e-07, loss = 2.140, acc = 0.471\n",
            "Epoch 1 | Step 300 | learning rate = 4.528e-07, loss = 1.815, acc = 0.495\n",
            "Epoch 1 | Step 400 | learning rate = 6.043e-07, loss = 1.490, acc = 0.554\n",
            "Epoch 1 | Step 500 | learning rate = 7.557e-07, loss = 1.272, acc = 0.580\n",
            "Epoch 1 | Step 600 | learning rate = 9.072e-07, loss = 1.137, acc = 0.623\n",
            "Epoch 1 | Step 700 | learning rate = 1.059e-06, loss = 0.907, acc = 0.641\n",
            "Epoch 1 | Step 800 | learning rate = 1.210e-06, loss = 0.898, acc = 0.650\n",
            "Epoch 1 | Step 900 | learning rate = 1.362e-06, loss = 0.919, acc = 0.660\n",
            "Epoch 1 | Step 1000 | learning rate = 1.513e-06, loss = 0.850, acc = 0.669\n",
            "Epoch 1 | Step 1100 | learning rate = 1.664e-06, loss = 0.770, acc = 0.696\n",
            "Epoch 1 | Step 1200 | learning rate = 1.816e-06, loss = 0.673, acc = 0.709\n",
            "Epoch 1 | Step 1300 | learning rate = 1.967e-06, loss = 0.750, acc = 0.715\n",
            "Epoch 1 | Step 1400 | learning rate = 2.119e-06, loss = 0.668, acc = 0.699\n",
            "Epoch 1 | Step 1500 | learning rate = 2.270e-06, loss = 0.763, acc = 0.717\n",
            "Epoch 1 | Step 1600 | learning rate = 2.422e-06, loss = 0.678, acc = 0.734\n",
            "Epoch 1 | Step 1700 | learning rate = 2.573e-06, loss = 0.641, acc = 0.744\n",
            "Epoch 1 | Step 1800 | learning rate = 2.725e-06, loss = 0.617, acc = 0.745\n",
            "Epoch 1 | Step 1900 | learning rate = 2.876e-06, loss = 0.575, acc = 0.750\n",
            "Epoch 1 | Step 2000 | learning rate = 3.027e-06, loss = 0.612, acc = 0.739\n",
            "Epoch 1 | Step 2100 | learning rate = 3.179e-06, loss = 0.568, acc = 0.771\n",
            "Epoch 1 | Step 2200 | learning rate = 3.330e-06, loss = 0.626, acc = 0.722\n",
            "Epoch 1 | Step 2300 | learning rate = 3.482e-06, loss = 0.643, acc = 0.738\n",
            "Epoch 1 | Step 2400 | learning rate = 3.633e-06, loss = 0.569, acc = 0.751\n",
            "Epoch 1 | Step 2500 | learning rate = 3.785e-06, loss = 0.629, acc = 0.740\n",
            "Epoch 1 | Step 2600 | learning rate = 3.936e-06, loss = 0.675, acc = 0.730\n",
            "Epoch 1 | Step 2700 | learning rate = 4.088e-06, loss = 0.643, acc = 0.727\n",
            "Epoch 1 | Step 2800 | learning rate = 4.239e-06, loss = 0.513, acc = 0.774\n",
            "Epoch 1 | Step 2900 | learning rate = 4.390e-06, loss = 0.576, acc = 0.769\n",
            "Epoch 1 | Step 3000 | learning rate = 4.542e-06, loss = 0.543, acc = 0.792\n",
            "Epoch 1 | Step 3100 | learning rate = 4.693e-06, loss = 0.580, acc = 0.762\n",
            "Epoch 1 | Step 3200 | learning rate = 4.845e-06, loss = 0.602, acc = 0.766\n",
            "Epoch 1 | Step 3300 | learning rate = 4.996e-06, loss = 0.508, acc = 0.776\n",
            "Epoch 1 | Step 3400 | learning rate = 5.148e-06, loss = 0.477, acc = 0.782\n",
            "Epoch 1 | Step 3500 | learning rate = 5.299e-06, loss = 0.594, acc = 0.748\n",
            "Epoch 1 | Step 3600 | learning rate = 5.451e-06, loss = 0.544, acc = 0.765\n",
            "Epoch 1 | Step 3700 | learning rate = 5.602e-06, loss = 0.521, acc = 0.765\n",
            "Epoch 1 | Step 3800 | learning rate = 5.753e-06, loss = 0.574, acc = 0.770\n",
            "Epoch 1 | Step 3900 | learning rate = 5.905e-06, loss = 0.525, acc = 0.781\n",
            "Evaluating Dev Set ...\n"
          ]
        },
        {
          "data": {
            "application/vnd.jupyter.widget-view+json": {
              "model_id": "9f794e67e301445e8de52afd71c8f5ac",
              "version_major": 2,
              "version_minor": 0
            },
            "text/plain": [
              "  0%|          | 0/4131 [00:00<?, ?it/s]"
            ]
          },
          "metadata": {},
          "output_type": "display_data"
        },
        {
          "name": "stdout",
          "output_type": "stream",
          "text": [
            "Validation | Epoch 1 | acc = 0.808\n",
            "Saving best model so far ...\n"
          ]
        },
        {
          "data": {
            "application/vnd.jupyter.widget-view+json": {
              "model_id": "1e57709eb9a14bd6bbd5dee5f68ccc87",
              "version_major": 2,
              "version_minor": 0
            },
            "text/plain": [
              "  0%|          | 0/3962 [00:00<?, ?it/s]"
            ]
          },
          "metadata": {},
          "output_type": "display_data"
        },
        {
          "name": "stdout",
          "output_type": "stream",
          "text": [
            "Epoch 2 | Step 100 | learning rate = 6.150e-06, loss = 0.419, acc = 0.804\n",
            "Epoch 2 | Step 200 | learning rate = 6.302e-06, loss = 0.370, acc = 0.811\n",
            "Epoch 2 | Step 300 | learning rate = 6.453e-06, loss = 0.426, acc = 0.811\n",
            "Epoch 2 | Step 400 | learning rate = 6.605e-06, loss = 0.439, acc = 0.808\n",
            "Epoch 2 | Step 500 | learning rate = 6.756e-06, loss = 0.406, acc = 0.831\n",
            "Epoch 2 | Step 600 | learning rate = 6.907e-06, loss = 0.466, acc = 0.806\n",
            "Epoch 2 | Step 700 | learning rate = 7.059e-06, loss = 0.432, acc = 0.834\n",
            "Epoch 2 | Step 800 | learning rate = 7.210e-06, loss = 0.387, acc = 0.811\n",
            "Epoch 2 | Step 900 | learning rate = 7.362e-06, loss = 0.437, acc = 0.820\n",
            "Epoch 2 | Step 1000 | learning rate = 7.513e-06, loss = 0.389, acc = 0.844\n",
            "Epoch 2 | Step 1100 | learning rate = 7.665e-06, loss = 0.410, acc = 0.820\n",
            "Epoch 2 | Step 1200 | learning rate = 7.816e-06, loss = 0.455, acc = 0.814\n",
            "Epoch 2 | Step 1300 | learning rate = 7.968e-06, loss = 0.394, acc = 0.834\n",
            "Epoch 2 | Step 1400 | learning rate = 8.119e-06, loss = 0.483, acc = 0.804\n",
            "Epoch 2 | Step 1500 | learning rate = 8.270e-06, loss = 0.459, acc = 0.796\n",
            "Epoch 2 | Step 1600 | learning rate = 8.422e-06, loss = 0.415, acc = 0.824\n",
            "Epoch 2 | Step 1700 | learning rate = 8.573e-06, loss = 0.425, acc = 0.825\n",
            "Epoch 2 | Step 1800 | learning rate = 8.725e-06, loss = 0.466, acc = 0.796\n",
            "Epoch 2 | Step 1900 | learning rate = 8.876e-06, loss = 0.409, acc = 0.832\n",
            "Epoch 2 | Step 2000 | learning rate = 9.028e-06, loss = 0.391, acc = 0.839\n",
            "Epoch 2 | Step 2100 | learning rate = 9.179e-06, loss = 0.418, acc = 0.819\n",
            "Epoch 2 | Step 2200 | learning rate = 9.331e-06, loss = 0.409, acc = 0.824\n",
            "Epoch 2 | Step 2300 | learning rate = 9.482e-06, loss = 0.383, acc = 0.832\n",
            "Epoch 2 | Step 2400 | learning rate = 9.633e-06, loss = 0.366, acc = 0.840\n",
            "Epoch 2 | Step 2500 | learning rate = 9.785e-06, loss = 0.403, acc = 0.831\n",
            "Epoch 2 | Step 2600 | learning rate = 9.936e-06, loss = 0.371, acc = 0.830\n",
            "Epoch 2 | Step 2700 | learning rate = 1.000e-05, loss = 0.424, acc = 0.809\n",
            "Epoch 2 | Step 2800 | learning rate = 9.996e-06, loss = 0.387, acc = 0.831\n",
            "Epoch 2 | Step 2900 | learning rate = 9.991e-06, loss = 0.341, acc = 0.852\n",
            "Epoch 2 | Step 3000 | learning rate = 9.982e-06, loss = 0.412, acc = 0.806\n",
            "Epoch 2 | Step 3100 | learning rate = 9.970e-06, loss = 0.377, acc = 0.845\n",
            "Epoch 2 | Step 3200 | learning rate = 9.956e-06, loss = 0.395, acc = 0.832\n",
            "Epoch 2 | Step 3300 | learning rate = 9.939e-06, loss = 0.352, acc = 0.845\n",
            "Epoch 2 | Step 3400 | learning rate = 9.919e-06, loss = 0.391, acc = 0.822\n",
            "Epoch 2 | Step 3500 | learning rate = 9.896e-06, loss = 0.453, acc = 0.821\n",
            "Epoch 2 | Step 3600 | learning rate = 9.871e-06, loss = 0.339, acc = 0.836\n",
            "Epoch 2 | Step 3700 | learning rate = 9.842e-06, loss = 0.358, acc = 0.835\n",
            "Epoch 2 | Step 3800 | learning rate = 9.812e-06, loss = 0.385, acc = 0.829\n",
            "Epoch 2 | Step 3900 | learning rate = 9.778e-06, loss = 0.404, acc = 0.837\n",
            "Evaluating Dev Set ...\n"
          ]
        },
        {
          "data": {
            "application/vnd.jupyter.widget-view+json": {
              "model_id": "df130d8be8574a0c8ada8d285977a8ec",
              "version_major": 2,
              "version_minor": 0
            },
            "text/plain": [
              "  0%|          | 0/4131 [00:00<?, ?it/s]"
            ]
          },
          "metadata": {},
          "output_type": "display_data"
        },
        {
          "name": "stdout",
          "output_type": "stream",
          "text": [
            "Validation | Epoch 2 | acc = 0.822\n",
            "Saving best model so far ...\n"
          ]
        },
        {
          "data": {
            "application/vnd.jupyter.widget-view+json": {
              "model_id": "3662ab73594544e689a3c39f1442f586",
              "version_major": 2,
              "version_minor": 0
            },
            "text/plain": [
              "  0%|          | 0/3962 [00:00<?, ?it/s]"
            ]
          },
          "metadata": {},
          "output_type": "display_data"
        },
        {
          "name": "stdout",
          "output_type": "stream",
          "text": [
            "Epoch 3 | Step 100 | learning rate = 9.717e-06, loss = 0.194, acc = 0.902\n",
            "Epoch 3 | Step 200 | learning rate = 9.677e-06, loss = 0.214, acc = 0.899\n",
            "Epoch 3 | Step 300 | learning rate = 9.633e-06, loss = 0.243, acc = 0.889\n",
            "Epoch 3 | Step 400 | learning rate = 9.587e-06, loss = 0.237, acc = 0.894\n",
            "Epoch 3 | Step 500 | learning rate = 9.539e-06, loss = 0.237, acc = 0.899\n",
            "Epoch 3 | Step 600 | learning rate = 9.488e-06, loss = 0.221, acc = 0.895\n",
            "Epoch 3 | Step 700 | learning rate = 9.434e-06, loss = 0.224, acc = 0.891\n",
            "Epoch 3 | Step 800 | learning rate = 9.378e-06, loss = 0.199, acc = 0.886\n",
            "Epoch 3 | Step 900 | learning rate = 9.319e-06, loss = 0.230, acc = 0.891\n",
            "Epoch 3 | Step 1000 | learning rate = 9.258e-06, loss = 0.205, acc = 0.900\n",
            "Epoch 3 | Step 1100 | learning rate = 9.194e-06, loss = 0.207, acc = 0.896\n",
            "Epoch 3 | Step 1200 | learning rate = 9.128e-06, loss = 0.210, acc = 0.895\n",
            "Epoch 3 | Step 1300 | learning rate = 9.060e-06, loss = 0.276, acc = 0.880\n",
            "Epoch 3 | Step 1400 | learning rate = 8.989e-06, loss = 0.244, acc = 0.894\n",
            "Epoch 3 | Step 1500 | learning rate = 8.917e-06, loss = 0.218, acc = 0.907\n",
            "Epoch 3 | Step 1600 | learning rate = 8.842e-06, loss = 0.210, acc = 0.911\n",
            "Epoch 3 | Step 1700 | learning rate = 8.764e-06, loss = 0.226, acc = 0.886\n",
            "Epoch 3 | Step 1800 | learning rate = 8.685e-06, loss = 0.218, acc = 0.896\n",
            "Epoch 3 | Step 1900 | learning rate = 8.604e-06, loss = 0.195, acc = 0.907\n",
            "Epoch 3 | Step 2000 | learning rate = 8.520e-06, loss = 0.267, acc = 0.881\n",
            "Epoch 3 | Step 2100 | learning rate = 8.435e-06, loss = 0.235, acc = 0.889\n",
            "Epoch 3 | Step 2200 | learning rate = 8.347e-06, loss = 0.214, acc = 0.892\n",
            "Epoch 3 | Step 2300 | learning rate = 8.258e-06, loss = 0.246, acc = 0.885\n",
            "Epoch 3 | Step 2400 | learning rate = 8.167e-06, loss = 0.210, acc = 0.889\n",
            "Epoch 3 | Step 2500 | learning rate = 8.074e-06, loss = 0.218, acc = 0.900\n",
            "Epoch 3 | Step 2600 | learning rate = 7.979e-06, loss = 0.217, acc = 0.896\n",
            "Epoch 3 | Step 2700 | learning rate = 7.883e-06, loss = 0.219, acc = 0.896\n",
            "Epoch 3 | Step 2800 | learning rate = 7.785e-06, loss = 0.231, acc = 0.906\n",
            "Epoch 3 | Step 2900 | learning rate = 7.685e-06, loss = 0.197, acc = 0.907\n",
            "Epoch 3 | Step 3000 | learning rate = 7.584e-06, loss = 0.216, acc = 0.892\n",
            "Epoch 3 | Step 3100 | learning rate = 7.482e-06, loss = 0.206, acc = 0.894\n",
            "Epoch 3 | Step 3200 | learning rate = 7.378e-06, loss = 0.240, acc = 0.886\n",
            "Epoch 3 | Step 3300 | learning rate = 7.273e-06, loss = 0.210, acc = 0.894\n",
            "Epoch 3 | Step 3400 | learning rate = 7.166e-06, loss = 0.210, acc = 0.905\n",
            "Epoch 3 | Step 3500 | learning rate = 7.058e-06, loss = 0.191, acc = 0.902\n",
            "Epoch 3 | Step 3600 | learning rate = 6.949e-06, loss = 0.201, acc = 0.895\n",
            "Epoch 3 | Step 3700 | learning rate = 6.839e-06, loss = 0.204, acc = 0.894\n",
            "Epoch 3 | Step 3800 | learning rate = 6.728e-06, loss = 0.222, acc = 0.895\n",
            "Epoch 3 | Step 3900 | learning rate = 6.616e-06, loss = 0.218, acc = 0.904\n",
            "Evaluating Dev Set ...\n"
          ]
        },
        {
          "data": {
            "application/vnd.jupyter.widget-view+json": {
              "model_id": "8f82a67863354eb2b67aaf437d6f9c4b",
              "version_major": 2,
              "version_minor": 0
            },
            "text/plain": [
              "  0%|          | 0/4131 [00:00<?, ?it/s]"
            ]
          },
          "metadata": {},
          "output_type": "display_data"
        },
        {
          "name": "stdout",
          "output_type": "stream",
          "text": [
            "Validation | Epoch 3 | acc = 0.820\n"
          ]
        },
        {
          "data": {
            "application/vnd.jupyter.widget-view+json": {
              "model_id": "8dc2588c8b0146e9b0567417679a2245",
              "version_major": 2,
              "version_minor": 0
            },
            "text/plain": [
              "  0%|          | 0/3962 [00:00<?, ?it/s]"
            ]
          },
          "metadata": {},
          "output_type": "display_data"
        },
        {
          "name": "stdout",
          "output_type": "stream",
          "text": [
            "Epoch 4 | Step 100 | learning rate = 6.432e-06, loss = 0.110, acc = 0.935\n",
            "Epoch 4 | Step 200 | learning rate = 6.318e-06, loss = 0.133, acc = 0.931\n",
            "Epoch 4 | Step 300 | learning rate = 6.203e-06, loss = 0.115, acc = 0.940\n",
            "Epoch 4 | Step 400 | learning rate = 6.087e-06, loss = 0.110, acc = 0.949\n",
            "Epoch 4 | Step 500 | learning rate = 5.971e-06, loss = 0.117, acc = 0.931\n",
            "Epoch 4 | Step 600 | learning rate = 5.854e-06, loss = 0.153, acc = 0.921\n",
            "Epoch 4 | Step 700 | learning rate = 5.737e-06, loss = 0.097, acc = 0.950\n",
            "Epoch 4 | Step 800 | learning rate = 5.619e-06, loss = 0.112, acc = 0.949\n",
            "Epoch 4 | Step 900 | learning rate = 5.500e-06, loss = 0.129, acc = 0.947\n",
            "Epoch 4 | Step 1000 | learning rate = 5.382e-06, loss = 0.103, acc = 0.944\n",
            "Epoch 4 | Step 1100 | learning rate = 5.263e-06, loss = 0.099, acc = 0.940\n",
            "Epoch 4 | Step 1200 | learning rate = 5.144e-06, loss = 0.115, acc = 0.945\n",
            "Epoch 4 | Step 1300 | learning rate = 5.026e-06, loss = 0.100, acc = 0.946\n",
            "Epoch 4 | Step 1400 | learning rate = 4.907e-06, loss = 0.110, acc = 0.946\n",
            "Epoch 4 | Step 1500 | learning rate = 4.788e-06, loss = 0.108, acc = 0.946\n",
            "Epoch 4 | Step 1600 | learning rate = 4.669e-06, loss = 0.135, acc = 0.929\n",
            "Epoch 4 | Step 1700 | learning rate = 4.550e-06, loss = 0.110, acc = 0.945\n",
            "Epoch 4 | Step 1800 | learning rate = 4.432e-06, loss = 0.110, acc = 0.946\n",
            "Epoch 4 | Step 1900 | learning rate = 4.314e-06, loss = 0.109, acc = 0.945\n",
            "Epoch 4 | Step 2000 | learning rate = 4.197e-06, loss = 0.101, acc = 0.952\n",
            "Epoch 4 | Step 2100 | learning rate = 4.079e-06, loss = 0.080, acc = 0.956\n",
            "Epoch 4 | Step 2200 | learning rate = 3.963e-06, loss = 0.099, acc = 0.947\n",
            "Epoch 4 | Step 2300 | learning rate = 3.847e-06, loss = 0.099, acc = 0.935\n",
            "Epoch 4 | Step 2400 | learning rate = 3.731e-06, loss = 0.114, acc = 0.944\n",
            "Epoch 4 | Step 2500 | learning rate = 3.617e-06, loss = 0.076, acc = 0.967\n",
            "Epoch 4 | Step 2600 | learning rate = 3.503e-06, loss = 0.086, acc = 0.957\n",
            "Epoch 4 | Step 2700 | learning rate = 3.390e-06, loss = 0.089, acc = 0.952\n",
            "Epoch 4 | Step 2800 | learning rate = 3.278e-06, loss = 0.112, acc = 0.945\n",
            "Epoch 4 | Step 2900 | learning rate = 3.166e-06, loss = 0.092, acc = 0.951\n",
            "Epoch 4 | Step 3000 | learning rate = 3.056e-06, loss = 0.108, acc = 0.944\n",
            "Epoch 4 | Step 3100 | learning rate = 2.947e-06, loss = 0.126, acc = 0.941\n",
            "Epoch 4 | Step 3200 | learning rate = 2.839e-06, loss = 0.093, acc = 0.952\n",
            "Epoch 4 | Step 3300 | learning rate = 2.733e-06, loss = 0.088, acc = 0.955\n",
            "Epoch 4 | Step 3400 | learning rate = 2.627e-06, loss = 0.114, acc = 0.938\n",
            "Epoch 4 | Step 3500 | learning rate = 2.523e-06, loss = 0.156, acc = 0.938\n",
            "Epoch 4 | Step 3600 | learning rate = 2.421e-06, loss = 0.088, acc = 0.944\n",
            "Epoch 4 | Step 3700 | learning rate = 2.320e-06, loss = 0.107, acc = 0.944\n",
            "Epoch 4 | Step 3800 | learning rate = 2.220e-06, loss = 0.097, acc = 0.955\n",
            "Epoch 4 | Step 3900 | learning rate = 2.122e-06, loss = 0.093, acc = 0.949\n",
            "Evaluating Dev Set ...\n"
          ]
        },
        {
          "data": {
            "application/vnd.jupyter.widget-view+json": {
              "model_id": "6cd64e3885f24cf499607d4724e3df70",
              "version_major": 2,
              "version_minor": 0
            },
            "text/plain": [
              "  0%|          | 0/4131 [00:00<?, ?it/s]"
            ]
          },
          "metadata": {},
          "output_type": "display_data"
        },
        {
          "name": "stdout",
          "output_type": "stream",
          "text": [
            "Validation | Epoch 4 | acc = 0.813\n",
            "No improvements in the recent 1 epochs. So far the best model with validation acc=0.82159.\n"
          ]
        }
      ],
      "source": [
        "optimizer = AdamW(model.parameters(), lr=learning_rate, weight_decay=3e-2)\n",
        "scheduler = get_cosine_schedule_with_warmup(optimizer, num_epoch * len(train_loader) // 3, num_epoch * len(train_loader))\n",
        "# scheduler = get_linear_schedule_with_warmup(optimizer, num_epoch * len(train_loader) // 2, num_epoch * len(train_loader))\n",
        "# scheduler = get_cosine_with_hard_restarts_schedule_with_warmup(optimizer, num_warmup_steps=len(train_loader) // 2,\n",
        "#                                                                num_training_steps=num_epoch * len(train_loader), num_cycles=num_epoch+1)\n",
        "\n",
        "if fp16_training:\n",
        "    model, optimizer, train_loader = accelerator.prepare(model, optimizer, train_loader) \n",
        "\n",
        "model.train()\n",
        "\n",
        "print(\"Start Training ...\")\n",
        "best_dev_acc = 0.0\n",
        "early_stop_count = 0\n",
        "\n",
        "for epoch in range(num_epoch):\n",
        "    step = 1\n",
        "    train_loss = train_acc = 0\n",
        "    \n",
        "    for data in tqdm(train_loader):\t\n",
        "        # Load all data into GPU\n",
        "        data = [i.to(device) for i in data]\n",
        "        \n",
        "        # Model inputs: input_ids, token_type_ids, attention_mask, start_positions, end_positions (Note: only \"input_ids\" is mandatory)\n",
        "        # Model outputs: start_logits, end_logits, loss (return when start_positions/end_positions are provided)  \n",
        "        output = model(input_ids=data[0], token_type_ids=data[1], attention_mask=data[2], start_positions=data[3], end_positions=data[4])\n",
        "\n",
        "        # Choose the most probable start position / end position\n",
        "        start_index = torch.argmax(output.start_logits, dim=1)\n",
        "        end_index = torch.argmax(output.end_logits, dim=1)\n",
        "        \n",
        "        # Prediction is correct only if both start_index and end_index are correct\n",
        "        train_acc += ((start_index == data[3]) & (end_index == data[4])).float().mean()\n",
        "        train_loss += output.loss\n",
        "        \n",
        "        if fp16_training:\n",
        "            accelerator.backward(output.loss)\n",
        "        else:\n",
        "            output.loss.backward()\n",
        "        \n",
        "        if step % grad_acc_step == 0:\n",
        "            optimizer.step()\n",
        "            optimizer.zero_grad()\n",
        "        scheduler.step()\n",
        "        step += 1\n",
        "\n",
        "        ##### TODO: Apply linear learning rate decay #####\n",
        "        \n",
        "        \n",
        "        # Print training loss and accuracy over past logging step\n",
        "        if step % logging_step == 0:\n",
        "            print(f\"Epoch {epoch + 1} | Step {step} | learning rate = {optimizer.param_groups[0]['lr']:.3e}, loss = {train_loss.item() / logging_step:.3f}, acc = {train_acc / logging_step:.3f}\")\n",
        "            train_loss = train_acc = 0\n",
        "\n",
        "    if validation:\n",
        "        print(\"Evaluating Dev Set ...\")\n",
        "        model.eval()\n",
        "        with torch.no_grad():\n",
        "            dev_acc = 0\n",
        "            for i, data in enumerate(tqdm(dev_loader)):\n",
        "                output = model(input_ids=data[0].squeeze(dim=0).to(device), token_type_ids=data[1].squeeze(dim=0).to(device),\n",
        "                       attention_mask=data[2].squeeze(dim=0).to(device))\n",
        "                # prediction is correct only if answer text exactly matches\n",
        "                dev_acc += evaluate(data, output, dev_paragraphs[dev_questions[i][\"paragraph_id\"]]) == dev_questions[i][\"answer_text\"]\n",
        "            dev_acc /= len(dev_loader)\n",
        "            print(f\"Validation | Epoch {epoch + 1} | acc = {dev_acc:.3f}\")\n",
        "        if dev_acc > best_dev_acc:\n",
        "            best_dev_acc = dev_acc\n",
        "            print(\"Saving best model so far ...\")\n",
        "            model.save_pretrained(model_save_dir)\n",
        "            early_stop_count = 0\n",
        "        else:\n",
        "            early_stop_count += 1\n",
        "            \n",
        "        if early_stop_count > early_stop_patience:\n",
        "            print(f\"No improvements in the recent {early_stop_patience} epochs. So far the best model with validation acc={best_dev_acc:.5f}.\")\n",
        "            break\n",
        "            \n",
        "        model.train()\n",
        "\n",
        "# # Save a model and its configuration file to the directory 「saved_model」 \n",
        "# # i.e. there are two files under the direcory 「saved_model」: 「pytorch_model.bin」 and 「config.json」\n",
        "# # Saved model can be re-loaded using 「model = BertForQuestionAnswering.from_pretrained(\"saved_model\")」\n",
        "# print(\"Saving Model ...\")\n",
        "# model_save_dir = \"saved_model\" \n",
        "# model.save_pretrained(model_save_dir)"
      ]
    },
    {
      "cell_type": "markdown",
      "metadata": {
        "id": "kMmdLOKBMsdE"
      },
      "source": [
        "## Testing"
      ]
    },
    {
      "cell_type": "code",
      "execution_count": 13,
      "metadata": {
        "id": "U5scNKC9xz0C"
      },
      "outputs": [
        {
          "name": "stdout",
          "output_type": "stream",
          "text": [
            "Evaluating Test Set ...\n"
          ]
        },
        {
          "data": {
            "application/vnd.jupyter.widget-view+json": {
              "model_id": "6ad743541b074f4588295f34c79b68f3",
              "version_major": 2,
              "version_minor": 0
            },
            "text/plain": [
              "  0%|          | 0/4957 [00:00<?, ?it/s]"
            ]
          },
          "metadata": {},
          "output_type": "display_data"
        },
        {
          "name": "stdout",
          "output_type": "stream",
          "text": [
            "Completed! Result is in result.csv\n"
          ]
        }
      ],
      "source": [
        "print(\"Evaluating Test Set ...\")\n",
        "\n",
        "model.from_pretrained(model_save_dir)\n",
        "\n",
        "result = []\n",
        "\n",
        "model.eval()\n",
        "with torch.no_grad():\n",
        "    i = 0\n",
        "    for data in tqdm(test_loader):\n",
        "        output = model(input_ids=data[0].squeeze(dim=0).to(device), token_type_ids=data[1].squeeze(dim=0).to(device),\n",
        "                       attention_mask=data[2].squeeze(dim=0).to(device))\n",
        "        ans = evaluate(data, output, test_paragraphs[test_questions[i][\"paragraph_id\"]])\n",
        "        result.append(ans)\n",
        "        i += 1\n",
        "\n",
        "result_file = \"result.csv\"\n",
        "with open(result_file, 'w') as f:\n",
        "    f.write(\"ID,Answer\\n\")\n",
        "    for i, test_question in enumerate(test_questions):\n",
        "        # Replace commas in answers with empty strings (since csv is separated by comma)\n",
        "        # Answers in kaggle are processed in the same way\n",
        "        f.write(f\"{test_question['id']},{result[i].replace(',','')}\\n\")\n",
        "\n",
        "print(f\"Completed! Result is in {result_file}\")"
      ]
    },
    {
      "cell_type": "code",
      "execution_count": null,
      "metadata": {},
      "outputs": [],
      "source": []
    }
  ],
  "metadata": {
    "accelerator": "GPU",
    "colab": {
      "collapsed_sections": [],
      "name": "ML2022Spring - HW7.ipynb",
      "provenance": []
    },
    "kernelspec": {
      "display_name": "Python 3",
      "name": "python3"
    },
    "language_info": {
      "codemirror_mode": {
        "name": "ipython",
        "version": 3
      },
      "file_extension": ".py",
      "mimetype": "text/x-python",
      "name": "python",
      "nbconvert_exporter": "python",
      "pygments_lexer": "ipython3",
      "version": "3.10.5"
    }
  },
  "nbformat": 4,
  "nbformat_minor": 0
}
