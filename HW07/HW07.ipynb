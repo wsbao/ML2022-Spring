{
  "cells": [
    {
      "cell_type": "markdown",
      "metadata": {
        "id": "xvSGDbExff_I"
      },
      "source": [
        "# **Homework 7 - Bert (Question Answering)**\n",
        "\n",
        "If you have any questions, feel free to email us at mlta-2022-spring@googlegroups.com\n",
        "\n",
        "\n",
        "\n",
        "Slide:    [Link](https://docs.google.com/presentation/d/1H5ZONrb2LMOCixLY7D5_5-7LkIaXO6AGEaV2mRdTOMY/edit?usp=sharing)　Kaggle: [Link](https://www.kaggle.com/c/ml2022spring-hw7)　Data: [Link](https://drive.google.com/uc?id=1AVgZvy3VFeg0fX-6WQJMHPVrx3A-M1kb)\n",
        "\n",
        "\n"
      ]
    },
    {
      "cell_type": "markdown",
      "metadata": {
        "id": "WGOr_eS3wJJf"
      },
      "source": [
        "## Task description\n",
        "- Chinese Extractive Question Answering\n",
        "  - Input: Paragraph + Question\n",
        "  - Output: Answer\n",
        "\n",
        "- Objective: Learn how to fine tune a pretrained model on downstream task using transformers\n",
        "\n",
        "- Todo\n",
        "    - Fine tune a pretrained chinese BERT model\n",
        "    - Change hyperparameters (e.g. doc_stride)\n",
        "    - Apply linear learning rate decay\n",
        "    - Try other pretrained models\n",
        "    - Improve preprocessing\n",
        "    - Improve postprocessing\n",
        "- Training tips\n",
        "    - Automatic mixed precision\n",
        "    - Gradient accumulation\n",
        "    - Ensemble\n",
        "\n",
        "- Estimated training time (tesla t4 with automatic mixed precision enabled)\n",
        "    - Simple: 8mins\n",
        "    - Medium: 8mins\n",
        "    - Strong: 25mins\n",
        "    - Boss: 2.5hrs\n",
        "  "
      ]
    },
    {
      "cell_type": "markdown",
      "metadata": {
        "id": "TJ1fSAJE2oaC"
      },
      "source": [
        "## Download Dataset"
      ]
    },
    {
      "cell_type": "code",
      "execution_count": 1,
      "metadata": {
        "id": "YPrc4Eie9Yo5"
      },
      "outputs": [
        {
          "name": "stdout",
          "output_type": "stream",
          "text": [
            "Sun Apr 30 22:27:54 2023       \n",
            "+---------------------------------------------------------------------------------------+\n",
            "| NVIDIA-SMI 531.68                 Driver Version: 531.68       CUDA Version: 12.1     |\n",
            "|-----------------------------------------+----------------------+----------------------+\n",
            "| GPU  Name                      TCC/WDDM | Bus-Id        Disp.A | Volatile Uncorr. ECC |\n",
            "| Fan  Temp  Perf            Pwr:Usage/Cap|         Memory-Usage | GPU-Util  Compute M. |\n",
            "|                                         |                      |               MIG M. |\n",
            "|=========================================+======================+======================|\n",
            "|   0  NVIDIA GeForce RTX 3080 L...  WDDM | 00000000:01:00.0  On |                  N/A |\n",
            "| N/A   43C    P8               19W /  N/A|    974MiB / 16384MiB |      6%      Default |\n",
            "|                                         |                      |                  N/A |\n",
            "+-----------------------------------------+----------------------+----------------------+\n",
            "                                                                                         \n",
            "+---------------------------------------------------------------------------------------+\n",
            "| Processes:                                                                            |\n",
            "|  GPU   GI   CI        PID   Type   Process name                            GPU Memory |\n",
            "|        ID   ID                                                             Usage      |\n",
            "|=======================================================================================|\n",
            "|    0   N/A  N/A      1368    C+G   ...2txyewy\\StartMenuExperienceHost.exe    N/A      |\n",
            "|    0   N/A  N/A      5924    C+G   ...4036\\office6\\promecefpluginhost.exe    N/A      |\n",
            "|    0   N/A  N/A      7652    C+G   ...ekyb3d8bbwe\\PhoneExperienceHost.exe    N/A      |\n",
            "|    0   N/A  N/A      7780    C+G   ...CBS_cw5n1h2txyewy\\TextInputHost.exe    N/A      |\n",
            "|    0   N/A  N/A      8512    C+G   ...t.LockApp_cw5n1h2txyewy\\LockApp.exe    N/A      |\n",
            "|    0   N/A  N/A      9480    C+G   C:\\Windows\\explorer.exe                   N/A      |\n",
            "|    0   N/A  N/A     13032    C+G   ...4036\\office6\\promecefpluginhost.exe    N/A      |\n",
            "|    0   N/A  N/A     14744    C+G   ...__8wekyb3d8bbwe\\WindowsTerminal.exe    N/A      |\n",
            "|    0   N/A  N/A     16984    C+G   ...nt.CBS_cw5n1h2txyewy\\SearchHost.exe    N/A      |\n",
            "|    0   N/A  N/A     18572    C+G   ...m Files\\Mozilla Firefox\\firefox.exe    N/A      |\n",
            "|    0   N/A  N/A     20228    C+G   ...GeForce Experience\\NVIDIA Share.exe    N/A      |\n",
            "|    0   N/A  N/A     21564    C+G   ...am Files\\Microsoft VS Code\\Code.exe    N/A      |\n",
            "|    0   N/A  N/A     27944    C+G   ...siveControlPanel\\SystemSettings.exe    N/A      |\n",
            "|    0   N/A  N/A     31880    C+G   ...5n1h2txyewy\\ShellExperienceHost.exe    N/A      |\n",
            "+---------------------------------------------------------------------------------------+\n"
          ]
        }
      ],
      "source": [
        "# Download link 1\n",
        "# !gdown --id '1AVgZvy3VFeg0fX-6WQJMHPVrx3A-M1kb' --output hw7_data.zip\n",
        "\n",
        "# Download Link 2 (if the above link fails) \n",
        "# !gdown --id '1qwjbRjq481lHsnTrrF4OjKQnxzgoLEFR' --output hw7_data.zip\n",
        "\n",
        "# Download Link 3 (if the above link fails) \n",
        "# !gdown --id '1QXuWjNRZH6DscSd6QcRER0cnxmpZvijn' --output hw7_data.zip\n",
        "\n",
        "# !unzip -o hw7_data.zip\n",
        "\n",
        "# For this HW, K80 < P4 < T4 < P100 <= T4(fp16) < V100\n",
        "!nvidia-smi"
      ]
    },
    {
      "cell_type": "markdown",
      "metadata": {
        "id": "TevOvhC03m0h"
      },
      "source": [
        "## Install transformers\n",
        "\n",
        "Documentation for the toolkit:　https://huggingface.co/transformers/"
      ]
    },
    {
      "cell_type": "code",
      "execution_count": 2,
      "metadata": {
        "id": "tbxWFX_jpDom"
      },
      "outputs": [],
      "source": [
        "# You are allowed to change version of transformers or use other toolkits\n",
        "# !pip install transformers==4.5.0"
      ]
    },
    {
      "cell_type": "markdown",
      "metadata": {
        "id": "8dKM4yCh4LI_"
      },
      "source": [
        "## Import Packages"
      ]
    },
    {
      "cell_type": "code",
      "execution_count": 3,
      "metadata": {
        "id": "WOTHHtWJoahe"
      },
      "outputs": [],
      "source": [
        "import json\n",
        "import numpy as np\n",
        "import random\n",
        "import torch\n",
        "from torch.utils.data import DataLoader, Dataset \n",
        "# from transformers import AdamW, BertForQuestionAnswering, BertTokenizerFast\n",
        "from torch.optim import AdamW\n",
        "from transformers import BertForQuestionAnswering, BertTokenizerFast, get_linear_schedule_with_warmup, get_cosine_with_hard_restarts_schedule_with_warmup, get_cosine_schedule_with_warmup\n",
        "\n",
        "from tqdm.auto import tqdm\n",
        "\n",
        "device = \"cuda\" if torch.cuda.is_available() else \"cpu\"\n",
        "\n",
        "# Fix random seed for reproducibility\n",
        "def same_seeds(seed):\n",
        "    torch.manual_seed(seed)\n",
        "    if torch.cuda.is_available():\n",
        "        torch.cuda.manual_seed(seed)\n",
        "        torch.cuda.manual_seed_all(seed)\n",
        "    np.random.seed(seed)\n",
        "    random.seed(seed)\n",
        "    torch.backends.cudnn.benchmark = False\n",
        "    torch.backends.cudnn.deterministic = True\n",
        "same_seeds(0)"
      ]
    },
    {
      "cell_type": "code",
      "execution_count": 4,
      "metadata": {
        "id": "7pBtSZP1SKQO"
      },
      "outputs": [],
      "source": [
        "# Change \"fp16_training\" to True to support automatic mixed precision training (fp16)\t\n",
        "fp16_training = True # False\n",
        "\n",
        "if fp16_training:\n",
        "    # !pip install accelerate==0.2.0\n",
        "    from accelerate import Accelerator\n",
        "    # accelerator = Accelerator(fp16=True)\n",
        "    accelerator = Accelerator(mixed_precision=\"fp16\")\n",
        "    device = accelerator.device\n",
        "\n",
        "# Documentation for the toolkit:  https://huggingface.co/docs/accelerate/"
      ]
    },
    {
      "cell_type": "markdown",
      "metadata": {
        "id": "2YgXHuVLp_6j"
      },
      "source": [
        "## Load Model and Tokenizer\n",
        "\n",
        "\n",
        "\n",
        "\n",
        " "
      ]
    },
    {
      "cell_type": "code",
      "execution_count": 5,
      "metadata": {
        "id": "xyBCYGjAp3ym"
      },
      "outputs": [],
      "source": [
        "model_name = \"luhua/chinese_pretrain_mrc_macbert_large\" # \"hfl/chinese-roberta-wwm-ext\" # \"bert-base-chinese\"\n",
        "\n",
        "model = BertForQuestionAnswering.from_pretrained(model_name).to(device)\n",
        "tokenizer = BertTokenizerFast.from_pretrained(model_name)\n",
        "\n",
        "# You can safely ignore the warning message (it pops up because new prediction heads for QA are initialized randomly)"
      ]
    },
    {
      "cell_type": "markdown",
      "metadata": {
        "id": "3Td-GTmk5OW4"
      },
      "source": [
        "## Read Data\n",
        "\n",
        "- Training set: 31690 QA pairs\n",
        "- Dev set: 4131  QA pairs\n",
        "- Test set: 4957  QA pairs\n",
        "\n",
        "- {train/dev/test}_questions:\t\n",
        "  - List of dicts with the following keys:\n",
        "   - id (int)\n",
        "   - paragraph_id (int)\n",
        "   - question_text (string)\n",
        "   - answer_text (string)\n",
        "   - answer_start (int)\n",
        "   - answer_end (int)\n",
        "- {train/dev/test}_paragraphs: \n",
        "  - List of strings\n",
        "  - paragraph_ids in questions correspond to indexs in paragraphs\n",
        "  - A paragraph may be used by several questions "
      ]
    },
    {
      "cell_type": "code",
      "execution_count": 6,
      "metadata": {
        "id": "NvX7hlepogvu"
      },
      "outputs": [],
      "source": [
        "def read_data(file):\n",
        "    with open(file, 'r', encoding=\"utf-8\") as reader:\n",
        "        data = json.load(reader)\n",
        "    return data[\"questions\"], data[\"paragraphs\"]\n",
        "\n",
        "train_questions, train_paragraphs = read_data(\"hw7_train.json\")\n",
        "dev_questions, dev_paragraphs = read_data(\"hw7_dev.json\")\n",
        "test_questions, test_paragraphs = read_data(\"hw7_test.json\")"
      ]
    },
    {
      "cell_type": "markdown",
      "metadata": {
        "id": "Fm0rpTHq0e4N"
      },
      "source": [
        "## Tokenize Data"
      ]
    },
    {
      "cell_type": "code",
      "execution_count": 7,
      "metadata": {
        "id": "rTZ6B70Hoxie"
      },
      "outputs": [],
      "source": [
        "# Tokenize questions and paragraphs separately\n",
        "# 「add_special_tokens」 is set to False since special tokens will be added when tokenized questions and paragraphs are combined in datset __getitem__ \n",
        "\n",
        "train_questions_tokenized = tokenizer([train_question[\"question_text\"] for train_question in train_questions], add_special_tokens=False)\n",
        "dev_questions_tokenized = tokenizer([dev_question[\"question_text\"] for dev_question in dev_questions], add_special_tokens=False)\n",
        "test_questions_tokenized = tokenizer([test_question[\"question_text\"] for test_question in test_questions], add_special_tokens=False) \n",
        "\n",
        "train_paragraphs_tokenized = tokenizer(train_paragraphs, add_special_tokens=False)\n",
        "dev_paragraphs_tokenized = tokenizer(dev_paragraphs, add_special_tokens=False)\n",
        "test_paragraphs_tokenized = tokenizer(test_paragraphs, add_special_tokens=False)\n",
        "\n",
        "# You can safely ignore the warning message as tokenized sequences will be futher processed in datset __getitem__ before passing to model"
      ]
    },
    {
      "cell_type": "markdown",
      "metadata": {
        "id": "Ws8c8_4d5UCI"
      },
      "source": [
        "## Dataset and Dataloader"
      ]
    },
    {
      "cell_type": "code",
      "execution_count": 8,
      "metadata": {},
      "outputs": [],
      "source": [
        "MAX_PARAGRAPH_LEN = 469\n",
        "DOC_STRIDE = MAX_PARAGRAPH_LEN // 5"
      ]
    },
    {
      "cell_type": "code",
      "execution_count": 9,
      "metadata": {
        "id": "Xjooag-Swnuh"
      },
      "outputs": [],
      "source": [
        "class QA_Dataset(Dataset):\n",
        "    def __init__(self, split, questions, tokenized_questions, tokenized_paragraphs):\n",
        "        self.split = split\n",
        "        self.questions = questions\n",
        "        self.tokenized_questions = tokenized_questions\n",
        "        self.tokenized_paragraphs = tokenized_paragraphs\n",
        "        self.max_question_len = 40\n",
        "        self.max_paragraph_len = MAX_PARAGRAPH_LEN # 150\n",
        "        \n",
        "        ##### TODO: Change value of doc_stride #####\n",
        "        self.doc_stride = DOC_STRIDE # 75 # 150\n",
        "\n",
        "        # Input sequence length = [CLS] + question + [SEP] + paragraph + [SEP]\n",
        "        self.max_seq_len = 1 + self.max_question_len + 1 + self.max_paragraph_len + 1\n",
        "\n",
        "    def __len__(self):\n",
        "        return len(self.questions)\n",
        "\n",
        "    def __getitem__(self, idx):\n",
        "        question = self.questions[idx]\n",
        "        tokenized_question = self.tokenized_questions[idx]\n",
        "        tokenized_paragraph = self.tokenized_paragraphs[question[\"paragraph_id\"]]\n",
        "\n",
        "        ##### TODO: Preprocessing #####\n",
        "        # Hint: How to prevent model from learning something it should not learn\n",
        "\n",
        "        if self.split == \"train\":\n",
        "            # Convert answer's start/end positions in paragraph_text to start/end positions in tokenized_paragraph  \n",
        "            answer_start_token = tokenized_paragraph.char_to_token(question[\"answer_start\"])\n",
        "            answer_end_token = tokenized_paragraph.char_to_token(question[\"answer_end\"])\n",
        "\n",
        "            # A single window is obtained by slicing the portion of paragraph containing the answer\n",
        "            # mid = (answer_start_token + answer_end_token) // 2\n",
        "            # paragraph_start = max(0, min(mid - self.max_paragraph_len // 2, len(tokenized_paragraph) - self.max_paragraph_len))\n",
        "            start_min = max(0, answer_end_token - self.max_paragraph_len + 1)\n",
        "            start_max = min(answer_start_token, len(tokenized_paragraph) - self.max_paragraph_len)\n",
        "            start_max = max(start_min, start_max)\n",
        "            paragraph_start = random.randint(start_min, start_max + 1)\n",
        "            paragraph_end = paragraph_start + self.max_paragraph_len\n",
        "            \n",
        "            # Slice question/paragraph and add special tokens (101: CLS, 102: SEP)\n",
        "            input_ids_question = [101] + tokenized_question.ids[:self.max_question_len] + [102] \n",
        "            input_ids_paragraph = tokenized_paragraph.ids[paragraph_start : paragraph_end] + [102]\t\t\n",
        "            \n",
        "            # Convert answer's start/end positions in tokenized_paragraph to start/end positions in the window  \n",
        "            answer_start_token += len(input_ids_question) - paragraph_start\n",
        "            answer_end_token += len(input_ids_question) - paragraph_start\n",
        "            \n",
        "            # Pad sequence and obtain inputs to model \n",
        "            input_ids, token_type_ids, attention_mask = self.padding(input_ids_question, input_ids_paragraph)\n",
        "            return torch.tensor(input_ids), torch.tensor(token_type_ids), torch.tensor(attention_mask), answer_start_token, answer_end_token\n",
        "\n",
        "        # Validation/Testing\n",
        "        else:\n",
        "            input_ids_list, token_type_ids_list, attention_mask_list = [], [], []\n",
        "            \n",
        "            # Paragraph is split into several windows, each with start positions separated by step \"doc_stride\"\n",
        "            for i in range(0, len(tokenized_paragraph), self.doc_stride):\n",
        "                \n",
        "                # Slice question/paragraph and add special tokens (101: CLS, 102: SEP)\n",
        "                input_ids_question = [101] + tokenized_question.ids[:self.max_question_len] + [102]\n",
        "                input_ids_paragraph = tokenized_paragraph.ids[i : i + self.max_paragraph_len] + [102]\n",
        "                \n",
        "                # Pad sequence and obtain inputs to model\n",
        "                input_ids, token_type_ids, attention_mask = self.padding(input_ids_question, input_ids_paragraph)\n",
        "                \n",
        "                input_ids_list.append(input_ids)\n",
        "                token_type_ids_list.append(token_type_ids)\n",
        "                attention_mask_list.append(attention_mask)\n",
        "            \n",
        "            return torch.tensor(input_ids_list), torch.tensor(token_type_ids_list), torch.tensor(attention_mask_list)\n",
        "\n",
        "    def padding(self, input_ids_question, input_ids_paragraph):\n",
        "        # Pad zeros if sequence length is shorter than max_seq_len\n",
        "        padding_len = self.max_seq_len - len(input_ids_question) - len(input_ids_paragraph)\n",
        "        # Indices of input sequence tokens in the vocabulary\n",
        "        input_ids = input_ids_question + input_ids_paragraph + [0] * padding_len\n",
        "        # Segment token indices to indicate first and second portions of the inputs. Indices are selected in [0, 1]\n",
        "        token_type_ids = [0] * len(input_ids_question) + [1] * len(input_ids_paragraph) + [0] * padding_len\n",
        "        # Mask to avoid performing attention on padding token indices. Mask values selected in [0, 1]\n",
        "        attention_mask = [1] * (len(input_ids_question) + len(input_ids_paragraph)) + [0] * padding_len\n",
        "        \n",
        "        return input_ids, token_type_ids, attention_mask\n",
        "\n",
        "train_set = QA_Dataset(\"train\", train_questions, train_questions_tokenized, train_paragraphs_tokenized)\n",
        "dev_set = QA_Dataset(\"dev\", dev_questions, dev_questions_tokenized, dev_paragraphs_tokenized)\n",
        "test_set = QA_Dataset(\"test\", test_questions, test_questions_tokenized, test_paragraphs_tokenized)\n",
        "\n",
        "train_batch_size = 8 # 16 # 32\n",
        "\n",
        "# Note: Do NOT change batch size of dev_loader / test_loader !\n",
        "# Although batch size=1, it is actually a batch consisting of several windows from the same QA pair\n",
        "train_loader = DataLoader(train_set, batch_size=train_batch_size, shuffle=True, pin_memory=True)\n",
        "dev_loader = DataLoader(dev_set, batch_size=1, shuffle=False, pin_memory=True)\n",
        "test_loader = DataLoader(test_set, batch_size=1, shuffle=False, pin_memory=True)"
      ]
    },
    {
      "cell_type": "markdown",
      "metadata": {
        "id": "5_H1kqhR8CdM"
      },
      "source": [
        "## Function for Evaluation"
      ]
    },
    {
      "cell_type": "code",
      "execution_count": 10,
      "metadata": {
        "id": "SqeA3PLPxOHu"
      },
      "outputs": [],
      "source": [
        "def evaluate(data, output, raw_paragraph=None):\n",
        "    ##### TODO: Postprocessing #####\n",
        "    # There is a bug and room for improvement in postprocessing \n",
        "    # Hint: Open your prediction file to see what is wrong \n",
        "    \n",
        "    answer = ''\n",
        "    max_prob = float('-inf')\n",
        "    num_of_windows = data[0].shape[1]\n",
        "    \n",
        "    for k in range(num_of_windows):\n",
        "        # Obtain answer by choosing the most probable start position / end position\n",
        "        start_prob, start_index = torch.max(output.start_logits[k], dim=0)\n",
        "        end_prob, end_index = torch.max(output.end_logits[k], dim=0)\n",
        "        \n",
        "        if start_index > end_index:\n",
        "            continue\n",
        "        \n",
        "        sep_pos = np.where(data[0][0][k] == 102)[0][0] + 1\n",
        "        \n",
        "        if start_index < sep_pos:\n",
        "            continue\n",
        "        \n",
        "        # tmp_ans = tokenizer.decode(data[0][0][k][start_index : end_index + 1])\n",
        "        # tmp_ans = tmp_ans.replace(\" \", \"\")\n",
        "        \n",
        "        # if \"[CLS]\" in tmp_ans or \"[SEP]\" in tmp_ans:\n",
        "        #     continue\n",
        "        \n",
        "        # Probability of answer is calculated as sum of start_prob and end_prob\n",
        "        prob = start_prob + end_prob\n",
        "        # prob = start_prob * end_prob\n",
        "        \n",
        "        # Replace answer if calculated probability is larger than previous windows\n",
        "        if prob > max_prob:\n",
        "            max_prob = prob\n",
        "            # Convert tokens to chars (e.g. [1920, 7032] --> \"大 金\")\n",
        "            answer = tokenizer.decode(data[0][0][k][start_index : end_index + 1])\n",
        "            answer = answer.replace(\" \", \"\")\n",
        "            # answer = tmp_ans\n",
        "        \n",
        "            if \"[UNK]\" in answer and raw_paragraph is not None:\n",
        "                # sep_pos = np.where(data[0][0][k] == 102)[0][0] + 1\n",
        "                raw_paragraph_tokenized = tokenizer(raw_paragraph, add_special_tokens=False)\n",
        "                raw_start_index = raw_paragraph_tokenized.token_to_chars(k * DOC_STRIDE + start_index - sep_pos)[0]\n",
        "                raw_end_index = raw_paragraph_tokenized.token_to_chars(k * DOC_STRIDE + end_index - sep_pos)[1]\n",
        "                answer = raw_paragraph[raw_start_index:raw_end_index]\n",
        "    \n",
        "    # Remove spaces in answer (e.g. \"大 金\" --> \"大金\")\n",
        "    # return answer.replace(' ','')\n",
        "    return answer"
      ]
    },
    {
      "cell_type": "markdown",
      "metadata": {
        "id": "rzHQit6eMnKG"
      },
      "source": [
        "## Training"
      ]
    },
    {
      "cell_type": "code",
      "execution_count": 11,
      "metadata": {},
      "outputs": [],
      "source": [
        "num_epoch = 10\n",
        "validation = True\n",
        "logging_step = 100\n",
        "learning_rate = 1e-5\n",
        "grad_acc_step = 4\n",
        "early_stop_patience = 1\n",
        "model_save_dir = \"saved_model\" "
      ]
    },
    {
      "cell_type": "code",
      "execution_count": 12,
      "metadata": {
        "id": "3Q-B6ka7xoCM"
      },
      "outputs": [
        {
          "name": "stdout",
          "output_type": "stream",
          "text": [
            "Start Training ...\n"
          ]
        },
        {
          "data": {
            "application/vnd.jupyter.widget-view+json": {
              "model_id": "862dc835523b4a8ca55c9930043eea75",
              "version_major": 2,
              "version_minor": 0
            },
            "text/plain": [
              "  0%|          | 0/3962 [00:00<?, ?it/s]"
            ]
          },
          "metadata": {},
          "output_type": "display_data"
        },
        {
          "name": "stdout",
          "output_type": "stream",
          "text": [
            "Epoch 1 | Step 100 | learning rate = 7.497e-08, loss = 2.357, acc = 0.412\n",
            "Epoch 1 | Step 200 | learning rate = 1.507e-07, loss = 2.240, acc = 0.455\n",
            "Epoch 1 | Step 300 | learning rate = 2.264e-07, loss = 2.027, acc = 0.450\n",
            "Epoch 1 | Step 400 | learning rate = 3.021e-07, loss = 1.773, acc = 0.505\n",
            "Epoch 1 | Step 500 | learning rate = 3.779e-07, loss = 1.583, acc = 0.536\n",
            "Epoch 1 | Step 600 | learning rate = 4.536e-07, loss = 1.437, acc = 0.571\n",
            "Epoch 1 | Step 700 | learning rate = 5.293e-07, loss = 1.150, acc = 0.591\n",
            "Epoch 1 | Step 800 | learning rate = 6.050e-07, loss = 1.122, acc = 0.615\n",
            "Epoch 1 | Step 900 | learning rate = 6.808e-07, loss = 1.137, acc = 0.625\n",
            "Epoch 1 | Step 1000 | learning rate = 7.565e-07, loss = 1.057, acc = 0.636\n",
            "Epoch 1 | Step 1100 | learning rate = 8.322e-07, loss = 0.950, acc = 0.656\n",
            "Epoch 1 | Step 1200 | learning rate = 9.079e-07, loss = 0.829, acc = 0.678\n",
            "Epoch 1 | Step 1300 | learning rate = 9.836e-07, loss = 0.889, acc = 0.673\n",
            "Epoch 1 | Step 1400 | learning rate = 1.059e-06, loss = 0.790, acc = 0.661\n",
            "Epoch 1 | Step 1500 | learning rate = 1.135e-06, loss = 0.879, acc = 0.676\n",
            "Epoch 1 | Step 1600 | learning rate = 1.211e-06, loss = 0.761, acc = 0.702\n",
            "Epoch 1 | Step 1700 | learning rate = 1.287e-06, loss = 0.724, acc = 0.704\n",
            "Epoch 1 | Step 1800 | learning rate = 1.362e-06, loss = 0.692, acc = 0.721\n",
            "Epoch 1 | Step 1900 | learning rate = 1.438e-06, loss = 0.634, acc = 0.731\n",
            "Epoch 1 | Step 2000 | learning rate = 1.514e-06, loss = 0.675, acc = 0.717\n",
            "Epoch 1 | Step 2100 | learning rate = 1.589e-06, loss = 0.627, acc = 0.744\n",
            "Epoch 1 | Step 2200 | learning rate = 1.665e-06, loss = 0.692, acc = 0.701\n",
            "Epoch 1 | Step 2300 | learning rate = 1.741e-06, loss = 0.706, acc = 0.720\n",
            "Epoch 1 | Step 2400 | learning rate = 1.817e-06, loss = 0.617, acc = 0.739\n",
            "Epoch 1 | Step 2500 | learning rate = 1.892e-06, loss = 0.681, acc = 0.716\n",
            "Epoch 1 | Step 2600 | learning rate = 1.968e-06, loss = 0.722, acc = 0.705\n",
            "Epoch 1 | Step 2700 | learning rate = 2.044e-06, loss = 0.682, acc = 0.712\n",
            "Epoch 1 | Step 2800 | learning rate = 2.119e-06, loss = 0.561, acc = 0.756\n",
            "Epoch 1 | Step 2900 | learning rate = 2.195e-06, loss = 0.621, acc = 0.761\n",
            "Epoch 1 | Step 3000 | learning rate = 2.271e-06, loss = 0.590, acc = 0.765\n",
            "Epoch 1 | Step 3100 | learning rate = 2.347e-06, loss = 0.619, acc = 0.748\n",
            "Epoch 1 | Step 3200 | learning rate = 2.422e-06, loss = 0.651, acc = 0.746\n",
            "Epoch 1 | Step 3300 | learning rate = 2.498e-06, loss = 0.555, acc = 0.759\n",
            "Epoch 1 | Step 3400 | learning rate = 2.574e-06, loss = 0.529, acc = 0.761\n",
            "Epoch 1 | Step 3500 | learning rate = 2.650e-06, loss = 0.638, acc = 0.740\n",
            "Epoch 1 | Step 3600 | learning rate = 2.725e-06, loss = 0.587, acc = 0.749\n",
            "Epoch 1 | Step 3700 | learning rate = 2.801e-06, loss = 0.568, acc = 0.745\n",
            "Epoch 1 | Step 3800 | learning rate = 2.877e-06, loss = 0.615, acc = 0.755\n",
            "Epoch 1 | Step 3900 | learning rate = 2.952e-06, loss = 0.569, acc = 0.760\n",
            "Evaluating Dev Set ...\n"
          ]
        },
        {
          "data": {
            "application/vnd.jupyter.widget-view+json": {
              "model_id": "d96f4f648bb6445093cd4ac598dd7091",
              "version_major": 2,
              "version_minor": 0
            },
            "text/plain": [
              "  0%|          | 0/4131 [00:00<?, ?it/s]"
            ]
          },
          "metadata": {},
          "output_type": "display_data"
        },
        {
          "name": "stdout",
          "output_type": "stream",
          "text": [
            "Validation | Epoch 1 | acc = 0.805\n",
            "Saving best model so far ...\n"
          ]
        },
        {
          "data": {
            "application/vnd.jupyter.widget-view+json": {
              "model_id": "863267a036f64beaa3ea81a168b0b964",
              "version_major": 2,
              "version_minor": 0
            },
            "text/plain": [
              "  0%|          | 0/3962 [00:00<?, ?it/s]"
            ]
          },
          "metadata": {},
          "output_type": "display_data"
        },
        {
          "name": "stdout",
          "output_type": "stream",
          "text": [
            "Epoch 2 | Step 100 | learning rate = 3.075e-06, loss = 0.495, acc = 0.776\n",
            "Epoch 2 | Step 200 | learning rate = 3.151e-06, loss = 0.456, acc = 0.781\n",
            "Epoch 2 | Step 300 | learning rate = 3.227e-06, loss = 0.512, acc = 0.781\n",
            "Epoch 2 | Step 400 | learning rate = 3.302e-06, loss = 0.518, acc = 0.767\n",
            "Epoch 2 | Step 500 | learning rate = 3.378e-06, loss = 0.468, acc = 0.811\n",
            "Epoch 2 | Step 600 | learning rate = 3.454e-06, loss = 0.543, acc = 0.776\n",
            "Epoch 2 | Step 700 | learning rate = 3.529e-06, loss = 0.510, acc = 0.799\n",
            "Epoch 2 | Step 800 | learning rate = 3.605e-06, loss = 0.489, acc = 0.777\n",
            "Epoch 2 | Step 900 | learning rate = 3.681e-06, loss = 0.513, acc = 0.782\n",
            "Epoch 2 | Step 1000 | learning rate = 3.757e-06, loss = 0.468, acc = 0.804\n",
            "Epoch 2 | Step 1100 | learning rate = 3.832e-06, loss = 0.473, acc = 0.794\n",
            "Epoch 2 | Step 1200 | learning rate = 3.908e-06, loss = 0.522, acc = 0.774\n",
            "Epoch 2 | Step 1300 | learning rate = 3.984e-06, loss = 0.465, acc = 0.794\n",
            "Epoch 2 | Step 1400 | learning rate = 4.060e-06, loss = 0.550, acc = 0.782\n",
            "Epoch 2 | Step 1500 | learning rate = 4.135e-06, loss = 0.517, acc = 0.772\n",
            "Epoch 2 | Step 1600 | learning rate = 4.211e-06, loss = 0.491, acc = 0.782\n",
            "Epoch 2 | Step 1700 | learning rate = 4.287e-06, loss = 0.506, acc = 0.796\n",
            "Epoch 2 | Step 1800 | learning rate = 4.362e-06, loss = 0.518, acc = 0.779\n",
            "Epoch 2 | Step 1900 | learning rate = 4.438e-06, loss = 0.477, acc = 0.808\n",
            "Epoch 2 | Step 2000 | learning rate = 4.514e-06, loss = 0.458, acc = 0.815\n",
            "Epoch 2 | Step 2100 | learning rate = 4.590e-06, loss = 0.481, acc = 0.785\n",
            "Epoch 2 | Step 2200 | learning rate = 4.665e-06, loss = 0.463, acc = 0.800\n",
            "Epoch 2 | Step 2300 | learning rate = 4.741e-06, loss = 0.456, acc = 0.806\n",
            "Epoch 2 | Step 2400 | learning rate = 4.817e-06, loss = 0.446, acc = 0.815\n",
            "Epoch 2 | Step 2500 | learning rate = 4.892e-06, loss = 0.466, acc = 0.805\n",
            "Epoch 2 | Step 2600 | learning rate = 4.968e-06, loss = 0.435, acc = 0.814\n",
            "Epoch 2 | Step 2700 | learning rate = 5.044e-06, loss = 0.504, acc = 0.785\n",
            "Epoch 2 | Step 2800 | learning rate = 5.120e-06, loss = 0.446, acc = 0.817\n",
            "Epoch 2 | Step 2900 | learning rate = 5.195e-06, loss = 0.404, acc = 0.821\n",
            "Epoch 2 | Step 3000 | learning rate = 5.271e-06, loss = 0.468, acc = 0.797\n",
            "Epoch 2 | Step 3100 | learning rate = 5.347e-06, loss = 0.435, acc = 0.815\n",
            "Epoch 2 | Step 3200 | learning rate = 5.423e-06, loss = 0.440, acc = 0.822\n",
            "Epoch 2 | Step 3300 | learning rate = 5.498e-06, loss = 0.381, acc = 0.831\n",
            "Epoch 2 | Step 3400 | learning rate = 5.574e-06, loss = 0.479, acc = 0.805\n",
            "Epoch 2 | Step 3500 | learning rate = 5.650e-06, loss = 0.517, acc = 0.799\n",
            "Epoch 2 | Step 3600 | learning rate = 5.725e-06, loss = 0.391, acc = 0.808\n",
            "Epoch 2 | Step 3700 | learning rate = 5.801e-06, loss = 0.413, acc = 0.814\n",
            "Epoch 2 | Step 3800 | learning rate = 5.877e-06, loss = 0.428, acc = 0.817\n",
            "Epoch 2 | Step 3900 | learning rate = 5.953e-06, loss = 0.454, acc = 0.825\n",
            "Evaluating Dev Set ...\n"
          ]
        },
        {
          "data": {
            "application/vnd.jupyter.widget-view+json": {
              "model_id": "0ab2844a3f314f7ca38ecf9ca07319d1",
              "version_major": 2,
              "version_minor": 0
            },
            "text/plain": [
              "  0%|          | 0/4131 [00:00<?, ?it/s]"
            ]
          },
          "metadata": {},
          "output_type": "display_data"
        },
        {
          "name": "stdout",
          "output_type": "stream",
          "text": [
            "Validation | Epoch 2 | acc = 0.814\n",
            "Saving best model so far ...\n"
          ]
        },
        {
          "data": {
            "application/vnd.jupyter.widget-view+json": {
              "model_id": "7c598a9131d743ad8a74056d1a58f457",
              "version_major": 2,
              "version_minor": 0
            },
            "text/plain": [
              "  0%|          | 0/3962 [00:00<?, ?it/s]"
            ]
          },
          "metadata": {},
          "output_type": "display_data"
        },
        {
          "name": "stdout",
          "output_type": "stream",
          "text": [
            "Epoch 3 | Step 100 | learning rate = 6.075e-06, loss = 0.284, acc = 0.859\n",
            "Epoch 3 | Step 200 | learning rate = 6.151e-06, loss = 0.310, acc = 0.871\n",
            "Epoch 3 | Step 300 | learning rate = 6.227e-06, loss = 0.353, acc = 0.837\n",
            "Epoch 3 | Step 400 | learning rate = 6.302e-06, loss = 0.332, acc = 0.854\n",
            "Epoch 3 | Step 500 | learning rate = 6.378e-06, loss = 0.318, acc = 0.864\n",
            "Epoch 3 | Step 600 | learning rate = 6.454e-06, loss = 0.318, acc = 0.854\n",
            "Epoch 3 | Step 700 | learning rate = 6.530e-06, loss = 0.318, acc = 0.857\n",
            "Epoch 3 | Step 800 | learning rate = 6.605e-06, loss = 0.280, acc = 0.864\n",
            "Epoch 3 | Step 900 | learning rate = 6.681e-06, loss = 0.323, acc = 0.868\n",
            "Epoch 3 | Step 1000 | learning rate = 6.757e-06, loss = 0.287, acc = 0.860\n",
            "Epoch 3 | Step 1100 | learning rate = 6.833e-06, loss = 0.298, acc = 0.859\n",
            "Epoch 3 | Step 1200 | learning rate = 6.908e-06, loss = 0.310, acc = 0.854\n",
            "Epoch 3 | Step 1300 | learning rate = 6.984e-06, loss = 0.380, acc = 0.830\n",
            "Epoch 3 | Step 1400 | learning rate = 7.060e-06, loss = 0.344, acc = 0.861\n",
            "Epoch 3 | Step 1500 | learning rate = 7.135e-06, loss = 0.308, acc = 0.879\n",
            "Epoch 3 | Step 1600 | learning rate = 7.211e-06, loss = 0.304, acc = 0.856\n",
            "Epoch 3 | Step 1700 | learning rate = 7.287e-06, loss = 0.334, acc = 0.849\n",
            "Epoch 3 | Step 1800 | learning rate = 7.363e-06, loss = 0.308, acc = 0.860\n",
            "Epoch 3 | Step 1900 | learning rate = 7.438e-06, loss = 0.305, acc = 0.861\n",
            "Epoch 3 | Step 2000 | learning rate = 7.514e-06, loss = 0.370, acc = 0.849\n",
            "Epoch 3 | Step 2100 | learning rate = 7.590e-06, loss = 0.338, acc = 0.844\n",
            "Epoch 3 | Step 2200 | learning rate = 7.665e-06, loss = 0.325, acc = 0.854\n",
            "Epoch 3 | Step 2300 | learning rate = 7.741e-06, loss = 0.330, acc = 0.851\n",
            "Epoch 3 | Step 2400 | learning rate = 7.817e-06, loss = 0.287, acc = 0.861\n",
            "Epoch 3 | Step 2500 | learning rate = 7.893e-06, loss = 0.302, acc = 0.865\n",
            "Epoch 3 | Step 2600 | learning rate = 7.968e-06, loss = 0.323, acc = 0.851\n",
            "Epoch 3 | Step 2700 | learning rate = 8.044e-06, loss = 0.308, acc = 0.849\n",
            "Epoch 3 | Step 2800 | learning rate = 8.120e-06, loss = 0.340, acc = 0.860\n",
            "Epoch 3 | Step 2900 | learning rate = 8.196e-06, loss = 0.281, acc = 0.864\n",
            "Epoch 3 | Step 3000 | learning rate = 8.271e-06, loss = 0.319, acc = 0.865\n",
            "Epoch 3 | Step 3100 | learning rate = 8.347e-06, loss = 0.291, acc = 0.857\n",
            "Epoch 3 | Step 3200 | learning rate = 8.423e-06, loss = 0.329, acc = 0.856\n",
            "Epoch 3 | Step 3300 | learning rate = 8.498e-06, loss = 0.304, acc = 0.859\n",
            "Epoch 3 | Step 3400 | learning rate = 8.574e-06, loss = 0.310, acc = 0.854\n",
            "Epoch 3 | Step 3500 | learning rate = 8.650e-06, loss = 0.285, acc = 0.851\n",
            "Epoch 3 | Step 3600 | learning rate = 8.726e-06, loss = 0.308, acc = 0.850\n",
            "Epoch 3 | Step 3700 | learning rate = 8.801e-06, loss = 0.305, acc = 0.866\n",
            "Epoch 3 | Step 3800 | learning rate = 8.877e-06, loss = 0.324, acc = 0.847\n",
            "Epoch 3 | Step 3900 | learning rate = 8.953e-06, loss = 0.307, acc = 0.869\n",
            "Evaluating Dev Set ...\n"
          ]
        },
        {
          "data": {
            "application/vnd.jupyter.widget-view+json": {
              "model_id": "ea45620a1ed54257ab11e96c63762f2e",
              "version_major": 2,
              "version_minor": 0
            },
            "text/plain": [
              "  0%|          | 0/4131 [00:00<?, ?it/s]"
            ]
          },
          "metadata": {},
          "output_type": "display_data"
        },
        {
          "name": "stdout",
          "output_type": "stream",
          "text": [
            "Validation | Epoch 3 | acc = 0.817\n",
            "Saving best model so far ...\n"
          ]
        },
        {
          "data": {
            "application/vnd.jupyter.widget-view+json": {
              "model_id": "e8bcc6bac63d4d02aecae3a60c86ba80",
              "version_major": 2,
              "version_minor": 0
            },
            "text/plain": [
              "  0%|          | 0/3962 [00:00<?, ?it/s]"
            ]
          },
          "metadata": {},
          "output_type": "display_data"
        },
        {
          "name": "stdout",
          "output_type": "stream",
          "text": [
            "Epoch 4 | Step 100 | learning rate = 9.075e-06, loss = 0.168, acc = 0.907\n",
            "Epoch 4 | Step 200 | learning rate = 9.151e-06, loss = 0.197, acc = 0.899\n",
            "Epoch 4 | Step 300 | learning rate = 9.227e-06, loss = 0.173, acc = 0.904\n",
            "Epoch 4 | Step 400 | learning rate = 9.303e-06, loss = 0.167, acc = 0.909\n",
            "Epoch 4 | Step 500 | learning rate = 9.378e-06, loss = 0.204, acc = 0.901\n",
            "Epoch 4 | Step 600 | learning rate = 9.454e-06, loss = 0.232, acc = 0.892\n",
            "Epoch 4 | Step 700 | learning rate = 9.530e-06, loss = 0.155, acc = 0.910\n",
            "Epoch 4 | Step 800 | learning rate = 9.605e-06, loss = 0.167, acc = 0.912\n",
            "Epoch 4 | Step 900 | learning rate = 9.681e-06, loss = 0.191, acc = 0.911\n",
            "Epoch 4 | Step 1000 | learning rate = 9.757e-06, loss = 0.172, acc = 0.914\n",
            "Epoch 4 | Step 1100 | learning rate = 9.833e-06, loss = 0.165, acc = 0.909\n",
            "Epoch 4 | Step 1200 | learning rate = 9.908e-06, loss = 0.189, acc = 0.910\n",
            "Epoch 4 | Step 1300 | learning rate = 9.984e-06, loss = 0.163, acc = 0.910\n",
            "Epoch 4 | Step 1400 | learning rate = 1.000e-05, loss = 0.189, acc = 0.904\n",
            "Epoch 4 | Step 1500 | learning rate = 9.999e-06, loss = 0.166, acc = 0.915\n",
            "Epoch 4 | Step 1600 | learning rate = 9.997e-06, loss = 0.204, acc = 0.899\n",
            "Epoch 4 | Step 1700 | learning rate = 9.995e-06, loss = 0.175, acc = 0.917\n",
            "Epoch 4 | Step 1800 | learning rate = 9.992e-06, loss = 0.193, acc = 0.896\n",
            "Epoch 4 | Step 1900 | learning rate = 9.988e-06, loss = 0.192, acc = 0.899\n",
            "Epoch 4 | Step 2000 | learning rate = 9.984e-06, loss = 0.209, acc = 0.894\n",
            "Epoch 4 | Step 2100 | learning rate = 9.979e-06, loss = 0.145, acc = 0.917\n",
            "Epoch 4 | Step 2200 | learning rate = 9.973e-06, loss = 0.180, acc = 0.906\n",
            "Epoch 4 | Step 2300 | learning rate = 9.966e-06, loss = 0.173, acc = 0.901\n",
            "Epoch 4 | Step 2400 | learning rate = 9.959e-06, loss = 0.213, acc = 0.885\n",
            "Epoch 4 | Step 2500 | learning rate = 9.951e-06, loss = 0.171, acc = 0.916\n",
            "Epoch 4 | Step 2600 | learning rate = 9.942e-06, loss = 0.168, acc = 0.900\n",
            "Epoch 4 | Step 2700 | learning rate = 9.933e-06, loss = 0.169, acc = 0.924\n",
            "Epoch 4 | Step 2800 | learning rate = 9.923e-06, loss = 0.200, acc = 0.904\n",
            "Epoch 4 | Step 2900 | learning rate = 9.912e-06, loss = 0.170, acc = 0.917\n",
            "Epoch 4 | Step 3000 | learning rate = 9.901e-06, loss = 0.186, acc = 0.920\n",
            "Epoch 4 | Step 3100 | learning rate = 9.888e-06, loss = 0.224, acc = 0.916\n",
            "Epoch 4 | Step 3200 | learning rate = 9.876e-06, loss = 0.189, acc = 0.922\n",
            "Epoch 4 | Step 3300 | learning rate = 9.862e-06, loss = 0.174, acc = 0.915\n",
            "Epoch 4 | Step 3400 | learning rate = 9.848e-06, loss = 0.227, acc = 0.884\n",
            "Epoch 4 | Step 3500 | learning rate = 9.833e-06, loss = 0.248, acc = 0.901\n",
            "Epoch 4 | Step 3600 | learning rate = 9.817e-06, loss = 0.187, acc = 0.919\n",
            "Epoch 4 | Step 3700 | learning rate = 9.801e-06, loss = 0.217, acc = 0.899\n",
            "Epoch 4 | Step 3800 | learning rate = 9.784e-06, loss = 0.190, acc = 0.914\n",
            "Epoch 4 | Step 3900 | learning rate = 9.767e-06, loss = 0.165, acc = 0.917\n",
            "Evaluating Dev Set ...\n"
          ]
        },
        {
          "data": {
            "application/vnd.jupyter.widget-view+json": {
              "model_id": "1e99999e6cbd4b9780e04082093d9cf3",
              "version_major": 2,
              "version_minor": 0
            },
            "text/plain": [
              "  0%|          | 0/4131 [00:00<?, ?it/s]"
            ]
          },
          "metadata": {},
          "output_type": "display_data"
        },
        {
          "name": "stdout",
          "output_type": "stream",
          "text": [
            "Validation | Epoch 4 | acc = 0.817\n"
          ]
        },
        {
          "data": {
            "application/vnd.jupyter.widget-view+json": {
              "model_id": "460b8a978fb54344a91c1814a98ca83f",
              "version_major": 2,
              "version_minor": 0
            },
            "text/plain": [
              "  0%|          | 0/3962 [00:00<?, ?it/s]"
            ]
          },
          "metadata": {},
          "output_type": "display_data"
        },
        {
          "name": "stdout",
          "output_type": "stream",
          "text": [
            "Epoch 5 | Step 100 | learning rate = 9.737e-06, loss = 0.102, acc = 0.946\n",
            "Epoch 5 | Step 200 | learning rate = 9.717e-06, loss = 0.094, acc = 0.952\n",
            "Epoch 5 | Step 300 | learning rate = 9.697e-06, loss = 0.106, acc = 0.939\n",
            "Epoch 5 | Step 400 | learning rate = 9.677e-06, loss = 0.123, acc = 0.939\n",
            "Epoch 5 | Step 500 | learning rate = 9.655e-06, loss = 0.100, acc = 0.954\n",
            "Epoch 5 | Step 600 | learning rate = 9.633e-06, loss = 0.089, acc = 0.957\n",
            "Epoch 5 | Step 700 | learning rate = 9.610e-06, loss = 0.117, acc = 0.942\n",
            "Epoch 5 | Step 800 | learning rate = 9.587e-06, loss = 0.112, acc = 0.939\n",
            "Epoch 5 | Step 900 | learning rate = 9.563e-06, loss = 0.074, acc = 0.964\n",
            "Epoch 5 | Step 1000 | learning rate = 9.538e-06, loss = 0.094, acc = 0.946\n",
            "Epoch 5 | Step 1100 | learning rate = 9.513e-06, loss = 0.094, acc = 0.945\n",
            "Epoch 5 | Step 1200 | learning rate = 9.487e-06, loss = 0.103, acc = 0.959\n",
            "Epoch 5 | Step 1300 | learning rate = 9.461e-06, loss = 0.095, acc = 0.944\n",
            "Epoch 5 | Step 1400 | learning rate = 9.434e-06, loss = 0.112, acc = 0.952\n",
            "Epoch 5 | Step 1500 | learning rate = 9.406e-06, loss = 0.096, acc = 0.955\n",
            "Epoch 5 | Step 1600 | learning rate = 9.377e-06, loss = 0.076, acc = 0.954\n",
            "Epoch 5 | Step 1700 | learning rate = 9.348e-06, loss = 0.103, acc = 0.939\n",
            "Epoch 5 | Step 1800 | learning rate = 9.319e-06, loss = 0.096, acc = 0.947\n",
            "Epoch 5 | Step 1900 | learning rate = 9.288e-06, loss = 0.096, acc = 0.952\n",
            "Epoch 5 | Step 2000 | learning rate = 9.257e-06, loss = 0.126, acc = 0.945\n",
            "Epoch 5 | Step 2100 | learning rate = 9.226e-06, loss = 0.109, acc = 0.954\n",
            "Epoch 5 | Step 2200 | learning rate = 9.194e-06, loss = 0.101, acc = 0.941\n",
            "Epoch 5 | Step 2300 | learning rate = 9.161e-06, loss = 0.100, acc = 0.947\n",
            "Epoch 5 | Step 2400 | learning rate = 9.128e-06, loss = 0.115, acc = 0.927\n",
            "Epoch 5 | Step 2500 | learning rate = 9.094e-06, loss = 0.104, acc = 0.952\n",
            "Epoch 5 | Step 2600 | learning rate = 9.060e-06, loss = 0.114, acc = 0.940\n",
            "Epoch 5 | Step 2700 | learning rate = 9.025e-06, loss = 0.083, acc = 0.957\n",
            "Epoch 5 | Step 2800 | learning rate = 8.989e-06, loss = 0.102, acc = 0.944\n",
            "Epoch 5 | Step 2900 | learning rate = 8.953e-06, loss = 0.090, acc = 0.951\n",
            "Epoch 5 | Step 3000 | learning rate = 8.916e-06, loss = 0.102, acc = 0.944\n",
            "Epoch 5 | Step 3100 | learning rate = 8.879e-06, loss = 0.094, acc = 0.944\n",
            "Epoch 5 | Step 3200 | learning rate = 8.841e-06, loss = 0.115, acc = 0.947\n",
            "Epoch 5 | Step 3300 | learning rate = 8.803e-06, loss = 0.141, acc = 0.936\n",
            "Epoch 5 | Step 3400 | learning rate = 8.764e-06, loss = 0.130, acc = 0.934\n",
            "Epoch 5 | Step 3500 | learning rate = 8.725e-06, loss = 0.114, acc = 0.950\n",
            "Epoch 5 | Step 3600 | learning rate = 8.685e-06, loss = 0.131, acc = 0.934\n",
            "Epoch 5 | Step 3700 | learning rate = 8.644e-06, loss = 0.136, acc = 0.927\n",
            "Epoch 5 | Step 3800 | learning rate = 8.603e-06, loss = 0.103, acc = 0.947\n",
            "Epoch 5 | Step 3900 | learning rate = 8.562e-06, loss = 0.101, acc = 0.940\n",
            "Evaluating Dev Set ...\n"
          ]
        },
        {
          "data": {
            "application/vnd.jupyter.widget-view+json": {
              "model_id": "aa834a209051451f9fc9c565cc4ec6b7",
              "version_major": 2,
              "version_minor": 0
            },
            "text/plain": [
              "  0%|          | 0/4131 [00:00<?, ?it/s]"
            ]
          },
          "metadata": {},
          "output_type": "display_data"
        },
        {
          "name": "stdout",
          "output_type": "stream",
          "text": [
            "Validation | Epoch 5 | acc = 0.805\n",
            "No improvements in the recent 1 epochs. So far the best model with validation acc=0.817.\n"
          ]
        }
      ],
      "source": [
        "optimizer = AdamW(model.parameters(), lr=learning_rate, weight_decay=3e-2)\n",
        "scheduler = get_cosine_schedule_with_warmup(optimizer, num_epoch * len(train_loader) // 3, num_epoch * len(train_loader))\n",
        "# scheduler = get_linear_schedule_with_warmup(optimizer, num_epoch * len(train_loader) // 2, num_epoch * len(train_loader))\n",
        "# scheduler = get_cosine_with_hard_restarts_schedule_with_warmup(optimizer, num_warmup_steps=len(train_loader) // 2,\n",
        "#                                                                num_training_steps=num_epoch * len(train_loader), num_cycles=num_epoch+1)\n",
        "\n",
        "if fp16_training:\n",
        "    model, optimizer, train_loader = accelerator.prepare(model, optimizer, train_loader) \n",
        "\n",
        "model.train()\n",
        "\n",
        "print(\"Start Training ...\")\n",
        "best_dev_acc = 0.0\n",
        "early_stop_count = 0\n",
        "\n",
        "for epoch in range(num_epoch):\n",
        "    step = 1\n",
        "    train_loss = train_acc = 0\n",
        "    \n",
        "    for data in tqdm(train_loader):\t\n",
        "        # Load all data into GPU\n",
        "        data = [i.to(device) for i in data]\n",
        "        \n",
        "        # Model inputs: input_ids, token_type_ids, attention_mask, start_positions, end_positions (Note: only \"input_ids\" is mandatory)\n",
        "        # Model outputs: start_logits, end_logits, loss (return when start_positions/end_positions are provided)  \n",
        "        output = model(input_ids=data[0], token_type_ids=data[1], attention_mask=data[2], start_positions=data[3], end_positions=data[4])\n",
        "\n",
        "        # Choose the most probable start position / end position\n",
        "        start_index = torch.argmax(output.start_logits, dim=1)\n",
        "        end_index = torch.argmax(output.end_logits, dim=1)\n",
        "        \n",
        "        # Prediction is correct only if both start_index and end_index are correct\n",
        "        train_acc += ((start_index == data[3]) & (end_index == data[4])).float().mean()\n",
        "        train_loss += output.loss\n",
        "        \n",
        "        if fp16_training:\n",
        "            accelerator.backward(output.loss)\n",
        "        else:\n",
        "            output.loss.backward()\n",
        "        \n",
        "        if step % grad_acc_step == 0:\n",
        "            optimizer.step()\n",
        "            optimizer.zero_grad()\n",
        "        scheduler.step()\n",
        "        step += 1\n",
        "\n",
        "        ##### TODO: Apply linear learning rate decay #####\n",
        "        \n",
        "        \n",
        "        # Print training loss and accuracy over past logging step\n",
        "        if step % logging_step == 0:\n",
        "            print(f\"Epoch {epoch + 1} | Step {step} | learning rate = {optimizer.param_groups[0]['lr']:.3e}, loss = {train_loss.item() / logging_step:.3f}, acc = {train_acc / logging_step:.3f}\")\n",
        "            train_loss = train_acc = 0\n",
        "\n",
        "    if validation:\n",
        "        print(\"Evaluating Dev Set ...\")\n",
        "        model.eval()\n",
        "        with torch.no_grad():\n",
        "            dev_acc = 0\n",
        "            for i, data in enumerate(tqdm(dev_loader)):\n",
        "                output = model(input_ids=data[0].squeeze(dim=0).to(device), token_type_ids=data[1].squeeze(dim=0).to(device),\n",
        "                       attention_mask=data[2].squeeze(dim=0).to(device))\n",
        "                # prediction is correct only if answer text exactly matches\n",
        "                dev_acc += evaluate(data, output, dev_paragraphs[dev_questions[i][\"paragraph_id\"]]) == dev_questions[i][\"answer_text\"]\n",
        "            dev_acc /= len(dev_loader)\n",
        "            print(f\"Validation | Epoch {epoch + 1} | acc = {dev_acc:.3f}\")\n",
        "        if dev_acc > best_dev_acc:\n",
        "            best_dev_acc = dev_acc\n",
        "            print(\"Saving best model so far ...\")\n",
        "            model.save_pretrained(model_save_dir)\n",
        "            early_stop_count = 0\n",
        "        else:\n",
        "            early_stop_count += 1\n",
        "            \n",
        "        if early_stop_count > early_stop_patience:\n",
        "            print(f\"No improvements in the recent {early_stop_patience} epochs. So far the best model with validation acc={best_dev_acc:.3f}.\")\n",
        "            break\n",
        "            \n",
        "        model.train()\n",
        "\n",
        "# # Save a model and its configuration file to the directory 「saved_model」 \n",
        "# # i.e. there are two files under the direcory 「saved_model」: 「pytorch_model.bin」 and 「config.json」\n",
        "# # Saved model can be re-loaded using 「model = BertForQuestionAnswering.from_pretrained(\"saved_model\")」\n",
        "# print(\"Saving Model ...\")\n",
        "# model_save_dir = \"saved_model\" \n",
        "# model.save_pretrained(model_save_dir)"
      ]
    },
    {
      "cell_type": "markdown",
      "metadata": {
        "id": "kMmdLOKBMsdE"
      },
      "source": [
        "## Testing"
      ]
    },
    {
      "cell_type": "code",
      "execution_count": 13,
      "metadata": {
        "id": "U5scNKC9xz0C"
      },
      "outputs": [
        {
          "name": "stdout",
          "output_type": "stream",
          "text": [
            "Evaluating Test Set ...\n"
          ]
        },
        {
          "data": {
            "application/vnd.jupyter.widget-view+json": {
              "model_id": "b2eccc6cbf904d25a029e350244fc1ed",
              "version_major": 2,
              "version_minor": 0
            },
            "text/plain": [
              "  0%|          | 0/4957 [00:00<?, ?it/s]"
            ]
          },
          "metadata": {},
          "output_type": "display_data"
        },
        {
          "name": "stdout",
          "output_type": "stream",
          "text": [
            "Completed! Result is in result.csv\n"
          ]
        }
      ],
      "source": [
        "print(\"Evaluating Test Set ...\")\n",
        "\n",
        "model.from_pretrained(model_save_dir)\n",
        "\n",
        "result = []\n",
        "\n",
        "model.eval()\n",
        "with torch.no_grad():\n",
        "    i = 0\n",
        "    for data in tqdm(test_loader):\n",
        "        output = model(input_ids=data[0].squeeze(dim=0).to(device), token_type_ids=data[1].squeeze(dim=0).to(device),\n",
        "                       attention_mask=data[2].squeeze(dim=0).to(device))\n",
        "        ans = evaluate(data, output, test_paragraphs[test_questions[i][\"paragraph_id\"]])\n",
        "        result.append(ans)\n",
        "        i += 1\n",
        "\n",
        "result_file = \"result.csv\"\n",
        "with open(result_file, 'w') as f:\n",
        "    f.write(\"ID,Answer\\n\")\n",
        "    for i, test_question in enumerate(test_questions):\n",
        "        # Replace commas in answers with empty strings (since csv is separated by comma)\n",
        "        # Answers in kaggle are processed in the same way\n",
        "        f.write(f\"{test_question['id']},{result[i].replace(',','')}\\n\")\n",
        "\n",
        "print(f\"Completed! Result is in {result_file}\")"
      ]
    },
    {
      "cell_type": "code",
      "execution_count": null,
      "metadata": {},
      "outputs": [],
      "source": []
    }
  ],
  "metadata": {
    "accelerator": "GPU",
    "colab": {
      "collapsed_sections": [],
      "name": "ML2022Spring - HW7.ipynb",
      "provenance": []
    },
    "kernelspec": {
      "display_name": "Python 3",
      "name": "python3"
    },
    "language_info": {
      "codemirror_mode": {
        "name": "ipython",
        "version": 3
      },
      "file_extension": ".py",
      "mimetype": "text/x-python",
      "name": "python",
      "nbconvert_exporter": "python",
      "pygments_lexer": "ipython3",
      "version": "3.10.5"
    }
  },
  "nbformat": 4,
  "nbformat_minor": 0
}
