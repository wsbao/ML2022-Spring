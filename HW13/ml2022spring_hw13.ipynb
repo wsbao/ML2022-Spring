{
  "cells": [
    {
      "cell_type": "markdown",
      "metadata": {
        "id": "k_UqVZtpSz5Z"
      },
      "source": [
        "# Homework 13 - Network Compression\n",
        "\n",
        "Author: Liang-Hsuan Tseng (b07502072@ntu.edu.tw), modified from ML2021-HW13\n",
        "\n",
        "If you have any questions, feel free to ask: ntu-ml-2022spring-ta@googlegroups.com\n",
        "\n",
        "[**Link to HW13 Slides**](https://docs.google.com/presentation/d/1nCT9XrInF21B4qQAWuODy5sonKDnpGhjtcAwqa75mVU/edit#slide=id.p)"
      ]
    },
    {
      "cell_type": "markdown",
      "metadata": {
        "id": "kYKQ2_nzSz5c"
      },
      "source": [
        "## Outline\n",
        "\n",
        "* [Packages](#Packages) - intall some required packages.\n",
        "* [Dataset](#Dataset) - something you need to know about the dataset.\n",
        "* [Configs](#Configs) - the configs of the experiments, you can change some hyperparameters here.\n",
        "* [Architecture_Design](#Architecture_Design) - depthwise and pointwise convolution examples and some useful links.\n",
        "* [Knowledge_Distillation](#Knowledge_Distillation) - KL divergence loss for knowledge distillation and some useful links.\n",
        "* [Training](#Training) - training loop implementation modified from HW3.\n",
        "* [Inference](#Inference) - create submission.csv by using the student_best.ckpt from the previous experiment.\n",
        "\n"
      ]
    },
    {
      "cell_type": "markdown",
      "metadata": {
        "id": "-nyWIJEoSz5d"
      },
      "source": [
        "### Packages\n",
        "First, we need to import some useful packages. If the torchsummary package are not intalled, please install it via `pip install torchsummary`"
      ]
    },
    {
      "cell_type": "code",
      "execution_count": 1,
      "metadata": {
        "execution": {
          "iopub.execute_input": "2022-05-24T10:23:27.918416Z",
          "iopub.status.busy": "2022-05-24T10:23:27.917792Z",
          "iopub.status.idle": "2022-05-24T10:23:27.923861Z",
          "shell.execute_reply": "2022-05-24T10:23:27.923187Z",
          "shell.execute_reply.started": "2022-05-24T10:23:27.918372Z"
        },
        "id": "vj5hoKkNSz5e",
        "trusted": true
      },
      "outputs": [
        {
          "name": "stdout",
          "output_type": "stream",
          "text": [
            "Sun Jul 30 17:06:18 2023       \n",
            "+---------------------------------------------------------------------------------------+\n",
            "| NVIDIA-SMI 536.40                 Driver Version: 536.40       CUDA Version: 12.2     |\n",
            "|-----------------------------------------+----------------------+----------------------+\n",
            "| GPU  Name                     TCC/WDDM  | Bus-Id        Disp.A | Volatile Uncorr. ECC |\n",
            "| Fan  Temp   Perf          Pwr:Usage/Cap |         Memory-Usage | GPU-Util  Compute M. |\n",
            "|                                         |                      |               MIG M. |\n",
            "|=========================================+======================+======================|\n",
            "|   0  NVIDIA GeForce RTX 3080 ...  WDDM  | 00000000:01:00.0  On |                  N/A |\n",
            "| N/A   49C    P8              19W / 115W |   1124MiB / 16384MiB |     12%      Default |\n",
            "|                                         |                      |                  N/A |\n",
            "+-----------------------------------------+----------------------+----------------------+\n",
            "                                                                                         \n",
            "+---------------------------------------------------------------------------------------+\n",
            "| Processes:                                                                            |\n",
            "|  GPU   GI   CI        PID   Type   Process name                            GPU Memory |\n",
            "|        ID   ID                                                             Usage      |\n",
            "|=======================================================================================|\n",
            "|    0   N/A  N/A      3220    C+G   ...m Files\\Mozilla Firefox\\firefox.exe    N/A      |\n",
            "|    0   N/A  N/A      7084    C+G   ...nt.CBS_cw5n1h2txyewy\\SearchHost.exe    N/A      |\n",
            "|    0   N/A  N/A     10372    C+G   ...siveControlPanel\\SystemSettings.exe    N/A      |\n",
            "|    0   N/A  N/A     12000    C+G   ...2txyewy\\StartMenuExperienceHost.exe    N/A      |\n",
            "|    0   N/A  N/A     12072    C+G   ...61.0_x64__8wekyb3d8bbwe\\GameBar.exe    N/A      |\n",
            "|    0   N/A  N/A     12264    C+G   ...03.0_x64__8wekyb3d8bbwe\\Cortana.exe    N/A      |\n",
            "|    0   N/A  N/A     13868    C+G   ...286.0_x64__dt26b99r8h8gj\\RtkUWP.exe    N/A      |\n",
            "|    0   N/A  N/A     14704    C+G   ...4309\\office6\\promecefpluginhost.exe    N/A      |\n",
            "|    0   N/A  N/A     14844    C+G   ...m Files\\Mozilla Firefox\\firefox.exe    N/A      |\n",
            "|    0   N/A  N/A     14924    C+G   ...GeForce Experience\\NVIDIA Share.exe    N/A      |\n",
            "|    0   N/A  N/A     15108    C+G   ...ekyb3d8bbwe\\PhoneExperienceHost.exe    N/A      |\n",
            "|    0   N/A  N/A     15388    C+G   ...t.LockApp_cw5n1h2txyewy\\LockApp.exe    N/A      |\n",
            "|    0   N/A  N/A     17300    C+G   ...4309\\office6\\promecefpluginhost.exe    N/A      |\n",
            "|    0   N/A  N/A     17708    C+G   ...0.0_x64__w2gh52qy24etm\\Nahimic3.exe    N/A      |\n",
            "|    0   N/A  N/A     21932    C+G   ...am Files\\Microsoft VS Code\\Code.exe    N/A      |\n",
            "|    0   N/A  N/A     22116    C+G   C:\\Windows\\explorer.exe                   N/A      |\n",
            "|    0   N/A  N/A     24764    C+G   ...5n1h2txyewy\\ShellExperienceHost.exe    N/A      |\n",
            "|    0   N/A  N/A     25412    C+G   ...CBS_cw5n1h2txyewy\\TextInputHost.exe    N/A      |\n",
            "|    0   N/A  N/A     25864    C+G   ...1.0_x64__8wekyb3d8bbwe\\Video.UI.exe    N/A      |\n",
            "+---------------------------------------------------------------------------------------+\n"
          ]
        }
      ],
      "source": [
        "# Import some useful packages for this homework\n",
        "import numpy as np\n",
        "import pandas as pd\n",
        "import torch\n",
        "import os\n",
        "import torch.nn as nn\n",
        "import torch.nn.functional as F\n",
        "import torchvision.transforms as transforms\n",
        "from PIL import Image\n",
        "from torch.utils.data import ConcatDataset, DataLoader, Subset, Dataset # \"ConcatDataset\" and \"Subset\" are possibly useful\n",
        "from torchvision.datasets import DatasetFolder, VisionDataset\n",
        "from torchsummary import summary\n",
        "from tqdm.auto import tqdm\n",
        "import random\n",
        "\n",
        "# !nvidia-smi # list your current GPU\n",
        "!nvidia-smi"
      ]
    },
    {
      "cell_type": "markdown",
      "metadata": {
        "id": "LLkfmF7WSz5f"
      },
      "source": [
        "### Configs\n",
        "In this part, you can specify some variables and hyperparameters as your configs."
      ]
    },
    {
      "cell_type": "code",
      "execution_count": 2,
      "metadata": {
        "execution": {
          "iopub.execute_input": "2022-05-24T10:23:31.841156Z",
          "iopub.status.busy": "2022-05-24T10:23:31.840586Z",
          "iopub.status.idle": "2022-05-24T10:23:31.845766Z",
          "shell.execute_reply": "2022-05-24T10:23:31.844796Z",
          "shell.execute_reply.started": "2022-05-24T10:23:31.841116Z"
        },
        "id": "OtmYVkobSz5f",
        "trusted": true
      },
      "outputs": [],
      "source": [
        "cfg = {\n",
        "    'dataset_root': './food11-hw13',\n",
        "    'save_dir': './outputs',\n",
        "    'exp_name': \"strong_baseline\", # \"simple_baseline\",\n",
        "    'batch_size': 64,\n",
        "    'lr': 3e-4,\n",
        "    'seed': 20220013,\n",
        "    'loss_fn_type': 'KD', # 'CE', # simple baseline: CE, medium baseline: KD. See the Knowledge_Distillation part for more information.\n",
        "    'weight_decay': 1e-5,\n",
        "    'grad_norm_max': 10,\n",
        "    'n_epochs': 300, # train more steps to pass the medium baseline.\n",
        "    'patience': 300,\n",
        "    'temperature': 25.0, \n",
        "}"
      ]
    },
    {
      "cell_type": "code",
      "execution_count": 3,
      "metadata": {
        "colab": {
          "base_uri": "https://localhost:8080/"
        },
        "execution": {
          "iopub.execute_input": "2022-05-24T10:23:34.773042Z",
          "iopub.status.busy": "2022-05-24T10:23:34.772487Z",
          "iopub.status.idle": "2022-05-24T10:23:34.782290Z",
          "shell.execute_reply": "2022-05-24T10:23:34.781517Z",
          "shell.execute_reply.started": "2022-05-24T10:23:34.772995Z"
        },
        "id": "-hQgM5oQSz5g",
        "outputId": "f2a84b52-4a0c-443e-be31-db3107566cde",
        "trusted": true
      },
      "outputs": [
        {
          "name": "stdout",
          "output_type": "stream",
          "text": [
            "{'dataset_root': './food11-hw13', 'save_dir': './outputs', 'exp_name': 'strong_baseline', 'batch_size': 64, 'lr': 0.0003, 'seed': 20220013, 'loss_fn_type': 'KD', 'weight_decay': 1e-05, 'grad_norm_max': 10, 'n_epochs': 300, 'patience': 300, 'temperature': 25.0}\n"
          ]
        }
      ],
      "source": [
        "myseed = cfg['seed']  # set a random seed for reproducibility\n",
        "torch.backends.cudnn.deterministic = True\n",
        "torch.backends.cudnn.benchmark = False\n",
        "np.random.seed(myseed)\n",
        "torch.manual_seed(myseed)\n",
        "random.seed(myseed)\n",
        "if torch.cuda.is_available():\n",
        "    torch.cuda.manual_seed_all(myseed)\n",
        "\n",
        "save_path = os.path.join(cfg['save_dir'], cfg['exp_name']) # create saving directory\n",
        "os.makedirs(save_path, exist_ok=True)\n",
        "\n",
        "# define simple logging functionality\n",
        "log_fw = open(f\"{save_path}/log.txt\", 'w') # open log file to save log outputs\n",
        "def log(text):     # define a logging function to trace the training process\n",
        "    print(text)\n",
        "    log_fw.write(str(text)+'\\n')\n",
        "    log_fw.flush()\n",
        "\n",
        "log(cfg)  # log your configs to the log file"
      ]
    },
    {
      "cell_type": "markdown",
      "metadata": {
        "id": "oXAuqqkHSz5h"
      },
      "source": [
        "### Dataset\n",
        "We use Food11 dataset for this homework, which is similar to homework3. But remember, Please DO NOT utilize the dataset of HW3. We've modified the dataset, so you should only access the dataset by loading it in this kaggle notebook or through the links provided in the HW13 colab notebooks."
      ]
    },
    {
      "cell_type": "code",
      "execution_count": 4,
      "metadata": {
        "colab": {
          "base_uri": "https://localhost:8080/"
        },
        "id": "5ERoxWV4VM2K",
        "outputId": "4400363c-3c20-4c7c-e43a-137474c0f0db"
      },
      "outputs": [],
      "source": [
        "# # fetch and download the dataset from github (about 1.12G)\n",
        "# # !wget https://github.com/virginiakm1988/ML2022-Spring/raw/main/HW13/food11-hw13.tar.gz\n",
        "# ## backup links:\n",
        "\n",
        "# !wget https://github.com/andybi7676/ml2022spring-hw13/raw/main/food11-hw13.tar.gz -O food11-hw13.tar.gz\n",
        "# # !gdown '1ijKoNmpike_yjUw8SWRVVWVoMOXXqycj' --output food11-hw13.tar.gz"
      ]
    },
    {
      "cell_type": "code",
      "execution_count": 5,
      "metadata": {
        "id": "eAC22Jf1WxL9"
      },
      "outputs": [],
      "source": [
        "# # extract the data\n",
        "# !tar -xzf ./food11-hw13.tar.gz # Could take some time\n",
        "# # !tar -xzvf ./food11-hw13.tar.gz # use this command if you want to checkout the whole process."
      ]
    },
    {
      "cell_type": "code",
      "execution_count": 6,
      "metadata": {
        "_cell_guid": "b1076dfc-b9ad-4769-8c92-a6c4dae69d19",
        "_uuid": "8f2839f25d086af736a60e9eeb907d3b93b6e0e5",
        "colab": {
          "base_uri": "https://localhost:8080/"
        },
        "execution": {
          "iopub.execute_input": "2022-05-24T10:03:22.509792Z",
          "iopub.status.busy": "2022-05-24T10:03:22.50954Z",
          "iopub.status.idle": "2022-05-24T10:03:29.344989Z",
          "shell.execute_reply": "2022-05-24T10:03:29.344227Z",
          "shell.execute_reply.started": "2022-05-24T10:03:22.509758Z"
        },
        "id": "_CspVRJESz5h",
        "outputId": "731381fd-7b56-4dde-9d6e-caf8e18e6d11",
        "trusted": true
      },
      "outputs": [
        {
          "name": "stdout",
          "output_type": "stream",
          "text": [
            "./food11-hw13: 1 files.\n",
            "./food11-hw13\\evaluation: 3347 files.\n",
            "./food11-hw13\\training: 9866 files.\n",
            "./food11-hw13\\validation: 3430 files.\n"
          ]
        }
      ],
      "source": [
        "for dirname, _, filenames in os.walk('./food11-hw13'):\n",
        "    if len(filenames) > 0:\n",
        "        print(f\"{dirname}: {len(filenames)} files.\") # Show the file amounts in each split."
      ]
    },
    {
      "cell_type": "markdown",
      "metadata": {
        "id": "_J76I6bTSz5i"
      },
      "source": [
        "Next, specify train/test transform for image data augmentation.\n",
        "Torchvision provides lots of useful utilities for image preprocessing, data wrapping as well as data augmentation.\n",
        "\n",
        "Please refer to [PyTorch official website](https://pytorch.org/vision/stable/transforms.html) for details about different transforms. You can also apply the knowledge or experience you learned in HW3."
      ]
    },
    {
      "cell_type": "code",
      "execution_count": 7,
      "metadata": {
        "execution": {
          "iopub.execute_input": "2022-05-24T10:03:29.348041Z",
          "iopub.status.busy": "2022-05-24T10:03:29.347832Z",
          "iopub.status.idle": "2022-05-24T10:03:29.355565Z",
          "shell.execute_reply": "2022-05-24T10:03:29.354664Z",
          "shell.execute_reply.started": "2022-05-24T10:03:29.348014Z"
        },
        "id": "GYIvuK-RSz5i",
        "trusted": true
      },
      "outputs": [],
      "source": [
        "normalize = transforms.Normalize(mean=[0.485, 0.456, 0.406], std=[0.229, 0.224, 0.225])\n",
        "# define training/testing transforms\n",
        "test_tfm = transforms.Compose([\n",
        "    # It is not encouraged to modify this part if you are using the provided teacher model. This transform is stardard and good enough for testing.\n",
        "    transforms.Resize(256),\n",
        "    transforms.CenterCrop(224),\n",
        "    transforms.ToTensor(),\n",
        "    normalize,\n",
        "])\n",
        "\n",
        "train_tfm = transforms.Compose([\n",
        "    # add some useful transform or augmentation here, according to your experience in HW3.\n",
        "    transforms.Resize(256),  # You can change this\n",
        "    transforms.CenterCrop(224), # You can change this, but be aware of that the given teacher model's input size is 224.\n",
        "    # The training input size of the provided teacher model is (3, 224, 224).\n",
        "    # Thus, Input size other then 224 might hurt the performance. please be careful.\n",
        "    transforms.RandomHorizontalFlip(), # You can change this.\n",
        "    transforms.AutoAugment(),\n",
        "    transforms.ToTensor(),\n",
        "    normalize,\n",
        "])"
      ]
    },
    {
      "cell_type": "code",
      "execution_count": 8,
      "metadata": {
        "execution": {
          "iopub.execute_input": "2022-05-24T10:03:29.357325Z",
          "iopub.status.busy": "2022-05-24T10:03:29.35682Z",
          "iopub.status.idle": "2022-05-24T10:03:29.370053Z",
          "shell.execute_reply": "2022-05-24T10:03:29.369273Z",
          "shell.execute_reply.started": "2022-05-24T10:03:29.357285Z"
        },
        "id": "SsYOy-PBSz5i",
        "trusted": true
      },
      "outputs": [],
      "source": [
        "class FoodDataset(Dataset):\n",
        "    def __init__(self, path, tfm=test_tfm, files = None):\n",
        "        super().__init__()\n",
        "        self.path = path\n",
        "        self.files = sorted([os.path.join(path,x) for x in os.listdir(path) if x.endswith(\".jpg\")])\n",
        "        if files != None:\n",
        "            self.files = files\n",
        "        print(f\"One {path} sample\",self.files[0])\n",
        "        self.transform = tfm\n",
        "\n",
        "    def __len__(self):\n",
        "        return len(self.files)\n",
        "\n",
        "    def __getitem__(self,idx):\n",
        "        fname = self.files[idx]\n",
        "        im = Image.open(fname)\n",
        "        im = self.transform(im)\n",
        "        try:\n",
        "            # label = int(fname.split(\"/\")[-1].split(\"_\")[0])\n",
        "            label = int(os.path.basename(fname).split(\"_\")[0])\n",
        "        except:\n",
        "            label = -1 # test has no label\n",
        "        return im,label"
      ]
    },
    {
      "cell_type": "code",
      "execution_count": 9,
      "metadata": {
        "colab": {
          "base_uri": "https://localhost:8080/"
        },
        "execution": {
          "iopub.execute_input": "2022-05-24T10:03:29.373093Z",
          "iopub.status.busy": "2022-05-24T10:03:29.372379Z",
          "iopub.status.idle": "2022-05-24T10:03:29.417511Z",
          "shell.execute_reply": "2022-05-24T10:03:29.416795Z",
          "shell.execute_reply.started": "2022-05-24T10:03:29.373057Z"
        },
        "id": "PUl030elSz5j",
        "outputId": "b4624cba-ed40-4371-86d2-94dc8fa8faf0",
        "trusted": true
      },
      "outputs": [
        {
          "name": "stdout",
          "output_type": "stream",
          "text": [
            "One ./food11-hw13\\training sample ./food11-hw13\\training\\0_0.jpg\n",
            "One ./food11-hw13\\validation sample ./food11-hw13\\validation\\0_0.jpg\n"
          ]
        }
      ],
      "source": [
        "# Form train/valid dataloaders\n",
        "train_set = FoodDataset(os.path.join(cfg['dataset_root'],\"training\"), tfm=train_tfm)\n",
        "train_loader = DataLoader(train_set, batch_size=cfg['batch_size'], shuffle=True, num_workers=0, pin_memory=True)\n",
        "\n",
        "valid_set = FoodDataset(os.path.join(cfg['dataset_root'], \"validation\"), tfm=test_tfm)\n",
        "valid_loader = DataLoader(valid_set, batch_size=cfg['batch_size'], shuffle=False, num_workers=0, pin_memory=True)"
      ]
    },
    {
      "cell_type": "markdown",
      "metadata": {
        "id": "Kna5Gp_eSz5j"
      },
      "source": [
        "### Architecture_Design\n",
        "\n",
        "In this homework, you have to design a smaller network and make it perform well. Apparently, a well-designed architecture is crucial for such task. Here, we introduce the depthwise and pointwise convolution. These variants of convolution are some common techniques for architecture design when it comes to network compression.\n",
        "\n",
        "<img src=\"https://i.imgur.com/LFDKHOp.png\" width=400px>\n",
        "\n",
        "* explanation of depthwise and pointwise convolutions:\n",
        "    * [prof. Hung-yi Lee's slides(p.24~p.30, especially p.28)](https://speech.ee.ntu.edu.tw/~hylee/ml/ml2021-course-data/tiny_v7.pdf)"
      ]
    },
    {
      "cell_type": "code",
      "execution_count": 10,
      "metadata": {
        "execution": {
          "iopub.execute_input": "2022-05-24T10:03:29.418928Z",
          "iopub.status.busy": "2022-05-24T10:03:29.418659Z",
          "iopub.status.idle": "2022-05-24T10:03:29.423565Z",
          "shell.execute_reply": "2022-05-24T10:03:29.422893Z",
          "shell.execute_reply.started": "2022-05-24T10:03:29.418894Z"
        },
        "id": "chLDiavKSz5j",
        "trusted": true
      },
      "outputs": [],
      "source": [
        "# Example implementation of Depthwise and Pointwise Convolution\n",
        "def dwpw_conv(in_channels, out_channels, kernel_size, stride=1, padding=0, bias=True):\n",
        "    return nn.Sequential(\n",
        "        nn.Conv2d(in_channels, in_channels, kernel_size, stride=stride, padding=padding, groups=in_channels, bias=bias), #depthwise convolution\n",
        "        nn.BatchNorm2d(in_channels),\n",
        "        nn.ReLU(inplace=True),\n",
        "        nn.Conv2d(in_channels, out_channels, 1, bias=bias), # pointwise convolution\n",
        "        nn.BatchNorm2d(out_channels),\n",
        "        nn.ReLU(inplace=True),\n",
        "    )\n",
        "    \n",
        "# class BasicDWPWConvResBlock(nn.Module):\n",
        "#     def __init__(\n",
        "#         self,\n",
        "#         in_channels: int,\n",
        "#         out_channels: int,\n",
        "#         stride: int = 1,\n",
        "#         expansion: int = 1,\n",
        "#         downsample: nn.Module = None,\n",
        "#     ) -> None:\n",
        "#         super(BasicDWPWConvResBlock, self).__init__()\n",
        "#         self.expansion = expansion\n",
        "#         self.downsample = downsample\n",
        "#         self.dwpw_conv1 = dwpw_conv(in_channels, out_channels, kernel_size=3, stride=stride, padding=1, bias=False)\n",
        "#         self.bn1 = nn.BatchNorm2d(out_channels)\n",
        "#         self.relu = nn.ReLU(inplace=True)\n",
        "#         # self.dwpw_conv2 = dwpw_conv(out_channels, out_channels * self.expansion, kernel_size=3, padding=1, bias=False)\n",
        "#         # self.bn2 = nn.BatchNorm2d(out_channels * self.expansion)\n",
        "    \n",
        "#     def forward(self, x: torch.Tensor) -> torch.Tensor:\n",
        "#         identity = x\n",
        "        \n",
        "#         out = self.dwpw_conv1(x)\n",
        "#         out = self.bn1(out)\n",
        "#         # out = self.relu(out)\n",
        "        \n",
        "#         # out = self.dwpw_conv2(out)\n",
        "#         # out = self.bn2(out)\n",
        "        \n",
        "#         if self.downsample is not None:\n",
        "#             identity = self.downsample(x)\n",
        "        \n",
        "#         out += identity\n",
        "#         out = self.relu(out)\n",
        "        \n",
        "#         return out"
      ]
    },
    {
      "cell_type": "markdown",
      "metadata": {
        "id": "NfXa-ZBRSz5k"
      },
      "source": [
        "* other useful techniques\n",
        "    * [group convolution](https://www.researchgate.net/figure/The-transformations-within-a-layer-in-DenseNets-left-and-CondenseNets-at-training-time_fig2_321325862) (Actually, depthwise convolution is a specific type of group convolution)\n",
        "    * [SqueezeNet](!https://arxiv.org/abs/1602.07360)\n",
        "    * [MobileNet](!https://arxiv.org/abs/1704.04861)\n",
        "    * [ShuffleNet](!https://arxiv.org/abs/1707.01083)\n",
        "    * [Xception](!https://arxiv.org/abs/1610.02357)\n",
        "    * [GhostNet](!https://arxiv.org/abs/1911.11907)\n"
      ]
    },
    {
      "cell_type": "markdown",
      "metadata": {
        "id": "wo4hrDDESz5k"
      },
      "source": [
        "After introducing depthwise and pointwise convolutions, let's define the **student network architecture**. Here, we have a very simple network formed by some regular convolution layers and pooling layers. You can replace the regular convolution layers with the depthwise and pointwise convolutions. In this way, you can further increase the depth or the width of your network architecture."
      ]
    },
    {
      "cell_type": "code",
      "execution_count": 11,
      "metadata": {
        "execution": {
          "iopub.execute_input": "2022-05-24T10:03:29.426336Z",
          "iopub.status.busy": "2022-05-24T10:03:29.42593Z",
          "iopub.status.idle": "2022-05-24T10:03:29.437629Z",
          "shell.execute_reply": "2022-05-24T10:03:29.436773Z",
          "shell.execute_reply.started": "2022-05-24T10:03:29.426299Z"
        },
        "id": "DTin50J3Sz5k",
        "trusted": true
      },
      "outputs": [],
      "source": [
        "# Define your student network here. You have to copy-paste this code block to HW13 GradeScope before deadline.\n",
        "# We will use your student network definition to evaluate your results(including the total parameter amount).\n",
        "\n",
        "class StudentNet(nn.Module):\n",
        "    def __init__(self):\n",
        "      super(StudentNet, self).__init__()\n",
        "      \n",
        "      # self.dwpw_conv1 = dwpw_conv(\n",
        "      #   in_channels=3,\n",
        "      #   out_channels=64,\n",
        "      #   kernel_size=7,\n",
        "      #   stride=2,\n",
        "      #   padding=3,\n",
        "      #   bias=False,\n",
        "      # )\n",
        "      self.conv1 = nn.Conv2d(3, 64, kernel_size=7, stride=2, padding=3, bias=False)\n",
        "      self.bn1 = nn.BatchNorm2d(64)\n",
        "      self.relu = nn.ReLU(inplace=True)\n",
        "      self.maxpool = nn.MaxPool2d(kernel_size=3, stride=2, padding=1)\n",
        "      \n",
        "      self.layer1 = dwpw_conv(64, 64, kernel_size=3, padding=1, bias=False)\n",
        "      self.layer2 = dwpw_conv(64, 128, kernel_size=3, stride=2, padding=1, bias=False)\n",
        "      self.layer3 = dwpw_conv(128, 256, kernel_size=3, stride=2, padding=1, bias=False)\n",
        "      self.layer4 = dwpw_conv(256, 144, kernel_size=3, stride=2, padding=1, bias=False)\n",
        "      \n",
        "      # self.layer1 = self._make_layer(BasicDWPWConvResBlock, 64, 1)\n",
        "      # self.layer2 = self._make_layer(BasicDWPWConvResBlock, 128, 1, stride=2)\n",
        "      # self.layer3 = self._make_layer(BasicDWPWConvResBlock, 256, 1, stride=2)\n",
        "      # self.layer4 = self._make_layer(BasicDWPWConvResBlock, 512, 1, stride=2)\n",
        "      \n",
        "      self.avgpool = nn.AdaptiveAvgPool2d((1, 1))\n",
        "      self.fc = nn.Linear(144, 11)\n",
        "      \n",
        "      # ---------- TODO ----------\n",
        "      # Modify your model architecture\n",
        "\n",
        "      # self.cnn = nn.Sequential(\n",
        "      #   nn.Conv2d(3, 32, 3),\n",
        "      #   nn.BatchNorm2d(32),\n",
        "      #   nn.ReLU(),\n",
        "      #   nn.Conv2d(32, 32, 3),\n",
        "      #   nn.BatchNorm2d(32),\n",
        "      #   nn.ReLU(),\n",
        "      #   nn.MaxPool2d(2, 2, 0),\n",
        "\n",
        "      #   nn.Conv2d(32, 64, 3),\n",
        "      #   nn.BatchNorm2d(64),\n",
        "      #   nn.ReLU(),\n",
        "      #   nn.MaxPool2d(2, 2, 0),\n",
        "\n",
        "      #   nn.Conv2d(64, 100, 3),\n",
        "      #   nn.BatchNorm2d(100),\n",
        "      #   nn.ReLU(),\n",
        "      #   nn.MaxPool2d(2, 2, 0),\n",
        "\n",
        "      #   # Here we adopt Global Average Pooling for various input size.\n",
        "      #   nn.AdaptiveAvgPool2d((1, 1)),\n",
        "      # )\n",
        "      # self.fc = nn.Sequential(\n",
        "      #   nn.Linear(100, 11),\n",
        "      # )\n",
        "      \n",
        "\n",
        "    # def _make_layer(\n",
        "    #   self,\n",
        "    #   block: type[BasicDWPWConvResBlock],\n",
        "    #   out_channels: int,\n",
        "    #   n_blocks: int,\n",
        "    #   stride: int = 1,\n",
        "    # ) -> nn.Sequential:\n",
        "    #   downsample = None\n",
        "    #   if stride != 1:\n",
        "    #     downsample = nn.Sequential(\n",
        "    #       dwpw_conv(\n",
        "    #         self.in_channels,\n",
        "    #         out_channels,\n",
        "    #         kernel_size=1,\n",
        "    #         stride=stride,\n",
        "    #         bias=False,\n",
        "    #       ),\n",
        "    #       nn.BatchNorm2d(out_channels),\n",
        "    #     )\n",
        "    #   layers = []\n",
        "    #   layers.append(\n",
        "    #     block(\n",
        "    #       self.in_channels, out_channels, stride=stride, downsample=downsample,\n",
        "    #     )\n",
        "    #   )\n",
        "    #   self.in_channels = out_channels\n",
        "      \n",
        "    #   for _ in range(1, n_blocks):\n",
        "    #     layers.append(\n",
        "    #       block(\n",
        "    #         self.in_channels,\n",
        "    #         out_channels,\n",
        "    #       )\n",
        "    #     )\n",
        "    #   return nn.Sequential(*layers)\n",
        "      \n",
        "\n",
        "    def forward(self, x: torch.Tensor) -> torch.Tensor:\n",
        "      # x = self.dwpw_conv1(x)\n",
        "      x = self.conv1(x)\n",
        "      x = self.bn1(x)\n",
        "      x = self.relu(x)\n",
        "      x = self.maxpool(x)\n",
        "      \n",
        "      x = self.layer1(x)\n",
        "      x = self.layer2(x)\n",
        "      x = self.layer3(x)\n",
        "      x = self.layer4(x)\n",
        "      \n",
        "      x = self.avgpool(x)\n",
        "      x = torch.flatten(x, 1)\n",
        "      \n",
        "      x = self.fc(x)\n",
        "      \n",
        "      return x\n",
        "    \n",
        "      # out = self.cnn(x)\n",
        "      # out = out.view(out.size()[0], -1)\n",
        "      # return self.fc(out)\n",
        "\n",
        "def get_student_model(): # This function should have no arguments so that we can get your student network by directly calling it.\n",
        "    # you can modify or do anything here, just remember to return an nn.Module as your student network.\n",
        "    return StudentNet()\n",
        "\n",
        "# End of definition of your student model and the get_student_model API\n",
        "# Please copy-paste the whole code block, including the get_student_model function."
      ]
    },
    {
      "cell_type": "markdown",
      "metadata": {
        "id": "w99ooIeOSz5k"
      },
      "source": [
        "After specifying the student network architecture, please use `torchsummary` package to get information about the network and verify the total number of parameters. Note that the total params of your student network should not exceed the limit (`Total params` in `torchsummary` ≤ 100,000)."
      ]
    },
    {
      "cell_type": "code",
      "execution_count": 12,
      "metadata": {
        "colab": {
          "base_uri": "https://localhost:8080/"
        },
        "execution": {
          "iopub.execute_input": "2022-05-24T10:03:29.439472Z",
          "iopub.status.busy": "2022-05-24T10:03:29.43901Z",
          "iopub.status.idle": "2022-05-24T10:03:29.725131Z",
          "shell.execute_reply": "2022-05-24T10:03:29.72441Z",
          "shell.execute_reply.started": "2022-05-24T10:03:29.439437Z"
        },
        "id": "ef3hT8W2Sz5k",
        "outputId": "9d61fd64-9365-4acf-b64d-29c36cad84da",
        "trusted": true
      },
      "outputs": [
        {
          "name": "stdout",
          "output_type": "stream",
          "text": [
            "==========================================================================================\n",
            "Layer (type:depth-idx)                   Output Shape              Param #\n",
            "==========================================================================================\n",
            "├─Conv2d: 1-1                            [-1, 64, 112, 112]        9,408\n",
            "├─BatchNorm2d: 1-2                       [-1, 64, 112, 112]        128\n",
            "├─ReLU: 1-3                              [-1, 64, 112, 112]        --\n",
            "├─MaxPool2d: 1-4                         [-1, 64, 56, 56]          --\n",
            "├─Sequential: 1-5                        [-1, 64, 56, 56]          --\n",
            "|    └─Conv2d: 2-1                       [-1, 64, 56, 56]          576\n",
            "|    └─BatchNorm2d: 2-2                  [-1, 64, 56, 56]          128\n",
            "|    └─ReLU: 2-3                         [-1, 64, 56, 56]          --\n",
            "|    └─Conv2d: 2-4                       [-1, 64, 56, 56]          4,096\n",
            "|    └─BatchNorm2d: 2-5                  [-1, 64, 56, 56]          128\n",
            "|    └─ReLU: 2-6                         [-1, 64, 56, 56]          --\n",
            "├─Sequential: 1-6                        [-1, 128, 28, 28]         --\n",
            "|    └─Conv2d: 2-7                       [-1, 64, 28, 28]          576\n",
            "|    └─BatchNorm2d: 2-8                  [-1, 64, 28, 28]          128\n",
            "|    └─ReLU: 2-9                         [-1, 64, 28, 28]          --\n",
            "|    └─Conv2d: 2-10                      [-1, 128, 28, 28]         8,192\n",
            "|    └─BatchNorm2d: 2-11                 [-1, 128, 28, 28]         256\n",
            "|    └─ReLU: 2-12                        [-1, 128, 28, 28]         --\n",
            "├─Sequential: 1-7                        [-1, 256, 14, 14]         --\n",
            "|    └─Conv2d: 2-13                      [-1, 128, 14, 14]         1,152\n",
            "|    └─BatchNorm2d: 2-14                 [-1, 128, 14, 14]         256\n",
            "|    └─ReLU: 2-15                        [-1, 128, 14, 14]         --\n",
            "|    └─Conv2d: 2-16                      [-1, 256, 14, 14]         32,768\n",
            "|    └─BatchNorm2d: 2-17                 [-1, 256, 14, 14]         512\n",
            "|    └─ReLU: 2-18                        [-1, 256, 14, 14]         --\n",
            "├─Sequential: 1-8                        [-1, 144, 7, 7]           --\n",
            "|    └─Conv2d: 2-19                      [-1, 256, 7, 7]           2,304\n",
            "|    └─BatchNorm2d: 2-20                 [-1, 256, 7, 7]           512\n",
            "|    └─ReLU: 2-21                        [-1, 256, 7, 7]           --\n",
            "|    └─Conv2d: 2-22                      [-1, 144, 7, 7]           36,864\n",
            "|    └─BatchNorm2d: 2-23                 [-1, 144, 7, 7]           288\n",
            "|    └─ReLU: 2-24                        [-1, 144, 7, 7]           --\n",
            "├─AdaptiveAvgPool2d: 1-9                 [-1, 144, 1, 1]           --\n",
            "├─Linear: 1-10                           [-1, 11]                  1,595\n",
            "==========================================================================================\n",
            "Total params: 99,867\n",
            "Trainable params: 99,867\n",
            "Non-trainable params: 0\n",
            "Total mult-adds (M): 148.20\n",
            "==========================================================================================\n",
            "Input size (MB): 0.57\n",
            "Forward/backward pass size (MB): 22.12\n",
            "Params size (MB): 0.38\n",
            "Estimated Total Size (MB): 23.07\n",
            "==========================================================================================\n"
          ]
        },
        {
          "data": {
            "text/plain": [
              "==========================================================================================\n",
              "Layer (type:depth-idx)                   Output Shape              Param #\n",
              "==========================================================================================\n",
              "├─Conv2d: 1-1                            [-1, 64, 112, 112]        9,408\n",
              "├─BatchNorm2d: 1-2                       [-1, 64, 112, 112]        128\n",
              "├─ReLU: 1-3                              [-1, 64, 112, 112]        --\n",
              "├─MaxPool2d: 1-4                         [-1, 64, 56, 56]          --\n",
              "├─Sequential: 1-5                        [-1, 64, 56, 56]          --\n",
              "|    └─Conv2d: 2-1                       [-1, 64, 56, 56]          576\n",
              "|    └─BatchNorm2d: 2-2                  [-1, 64, 56, 56]          128\n",
              "|    └─ReLU: 2-3                         [-1, 64, 56, 56]          --\n",
              "|    └─Conv2d: 2-4                       [-1, 64, 56, 56]          4,096\n",
              "|    └─BatchNorm2d: 2-5                  [-1, 64, 56, 56]          128\n",
              "|    └─ReLU: 2-6                         [-1, 64, 56, 56]          --\n",
              "├─Sequential: 1-6                        [-1, 128, 28, 28]         --\n",
              "|    └─Conv2d: 2-7                       [-1, 64, 28, 28]          576\n",
              "|    └─BatchNorm2d: 2-8                  [-1, 64, 28, 28]          128\n",
              "|    └─ReLU: 2-9                         [-1, 64, 28, 28]          --\n",
              "|    └─Conv2d: 2-10                      [-1, 128, 28, 28]         8,192\n",
              "|    └─BatchNorm2d: 2-11                 [-1, 128, 28, 28]         256\n",
              "|    └─ReLU: 2-12                        [-1, 128, 28, 28]         --\n",
              "├─Sequential: 1-7                        [-1, 256, 14, 14]         --\n",
              "|    └─Conv2d: 2-13                      [-1, 128, 14, 14]         1,152\n",
              "|    └─BatchNorm2d: 2-14                 [-1, 128, 14, 14]         256\n",
              "|    └─ReLU: 2-15                        [-1, 128, 14, 14]         --\n",
              "|    └─Conv2d: 2-16                      [-1, 256, 14, 14]         32,768\n",
              "|    └─BatchNorm2d: 2-17                 [-1, 256, 14, 14]         512\n",
              "|    └─ReLU: 2-18                        [-1, 256, 14, 14]         --\n",
              "├─Sequential: 1-8                        [-1, 144, 7, 7]           --\n",
              "|    └─Conv2d: 2-19                      [-1, 256, 7, 7]           2,304\n",
              "|    └─BatchNorm2d: 2-20                 [-1, 256, 7, 7]           512\n",
              "|    └─ReLU: 2-21                        [-1, 256, 7, 7]           --\n",
              "|    └─Conv2d: 2-22                      [-1, 144, 7, 7]           36,864\n",
              "|    └─BatchNorm2d: 2-23                 [-1, 144, 7, 7]           288\n",
              "|    └─ReLU: 2-24                        [-1, 144, 7, 7]           --\n",
              "├─AdaptiveAvgPool2d: 1-9                 [-1, 144, 1, 1]           --\n",
              "├─Linear: 1-10                           [-1, 11]                  1,595\n",
              "==========================================================================================\n",
              "Total params: 99,867\n",
              "Trainable params: 99,867\n",
              "Non-trainable params: 0\n",
              "Total mult-adds (M): 148.20\n",
              "==========================================================================================\n",
              "Input size (MB): 0.57\n",
              "Forward/backward pass size (MB): 22.12\n",
              "Params size (MB): 0.38\n",
              "Estimated Total Size (MB): 23.07\n",
              "=========================================================================================="
            ]
          },
          "execution_count": 12,
          "metadata": {},
          "output_type": "execute_result"
        }
      ],
      "source": [
        "# DO NOT modify this block and please make sure that this block can run sucessfully.\n",
        "student_model = get_student_model()\n",
        "summary(student_model, (3, 224, 224), device='cpu')\n",
        "# You have to copy&paste the results of this block to HW13 GradeScope."
      ]
    },
    {
      "cell_type": "code",
      "execution_count": 13,
      "metadata": {
        "colab": {
          "base_uri": "https://localhost:8080/"
        },
        "execution": {
          "iopub.execute_input": "2022-05-24T10:03:29.727038Z",
          "iopub.status.busy": "2022-05-24T10:03:29.72678Z",
          "iopub.status.idle": "2022-05-24T10:03:34.185327Z",
          "shell.execute_reply": "2022-05-24T10:03:34.184566Z",
          "shell.execute_reply.started": "2022-05-24T10:03:29.727002Z"
        },
        "id": "EMsCeYkeSz5l",
        "outputId": "3a483977-50f6-4451-be9e-1024624adc80",
        "trusted": true
      },
      "outputs": [
        {
          "name": "stdout",
          "output_type": "stream",
          "text": [
            "==========================================================================================\n",
            "Layer (type:depth-idx)                   Output Shape              Param #\n",
            "==========================================================================================\n",
            "├─Conv2d: 1-1                            [-1, 64, 112, 112]        9,408\n",
            "├─BatchNorm2d: 1-2                       [-1, 64, 112, 112]        128\n",
            "├─ReLU: 1-3                              [-1, 64, 112, 112]        --\n",
            "├─MaxPool2d: 1-4                         [-1, 64, 56, 56]          --\n",
            "├─Sequential: 1-5                        [-1, 64, 56, 56]          --\n",
            "|    └─BasicBlock: 2-1                   [-1, 64, 56, 56]          --\n",
            "|    |    └─Conv2d: 3-1                  [-1, 64, 56, 56]          36,864\n",
            "|    |    └─BatchNorm2d: 3-2             [-1, 64, 56, 56]          128\n",
            "|    |    └─ReLU: 3-3                    [-1, 64, 56, 56]          --\n",
            "|    |    └─Conv2d: 3-4                  [-1, 64, 56, 56]          36,864\n",
            "|    |    └─BatchNorm2d: 3-5             [-1, 64, 56, 56]          128\n",
            "|    |    └─ReLU: 3-6                    [-1, 64, 56, 56]          --\n",
            "|    └─BasicBlock: 2-2                   [-1, 64, 56, 56]          --\n",
            "|    |    └─Conv2d: 3-7                  [-1, 64, 56, 56]          36,864\n",
            "|    |    └─BatchNorm2d: 3-8             [-1, 64, 56, 56]          128\n",
            "|    |    └─ReLU: 3-9                    [-1, 64, 56, 56]          --\n",
            "|    |    └─Conv2d: 3-10                 [-1, 64, 56, 56]          36,864\n",
            "|    |    └─BatchNorm2d: 3-11            [-1, 64, 56, 56]          128\n",
            "|    |    └─ReLU: 3-12                   [-1, 64, 56, 56]          --\n",
            "├─Sequential: 1-6                        [-1, 128, 28, 28]         --\n",
            "|    └─BasicBlock: 2-3                   [-1, 128, 28, 28]         --\n",
            "|    |    └─Conv2d: 3-13                 [-1, 128, 28, 28]         73,728\n",
            "|    |    └─BatchNorm2d: 3-14            [-1, 128, 28, 28]         256\n",
            "|    |    └─ReLU: 3-15                   [-1, 128, 28, 28]         --\n",
            "|    |    └─Conv2d: 3-16                 [-1, 128, 28, 28]         147,456\n",
            "|    |    └─BatchNorm2d: 3-17            [-1, 128, 28, 28]         256\n",
            "|    |    └─Sequential: 3-18             [-1, 128, 28, 28]         8,448\n",
            "|    |    └─ReLU: 3-19                   [-1, 128, 28, 28]         --\n",
            "|    └─BasicBlock: 2-4                   [-1, 128, 28, 28]         --\n",
            "|    |    └─Conv2d: 3-20                 [-1, 128, 28, 28]         147,456\n",
            "|    |    └─BatchNorm2d: 3-21            [-1, 128, 28, 28]         256\n",
            "|    |    └─ReLU: 3-22                   [-1, 128, 28, 28]         --\n",
            "|    |    └─Conv2d: 3-23                 [-1, 128, 28, 28]         147,456\n",
            "|    |    └─BatchNorm2d: 3-24            [-1, 128, 28, 28]         256\n",
            "|    |    └─ReLU: 3-25                   [-1, 128, 28, 28]         --\n",
            "├─Sequential: 1-7                        [-1, 256, 14, 14]         --\n",
            "|    └─BasicBlock: 2-5                   [-1, 256, 14, 14]         --\n",
            "|    |    └─Conv2d: 3-26                 [-1, 256, 14, 14]         294,912\n",
            "|    |    └─BatchNorm2d: 3-27            [-1, 256, 14, 14]         512\n",
            "|    |    └─ReLU: 3-28                   [-1, 256, 14, 14]         --\n",
            "|    |    └─Conv2d: 3-29                 [-1, 256, 14, 14]         589,824\n",
            "|    |    └─BatchNorm2d: 3-30            [-1, 256, 14, 14]         512\n",
            "|    |    └─Sequential: 3-31             [-1, 256, 14, 14]         33,280\n",
            "|    |    └─ReLU: 3-32                   [-1, 256, 14, 14]         --\n",
            "|    └─BasicBlock: 2-6                   [-1, 256, 14, 14]         --\n",
            "|    |    └─Conv2d: 3-33                 [-1, 256, 14, 14]         589,824\n",
            "|    |    └─BatchNorm2d: 3-34            [-1, 256, 14, 14]         512\n",
            "|    |    └─ReLU: 3-35                   [-1, 256, 14, 14]         --\n",
            "|    |    └─Conv2d: 3-36                 [-1, 256, 14, 14]         589,824\n",
            "|    |    └─BatchNorm2d: 3-37            [-1, 256, 14, 14]         512\n",
            "|    |    └─ReLU: 3-38                   [-1, 256, 14, 14]         --\n",
            "├─Sequential: 1-8                        [-1, 512, 7, 7]           --\n",
            "|    └─BasicBlock: 2-7                   [-1, 512, 7, 7]           --\n",
            "|    |    └─Conv2d: 3-39                 [-1, 512, 7, 7]           1,179,648\n",
            "|    |    └─BatchNorm2d: 3-40            [-1, 512, 7, 7]           1,024\n",
            "|    |    └─ReLU: 3-41                   [-1, 512, 7, 7]           --\n",
            "|    |    └─Conv2d: 3-42                 [-1, 512, 7, 7]           2,359,296\n",
            "|    |    └─BatchNorm2d: 3-43            [-1, 512, 7, 7]           1,024\n",
            "|    |    └─Sequential: 3-44             [-1, 512, 7, 7]           132,096\n",
            "|    |    └─ReLU: 3-45                   [-1, 512, 7, 7]           --\n",
            "|    └─BasicBlock: 2-8                   [-1, 512, 7, 7]           --\n",
            "|    |    └─Conv2d: 3-46                 [-1, 512, 7, 7]           2,359,296\n",
            "|    |    └─BatchNorm2d: 3-47            [-1, 512, 7, 7]           1,024\n",
            "|    |    └─ReLU: 3-48                   [-1, 512, 7, 7]           --\n",
            "|    |    └─Conv2d: 3-49                 [-1, 512, 7, 7]           2,359,296\n",
            "|    |    └─BatchNorm2d: 3-50            [-1, 512, 7, 7]           1,024\n",
            "|    |    └─ReLU: 3-51                   [-1, 512, 7, 7]           --\n",
            "├─AdaptiveAvgPool2d: 1-9                 [-1, 512, 1, 1]           --\n",
            "├─Linear: 1-10                           [-1, 11]                  5,643\n",
            "==========================================================================================\n",
            "Total params: 11,182,155\n",
            "Trainable params: 11,182,155\n",
            "Non-trainable params: 0\n",
            "Total mult-adds (G): 1.84\n",
            "==========================================================================================\n",
            "Input size (MB): 0.57\n",
            "Forward/backward pass size (MB): 37.90\n",
            "Params size (MB): 42.66\n",
            "Estimated Total Size (MB): 81.13\n",
            "==========================================================================================\n"
          ]
        },
        {
          "name": "stderr",
          "output_type": "stream",
          "text": [
            "Using cache found in C:\\Users\\Wei-shun Bao/.cache\\torch\\hub\\pytorch_vision_v0.10.0\n",
            "d:\\miniforge3\\envs\\machine-learning\\lib\\site-packages\\torchvision\\models\\_utils.py:208: UserWarning: The parameter 'pretrained' is deprecated since 0.13 and will be removed in 0.15, please use 'weights' instead.\n",
            "  warnings.warn(\n",
            "d:\\miniforge3\\envs\\machine-learning\\lib\\site-packages\\torchvision\\models\\_utils.py:223: UserWarning: Arguments other than a weight enum or `None` for 'weights' are deprecated since 0.13 and will be removed in 0.15. The current behavior is equivalent to passing `weights=None`.\n",
            "  warnings.warn(msg)\n"
          ]
        },
        {
          "data": {
            "text/plain": [
              "==========================================================================================\n",
              "Layer (type:depth-idx)                   Output Shape              Param #\n",
              "==========================================================================================\n",
              "├─Conv2d: 1-1                            [-1, 64, 112, 112]        9,408\n",
              "├─BatchNorm2d: 1-2                       [-1, 64, 112, 112]        128\n",
              "├─ReLU: 1-3                              [-1, 64, 112, 112]        --\n",
              "├─MaxPool2d: 1-4                         [-1, 64, 56, 56]          --\n",
              "├─Sequential: 1-5                        [-1, 64, 56, 56]          --\n",
              "|    └─BasicBlock: 2-1                   [-1, 64, 56, 56]          --\n",
              "|    |    └─Conv2d: 3-1                  [-1, 64, 56, 56]          36,864\n",
              "|    |    └─BatchNorm2d: 3-2             [-1, 64, 56, 56]          128\n",
              "|    |    └─ReLU: 3-3                    [-1, 64, 56, 56]          --\n",
              "|    |    └─Conv2d: 3-4                  [-1, 64, 56, 56]          36,864\n",
              "|    |    └─BatchNorm2d: 3-5             [-1, 64, 56, 56]          128\n",
              "|    |    └─ReLU: 3-6                    [-1, 64, 56, 56]          --\n",
              "|    └─BasicBlock: 2-2                   [-1, 64, 56, 56]          --\n",
              "|    |    └─Conv2d: 3-7                  [-1, 64, 56, 56]          36,864\n",
              "|    |    └─BatchNorm2d: 3-8             [-1, 64, 56, 56]          128\n",
              "|    |    └─ReLU: 3-9                    [-1, 64, 56, 56]          --\n",
              "|    |    └─Conv2d: 3-10                 [-1, 64, 56, 56]          36,864\n",
              "|    |    └─BatchNorm2d: 3-11            [-1, 64, 56, 56]          128\n",
              "|    |    └─ReLU: 3-12                   [-1, 64, 56, 56]          --\n",
              "├─Sequential: 1-6                        [-1, 128, 28, 28]         --\n",
              "|    └─BasicBlock: 2-3                   [-1, 128, 28, 28]         --\n",
              "|    |    └─Conv2d: 3-13                 [-1, 128, 28, 28]         73,728\n",
              "|    |    └─BatchNorm2d: 3-14            [-1, 128, 28, 28]         256\n",
              "|    |    └─ReLU: 3-15                   [-1, 128, 28, 28]         --\n",
              "|    |    └─Conv2d: 3-16                 [-1, 128, 28, 28]         147,456\n",
              "|    |    └─BatchNorm2d: 3-17            [-1, 128, 28, 28]         256\n",
              "|    |    └─Sequential: 3-18             [-1, 128, 28, 28]         8,448\n",
              "|    |    └─ReLU: 3-19                   [-1, 128, 28, 28]         --\n",
              "|    └─BasicBlock: 2-4                   [-1, 128, 28, 28]         --\n",
              "|    |    └─Conv2d: 3-20                 [-1, 128, 28, 28]         147,456\n",
              "|    |    └─BatchNorm2d: 3-21            [-1, 128, 28, 28]         256\n",
              "|    |    └─ReLU: 3-22                   [-1, 128, 28, 28]         --\n",
              "|    |    └─Conv2d: 3-23                 [-1, 128, 28, 28]         147,456\n",
              "|    |    └─BatchNorm2d: 3-24            [-1, 128, 28, 28]         256\n",
              "|    |    └─ReLU: 3-25                   [-1, 128, 28, 28]         --\n",
              "├─Sequential: 1-7                        [-1, 256, 14, 14]         --\n",
              "|    └─BasicBlock: 2-5                   [-1, 256, 14, 14]         --\n",
              "|    |    └─Conv2d: 3-26                 [-1, 256, 14, 14]         294,912\n",
              "|    |    └─BatchNorm2d: 3-27            [-1, 256, 14, 14]         512\n",
              "|    |    └─ReLU: 3-28                   [-1, 256, 14, 14]         --\n",
              "|    |    └─Conv2d: 3-29                 [-1, 256, 14, 14]         589,824\n",
              "|    |    └─BatchNorm2d: 3-30            [-1, 256, 14, 14]         512\n",
              "|    |    └─Sequential: 3-31             [-1, 256, 14, 14]         33,280\n",
              "|    |    └─ReLU: 3-32                   [-1, 256, 14, 14]         --\n",
              "|    └─BasicBlock: 2-6                   [-1, 256, 14, 14]         --\n",
              "|    |    └─Conv2d: 3-33                 [-1, 256, 14, 14]         589,824\n",
              "|    |    └─BatchNorm2d: 3-34            [-1, 256, 14, 14]         512\n",
              "|    |    └─ReLU: 3-35                   [-1, 256, 14, 14]         --\n",
              "|    |    └─Conv2d: 3-36                 [-1, 256, 14, 14]         589,824\n",
              "|    |    └─BatchNorm2d: 3-37            [-1, 256, 14, 14]         512\n",
              "|    |    └─ReLU: 3-38                   [-1, 256, 14, 14]         --\n",
              "├─Sequential: 1-8                        [-1, 512, 7, 7]           --\n",
              "|    └─BasicBlock: 2-7                   [-1, 512, 7, 7]           --\n",
              "|    |    └─Conv2d: 3-39                 [-1, 512, 7, 7]           1,179,648\n",
              "|    |    └─BatchNorm2d: 3-40            [-1, 512, 7, 7]           1,024\n",
              "|    |    └─ReLU: 3-41                   [-1, 512, 7, 7]           --\n",
              "|    |    └─Conv2d: 3-42                 [-1, 512, 7, 7]           2,359,296\n",
              "|    |    └─BatchNorm2d: 3-43            [-1, 512, 7, 7]           1,024\n",
              "|    |    └─Sequential: 3-44             [-1, 512, 7, 7]           132,096\n",
              "|    |    └─ReLU: 3-45                   [-1, 512, 7, 7]           --\n",
              "|    └─BasicBlock: 2-8                   [-1, 512, 7, 7]           --\n",
              "|    |    └─Conv2d: 3-46                 [-1, 512, 7, 7]           2,359,296\n",
              "|    |    └─BatchNorm2d: 3-47            [-1, 512, 7, 7]           1,024\n",
              "|    |    └─ReLU: 3-48                   [-1, 512, 7, 7]           --\n",
              "|    |    └─Conv2d: 3-49                 [-1, 512, 7, 7]           2,359,296\n",
              "|    |    └─BatchNorm2d: 3-50            [-1, 512, 7, 7]           1,024\n",
              "|    |    └─ReLU: 3-51                   [-1, 512, 7, 7]           --\n",
              "├─AdaptiveAvgPool2d: 1-9                 [-1, 512, 1, 1]           --\n",
              "├─Linear: 1-10                           [-1, 11]                  5,643\n",
              "==========================================================================================\n",
              "Total params: 11,182,155\n",
              "Trainable params: 11,182,155\n",
              "Non-trainable params: 0\n",
              "Total mult-adds (G): 1.84\n",
              "==========================================================================================\n",
              "Input size (MB): 0.57\n",
              "Forward/backward pass size (MB): 37.90\n",
              "Params size (MB): 42.66\n",
              "Estimated Total Size (MB): 81.13\n",
              "=========================================================================================="
            ]
          },
          "execution_count": 13,
          "metadata": {},
          "output_type": "execute_result"
        }
      ],
      "source": [
        "# Load provided teacher model (model architecture: resnet18, num_classes=11, test-acc ~= 89.9%)\n",
        "teacher_model = torch.hub.load('pytorch/vision:v0.10.0', 'resnet18', pretrained=False, num_classes=11)\n",
        "# load state dict\n",
        "teacher_ckpt_path = os.path.join(cfg['dataset_root'], \"resnet18_teacher.ckpt\")\n",
        "teacher_model.load_state_dict(torch.load(teacher_ckpt_path, map_location='cpu'))\n",
        "# Now you already know the teacher model's architecture. You can take advantage of it if you want to pass the strong or boss baseline.\n",
        "# Source code of resnet in pytorch: (https://github.com/pytorch/vision/blob/main/torchvision/models/resnet.py)\n",
        "# You can also see the summary of teacher model. There are 11,182,155 parameters totally in the teacher model\n",
        "summary(teacher_model, (3, 224, 224), device='cpu')"
      ]
    },
    {
      "cell_type": "markdown",
      "metadata": {
        "id": "SssBmJciSz5l"
      },
      "source": [
        "### Knowledge_Distillation\n",
        "\n",
        "<img src=\"https://i.imgur.com/H2aF7Rv.png=100x\" width=\"400px\">\n",
        "\n",
        "Since we have a learned big model, let it teach the other small model. In implementation, let the training target be the prediction of big model instead of the ground truth.\n",
        "\n",
        "**Why it works?**\n",
        "* If the data is not clean, then the prediction of big model could ignore the noise of the data with wrong labeled.\n",
        "* There might have some relations between classes, so soft labels from teacher model might be useful. For example, Number 8 is more similar to 6, 9, 0 than 1, 7.\n",
        "\n",
        "\n",
        "**How to implement?**\n",
        "* $Loss = \\alpha T^2 \\times KL(p || q) + (1-\\alpha)(\\text{Original Cross Entropy Loss}), \\text{where } p=softmax(\\frac{\\text{student's logits}}{T}), \\text{and } q=softmax(\\frac{\\text{teacher's logits}}{T})$\n",
        "* very useful link: [pytorch docs of KLDivLoss with examples](!https://pytorch.org/docs/stable/generated/torch.nn.KLDivLoss.html)\n",
        "* original paper: [Distilling the Knowledge in a Neural Network](!https://arxiv.org/abs/1503.02531)"
      ]
    },
    {
      "cell_type": "code",
      "execution_count": 14,
      "metadata": {
        "execution": {
          "iopub.execute_input": "2022-05-24T10:03:34.189265Z",
          "iopub.status.busy": "2022-05-24T10:03:34.188841Z",
          "iopub.status.idle": "2022-05-24T10:03:34.194093Z",
          "shell.execute_reply": "2022-05-24T10:03:34.193204Z",
          "shell.execute_reply.started": "2022-05-24T10:03:34.189224Z"
        },
        "id": "twZb0G9-Sz5l",
        "trusted": true
      },
      "outputs": [],
      "source": [
        "# Implement the loss function with KL divergence loss for knowledge distillation.\n",
        "# You also have to copy-paste this whole block to HW13 GradeScope.\n",
        "def loss_fn_kd(student_logits, labels, teacher_logits, alpha=0.5, temperature=1.0):\n",
        "    # ------------TODO-------------\n",
        "    # Refer to the above formula and finish the loss function for knowkedge distillation using KL divergence loss and CE loss.\n",
        "    # If you have no idea, please take a look at the provided useful link above.\n",
        "    p, q = F.log_softmax(student_logits / temperature, dim=-1), F.softmax(teacher_logits / temperature, dim=-1)\n",
        "    kl_div_loss = (temperature ** 2) * F.kl_div(p, q, reduction=\"mean\")\n",
        "    ce_loss = F.cross_entropy(student_logits, labels)\n",
        "    return alpha * kl_div_loss + (1 - alpha) * ce_loss"
      ]
    },
    {
      "cell_type": "code",
      "execution_count": 15,
      "metadata": {
        "colab": {
          "base_uri": "https://localhost:8080/"
        },
        "execution": {
          "iopub.execute_input": "2022-05-24T10:03:34.195489Z",
          "iopub.status.busy": "2022-05-24T10:03:34.195253Z",
          "iopub.status.idle": "2022-05-24T10:03:34.210666Z",
          "shell.execute_reply": "2022-05-24T10:03:34.209911Z",
          "shell.execute_reply.started": "2022-05-24T10:03:34.195455Z"
        },
        "id": "alv2sq_xSz5l",
        "outputId": "5369522b-2348-47aa-cb90-8468fe3f829f",
        "trusted": true
      },
      "outputs": [
        {
          "name": "stdout",
          "output_type": "stream",
          "text": [
            "device: cuda\n"
          ]
        }
      ],
      "source": [
        "# choose the loss function by the config\n",
        "if cfg['loss_fn_type'] == 'CE':\n",
        "    # For the classification task, we use cross-entropy as the default loss function.\n",
        "    loss_fn = nn.CrossEntropyLoss() # loss function for simple baseline.\n",
        "\n",
        "if cfg['loss_fn_type'] == 'KD': # KD stands for knowledge distillation\n",
        "    loss_fn = loss_fn_kd # implement loss_fn_kd for the report question and the medium baseline.\n",
        "\n",
        "# You can also adopt other types of knowledge distillation techniques for strong and boss baseline, but use function name other than `loss_fn_kd`\n",
        "# For example:\n",
        "# def loss_fn_custom_kd():\n",
        "#     pass\n",
        "# if cfg['loss_fn_type'] == 'custom_kd':\n",
        "#     loss_fn = loss_fn_custom_kd\n",
        "\n",
        "# \"cuda\" only when GPUs are available.\n",
        "device = \"cuda\" if torch.cuda.is_available() else \"cpu\"\n",
        "log(f\"device: {device}\")\n",
        "\n",
        "# The number of training epochs and patience.\n",
        "n_epochs = cfg['n_epochs']\n",
        "patience = cfg['patience'] # If no improvement in 'patience' epochs, early stop\n",
        "\n",
        "temperature = cfg['temperature']"
      ]
    },
    {
      "cell_type": "markdown",
      "metadata": {
        "id": "pI_HZWNFSz5l"
      },
      "source": [
        "### Training\n",
        "implement training loop for simple baseline, feel free to modify it."
      ]
    },
    {
      "cell_type": "code",
      "execution_count": 16,
      "metadata": {},
      "outputs": [],
      "source": [
        "activation = {}\n",
        "def get_activation(name):\n",
        "    def hook(model, input, output):\n",
        "        activation[name] = output\n",
        "    return hook\n",
        "\n",
        "def use_pretrain():\n",
        "    student_model.conv1.weight = teacher_model.conv1.weight\n",
        "    student_model.bn1.weight = teacher_model.bn1.weight\n",
        "    student_model.bn1.bias = teacher_model.bn1.bias\n",
        "    student_model.bn1.running_mean = teacher_model.bn1.running_mean\n",
        "    student_model.bn1.running_var = teacher_model.bn1.running_var\n",
        "    student_model.conv1.weight.requires_grad = False\n",
        "    student_model.bn1.weight.requires_grad = False\n",
        "    student_model.bn1.bias.requires_grad = False\n",
        "\n",
        "student_model.layer1.register_forward_hook(get_activation(\"student_model.layer1\"))\n",
        "student_model.layer2.register_forward_hook(get_activation(\"student_model.layer2\"))\n",
        "student_model.layer3.register_forward_hook(get_activation(\"student_model.layer3\"))\n",
        "\n",
        "teacher_model.layer1.register_forward_hook(get_activation(\"teacher_model.layer1\"))\n",
        "teacher_model.layer2.register_forward_hook(get_activation(\"teacher_model.layer2\"))\n",
        "teacher_model.layer3.register_forward_hook(get_activation(\"teacher_model.layer3\"))\n",
        "\n",
        "use_pretrain()\n"
      ]
    },
    {
      "cell_type": "code",
      "execution_count": 17,
      "metadata": {
        "colab": {
          "base_uri": "https://localhost:8080/",
          "height": 1000,
          "referenced_widgets": [
            "bed8b147842246a9922251e00f8848c7",
            "579788b4554e48948dd67141e93b959a",
            "c8a983d3e2f449198f39bbc50b523cd0",
            "2d3608f9170a493a970f24e9378ddb25",
            "b28fa192da4946d58a43f502489e4060",
            "f5929ee4ef2046a6a20f7378ea329243",
            "cecee78828dc425ea77b29709a499cfd",
            "3cbd43bfef634b50b07582f2a70ddca9",
            "497d87dd0b4a49c1b7d146fdd9c38971",
            "a822c46387a7458b828cae0b95f069eb",
            "96ad7cc3769940ee970e38c6bf05481c",
            "2ed2942f109e4387a93b831f15b1ad70",
            "dd1b87364bc44e408606c313617d728a",
            "f8e9a623393a409e96b9e3be8b8893d3",
            "b6312ba3b7f34cf8887dfda661e217d8",
            "228e8ace81054cfc85dcfc1cb33430d6",
            "c18cf26b2ffa4b01be9925d279052973",
            "010fbb7a481d41e4a2c2947cb3d98c1a",
            "7d91d6d7208c43ed950141f20cd675c0",
            "d9eafe1c271e402c9bbef790635b0dcf",
            "ed9c7d2143ff441db61c1ed191b3185e",
            "59f6f1231f9242b1b12f7e7cbe0e2a9c",
            "6b87c402ab51489488556a815437ca37",
            "d1a9785539a94ea3983bfa5e5ffd6eb2",
            "7f02de42b9dc45e7a65db6c6f033b581",
            "558293f126494b97ad0fe04adb083a91",
            "0bdeb465416b4d5d938c02e5592c9181",
            "803d4a5ff80f4b13afaa6c2e6f21e908",
            "4c73f07f3ea74d80acbfc74f1f6d9249",
            "82603dec520f4cf0943488cea7abdace",
            "cf77940769494d58b8f98160082605d7",
            "8cf032eee56b4ebd8c62359f70c85f4a",
            "a4bd87276af440fe95a0233dde79277b",
            "9864bc1d23d64f12b30665c924c32950",
            "04c519315cfd4a1c98086c6e85febc4e",
            "a7467780d4aa4118acc8ddcaa0fd3830",
            "b03417a39fdd4ea589972dc2aab2ec4a",
            "ca7625f726a5459186264d314cb18d05",
            "1b8cd39e0c2542319c798616c940bd22",
            "07849836ce5d4411ae8a57cc9608d39b",
            "71bbb9c61c7a4d7bb7ef19554d16f4f4",
            "e7397dc417e6407b836ad591196667b4",
            "6bc1f45541bb440982e2969be931ecdf",
            "1a4b8ee44f4b4764b51af513a8e4fdd4",
            "b326854c332a41a7b54b959587be6867",
            "df053497ffbe4c6a89e67176f492e0a4",
            "a847f78acc1b4d0aa12551f7aa309ede",
            "5a0dee5753b14490ad33543990a1b000",
            "caf8947b30004d368ef8b8507b50a0fc",
            "78f4ea614b934a508ce269a7e2e422a5",
            "8803125a182941dfa06f3734f7ae601f",
            "046f36abe13748818f3644880e98c2f5",
            "82726a4ff63542bfb9e9c95415a7a8bd",
            "ea35136f24e2447ba902b64f906087ea",
            "3e5afb31f9e44c48bd4200ac85fcf1b0",
            "0c2040f52cc545ef8afc3d3174452cbd",
            "725742c9e9a94e8b878488de3fb813c3",
            "0f8ef84e1da84620b14db7c03c4221ba",
            "331fc11300df4ef186a3d990baab3825",
            "561eeef2bc4542dd95f956c52617642a",
            "a3c4a1e8f88a4c27b8db7aac0ebe363f",
            "d9942a1912b24824b8d45e22d8db2ad3",
            "2523a48fb7054a4b8f9484f75255f2a4",
            "a6c2610e1d024d75aea5ad0901955201",
            "5b87e320ba334bbb82296ece98c2bcc5",
            "b20c062c1ee04dfeb456fce313c07ec4",
            "a7e3f39e7b51446987791d8ff8bb9fc0",
            "481d5660404147849fe2fdc8fa1e1729",
            "52de51dbafd743f8ab5d9c5ba817d239",
            "4b28a092043e4e53b34e0f5ee5421ecd",
            "59fa20dc01ae410690825fae99247161",
            "b2f8d1c3c30149f093c68976be10eb4c",
            "f7f73af0068a41b2a72bf685571ec913",
            "cc213d62b00a4578a15545529656b13e",
            "f73a01e510a84c14b63f92d3d155e2c6",
            "82fcb008de4641289b543acaf7fff382",
            "38df57c21aee47ef8ecc441bcf6de0c6",
            "3ca97fb05caf4b84a6f177c5d668b64d",
            "ce2615681ef8461685ec2c18d022d73d",
            "6a102092838343af944bbe289af90851",
            "f45fa495a1904000b17af973d2dd582d",
            "911caf3f1fe84a2c8016c07798561e38",
            "ef979b2087274c8eaea27ec9615ecdad",
            "a0b9fd2966fb48f58dc482fa7e699501",
            "118ea863be58497db23d88812744d236",
            "8a59419ad0044a748057d6a473a770a6",
            "7a51be74185c496da55638b7a8c9c305",
            "e990a13241cd46f68c9eac993c47d817",
            "40b9726c06ea4d999230105c0c1e4727",
            "dd16a708edd945c5a23700d6a1b17c83",
            "5caacc7d78f54f0bb68bfd546213650b",
            "bf89e21d6e154b5bae647e66291d9a1f",
            "51c63c12c2fb429aadc55aaa68451f82",
            "8dbef83d192d45a4a34a3d3bb77f6aaa",
            "94d5e72d1bb34329be2cf29f7ad01817",
            "0f4c3dde1470477489babe7af7dd4269",
            "a5387532ca5b493a9cd044d84dbdffbe",
            "31ffd3e1190b4a93b076114fffc2e0d1",
            "2e509a9dae91456198d0d987620545d5",
            "640e9cf0b7df46e698ab6bd934731121",
            "51fec5e324f4418d9203d6f01eb504a9",
            "d316e281785e4cf8b68e37806ac07c61",
            "dfe8b2e2d02f4fb28705864a6842d8c7",
            "3e059c0bc34b4758bad578abf13be6a3",
            "e210c2414515469a9e179e17865749c9",
            "04a4d61cf0464568b05d4d0fa401ff0b",
            "08ebfb59b4c74bdeb4c08b67b3464a28",
            "7b80a4dfb8bb467cbc2871fa283320f3",
            "d12c59bbe74e48cd8371c7870fa429e5",
            "882acc4500cd4f99bd63fa9dcbd34c72",
            "f9080b98599a4005822f7189965de862",
            "35f0b7d617d848cdad7f5dbb2db2b7e8",
            "04423ed4c3914a3a9180bb7b934d53cd",
            "fff8d997503949da80e4cdaa062385f5",
            "fe50a189522643aba3d5da589822be0c",
            "a4584d300f544942a64188a101000b55",
            "5542d4390f9e4fa0ae8d65b0f320ffcd",
            "bdc230bca5b74ab2b4bd7621e7e3c762",
            "5e43375adbc542e193d0d51126879ffb",
            "7dadeb42f1074af69bbf0f9798be2895",
            "e7d8f6e7ce1644fcbdddc892af17d1d7",
            "bd79c3bf152d41ee8f2372697ff4bc6c",
            "af2c20daf62c45a1915e7745dd9b276c",
            "2c276af3105d43739f559951322c3a4a",
            "6dd9c90362ec4e11953156ecabdb88f4",
            "5ae1e9713bbd4af1a2bfb2cfb05975ec",
            "59be4756d83d448cb2123030d9a691c4",
            "e984af2ee0644085a351c525772e14e6",
            "02fb3583966f4ec2be6bc71d6a41886a",
            "12ced012dae44b558232355818db7a29",
            "608b893b6ebf4dae80381e0562ade20c",
            "30239c29bb0743b1b7a56206d62761cb",
            "458bdcdfd4d943c4b9741cbfdcf9d38d",
            "1993592878f94a04b1b047ca5f5cfbcf",
            "8046f1c472d24e9595e45f9876216dcd",
            "f7d0733dae8744c890e75c42a02d39e8",
            "e9949007993f4ba5bd95f58be9a01146",
            "71e3e9f47f824a3ab71fb88134771175",
            "a00e73304e3c4dfa8f248f6f5e644f69",
            "00fc2323728a4b00a0c67e1d5b8452b2",
            "23743b37e0bf4e83b48592bf03dd116d",
            "2ef20d498cc449259308902d46379db3",
            "e6e6ec49e810423aa5058c3e62aeb3a6",
            "60612c2cb2974110bae2a377a2677fba",
            "dd902a96365e467abe02f0dcc779a3e2",
            "12dd038d4db14da6b2b2ccc2b6183d41",
            "47cfc2b4005a4d92884201ff16c4d9d2",
            "3623002a603e4341b94332829f5fef7f",
            "222f860f88b94aa487ecca886e83d1d2",
            "931a0d29cc89400997a4ce83b1489af8",
            "67f99f699dfe49919e0437c6da5b7313",
            "978750848a334675b7ef348fbb09c2bd",
            "f728aba0820345de8e9d431009d1c1dc",
            "ae51756a44ca4f3291bb1fd1a725e1bd",
            "c9284a1f70fb461092d262dff17221fa",
            "167f645d3cc047cc89f69adaab76d724",
            "125b0dee5cdd44af8d9aa2b9ce4f58fb",
            "072179626d7d4d76be3047c4fca95480",
            "345a610f0ba645b196e0cf19caf4694f",
            "236ed7971a0d4d06ad18f3fcfc24625a",
            "253b03ad3c5743f2bb8fb5d05dc06350",
            "bfdbe8c4e241418bb49fbdf4a56a40f3",
            "dbec5c617b7645ca9a7bc9c45be1129b",
            "218feb18759c4f02984b5cf1b0543cd9",
            "84c44d3aec7847e3ac21a6e11735fa28",
            "e9f425fcdd4c4156aa1d085ba0d50cb3",
            "9b614c0865674ea19ad2153267b58881",
            "c74d62920f0b4680aca6af541834adc6",
            "4c21c599613048578e3cc7c1228cb20f",
            "ea19ac7ead664e388bbb38d2765b7c92",
            "092f2e9cf02b4626a078a6b0c224b590",
            "8bd1b85e4c1c4de5bc68af341958458d",
            "c327568be54d4945a1b3769f0a198fa1",
            "4d4b0a6b11084c47b5e0d8383728cf84",
            "123aa58c25b64704993907c64e148ecb",
            "55b842a522c3464590be12054be77ac7",
            "2a50950ba044403391851b9ccefa4b94",
            "24af70954a3c405593785afc2a474fc7",
            "dc1992453cab4c47ac1f17976e1ed9a2",
            "70fc137a84374c788953dbaac623b208",
            "b9f4e6edb65045b387609f0b885bfb09",
            "55df84f4037d44cf8a328cbc8a7cef1a",
            "807c9c74c89d42018d688ad0507efa84",
            "7351a133ce3c489589b4f9e6ee2b2966",
            "7f858317a1474656bf0ea693a89e28e2",
            "b3d9befa0b364106920bbbbdef6f16b4",
            "066a35fe83644135a1828c842d71acff",
            "68c6e993b7db4516adc7fcf0b7fd7c4d",
            "94cfe264b64c4e338eb6fc8254116d37",
            "96a8fe59f15d4509807dce4f5fd9f1d2",
            "1c9987c8bb384cca8cbe78c03f628c97",
            "05bfe20e7ac747aca93b601fa372c86c",
            "01c9facfa0364941a2e50fa0357e87d0",
            "546b37c6da1d4874ac48f580939871ad",
            "27d40a336d1a40a384e42d99390b47cd",
            "70e38cdd63d64c16aa4b673c464f8630",
            "a0376ab4667c41a38b8869a2270bb617",
            "1a34265daf4d447da586dc7092e5849b",
            "cd29ddcb197d451aa26173677127afce",
            "a0c0429d8cf54d93ba11af0c0086f1ec",
            "f641a039cd0c4b26a1c49b2cbe91286d",
            "a6299d8d944840fcbe947fed70ca840a",
            "ea4445db0ffc4035884e292645e738db",
            "db10a75c1b944fa5ba4bbbdc48d82930",
            "825e862ccfb043ac84eb8da4c298ad72",
            "2761cc006a964893b8da2c04e7faba11",
            "2154ed73288f4ce8b9be4d4e1714c35d",
            "d61678568abb43288e8b6f447198e31b",
            "20198e2682a5421e8d7b6400e33c426f",
            "992acfc0fa5140f38c85b93720100240",
            "718798019b0044f9a04be187c7e7af52",
            "92bc5c8e65d24bd98dbc366c8d846fe7",
            "6e8af70620a246b1a7ace4d9042df817",
            "e723eba9afd34feab0f5d496dedcbfd1",
            "3c16172dcec74f1488bfb06f479b273f",
            "30cb9d210e084f77a3eafc3f9e13533f",
            "63170c14d6d74d839d843af539e073bd",
            "972cd2afcd904b3fa856bfdda4bb24ac",
            "05e2dec7eaa746b483c6bbc6072b2453",
            "29aee8b29484462a929f62e9585a0f66"
          ]
        },
        "execution": {
          "iopub.execute_input": "2022-05-24T10:03:34.212548Z",
          "iopub.status.busy": "2022-05-24T10:03:34.212111Z",
          "iopub.status.idle": "2022-05-24T10:14:25.519441Z",
          "shell.execute_reply": "2022-05-24T10:14:25.518016Z",
          "shell.execute_reply.started": "2022-05-24T10:03:34.21251Z"
        },
        "id": "1STfGFhSSz5l",
        "outputId": "40ea88a0-0631-4940-f877-691812246220",
        "trusted": true
      },
      "outputs": [
        {
          "data": {
            "application/vnd.jupyter.widget-view+json": {
              "model_id": "0ecde7196e1a4150b36c22bb05097482",
              "version_major": 2,
              "version_minor": 0
            },
            "text/plain": [
              "  0%|          | 0/155 [00:00<?, ?it/s]"
            ]
          },
          "metadata": {},
          "output_type": "display_data"
        },
        {
          "name": "stderr",
          "output_type": "stream",
          "text": [
            "d:\\miniforge3\\envs\\machine-learning\\lib\\site-packages\\torch\\nn\\functional.py:2904: UserWarning: reduction: 'mean' divides the total loss by both the batch size and the support size.'batchmean' divides only by the batch size, and aligns with the KL div math definition.'mean' will be changed to behave the same as 'batchmean' in the next major release.\n",
            "  warnings.warn(\n"
          ]
        },
        {
          "name": "stdout",
          "output_type": "stream",
          "text": [
            "[ Train | 001/300 ] loss = 5.21560, acc = 0.16694\n",
            "loss = loss_layers + (10 * lamb) * loss_logits = 5.21532 + 0.00011 * 2.49541\n"
          ]
        },
        {
          "data": {
            "application/vnd.jupyter.widget-view+json": {
              "model_id": "28c3f1e8748f4d7f92e69c0c06c0ea1c",
              "version_major": 2,
              "version_minor": 0
            },
            "text/plain": [
              "  0%|          | 0/54 [00:00<?, ?it/s]"
            ]
          },
          "metadata": {},
          "output_type": "display_data"
        },
        {
          "name": "stdout",
          "output_type": "stream",
          "text": [
            "[ Valid | 001/300 ] loss = 4.23052, acc = 0.22420 -> best\n",
            "loss = loss_layers + (10 * lamb) * loss_logits = 4.23023 + 0.00011 * 2.56440\n",
            "Best model found at epoch 1, saving model\n"
          ]
        },
        {
          "data": {
            "application/vnd.jupyter.widget-view+json": {
              "model_id": "70467d83ce5e47c58ad73d1c482a262d",
              "version_major": 2,
              "version_minor": 0
            },
            "text/plain": [
              "  0%|          | 0/155 [00:00<?, ?it/s]"
            ]
          },
          "metadata": {},
          "output_type": "display_data"
        },
        {
          "name": "stdout",
          "output_type": "stream",
          "text": [
            "[ Train | 002/300 ] loss = 4.27845, acc = 0.22370\n",
            "loss = loss_layers + (10 * lamb) * loss_logits = 4.27739 + 0.00044 * 2.37731\n"
          ]
        },
        {
          "data": {
            "application/vnd.jupyter.widget-view+json": {
              "model_id": "ea8f751d71bf44ac9851e0b6cea03d34",
              "version_major": 2,
              "version_minor": 0
            },
            "text/plain": [
              "  0%|          | 0/54 [00:00<?, ?it/s]"
            ]
          },
          "metadata": {},
          "output_type": "display_data"
        },
        {
          "name": "stdout",
          "output_type": "stream",
          "text": [
            "[ Valid | 002/300 ] loss = 3.65602, acc = 0.26618 -> best\n",
            "loss = loss_layers + (10 * lamb) * loss_logits = 3.65495 + 0.00044 * 2.41968\n",
            "Best model found at epoch 2, saving model\n"
          ]
        },
        {
          "data": {
            "application/vnd.jupyter.widget-view+json": {
              "model_id": "2c217c08b14b4725b61f3b1fabd21d41",
              "version_major": 2,
              "version_minor": 0
            },
            "text/plain": [
              "  0%|          | 0/155 [00:00<?, ?it/s]"
            ]
          },
          "metadata": {},
          "output_type": "display_data"
        },
        {
          "name": "stdout",
          "output_type": "stream",
          "text": [
            "[ Train | 003/300 ] loss = 3.71944, acc = 0.25664\n",
            "loss = loss_layers + (10 * lamb) * loss_logits = 3.71715 + 0.00100 * 2.28906\n"
          ]
        },
        {
          "data": {
            "application/vnd.jupyter.widget-view+json": {
              "model_id": "8cc10db27dfc48858f071700e5404324",
              "version_major": 2,
              "version_minor": 0
            },
            "text/plain": [
              "  0%|          | 0/54 [00:00<?, ?it/s]"
            ]
          },
          "metadata": {},
          "output_type": "display_data"
        },
        {
          "name": "stdout",
          "output_type": "stream",
          "text": [
            "[ Valid | 003/300 ] loss = 3.26049, acc = 0.30379 -> best\n",
            "loss = loss_layers + (10 * lamb) * loss_logits = 3.25820 + 0.00100 * 2.29749\n",
            "Best model found at epoch 3, saving model\n"
          ]
        },
        {
          "data": {
            "application/vnd.jupyter.widget-view+json": {
              "model_id": "314826b1994348fea88bf9dbf9f94cc5",
              "version_major": 2,
              "version_minor": 0
            },
            "text/plain": [
              "  0%|          | 0/155 [00:00<?, ?it/s]"
            ]
          },
          "metadata": {},
          "output_type": "display_data"
        },
        {
          "name": "stdout",
          "output_type": "stream",
          "text": [
            "[ Train | 004/300 ] loss = 3.36646, acc = 0.28421\n",
            "loss = loss_layers + (10 * lamb) * loss_logits = 3.36256 + 0.00178 * 2.19304\n"
          ]
        },
        {
          "data": {
            "application/vnd.jupyter.widget-view+json": {
              "model_id": "6f1b2c7b1acc450ca3dfe8ce5e6efa4f",
              "version_major": 2,
              "version_minor": 0
            },
            "text/plain": [
              "  0%|          | 0/54 [00:00<?, ?it/s]"
            ]
          },
          "metadata": {},
          "output_type": "display_data"
        },
        {
          "name": "stdout",
          "output_type": "stream",
          "text": [
            "[ Valid | 004/300 ] loss = 2.99606, acc = 0.32420 -> best\n",
            "loss = loss_layers + (10 * lamb) * loss_logits = 2.99216 + 0.00178 * 2.19874\n",
            "Best model found at epoch 4, saving model\n"
          ]
        },
        {
          "data": {
            "application/vnd.jupyter.widget-view+json": {
              "model_id": "6ec35086d53f4eb091a72d491e151122",
              "version_major": 2,
              "version_minor": 0
            },
            "text/plain": [
              "  0%|          | 0/155 [00:00<?, ?it/s]"
            ]
          },
          "metadata": {},
          "output_type": "display_data"
        },
        {
          "name": "stdout",
          "output_type": "stream",
          "text": [
            "[ Train | 005/300 ] loss = 3.11887, acc = 0.30752\n",
            "loss = loss_layers + (10 * lamb) * loss_logits = 3.11301 + 0.00278 * 2.10956\n"
          ]
        },
        {
          "data": {
            "application/vnd.jupyter.widget-view+json": {
              "model_id": "4c234bb68f734d25af61e49492bf1303",
              "version_major": 2,
              "version_minor": 0
            },
            "text/plain": [
              "  0%|          | 0/54 [00:00<?, ?it/s]"
            ]
          },
          "metadata": {},
          "output_type": "display_data"
        },
        {
          "name": "stdout",
          "output_type": "stream",
          "text": [
            "[ Valid | 005/300 ] loss = 2.80322, acc = 0.34869 -> best\n",
            "loss = loss_layers + (10 * lamb) * loss_logits = 2.79736 + 0.00278 * 2.10793\n",
            "Best model found at epoch 5, saving model\n"
          ]
        },
        {
          "data": {
            "application/vnd.jupyter.widget-view+json": {
              "model_id": "c9a459008d134560a7231a75d2fa213c",
              "version_major": 2,
              "version_minor": 0
            },
            "text/plain": [
              "  0%|          | 0/155 [00:00<?, ?it/s]"
            ]
          },
          "metadata": {},
          "output_type": "display_data"
        },
        {
          "name": "stdout",
          "output_type": "stream",
          "text": [
            "[ Train | 006/300 ] loss = 2.92755, acc = 0.33560\n",
            "loss = loss_layers + (10 * lamb) * loss_logits = 2.91947 + 0.00400 * 2.02131\n"
          ]
        },
        {
          "data": {
            "application/vnd.jupyter.widget-view+json": {
              "model_id": "2035fa55395d41ceb37d5cbbfa9d8970",
              "version_major": 2,
              "version_minor": 0
            },
            "text/plain": [
              "  0%|          | 0/54 [00:00<?, ?it/s]"
            ]
          },
          "metadata": {},
          "output_type": "display_data"
        },
        {
          "name": "stdout",
          "output_type": "stream",
          "text": [
            "[ Valid | 006/300 ] loss = 2.65443, acc = 0.38688 -> best\n",
            "loss = loss_layers + (10 * lamb) * loss_logits = 2.64647 + 0.00400 * 1.98950\n",
            "Best model found at epoch 6, saving model\n"
          ]
        },
        {
          "data": {
            "application/vnd.jupyter.widget-view+json": {
              "model_id": "0d6b6b9f29d74cb2bae70222a4e49093",
              "version_major": 2,
              "version_minor": 0
            },
            "text/plain": [
              "  0%|          | 0/155 [00:00<?, ?it/s]"
            ]
          },
          "metadata": {},
          "output_type": "display_data"
        },
        {
          "name": "stdout",
          "output_type": "stream",
          "text": [
            "[ Train | 007/300 ] loss = 2.78797, acc = 0.35942\n",
            "loss = loss_layers + (10 * lamb) * loss_logits = 2.77732 + 0.00544 * 1.95602\n"
          ]
        },
        {
          "data": {
            "application/vnd.jupyter.widget-view+json": {
              "model_id": "e5ceb573f4b24031a80687e2fe13ce6c",
              "version_major": 2,
              "version_minor": 0
            },
            "text/plain": [
              "  0%|          | 0/54 [00:00<?, ?it/s]"
            ]
          },
          "metadata": {},
          "output_type": "display_data"
        },
        {
          "name": "stdout",
          "output_type": "stream",
          "text": [
            "[ Valid | 007/300 ] loss = 2.52096, acc = 0.40991 -> best\n",
            "loss = loss_layers + (10 * lamb) * loss_logits = 2.51062 + 0.00544 * 1.90038\n",
            "Best model found at epoch 7, saving model\n"
          ]
        },
        {
          "data": {
            "application/vnd.jupyter.widget-view+json": {
              "model_id": "6a43693119e24f6a8ef54d596511a25f",
              "version_major": 2,
              "version_minor": 0
            },
            "text/plain": [
              "  0%|          | 0/155 [00:00<?, ?it/s]"
            ]
          },
          "metadata": {},
          "output_type": "display_data"
        },
        {
          "name": "stdout",
          "output_type": "stream",
          "text": [
            "[ Train | 008/300 ] loss = 2.66583, acc = 0.37330\n",
            "loss = loss_layers + (10 * lamb) * loss_logits = 2.65228 + 0.00711 * 1.90572\n"
          ]
        },
        {
          "data": {
            "application/vnd.jupyter.widget-view+json": {
              "model_id": "0160a8dce1d3489a82efff193d1bf0e9",
              "version_major": 2,
              "version_minor": 0
            },
            "text/plain": [
              "  0%|          | 0/54 [00:00<?, ?it/s]"
            ]
          },
          "metadata": {},
          "output_type": "display_data"
        },
        {
          "name": "stdout",
          "output_type": "stream",
          "text": [
            "[ Valid | 008/300 ] loss = 2.40854, acc = 0.44461 -> best\n",
            "loss = loss_layers + (10 * lamb) * loss_logits = 2.39557 + 0.00711 * 1.82398\n",
            "Best model found at epoch 8, saving model\n"
          ]
        },
        {
          "data": {
            "application/vnd.jupyter.widget-view+json": {
              "model_id": "6244f9aa820946eeb4489135b585a334",
              "version_major": 2,
              "version_minor": 0
            },
            "text/plain": [
              "  0%|          | 0/155 [00:00<?, ?it/s]"
            ]
          },
          "metadata": {},
          "output_type": "display_data"
        },
        {
          "name": "stdout",
          "output_type": "stream",
          "text": [
            "[ Train | 009/300 ] loss = 2.57481, acc = 0.39469\n",
            "loss = loss_layers + (10 * lamb) * loss_logits = 2.55831 + 0.00900 * 1.83363\n"
          ]
        },
        {
          "data": {
            "application/vnd.jupyter.widget-view+json": {
              "model_id": "a11c06c9240b450a8ad5d19e51c9c876",
              "version_major": 2,
              "version_minor": 0
            },
            "text/plain": [
              "  0%|          | 0/54 [00:00<?, ?it/s]"
            ]
          },
          "metadata": {},
          "output_type": "display_data"
        },
        {
          "name": "stdout",
          "output_type": "stream",
          "text": [
            "[ Valid | 009/300 ] loss = 2.31220, acc = 0.46006 -> best\n",
            "loss = loss_layers + (10 * lamb) * loss_logits = 2.29656 + 0.00900 * 1.73844\n",
            "Best model found at epoch 9, saving model\n"
          ]
        },
        {
          "data": {
            "application/vnd.jupyter.widget-view+json": {
              "model_id": "5535fbf5a851493ca5c14790dbe55ae7",
              "version_major": 2,
              "version_minor": 0
            },
            "text/plain": [
              "  0%|          | 0/155 [00:00<?, ?it/s]"
            ]
          },
          "metadata": {},
          "output_type": "display_data"
        },
        {
          "name": "stdout",
          "output_type": "stream",
          "text": [
            "[ Train | 010/300 ] loss = 2.49224, acc = 0.42003\n",
            "loss = loss_layers + (10 * lamb) * loss_logits = 2.47284 + 0.01111 * 1.74683\n"
          ]
        },
        {
          "data": {
            "application/vnd.jupyter.widget-view+json": {
              "model_id": "901725e424194b15a8d5beeb6a949adc",
              "version_major": 2,
              "version_minor": 0
            },
            "text/plain": [
              "  0%|          | 0/54 [00:00<?, ?it/s]"
            ]
          },
          "metadata": {},
          "output_type": "display_data"
        },
        {
          "name": "stdout",
          "output_type": "stream",
          "text": [
            "[ Valid | 010/300 ] loss = 2.25859, acc = 0.46589 -> best\n",
            "loss = loss_layers + (10 * lamb) * loss_logits = 2.23974 + 0.01111 * 1.69684\n",
            "Best model found at epoch 10, saving model\n"
          ]
        },
        {
          "data": {
            "application/vnd.jupyter.widget-view+json": {
              "model_id": "73627cf8996c4eb8a3a331425b436030",
              "version_major": 2,
              "version_minor": 0
            },
            "text/plain": [
              "  0%|          | 0/155 [00:00<?, ?it/s]"
            ]
          },
          "metadata": {},
          "output_type": "display_data"
        },
        {
          "name": "stdout",
          "output_type": "stream",
          "text": [
            "[ Train | 011/300 ] loss = 2.42047, acc = 0.42621\n",
            "loss = loss_layers + (10 * lamb) * loss_logits = 2.39739 + 0.01344 * 1.71619\n"
          ]
        },
        {
          "data": {
            "application/vnd.jupyter.widget-view+json": {
              "model_id": "9e89be796adb4fcbbaa6d227176a6351",
              "version_major": 2,
              "version_minor": 0
            },
            "text/plain": [
              "  0%|          | 0/54 [00:00<?, ?it/s]"
            ]
          },
          "metadata": {},
          "output_type": "display_data"
        },
        {
          "name": "stdout",
          "output_type": "stream",
          "text": [
            "[ Valid | 011/300 ] loss = 2.20090, acc = 0.48601 -> best\n",
            "loss = loss_layers + (10 * lamb) * loss_logits = 2.17895 + 0.01344 * 1.63223\n",
            "Best model found at epoch 11, saving model\n"
          ]
        },
        {
          "data": {
            "application/vnd.jupyter.widget-view+json": {
              "model_id": "6b76d30a170c4846b2c13bff5fa2187b",
              "version_major": 2,
              "version_minor": 0
            },
            "text/plain": [
              "  0%|          | 0/155 [00:00<?, ?it/s]"
            ]
          },
          "metadata": {},
          "output_type": "display_data"
        },
        {
          "name": "stdout",
          "output_type": "stream",
          "text": [
            "[ Train | 012/300 ] loss = 2.36205, acc = 0.44618\n",
            "loss = loss_layers + (10 * lamb) * loss_logits = 2.33514 + 0.01600 * 1.68139\n"
          ]
        },
        {
          "data": {
            "application/vnd.jupyter.widget-view+json": {
              "model_id": "6ea8c47d5f0f41b789f2ba1e51babb9a",
              "version_major": 2,
              "version_minor": 0
            },
            "text/plain": [
              "  0%|          | 0/54 [00:00<?, ?it/s]"
            ]
          },
          "metadata": {},
          "output_type": "display_data"
        },
        {
          "name": "stdout",
          "output_type": "stream",
          "text": [
            "[ Valid | 012/300 ] loss = 2.15240, acc = 0.48980 -> best\n",
            "loss = loss_layers + (10 * lamb) * loss_logits = 2.12670 + 0.01600 * 1.60607\n",
            "Best model found at epoch 12, saving model\n"
          ]
        },
        {
          "data": {
            "application/vnd.jupyter.widget-view+json": {
              "model_id": "3a8a2ee15c964fb999cca3fb7422c252",
              "version_major": 2,
              "version_minor": 0
            },
            "text/plain": [
              "  0%|          | 0/155 [00:00<?, ?it/s]"
            ]
          },
          "metadata": {},
          "output_type": "display_data"
        },
        {
          "name": "stdout",
          "output_type": "stream",
          "text": [
            "[ Train | 013/300 ] loss = 2.31777, acc = 0.45479\n",
            "loss = loss_layers + (10 * lamb) * loss_logits = 2.28703 + 0.01878 * 1.63752\n"
          ]
        },
        {
          "data": {
            "application/vnd.jupyter.widget-view+json": {
              "model_id": "08b41219d5e84e2d80eaf51c284c96ed",
              "version_major": 2,
              "version_minor": 0
            },
            "text/plain": [
              "  0%|          | 0/54 [00:00<?, ?it/s]"
            ]
          },
          "metadata": {},
          "output_type": "display_data"
        },
        {
          "name": "stdout",
          "output_type": "stream",
          "text": [
            "[ Valid | 013/300 ] loss = 2.09703, acc = 0.51254 -> best\n",
            "loss = loss_layers + (10 * lamb) * loss_logits = 2.06812 + 0.01878 * 1.53957\n",
            "Best model found at epoch 13, saving model\n"
          ]
        },
        {
          "data": {
            "application/vnd.jupyter.widget-view+json": {
              "model_id": "ebe76b8e869249a5ae976687f350f256",
              "version_major": 2,
              "version_minor": 0
            },
            "text/plain": [
              "  0%|          | 0/155 [00:00<?, ?it/s]"
            ]
          },
          "metadata": {},
          "output_type": "display_data"
        },
        {
          "name": "stdout",
          "output_type": "stream",
          "text": [
            "[ Train | 014/300 ] loss = 2.27051, acc = 0.46128\n",
            "loss = loss_layers + (10 * lamb) * loss_logits = 2.23571 + 0.02178 * 1.59818\n"
          ]
        },
        {
          "data": {
            "application/vnd.jupyter.widget-view+json": {
              "model_id": "f2a81b515fb4483f882c6c7a71b70ce8",
              "version_major": 2,
              "version_minor": 0
            },
            "text/plain": [
              "  0%|          | 0/54 [00:00<?, ?it/s]"
            ]
          },
          "metadata": {},
          "output_type": "display_data"
        },
        {
          "name": "stdout",
          "output_type": "stream",
          "text": [
            "[ Valid | 014/300 ] loss = 2.06475, acc = 0.53586 -> best\n",
            "loss = loss_layers + (10 * lamb) * loss_logits = 2.03196 + 0.02178 * 1.50546\n",
            "Best model found at epoch 14, saving model\n"
          ]
        },
        {
          "data": {
            "application/vnd.jupyter.widget-view+json": {
              "model_id": "524f48cfb9e94297b3687ae98ea5229e",
              "version_major": 2,
              "version_minor": 0
            },
            "text/plain": [
              "  0%|          | 0/155 [00:00<?, ?it/s]"
            ]
          },
          "metadata": {},
          "output_type": "display_data"
        },
        {
          "name": "stdout",
          "output_type": "stream",
          "text": [
            "[ Train | 015/300 ] loss = 2.24217, acc = 0.47314\n",
            "loss = loss_layers + (10 * lamb) * loss_logits = 2.20305 + 0.02500 * 1.56478\n"
          ]
        },
        {
          "data": {
            "application/vnd.jupyter.widget-view+json": {
              "model_id": "22c6bf260afc454d99e5f81c23e9ec0b",
              "version_major": 2,
              "version_minor": 0
            },
            "text/plain": [
              "  0%|          | 0/54 [00:00<?, ?it/s]"
            ]
          },
          "metadata": {},
          "output_type": "display_data"
        },
        {
          "name": "stdout",
          "output_type": "stream",
          "text": [
            "[ Valid | 015/300 ] loss = 2.04026, acc = 0.52595\n",
            "loss = loss_layers + (10 * lamb) * loss_logits = 2.00298 + 0.02500 * 1.49152\n"
          ]
        },
        {
          "data": {
            "application/vnd.jupyter.widget-view+json": {
              "model_id": "e3b3ded37dcb43f9bc471918181f9578",
              "version_major": 2,
              "version_minor": 0
            },
            "text/plain": [
              "  0%|          | 0/155 [00:00<?, ?it/s]"
            ]
          },
          "metadata": {},
          "output_type": "display_data"
        },
        {
          "name": "stdout",
          "output_type": "stream",
          "text": [
            "[ Train | 016/300 ] loss = 2.20703, acc = 0.48317\n",
            "loss = loss_layers + (10 * lamb) * loss_logits = 2.16384 + 0.02844 * 1.51821\n"
          ]
        },
        {
          "data": {
            "application/vnd.jupyter.widget-view+json": {
              "model_id": "88067c2df00745e7ba55d983eb484f58",
              "version_major": 2,
              "version_minor": 0
            },
            "text/plain": [
              "  0%|          | 0/54 [00:00<?, ?it/s]"
            ]
          },
          "metadata": {},
          "output_type": "display_data"
        },
        {
          "name": "stdout",
          "output_type": "stream",
          "text": [
            "[ Valid | 016/300 ] loss = 2.02195, acc = 0.50408\n",
            "loss = loss_layers + (10 * lamb) * loss_logits = 1.97900 + 0.02844 * 1.51000\n"
          ]
        },
        {
          "data": {
            "application/vnd.jupyter.widget-view+json": {
              "model_id": "21a95bd4c3ae4ac6935bcaf8d9ece0bf",
              "version_major": 2,
              "version_minor": 0
            },
            "text/plain": [
              "  0%|          | 0/155 [00:00<?, ?it/s]"
            ]
          },
          "metadata": {},
          "output_type": "display_data"
        },
        {
          "name": "stdout",
          "output_type": "stream",
          "text": [
            "[ Train | 017/300 ] loss = 2.18834, acc = 0.49189\n",
            "loss = loss_layers + (10 * lamb) * loss_logits = 2.13962 + 0.03211 * 1.51720\n"
          ]
        },
        {
          "data": {
            "application/vnd.jupyter.widget-view+json": {
              "model_id": "0179fa433e224c65ac7c29c4129426fe",
              "version_major": 2,
              "version_minor": 0
            },
            "text/plain": [
              "  0%|          | 0/54 [00:00<?, ?it/s]"
            ]
          },
          "metadata": {},
          "output_type": "display_data"
        },
        {
          "name": "stdout",
          "output_type": "stream",
          "text": [
            "[ Valid | 017/300 ] loss = 1.99457, acc = 0.53469\n",
            "loss = loss_layers + (10 * lamb) * loss_logits = 1.94945 + 0.03211 * 1.40522\n"
          ]
        },
        {
          "data": {
            "application/vnd.jupyter.widget-view+json": {
              "model_id": "0feb80264c784156927f72ad9e6f595a",
              "version_major": 2,
              "version_minor": 0
            },
            "text/plain": [
              "  0%|          | 0/155 [00:00<?, ?it/s]"
            ]
          },
          "metadata": {},
          "output_type": "display_data"
        },
        {
          "name": "stdout",
          "output_type": "stream",
          "text": [
            "[ Train | 018/300 ] loss = 2.16356, acc = 0.49878\n",
            "loss = loss_layers + (10 * lamb) * loss_logits = 2.10994 + 0.03600 * 1.48939\n"
          ]
        },
        {
          "data": {
            "application/vnd.jupyter.widget-view+json": {
              "model_id": "603071d6a05c49e4a8b750a4afed805c",
              "version_major": 2,
              "version_minor": 0
            },
            "text/plain": [
              "  0%|          | 0/54 [00:00<?, ?it/s]"
            ]
          },
          "metadata": {},
          "output_type": "display_data"
        },
        {
          "name": "stdout",
          "output_type": "stream",
          "text": [
            "[ Valid | 018/300 ] loss = 1.96740, acc = 0.55627 -> best\n",
            "loss = loss_layers + (10 * lamb) * loss_logits = 1.91673 + 0.03600 * 1.40750\n",
            "Best model found at epoch 18, saving model\n"
          ]
        },
        {
          "data": {
            "application/vnd.jupyter.widget-view+json": {
              "model_id": "4878cc7ee31743ecbc94add18412cb2d",
              "version_major": 2,
              "version_minor": 0
            },
            "text/plain": [
              "  0%|          | 0/155 [00:00<?, ?it/s]"
            ]
          },
          "metadata": {},
          "output_type": "display_data"
        },
        {
          "name": "stdout",
          "output_type": "stream",
          "text": [
            "[ Train | 019/300 ] loss = 2.14757, acc = 0.51155\n",
            "loss = loss_layers + (10 * lamb) * loss_logits = 2.08944 + 0.04011 * 1.44927\n"
          ]
        },
        {
          "data": {
            "application/vnd.jupyter.widget-view+json": {
              "model_id": "0afa8dfd59434f87a5ac3c92a4d86890",
              "version_major": 2,
              "version_minor": 0
            },
            "text/plain": [
              "  0%|          | 0/54 [00:00<?, ?it/s]"
            ]
          },
          "metadata": {},
          "output_type": "display_data"
        },
        {
          "name": "stdout",
          "output_type": "stream",
          "text": [
            "[ Valid | 019/300 ] loss = 1.95056, acc = 0.54985\n",
            "loss = loss_layers + (10 * lamb) * loss_logits = 1.89645 + 0.04011 * 1.34902\n"
          ]
        },
        {
          "data": {
            "application/vnd.jupyter.widget-view+json": {
              "model_id": "daeae55124854206b450c96037d94574",
              "version_major": 2,
              "version_minor": 0
            },
            "text/plain": [
              "  0%|          | 0/155 [00:00<?, ?it/s]"
            ]
          },
          "metadata": {},
          "output_type": "display_data"
        },
        {
          "name": "stdout",
          "output_type": "stream",
          "text": [
            "[ Train | 020/300 ] loss = 2.13793, acc = 0.51845\n",
            "loss = loss_layers + (10 * lamb) * loss_logits = 2.07386 + 0.04444 * 1.44156\n"
          ]
        },
        {
          "data": {
            "application/vnd.jupyter.widget-view+json": {
              "model_id": "e12735a02ca5431895d82823f6b43ab6",
              "version_major": 2,
              "version_minor": 0
            },
            "text/plain": [
              "  0%|          | 0/54 [00:00<?, ?it/s]"
            ]
          },
          "metadata": {},
          "output_type": "display_data"
        },
        {
          "name": "stdout",
          "output_type": "stream",
          "text": [
            "[ Valid | 020/300 ] loss = 1.94036, acc = 0.56939 -> best\n",
            "loss = loss_layers + (10 * lamb) * loss_logits = 1.88038 + 0.04444 * 1.34960\n",
            "Best model found at epoch 20, saving model\n"
          ]
        },
        {
          "data": {
            "application/vnd.jupyter.widget-view+json": {
              "model_id": "ee9b0808c1d34de0a4cc5612c64ca840",
              "version_major": 2,
              "version_minor": 0
            },
            "text/plain": [
              "  0%|          | 0/155 [00:00<?, ?it/s]"
            ]
          },
          "metadata": {},
          "output_type": "display_data"
        },
        {
          "name": "stdout",
          "output_type": "stream",
          "text": [
            "[ Train | 021/300 ] loss = 2.12514, acc = 0.51774\n",
            "loss = loss_layers + (10 * lamb) * loss_logits = 2.05478 + 0.04900 * 1.43574\n"
          ]
        },
        {
          "data": {
            "application/vnd.jupyter.widget-view+json": {
              "model_id": "46d1f1d1eba1427eb8478b7f276eb651",
              "version_major": 2,
              "version_minor": 0
            },
            "text/plain": [
              "  0%|          | 0/54 [00:00<?, ?it/s]"
            ]
          },
          "metadata": {},
          "output_type": "display_data"
        },
        {
          "name": "stdout",
          "output_type": "stream",
          "text": [
            "[ Valid | 021/300 ] loss = 1.93054, acc = 0.60437 -> best\n",
            "loss = loss_layers + (10 * lamb) * loss_logits = 1.86619 + 0.04900 * 1.31326\n",
            "Best model found at epoch 21, saving model\n"
          ]
        },
        {
          "data": {
            "application/vnd.jupyter.widget-view+json": {
              "model_id": "68ef81a76e154c62a5e657592ed7a606",
              "version_major": 2,
              "version_minor": 0
            },
            "text/plain": [
              "  0%|          | 0/155 [00:00<?, ?it/s]"
            ]
          },
          "metadata": {},
          "output_type": "display_data"
        },
        {
          "name": "stdout",
          "output_type": "stream",
          "text": [
            "[ Train | 022/300 ] loss = 2.11263, acc = 0.52666\n",
            "loss = loss_layers + (10 * lamb) * loss_logits = 2.03702 + 0.05378 * 1.40596\n"
          ]
        },
        {
          "data": {
            "application/vnd.jupyter.widget-view+json": {
              "model_id": "4391b093554a4e6688dee19c82540dea",
              "version_major": 2,
              "version_minor": 0
            },
            "text/plain": [
              "  0%|          | 0/54 [00:00<?, ?it/s]"
            ]
          },
          "metadata": {},
          "output_type": "display_data"
        },
        {
          "name": "stdout",
          "output_type": "stream",
          "text": [
            "[ Valid | 022/300 ] loss = 1.92366, acc = 0.58601\n",
            "loss = loss_layers + (10 * lamb) * loss_logits = 1.85541 + 0.05378 * 1.26915\n"
          ]
        },
        {
          "data": {
            "application/vnd.jupyter.widget-view+json": {
              "model_id": "f9b8ae1453be450bac3d3e96a9e1b0e6",
              "version_major": 2,
              "version_minor": 0
            },
            "text/plain": [
              "  0%|          | 0/155 [00:00<?, ?it/s]"
            ]
          },
          "metadata": {},
          "output_type": "display_data"
        },
        {
          "name": "stdout",
          "output_type": "stream",
          "text": [
            "[ Train | 023/300 ] loss = 2.10700, acc = 0.53122\n",
            "loss = loss_layers + (10 * lamb) * loss_logits = 2.02474 + 0.05878 * 1.39947\n"
          ]
        },
        {
          "data": {
            "application/vnd.jupyter.widget-view+json": {
              "model_id": "bd840604bb14422eb908b5b30c6b19bc",
              "version_major": 2,
              "version_minor": 0
            },
            "text/plain": [
              "  0%|          | 0/54 [00:00<?, ?it/s]"
            ]
          },
          "metadata": {},
          "output_type": "display_data"
        },
        {
          "name": "stdout",
          "output_type": "stream",
          "text": [
            "[ Valid | 023/300 ] loss = 1.91749, acc = 0.61166 -> best\n",
            "loss = loss_layers + (10 * lamb) * loss_logits = 1.84172 + 0.05878 * 1.28895\n",
            "Best model found at epoch 23, saving model\n"
          ]
        },
        {
          "data": {
            "application/vnd.jupyter.widget-view+json": {
              "model_id": "164331b3856d466dad1483d19d9fe78f",
              "version_major": 2,
              "version_minor": 0
            },
            "text/plain": [
              "  0%|          | 0/155 [00:00<?, ?it/s]"
            ]
          },
          "metadata": {},
          "output_type": "display_data"
        },
        {
          "name": "stdout",
          "output_type": "stream",
          "text": [
            "[ Train | 024/300 ] loss = 2.10045, acc = 0.53710\n",
            "loss = loss_layers + (10 * lamb) * loss_logits = 2.01263 + 0.06400 * 1.37210\n"
          ]
        },
        {
          "data": {
            "application/vnd.jupyter.widget-view+json": {
              "model_id": "6dc75d360e3f4018bd78929f99964eea",
              "version_major": 2,
              "version_minor": 0
            },
            "text/plain": [
              "  0%|          | 0/54 [00:00<?, ?it/s]"
            ]
          },
          "metadata": {},
          "output_type": "display_data"
        },
        {
          "name": "stdout",
          "output_type": "stream",
          "text": [
            "[ Valid | 024/300 ] loss = 1.91904, acc = 0.61020\n",
            "loss = loss_layers + (10 * lamb) * loss_logits = 1.83731 + 0.06400 * 1.27699\n"
          ]
        },
        {
          "data": {
            "application/vnd.jupyter.widget-view+json": {
              "model_id": "0cb615268f384f81837b16189dae99de",
              "version_major": 2,
              "version_minor": 0
            },
            "text/plain": [
              "  0%|          | 0/155 [00:00<?, ?it/s]"
            ]
          },
          "metadata": {},
          "output_type": "display_data"
        },
        {
          "name": "stdout",
          "output_type": "stream",
          "text": [
            "[ Train | 025/300 ] loss = 2.09718, acc = 0.54896\n",
            "loss = loss_layers + (10 * lamb) * loss_logits = 2.00276 + 0.06944 * 1.35961\n"
          ]
        },
        {
          "data": {
            "application/vnd.jupyter.widget-view+json": {
              "model_id": "797981ab044340f6a6ef371419eca55d",
              "version_major": 2,
              "version_minor": 0
            },
            "text/plain": [
              "  0%|          | 0/54 [00:00<?, ?it/s]"
            ]
          },
          "metadata": {},
          "output_type": "display_data"
        },
        {
          "name": "stdout",
          "output_type": "stream",
          "text": [
            "[ Valid | 025/300 ] loss = 1.91342, acc = 0.59883\n",
            "loss = loss_layers + (10 * lamb) * loss_logits = 1.82503 + 0.06944 * 1.27285\n"
          ]
        },
        {
          "data": {
            "application/vnd.jupyter.widget-view+json": {
              "model_id": "77a4a5f1584d457b9886eff3eedf9b23",
              "version_major": 2,
              "version_minor": 0
            },
            "text/plain": [
              "  0%|          | 0/155 [00:00<?, ?it/s]"
            ]
          },
          "metadata": {},
          "output_type": "display_data"
        },
        {
          "name": "stdout",
          "output_type": "stream",
          "text": [
            "[ Train | 026/300 ] loss = 2.09421, acc = 0.54490\n",
            "loss = loss_layers + (10 * lamb) * loss_logits = 1.99261 + 0.07511 * 1.35270\n"
          ]
        },
        {
          "data": {
            "application/vnd.jupyter.widget-view+json": {
              "model_id": "0ba7e445829f4b8997ef9a8ba098eb0d",
              "version_major": 2,
              "version_minor": 0
            },
            "text/plain": [
              "  0%|          | 0/54 [00:00<?, ?it/s]"
            ]
          },
          "metadata": {},
          "output_type": "display_data"
        },
        {
          "name": "stdout",
          "output_type": "stream",
          "text": [
            "[ Valid | 026/300 ] loss = 1.91785, acc = 0.58251\n",
            "loss = loss_layers + (10 * lamb) * loss_logits = 1.82102 + 0.07511 * 1.28916\n"
          ]
        },
        {
          "data": {
            "application/vnd.jupyter.widget-view+json": {
              "model_id": "fdc72e2394a649c480d95ae27ee6adac",
              "version_major": 2,
              "version_minor": 0
            },
            "text/plain": [
              "  0%|          | 0/155 [00:00<?, ?it/s]"
            ]
          },
          "metadata": {},
          "output_type": "display_data"
        },
        {
          "name": "stdout",
          "output_type": "stream",
          "text": [
            "[ Train | 027/300 ] loss = 2.09042, acc = 0.54926\n",
            "loss = loss_layers + (10 * lamb) * loss_logits = 1.98132 + 0.08100 * 1.34683\n"
          ]
        },
        {
          "data": {
            "application/vnd.jupyter.widget-view+json": {
              "model_id": "726a6c80dc9545739e345a040d3346af",
              "version_major": 2,
              "version_minor": 0
            },
            "text/plain": [
              "  0%|          | 0/54 [00:00<?, ?it/s]"
            ]
          },
          "metadata": {},
          "output_type": "display_data"
        },
        {
          "name": "stdout",
          "output_type": "stream",
          "text": [
            "[ Valid | 027/300 ] loss = 1.91986, acc = 0.58338\n",
            "loss = loss_layers + (10 * lamb) * loss_logits = 1.81431 + 0.08100 * 1.30306\n"
          ]
        },
        {
          "data": {
            "application/vnd.jupyter.widget-view+json": {
              "model_id": "5d7766365b024ec39af5da98f23b6eb2",
              "version_major": 2,
              "version_minor": 0
            },
            "text/plain": [
              "  0%|          | 0/155 [00:00<?, ?it/s]"
            ]
          },
          "metadata": {},
          "output_type": "display_data"
        },
        {
          "name": "stdout",
          "output_type": "stream",
          "text": [
            "[ Train | 028/300 ] loss = 2.09291, acc = 0.55615\n",
            "loss = loss_layers + (10 * lamb) * loss_logits = 1.97741 + 0.08711 * 1.32594\n"
          ]
        },
        {
          "data": {
            "application/vnd.jupyter.widget-view+json": {
              "model_id": "1e94196362e14baeaea66376ceff479d",
              "version_major": 2,
              "version_minor": 0
            },
            "text/plain": [
              "  0%|          | 0/54 [00:00<?, ?it/s]"
            ]
          },
          "metadata": {},
          "output_type": "display_data"
        },
        {
          "name": "stdout",
          "output_type": "stream",
          "text": [
            "[ Valid | 028/300 ] loss = 1.90766, acc = 0.61108\n",
            "loss = loss_layers + (10 * lamb) * loss_logits = 1.80450 + 0.08711 * 1.18425\n"
          ]
        },
        {
          "data": {
            "application/vnd.jupyter.widget-view+json": {
              "model_id": "01f0f9cac39045088d14c8e4d0f3feb9",
              "version_major": 2,
              "version_minor": 0
            },
            "text/plain": [
              "  0%|          | 0/155 [00:00<?, ?it/s]"
            ]
          },
          "metadata": {},
          "output_type": "display_data"
        },
        {
          "name": "stdout",
          "output_type": "stream",
          "text": [
            "[ Train | 029/300 ] loss = 2.09464, acc = 0.55271\n",
            "loss = loss_layers + (10 * lamb) * loss_logits = 1.97269 + 0.09344 * 1.30513\n"
          ]
        },
        {
          "data": {
            "application/vnd.jupyter.widget-view+json": {
              "model_id": "3c42ac0f635f40cab23ca3e7898d9e58",
              "version_major": 2,
              "version_minor": 0
            },
            "text/plain": [
              "  0%|          | 0/54 [00:00<?, ?it/s]"
            ]
          },
          "metadata": {},
          "output_type": "display_data"
        },
        {
          "name": "stdout",
          "output_type": "stream",
          "text": [
            "[ Valid | 029/300 ] loss = 1.92043, acc = 0.58338\n",
            "loss = loss_layers + (10 * lamb) * loss_logits = 1.80360 + 0.09344 * 1.25021\n"
          ]
        },
        {
          "data": {
            "application/vnd.jupyter.widget-view+json": {
              "model_id": "b069471724db4b8b90c74c75b3f4d3b8",
              "version_major": 2,
              "version_minor": 0
            },
            "text/plain": [
              "  0%|          | 0/155 [00:00<?, ?it/s]"
            ]
          },
          "metadata": {},
          "output_type": "display_data"
        },
        {
          "name": "stdout",
          "output_type": "stream",
          "text": [
            "[ Train | 030/300 ] loss = 2.09725, acc = 0.57024\n",
            "loss = loss_layers + (10 * lamb) * loss_logits = 1.96696 + 0.10000 * 1.30290\n"
          ]
        },
        {
          "data": {
            "application/vnd.jupyter.widget-view+json": {
              "model_id": "5dde69e0c1ae425e9a5816b287082b14",
              "version_major": 2,
              "version_minor": 0
            },
            "text/plain": [
              "  0%|          | 0/54 [00:00<?, ?it/s]"
            ]
          },
          "metadata": {},
          "output_type": "display_data"
        },
        {
          "name": "stdout",
          "output_type": "stream",
          "text": [
            "[ Valid | 030/300 ] loss = 1.92340, acc = 0.58397\n",
            "loss = loss_layers + (10 * lamb) * loss_logits = 1.79903 + 0.10000 * 1.24373\n"
          ]
        },
        {
          "data": {
            "application/vnd.jupyter.widget-view+json": {
              "model_id": "c677a353e2f446a084196cb7ac3bf863",
              "version_major": 2,
              "version_minor": 0
            },
            "text/plain": [
              "  0%|          | 0/155 [00:00<?, ?it/s]"
            ]
          },
          "metadata": {},
          "output_type": "display_data"
        },
        {
          "name": "stdout",
          "output_type": "stream",
          "text": [
            "[ Train | 031/300 ] loss = 2.10136, acc = 0.56892\n",
            "loss = loss_layers + (10 * lamb) * loss_logits = 1.96411 + 0.10678 * 1.28541\n"
          ]
        },
        {
          "data": {
            "application/vnd.jupyter.widget-view+json": {
              "model_id": "396d43b55f294244a9dd6a01874a5ebd",
              "version_major": 2,
              "version_minor": 0
            },
            "text/plain": [
              "  0%|          | 0/54 [00:00<?, ?it/s]"
            ]
          },
          "metadata": {},
          "output_type": "display_data"
        },
        {
          "name": "stdout",
          "output_type": "stream",
          "text": [
            "[ Valid | 031/300 ] loss = 1.92054, acc = 0.63003 -> best\n",
            "loss = loss_layers + (10 * lamb) * loss_logits = 1.79295 + 0.10678 * 1.19485\n",
            "Best model found at epoch 31, saving model\n"
          ]
        },
        {
          "data": {
            "application/vnd.jupyter.widget-view+json": {
              "model_id": "6b7641f48b69478ca4dc904e936a0ee9",
              "version_major": 2,
              "version_minor": 0
            },
            "text/plain": [
              "  0%|          | 0/155 [00:00<?, ?it/s]"
            ]
          },
          "metadata": {},
          "output_type": "display_data"
        },
        {
          "name": "stdout",
          "output_type": "stream",
          "text": [
            "[ Train | 032/300 ] loss = 2.10275, acc = 0.57582\n",
            "loss = loss_layers + (10 * lamb) * loss_logits = 1.95720 + 0.11378 * 1.27923\n"
          ]
        },
        {
          "data": {
            "application/vnd.jupyter.widget-view+json": {
              "model_id": "27d75cf740224a669802c6be2a6bf13b",
              "version_major": 2,
              "version_minor": 0
            },
            "text/plain": [
              "  0%|          | 0/54 [00:00<?, ?it/s]"
            ]
          },
          "metadata": {},
          "output_type": "display_data"
        },
        {
          "name": "stdout",
          "output_type": "stream",
          "text": [
            "[ Valid | 032/300 ] loss = 1.94431, acc = 0.57843\n",
            "loss = loss_layers + (10 * lamb) * loss_logits = 1.79409 + 0.11378 * 1.32030\n"
          ]
        },
        {
          "data": {
            "application/vnd.jupyter.widget-view+json": {
              "model_id": "1977a108d9204bab857fb46f2b5b3f04",
              "version_major": 2,
              "version_minor": 0
            },
            "text/plain": [
              "  0%|          | 0/155 [00:00<?, ?it/s]"
            ]
          },
          "metadata": {},
          "output_type": "display_data"
        },
        {
          "name": "stdout",
          "output_type": "stream",
          "text": [
            "[ Train | 033/300 ] loss = 2.10716, acc = 0.58058\n",
            "loss = loss_layers + (10 * lamb) * loss_logits = 1.95238 + 0.12100 * 1.27915\n"
          ]
        },
        {
          "data": {
            "application/vnd.jupyter.widget-view+json": {
              "model_id": "a83ce25d47de440fabf346e9dc69c365",
              "version_major": 2,
              "version_minor": 0
            },
            "text/plain": [
              "  0%|          | 0/54 [00:00<?, ?it/s]"
            ]
          },
          "metadata": {},
          "output_type": "display_data"
        },
        {
          "name": "stdout",
          "output_type": "stream",
          "text": [
            "[ Valid | 033/300 ] loss = 1.92994, acc = 0.62566\n",
            "loss = loss_layers + (10 * lamb) * loss_logits = 1.79061 + 0.12100 * 1.15144\n"
          ]
        },
        {
          "data": {
            "application/vnd.jupyter.widget-view+json": {
              "model_id": "670f46eb54234d038789af5a250175c8",
              "version_major": 2,
              "version_minor": 0
            },
            "text/plain": [
              "  0%|          | 0/155 [00:00<?, ?it/s]"
            ]
          },
          "metadata": {},
          "output_type": "display_data"
        },
        {
          "name": "stdout",
          "output_type": "stream",
          "text": [
            "[ Train | 034/300 ] loss = 2.11282, acc = 0.58301\n",
            "loss = loss_layers + (10 * lamb) * loss_logits = 1.94910 + 0.12844 * 1.27460\n"
          ]
        },
        {
          "data": {
            "application/vnd.jupyter.widget-view+json": {
              "model_id": "90d38385201446cd9eb8de58a74e1742",
              "version_major": 2,
              "version_minor": 0
            },
            "text/plain": [
              "  0%|          | 0/54 [00:00<?, ?it/s]"
            ]
          },
          "metadata": {},
          "output_type": "display_data"
        },
        {
          "name": "stdout",
          "output_type": "stream",
          "text": [
            "[ Valid | 034/300 ] loss = 1.93291, acc = 0.64344 -> best\n",
            "loss = loss_layers + (10 * lamb) * loss_logits = 1.78452 + 0.12844 * 1.15532\n",
            "Best model found at epoch 34, saving model\n"
          ]
        },
        {
          "data": {
            "application/vnd.jupyter.widget-view+json": {
              "model_id": "54518839730c4ae99842acc293fd5c37",
              "version_major": 2,
              "version_minor": 0
            },
            "text/plain": [
              "  0%|          | 0/155 [00:00<?, ?it/s]"
            ]
          },
          "metadata": {},
          "output_type": "display_data"
        },
        {
          "name": "stdout",
          "output_type": "stream",
          "text": [
            "[ Train | 035/300 ] loss = 2.11923, acc = 0.58159\n",
            "loss = loss_layers + (10 * lamb) * loss_logits = 1.94852 + 0.13611 * 1.25424\n"
          ]
        },
        {
          "data": {
            "application/vnd.jupyter.widget-view+json": {
              "model_id": "fb3aef4e063b4b6fa494cbaf0bad75dc",
              "version_major": 2,
              "version_minor": 0
            },
            "text/plain": [
              "  0%|          | 0/54 [00:00<?, ?it/s]"
            ]
          },
          "metadata": {},
          "output_type": "display_data"
        },
        {
          "name": "stdout",
          "output_type": "stream",
          "text": [
            "[ Valid | 035/300 ] loss = 1.94334, acc = 0.62566\n",
            "loss = loss_layers + (10 * lamb) * loss_logits = 1.78420 + 0.13611 * 1.16914\n"
          ]
        },
        {
          "data": {
            "application/vnd.jupyter.widget-view+json": {
              "model_id": "bc82911e30944282a93c48c2460bfe55",
              "version_major": 2,
              "version_minor": 0
            },
            "text/plain": [
              "  0%|          | 0/155 [00:00<?, ?it/s]"
            ]
          },
          "metadata": {},
          "output_type": "display_data"
        },
        {
          "name": "stdout",
          "output_type": "stream",
          "text": [
            "[ Train | 036/300 ] loss = 2.12830, acc = 0.58291\n",
            "loss = loss_layers + (10 * lamb) * loss_logits = 1.94705 + 0.14400 * 1.25868\n"
          ]
        },
        {
          "data": {
            "application/vnd.jupyter.widget-view+json": {
              "model_id": "da8b8776683e4d3c9627c3a1494381b5",
              "version_major": 2,
              "version_minor": 0
            },
            "text/plain": [
              "  0%|          | 0/54 [00:00<?, ?it/s]"
            ]
          },
          "metadata": {},
          "output_type": "display_data"
        },
        {
          "name": "stdout",
          "output_type": "stream",
          "text": [
            "[ Valid | 036/300 ] loss = 1.95338, acc = 0.65831 -> best\n",
            "loss = loss_layers + (10 * lamb) * loss_logits = 1.78664 + 0.14400 * 1.15792\n",
            "Best model found at epoch 36, saving model\n"
          ]
        },
        {
          "data": {
            "application/vnd.jupyter.widget-view+json": {
              "model_id": "3abfb55843c34bb3b77184f9ce9b433e",
              "version_major": 2,
              "version_minor": 0
            },
            "text/plain": [
              "  0%|          | 0/155 [00:00<?, ?it/s]"
            ]
          },
          "metadata": {},
          "output_type": "display_data"
        },
        {
          "name": "stdout",
          "output_type": "stream",
          "text": [
            "[ Train | 037/300 ] loss = 2.13358, acc = 0.58494\n",
            "loss = loss_layers + (10 * lamb) * loss_logits = 1.94441 + 0.15211 * 1.24367\n"
          ]
        },
        {
          "data": {
            "application/vnd.jupyter.widget-view+json": {
              "model_id": "19106c64ef444fa28d5070f862cc0ecc",
              "version_major": 2,
              "version_minor": 0
            },
            "text/plain": [
              "  0%|          | 0/54 [00:00<?, ?it/s]"
            ]
          },
          "metadata": {},
          "output_type": "display_data"
        },
        {
          "name": "stdout",
          "output_type": "stream",
          "text": [
            "[ Valid | 037/300 ] loss = 1.95963, acc = 0.61808\n",
            "loss = loss_layers + (10 * lamb) * loss_logits = 1.78476 + 0.15211 * 1.14963\n"
          ]
        },
        {
          "data": {
            "application/vnd.jupyter.widget-view+json": {
              "model_id": "1e6ee3755ffa4c9c9e75d032f292ace7",
              "version_major": 2,
              "version_minor": 0
            },
            "text/plain": [
              "  0%|          | 0/155 [00:00<?, ?it/s]"
            ]
          },
          "metadata": {},
          "output_type": "display_data"
        },
        {
          "name": "stdout",
          "output_type": "stream",
          "text": [
            "[ Train | 038/300 ] loss = 2.14069, acc = 0.58524\n",
            "loss = loss_layers + (10 * lamb) * loss_logits = 1.94502 + 0.16044 * 1.21952\n"
          ]
        },
        {
          "data": {
            "application/vnd.jupyter.widget-view+json": {
              "model_id": "ce21db8ae5df47b5b286f4353b216c2f",
              "version_major": 2,
              "version_minor": 0
            },
            "text/plain": [
              "  0%|          | 0/54 [00:00<?, ?it/s]"
            ]
          },
          "metadata": {},
          "output_type": "display_data"
        },
        {
          "name": "stdout",
          "output_type": "stream",
          "text": [
            "[ Valid | 038/300 ] loss = 1.95931, acc = 0.63236\n",
            "loss = loss_layers + (10 * lamb) * loss_logits = 1.77913 + 0.16044 * 1.12303\n"
          ]
        },
        {
          "data": {
            "application/vnd.jupyter.widget-view+json": {
              "model_id": "ef364b44117c4fe1b498e32e46b63bf2",
              "version_major": 2,
              "version_minor": 0
            },
            "text/plain": [
              "  0%|          | 0/155 [00:00<?, ?it/s]"
            ]
          },
          "metadata": {},
          "output_type": "display_data"
        },
        {
          "name": "stdout",
          "output_type": "stream",
          "text": [
            "[ Train | 039/300 ] loss = 2.14714, acc = 0.59102\n",
            "loss = loss_layers + (10 * lamb) * loss_logits = 1.93813 + 0.16900 * 1.23680\n"
          ]
        },
        {
          "data": {
            "application/vnd.jupyter.widget-view+json": {
              "model_id": "3153877256974d19ad0392f11d190364",
              "version_major": 2,
              "version_minor": 0
            },
            "text/plain": [
              "  0%|          | 0/54 [00:00<?, ?it/s]"
            ]
          },
          "metadata": {},
          "output_type": "display_data"
        },
        {
          "name": "stdout",
          "output_type": "stream",
          "text": [
            "[ Valid | 039/300 ] loss = 1.98519, acc = 0.61895\n",
            "loss = loss_layers + (10 * lamb) * loss_logits = 1.77904 + 0.16900 * 1.21981\n"
          ]
        },
        {
          "data": {
            "application/vnd.jupyter.widget-view+json": {
              "model_id": "a97c5ff165e94bb19e4f2a7377eeebcc",
              "version_major": 2,
              "version_minor": 0
            },
            "text/plain": [
              "  0%|          | 0/155 [00:00<?, ?it/s]"
            ]
          },
          "metadata": {},
          "output_type": "display_data"
        },
        {
          "name": "stdout",
          "output_type": "stream",
          "text": [
            "[ Train | 040/300 ] loss = 2.15749, acc = 0.60308\n",
            "loss = loss_layers + (10 * lamb) * loss_logits = 1.94135 + 0.17778 * 1.21578\n"
          ]
        },
        {
          "data": {
            "application/vnd.jupyter.widget-view+json": {
              "model_id": "d866a000a7244295902433f04aba7b59",
              "version_major": 2,
              "version_minor": 0
            },
            "text/plain": [
              "  0%|          | 0/54 [00:00<?, ?it/s]"
            ]
          },
          "metadata": {},
          "output_type": "display_data"
        },
        {
          "name": "stdout",
          "output_type": "stream",
          "text": [
            "[ Valid | 040/300 ] loss = 1.97736, acc = 0.66822 -> best\n",
            "loss = loss_layers + (10 * lamb) * loss_logits = 1.78141 + 0.17778 * 1.10222\n",
            "Best model found at epoch 40, saving model\n"
          ]
        },
        {
          "data": {
            "application/vnd.jupyter.widget-view+json": {
              "model_id": "43986c26534f405186edfab6d03aa608",
              "version_major": 2,
              "version_minor": 0
            },
            "text/plain": [
              "  0%|          | 0/155 [00:00<?, ?it/s]"
            ]
          },
          "metadata": {},
          "output_type": "display_data"
        },
        {
          "name": "stdout",
          "output_type": "stream",
          "text": [
            "[ Train | 041/300 ] loss = 2.16328, acc = 0.59923\n",
            "loss = loss_layers + (10 * lamb) * loss_logits = 1.93862 + 0.18678 * 1.20283\n"
          ]
        },
        {
          "data": {
            "application/vnd.jupyter.widget-view+json": {
              "model_id": "572fe8184b364621858e5c2d6ad13939",
              "version_major": 2,
              "version_minor": 0
            },
            "text/plain": [
              "  0%|          | 0/54 [00:00<?, ?it/s]"
            ]
          },
          "metadata": {},
          "output_type": "display_data"
        },
        {
          "name": "stdout",
          "output_type": "stream",
          "text": [
            "[ Valid | 041/300 ] loss = 1.98868, acc = 0.65627\n",
            "loss = loss_layers + (10 * lamb) * loss_logits = 1.77873 + 0.18678 * 1.12405\n"
          ]
        },
        {
          "data": {
            "application/vnd.jupyter.widget-view+json": {
              "model_id": "d0cc2cf5756c4f6db827f8aa92e90be0",
              "version_major": 2,
              "version_minor": 0
            },
            "text/plain": [
              "  0%|          | 0/155 [00:00<?, ?it/s]"
            ]
          },
          "metadata": {},
          "output_type": "display_data"
        },
        {
          "name": "stdout",
          "output_type": "stream",
          "text": [
            "[ Train | 042/300 ] loss = 2.16761, acc = 0.60906\n",
            "loss = loss_layers + (10 * lamb) * loss_logits = 1.93317 + 0.19600 * 1.19615\n"
          ]
        },
        {
          "data": {
            "application/vnd.jupyter.widget-view+json": {
              "model_id": "7791b3186baa480e8441b432161ead38",
              "version_major": 2,
              "version_minor": 0
            },
            "text/plain": [
              "  0%|          | 0/54 [00:00<?, ?it/s]"
            ]
          },
          "metadata": {},
          "output_type": "display_data"
        },
        {
          "name": "stdout",
          "output_type": "stream",
          "text": [
            "[ Valid | 042/300 ] loss = 2.01131, acc = 0.64169\n",
            "loss = loss_layers + (10 * lamb) * loss_logits = 1.78074 + 0.19600 * 1.17636\n"
          ]
        },
        {
          "data": {
            "application/vnd.jupyter.widget-view+json": {
              "model_id": "e67e15df6960425384e3f9087fb3bdb2",
              "version_major": 2,
              "version_minor": 0
            },
            "text/plain": [
              "  0%|          | 0/155 [00:00<?, ?it/s]"
            ]
          },
          "metadata": {},
          "output_type": "display_data"
        },
        {
          "name": "stdout",
          "output_type": "stream",
          "text": [
            "[ Train | 043/300 ] loss = 2.18318, acc = 0.60308\n",
            "loss = loss_layers + (10 * lamb) * loss_logits = 1.93465 + 0.20544 * 1.20974\n"
          ]
        },
        {
          "data": {
            "application/vnd.jupyter.widget-view+json": {
              "model_id": "4b9d419de7424a8c962d231b87ac56b9",
              "version_major": 2,
              "version_minor": 0
            },
            "text/plain": [
              "  0%|          | 0/54 [00:00<?, ?it/s]"
            ]
          },
          "metadata": {},
          "output_type": "display_data"
        },
        {
          "name": "stdout",
          "output_type": "stream",
          "text": [
            "[ Valid | 043/300 ] loss = 2.00510, acc = 0.64840\n",
            "loss = loss_layers + (10 * lamb) * loss_logits = 1.78170 + 0.20544 * 1.08740\n"
          ]
        },
        {
          "data": {
            "application/vnd.jupyter.widget-view+json": {
              "model_id": "76b783e2c8b1440c8662ec055fc23390",
              "version_major": 2,
              "version_minor": 0
            },
            "text/plain": [
              "  0%|          | 0/155 [00:00<?, ?it/s]"
            ]
          },
          "metadata": {},
          "output_type": "display_data"
        },
        {
          "name": "stdout",
          "output_type": "stream",
          "text": [
            "[ Train | 044/300 ] loss = 2.19061, acc = 0.60562\n",
            "loss = loss_layers + (10 * lamb) * loss_logits = 1.93370 + 0.21511 * 1.19431\n"
          ]
        },
        {
          "data": {
            "application/vnd.jupyter.widget-view+json": {
              "model_id": "458d6ad362ed4f03b05961292f8c0782",
              "version_major": 2,
              "version_minor": 0
            },
            "text/plain": [
              "  0%|          | 0/54 [00:00<?, ?it/s]"
            ]
          },
          "metadata": {},
          "output_type": "display_data"
        },
        {
          "name": "stdout",
          "output_type": "stream",
          "text": [
            "[ Valid | 044/300 ] loss = 2.02890, acc = 0.65189\n",
            "loss = loss_layers + (10 * lamb) * loss_logits = 1.77800 + 0.21511 * 1.16640\n"
          ]
        },
        {
          "data": {
            "application/vnd.jupyter.widget-view+json": {
              "model_id": "37e58a92212e47898c82b2ed1019175c",
              "version_major": 2,
              "version_minor": 0
            },
            "text/plain": [
              "  0%|          | 0/155 [00:00<?, ?it/s]"
            ]
          },
          "metadata": {},
          "output_type": "display_data"
        },
        {
          "name": "stdout",
          "output_type": "stream",
          "text": [
            "[ Train | 045/300 ] loss = 2.20170, acc = 0.60937\n",
            "loss = loss_layers + (10 * lamb) * loss_logits = 1.93656 + 0.22500 * 1.17840\n"
          ]
        },
        {
          "data": {
            "application/vnd.jupyter.widget-view+json": {
              "model_id": "1c328d6290684a33bf3f23b63a267016",
              "version_major": 2,
              "version_minor": 0
            },
            "text/plain": [
              "  0%|          | 0/54 [00:00<?, ?it/s]"
            ]
          },
          "metadata": {},
          "output_type": "display_data"
        },
        {
          "name": "stdout",
          "output_type": "stream",
          "text": [
            "[ Valid | 045/300 ] loss = 2.05319, acc = 0.63353\n",
            "loss = loss_layers + (10 * lamb) * loss_logits = 1.77995 + 0.22500 * 1.21443\n"
          ]
        },
        {
          "data": {
            "application/vnd.jupyter.widget-view+json": {
              "model_id": "b1befe8afce44449b42580cda215e5ae",
              "version_major": 2,
              "version_minor": 0
            },
            "text/plain": [
              "  0%|          | 0/155 [00:00<?, ?it/s]"
            ]
          },
          "metadata": {},
          "output_type": "display_data"
        },
        {
          "name": "stdout",
          "output_type": "stream",
          "text": [
            "[ Train | 046/300 ] loss = 2.21190, acc = 0.61281\n",
            "loss = loss_layers + (10 * lamb) * loss_logits = 1.93480 + 0.23511 * 1.17858\n"
          ]
        },
        {
          "data": {
            "application/vnd.jupyter.widget-view+json": {
              "model_id": "c68dc749e67f45a08a229c142bc2ebdd",
              "version_major": 2,
              "version_minor": 0
            },
            "text/plain": [
              "  0%|          | 0/54 [00:00<?, ?it/s]"
            ]
          },
          "metadata": {},
          "output_type": "display_data"
        },
        {
          "name": "stdout",
          "output_type": "stream",
          "text": [
            "[ Valid | 046/300 ] loss = 2.05503, acc = 0.62157\n",
            "loss = loss_layers + (10 * lamb) * loss_logits = 1.78145 + 0.23511 * 1.16363\n"
          ]
        },
        {
          "data": {
            "application/vnd.jupyter.widget-view+json": {
              "model_id": "7915dea04f7c41b68460a6d394c46d5d",
              "version_major": 2,
              "version_minor": 0
            },
            "text/plain": [
              "  0%|          | 0/155 [00:00<?, ?it/s]"
            ]
          },
          "metadata": {},
          "output_type": "display_data"
        },
        {
          "name": "stdout",
          "output_type": "stream",
          "text": [
            "[ Train | 047/300 ] loss = 2.22594, acc = 0.61180\n",
            "loss = loss_layers + (10 * lamb) * loss_logits = 1.93574 + 0.24544 * 1.18235\n"
          ]
        },
        {
          "data": {
            "application/vnd.jupyter.widget-view+json": {
              "model_id": "253947aad57b41f0b1262a866d68ef94",
              "version_major": 2,
              "version_minor": 0
            },
            "text/plain": [
              "  0%|          | 0/54 [00:00<?, ?it/s]"
            ]
          },
          "metadata": {},
          "output_type": "display_data"
        },
        {
          "name": "stdout",
          "output_type": "stream",
          "text": [
            "[ Valid | 047/300 ] loss = 2.04364, acc = 0.65889\n",
            "loss = loss_layers + (10 * lamb) * loss_logits = 1.77875 + 0.24544 * 1.07922\n"
          ]
        },
        {
          "data": {
            "application/vnd.jupyter.widget-view+json": {
              "model_id": "bc56d03eb775466e9e8938f6c869cf05",
              "version_major": 2,
              "version_minor": 0
            },
            "text/plain": [
              "  0%|          | 0/155 [00:00<?, ?it/s]"
            ]
          },
          "metadata": {},
          "output_type": "display_data"
        },
        {
          "name": "stdout",
          "output_type": "stream",
          "text": [
            "[ Train | 048/300 ] loss = 2.23190, acc = 0.61818\n",
            "loss = loss_layers + (10 * lamb) * loss_logits = 1.93457 + 0.25600 * 1.16145\n"
          ]
        },
        {
          "data": {
            "application/vnd.jupyter.widget-view+json": {
              "model_id": "a30a879ab906449aabcef066aa5f7195",
              "version_major": 2,
              "version_minor": 0
            },
            "text/plain": [
              "  0%|          | 0/54 [00:00<?, ?it/s]"
            ]
          },
          "metadata": {},
          "output_type": "display_data"
        },
        {
          "name": "stdout",
          "output_type": "stream",
          "text": [
            "[ Valid | 048/300 ] loss = 2.04670, acc = 0.65860\n",
            "loss = loss_layers + (10 * lamb) * loss_logits = 1.77734 + 0.25600 * 1.05215\n"
          ]
        },
        {
          "data": {
            "application/vnd.jupyter.widget-view+json": {
              "model_id": "a7466f399267443789180400b0099193",
              "version_major": 2,
              "version_minor": 0
            },
            "text/plain": [
              "  0%|          | 0/155 [00:00<?, ?it/s]"
            ]
          },
          "metadata": {},
          "output_type": "display_data"
        },
        {
          "name": "stdout",
          "output_type": "stream",
          "text": [
            "[ Train | 049/300 ] loss = 2.23788, acc = 0.62244\n",
            "loss = loss_layers + (10 * lamb) * loss_logits = 1.92992 + 0.26678 * 1.15435\n"
          ]
        },
        {
          "data": {
            "application/vnd.jupyter.widget-view+json": {
              "model_id": "723872be533a4769b7dd3602953d4b6d",
              "version_major": 2,
              "version_minor": 0
            },
            "text/plain": [
              "  0%|          | 0/54 [00:00<?, ?it/s]"
            ]
          },
          "metadata": {},
          "output_type": "display_data"
        },
        {
          "name": "stdout",
          "output_type": "stream",
          "text": [
            "[ Valid | 049/300 ] loss = 2.07676, acc = 0.63440\n",
            "loss = loss_layers + (10 * lamb) * loss_logits = 1.77745 + 0.26678 * 1.12196\n"
          ]
        },
        {
          "data": {
            "application/vnd.jupyter.widget-view+json": {
              "model_id": "d7351d0891b24aa8a1aad6a329b5f667",
              "version_major": 2,
              "version_minor": 0
            },
            "text/plain": [
              "  0%|          | 0/155 [00:00<?, ?it/s]"
            ]
          },
          "metadata": {},
          "output_type": "display_data"
        },
        {
          "name": "stdout",
          "output_type": "stream",
          "text": [
            "[ Train | 050/300 ] loss = 2.24964, acc = 0.62021\n",
            "loss = loss_layers + (10 * lamb) * loss_logits = 1.93420 + 0.27778 * 1.13556\n"
          ]
        },
        {
          "data": {
            "application/vnd.jupyter.widget-view+json": {
              "model_id": "3f3473c300234245812a6c1a15e5828c",
              "version_major": 2,
              "version_minor": 0
            },
            "text/plain": [
              "  0%|          | 0/54 [00:00<?, ?it/s]"
            ]
          },
          "metadata": {},
          "output_type": "display_data"
        },
        {
          "name": "stdout",
          "output_type": "stream",
          "text": [
            "[ Valid | 050/300 ] loss = 2.07537, acc = 0.65102\n",
            "loss = loss_layers + (10 * lamb) * loss_logits = 1.77642 + 0.27778 * 1.07622\n"
          ]
        },
        {
          "data": {
            "application/vnd.jupyter.widget-view+json": {
              "model_id": "9f96a1b2c9ee4cb18507606ec2bae75b",
              "version_major": 2,
              "version_minor": 0
            },
            "text/plain": [
              "  0%|          | 0/155 [00:00<?, ?it/s]"
            ]
          },
          "metadata": {},
          "output_type": "display_data"
        },
        {
          "name": "stdout",
          "output_type": "stream",
          "text": [
            "[ Train | 051/300 ] loss = 2.26933, acc = 0.62954\n",
            "loss = loss_layers + (10 * lamb) * loss_logits = 1.93590 + 0.28900 * 1.15371\n"
          ]
        },
        {
          "data": {
            "application/vnd.jupyter.widget-view+json": {
              "model_id": "dc3cc6ced33440fd8b375895fa591e60",
              "version_major": 2,
              "version_minor": 0
            },
            "text/plain": [
              "  0%|          | 0/54 [00:00<?, ?it/s]"
            ]
          },
          "metadata": {},
          "output_type": "display_data"
        },
        {
          "name": "stdout",
          "output_type": "stream",
          "text": [
            "[ Valid | 051/300 ] loss = 2.08543, acc = 0.66035\n",
            "loss = loss_layers + (10 * lamb) * loss_logits = 1.77590 + 0.28900 * 1.07105\n"
          ]
        },
        {
          "data": {
            "application/vnd.jupyter.widget-view+json": {
              "model_id": "65e2a6afd80e4998b0ca1769a8965500",
              "version_major": 2,
              "version_minor": 0
            },
            "text/plain": [
              "  0%|          | 0/155 [00:00<?, ?it/s]"
            ]
          },
          "metadata": {},
          "output_type": "display_data"
        },
        {
          "name": "stdout",
          "output_type": "stream",
          "text": [
            "[ Train | 052/300 ] loss = 2.27850, acc = 0.62883\n",
            "loss = loss_layers + (10 * lamb) * loss_logits = 1.93289 + 0.30044 * 1.15034\n"
          ]
        },
        {
          "data": {
            "application/vnd.jupyter.widget-view+json": {
              "model_id": "0ac26479f7094087a151a7ce5697024c",
              "version_major": 2,
              "version_minor": 0
            },
            "text/plain": [
              "  0%|          | 0/54 [00:00<?, ?it/s]"
            ]
          },
          "metadata": {},
          "output_type": "display_data"
        },
        {
          "name": "stdout",
          "output_type": "stream",
          "text": [
            "[ Valid | 052/300 ] loss = 2.10360, acc = 0.66152\n",
            "loss = loss_layers + (10 * lamb) * loss_logits = 1.77451 + 0.30044 * 1.09536\n"
          ]
        },
        {
          "data": {
            "application/vnd.jupyter.widget-view+json": {
              "model_id": "073a051f33ea469cb20858d8b7deb359",
              "version_major": 2,
              "version_minor": 0
            },
            "text/plain": [
              "  0%|          | 0/155 [00:00<?, ?it/s]"
            ]
          },
          "metadata": {},
          "output_type": "display_data"
        },
        {
          "name": "stdout",
          "output_type": "stream",
          "text": [
            "[ Train | 053/300 ] loss = 2.28612, acc = 0.63785\n",
            "loss = loss_layers + (10 * lamb) * loss_logits = 1.93051 + 0.31211 * 1.13936\n"
          ]
        },
        {
          "data": {
            "application/vnd.jupyter.widget-view+json": {
              "model_id": "2be9a97776764146a1816bda7f316fb4",
              "version_major": 2,
              "version_minor": 0
            },
            "text/plain": [
              "  0%|          | 0/54 [00:00<?, ?it/s]"
            ]
          },
          "metadata": {},
          "output_type": "display_data"
        },
        {
          "name": "stdout",
          "output_type": "stream",
          "text": [
            "[ Valid | 053/300 ] loss = 2.11546, acc = 0.65569\n",
            "loss = loss_layers + (10 * lamb) * loss_logits = 1.78314 + 0.31211 * 1.06475\n"
          ]
        },
        {
          "data": {
            "application/vnd.jupyter.widget-view+json": {
              "model_id": "2955e1767b06496686728d6d82ea8a08",
              "version_major": 2,
              "version_minor": 0
            },
            "text/plain": [
              "  0%|          | 0/155 [00:00<?, ?it/s]"
            ]
          },
          "metadata": {},
          "output_type": "display_data"
        },
        {
          "name": "stdout",
          "output_type": "stream",
          "text": [
            "[ Train | 054/300 ] loss = 2.29968, acc = 0.63714\n",
            "loss = loss_layers + (10 * lamb) * loss_logits = 1.93507 + 0.32400 * 1.12533\n"
          ]
        },
        {
          "data": {
            "application/vnd.jupyter.widget-view+json": {
              "model_id": "be6d815761714920a775c53e8039d87b",
              "version_major": 2,
              "version_minor": 0
            },
            "text/plain": [
              "  0%|          | 0/54 [00:00<?, ?it/s]"
            ]
          },
          "metadata": {},
          "output_type": "display_data"
        },
        {
          "name": "stdout",
          "output_type": "stream",
          "text": [
            "[ Valid | 054/300 ] loss = 2.13185, acc = 0.64665\n",
            "loss = loss_layers + (10 * lamb) * loss_logits = 1.78311 + 0.32400 * 1.07635\n"
          ]
        },
        {
          "data": {
            "application/vnd.jupyter.widget-view+json": {
              "model_id": "3ed251506a604966be211f13ccca0434",
              "version_major": 2,
              "version_minor": 0
            },
            "text/plain": [
              "  0%|          | 0/155 [00:00<?, ?it/s]"
            ]
          },
          "metadata": {},
          "output_type": "display_data"
        },
        {
          "name": "stdout",
          "output_type": "stream",
          "text": [
            "[ Train | 055/300 ] loss = 2.30950, acc = 0.62994\n",
            "loss = loss_layers + (10 * lamb) * loss_logits = 1.93132 + 0.33611 * 1.12515\n"
          ]
        },
        {
          "data": {
            "application/vnd.jupyter.widget-view+json": {
              "model_id": "771718e68ddf4d539b3e2ac8588c3615",
              "version_major": 2,
              "version_minor": 0
            },
            "text/plain": [
              "  0%|          | 0/54 [00:00<?, ?it/s]"
            ]
          },
          "metadata": {},
          "output_type": "display_data"
        },
        {
          "name": "stdout",
          "output_type": "stream",
          "text": [
            "[ Valid | 055/300 ] loss = 2.13924, acc = 0.67522 -> best\n",
            "loss = loss_layers + (10 * lamb) * loss_logits = 1.77926 + 0.33611 * 1.07102\n",
            "Best model found at epoch 55, saving model\n"
          ]
        },
        {
          "data": {
            "application/vnd.jupyter.widget-view+json": {
              "model_id": "97327dfdffba4899a6cc7ff5ee34bb91",
              "version_major": 2,
              "version_minor": 0
            },
            "text/plain": [
              "  0%|          | 0/155 [00:00<?, ?it/s]"
            ]
          },
          "metadata": {},
          "output_type": "display_data"
        },
        {
          "name": "stdout",
          "output_type": "stream",
          "text": [
            "[ Train | 056/300 ] loss = 2.32216, acc = 0.64585\n",
            "loss = loss_layers + (10 * lamb) * loss_logits = 1.93138 + 0.34844 * 1.12149\n"
          ]
        },
        {
          "data": {
            "application/vnd.jupyter.widget-view+json": {
              "model_id": "74f0b6b70db8494d85ab0532660c186f",
              "version_major": 2,
              "version_minor": 0
            },
            "text/plain": [
              "  0%|          | 0/54 [00:00<?, ?it/s]"
            ]
          },
          "metadata": {},
          "output_type": "display_data"
        },
        {
          "name": "stdout",
          "output_type": "stream",
          "text": [
            "[ Valid | 056/300 ] loss = 2.15869, acc = 0.68426 -> best\n",
            "loss = loss_layers + (10 * lamb) * loss_logits = 1.78044 + 0.34844 * 1.08553\n",
            "Best model found at epoch 56, saving model\n"
          ]
        },
        {
          "data": {
            "application/vnd.jupyter.widget-view+json": {
              "model_id": "a6a14246091c41419c7c57f9428ebab8",
              "version_major": 2,
              "version_minor": 0
            },
            "text/plain": [
              "  0%|          | 0/155 [00:00<?, ?it/s]"
            ]
          },
          "metadata": {},
          "output_type": "display_data"
        },
        {
          "name": "stdout",
          "output_type": "stream",
          "text": [
            "[ Train | 057/300 ] loss = 2.33786, acc = 0.63906\n",
            "loss = loss_layers + (10 * lamb) * loss_logits = 1.93781 + 0.36100 * 1.10818\n"
          ]
        },
        {
          "data": {
            "application/vnd.jupyter.widget-view+json": {
              "model_id": "91a11eb9b0684e399bfdbc61cf66b4bc",
              "version_major": 2,
              "version_minor": 0
            },
            "text/plain": [
              "  0%|          | 0/54 [00:00<?, ?it/s]"
            ]
          },
          "metadata": {},
          "output_type": "display_data"
        },
        {
          "name": "stdout",
          "output_type": "stream",
          "text": [
            "[ Valid | 057/300 ] loss = 2.17904, acc = 0.69067 -> best\n",
            "loss = loss_layers + (10 * lamb) * loss_logits = 1.78104 + 0.36100 * 1.10250\n",
            "Best model found at epoch 57, saving model\n"
          ]
        },
        {
          "data": {
            "application/vnd.jupyter.widget-view+json": {
              "model_id": "5b47f36cd2464818a78d1772c9b7c7e4",
              "version_major": 2,
              "version_minor": 0
            },
            "text/plain": [
              "  0%|          | 0/155 [00:00<?, ?it/s]"
            ]
          },
          "metadata": {},
          "output_type": "display_data"
        },
        {
          "name": "stdout",
          "output_type": "stream",
          "text": [
            "[ Train | 058/300 ] loss = 2.35167, acc = 0.63714\n",
            "loss = loss_layers + (10 * lamb) * loss_logits = 1.93770 + 0.37378 * 1.10752\n"
          ]
        },
        {
          "data": {
            "application/vnd.jupyter.widget-view+json": {
              "model_id": "ca7455dbbb9943a1aeebb2779c0d07b5",
              "version_major": 2,
              "version_minor": 0
            },
            "text/plain": [
              "  0%|          | 0/54 [00:00<?, ?it/s]"
            ]
          },
          "metadata": {},
          "output_type": "display_data"
        },
        {
          "name": "stdout",
          "output_type": "stream",
          "text": [
            "[ Valid | 058/300 ] loss = 2.17154, acc = 0.66589\n",
            "loss = loss_layers + (10 * lamb) * loss_logits = 1.78155 + 0.37378 * 1.04337\n"
          ]
        },
        {
          "data": {
            "application/vnd.jupyter.widget-view+json": {
              "model_id": "5152d961b33b47f0bfa609e00ac3cb3c",
              "version_major": 2,
              "version_minor": 0
            },
            "text/plain": [
              "  0%|          | 0/155 [00:00<?, ?it/s]"
            ]
          },
          "metadata": {},
          "output_type": "display_data"
        },
        {
          "name": "stdout",
          "output_type": "stream",
          "text": [
            "[ Train | 059/300 ] loss = 2.36572, acc = 0.64433\n",
            "loss = loss_layers + (10 * lamb) * loss_logits = 1.94038 + 0.38678 * 1.09971\n"
          ]
        },
        {
          "data": {
            "application/vnd.jupyter.widget-view+json": {
              "model_id": "988c3cb4cd51408295e3a1ec9ea72b57",
              "version_major": 2,
              "version_minor": 0
            },
            "text/plain": [
              "  0%|          | 0/54 [00:00<?, ?it/s]"
            ]
          },
          "metadata": {},
          "output_type": "display_data"
        },
        {
          "name": "stdout",
          "output_type": "stream",
          "text": [
            "[ Valid | 059/300 ] loss = 2.22218, acc = 0.66851\n",
            "loss = loss_layers + (10 * lamb) * loss_logits = 1.78495 + 0.38678 * 1.13047\n"
          ]
        },
        {
          "data": {
            "application/vnd.jupyter.widget-view+json": {
              "model_id": "0a4dba22a8fb4c239684d27ec5030b37",
              "version_major": 2,
              "version_minor": 0
            },
            "text/plain": [
              "  0%|          | 0/155 [00:00<?, ?it/s]"
            ]
          },
          "metadata": {},
          "output_type": "display_data"
        },
        {
          "name": "stdout",
          "output_type": "stream",
          "text": [
            "[ Train | 060/300 ] loss = 2.36904, acc = 0.64616\n",
            "loss = loss_layers + (10 * lamb) * loss_logits = 1.93361 + 0.40000 * 1.08858\n"
          ]
        },
        {
          "data": {
            "application/vnd.jupyter.widget-view+json": {
              "model_id": "34887487f06e46ba82e907ae9044babb",
              "version_major": 2,
              "version_minor": 0
            },
            "text/plain": [
              "  0%|          | 0/54 [00:00<?, ?it/s]"
            ]
          },
          "metadata": {},
          "output_type": "display_data"
        },
        {
          "name": "stdout",
          "output_type": "stream",
          "text": [
            "[ Valid | 060/300 ] loss = 2.21026, acc = 0.66152\n",
            "loss = loss_layers + (10 * lamb) * loss_logits = 1.78529 + 0.40000 * 1.06243\n"
          ]
        },
        {
          "data": {
            "application/vnd.jupyter.widget-view+json": {
              "model_id": "dca29a6660514ba290098280a183f66c",
              "version_major": 2,
              "version_minor": 0
            },
            "text/plain": [
              "  0%|          | 0/155 [00:00<?, ?it/s]"
            ]
          },
          "metadata": {},
          "output_type": "display_data"
        },
        {
          "name": "stdout",
          "output_type": "stream",
          "text": [
            "[ Train | 061/300 ] loss = 2.39837, acc = 0.64058\n",
            "loss = loss_layers + (10 * lamb) * loss_logits = 1.94484 + 0.41344 * 1.09696\n"
          ]
        },
        {
          "data": {
            "application/vnd.jupyter.widget-view+json": {
              "model_id": "d5515cdcec64470da5ac180e0eaa55d9",
              "version_major": 2,
              "version_minor": 0
            },
            "text/plain": [
              "  0%|          | 0/54 [00:00<?, ?it/s]"
            ]
          },
          "metadata": {},
          "output_type": "display_data"
        },
        {
          "name": "stdout",
          "output_type": "stream",
          "text": [
            "[ Valid | 061/300 ] loss = 2.20099, acc = 0.68659\n",
            "loss = loss_layers + (10 * lamb) * loss_logits = 1.78315 + 0.41344 * 1.01064\n"
          ]
        },
        {
          "data": {
            "application/vnd.jupyter.widget-view+json": {
              "model_id": "06d7231ebbea4a5d84e78e694f73df7f",
              "version_major": 2,
              "version_minor": 0
            },
            "text/plain": [
              "  0%|          | 0/155 [00:00<?, ?it/s]"
            ]
          },
          "metadata": {},
          "output_type": "display_data"
        },
        {
          "name": "stdout",
          "output_type": "stream",
          "text": [
            "[ Train | 062/300 ] loss = 2.40322, acc = 0.64545\n",
            "loss = loss_layers + (10 * lamb) * loss_logits = 1.93793 + 0.42711 * 1.08939\n"
          ]
        },
        {
          "data": {
            "application/vnd.jupyter.widget-view+json": {
              "model_id": "efed17172bb0467a81109205b1a884d9",
              "version_major": 2,
              "version_minor": 0
            },
            "text/plain": [
              "  0%|          | 0/54 [00:00<?, ?it/s]"
            ]
          },
          "metadata": {},
          "output_type": "display_data"
        },
        {
          "name": "stdout",
          "output_type": "stream",
          "text": [
            "[ Valid | 062/300 ] loss = 2.22856, acc = 0.66239\n",
            "loss = loss_layers + (10 * lamb) * loss_logits = 1.78470 + 0.42711 * 1.03922\n"
          ]
        },
        {
          "data": {
            "application/vnd.jupyter.widget-view+json": {
              "model_id": "c1702f3f55264ff994852cb8eb5dd73a",
              "version_major": 2,
              "version_minor": 0
            },
            "text/plain": [
              "  0%|          | 0/155 [00:00<?, ?it/s]"
            ]
          },
          "metadata": {},
          "output_type": "display_data"
        },
        {
          "name": "stdout",
          "output_type": "stream",
          "text": [
            "[ Train | 063/300 ] loss = 2.41499, acc = 0.65254\n",
            "loss = loss_layers + (10 * lamb) * loss_logits = 1.93939 + 0.44100 * 1.07847\n"
          ]
        },
        {
          "data": {
            "application/vnd.jupyter.widget-view+json": {
              "model_id": "3e18fa4ba2e6444380ea0d7c1dea72d9",
              "version_major": 2,
              "version_minor": 0
            },
            "text/plain": [
              "  0%|          | 0/54 [00:00<?, ?it/s]"
            ]
          },
          "metadata": {},
          "output_type": "display_data"
        },
        {
          "name": "stdout",
          "output_type": "stream",
          "text": [
            "[ Valid | 063/300 ] loss = 2.25342, acc = 0.65802\n",
            "loss = loss_layers + (10 * lamb) * loss_logits = 1.78848 + 0.44100 * 1.05428\n"
          ]
        },
        {
          "data": {
            "application/vnd.jupyter.widget-view+json": {
              "model_id": "6ef44e0a6e9046e0bcbf536bba7de463",
              "version_major": 2,
              "version_minor": 0
            },
            "text/plain": [
              "  0%|          | 0/155 [00:00<?, ?it/s]"
            ]
          },
          "metadata": {},
          "output_type": "display_data"
        },
        {
          "name": "stdout",
          "output_type": "stream",
          "text": [
            "[ Train | 064/300 ] loss = 2.42916, acc = 0.66116\n",
            "loss = loss_layers + (10 * lamb) * loss_logits = 1.93791 + 0.45511 * 1.07941\n"
          ]
        },
        {
          "data": {
            "application/vnd.jupyter.widget-view+json": {
              "model_id": "612cfc10f3f844ae87fc894629c61af0",
              "version_major": 2,
              "version_minor": 0
            },
            "text/plain": [
              "  0%|          | 0/54 [00:00<?, ?it/s]"
            ]
          },
          "metadata": {},
          "output_type": "display_data"
        },
        {
          "name": "stdout",
          "output_type": "stream",
          "text": [
            "[ Valid | 064/300 ] loss = 2.23820, acc = 0.69854 -> best\n",
            "loss = loss_layers + (10 * lamb) * loss_logits = 1.78657 + 0.45511 * 0.99236\n",
            "Best model found at epoch 64, saving model\n"
          ]
        },
        {
          "data": {
            "application/vnd.jupyter.widget-view+json": {
              "model_id": "4da5d598e6f946979d62a44b898dbb3a",
              "version_major": 2,
              "version_minor": 0
            },
            "text/plain": [
              "  0%|          | 0/155 [00:00<?, ?it/s]"
            ]
          },
          "metadata": {},
          "output_type": "display_data"
        },
        {
          "name": "stdout",
          "output_type": "stream",
          "text": [
            "[ Train | 065/300 ] loss = 2.44353, acc = 0.66238\n",
            "loss = loss_layers + (10 * lamb) * loss_logits = 1.94211 + 0.46944 * 1.06810\n"
          ]
        },
        {
          "data": {
            "application/vnd.jupyter.widget-view+json": {
              "model_id": "815ad2203c994899b03183d8cd7a9f2c",
              "version_major": 2,
              "version_minor": 0
            },
            "text/plain": [
              "  0%|          | 0/54 [00:00<?, ?it/s]"
            ]
          },
          "metadata": {},
          "output_type": "display_data"
        },
        {
          "name": "stdout",
          "output_type": "stream",
          "text": [
            "[ Valid | 065/300 ] loss = 2.27292, acc = 0.67230\n",
            "loss = loss_layers + (10 * lamb) * loss_logits = 1.78576 + 0.46944 * 1.03775\n"
          ]
        },
        {
          "data": {
            "application/vnd.jupyter.widget-view+json": {
              "model_id": "8669cdb4edb240e0b7af6a48db7085e2",
              "version_major": 2,
              "version_minor": 0
            },
            "text/plain": [
              "  0%|          | 0/155 [00:00<?, ?it/s]"
            ]
          },
          "metadata": {},
          "output_type": "display_data"
        },
        {
          "name": "stdout",
          "output_type": "stream",
          "text": [
            "[ Train | 066/300 ] loss = 2.45747, acc = 0.65994\n",
            "loss = loss_layers + (10 * lamb) * loss_logits = 1.93865 + 0.48400 * 1.07194\n"
          ]
        },
        {
          "data": {
            "application/vnd.jupyter.widget-view+json": {
              "model_id": "a088992f79f0454dbeef71227e80e1e9",
              "version_major": 2,
              "version_minor": 0
            },
            "text/plain": [
              "  0%|          | 0/54 [00:00<?, ?it/s]"
            ]
          },
          "metadata": {},
          "output_type": "display_data"
        },
        {
          "name": "stdout",
          "output_type": "stream",
          "text": [
            "[ Valid | 066/300 ] loss = 2.27131, acc = 0.69563\n",
            "loss = loss_layers + (10 * lamb) * loss_logits = 1.78676 + 0.48400 * 1.00113\n"
          ]
        },
        {
          "data": {
            "application/vnd.jupyter.widget-view+json": {
              "model_id": "ba899b9f2b1946739fab001b715a04c4",
              "version_major": 2,
              "version_minor": 0
            },
            "text/plain": [
              "  0%|          | 0/155 [00:00<?, ?it/s]"
            ]
          },
          "metadata": {},
          "output_type": "display_data"
        },
        {
          "name": "stdout",
          "output_type": "stream",
          "text": [
            "[ Train | 067/300 ] loss = 2.47521, acc = 0.65741\n",
            "loss = loss_layers + (10 * lamb) * loss_logits = 1.94024 + 0.49878 * 1.07255\n"
          ]
        },
        {
          "data": {
            "application/vnd.jupyter.widget-view+json": {
              "model_id": "0bf2f6d3e3904a1dbd79579d8cefb684",
              "version_major": 2,
              "version_minor": 0
            },
            "text/plain": [
              "  0%|          | 0/54 [00:00<?, ?it/s]"
            ]
          },
          "metadata": {},
          "output_type": "display_data"
        },
        {
          "name": "stdout",
          "output_type": "stream",
          "text": [
            "[ Valid | 067/300 ] loss = 2.37210, acc = 0.64840\n",
            "loss = loss_layers + (10 * lamb) * loss_logits = 1.78871 + 0.49878 * 1.16965\n"
          ]
        },
        {
          "data": {
            "application/vnd.jupyter.widget-view+json": {
              "model_id": "b3bfb9d5cac143a7ab92469cfab952a2",
              "version_major": 2,
              "version_minor": 0
            },
            "text/plain": [
              "  0%|          | 0/155 [00:00<?, ?it/s]"
            ]
          },
          "metadata": {},
          "output_type": "display_data"
        },
        {
          "name": "stdout",
          "output_type": "stream",
          "text": [
            "[ Train | 068/300 ] loss = 2.49454, acc = 0.66947\n",
            "loss = loss_layers + (10 * lamb) * loss_logits = 1.94702 + 0.51378 * 1.06566\n"
          ]
        },
        {
          "data": {
            "application/vnd.jupyter.widget-view+json": {
              "model_id": "f721ab201f2642ca8bdc463161168d5b",
              "version_major": 2,
              "version_minor": 0
            },
            "text/plain": [
              "  0%|          | 0/54 [00:00<?, ?it/s]"
            ]
          },
          "metadata": {},
          "output_type": "display_data"
        },
        {
          "name": "stdout",
          "output_type": "stream",
          "text": [
            "[ Valid | 068/300 ] loss = 2.32769, acc = 0.66327\n",
            "loss = loss_layers + (10 * lamb) * loss_logits = 1.78933 + 0.51378 * 1.04784\n"
          ]
        },
        {
          "data": {
            "application/vnd.jupyter.widget-view+json": {
              "model_id": "908afe685e164af094953221cb7fa61c",
              "version_major": 2,
              "version_minor": 0
            },
            "text/plain": [
              "  0%|          | 0/155 [00:00<?, ?it/s]"
            ]
          },
          "metadata": {},
          "output_type": "display_data"
        },
        {
          "name": "stdout",
          "output_type": "stream",
          "text": [
            "[ Train | 069/300 ] loss = 2.50647, acc = 0.66684\n",
            "loss = loss_layers + (10 * lamb) * loss_logits = 1.94318 + 0.52900 * 1.06481\n"
          ]
        },
        {
          "data": {
            "application/vnd.jupyter.widget-view+json": {
              "model_id": "f79dd85ebcbd4e4d9774df5213cc8c91",
              "version_major": 2,
              "version_minor": 0
            },
            "text/plain": [
              "  0%|          | 0/54 [00:00<?, ?it/s]"
            ]
          },
          "metadata": {},
          "output_type": "display_data"
        },
        {
          "name": "stdout",
          "output_type": "stream",
          "text": [
            "[ Valid | 069/300 ] loss = 2.31292, acc = 0.70146 -> best\n",
            "loss = loss_layers + (10 * lamb) * loss_logits = 1.79011 + 0.52900 * 0.98831\n",
            "Best model found at epoch 69, saving model\n"
          ]
        },
        {
          "data": {
            "application/vnd.jupyter.widget-view+json": {
              "model_id": "ae0223718e08467da2b7f40e096a4aec",
              "version_major": 2,
              "version_minor": 0
            },
            "text/plain": [
              "  0%|          | 0/155 [00:00<?, ?it/s]"
            ]
          },
          "metadata": {},
          "output_type": "display_data"
        },
        {
          "name": "stdout",
          "output_type": "stream",
          "text": [
            "[ Train | 070/300 ] loss = 2.52111, acc = 0.66268\n",
            "loss = loss_layers + (10 * lamb) * loss_logits = 1.94730 + 0.54444 * 1.05393\n"
          ]
        },
        {
          "data": {
            "application/vnd.jupyter.widget-view+json": {
              "model_id": "259e8854e56242f8b12dd2edad4c7125",
              "version_major": 2,
              "version_minor": 0
            },
            "text/plain": [
              "  0%|          | 0/54 [00:00<?, ?it/s]"
            ]
          },
          "metadata": {},
          "output_type": "display_data"
        },
        {
          "name": "stdout",
          "output_type": "stream",
          "text": [
            "[ Valid | 070/300 ] loss = 2.32718, acc = 0.70496 -> best\n",
            "loss = loss_layers + (10 * lamb) * loss_logits = 1.79192 + 0.54444 * 0.98313\n",
            "Best model found at epoch 70, saving model\n"
          ]
        },
        {
          "data": {
            "application/vnd.jupyter.widget-view+json": {
              "model_id": "3e9cec06b7cf4317927a4e806b7c66d9",
              "version_major": 2,
              "version_minor": 0
            },
            "text/plain": [
              "  0%|          | 0/155 [00:00<?, ?it/s]"
            ]
          },
          "metadata": {},
          "output_type": "display_data"
        },
        {
          "name": "stdout",
          "output_type": "stream",
          "text": [
            "[ Train | 071/300 ] loss = 2.53914, acc = 0.66846\n",
            "loss = loss_layers + (10 * lamb) * loss_logits = 1.94654 + 0.56011 * 1.05800\n"
          ]
        },
        {
          "data": {
            "application/vnd.jupyter.widget-view+json": {
              "model_id": "1f7e658ffdeb49e18648f52edf3d4064",
              "version_major": 2,
              "version_minor": 0
            },
            "text/plain": [
              "  0%|          | 0/54 [00:00<?, ?it/s]"
            ]
          },
          "metadata": {},
          "output_type": "display_data"
        },
        {
          "name": "stdout",
          "output_type": "stream",
          "text": [
            "[ Valid | 071/300 ] loss = 2.35608, acc = 0.69475\n",
            "loss = loss_layers + (10 * lamb) * loss_logits = 1.79286 + 0.56011 * 1.00555\n"
          ]
        },
        {
          "data": {
            "application/vnd.jupyter.widget-view+json": {
              "model_id": "175c19143032487f8f12104f1cbb4688",
              "version_major": 2,
              "version_minor": 0
            },
            "text/plain": [
              "  0%|          | 0/155 [00:00<?, ?it/s]"
            ]
          },
          "metadata": {},
          "output_type": "display_data"
        },
        {
          "name": "stdout",
          "output_type": "stream",
          "text": [
            "[ Train | 072/300 ] loss = 2.55318, acc = 0.66319\n",
            "loss = loss_layers + (10 * lamb) * loss_logits = 1.94580 + 0.57600 * 1.05449\n"
          ]
        },
        {
          "data": {
            "application/vnd.jupyter.widget-view+json": {
              "model_id": "0bfbfaed91bb4331bc70c2950d57f9ca",
              "version_major": 2,
              "version_minor": 0
            },
            "text/plain": [
              "  0%|          | 0/54 [00:00<?, ?it/s]"
            ]
          },
          "metadata": {},
          "output_type": "display_data"
        },
        {
          "name": "stdout",
          "output_type": "stream",
          "text": [
            "[ Valid | 072/300 ] loss = 2.35970, acc = 0.68717\n",
            "loss = loss_layers + (10 * lamb) * loss_logits = 1.79290 + 0.57600 * 0.98404\n"
          ]
        },
        {
          "data": {
            "application/vnd.jupyter.widget-view+json": {
              "model_id": "1598da7bd3f34c8ea53bb97be8908c7c",
              "version_major": 2,
              "version_minor": 0
            },
            "text/plain": [
              "  0%|          | 0/155 [00:00<?, ?it/s]"
            ]
          },
          "metadata": {},
          "output_type": "display_data"
        },
        {
          "name": "stdout",
          "output_type": "stream",
          "text": [
            "[ Train | 073/300 ] loss = 2.56632, acc = 0.67576\n",
            "loss = loss_layers + (10 * lamb) * loss_logits = 1.94737 + 0.59211 * 1.04533\n"
          ]
        },
        {
          "data": {
            "application/vnd.jupyter.widget-view+json": {
              "model_id": "ae8d1ba7cf4048e0a868d80a14843fe1",
              "version_major": 2,
              "version_minor": 0
            },
            "text/plain": [
              "  0%|          | 0/54 [00:00<?, ?it/s]"
            ]
          },
          "metadata": {},
          "output_type": "display_data"
        },
        {
          "name": "stdout",
          "output_type": "stream",
          "text": [
            "[ Valid | 073/300 ] loss = 2.39474, acc = 0.67726\n",
            "loss = loss_layers + (10 * lamb) * loss_logits = 1.79565 + 0.59211 * 1.01178\n"
          ]
        },
        {
          "data": {
            "application/vnd.jupyter.widget-view+json": {
              "model_id": "4c24e42950c8428cb8587686f094aa5e",
              "version_major": 2,
              "version_minor": 0
            },
            "text/plain": [
              "  0%|          | 0/155 [00:00<?, ?it/s]"
            ]
          },
          "metadata": {},
          "output_type": "display_data"
        },
        {
          "name": "stdout",
          "output_type": "stream",
          "text": [
            "[ Train | 074/300 ] loss = 2.58131, acc = 0.66927\n",
            "loss = loss_layers + (10 * lamb) * loss_logits = 1.94867 + 0.60844 * 1.03977\n"
          ]
        },
        {
          "data": {
            "application/vnd.jupyter.widget-view+json": {
              "model_id": "8a61e0c66f6043989900e7c0e6db6519",
              "version_major": 2,
              "version_minor": 0
            },
            "text/plain": [
              "  0%|          | 0/54 [00:00<?, ?it/s]"
            ]
          },
          "metadata": {},
          "output_type": "display_data"
        },
        {
          "name": "stdout",
          "output_type": "stream",
          "text": [
            "[ Valid | 074/300 ] loss = 2.39175, acc = 0.70729 -> best\n",
            "loss = loss_layers + (10 * lamb) * loss_logits = 1.79339 + 0.60844 * 0.98343\n",
            "Best model found at epoch 74, saving model\n"
          ]
        },
        {
          "data": {
            "application/vnd.jupyter.widget-view+json": {
              "model_id": "3712e7ffcb9f4c88aa28b20ac7cc8cc9",
              "version_major": 2,
              "version_minor": 0
            },
            "text/plain": [
              "  0%|          | 0/155 [00:00<?, ?it/s]"
            ]
          },
          "metadata": {},
          "output_type": "display_data"
        },
        {
          "name": "stdout",
          "output_type": "stream",
          "text": [
            "[ Train | 075/300 ] loss = 2.60317, acc = 0.67707\n",
            "loss = loss_layers + (10 * lamb) * loss_logits = 1.95211 + 0.62500 * 1.04170\n"
          ]
        },
        {
          "data": {
            "application/vnd.jupyter.widget-view+json": {
              "model_id": "2e910d3d2e714a18ba768513b8733370",
              "version_major": 2,
              "version_minor": 0
            },
            "text/plain": [
              "  0%|          | 0/54 [00:00<?, ?it/s]"
            ]
          },
          "metadata": {},
          "output_type": "display_data"
        },
        {
          "name": "stdout",
          "output_type": "stream",
          "text": [
            "[ Valid | 075/300 ] loss = 2.45197, acc = 0.66822\n",
            "loss = loss_layers + (10 * lamb) * loss_logits = 1.79488 + 0.62500 * 1.05134\n"
          ]
        },
        {
          "data": {
            "application/vnd.jupyter.widget-view+json": {
              "model_id": "82676cba68644ec7b9950747d5440348",
              "version_major": 2,
              "version_minor": 0
            },
            "text/plain": [
              "  0%|          | 0/155 [00:00<?, ?it/s]"
            ]
          },
          "metadata": {},
          "output_type": "display_data"
        },
        {
          "name": "stdout",
          "output_type": "stream",
          "text": [
            "[ Train | 076/300 ] loss = 2.61998, acc = 0.67393\n",
            "loss = loss_layers + (10 * lamb) * loss_logits = 1.95161 + 0.64178 * 1.04144\n"
          ]
        },
        {
          "data": {
            "application/vnd.jupyter.widget-view+json": {
              "model_id": "fe6c5b222de34dc2a278381b55e97828",
              "version_major": 2,
              "version_minor": 0
            },
            "text/plain": [
              "  0%|          | 0/54 [00:00<?, ?it/s]"
            ]
          },
          "metadata": {},
          "output_type": "display_data"
        },
        {
          "name": "stdout",
          "output_type": "stream",
          "text": [
            "[ Valid | 076/300 ] loss = 2.48217, acc = 0.68017\n",
            "loss = loss_layers + (10 * lamb) * loss_logits = 1.79743 + 0.64178 * 1.06694\n"
          ]
        },
        {
          "data": {
            "application/vnd.jupyter.widget-view+json": {
              "model_id": "ded756e2dd7041298cce069789ea5c93",
              "version_major": 2,
              "version_minor": 0
            },
            "text/plain": [
              "  0%|          | 0/155 [00:00<?, ?it/s]"
            ]
          },
          "metadata": {},
          "output_type": "display_data"
        },
        {
          "name": "stdout",
          "output_type": "stream",
          "text": [
            "[ Train | 077/300 ] loss = 2.63013, acc = 0.67261\n",
            "loss = loss_layers + (10 * lamb) * loss_logits = 1.95356 + 0.65878 * 1.02700\n"
          ]
        },
        {
          "data": {
            "application/vnd.jupyter.widget-view+json": {
              "model_id": "e9f7f7e2479e441eb65697667afd35af",
              "version_major": 2,
              "version_minor": 0
            },
            "text/plain": [
              "  0%|          | 0/54 [00:00<?, ?it/s]"
            ]
          },
          "metadata": {},
          "output_type": "display_data"
        },
        {
          "name": "stdout",
          "output_type": "stream",
          "text": [
            "[ Valid | 077/300 ] loss = 2.47973, acc = 0.68980\n",
            "loss = loss_layers + (10 * lamb) * loss_logits = 1.79727 + 0.65878 * 1.03594\n"
          ]
        },
        {
          "data": {
            "application/vnd.jupyter.widget-view+json": {
              "model_id": "b8738f0ddcdc46688fb992950c747692",
              "version_major": 2,
              "version_minor": 0
            },
            "text/plain": [
              "  0%|          | 0/155 [00:00<?, ?it/s]"
            ]
          },
          "metadata": {},
          "output_type": "display_data"
        },
        {
          "name": "stdout",
          "output_type": "stream",
          "text": [
            "[ Train | 078/300 ] loss = 2.64495, acc = 0.67971\n",
            "loss = loss_layers + (10 * lamb) * loss_logits = 1.95190 + 0.67600 * 1.02523\n"
          ]
        },
        {
          "data": {
            "application/vnd.jupyter.widget-view+json": {
              "model_id": "c6556a7bb5ec43579e1e5c78b31fca6c",
              "version_major": 2,
              "version_minor": 0
            },
            "text/plain": [
              "  0%|          | 0/54 [00:00<?, ?it/s]"
            ]
          },
          "metadata": {},
          "output_type": "display_data"
        },
        {
          "name": "stdout",
          "output_type": "stream",
          "text": [
            "[ Valid | 078/300 ] loss = 2.45150, acc = 0.70408\n",
            "loss = loss_layers + (10 * lamb) * loss_logits = 1.79923 + 0.67600 * 0.96490\n"
          ]
        },
        {
          "data": {
            "application/vnd.jupyter.widget-view+json": {
              "model_id": "4fa1ea9a67b44a5ea96ddbde4e4b2e2a",
              "version_major": 2,
              "version_minor": 0
            },
            "text/plain": [
              "  0%|          | 0/155 [00:00<?, ?it/s]"
            ]
          },
          "metadata": {},
          "output_type": "display_data"
        },
        {
          "name": "stdout",
          "output_type": "stream",
          "text": [
            "[ Train | 079/300 ] loss = 2.66842, acc = 0.68214\n",
            "loss = loss_layers + (10 * lamb) * loss_logits = 1.96001 + 0.69344 * 1.02159\n"
          ]
        },
        {
          "data": {
            "application/vnd.jupyter.widget-view+json": {
              "model_id": "85de9c830d374d14aae6ef4b896074df",
              "version_major": 2,
              "version_minor": 0
            },
            "text/plain": [
              "  0%|          | 0/54 [00:00<?, ?it/s]"
            ]
          },
          "metadata": {},
          "output_type": "display_data"
        },
        {
          "name": "stdout",
          "output_type": "stream",
          "text": [
            "[ Valid | 079/300 ] loss = 2.49707, acc = 0.70875 -> best\n",
            "loss = loss_layers + (10 * lamb) * loss_logits = 1.79904 + 0.69344 * 1.00662\n",
            "Best model found at epoch 79, saving model\n"
          ]
        },
        {
          "data": {
            "application/vnd.jupyter.widget-view+json": {
              "model_id": "04c17a476e234c2fa7c9a41438d615f2",
              "version_major": 2,
              "version_minor": 0
            },
            "text/plain": [
              "  0%|          | 0/155 [00:00<?, ?it/s]"
            ]
          },
          "metadata": {},
          "output_type": "display_data"
        },
        {
          "name": "stdout",
          "output_type": "stream",
          "text": [
            "[ Train | 080/300 ] loss = 2.68040, acc = 0.68599\n",
            "loss = loss_layers + (10 * lamb) * loss_logits = 1.95921 + 0.71111 * 1.01417\n"
          ]
        },
        {
          "data": {
            "application/vnd.jupyter.widget-view+json": {
              "model_id": "e58aa1df37064b43a16fcaa6620dc7ef",
              "version_major": 2,
              "version_minor": 0
            },
            "text/plain": [
              "  0%|          | 0/54 [00:00<?, ?it/s]"
            ]
          },
          "metadata": {},
          "output_type": "display_data"
        },
        {
          "name": "stdout",
          "output_type": "stream",
          "text": [
            "[ Valid | 080/300 ] loss = 2.51056, acc = 0.71720 -> best\n",
            "loss = loss_layers + (10 * lamb) * loss_logits = 1.80039 + 0.71111 * 0.99868\n",
            "Best model found at epoch 80, saving model\n"
          ]
        },
        {
          "data": {
            "application/vnd.jupyter.widget-view+json": {
              "model_id": "eb898cb777b74c95bc6a7140aac0aaaf",
              "version_major": 2,
              "version_minor": 0
            },
            "text/plain": [
              "  0%|          | 0/155 [00:00<?, ?it/s]"
            ]
          },
          "metadata": {},
          "output_type": "display_data"
        },
        {
          "name": "stdout",
          "output_type": "stream",
          "text": [
            "[ Train | 081/300 ] loss = 2.70559, acc = 0.68650\n",
            "loss = loss_layers + (10 * lamb) * loss_logits = 1.95763 + 0.72900 * 1.02602\n"
          ]
        },
        {
          "data": {
            "application/vnd.jupyter.widget-view+json": {
              "model_id": "4277659ac6194a989d4f680b969ff6d2",
              "version_major": 2,
              "version_minor": 0
            },
            "text/plain": [
              "  0%|          | 0/54 [00:00<?, ?it/s]"
            ]
          },
          "metadata": {},
          "output_type": "display_data"
        },
        {
          "name": "stdout",
          "output_type": "stream",
          "text": [
            "[ Valid | 081/300 ] loss = 2.48876, acc = 0.72507 -> best\n",
            "loss = loss_layers + (10 * lamb) * loss_logits = 1.80052 + 0.72900 * 0.94408\n",
            "Best model found at epoch 81, saving model\n"
          ]
        },
        {
          "data": {
            "application/vnd.jupyter.widget-view+json": {
              "model_id": "dcc092140e06418d921e77d4a663261d",
              "version_major": 2,
              "version_minor": 0
            },
            "text/plain": [
              "  0%|          | 0/155 [00:00<?, ?it/s]"
            ]
          },
          "metadata": {},
          "output_type": "display_data"
        },
        {
          "name": "stdout",
          "output_type": "stream",
          "text": [
            "[ Train | 082/300 ] loss = 2.70408, acc = 0.68366\n",
            "loss = loss_layers + (10 * lamb) * loss_logits = 1.95524 + 0.74711 * 1.00231\n"
          ]
        },
        {
          "data": {
            "application/vnd.jupyter.widget-view+json": {
              "model_id": "4b2308850fb94b19b15fda45032b87f0",
              "version_major": 2,
              "version_minor": 0
            },
            "text/plain": [
              "  0%|          | 0/54 [00:00<?, ?it/s]"
            ]
          },
          "metadata": {},
          "output_type": "display_data"
        },
        {
          "name": "stdout",
          "output_type": "stream",
          "text": [
            "[ Valid | 082/300 ] loss = 2.53763, acc = 0.70408\n",
            "loss = loss_layers + (10 * lamb) * loss_logits = 1.80207 + 0.74711 * 0.98454\n"
          ]
        },
        {
          "data": {
            "application/vnd.jupyter.widget-view+json": {
              "model_id": "e46c5d016eea459fa59155f6592cfb94",
              "version_major": 2,
              "version_minor": 0
            },
            "text/plain": [
              "  0%|          | 0/155 [00:00<?, ?it/s]"
            ]
          },
          "metadata": {},
          "output_type": "display_data"
        },
        {
          "name": "stdout",
          "output_type": "stream",
          "text": [
            "[ Train | 083/300 ] loss = 2.73544, acc = 0.68620\n",
            "loss = loss_layers + (10 * lamb) * loss_logits = 1.95911 + 0.76544 * 1.01422\n"
          ]
        },
        {
          "data": {
            "application/vnd.jupyter.widget-view+json": {
              "model_id": "d09cd146b034466b9ee220ed10640871",
              "version_major": 2,
              "version_minor": 0
            },
            "text/plain": [
              "  0%|          | 0/54 [00:00<?, ?it/s]"
            ]
          },
          "metadata": {},
          "output_type": "display_data"
        },
        {
          "name": "stdout",
          "output_type": "stream",
          "text": [
            "[ Valid | 083/300 ] loss = 2.54289, acc = 0.71429\n",
            "loss = loss_layers + (10 * lamb) * loss_logits = 1.80428 + 0.76544 * 0.96494\n"
          ]
        },
        {
          "data": {
            "application/vnd.jupyter.widget-view+json": {
              "model_id": "1149aa5cceb94331ac721c51c78d7f1b",
              "version_major": 2,
              "version_minor": 0
            },
            "text/plain": [
              "  0%|          | 0/155 [00:00<?, ?it/s]"
            ]
          },
          "metadata": {},
          "output_type": "display_data"
        },
        {
          "name": "stdout",
          "output_type": "stream",
          "text": [
            "[ Train | 084/300 ] loss = 2.74253, acc = 0.68782\n",
            "loss = loss_layers + (10 * lamb) * loss_logits = 1.96395 + 0.78400 * 0.99309\n"
          ]
        },
        {
          "data": {
            "application/vnd.jupyter.widget-view+json": {
              "model_id": "ad325178300f437493cc998846601e92",
              "version_major": 2,
              "version_minor": 0
            },
            "text/plain": [
              "  0%|          | 0/54 [00:00<?, ?it/s]"
            ]
          },
          "metadata": {},
          "output_type": "display_data"
        },
        {
          "name": "stdout",
          "output_type": "stream",
          "text": [
            "[ Valid | 084/300 ] loss = 2.58330, acc = 0.70875\n",
            "loss = loss_layers + (10 * lamb) * loss_logits = 1.80517 + 0.78400 * 0.99252\n"
          ]
        },
        {
          "data": {
            "application/vnd.jupyter.widget-view+json": {
              "model_id": "d5c7e92c3fa34503855e38e4957dbd8f",
              "version_major": 2,
              "version_minor": 0
            },
            "text/plain": [
              "  0%|          | 0/155 [00:00<?, ?it/s]"
            ]
          },
          "metadata": {},
          "output_type": "display_data"
        },
        {
          "name": "stdout",
          "output_type": "stream",
          "text": [
            "[ Train | 085/300 ] loss = 2.75780, acc = 0.68944\n",
            "loss = loss_layers + (10 * lamb) * loss_logits = 1.95661 + 0.80278 * 0.99802\n"
          ]
        },
        {
          "data": {
            "application/vnd.jupyter.widget-view+json": {
              "model_id": "13d5ddde86b3488b82a908093b0c93d4",
              "version_major": 2,
              "version_minor": 0
            },
            "text/plain": [
              "  0%|          | 0/54 [00:00<?, ?it/s]"
            ]
          },
          "metadata": {},
          "output_type": "display_data"
        },
        {
          "name": "stdout",
          "output_type": "stream",
          "text": [
            "[ Valid | 085/300 ] loss = 2.62043, acc = 0.68455\n",
            "loss = loss_layers + (10 * lamb) * loss_logits = 1.80627 + 0.80278 * 1.01417\n"
          ]
        },
        {
          "data": {
            "application/vnd.jupyter.widget-view+json": {
              "model_id": "959793eed1c74bec86a0a42be17f5049",
              "version_major": 2,
              "version_minor": 0
            },
            "text/plain": [
              "  0%|          | 0/155 [00:00<?, ?it/s]"
            ]
          },
          "metadata": {},
          "output_type": "display_data"
        },
        {
          "name": "stdout",
          "output_type": "stream",
          "text": [
            "[ Train | 086/300 ] loss = 2.77551, acc = 0.69471\n",
            "loss = loss_layers + (10 * lamb) * loss_logits = 1.96311 + 0.82178 * 0.98859\n"
          ]
        },
        {
          "data": {
            "application/vnd.jupyter.widget-view+json": {
              "model_id": "38d6d79d459b4c2b802495a82a0dcf1e",
              "version_major": 2,
              "version_minor": 0
            },
            "text/plain": [
              "  0%|          | 0/54 [00:00<?, ?it/s]"
            ]
          },
          "metadata": {},
          "output_type": "display_data"
        },
        {
          "name": "stdout",
          "output_type": "stream",
          "text": [
            "[ Valid | 086/300 ] loss = 2.60000, acc = 0.69329\n",
            "loss = loss_layers + (10 * lamb) * loss_logits = 1.80476 + 0.82178 * 0.96771\n"
          ]
        },
        {
          "data": {
            "application/vnd.jupyter.widget-view+json": {
              "model_id": "2588c7a8f8544f10a5d57101e7e36496",
              "version_major": 2,
              "version_minor": 0
            },
            "text/plain": [
              "  0%|          | 0/155 [00:00<?, ?it/s]"
            ]
          },
          "metadata": {},
          "output_type": "display_data"
        },
        {
          "name": "stdout",
          "output_type": "stream",
          "text": [
            "[ Train | 087/300 ] loss = 2.80421, acc = 0.69076\n",
            "loss = loss_layers + (10 * lamb) * loss_logits = 1.96251 + 0.84100 * 1.00083\n"
          ]
        },
        {
          "data": {
            "application/vnd.jupyter.widget-view+json": {
              "model_id": "0ec4c7a6e98847a29352f7132a0a9595",
              "version_major": 2,
              "version_minor": 0
            },
            "text/plain": [
              "  0%|          | 0/54 [00:00<?, ?it/s]"
            ]
          },
          "metadata": {},
          "output_type": "display_data"
        },
        {
          "name": "stdout",
          "output_type": "stream",
          "text": [
            "[ Valid | 087/300 ] loss = 2.61743, acc = 0.73324 -> best\n",
            "loss = loss_layers + (10 * lamb) * loss_logits = 1.80879 + 0.84100 * 0.96153\n",
            "Best model found at epoch 87, saving model\n"
          ]
        },
        {
          "data": {
            "application/vnd.jupyter.widget-view+json": {
              "model_id": "af2e2db010434b2da542e0ec3a658907",
              "version_major": 2,
              "version_minor": 0
            },
            "text/plain": [
              "  0%|          | 0/155 [00:00<?, ?it/s]"
            ]
          },
          "metadata": {},
          "output_type": "display_data"
        },
        {
          "name": "stdout",
          "output_type": "stream",
          "text": [
            "[ Train | 088/300 ] loss = 2.82294, acc = 0.69167\n",
            "loss = loss_layers + (10 * lamb) * loss_logits = 1.96096 + 0.86044 * 1.00178\n"
          ]
        },
        {
          "data": {
            "application/vnd.jupyter.widget-view+json": {
              "model_id": "2b8b75730fbf4eacbc97d60b6cd68b79",
              "version_major": 2,
              "version_minor": 0
            },
            "text/plain": [
              "  0%|          | 0/54 [00:00<?, ?it/s]"
            ]
          },
          "metadata": {},
          "output_type": "display_data"
        },
        {
          "name": "stdout",
          "output_type": "stream",
          "text": [
            "[ Valid | 088/300 ] loss = 2.67216, acc = 0.67930\n",
            "loss = loss_layers + (10 * lamb) * loss_logits = 1.80647 + 0.86044 * 1.00609\n"
          ]
        },
        {
          "data": {
            "application/vnd.jupyter.widget-view+json": {
              "model_id": "bff8debcbe704c95b5cf2fd3b61372ca",
              "version_major": 2,
              "version_minor": 0
            },
            "text/plain": [
              "  0%|          | 0/155 [00:00<?, ?it/s]"
            ]
          },
          "metadata": {},
          "output_type": "display_data"
        },
        {
          "name": "stdout",
          "output_type": "stream",
          "text": [
            "[ Train | 089/300 ] loss = 2.82904, acc = 0.69775\n",
            "loss = loss_layers + (10 * lamb) * loss_logits = 1.95948 + 0.88011 * 0.98801\n"
          ]
        },
        {
          "data": {
            "application/vnd.jupyter.widget-view+json": {
              "model_id": "f90e8848d48c4448ad030df2ce31a16d",
              "version_major": 2,
              "version_minor": 0
            },
            "text/plain": [
              "  0%|          | 0/54 [00:00<?, ?it/s]"
            ]
          },
          "metadata": {},
          "output_type": "display_data"
        },
        {
          "name": "stdout",
          "output_type": "stream",
          "text": [
            "[ Valid | 089/300 ] loss = 2.66387, acc = 0.70729\n",
            "loss = loss_layers + (10 * lamb) * loss_logits = 1.81245 + 0.88011 * 0.96740\n"
          ]
        },
        {
          "data": {
            "application/vnd.jupyter.widget-view+json": {
              "model_id": "04323cdd35fb4422b529da0d72c5cdea",
              "version_major": 2,
              "version_minor": 0
            },
            "text/plain": [
              "  0%|          | 0/155 [00:00<?, ?it/s]"
            ]
          },
          "metadata": {},
          "output_type": "display_data"
        },
        {
          "name": "stdout",
          "output_type": "stream",
          "text": [
            "[ Train | 090/300 ] loss = 2.84693, acc = 0.70596\n",
            "loss = loss_layers + (10 * lamb) * loss_logits = 1.96648 + 0.90000 * 0.97828\n"
          ]
        },
        {
          "data": {
            "application/vnd.jupyter.widget-view+json": {
              "model_id": "75c4fb12b6ac48a3b233a101d86081ed",
              "version_major": 2,
              "version_minor": 0
            },
            "text/plain": [
              "  0%|          | 0/54 [00:00<?, ?it/s]"
            ]
          },
          "metadata": {},
          "output_type": "display_data"
        },
        {
          "name": "stdout",
          "output_type": "stream",
          "text": [
            "[ Valid | 090/300 ] loss = 2.67946, acc = 0.71895\n",
            "loss = loss_layers + (10 * lamb) * loss_logits = 1.81003 + 0.90000 * 0.96603\n"
          ]
        },
        {
          "data": {
            "application/vnd.jupyter.widget-view+json": {
              "model_id": "3138fe483a9345a6a3fe29d7869023b0",
              "version_major": 2,
              "version_minor": 0
            },
            "text/plain": [
              "  0%|          | 0/155 [00:00<?, ?it/s]"
            ]
          },
          "metadata": {},
          "output_type": "display_data"
        },
        {
          "name": "stdout",
          "output_type": "stream",
          "text": [
            "[ Train | 091/300 ] loss = 2.86243, acc = 0.70170\n",
            "loss = loss_layers + (10 * lamb) * loss_logits = 1.96630 + 0.92011 * 0.97394\n"
          ]
        },
        {
          "data": {
            "application/vnd.jupyter.widget-view+json": {
              "model_id": "81b04d2c13f64211ac2badf476b115ab",
              "version_major": 2,
              "version_minor": 0
            },
            "text/plain": [
              "  0%|          | 0/54 [00:00<?, ?it/s]"
            ]
          },
          "metadata": {},
          "output_type": "display_data"
        },
        {
          "name": "stdout",
          "output_type": "stream",
          "text": [
            "[ Valid | 091/300 ] loss = 2.74231, acc = 0.70962\n",
            "loss = loss_layers + (10 * lamb) * loss_logits = 1.81085 + 0.92011 * 1.01234\n"
          ]
        },
        {
          "data": {
            "application/vnd.jupyter.widget-view+json": {
              "model_id": "5628ce1a101b412eb2a2b9a81392680e",
              "version_major": 2,
              "version_minor": 0
            },
            "text/plain": [
              "  0%|          | 0/155 [00:00<?, ?it/s]"
            ]
          },
          "metadata": {},
          "output_type": "display_data"
        },
        {
          "name": "stdout",
          "output_type": "stream",
          "text": [
            "[ Train | 092/300 ] loss = 2.88140, acc = 0.70018\n",
            "loss = loss_layers + (10 * lamb) * loss_logits = 1.96098 + 0.94044 * 0.97871\n"
          ]
        },
        {
          "data": {
            "application/vnd.jupyter.widget-view+json": {
              "model_id": "0a28f7c5d9c34185a5487aa0e8ca1b99",
              "version_major": 2,
              "version_minor": 0
            },
            "text/plain": [
              "  0%|          | 0/54 [00:00<?, ?it/s]"
            ]
          },
          "metadata": {},
          "output_type": "display_data"
        },
        {
          "name": "stdout",
          "output_type": "stream",
          "text": [
            "[ Valid | 092/300 ] loss = 2.69212, acc = 0.71399\n",
            "loss = loss_layers + (10 * lamb) * loss_logits = 1.81139 + 0.94044 * 0.93650\n"
          ]
        },
        {
          "data": {
            "application/vnd.jupyter.widget-view+json": {
              "model_id": "bbc23e216c7e4d839a578859cee4dab8",
              "version_major": 2,
              "version_minor": 0
            },
            "text/plain": [
              "  0%|          | 0/155 [00:00<?, ?it/s]"
            ]
          },
          "metadata": {},
          "output_type": "display_data"
        },
        {
          "name": "stdout",
          "output_type": "stream",
          "text": [
            "[ Train | 093/300 ] loss = 2.90573, acc = 0.70464\n",
            "loss = loss_layers + (10 * lamb) * loss_logits = 1.96804 + 0.96100 * 0.97575\n"
          ]
        },
        {
          "data": {
            "application/vnd.jupyter.widget-view+json": {
              "model_id": "56fd95aa87854ea6b7b01e24795227bc",
              "version_major": 2,
              "version_minor": 0
            },
            "text/plain": [
              "  0%|          | 0/54 [00:00<?, ?it/s]"
            ]
          },
          "metadata": {},
          "output_type": "display_data"
        },
        {
          "name": "stdout",
          "output_type": "stream",
          "text": [
            "[ Valid | 093/300 ] loss = 2.80890, acc = 0.69155\n",
            "loss = loss_layers + (10 * lamb) * loss_logits = 1.81673 + 0.96100 * 1.03243\n"
          ]
        },
        {
          "data": {
            "application/vnd.jupyter.widget-view+json": {
              "model_id": "ba2fba27bc344c49beea63c1ba1e1ff1",
              "version_major": 2,
              "version_minor": 0
            },
            "text/plain": [
              "  0%|          | 0/155 [00:00<?, ?it/s]"
            ]
          },
          "metadata": {},
          "output_type": "display_data"
        },
        {
          "name": "stdout",
          "output_type": "stream",
          "text": [
            "[ Train | 094/300 ] loss = 2.93316, acc = 0.69684\n",
            "loss = loss_layers + (10 * lamb) * loss_logits = 1.96920 + 0.98178 * 0.98185\n"
          ]
        },
        {
          "data": {
            "application/vnd.jupyter.widget-view+json": {
              "model_id": "d05b4c0f2c66410dac54a83bfa131b39",
              "version_major": 2,
              "version_minor": 0
            },
            "text/plain": [
              "  0%|          | 0/54 [00:00<?, ?it/s]"
            ]
          },
          "metadata": {},
          "output_type": "display_data"
        },
        {
          "name": "stdout",
          "output_type": "stream",
          "text": [
            "[ Valid | 094/300 ] loss = 2.75764, acc = 0.72478\n",
            "loss = loss_layers + (10 * lamb) * loss_logits = 1.81594 + 0.98178 * 0.95918\n"
          ]
        },
        {
          "data": {
            "application/vnd.jupyter.widget-view+json": {
              "model_id": "b097a928aff245d0997779aca0aee4e8",
              "version_major": 2,
              "version_minor": 0
            },
            "text/plain": [
              "  0%|          | 0/155 [00:00<?, ?it/s]"
            ]
          },
          "metadata": {},
          "output_type": "display_data"
        },
        {
          "name": "stdout",
          "output_type": "stream",
          "text": [
            "[ Train | 095/300 ] loss = 2.94716, acc = 0.70799\n",
            "loss = loss_layers + (10 * lamb) * loss_logits = 1.97219 + 1.00278 * 0.97227\n"
          ]
        },
        {
          "data": {
            "application/vnd.jupyter.widget-view+json": {
              "model_id": "af45bab7f1664bc1a02ac93e90773e15",
              "version_major": 2,
              "version_minor": 0
            },
            "text/plain": [
              "  0%|          | 0/54 [00:00<?, ?it/s]"
            ]
          },
          "metadata": {},
          "output_type": "display_data"
        },
        {
          "name": "stdout",
          "output_type": "stream",
          "text": [
            "[ Valid | 095/300 ] loss = 2.75715, acc = 0.73265\n",
            "loss = loss_layers + (10 * lamb) * loss_logits = 1.81689 + 1.00278 * 0.93765\n"
          ]
        },
        {
          "data": {
            "application/vnd.jupyter.widget-view+json": {
              "model_id": "ac4aaf649a0b481aabe2d9e5477f7c97",
              "version_major": 2,
              "version_minor": 0
            },
            "text/plain": [
              "  0%|          | 0/155 [00:00<?, ?it/s]"
            ]
          },
          "metadata": {},
          "output_type": "display_data"
        },
        {
          "name": "stdout",
          "output_type": "stream",
          "text": [
            "[ Train | 096/300 ] loss = 2.96578, acc = 0.71113\n",
            "loss = loss_layers + (10 * lamb) * loss_logits = 1.97091 + 1.02400 * 0.97155\n"
          ]
        },
        {
          "data": {
            "application/vnd.jupyter.widget-view+json": {
              "model_id": "a3e6d067ae84401ebd8620394b3a974e",
              "version_major": 2,
              "version_minor": 0
            },
            "text/plain": [
              "  0%|          | 0/54 [00:00<?, ?it/s]"
            ]
          },
          "metadata": {},
          "output_type": "display_data"
        },
        {
          "name": "stdout",
          "output_type": "stream",
          "text": [
            "[ Valid | 096/300 ] loss = 2.80361, acc = 0.72157\n",
            "loss = loss_layers + (10 * lamb) * loss_logits = 1.81754 + 1.02400 * 0.96296\n"
          ]
        },
        {
          "data": {
            "application/vnd.jupyter.widget-view+json": {
              "model_id": "f07b75e808944b85bf7d23b30b134f53",
              "version_major": 2,
              "version_minor": 0
            },
            "text/plain": [
              "  0%|          | 0/155 [00:00<?, ?it/s]"
            ]
          },
          "metadata": {},
          "output_type": "display_data"
        },
        {
          "name": "stdout",
          "output_type": "stream",
          "text": [
            "[ Train | 097/300 ] loss = 2.99262, acc = 0.71093\n",
            "loss = loss_layers + (10 * lamb) * loss_logits = 1.97319 + 1.04544 * 0.97511\n"
          ]
        },
        {
          "data": {
            "application/vnd.jupyter.widget-view+json": {
              "model_id": "7ab2f795e6e2480bab7ad03c534c5dfb",
              "version_major": 2,
              "version_minor": 0
            },
            "text/plain": [
              "  0%|          | 0/54 [00:00<?, ?it/s]"
            ]
          },
          "metadata": {},
          "output_type": "display_data"
        },
        {
          "name": "stdout",
          "output_type": "stream",
          "text": [
            "[ Valid | 097/300 ] loss = 2.85324, acc = 0.72303\n",
            "loss = loss_layers + (10 * lamb) * loss_logits = 1.81791 + 1.04544 * 0.99032\n"
          ]
        },
        {
          "data": {
            "application/vnd.jupyter.widget-view+json": {
              "model_id": "eb844e5450234fda9969a49d878e301e",
              "version_major": 2,
              "version_minor": 0
            },
            "text/plain": [
              "  0%|          | 0/155 [00:00<?, ?it/s]"
            ]
          },
          "metadata": {},
          "output_type": "display_data"
        },
        {
          "name": "stdout",
          "output_type": "stream",
          "text": [
            "[ Train | 098/300 ] loss = 3.00516, acc = 0.71356\n",
            "loss = loss_layers + (10 * lamb) * loss_logits = 1.97387 + 1.06711 * 0.96643\n"
          ]
        },
        {
          "data": {
            "application/vnd.jupyter.widget-view+json": {
              "model_id": "ec5fe35206c24a7199936d25f48d02cc",
              "version_major": 2,
              "version_minor": 0
            },
            "text/plain": [
              "  0%|          | 0/54 [00:00<?, ?it/s]"
            ]
          },
          "metadata": {},
          "output_type": "display_data"
        },
        {
          "name": "stdout",
          "output_type": "stream",
          "text": [
            "[ Valid | 098/300 ] loss = 2.91434, acc = 0.70292\n",
            "loss = loss_layers + (10 * lamb) * loss_logits = 1.82059 + 1.06711 * 1.02497\n"
          ]
        },
        {
          "data": {
            "application/vnd.jupyter.widget-view+json": {
              "model_id": "2553a2d12e2c4194bfb474c63d8f0253",
              "version_major": 2,
              "version_minor": 0
            },
            "text/plain": [
              "  0%|          | 0/155 [00:00<?, ?it/s]"
            ]
          },
          "metadata": {},
          "output_type": "display_data"
        },
        {
          "name": "stdout",
          "output_type": "stream",
          "text": [
            "[ Train | 099/300 ] loss = 3.02003, acc = 0.70910\n",
            "loss = loss_layers + (10 * lamb) * loss_logits = 1.97455 + 1.08900 * 0.96003\n"
          ]
        },
        {
          "data": {
            "application/vnd.jupyter.widget-view+json": {
              "model_id": "0b4e4b8371db4450b9ca9c5405ded16c",
              "version_major": 2,
              "version_minor": 0
            },
            "text/plain": [
              "  0%|          | 0/54 [00:00<?, ?it/s]"
            ]
          },
          "metadata": {},
          "output_type": "display_data"
        },
        {
          "name": "stdout",
          "output_type": "stream",
          "text": [
            "[ Valid | 099/300 ] loss = 2.84732, acc = 0.73790 -> best\n",
            "loss = loss_layers + (10 * lamb) * loss_logits = 1.82112 + 1.08900 * 0.94234\n",
            "Best model found at epoch 99, saving model\n"
          ]
        },
        {
          "data": {
            "application/vnd.jupyter.widget-view+json": {
              "model_id": "2e41b4bf95d74af1b12ddfc79c715ae6",
              "version_major": 2,
              "version_minor": 0
            },
            "text/plain": [
              "  0%|          | 0/155 [00:00<?, ?it/s]"
            ]
          },
          "metadata": {},
          "output_type": "display_data"
        },
        {
          "name": "stdout",
          "output_type": "stream",
          "text": [
            "[ Train | 100/300 ] loss = 3.04921, acc = 0.71032\n",
            "loss = loss_layers + (10 * lamb) * loss_logits = 1.97835 + 1.11111 * 0.96377\n"
          ]
        },
        {
          "data": {
            "application/vnd.jupyter.widget-view+json": {
              "model_id": "0ca073c3b9a743be86ba3210acfe5b40",
              "version_major": 2,
              "version_minor": 0
            },
            "text/plain": [
              "  0%|          | 0/54 [00:00<?, ?it/s]"
            ]
          },
          "metadata": {},
          "output_type": "display_data"
        },
        {
          "name": "stdout",
          "output_type": "stream",
          "text": [
            "[ Valid | 100/300 ] loss = 2.89026, acc = 0.71691\n",
            "loss = loss_layers + (10 * lamb) * loss_logits = 1.82555 + 1.11111 * 0.95824\n"
          ]
        },
        {
          "data": {
            "application/vnd.jupyter.widget-view+json": {
              "model_id": "5bde7e6f9cfb4d2dbb3e9788f7dc3fb0",
              "version_major": 2,
              "version_minor": 0
            },
            "text/plain": [
              "  0%|          | 0/155 [00:00<?, ?it/s]"
            ]
          },
          "metadata": {},
          "output_type": "display_data"
        },
        {
          "name": "stdout",
          "output_type": "stream",
          "text": [
            "[ Train | 101/300 ] loss = 3.05572, acc = 0.71670\n",
            "loss = loss_layers + (10 * lamb) * loss_logits = 1.97630 + 1.13344 * 0.95234\n"
          ]
        },
        {
          "data": {
            "application/vnd.jupyter.widget-view+json": {
              "model_id": "d94d04a9b42c4a368d6b73fa7719bf85",
              "version_major": 2,
              "version_minor": 0
            },
            "text/plain": [
              "  0%|          | 0/54 [00:00<?, ?it/s]"
            ]
          },
          "metadata": {},
          "output_type": "display_data"
        },
        {
          "name": "stdout",
          "output_type": "stream",
          "text": [
            "[ Valid | 101/300 ] loss = 2.87025, acc = 0.71866\n",
            "loss = loss_layers + (10 * lamb) * loss_logits = 1.82079 + 1.13344 * 0.92591\n"
          ]
        },
        {
          "data": {
            "application/vnd.jupyter.widget-view+json": {
              "model_id": "28d19c08ad134da2860e750fa717f98c",
              "version_major": 2,
              "version_minor": 0
            },
            "text/plain": [
              "  0%|          | 0/155 [00:00<?, ?it/s]"
            ]
          },
          "metadata": {},
          "output_type": "display_data"
        },
        {
          "name": "stdout",
          "output_type": "stream",
          "text": [
            "[ Train | 102/300 ] loss = 3.08895, acc = 0.71741\n",
            "loss = loss_layers + (10 * lamb) * loss_logits = 1.97616 + 1.15600 * 0.96262\n"
          ]
        },
        {
          "data": {
            "application/vnd.jupyter.widget-view+json": {
              "model_id": "2f7c8196702c4d6a9e95d7ce1563b926",
              "version_major": 2,
              "version_minor": 0
            },
            "text/plain": [
              "  0%|          | 0/54 [00:00<?, ?it/s]"
            ]
          },
          "metadata": {},
          "output_type": "display_data"
        },
        {
          "name": "stdout",
          "output_type": "stream",
          "text": [
            "[ Valid | 102/300 ] loss = 2.94477, acc = 0.71574\n",
            "loss = loss_layers + (10 * lamb) * loss_logits = 1.82517 + 1.15600 * 0.96851\n"
          ]
        },
        {
          "data": {
            "application/vnd.jupyter.widget-view+json": {
              "model_id": "00bdd2a46cf74e40a71706f8e4ea4052",
              "version_major": 2,
              "version_minor": 0
            },
            "text/plain": [
              "  0%|          | 0/155 [00:00<?, ?it/s]"
            ]
          },
          "metadata": {},
          "output_type": "display_data"
        },
        {
          "name": "stdout",
          "output_type": "stream",
          "text": [
            "[ Train | 103/300 ] loss = 3.11417, acc = 0.71569\n",
            "loss = loss_layers + (10 * lamb) * loss_logits = 1.98351 + 1.17878 * 0.95918\n"
          ]
        },
        {
          "data": {
            "application/vnd.jupyter.widget-view+json": {
              "model_id": "00ed5232e7bf4861a75ac78b492812d1",
              "version_major": 2,
              "version_minor": 0
            },
            "text/plain": [
              "  0%|          | 0/54 [00:00<?, ?it/s]"
            ]
          },
          "metadata": {},
          "output_type": "display_data"
        },
        {
          "name": "stdout",
          "output_type": "stream",
          "text": [
            "[ Valid | 103/300 ] loss = 3.04828, acc = 0.69679\n",
            "loss = loss_layers + (10 * lamb) * loss_logits = 1.82906 + 1.17878 * 1.03431\n"
          ]
        },
        {
          "data": {
            "application/vnd.jupyter.widget-view+json": {
              "model_id": "9e4aef58c9c048b694a5fba6e077afb7",
              "version_major": 2,
              "version_minor": 0
            },
            "text/plain": [
              "  0%|          | 0/155 [00:00<?, ?it/s]"
            ]
          },
          "metadata": {},
          "output_type": "display_data"
        },
        {
          "name": "stdout",
          "output_type": "stream",
          "text": [
            "[ Train | 104/300 ] loss = 3.11621, acc = 0.71762\n",
            "loss = loss_layers + (10 * lamb) * loss_logits = 1.98033 + 1.20178 * 0.94516\n"
          ]
        },
        {
          "data": {
            "application/vnd.jupyter.widget-view+json": {
              "model_id": "aab9d16350644fdbbc581af3226c566a",
              "version_major": 2,
              "version_minor": 0
            },
            "text/plain": [
              "  0%|          | 0/54 [00:00<?, ?it/s]"
            ]
          },
          "metadata": {},
          "output_type": "display_data"
        },
        {
          "name": "stdout",
          "output_type": "stream",
          "text": [
            "[ Valid | 104/300 ] loss = 2.99907, acc = 0.70962\n",
            "loss = loss_layers + (10 * lamb) * loss_logits = 1.82646 + 1.20178 * 0.97574\n"
          ]
        },
        {
          "data": {
            "application/vnd.jupyter.widget-view+json": {
              "model_id": "8f85484b4c8d4d09b7afd29e61dc390a",
              "version_major": 2,
              "version_minor": 0
            },
            "text/plain": [
              "  0%|          | 0/155 [00:00<?, ?it/s]"
            ]
          },
          "metadata": {},
          "output_type": "display_data"
        },
        {
          "name": "stdout",
          "output_type": "stream",
          "text": [
            "[ Train | 105/300 ] loss = 3.13663, acc = 0.72035\n",
            "loss = loss_layers + (10 * lamb) * loss_logits = 1.98356 + 1.22500 * 0.94128\n"
          ]
        },
        {
          "data": {
            "application/vnd.jupyter.widget-view+json": {
              "model_id": "83a527eb9286405d9e68eae47bab8da9",
              "version_major": 2,
              "version_minor": 0
            },
            "text/plain": [
              "  0%|          | 0/54 [00:00<?, ?it/s]"
            ]
          },
          "metadata": {},
          "output_type": "display_data"
        },
        {
          "name": "stdout",
          "output_type": "stream",
          "text": [
            "[ Valid | 105/300 ] loss = 3.01884, acc = 0.72041\n",
            "loss = loss_layers + (10 * lamb) * loss_logits = 1.82984 + 1.22500 * 0.97061\n"
          ]
        },
        {
          "data": {
            "application/vnd.jupyter.widget-view+json": {
              "model_id": "76039f25259a47c182badd241c86848b",
              "version_major": 2,
              "version_minor": 0
            },
            "text/plain": [
              "  0%|          | 0/155 [00:00<?, ?it/s]"
            ]
          },
          "metadata": {},
          "output_type": "display_data"
        },
        {
          "name": "stdout",
          "output_type": "stream",
          "text": [
            "[ Train | 106/300 ] loss = 3.15988, acc = 0.71640\n",
            "loss = loss_layers + (10 * lamb) * loss_logits = 1.98521 + 1.24844 * 0.94091\n"
          ]
        },
        {
          "data": {
            "application/vnd.jupyter.widget-view+json": {
              "model_id": "5c269275b4f644e19c263806c12ba5c4",
              "version_major": 2,
              "version_minor": 0
            },
            "text/plain": [
              "  0%|          | 0/54 [00:00<?, ?it/s]"
            ]
          },
          "metadata": {},
          "output_type": "display_data"
        },
        {
          "name": "stdout",
          "output_type": "stream",
          "text": [
            "[ Valid | 106/300 ] loss = 3.06424, acc = 0.72945\n",
            "loss = loss_layers + (10 * lamb) * loss_logits = 1.82883 + 1.24844 * 0.98956\n"
          ]
        },
        {
          "data": {
            "application/vnd.jupyter.widget-view+json": {
              "model_id": "36a86880bc3d47b198ac2caf49e816a4",
              "version_major": 2,
              "version_minor": 0
            },
            "text/plain": [
              "  0%|          | 0/155 [00:00<?, ?it/s]"
            ]
          },
          "metadata": {},
          "output_type": "display_data"
        },
        {
          "name": "stdout",
          "output_type": "stream",
          "text": [
            "[ Train | 107/300 ] loss = 3.19572, acc = 0.72289\n",
            "loss = loss_layers + (10 * lamb) * loss_logits = 1.98932 + 1.27211 * 0.94835\n"
          ]
        },
        {
          "data": {
            "application/vnd.jupyter.widget-view+json": {
              "model_id": "2accb09bffe74292a2c0e378d473ccaa",
              "version_major": 2,
              "version_minor": 0
            },
            "text/plain": [
              "  0%|          | 0/54 [00:00<?, ?it/s]"
            ]
          },
          "metadata": {},
          "output_type": "display_data"
        },
        {
          "name": "stdout",
          "output_type": "stream",
          "text": [
            "[ Valid | 107/300 ] loss = 2.99925, acc = 0.72362\n",
            "loss = loss_layers + (10 * lamb) * loss_logits = 1.83278 + 1.27211 * 0.91696\n"
          ]
        },
        {
          "data": {
            "application/vnd.jupyter.widget-view+json": {
              "model_id": "6edd1ea7fe9b49da865df5bcb8c80508",
              "version_major": 2,
              "version_minor": 0
            },
            "text/plain": [
              "  0%|          | 0/155 [00:00<?, ?it/s]"
            ]
          },
          "metadata": {},
          "output_type": "display_data"
        },
        {
          "name": "stdout",
          "output_type": "stream",
          "text": [
            "[ Train | 108/300 ] loss = 3.20061, acc = 0.72420\n",
            "loss = loss_layers + (10 * lamb) * loss_logits = 1.98510 + 1.29600 * 0.93790\n"
          ]
        },
        {
          "data": {
            "application/vnd.jupyter.widget-view+json": {
              "model_id": "0f4cf89831494fc1a925c2093d246e17",
              "version_major": 2,
              "version_minor": 0
            },
            "text/plain": [
              "  0%|          | 0/54 [00:00<?, ?it/s]"
            ]
          },
          "metadata": {},
          "output_type": "display_data"
        },
        {
          "name": "stdout",
          "output_type": "stream",
          "text": [
            "[ Valid | 108/300 ] loss = 3.10340, acc = 0.73090\n",
            "loss = loss_layers + (10 * lamb) * loss_logits = 1.83483 + 1.29600 * 0.97884\n"
          ]
        },
        {
          "data": {
            "application/vnd.jupyter.widget-view+json": {
              "model_id": "933b5cf45ad34de983de644d0c30305b",
              "version_major": 2,
              "version_minor": 0
            },
            "text/plain": [
              "  0%|          | 0/155 [00:00<?, ?it/s]"
            ]
          },
          "metadata": {},
          "output_type": "display_data"
        },
        {
          "name": "stdout",
          "output_type": "stream",
          "text": [
            "[ Train | 109/300 ] loss = 3.23503, acc = 0.72988\n",
            "loss = loss_layers + (10 * lamb) * loss_logits = 1.98651 + 1.32011 * 0.94577\n"
          ]
        },
        {
          "data": {
            "application/vnd.jupyter.widget-view+json": {
              "model_id": "c5334d239e59416c8fadb007785227fe",
              "version_major": 2,
              "version_minor": 0
            },
            "text/plain": [
              "  0%|          | 0/54 [00:00<?, ?it/s]"
            ]
          },
          "metadata": {},
          "output_type": "display_data"
        },
        {
          "name": "stdout",
          "output_type": "stream",
          "text": [
            "[ Valid | 109/300 ] loss = 3.22239, acc = 0.70583\n",
            "loss = loss_layers + (10 * lamb) * loss_logits = 1.83174 + 1.32011 * 1.05343\n"
          ]
        },
        {
          "data": {
            "application/vnd.jupyter.widget-view+json": {
              "model_id": "b8a4bf539aad4de3a25c6a20b90b4080",
              "version_major": 2,
              "version_minor": 0
            },
            "text/plain": [
              "  0%|          | 0/155 [00:00<?, ?it/s]"
            ]
          },
          "metadata": {},
          "output_type": "display_data"
        },
        {
          "name": "stdout",
          "output_type": "stream",
          "text": [
            "[ Train | 110/300 ] loss = 3.24067, acc = 0.72349\n",
            "loss = loss_layers + (10 * lamb) * loss_logits = 1.98969 + 1.34444 * 0.93048\n"
          ]
        },
        {
          "data": {
            "application/vnd.jupyter.widget-view+json": {
              "model_id": "2ee054a44eb041899a506be8583bbc48",
              "version_major": 2,
              "version_minor": 0
            },
            "text/plain": [
              "  0%|          | 0/54 [00:00<?, ?it/s]"
            ]
          },
          "metadata": {},
          "output_type": "display_data"
        },
        {
          "name": "stdout",
          "output_type": "stream",
          "text": [
            "[ Valid | 110/300 ] loss = 3.13801, acc = 0.72274\n",
            "loss = loss_layers + (10 * lamb) * loss_logits = 1.83363 + 1.34444 * 0.97020\n"
          ]
        },
        {
          "data": {
            "application/vnd.jupyter.widget-view+json": {
              "model_id": "2702b0ed904d4ce6845ef68bb368b283",
              "version_major": 2,
              "version_minor": 0
            },
            "text/plain": [
              "  0%|          | 0/155 [00:00<?, ?it/s]"
            ]
          },
          "metadata": {},
          "output_type": "display_data"
        },
        {
          "name": "stdout",
          "output_type": "stream",
          "text": [
            "[ Train | 111/300 ] loss = 3.26548, acc = 0.72755\n",
            "loss = loss_layers + (10 * lamb) * loss_logits = 1.99356 + 1.36900 * 0.92909\n"
          ]
        },
        {
          "data": {
            "application/vnd.jupyter.widget-view+json": {
              "model_id": "cd3a672319fe49f7a39273393d95615c",
              "version_major": 2,
              "version_minor": 0
            },
            "text/plain": [
              "  0%|          | 0/54 [00:00<?, ?it/s]"
            ]
          },
          "metadata": {},
          "output_type": "display_data"
        },
        {
          "name": "stdout",
          "output_type": "stream",
          "text": [
            "[ Valid | 111/300 ] loss = 3.16526, acc = 0.70845\n",
            "loss = loss_layers + (10 * lamb) * loss_logits = 1.83488 + 1.36900 * 0.97179\n"
          ]
        },
        {
          "data": {
            "application/vnd.jupyter.widget-view+json": {
              "model_id": "937ae601bf8a42ba95697a153c809b8e",
              "version_major": 2,
              "version_minor": 0
            },
            "text/plain": [
              "  0%|          | 0/155 [00:00<?, ?it/s]"
            ]
          },
          "metadata": {},
          "output_type": "display_data"
        },
        {
          "name": "stdout",
          "output_type": "stream",
          "text": [
            "[ Train | 112/300 ] loss = 3.29074, acc = 0.72643\n",
            "loss = loss_layers + (10 * lamb) * loss_logits = 1.99505 + 1.39378 * 0.92962\n"
          ]
        },
        {
          "data": {
            "application/vnd.jupyter.widget-view+json": {
              "model_id": "0bd72b5925f74babac4abfe510c803ec",
              "version_major": 2,
              "version_minor": 0
            },
            "text/plain": [
              "  0%|          | 0/54 [00:00<?, ?it/s]"
            ]
          },
          "metadata": {},
          "output_type": "display_data"
        },
        {
          "name": "stdout",
          "output_type": "stream",
          "text": [
            "[ Valid | 112/300 ] loss = 3.22192, acc = 0.71983\n",
            "loss = loss_layers + (10 * lamb) * loss_logits = 1.83581 + 1.39378 * 0.99450\n"
          ]
        },
        {
          "data": {
            "application/vnd.jupyter.widget-view+json": {
              "model_id": "6641100bb13a48cca2586b43de855f94",
              "version_major": 2,
              "version_minor": 0
            },
            "text/plain": [
              "  0%|          | 0/155 [00:00<?, ?it/s]"
            ]
          },
          "metadata": {},
          "output_type": "display_data"
        },
        {
          "name": "stdout",
          "output_type": "stream",
          "text": [
            "[ Train | 113/300 ] loss = 3.32095, acc = 0.72258\n",
            "loss = loss_layers + (10 * lamb) * loss_logits = 1.99659 + 1.41878 * 0.93345\n"
          ]
        },
        {
          "data": {
            "application/vnd.jupyter.widget-view+json": {
              "model_id": "1b8bed1d9c414b37860d4497965b5109",
              "version_major": 2,
              "version_minor": 0
            },
            "text/plain": [
              "  0%|          | 0/54 [00:00<?, ?it/s]"
            ]
          },
          "metadata": {},
          "output_type": "display_data"
        },
        {
          "name": "stdout",
          "output_type": "stream",
          "text": [
            "[ Valid | 113/300 ] loss = 3.16002, acc = 0.73032\n",
            "loss = loss_layers + (10 * lamb) * loss_logits = 1.83798 + 1.41878 * 0.93182\n"
          ]
        },
        {
          "data": {
            "application/vnd.jupyter.widget-view+json": {
              "model_id": "492a4ae7751b4417af4c6e0df97ca718",
              "version_major": 2,
              "version_minor": 0
            },
            "text/plain": [
              "  0%|          | 0/155 [00:00<?, ?it/s]"
            ]
          },
          "metadata": {},
          "output_type": "display_data"
        },
        {
          "name": "stdout",
          "output_type": "stream",
          "text": [
            "[ Train | 114/300 ] loss = 3.32140, acc = 0.73018\n",
            "loss = loss_layers + (10 * lamb) * loss_logits = 1.99389 + 1.44400 * 0.91933\n"
          ]
        },
        {
          "data": {
            "application/vnd.jupyter.widget-view+json": {
              "model_id": "90292e9ea1ae4686973878cd2c9153cc",
              "version_major": 2,
              "version_minor": 0
            },
            "text/plain": [
              "  0%|          | 0/54 [00:00<?, ?it/s]"
            ]
          },
          "metadata": {},
          "output_type": "display_data"
        },
        {
          "name": "stdout",
          "output_type": "stream",
          "text": [
            "[ Valid | 114/300 ] loss = 3.37273, acc = 0.71778\n",
            "loss = loss_layers + (10 * lamb) * loss_logits = 1.83696 + 1.44400 * 1.06355\n"
          ]
        },
        {
          "data": {
            "application/vnd.jupyter.widget-view+json": {
              "model_id": "7279810c40b8476b97d18d1d5c5d90b5",
              "version_major": 2,
              "version_minor": 0
            },
            "text/plain": [
              "  0%|          | 0/155 [00:00<?, ?it/s]"
            ]
          },
          "metadata": {},
          "output_type": "display_data"
        },
        {
          "name": "stdout",
          "output_type": "stream",
          "text": [
            "[ Train | 115/300 ] loss = 3.36489, acc = 0.72339\n",
            "loss = loss_layers + (10 * lamb) * loss_logits = 1.99782 + 1.46944 * 0.93033\n"
          ]
        },
        {
          "data": {
            "application/vnd.jupyter.widget-view+json": {
              "model_id": "0004e3b74b9d4d35869fdaa142e8a903",
              "version_major": 2,
              "version_minor": 0
            },
            "text/plain": [
              "  0%|          | 0/54 [00:00<?, ?it/s]"
            ]
          },
          "metadata": {},
          "output_type": "display_data"
        },
        {
          "name": "stdout",
          "output_type": "stream",
          "text": [
            "[ Valid | 115/300 ] loss = 3.18177, acc = 0.73848 -> best\n",
            "loss = loss_layers + (10 * lamb) * loss_logits = 1.83898 + 1.46944 * 0.91381\n",
            "Best model found at epoch 115, saving model\n"
          ]
        },
        {
          "data": {
            "application/vnd.jupyter.widget-view+json": {
              "model_id": "73155caeb86a449990a3482259ea5c58",
              "version_major": 2,
              "version_minor": 0
            },
            "text/plain": [
              "  0%|          | 0/155 [00:00<?, ?it/s]"
            ]
          },
          "metadata": {},
          "output_type": "display_data"
        },
        {
          "name": "stdout",
          "output_type": "stream",
          "text": [
            "[ Train | 116/300 ] loss = 3.37402, acc = 0.73383\n",
            "loss = loss_layers + (10 * lamb) * loss_logits = 1.99785 + 1.49511 * 0.92045\n"
          ]
        },
        {
          "data": {
            "application/vnd.jupyter.widget-view+json": {
              "model_id": "f8656d7b57f1486fba7f3d4ddb626f1c",
              "version_major": 2,
              "version_minor": 0
            },
            "text/plain": [
              "  0%|          | 0/54 [00:00<?, ?it/s]"
            ]
          },
          "metadata": {},
          "output_type": "display_data"
        },
        {
          "name": "stdout",
          "output_type": "stream",
          "text": [
            "[ Valid | 116/300 ] loss = 3.23620, acc = 0.74373 -> best\n",
            "loss = loss_layers + (10 * lamb) * loss_logits = 1.84496 + 1.49511 * 0.93053\n",
            "Best model found at epoch 116, saving model\n"
          ]
        },
        {
          "data": {
            "application/vnd.jupyter.widget-view+json": {
              "model_id": "308c144b305349a3a2adefab5194d563",
              "version_major": 2,
              "version_minor": 0
            },
            "text/plain": [
              "  0%|          | 0/155 [00:00<?, ?it/s]"
            ]
          },
          "metadata": {},
          "output_type": "display_data"
        },
        {
          "name": "stdout",
          "output_type": "stream",
          "text": [
            "[ Train | 117/300 ] loss = 3.40962, acc = 0.73262\n",
            "loss = loss_layers + (10 * lamb) * loss_logits = 2.00356 + 1.52100 * 0.92443\n"
          ]
        },
        {
          "data": {
            "application/vnd.jupyter.widget-view+json": {
              "model_id": "0dc260e486bf4ab3a67f2fcf78598593",
              "version_major": 2,
              "version_minor": 0
            },
            "text/plain": [
              "  0%|          | 0/54 [00:00<?, ?it/s]"
            ]
          },
          "metadata": {},
          "output_type": "display_data"
        },
        {
          "name": "stdout",
          "output_type": "stream",
          "text": [
            "[ Valid | 117/300 ] loss = 3.27842, acc = 0.72449\n",
            "loss = loss_layers + (10 * lamb) * loss_logits = 1.84538 + 1.52100 * 0.94217\n"
          ]
        },
        {
          "data": {
            "application/vnd.jupyter.widget-view+json": {
              "model_id": "e0a229433461444cbddfd7cfaa48a222",
              "version_major": 2,
              "version_minor": 0
            },
            "text/plain": [
              "  0%|          | 0/155 [00:00<?, ?it/s]"
            ]
          },
          "metadata": {},
          "output_type": "display_data"
        },
        {
          "name": "stdout",
          "output_type": "stream",
          "text": [
            "[ Train | 118/300 ] loss = 3.41111, acc = 0.74133\n",
            "loss = loss_layers + (10 * lamb) * loss_logits = 1.99983 + 1.54711 * 0.91220\n"
          ]
        },
        {
          "data": {
            "application/vnd.jupyter.widget-view+json": {
              "model_id": "077907a94f29477d97aefbf12fe2b028",
              "version_major": 2,
              "version_minor": 0
            },
            "text/plain": [
              "  0%|          | 0/54 [00:00<?, ?it/s]"
            ]
          },
          "metadata": {},
          "output_type": "display_data"
        },
        {
          "name": "stdout",
          "output_type": "stream",
          "text": [
            "[ Valid | 118/300 ] loss = 3.24285, acc = 0.74694 -> best\n",
            "loss = loss_layers + (10 * lamb) * loss_logits = 1.84233 + 1.54711 * 0.90525\n",
            "Best model found at epoch 118, saving model\n"
          ]
        },
        {
          "data": {
            "application/vnd.jupyter.widget-view+json": {
              "model_id": "b5ecf2c14eee4a879f5895d24e246131",
              "version_major": 2,
              "version_minor": 0
            },
            "text/plain": [
              "  0%|          | 0/155 [00:00<?, ?it/s]"
            ]
          },
          "metadata": {},
          "output_type": "display_data"
        },
        {
          "name": "stdout",
          "output_type": "stream",
          "text": [
            "[ Train | 119/300 ] loss = 3.43592, acc = 0.73971\n",
            "loss = loss_layers + (10 * lamb) * loss_logits = 2.00196 + 1.57344 * 0.91135\n"
          ]
        },
        {
          "data": {
            "application/vnd.jupyter.widget-view+json": {
              "model_id": "3a645aada716425fbc181376a83f8ad4",
              "version_major": 2,
              "version_minor": 0
            },
            "text/plain": [
              "  0%|          | 0/54 [00:00<?, ?it/s]"
            ]
          },
          "metadata": {},
          "output_type": "display_data"
        },
        {
          "name": "stdout",
          "output_type": "stream",
          "text": [
            "[ Valid | 119/300 ] loss = 3.29536, acc = 0.73149\n",
            "loss = loss_layers + (10 * lamb) * loss_logits = 1.84596 + 1.57344 * 0.92117\n"
          ]
        },
        {
          "data": {
            "application/vnd.jupyter.widget-view+json": {
              "model_id": "afe8ab8fb2b840428c9dbb5588dcd3c2",
              "version_major": 2,
              "version_minor": 0
            },
            "text/plain": [
              "  0%|          | 0/155 [00:00<?, ?it/s]"
            ]
          },
          "metadata": {},
          "output_type": "display_data"
        },
        {
          "name": "stdout",
          "output_type": "stream",
          "text": [
            "[ Train | 120/300 ] loss = 3.45880, acc = 0.73556\n",
            "loss = loss_layers + (10 * lamb) * loss_logits = 2.00401 + 1.60000 * 0.90925\n"
          ]
        },
        {
          "data": {
            "application/vnd.jupyter.widget-view+json": {
              "model_id": "575cb1aa582c4369b45953b5e13bdea5",
              "version_major": 2,
              "version_minor": 0
            },
            "text/plain": [
              "  0%|          | 0/54 [00:00<?, ?it/s]"
            ]
          },
          "metadata": {},
          "output_type": "display_data"
        },
        {
          "name": "stdout",
          "output_type": "stream",
          "text": [
            "[ Valid | 120/300 ] loss = 3.54759, acc = 0.69504\n",
            "loss = loss_layers + (10 * lamb) * loss_logits = 1.84585 + 1.60000 * 1.06359\n"
          ]
        },
        {
          "data": {
            "application/vnd.jupyter.widget-view+json": {
              "model_id": "b139b5b58e754f61ad4780e820a4aee5",
              "version_major": 2,
              "version_minor": 0
            },
            "text/plain": [
              "  0%|          | 0/155 [00:00<?, ?it/s]"
            ]
          },
          "metadata": {},
          "output_type": "display_data"
        },
        {
          "name": "stdout",
          "output_type": "stream",
          "text": [
            "[ Train | 121/300 ] loss = 3.49305, acc = 0.74042\n",
            "loss = loss_layers + (10 * lamb) * loss_logits = 2.00539 + 1.62678 * 0.91448\n"
          ]
        },
        {
          "data": {
            "application/vnd.jupyter.widget-view+json": {
              "model_id": "4221f21b964546ecbc95c3cb2261cde7",
              "version_major": 2,
              "version_minor": 0
            },
            "text/plain": [
              "  0%|          | 0/54 [00:00<?, ?it/s]"
            ]
          },
          "metadata": {},
          "output_type": "display_data"
        },
        {
          "name": "stdout",
          "output_type": "stream",
          "text": [
            "[ Valid | 121/300 ] loss = 3.46992, acc = 0.70466\n",
            "loss = loss_layers + (10 * lamb) * loss_logits = 1.85086 + 1.62678 * 0.99526\n"
          ]
        },
        {
          "data": {
            "application/vnd.jupyter.widget-view+json": {
              "model_id": "fd3d108d0caa439c9cbec76b17f4d780",
              "version_major": 2,
              "version_minor": 0
            },
            "text/plain": [
              "  0%|          | 0/155 [00:00<?, ?it/s]"
            ]
          },
          "metadata": {},
          "output_type": "display_data"
        },
        {
          "name": "stdout",
          "output_type": "stream",
          "text": [
            "[ Train | 122/300 ] loss = 3.51131, acc = 0.73546\n",
            "loss = loss_layers + (10 * lamb) * loss_logits = 2.00872 + 1.65378 * 0.90858\n"
          ]
        },
        {
          "data": {
            "application/vnd.jupyter.widget-view+json": {
              "model_id": "d3313a881398495ba1681bfc00ef758f",
              "version_major": 2,
              "version_minor": 0
            },
            "text/plain": [
              "  0%|          | 0/54 [00:00<?, ?it/s]"
            ]
          },
          "metadata": {},
          "output_type": "display_data"
        },
        {
          "name": "stdout",
          "output_type": "stream",
          "text": [
            "[ Valid | 122/300 ] loss = 3.34565, acc = 0.74606\n",
            "loss = loss_layers + (10 * lamb) * loss_logits = 1.85325 + 1.65378 * 0.90242\n"
          ]
        },
        {
          "data": {
            "application/vnd.jupyter.widget-view+json": {
              "model_id": "09c099eda4b945d58ec9901fa5ed8213",
              "version_major": 2,
              "version_minor": 0
            },
            "text/plain": [
              "  0%|          | 0/155 [00:00<?, ?it/s]"
            ]
          },
          "metadata": {},
          "output_type": "display_data"
        },
        {
          "name": "stdout",
          "output_type": "stream",
          "text": [
            "[ Train | 123/300 ] loss = 3.53877, acc = 0.73221\n",
            "loss = loss_layers + (10 * lamb) * loss_logits = 2.00800 + 1.68100 * 0.91063\n"
          ]
        },
        {
          "data": {
            "application/vnd.jupyter.widget-view+json": {
              "model_id": "cf80a90fa5a64d0e92f1524dbc51ed04",
              "version_major": 2,
              "version_minor": 0
            },
            "text/plain": [
              "  0%|          | 0/54 [00:00<?, ?it/s]"
            ]
          },
          "metadata": {},
          "output_type": "display_data"
        },
        {
          "name": "stdout",
          "output_type": "stream",
          "text": [
            "[ Valid | 123/300 ] loss = 3.41960, acc = 0.73936\n",
            "loss = loss_layers + (10 * lamb) * loss_logits = 1.84934 + 1.68100 * 0.93413\n"
          ]
        },
        {
          "data": {
            "application/vnd.jupyter.widget-view+json": {
              "model_id": "a10be5b85dc64be7814a84f863154cd6",
              "version_major": 2,
              "version_minor": 0
            },
            "text/plain": [
              "  0%|          | 0/155 [00:00<?, ?it/s]"
            ]
          },
          "metadata": {},
          "output_type": "display_data"
        },
        {
          "name": "stdout",
          "output_type": "stream",
          "text": [
            "[ Train | 124/300 ] loss = 3.54182, acc = 0.74478\n",
            "loss = loss_layers + (10 * lamb) * loss_logits = 2.00997 + 1.70844 * 0.89663\n"
          ]
        },
        {
          "data": {
            "application/vnd.jupyter.widget-view+json": {
              "model_id": "453aac7521b14cc2a23b34a11acda1e9",
              "version_major": 2,
              "version_minor": 0
            },
            "text/plain": [
              "  0%|          | 0/54 [00:00<?, ?it/s]"
            ]
          },
          "metadata": {},
          "output_type": "display_data"
        },
        {
          "name": "stdout",
          "output_type": "stream",
          "text": [
            "[ Valid | 124/300 ] loss = 3.46278, acc = 0.72216\n",
            "loss = loss_layers + (10 * lamb) * loss_logits = 1.85088 + 1.70844 * 0.94349\n"
          ]
        },
        {
          "data": {
            "application/vnd.jupyter.widget-view+json": {
              "model_id": "4d81f589cbd94cdf82d9164a706672fa",
              "version_major": 2,
              "version_minor": 0
            },
            "text/plain": [
              "  0%|          | 0/155 [00:00<?, ?it/s]"
            ]
          },
          "metadata": {},
          "output_type": "display_data"
        },
        {
          "name": "stdout",
          "output_type": "stream",
          "text": [
            "[ Train | 125/300 ] loss = 3.58059, acc = 0.73748\n",
            "loss = loss_layers + (10 * lamb) * loss_logits = 2.01188 + 1.73611 * 0.90358\n"
          ]
        },
        {
          "data": {
            "application/vnd.jupyter.widget-view+json": {
              "model_id": "16524dfe5c2141cfb889a02bd4e2de23",
              "version_major": 2,
              "version_minor": 0
            },
            "text/plain": [
              "  0%|          | 0/54 [00:00<?, ?it/s]"
            ]
          },
          "metadata": {},
          "output_type": "display_data"
        },
        {
          "name": "stdout",
          "output_type": "stream",
          "text": [
            "[ Valid | 125/300 ] loss = 3.46403, acc = 0.74781 -> best\n",
            "loss = loss_layers + (10 * lamb) * loss_logits = 1.85276 + 1.73611 * 0.92809\n",
            "Best model found at epoch 125, saving model\n"
          ]
        },
        {
          "data": {
            "application/vnd.jupyter.widget-view+json": {
              "model_id": "e30a43f87a784f75bc87a24e6706d464",
              "version_major": 2,
              "version_minor": 0
            },
            "text/plain": [
              "  0%|          | 0/155 [00:00<?, ?it/s]"
            ]
          },
          "metadata": {},
          "output_type": "display_data"
        },
        {
          "name": "stdout",
          "output_type": "stream",
          "text": [
            "[ Train | 126/300 ] loss = 3.59256, acc = 0.74589\n",
            "loss = loss_layers + (10 * lamb) * loss_logits = 2.01109 + 1.76400 * 0.89653\n"
          ]
        },
        {
          "data": {
            "application/vnd.jupyter.widget-view+json": {
              "model_id": "c81ec87fa75c49ba939a7465c663666b",
              "version_major": 2,
              "version_minor": 0
            },
            "text/plain": [
              "  0%|          | 0/54 [00:00<?, ?it/s]"
            ]
          },
          "metadata": {},
          "output_type": "display_data"
        },
        {
          "name": "stdout",
          "output_type": "stream",
          "text": [
            "[ Valid | 126/300 ] loss = 3.54053, acc = 0.73207\n",
            "loss = loss_layers + (10 * lamb) * loss_logits = 1.85272 + 1.76400 * 0.95681\n"
          ]
        },
        {
          "data": {
            "application/vnd.jupyter.widget-view+json": {
              "model_id": "38cad3fa736e4f4dbcfd5103258d04a0",
              "version_major": 2,
              "version_minor": 0
            },
            "text/plain": [
              "  0%|          | 0/155 [00:00<?, ?it/s]"
            ]
          },
          "metadata": {},
          "output_type": "display_data"
        },
        {
          "name": "stdout",
          "output_type": "stream",
          "text": [
            "[ Train | 127/300 ] loss = 3.63639, acc = 0.74012\n",
            "loss = loss_layers + (10 * lamb) * loss_logits = 2.01776 + 1.79211 * 0.90320\n"
          ]
        },
        {
          "data": {
            "application/vnd.jupyter.widget-view+json": {
              "model_id": "1be36266c3e442bb9324ae72ad71f01d",
              "version_major": 2,
              "version_minor": 0
            },
            "text/plain": [
              "  0%|          | 0/54 [00:00<?, ?it/s]"
            ]
          },
          "metadata": {},
          "output_type": "display_data"
        },
        {
          "name": "stdout",
          "output_type": "stream",
          "text": [
            "[ Valid | 127/300 ] loss = 3.49282, acc = 0.74781\n",
            "loss = loss_layers + (10 * lamb) * loss_logits = 1.85977 + 1.79211 * 0.91124\n"
          ]
        },
        {
          "data": {
            "application/vnd.jupyter.widget-view+json": {
              "model_id": "a6818bd6e43a41c696389ede70c2c54a",
              "version_major": 2,
              "version_minor": 0
            },
            "text/plain": [
              "  0%|          | 0/155 [00:00<?, ?it/s]"
            ]
          },
          "metadata": {},
          "output_type": "display_data"
        },
        {
          "name": "stdout",
          "output_type": "stream",
          "text": [
            "[ Train | 128/300 ] loss = 3.63096, acc = 0.74529\n",
            "loss = loss_layers + (10 * lamb) * loss_logits = 2.01428 + 1.82044 * 0.88807\n"
          ]
        },
        {
          "data": {
            "application/vnd.jupyter.widget-view+json": {
              "model_id": "089b6016395147be91022e7489e152fc",
              "version_major": 2,
              "version_minor": 0
            },
            "text/plain": [
              "  0%|          | 0/54 [00:00<?, ?it/s]"
            ]
          },
          "metadata": {},
          "output_type": "display_data"
        },
        {
          "name": "stdout",
          "output_type": "stream",
          "text": [
            "[ Valid | 128/300 ] loss = 3.50010, acc = 0.75510 -> best\n",
            "loss = loss_layers + (10 * lamb) * loss_logits = 1.85779 + 1.82044 * 0.90215\n",
            "Best model found at epoch 128, saving model\n"
          ]
        },
        {
          "data": {
            "application/vnd.jupyter.widget-view+json": {
              "model_id": "5d86e5163a13471894a586d4b8bac9f9",
              "version_major": 2,
              "version_minor": 0
            },
            "text/plain": [
              "  0%|          | 0/155 [00:00<?, ?it/s]"
            ]
          },
          "metadata": {},
          "output_type": "display_data"
        },
        {
          "name": "stdout",
          "output_type": "stream",
          "text": [
            "[ Train | 129/300 ] loss = 3.67852, acc = 0.74326\n",
            "loss = loss_layers + (10 * lamb) * loss_logits = 2.01520 + 1.84900 * 0.89958\n"
          ]
        },
        {
          "data": {
            "application/vnd.jupyter.widget-view+json": {
              "model_id": "82c80b6feb254f1e9fb13efe6b4389cb",
              "version_major": 2,
              "version_minor": 0
            },
            "text/plain": [
              "  0%|          | 0/54 [00:00<?, ?it/s]"
            ]
          },
          "metadata": {},
          "output_type": "display_data"
        },
        {
          "name": "stdout",
          "output_type": "stream",
          "text": [
            "[ Valid | 129/300 ] loss = 3.50651, acc = 0.75685 -> best\n",
            "loss = loss_layers + (10 * lamb) * loss_logits = 1.85665 + 1.84900 * 0.89230\n",
            "Best model found at epoch 129, saving model\n"
          ]
        },
        {
          "data": {
            "application/vnd.jupyter.widget-view+json": {
              "model_id": "510eeed63f684e3bb0d86af06c9624e0",
              "version_major": 2,
              "version_minor": 0
            },
            "text/plain": [
              "  0%|          | 0/155 [00:00<?, ?it/s]"
            ]
          },
          "metadata": {},
          "output_type": "display_data"
        },
        {
          "name": "stdout",
          "output_type": "stream",
          "text": [
            "[ Train | 130/300 ] loss = 3.68533, acc = 0.75542\n",
            "loss = loss_layers + (10 * lamb) * loss_logits = 2.01912 + 1.87778 * 0.88733\n"
          ]
        },
        {
          "data": {
            "application/vnd.jupyter.widget-view+json": {
              "model_id": "c96e508f84d04783b04c0a4f8440da7f",
              "version_major": 2,
              "version_minor": 0
            },
            "text/plain": [
              "  0%|          | 0/54 [00:00<?, ?it/s]"
            ]
          },
          "metadata": {},
          "output_type": "display_data"
        },
        {
          "name": "stdout",
          "output_type": "stream",
          "text": [
            "[ Valid | 130/300 ] loss = 3.64749, acc = 0.72886\n",
            "loss = loss_layers + (10 * lamb) * loss_logits = 1.86546 + 1.87778 * 0.94901\n"
          ]
        },
        {
          "data": {
            "application/vnd.jupyter.widget-view+json": {
              "model_id": "6fc82b195d834a0b8321ff6fc094ed9e",
              "version_major": 2,
              "version_minor": 0
            },
            "text/plain": [
              "  0%|          | 0/155 [00:00<?, ?it/s]"
            ]
          },
          "metadata": {},
          "output_type": "display_data"
        },
        {
          "name": "stdout",
          "output_type": "stream",
          "text": [
            "[ Train | 131/300 ] loss = 3.70592, acc = 0.75137\n",
            "loss = loss_layers + (10 * lamb) * loss_logits = 2.01770 + 1.90678 * 0.88538\n"
          ]
        },
        {
          "data": {
            "application/vnd.jupyter.widget-view+json": {
              "model_id": "28a9c062a0e1423a882107ac77733a8e",
              "version_major": 2,
              "version_minor": 0
            },
            "text/plain": [
              "  0%|          | 0/54 [00:00<?, ?it/s]"
            ]
          },
          "metadata": {},
          "output_type": "display_data"
        },
        {
          "name": "stdout",
          "output_type": "stream",
          "text": [
            "[ Valid | 131/300 ] loss = 3.56494, acc = 0.74694\n",
            "loss = loss_layers + (10 * lamb) * loss_logits = 1.85884 + 1.90678 * 0.89476\n"
          ]
        },
        {
          "data": {
            "application/vnd.jupyter.widget-view+json": {
              "model_id": "d9ecdbdd558149548d85533aefbc3eac",
              "version_major": 2,
              "version_minor": 0
            },
            "text/plain": [
              "  0%|          | 0/155 [00:00<?, ?it/s]"
            ]
          },
          "metadata": {},
          "output_type": "display_data"
        },
        {
          "name": "stdout",
          "output_type": "stream",
          "text": [
            "[ Train | 132/300 ] loss = 3.73040, acc = 0.75319\n",
            "loss = loss_layers + (10 * lamb) * loss_logits = 2.02152 + 1.93600 * 0.88269\n"
          ]
        },
        {
          "data": {
            "application/vnd.jupyter.widget-view+json": {
              "model_id": "c5bb85ac5a9845e69099d9c163dcc955",
              "version_major": 2,
              "version_minor": 0
            },
            "text/plain": [
              "  0%|          | 0/54 [00:00<?, ?it/s]"
            ]
          },
          "metadata": {},
          "output_type": "display_data"
        },
        {
          "name": "stdout",
          "output_type": "stream",
          "text": [
            "[ Valid | 132/300 ] loss = 3.65375, acc = 0.74431\n",
            "loss = loss_layers + (10 * lamb) * loss_logits = 1.85949 + 1.93600 * 0.92679\n"
          ]
        },
        {
          "data": {
            "application/vnd.jupyter.widget-view+json": {
              "model_id": "29002a50a2904b649b4ae619640c27ba",
              "version_major": 2,
              "version_minor": 0
            },
            "text/plain": [
              "  0%|          | 0/155 [00:00<?, ?it/s]"
            ]
          },
          "metadata": {},
          "output_type": "display_data"
        },
        {
          "name": "stdout",
          "output_type": "stream",
          "text": [
            "[ Train | 133/300 ] loss = 3.76426, acc = 0.75350\n",
            "loss = loss_layers + (10 * lamb) * loss_logits = 2.02111 + 1.96544 * 0.88690\n"
          ]
        },
        {
          "data": {
            "application/vnd.jupyter.widget-view+json": {
              "model_id": "f9a71bf4022041f88fc6954afcd58bcf",
              "version_major": 2,
              "version_minor": 0
            },
            "text/plain": [
              "  0%|          | 0/54 [00:00<?, ?it/s]"
            ]
          },
          "metadata": {},
          "output_type": "display_data"
        },
        {
          "name": "stdout",
          "output_type": "stream",
          "text": [
            "[ Valid | 133/300 ] loss = 3.68838, acc = 0.73120\n",
            "loss = loss_layers + (10 * lamb) * loss_logits = 1.86782 + 1.96544 * 0.92628\n"
          ]
        },
        {
          "data": {
            "application/vnd.jupyter.widget-view+json": {
              "model_id": "c7b7e09b6c9c440d8b2fbed33f8e2f31",
              "version_major": 2,
              "version_minor": 0
            },
            "text/plain": [
              "  0%|          | 0/155 [00:00<?, ?it/s]"
            ]
          },
          "metadata": {},
          "output_type": "display_data"
        },
        {
          "name": "stdout",
          "output_type": "stream",
          "text": [
            "[ Train | 134/300 ] loss = 3.77347, acc = 0.75552\n",
            "loss = loss_layers + (10 * lamb) * loss_logits = 2.02079 + 1.99511 * 0.87849\n"
          ]
        },
        {
          "data": {
            "application/vnd.jupyter.widget-view+json": {
              "model_id": "deeb00786c324c30ad4c52c02a07af83",
              "version_major": 2,
              "version_minor": 0
            },
            "text/plain": [
              "  0%|          | 0/54 [00:00<?, ?it/s]"
            ]
          },
          "metadata": {},
          "output_type": "display_data"
        },
        {
          "name": "stdout",
          "output_type": "stream",
          "text": [
            "[ Valid | 134/300 ] loss = 3.91501, acc = 0.71924\n",
            "loss = loss_layers + (10 * lamb) * loss_logits = 1.86328 + 1.99511 * 1.02838\n"
          ]
        },
        {
          "data": {
            "application/vnd.jupyter.widget-view+json": {
              "model_id": "dd8ce1553b424ff98288cc68709c140f",
              "version_major": 2,
              "version_minor": 0
            },
            "text/plain": [
              "  0%|          | 0/155 [00:00<?, ?it/s]"
            ]
          },
          "metadata": {},
          "output_type": "display_data"
        },
        {
          "name": "stdout",
          "output_type": "stream",
          "text": [
            "[ Train | 135/300 ] loss = 3.78742, acc = 0.75897\n",
            "loss = loss_layers + (10 * lamb) * loss_logits = 2.02532 + 2.02500 * 0.87017\n"
          ]
        },
        {
          "data": {
            "application/vnd.jupyter.widget-view+json": {
              "model_id": "70d598ef9dd74fc69ebed4c4edbc140c",
              "version_major": 2,
              "version_minor": 0
            },
            "text/plain": [
              "  0%|          | 0/54 [00:00<?, ?it/s]"
            ]
          },
          "metadata": {},
          "output_type": "display_data"
        },
        {
          "name": "stdout",
          "output_type": "stream",
          "text": [
            "[ Valid | 135/300 ] loss = 3.73782, acc = 0.74315\n",
            "loss = loss_layers + (10 * lamb) * loss_logits = 1.86471 + 2.02500 * 0.92499\n"
          ]
        },
        {
          "data": {
            "application/vnd.jupyter.widget-view+json": {
              "model_id": "4edb3b2e83664cbd9b93e6cc663ae63a",
              "version_major": 2,
              "version_minor": 0
            },
            "text/plain": [
              "  0%|          | 0/155 [00:00<?, ?it/s]"
            ]
          },
          "metadata": {},
          "output_type": "display_data"
        },
        {
          "name": "stdout",
          "output_type": "stream",
          "text": [
            "[ Train | 136/300 ] loss = 3.81251, acc = 0.75542\n",
            "loss = loss_layers + (10 * lamb) * loss_logits = 2.02007 + 2.05511 * 0.87218\n"
          ]
        },
        {
          "data": {
            "application/vnd.jupyter.widget-view+json": {
              "model_id": "33967fee558e4f21a1d8e5bc9499dde9",
              "version_major": 2,
              "version_minor": 0
            },
            "text/plain": [
              "  0%|          | 0/54 [00:00<?, ?it/s]"
            ]
          },
          "metadata": {},
          "output_type": "display_data"
        },
        {
          "name": "stdout",
          "output_type": "stream",
          "text": [
            "[ Valid | 136/300 ] loss = 3.73332, acc = 0.75889 -> best\n",
            "loss = loss_layers + (10 * lamb) * loss_logits = 1.86619 + 2.05511 * 0.90853\n",
            "Best model found at epoch 136, saving model\n"
          ]
        },
        {
          "data": {
            "application/vnd.jupyter.widget-view+json": {
              "model_id": "eb6895079b2d409eb0df00de1673ac1b",
              "version_major": 2,
              "version_minor": 0
            },
            "text/plain": [
              "  0%|          | 0/155 [00:00<?, ?it/s]"
            ]
          },
          "metadata": {},
          "output_type": "display_data"
        },
        {
          "name": "stdout",
          "output_type": "stream",
          "text": [
            "[ Train | 137/300 ] loss = 3.82749, acc = 0.76039\n",
            "loss = loss_layers + (10 * lamb) * loss_logits = 2.02454 + 2.08544 * 0.86454\n"
          ]
        },
        {
          "data": {
            "application/vnd.jupyter.widget-view+json": {
              "model_id": "9ad055c990d54367aea792d975d3f087",
              "version_major": 2,
              "version_minor": 0
            },
            "text/plain": [
              "  0%|          | 0/54 [00:00<?, ?it/s]"
            ]
          },
          "metadata": {},
          "output_type": "display_data"
        },
        {
          "name": "stdout",
          "output_type": "stream",
          "text": [
            "[ Valid | 137/300 ] loss = 3.89123, acc = 0.73499\n",
            "loss = loss_layers + (10 * lamb) * loss_logits = 1.86738 + 2.08544 * 0.97046\n"
          ]
        },
        {
          "data": {
            "application/vnd.jupyter.widget-view+json": {
              "model_id": "c0283eed0ee44ea697ac28cea04e406f",
              "version_major": 2,
              "version_minor": 0
            },
            "text/plain": [
              "  0%|          | 0/155 [00:00<?, ?it/s]"
            ]
          },
          "metadata": {},
          "output_type": "display_data"
        },
        {
          "name": "stdout",
          "output_type": "stream",
          "text": [
            "[ Train | 138/300 ] loss = 3.86949, acc = 0.75431\n",
            "loss = loss_layers + (10 * lamb) * loss_logits = 2.02816 + 2.11600 * 0.87019\n"
          ]
        },
        {
          "data": {
            "application/vnd.jupyter.widget-view+json": {
              "model_id": "4765c615c8df4e2cbdc2368c8eaec82a",
              "version_major": 2,
              "version_minor": 0
            },
            "text/plain": [
              "  0%|          | 0/54 [00:00<?, ?it/s]"
            ]
          },
          "metadata": {},
          "output_type": "display_data"
        },
        {
          "name": "stdout",
          "output_type": "stream",
          "text": [
            "[ Valid | 138/300 ] loss = 3.84875, acc = 0.74694\n",
            "loss = loss_layers + (10 * lamb) * loss_logits = 1.86686 + 2.11600 * 0.93662\n"
          ]
        },
        {
          "data": {
            "application/vnd.jupyter.widget-view+json": {
              "model_id": "6d9ab72a92924c7ba4c05442eceec2b4",
              "version_major": 2,
              "version_minor": 0
            },
            "text/plain": [
              "  0%|          | 0/155 [00:00<?, ?it/s]"
            ]
          },
          "metadata": {},
          "output_type": "display_data"
        },
        {
          "name": "stdout",
          "output_type": "stream",
          "text": [
            "[ Train | 139/300 ] loss = 3.88374, acc = 0.75887\n",
            "loss = loss_layers + (10 * lamb) * loss_logits = 2.02742 + 2.14678 * 0.86470\n"
          ]
        },
        {
          "data": {
            "application/vnd.jupyter.widget-view+json": {
              "model_id": "958271560c534d8e9665285dbd10f9e5",
              "version_major": 2,
              "version_minor": 0
            },
            "text/plain": [
              "  0%|          | 0/54 [00:00<?, ?it/s]"
            ]
          },
          "metadata": {},
          "output_type": "display_data"
        },
        {
          "name": "stdout",
          "output_type": "stream",
          "text": [
            "[ Valid | 139/300 ] loss = 3.83156, acc = 0.75073\n",
            "loss = loss_layers + (10 * lamb) * loss_logits = 1.86757 + 2.14678 * 0.91485\n"
          ]
        },
        {
          "data": {
            "application/vnd.jupyter.widget-view+json": {
              "model_id": "9df642d4fd2d46ed8fd29a23e827e8f7",
              "version_major": 2,
              "version_minor": 0
            },
            "text/plain": [
              "  0%|          | 0/155 [00:00<?, ?it/s]"
            ]
          },
          "metadata": {},
          "output_type": "display_data"
        },
        {
          "name": "stdout",
          "output_type": "stream",
          "text": [
            "[ Train | 140/300 ] loss = 3.91331, acc = 0.75775\n",
            "loss = loss_layers + (10 * lamb) * loss_logits = 2.03077 + 2.17778 * 0.86443\n"
          ]
        },
        {
          "data": {
            "application/vnd.jupyter.widget-view+json": {
              "model_id": "23e95117a802491bbf151de0e62b2ebe",
              "version_major": 2,
              "version_minor": 0
            },
            "text/plain": [
              "  0%|          | 0/54 [00:00<?, ?it/s]"
            ]
          },
          "metadata": {},
          "output_type": "display_data"
        },
        {
          "name": "stdout",
          "output_type": "stream",
          "text": [
            "[ Valid | 140/300 ] loss = 3.89364, acc = 0.75044\n",
            "loss = loss_layers + (10 * lamb) * loss_logits = 1.87251 + 2.17778 * 0.92807\n"
          ]
        },
        {
          "data": {
            "application/vnd.jupyter.widget-view+json": {
              "model_id": "8a15f53d73b04c2bb5a292ef0c68a6de",
              "version_major": 2,
              "version_minor": 0
            },
            "text/plain": [
              "  0%|          | 0/155 [00:00<?, ?it/s]"
            ]
          },
          "metadata": {},
          "output_type": "display_data"
        },
        {
          "name": "stdout",
          "output_type": "stream",
          "text": [
            "[ Train | 141/300 ] loss = 3.93893, acc = 0.76029\n",
            "loss = loss_layers + (10 * lamb) * loss_logits = 2.03139 + 2.20900 * 0.86353\n"
          ]
        },
        {
          "data": {
            "application/vnd.jupyter.widget-view+json": {
              "model_id": "fccf2542a8dc49f180d1befa019e31f4",
              "version_major": 2,
              "version_minor": 0
            },
            "text/plain": [
              "  0%|          | 0/54 [00:00<?, ?it/s]"
            ]
          },
          "metadata": {},
          "output_type": "display_data"
        },
        {
          "name": "stdout",
          "output_type": "stream",
          "text": [
            "[ Valid | 141/300 ] loss = 4.03713, acc = 0.72915\n",
            "loss = loss_layers + (10 * lamb) * loss_logits = 1.87458 + 2.20900 * 0.97897\n"
          ]
        },
        {
          "data": {
            "application/vnd.jupyter.widget-view+json": {
              "model_id": "e1ebaee281af4e0694bd421f29dfe4f4",
              "version_major": 2,
              "version_minor": 0
            },
            "text/plain": [
              "  0%|          | 0/155 [00:00<?, ?it/s]"
            ]
          },
          "metadata": {},
          "output_type": "display_data"
        },
        {
          "name": "stdout",
          "output_type": "stream",
          "text": [
            "[ Train | 142/300 ] loss = 3.97255, acc = 0.76140\n",
            "loss = loss_layers + (10 * lamb) * loss_logits = 2.03401 + 2.24044 * 0.86525\n"
          ]
        },
        {
          "data": {
            "application/vnd.jupyter.widget-view+json": {
              "model_id": "76b5d09644254e8b8ead11b87097d4b3",
              "version_major": 2,
              "version_minor": 0
            },
            "text/plain": [
              "  0%|          | 0/54 [00:00<?, ?it/s]"
            ]
          },
          "metadata": {},
          "output_type": "display_data"
        },
        {
          "name": "stdout",
          "output_type": "stream",
          "text": [
            "[ Valid | 142/300 ] loss = 3.99369, acc = 0.73353\n",
            "loss = loss_layers + (10 * lamb) * loss_logits = 1.87456 + 2.24044 * 0.94585\n"
          ]
        },
        {
          "data": {
            "application/vnd.jupyter.widget-view+json": {
              "model_id": "b8a32953a00f47438949c9fb7135aab3",
              "version_major": 2,
              "version_minor": 0
            },
            "text/plain": [
              "  0%|          | 0/155 [00:00<?, ?it/s]"
            ]
          },
          "metadata": {},
          "output_type": "display_data"
        },
        {
          "name": "stdout",
          "output_type": "stream",
          "text": [
            "[ Train | 143/300 ] loss = 3.97754, acc = 0.76181\n",
            "loss = loss_layers + (10 * lamb) * loss_logits = 2.02913 + 2.27211 * 0.85753\n"
          ]
        },
        {
          "data": {
            "application/vnd.jupyter.widget-view+json": {
              "model_id": "e27720b4e91c4f38a607a55638cb5eaa",
              "version_major": 2,
              "version_minor": 0
            },
            "text/plain": [
              "  0%|          | 0/54 [00:00<?, ?it/s]"
            ]
          },
          "metadata": {},
          "output_type": "display_data"
        },
        {
          "name": "stdout",
          "output_type": "stream",
          "text": [
            "[ Valid | 143/300 ] loss = 3.99476, acc = 0.74490\n",
            "loss = loss_layers + (10 * lamb) * loss_logits = 1.87499 + 2.27211 * 0.93295\n"
          ]
        },
        {
          "data": {
            "application/vnd.jupyter.widget-view+json": {
              "model_id": "64dcb01391a64586ad99018d7a2be5d1",
              "version_major": 2,
              "version_minor": 0
            },
            "text/plain": [
              "  0%|          | 0/155 [00:00<?, ?it/s]"
            ]
          },
          "metadata": {},
          "output_type": "display_data"
        },
        {
          "name": "stdout",
          "output_type": "stream",
          "text": [
            "[ Train | 144/300 ] loss = 4.00648, acc = 0.76769\n",
            "loss = loss_layers + (10 * lamb) * loss_logits = 2.03406 + 2.30400 * 0.85608\n"
          ]
        },
        {
          "data": {
            "application/vnd.jupyter.widget-view+json": {
              "model_id": "e57f29d8c5c34a12aafd4119993abe3d",
              "version_major": 2,
              "version_minor": 0
            },
            "text/plain": [
              "  0%|          | 0/54 [00:00<?, ?it/s]"
            ]
          },
          "metadata": {},
          "output_type": "display_data"
        },
        {
          "name": "stdout",
          "output_type": "stream",
          "text": [
            "[ Valid | 144/300 ] loss = 4.10483, acc = 0.73790\n",
            "loss = loss_layers + (10 * lamb) * loss_logits = 1.87642 + 2.30400 * 0.96719\n"
          ]
        },
        {
          "data": {
            "application/vnd.jupyter.widget-view+json": {
              "model_id": "06d85871e57540f5999043cd50cc815c",
              "version_major": 2,
              "version_minor": 0
            },
            "text/plain": [
              "  0%|          | 0/155 [00:00<?, ?it/s]"
            ]
          },
          "metadata": {},
          "output_type": "display_data"
        },
        {
          "name": "stdout",
          "output_type": "stream",
          "text": [
            "[ Train | 145/300 ] loss = 4.04856, acc = 0.76708\n",
            "loss = loss_layers + (10 * lamb) * loss_logits = 2.03427 + 2.33611 * 0.86224\n"
          ]
        },
        {
          "data": {
            "application/vnd.jupyter.widget-view+json": {
              "model_id": "ed7ad71a189a4da89d2103df5ac9c9cb",
              "version_major": 2,
              "version_minor": 0
            },
            "text/plain": [
              "  0%|          | 0/54 [00:00<?, ?it/s]"
            ]
          },
          "metadata": {},
          "output_type": "display_data"
        },
        {
          "name": "stdout",
          "output_type": "stream",
          "text": [
            "[ Valid | 145/300 ] loss = 4.04214, acc = 0.74723\n",
            "loss = loss_layers + (10 * lamb) * loss_logits = 1.87484 + 2.33611 * 0.92774\n"
          ]
        },
        {
          "data": {
            "application/vnd.jupyter.widget-view+json": {
              "model_id": "ba291ac49be848bab36cc86b816eae89",
              "version_major": 2,
              "version_minor": 0
            },
            "text/plain": [
              "  0%|          | 0/155 [00:00<?, ?it/s]"
            ]
          },
          "metadata": {},
          "output_type": "display_data"
        },
        {
          "name": "stdout",
          "output_type": "stream",
          "text": [
            "[ Train | 146/300 ] loss = 4.05927, acc = 0.76647\n",
            "loss = loss_layers + (10 * lamb) * loss_logits = 2.03653 + 2.36844 * 0.85404\n"
          ]
        },
        {
          "data": {
            "application/vnd.jupyter.widget-view+json": {
              "model_id": "107fcf198a344883a177dfe84cb2983a",
              "version_major": 2,
              "version_minor": 0
            },
            "text/plain": [
              "  0%|          | 0/54 [00:00<?, ?it/s]"
            ]
          },
          "metadata": {},
          "output_type": "display_data"
        },
        {
          "name": "stdout",
          "output_type": "stream",
          "text": [
            "[ Valid | 146/300 ] loss = 4.03061, acc = 0.75306\n",
            "loss = loss_layers + (10 * lamb) * loss_logits = 1.88133 + 2.36844 * 0.90746\n"
          ]
        },
        {
          "data": {
            "application/vnd.jupyter.widget-view+json": {
              "model_id": "9d49ac149f7544d58e0db290135369a0",
              "version_major": 2,
              "version_minor": 0
            },
            "text/plain": [
              "  0%|          | 0/155 [00:00<?, ?it/s]"
            ]
          },
          "metadata": {},
          "output_type": "display_data"
        },
        {
          "name": "stdout",
          "output_type": "stream",
          "text": [
            "[ Train | 147/300 ] loss = 4.09385, acc = 0.76465\n",
            "loss = loss_layers + (10 * lamb) * loss_logits = 2.04275 + 2.40100 * 0.85427\n"
          ]
        },
        {
          "data": {
            "application/vnd.jupyter.widget-view+json": {
              "model_id": "925f7966cbcb4b509a95fc3056aa1c02",
              "version_major": 2,
              "version_minor": 0
            },
            "text/plain": [
              "  0%|          | 0/54 [00:00<?, ?it/s]"
            ]
          },
          "metadata": {},
          "output_type": "display_data"
        },
        {
          "name": "stdout",
          "output_type": "stream",
          "text": [
            "[ Valid | 147/300 ] loss = 4.19335, acc = 0.73615\n",
            "loss = loss_layers + (10 * lamb) * loss_logits = 1.88004 + 2.40100 * 0.96348\n"
          ]
        },
        {
          "data": {
            "application/vnd.jupyter.widget-view+json": {
              "model_id": "d6bc9466fe52497798b282577833eb75",
              "version_major": 2,
              "version_minor": 0
            },
            "text/plain": [
              "  0%|          | 0/155 [00:00<?, ?it/s]"
            ]
          },
          "metadata": {},
          "output_type": "display_data"
        },
        {
          "name": "stdout",
          "output_type": "stream",
          "text": [
            "[ Train | 148/300 ] loss = 4.12793, acc = 0.76708\n",
            "loss = loss_layers + (10 * lamb) * loss_logits = 2.03930 + 2.43378 * 0.85819\n"
          ]
        },
        {
          "data": {
            "application/vnd.jupyter.widget-view+json": {
              "model_id": "6fefa96625a049f8a0311143e80e219f",
              "version_major": 2,
              "version_minor": 0
            },
            "text/plain": [
              "  0%|          | 0/54 [00:00<?, ?it/s]"
            ]
          },
          "metadata": {},
          "output_type": "display_data"
        },
        {
          "name": "stdout",
          "output_type": "stream",
          "text": [
            "[ Valid | 148/300 ] loss = 4.15035, acc = 0.73965\n",
            "loss = loss_layers + (10 * lamb) * loss_logits = 1.88032 + 2.43378 * 0.93272\n"
          ]
        },
        {
          "data": {
            "application/vnd.jupyter.widget-view+json": {
              "model_id": "bceff38bcbaf4e6194be906c213f57d7",
              "version_major": 2,
              "version_minor": 0
            },
            "text/plain": [
              "  0%|          | 0/155 [00:00<?, ?it/s]"
            ]
          },
          "metadata": {},
          "output_type": "display_data"
        },
        {
          "name": "stdout",
          "output_type": "stream",
          "text": [
            "[ Train | 149/300 ] loss = 4.12752, acc = 0.77042\n",
            "loss = loss_layers + (10 * lamb) * loss_logits = 2.04081 + 2.46678 * 0.84593\n"
          ]
        },
        {
          "data": {
            "application/vnd.jupyter.widget-view+json": {
              "model_id": "413ae45804984d718710f32c9656346f",
              "version_major": 2,
              "version_minor": 0
            },
            "text/plain": [
              "  0%|          | 0/54 [00:00<?, ?it/s]"
            ]
          },
          "metadata": {},
          "output_type": "display_data"
        },
        {
          "name": "stdout",
          "output_type": "stream",
          "text": [
            "[ Valid | 149/300 ] loss = 4.07710, acc = 0.75539\n",
            "loss = loss_layers + (10 * lamb) * loss_logits = 1.88421 + 2.46678 * 0.88897\n"
          ]
        },
        {
          "data": {
            "application/vnd.jupyter.widget-view+json": {
              "model_id": "18422defffe64e209cd14b969dbdc671",
              "version_major": 2,
              "version_minor": 0
            },
            "text/plain": [
              "  0%|          | 0/155 [00:00<?, ?it/s]"
            ]
          },
          "metadata": {},
          "output_type": "display_data"
        },
        {
          "name": "stdout",
          "output_type": "stream",
          "text": [
            "[ Train | 150/300 ] loss = 4.16155, acc = 0.76860\n",
            "loss = loss_layers + (10 * lamb) * loss_logits = 2.04373 + 2.50000 * 0.84713\n"
          ]
        },
        {
          "data": {
            "application/vnd.jupyter.widget-view+json": {
              "model_id": "d1bb0322e8fc4775a3518ca8d0b2ae07",
              "version_major": 2,
              "version_minor": 0
            },
            "text/plain": [
              "  0%|          | 0/54 [00:00<?, ?it/s]"
            ]
          },
          "metadata": {},
          "output_type": "display_data"
        },
        {
          "name": "stdout",
          "output_type": "stream",
          "text": [
            "[ Valid | 150/300 ] loss = 4.11099, acc = 0.75364\n",
            "loss = loss_layers + (10 * lamb) * loss_logits = 1.88377 + 2.50000 * 0.89088\n"
          ]
        },
        {
          "data": {
            "application/vnd.jupyter.widget-view+json": {
              "model_id": "3cfd78579e444efcb36f422f70eaa807",
              "version_major": 2,
              "version_minor": 0
            },
            "text/plain": [
              "  0%|          | 0/155 [00:00<?, ?it/s]"
            ]
          },
          "metadata": {},
          "output_type": "display_data"
        },
        {
          "name": "stdout",
          "output_type": "stream",
          "text": [
            "[ Train | 151/300 ] loss = 4.18314, acc = 0.76870\n",
            "loss = loss_layers + (10 * lamb) * loss_logits = 2.04214 + 2.53344 * 0.84510\n"
          ]
        },
        {
          "data": {
            "application/vnd.jupyter.widget-view+json": {
              "model_id": "03feeadf767f477ca211bb71548b7104",
              "version_major": 2,
              "version_minor": 0
            },
            "text/plain": [
              "  0%|          | 0/54 [00:00<?, ?it/s]"
            ]
          },
          "metadata": {},
          "output_type": "display_data"
        },
        {
          "name": "stdout",
          "output_type": "stream",
          "text": [
            "[ Valid | 151/300 ] loss = 4.25189, acc = 0.73557\n",
            "loss = loss_layers + (10 * lamb) * loss_logits = 1.88670 + 2.53344 * 0.93359\n"
          ]
        },
        {
          "data": {
            "application/vnd.jupyter.widget-view+json": {
              "model_id": "d48653a3f95e4e0895528a72502a7c9c",
              "version_major": 2,
              "version_minor": 0
            },
            "text/plain": [
              "  0%|          | 0/155 [00:00<?, ?it/s]"
            ]
          },
          "metadata": {},
          "output_type": "display_data"
        },
        {
          "name": "stdout",
          "output_type": "stream",
          "text": [
            "[ Train | 152/300 ] loss = 4.20449, acc = 0.77600\n",
            "loss = loss_layers + (10 * lamb) * loss_logits = 2.04556 + 2.56711 * 0.84100\n"
          ]
        },
        {
          "data": {
            "application/vnd.jupyter.widget-view+json": {
              "model_id": "52d7705991c449949fea6f9ecf814db2",
              "version_major": 2,
              "version_minor": 0
            },
            "text/plain": [
              "  0%|          | 0/54 [00:00<?, ?it/s]"
            ]
          },
          "metadata": {},
          "output_type": "display_data"
        },
        {
          "name": "stdout",
          "output_type": "stream",
          "text": [
            "[ Valid | 152/300 ] loss = 4.16940, acc = 0.76239 -> best\n",
            "loss = loss_layers + (10 * lamb) * loss_logits = 1.88667 + 2.56711 * 0.88922\n",
            "Best model found at epoch 152, saving model\n"
          ]
        },
        {
          "data": {
            "application/vnd.jupyter.widget-view+json": {
              "model_id": "36bc28a6274548b8818af2b430e435e1",
              "version_major": 2,
              "version_minor": 0
            },
            "text/plain": [
              "  0%|          | 0/155 [00:00<?, ?it/s]"
            ]
          },
          "metadata": {},
          "output_type": "display_data"
        },
        {
          "name": "stdout",
          "output_type": "stream",
          "text": [
            "[ Train | 153/300 ] loss = 4.23587, acc = 0.77063\n",
            "loss = loss_layers + (10 * lamb) * loss_logits = 2.04409 + 2.60100 * 0.84267\n"
          ]
        },
        {
          "data": {
            "application/vnd.jupyter.widget-view+json": {
              "model_id": "c053b6840b3146e080868da1b443ce17",
              "version_major": 2,
              "version_minor": 0
            },
            "text/plain": [
              "  0%|          | 0/54 [00:00<?, ?it/s]"
            ]
          },
          "metadata": {},
          "output_type": "display_data"
        },
        {
          "name": "stdout",
          "output_type": "stream",
          "text": [
            "[ Valid | 153/300 ] loss = 4.31017, acc = 0.74840\n",
            "loss = loss_layers + (10 * lamb) * loss_logits = 1.88543 + 2.60100 * 0.93223\n"
          ]
        },
        {
          "data": {
            "application/vnd.jupyter.widget-view+json": {
              "model_id": "3c35bceb3d58465c9d9e7eebdcc17992",
              "version_major": 2,
              "version_minor": 0
            },
            "text/plain": [
              "  0%|          | 0/155 [00:00<?, ?it/s]"
            ]
          },
          "metadata": {},
          "output_type": "display_data"
        },
        {
          "name": "stdout",
          "output_type": "stream",
          "text": [
            "[ Train | 154/300 ] loss = 4.26787, acc = 0.77144\n",
            "loss = loss_layers + (10 * lamb) * loss_logits = 2.05114 + 2.63511 * 0.84123\n"
          ]
        },
        {
          "data": {
            "application/vnd.jupyter.widget-view+json": {
              "model_id": "420637ecf5024ef6bbd9bdaaaa3b5fb7",
              "version_major": 2,
              "version_minor": 0
            },
            "text/plain": [
              "  0%|          | 0/54 [00:00<?, ?it/s]"
            ]
          },
          "metadata": {},
          "output_type": "display_data"
        },
        {
          "name": "stdout",
          "output_type": "stream",
          "text": [
            "[ Valid | 154/300 ] loss = 4.40136, acc = 0.74257\n",
            "loss = loss_layers + (10 * lamb) * loss_logits = 1.89140 + 2.63511 * 0.95251\n"
          ]
        },
        {
          "data": {
            "application/vnd.jupyter.widget-view+json": {
              "model_id": "f64247356fc8408c9acc72bc10dbdc1b",
              "version_major": 2,
              "version_minor": 0
            },
            "text/plain": [
              "  0%|          | 0/155 [00:00<?, ?it/s]"
            ]
          },
          "metadata": {},
          "output_type": "display_data"
        },
        {
          "name": "stdout",
          "output_type": "stream",
          "text": [
            "[ Train | 155/300 ] loss = 4.30340, acc = 0.77407\n",
            "loss = loss_layers + (10 * lamb) * loss_logits = 2.05111 + 2.66944 * 0.84373\n"
          ]
        },
        {
          "data": {
            "application/vnd.jupyter.widget-view+json": {
              "model_id": "308afb0051d14b149130b1f56619ccbf",
              "version_major": 2,
              "version_minor": 0
            },
            "text/plain": [
              "  0%|          | 0/54 [00:00<?, ?it/s]"
            ]
          },
          "metadata": {},
          "output_type": "display_data"
        },
        {
          "name": "stdout",
          "output_type": "stream",
          "text": [
            "[ Valid | 155/300 ] loss = 4.40417, acc = 0.74286\n",
            "loss = loss_layers + (10 * lamb) * loss_logits = 1.88968 + 2.66944 * 0.94195\n"
          ]
        },
        {
          "data": {
            "application/vnd.jupyter.widget-view+json": {
              "model_id": "397b1a35ed74467290955c60a056ba48",
              "version_major": 2,
              "version_minor": 0
            },
            "text/plain": [
              "  0%|          | 0/155 [00:00<?, ?it/s]"
            ]
          },
          "metadata": {},
          "output_type": "display_data"
        },
        {
          "name": "stdout",
          "output_type": "stream",
          "text": [
            "[ Train | 156/300 ] loss = 4.31082, acc = 0.77762\n",
            "loss = loss_layers + (10 * lamb) * loss_logits = 2.05299 + 2.70400 * 0.83499\n"
          ]
        },
        {
          "data": {
            "application/vnd.jupyter.widget-view+json": {
              "model_id": "3e39ddbafaa24e1c838d13ed831caa0f",
              "version_major": 2,
              "version_minor": 0
            },
            "text/plain": [
              "  0%|          | 0/54 [00:00<?, ?it/s]"
            ]
          },
          "metadata": {},
          "output_type": "display_data"
        },
        {
          "name": "stdout",
          "output_type": "stream",
          "text": [
            "[ Valid | 156/300 ] loss = 4.31813, acc = 0.76589 -> best\n",
            "loss = loss_layers + (10 * lamb) * loss_logits = 1.89046 + 2.70400 * 0.89781\n",
            "Best model found at epoch 156, saving model\n"
          ]
        },
        {
          "data": {
            "application/vnd.jupyter.widget-view+json": {
              "model_id": "d29c38ddedd34627b14623dd9bb930f0",
              "version_major": 2,
              "version_minor": 0
            },
            "text/plain": [
              "  0%|          | 0/155 [00:00<?, ?it/s]"
            ]
          },
          "metadata": {},
          "output_type": "display_data"
        },
        {
          "name": "stdout",
          "output_type": "stream",
          "text": [
            "[ Train | 157/300 ] loss = 4.35990, acc = 0.76961\n",
            "loss = loss_layers + (10 * lamb) * loss_logits = 2.05775 + 2.73878 * 0.84058\n"
          ]
        },
        {
          "data": {
            "application/vnd.jupyter.widget-view+json": {
              "model_id": "713b37c5f69d42c79d5499f2f4ed6a97",
              "version_major": 2,
              "version_minor": 0
            },
            "text/plain": [
              "  0%|          | 0/54 [00:00<?, ?it/s]"
            ]
          },
          "metadata": {},
          "output_type": "display_data"
        },
        {
          "name": "stdout",
          "output_type": "stream",
          "text": [
            "[ Valid | 157/300 ] loss = 4.36142, acc = 0.76297\n",
            "loss = loss_layers + (10 * lamb) * loss_logits = 1.89224 + 2.73878 * 0.90156\n"
          ]
        },
        {
          "data": {
            "application/vnd.jupyter.widget-view+json": {
              "model_id": "c70a622bae224a9cbfa3c8d51efc5c4d",
              "version_major": 2,
              "version_minor": 0
            },
            "text/plain": [
              "  0%|          | 0/155 [00:00<?, ?it/s]"
            ]
          },
          "metadata": {},
          "output_type": "display_data"
        },
        {
          "name": "stdout",
          "output_type": "stream",
          "text": [
            "[ Train | 158/300 ] loss = 4.33804, acc = 0.77975\n",
            "loss = loss_layers + (10 * lamb) * loss_logits = 2.05671 + 2.77378 * 0.82246\n"
          ]
        },
        {
          "data": {
            "application/vnd.jupyter.widget-view+json": {
              "model_id": "cc9ed7e8836644e8805bfaf203748023",
              "version_major": 2,
              "version_minor": 0
            },
            "text/plain": [
              "  0%|          | 0/54 [00:00<?, ?it/s]"
            ]
          },
          "metadata": {},
          "output_type": "display_data"
        },
        {
          "name": "stdout",
          "output_type": "stream",
          "text": [
            "[ Valid | 158/300 ] loss = 4.44170, acc = 0.75160\n",
            "loss = loss_layers + (10 * lamb) * loss_logits = 1.89629 + 2.77378 * 0.91767\n"
          ]
        },
        {
          "data": {
            "application/vnd.jupyter.widget-view+json": {
              "model_id": "347cd4e80a5245cda97e2d49cb91b1e5",
              "version_major": 2,
              "version_minor": 0
            },
            "text/plain": [
              "  0%|          | 0/155 [00:00<?, ?it/s]"
            ]
          },
          "metadata": {},
          "output_type": "display_data"
        },
        {
          "name": "stdout",
          "output_type": "stream",
          "text": [
            "[ Train | 159/300 ] loss = 4.35782, acc = 0.78208\n",
            "loss = loss_layers + (10 * lamb) * loss_logits = 2.05491 + 2.80900 * 0.81983\n"
          ]
        },
        {
          "data": {
            "application/vnd.jupyter.widget-view+json": {
              "model_id": "5e41927f6a7a4b22b144f5af1990d9f6",
              "version_major": 2,
              "version_minor": 0
            },
            "text/plain": [
              "  0%|          | 0/54 [00:00<?, ?it/s]"
            ]
          },
          "metadata": {},
          "output_type": "display_data"
        },
        {
          "name": "stdout",
          "output_type": "stream",
          "text": [
            "[ Valid | 159/300 ] loss = 4.53593, acc = 0.73878\n",
            "loss = loss_layers + (10 * lamb) * loss_logits = 1.89907 + 2.80900 * 0.93872\n"
          ]
        },
        {
          "data": {
            "application/vnd.jupyter.widget-view+json": {
              "model_id": "5347133e4a554ee2ac6730bb7e12069e",
              "version_major": 2,
              "version_minor": 0
            },
            "text/plain": [
              "  0%|          | 0/155 [00:00<?, ?it/s]"
            ]
          },
          "metadata": {},
          "output_type": "display_data"
        },
        {
          "name": "stdout",
          "output_type": "stream",
          "text": [
            "[ Train | 160/300 ] loss = 4.44213, acc = 0.77275\n",
            "loss = loss_layers + (10 * lamb) * loss_logits = 2.05677 + 2.84444 * 0.83860\n"
          ]
        },
        {
          "data": {
            "application/vnd.jupyter.widget-view+json": {
              "model_id": "f39d807156f54bc3a4e2ca6adb239612",
              "version_major": 2,
              "version_minor": 0
            },
            "text/plain": [
              "  0%|          | 0/54 [00:00<?, ?it/s]"
            ]
          },
          "metadata": {},
          "output_type": "display_data"
        },
        {
          "name": "stdout",
          "output_type": "stream",
          "text": [
            "[ Valid | 160/300 ] loss = 4.62229, acc = 0.74227\n",
            "loss = loss_layers + (10 * lamb) * loss_logits = 1.89697 + 2.84444 * 0.95812\n"
          ]
        },
        {
          "data": {
            "application/vnd.jupyter.widget-view+json": {
              "model_id": "041b67064e5e4d5bae61183bafa7256c",
              "version_major": 2,
              "version_minor": 0
            },
            "text/plain": [
              "  0%|          | 0/155 [00:00<?, ?it/s]"
            ]
          },
          "metadata": {},
          "output_type": "display_data"
        },
        {
          "name": "stdout",
          "output_type": "stream",
          "text": [
            "[ Train | 161/300 ] loss = 4.44081, acc = 0.77711\n",
            "loss = loss_layers + (10 * lamb) * loss_logits = 2.06338 + 2.88011 * 0.82546\n"
          ]
        },
        {
          "data": {
            "application/vnd.jupyter.widget-view+json": {
              "model_id": "9bde7f4463af493da5a64c222c082322",
              "version_major": 2,
              "version_minor": 0
            },
            "text/plain": [
              "  0%|          | 0/54 [00:00<?, ?it/s]"
            ]
          },
          "metadata": {},
          "output_type": "display_data"
        },
        {
          "name": "stdout",
          "output_type": "stream",
          "text": [
            "[ Valid | 161/300 ] loss = 4.56705, acc = 0.76210\n",
            "loss = loss_layers + (10 * lamb) * loss_logits = 1.89976 + 2.88011 * 0.92610\n"
          ]
        },
        {
          "data": {
            "application/vnd.jupyter.widget-view+json": {
              "model_id": "a98ebaf0bb8f4ae8abf176369cd0129b",
              "version_major": 2,
              "version_minor": 0
            },
            "text/plain": [
              "  0%|          | 0/155 [00:00<?, ?it/s]"
            ]
          },
          "metadata": {},
          "output_type": "display_data"
        },
        {
          "name": "stdout",
          "output_type": "stream",
          "text": [
            "[ Train | 162/300 ] loss = 4.47921, acc = 0.77995\n",
            "loss = loss_layers + (10 * lamb) * loss_logits = 2.06505 + 2.91600 * 0.82790\n"
          ]
        },
        {
          "data": {
            "application/vnd.jupyter.widget-view+json": {
              "model_id": "815f52272aaf45a8b64d5cc75ea16048",
              "version_major": 2,
              "version_minor": 0
            },
            "text/plain": [
              "  0%|          | 0/54 [00:00<?, ?it/s]"
            ]
          },
          "metadata": {},
          "output_type": "display_data"
        },
        {
          "name": "stdout",
          "output_type": "stream",
          "text": [
            "[ Valid | 162/300 ] loss = 4.66260, acc = 0.75248\n",
            "loss = loss_layers + (10 * lamb) * loss_logits = 1.90156 + 2.91600 * 0.94686\n"
          ]
        },
        {
          "data": {
            "application/vnd.jupyter.widget-view+json": {
              "model_id": "6d9da006f0c54c1a9f22dbd6a4d8d691",
              "version_major": 2,
              "version_minor": 0
            },
            "text/plain": [
              "  0%|          | 0/155 [00:00<?, ?it/s]"
            ]
          },
          "metadata": {},
          "output_type": "display_data"
        },
        {
          "name": "stdout",
          "output_type": "stream",
          "text": [
            "[ Train | 163/300 ] loss = 4.51532, acc = 0.77924\n",
            "loss = loss_layers + (10 * lamb) * loss_logits = 2.06259 + 2.95211 * 0.83084\n"
          ]
        },
        {
          "data": {
            "application/vnd.jupyter.widget-view+json": {
              "model_id": "02458fbc4f2240d5a52c109a7246d102",
              "version_major": 2,
              "version_minor": 0
            },
            "text/plain": [
              "  0%|          | 0/54 [00:00<?, ?it/s]"
            ]
          },
          "metadata": {},
          "output_type": "display_data"
        },
        {
          "name": "stdout",
          "output_type": "stream",
          "text": [
            "[ Valid | 163/300 ] loss = 4.54057, acc = 0.75569\n",
            "loss = loss_layers + (10 * lamb) * loss_logits = 1.89915 + 2.95211 * 0.89475\n"
          ]
        },
        {
          "data": {
            "application/vnd.jupyter.widget-view+json": {
              "model_id": "697d7378b6554ae3aafc8c55914262c8",
              "version_major": 2,
              "version_minor": 0
            },
            "text/plain": [
              "  0%|          | 0/155 [00:00<?, ?it/s]"
            ]
          },
          "metadata": {},
          "output_type": "display_data"
        },
        {
          "name": "stdout",
          "output_type": "stream",
          "text": [
            "[ Train | 164/300 ] loss = 4.47967, acc = 0.78249\n",
            "loss = loss_layers + (10 * lamb) * loss_logits = 2.06269 + 2.98844 * 0.80878\n"
          ]
        },
        {
          "data": {
            "application/vnd.jupyter.widget-view+json": {
              "model_id": "5f7da4c16a184aaa93a2a9a71dcc1863",
              "version_major": 2,
              "version_minor": 0
            },
            "text/plain": [
              "  0%|          | 0/54 [00:00<?, ?it/s]"
            ]
          },
          "metadata": {},
          "output_type": "display_data"
        },
        {
          "name": "stdout",
          "output_type": "stream",
          "text": [
            "[ Valid | 164/300 ] loss = 4.56223, acc = 0.75948\n",
            "loss = loss_layers + (10 * lamb) * loss_logits = 1.90165 + 2.98844 * 0.89029\n"
          ]
        },
        {
          "data": {
            "application/vnd.jupyter.widget-view+json": {
              "model_id": "d46b5b598df14ffb879d4e11abac5771",
              "version_major": 2,
              "version_minor": 0
            },
            "text/plain": [
              "  0%|          | 0/155 [00:00<?, ?it/s]"
            ]
          },
          "metadata": {},
          "output_type": "display_data"
        },
        {
          "name": "stdout",
          "output_type": "stream",
          "text": [
            "[ Train | 165/300 ] loss = 4.54237, acc = 0.78056\n",
            "loss = loss_layers + (10 * lamb) * loss_logits = 2.06672 + 3.02500 * 0.81840\n"
          ]
        },
        {
          "data": {
            "application/vnd.jupyter.widget-view+json": {
              "model_id": "cffff671cdc24da597c51ce07b75980c",
              "version_major": 2,
              "version_minor": 0
            },
            "text/plain": [
              "  0%|          | 0/54 [00:00<?, ?it/s]"
            ]
          },
          "metadata": {},
          "output_type": "display_data"
        },
        {
          "name": "stdout",
          "output_type": "stream",
          "text": [
            "[ Valid | 165/300 ] loss = 4.68509, acc = 0.75306\n",
            "loss = loss_layers + (10 * lamb) * loss_logits = 1.90248 + 3.02500 * 0.91987\n"
          ]
        },
        {
          "data": {
            "application/vnd.jupyter.widget-view+json": {
              "model_id": "9e0f6195a8f842a2a90907bdcb8d727f",
              "version_major": 2,
              "version_minor": 0
            },
            "text/plain": [
              "  0%|          | 0/155 [00:00<?, ?it/s]"
            ]
          },
          "metadata": {},
          "output_type": "display_data"
        },
        {
          "name": "stdout",
          "output_type": "stream",
          "text": [
            "[ Train | 166/300 ] loss = 4.59427, acc = 0.78117\n",
            "loss = loss_layers + (10 * lamb) * loss_logits = 2.06707 + 3.06178 * 0.82540\n"
          ]
        },
        {
          "data": {
            "application/vnd.jupyter.widget-view+json": {
              "model_id": "369b3fbf0fad453785b3663bf7efeba9",
              "version_major": 2,
              "version_minor": 0
            },
            "text/plain": [
              "  0%|          | 0/54 [00:00<?, ?it/s]"
            ]
          },
          "metadata": {},
          "output_type": "display_data"
        },
        {
          "name": "stdout",
          "output_type": "stream",
          "text": [
            "[ Valid | 166/300 ] loss = 4.88393, acc = 0.75452\n",
            "loss = loss_layers + (10 * lamb) * loss_logits = 1.90613 + 3.06178 * 0.97257\n"
          ]
        },
        {
          "data": {
            "application/vnd.jupyter.widget-view+json": {
              "model_id": "5a8851c7d1f049db8d07bd1fa600ec8e",
              "version_major": 2,
              "version_minor": 0
            },
            "text/plain": [
              "  0%|          | 0/155 [00:00<?, ?it/s]"
            ]
          },
          "metadata": {},
          "output_type": "display_data"
        },
        {
          "name": "stdout",
          "output_type": "stream",
          "text": [
            "[ Train | 167/300 ] loss = 4.57659, acc = 0.78583\n",
            "loss = loss_layers + (10 * lamb) * loss_logits = 2.06808 + 3.09878 * 0.80952\n"
          ]
        },
        {
          "data": {
            "application/vnd.jupyter.widget-view+json": {
              "model_id": "c9da1903866d45c18f4d78aa16655804",
              "version_major": 2,
              "version_minor": 0
            },
            "text/plain": [
              "  0%|          | 0/54 [00:00<?, ?it/s]"
            ]
          },
          "metadata": {},
          "output_type": "display_data"
        },
        {
          "name": "stdout",
          "output_type": "stream",
          "text": [
            "[ Valid | 167/300 ] loss = 4.75296, acc = 0.75335\n",
            "loss = loss_layers + (10 * lamb) * loss_logits = 1.90559 + 3.09878 * 0.91887\n"
          ]
        },
        {
          "data": {
            "application/vnd.jupyter.widget-view+json": {
              "model_id": "fe2b30b1d37348f69dbf6f3b73457885",
              "version_major": 2,
              "version_minor": 0
            },
            "text/plain": [
              "  0%|          | 0/155 [00:00<?, ?it/s]"
            ]
          },
          "metadata": {},
          "output_type": "display_data"
        },
        {
          "name": "stdout",
          "output_type": "stream",
          "text": [
            "[ Train | 168/300 ] loss = 4.63211, acc = 0.78218\n",
            "loss = loss_layers + (10 * lamb) * loss_logits = 2.06813 + 3.13600 * 0.81760\n"
          ]
        },
        {
          "data": {
            "application/vnd.jupyter.widget-view+json": {
              "model_id": "6dc2429c31534815ac0c3173ab676b4d",
              "version_major": 2,
              "version_minor": 0
            },
            "text/plain": [
              "  0%|          | 0/54 [00:00<?, ?it/s]"
            ]
          },
          "metadata": {},
          "output_type": "display_data"
        },
        {
          "name": "stdout",
          "output_type": "stream",
          "text": [
            "[ Valid | 168/300 ] loss = 4.76919, acc = 0.74694\n",
            "loss = loss_layers + (10 * lamb) * loss_logits = 1.90609 + 3.13600 * 0.91298\n"
          ]
        },
        {
          "data": {
            "application/vnd.jupyter.widget-view+json": {
              "model_id": "154ec358114b45f48815935f2fb32fc9",
              "version_major": 2,
              "version_minor": 0
            },
            "text/plain": [
              "  0%|          | 0/155 [00:00<?, ?it/s]"
            ]
          },
          "metadata": {},
          "output_type": "display_data"
        },
        {
          "name": "stdout",
          "output_type": "stream",
          "text": [
            "[ Train | 169/300 ] loss = 4.62408, acc = 0.78238\n",
            "loss = loss_layers + (10 * lamb) * loss_logits = 2.06978 + 3.17344 * 0.80490\n"
          ]
        },
        {
          "data": {
            "application/vnd.jupyter.widget-view+json": {
              "model_id": "ab610495589e4117a0c7df48fe8b2644",
              "version_major": 2,
              "version_minor": 0
            },
            "text/plain": [
              "  0%|          | 0/54 [00:00<?, ?it/s]"
            ]
          },
          "metadata": {},
          "output_type": "display_data"
        },
        {
          "name": "stdout",
          "output_type": "stream",
          "text": [
            "[ Valid | 169/300 ] loss = 4.90279, acc = 0.74840\n",
            "loss = loss_layers + (10 * lamb) * loss_logits = 1.90934 + 3.17344 * 0.94328\n"
          ]
        },
        {
          "data": {
            "application/vnd.jupyter.widget-view+json": {
              "model_id": "8c08dff7e68d415bb6bdddafa7816b16",
              "version_major": 2,
              "version_minor": 0
            },
            "text/plain": [
              "  0%|          | 0/155 [00:00<?, ?it/s]"
            ]
          },
          "metadata": {},
          "output_type": "display_data"
        },
        {
          "name": "stdout",
          "output_type": "stream",
          "text": [
            "[ Train | 170/300 ] loss = 4.65684, acc = 0.78218\n",
            "loss = loss_layers + (10 * lamb) * loss_logits = 2.06968 + 3.21111 * 0.80569\n"
          ]
        },
        {
          "data": {
            "application/vnd.jupyter.widget-view+json": {
              "model_id": "d3ae09a3270b4540b30628fbf4e71c5a",
              "version_major": 2,
              "version_minor": 0
            },
            "text/plain": [
              "  0%|          | 0/54 [00:00<?, ?it/s]"
            ]
          },
          "metadata": {},
          "output_type": "display_data"
        },
        {
          "name": "stdout",
          "output_type": "stream",
          "text": [
            "[ Valid | 170/300 ] loss = 4.94841, acc = 0.75131\n",
            "loss = loss_layers + (10 * lamb) * loss_logits = 1.90855 + 3.21111 * 0.94667\n"
          ]
        },
        {
          "data": {
            "application/vnd.jupyter.widget-view+json": {
              "model_id": "53917ebf89454802af77a4d412b3c1ba",
              "version_major": 2,
              "version_minor": 0
            },
            "text/plain": [
              "  0%|          | 0/155 [00:00<?, ?it/s]"
            ]
          },
          "metadata": {},
          "output_type": "display_data"
        },
        {
          "name": "stdout",
          "output_type": "stream",
          "text": [
            "[ Train | 171/300 ] loss = 4.69843, acc = 0.78826\n",
            "loss = loss_layers + (10 * lamb) * loss_logits = 2.06840 + 3.24900 * 0.80949\n"
          ]
        },
        {
          "data": {
            "application/vnd.jupyter.widget-view+json": {
              "model_id": "403b6b8f820845e199bea22222b7306b",
              "version_major": 2,
              "version_minor": 0
            },
            "text/plain": [
              "  0%|          | 0/54 [00:00<?, ?it/s]"
            ]
          },
          "metadata": {},
          "output_type": "display_data"
        },
        {
          "name": "stdout",
          "output_type": "stream",
          "text": [
            "[ Valid | 171/300 ] loss = 5.04628, acc = 0.73149\n",
            "loss = loss_layers + (10 * lamb) * loss_logits = 1.91203 + 3.24900 * 0.96468\n"
          ]
        },
        {
          "data": {
            "application/vnd.jupyter.widget-view+json": {
              "model_id": "2039da9f6c9b47b7b33864a0588691a5",
              "version_major": 2,
              "version_minor": 0
            },
            "text/plain": [
              "  0%|          | 0/155 [00:00<?, ?it/s]"
            ]
          },
          "metadata": {},
          "output_type": "display_data"
        },
        {
          "name": "stdout",
          "output_type": "stream",
          "text": [
            "[ Train | 172/300 ] loss = 4.72519, acc = 0.78816\n",
            "loss = loss_layers + (10 * lamb) * loss_logits = 2.07806 + 3.28711 * 0.80531\n"
          ]
        },
        {
          "data": {
            "application/vnd.jupyter.widget-view+json": {
              "model_id": "2c221336b2d84c558996e36251f7ff85",
              "version_major": 2,
              "version_minor": 0
            },
            "text/plain": [
              "  0%|          | 0/54 [00:00<?, ?it/s]"
            ]
          },
          "metadata": {},
          "output_type": "display_data"
        },
        {
          "name": "stdout",
          "output_type": "stream",
          "text": [
            "[ Valid | 172/300 ] loss = 5.02722, acc = 0.74781\n",
            "loss = loss_layers + (10 * lamb) * loss_logits = 1.91346 + 3.28711 * 0.94726\n"
          ]
        },
        {
          "data": {
            "application/vnd.jupyter.widget-view+json": {
              "model_id": "dd6826c259cb488b9d4f880fa5035190",
              "version_major": 2,
              "version_minor": 0
            },
            "text/plain": [
              "  0%|          | 0/155 [00:00<?, ?it/s]"
            ]
          },
          "metadata": {},
          "output_type": "display_data"
        },
        {
          "name": "stdout",
          "output_type": "stream",
          "text": [
            "[ Train | 173/300 ] loss = 4.73380, acc = 0.79070\n",
            "loss = loss_layers + (10 * lamb) * loss_logits = 2.07763 + 3.32544 * 0.79874\n"
          ]
        },
        {
          "data": {
            "application/vnd.jupyter.widget-view+json": {
              "model_id": "f4fb0648827b4f47822f5af56ff01beb",
              "version_major": 2,
              "version_minor": 0
            },
            "text/plain": [
              "  0%|          | 0/54 [00:00<?, ?it/s]"
            ]
          },
          "metadata": {},
          "output_type": "display_data"
        },
        {
          "name": "stdout",
          "output_type": "stream",
          "text": [
            "[ Valid | 173/300 ] loss = 4.94650, acc = 0.76093\n",
            "loss = loss_layers + (10 * lamb) * loss_logits = 1.91437 + 3.32544 * 0.91180\n"
          ]
        },
        {
          "data": {
            "application/vnd.jupyter.widget-view+json": {
              "model_id": "bc819f6c3a49423b88930f87255aa2de",
              "version_major": 2,
              "version_minor": 0
            },
            "text/plain": [
              "  0%|          | 0/155 [00:00<?, ?it/s]"
            ]
          },
          "metadata": {},
          "output_type": "display_data"
        },
        {
          "name": "stdout",
          "output_type": "stream",
          "text": [
            "[ Train | 174/300 ] loss = 4.75143, acc = 0.79455\n",
            "loss = loss_layers + (10 * lamb) * loss_logits = 2.07401 + 3.36400 * 0.79590\n"
          ]
        },
        {
          "data": {
            "application/vnd.jupyter.widget-view+json": {
              "model_id": "069b053d78564035a9c753320974f902",
              "version_major": 2,
              "version_minor": 0
            },
            "text/plain": [
              "  0%|          | 0/54 [00:00<?, ?it/s]"
            ]
          },
          "metadata": {},
          "output_type": "display_data"
        },
        {
          "name": "stdout",
          "output_type": "stream",
          "text": [
            "[ Valid | 174/300 ] loss = 4.95266, acc = 0.76385\n",
            "loss = loss_layers + (10 * lamb) * loss_logits = 1.91343 + 3.36400 * 0.90346\n"
          ]
        },
        {
          "data": {
            "application/vnd.jupyter.widget-view+json": {
              "model_id": "0c38b9c65afc44c18e9fe171f5481143",
              "version_major": 2,
              "version_minor": 0
            },
            "text/plain": [
              "  0%|          | 0/155 [00:00<?, ?it/s]"
            ]
          },
          "metadata": {},
          "output_type": "display_data"
        },
        {
          "name": "stdout",
          "output_type": "stream",
          "text": [
            "[ Train | 175/300 ] loss = 4.78197, acc = 0.79070\n",
            "loss = loss_layers + (10 * lamb) * loss_logits = 2.07629 + 3.40278 * 0.79514\n"
          ]
        },
        {
          "data": {
            "application/vnd.jupyter.widget-view+json": {
              "model_id": "92a0f0ab821346edbdec74d62f49850b",
              "version_major": 2,
              "version_minor": 0
            },
            "text/plain": [
              "  0%|          | 0/54 [00:00<?, ?it/s]"
            ]
          },
          "metadata": {},
          "output_type": "display_data"
        },
        {
          "name": "stdout",
          "output_type": "stream",
          "text": [
            "[ Valid | 175/300 ] loss = 5.02753, acc = 0.74752\n",
            "loss = loss_layers + (10 * lamb) * loss_logits = 1.91720 + 3.40278 * 0.91406\n"
          ]
        },
        {
          "data": {
            "application/vnd.jupyter.widget-view+json": {
              "model_id": "523df76fd5134ce49ae9dc30a6ad09a4",
              "version_major": 2,
              "version_minor": 0
            },
            "text/plain": [
              "  0%|          | 0/155 [00:00<?, ?it/s]"
            ]
          },
          "metadata": {},
          "output_type": "display_data"
        },
        {
          "name": "stdout",
          "output_type": "stream",
          "text": [
            "[ Train | 176/300 ] loss = 4.82498, acc = 0.78867\n",
            "loss = loss_layers + (10 * lamb) * loss_logits = 2.07710 + 3.44178 * 0.79839\n"
          ]
        },
        {
          "data": {
            "application/vnd.jupyter.widget-view+json": {
              "model_id": "3330994833654aa5879470578b86cca3",
              "version_major": 2,
              "version_minor": 0
            },
            "text/plain": [
              "  0%|          | 0/54 [00:00<?, ?it/s]"
            ]
          },
          "metadata": {},
          "output_type": "display_data"
        },
        {
          "name": "stdout",
          "output_type": "stream",
          "text": [
            "[ Valid | 176/300 ] loss = 5.18243, acc = 0.75073\n",
            "loss = loss_layers + (10 * lamb) * loss_logits = 1.91577 + 3.44178 * 0.94912\n"
          ]
        },
        {
          "data": {
            "application/vnd.jupyter.widget-view+json": {
              "model_id": "9d5f6235695c4fca81ed4cb383cf74b0",
              "version_major": 2,
              "version_minor": 0
            },
            "text/plain": [
              "  0%|          | 0/155 [00:00<?, ?it/s]"
            ]
          },
          "metadata": {},
          "output_type": "display_data"
        },
        {
          "name": "stdout",
          "output_type": "stream",
          "text": [
            "[ Train | 177/300 ] loss = 4.84907, acc = 0.79120\n",
            "loss = loss_layers + (10 * lamb) * loss_logits = 2.08476 + 3.48100 * 0.79412\n"
          ]
        },
        {
          "data": {
            "application/vnd.jupyter.widget-view+json": {
              "model_id": "3374ee96398b4d3bba95090a8da67a7a",
              "version_major": 2,
              "version_minor": 0
            },
            "text/plain": [
              "  0%|          | 0/54 [00:00<?, ?it/s]"
            ]
          },
          "metadata": {},
          "output_type": "display_data"
        },
        {
          "name": "stdout",
          "output_type": "stream",
          "text": [
            "[ Valid | 177/300 ] loss = 5.18868, acc = 0.74810\n",
            "loss = loss_layers + (10 * lamb) * loss_logits = 1.91830 + 3.48100 * 0.93949\n"
          ]
        },
        {
          "data": {
            "application/vnd.jupyter.widget-view+json": {
              "model_id": "bcc2d5c98e604650a4556b418466296c",
              "version_major": 2,
              "version_minor": 0
            },
            "text/plain": [
              "  0%|          | 0/155 [00:00<?, ?it/s]"
            ]
          },
          "metadata": {},
          "output_type": "display_data"
        },
        {
          "name": "stdout",
          "output_type": "stream",
          "text": [
            "[ Train | 178/300 ] loss = 4.85272, acc = 0.79404\n",
            "loss = loss_layers + (10 * lamb) * loss_logits = 2.07978 + 3.52044 * 0.78767\n"
          ]
        },
        {
          "data": {
            "application/vnd.jupyter.widget-view+json": {
              "model_id": "5ac0dce7d1f14897b0daf782de04e59f",
              "version_major": 2,
              "version_minor": 0
            },
            "text/plain": [
              "  0%|          | 0/54 [00:00<?, ?it/s]"
            ]
          },
          "metadata": {},
          "output_type": "display_data"
        },
        {
          "name": "stdout",
          "output_type": "stream",
          "text": [
            "[ Valid | 178/300 ] loss = 5.06177, acc = 0.76297\n",
            "loss = loss_layers + (10 * lamb) * loss_logits = 1.92079 + 3.52044 * 0.89221\n"
          ]
        },
        {
          "data": {
            "application/vnd.jupyter.widget-view+json": {
              "model_id": "70ef30833cc64ff3b4b86caab369791e",
              "version_major": 2,
              "version_minor": 0
            },
            "text/plain": [
              "  0%|          | 0/155 [00:00<?, ?it/s]"
            ]
          },
          "metadata": {},
          "output_type": "display_data"
        },
        {
          "name": "stdout",
          "output_type": "stream",
          "text": [
            "[ Train | 179/300 ] loss = 4.86337, acc = 0.79576\n",
            "loss = loss_layers + (10 * lamb) * loss_logits = 2.08569 + 3.56011 * 0.78022\n"
          ]
        },
        {
          "data": {
            "application/vnd.jupyter.widget-view+json": {
              "model_id": "bd8bddc2b5cc47f78fc58331cc6b15e0",
              "version_major": 2,
              "version_minor": 0
            },
            "text/plain": [
              "  0%|          | 0/54 [00:00<?, ?it/s]"
            ]
          },
          "metadata": {},
          "output_type": "display_data"
        },
        {
          "name": "stdout",
          "output_type": "stream",
          "text": [
            "[ Valid | 179/300 ] loss = 5.13665, acc = 0.75802\n",
            "loss = loss_layers + (10 * lamb) * loss_logits = 1.92147 + 3.56011 * 0.90311\n"
          ]
        },
        {
          "data": {
            "application/vnd.jupyter.widget-view+json": {
              "model_id": "3a4b7bbb54cc4e2882eac8dc141773be",
              "version_major": 2,
              "version_minor": 0
            },
            "text/plain": [
              "  0%|          | 0/155 [00:00<?, ?it/s]"
            ]
          },
          "metadata": {},
          "output_type": "display_data"
        },
        {
          "name": "stdout",
          "output_type": "stream",
          "text": [
            "[ Train | 180/300 ] loss = 4.91456, acc = 0.79120\n",
            "loss = loss_layers + (10 * lamb) * loss_logits = 2.08188 + 3.60000 * 0.78686\n"
          ]
        },
        {
          "data": {
            "application/vnd.jupyter.widget-view+json": {
              "model_id": "59809342c8744975b96af3865d750a96",
              "version_major": 2,
              "version_minor": 0
            },
            "text/plain": [
              "  0%|          | 0/54 [00:00<?, ?it/s]"
            ]
          },
          "metadata": {},
          "output_type": "display_data"
        },
        {
          "name": "stdout",
          "output_type": "stream",
          "text": [
            "[ Valid | 180/300 ] loss = 5.39795, acc = 0.73586\n",
            "loss = loss_layers + (10 * lamb) * loss_logits = 1.92258 + 3.60000 * 0.96538\n"
          ]
        },
        {
          "data": {
            "application/vnd.jupyter.widget-view+json": {
              "model_id": "25e1e5f4cbce4ebc9d297056aa80b35f",
              "version_major": 2,
              "version_minor": 0
            },
            "text/plain": [
              "  0%|          | 0/155 [00:00<?, ?it/s]"
            ]
          },
          "metadata": {},
          "output_type": "display_data"
        },
        {
          "name": "stdout",
          "output_type": "stream",
          "text": [
            "[ Train | 181/300 ] loss = 4.93198, acc = 0.79738\n",
            "loss = loss_layers + (10 * lamb) * loss_logits = 2.08697 + 3.64011 * 0.78157\n"
          ]
        },
        {
          "data": {
            "application/vnd.jupyter.widget-view+json": {
              "model_id": "bd5f18a8f58245d58fb3be5772610aca",
              "version_major": 2,
              "version_minor": 0
            },
            "text/plain": [
              "  0%|          | 0/54 [00:00<?, ?it/s]"
            ]
          },
          "metadata": {},
          "output_type": "display_data"
        },
        {
          "name": "stdout",
          "output_type": "stream",
          "text": [
            "[ Valid | 181/300 ] loss = 5.31222, acc = 0.73790\n",
            "loss = loss_layers + (10 * lamb) * loss_logits = 1.92316 + 3.64011 * 0.93103\n"
          ]
        },
        {
          "data": {
            "application/vnd.jupyter.widget-view+json": {
              "model_id": "c15403dbac974b6fbe72fcdb4f8e6361",
              "version_major": 2,
              "version_minor": 0
            },
            "text/plain": [
              "  0%|          | 0/155 [00:00<?, ?it/s]"
            ]
          },
          "metadata": {},
          "output_type": "display_data"
        },
        {
          "name": "stdout",
          "output_type": "stream",
          "text": [
            "[ Train | 182/300 ] loss = 4.99671, acc = 0.79130\n",
            "loss = loss_layers + (10 * lamb) * loss_logits = 2.09412 + 3.68044 * 0.78865\n"
          ]
        },
        {
          "data": {
            "application/vnd.jupyter.widget-view+json": {
              "model_id": "66fd1f57037f4866a032cc254ddd8ac0",
              "version_major": 2,
              "version_minor": 0
            },
            "text/plain": [
              "  0%|          | 0/54 [00:00<?, ?it/s]"
            ]
          },
          "metadata": {},
          "output_type": "display_data"
        },
        {
          "name": "stdout",
          "output_type": "stream",
          "text": [
            "[ Valid | 182/300 ] loss = 5.31679, acc = 0.76327\n",
            "loss = loss_layers + (10 * lamb) * loss_logits = 1.92369 + 3.68044 * 0.92193\n"
          ]
        },
        {
          "data": {
            "application/vnd.jupyter.widget-view+json": {
              "model_id": "c34c65c08e81468bb44990b0fe7dd5ea",
              "version_major": 2,
              "version_minor": 0
            },
            "text/plain": [
              "  0%|          | 0/155 [00:00<?, ?it/s]"
            ]
          },
          "metadata": {},
          "output_type": "display_data"
        },
        {
          "name": "stdout",
          "output_type": "stream",
          "text": [
            "[ Train | 183/300 ] loss = 4.98364, acc = 0.79445\n",
            "loss = loss_layers + (10 * lamb) * loss_logits = 2.08898 + 3.72100 * 0.77792\n"
          ]
        },
        {
          "data": {
            "application/vnd.jupyter.widget-view+json": {
              "model_id": "99b02fb2f12b405cbca3d6a5c32b3182",
              "version_major": 2,
              "version_minor": 0
            },
            "text/plain": [
              "  0%|          | 0/54 [00:00<?, ?it/s]"
            ]
          },
          "metadata": {},
          "output_type": "display_data"
        },
        {
          "name": "stdout",
          "output_type": "stream",
          "text": [
            "[ Valid | 183/300 ] loss = 5.35207, acc = 0.76531\n",
            "loss = loss_layers + (10 * lamb) * loss_logits = 1.92356 + 3.72100 * 0.92139\n"
          ]
        },
        {
          "data": {
            "application/vnd.jupyter.widget-view+json": {
              "model_id": "c0747ad5364f4048845c834aa57c7891",
              "version_major": 2,
              "version_minor": 0
            },
            "text/plain": [
              "  0%|          | 0/155 [00:00<?, ?it/s]"
            ]
          },
          "metadata": {},
          "output_type": "display_data"
        },
        {
          "name": "stdout",
          "output_type": "stream",
          "text": [
            "[ Train | 184/300 ] loss = 5.02386, acc = 0.79597\n",
            "loss = loss_layers + (10 * lamb) * loss_logits = 2.09385 + 3.76178 * 0.77889\n"
          ]
        },
        {
          "data": {
            "application/vnd.jupyter.widget-view+json": {
              "model_id": "72ca8e8d832a4a989b3447f34c28c875",
              "version_major": 2,
              "version_minor": 0
            },
            "text/plain": [
              "  0%|          | 0/54 [00:00<?, ?it/s]"
            ]
          },
          "metadata": {},
          "output_type": "display_data"
        },
        {
          "name": "stdout",
          "output_type": "stream",
          "text": [
            "[ Valid | 184/300 ] loss = 5.40058, acc = 0.75131\n",
            "loss = loss_layers + (10 * lamb) * loss_logits = 1.93115 + 3.76178 * 0.92228\n"
          ]
        },
        {
          "data": {
            "application/vnd.jupyter.widget-view+json": {
              "model_id": "f89de5515afc4494af7d7a4dc35ff116",
              "version_major": 2,
              "version_minor": 0
            },
            "text/plain": [
              "  0%|          | 0/155 [00:00<?, ?it/s]"
            ]
          },
          "metadata": {},
          "output_type": "display_data"
        },
        {
          "name": "stdout",
          "output_type": "stream",
          "text": [
            "[ Train | 185/300 ] loss = 5.05961, acc = 0.79445\n",
            "loss = loss_layers + (10 * lamb) * loss_logits = 2.09587 + 3.80278 * 0.77936\n"
          ]
        },
        {
          "data": {
            "application/vnd.jupyter.widget-view+json": {
              "model_id": "38a47658b64740d9b7d11f839d1d4d7f",
              "version_major": 2,
              "version_minor": 0
            },
            "text/plain": [
              "  0%|          | 0/54 [00:00<?, ?it/s]"
            ]
          },
          "metadata": {},
          "output_type": "display_data"
        },
        {
          "name": "stdout",
          "output_type": "stream",
          "text": [
            "[ Valid | 185/300 ] loss = 5.72864, acc = 0.75248\n",
            "loss = loss_layers + (10 * lamb) * loss_logits = 1.92814 + 3.80278 * 0.99940\n"
          ]
        },
        {
          "data": {
            "application/vnd.jupyter.widget-view+json": {
              "model_id": "75593afbbc9349f79543ee35ac8eb64f",
              "version_major": 2,
              "version_minor": 0
            },
            "text/plain": [
              "  0%|          | 0/155 [00:00<?, ?it/s]"
            ]
          },
          "metadata": {},
          "output_type": "display_data"
        },
        {
          "name": "stdout",
          "output_type": "stream",
          "text": [
            "[ Train | 186/300 ] loss = 5.08238, acc = 0.79921\n",
            "loss = loss_layers + (10 * lamb) * loss_logits = 2.08911 + 3.84400 * 0.77869\n"
          ]
        },
        {
          "data": {
            "application/vnd.jupyter.widget-view+json": {
              "model_id": "9220f3a9e86e4d9fad96d966253bab8f",
              "version_major": 2,
              "version_minor": 0
            },
            "text/plain": [
              "  0%|          | 0/54 [00:00<?, ?it/s]"
            ]
          },
          "metadata": {},
          "output_type": "display_data"
        },
        {
          "name": "stdout",
          "output_type": "stream",
          "text": [
            "[ Valid | 186/300 ] loss = 5.41814, acc = 0.75860\n",
            "loss = loss_layers + (10 * lamb) * loss_logits = 1.92998 + 3.84400 * 0.90743\n"
          ]
        },
        {
          "data": {
            "application/vnd.jupyter.widget-view+json": {
              "model_id": "211cffe0f0af47469253589452cb99fd",
              "version_major": 2,
              "version_minor": 0
            },
            "text/plain": [
              "  0%|          | 0/155 [00:00<?, ?it/s]"
            ]
          },
          "metadata": {},
          "output_type": "display_data"
        },
        {
          "name": "stdout",
          "output_type": "stream",
          "text": [
            "[ Train | 187/300 ] loss = 5.09470, acc = 0.79901\n",
            "loss = loss_layers + (10 * lamb) * loss_logits = 2.09708 + 3.88544 * 0.77150\n"
          ]
        },
        {
          "data": {
            "application/vnd.jupyter.widget-view+json": {
              "model_id": "d5baaf18462e4e55881c3bfd06cc04ee",
              "version_major": 2,
              "version_minor": 0
            },
            "text/plain": [
              "  0%|          | 0/54 [00:00<?, ?it/s]"
            ]
          },
          "metadata": {},
          "output_type": "display_data"
        },
        {
          "name": "stdout",
          "output_type": "stream",
          "text": [
            "[ Valid | 187/300 ] loss = 5.53123, acc = 0.75481\n",
            "loss = loss_layers + (10 * lamb) * loss_logits = 1.93114 + 3.88544 * 0.92656\n"
          ]
        },
        {
          "data": {
            "application/vnd.jupyter.widget-view+json": {
              "model_id": "44cfc0a72c4a48bea66f4fb9a9052e5c",
              "version_major": 2,
              "version_minor": 0
            },
            "text/plain": [
              "  0%|          | 0/155 [00:00<?, ?it/s]"
            ]
          },
          "metadata": {},
          "output_type": "display_data"
        },
        {
          "name": "stdout",
          "output_type": "stream",
          "text": [
            "[ Train | 188/300 ] loss = 5.14701, acc = 0.79708\n",
            "loss = loss_layers + (10 * lamb) * loss_logits = 2.09325 + 3.92711 * 0.77761\n"
          ]
        },
        {
          "data": {
            "application/vnd.jupyter.widget-view+json": {
              "model_id": "e8eabe1bed8e408b8fe304c002265f0d",
              "version_major": 2,
              "version_minor": 0
            },
            "text/plain": [
              "  0%|          | 0/54 [00:00<?, ?it/s]"
            ]
          },
          "metadata": {},
          "output_type": "display_data"
        },
        {
          "name": "stdout",
          "output_type": "stream",
          "text": [
            "[ Valid | 188/300 ] loss = 5.62317, acc = 0.75073\n",
            "loss = loss_layers + (10 * lamb) * loss_logits = 1.93353 + 3.92711 * 0.93953\n"
          ]
        },
        {
          "data": {
            "application/vnd.jupyter.widget-view+json": {
              "model_id": "1908261020c24f34947faa78ab992672",
              "version_major": 2,
              "version_minor": 0
            },
            "text/plain": [
              "  0%|          | 0/155 [00:00<?, ?it/s]"
            ]
          },
          "metadata": {},
          "output_type": "display_data"
        },
        {
          "name": "stdout",
          "output_type": "stream",
          "text": [
            "[ Train | 189/300 ] loss = 5.17253, acc = 0.79556\n",
            "loss = loss_layers + (10 * lamb) * loss_logits = 2.10164 + 3.96900 * 0.77372\n"
          ]
        },
        {
          "data": {
            "application/vnd.jupyter.widget-view+json": {
              "model_id": "bdfb2caefc3b41029a329ff5ff550c1e",
              "version_major": 2,
              "version_minor": 0
            },
            "text/plain": [
              "  0%|          | 0/54 [00:00<?, ?it/s]"
            ]
          },
          "metadata": {},
          "output_type": "display_data"
        },
        {
          "name": "stdout",
          "output_type": "stream",
          "text": [
            "[ Valid | 189/300 ] loss = 5.62794, acc = 0.76297\n",
            "loss = loss_layers + (10 * lamb) * loss_logits = 1.93227 + 3.96900 * 0.93113\n"
          ]
        },
        {
          "data": {
            "application/vnd.jupyter.widget-view+json": {
              "model_id": "b2cbfa183de746df9893299470053027",
              "version_major": 2,
              "version_minor": 0
            },
            "text/plain": [
              "  0%|          | 0/155 [00:00<?, ?it/s]"
            ]
          },
          "metadata": {},
          "output_type": "display_data"
        },
        {
          "name": "stdout",
          "output_type": "stream",
          "text": [
            "[ Train | 190/300 ] loss = 5.16484, acc = 0.80083\n",
            "loss = loss_layers + (10 * lamb) * loss_logits = 2.10088 + 4.01111 * 0.76387\n"
          ]
        },
        {
          "data": {
            "application/vnd.jupyter.widget-view+json": {
              "model_id": "acbb93f567c344c0bd515e796fce3677",
              "version_major": 2,
              "version_minor": 0
            },
            "text/plain": [
              "  0%|          | 0/54 [00:00<?, ?it/s]"
            ]
          },
          "metadata": {},
          "output_type": "display_data"
        },
        {
          "name": "stdout",
          "output_type": "stream",
          "text": [
            "[ Valid | 190/300 ] loss = 5.82010, acc = 0.74956\n",
            "loss = loss_layers + (10 * lamb) * loss_logits = 1.93216 + 4.01111 * 0.96929\n"
          ]
        },
        {
          "data": {
            "application/vnd.jupyter.widget-view+json": {
              "model_id": "3827bdd92af3455eba934d1ff07c49e3",
              "version_major": 2,
              "version_minor": 0
            },
            "text/plain": [
              "  0%|          | 0/155 [00:00<?, ?it/s]"
            ]
          },
          "metadata": {},
          "output_type": "display_data"
        },
        {
          "name": "stdout",
          "output_type": "stream",
          "text": [
            "[ Train | 191/300 ] loss = 5.21645, acc = 0.80154\n",
            "loss = loss_layers + (10 * lamb) * loss_logits = 2.09796 + 4.05344 * 0.76935\n"
          ]
        },
        {
          "data": {
            "application/vnd.jupyter.widget-view+json": {
              "model_id": "695e841ab67d4bd2b59ff6d0f355aec9",
              "version_major": 2,
              "version_minor": 0
            },
            "text/plain": [
              "  0%|          | 0/54 [00:00<?, ?it/s]"
            ]
          },
          "metadata": {},
          "output_type": "display_data"
        },
        {
          "name": "stdout",
          "output_type": "stream",
          "text": [
            "[ Valid | 191/300 ] loss = 5.64910, acc = 0.76327\n",
            "loss = loss_layers + (10 * lamb) * loss_logits = 1.93909 + 4.05344 * 0.91527\n"
          ]
        },
        {
          "data": {
            "application/vnd.jupyter.widget-view+json": {
              "model_id": "77d53112463346fdbc6776d3d0ce4345",
              "version_major": 2,
              "version_minor": 0
            },
            "text/plain": [
              "  0%|          | 0/155 [00:00<?, ?it/s]"
            ]
          },
          "metadata": {},
          "output_type": "display_data"
        },
        {
          "name": "stdout",
          "output_type": "stream",
          "text": [
            "[ Train | 192/300 ] loss = 5.25607, acc = 0.79769\n",
            "loss = loss_layers + (10 * lamb) * loss_logits = 2.10204 + 4.09600 * 0.77003\n"
          ]
        },
        {
          "data": {
            "application/vnd.jupyter.widget-view+json": {
              "model_id": "3bda7e2328774a4a8f691a281949a47c",
              "version_major": 2,
              "version_minor": 0
            },
            "text/plain": [
              "  0%|          | 0/54 [00:00<?, ?it/s]"
            ]
          },
          "metadata": {},
          "output_type": "display_data"
        },
        {
          "name": "stdout",
          "output_type": "stream",
          "text": [
            "[ Valid | 192/300 ] loss = 5.59073, acc = 0.76210\n",
            "loss = loss_layers + (10 * lamb) * loss_logits = 1.93680 + 4.09600 * 0.89207\n"
          ]
        },
        {
          "data": {
            "application/vnd.jupyter.widget-view+json": {
              "model_id": "ae781d103cda45689896a11b5607d929",
              "version_major": 2,
              "version_minor": 0
            },
            "text/plain": [
              "  0%|          | 0/155 [00:00<?, ?it/s]"
            ]
          },
          "metadata": {},
          "output_type": "display_data"
        },
        {
          "name": "stdout",
          "output_type": "stream",
          "text": [
            "[ Train | 193/300 ] loss = 5.23590, acc = 0.80326\n",
            "loss = loss_layers + (10 * lamb) * loss_logits = 2.10446 + 4.13878 * 0.75661\n"
          ]
        },
        {
          "data": {
            "application/vnd.jupyter.widget-view+json": {
              "model_id": "ab39cdf2a5934354a60db61a5bef3dfe",
              "version_major": 2,
              "version_minor": 0
            },
            "text/plain": [
              "  0%|          | 0/54 [00:00<?, ?it/s]"
            ]
          },
          "metadata": {},
          "output_type": "display_data"
        },
        {
          "name": "stdout",
          "output_type": "stream",
          "text": [
            "[ Valid | 193/300 ] loss = 5.84065, acc = 0.76531\n",
            "loss = loss_layers + (10 * lamb) * loss_logits = 1.93760 + 4.13878 * 0.94304\n"
          ]
        },
        {
          "data": {
            "application/vnd.jupyter.widget-view+json": {
              "model_id": "8fb209372c9b44488310bbe69581b4b0",
              "version_major": 2,
              "version_minor": 0
            },
            "text/plain": [
              "  0%|          | 0/155 [00:00<?, ?it/s]"
            ]
          },
          "metadata": {},
          "output_type": "display_data"
        },
        {
          "name": "stdout",
          "output_type": "stream",
          "text": [
            "[ Train | 194/300 ] loss = 5.31049, acc = 0.80063\n",
            "loss = loss_layers + (10 * lamb) * loss_logits = 2.10262 + 4.18178 * 0.76711\n"
          ]
        },
        {
          "data": {
            "application/vnd.jupyter.widget-view+json": {
              "model_id": "d83fbf1052774fa892ef3a7949b62720",
              "version_major": 2,
              "version_minor": 0
            },
            "text/plain": [
              "  0%|          | 0/54 [00:00<?, ?it/s]"
            ]
          },
          "metadata": {},
          "output_type": "display_data"
        },
        {
          "name": "stdout",
          "output_type": "stream",
          "text": [
            "[ Valid | 194/300 ] loss = 5.75008, acc = 0.75364\n",
            "loss = loss_layers + (10 * lamb) * loss_logits = 1.93946 + 4.18178 * 0.91124\n"
          ]
        },
        {
          "data": {
            "application/vnd.jupyter.widget-view+json": {
              "model_id": "4073a475817340a6819751204e551970",
              "version_major": 2,
              "version_minor": 0
            },
            "text/plain": [
              "  0%|          | 0/155 [00:00<?, ?it/s]"
            ]
          },
          "metadata": {},
          "output_type": "display_data"
        },
        {
          "name": "stdout",
          "output_type": "stream",
          "text": [
            "[ Train | 195/300 ] loss = 5.25209, acc = 0.80995\n",
            "loss = loss_layers + (10 * lamb) * loss_logits = 2.10587 + 4.22500 * 0.74467\n"
          ]
        },
        {
          "data": {
            "application/vnd.jupyter.widget-view+json": {
              "model_id": "8d2e8c37dd5743398d9b28780c361f5c",
              "version_major": 2,
              "version_minor": 0
            },
            "text/plain": [
              "  0%|          | 0/54 [00:00<?, ?it/s]"
            ]
          },
          "metadata": {},
          "output_type": "display_data"
        },
        {
          "name": "stdout",
          "output_type": "stream",
          "text": [
            "[ Valid | 195/300 ] loss = 5.85507, acc = 0.75277\n",
            "loss = loss_layers + (10 * lamb) * loss_logits = 1.94130 + 4.22500 * 0.92634\n"
          ]
        },
        {
          "data": {
            "application/vnd.jupyter.widget-view+json": {
              "model_id": "8b0d7de3c0fa486eb104df96ecdc9e29",
              "version_major": 2,
              "version_minor": 0
            },
            "text/plain": [
              "  0%|          | 0/155 [00:00<?, ?it/s]"
            ]
          },
          "metadata": {},
          "output_type": "display_data"
        },
        {
          "name": "stdout",
          "output_type": "stream",
          "text": [
            "[ Train | 196/300 ] loss = 5.31895, acc = 0.80559\n",
            "loss = loss_layers + (10 * lamb) * loss_logits = 2.10754 + 4.26844 * 0.75236\n"
          ]
        },
        {
          "data": {
            "application/vnd.jupyter.widget-view+json": {
              "model_id": "d20ca282b5f842f286daa9854de8e604",
              "version_major": 2,
              "version_minor": 0
            },
            "text/plain": [
              "  0%|          | 0/54 [00:00<?, ?it/s]"
            ]
          },
          "metadata": {},
          "output_type": "display_data"
        },
        {
          "name": "stdout",
          "output_type": "stream",
          "text": [
            "[ Valid | 196/300 ] loss = 6.17005, acc = 0.74344\n",
            "loss = loss_layers + (10 * lamb) * loss_logits = 1.93931 + 4.26844 * 0.99117\n"
          ]
        },
        {
          "data": {
            "application/vnd.jupyter.widget-view+json": {
              "model_id": "8aed796fd99148168d7bbc4516e97fff",
              "version_major": 2,
              "version_minor": 0
            },
            "text/plain": [
              "  0%|          | 0/155 [00:00<?, ?it/s]"
            ]
          },
          "metadata": {},
          "output_type": "display_data"
        },
        {
          "name": "stdout",
          "output_type": "stream",
          "text": [
            "[ Train | 197/300 ] loss = 5.33473, acc = 0.80610\n",
            "loss = loss_layers + (10 * lamb) * loss_logits = 2.10787 + 4.31211 * 0.74833\n"
          ]
        },
        {
          "data": {
            "application/vnd.jupyter.widget-view+json": {
              "model_id": "8ce77cf0d31944779afc1985dae9811e",
              "version_major": 2,
              "version_minor": 0
            },
            "text/plain": [
              "  0%|          | 0/54 [00:00<?, ?it/s]"
            ]
          },
          "metadata": {},
          "output_type": "display_data"
        },
        {
          "name": "stdout",
          "output_type": "stream",
          "text": [
            "[ Valid | 197/300 ] loss = 5.98167, acc = 0.74694\n",
            "loss = loss_layers + (10 * lamb) * loss_logits = 1.94495 + 4.31211 * 0.93614\n"
          ]
        },
        {
          "data": {
            "application/vnd.jupyter.widget-view+json": {
              "model_id": "0c957b5abbde40c4a07db0c60b522c61",
              "version_major": 2,
              "version_minor": 0
            },
            "text/plain": [
              "  0%|          | 0/155 [00:00<?, ?it/s]"
            ]
          },
          "metadata": {},
          "output_type": "display_data"
        },
        {
          "name": "stdout",
          "output_type": "stream",
          "text": [
            "[ Train | 198/300 ] loss = 5.42542, acc = 0.80195\n",
            "loss = loss_layers + (10 * lamb) * loss_logits = 2.10939 + 4.35600 * 0.76126\n"
          ]
        },
        {
          "data": {
            "application/vnd.jupyter.widget-view+json": {
              "model_id": "39f6cd4006d54cf09a14f628a1681936",
              "version_major": 2,
              "version_minor": 0
            },
            "text/plain": [
              "  0%|          | 0/54 [00:00<?, ?it/s]"
            ]
          },
          "metadata": {},
          "output_type": "display_data"
        },
        {
          "name": "stdout",
          "output_type": "stream",
          "text": [
            "[ Valid | 198/300 ] loss = 5.85232, acc = 0.76414\n",
            "loss = loss_layers + (10 * lamb) * loss_logits = 1.94305 + 4.35600 * 0.89745\n"
          ]
        },
        {
          "data": {
            "application/vnd.jupyter.widget-view+json": {
              "model_id": "27bfd753129b45e6b8ec313a17cb3992",
              "version_major": 2,
              "version_minor": 0
            },
            "text/plain": [
              "  0%|          | 0/155 [00:00<?, ?it/s]"
            ]
          },
          "metadata": {},
          "output_type": "display_data"
        },
        {
          "name": "stdout",
          "output_type": "stream",
          "text": [
            "[ Train | 199/300 ] loss = 5.40911, acc = 0.80438\n",
            "loss = loss_layers + (10 * lamb) * loss_logits = 2.11111 + 4.40011 * 0.74953\n"
          ]
        },
        {
          "data": {
            "application/vnd.jupyter.widget-view+json": {
              "model_id": "282b570199e84f0184b95eb62b82b47f",
              "version_major": 2,
              "version_minor": 0
            },
            "text/plain": [
              "  0%|          | 0/54 [00:00<?, ?it/s]"
            ]
          },
          "metadata": {},
          "output_type": "display_data"
        },
        {
          "name": "stdout",
          "output_type": "stream",
          "text": [
            "[ Valid | 199/300 ] loss = 6.05383, acc = 0.74927\n",
            "loss = loss_layers + (10 * lamb) * loss_logits = 1.94189 + 4.40011 * 0.93451\n"
          ]
        },
        {
          "data": {
            "application/vnd.jupyter.widget-view+json": {
              "model_id": "c0177ec338b646bc80f0b113bbb74b72",
              "version_major": 2,
              "version_minor": 0
            },
            "text/plain": [
              "  0%|          | 0/155 [00:00<?, ?it/s]"
            ]
          },
          "metadata": {},
          "output_type": "display_data"
        },
        {
          "name": "stdout",
          "output_type": "stream",
          "text": [
            "[ Train | 200/300 ] loss = 5.43798, acc = 0.80681\n",
            "loss = loss_layers + (10 * lamb) * loss_logits = 2.11281 + 4.44444 * 0.74816\n"
          ]
        },
        {
          "data": {
            "application/vnd.jupyter.widget-view+json": {
              "model_id": "fcda1e1710524c919c2e7bfa125af631",
              "version_major": 2,
              "version_minor": 0
            },
            "text/plain": [
              "  0%|          | 0/54 [00:00<?, ?it/s]"
            ]
          },
          "metadata": {},
          "output_type": "display_data"
        },
        {
          "name": "stdout",
          "output_type": "stream",
          "text": [
            "[ Valid | 200/300 ] loss = 6.12375, acc = 0.76093\n",
            "loss = loss_layers + (10 * lamb) * loss_logits = 1.94644 + 4.44444 * 0.93989\n"
          ]
        },
        {
          "data": {
            "application/vnd.jupyter.widget-view+json": {
              "model_id": "11f517e995d44318ab946361e0196f9d",
              "version_major": 2,
              "version_minor": 0
            },
            "text/plain": [
              "  0%|          | 0/155 [00:00<?, ?it/s]"
            ]
          },
          "metadata": {},
          "output_type": "display_data"
        },
        {
          "name": "stdout",
          "output_type": "stream",
          "text": [
            "[ Train | 201/300 ] loss = 5.47233, acc = 0.80884\n",
            "loss = loss_layers + (10 * lamb) * loss_logits = 2.11464 + 4.48900 * 0.74798\n"
          ]
        },
        {
          "data": {
            "application/vnd.jupyter.widget-view+json": {
              "model_id": "23400c4f70f04762a36daeb44bae1e95",
              "version_major": 2,
              "version_minor": 0
            },
            "text/plain": [
              "  0%|          | 0/54 [00:00<?, ?it/s]"
            ]
          },
          "metadata": {},
          "output_type": "display_data"
        },
        {
          "name": "stdout",
          "output_type": "stream",
          "text": [
            "[ Valid | 201/300 ] loss = 6.34123, acc = 0.74169\n",
            "loss = loss_layers + (10 * lamb) * loss_logits = 1.94738 + 4.48900 * 0.97880\n"
          ]
        },
        {
          "data": {
            "application/vnd.jupyter.widget-view+json": {
              "model_id": "775a8a82ff774e53acfbafea40c75ac8",
              "version_major": 2,
              "version_minor": 0
            },
            "text/plain": [
              "  0%|          | 0/155 [00:00<?, ?it/s]"
            ]
          },
          "metadata": {},
          "output_type": "display_data"
        },
        {
          "name": "stdout",
          "output_type": "stream",
          "text": [
            "[ Train | 202/300 ] loss = 5.51326, acc = 0.81097\n",
            "loss = loss_layers + (10 * lamb) * loss_logits = 2.11523 + 4.53378 * 0.74949\n"
          ]
        },
        {
          "data": {
            "application/vnd.jupyter.widget-view+json": {
              "model_id": "abfa02c1e4134e5886294b3d0b58ba2d",
              "version_major": 2,
              "version_minor": 0
            },
            "text/plain": [
              "  0%|          | 0/54 [00:00<?, ?it/s]"
            ]
          },
          "metadata": {},
          "output_type": "display_data"
        },
        {
          "name": "stdout",
          "output_type": "stream",
          "text": [
            "[ Valid | 202/300 ] loss = 6.25659, acc = 0.75190\n",
            "loss = loss_layers + (10 * lamb) * loss_logits = 1.94623 + 4.53378 * 0.95072\n"
          ]
        },
        {
          "data": {
            "application/vnd.jupyter.widget-view+json": {
              "model_id": "63f096bf9a99402aadfc14264ecd74e0",
              "version_major": 2,
              "version_minor": 0
            },
            "text/plain": [
              "  0%|          | 0/155 [00:00<?, ?it/s]"
            ]
          },
          "metadata": {},
          "output_type": "display_data"
        },
        {
          "name": "stdout",
          "output_type": "stream",
          "text": [
            "[ Train | 203/300 ] loss = 5.51444, acc = 0.81107\n",
            "loss = loss_layers + (10 * lamb) * loss_logits = 2.12074 + 4.57878 * 0.74118\n"
          ]
        },
        {
          "data": {
            "application/vnd.jupyter.widget-view+json": {
              "model_id": "1f135123c5d248fa8a5028ed19b0facf",
              "version_major": 2,
              "version_minor": 0
            },
            "text/plain": [
              "  0%|          | 0/54 [00:00<?, ?it/s]"
            ]
          },
          "metadata": {},
          "output_type": "display_data"
        },
        {
          "name": "stdout",
          "output_type": "stream",
          "text": [
            "[ Valid | 203/300 ] loss = 6.65334, acc = 0.73907\n",
            "loss = loss_layers + (10 * lamb) * loss_logits = 1.95469 + 4.57878 * 1.02618\n"
          ]
        },
        {
          "data": {
            "application/vnd.jupyter.widget-view+json": {
              "model_id": "c8b479938e704038ab35fe5425a5d64f",
              "version_major": 2,
              "version_minor": 0
            },
            "text/plain": [
              "  0%|          | 0/155 [00:00<?, ?it/s]"
            ]
          },
          "metadata": {},
          "output_type": "display_data"
        },
        {
          "name": "stdout",
          "output_type": "stream",
          "text": [
            "[ Train | 204/300 ] loss = 5.54237, acc = 0.80843\n",
            "loss = loss_layers + (10 * lamb) * loss_logits = 2.12201 + 4.62400 * 0.73970\n"
          ]
        },
        {
          "data": {
            "application/vnd.jupyter.widget-view+json": {
              "model_id": "fc8371f39b024c1288815114a2c4a294",
              "version_major": 2,
              "version_minor": 0
            },
            "text/plain": [
              "  0%|          | 0/54 [00:00<?, ?it/s]"
            ]
          },
          "metadata": {},
          "output_type": "display_data"
        },
        {
          "name": "stdout",
          "output_type": "stream",
          "text": [
            "[ Valid | 204/300 ] loss = 6.06203, acc = 0.76560\n",
            "loss = loss_layers + (10 * lamb) * loss_logits = 1.95058 + 4.62400 * 0.88915\n"
          ]
        },
        {
          "data": {
            "application/vnd.jupyter.widget-view+json": {
              "model_id": "95de7ec04b6b406c89dc5998ceee669b",
              "version_major": 2,
              "version_minor": 0
            },
            "text/plain": [
              "  0%|          | 0/155 [00:00<?, ?it/s]"
            ]
          },
          "metadata": {},
          "output_type": "display_data"
        },
        {
          "name": "stdout",
          "output_type": "stream",
          "text": [
            "[ Train | 205/300 ] loss = 5.57553, acc = 0.80661\n",
            "loss = loss_layers + (10 * lamb) * loss_logits = 2.11929 + 4.66944 * 0.74018\n"
          ]
        },
        {
          "data": {
            "application/vnd.jupyter.widget-view+json": {
              "model_id": "ad7a8a061e7b4ddfbf7dc9ecb4eeec79",
              "version_major": 2,
              "version_minor": 0
            },
            "text/plain": [
              "  0%|          | 0/54 [00:00<?, ?it/s]"
            ]
          },
          "metadata": {},
          "output_type": "display_data"
        },
        {
          "name": "stdout",
          "output_type": "stream",
          "text": [
            "[ Valid | 205/300 ] loss = 6.49370, acc = 0.73499\n",
            "loss = loss_layers + (10 * lamb) * loss_logits = 1.94958 + 4.66944 * 0.97316\n"
          ]
        },
        {
          "data": {
            "application/vnd.jupyter.widget-view+json": {
              "model_id": "87c19ad2e0a745258e5765186db49c74",
              "version_major": 2,
              "version_minor": 0
            },
            "text/plain": [
              "  0%|          | 0/155 [00:00<?, ?it/s]"
            ]
          },
          "metadata": {},
          "output_type": "display_data"
        },
        {
          "name": "stdout",
          "output_type": "stream",
          "text": [
            "[ Train | 206/300 ] loss = 5.63362, acc = 0.80529\n",
            "loss = loss_layers + (10 * lamb) * loss_logits = 2.11790 + 4.71511 * 0.74563\n"
          ]
        },
        {
          "data": {
            "application/vnd.jupyter.widget-view+json": {
              "model_id": "ca94d07b991249b3967956d8cd21f0fd",
              "version_major": 2,
              "version_minor": 0
            },
            "text/plain": [
              "  0%|          | 0/54 [00:00<?, ?it/s]"
            ]
          },
          "metadata": {},
          "output_type": "display_data"
        },
        {
          "name": "stdout",
          "output_type": "stream",
          "text": [
            "[ Valid | 206/300 ] loss = 6.37388, acc = 0.76152\n",
            "loss = loss_layers + (10 * lamb) * loss_logits = 1.95227 + 4.71511 * 0.93775\n"
          ]
        },
        {
          "data": {
            "application/vnd.jupyter.widget-view+json": {
              "model_id": "f6234bdc80d341d68ccff6fb8c3c0a2e",
              "version_major": 2,
              "version_minor": 0
            },
            "text/plain": [
              "  0%|          | 0/155 [00:00<?, ?it/s]"
            ]
          },
          "metadata": {},
          "output_type": "display_data"
        },
        {
          "name": "stdout",
          "output_type": "stream",
          "text": [
            "[ Train | 207/300 ] loss = 5.60399, acc = 0.81097\n",
            "loss = loss_layers + (10 * lamb) * loss_logits = 2.12169 + 4.76100 * 0.73142\n"
          ]
        },
        {
          "data": {
            "application/vnd.jupyter.widget-view+json": {
              "model_id": "7aac12ca12d4495594ec7fff3e4905a1",
              "version_major": 2,
              "version_minor": 0
            },
            "text/plain": [
              "  0%|          | 0/54 [00:00<?, ?it/s]"
            ]
          },
          "metadata": {},
          "output_type": "display_data"
        },
        {
          "name": "stdout",
          "output_type": "stream",
          "text": [
            "[ Valid | 207/300 ] loss = 6.43220, acc = 0.75160\n",
            "loss = loss_layers + (10 * lamb) * loss_logits = 1.95405 + 4.76100 * 0.94059\n"
          ]
        },
        {
          "data": {
            "application/vnd.jupyter.widget-view+json": {
              "model_id": "e0c72a9af38a4d5b9f9db6005cf52b5d",
              "version_major": 2,
              "version_minor": 0
            },
            "text/plain": [
              "  0%|          | 0/155 [00:00<?, ?it/s]"
            ]
          },
          "metadata": {},
          "output_type": "display_data"
        },
        {
          "name": "stdout",
          "output_type": "stream",
          "text": [
            "[ Train | 208/300 ] loss = 5.62113, acc = 0.81502\n",
            "loss = loss_layers + (10 * lamb) * loss_logits = 2.12489 + 4.80711 * 0.72731\n"
          ]
        },
        {
          "data": {
            "application/vnd.jupyter.widget-view+json": {
              "model_id": "36a9addafd4d4e2eafdc851bf6d3b762",
              "version_major": 2,
              "version_minor": 0
            },
            "text/plain": [
              "  0%|          | 0/54 [00:00<?, ?it/s]"
            ]
          },
          "metadata": {},
          "output_type": "display_data"
        },
        {
          "name": "stdout",
          "output_type": "stream",
          "text": [
            "[ Valid | 208/300 ] loss = 6.44853, acc = 0.75569\n",
            "loss = loss_layers + (10 * lamb) * loss_logits = 1.95667 + 4.80711 * 0.93442\n"
          ]
        },
        {
          "data": {
            "application/vnd.jupyter.widget-view+json": {
              "model_id": "f65195a5aa0b4742bf94bcc1e7db3730",
              "version_major": 2,
              "version_minor": 0
            },
            "text/plain": [
              "  0%|          | 0/155 [00:00<?, ?it/s]"
            ]
          },
          "metadata": {},
          "output_type": "display_data"
        },
        {
          "name": "stdout",
          "output_type": "stream",
          "text": [
            "[ Train | 209/300 ] loss = 5.68419, acc = 0.81127\n",
            "loss = loss_layers + (10 * lamb) * loss_logits = 2.11890 + 4.85344 * 0.73459\n"
          ]
        },
        {
          "data": {
            "application/vnd.jupyter.widget-view+json": {
              "model_id": "f1cbffdc42e448b08328277ba06a43a1",
              "version_major": 2,
              "version_minor": 0
            },
            "text/plain": [
              "  0%|          | 0/54 [00:00<?, ?it/s]"
            ]
          },
          "metadata": {},
          "output_type": "display_data"
        },
        {
          "name": "stdout",
          "output_type": "stream",
          "text": [
            "[ Valid | 209/300 ] loss = 6.35877, acc = 0.76822 -> best\n",
            "loss = loss_layers + (10 * lamb) * loss_logits = 1.95620 + 4.85344 * 0.90710\n",
            "Best model found at epoch 209, saving model\n"
          ]
        },
        {
          "data": {
            "application/vnd.jupyter.widget-view+json": {
              "model_id": "8116fe1584664365bb4c1c0b0021e855",
              "version_major": 2,
              "version_minor": 0
            },
            "text/plain": [
              "  0%|          | 0/155 [00:00<?, ?it/s]"
            ]
          },
          "metadata": {},
          "output_type": "display_data"
        },
        {
          "name": "stdout",
          "output_type": "stream",
          "text": [
            "[ Train | 210/300 ] loss = 5.69258, acc = 0.81340\n",
            "loss = loss_layers + (10 * lamb) * loss_logits = 2.13003 + 4.90000 * 0.72705\n"
          ]
        },
        {
          "data": {
            "application/vnd.jupyter.widget-view+json": {
              "model_id": "25c74cddc5764814bd3e3e4484fa2337",
              "version_major": 2,
              "version_minor": 0
            },
            "text/plain": [
              "  0%|          | 0/54 [00:00<?, ?it/s]"
            ]
          },
          "metadata": {},
          "output_type": "display_data"
        },
        {
          "name": "stdout",
          "output_type": "stream",
          "text": [
            "[ Valid | 210/300 ] loss = 6.55225, acc = 0.75452\n",
            "loss = loss_layers + (10 * lamb) * loss_logits = 1.96100 + 4.90000 * 0.93699\n"
          ]
        },
        {
          "data": {
            "application/vnd.jupyter.widget-view+json": {
              "model_id": "c2675c63d7f24914aac35f29a90b3ac6",
              "version_major": 2,
              "version_minor": 0
            },
            "text/plain": [
              "  0%|          | 0/155 [00:00<?, ?it/s]"
            ]
          },
          "metadata": {},
          "output_type": "display_data"
        },
        {
          "name": "stdout",
          "output_type": "stream",
          "text": [
            "[ Train | 211/300 ] loss = 5.63783, acc = 0.81543\n",
            "loss = loss_layers + (10 * lamb) * loss_logits = 2.12443 + 4.94678 * 0.71024\n"
          ]
        },
        {
          "data": {
            "application/vnd.jupyter.widget-view+json": {
              "model_id": "dbc5e415369949668426aba5f50ba324",
              "version_major": 2,
              "version_minor": 0
            },
            "text/plain": [
              "  0%|          | 0/54 [00:00<?, ?it/s]"
            ]
          },
          "metadata": {},
          "output_type": "display_data"
        },
        {
          "name": "stdout",
          "output_type": "stream",
          "text": [
            "[ Valid | 211/300 ] loss = 6.55193, acc = 0.75627\n",
            "loss = loss_layers + (10 * lamb) * loss_logits = 1.96047 + 4.94678 * 0.92817\n"
          ]
        },
        {
          "data": {
            "application/vnd.jupyter.widget-view+json": {
              "model_id": "9225fabe19374061a30cf277cbda3fcc",
              "version_major": 2,
              "version_minor": 0
            },
            "text/plain": [
              "  0%|          | 0/155 [00:00<?, ?it/s]"
            ]
          },
          "metadata": {},
          "output_type": "display_data"
        },
        {
          "name": "stdout",
          "output_type": "stream",
          "text": [
            "[ Train | 212/300 ] loss = 5.73191, acc = 0.81441\n",
            "loss = loss_layers + (10 * lamb) * loss_logits = 2.12989 + 4.99378 * 0.72130\n"
          ]
        },
        {
          "data": {
            "application/vnd.jupyter.widget-view+json": {
              "model_id": "0ec9ac9e6b4f46e2a8f537a2ca5a19bb",
              "version_major": 2,
              "version_minor": 0
            },
            "text/plain": [
              "  0%|          | 0/54 [00:00<?, ?it/s]"
            ]
          },
          "metadata": {},
          "output_type": "display_data"
        },
        {
          "name": "stdout",
          "output_type": "stream",
          "text": [
            "[ Valid | 212/300 ] loss = 6.97079, acc = 0.74315\n",
            "loss = loss_layers + (10 * lamb) * loss_logits = 1.96218 + 4.99378 * 1.00297\n"
          ]
        },
        {
          "data": {
            "application/vnd.jupyter.widget-view+json": {
              "model_id": "eaa4887226e94f4da695134725cdd5ab",
              "version_major": 2,
              "version_minor": 0
            },
            "text/plain": [
              "  0%|          | 0/155 [00:00<?, ?it/s]"
            ]
          },
          "metadata": {},
          "output_type": "display_data"
        },
        {
          "name": "stdout",
          "output_type": "stream",
          "text": [
            "[ Train | 213/300 ] loss = 5.79730, acc = 0.81218\n",
            "loss = loss_layers + (10 * lamb) * loss_logits = 2.12611 + 5.04100 * 0.72827\n"
          ]
        },
        {
          "data": {
            "application/vnd.jupyter.widget-view+json": {
              "model_id": "ebad20af40df431f896a84f8accf865c",
              "version_major": 2,
              "version_minor": 0
            },
            "text/plain": [
              "  0%|          | 0/54 [00:00<?, ?it/s]"
            ]
          },
          "metadata": {},
          "output_type": "display_data"
        },
        {
          "name": "stdout",
          "output_type": "stream",
          "text": [
            "[ Valid | 213/300 ] loss = 6.74564, acc = 0.76706\n",
            "loss = loss_layers + (10 * lamb) * loss_logits = 1.96217 + 5.04100 * 0.94891\n"
          ]
        },
        {
          "data": {
            "application/vnd.jupyter.widget-view+json": {
              "model_id": "364e01a2e4244ab78fbcad6d23869caa",
              "version_major": 2,
              "version_minor": 0
            },
            "text/plain": [
              "  0%|          | 0/155 [00:00<?, ?it/s]"
            ]
          },
          "metadata": {},
          "output_type": "display_data"
        },
        {
          "name": "stdout",
          "output_type": "stream",
          "text": [
            "[ Train | 214/300 ] loss = 5.77248, acc = 0.81806\n",
            "loss = loss_layers + (10 * lamb) * loss_logits = 2.13104 + 5.08844 * 0.71563\n"
          ]
        },
        {
          "data": {
            "application/vnd.jupyter.widget-view+json": {
              "model_id": "597bb125c89a435b81c210bb69e4860b",
              "version_major": 2,
              "version_minor": 0
            },
            "text/plain": [
              "  0%|          | 0/54 [00:00<?, ?it/s]"
            ]
          },
          "metadata": {},
          "output_type": "display_data"
        },
        {
          "name": "stdout",
          "output_type": "stream",
          "text": [
            "[ Valid | 214/300 ] loss = 6.65563, acc = 0.76735\n",
            "loss = loss_layers + (10 * lamb) * loss_logits = 1.96217 + 5.08844 * 0.92238\n"
          ]
        },
        {
          "data": {
            "application/vnd.jupyter.widget-view+json": {
              "model_id": "fbb9125a4fed4b0989b456af1618728a",
              "version_major": 2,
              "version_minor": 0
            },
            "text/plain": [
              "  0%|          | 0/155 [00:00<?, ?it/s]"
            ]
          },
          "metadata": {},
          "output_type": "display_data"
        },
        {
          "name": "stdout",
          "output_type": "stream",
          "text": [
            "[ Train | 215/300 ] loss = 5.75604, acc = 0.82201\n",
            "loss = loss_layers + (10 * lamb) * loss_logits = 2.13533 + 5.13611 * 0.70495\n"
          ]
        },
        {
          "data": {
            "application/vnd.jupyter.widget-view+json": {
              "model_id": "d478ac75a6e04c44b253e6668c1f5535",
              "version_major": 2,
              "version_minor": 0
            },
            "text/plain": [
              "  0%|          | 0/54 [00:00<?, ?it/s]"
            ]
          },
          "metadata": {},
          "output_type": "display_data"
        },
        {
          "name": "stdout",
          "output_type": "stream",
          "text": [
            "[ Valid | 215/300 ] loss = 6.67750, acc = 0.76297\n",
            "loss = loss_layers + (10 * lamb) * loss_logits = 1.96446 + 5.13611 * 0.91763\n"
          ]
        },
        {
          "data": {
            "application/vnd.jupyter.widget-view+json": {
              "model_id": "108c1430caee4a86888080e8b5d018bd",
              "version_major": 2,
              "version_minor": 0
            },
            "text/plain": [
              "  0%|          | 0/155 [00:00<?, ?it/s]"
            ]
          },
          "metadata": {},
          "output_type": "display_data"
        },
        {
          "name": "stdout",
          "output_type": "stream",
          "text": [
            "[ Train | 216/300 ] loss = 5.80772, acc = 0.81492\n",
            "loss = loss_layers + (10 * lamb) * loss_logits = 2.12830 + 5.18400 * 0.70977\n"
          ]
        },
        {
          "data": {
            "application/vnd.jupyter.widget-view+json": {
              "model_id": "e88bc41728d8414c83b55954bcadd7b6",
              "version_major": 2,
              "version_minor": 0
            },
            "text/plain": [
              "  0%|          | 0/54 [00:00<?, ?it/s]"
            ]
          },
          "metadata": {},
          "output_type": "display_data"
        },
        {
          "name": "stdout",
          "output_type": "stream",
          "text": [
            "[ Valid | 216/300 ] loss = 6.92873, acc = 0.75656\n",
            "loss = loss_layers + (10 * lamb) * loss_logits = 1.96593 + 5.18400 * 0.95733\n"
          ]
        },
        {
          "data": {
            "application/vnd.jupyter.widget-view+json": {
              "model_id": "de0d8d66be4c4674bc903cd6f24adcd3",
              "version_major": 2,
              "version_minor": 0
            },
            "text/plain": [
              "  0%|          | 0/155 [00:00<?, ?it/s]"
            ]
          },
          "metadata": {},
          "output_type": "display_data"
        },
        {
          "name": "stdout",
          "output_type": "stream",
          "text": [
            "[ Train | 217/300 ] loss = 5.86161, acc = 0.81451\n",
            "loss = loss_layers + (10 * lamb) * loss_logits = 2.13377 + 5.23211 * 0.71249\n"
          ]
        },
        {
          "data": {
            "application/vnd.jupyter.widget-view+json": {
              "model_id": "45d47767b5b043ea9c26b871fd770c0c",
              "version_major": 2,
              "version_minor": 0
            },
            "text/plain": [
              "  0%|          | 0/54 [00:00<?, ?it/s]"
            ]
          },
          "metadata": {},
          "output_type": "display_data"
        },
        {
          "name": "stdout",
          "output_type": "stream",
          "text": [
            "[ Valid | 217/300 ] loss = 7.06180, acc = 0.75977\n",
            "loss = loss_layers + (10 * lamb) * loss_logits = 1.97113 + 5.23211 * 0.97297\n"
          ]
        },
        {
          "data": {
            "application/vnd.jupyter.widget-view+json": {
              "model_id": "e5dfc5501e264fd38f0616f435e7eda3",
              "version_major": 2,
              "version_minor": 0
            },
            "text/plain": [
              "  0%|          | 0/155 [00:00<?, ?it/s]"
            ]
          },
          "metadata": {},
          "output_type": "display_data"
        },
        {
          "name": "stdout",
          "output_type": "stream",
          "text": [
            "[ Train | 218/300 ] loss = 5.81491, acc = 0.82151\n",
            "loss = loss_layers + (10 * lamb) * loss_logits = 2.13540 + 5.28044 * 0.69682\n"
          ]
        },
        {
          "data": {
            "application/vnd.jupyter.widget-view+json": {
              "model_id": "df73233454e7479ba7c5f53f5c89bcf4",
              "version_major": 2,
              "version_minor": 0
            },
            "text/plain": [
              "  0%|          | 0/54 [00:00<?, ?it/s]"
            ]
          },
          "metadata": {},
          "output_type": "display_data"
        },
        {
          "name": "stdout",
          "output_type": "stream",
          "text": [
            "[ Valid | 218/300 ] loss = 6.97694, acc = 0.75131\n",
            "loss = loss_layers + (10 * lamb) * loss_logits = 1.96919 + 5.28044 * 0.94836\n"
          ]
        },
        {
          "data": {
            "application/vnd.jupyter.widget-view+json": {
              "model_id": "85fcf4b9498e47c5a6c87b1469519013",
              "version_major": 2,
              "version_minor": 0
            },
            "text/plain": [
              "  0%|          | 0/155 [00:00<?, ?it/s]"
            ]
          },
          "metadata": {},
          "output_type": "display_data"
        },
        {
          "name": "stdout",
          "output_type": "stream",
          "text": [
            "[ Train | 219/300 ] loss = 5.89966, acc = 0.81715\n",
            "loss = loss_layers + (10 * lamb) * loss_logits = 2.13791 + 5.32900 * 0.70590\n"
          ]
        },
        {
          "data": {
            "application/vnd.jupyter.widget-view+json": {
              "model_id": "999222bc32f248fcbf73ba54a3ced492",
              "version_major": 2,
              "version_minor": 0
            },
            "text/plain": [
              "  0%|          | 0/54 [00:00<?, ?it/s]"
            ]
          },
          "metadata": {},
          "output_type": "display_data"
        },
        {
          "name": "stdout",
          "output_type": "stream",
          "text": [
            "[ Valid | 219/300 ] loss = 6.78702, acc = 0.76531\n",
            "loss = loss_layers + (10 * lamb) * loss_logits = 1.97324 + 5.32900 * 0.90332\n"
          ]
        },
        {
          "data": {
            "application/vnd.jupyter.widget-view+json": {
              "model_id": "824dd8d1dc9c4cdb957e50b68463b043",
              "version_major": 2,
              "version_minor": 0
            },
            "text/plain": [
              "  0%|          | 0/155 [00:00<?, ?it/s]"
            ]
          },
          "metadata": {},
          "output_type": "display_data"
        },
        {
          "name": "stdout",
          "output_type": "stream",
          "text": [
            "[ Train | 220/300 ] loss = 5.96198, acc = 0.82060\n",
            "loss = loss_layers + (10 * lamb) * loss_logits = 2.14329 + 5.37778 * 0.71009\n"
          ]
        },
        {
          "data": {
            "application/vnd.jupyter.widget-view+json": {
              "model_id": "c730a89f515d475ea7e3fc59a96a219c",
              "version_major": 2,
              "version_minor": 0
            },
            "text/plain": [
              "  0%|          | 0/54 [00:00<?, ?it/s]"
            ]
          },
          "metadata": {},
          "output_type": "display_data"
        },
        {
          "name": "stdout",
          "output_type": "stream",
          "text": [
            "[ Valid | 220/300 ] loss = 7.02005, acc = 0.75452\n",
            "loss = loss_layers + (10 * lamb) * loss_logits = 1.97366 + 5.37778 * 0.93838\n"
          ]
        },
        {
          "data": {
            "application/vnd.jupyter.widget-view+json": {
              "model_id": "195c81f638254a64bf441a6f076def1b",
              "version_major": 2,
              "version_minor": 0
            },
            "text/plain": [
              "  0%|          | 0/155 [00:00<?, ?it/s]"
            ]
          },
          "metadata": {},
          "output_type": "display_data"
        },
        {
          "name": "stdout",
          "output_type": "stream",
          "text": [
            "[ Train | 221/300 ] loss = 5.92137, acc = 0.82262\n",
            "loss = loss_layers + (10 * lamb) * loss_logits = 2.14108 + 5.42678 * 0.69660\n"
          ]
        },
        {
          "data": {
            "application/vnd.jupyter.widget-view+json": {
              "model_id": "fc484bf854514e34929b09a97e29923a",
              "version_major": 2,
              "version_minor": 0
            },
            "text/plain": [
              "  0%|          | 0/54 [00:00<?, ?it/s]"
            ]
          },
          "metadata": {},
          "output_type": "display_data"
        },
        {
          "name": "stdout",
          "output_type": "stream",
          "text": [
            "[ Valid | 221/300 ] loss = 7.02858, acc = 0.76910 -> best\n",
            "loss = loss_layers + (10 * lamb) * loss_logits = 1.97545 + 5.42678 * 0.93115\n",
            "Best model found at epoch 221, saving model\n"
          ]
        },
        {
          "data": {
            "application/vnd.jupyter.widget-view+json": {
              "model_id": "d11f0ccdad9f480b9c71389600d0b6d6",
              "version_major": 2,
              "version_minor": 0
            },
            "text/plain": [
              "  0%|          | 0/155 [00:00<?, ?it/s]"
            ]
          },
          "metadata": {},
          "output_type": "display_data"
        },
        {
          "name": "stdout",
          "output_type": "stream",
          "text": [
            "[ Train | 222/300 ] loss = 6.01207, acc = 0.81857\n",
            "loss = loss_layers + (10 * lamb) * loss_logits = 2.14466 + 5.47600 * 0.70625\n"
          ]
        },
        {
          "data": {
            "application/vnd.jupyter.widget-view+json": {
              "model_id": "8b26f985d9c5436aa1ced36e58684d24",
              "version_major": 2,
              "version_minor": 0
            },
            "text/plain": [
              "  0%|          | 0/54 [00:00<?, ?it/s]"
            ]
          },
          "metadata": {},
          "output_type": "display_data"
        },
        {
          "name": "stdout",
          "output_type": "stream",
          "text": [
            "[ Valid | 222/300 ] loss = 7.11333, acc = 0.76443\n",
            "loss = loss_layers + (10 * lamb) * loss_logits = 1.97322 + 5.47600 * 0.93866\n"
          ]
        },
        {
          "data": {
            "application/vnd.jupyter.widget-view+json": {
              "model_id": "976dad4e4dd54ce6a1615119fa33b403",
              "version_major": 2,
              "version_minor": 0
            },
            "text/plain": [
              "  0%|          | 0/155 [00:00<?, ?it/s]"
            ]
          },
          "metadata": {},
          "output_type": "display_data"
        },
        {
          "name": "stdout",
          "output_type": "stream",
          "text": [
            "[ Train | 223/300 ] loss = 5.93831, acc = 0.82424\n",
            "loss = loss_layers + (10 * lamb) * loss_logits = 2.14295 + 5.52544 * 0.68689\n"
          ]
        },
        {
          "data": {
            "application/vnd.jupyter.widget-view+json": {
              "model_id": "2fe66b31c0904ae39f13f656f4e9a602",
              "version_major": 2,
              "version_minor": 0
            },
            "text/plain": [
              "  0%|          | 0/54 [00:00<?, ?it/s]"
            ]
          },
          "metadata": {},
          "output_type": "display_data"
        },
        {
          "name": "stdout",
          "output_type": "stream",
          "text": [
            "[ Valid | 223/300 ] loss = 6.94758, acc = 0.77988 -> best\n",
            "loss = loss_layers + (10 * lamb) * loss_logits = 1.97286 + 5.52544 * 0.90033\n",
            "Best model found at epoch 223, saving model\n"
          ]
        },
        {
          "data": {
            "application/vnd.jupyter.widget-view+json": {
              "model_id": "a3be3d9162aa4a4898f7c53bee2d2112",
              "version_major": 2,
              "version_minor": 0
            },
            "text/plain": [
              "  0%|          | 0/155 [00:00<?, ?it/s]"
            ]
          },
          "metadata": {},
          "output_type": "display_data"
        },
        {
          "name": "stdout",
          "output_type": "stream",
          "text": [
            "[ Train | 224/300 ] loss = 6.05368, acc = 0.82222\n",
            "loss = loss_layers + (10 * lamb) * loss_logits = 2.14696 + 5.57511 * 0.70074\n"
          ]
        },
        {
          "data": {
            "application/vnd.jupyter.widget-view+json": {
              "model_id": "9dff926495e4441ba1e7eaae05d85e03",
              "version_major": 2,
              "version_minor": 0
            },
            "text/plain": [
              "  0%|          | 0/54 [00:00<?, ?it/s]"
            ]
          },
          "metadata": {},
          "output_type": "display_data"
        },
        {
          "name": "stdout",
          "output_type": "stream",
          "text": [
            "[ Valid | 224/300 ] loss = 7.03335, acc = 0.75773\n",
            "loss = loss_layers + (10 * lamb) * loss_logits = 1.97576 + 5.57511 * 0.90717\n"
          ]
        },
        {
          "data": {
            "application/vnd.jupyter.widget-view+json": {
              "model_id": "0e8d73e74cb440c6b15d5f13ad3f492f",
              "version_major": 2,
              "version_minor": 0
            },
            "text/plain": [
              "  0%|          | 0/155 [00:00<?, ?it/s]"
            ]
          },
          "metadata": {},
          "output_type": "display_data"
        },
        {
          "name": "stdout",
          "output_type": "stream",
          "text": [
            "[ Train | 225/300 ] loss = 6.02901, acc = 0.82151\n",
            "loss = loss_layers + (10 * lamb) * loss_logits = 2.14899 + 5.62500 * 0.68978\n"
          ]
        },
        {
          "data": {
            "application/vnd.jupyter.widget-view+json": {
              "model_id": "da46e7fb122f45d59711a3daebf94d26",
              "version_major": 2,
              "version_minor": 0
            },
            "text/plain": [
              "  0%|          | 0/54 [00:00<?, ?it/s]"
            ]
          },
          "metadata": {},
          "output_type": "display_data"
        },
        {
          "name": "stdout",
          "output_type": "stream",
          "text": [
            "[ Valid | 225/300 ] loss = 6.98086, acc = 0.78251 -> best\n",
            "loss = loss_layers + (10 * lamb) * loss_logits = 1.97393 + 5.62500 * 0.89012\n",
            "Best model found at epoch 225, saving model\n"
          ]
        },
        {
          "data": {
            "application/vnd.jupyter.widget-view+json": {
              "model_id": "5625aaad77e743c4bfd4b8fa4fdaf462",
              "version_major": 2,
              "version_minor": 0
            },
            "text/plain": [
              "  0%|          | 0/155 [00:00<?, ?it/s]"
            ]
          },
          "metadata": {},
          "output_type": "display_data"
        },
        {
          "name": "stdout",
          "output_type": "stream",
          "text": [
            "[ Train | 226/300 ] loss = 6.07420, acc = 0.82374\n",
            "loss = loss_layers + (10 * lamb) * loss_logits = 2.14841 + 5.67511 * 0.69175\n"
          ]
        },
        {
          "data": {
            "application/vnd.jupyter.widget-view+json": {
              "model_id": "b0cd9f4a15234ed3ae0cf2c22a185647",
              "version_major": 2,
              "version_minor": 0
            },
            "text/plain": [
              "  0%|          | 0/54 [00:00<?, ?it/s]"
            ]
          },
          "metadata": {},
          "output_type": "display_data"
        },
        {
          "name": "stdout",
          "output_type": "stream",
          "text": [
            "[ Valid | 226/300 ] loss = 7.31959, acc = 0.77172\n",
            "loss = loss_layers + (10 * lamb) * loss_logits = 1.97794 + 5.67511 * 0.94124\n"
          ]
        },
        {
          "data": {
            "application/vnd.jupyter.widget-view+json": {
              "model_id": "00eb230dcd7b4bc3b497c3e685d60f26",
              "version_major": 2,
              "version_minor": 0
            },
            "text/plain": [
              "  0%|          | 0/155 [00:00<?, ?it/s]"
            ]
          },
          "metadata": {},
          "output_type": "display_data"
        },
        {
          "name": "stdout",
          "output_type": "stream",
          "text": [
            "[ Train | 227/300 ] loss = 6.02852, acc = 0.82475\n",
            "loss = loss_layers + (10 * lamb) * loss_logits = 2.14950 + 5.72544 * 0.67751\n"
          ]
        },
        {
          "data": {
            "application/vnd.jupyter.widget-view+json": {
              "model_id": "aa1c0e7fc54a496ebecc390d580d1ec0",
              "version_major": 2,
              "version_minor": 0
            },
            "text/plain": [
              "  0%|          | 0/54 [00:00<?, ?it/s]"
            ]
          },
          "metadata": {},
          "output_type": "display_data"
        },
        {
          "name": "stdout",
          "output_type": "stream",
          "text": [
            "[ Valid | 227/300 ] loss = 7.15511, acc = 0.77493\n",
            "loss = loss_layers + (10 * lamb) * loss_logits = 1.97833 + 5.72544 * 0.90417\n"
          ]
        },
        {
          "data": {
            "application/vnd.jupyter.widget-view+json": {
              "model_id": "938d630207c94a33bd4a36eec3f420b1",
              "version_major": 2,
              "version_minor": 0
            },
            "text/plain": [
              "  0%|          | 0/155 [00:00<?, ?it/s]"
            ]
          },
          "metadata": {},
          "output_type": "display_data"
        },
        {
          "name": "stdout",
          "output_type": "stream",
          "text": [
            "[ Train | 228/300 ] loss = 6.11141, acc = 0.82212\n",
            "loss = loss_layers + (10 * lamb) * loss_logits = 2.15210 + 5.77600 * 0.68548\n"
          ]
        },
        {
          "data": {
            "application/vnd.jupyter.widget-view+json": {
              "model_id": "e0a3c717d3dc4ec2ab2b73d080a02aaa",
              "version_major": 2,
              "version_minor": 0
            },
            "text/plain": [
              "  0%|          | 0/54 [00:00<?, ?it/s]"
            ]
          },
          "metadata": {},
          "output_type": "display_data"
        },
        {
          "name": "stdout",
          "output_type": "stream",
          "text": [
            "[ Valid | 228/300 ] loss = 7.25932, acc = 0.77085\n",
            "loss = loss_layers + (10 * lamb) * loss_logits = 1.98284 + 5.77600 * 0.91352\n"
          ]
        },
        {
          "data": {
            "application/vnd.jupyter.widget-view+json": {
              "model_id": "f16c6b28b21f4b558ac9f61dcaa56526",
              "version_major": 2,
              "version_minor": 0
            },
            "text/plain": [
              "  0%|          | 0/155 [00:00<?, ?it/s]"
            ]
          },
          "metadata": {},
          "output_type": "display_data"
        },
        {
          "name": "stdout",
          "output_type": "stream",
          "text": [
            "[ Train | 229/300 ] loss = 6.09878, acc = 0.82262\n",
            "loss = loss_layers + (10 * lamb) * loss_logits = 2.14974 + 5.82678 * 0.67774\n"
          ]
        },
        {
          "data": {
            "application/vnd.jupyter.widget-view+json": {
              "model_id": "314eb02903c543baa1d201be88e230cb",
              "version_major": 2,
              "version_minor": 0
            },
            "text/plain": [
              "  0%|          | 0/54 [00:00<?, ?it/s]"
            ]
          },
          "metadata": {},
          "output_type": "display_data"
        },
        {
          "name": "stdout",
          "output_type": "stream",
          "text": [
            "[ Valid | 229/300 ] loss = 7.41853, acc = 0.76297\n",
            "loss = loss_layers + (10 * lamb) * loss_logits = 1.98382 + 5.82678 * 0.93271\n"
          ]
        },
        {
          "data": {
            "application/vnd.jupyter.widget-view+json": {
              "model_id": "c295a56ff9c4423d9c469aacc6f66763",
              "version_major": 2,
              "version_minor": 0
            },
            "text/plain": [
              "  0%|          | 0/155 [00:00<?, ?it/s]"
            ]
          },
          "metadata": {},
          "output_type": "display_data"
        },
        {
          "name": "stdout",
          "output_type": "stream",
          "text": [
            "[ Train | 230/300 ] loss = 6.10622, acc = 0.82860\n",
            "loss = loss_layers + (10 * lamb) * loss_logits = 2.15068 + 5.87778 * 0.67297\n"
          ]
        },
        {
          "data": {
            "application/vnd.jupyter.widget-view+json": {
              "model_id": "973dfc7778e64ee0ad6529d6ad060e71",
              "version_major": 2,
              "version_minor": 0
            },
            "text/plain": [
              "  0%|          | 0/54 [00:00<?, ?it/s]"
            ]
          },
          "metadata": {},
          "output_type": "display_data"
        },
        {
          "name": "stdout",
          "output_type": "stream",
          "text": [
            "[ Valid | 230/300 ] loss = 7.44999, acc = 0.76239\n",
            "loss = loss_layers + (10 * lamb) * loss_logits = 1.98282 + 5.87778 * 0.93014\n"
          ]
        },
        {
          "data": {
            "application/vnd.jupyter.widget-view+json": {
              "model_id": "5e150b6e2a92485a8b66a811a5683706",
              "version_major": 2,
              "version_minor": 0
            },
            "text/plain": [
              "  0%|          | 0/155 [00:00<?, ?it/s]"
            ]
          },
          "metadata": {},
          "output_type": "display_data"
        },
        {
          "name": "stdout",
          "output_type": "stream",
          "text": [
            "[ Train | 231/300 ] loss = 6.18344, acc = 0.82637\n",
            "loss = loss_layers + (10 * lamb) * loss_logits = 2.15611 + 5.92900 * 0.67926\n"
          ]
        },
        {
          "data": {
            "application/vnd.jupyter.widget-view+json": {
              "model_id": "115daec49db7443dbb251c94043b4e5e",
              "version_major": 2,
              "version_minor": 0
            },
            "text/plain": [
              "  0%|          | 0/54 [00:00<?, ?it/s]"
            ]
          },
          "metadata": {},
          "output_type": "display_data"
        },
        {
          "name": "stdout",
          "output_type": "stream",
          "text": [
            "[ Valid | 231/300 ] loss = 7.26521, acc = 0.76793\n",
            "loss = loss_layers + (10 * lamb) * loss_logits = 1.98401 + 5.92900 * 0.89074\n"
          ]
        },
        {
          "data": {
            "application/vnd.jupyter.widget-view+json": {
              "model_id": "c36385e6ce084f328a81b6b625d70310",
              "version_major": 2,
              "version_minor": 0
            },
            "text/plain": [
              "  0%|          | 0/155 [00:00<?, ?it/s]"
            ]
          },
          "metadata": {},
          "output_type": "display_data"
        },
        {
          "name": "stdout",
          "output_type": "stream",
          "text": [
            "[ Train | 232/300 ] loss = 6.16572, acc = 0.82343\n",
            "loss = loss_layers + (10 * lamb) * loss_logits = 2.15508 + 5.98044 * 0.67063\n"
          ]
        },
        {
          "data": {
            "application/vnd.jupyter.widget-view+json": {
              "model_id": "ef738ffbd0ab486c859eef1d7833a2bd",
              "version_major": 2,
              "version_minor": 0
            },
            "text/plain": [
              "  0%|          | 0/54 [00:00<?, ?it/s]"
            ]
          },
          "metadata": {},
          "output_type": "display_data"
        },
        {
          "name": "stdout",
          "output_type": "stream",
          "text": [
            "[ Valid | 232/300 ] loss = 7.63382, acc = 0.75452\n",
            "loss = loss_layers + (10 * lamb) * loss_logits = 1.98699 + 5.98044 * 0.94422\n"
          ]
        },
        {
          "data": {
            "application/vnd.jupyter.widget-view+json": {
              "model_id": "0f259264fc984cddb686e9f6c26de165",
              "version_major": 2,
              "version_minor": 0
            },
            "text/plain": [
              "  0%|          | 0/155 [00:00<?, ?it/s]"
            ]
          },
          "metadata": {},
          "output_type": "display_data"
        },
        {
          "name": "stdout",
          "output_type": "stream",
          "text": [
            "[ Train | 233/300 ] loss = 6.18863, acc = 0.82668\n",
            "loss = loss_layers + (10 * lamb) * loss_logits = 2.15557 + 6.03211 * 0.66860\n"
          ]
        },
        {
          "data": {
            "application/vnd.jupyter.widget-view+json": {
              "model_id": "43dd5abc22d0462097d6bc64cd635740",
              "version_major": 2,
              "version_minor": 0
            },
            "text/plain": [
              "  0%|          | 0/54 [00:00<?, ?it/s]"
            ]
          },
          "metadata": {},
          "output_type": "display_data"
        },
        {
          "name": "stdout",
          "output_type": "stream",
          "text": [
            "[ Valid | 233/300 ] loss = 7.39491, acc = 0.76939\n",
            "loss = loss_layers + (10 * lamb) * loss_logits = 1.98635 + 6.03211 * 0.89663\n"
          ]
        },
        {
          "data": {
            "application/vnd.jupyter.widget-view+json": {
              "model_id": "e8b361c211ea4c81a62d55c12fdf27d5",
              "version_major": 2,
              "version_minor": 0
            },
            "text/plain": [
              "  0%|          | 0/155 [00:00<?, ?it/s]"
            ]
          },
          "metadata": {},
          "output_type": "display_data"
        },
        {
          "name": "stdout",
          "output_type": "stream",
          "text": [
            "[ Train | 234/300 ] loss = 6.19202, acc = 0.83296\n",
            "loss = loss_layers + (10 * lamb) * loss_logits = 2.15711 + 6.08400 * 0.66320\n"
          ]
        },
        {
          "data": {
            "application/vnd.jupyter.widget-view+json": {
              "model_id": "2bd48810938243bb9fe037a8c8303888",
              "version_major": 2,
              "version_minor": 0
            },
            "text/plain": [
              "  0%|          | 0/54 [00:00<?, ?it/s]"
            ]
          },
          "metadata": {},
          "output_type": "display_data"
        },
        {
          "name": "stdout",
          "output_type": "stream",
          "text": [
            "[ Valid | 234/300 ] loss = 7.36301, acc = 0.77580\n",
            "loss = loss_layers + (10 * lamb) * loss_logits = 1.98879 + 6.08400 * 0.88334\n"
          ]
        },
        {
          "data": {
            "application/vnd.jupyter.widget-view+json": {
              "model_id": "db367c642ee44393b053e2bd8007afcf",
              "version_major": 2,
              "version_minor": 0
            },
            "text/plain": [
              "  0%|          | 0/155 [00:00<?, ?it/s]"
            ]
          },
          "metadata": {},
          "output_type": "display_data"
        },
        {
          "name": "stdout",
          "output_type": "stream",
          "text": [
            "[ Train | 235/300 ] loss = 6.19855, acc = 0.82800\n",
            "loss = loss_layers + (10 * lamb) * loss_logits = 2.15766 + 6.13611 * 0.65854\n"
          ]
        },
        {
          "data": {
            "application/vnd.jupyter.widget-view+json": {
              "model_id": "216a1898e8194eb3a70fcda58ad65ff6",
              "version_major": 2,
              "version_minor": 0
            },
            "text/plain": [
              "  0%|          | 0/54 [00:00<?, ?it/s]"
            ]
          },
          "metadata": {},
          "output_type": "display_data"
        },
        {
          "name": "stdout",
          "output_type": "stream",
          "text": [
            "[ Valid | 235/300 ] loss = 7.86388, acc = 0.75423\n",
            "loss = loss_layers + (10 * lamb) * loss_logits = 1.98515 + 6.13611 * 0.95805\n"
          ]
        },
        {
          "data": {
            "application/vnd.jupyter.widget-view+json": {
              "model_id": "644a34a74c954b499bd7dceb8fa2f7b5",
              "version_major": 2,
              "version_minor": 0
            },
            "text/plain": [
              "  0%|          | 0/155 [00:00<?, ?it/s]"
            ]
          },
          "metadata": {},
          "output_type": "display_data"
        },
        {
          "name": "stdout",
          "output_type": "stream",
          "text": [
            "[ Train | 236/300 ] loss = 6.30367, acc = 0.82242\n",
            "loss = loss_layers + (10 * lamb) * loss_logits = 2.15977 + 6.18844 * 0.66962\n"
          ]
        },
        {
          "data": {
            "application/vnd.jupyter.widget-view+json": {
              "model_id": "47f2d9ab53e840c5a1c2d8b4e2793137",
              "version_major": 2,
              "version_minor": 0
            },
            "text/plain": [
              "  0%|          | 0/54 [00:00<?, ?it/s]"
            ]
          },
          "metadata": {},
          "output_type": "display_data"
        },
        {
          "name": "stdout",
          "output_type": "stream",
          "text": [
            "[ Valid | 236/300 ] loss = 8.15436, acc = 0.73673\n",
            "loss = loss_layers + (10 * lamb) * loss_logits = 1.99044 + 6.18844 * 0.99604\n"
          ]
        },
        {
          "data": {
            "application/vnd.jupyter.widget-view+json": {
              "model_id": "4e77eae269034a39a9b9b247fb16b8c9",
              "version_major": 2,
              "version_minor": 0
            },
            "text/plain": [
              "  0%|          | 0/155 [00:00<?, ?it/s]"
            ]
          },
          "metadata": {},
          "output_type": "display_data"
        },
        {
          "name": "stdout",
          "output_type": "stream",
          "text": [
            "[ Train | 237/300 ] loss = 6.32460, acc = 0.82739\n",
            "loss = loss_layers + (10 * lamb) * loss_logits = 2.16325 + 6.24100 * 0.66678\n"
          ]
        },
        {
          "data": {
            "application/vnd.jupyter.widget-view+json": {
              "model_id": "617b645efb8f4d4dbe5e55d783fc5016",
              "version_major": 2,
              "version_minor": 0
            },
            "text/plain": [
              "  0%|          | 0/54 [00:00<?, ?it/s]"
            ]
          },
          "metadata": {},
          "output_type": "display_data"
        },
        {
          "name": "stdout",
          "output_type": "stream",
          "text": [
            "[ Valid | 237/300 ] loss = 7.82359, acc = 0.76939\n",
            "loss = loss_layers + (10 * lamb) * loss_logits = 1.99372 + 6.24100 * 0.93412\n"
          ]
        },
        {
          "data": {
            "application/vnd.jupyter.widget-view+json": {
              "model_id": "6a681c758f3248cbb2507974cd8ef8d2",
              "version_major": 2,
              "version_minor": 0
            },
            "text/plain": [
              "  0%|          | 0/155 [00:00<?, ?it/s]"
            ]
          },
          "metadata": {},
          "output_type": "display_data"
        },
        {
          "name": "stdout",
          "output_type": "stream",
          "text": [
            "[ Train | 238/300 ] loss = 6.27758, acc = 0.83144\n",
            "loss = loss_layers + (10 * lamb) * loss_logits = 2.16337 + 6.29378 * 0.65370\n"
          ]
        },
        {
          "data": {
            "application/vnd.jupyter.widget-view+json": {
              "model_id": "8b7e97e50e2c4c19bae295b52f766011",
              "version_major": 2,
              "version_minor": 0
            },
            "text/plain": [
              "  0%|          | 0/54 [00:00<?, ?it/s]"
            ]
          },
          "metadata": {},
          "output_type": "display_data"
        },
        {
          "name": "stdout",
          "output_type": "stream",
          "text": [
            "[ Valid | 238/300 ] loss = 7.71120, acc = 0.76531\n",
            "loss = loss_layers + (10 * lamb) * loss_logits = 1.99150 + 6.29378 * 0.90879\n"
          ]
        },
        {
          "data": {
            "application/vnd.jupyter.widget-view+json": {
              "model_id": "76eb594470d14f48941772bf8e377aa4",
              "version_major": 2,
              "version_minor": 0
            },
            "text/plain": [
              "  0%|          | 0/155 [00:00<?, ?it/s]"
            ]
          },
          "metadata": {},
          "output_type": "display_data"
        },
        {
          "name": "stdout",
          "output_type": "stream",
          "text": [
            "[ Train | 239/300 ] loss = 6.30774, acc = 0.83134\n",
            "loss = loss_layers + (10 * lamb) * loss_logits = 2.16349 + 6.34678 * 0.65297\n"
          ]
        },
        {
          "data": {
            "application/vnd.jupyter.widget-view+json": {
              "model_id": "6af5b94191dd4f53aef77ebeb9d58552",
              "version_major": 2,
              "version_minor": 0
            },
            "text/plain": [
              "  0%|          | 0/54 [00:00<?, ?it/s]"
            ]
          },
          "metadata": {},
          "output_type": "display_data"
        },
        {
          "name": "stdout",
          "output_type": "stream",
          "text": [
            "[ Valid | 239/300 ] loss = 8.27010, acc = 0.75190\n",
            "loss = loss_layers + (10 * lamb) * loss_logits = 1.99161 + 6.34678 * 0.98924\n"
          ]
        },
        {
          "data": {
            "application/vnd.jupyter.widget-view+json": {
              "model_id": "6b8e3d52bd0743ca943cf3feee6b84fb",
              "version_major": 2,
              "version_minor": 0
            },
            "text/plain": [
              "  0%|          | 0/155 [00:00<?, ?it/s]"
            ]
          },
          "metadata": {},
          "output_type": "display_data"
        },
        {
          "name": "stdout",
          "output_type": "stream",
          "text": [
            "[ Train | 240/300 ] loss = 6.33634, acc = 0.82718\n",
            "loss = loss_layers + (10 * lamb) * loss_logits = 2.15978 + 6.40000 * 0.65259\n"
          ]
        },
        {
          "data": {
            "application/vnd.jupyter.widget-view+json": {
              "model_id": "f5b307aaebed46f48cc40749aeda6165",
              "version_major": 2,
              "version_minor": 0
            },
            "text/plain": [
              "  0%|          | 0/54 [00:00<?, ?it/s]"
            ]
          },
          "metadata": {},
          "output_type": "display_data"
        },
        {
          "name": "stdout",
          "output_type": "stream",
          "text": [
            "[ Valid | 240/300 ] loss = 7.83292, acc = 0.76822\n",
            "loss = loss_layers + (10 * lamb) * loss_logits = 1.99462 + 6.40000 * 0.91224\n"
          ]
        },
        {
          "data": {
            "application/vnd.jupyter.widget-view+json": {
              "model_id": "2841b01dfb254466ae811514255125ba",
              "version_major": 2,
              "version_minor": 0
            },
            "text/plain": [
              "  0%|          | 0/155 [00:00<?, ?it/s]"
            ]
          },
          "metadata": {},
          "output_type": "display_data"
        },
        {
          "name": "stdout",
          "output_type": "stream",
          "text": [
            "[ Train | 241/300 ] loss = 6.29965, acc = 0.83458\n",
            "loss = loss_layers + (10 * lamb) * loss_logits = 2.16785 + 6.45344 * 0.64025\n"
          ]
        },
        {
          "data": {
            "application/vnd.jupyter.widget-view+json": {
              "model_id": "feaf09c12fca46529b955b342e6c766c",
              "version_major": 2,
              "version_minor": 0
            },
            "text/plain": [
              "  0%|          | 0/54 [00:00<?, ?it/s]"
            ]
          },
          "metadata": {},
          "output_type": "display_data"
        },
        {
          "name": "stdout",
          "output_type": "stream",
          "text": [
            "[ Valid | 241/300 ] loss = 7.86426, acc = 0.77580\n",
            "loss = loss_layers + (10 * lamb) * loss_logits = 1.99512 + 6.45344 * 0.90946\n"
          ]
        },
        {
          "data": {
            "application/vnd.jupyter.widget-view+json": {
              "model_id": "8caa3c162f724b8da2c27d239084860e",
              "version_major": 2,
              "version_minor": 0
            },
            "text/plain": [
              "  0%|          | 0/155 [00:00<?, ?it/s]"
            ]
          },
          "metadata": {},
          "output_type": "display_data"
        },
        {
          "name": "stdout",
          "output_type": "stream",
          "text": [
            "[ Train | 242/300 ] loss = 6.33586, acc = 0.83398\n",
            "loss = loss_layers + (10 * lamb) * loss_logits = 2.16901 + 6.50711 * 0.64035\n"
          ]
        },
        {
          "data": {
            "application/vnd.jupyter.widget-view+json": {
              "model_id": "f143c25a13db45ef9c02aa416b5a0285",
              "version_major": 2,
              "version_minor": 0
            },
            "text/plain": [
              "  0%|          | 0/54 [00:00<?, ?it/s]"
            ]
          },
          "metadata": {},
          "output_type": "display_data"
        },
        {
          "name": "stdout",
          "output_type": "stream",
          "text": [
            "[ Valid | 242/300 ] loss = 7.97496, acc = 0.76764\n",
            "loss = loss_layers + (10 * lamb) * loss_logits = 1.99862 + 6.50711 * 0.91843\n"
          ]
        },
        {
          "data": {
            "application/vnd.jupyter.widget-view+json": {
              "model_id": "93b8775ce7b44727b6117e6bc77eea55",
              "version_major": 2,
              "version_minor": 0
            },
            "text/plain": [
              "  0%|          | 0/155 [00:00<?, ?it/s]"
            ]
          },
          "metadata": {},
          "output_type": "display_data"
        },
        {
          "name": "stdout",
          "output_type": "stream",
          "text": [
            "[ Train | 243/300 ] loss = 6.35713, acc = 0.83012\n",
            "loss = loss_layers + (10 * lamb) * loss_logits = 2.16908 + 6.56100 * 0.63833\n"
          ]
        },
        {
          "data": {
            "application/vnd.jupyter.widget-view+json": {
              "model_id": "75276d9e96044a31b685fbbc17c67bda",
              "version_major": 2,
              "version_minor": 0
            },
            "text/plain": [
              "  0%|          | 0/54 [00:00<?, ?it/s]"
            ]
          },
          "metadata": {},
          "output_type": "display_data"
        },
        {
          "name": "stdout",
          "output_type": "stream",
          "text": [
            "[ Valid | 243/300 ] loss = 8.15034, acc = 0.76414\n",
            "loss = loss_layers + (10 * lamb) * loss_logits = 1.99888 + 6.56100 * 0.93758\n"
          ]
        },
        {
          "data": {
            "application/vnd.jupyter.widget-view+json": {
              "model_id": "900f78e56b184fa4ae1f2c994e82dc37",
              "version_major": 2,
              "version_minor": 0
            },
            "text/plain": [
              "  0%|          | 0/155 [00:00<?, ?it/s]"
            ]
          },
          "metadata": {},
          "output_type": "display_data"
        },
        {
          "name": "stdout",
          "output_type": "stream",
          "text": [
            "[ Train | 244/300 ] loss = 6.43222, acc = 0.82678\n",
            "loss = loss_layers + (10 * lamb) * loss_logits = 2.17330 + 6.61511 * 0.64382\n"
          ]
        },
        {
          "data": {
            "application/vnd.jupyter.widget-view+json": {
              "model_id": "59213f6ae6724a26ae720d1154d15400",
              "version_major": 2,
              "version_minor": 0
            },
            "text/plain": [
              "  0%|          | 0/54 [00:00<?, ?it/s]"
            ]
          },
          "metadata": {},
          "output_type": "display_data"
        },
        {
          "name": "stdout",
          "output_type": "stream",
          "text": [
            "[ Valid | 244/300 ] loss = 7.83752, acc = 0.77813\n",
            "loss = loss_layers + (10 * lamb) * loss_logits = 1.99955 + 6.61511 * 0.88252\n"
          ]
        },
        {
          "data": {
            "application/vnd.jupyter.widget-view+json": {
              "model_id": "a06b29cca9874aa7b9f0e64cbc2cb1b1",
              "version_major": 2,
              "version_minor": 0
            },
            "text/plain": [
              "  0%|          | 0/155 [00:00<?, ?it/s]"
            ]
          },
          "metadata": {},
          "output_type": "display_data"
        },
        {
          "name": "stdout",
          "output_type": "stream",
          "text": [
            "[ Train | 245/300 ] loss = 6.41606, acc = 0.82881\n",
            "loss = loss_layers + (10 * lamb) * loss_logits = 2.17115 + 6.66944 * 0.63647\n"
          ]
        },
        {
          "data": {
            "application/vnd.jupyter.widget-view+json": {
              "model_id": "af0903aa59ff4dac827388006ba948d5",
              "version_major": 2,
              "version_minor": 0
            },
            "text/plain": [
              "  0%|          | 0/54 [00:00<?, ?it/s]"
            ]
          },
          "metadata": {},
          "output_type": "display_data"
        },
        {
          "name": "stdout",
          "output_type": "stream",
          "text": [
            "[ Valid | 245/300 ] loss = 8.33826, acc = 0.76356\n",
            "loss = loss_layers + (10 * lamb) * loss_logits = 2.00147 + 6.66944 * 0.95012\n"
          ]
        },
        {
          "data": {
            "application/vnd.jupyter.widget-view+json": {
              "model_id": "edfa8e899c844d59885cfb9b7ca0abf4",
              "version_major": 2,
              "version_minor": 0
            },
            "text/plain": [
              "  0%|          | 0/155 [00:00<?, ?it/s]"
            ]
          },
          "metadata": {},
          "output_type": "display_data"
        },
        {
          "name": "stdout",
          "output_type": "stream",
          "text": [
            "[ Train | 246/300 ] loss = 6.37360, acc = 0.83377\n",
            "loss = loss_layers + (10 * lamb) * loss_logits = 2.17149 + 6.72400 * 0.62494\n"
          ]
        },
        {
          "data": {
            "application/vnd.jupyter.widget-view+json": {
              "model_id": "e36bc13ab98e407db0a0d3bf4c045305",
              "version_major": 2,
              "version_minor": 0
            },
            "text/plain": [
              "  0%|          | 0/54 [00:00<?, ?it/s]"
            ]
          },
          "metadata": {},
          "output_type": "display_data"
        },
        {
          "name": "stdout",
          "output_type": "stream",
          "text": [
            "[ Valid | 246/300 ] loss = 8.49571, acc = 0.75918\n",
            "loss = loss_layers + (10 * lamb) * loss_logits = 2.00289 + 6.72400 * 0.96562\n"
          ]
        },
        {
          "data": {
            "application/vnd.jupyter.widget-view+json": {
              "model_id": "f2bb44e1dca54b9f9c2005d669704750",
              "version_major": 2,
              "version_minor": 0
            },
            "text/plain": [
              "  0%|          | 0/155 [00:00<?, ?it/s]"
            ]
          },
          "metadata": {},
          "output_type": "display_data"
        },
        {
          "name": "stdout",
          "output_type": "stream",
          "text": [
            "[ Train | 247/300 ] loss = 6.44776, acc = 0.83570\n",
            "loss = loss_layers + (10 * lamb) * loss_logits = 2.17432 + 6.77878 * 0.63042\n"
          ]
        },
        {
          "data": {
            "application/vnd.jupyter.widget-view+json": {
              "model_id": "d69991c518a14eee9e8fc79fc3f04a7a",
              "version_major": 2,
              "version_minor": 0
            },
            "text/plain": [
              "  0%|          | 0/54 [00:00<?, ?it/s]"
            ]
          },
          "metadata": {},
          "output_type": "display_data"
        },
        {
          "name": "stdout",
          "output_type": "stream",
          "text": [
            "[ Valid | 247/300 ] loss = 8.02568, acc = 0.77114\n",
            "loss = loss_layers + (10 * lamb) * loss_logits = 1.99952 + 6.77878 * 0.88897\n"
          ]
        },
        {
          "data": {
            "application/vnd.jupyter.widget-view+json": {
              "model_id": "4f5b950dd14d46cfbf5a21fed208fe4b",
              "version_major": 2,
              "version_minor": 0
            },
            "text/plain": [
              "  0%|          | 0/155 [00:00<?, ?it/s]"
            ]
          },
          "metadata": {},
          "output_type": "display_data"
        },
        {
          "name": "stdout",
          "output_type": "stream",
          "text": [
            "[ Train | 248/300 ] loss = 6.52570, acc = 0.83306\n",
            "loss = loss_layers + (10 * lamb) * loss_logits = 2.17649 + 6.83378 * 0.63643\n"
          ]
        },
        {
          "data": {
            "application/vnd.jupyter.widget-view+json": {
              "model_id": "3984f6ea17214981ad10853b553beeb6",
              "version_major": 2,
              "version_minor": 0
            },
            "text/plain": [
              "  0%|          | 0/54 [00:00<?, ?it/s]"
            ]
          },
          "metadata": {},
          "output_type": "display_data"
        },
        {
          "name": "stdout",
          "output_type": "stream",
          "text": [
            "[ Valid | 248/300 ] loss = 8.34092, acc = 0.76531\n",
            "loss = loss_layers + (10 * lamb) * loss_logits = 2.00172 + 6.83378 * 0.92763\n"
          ]
        },
        {
          "data": {
            "application/vnd.jupyter.widget-view+json": {
              "model_id": "c5b981829f2d47f2934878191d2492c7",
              "version_major": 2,
              "version_minor": 0
            },
            "text/plain": [
              "  0%|          | 0/155 [00:00<?, ?it/s]"
            ]
          },
          "metadata": {},
          "output_type": "display_data"
        },
        {
          "name": "stdout",
          "output_type": "stream",
          "text": [
            "[ Train | 249/300 ] loss = 6.49460, acc = 0.83164\n",
            "loss = loss_layers + (10 * lamb) * loss_logits = 2.17818 + 6.88900 * 0.62657\n"
          ]
        },
        {
          "data": {
            "application/vnd.jupyter.widget-view+json": {
              "model_id": "4296ae11aa344bd3986acbace53664ce",
              "version_major": 2,
              "version_minor": 0
            },
            "text/plain": [
              "  0%|          | 0/54 [00:00<?, ?it/s]"
            ]
          },
          "metadata": {},
          "output_type": "display_data"
        },
        {
          "name": "stdout",
          "output_type": "stream",
          "text": [
            "[ Valid | 249/300 ] loss = 8.66598, acc = 0.75510\n",
            "loss = loss_layers + (10 * lamb) * loss_logits = 2.00677 + 6.88900 * 0.96664\n"
          ]
        },
        {
          "data": {
            "application/vnd.jupyter.widget-view+json": {
              "model_id": "3316a0df4cd5495b898d1d984472c475",
              "version_major": 2,
              "version_minor": 0
            },
            "text/plain": [
              "  0%|          | 0/155 [00:00<?, ?it/s]"
            ]
          },
          "metadata": {},
          "output_type": "display_data"
        },
        {
          "name": "stdout",
          "output_type": "stream",
          "text": [
            "[ Train | 250/300 ] loss = 6.44220, acc = 0.83732\n",
            "loss = loss_layers + (10 * lamb) * loss_logits = 2.18134 + 6.94444 * 0.61356\n"
          ]
        },
        {
          "data": {
            "application/vnd.jupyter.widget-view+json": {
              "model_id": "06ce703e062f40378f4fdb5f6e591c74",
              "version_major": 2,
              "version_minor": 0
            },
            "text/plain": [
              "  0%|          | 0/54 [00:00<?, ?it/s]"
            ]
          },
          "metadata": {},
          "output_type": "display_data"
        },
        {
          "name": "stdout",
          "output_type": "stream",
          "text": [
            "[ Valid | 250/300 ] loss = 8.35614, acc = 0.76531\n",
            "loss = loss_layers + (10 * lamb) * loss_logits = 2.00460 + 6.94444 * 0.91462\n"
          ]
        },
        {
          "data": {
            "application/vnd.jupyter.widget-view+json": {
              "model_id": "3ee5e886b9604afc8d6059bfff6ab4a0",
              "version_major": 2,
              "version_minor": 0
            },
            "text/plain": [
              "  0%|          | 0/155 [00:00<?, ?it/s]"
            ]
          },
          "metadata": {},
          "output_type": "display_data"
        },
        {
          "name": "stdout",
          "output_type": "stream",
          "text": [
            "[ Train | 251/300 ] loss = 6.44060, acc = 0.83762\n",
            "loss = loss_layers + (10 * lamb) * loss_logits = 2.17849 + 7.00011 * 0.60886\n"
          ]
        },
        {
          "data": {
            "application/vnd.jupyter.widget-view+json": {
              "model_id": "de773a2d6de344d38cb1c5378f25a56c",
              "version_major": 2,
              "version_minor": 0
            },
            "text/plain": [
              "  0%|          | 0/54 [00:00<?, ?it/s]"
            ]
          },
          "metadata": {},
          "output_type": "display_data"
        },
        {
          "name": "stdout",
          "output_type": "stream",
          "text": [
            "[ Valid | 251/300 ] loss = 8.94441, acc = 0.74665\n",
            "loss = loss_layers + (10 * lamb) * loss_logits = 2.00602 + 7.00011 * 0.99118\n"
          ]
        },
        {
          "data": {
            "application/vnd.jupyter.widget-view+json": {
              "model_id": "12d8beca25574e398a3a413d64f1edc4",
              "version_major": 2,
              "version_minor": 0
            },
            "text/plain": [
              "  0%|          | 0/155 [00:00<?, ?it/s]"
            ]
          },
          "metadata": {},
          "output_type": "display_data"
        },
        {
          "name": "stdout",
          "output_type": "stream",
          "text": [
            "[ Train | 252/300 ] loss = 6.49580, acc = 0.83621\n",
            "loss = loss_layers + (10 * lamb) * loss_logits = 2.18244 + 7.05600 * 0.61130\n"
          ]
        },
        {
          "data": {
            "application/vnd.jupyter.widget-view+json": {
              "model_id": "1862f46fea164e31922ae1e94b5e30a5",
              "version_major": 2,
              "version_minor": 0
            },
            "text/plain": [
              "  0%|          | 0/54 [00:00<?, ?it/s]"
            ]
          },
          "metadata": {},
          "output_type": "display_data"
        },
        {
          "name": "stdout",
          "output_type": "stream",
          "text": [
            "[ Valid | 252/300 ] loss = 8.62622, acc = 0.76006\n",
            "loss = loss_layers + (10 * lamb) * loss_logits = 2.00873 + 7.05600 * 0.93785\n"
          ]
        },
        {
          "data": {
            "application/vnd.jupyter.widget-view+json": {
              "model_id": "2969392da93d479088203f4d63de11f7",
              "version_major": 2,
              "version_minor": 0
            },
            "text/plain": [
              "  0%|          | 0/155 [00:00<?, ?it/s]"
            ]
          },
          "metadata": {},
          "output_type": "display_data"
        },
        {
          "name": "stdout",
          "output_type": "stream",
          "text": [
            "[ Train | 253/300 ] loss = 6.57368, acc = 0.83945\n",
            "loss = loss_layers + (10 * lamb) * loss_logits = 2.18124 + 7.11211 * 0.61760\n"
          ]
        },
        {
          "data": {
            "application/vnd.jupyter.widget-view+json": {
              "model_id": "dbcf1369467140b8a7f450cef5a1f498",
              "version_major": 2,
              "version_minor": 0
            },
            "text/plain": [
              "  0%|          | 0/54 [00:00<?, ?it/s]"
            ]
          },
          "metadata": {},
          "output_type": "display_data"
        },
        {
          "name": "stdout",
          "output_type": "stream",
          "text": [
            "[ Valid | 253/300 ] loss = 8.14160, acc = 0.77784\n",
            "loss = loss_layers + (10 * lamb) * loss_logits = 2.01026 + 7.11211 * 0.86210\n"
          ]
        },
        {
          "data": {
            "application/vnd.jupyter.widget-view+json": {
              "model_id": "0317d86c8ad04cb79d47971eecdfb8e5",
              "version_major": 2,
              "version_minor": 0
            },
            "text/plain": [
              "  0%|          | 0/155 [00:00<?, ?it/s]"
            ]
          },
          "metadata": {},
          "output_type": "display_data"
        },
        {
          "name": "stdout",
          "output_type": "stream",
          "text": [
            "[ Train | 254/300 ] loss = 6.56117, acc = 0.83904\n",
            "loss = loss_layers + (10 * lamb) * loss_logits = 2.18277 + 7.16844 * 0.61079\n"
          ]
        },
        {
          "data": {
            "application/vnd.jupyter.widget-view+json": {
              "model_id": "9db60e8d9d91409993651a653dba5906",
              "version_major": 2,
              "version_minor": 0
            },
            "text/plain": [
              "  0%|          | 0/54 [00:00<?, ?it/s]"
            ]
          },
          "metadata": {},
          "output_type": "display_data"
        },
        {
          "name": "stdout",
          "output_type": "stream",
          "text": [
            "[ Valid | 254/300 ] loss = 9.13656, acc = 0.74781\n",
            "loss = loss_layers + (10 * lamb) * loss_logits = 2.00981 + 7.16844 * 0.99418\n"
          ]
        },
        {
          "data": {
            "application/vnd.jupyter.widget-view+json": {
              "model_id": "cfdf49cd506248afa2ec2d78cf9efd8b",
              "version_major": 2,
              "version_minor": 0
            },
            "text/plain": [
              "  0%|          | 0/155 [00:00<?, ?it/s]"
            ]
          },
          "metadata": {},
          "output_type": "display_data"
        },
        {
          "name": "stdout",
          "output_type": "stream",
          "text": [
            "[ Train | 255/300 ] loss = 6.57404, acc = 0.83489\n",
            "loss = loss_layers + (10 * lamb) * loss_logits = 2.18425 + 7.22500 * 0.60758\n"
          ]
        },
        {
          "data": {
            "application/vnd.jupyter.widget-view+json": {
              "model_id": "9170e4f649a642a69324b76871eba6b8",
              "version_major": 2,
              "version_minor": 0
            },
            "text/plain": [
              "  0%|          | 0/54 [00:00<?, ?it/s]"
            ]
          },
          "metadata": {},
          "output_type": "display_data"
        },
        {
          "name": "stdout",
          "output_type": "stream",
          "text": [
            "[ Valid | 255/300 ] loss = 8.78644, acc = 0.75860\n",
            "loss = loss_layers + (10 * lamb) * loss_logits = 2.01137 + 7.22500 * 0.93773\n"
          ]
        },
        {
          "data": {
            "application/vnd.jupyter.widget-view+json": {
              "model_id": "f82310cd925f4b05bde374e728889876",
              "version_major": 2,
              "version_minor": 0
            },
            "text/plain": [
              "  0%|          | 0/155 [00:00<?, ?it/s]"
            ]
          },
          "metadata": {},
          "output_type": "display_data"
        },
        {
          "name": "stdout",
          "output_type": "stream",
          "text": [
            "[ Train | 256/300 ] loss = 6.54155, acc = 0.84340\n",
            "loss = loss_layers + (10 * lamb) * loss_logits = 2.18844 + 7.28178 * 0.59781\n"
          ]
        },
        {
          "data": {
            "application/vnd.jupyter.widget-view+json": {
              "model_id": "d56f1cfa76dd4d85a799d84c02afe6a8",
              "version_major": 2,
              "version_minor": 0
            },
            "text/plain": [
              "  0%|          | 0/54 [00:00<?, ?it/s]"
            ]
          },
          "metadata": {},
          "output_type": "display_data"
        },
        {
          "name": "stdout",
          "output_type": "stream",
          "text": [
            "[ Valid | 256/300 ] loss = 8.91491, acc = 0.76385\n",
            "loss = loss_layers + (10 * lamb) * loss_logits = 2.01181 + 7.28178 * 0.94800\n"
          ]
        },
        {
          "data": {
            "application/vnd.jupyter.widget-view+json": {
              "model_id": "aebd22e9d0864a30a7ea1bc64496204e",
              "version_major": 2,
              "version_minor": 0
            },
            "text/plain": [
              "  0%|          | 0/155 [00:00<?, ?it/s]"
            ]
          },
          "metadata": {},
          "output_type": "display_data"
        },
        {
          "name": "stdout",
          "output_type": "stream",
          "text": [
            "[ Train | 257/300 ] loss = 6.54598, acc = 0.84117\n",
            "loss = loss_layers + (10 * lamb) * loss_logits = 2.18884 + 7.33878 * 0.59372\n"
          ]
        },
        {
          "data": {
            "application/vnd.jupyter.widget-view+json": {
              "model_id": "2ac41bfe31c94590a514ae70e8b31c03",
              "version_major": 2,
              "version_minor": 0
            },
            "text/plain": [
              "  0%|          | 0/54 [00:00<?, ?it/s]"
            ]
          },
          "metadata": {},
          "output_type": "display_data"
        },
        {
          "name": "stdout",
          "output_type": "stream",
          "text": [
            "[ Valid | 257/300 ] loss = 9.29307, acc = 0.74373\n",
            "loss = loss_layers + (10 * lamb) * loss_logits = 2.01306 + 7.33878 * 0.99199\n"
          ]
        },
        {
          "data": {
            "application/vnd.jupyter.widget-view+json": {
              "model_id": "33c6eacebb07400da4d6924b782c3d26",
              "version_major": 2,
              "version_minor": 0
            },
            "text/plain": [
              "  0%|          | 0/155 [00:00<?, ?it/s]"
            ]
          },
          "metadata": {},
          "output_type": "display_data"
        },
        {
          "name": "stdout",
          "output_type": "stream",
          "text": [
            "[ Train | 258/300 ] loss = 6.62293, acc = 0.83631\n",
            "loss = loss_layers + (10 * lamb) * loss_logits = 2.18754 + 7.39600 * 0.59970\n"
          ]
        },
        {
          "data": {
            "application/vnd.jupyter.widget-view+json": {
              "model_id": "290c4c1008554d0f85c8920b390174cf",
              "version_major": 2,
              "version_minor": 0
            },
            "text/plain": [
              "  0%|          | 0/54 [00:00<?, ?it/s]"
            ]
          },
          "metadata": {},
          "output_type": "display_data"
        },
        {
          "name": "stdout",
          "output_type": "stream",
          "text": [
            "[ Valid | 258/300 ] loss = 9.18945, acc = 0.75773\n",
            "loss = loss_layers + (10 * lamb) * loss_logits = 2.01522 + 7.39600 * 0.97002\n"
          ]
        },
        {
          "data": {
            "application/vnd.jupyter.widget-view+json": {
              "model_id": "52297adf710944ea9ca176a481feb74c",
              "version_major": 2,
              "version_minor": 0
            },
            "text/plain": [
              "  0%|          | 0/155 [00:00<?, ?it/s]"
            ]
          },
          "metadata": {},
          "output_type": "display_data"
        },
        {
          "name": "stdout",
          "output_type": "stream",
          "text": [
            "[ Train | 259/300 ] loss = 6.54556, acc = 0.84320\n",
            "loss = loss_layers + (10 * lamb) * loss_logits = 2.19285 + 7.45344 * 0.58399\n"
          ]
        },
        {
          "data": {
            "application/vnd.jupyter.widget-view+json": {
              "model_id": "ae412cca675946d78e05604a76578a62",
              "version_major": 2,
              "version_minor": 0
            },
            "text/plain": [
              "  0%|          | 0/54 [00:00<?, ?it/s]"
            ]
          },
          "metadata": {},
          "output_type": "display_data"
        },
        {
          "name": "stdout",
          "output_type": "stream",
          "text": [
            "[ Valid | 259/300 ] loss = 9.03980, acc = 0.75802\n",
            "loss = loss_layers + (10 * lamb) * loss_logits = 2.02002 + 7.45344 * 0.94182\n"
          ]
        },
        {
          "data": {
            "application/vnd.jupyter.widget-view+json": {
              "model_id": "7b9cca5876a84f67ac30ff29a7ba764b",
              "version_major": 2,
              "version_minor": 0
            },
            "text/plain": [
              "  0%|          | 0/155 [00:00<?, ?it/s]"
            ]
          },
          "metadata": {},
          "output_type": "display_data"
        },
        {
          "name": "stdout",
          "output_type": "stream",
          "text": [
            "[ Train | 260/300 ] loss = 6.55975, acc = 0.84208\n",
            "loss = loss_layers + (10 * lamb) * loss_logits = 2.19073 + 7.51111 * 0.58167\n"
          ]
        },
        {
          "data": {
            "application/vnd.jupyter.widget-view+json": {
              "model_id": "192a65bd1074405dbfeea31f32d0e52c",
              "version_major": 2,
              "version_minor": 0
            },
            "text/plain": [
              "  0%|          | 0/54 [00:00<?, ?it/s]"
            ]
          },
          "metadata": {},
          "output_type": "display_data"
        },
        {
          "name": "stdout",
          "output_type": "stream",
          "text": [
            "[ Valid | 260/300 ] loss = 8.75779, acc = 0.76443\n",
            "loss = loss_layers + (10 * lamb) * loss_logits = 2.01862 + 7.51111 * 0.89723\n"
          ]
        },
        {
          "data": {
            "application/vnd.jupyter.widget-view+json": {
              "model_id": "b9252bee0ebf43959eb15ddea8f34dbb",
              "version_major": 2,
              "version_minor": 0
            },
            "text/plain": [
              "  0%|          | 0/155 [00:00<?, ?it/s]"
            ]
          },
          "metadata": {},
          "output_type": "display_data"
        },
        {
          "name": "stdout",
          "output_type": "stream",
          "text": [
            "[ Train | 261/300 ] loss = 6.50865, acc = 0.84462\n",
            "loss = loss_layers + (10 * lamb) * loss_logits = 2.19030 + 7.56900 * 0.57053\n"
          ]
        },
        {
          "data": {
            "application/vnd.jupyter.widget-view+json": {
              "model_id": "fad90cdf8207425fb4550500bcf0551f",
              "version_major": 2,
              "version_minor": 0
            },
            "text/plain": [
              "  0%|          | 0/54 [00:00<?, ?it/s]"
            ]
          },
          "metadata": {},
          "output_type": "display_data"
        },
        {
          "name": "stdout",
          "output_type": "stream",
          "text": [
            "[ Valid | 261/300 ] loss = 9.90427, acc = 0.73848\n",
            "loss = loss_layers + (10 * lamb) * loss_logits = 2.02145 + 7.56900 * 1.04146\n"
          ]
        },
        {
          "data": {
            "application/vnd.jupyter.widget-view+json": {
              "model_id": "4fd60f7d467644ca916960ae3a6a5e1e",
              "version_major": 2,
              "version_minor": 0
            },
            "text/plain": [
              "  0%|          | 0/155 [00:00<?, ?it/s]"
            ]
          },
          "metadata": {},
          "output_type": "display_data"
        },
        {
          "name": "stdout",
          "output_type": "stream",
          "text": [
            "[ Train | 262/300 ] loss = 6.58818, acc = 0.84472\n",
            "loss = loss_layers + (10 * lamb) * loss_logits = 2.19101 + 7.62711 * 0.57652\n"
          ]
        },
        {
          "data": {
            "application/vnd.jupyter.widget-view+json": {
              "model_id": "cadb3790b8d549a9a86821dd5f64a451",
              "version_major": 2,
              "version_minor": 0
            },
            "text/plain": [
              "  0%|          | 0/54 [00:00<?, ?it/s]"
            ]
          },
          "metadata": {},
          "output_type": "display_data"
        },
        {
          "name": "stdout",
          "output_type": "stream",
          "text": [
            "[ Valid | 262/300 ] loss = 8.85814, acc = 0.76676\n",
            "loss = loss_layers + (10 * lamb) * loss_logits = 2.01905 + 7.62711 * 0.89668\n"
          ]
        },
        {
          "data": {
            "application/vnd.jupyter.widget-view+json": {
              "model_id": "6c46a24c54f6445a83c157d3a5e82bb5",
              "version_major": 2,
              "version_minor": 0
            },
            "text/plain": [
              "  0%|          | 0/155 [00:00<?, ?it/s]"
            ]
          },
          "metadata": {},
          "output_type": "display_data"
        },
        {
          "name": "stdout",
          "output_type": "stream",
          "text": [
            "[ Train | 263/300 ] loss = 6.58237, acc = 0.84229\n",
            "loss = loss_layers + (10 * lamb) * loss_logits = 2.19475 + 7.68544 * 0.57090\n"
          ]
        },
        {
          "data": {
            "application/vnd.jupyter.widget-view+json": {
              "model_id": "992456f1bc9147358f3a60dcf5c05764",
              "version_major": 2,
              "version_minor": 0
            },
            "text/plain": [
              "  0%|          | 0/54 [00:00<?, ?it/s]"
            ]
          },
          "metadata": {},
          "output_type": "display_data"
        },
        {
          "name": "stdout",
          "output_type": "stream",
          "text": [
            "[ Valid | 263/300 ] loss = 9.30667, acc = 0.74606\n",
            "loss = loss_layers + (10 * lamb) * loss_logits = 2.01968 + 7.68544 * 0.94815\n"
          ]
        },
        {
          "data": {
            "application/vnd.jupyter.widget-view+json": {
              "model_id": "b4649c112bad40dda859277455c6043d",
              "version_major": 2,
              "version_minor": 0
            },
            "text/plain": [
              "  0%|          | 0/155 [00:00<?, ?it/s]"
            ]
          },
          "metadata": {},
          "output_type": "display_data"
        },
        {
          "name": "stdout",
          "output_type": "stream",
          "text": [
            "[ Train | 264/300 ] loss = 6.63210, acc = 0.83904\n",
            "loss = loss_layers + (10 * lamb) * loss_logits = 2.19459 + 7.74400 * 0.57302\n"
          ]
        },
        {
          "data": {
            "application/vnd.jupyter.widget-view+json": {
              "model_id": "67430d747fe74c31a6c9f36bf87ac51f",
              "version_major": 2,
              "version_minor": 0
            },
            "text/plain": [
              "  0%|          | 0/54 [00:00<?, ?it/s]"
            ]
          },
          "metadata": {},
          "output_type": "display_data"
        },
        {
          "name": "stdout",
          "output_type": "stream",
          "text": [
            "[ Valid | 264/300 ] loss = 9.07430, acc = 0.76210\n",
            "loss = loss_layers + (10 * lamb) * loss_logits = 2.02167 + 7.74400 * 0.91072\n"
          ]
        },
        {
          "data": {
            "application/vnd.jupyter.widget-view+json": {
              "model_id": "b1a009c255a246cd9de67f53ceee90f7",
              "version_major": 2,
              "version_minor": 0
            },
            "text/plain": [
              "  0%|          | 0/155 [00:00<?, ?it/s]"
            ]
          },
          "metadata": {},
          "output_type": "display_data"
        },
        {
          "name": "stdout",
          "output_type": "stream",
          "text": [
            "[ Train | 265/300 ] loss = 6.60991, acc = 0.84563\n",
            "loss = loss_layers + (10 * lamb) * loss_logits = 2.19658 + 7.80278 * 0.56561\n"
          ]
        },
        {
          "data": {
            "application/vnd.jupyter.widget-view+json": {
              "model_id": "be68bb66a3d74fb3af8533f2187e0581",
              "version_major": 2,
              "version_minor": 0
            },
            "text/plain": [
              "  0%|          | 0/54 [00:00<?, ?it/s]"
            ]
          },
          "metadata": {},
          "output_type": "display_data"
        },
        {
          "name": "stdout",
          "output_type": "stream",
          "text": [
            "[ Valid | 265/300 ] loss = 9.29362, acc = 0.76122\n",
            "loss = loss_layers + (10 * lamb) * loss_logits = 2.02378 + 7.80278 * 0.93170\n"
          ]
        },
        {
          "data": {
            "application/vnd.jupyter.widget-view+json": {
              "model_id": "fef2fc45b5264990bc048c58c8bb7c1c",
              "version_major": 2,
              "version_minor": 0
            },
            "text/plain": [
              "  0%|          | 0/155 [00:00<?, ?it/s]"
            ]
          },
          "metadata": {},
          "output_type": "display_data"
        },
        {
          "name": "stdout",
          "output_type": "stream",
          "text": [
            "[ Train | 266/300 ] loss = 6.67678, acc = 0.84097\n",
            "loss = loss_layers + (10 * lamb) * loss_logits = 2.20356 + 7.86178 * 0.56898\n"
          ]
        },
        {
          "data": {
            "application/vnd.jupyter.widget-view+json": {
              "model_id": "a8cd5fbe72fb45858a827c25533ab474",
              "version_major": 2,
              "version_minor": 0
            },
            "text/plain": [
              "  0%|          | 0/54 [00:00<?, ?it/s]"
            ]
          },
          "metadata": {},
          "output_type": "display_data"
        },
        {
          "name": "stdout",
          "output_type": "stream",
          "text": [
            "[ Valid | 266/300 ] loss = 9.34222, acc = 0.75918\n",
            "loss = loss_layers + (10 * lamb) * loss_logits = 2.02778 + 7.86178 * 0.93038\n"
          ]
        },
        {
          "data": {
            "application/vnd.jupyter.widget-view+json": {
              "model_id": "75b5a39abf3a4088a06a5ad9e12f56e5",
              "version_major": 2,
              "version_minor": 0
            },
            "text/plain": [
              "  0%|          | 0/155 [00:00<?, ?it/s]"
            ]
          },
          "metadata": {},
          "output_type": "display_data"
        },
        {
          "name": "stdout",
          "output_type": "stream",
          "text": [
            "[ Train | 267/300 ] loss = 6.70015, acc = 0.83975\n",
            "loss = loss_layers + (10 * lamb) * loss_logits = 2.19966 + 7.92100 * 0.56817\n"
          ]
        },
        {
          "data": {
            "application/vnd.jupyter.widget-view+json": {
              "model_id": "2af126eff3284df5a0a30576fedc3e1a",
              "version_major": 2,
              "version_minor": 0
            },
            "text/plain": [
              "  0%|          | 0/54 [00:00<?, ?it/s]"
            ]
          },
          "metadata": {},
          "output_type": "display_data"
        },
        {
          "name": "stdout",
          "output_type": "stream",
          "text": [
            "[ Valid | 267/300 ] loss = 9.00594, acc = 0.76997\n",
            "loss = loss_layers + (10 * lamb) * loss_logits = 2.02578 + 7.92100 * 0.88122\n"
          ]
        },
        {
          "data": {
            "application/vnd.jupyter.widget-view+json": {
              "model_id": "7889f849bd80453089492f881f6decb1",
              "version_major": 2,
              "version_minor": 0
            },
            "text/plain": [
              "  0%|          | 0/155 [00:00<?, ?it/s]"
            ]
          },
          "metadata": {},
          "output_type": "display_data"
        },
        {
          "name": "stdout",
          "output_type": "stream",
          "text": [
            "[ Train | 268/300 ] loss = 6.78268, acc = 0.84421\n",
            "loss = loss_layers + (10 * lamb) * loss_logits = 2.20117 + 7.98044 * 0.57409\n"
          ]
        },
        {
          "data": {
            "application/vnd.jupyter.widget-view+json": {
              "model_id": "11e7762f5a19466384f2327796ebd5d9",
              "version_major": 2,
              "version_minor": 0
            },
            "text/plain": [
              "  0%|          | 0/54 [00:00<?, ?it/s]"
            ]
          },
          "metadata": {},
          "output_type": "display_data"
        },
        {
          "name": "stdout",
          "output_type": "stream",
          "text": [
            "[ Valid | 268/300 ] loss = 9.05039, acc = 0.77114\n",
            "loss = loss_layers + (10 * lamb) * loss_logits = 2.02460 + 7.98044 * 0.88038\n"
          ]
        },
        {
          "data": {
            "application/vnd.jupyter.widget-view+json": {
              "model_id": "8f325b19386341ae99ab9d7d485fc1f9",
              "version_major": 2,
              "version_minor": 0
            },
            "text/plain": [
              "  0%|          | 0/155 [00:00<?, ?it/s]"
            ]
          },
          "metadata": {},
          "output_type": "display_data"
        },
        {
          "name": "stdout",
          "output_type": "stream",
          "text": [
            "[ Train | 269/300 ] loss = 6.69212, acc = 0.84391\n",
            "loss = loss_layers + (10 * lamb) * loss_logits = 2.20248 + 8.04011 * 0.55840\n"
          ]
        },
        {
          "data": {
            "application/vnd.jupyter.widget-view+json": {
              "model_id": "28e30a807ee04b84bf0866189a966137",
              "version_major": 2,
              "version_minor": 0
            },
            "text/plain": [
              "  0%|          | 0/54 [00:00<?, ?it/s]"
            ]
          },
          "metadata": {},
          "output_type": "display_data"
        },
        {
          "name": "stdout",
          "output_type": "stream",
          "text": [
            "[ Valid | 269/300 ] loss = 9.34240, acc = 0.76880\n",
            "loss = loss_layers + (10 * lamb) * loss_logits = 2.02994 + 8.04011 * 0.90950\n"
          ]
        },
        {
          "data": {
            "application/vnd.jupyter.widget-view+json": {
              "model_id": "a71b2ab2633c456a81d28b11e480fc7c",
              "version_major": 2,
              "version_minor": 0
            },
            "text/plain": [
              "  0%|          | 0/155 [00:00<?, ?it/s]"
            ]
          },
          "metadata": {},
          "output_type": "display_data"
        },
        {
          "name": "stdout",
          "output_type": "stream",
          "text": [
            "[ Train | 270/300 ] loss = 6.64679, acc = 0.84543\n",
            "loss = loss_layers + (10 * lamb) * loss_logits = 2.20171 + 8.10000 * 0.54877\n"
          ]
        },
        {
          "data": {
            "application/vnd.jupyter.widget-view+json": {
              "model_id": "a463a23dddf64727b81394344ab17e66",
              "version_major": 2,
              "version_minor": 0
            },
            "text/plain": [
              "  0%|          | 0/54 [00:00<?, ?it/s]"
            ]
          },
          "metadata": {},
          "output_type": "display_data"
        },
        {
          "name": "stdout",
          "output_type": "stream",
          "text": [
            "[ Valid | 270/300 ] loss = 9.33001, acc = 0.76472\n",
            "loss = loss_layers + (10 * lamb) * loss_logits = 2.02819 + 8.10000 * 0.90146\n"
          ]
        },
        {
          "data": {
            "application/vnd.jupyter.widget-view+json": {
              "model_id": "472cb4513c204b3b9fd29abb15999c54",
              "version_major": 2,
              "version_minor": 0
            },
            "text/plain": [
              "  0%|          | 0/155 [00:00<?, ?it/s]"
            ]
          },
          "metadata": {},
          "output_type": "display_data"
        },
        {
          "name": "stdout",
          "output_type": "stream",
          "text": [
            "[ Train | 271/300 ] loss = 6.64541, acc = 0.84887\n",
            "loss = loss_layers + (10 * lamb) * loss_logits = 2.20716 + 8.16011 * 0.54390\n"
          ]
        },
        {
          "data": {
            "application/vnd.jupyter.widget-view+json": {
              "model_id": "55d05c770c004e2582ba14072090eb91",
              "version_major": 2,
              "version_minor": 0
            },
            "text/plain": [
              "  0%|          | 0/54 [00:00<?, ?it/s]"
            ]
          },
          "metadata": {},
          "output_type": "display_data"
        },
        {
          "name": "stdout",
          "output_type": "stream",
          "text": [
            "[ Valid | 271/300 ] loss = 9.73279, acc = 0.76006\n",
            "loss = loss_layers + (10 * lamb) * loss_logits = 2.03056 + 8.16011 * 0.94389\n"
          ]
        },
        {
          "data": {
            "application/vnd.jupyter.widget-view+json": {
              "model_id": "c75eef3ac1364690bcf5ef1b2c92a5e6",
              "version_major": 2,
              "version_minor": 0
            },
            "text/plain": [
              "  0%|          | 0/155 [00:00<?, ?it/s]"
            ]
          },
          "metadata": {},
          "output_type": "display_data"
        },
        {
          "name": "stdout",
          "output_type": "stream",
          "text": [
            "[ Train | 272/300 ] loss = 6.61857, acc = 0.84979\n",
            "loss = loss_layers + (10 * lamb) * loss_logits = 2.20552 + 8.22044 * 0.53684\n"
          ]
        },
        {
          "data": {
            "application/vnd.jupyter.widget-view+json": {
              "model_id": "62e10576799a4c5bac986d2145a9fa98",
              "version_major": 2,
              "version_minor": 0
            },
            "text/plain": [
              "  0%|          | 0/54 [00:00<?, ?it/s]"
            ]
          },
          "metadata": {},
          "output_type": "display_data"
        },
        {
          "name": "stdout",
          "output_type": "stream",
          "text": [
            "[ Valid | 272/300 ] loss = 9.56995, acc = 0.76035\n",
            "loss = loss_layers + (10 * lamb) * loss_logits = 2.03259 + 8.22044 * 0.91690\n"
          ]
        },
        {
          "data": {
            "application/vnd.jupyter.widget-view+json": {
              "model_id": "0231842cef7d40d9a4b15952027535c6",
              "version_major": 2,
              "version_minor": 0
            },
            "text/plain": [
              "  0%|          | 0/155 [00:00<?, ?it/s]"
            ]
          },
          "metadata": {},
          "output_type": "display_data"
        },
        {
          "name": "stdout",
          "output_type": "stream",
          "text": [
            "[ Train | 273/300 ] loss = 6.63199, acc = 0.84857\n",
            "loss = loss_layers + (10 * lamb) * loss_logits = 2.20857 + 8.28100 * 0.53417\n"
          ]
        },
        {
          "data": {
            "application/vnd.jupyter.widget-view+json": {
              "model_id": "5da69c07a5c844b99f0ccebf450fae24",
              "version_major": 2,
              "version_minor": 0
            },
            "text/plain": [
              "  0%|          | 0/54 [00:00<?, ?it/s]"
            ]
          },
          "metadata": {},
          "output_type": "display_data"
        },
        {
          "name": "stdout",
          "output_type": "stream",
          "text": [
            "[ Valid | 273/300 ] loss = 9.55453, acc = 0.76414\n",
            "loss = loss_layers + (10 * lamb) * loss_logits = 2.03274 + 8.28100 * 0.90832\n"
          ]
        },
        {
          "data": {
            "application/vnd.jupyter.widget-view+json": {
              "model_id": "e261f994cb5b41cab2db4fd0e7c19fd6",
              "version_major": 2,
              "version_minor": 0
            },
            "text/plain": [
              "  0%|          | 0/155 [00:00<?, ?it/s]"
            ]
          },
          "metadata": {},
          "output_type": "display_data"
        },
        {
          "name": "stdout",
          "output_type": "stream",
          "text": [
            "[ Train | 274/300 ] loss = 6.65189, acc = 0.85202\n",
            "loss = loss_layers + (10 * lamb) * loss_logits = 2.21090 + 8.34178 * 0.53238\n"
          ]
        },
        {
          "data": {
            "application/vnd.jupyter.widget-view+json": {
              "model_id": "1e00a31790d641f3aa356f0086fbf4f9",
              "version_major": 2,
              "version_minor": 0
            },
            "text/plain": [
              "  0%|          | 0/54 [00:00<?, ?it/s]"
            ]
          },
          "metadata": {},
          "output_type": "display_data"
        },
        {
          "name": "stdout",
          "output_type": "stream",
          "text": [
            "[ Valid | 274/300 ] loss = 9.77087, acc = 0.76297\n",
            "loss = loss_layers + (10 * lamb) * loss_logits = 2.03194 + 8.34178 * 0.92773\n"
          ]
        },
        {
          "data": {
            "application/vnd.jupyter.widget-view+json": {
              "model_id": "ec3cf05eb20942eb94e7ba0b0b65bd06",
              "version_major": 2,
              "version_minor": 0
            },
            "text/plain": [
              "  0%|          | 0/155 [00:00<?, ?it/s]"
            ]
          },
          "metadata": {},
          "output_type": "display_data"
        },
        {
          "name": "stdout",
          "output_type": "stream",
          "text": [
            "[ Train | 275/300 ] loss = 6.73952, acc = 0.84320\n",
            "loss = loss_layers + (10 * lamb) * loss_logits = 2.21102 + 8.40278 * 0.53893\n"
          ]
        },
        {
          "data": {
            "application/vnd.jupyter.widget-view+json": {
              "model_id": "8c1366ccf44b47d9b1372848eab1b339",
              "version_major": 2,
              "version_minor": 0
            },
            "text/plain": [
              "  0%|          | 0/54 [00:00<?, ?it/s]"
            ]
          },
          "metadata": {},
          "output_type": "display_data"
        },
        {
          "name": "stdout",
          "output_type": "stream",
          "text": [
            "[ Valid | 275/300 ] loss = 9.49060, acc = 0.77347\n",
            "loss = loss_layers + (10 * lamb) * loss_logits = 2.03316 + 8.40278 * 0.88750\n"
          ]
        },
        {
          "data": {
            "application/vnd.jupyter.widget-view+json": {
              "model_id": "cebe05ce3f944cc1ab53666e891784dd",
              "version_major": 2,
              "version_minor": 0
            },
            "text/plain": [
              "  0%|          | 0/155 [00:00<?, ?it/s]"
            ]
          },
          "metadata": {},
          "output_type": "display_data"
        },
        {
          "name": "stdout",
          "output_type": "stream",
          "text": [
            "[ Train | 276/300 ] loss = 6.73645, acc = 0.84644\n",
            "loss = loss_layers + (10 * lamb) * loss_logits = 2.20812 + 8.46400 * 0.53501\n"
          ]
        },
        {
          "data": {
            "application/vnd.jupyter.widget-view+json": {
              "model_id": "c5f6a23b0a2b422fa4d12e17eb62efaf",
              "version_major": 2,
              "version_minor": 0
            },
            "text/plain": [
              "  0%|          | 0/54 [00:00<?, ?it/s]"
            ]
          },
          "metadata": {},
          "output_type": "display_data"
        },
        {
          "name": "stdout",
          "output_type": "stream",
          "text": [
            "[ Valid | 276/300 ] loss = 9.66186, acc = 0.76006\n",
            "loss = loss_layers + (10 * lamb) * loss_logits = 2.03632 + 8.46400 * 0.90094\n"
          ]
        },
        {
          "data": {
            "application/vnd.jupyter.widget-view+json": {
              "model_id": "e2a8d41ebecb48c48d8d348e2af2f1b0",
              "version_major": 2,
              "version_minor": 0
            },
            "text/plain": [
              "  0%|          | 0/155 [00:00<?, ?it/s]"
            ]
          },
          "metadata": {},
          "output_type": "display_data"
        },
        {
          "name": "stdout",
          "output_type": "stream",
          "text": [
            "[ Train | 277/300 ] loss = 6.68306, acc = 0.84786\n",
            "loss = loss_layers + (10 * lamb) * loss_logits = 2.21270 + 8.52544 * 0.52436\n"
          ]
        },
        {
          "data": {
            "application/vnd.jupyter.widget-view+json": {
              "model_id": "fb408c0607854a119e2512271e1c46ce",
              "version_major": 2,
              "version_minor": 0
            },
            "text/plain": [
              "  0%|          | 0/54 [00:00<?, ?it/s]"
            ]
          },
          "metadata": {},
          "output_type": "display_data"
        },
        {
          "name": "stdout",
          "output_type": "stream",
          "text": [
            "[ Valid | 277/300 ] loss = 9.84642, acc = 0.76793\n",
            "loss = loss_layers + (10 * lamb) * loss_logits = 2.03743 + 8.52544 * 0.91596\n"
          ]
        },
        {
          "data": {
            "application/vnd.jupyter.widget-view+json": {
              "model_id": "04c95ecd1f19411aa5f42c099ef026ec",
              "version_major": 2,
              "version_minor": 0
            },
            "text/plain": [
              "  0%|          | 0/155 [00:00<?, ?it/s]"
            ]
          },
          "metadata": {},
          "output_type": "display_data"
        },
        {
          "name": "stdout",
          "output_type": "stream",
          "text": [
            "[ Train | 278/300 ] loss = 6.68960, acc = 0.84776\n",
            "loss = loss_layers + (10 * lamb) * loss_logits = 2.20953 + 8.58711 * 0.52172\n"
          ]
        },
        {
          "data": {
            "application/vnd.jupyter.widget-view+json": {
              "model_id": "3a87993ee68c4df9a01b290f10d83f16",
              "version_major": 2,
              "version_minor": 0
            },
            "text/plain": [
              "  0%|          | 0/54 [00:00<?, ?it/s]"
            ]
          },
          "metadata": {},
          "output_type": "display_data"
        },
        {
          "name": "stdout",
          "output_type": "stream",
          "text": [
            "[ Valid | 278/300 ] loss = 9.62920, acc = 0.77026\n",
            "loss = loss_layers + (10 * lamb) * loss_logits = 2.03687 + 8.58711 * 0.88416\n"
          ]
        },
        {
          "data": {
            "application/vnd.jupyter.widget-view+json": {
              "model_id": "b9a4ecb813de45bdb7fedac927813977",
              "version_major": 2,
              "version_minor": 0
            },
            "text/plain": [
              "  0%|          | 0/155 [00:00<?, ?it/s]"
            ]
          },
          "metadata": {},
          "output_type": "display_data"
        },
        {
          "name": "stdout",
          "output_type": "stream",
          "text": [
            "[ Train | 279/300 ] loss = 6.67263, acc = 0.85455\n",
            "loss = loss_layers + (10 * lamb) * loss_logits = 2.21559 + 8.64900 * 0.51532\n"
          ]
        },
        {
          "data": {
            "application/vnd.jupyter.widget-view+json": {
              "model_id": "8d69970d63cc4850ad63e194a9dedc09",
              "version_major": 2,
              "version_minor": 0
            },
            "text/plain": [
              "  0%|          | 0/54 [00:00<?, ?it/s]"
            ]
          },
          "metadata": {},
          "output_type": "display_data"
        },
        {
          "name": "stdout",
          "output_type": "stream",
          "text": [
            "[ Valid | 279/300 ] loss = 9.59754, acc = 0.76531\n",
            "loss = loss_layers + (10 * lamb) * loss_logits = 2.03924 + 8.64900 * 0.87389\n"
          ]
        },
        {
          "data": {
            "application/vnd.jupyter.widget-view+json": {
              "model_id": "f0f4fad75ec04743a099ce61a3238b35",
              "version_major": 2,
              "version_minor": 0
            },
            "text/plain": [
              "  0%|          | 0/155 [00:00<?, ?it/s]"
            ]
          },
          "metadata": {},
          "output_type": "display_data"
        },
        {
          "name": "stdout",
          "output_type": "stream",
          "text": [
            "[ Train | 280/300 ] loss = 6.64970, acc = 0.84948\n",
            "loss = loss_layers + (10 * lamb) * loss_logits = 2.21593 + 8.71111 * 0.50898\n"
          ]
        },
        {
          "data": {
            "application/vnd.jupyter.widget-view+json": {
              "model_id": "4332bc8a40f14981ba3d85c07f7f8d29",
              "version_major": 2,
              "version_minor": 0
            },
            "text/plain": [
              "  0%|          | 0/54 [00:00<?, ?it/s]"
            ]
          },
          "metadata": {},
          "output_type": "display_data"
        },
        {
          "name": "stdout",
          "output_type": "stream",
          "text": [
            "[ Valid | 280/300 ] loss = 10.84311, acc = 0.73907\n",
            "loss = loss_layers + (10 * lamb) * loss_logits = 2.03996 + 8.71111 * 1.01057\n"
          ]
        },
        {
          "data": {
            "application/vnd.jupyter.widget-view+json": {
              "model_id": "ec48982cde5a462cb9faff27770aa5ce",
              "version_major": 2,
              "version_minor": 0
            },
            "text/plain": [
              "  0%|          | 0/155 [00:00<?, ?it/s]"
            ]
          },
          "metadata": {},
          "output_type": "display_data"
        },
        {
          "name": "stdout",
          "output_type": "stream",
          "text": [
            "[ Train | 281/300 ] loss = 6.77020, acc = 0.84512\n",
            "loss = loss_layers + (10 * lamb) * loss_logits = 2.22545 + 8.77344 * 0.51801\n"
          ]
        },
        {
          "data": {
            "application/vnd.jupyter.widget-view+json": {
              "model_id": "e1639b142c4d40dda4aa6aa4c4fef2d9",
              "version_major": 2,
              "version_minor": 0
            },
            "text/plain": [
              "  0%|          | 0/54 [00:00<?, ?it/s]"
            ]
          },
          "metadata": {},
          "output_type": "display_data"
        },
        {
          "name": "stdout",
          "output_type": "stream",
          "text": [
            "[ Valid | 281/300 ] loss = 10.85308, acc = 0.74257\n",
            "loss = loss_layers + (10 * lamb) * loss_logits = 2.04484 + 8.77344 * 1.00397\n"
          ]
        },
        {
          "data": {
            "application/vnd.jupyter.widget-view+json": {
              "model_id": "b115623caa954012aff5fa195906d289",
              "version_major": 2,
              "version_minor": 0
            },
            "text/plain": [
              "  0%|          | 0/155 [00:00<?, ?it/s]"
            ]
          },
          "metadata": {},
          "output_type": "display_data"
        },
        {
          "name": "stdout",
          "output_type": "stream",
          "text": [
            "[ Train | 282/300 ] loss = 6.78362, acc = 0.85019\n",
            "loss = loss_layers + (10 * lamb) * loss_logits = 2.22155 + 8.83600 * 0.51630\n"
          ]
        },
        {
          "data": {
            "application/vnd.jupyter.widget-view+json": {
              "model_id": "880837736cbe46d099a4d9edc6fedf69",
              "version_major": 2,
              "version_minor": 0
            },
            "text/plain": [
              "  0%|          | 0/54 [00:00<?, ?it/s]"
            ]
          },
          "metadata": {},
          "output_type": "display_data"
        },
        {
          "name": "stdout",
          "output_type": "stream",
          "text": [
            "[ Valid | 282/300 ] loss = 9.54911, acc = 0.76880\n",
            "loss = loss_layers + (10 * lamb) * loss_logits = 2.04242 + 8.83600 * 0.84956\n"
          ]
        },
        {
          "data": {
            "application/vnd.jupyter.widget-view+json": {
              "model_id": "51a14da01e274137abdd1ad0adbd4af0",
              "version_major": 2,
              "version_minor": 0
            },
            "text/plain": [
              "  0%|          | 0/155 [00:00<?, ?it/s]"
            ]
          },
          "metadata": {},
          "output_type": "display_data"
        },
        {
          "name": "stdout",
          "output_type": "stream",
          "text": [
            "[ Train | 283/300 ] loss = 6.66287, acc = 0.85242\n",
            "loss = loss_layers + (10 * lamb) * loss_logits = 2.21947 + 8.89878 * 0.49933\n"
          ]
        },
        {
          "data": {
            "application/vnd.jupyter.widget-view+json": {
              "model_id": "c432d90ff8f64095b317fafa5c0eee39",
              "version_major": 2,
              "version_minor": 0
            },
            "text/plain": [
              "  0%|          | 0/54 [00:00<?, ?it/s]"
            ]
          },
          "metadata": {},
          "output_type": "display_data"
        },
        {
          "name": "stdout",
          "output_type": "stream",
          "text": [
            "[ Valid | 283/300 ] loss = 10.30002, acc = 0.74927\n",
            "loss = loss_layers + (10 * lamb) * loss_logits = 2.04404 + 8.89878 * 0.92777\n"
          ]
        },
        {
          "data": {
            "application/vnd.jupyter.widget-view+json": {
              "model_id": "456505a680f9483c91f3b656f072cb2f",
              "version_major": 2,
              "version_minor": 0
            },
            "text/plain": [
              "  0%|          | 0/155 [00:00<?, ?it/s]"
            ]
          },
          "metadata": {},
          "output_type": "display_data"
        },
        {
          "name": "stdout",
          "output_type": "stream",
          "text": [
            "[ Train | 284/300 ] loss = 6.73217, acc = 0.85050\n",
            "loss = loss_layers + (10 * lamb) * loss_logits = 2.22279 + 8.96178 * 0.50318\n"
          ]
        },
        {
          "data": {
            "application/vnd.jupyter.widget-view+json": {
              "model_id": "c8e0fbaa36ba4011b09233f5849a6dbc",
              "version_major": 2,
              "version_minor": 0
            },
            "text/plain": [
              "  0%|          | 0/54 [00:00<?, ?it/s]"
            ]
          },
          "metadata": {},
          "output_type": "display_data"
        },
        {
          "name": "stdout",
          "output_type": "stream",
          "text": [
            "[ Valid | 284/300 ] loss = 9.76895, acc = 0.76939\n",
            "loss = loss_layers + (10 * lamb) * loss_logits = 2.04536 + 8.96178 * 0.86184\n"
          ]
        },
        {
          "data": {
            "application/vnd.jupyter.widget-view+json": {
              "model_id": "82ee298e27234f45ae4ca28479832a4b",
              "version_major": 2,
              "version_minor": 0
            },
            "text/plain": [
              "  0%|          | 0/155 [00:00<?, ?it/s]"
            ]
          },
          "metadata": {},
          "output_type": "display_data"
        },
        {
          "name": "stdout",
          "output_type": "stream",
          "text": [
            "[ Train | 285/300 ] loss = 6.69014, acc = 0.85060\n",
            "loss = loss_layers + (10 * lamb) * loss_logits = 2.21880 + 9.02500 * 0.49544\n"
          ]
        },
        {
          "data": {
            "application/vnd.jupyter.widget-view+json": {
              "model_id": "a43fe8a7fcce4df7b2cefa0f6f9a2f63",
              "version_major": 2,
              "version_minor": 0
            },
            "text/plain": [
              "  0%|          | 0/54 [00:00<?, ?it/s]"
            ]
          },
          "metadata": {},
          "output_type": "display_data"
        },
        {
          "name": "stdout",
          "output_type": "stream",
          "text": [
            "[ Valid | 285/300 ] loss = 10.33707, acc = 0.75569\n",
            "loss = loss_layers + (10 * lamb) * loss_logits = 2.04698 + 9.02500 * 0.91857\n"
          ]
        },
        {
          "data": {
            "application/vnd.jupyter.widget-view+json": {
              "model_id": "bd01f2533cf5426d915d190ae30f2944",
              "version_major": 2,
              "version_minor": 0
            },
            "text/plain": [
              "  0%|          | 0/155 [00:00<?, ?it/s]"
            ]
          },
          "metadata": {},
          "output_type": "display_data"
        },
        {
          "name": "stdout",
          "output_type": "stream",
          "text": [
            "[ Train | 286/300 ] loss = 6.68167, acc = 0.85536\n",
            "loss = loss_layers + (10 * lamb) * loss_logits = 2.22533 + 9.08844 * 0.49033\n"
          ]
        },
        {
          "data": {
            "application/vnd.jupyter.widget-view+json": {
              "model_id": "9de8c8822d5643689f287eb9cc33f8b3",
              "version_major": 2,
              "version_minor": 0
            },
            "text/plain": [
              "  0%|          | 0/54 [00:00<?, ?it/s]"
            ]
          },
          "metadata": {},
          "output_type": "display_data"
        },
        {
          "name": "stdout",
          "output_type": "stream",
          "text": [
            "[ Valid | 286/300 ] loss = 10.97458, acc = 0.74373\n",
            "loss = loss_layers + (10 * lamb) * loss_logits = 2.04590 + 9.08844 * 0.98242\n"
          ]
        },
        {
          "data": {
            "application/vnd.jupyter.widget-view+json": {
              "model_id": "63a6ef3b5d0d471c87c6dd94f66fef4a",
              "version_major": 2,
              "version_minor": 0
            },
            "text/plain": [
              "  0%|          | 0/155 [00:00<?, ?it/s]"
            ]
          },
          "metadata": {},
          "output_type": "display_data"
        },
        {
          "name": "stdout",
          "output_type": "stream",
          "text": [
            "[ Train | 287/300 ] loss = 6.74434, acc = 0.84715\n",
            "loss = loss_layers + (10 * lamb) * loss_logits = 2.22229 + 9.15211 * 0.49410\n"
          ]
        },
        {
          "data": {
            "application/vnd.jupyter.widget-view+json": {
              "model_id": "b15bef8847ed4d1fb715d060fc20a413",
              "version_major": 2,
              "version_minor": 0
            },
            "text/plain": [
              "  0%|          | 0/54 [00:00<?, ?it/s]"
            ]
          },
          "metadata": {},
          "output_type": "display_data"
        },
        {
          "name": "stdout",
          "output_type": "stream",
          "text": [
            "[ Valid | 287/300 ] loss = 9.88548, acc = 0.76939\n",
            "loss = loss_layers + (10 * lamb) * loss_logits = 2.04806 + 9.15211 * 0.85635\n"
          ]
        },
        {
          "data": {
            "application/vnd.jupyter.widget-view+json": {
              "model_id": "064957ee12834eaaa1ef62cdc36fc02d",
              "version_major": 2,
              "version_minor": 0
            },
            "text/plain": [
              "  0%|          | 0/155 [00:00<?, ?it/s]"
            ]
          },
          "metadata": {},
          "output_type": "display_data"
        },
        {
          "name": "stdout",
          "output_type": "stream",
          "text": [
            "[ Train | 288/300 ] loss = 6.64085, acc = 0.85374\n",
            "loss = loss_layers + (10 * lamb) * loss_logits = 2.22842 + 9.21600 * 0.47878\n"
          ]
        },
        {
          "data": {
            "application/vnd.jupyter.widget-view+json": {
              "model_id": "a307e98441954f9b9170eea1f76faf08",
              "version_major": 2,
              "version_minor": 0
            },
            "text/plain": [
              "  0%|          | 0/54 [00:00<?, ?it/s]"
            ]
          },
          "metadata": {},
          "output_type": "display_data"
        },
        {
          "name": "stdout",
          "output_type": "stream",
          "text": [
            "[ Valid | 288/300 ] loss = 9.98978, acc = 0.76851\n",
            "loss = loss_layers + (10 * lamb) * loss_logits = 2.04548 + 9.21600 * 0.86201\n"
          ]
        },
        {
          "data": {
            "application/vnd.jupyter.widget-view+json": {
              "model_id": "03e9273b2cb24e4a950de8359fdfe184",
              "version_major": 2,
              "version_minor": 0
            },
            "text/plain": [
              "  0%|          | 0/155 [00:00<?, ?it/s]"
            ]
          },
          "metadata": {},
          "output_type": "display_data"
        },
        {
          "name": "stdout",
          "output_type": "stream",
          "text": [
            "[ Train | 289/300 ] loss = 6.54916, acc = 0.85516\n",
            "loss = loss_layers + (10 * lamb) * loss_logits = 2.22530 + 9.28011 * 0.46593\n"
          ]
        },
        {
          "data": {
            "application/vnd.jupyter.widget-view+json": {
              "model_id": "fea97a87f2d8496a93f937ee3aa1f489",
              "version_major": 2,
              "version_minor": 0
            },
            "text/plain": [
              "  0%|          | 0/54 [00:00<?, ?it/s]"
            ]
          },
          "metadata": {},
          "output_type": "display_data"
        },
        {
          "name": "stdout",
          "output_type": "stream",
          "text": [
            "[ Valid | 289/300 ] loss = 10.23300, acc = 0.75860\n",
            "loss = loss_layers + (10 * lamb) * loss_logits = 2.04654 + 9.28011 * 0.88215\n"
          ]
        },
        {
          "data": {
            "application/vnd.jupyter.widget-view+json": {
              "model_id": "f572fb96e1e8493098f69c3a3b772e3a",
              "version_major": 2,
              "version_minor": 0
            },
            "text/plain": [
              "  0%|          | 0/155 [00:00<?, ?it/s]"
            ]
          },
          "metadata": {},
          "output_type": "display_data"
        },
        {
          "name": "stdout",
          "output_type": "stream",
          "text": [
            "[ Train | 290/300 ] loss = 6.64656, acc = 0.85222\n",
            "loss = loss_layers + (10 * lamb) * loss_logits = 2.22465 + 9.34444 * 0.47321\n"
          ]
        },
        {
          "data": {
            "application/vnd.jupyter.widget-view+json": {
              "model_id": "565f251c018b47fda01706f099b83f29",
              "version_major": 2,
              "version_minor": 0
            },
            "text/plain": [
              "  0%|          | 0/54 [00:00<?, ?it/s]"
            ]
          },
          "metadata": {},
          "output_type": "display_data"
        },
        {
          "name": "stdout",
          "output_type": "stream",
          "text": [
            "[ Valid | 290/300 ] loss = 10.42363, acc = 0.76764\n",
            "loss = loss_layers + (10 * lamb) * loss_logits = 2.04885 + 9.34444 * 0.89623\n"
          ]
        },
        {
          "data": {
            "application/vnd.jupyter.widget-view+json": {
              "model_id": "dd0cc44683424d5ebb4d3e449dadcf34",
              "version_major": 2,
              "version_minor": 0
            },
            "text/plain": [
              "  0%|          | 0/155 [00:00<?, ?it/s]"
            ]
          },
          "metadata": {},
          "output_type": "display_data"
        },
        {
          "name": "stdout",
          "output_type": "stream",
          "text": [
            "[ Train | 291/300 ] loss = 6.64914, acc = 0.85567\n",
            "loss = loss_layers + (10 * lamb) * loss_logits = 2.22677 + 9.40900 * 0.47001\n"
          ]
        },
        {
          "data": {
            "application/vnd.jupyter.widget-view+json": {
              "model_id": "96902f734252458cb1d8c82cf58e57b9",
              "version_major": 2,
              "version_minor": 0
            },
            "text/plain": [
              "  0%|          | 0/54 [00:00<?, ?it/s]"
            ]
          },
          "metadata": {},
          "output_type": "display_data"
        },
        {
          "name": "stdout",
          "output_type": "stream",
          "text": [
            "[ Valid | 291/300 ] loss = 10.87071, acc = 0.75219\n",
            "loss = loss_layers + (10 * lamb) * loss_logits = 2.05237 + 9.40900 * 0.93722\n"
          ]
        },
        {
          "data": {
            "application/vnd.jupyter.widget-view+json": {
              "model_id": "5198d1eb359f44d0b90417b868013681",
              "version_major": 2,
              "version_minor": 0
            },
            "text/plain": [
              "  0%|          | 0/155 [00:00<?, ?it/s]"
            ]
          },
          "metadata": {},
          "output_type": "display_data"
        },
        {
          "name": "stdout",
          "output_type": "stream",
          "text": [
            "[ Train | 292/300 ] loss = 6.76184, acc = 0.85242\n",
            "loss = loss_layers + (10 * lamb) * loss_logits = 2.23091 + 9.47378 * 0.47826\n"
          ]
        },
        {
          "data": {
            "application/vnd.jupyter.widget-view+json": {
              "model_id": "01ec4ce61e99416db2ee4b6149f96cc2",
              "version_major": 2,
              "version_minor": 0
            },
            "text/plain": [
              "  0%|          | 0/54 [00:00<?, ?it/s]"
            ]
          },
          "metadata": {},
          "output_type": "display_data"
        },
        {
          "name": "stdout",
          "output_type": "stream",
          "text": [
            "[ Valid | 292/300 ] loss = 10.53777, acc = 0.75656\n",
            "loss = loss_layers + (10 * lamb) * loss_logits = 2.05409 + 9.47378 * 0.89549\n"
          ]
        },
        {
          "data": {
            "application/vnd.jupyter.widget-view+json": {
              "model_id": "beab8ec8558a47a082b2036d94f9caa5",
              "version_major": 2,
              "version_minor": 0
            },
            "text/plain": [
              "  0%|          | 0/155 [00:00<?, ?it/s]"
            ]
          },
          "metadata": {},
          "output_type": "display_data"
        },
        {
          "name": "stdout",
          "output_type": "stream",
          "text": [
            "[ Train | 293/300 ] loss = 6.55975, acc = 0.85790\n",
            "loss = loss_layers + (10 * lamb) * loss_logits = 2.23096 + 9.53878 * 0.45381\n"
          ]
        },
        {
          "data": {
            "application/vnd.jupyter.widget-view+json": {
              "model_id": "880c332e96cd4a5c9c8c5d16ea8b95a4",
              "version_major": 2,
              "version_minor": 0
            },
            "text/plain": [
              "  0%|          | 0/54 [00:00<?, ?it/s]"
            ]
          },
          "metadata": {},
          "output_type": "display_data"
        },
        {
          "name": "stdout",
          "output_type": "stream",
          "text": [
            "[ Valid | 293/300 ] loss = 10.48825, acc = 0.75948\n",
            "loss = loss_layers + (10 * lamb) * loss_logits = 2.05030 + 9.53878 * 0.88460\n"
          ]
        },
        {
          "data": {
            "application/vnd.jupyter.widget-view+json": {
              "model_id": "a24ececa42d04a0db726a65cc294b91a",
              "version_major": 2,
              "version_minor": 0
            },
            "text/plain": [
              "  0%|          | 0/155 [00:00<?, ?it/s]"
            ]
          },
          "metadata": {},
          "output_type": "display_data"
        },
        {
          "name": "stdout",
          "output_type": "stream",
          "text": [
            "[ Train | 294/300 ] loss = 6.46616, acc = 0.86033\n",
            "loss = loss_layers + (10 * lamb) * loss_logits = 2.22954 + 9.60400 * 0.44113\n"
          ]
        },
        {
          "data": {
            "application/vnd.jupyter.widget-view+json": {
              "model_id": "0780c039f72b411cae2fd6e2864e6420",
              "version_major": 2,
              "version_minor": 0
            },
            "text/plain": [
              "  0%|          | 0/54 [00:00<?, ?it/s]"
            ]
          },
          "metadata": {},
          "output_type": "display_data"
        },
        {
          "name": "stdout",
          "output_type": "stream",
          "text": [
            "[ Valid | 294/300 ] loss = 10.24307, acc = 0.76676\n",
            "loss = loss_layers + (10 * lamb) * loss_logits = 2.05243 + 9.60400 * 0.85284\n"
          ]
        },
        {
          "data": {
            "application/vnd.jupyter.widget-view+json": {
              "model_id": "c8f8f75eac954ee2bfaf6dd707d66644",
              "version_major": 2,
              "version_minor": 0
            },
            "text/plain": [
              "  0%|          | 0/155 [00:00<?, ?it/s]"
            ]
          },
          "metadata": {},
          "output_type": "display_data"
        },
        {
          "name": "stdout",
          "output_type": "stream",
          "text": [
            "[ Train | 295/300 ] loss = 6.55228, acc = 0.85830\n",
            "loss = loss_layers + (10 * lamb) * loss_logits = 2.23419 + 9.66944 * 0.44657\n"
          ]
        },
        {
          "data": {
            "application/vnd.jupyter.widget-view+json": {
              "model_id": "08571984657d4a1ca40e9928770ca0b1",
              "version_major": 2,
              "version_minor": 0
            },
            "text/plain": [
              "  0%|          | 0/54 [00:00<?, ?it/s]"
            ]
          },
          "metadata": {},
          "output_type": "display_data"
        },
        {
          "name": "stdout",
          "output_type": "stream",
          "text": [
            "[ Valid | 295/300 ] loss = 10.61468, acc = 0.76152\n",
            "loss = loss_layers + (10 * lamb) * loss_logits = 2.05410 + 9.66944 * 0.88532\n"
          ]
        },
        {
          "data": {
            "application/vnd.jupyter.widget-view+json": {
              "model_id": "6e87e78926854e749a5f7b5d71fec444",
              "version_major": 2,
              "version_minor": 0
            },
            "text/plain": [
              "  0%|          | 0/155 [00:00<?, ?it/s]"
            ]
          },
          "metadata": {},
          "output_type": "display_data"
        },
        {
          "name": "stdout",
          "output_type": "stream",
          "text": [
            "[ Train | 296/300 ] loss = 6.48943, acc = 0.85617\n",
            "loss = loss_layers + (10 * lamb) * loss_logits = 2.23266 + 9.73511 * 0.43726\n"
          ]
        },
        {
          "data": {
            "application/vnd.jupyter.widget-view+json": {
              "model_id": "8978276e81284f249d665f33a1662a4f",
              "version_major": 2,
              "version_minor": 0
            },
            "text/plain": [
              "  0%|          | 0/54 [00:00<?, ?it/s]"
            ]
          },
          "metadata": {},
          "output_type": "display_data"
        },
        {
          "name": "stdout",
          "output_type": "stream",
          "text": [
            "[ Valid | 296/300 ] loss = 10.52794, acc = 0.76297\n",
            "loss = loss_layers + (10 * lamb) * loss_logits = 2.05534 + 9.73511 * 0.87031\n"
          ]
        },
        {
          "data": {
            "application/vnd.jupyter.widget-view+json": {
              "model_id": "8ef6ce3713d24fd286fd0f8e33ffc0bf",
              "version_major": 2,
              "version_minor": 0
            },
            "text/plain": [
              "  0%|          | 0/155 [00:00<?, ?it/s]"
            ]
          },
          "metadata": {},
          "output_type": "display_data"
        },
        {
          "name": "stdout",
          "output_type": "stream",
          "text": [
            "[ Train | 297/300 ] loss = 6.59853, acc = 0.85516\n",
            "loss = loss_layers + (10 * lamb) * loss_logits = 2.23871 + 9.80100 * 0.44483\n"
          ]
        },
        {
          "data": {
            "application/vnd.jupyter.widget-view+json": {
              "model_id": "136ebddb4f2a467297569ea63c66da8d",
              "version_major": 2,
              "version_minor": 0
            },
            "text/plain": [
              "  0%|          | 0/54 [00:00<?, ?it/s]"
            ]
          },
          "metadata": {},
          "output_type": "display_data"
        },
        {
          "name": "stdout",
          "output_type": "stream",
          "text": [
            "[ Valid | 297/300 ] loss = 11.15785, acc = 0.75743\n",
            "loss = loss_layers + (10 * lamb) * loss_logits = 2.05749 + 9.80100 * 0.92851\n"
          ]
        },
        {
          "data": {
            "application/vnd.jupyter.widget-view+json": {
              "model_id": "70e70112580a4c4099151f3e8c93e486",
              "version_major": 2,
              "version_minor": 0
            },
            "text/plain": [
              "  0%|          | 0/155 [00:00<?, ?it/s]"
            ]
          },
          "metadata": {},
          "output_type": "display_data"
        },
        {
          "name": "stdout",
          "output_type": "stream",
          "text": [
            "[ Train | 298/300 ] loss = 6.59398, acc = 0.85627\n",
            "loss = loss_layers + (10 * lamb) * loss_logits = 2.23691 + 9.86711 * 0.44158\n"
          ]
        },
        {
          "data": {
            "application/vnd.jupyter.widget-view+json": {
              "model_id": "831231eb4c8d4315b7b9a34287110e47",
              "version_major": 2,
              "version_minor": 0
            },
            "text/plain": [
              "  0%|          | 0/54 [00:00<?, ?it/s]"
            ]
          },
          "metadata": {},
          "output_type": "display_data"
        },
        {
          "name": "stdout",
          "output_type": "stream",
          "text": [
            "[ Valid | 298/300 ] loss = 10.54856, acc = 0.76414\n",
            "loss = loss_layers + (10 * lamb) * loss_logits = 2.05536 + 9.86711 * 0.86076\n"
          ]
        },
        {
          "data": {
            "application/vnd.jupyter.widget-view+json": {
              "model_id": "dff2f0dbb6164ac8b6055131da48d5da",
              "version_major": 2,
              "version_minor": 0
            },
            "text/plain": [
              "  0%|          | 0/155 [00:00<?, ?it/s]"
            ]
          },
          "metadata": {},
          "output_type": "display_data"
        },
        {
          "name": "stdout",
          "output_type": "stream",
          "text": [
            "[ Train | 299/300 ] loss = 6.37617, acc = 0.86307\n",
            "loss = loss_layers + (10 * lamb) * loss_logits = 2.23377 + 9.93344 * 0.41702\n"
          ]
        },
        {
          "data": {
            "application/vnd.jupyter.widget-view+json": {
              "model_id": "9f0bfbacc9344a9aadfc8680b8f0fd8e",
              "version_major": 2,
              "version_minor": 0
            },
            "text/plain": [
              "  0%|          | 0/54 [00:00<?, ?it/s]"
            ]
          },
          "metadata": {},
          "output_type": "display_data"
        },
        {
          "name": "stdout",
          "output_type": "stream",
          "text": [
            "[ Valid | 299/300 ] loss = 10.44661, acc = 0.76618\n",
            "loss = loss_layers + (10 * lamb) * loss_logits = 2.05633 + 9.93344 * 0.84465\n"
          ]
        },
        {
          "data": {
            "application/vnd.jupyter.widget-view+json": {
              "model_id": "9876cbf2e4cd4939b505c365f1f6c82b",
              "version_major": 2,
              "version_minor": 0
            },
            "text/plain": [
              "  0%|          | 0/155 [00:00<?, ?it/s]"
            ]
          },
          "metadata": {},
          "output_type": "display_data"
        },
        {
          "name": "stdout",
          "output_type": "stream",
          "text": [
            "[ Train | 300/300 ] loss = 6.41239, acc = 0.86124\n",
            "loss = loss_layers + (10 * lamb) * loss_logits = 2.23870 + 10.00000 * 0.41737\n"
          ]
        },
        {
          "data": {
            "application/vnd.jupyter.widget-view+json": {
              "model_id": "359df6a52a624c9cad2e1f6edc93a930",
              "version_major": 2,
              "version_minor": 0
            },
            "text/plain": [
              "  0%|          | 0/54 [00:00<?, ?it/s]"
            ]
          },
          "metadata": {},
          "output_type": "display_data"
        },
        {
          "name": "stdout",
          "output_type": "stream",
          "text": [
            "[ Valid | 300/300 ] loss = 10.40657, acc = 0.76210\n",
            "loss = loss_layers + (10 * lamb) * loss_logits = 2.05981 + 10.00000 * 0.83468\n",
            "Finish training\n"
          ]
        }
      ],
      "source": [
        "# Initialize a model, and put it on the device specified.\n",
        "student_model.to(device)\n",
        "teacher_model.to(device) # MEDIUM BASELINE\n",
        "\n",
        "# Initialize optimizer, you may fine-tune some hyperparameters such as learning rate on your own.\n",
        "optimizer = torch.optim.Adam(student_model.parameters(), lr=cfg['lr'], weight_decay=cfg['weight_decay'])\n",
        "# scheduler = torch.optim.lr_scheduler.ReduceLROnPlateau(optimizer, mode=\"max\", factor=0.618, patience=patience // 3, verbose=True)\n",
        "# Initialize trackers, these are not parameters and should not be changed\n",
        "stale = 0\n",
        "best_acc = 0.0\n",
        "\n",
        "teacher_model.eval()  # MEDIUM BASELINE\n",
        "for epoch in range(n_epochs):\n",
        "    \n",
        "    lamb = ((epoch + 1) / (n_epochs)) ** 2 # 1 / ( 1 + np.exp( (2 * ((epoch + 1) / n_epochs) - 1) * 3 ) )\n",
        "    # ---------- Training ----------\n",
        "    # Make sure the model is in train mode before training.\n",
        "    student_model.train()\n",
        "\n",
        "    # These are used to record information in training.\n",
        "    train_loss = []\n",
        "    train_loss_logits, train_loss_layers = [], []\n",
        "    train_accs = []\n",
        "    train_lens = []\n",
        "\n",
        "    for batch in tqdm(train_loader):\n",
        "\n",
        "        # A batch consists of image data and corresponding labels.\n",
        "        imgs, labels = batch\n",
        "        imgs = imgs.to(device)\n",
        "        labels = labels.to(device)\n",
        "        #imgs = imgs.half()\n",
        "        #print(imgs.shape,labels.shape)\n",
        "\n",
        "        # Forward the data. (Make sure data and model are on the same device.)\n",
        "        with torch.no_grad():  # MEDIUM BASELINE\n",
        "            teacher_logits = teacher_model(imgs)  # MEDIUM BASELINE\n",
        "\n",
        "        logits = student_model(imgs)\n",
        "\n",
        "        # Calculate the cross-entropy loss.\n",
        "        # We don't need to apply softmax before computing cross-entropy as it is done automatically.\n",
        "        loss_logits = loss_fn(logits, labels, teacher_logits, temperature=temperature, alpha=(1-lamb)) # MEDIUM BASELINE\n",
        "        loss_layers = F.mse_loss(activation[\"student_model.layer1\"], activation[\"teacher_model.layer1\"]) \\\n",
        "                    + F.mse_loss(activation[\"student_model.layer2\"], activation[\"teacher_model.layer2\"]) \\\n",
        "                    + F.mse_loss(activation[\"student_model.layer3\"], activation[\"teacher_model.layer3\"])\n",
        "        loss = loss_layers + 10 * lamb * loss_logits\n",
        "        # loss = loss_fn(logits, labels) # SIMPLE BASELINE\n",
        "        # Gradients stored in the parameters in the previous step should be cleared out first.\n",
        "        optimizer.zero_grad()\n",
        "\n",
        "        # Compute the gradients for parameters.\n",
        "        loss.backward()\n",
        "\n",
        "        # Clip the gradient norms for stable training.\n",
        "        grad_norm = nn.utils.clip_grad_norm_(student_model.parameters(), max_norm=cfg['grad_norm_max'])\n",
        "\n",
        "        # Update the parameters with computed gradients.\n",
        "        optimizer.step()\n",
        "\n",
        "        # Compute the accuracy for current batch.\n",
        "        acc = (logits.argmax(dim=-1) == labels).float().sum()\n",
        "\n",
        "        # Record the loss and accuracy.\n",
        "        train_batch_len = len(imgs)\n",
        "        train_loss.append(loss.item() * train_batch_len)\n",
        "        train_loss_logits.append(loss_logits.item() * train_batch_len)\n",
        "        train_loss_layers.append(loss_layers.item() * train_batch_len)\n",
        "        train_accs.append(acc)\n",
        "        train_lens.append(train_batch_len)\n",
        "\n",
        "    train_loss = sum(train_loss) / sum(train_lens)\n",
        "    train_loss_logits = sum(train_loss_logits) / sum(train_lens)\n",
        "    train_loss_layers = sum(train_loss_layers) / sum(train_lens)\n",
        "    train_acc = sum(train_accs) / sum(train_lens)\n",
        "\n",
        "    # Print the information.\n",
        "    log(f\"[ Train | {epoch + 1:03d}/{n_epochs:03d} ] loss = {train_loss:.5f}, acc = {train_acc:.5f}\")\n",
        "    log(f\"loss = loss_layers + (10 * lamb) * loss_logits = {train_loss_layers:.5f} + {10 * lamb:.5f} * {train_loss_logits:.5f}\")\n",
        "\n",
        "    # ---------- Validation ----------\n",
        "    # Make sure the model is in eval mode so that some modules like dropout are disabled and work normally.\n",
        "    student_model.eval()\n",
        "\n",
        "    # These are used to record information in validation.\n",
        "    valid_loss = []\n",
        "    valid_loss_logits, valid_loss_layers = [], []\n",
        "    valid_accs = []\n",
        "    valid_lens = []\n",
        "\n",
        "    # Iterate the validation set by batches.\n",
        "    for batch in tqdm(valid_loader):\n",
        "\n",
        "        # A batch consists of image data and corresponding labels.\n",
        "        imgs, labels = batch\n",
        "        imgs = imgs.to(device)\n",
        "        labels = labels.to(device)\n",
        "\n",
        "        # We don't need gradient in validation.\n",
        "        # Using torch.no_grad() accelerates the forward process.\n",
        "        with torch.no_grad():\n",
        "            logits = student_model(imgs)\n",
        "            teacher_logits = teacher_model(imgs) # MEDIUM BASELINE\n",
        "\n",
        "        # We can still compute the loss (but not the gradient).\n",
        "        loss_logits = loss_fn(logits, labels, teacher_logits, temperature=temperature, alpha=(1-lamb)) # MEDIUM BASELINE\n",
        "        loss_layers = F.mse_loss(activation[\"student_model.layer1\"], activation[\"teacher_model.layer1\"]) \\\n",
        "                    + F.mse_loss(activation[\"student_model.layer2\"], activation[\"teacher_model.layer2\"]) \\\n",
        "                    + F.mse_loss(activation[\"student_model.layer3\"], activation[\"teacher_model.layer3\"])\n",
        "        loss = loss_layers + 10 * lamb * loss_logits\n",
        "        # loss = loss_fn(logits, labels) # SIMPLE BASELINE\n",
        "\n",
        "        # Compute the accuracy for current batch.\n",
        "        acc = (logits.argmax(dim=-1) == labels).float().sum()\n",
        "\n",
        "        # Record the loss and accuracy.\n",
        "        batch_len = len(imgs)\n",
        "        valid_loss.append(loss.item() * batch_len)\n",
        "        valid_loss_logits.append(loss_logits.item() * batch_len)\n",
        "        valid_loss_layers.append(loss_layers.item() * batch_len)\n",
        "        valid_accs.append(acc)\n",
        "        valid_lens.append(batch_len)\n",
        "        #break\n",
        "\n",
        "    # The average loss and accuracy for entire validation set is the average of the recorded values.\n",
        "    valid_loss = sum(valid_loss) / sum(valid_lens)\n",
        "    valid_loss_logits = sum(valid_loss_logits) / sum(valid_lens)\n",
        "    valid_loss_layers = sum(valid_loss_layers) / sum(valid_lens)\n",
        "    valid_acc = sum(valid_accs) / sum(valid_lens)\n",
        "    \n",
        "    # scheduler.step(metrics=valid_acc) # Update the learning rate scheduler\n",
        "\n",
        "    # update logs\n",
        "\n",
        "    if valid_acc > best_acc:\n",
        "        log(f\"[ Valid | {epoch + 1:03d}/{n_epochs:03d} ] loss = {valid_loss:.5f}, acc = {valid_acc:.5f} -> best\")\n",
        "    else:\n",
        "        log(f\"[ Valid | {epoch + 1:03d}/{n_epochs:03d} ] loss = {valid_loss:.5f}, acc = {valid_acc:.5f}\")\n",
        "    log(f\"loss = loss_layers + (10 * lamb) * loss_logits = {valid_loss_layers:.5f} + {10 * lamb:.5f} * {valid_loss_logits:.5f}\")\n",
        "        \n",
        "    # save models\n",
        "    if valid_acc > best_acc:\n",
        "        log(f\"Best model found at epoch {epoch + 1}, saving model\")\n",
        "        torch.save(student_model.state_dict(), f\"{save_path}/student_best.ckpt\") # only save best to prevent output memory exceed error\n",
        "        best_acc = valid_acc\n",
        "        stale = 0\n",
        "    else:\n",
        "        stale += 1\n",
        "        if stale > patience:\n",
        "            log(f\"No improvment {patience} consecutive epochs, early stopping\")\n",
        "            break\n",
        "log(\"Finish training\")\n",
        "log_fw.close()"
      ]
    },
    {
      "cell_type": "code",
      "execution_count": 18,
      "metadata": {},
      "outputs": [],
      "source": [
        "def make_predictions(model, data_loader, device=\"cuda\" if torch.cuda.is_available() else \"cpu\"):\n",
        "     \n",
        "    model.eval()\n",
        "     \n",
        "    predictions, ground_truths = None, None\n",
        "     \n",
        "    for batch in tqdm(data_loader):\n",
        "        \n",
        "        imgs, labels = batch\n",
        "        with torch.no_grad():\n",
        "            logits = model(imgs.to(device))\n",
        "        \n",
        "        if predictions is None:\n",
        "            predictions = logits.detach().cpu().numpy()\n",
        "        else:\n",
        "            predictions = np.vstack((predictions, logits.detach().cpu().numpy()))\n",
        "            \n",
        "        if ground_truths is None:\n",
        "            ground_truths = labels.detach().cpu().numpy()\n",
        "        else:\n",
        "            ground_truths = np.hstack((ground_truths, labels.detach().cpu().numpy()))\n",
        "    \n",
        "    return predictions, ground_truths"
      ]
    },
    {
      "cell_type": "code",
      "execution_count": 19,
      "metadata": {},
      "outputs": [
        {
          "name": "stdout",
          "output_type": "stream",
          "text": [
            "One ./food11-hw13\\validation sample ./food11-hw13\\validation\\0_0.jpg\n",
            "One ./food11-hw13\\validation sample ./food11-hw13\\validation\\0_0.jpg\n"
          ]
        },
        {
          "data": {
            "application/vnd.jupyter.widget-view+json": {
              "model_id": "9c2dfd213cae412bbca858d3b71964d7",
              "version_major": 2,
              "version_minor": 0
            },
            "text/plain": [
              "  0%|          | 0/54 [00:00<?, ?it/s]"
            ]
          },
          "metadata": {},
          "output_type": "display_data"
        },
        {
          "data": {
            "application/vnd.jupyter.widget-view+json": {
              "model_id": "9719986c05cd47e09428c5e129d09af5",
              "version_major": 2,
              "version_minor": 0
            },
            "text/plain": [
              "  0%|          | 0/54 [00:00<?, ?it/s]"
            ]
          },
          "metadata": {},
          "output_type": "display_data"
        },
        {
          "data": {
            "application/vnd.jupyter.widget-view+json": {
              "model_id": "4aea5c8c3b574e63af120634aa9be4e5",
              "version_major": 2,
              "version_minor": 0
            },
            "text/plain": [
              "  0%|          | 0/54 [00:00<?, ?it/s]"
            ]
          },
          "metadata": {},
          "output_type": "display_data"
        },
        {
          "data": {
            "application/vnd.jupyter.widget-view+json": {
              "model_id": "0fdc409f448040d38674d5071770e7cf",
              "version_major": 2,
              "version_minor": 0
            },
            "text/plain": [
              "  0%|          | 0/54 [00:00<?, ?it/s]"
            ]
          },
          "metadata": {},
          "output_type": "display_data"
        },
        {
          "data": {
            "application/vnd.jupyter.widget-view+json": {
              "model_id": "6b032b36ce44448c85458285a8bfd680",
              "version_major": 2,
              "version_minor": 0
            },
            "text/plain": [
              "  0%|          | 0/54 [00:00<?, ?it/s]"
            ]
          },
          "metadata": {},
          "output_type": "display_data"
        },
        {
          "data": {
            "application/vnd.jupyter.widget-view+json": {
              "model_id": "6ce8997b467b45f0b68ac8117cb3db29",
              "version_major": 2,
              "version_minor": 0
            },
            "text/plain": [
              "  0%|          | 0/54 [00:00<?, ?it/s]"
            ]
          },
          "metadata": {},
          "output_type": "display_data"
        },
        {
          "data": {
            "application/vnd.jupyter.widget-view+json": {
              "model_id": "7967b8f0248b4e22b4319cdc399b7aae",
              "version_major": 2,
              "version_minor": 0
            },
            "text/plain": [
              "  0%|          | 0/54 [00:00<?, ?it/s]"
            ]
          },
          "metadata": {},
          "output_type": "display_data"
        },
        {
          "data": {
            "application/vnd.jupyter.widget-view+json": {
              "model_id": "47cd23b63c9549faaeb33a8536c39038",
              "version_major": 2,
              "version_minor": 0
            },
            "text/plain": [
              "  0%|          | 0/54 [00:00<?, ?it/s]"
            ]
          },
          "metadata": {},
          "output_type": "display_data"
        },
        {
          "data": {
            "application/vnd.jupyter.widget-view+json": {
              "model_id": "ce7b3a9a2a784dfe90b81ae986b3f16c",
              "version_major": 2,
              "version_minor": 0
            },
            "text/plain": [
              "  0%|          | 0/54 [00:00<?, ?it/s]"
            ]
          },
          "metadata": {},
          "output_type": "display_data"
        },
        {
          "data": {
            "application/vnd.jupyter.widget-view+json": {
              "model_id": "098bb19e38ec473eba150dcd8d1295a4",
              "version_major": 2,
              "version_minor": 0
            },
            "text/plain": [
              "  0%|          | 0/54 [00:00<?, ?it/s]"
            ]
          },
          "metadata": {},
          "output_type": "display_data"
        },
        {
          "data": {
            "application/vnd.jupyter.widget-view+json": {
              "model_id": "e4d5bc1408db4cbc958f08eb5b605d38",
              "version_major": 2,
              "version_minor": 0
            },
            "text/plain": [
              "  0%|          | 0/54 [00:00<?, ?it/s]"
            ]
          },
          "metadata": {},
          "output_type": "display_data"
        },
        {
          "data": {
            "application/vnd.jupyter.widget-view+json": {
              "model_id": "2def4c56b2914390a80c9e5d46de9bfe",
              "version_major": 2,
              "version_minor": 0
            },
            "text/plain": [
              "  0%|          | 0/54 [00:00<?, ?it/s]"
            ]
          },
          "metadata": {},
          "output_type": "display_data"
        },
        {
          "data": {
            "application/vnd.jupyter.widget-view+json": {
              "model_id": "5f66e02a0d93470da2d381ee46f9948b",
              "version_major": 2,
              "version_minor": 0
            },
            "text/plain": [
              "  0%|          | 0/54 [00:00<?, ?it/s]"
            ]
          },
          "metadata": {},
          "output_type": "display_data"
        },
        {
          "data": {
            "application/vnd.jupyter.widget-view+json": {
              "model_id": "0d929184c505444b97587434a2460b4b",
              "version_major": 2,
              "version_minor": 0
            },
            "text/plain": [
              "  0%|          | 0/54 [00:00<?, ?it/s]"
            ]
          },
          "metadata": {},
          "output_type": "display_data"
        },
        {
          "data": {
            "application/vnd.jupyter.widget-view+json": {
              "model_id": "c427bacc5bb84a3fbfce3893088d5c0c",
              "version_major": 2,
              "version_minor": 0
            },
            "text/plain": [
              "  0%|          | 0/54 [00:00<?, ?it/s]"
            ]
          },
          "metadata": {},
          "output_type": "display_data"
        },
        {
          "data": {
            "application/vnd.jupyter.widget-view+json": {
              "model_id": "b69500e388eb4c17a8844b26796e04d7",
              "version_major": 2,
              "version_minor": 0
            },
            "text/plain": [
              "  0%|          | 0/54 [00:00<?, ?it/s]"
            ]
          },
          "metadata": {},
          "output_type": "display_data"
        },
        {
          "name": "stdout",
          "output_type": "stream",
          "text": [
            "TTA Valid acc = 0.80029\n"
          ]
        }
      ],
      "source": [
        "# Test time augmentation for validation set\n",
        "n_tta = 15 # Number of augmentations for each image\n",
        "tta_ratio = 0.9 # (1 - tta_ratio) * raw prediction logits + tta_ratio * average tta prediction logits\n",
        "\n",
        "raw_valid_set = FoodDataset(os.path.join(cfg['dataset_root'], \"validation\"), tfm=test_tfm)\n",
        "raw_valid_loader = DataLoader(raw_valid_set, batch_size=cfg['batch_size'], shuffle=False, num_workers=0, pin_memory=True)\n",
        "tta_valid_set = FoodDataset(os.path.join(cfg['dataset_root'], \"validation\"), tfm=train_tfm)\n",
        "tta_valid_loader = DataLoader(tta_valid_set, batch_size=cfg['batch_size'], shuffle=False, num_workers=0, pin_memory=True)\n",
        "\n",
        "# \"cuda\" only when GPUs are available.\n",
        "device = \"cuda\" if torch.cuda.is_available() else \"cpu\"\n",
        "\n",
        "# Load model from {exp_name}/student_best.ckpt\n",
        "student_model_best = get_student_model() # get a new student model to avoid reference before assignment.\n",
        "ckpt_path = f\"{save_path}/student_best.ckpt\" # the ckpt path of the best student model.\n",
        "student_model_best.load_state_dict(torch.load(ckpt_path, map_location='cpu')) # load the state dict and set it to the student model\n",
        "student_model_best.to(device) # set the student model to device\n",
        "\n",
        "# Start evaluate\n",
        "student_model_best.eval()\n",
        "\n",
        "raw_predictions, ground_truths = make_predictions(student_model_best, raw_valid_loader)\n",
        "\n",
        "tta_predictions = None\n",
        "\n",
        "for _ in range(n_tta):\n",
        "    \n",
        "    tmp_tta_predictions, _ = make_predictions(student_model_best, tta_valid_loader)\n",
        "        \n",
        "    if tta_predictions is None:\n",
        "        tta_predictions = tmp_tta_predictions\n",
        "    else:\n",
        "        tta_predictions += tmp_tta_predictions\n",
        "\n",
        "final_predictions = (1-tta_ratio) * raw_predictions + tta_ratio * tta_predictions / n_tta\n",
        "\n",
        "tta_valid_acc = (final_predictions.argmax(axis=-1) == ground_truths).mean()\n",
        "\n",
        "print(f\"TTA Valid acc = {tta_valid_acc:.5f}\")"
      ]
    },
    {
      "cell_type": "markdown",
      "metadata": {
        "id": "pZDwoTEISz5m"
      },
      "source": [
        "### Inference\n",
        "load the best model of the experiment and generate submission.csv"
      ]
    },
    {
      "cell_type": "code",
      "execution_count": 20,
      "metadata": {
        "colab": {
          "base_uri": "https://localhost:8080/"
        },
        "execution": {
          "iopub.execute_input": "2022-05-24T10:14:38.831095Z",
          "iopub.status.busy": "2022-05-24T10:14:38.830275Z",
          "iopub.status.idle": "2022-05-24T10:14:38.849204Z",
          "shell.execute_reply": "2022-05-24T10:14:38.848517Z",
          "shell.execute_reply.started": "2022-05-24T10:14:38.831041Z"
        },
        "id": "QHeuiLSDSz5m",
        "outputId": "c9be140f-c084-4223-b167-abcf3a931092",
        "trusted": true
      },
      "outputs": [
        {
          "name": "stdout",
          "output_type": "stream",
          "text": [
            "One ./food11-hw13\\evaluation sample ./food11-hw13\\evaluation\\0000.jpg\n",
            "One ./food11-hw13\\evaluation sample ./food11-hw13\\evaluation\\0000.jpg\n"
          ]
        },
        {
          "data": {
            "application/vnd.jupyter.widget-view+json": {
              "model_id": "5919bc507dd74c6487c1459e5651a984",
              "version_major": 2,
              "version_minor": 0
            },
            "text/plain": [
              "  0%|          | 0/53 [00:00<?, ?it/s]"
            ]
          },
          "metadata": {},
          "output_type": "display_data"
        },
        {
          "data": {
            "application/vnd.jupyter.widget-view+json": {
              "model_id": "06abf5915ae645c585cdcb7321d881d7",
              "version_major": 2,
              "version_minor": 0
            },
            "text/plain": [
              "  0%|          | 0/53 [00:00<?, ?it/s]"
            ]
          },
          "metadata": {},
          "output_type": "display_data"
        },
        {
          "data": {
            "application/vnd.jupyter.widget-view+json": {
              "model_id": "1473f74bfd3941ce8c83483aa7e48b9a",
              "version_major": 2,
              "version_minor": 0
            },
            "text/plain": [
              "  0%|          | 0/53 [00:00<?, ?it/s]"
            ]
          },
          "metadata": {},
          "output_type": "display_data"
        },
        {
          "data": {
            "application/vnd.jupyter.widget-view+json": {
              "model_id": "4f154e8266654a8995c7433172064120",
              "version_major": 2,
              "version_minor": 0
            },
            "text/plain": [
              "  0%|          | 0/53 [00:00<?, ?it/s]"
            ]
          },
          "metadata": {},
          "output_type": "display_data"
        },
        {
          "data": {
            "application/vnd.jupyter.widget-view+json": {
              "model_id": "e9940b90cf93404087063904e88fae30",
              "version_major": 2,
              "version_minor": 0
            },
            "text/plain": [
              "  0%|          | 0/53 [00:00<?, ?it/s]"
            ]
          },
          "metadata": {},
          "output_type": "display_data"
        },
        {
          "data": {
            "application/vnd.jupyter.widget-view+json": {
              "model_id": "2e7a84510cee4264b44b3c18b043a89c",
              "version_major": 2,
              "version_minor": 0
            },
            "text/plain": [
              "  0%|          | 0/53 [00:00<?, ?it/s]"
            ]
          },
          "metadata": {},
          "output_type": "display_data"
        },
        {
          "data": {
            "application/vnd.jupyter.widget-view+json": {
              "model_id": "002f9c2ec53242f8be50ca323289c280",
              "version_major": 2,
              "version_minor": 0
            },
            "text/plain": [
              "  0%|          | 0/53 [00:00<?, ?it/s]"
            ]
          },
          "metadata": {},
          "output_type": "display_data"
        },
        {
          "data": {
            "application/vnd.jupyter.widget-view+json": {
              "model_id": "f12504973e43424daf8782ae94bbd5bb",
              "version_major": 2,
              "version_minor": 0
            },
            "text/plain": [
              "  0%|          | 0/53 [00:00<?, ?it/s]"
            ]
          },
          "metadata": {},
          "output_type": "display_data"
        },
        {
          "data": {
            "application/vnd.jupyter.widget-view+json": {
              "model_id": "57c5a7ab760646998238285787bbacc6",
              "version_major": 2,
              "version_minor": 0
            },
            "text/plain": [
              "  0%|          | 0/53 [00:00<?, ?it/s]"
            ]
          },
          "metadata": {},
          "output_type": "display_data"
        },
        {
          "data": {
            "application/vnd.jupyter.widget-view+json": {
              "model_id": "a6ae7efac604451d8d9e68df7dd8d6f1",
              "version_major": 2,
              "version_minor": 0
            },
            "text/plain": [
              "  0%|          | 0/53 [00:00<?, ?it/s]"
            ]
          },
          "metadata": {},
          "output_type": "display_data"
        },
        {
          "data": {
            "application/vnd.jupyter.widget-view+json": {
              "model_id": "192f7562e2654c8c996d229410f346a1",
              "version_major": 2,
              "version_minor": 0
            },
            "text/plain": [
              "  0%|          | 0/53 [00:00<?, ?it/s]"
            ]
          },
          "metadata": {},
          "output_type": "display_data"
        },
        {
          "data": {
            "application/vnd.jupyter.widget-view+json": {
              "model_id": "c577adcf3b4e4c5b8c8b71b37a924666",
              "version_major": 2,
              "version_minor": 0
            },
            "text/plain": [
              "  0%|          | 0/53 [00:00<?, ?it/s]"
            ]
          },
          "metadata": {},
          "output_type": "display_data"
        },
        {
          "data": {
            "application/vnd.jupyter.widget-view+json": {
              "model_id": "7c31a6e604664d13b8c6c9db114033be",
              "version_major": 2,
              "version_minor": 0
            },
            "text/plain": [
              "  0%|          | 0/53 [00:00<?, ?it/s]"
            ]
          },
          "metadata": {},
          "output_type": "display_data"
        },
        {
          "data": {
            "application/vnd.jupyter.widget-view+json": {
              "model_id": "5eaa846fafeb4fe59edab52fec401fb5",
              "version_major": 2,
              "version_minor": 0
            },
            "text/plain": [
              "  0%|          | 0/53 [00:00<?, ?it/s]"
            ]
          },
          "metadata": {},
          "output_type": "display_data"
        },
        {
          "data": {
            "application/vnd.jupyter.widget-view+json": {
              "model_id": "7015f71612184684bf954fa624e84203",
              "version_major": 2,
              "version_minor": 0
            },
            "text/plain": [
              "  0%|          | 0/53 [00:00<?, ?it/s]"
            ]
          },
          "metadata": {},
          "output_type": "display_data"
        },
        {
          "data": {
            "application/vnd.jupyter.widget-view+json": {
              "model_id": "b41d8bece2854a19b61404696d0fb74b",
              "version_major": 2,
              "version_minor": 0
            },
            "text/plain": [
              "  0%|          | 0/53 [00:00<?, ?it/s]"
            ]
          },
          "metadata": {},
          "output_type": "display_data"
        }
      ],
      "source": [
        "# Test time augmentation for test set\n",
        "n_tta = 15 # Number of augmentations for each image\n",
        "tta_ratio = 0.9 # (1 - tta_ratio) * raw prediction logits + tta_ratio * average tta prediction logits\n",
        "\n",
        "# create dataloader for evaluation\n",
        "eval_set = FoodDataset(os.path.join(cfg['dataset_root'], \"evaluation\"), tfm=test_tfm)\n",
        "tta_eval_set = FoodDataset(os.path.join(cfg['dataset_root'], \"evaluation\"), tfm=train_tfm)\n",
        "eval_loader = DataLoader(eval_set, batch_size=cfg['batch_size'], shuffle=False, num_workers=0, pin_memory=True)\n",
        "tta_eval_loader = DataLoader(tta_eval_set, batch_size=cfg['batch_size'], shuffle=False, num_workers=0, pin_memory=True)\n",
        "\n",
        "# \"cuda\" only when GPUs are available.\n",
        "device = \"cuda\" if torch.cuda.is_available() else \"cpu\"\n",
        "\n",
        "# Load model from {exp_name}/student_best.ckpt\n",
        "student_model_best = get_student_model() # get a new student model to avoid reference before assignment.\n",
        "ckpt_path = f\"{save_path}/student_best.ckpt\" # the ckpt path of the best student model.\n",
        "student_model_best.load_state_dict(torch.load(ckpt_path, map_location='cpu')) # load the state dict and set it to the student model\n",
        "student_model_best.to(device) # set the student model to device\n",
        "\n",
        "# Start evaluate\n",
        "student_model_best.eval()\n",
        "\n",
        "raw_predictions, ground_truths = make_predictions(student_model_best, eval_loader)\n",
        "\n",
        "tta_predictions = None\n",
        "\n",
        "for _ in range(n_tta):\n",
        "    \n",
        "    tmp_tta_predictions, _ = make_predictions(student_model_best, tta_eval_loader)\n",
        "        \n",
        "    if tta_predictions is None:\n",
        "        tta_predictions = tmp_tta_predictions\n",
        "    else:\n",
        "        tta_predictions += tmp_tta_predictions\n",
        "\n",
        "eval_preds = (1-tta_ratio) * raw_predictions + tta_ratio * tta_predictions / n_tta\n",
        "eval_preds = np.argmax(eval_preds, axis=-1).squeeze().tolist()"
      ]
    },
    {
      "cell_type": "code",
      "execution_count": 21,
      "metadata": {
        "colab": {
          "base_uri": "https://localhost:8080/",
          "height": 49,
          "referenced_widgets": [
            "8f85ab10b6a141c2a961a3caa355df7a",
            "7a0388ef17e04638aab828dbc6634c0d",
            "7aa21085a69c4a989cece2676a2eb0a0",
            "e869e09db5dc4ed382ddab706a08e5b2",
            "4e50124253664e72be340a9a25d81531",
            "070968e3e0524d5994129fcfa41632f0",
            "bc5b34f1ef1f41809ca1659b706cdf23",
            "201d847981144c61adb5248cc4d163fb",
            "06bf19929e4e4715826c6aa554c6aa08",
            "c6b96a5ee0fc4849be91b53f31aa803c",
            "844036173c014524a9dda33963a4ea7c"
          ]
        },
        "execution": {
          "iopub.execute_input": "2022-05-24T10:14:38.851086Z",
          "iopub.status.busy": "2022-05-24T10:14:38.850823Z",
          "iopub.status.idle": "2022-05-24T10:15:22.633143Z",
          "shell.execute_reply": "2022-05-24T10:15:22.632222Z",
          "shell.execute_reply.started": "2022-05-24T10:14:38.851051Z"
        },
        "id": "6BsLuZLkSz5m",
        "outputId": "758863c1-4789-4f1f-d801-1237a3656c6a",
        "trusted": true
      },
      "outputs": [],
      "source": [
        "# # Load model from {exp_name}/student_best.ckpt\n",
        "# student_model_best = get_student_model() # get a new student model to avoid reference before assignment.\n",
        "# ckpt_path = f\"{save_path}/student_best.ckpt\" # the ckpt path of the best student model.\n",
        "# student_model_best.load_state_dict(torch.load(ckpt_path, map_location='cpu')) # load the state dict and set it to the student model\n",
        "# student_model_best.to(device) # set the student model to device\n",
        "\n",
        "# # Start evaluate\n",
        "# student_model_best.eval()\n",
        "# eval_preds = [] # storing predictions of the evaluation dataset\n",
        "\n",
        "# # Iterate the validation set by batches.\n",
        "# for batch in tqdm(eval_loader):\n",
        "#     # A batch consists of image data and corresponding labels.\n",
        "#     imgs, _ = batch\n",
        "#     # We don't need gradient in evaluation.\n",
        "#     # Using torch.no_grad() accelerates the forward process.\n",
        "#     with torch.no_grad():\n",
        "#         logits = student_model_best(imgs.to(device))\n",
        "#         preds = list(logits.argmax(dim=-1).squeeze().cpu().numpy())\n",
        "#     # loss and acc can not be calculated because we do not have the true labels of the evaluation set.\n",
        "#     eval_preds += preds\n",
        "\n",
        "def pad4(i):\n",
        "    return \"0\"*(4-len(str(i))) + str(i)\n",
        "\n",
        "# Save prediction results\n",
        "ids = [pad4(i) for i in range(0,len(eval_set))]\n",
        "categories = eval_preds\n",
        "\n",
        "df = pd.DataFrame()\n",
        "df['Id'] = ids\n",
        "df['Category'] = categories\n",
        "df.to_csv(f\"{save_path}/submission.csv\", index=False) # now you can download the submission.csv and upload it to the kaggle competition."
      ]
    },
    {
      "cell_type": "markdown",
      "metadata": {
        "id": "998GNALevLAe"
      },
      "source": [
        "> Don't forget to answer the report questions on GradeScope!"
      ]
    }
  ],
  "metadata": {
    "accelerator": "GPU",
    "colab": {
      "provenance": []
    },
    "kernelspec": {
      "display_name": "Python 3",
      "language": "python",
      "name": "python3"
    },
    "language_info": {
      "codemirror_mode": {
        "name": "ipython",
        "version": 3
      },
      "file_extension": ".py",
      "mimetype": "text/x-python",
      "name": "python",
      "nbconvert_exporter": "python",
      "pygments_lexer": "ipython3",
      "version": "3.10.5"
    },
    "widgets": {
      "application/vnd.jupyter.widget-state+json": {
        "00fc2323728a4b00a0c67e1d5b8452b2": {
          "model_module": "@jupyter-widgets/base",
          "model_module_version": "1.2.0",
          "model_name": "LayoutModel",
          "state": {
            "_model_module": "@jupyter-widgets/base",
            "_model_module_version": "1.2.0",
            "_model_name": "LayoutModel",
            "_view_count": null,
            "_view_module": "@jupyter-widgets/base",
            "_view_module_version": "1.2.0",
            "_view_name": "LayoutView",
            "align_content": null,
            "align_items": null,
            "align_self": null,
            "border": null,
            "bottom": null,
            "display": null,
            "flex": null,
            "flex_flow": null,
            "grid_area": null,
            "grid_auto_columns": null,
            "grid_auto_flow": null,
            "grid_auto_rows": null,
            "grid_column": null,
            "grid_gap": null,
            "grid_row": null,
            "grid_template_areas": null,
            "grid_template_columns": null,
            "grid_template_rows": null,
            "height": null,
            "justify_content": null,
            "justify_items": null,
            "left": null,
            "margin": null,
            "max_height": null,
            "max_width": null,
            "min_height": null,
            "min_width": null,
            "object_fit": null,
            "object_position": null,
            "order": null,
            "overflow": null,
            "overflow_x": null,
            "overflow_y": null,
            "padding": null,
            "right": null,
            "top": null,
            "visibility": null,
            "width": null
          }
        },
        "010fbb7a481d41e4a2c2947cb3d98c1a": {
          "model_module": "@jupyter-widgets/controls",
          "model_module_version": "1.5.0",
          "model_name": "DescriptionStyleModel",
          "state": {
            "_model_module": "@jupyter-widgets/controls",
            "_model_module_version": "1.5.0",
            "_model_name": "DescriptionStyleModel",
            "_view_count": null,
            "_view_module": "@jupyter-widgets/base",
            "_view_module_version": "1.2.0",
            "_view_name": "StyleView",
            "description_width": ""
          }
        },
        "01c9facfa0364941a2e50fa0357e87d0": {
          "model_module": "@jupyter-widgets/base",
          "model_module_version": "1.2.0",
          "model_name": "LayoutModel",
          "state": {
            "_model_module": "@jupyter-widgets/base",
            "_model_module_version": "1.2.0",
            "_model_name": "LayoutModel",
            "_view_count": null,
            "_view_module": "@jupyter-widgets/base",
            "_view_module_version": "1.2.0",
            "_view_name": "LayoutView",
            "align_content": null,
            "align_items": null,
            "align_self": null,
            "border": null,
            "bottom": null,
            "display": null,
            "flex": null,
            "flex_flow": null,
            "grid_area": null,
            "grid_auto_columns": null,
            "grid_auto_flow": null,
            "grid_auto_rows": null,
            "grid_column": null,
            "grid_gap": null,
            "grid_row": null,
            "grid_template_areas": null,
            "grid_template_columns": null,
            "grid_template_rows": null,
            "height": null,
            "justify_content": null,
            "justify_items": null,
            "left": null,
            "margin": null,
            "max_height": null,
            "max_width": null,
            "min_height": null,
            "min_width": null,
            "object_fit": null,
            "object_position": null,
            "order": null,
            "overflow": null,
            "overflow_x": null,
            "overflow_y": null,
            "padding": null,
            "right": null,
            "top": null,
            "visibility": null,
            "width": null
          }
        },
        "02fb3583966f4ec2be6bc71d6a41886a": {
          "model_module": "@jupyter-widgets/base",
          "model_module_version": "1.2.0",
          "model_name": "LayoutModel",
          "state": {
            "_model_module": "@jupyter-widgets/base",
            "_model_module_version": "1.2.0",
            "_model_name": "LayoutModel",
            "_view_count": null,
            "_view_module": "@jupyter-widgets/base",
            "_view_module_version": "1.2.0",
            "_view_name": "LayoutView",
            "align_content": null,
            "align_items": null,
            "align_self": null,
            "border": null,
            "bottom": null,
            "display": null,
            "flex": null,
            "flex_flow": null,
            "grid_area": null,
            "grid_auto_columns": null,
            "grid_auto_flow": null,
            "grid_auto_rows": null,
            "grid_column": null,
            "grid_gap": null,
            "grid_row": null,
            "grid_template_areas": null,
            "grid_template_columns": null,
            "grid_template_rows": null,
            "height": null,
            "justify_content": null,
            "justify_items": null,
            "left": null,
            "margin": null,
            "max_height": null,
            "max_width": null,
            "min_height": null,
            "min_width": null,
            "object_fit": null,
            "object_position": null,
            "order": null,
            "overflow": null,
            "overflow_x": null,
            "overflow_y": null,
            "padding": null,
            "right": null,
            "top": null,
            "visibility": null,
            "width": null
          }
        },
        "04423ed4c3914a3a9180bb7b934d53cd": {
          "model_module": "@jupyter-widgets/controls",
          "model_module_version": "1.5.0",
          "model_name": "FloatProgressModel",
          "state": {
            "_dom_classes": [],
            "_model_module": "@jupyter-widgets/controls",
            "_model_module_version": "1.5.0",
            "_model_name": "FloatProgressModel",
            "_view_count": null,
            "_view_module": "@jupyter-widgets/controls",
            "_view_module_version": "1.5.0",
            "_view_name": "ProgressView",
            "bar_style": "success",
            "description": "",
            "description_tooltip": null,
            "layout": "IPY_MODEL_bdc230bca5b74ab2b4bd7621e7e3c762",
            "max": 155,
            "min": 0,
            "orientation": "horizontal",
            "style": "IPY_MODEL_5e43375adbc542e193d0d51126879ffb",
            "value": 155
          }
        },
        "046f36abe13748818f3644880e98c2f5": {
          "model_module": "@jupyter-widgets/base",
          "model_module_version": "1.2.0",
          "model_name": "LayoutModel",
          "state": {
            "_model_module": "@jupyter-widgets/base",
            "_model_module_version": "1.2.0",
            "_model_name": "LayoutModel",
            "_view_count": null,
            "_view_module": "@jupyter-widgets/base",
            "_view_module_version": "1.2.0",
            "_view_name": "LayoutView",
            "align_content": null,
            "align_items": null,
            "align_self": null,
            "border": null,
            "bottom": null,
            "display": null,
            "flex": null,
            "flex_flow": null,
            "grid_area": null,
            "grid_auto_columns": null,
            "grid_auto_flow": null,
            "grid_auto_rows": null,
            "grid_column": null,
            "grid_gap": null,
            "grid_row": null,
            "grid_template_areas": null,
            "grid_template_columns": null,
            "grid_template_rows": null,
            "height": null,
            "justify_content": null,
            "justify_items": null,
            "left": null,
            "margin": null,
            "max_height": null,
            "max_width": null,
            "min_height": null,
            "min_width": null,
            "object_fit": null,
            "object_position": null,
            "order": null,
            "overflow": null,
            "overflow_x": null,
            "overflow_y": null,
            "padding": null,
            "right": null,
            "top": null,
            "visibility": null,
            "width": null
          }
        },
        "04a4d61cf0464568b05d4d0fa401ff0b": {
          "model_module": "@jupyter-widgets/controls",
          "model_module_version": "1.5.0",
          "model_name": "DescriptionStyleModel",
          "state": {
            "_model_module": "@jupyter-widgets/controls",
            "_model_module_version": "1.5.0",
            "_model_name": "DescriptionStyleModel",
            "_view_count": null,
            "_view_module": "@jupyter-widgets/base",
            "_view_module_version": "1.2.0",
            "_view_name": "StyleView",
            "description_width": ""
          }
        },
        "04c519315cfd4a1c98086c6e85febc4e": {
          "model_module": "@jupyter-widgets/controls",
          "model_module_version": "1.5.0",
          "model_name": "HTMLModel",
          "state": {
            "_dom_classes": [],
            "_model_module": "@jupyter-widgets/controls",
            "_model_module_version": "1.5.0",
            "_model_name": "HTMLModel",
            "_view_count": null,
            "_view_module": "@jupyter-widgets/controls",
            "_view_module_version": "1.5.0",
            "_view_name": "HTMLView",
            "description": "",
            "description_tooltip": null,
            "layout": "IPY_MODEL_1b8cd39e0c2542319c798616c940bd22",
            "placeholder": "​",
            "style": "IPY_MODEL_07849836ce5d4411ae8a57cc9608d39b",
            "value": "100%"
          }
        },
        "05bfe20e7ac747aca93b601fa372c86c": {
          "model_module": "@jupyter-widgets/base",
          "model_module_version": "1.2.0",
          "model_name": "LayoutModel",
          "state": {
            "_model_module": "@jupyter-widgets/base",
            "_model_module_version": "1.2.0",
            "_model_name": "LayoutModel",
            "_view_count": null,
            "_view_module": "@jupyter-widgets/base",
            "_view_module_version": "1.2.0",
            "_view_name": "LayoutView",
            "align_content": null,
            "align_items": null,
            "align_self": null,
            "border": null,
            "bottom": null,
            "display": null,
            "flex": null,
            "flex_flow": null,
            "grid_area": null,
            "grid_auto_columns": null,
            "grid_auto_flow": null,
            "grid_auto_rows": null,
            "grid_column": null,
            "grid_gap": null,
            "grid_row": null,
            "grid_template_areas": null,
            "grid_template_columns": null,
            "grid_template_rows": null,
            "height": null,
            "justify_content": null,
            "justify_items": null,
            "left": null,
            "margin": null,
            "max_height": null,
            "max_width": null,
            "min_height": null,
            "min_width": null,
            "object_fit": null,
            "object_position": null,
            "order": null,
            "overflow": null,
            "overflow_x": null,
            "overflow_y": null,
            "padding": null,
            "right": null,
            "top": null,
            "visibility": null,
            "width": null
          }
        },
        "05e2dec7eaa746b483c6bbc6072b2453": {
          "model_module": "@jupyter-widgets/base",
          "model_module_version": "1.2.0",
          "model_name": "LayoutModel",
          "state": {
            "_model_module": "@jupyter-widgets/base",
            "_model_module_version": "1.2.0",
            "_model_name": "LayoutModel",
            "_view_count": null,
            "_view_module": "@jupyter-widgets/base",
            "_view_module_version": "1.2.0",
            "_view_name": "LayoutView",
            "align_content": null,
            "align_items": null,
            "align_self": null,
            "border": null,
            "bottom": null,
            "display": null,
            "flex": null,
            "flex_flow": null,
            "grid_area": null,
            "grid_auto_columns": null,
            "grid_auto_flow": null,
            "grid_auto_rows": null,
            "grid_column": null,
            "grid_gap": null,
            "grid_row": null,
            "grid_template_areas": null,
            "grid_template_columns": null,
            "grid_template_rows": null,
            "height": null,
            "justify_content": null,
            "justify_items": null,
            "left": null,
            "margin": null,
            "max_height": null,
            "max_width": null,
            "min_height": null,
            "min_width": null,
            "object_fit": null,
            "object_position": null,
            "order": null,
            "overflow": null,
            "overflow_x": null,
            "overflow_y": null,
            "padding": null,
            "right": null,
            "top": null,
            "visibility": null,
            "width": null
          }
        },
        "066a35fe83644135a1828c842d71acff": {
          "model_module": "@jupyter-widgets/controls",
          "model_module_version": "1.5.0",
          "model_name": "DescriptionStyleModel",
          "state": {
            "_model_module": "@jupyter-widgets/controls",
            "_model_module_version": "1.5.0",
            "_model_name": "DescriptionStyleModel",
            "_view_count": null,
            "_view_module": "@jupyter-widgets/base",
            "_view_module_version": "1.2.0",
            "_view_name": "StyleView",
            "description_width": ""
          }
        },
        "06bf19929e4e4715826c6aa554c6aa08": {
          "model_module": "@jupyter-widgets/controls",
          "model_module_version": "1.5.0",
          "model_name": "ProgressStyleModel",
          "state": {
            "_model_module": "@jupyter-widgets/controls",
            "_model_module_version": "1.5.0",
            "_model_name": "ProgressStyleModel",
            "_view_count": null,
            "_view_module": "@jupyter-widgets/base",
            "_view_module_version": "1.2.0",
            "_view_name": "StyleView",
            "bar_color": null,
            "description_width": ""
          }
        },
        "070968e3e0524d5994129fcfa41632f0": {
          "model_module": "@jupyter-widgets/base",
          "model_module_version": "1.2.0",
          "model_name": "LayoutModel",
          "state": {
            "_model_module": "@jupyter-widgets/base",
            "_model_module_version": "1.2.0",
            "_model_name": "LayoutModel",
            "_view_count": null,
            "_view_module": "@jupyter-widgets/base",
            "_view_module_version": "1.2.0",
            "_view_name": "LayoutView",
            "align_content": null,
            "align_items": null,
            "align_self": null,
            "border": null,
            "bottom": null,
            "display": null,
            "flex": null,
            "flex_flow": null,
            "grid_area": null,
            "grid_auto_columns": null,
            "grid_auto_flow": null,
            "grid_auto_rows": null,
            "grid_column": null,
            "grid_gap": null,
            "grid_row": null,
            "grid_template_areas": null,
            "grid_template_columns": null,
            "grid_template_rows": null,
            "height": null,
            "justify_content": null,
            "justify_items": null,
            "left": null,
            "margin": null,
            "max_height": null,
            "max_width": null,
            "min_height": null,
            "min_width": null,
            "object_fit": null,
            "object_position": null,
            "order": null,
            "overflow": null,
            "overflow_x": null,
            "overflow_y": null,
            "padding": null,
            "right": null,
            "top": null,
            "visibility": null,
            "width": null
          }
        },
        "072179626d7d4d76be3047c4fca95480": {
          "model_module": "@jupyter-widgets/controls",
          "model_module_version": "1.5.0",
          "model_name": "HTMLModel",
          "state": {
            "_dom_classes": [],
            "_model_module": "@jupyter-widgets/controls",
            "_model_module_version": "1.5.0",
            "_model_name": "HTMLModel",
            "_view_count": null,
            "_view_module": "@jupyter-widgets/controls",
            "_view_module_version": "1.5.0",
            "_view_name": "HTMLView",
            "description": "",
            "description_tooltip": null,
            "layout": "IPY_MODEL_218feb18759c4f02984b5cf1b0543cd9",
            "placeholder": "​",
            "style": "IPY_MODEL_84c44d3aec7847e3ac21a6e11735fa28",
            "value": " 155/155 [03:15&lt;00:00,  1.02it/s]"
          }
        },
        "07849836ce5d4411ae8a57cc9608d39b": {
          "model_module": "@jupyter-widgets/controls",
          "model_module_version": "1.5.0",
          "model_name": "DescriptionStyleModel",
          "state": {
            "_model_module": "@jupyter-widgets/controls",
            "_model_module_version": "1.5.0",
            "_model_name": "DescriptionStyleModel",
            "_view_count": null,
            "_view_module": "@jupyter-widgets/base",
            "_view_module_version": "1.2.0",
            "_view_name": "StyleView",
            "description_width": ""
          }
        },
        "08ebfb59b4c74bdeb4c08b67b3464a28": {
          "model_module": "@jupyter-widgets/base",
          "model_module_version": "1.2.0",
          "model_name": "LayoutModel",
          "state": {
            "_model_module": "@jupyter-widgets/base",
            "_model_module_version": "1.2.0",
            "_model_name": "LayoutModel",
            "_view_count": null,
            "_view_module": "@jupyter-widgets/base",
            "_view_module_version": "1.2.0",
            "_view_name": "LayoutView",
            "align_content": null,
            "align_items": null,
            "align_self": null,
            "border": null,
            "bottom": null,
            "display": null,
            "flex": null,
            "flex_flow": null,
            "grid_area": null,
            "grid_auto_columns": null,
            "grid_auto_flow": null,
            "grid_auto_rows": null,
            "grid_column": null,
            "grid_gap": null,
            "grid_row": null,
            "grid_template_areas": null,
            "grid_template_columns": null,
            "grid_template_rows": null,
            "height": null,
            "justify_content": null,
            "justify_items": null,
            "left": null,
            "margin": null,
            "max_height": null,
            "max_width": null,
            "min_height": null,
            "min_width": null,
            "object_fit": null,
            "object_position": null,
            "order": null,
            "overflow": null,
            "overflow_x": null,
            "overflow_y": null,
            "padding": null,
            "right": null,
            "top": null,
            "visibility": null,
            "width": null
          }
        },
        "092f2e9cf02b4626a078a6b0c224b590": {
          "model_module": "@jupyter-widgets/base",
          "model_module_version": "1.2.0",
          "model_name": "LayoutModel",
          "state": {
            "_model_module": "@jupyter-widgets/base",
            "_model_module_version": "1.2.0",
            "_model_name": "LayoutModel",
            "_view_count": null,
            "_view_module": "@jupyter-widgets/base",
            "_view_module_version": "1.2.0",
            "_view_name": "LayoutView",
            "align_content": null,
            "align_items": null,
            "align_self": null,
            "border": null,
            "bottom": null,
            "display": null,
            "flex": null,
            "flex_flow": null,
            "grid_area": null,
            "grid_auto_columns": null,
            "grid_auto_flow": null,
            "grid_auto_rows": null,
            "grid_column": null,
            "grid_gap": null,
            "grid_row": null,
            "grid_template_areas": null,
            "grid_template_columns": null,
            "grid_template_rows": null,
            "height": null,
            "justify_content": null,
            "justify_items": null,
            "left": null,
            "margin": null,
            "max_height": null,
            "max_width": null,
            "min_height": null,
            "min_width": null,
            "object_fit": null,
            "object_position": null,
            "order": null,
            "overflow": null,
            "overflow_x": null,
            "overflow_y": null,
            "padding": null,
            "right": null,
            "top": null,
            "visibility": null,
            "width": null
          }
        },
        "0bdeb465416b4d5d938c02e5592c9181": {
          "model_module": "@jupyter-widgets/base",
          "model_module_version": "1.2.0",
          "model_name": "LayoutModel",
          "state": {
            "_model_module": "@jupyter-widgets/base",
            "_model_module_version": "1.2.0",
            "_model_name": "LayoutModel",
            "_view_count": null,
            "_view_module": "@jupyter-widgets/base",
            "_view_module_version": "1.2.0",
            "_view_name": "LayoutView",
            "align_content": null,
            "align_items": null,
            "align_self": null,
            "border": null,
            "bottom": null,
            "display": null,
            "flex": null,
            "flex_flow": null,
            "grid_area": null,
            "grid_auto_columns": null,
            "grid_auto_flow": null,
            "grid_auto_rows": null,
            "grid_column": null,
            "grid_gap": null,
            "grid_row": null,
            "grid_template_areas": null,
            "grid_template_columns": null,
            "grid_template_rows": null,
            "height": null,
            "justify_content": null,
            "justify_items": null,
            "left": null,
            "margin": null,
            "max_height": null,
            "max_width": null,
            "min_height": null,
            "min_width": null,
            "object_fit": null,
            "object_position": null,
            "order": null,
            "overflow": null,
            "overflow_x": null,
            "overflow_y": null,
            "padding": null,
            "right": null,
            "top": null,
            "visibility": null,
            "width": null
          }
        },
        "0c2040f52cc545ef8afc3d3174452cbd": {
          "model_module": "@jupyter-widgets/controls",
          "model_module_version": "1.5.0",
          "model_name": "HBoxModel",
          "state": {
            "_dom_classes": [],
            "_model_module": "@jupyter-widgets/controls",
            "_model_module_version": "1.5.0",
            "_model_name": "HBoxModel",
            "_view_count": null,
            "_view_module": "@jupyter-widgets/controls",
            "_view_module_version": "1.5.0",
            "_view_name": "HBoxView",
            "box_style": "",
            "children": [
              "IPY_MODEL_725742c9e9a94e8b878488de3fb813c3",
              "IPY_MODEL_0f8ef84e1da84620b14db7c03c4221ba",
              "IPY_MODEL_331fc11300df4ef186a3d990baab3825"
            ],
            "layout": "IPY_MODEL_561eeef2bc4542dd95f956c52617642a"
          }
        },
        "0f4c3dde1470477489babe7af7dd4269": {
          "model_module": "@jupyter-widgets/base",
          "model_module_version": "1.2.0",
          "model_name": "LayoutModel",
          "state": {
            "_model_module": "@jupyter-widgets/base",
            "_model_module_version": "1.2.0",
            "_model_name": "LayoutModel",
            "_view_count": null,
            "_view_module": "@jupyter-widgets/base",
            "_view_module_version": "1.2.0",
            "_view_name": "LayoutView",
            "align_content": null,
            "align_items": null,
            "align_self": null,
            "border": null,
            "bottom": null,
            "display": null,
            "flex": null,
            "flex_flow": null,
            "grid_area": null,
            "grid_auto_columns": null,
            "grid_auto_flow": null,
            "grid_auto_rows": null,
            "grid_column": null,
            "grid_gap": null,
            "grid_row": null,
            "grid_template_areas": null,
            "grid_template_columns": null,
            "grid_template_rows": null,
            "height": null,
            "justify_content": null,
            "justify_items": null,
            "left": null,
            "margin": null,
            "max_height": null,
            "max_width": null,
            "min_height": null,
            "min_width": null,
            "object_fit": null,
            "object_position": null,
            "order": null,
            "overflow": null,
            "overflow_x": null,
            "overflow_y": null,
            "padding": null,
            "right": null,
            "top": null,
            "visibility": null,
            "width": null
          }
        },
        "0f8ef84e1da84620b14db7c03c4221ba": {
          "model_module": "@jupyter-widgets/controls",
          "model_module_version": "1.5.0",
          "model_name": "FloatProgressModel",
          "state": {
            "_dom_classes": [],
            "_model_module": "@jupyter-widgets/controls",
            "_model_module_version": "1.5.0",
            "_model_name": "FloatProgressModel",
            "_view_count": null,
            "_view_module": "@jupyter-widgets/controls",
            "_view_module_version": "1.5.0",
            "_view_name": "ProgressView",
            "bar_style": "success",
            "description": "",
            "description_tooltip": null,
            "layout": "IPY_MODEL_2523a48fb7054a4b8f9484f75255f2a4",
            "max": 54,
            "min": 0,
            "orientation": "horizontal",
            "style": "IPY_MODEL_a6c2610e1d024d75aea5ad0901955201",
            "value": 54
          }
        },
        "118ea863be58497db23d88812744d236": {
          "model_module": "@jupyter-widgets/base",
          "model_module_version": "1.2.0",
          "model_name": "LayoutModel",
          "state": {
            "_model_module": "@jupyter-widgets/base",
            "_model_module_version": "1.2.0",
            "_model_name": "LayoutModel",
            "_view_count": null,
            "_view_module": "@jupyter-widgets/base",
            "_view_module_version": "1.2.0",
            "_view_name": "LayoutView",
            "align_content": null,
            "align_items": null,
            "align_self": null,
            "border": null,
            "bottom": null,
            "display": null,
            "flex": null,
            "flex_flow": null,
            "grid_area": null,
            "grid_auto_columns": null,
            "grid_auto_flow": null,
            "grid_auto_rows": null,
            "grid_column": null,
            "grid_gap": null,
            "grid_row": null,
            "grid_template_areas": null,
            "grid_template_columns": null,
            "grid_template_rows": null,
            "height": null,
            "justify_content": null,
            "justify_items": null,
            "left": null,
            "margin": null,
            "max_height": null,
            "max_width": null,
            "min_height": null,
            "min_width": null,
            "object_fit": null,
            "object_position": null,
            "order": null,
            "overflow": null,
            "overflow_x": null,
            "overflow_y": null,
            "padding": null,
            "right": null,
            "top": null,
            "visibility": null,
            "width": null
          }
        },
        "123aa58c25b64704993907c64e148ecb": {
          "model_module": "@jupyter-widgets/base",
          "model_module_version": "1.2.0",
          "model_name": "LayoutModel",
          "state": {
            "_model_module": "@jupyter-widgets/base",
            "_model_module_version": "1.2.0",
            "_model_name": "LayoutModel",
            "_view_count": null,
            "_view_module": "@jupyter-widgets/base",
            "_view_module_version": "1.2.0",
            "_view_name": "LayoutView",
            "align_content": null,
            "align_items": null,
            "align_self": null,
            "border": null,
            "bottom": null,
            "display": null,
            "flex": null,
            "flex_flow": null,
            "grid_area": null,
            "grid_auto_columns": null,
            "grid_auto_flow": null,
            "grid_auto_rows": null,
            "grid_column": null,
            "grid_gap": null,
            "grid_row": null,
            "grid_template_areas": null,
            "grid_template_columns": null,
            "grid_template_rows": null,
            "height": null,
            "justify_content": null,
            "justify_items": null,
            "left": null,
            "margin": null,
            "max_height": null,
            "max_width": null,
            "min_height": null,
            "min_width": null,
            "object_fit": null,
            "object_position": null,
            "order": null,
            "overflow": null,
            "overflow_x": null,
            "overflow_y": null,
            "padding": null,
            "right": null,
            "top": null,
            "visibility": null,
            "width": null
          }
        },
        "125b0dee5cdd44af8d9aa2b9ce4f58fb": {
          "model_module": "@jupyter-widgets/controls",
          "model_module_version": "1.5.0",
          "model_name": "FloatProgressModel",
          "state": {
            "_dom_classes": [],
            "_model_module": "@jupyter-widgets/controls",
            "_model_module_version": "1.5.0",
            "_model_name": "FloatProgressModel",
            "_view_count": null,
            "_view_module": "@jupyter-widgets/controls",
            "_view_module_version": "1.5.0",
            "_view_name": "ProgressView",
            "bar_style": "success",
            "description": "",
            "description_tooltip": null,
            "layout": "IPY_MODEL_bfdbe8c4e241418bb49fbdf4a56a40f3",
            "max": 155,
            "min": 0,
            "orientation": "horizontal",
            "style": "IPY_MODEL_dbec5c617b7645ca9a7bc9c45be1129b",
            "value": 155
          }
        },
        "12ced012dae44b558232355818db7a29": {
          "model_module": "@jupyter-widgets/controls",
          "model_module_version": "1.5.0",
          "model_name": "ProgressStyleModel",
          "state": {
            "_model_module": "@jupyter-widgets/controls",
            "_model_module_version": "1.5.0",
            "_model_name": "ProgressStyleModel",
            "_view_count": null,
            "_view_module": "@jupyter-widgets/base",
            "_view_module_version": "1.2.0",
            "_view_name": "StyleView",
            "bar_color": null,
            "description_width": ""
          }
        },
        "12dd038d4db14da6b2b2ccc2b6183d41": {
          "model_module": "@jupyter-widgets/controls",
          "model_module_version": "1.5.0",
          "model_name": "FloatProgressModel",
          "state": {
            "_dom_classes": [],
            "_model_module": "@jupyter-widgets/controls",
            "_model_module_version": "1.5.0",
            "_model_name": "FloatProgressModel",
            "_view_count": null,
            "_view_module": "@jupyter-widgets/controls",
            "_view_module_version": "1.5.0",
            "_view_name": "ProgressView",
            "bar_style": "success",
            "description": "",
            "description_tooltip": null,
            "layout": "IPY_MODEL_67f99f699dfe49919e0437c6da5b7313",
            "max": 54,
            "min": 0,
            "orientation": "horizontal",
            "style": "IPY_MODEL_978750848a334675b7ef348fbb09c2bd",
            "value": 54
          }
        },
        "167f645d3cc047cc89f69adaab76d724": {
          "model_module": "@jupyter-widgets/controls",
          "model_module_version": "1.5.0",
          "model_name": "HTMLModel",
          "state": {
            "_dom_classes": [],
            "_model_module": "@jupyter-widgets/controls",
            "_model_module_version": "1.5.0",
            "_model_name": "HTMLModel",
            "_view_count": null,
            "_view_module": "@jupyter-widgets/controls",
            "_view_module_version": "1.5.0",
            "_view_name": "HTMLView",
            "description": "",
            "description_tooltip": null,
            "layout": "IPY_MODEL_236ed7971a0d4d06ad18f3fcfc24625a",
            "placeholder": "​",
            "style": "IPY_MODEL_253b03ad3c5743f2bb8fb5d05dc06350",
            "value": "100%"
          }
        },
        "1993592878f94a04b1b047ca5f5cfbcf": {
          "model_module": "@jupyter-widgets/controls",
          "model_module_version": "1.5.0",
          "model_name": "HTMLModel",
          "state": {
            "_dom_classes": [],
            "_model_module": "@jupyter-widgets/controls",
            "_model_module_version": "1.5.0",
            "_model_name": "HTMLModel",
            "_view_count": null,
            "_view_module": "@jupyter-widgets/controls",
            "_view_module_version": "1.5.0",
            "_view_name": "HTMLView",
            "description": "",
            "description_tooltip": null,
            "layout": "IPY_MODEL_71e3e9f47f824a3ab71fb88134771175",
            "placeholder": "​",
            "style": "IPY_MODEL_a00e73304e3c4dfa8f248f6f5e644f69",
            "value": "100%"
          }
        },
        "1a34265daf4d447da586dc7092e5849b": {
          "model_module": "@jupyter-widgets/controls",
          "model_module_version": "1.5.0",
          "model_name": "DescriptionStyleModel",
          "state": {
            "_model_module": "@jupyter-widgets/controls",
            "_model_module_version": "1.5.0",
            "_model_name": "DescriptionStyleModel",
            "_view_count": null,
            "_view_module": "@jupyter-widgets/base",
            "_view_module_version": "1.2.0",
            "_view_name": "StyleView",
            "description_width": ""
          }
        },
        "1a4b8ee44f4b4764b51af513a8e4fdd4": {
          "model_module": "@jupyter-widgets/controls",
          "model_module_version": "1.5.0",
          "model_name": "DescriptionStyleModel",
          "state": {
            "_model_module": "@jupyter-widgets/controls",
            "_model_module_version": "1.5.0",
            "_model_name": "DescriptionStyleModel",
            "_view_count": null,
            "_view_module": "@jupyter-widgets/base",
            "_view_module_version": "1.2.0",
            "_view_name": "StyleView",
            "description_width": ""
          }
        },
        "1b8cd39e0c2542319c798616c940bd22": {
          "model_module": "@jupyter-widgets/base",
          "model_module_version": "1.2.0",
          "model_name": "LayoutModel",
          "state": {
            "_model_module": "@jupyter-widgets/base",
            "_model_module_version": "1.2.0",
            "_model_name": "LayoutModel",
            "_view_count": null,
            "_view_module": "@jupyter-widgets/base",
            "_view_module_version": "1.2.0",
            "_view_name": "LayoutView",
            "align_content": null,
            "align_items": null,
            "align_self": null,
            "border": null,
            "bottom": null,
            "display": null,
            "flex": null,
            "flex_flow": null,
            "grid_area": null,
            "grid_auto_columns": null,
            "grid_auto_flow": null,
            "grid_auto_rows": null,
            "grid_column": null,
            "grid_gap": null,
            "grid_row": null,
            "grid_template_areas": null,
            "grid_template_columns": null,
            "grid_template_rows": null,
            "height": null,
            "justify_content": null,
            "justify_items": null,
            "left": null,
            "margin": null,
            "max_height": null,
            "max_width": null,
            "min_height": null,
            "min_width": null,
            "object_fit": null,
            "object_position": null,
            "order": null,
            "overflow": null,
            "overflow_x": null,
            "overflow_y": null,
            "padding": null,
            "right": null,
            "top": null,
            "visibility": null,
            "width": null
          }
        },
        "1c9987c8bb384cca8cbe78c03f628c97": {
          "model_module": "@jupyter-widgets/controls",
          "model_module_version": "1.5.0",
          "model_name": "HTMLModel",
          "state": {
            "_dom_classes": [],
            "_model_module": "@jupyter-widgets/controls",
            "_model_module_version": "1.5.0",
            "_model_name": "HTMLModel",
            "_view_count": null,
            "_view_module": "@jupyter-widgets/controls",
            "_view_module_version": "1.5.0",
            "_view_name": "HTMLView",
            "description": "",
            "description_tooltip": null,
            "layout": "IPY_MODEL_a0376ab4667c41a38b8869a2270bb617",
            "placeholder": "​",
            "style": "IPY_MODEL_1a34265daf4d447da586dc7092e5849b",
            "value": " 54/54 [00:44&lt;00:00,  1.68it/s]"
          }
        },
        "20198e2682a5421e8d7b6400e33c426f": {
          "model_module": "@jupyter-widgets/controls",
          "model_module_version": "1.5.0",
          "model_name": "DescriptionStyleModel",
          "state": {
            "_model_module": "@jupyter-widgets/controls",
            "_model_module_version": "1.5.0",
            "_model_name": "DescriptionStyleModel",
            "_view_count": null,
            "_view_module": "@jupyter-widgets/base",
            "_view_module_version": "1.2.0",
            "_view_name": "StyleView",
            "description_width": ""
          }
        },
        "201d847981144c61adb5248cc4d163fb": {
          "model_module": "@jupyter-widgets/base",
          "model_module_version": "1.2.0",
          "model_name": "LayoutModel",
          "state": {
            "_model_module": "@jupyter-widgets/base",
            "_model_module_version": "1.2.0",
            "_model_name": "LayoutModel",
            "_view_count": null,
            "_view_module": "@jupyter-widgets/base",
            "_view_module_version": "1.2.0",
            "_view_name": "LayoutView",
            "align_content": null,
            "align_items": null,
            "align_self": null,
            "border": null,
            "bottom": null,
            "display": null,
            "flex": null,
            "flex_flow": null,
            "grid_area": null,
            "grid_auto_columns": null,
            "grid_auto_flow": null,
            "grid_auto_rows": null,
            "grid_column": null,
            "grid_gap": null,
            "grid_row": null,
            "grid_template_areas": null,
            "grid_template_columns": null,
            "grid_template_rows": null,
            "height": null,
            "justify_content": null,
            "justify_items": null,
            "left": null,
            "margin": null,
            "max_height": null,
            "max_width": null,
            "min_height": null,
            "min_width": null,
            "object_fit": null,
            "object_position": null,
            "order": null,
            "overflow": null,
            "overflow_x": null,
            "overflow_y": null,
            "padding": null,
            "right": null,
            "top": null,
            "visibility": null,
            "width": null
          }
        },
        "2154ed73288f4ce8b9be4d4e1714c35d": {
          "model_module": "@jupyter-widgets/controls",
          "model_module_version": "1.5.0",
          "model_name": "ProgressStyleModel",
          "state": {
            "_model_module": "@jupyter-widgets/controls",
            "_model_module_version": "1.5.0",
            "_model_name": "ProgressStyleModel",
            "_view_count": null,
            "_view_module": "@jupyter-widgets/base",
            "_view_module_version": "1.2.0",
            "_view_name": "StyleView",
            "bar_color": null,
            "description_width": ""
          }
        },
        "218feb18759c4f02984b5cf1b0543cd9": {
          "model_module": "@jupyter-widgets/base",
          "model_module_version": "1.2.0",
          "model_name": "LayoutModel",
          "state": {
            "_model_module": "@jupyter-widgets/base",
            "_model_module_version": "1.2.0",
            "_model_name": "LayoutModel",
            "_view_count": null,
            "_view_module": "@jupyter-widgets/base",
            "_view_module_version": "1.2.0",
            "_view_name": "LayoutView",
            "align_content": null,
            "align_items": null,
            "align_self": null,
            "border": null,
            "bottom": null,
            "display": null,
            "flex": null,
            "flex_flow": null,
            "grid_area": null,
            "grid_auto_columns": null,
            "grid_auto_flow": null,
            "grid_auto_rows": null,
            "grid_column": null,
            "grid_gap": null,
            "grid_row": null,
            "grid_template_areas": null,
            "grid_template_columns": null,
            "grid_template_rows": null,
            "height": null,
            "justify_content": null,
            "justify_items": null,
            "left": null,
            "margin": null,
            "max_height": null,
            "max_width": null,
            "min_height": null,
            "min_width": null,
            "object_fit": null,
            "object_position": null,
            "order": null,
            "overflow": null,
            "overflow_x": null,
            "overflow_y": null,
            "padding": null,
            "right": null,
            "top": null,
            "visibility": null,
            "width": null
          }
        },
        "222f860f88b94aa487ecca886e83d1d2": {
          "model_module": "@jupyter-widgets/base",
          "model_module_version": "1.2.0",
          "model_name": "LayoutModel",
          "state": {
            "_model_module": "@jupyter-widgets/base",
            "_model_module_version": "1.2.0",
            "_model_name": "LayoutModel",
            "_view_count": null,
            "_view_module": "@jupyter-widgets/base",
            "_view_module_version": "1.2.0",
            "_view_name": "LayoutView",
            "align_content": null,
            "align_items": null,
            "align_self": null,
            "border": null,
            "bottom": null,
            "display": null,
            "flex": null,
            "flex_flow": null,
            "grid_area": null,
            "grid_auto_columns": null,
            "grid_auto_flow": null,
            "grid_auto_rows": null,
            "grid_column": null,
            "grid_gap": null,
            "grid_row": null,
            "grid_template_areas": null,
            "grid_template_columns": null,
            "grid_template_rows": null,
            "height": null,
            "justify_content": null,
            "justify_items": null,
            "left": null,
            "margin": null,
            "max_height": null,
            "max_width": null,
            "min_height": null,
            "min_width": null,
            "object_fit": null,
            "object_position": null,
            "order": null,
            "overflow": null,
            "overflow_x": null,
            "overflow_y": null,
            "padding": null,
            "right": null,
            "top": null,
            "visibility": null,
            "width": null
          }
        },
        "228e8ace81054cfc85dcfc1cb33430d6": {
          "model_module": "@jupyter-widgets/base",
          "model_module_version": "1.2.0",
          "model_name": "LayoutModel",
          "state": {
            "_model_module": "@jupyter-widgets/base",
            "_model_module_version": "1.2.0",
            "_model_name": "LayoutModel",
            "_view_count": null,
            "_view_module": "@jupyter-widgets/base",
            "_view_module_version": "1.2.0",
            "_view_name": "LayoutView",
            "align_content": null,
            "align_items": null,
            "align_self": null,
            "border": null,
            "bottom": null,
            "display": null,
            "flex": null,
            "flex_flow": null,
            "grid_area": null,
            "grid_auto_columns": null,
            "grid_auto_flow": null,
            "grid_auto_rows": null,
            "grid_column": null,
            "grid_gap": null,
            "grid_row": null,
            "grid_template_areas": null,
            "grid_template_columns": null,
            "grid_template_rows": null,
            "height": null,
            "justify_content": null,
            "justify_items": null,
            "left": null,
            "margin": null,
            "max_height": null,
            "max_width": null,
            "min_height": null,
            "min_width": null,
            "object_fit": null,
            "object_position": null,
            "order": null,
            "overflow": null,
            "overflow_x": null,
            "overflow_y": null,
            "padding": null,
            "right": null,
            "top": null,
            "visibility": null,
            "width": null
          }
        },
        "236ed7971a0d4d06ad18f3fcfc24625a": {
          "model_module": "@jupyter-widgets/base",
          "model_module_version": "1.2.0",
          "model_name": "LayoutModel",
          "state": {
            "_model_module": "@jupyter-widgets/base",
            "_model_module_version": "1.2.0",
            "_model_name": "LayoutModel",
            "_view_count": null,
            "_view_module": "@jupyter-widgets/base",
            "_view_module_version": "1.2.0",
            "_view_name": "LayoutView",
            "align_content": null,
            "align_items": null,
            "align_self": null,
            "border": null,
            "bottom": null,
            "display": null,
            "flex": null,
            "flex_flow": null,
            "grid_area": null,
            "grid_auto_columns": null,
            "grid_auto_flow": null,
            "grid_auto_rows": null,
            "grid_column": null,
            "grid_gap": null,
            "grid_row": null,
            "grid_template_areas": null,
            "grid_template_columns": null,
            "grid_template_rows": null,
            "height": null,
            "justify_content": null,
            "justify_items": null,
            "left": null,
            "margin": null,
            "max_height": null,
            "max_width": null,
            "min_height": null,
            "min_width": null,
            "object_fit": null,
            "object_position": null,
            "order": null,
            "overflow": null,
            "overflow_x": null,
            "overflow_y": null,
            "padding": null,
            "right": null,
            "top": null,
            "visibility": null,
            "width": null
          }
        },
        "23743b37e0bf4e83b48592bf03dd116d": {
          "model_module": "@jupyter-widgets/controls",
          "model_module_version": "1.5.0",
          "model_name": "ProgressStyleModel",
          "state": {
            "_model_module": "@jupyter-widgets/controls",
            "_model_module_version": "1.5.0",
            "_model_name": "ProgressStyleModel",
            "_view_count": null,
            "_view_module": "@jupyter-widgets/base",
            "_view_module_version": "1.2.0",
            "_view_name": "StyleView",
            "bar_color": null,
            "description_width": ""
          }
        },
        "24af70954a3c405593785afc2a474fc7": {
          "model_module": "@jupyter-widgets/controls",
          "model_module_version": "1.5.0",
          "model_name": "HTMLModel",
          "state": {
            "_dom_classes": [],
            "_model_module": "@jupyter-widgets/controls",
            "_model_module_version": "1.5.0",
            "_model_name": "HTMLModel",
            "_view_count": null,
            "_view_module": "@jupyter-widgets/controls",
            "_view_module_version": "1.5.0",
            "_view_name": "HTMLView",
            "description": "",
            "description_tooltip": null,
            "layout": "IPY_MODEL_55df84f4037d44cf8a328cbc8a7cef1a",
            "placeholder": "​",
            "style": "IPY_MODEL_807c9c74c89d42018d688ad0507efa84",
            "value": "100%"
          }
        },
        "2523a48fb7054a4b8f9484f75255f2a4": {
          "model_module": "@jupyter-widgets/base",
          "model_module_version": "1.2.0",
          "model_name": "LayoutModel",
          "state": {
            "_model_module": "@jupyter-widgets/base",
            "_model_module_version": "1.2.0",
            "_model_name": "LayoutModel",
            "_view_count": null,
            "_view_module": "@jupyter-widgets/base",
            "_view_module_version": "1.2.0",
            "_view_name": "LayoutView",
            "align_content": null,
            "align_items": null,
            "align_self": null,
            "border": null,
            "bottom": null,
            "display": null,
            "flex": null,
            "flex_flow": null,
            "grid_area": null,
            "grid_auto_columns": null,
            "grid_auto_flow": null,
            "grid_auto_rows": null,
            "grid_column": null,
            "grid_gap": null,
            "grid_row": null,
            "grid_template_areas": null,
            "grid_template_columns": null,
            "grid_template_rows": null,
            "height": null,
            "justify_content": null,
            "justify_items": null,
            "left": null,
            "margin": null,
            "max_height": null,
            "max_width": null,
            "min_height": null,
            "min_width": null,
            "object_fit": null,
            "object_position": null,
            "order": null,
            "overflow": null,
            "overflow_x": null,
            "overflow_y": null,
            "padding": null,
            "right": null,
            "top": null,
            "visibility": null,
            "width": null
          }
        },
        "253b03ad3c5743f2bb8fb5d05dc06350": {
          "model_module": "@jupyter-widgets/controls",
          "model_module_version": "1.5.0",
          "model_name": "DescriptionStyleModel",
          "state": {
            "_model_module": "@jupyter-widgets/controls",
            "_model_module_version": "1.5.0",
            "_model_name": "DescriptionStyleModel",
            "_view_count": null,
            "_view_module": "@jupyter-widgets/base",
            "_view_module_version": "1.2.0",
            "_view_name": "StyleView",
            "description_width": ""
          }
        },
        "2761cc006a964893b8da2c04e7faba11": {
          "model_module": "@jupyter-widgets/base",
          "model_module_version": "1.2.0",
          "model_name": "LayoutModel",
          "state": {
            "_model_module": "@jupyter-widgets/base",
            "_model_module_version": "1.2.0",
            "_model_name": "LayoutModel",
            "_view_count": null,
            "_view_module": "@jupyter-widgets/base",
            "_view_module_version": "1.2.0",
            "_view_name": "LayoutView",
            "align_content": null,
            "align_items": null,
            "align_self": null,
            "border": null,
            "bottom": null,
            "display": null,
            "flex": null,
            "flex_flow": null,
            "grid_area": null,
            "grid_auto_columns": null,
            "grid_auto_flow": null,
            "grid_auto_rows": null,
            "grid_column": null,
            "grid_gap": null,
            "grid_row": null,
            "grid_template_areas": null,
            "grid_template_columns": null,
            "grid_template_rows": null,
            "height": null,
            "justify_content": null,
            "justify_items": null,
            "left": null,
            "margin": null,
            "max_height": null,
            "max_width": null,
            "min_height": null,
            "min_width": null,
            "object_fit": null,
            "object_position": null,
            "order": null,
            "overflow": null,
            "overflow_x": null,
            "overflow_y": null,
            "padding": null,
            "right": null,
            "top": null,
            "visibility": null,
            "width": null
          }
        },
        "27d40a336d1a40a384e42d99390b47cd": {
          "model_module": "@jupyter-widgets/base",
          "model_module_version": "1.2.0",
          "model_name": "LayoutModel",
          "state": {
            "_model_module": "@jupyter-widgets/base",
            "_model_module_version": "1.2.0",
            "_model_name": "LayoutModel",
            "_view_count": null,
            "_view_module": "@jupyter-widgets/base",
            "_view_module_version": "1.2.0",
            "_view_name": "LayoutView",
            "align_content": null,
            "align_items": null,
            "align_self": null,
            "border": null,
            "bottom": null,
            "display": null,
            "flex": null,
            "flex_flow": null,
            "grid_area": null,
            "grid_auto_columns": null,
            "grid_auto_flow": null,
            "grid_auto_rows": null,
            "grid_column": null,
            "grid_gap": null,
            "grid_row": null,
            "grid_template_areas": null,
            "grid_template_columns": null,
            "grid_template_rows": null,
            "height": null,
            "justify_content": null,
            "justify_items": null,
            "left": null,
            "margin": null,
            "max_height": null,
            "max_width": null,
            "min_height": null,
            "min_width": null,
            "object_fit": null,
            "object_position": null,
            "order": null,
            "overflow": null,
            "overflow_x": null,
            "overflow_y": null,
            "padding": null,
            "right": null,
            "top": null,
            "visibility": null,
            "width": null
          }
        },
        "29aee8b29484462a929f62e9585a0f66": {
          "model_module": "@jupyter-widgets/controls",
          "model_module_version": "1.5.0",
          "model_name": "DescriptionStyleModel",
          "state": {
            "_model_module": "@jupyter-widgets/controls",
            "_model_module_version": "1.5.0",
            "_model_name": "DescriptionStyleModel",
            "_view_count": null,
            "_view_module": "@jupyter-widgets/base",
            "_view_module_version": "1.2.0",
            "_view_name": "StyleView",
            "description_width": ""
          }
        },
        "2a50950ba044403391851b9ccefa4b94": {
          "model_module": "@jupyter-widgets/controls",
          "model_module_version": "1.5.0",
          "model_name": "HBoxModel",
          "state": {
            "_dom_classes": [],
            "_model_module": "@jupyter-widgets/controls",
            "_model_module_version": "1.5.0",
            "_model_name": "HBoxModel",
            "_view_count": null,
            "_view_module": "@jupyter-widgets/controls",
            "_view_module_version": "1.5.0",
            "_view_name": "HBoxView",
            "box_style": "",
            "children": [
              "IPY_MODEL_24af70954a3c405593785afc2a474fc7",
              "IPY_MODEL_dc1992453cab4c47ac1f17976e1ed9a2",
              "IPY_MODEL_70fc137a84374c788953dbaac623b208"
            ],
            "layout": "IPY_MODEL_b9f4e6edb65045b387609f0b885bfb09"
          }
        },
        "2c276af3105d43739f559951322c3a4a": {
          "model_module": "@jupyter-widgets/controls",
          "model_module_version": "1.5.0",
          "model_name": "FloatProgressModel",
          "state": {
            "_dom_classes": [],
            "_model_module": "@jupyter-widgets/controls",
            "_model_module_version": "1.5.0",
            "_model_name": "FloatProgressModel",
            "_view_count": null,
            "_view_module": "@jupyter-widgets/controls",
            "_view_module_version": "1.5.0",
            "_view_name": "ProgressView",
            "bar_style": "success",
            "description": "",
            "description_tooltip": null,
            "layout": "IPY_MODEL_02fb3583966f4ec2be6bc71d6a41886a",
            "max": 54,
            "min": 0,
            "orientation": "horizontal",
            "style": "IPY_MODEL_12ced012dae44b558232355818db7a29",
            "value": 54
          }
        },
        "2d3608f9170a493a970f24e9378ddb25": {
          "model_module": "@jupyter-widgets/controls",
          "model_module_version": "1.5.0",
          "model_name": "HTMLModel",
          "state": {
            "_dom_classes": [],
            "_model_module": "@jupyter-widgets/controls",
            "_model_module_version": "1.5.0",
            "_model_name": "HTMLModel",
            "_view_count": null,
            "_view_module": "@jupyter-widgets/controls",
            "_view_module_version": "1.5.0",
            "_view_name": "HTMLView",
            "description": "",
            "description_tooltip": null,
            "layout": "IPY_MODEL_a822c46387a7458b828cae0b95f069eb",
            "placeholder": "​",
            "style": "IPY_MODEL_96ad7cc3769940ee970e38c6bf05481c",
            "value": " 155/155 [03:16&lt;00:00,  1.01it/s]"
          }
        },
        "2e509a9dae91456198d0d987620545d5": {
          "model_module": "@jupyter-widgets/controls",
          "model_module_version": "1.5.0",
          "model_name": "DescriptionStyleModel",
          "state": {
            "_model_module": "@jupyter-widgets/controls",
            "_model_module_version": "1.5.0",
            "_model_name": "DescriptionStyleModel",
            "_view_count": null,
            "_view_module": "@jupyter-widgets/base",
            "_view_module_version": "1.2.0",
            "_view_name": "StyleView",
            "description_width": ""
          }
        },
        "2ed2942f109e4387a93b831f15b1ad70": {
          "model_module": "@jupyter-widgets/controls",
          "model_module_version": "1.5.0",
          "model_name": "HBoxModel",
          "state": {
            "_dom_classes": [],
            "_model_module": "@jupyter-widgets/controls",
            "_model_module_version": "1.5.0",
            "_model_name": "HBoxModel",
            "_view_count": null,
            "_view_module": "@jupyter-widgets/controls",
            "_view_module_version": "1.5.0",
            "_view_name": "HBoxView",
            "box_style": "",
            "children": [
              "IPY_MODEL_dd1b87364bc44e408606c313617d728a",
              "IPY_MODEL_f8e9a623393a409e96b9e3be8b8893d3",
              "IPY_MODEL_b6312ba3b7f34cf8887dfda661e217d8"
            ],
            "layout": "IPY_MODEL_228e8ace81054cfc85dcfc1cb33430d6"
          }
        },
        "2ef20d498cc449259308902d46379db3": {
          "model_module": "@jupyter-widgets/base",
          "model_module_version": "1.2.0",
          "model_name": "LayoutModel",
          "state": {
            "_model_module": "@jupyter-widgets/base",
            "_model_module_version": "1.2.0",
            "_model_name": "LayoutModel",
            "_view_count": null,
            "_view_module": "@jupyter-widgets/base",
            "_view_module_version": "1.2.0",
            "_view_name": "LayoutView",
            "align_content": null,
            "align_items": null,
            "align_self": null,
            "border": null,
            "bottom": null,
            "display": null,
            "flex": null,
            "flex_flow": null,
            "grid_area": null,
            "grid_auto_columns": null,
            "grid_auto_flow": null,
            "grid_auto_rows": null,
            "grid_column": null,
            "grid_gap": null,
            "grid_row": null,
            "grid_template_areas": null,
            "grid_template_columns": null,
            "grid_template_rows": null,
            "height": null,
            "justify_content": null,
            "justify_items": null,
            "left": null,
            "margin": null,
            "max_height": null,
            "max_width": null,
            "min_height": null,
            "min_width": null,
            "object_fit": null,
            "object_position": null,
            "order": null,
            "overflow": null,
            "overflow_x": null,
            "overflow_y": null,
            "padding": null,
            "right": null,
            "top": null,
            "visibility": null,
            "width": null
          }
        },
        "30239c29bb0743b1b7a56206d62761cb": {
          "model_module": "@jupyter-widgets/controls",
          "model_module_version": "1.5.0",
          "model_name": "DescriptionStyleModel",
          "state": {
            "_model_module": "@jupyter-widgets/controls",
            "_model_module_version": "1.5.0",
            "_model_name": "DescriptionStyleModel",
            "_view_count": null,
            "_view_module": "@jupyter-widgets/base",
            "_view_module_version": "1.2.0",
            "_view_name": "StyleView",
            "description_width": ""
          }
        },
        "30cb9d210e084f77a3eafc3f9e13533f": {
          "model_module": "@jupyter-widgets/controls",
          "model_module_version": "1.5.0",
          "model_name": "DescriptionStyleModel",
          "state": {
            "_model_module": "@jupyter-widgets/controls",
            "_model_module_version": "1.5.0",
            "_model_name": "DescriptionStyleModel",
            "_view_count": null,
            "_view_module": "@jupyter-widgets/base",
            "_view_module_version": "1.2.0",
            "_view_name": "StyleView",
            "description_width": ""
          }
        },
        "31ffd3e1190b4a93b076114fffc2e0d1": {
          "model_module": "@jupyter-widgets/base",
          "model_module_version": "1.2.0",
          "model_name": "LayoutModel",
          "state": {
            "_model_module": "@jupyter-widgets/base",
            "_model_module_version": "1.2.0",
            "_model_name": "LayoutModel",
            "_view_count": null,
            "_view_module": "@jupyter-widgets/base",
            "_view_module_version": "1.2.0",
            "_view_name": "LayoutView",
            "align_content": null,
            "align_items": null,
            "align_self": null,
            "border": null,
            "bottom": null,
            "display": null,
            "flex": null,
            "flex_flow": null,
            "grid_area": null,
            "grid_auto_columns": null,
            "grid_auto_flow": null,
            "grid_auto_rows": null,
            "grid_column": null,
            "grid_gap": null,
            "grid_row": null,
            "grid_template_areas": null,
            "grid_template_columns": null,
            "grid_template_rows": null,
            "height": null,
            "justify_content": null,
            "justify_items": null,
            "left": null,
            "margin": null,
            "max_height": null,
            "max_width": null,
            "min_height": null,
            "min_width": null,
            "object_fit": null,
            "object_position": null,
            "order": null,
            "overflow": null,
            "overflow_x": null,
            "overflow_y": null,
            "padding": null,
            "right": null,
            "top": null,
            "visibility": null,
            "width": null
          }
        },
        "331fc11300df4ef186a3d990baab3825": {
          "model_module": "@jupyter-widgets/controls",
          "model_module_version": "1.5.0",
          "model_name": "HTMLModel",
          "state": {
            "_dom_classes": [],
            "_model_module": "@jupyter-widgets/controls",
            "_model_module_version": "1.5.0",
            "_model_name": "HTMLModel",
            "_view_count": null,
            "_view_module": "@jupyter-widgets/controls",
            "_view_module_version": "1.5.0",
            "_view_name": "HTMLView",
            "description": "",
            "description_tooltip": null,
            "layout": "IPY_MODEL_5b87e320ba334bbb82296ece98c2bcc5",
            "placeholder": "​",
            "style": "IPY_MODEL_b20c062c1ee04dfeb456fce313c07ec4",
            "value": " 54/54 [00:44&lt;00:00,  1.66it/s]"
          }
        },
        "345a610f0ba645b196e0cf19caf4694f": {
          "model_module": "@jupyter-widgets/base",
          "model_module_version": "1.2.0",
          "model_name": "LayoutModel",
          "state": {
            "_model_module": "@jupyter-widgets/base",
            "_model_module_version": "1.2.0",
            "_model_name": "LayoutModel",
            "_view_count": null,
            "_view_module": "@jupyter-widgets/base",
            "_view_module_version": "1.2.0",
            "_view_name": "LayoutView",
            "align_content": null,
            "align_items": null,
            "align_self": null,
            "border": null,
            "bottom": null,
            "display": null,
            "flex": null,
            "flex_flow": null,
            "grid_area": null,
            "grid_auto_columns": null,
            "grid_auto_flow": null,
            "grid_auto_rows": null,
            "grid_column": null,
            "grid_gap": null,
            "grid_row": null,
            "grid_template_areas": null,
            "grid_template_columns": null,
            "grid_template_rows": null,
            "height": null,
            "justify_content": null,
            "justify_items": null,
            "left": null,
            "margin": null,
            "max_height": null,
            "max_width": null,
            "min_height": null,
            "min_width": null,
            "object_fit": null,
            "object_position": null,
            "order": null,
            "overflow": null,
            "overflow_x": null,
            "overflow_y": null,
            "padding": null,
            "right": null,
            "top": null,
            "visibility": null,
            "width": null
          }
        },
        "35f0b7d617d848cdad7f5dbb2db2b7e8": {
          "model_module": "@jupyter-widgets/controls",
          "model_module_version": "1.5.0",
          "model_name": "HTMLModel",
          "state": {
            "_dom_classes": [],
            "_model_module": "@jupyter-widgets/controls",
            "_model_module_version": "1.5.0",
            "_model_name": "HTMLModel",
            "_view_count": null,
            "_view_module": "@jupyter-widgets/controls",
            "_view_module_version": "1.5.0",
            "_view_name": "HTMLView",
            "description": "",
            "description_tooltip": null,
            "layout": "IPY_MODEL_a4584d300f544942a64188a101000b55",
            "placeholder": "​",
            "style": "IPY_MODEL_5542d4390f9e4fa0ae8d65b0f320ffcd",
            "value": "100%"
          }
        },
        "3623002a603e4341b94332829f5fef7f": {
          "model_module": "@jupyter-widgets/base",
          "model_module_version": "1.2.0",
          "model_name": "LayoutModel",
          "state": {
            "_model_module": "@jupyter-widgets/base",
            "_model_module_version": "1.2.0",
            "_model_name": "LayoutModel",
            "_view_count": null,
            "_view_module": "@jupyter-widgets/base",
            "_view_module_version": "1.2.0",
            "_view_name": "LayoutView",
            "align_content": null,
            "align_items": null,
            "align_self": null,
            "border": null,
            "bottom": null,
            "display": null,
            "flex": null,
            "flex_flow": null,
            "grid_area": null,
            "grid_auto_columns": null,
            "grid_auto_flow": null,
            "grid_auto_rows": null,
            "grid_column": null,
            "grid_gap": null,
            "grid_row": null,
            "grid_template_areas": null,
            "grid_template_columns": null,
            "grid_template_rows": null,
            "height": null,
            "justify_content": null,
            "justify_items": null,
            "left": null,
            "margin": null,
            "max_height": null,
            "max_width": null,
            "min_height": null,
            "min_width": null,
            "object_fit": null,
            "object_position": null,
            "order": null,
            "overflow": null,
            "overflow_x": null,
            "overflow_y": null,
            "padding": null,
            "right": null,
            "top": null,
            "visibility": null,
            "width": null
          }
        },
        "38df57c21aee47ef8ecc441bcf6de0c6": {
          "model_module": "@jupyter-widgets/controls",
          "model_module_version": "1.5.0",
          "model_name": "DescriptionStyleModel",
          "state": {
            "_model_module": "@jupyter-widgets/controls",
            "_model_module_version": "1.5.0",
            "_model_name": "DescriptionStyleModel",
            "_view_count": null,
            "_view_module": "@jupyter-widgets/base",
            "_view_module_version": "1.2.0",
            "_view_name": "StyleView",
            "description_width": ""
          }
        },
        "3c16172dcec74f1488bfb06f479b273f": {
          "model_module": "@jupyter-widgets/base",
          "model_module_version": "1.2.0",
          "model_name": "LayoutModel",
          "state": {
            "_model_module": "@jupyter-widgets/base",
            "_model_module_version": "1.2.0",
            "_model_name": "LayoutModel",
            "_view_count": null,
            "_view_module": "@jupyter-widgets/base",
            "_view_module_version": "1.2.0",
            "_view_name": "LayoutView",
            "align_content": null,
            "align_items": null,
            "align_self": null,
            "border": null,
            "bottom": null,
            "display": null,
            "flex": null,
            "flex_flow": null,
            "grid_area": null,
            "grid_auto_columns": null,
            "grid_auto_flow": null,
            "grid_auto_rows": null,
            "grid_column": null,
            "grid_gap": null,
            "grid_row": null,
            "grid_template_areas": null,
            "grid_template_columns": null,
            "grid_template_rows": null,
            "height": null,
            "justify_content": null,
            "justify_items": null,
            "left": null,
            "margin": null,
            "max_height": null,
            "max_width": null,
            "min_height": null,
            "min_width": null,
            "object_fit": null,
            "object_position": null,
            "order": null,
            "overflow": null,
            "overflow_x": null,
            "overflow_y": null,
            "padding": null,
            "right": null,
            "top": null,
            "visibility": null,
            "width": null
          }
        },
        "3ca97fb05caf4b84a6f177c5d668b64d": {
          "model_module": "@jupyter-widgets/controls",
          "model_module_version": "1.5.0",
          "model_name": "HBoxModel",
          "state": {
            "_dom_classes": [],
            "_model_module": "@jupyter-widgets/controls",
            "_model_module_version": "1.5.0",
            "_model_name": "HBoxModel",
            "_view_count": null,
            "_view_module": "@jupyter-widgets/controls",
            "_view_module_version": "1.5.0",
            "_view_name": "HBoxView",
            "box_style": "",
            "children": [
              "IPY_MODEL_ce2615681ef8461685ec2c18d022d73d",
              "IPY_MODEL_6a102092838343af944bbe289af90851",
              "IPY_MODEL_f45fa495a1904000b17af973d2dd582d"
            ],
            "layout": "IPY_MODEL_911caf3f1fe84a2c8016c07798561e38"
          }
        },
        "3cbd43bfef634b50b07582f2a70ddca9": {
          "model_module": "@jupyter-widgets/base",
          "model_module_version": "1.2.0",
          "model_name": "LayoutModel",
          "state": {
            "_model_module": "@jupyter-widgets/base",
            "_model_module_version": "1.2.0",
            "_model_name": "LayoutModel",
            "_view_count": null,
            "_view_module": "@jupyter-widgets/base",
            "_view_module_version": "1.2.0",
            "_view_name": "LayoutView",
            "align_content": null,
            "align_items": null,
            "align_self": null,
            "border": null,
            "bottom": null,
            "display": null,
            "flex": null,
            "flex_flow": null,
            "grid_area": null,
            "grid_auto_columns": null,
            "grid_auto_flow": null,
            "grid_auto_rows": null,
            "grid_column": null,
            "grid_gap": null,
            "grid_row": null,
            "grid_template_areas": null,
            "grid_template_columns": null,
            "grid_template_rows": null,
            "height": null,
            "justify_content": null,
            "justify_items": null,
            "left": null,
            "margin": null,
            "max_height": null,
            "max_width": null,
            "min_height": null,
            "min_width": null,
            "object_fit": null,
            "object_position": null,
            "order": null,
            "overflow": null,
            "overflow_x": null,
            "overflow_y": null,
            "padding": null,
            "right": null,
            "top": null,
            "visibility": null,
            "width": null
          }
        },
        "3e059c0bc34b4758bad578abf13be6a3": {
          "model_module": "@jupyter-widgets/base",
          "model_module_version": "1.2.0",
          "model_name": "LayoutModel",
          "state": {
            "_model_module": "@jupyter-widgets/base",
            "_model_module_version": "1.2.0",
            "_model_name": "LayoutModel",
            "_view_count": null,
            "_view_module": "@jupyter-widgets/base",
            "_view_module_version": "1.2.0",
            "_view_name": "LayoutView",
            "align_content": null,
            "align_items": null,
            "align_self": null,
            "border": null,
            "bottom": null,
            "display": null,
            "flex": null,
            "flex_flow": null,
            "grid_area": null,
            "grid_auto_columns": null,
            "grid_auto_flow": null,
            "grid_auto_rows": null,
            "grid_column": null,
            "grid_gap": null,
            "grid_row": null,
            "grid_template_areas": null,
            "grid_template_columns": null,
            "grid_template_rows": null,
            "height": null,
            "justify_content": null,
            "justify_items": null,
            "left": null,
            "margin": null,
            "max_height": null,
            "max_width": null,
            "min_height": null,
            "min_width": null,
            "object_fit": null,
            "object_position": null,
            "order": null,
            "overflow": null,
            "overflow_x": null,
            "overflow_y": null,
            "padding": null,
            "right": null,
            "top": null,
            "visibility": null,
            "width": null
          }
        },
        "3e5afb31f9e44c48bd4200ac85fcf1b0": {
          "model_module": "@jupyter-widgets/controls",
          "model_module_version": "1.5.0",
          "model_name": "DescriptionStyleModel",
          "state": {
            "_model_module": "@jupyter-widgets/controls",
            "_model_module_version": "1.5.0",
            "_model_name": "DescriptionStyleModel",
            "_view_count": null,
            "_view_module": "@jupyter-widgets/base",
            "_view_module_version": "1.2.0",
            "_view_name": "StyleView",
            "description_width": ""
          }
        },
        "40b9726c06ea4d999230105c0c1e4727": {
          "model_module": "@jupyter-widgets/controls",
          "model_module_version": "1.5.0",
          "model_name": "HBoxModel",
          "state": {
            "_dom_classes": [],
            "_model_module": "@jupyter-widgets/controls",
            "_model_module_version": "1.5.0",
            "_model_name": "HBoxModel",
            "_view_count": null,
            "_view_module": "@jupyter-widgets/controls",
            "_view_module_version": "1.5.0",
            "_view_name": "HBoxView",
            "box_style": "",
            "children": [
              "IPY_MODEL_dd16a708edd945c5a23700d6a1b17c83",
              "IPY_MODEL_5caacc7d78f54f0bb68bfd546213650b",
              "IPY_MODEL_bf89e21d6e154b5bae647e66291d9a1f"
            ],
            "layout": "IPY_MODEL_51c63c12c2fb429aadc55aaa68451f82"
          }
        },
        "458bdcdfd4d943c4b9741cbfdcf9d38d": {
          "model_module": "@jupyter-widgets/controls",
          "model_module_version": "1.5.0",
          "model_name": "HBoxModel",
          "state": {
            "_dom_classes": [],
            "_model_module": "@jupyter-widgets/controls",
            "_model_module_version": "1.5.0",
            "_model_name": "HBoxModel",
            "_view_count": null,
            "_view_module": "@jupyter-widgets/controls",
            "_view_module_version": "1.5.0",
            "_view_name": "HBoxView",
            "box_style": "",
            "children": [
              "IPY_MODEL_1993592878f94a04b1b047ca5f5cfbcf",
              "IPY_MODEL_8046f1c472d24e9595e45f9876216dcd",
              "IPY_MODEL_f7d0733dae8744c890e75c42a02d39e8"
            ],
            "layout": "IPY_MODEL_e9949007993f4ba5bd95f58be9a01146"
          }
        },
        "47cfc2b4005a4d92884201ff16c4d9d2": {
          "model_module": "@jupyter-widgets/controls",
          "model_module_version": "1.5.0",
          "model_name": "HTMLModel",
          "state": {
            "_dom_classes": [],
            "_model_module": "@jupyter-widgets/controls",
            "_model_module_version": "1.5.0",
            "_model_name": "HTMLModel",
            "_view_count": null,
            "_view_module": "@jupyter-widgets/controls",
            "_view_module_version": "1.5.0",
            "_view_name": "HTMLView",
            "description": "",
            "description_tooltip": null,
            "layout": "IPY_MODEL_f728aba0820345de8e9d431009d1c1dc",
            "placeholder": "​",
            "style": "IPY_MODEL_ae51756a44ca4f3291bb1fd1a725e1bd",
            "value": " 54/54 [00:44&lt;00:00,  1.68it/s]"
          }
        },
        "481d5660404147849fe2fdc8fa1e1729": {
          "model_module": "@jupyter-widgets/controls",
          "model_module_version": "1.5.0",
          "model_name": "HTMLModel",
          "state": {
            "_dom_classes": [],
            "_model_module": "@jupyter-widgets/controls",
            "_model_module_version": "1.5.0",
            "_model_name": "HTMLModel",
            "_view_count": null,
            "_view_module": "@jupyter-widgets/controls",
            "_view_module_version": "1.5.0",
            "_view_name": "HTMLView",
            "description": "",
            "description_tooltip": null,
            "layout": "IPY_MODEL_b2f8d1c3c30149f093c68976be10eb4c",
            "placeholder": "​",
            "style": "IPY_MODEL_f7f73af0068a41b2a72bf685571ec913",
            "value": "100%"
          }
        },
        "497d87dd0b4a49c1b7d146fdd9c38971": {
          "model_module": "@jupyter-widgets/controls",
          "model_module_version": "1.5.0",
          "model_name": "ProgressStyleModel",
          "state": {
            "_model_module": "@jupyter-widgets/controls",
            "_model_module_version": "1.5.0",
            "_model_name": "ProgressStyleModel",
            "_view_count": null,
            "_view_module": "@jupyter-widgets/base",
            "_view_module_version": "1.2.0",
            "_view_name": "StyleView",
            "bar_color": null,
            "description_width": ""
          }
        },
        "4b28a092043e4e53b34e0f5ee5421ecd": {
          "model_module": "@jupyter-widgets/controls",
          "model_module_version": "1.5.0",
          "model_name": "HTMLModel",
          "state": {
            "_dom_classes": [],
            "_model_module": "@jupyter-widgets/controls",
            "_model_module_version": "1.5.0",
            "_model_name": "HTMLModel",
            "_view_count": null,
            "_view_module": "@jupyter-widgets/controls",
            "_view_module_version": "1.5.0",
            "_view_name": "HTMLView",
            "description": "",
            "description_tooltip": null,
            "layout": "IPY_MODEL_82fcb008de4641289b543acaf7fff382",
            "placeholder": "​",
            "style": "IPY_MODEL_38df57c21aee47ef8ecc441bcf6de0c6",
            "value": " 155/155 [03:16&lt;00:00,  1.07it/s]"
          }
        },
        "4c21c599613048578e3cc7c1228cb20f": {
          "model_module": "@jupyter-widgets/controls",
          "model_module_version": "1.5.0",
          "model_name": "HTMLModel",
          "state": {
            "_dom_classes": [],
            "_model_module": "@jupyter-widgets/controls",
            "_model_module_version": "1.5.0",
            "_model_name": "HTMLModel",
            "_view_count": null,
            "_view_module": "@jupyter-widgets/controls",
            "_view_module_version": "1.5.0",
            "_view_name": "HTMLView",
            "description": "",
            "description_tooltip": null,
            "layout": "IPY_MODEL_123aa58c25b64704993907c64e148ecb",
            "placeholder": "​",
            "style": "IPY_MODEL_55b842a522c3464590be12054be77ac7",
            "value": " 54/54 [00:47&lt;00:00,  1.58it/s]"
          }
        },
        "4c73f07f3ea74d80acbfc74f1f6d9249": {
          "model_module": "@jupyter-widgets/controls",
          "model_module_version": "1.5.0",
          "model_name": "DescriptionStyleModel",
          "state": {
            "_model_module": "@jupyter-widgets/controls",
            "_model_module_version": "1.5.0",
            "_model_name": "DescriptionStyleModel",
            "_view_count": null,
            "_view_module": "@jupyter-widgets/base",
            "_view_module_version": "1.2.0",
            "_view_name": "StyleView",
            "description_width": ""
          }
        },
        "4d4b0a6b11084c47b5e0d8383728cf84": {
          "model_module": "@jupyter-widgets/controls",
          "model_module_version": "1.5.0",
          "model_name": "ProgressStyleModel",
          "state": {
            "_model_module": "@jupyter-widgets/controls",
            "_model_module_version": "1.5.0",
            "_model_name": "ProgressStyleModel",
            "_view_count": null,
            "_view_module": "@jupyter-widgets/base",
            "_view_module_version": "1.2.0",
            "_view_name": "StyleView",
            "bar_color": null,
            "description_width": ""
          }
        },
        "4e50124253664e72be340a9a25d81531": {
          "model_module": "@jupyter-widgets/base",
          "model_module_version": "1.2.0",
          "model_name": "LayoutModel",
          "state": {
            "_model_module": "@jupyter-widgets/base",
            "_model_module_version": "1.2.0",
            "_model_name": "LayoutModel",
            "_view_count": null,
            "_view_module": "@jupyter-widgets/base",
            "_view_module_version": "1.2.0",
            "_view_name": "LayoutView",
            "align_content": null,
            "align_items": null,
            "align_self": null,
            "border": null,
            "bottom": null,
            "display": null,
            "flex": null,
            "flex_flow": null,
            "grid_area": null,
            "grid_auto_columns": null,
            "grid_auto_flow": null,
            "grid_auto_rows": null,
            "grid_column": null,
            "grid_gap": null,
            "grid_row": null,
            "grid_template_areas": null,
            "grid_template_columns": null,
            "grid_template_rows": null,
            "height": null,
            "justify_content": null,
            "justify_items": null,
            "left": null,
            "margin": null,
            "max_height": null,
            "max_width": null,
            "min_height": null,
            "min_width": null,
            "object_fit": null,
            "object_position": null,
            "order": null,
            "overflow": null,
            "overflow_x": null,
            "overflow_y": null,
            "padding": null,
            "right": null,
            "top": null,
            "visibility": null,
            "width": null
          }
        },
        "51c63c12c2fb429aadc55aaa68451f82": {
          "model_module": "@jupyter-widgets/base",
          "model_module_version": "1.2.0",
          "model_name": "LayoutModel",
          "state": {
            "_model_module": "@jupyter-widgets/base",
            "_model_module_version": "1.2.0",
            "_model_name": "LayoutModel",
            "_view_count": null,
            "_view_module": "@jupyter-widgets/base",
            "_view_module_version": "1.2.0",
            "_view_name": "LayoutView",
            "align_content": null,
            "align_items": null,
            "align_self": null,
            "border": null,
            "bottom": null,
            "display": null,
            "flex": null,
            "flex_flow": null,
            "grid_area": null,
            "grid_auto_columns": null,
            "grid_auto_flow": null,
            "grid_auto_rows": null,
            "grid_column": null,
            "grid_gap": null,
            "grid_row": null,
            "grid_template_areas": null,
            "grid_template_columns": null,
            "grid_template_rows": null,
            "height": null,
            "justify_content": null,
            "justify_items": null,
            "left": null,
            "margin": null,
            "max_height": null,
            "max_width": null,
            "min_height": null,
            "min_width": null,
            "object_fit": null,
            "object_position": null,
            "order": null,
            "overflow": null,
            "overflow_x": null,
            "overflow_y": null,
            "padding": null,
            "right": null,
            "top": null,
            "visibility": null,
            "width": null
          }
        },
        "51fec5e324f4418d9203d6f01eb504a9": {
          "model_module": "@jupyter-widgets/controls",
          "model_module_version": "1.5.0",
          "model_name": "HTMLModel",
          "state": {
            "_dom_classes": [],
            "_model_module": "@jupyter-widgets/controls",
            "_model_module_version": "1.5.0",
            "_model_name": "HTMLModel",
            "_view_count": null,
            "_view_module": "@jupyter-widgets/controls",
            "_view_module_version": "1.5.0",
            "_view_name": "HTMLView",
            "description": "",
            "description_tooltip": null,
            "layout": "IPY_MODEL_e210c2414515469a9e179e17865749c9",
            "placeholder": "​",
            "style": "IPY_MODEL_04a4d61cf0464568b05d4d0fa401ff0b",
            "value": "100%"
          }
        },
        "52de51dbafd743f8ab5d9c5ba817d239": {
          "model_module": "@jupyter-widgets/controls",
          "model_module_version": "1.5.0",
          "model_name": "FloatProgressModel",
          "state": {
            "_dom_classes": [],
            "_model_module": "@jupyter-widgets/controls",
            "_model_module_version": "1.5.0",
            "_model_name": "FloatProgressModel",
            "_view_count": null,
            "_view_module": "@jupyter-widgets/controls",
            "_view_module_version": "1.5.0",
            "_view_name": "ProgressView",
            "bar_style": "success",
            "description": "",
            "description_tooltip": null,
            "layout": "IPY_MODEL_cc213d62b00a4578a15545529656b13e",
            "max": 155,
            "min": 0,
            "orientation": "horizontal",
            "style": "IPY_MODEL_f73a01e510a84c14b63f92d3d155e2c6",
            "value": 155
          }
        },
        "546b37c6da1d4874ac48f580939871ad": {
          "model_module": "@jupyter-widgets/controls",
          "model_module_version": "1.5.0",
          "model_name": "DescriptionStyleModel",
          "state": {
            "_model_module": "@jupyter-widgets/controls",
            "_model_module_version": "1.5.0",
            "_model_name": "DescriptionStyleModel",
            "_view_count": null,
            "_view_module": "@jupyter-widgets/base",
            "_view_module_version": "1.2.0",
            "_view_name": "StyleView",
            "description_width": ""
          }
        },
        "5542d4390f9e4fa0ae8d65b0f320ffcd": {
          "model_module": "@jupyter-widgets/controls",
          "model_module_version": "1.5.0",
          "model_name": "DescriptionStyleModel",
          "state": {
            "_model_module": "@jupyter-widgets/controls",
            "_model_module_version": "1.5.0",
            "_model_name": "DescriptionStyleModel",
            "_view_count": null,
            "_view_module": "@jupyter-widgets/base",
            "_view_module_version": "1.2.0",
            "_view_name": "StyleView",
            "description_width": ""
          }
        },
        "558293f126494b97ad0fe04adb083a91": {
          "model_module": "@jupyter-widgets/controls",
          "model_module_version": "1.5.0",
          "model_name": "HTMLModel",
          "state": {
            "_dom_classes": [],
            "_model_module": "@jupyter-widgets/controls",
            "_model_module_version": "1.5.0",
            "_model_name": "HTMLModel",
            "_view_count": null,
            "_view_module": "@jupyter-widgets/controls",
            "_view_module_version": "1.5.0",
            "_view_name": "HTMLView",
            "description": "",
            "description_tooltip": null,
            "layout": "IPY_MODEL_8cf032eee56b4ebd8c62359f70c85f4a",
            "placeholder": "​",
            "style": "IPY_MODEL_a4bd87276af440fe95a0233dde79277b",
            "value": " 155/155 [03:15&lt;00:00,  1.09it/s]"
          }
        },
        "55b842a522c3464590be12054be77ac7": {
          "model_module": "@jupyter-widgets/controls",
          "model_module_version": "1.5.0",
          "model_name": "DescriptionStyleModel",
          "state": {
            "_model_module": "@jupyter-widgets/controls",
            "_model_module_version": "1.5.0",
            "_model_name": "DescriptionStyleModel",
            "_view_count": null,
            "_view_module": "@jupyter-widgets/base",
            "_view_module_version": "1.2.0",
            "_view_name": "StyleView",
            "description_width": ""
          }
        },
        "55df84f4037d44cf8a328cbc8a7cef1a": {
          "model_module": "@jupyter-widgets/base",
          "model_module_version": "1.2.0",
          "model_name": "LayoutModel",
          "state": {
            "_model_module": "@jupyter-widgets/base",
            "_model_module_version": "1.2.0",
            "_model_name": "LayoutModel",
            "_view_count": null,
            "_view_module": "@jupyter-widgets/base",
            "_view_module_version": "1.2.0",
            "_view_name": "LayoutView",
            "align_content": null,
            "align_items": null,
            "align_self": null,
            "border": null,
            "bottom": null,
            "display": null,
            "flex": null,
            "flex_flow": null,
            "grid_area": null,
            "grid_auto_columns": null,
            "grid_auto_flow": null,
            "grid_auto_rows": null,
            "grid_column": null,
            "grid_gap": null,
            "grid_row": null,
            "grid_template_areas": null,
            "grid_template_columns": null,
            "grid_template_rows": null,
            "height": null,
            "justify_content": null,
            "justify_items": null,
            "left": null,
            "margin": null,
            "max_height": null,
            "max_width": null,
            "min_height": null,
            "min_width": null,
            "object_fit": null,
            "object_position": null,
            "order": null,
            "overflow": null,
            "overflow_x": null,
            "overflow_y": null,
            "padding": null,
            "right": null,
            "top": null,
            "visibility": null,
            "width": null
          }
        },
        "561eeef2bc4542dd95f956c52617642a": {
          "model_module": "@jupyter-widgets/base",
          "model_module_version": "1.2.0",
          "model_name": "LayoutModel",
          "state": {
            "_model_module": "@jupyter-widgets/base",
            "_model_module_version": "1.2.0",
            "_model_name": "LayoutModel",
            "_view_count": null,
            "_view_module": "@jupyter-widgets/base",
            "_view_module_version": "1.2.0",
            "_view_name": "LayoutView",
            "align_content": null,
            "align_items": null,
            "align_self": null,
            "border": null,
            "bottom": null,
            "display": null,
            "flex": null,
            "flex_flow": null,
            "grid_area": null,
            "grid_auto_columns": null,
            "grid_auto_flow": null,
            "grid_auto_rows": null,
            "grid_column": null,
            "grid_gap": null,
            "grid_row": null,
            "grid_template_areas": null,
            "grid_template_columns": null,
            "grid_template_rows": null,
            "height": null,
            "justify_content": null,
            "justify_items": null,
            "left": null,
            "margin": null,
            "max_height": null,
            "max_width": null,
            "min_height": null,
            "min_width": null,
            "object_fit": null,
            "object_position": null,
            "order": null,
            "overflow": null,
            "overflow_x": null,
            "overflow_y": null,
            "padding": null,
            "right": null,
            "top": null,
            "visibility": null,
            "width": null
          }
        },
        "579788b4554e48948dd67141e93b959a": {
          "model_module": "@jupyter-widgets/controls",
          "model_module_version": "1.5.0",
          "model_name": "HTMLModel",
          "state": {
            "_dom_classes": [],
            "_model_module": "@jupyter-widgets/controls",
            "_model_module_version": "1.5.0",
            "_model_name": "HTMLModel",
            "_view_count": null,
            "_view_module": "@jupyter-widgets/controls",
            "_view_module_version": "1.5.0",
            "_view_name": "HTMLView",
            "description": "",
            "description_tooltip": null,
            "layout": "IPY_MODEL_f5929ee4ef2046a6a20f7378ea329243",
            "placeholder": "​",
            "style": "IPY_MODEL_cecee78828dc425ea77b29709a499cfd",
            "value": "100%"
          }
        },
        "59be4756d83d448cb2123030d9a691c4": {
          "model_module": "@jupyter-widgets/base",
          "model_module_version": "1.2.0",
          "model_name": "LayoutModel",
          "state": {
            "_model_module": "@jupyter-widgets/base",
            "_model_module_version": "1.2.0",
            "_model_name": "LayoutModel",
            "_view_count": null,
            "_view_module": "@jupyter-widgets/base",
            "_view_module_version": "1.2.0",
            "_view_name": "LayoutView",
            "align_content": null,
            "align_items": null,
            "align_self": null,
            "border": null,
            "bottom": null,
            "display": null,
            "flex": null,
            "flex_flow": null,
            "grid_area": null,
            "grid_auto_columns": null,
            "grid_auto_flow": null,
            "grid_auto_rows": null,
            "grid_column": null,
            "grid_gap": null,
            "grid_row": null,
            "grid_template_areas": null,
            "grid_template_columns": null,
            "grid_template_rows": null,
            "height": null,
            "justify_content": null,
            "justify_items": null,
            "left": null,
            "margin": null,
            "max_height": null,
            "max_width": null,
            "min_height": null,
            "min_width": null,
            "object_fit": null,
            "object_position": null,
            "order": null,
            "overflow": null,
            "overflow_x": null,
            "overflow_y": null,
            "padding": null,
            "right": null,
            "top": null,
            "visibility": null,
            "width": null
          }
        },
        "59f6f1231f9242b1b12f7e7cbe0e2a9c": {
          "model_module": "@jupyter-widgets/controls",
          "model_module_version": "1.5.0",
          "model_name": "DescriptionStyleModel",
          "state": {
            "_model_module": "@jupyter-widgets/controls",
            "_model_module_version": "1.5.0",
            "_model_name": "DescriptionStyleModel",
            "_view_count": null,
            "_view_module": "@jupyter-widgets/base",
            "_view_module_version": "1.2.0",
            "_view_name": "StyleView",
            "description_width": ""
          }
        },
        "59fa20dc01ae410690825fae99247161": {
          "model_module": "@jupyter-widgets/base",
          "model_module_version": "1.2.0",
          "model_name": "LayoutModel",
          "state": {
            "_model_module": "@jupyter-widgets/base",
            "_model_module_version": "1.2.0",
            "_model_name": "LayoutModel",
            "_view_count": null,
            "_view_module": "@jupyter-widgets/base",
            "_view_module_version": "1.2.0",
            "_view_name": "LayoutView",
            "align_content": null,
            "align_items": null,
            "align_self": null,
            "border": null,
            "bottom": null,
            "display": null,
            "flex": null,
            "flex_flow": null,
            "grid_area": null,
            "grid_auto_columns": null,
            "grid_auto_flow": null,
            "grid_auto_rows": null,
            "grid_column": null,
            "grid_gap": null,
            "grid_row": null,
            "grid_template_areas": null,
            "grid_template_columns": null,
            "grid_template_rows": null,
            "height": null,
            "justify_content": null,
            "justify_items": null,
            "left": null,
            "margin": null,
            "max_height": null,
            "max_width": null,
            "min_height": null,
            "min_width": null,
            "object_fit": null,
            "object_position": null,
            "order": null,
            "overflow": null,
            "overflow_x": null,
            "overflow_y": null,
            "padding": null,
            "right": null,
            "top": null,
            "visibility": null,
            "width": null
          }
        },
        "5a0dee5753b14490ad33543990a1b000": {
          "model_module": "@jupyter-widgets/controls",
          "model_module_version": "1.5.0",
          "model_name": "HTMLModel",
          "state": {
            "_dom_classes": [],
            "_model_module": "@jupyter-widgets/controls",
            "_model_module_version": "1.5.0",
            "_model_name": "HTMLModel",
            "_view_count": null,
            "_view_module": "@jupyter-widgets/controls",
            "_view_module_version": "1.5.0",
            "_view_name": "HTMLView",
            "description": "",
            "description_tooltip": null,
            "layout": "IPY_MODEL_ea35136f24e2447ba902b64f906087ea",
            "placeholder": "​",
            "style": "IPY_MODEL_3e5afb31f9e44c48bd4200ac85fcf1b0",
            "value": " 155/155 [03:16&lt;00:00,  1.07it/s]"
          }
        },
        "5ae1e9713bbd4af1a2bfb2cfb05975ec": {
          "model_module": "@jupyter-widgets/base",
          "model_module_version": "1.2.0",
          "model_name": "LayoutModel",
          "state": {
            "_model_module": "@jupyter-widgets/base",
            "_model_module_version": "1.2.0",
            "_model_name": "LayoutModel",
            "_view_count": null,
            "_view_module": "@jupyter-widgets/base",
            "_view_module_version": "1.2.0",
            "_view_name": "LayoutView",
            "align_content": null,
            "align_items": null,
            "align_self": null,
            "border": null,
            "bottom": null,
            "display": null,
            "flex": null,
            "flex_flow": null,
            "grid_area": null,
            "grid_auto_columns": null,
            "grid_auto_flow": null,
            "grid_auto_rows": null,
            "grid_column": null,
            "grid_gap": null,
            "grid_row": null,
            "grid_template_areas": null,
            "grid_template_columns": null,
            "grid_template_rows": null,
            "height": null,
            "justify_content": null,
            "justify_items": null,
            "left": null,
            "margin": null,
            "max_height": null,
            "max_width": null,
            "min_height": null,
            "min_width": null,
            "object_fit": null,
            "object_position": null,
            "order": null,
            "overflow": null,
            "overflow_x": null,
            "overflow_y": null,
            "padding": null,
            "right": null,
            "top": null,
            "visibility": null,
            "width": null
          }
        },
        "5b87e320ba334bbb82296ece98c2bcc5": {
          "model_module": "@jupyter-widgets/base",
          "model_module_version": "1.2.0",
          "model_name": "LayoutModel",
          "state": {
            "_model_module": "@jupyter-widgets/base",
            "_model_module_version": "1.2.0",
            "_model_name": "LayoutModel",
            "_view_count": null,
            "_view_module": "@jupyter-widgets/base",
            "_view_module_version": "1.2.0",
            "_view_name": "LayoutView",
            "align_content": null,
            "align_items": null,
            "align_self": null,
            "border": null,
            "bottom": null,
            "display": null,
            "flex": null,
            "flex_flow": null,
            "grid_area": null,
            "grid_auto_columns": null,
            "grid_auto_flow": null,
            "grid_auto_rows": null,
            "grid_column": null,
            "grid_gap": null,
            "grid_row": null,
            "grid_template_areas": null,
            "grid_template_columns": null,
            "grid_template_rows": null,
            "height": null,
            "justify_content": null,
            "justify_items": null,
            "left": null,
            "margin": null,
            "max_height": null,
            "max_width": null,
            "min_height": null,
            "min_width": null,
            "object_fit": null,
            "object_position": null,
            "order": null,
            "overflow": null,
            "overflow_x": null,
            "overflow_y": null,
            "padding": null,
            "right": null,
            "top": null,
            "visibility": null,
            "width": null
          }
        },
        "5caacc7d78f54f0bb68bfd546213650b": {
          "model_module": "@jupyter-widgets/controls",
          "model_module_version": "1.5.0",
          "model_name": "FloatProgressModel",
          "state": {
            "_dom_classes": [],
            "_model_module": "@jupyter-widgets/controls",
            "_model_module_version": "1.5.0",
            "_model_name": "FloatProgressModel",
            "_view_count": null,
            "_view_module": "@jupyter-widgets/controls",
            "_view_module_version": "1.5.0",
            "_view_name": "ProgressView",
            "bar_style": "success",
            "description": "",
            "description_tooltip": null,
            "layout": "IPY_MODEL_0f4c3dde1470477489babe7af7dd4269",
            "max": 155,
            "min": 0,
            "orientation": "horizontal",
            "style": "IPY_MODEL_a5387532ca5b493a9cd044d84dbdffbe",
            "value": 155
          }
        },
        "5e43375adbc542e193d0d51126879ffb": {
          "model_module": "@jupyter-widgets/controls",
          "model_module_version": "1.5.0",
          "model_name": "ProgressStyleModel",
          "state": {
            "_model_module": "@jupyter-widgets/controls",
            "_model_module_version": "1.5.0",
            "_model_name": "ProgressStyleModel",
            "_view_count": null,
            "_view_module": "@jupyter-widgets/base",
            "_view_module_version": "1.2.0",
            "_view_name": "StyleView",
            "bar_color": null,
            "description_width": ""
          }
        },
        "60612c2cb2974110bae2a377a2677fba": {
          "model_module": "@jupyter-widgets/controls",
          "model_module_version": "1.5.0",
          "model_name": "HBoxModel",
          "state": {
            "_dom_classes": [],
            "_model_module": "@jupyter-widgets/controls",
            "_model_module_version": "1.5.0",
            "_model_name": "HBoxModel",
            "_view_count": null,
            "_view_module": "@jupyter-widgets/controls",
            "_view_module_version": "1.5.0",
            "_view_name": "HBoxView",
            "box_style": "",
            "children": [
              "IPY_MODEL_dd902a96365e467abe02f0dcc779a3e2",
              "IPY_MODEL_12dd038d4db14da6b2b2ccc2b6183d41",
              "IPY_MODEL_47cfc2b4005a4d92884201ff16c4d9d2"
            ],
            "layout": "IPY_MODEL_3623002a603e4341b94332829f5fef7f"
          }
        },
        "608b893b6ebf4dae80381e0562ade20c": {
          "model_module": "@jupyter-widgets/base",
          "model_module_version": "1.2.0",
          "model_name": "LayoutModel",
          "state": {
            "_model_module": "@jupyter-widgets/base",
            "_model_module_version": "1.2.0",
            "_model_name": "LayoutModel",
            "_view_count": null,
            "_view_module": "@jupyter-widgets/base",
            "_view_module_version": "1.2.0",
            "_view_name": "LayoutView",
            "align_content": null,
            "align_items": null,
            "align_self": null,
            "border": null,
            "bottom": null,
            "display": null,
            "flex": null,
            "flex_flow": null,
            "grid_area": null,
            "grid_auto_columns": null,
            "grid_auto_flow": null,
            "grid_auto_rows": null,
            "grid_column": null,
            "grid_gap": null,
            "grid_row": null,
            "grid_template_areas": null,
            "grid_template_columns": null,
            "grid_template_rows": null,
            "height": null,
            "justify_content": null,
            "justify_items": null,
            "left": null,
            "margin": null,
            "max_height": null,
            "max_width": null,
            "min_height": null,
            "min_width": null,
            "object_fit": null,
            "object_position": null,
            "order": null,
            "overflow": null,
            "overflow_x": null,
            "overflow_y": null,
            "padding": null,
            "right": null,
            "top": null,
            "visibility": null,
            "width": null
          }
        },
        "63170c14d6d74d839d843af539e073bd": {
          "model_module": "@jupyter-widgets/base",
          "model_module_version": "1.2.0",
          "model_name": "LayoutModel",
          "state": {
            "_model_module": "@jupyter-widgets/base",
            "_model_module_version": "1.2.0",
            "_model_name": "LayoutModel",
            "_view_count": null,
            "_view_module": "@jupyter-widgets/base",
            "_view_module_version": "1.2.0",
            "_view_name": "LayoutView",
            "align_content": null,
            "align_items": null,
            "align_self": null,
            "border": null,
            "bottom": null,
            "display": null,
            "flex": null,
            "flex_flow": null,
            "grid_area": null,
            "grid_auto_columns": null,
            "grid_auto_flow": null,
            "grid_auto_rows": null,
            "grid_column": null,
            "grid_gap": null,
            "grid_row": null,
            "grid_template_areas": null,
            "grid_template_columns": null,
            "grid_template_rows": null,
            "height": null,
            "justify_content": null,
            "justify_items": null,
            "left": null,
            "margin": null,
            "max_height": null,
            "max_width": null,
            "min_height": null,
            "min_width": null,
            "object_fit": null,
            "object_position": null,
            "order": null,
            "overflow": null,
            "overflow_x": null,
            "overflow_y": null,
            "padding": null,
            "right": null,
            "top": null,
            "visibility": null,
            "width": null
          }
        },
        "640e9cf0b7df46e698ab6bd934731121": {
          "model_module": "@jupyter-widgets/controls",
          "model_module_version": "1.5.0",
          "model_name": "HBoxModel",
          "state": {
            "_dom_classes": [],
            "_model_module": "@jupyter-widgets/controls",
            "_model_module_version": "1.5.0",
            "_model_name": "HBoxModel",
            "_view_count": null,
            "_view_module": "@jupyter-widgets/controls",
            "_view_module_version": "1.5.0",
            "_view_name": "HBoxView",
            "box_style": "",
            "children": [
              "IPY_MODEL_51fec5e324f4418d9203d6f01eb504a9",
              "IPY_MODEL_d316e281785e4cf8b68e37806ac07c61",
              "IPY_MODEL_dfe8b2e2d02f4fb28705864a6842d8c7"
            ],
            "layout": "IPY_MODEL_3e059c0bc34b4758bad578abf13be6a3"
          }
        },
        "67f99f699dfe49919e0437c6da5b7313": {
          "model_module": "@jupyter-widgets/base",
          "model_module_version": "1.2.0",
          "model_name": "LayoutModel",
          "state": {
            "_model_module": "@jupyter-widgets/base",
            "_model_module_version": "1.2.0",
            "_model_name": "LayoutModel",
            "_view_count": null,
            "_view_module": "@jupyter-widgets/base",
            "_view_module_version": "1.2.0",
            "_view_name": "LayoutView",
            "align_content": null,
            "align_items": null,
            "align_self": null,
            "border": null,
            "bottom": null,
            "display": null,
            "flex": null,
            "flex_flow": null,
            "grid_area": null,
            "grid_auto_columns": null,
            "grid_auto_flow": null,
            "grid_auto_rows": null,
            "grid_column": null,
            "grid_gap": null,
            "grid_row": null,
            "grid_template_areas": null,
            "grid_template_columns": null,
            "grid_template_rows": null,
            "height": null,
            "justify_content": null,
            "justify_items": null,
            "left": null,
            "margin": null,
            "max_height": null,
            "max_width": null,
            "min_height": null,
            "min_width": null,
            "object_fit": null,
            "object_position": null,
            "order": null,
            "overflow": null,
            "overflow_x": null,
            "overflow_y": null,
            "padding": null,
            "right": null,
            "top": null,
            "visibility": null,
            "width": null
          }
        },
        "68c6e993b7db4516adc7fcf0b7fd7c4d": {
          "model_module": "@jupyter-widgets/controls",
          "model_module_version": "1.5.0",
          "model_name": "HBoxModel",
          "state": {
            "_dom_classes": [],
            "_model_module": "@jupyter-widgets/controls",
            "_model_module_version": "1.5.0",
            "_model_name": "HBoxModel",
            "_view_count": null,
            "_view_module": "@jupyter-widgets/controls",
            "_view_module_version": "1.5.0",
            "_view_name": "HBoxView",
            "box_style": "",
            "children": [
              "IPY_MODEL_94cfe264b64c4e338eb6fc8254116d37",
              "IPY_MODEL_96a8fe59f15d4509807dce4f5fd9f1d2",
              "IPY_MODEL_1c9987c8bb384cca8cbe78c03f628c97"
            ],
            "layout": "IPY_MODEL_05bfe20e7ac747aca93b601fa372c86c"
          }
        },
        "6a102092838343af944bbe289af90851": {
          "model_module": "@jupyter-widgets/controls",
          "model_module_version": "1.5.0",
          "model_name": "FloatProgressModel",
          "state": {
            "_dom_classes": [],
            "_model_module": "@jupyter-widgets/controls",
            "_model_module_version": "1.5.0",
            "_model_name": "FloatProgressModel",
            "_view_count": null,
            "_view_module": "@jupyter-widgets/controls",
            "_view_module_version": "1.5.0",
            "_view_name": "ProgressView",
            "bar_style": "success",
            "description": "",
            "description_tooltip": null,
            "layout": "IPY_MODEL_118ea863be58497db23d88812744d236",
            "max": 54,
            "min": 0,
            "orientation": "horizontal",
            "style": "IPY_MODEL_8a59419ad0044a748057d6a473a770a6",
            "value": 54
          }
        },
        "6b87c402ab51489488556a815437ca37": {
          "model_module": "@jupyter-widgets/controls",
          "model_module_version": "1.5.0",
          "model_name": "HBoxModel",
          "state": {
            "_dom_classes": [],
            "_model_module": "@jupyter-widgets/controls",
            "_model_module_version": "1.5.0",
            "_model_name": "HBoxModel",
            "_view_count": null,
            "_view_module": "@jupyter-widgets/controls",
            "_view_module_version": "1.5.0",
            "_view_name": "HBoxView",
            "box_style": "",
            "children": [
              "IPY_MODEL_d1a9785539a94ea3983bfa5e5ffd6eb2",
              "IPY_MODEL_7f02de42b9dc45e7a65db6c6f033b581",
              "IPY_MODEL_558293f126494b97ad0fe04adb083a91"
            ],
            "layout": "IPY_MODEL_0bdeb465416b4d5d938c02e5592c9181"
          }
        },
        "6bc1f45541bb440982e2969be931ecdf": {
          "model_module": "@jupyter-widgets/base",
          "model_module_version": "1.2.0",
          "model_name": "LayoutModel",
          "state": {
            "_model_module": "@jupyter-widgets/base",
            "_model_module_version": "1.2.0",
            "_model_name": "LayoutModel",
            "_view_count": null,
            "_view_module": "@jupyter-widgets/base",
            "_view_module_version": "1.2.0",
            "_view_name": "LayoutView",
            "align_content": null,
            "align_items": null,
            "align_self": null,
            "border": null,
            "bottom": null,
            "display": null,
            "flex": null,
            "flex_flow": null,
            "grid_area": null,
            "grid_auto_columns": null,
            "grid_auto_flow": null,
            "grid_auto_rows": null,
            "grid_column": null,
            "grid_gap": null,
            "grid_row": null,
            "grid_template_areas": null,
            "grid_template_columns": null,
            "grid_template_rows": null,
            "height": null,
            "justify_content": null,
            "justify_items": null,
            "left": null,
            "margin": null,
            "max_height": null,
            "max_width": null,
            "min_height": null,
            "min_width": null,
            "object_fit": null,
            "object_position": null,
            "order": null,
            "overflow": null,
            "overflow_x": null,
            "overflow_y": null,
            "padding": null,
            "right": null,
            "top": null,
            "visibility": null,
            "width": null
          }
        },
        "6dd9c90362ec4e11953156ecabdb88f4": {
          "model_module": "@jupyter-widgets/controls",
          "model_module_version": "1.5.0",
          "model_name": "HTMLModel",
          "state": {
            "_dom_classes": [],
            "_model_module": "@jupyter-widgets/controls",
            "_model_module_version": "1.5.0",
            "_model_name": "HTMLModel",
            "_view_count": null,
            "_view_module": "@jupyter-widgets/controls",
            "_view_module_version": "1.5.0",
            "_view_name": "HTMLView",
            "description": "",
            "description_tooltip": null,
            "layout": "IPY_MODEL_608b893b6ebf4dae80381e0562ade20c",
            "placeholder": "​",
            "style": "IPY_MODEL_30239c29bb0743b1b7a56206d62761cb",
            "value": " 54/54 [00:45&lt;00:00,  1.66it/s]"
          }
        },
        "6e8af70620a246b1a7ace4d9042df817": {
          "model_module": "@jupyter-widgets/controls",
          "model_module_version": "1.5.0",
          "model_name": "HTMLModel",
          "state": {
            "_dom_classes": [],
            "_model_module": "@jupyter-widgets/controls",
            "_model_module_version": "1.5.0",
            "_model_name": "HTMLModel",
            "_view_count": null,
            "_view_module": "@jupyter-widgets/controls",
            "_view_module_version": "1.5.0",
            "_view_name": "HTMLView",
            "description": "",
            "description_tooltip": null,
            "layout": "IPY_MODEL_05e2dec7eaa746b483c6bbc6072b2453",
            "placeholder": "​",
            "style": "IPY_MODEL_29aee8b29484462a929f62e9585a0f66",
            "value": " 54/54 [00:44&lt;00:00,  1.68it/s]"
          }
        },
        "70e38cdd63d64c16aa4b673c464f8630": {
          "model_module": "@jupyter-widgets/controls",
          "model_module_version": "1.5.0",
          "model_name": "ProgressStyleModel",
          "state": {
            "_model_module": "@jupyter-widgets/controls",
            "_model_module_version": "1.5.0",
            "_model_name": "ProgressStyleModel",
            "_view_count": null,
            "_view_module": "@jupyter-widgets/base",
            "_view_module_version": "1.2.0",
            "_view_name": "StyleView",
            "bar_color": null,
            "description_width": ""
          }
        },
        "70fc137a84374c788953dbaac623b208": {
          "model_module": "@jupyter-widgets/controls",
          "model_module_version": "1.5.0",
          "model_name": "HTMLModel",
          "state": {
            "_dom_classes": [],
            "_model_module": "@jupyter-widgets/controls",
            "_model_module_version": "1.5.0",
            "_model_name": "HTMLModel",
            "_view_count": null,
            "_view_module": "@jupyter-widgets/controls",
            "_view_module_version": "1.5.0",
            "_view_name": "HTMLView",
            "description": "",
            "description_tooltip": null,
            "layout": "IPY_MODEL_b3d9befa0b364106920bbbbdef6f16b4",
            "placeholder": "​",
            "style": "IPY_MODEL_066a35fe83644135a1828c842d71acff",
            "value": " 155/155 [03:17&lt;00:00,  1.05it/s]"
          }
        },
        "718798019b0044f9a04be187c7e7af52": {
          "model_module": "@jupyter-widgets/controls",
          "model_module_version": "1.5.0",
          "model_name": "HTMLModel",
          "state": {
            "_dom_classes": [],
            "_model_module": "@jupyter-widgets/controls",
            "_model_module_version": "1.5.0",
            "_model_name": "HTMLModel",
            "_view_count": null,
            "_view_module": "@jupyter-widgets/controls",
            "_view_module_version": "1.5.0",
            "_view_name": "HTMLView",
            "description": "",
            "description_tooltip": null,
            "layout": "IPY_MODEL_3c16172dcec74f1488bfb06f479b273f",
            "placeholder": "​",
            "style": "IPY_MODEL_30cb9d210e084f77a3eafc3f9e13533f",
            "value": "100%"
          }
        },
        "71bbb9c61c7a4d7bb7ef19554d16f4f4": {
          "model_module": "@jupyter-widgets/base",
          "model_module_version": "1.2.0",
          "model_name": "LayoutModel",
          "state": {
            "_model_module": "@jupyter-widgets/base",
            "_model_module_version": "1.2.0",
            "_model_name": "LayoutModel",
            "_view_count": null,
            "_view_module": "@jupyter-widgets/base",
            "_view_module_version": "1.2.0",
            "_view_name": "LayoutView",
            "align_content": null,
            "align_items": null,
            "align_self": null,
            "border": null,
            "bottom": null,
            "display": null,
            "flex": null,
            "flex_flow": null,
            "grid_area": null,
            "grid_auto_columns": null,
            "grid_auto_flow": null,
            "grid_auto_rows": null,
            "grid_column": null,
            "grid_gap": null,
            "grid_row": null,
            "grid_template_areas": null,
            "grid_template_columns": null,
            "grid_template_rows": null,
            "height": null,
            "justify_content": null,
            "justify_items": null,
            "left": null,
            "margin": null,
            "max_height": null,
            "max_width": null,
            "min_height": null,
            "min_width": null,
            "object_fit": null,
            "object_position": null,
            "order": null,
            "overflow": null,
            "overflow_x": null,
            "overflow_y": null,
            "padding": null,
            "right": null,
            "top": null,
            "visibility": null,
            "width": null
          }
        },
        "71e3e9f47f824a3ab71fb88134771175": {
          "model_module": "@jupyter-widgets/base",
          "model_module_version": "1.2.0",
          "model_name": "LayoutModel",
          "state": {
            "_model_module": "@jupyter-widgets/base",
            "_model_module_version": "1.2.0",
            "_model_name": "LayoutModel",
            "_view_count": null,
            "_view_module": "@jupyter-widgets/base",
            "_view_module_version": "1.2.0",
            "_view_name": "LayoutView",
            "align_content": null,
            "align_items": null,
            "align_self": null,
            "border": null,
            "bottom": null,
            "display": null,
            "flex": null,
            "flex_flow": null,
            "grid_area": null,
            "grid_auto_columns": null,
            "grid_auto_flow": null,
            "grid_auto_rows": null,
            "grid_column": null,
            "grid_gap": null,
            "grid_row": null,
            "grid_template_areas": null,
            "grid_template_columns": null,
            "grid_template_rows": null,
            "height": null,
            "justify_content": null,
            "justify_items": null,
            "left": null,
            "margin": null,
            "max_height": null,
            "max_width": null,
            "min_height": null,
            "min_width": null,
            "object_fit": null,
            "object_position": null,
            "order": null,
            "overflow": null,
            "overflow_x": null,
            "overflow_y": null,
            "padding": null,
            "right": null,
            "top": null,
            "visibility": null,
            "width": null
          }
        },
        "725742c9e9a94e8b878488de3fb813c3": {
          "model_module": "@jupyter-widgets/controls",
          "model_module_version": "1.5.0",
          "model_name": "HTMLModel",
          "state": {
            "_dom_classes": [],
            "_model_module": "@jupyter-widgets/controls",
            "_model_module_version": "1.5.0",
            "_model_name": "HTMLModel",
            "_view_count": null,
            "_view_module": "@jupyter-widgets/controls",
            "_view_module_version": "1.5.0",
            "_view_name": "HTMLView",
            "description": "",
            "description_tooltip": null,
            "layout": "IPY_MODEL_a3c4a1e8f88a4c27b8db7aac0ebe363f",
            "placeholder": "​",
            "style": "IPY_MODEL_d9942a1912b24824b8d45e22d8db2ad3",
            "value": "100%"
          }
        },
        "7351a133ce3c489589b4f9e6ee2b2966": {
          "model_module": "@jupyter-widgets/base",
          "model_module_version": "1.2.0",
          "model_name": "LayoutModel",
          "state": {
            "_model_module": "@jupyter-widgets/base",
            "_model_module_version": "1.2.0",
            "_model_name": "LayoutModel",
            "_view_count": null,
            "_view_module": "@jupyter-widgets/base",
            "_view_module_version": "1.2.0",
            "_view_name": "LayoutView",
            "align_content": null,
            "align_items": null,
            "align_self": null,
            "border": null,
            "bottom": null,
            "display": null,
            "flex": null,
            "flex_flow": null,
            "grid_area": null,
            "grid_auto_columns": null,
            "grid_auto_flow": null,
            "grid_auto_rows": null,
            "grid_column": null,
            "grid_gap": null,
            "grid_row": null,
            "grid_template_areas": null,
            "grid_template_columns": null,
            "grid_template_rows": null,
            "height": null,
            "justify_content": null,
            "justify_items": null,
            "left": null,
            "margin": null,
            "max_height": null,
            "max_width": null,
            "min_height": null,
            "min_width": null,
            "object_fit": null,
            "object_position": null,
            "order": null,
            "overflow": null,
            "overflow_x": null,
            "overflow_y": null,
            "padding": null,
            "right": null,
            "top": null,
            "visibility": null,
            "width": null
          }
        },
        "78f4ea614b934a508ce269a7e2e422a5": {
          "model_module": "@jupyter-widgets/base",
          "model_module_version": "1.2.0",
          "model_name": "LayoutModel",
          "state": {
            "_model_module": "@jupyter-widgets/base",
            "_model_module_version": "1.2.0",
            "_model_name": "LayoutModel",
            "_view_count": null,
            "_view_module": "@jupyter-widgets/base",
            "_view_module_version": "1.2.0",
            "_view_name": "LayoutView",
            "align_content": null,
            "align_items": null,
            "align_self": null,
            "border": null,
            "bottom": null,
            "display": null,
            "flex": null,
            "flex_flow": null,
            "grid_area": null,
            "grid_auto_columns": null,
            "grid_auto_flow": null,
            "grid_auto_rows": null,
            "grid_column": null,
            "grid_gap": null,
            "grid_row": null,
            "grid_template_areas": null,
            "grid_template_columns": null,
            "grid_template_rows": null,
            "height": null,
            "justify_content": null,
            "justify_items": null,
            "left": null,
            "margin": null,
            "max_height": null,
            "max_width": null,
            "min_height": null,
            "min_width": null,
            "object_fit": null,
            "object_position": null,
            "order": null,
            "overflow": null,
            "overflow_x": null,
            "overflow_y": null,
            "padding": null,
            "right": null,
            "top": null,
            "visibility": null,
            "width": null
          }
        },
        "7a0388ef17e04638aab828dbc6634c0d": {
          "model_module": "@jupyter-widgets/controls",
          "model_module_version": "1.5.0",
          "model_name": "HTMLModel",
          "state": {
            "_dom_classes": [],
            "_model_module": "@jupyter-widgets/controls",
            "_model_module_version": "1.5.0",
            "_model_name": "HTMLModel",
            "_view_count": null,
            "_view_module": "@jupyter-widgets/controls",
            "_view_module_version": "1.5.0",
            "_view_name": "HTMLView",
            "description": "",
            "description_tooltip": null,
            "layout": "IPY_MODEL_070968e3e0524d5994129fcfa41632f0",
            "placeholder": "​",
            "style": "IPY_MODEL_bc5b34f1ef1f41809ca1659b706cdf23",
            "value": "100%"
          }
        },
        "7a51be74185c496da55638b7a8c9c305": {
          "model_module": "@jupyter-widgets/base",
          "model_module_version": "1.2.0",
          "model_name": "LayoutModel",
          "state": {
            "_model_module": "@jupyter-widgets/base",
            "_model_module_version": "1.2.0",
            "_model_name": "LayoutModel",
            "_view_count": null,
            "_view_module": "@jupyter-widgets/base",
            "_view_module_version": "1.2.0",
            "_view_name": "LayoutView",
            "align_content": null,
            "align_items": null,
            "align_self": null,
            "border": null,
            "bottom": null,
            "display": null,
            "flex": null,
            "flex_flow": null,
            "grid_area": null,
            "grid_auto_columns": null,
            "grid_auto_flow": null,
            "grid_auto_rows": null,
            "grid_column": null,
            "grid_gap": null,
            "grid_row": null,
            "grid_template_areas": null,
            "grid_template_columns": null,
            "grid_template_rows": null,
            "height": null,
            "justify_content": null,
            "justify_items": null,
            "left": null,
            "margin": null,
            "max_height": null,
            "max_width": null,
            "min_height": null,
            "min_width": null,
            "object_fit": null,
            "object_position": null,
            "order": null,
            "overflow": null,
            "overflow_x": null,
            "overflow_y": null,
            "padding": null,
            "right": null,
            "top": null,
            "visibility": null,
            "width": null
          }
        },
        "7aa21085a69c4a989cece2676a2eb0a0": {
          "model_module": "@jupyter-widgets/controls",
          "model_module_version": "1.5.0",
          "model_name": "FloatProgressModel",
          "state": {
            "_dom_classes": [],
            "_model_module": "@jupyter-widgets/controls",
            "_model_module_version": "1.5.0",
            "_model_name": "FloatProgressModel",
            "_view_count": null,
            "_view_module": "@jupyter-widgets/controls",
            "_view_module_version": "1.5.0",
            "_view_name": "ProgressView",
            "bar_style": "success",
            "description": "",
            "description_tooltip": null,
            "layout": "IPY_MODEL_201d847981144c61adb5248cc4d163fb",
            "max": 53,
            "min": 0,
            "orientation": "horizontal",
            "style": "IPY_MODEL_06bf19929e4e4715826c6aa554c6aa08",
            "value": 53
          }
        },
        "7b80a4dfb8bb467cbc2871fa283320f3": {
          "model_module": "@jupyter-widgets/controls",
          "model_module_version": "1.5.0",
          "model_name": "ProgressStyleModel",
          "state": {
            "_model_module": "@jupyter-widgets/controls",
            "_model_module_version": "1.5.0",
            "_model_name": "ProgressStyleModel",
            "_view_count": null,
            "_view_module": "@jupyter-widgets/base",
            "_view_module_version": "1.2.0",
            "_view_name": "StyleView",
            "bar_color": null,
            "description_width": ""
          }
        },
        "7d91d6d7208c43ed950141f20cd675c0": {
          "model_module": "@jupyter-widgets/base",
          "model_module_version": "1.2.0",
          "model_name": "LayoutModel",
          "state": {
            "_model_module": "@jupyter-widgets/base",
            "_model_module_version": "1.2.0",
            "_model_name": "LayoutModel",
            "_view_count": null,
            "_view_module": "@jupyter-widgets/base",
            "_view_module_version": "1.2.0",
            "_view_name": "LayoutView",
            "align_content": null,
            "align_items": null,
            "align_self": null,
            "border": null,
            "bottom": null,
            "display": null,
            "flex": null,
            "flex_flow": null,
            "grid_area": null,
            "grid_auto_columns": null,
            "grid_auto_flow": null,
            "grid_auto_rows": null,
            "grid_column": null,
            "grid_gap": null,
            "grid_row": null,
            "grid_template_areas": null,
            "grid_template_columns": null,
            "grid_template_rows": null,
            "height": null,
            "justify_content": null,
            "justify_items": null,
            "left": null,
            "margin": null,
            "max_height": null,
            "max_width": null,
            "min_height": null,
            "min_width": null,
            "object_fit": null,
            "object_position": null,
            "order": null,
            "overflow": null,
            "overflow_x": null,
            "overflow_y": null,
            "padding": null,
            "right": null,
            "top": null,
            "visibility": null,
            "width": null
          }
        },
        "7dadeb42f1074af69bbf0f9798be2895": {
          "model_module": "@jupyter-widgets/base",
          "model_module_version": "1.2.0",
          "model_name": "LayoutModel",
          "state": {
            "_model_module": "@jupyter-widgets/base",
            "_model_module_version": "1.2.0",
            "_model_name": "LayoutModel",
            "_view_count": null,
            "_view_module": "@jupyter-widgets/base",
            "_view_module_version": "1.2.0",
            "_view_name": "LayoutView",
            "align_content": null,
            "align_items": null,
            "align_self": null,
            "border": null,
            "bottom": null,
            "display": null,
            "flex": null,
            "flex_flow": null,
            "grid_area": null,
            "grid_auto_columns": null,
            "grid_auto_flow": null,
            "grid_auto_rows": null,
            "grid_column": null,
            "grid_gap": null,
            "grid_row": null,
            "grid_template_areas": null,
            "grid_template_columns": null,
            "grid_template_rows": null,
            "height": null,
            "justify_content": null,
            "justify_items": null,
            "left": null,
            "margin": null,
            "max_height": null,
            "max_width": null,
            "min_height": null,
            "min_width": null,
            "object_fit": null,
            "object_position": null,
            "order": null,
            "overflow": null,
            "overflow_x": null,
            "overflow_y": null,
            "padding": null,
            "right": null,
            "top": null,
            "visibility": null,
            "width": null
          }
        },
        "7f02de42b9dc45e7a65db6c6f033b581": {
          "model_module": "@jupyter-widgets/controls",
          "model_module_version": "1.5.0",
          "model_name": "FloatProgressModel",
          "state": {
            "_dom_classes": [],
            "_model_module": "@jupyter-widgets/controls",
            "_model_module_version": "1.5.0",
            "_model_name": "FloatProgressModel",
            "_view_count": null,
            "_view_module": "@jupyter-widgets/controls",
            "_view_module_version": "1.5.0",
            "_view_name": "ProgressView",
            "bar_style": "success",
            "description": "",
            "description_tooltip": null,
            "layout": "IPY_MODEL_82603dec520f4cf0943488cea7abdace",
            "max": 155,
            "min": 0,
            "orientation": "horizontal",
            "style": "IPY_MODEL_cf77940769494d58b8f98160082605d7",
            "value": 155
          }
        },
        "7f858317a1474656bf0ea693a89e28e2": {
          "model_module": "@jupyter-widgets/controls",
          "model_module_version": "1.5.0",
          "model_name": "ProgressStyleModel",
          "state": {
            "_model_module": "@jupyter-widgets/controls",
            "_model_module_version": "1.5.0",
            "_model_name": "ProgressStyleModel",
            "_view_count": null,
            "_view_module": "@jupyter-widgets/base",
            "_view_module_version": "1.2.0",
            "_view_name": "StyleView",
            "bar_color": null,
            "description_width": ""
          }
        },
        "803d4a5ff80f4b13afaa6c2e6f21e908": {
          "model_module": "@jupyter-widgets/base",
          "model_module_version": "1.2.0",
          "model_name": "LayoutModel",
          "state": {
            "_model_module": "@jupyter-widgets/base",
            "_model_module_version": "1.2.0",
            "_model_name": "LayoutModel",
            "_view_count": null,
            "_view_module": "@jupyter-widgets/base",
            "_view_module_version": "1.2.0",
            "_view_name": "LayoutView",
            "align_content": null,
            "align_items": null,
            "align_self": null,
            "border": null,
            "bottom": null,
            "display": null,
            "flex": null,
            "flex_flow": null,
            "grid_area": null,
            "grid_auto_columns": null,
            "grid_auto_flow": null,
            "grid_auto_rows": null,
            "grid_column": null,
            "grid_gap": null,
            "grid_row": null,
            "grid_template_areas": null,
            "grid_template_columns": null,
            "grid_template_rows": null,
            "height": null,
            "justify_content": null,
            "justify_items": null,
            "left": null,
            "margin": null,
            "max_height": null,
            "max_width": null,
            "min_height": null,
            "min_width": null,
            "object_fit": null,
            "object_position": null,
            "order": null,
            "overflow": null,
            "overflow_x": null,
            "overflow_y": null,
            "padding": null,
            "right": null,
            "top": null,
            "visibility": null,
            "width": null
          }
        },
        "8046f1c472d24e9595e45f9876216dcd": {
          "model_module": "@jupyter-widgets/controls",
          "model_module_version": "1.5.0",
          "model_name": "FloatProgressModel",
          "state": {
            "_dom_classes": [],
            "_model_module": "@jupyter-widgets/controls",
            "_model_module_version": "1.5.0",
            "_model_name": "FloatProgressModel",
            "_view_count": null,
            "_view_module": "@jupyter-widgets/controls",
            "_view_module_version": "1.5.0",
            "_view_name": "ProgressView",
            "bar_style": "success",
            "description": "",
            "description_tooltip": null,
            "layout": "IPY_MODEL_00fc2323728a4b00a0c67e1d5b8452b2",
            "max": 155,
            "min": 0,
            "orientation": "horizontal",
            "style": "IPY_MODEL_23743b37e0bf4e83b48592bf03dd116d",
            "value": 155
          }
        },
        "807c9c74c89d42018d688ad0507efa84": {
          "model_module": "@jupyter-widgets/controls",
          "model_module_version": "1.5.0",
          "model_name": "DescriptionStyleModel",
          "state": {
            "_model_module": "@jupyter-widgets/controls",
            "_model_module_version": "1.5.0",
            "_model_name": "DescriptionStyleModel",
            "_view_count": null,
            "_view_module": "@jupyter-widgets/base",
            "_view_module_version": "1.2.0",
            "_view_name": "StyleView",
            "description_width": ""
          }
        },
        "825e862ccfb043ac84eb8da4c298ad72": {
          "model_module": "@jupyter-widgets/controls",
          "model_module_version": "1.5.0",
          "model_name": "DescriptionStyleModel",
          "state": {
            "_model_module": "@jupyter-widgets/controls",
            "_model_module_version": "1.5.0",
            "_model_name": "DescriptionStyleModel",
            "_view_count": null,
            "_view_module": "@jupyter-widgets/base",
            "_view_module_version": "1.2.0",
            "_view_name": "StyleView",
            "description_width": ""
          }
        },
        "82603dec520f4cf0943488cea7abdace": {
          "model_module": "@jupyter-widgets/base",
          "model_module_version": "1.2.0",
          "model_name": "LayoutModel",
          "state": {
            "_model_module": "@jupyter-widgets/base",
            "_model_module_version": "1.2.0",
            "_model_name": "LayoutModel",
            "_view_count": null,
            "_view_module": "@jupyter-widgets/base",
            "_view_module_version": "1.2.0",
            "_view_name": "LayoutView",
            "align_content": null,
            "align_items": null,
            "align_self": null,
            "border": null,
            "bottom": null,
            "display": null,
            "flex": null,
            "flex_flow": null,
            "grid_area": null,
            "grid_auto_columns": null,
            "grid_auto_flow": null,
            "grid_auto_rows": null,
            "grid_column": null,
            "grid_gap": null,
            "grid_row": null,
            "grid_template_areas": null,
            "grid_template_columns": null,
            "grid_template_rows": null,
            "height": null,
            "justify_content": null,
            "justify_items": null,
            "left": null,
            "margin": null,
            "max_height": null,
            "max_width": null,
            "min_height": null,
            "min_width": null,
            "object_fit": null,
            "object_position": null,
            "order": null,
            "overflow": null,
            "overflow_x": null,
            "overflow_y": null,
            "padding": null,
            "right": null,
            "top": null,
            "visibility": null,
            "width": null
          }
        },
        "82726a4ff63542bfb9e9c95415a7a8bd": {
          "model_module": "@jupyter-widgets/controls",
          "model_module_version": "1.5.0",
          "model_name": "ProgressStyleModel",
          "state": {
            "_model_module": "@jupyter-widgets/controls",
            "_model_module_version": "1.5.0",
            "_model_name": "ProgressStyleModel",
            "_view_count": null,
            "_view_module": "@jupyter-widgets/base",
            "_view_module_version": "1.2.0",
            "_view_name": "StyleView",
            "bar_color": null,
            "description_width": ""
          }
        },
        "82fcb008de4641289b543acaf7fff382": {
          "model_module": "@jupyter-widgets/base",
          "model_module_version": "1.2.0",
          "model_name": "LayoutModel",
          "state": {
            "_model_module": "@jupyter-widgets/base",
            "_model_module_version": "1.2.0",
            "_model_name": "LayoutModel",
            "_view_count": null,
            "_view_module": "@jupyter-widgets/base",
            "_view_module_version": "1.2.0",
            "_view_name": "LayoutView",
            "align_content": null,
            "align_items": null,
            "align_self": null,
            "border": null,
            "bottom": null,
            "display": null,
            "flex": null,
            "flex_flow": null,
            "grid_area": null,
            "grid_auto_columns": null,
            "grid_auto_flow": null,
            "grid_auto_rows": null,
            "grid_column": null,
            "grid_gap": null,
            "grid_row": null,
            "grid_template_areas": null,
            "grid_template_columns": null,
            "grid_template_rows": null,
            "height": null,
            "justify_content": null,
            "justify_items": null,
            "left": null,
            "margin": null,
            "max_height": null,
            "max_width": null,
            "min_height": null,
            "min_width": null,
            "object_fit": null,
            "object_position": null,
            "order": null,
            "overflow": null,
            "overflow_x": null,
            "overflow_y": null,
            "padding": null,
            "right": null,
            "top": null,
            "visibility": null,
            "width": null
          }
        },
        "844036173c014524a9dda33963a4ea7c": {
          "model_module": "@jupyter-widgets/controls",
          "model_module_version": "1.5.0",
          "model_name": "DescriptionStyleModel",
          "state": {
            "_model_module": "@jupyter-widgets/controls",
            "_model_module_version": "1.5.0",
            "_model_name": "DescriptionStyleModel",
            "_view_count": null,
            "_view_module": "@jupyter-widgets/base",
            "_view_module_version": "1.2.0",
            "_view_name": "StyleView",
            "description_width": ""
          }
        },
        "84c44d3aec7847e3ac21a6e11735fa28": {
          "model_module": "@jupyter-widgets/controls",
          "model_module_version": "1.5.0",
          "model_name": "DescriptionStyleModel",
          "state": {
            "_model_module": "@jupyter-widgets/controls",
            "_model_module_version": "1.5.0",
            "_model_name": "DescriptionStyleModel",
            "_view_count": null,
            "_view_module": "@jupyter-widgets/base",
            "_view_module_version": "1.2.0",
            "_view_name": "StyleView",
            "description_width": ""
          }
        },
        "8803125a182941dfa06f3734f7ae601f": {
          "model_module": "@jupyter-widgets/controls",
          "model_module_version": "1.5.0",
          "model_name": "DescriptionStyleModel",
          "state": {
            "_model_module": "@jupyter-widgets/controls",
            "_model_module_version": "1.5.0",
            "_model_name": "DescriptionStyleModel",
            "_view_count": null,
            "_view_module": "@jupyter-widgets/base",
            "_view_module_version": "1.2.0",
            "_view_name": "StyleView",
            "description_width": ""
          }
        },
        "882acc4500cd4f99bd63fa9dcbd34c72": {
          "model_module": "@jupyter-widgets/controls",
          "model_module_version": "1.5.0",
          "model_name": "DescriptionStyleModel",
          "state": {
            "_model_module": "@jupyter-widgets/controls",
            "_model_module_version": "1.5.0",
            "_model_name": "DescriptionStyleModel",
            "_view_count": null,
            "_view_module": "@jupyter-widgets/base",
            "_view_module_version": "1.2.0",
            "_view_name": "StyleView",
            "description_width": ""
          }
        },
        "8a59419ad0044a748057d6a473a770a6": {
          "model_module": "@jupyter-widgets/controls",
          "model_module_version": "1.5.0",
          "model_name": "ProgressStyleModel",
          "state": {
            "_model_module": "@jupyter-widgets/controls",
            "_model_module_version": "1.5.0",
            "_model_name": "ProgressStyleModel",
            "_view_count": null,
            "_view_module": "@jupyter-widgets/base",
            "_view_module_version": "1.2.0",
            "_view_name": "StyleView",
            "bar_color": null,
            "description_width": ""
          }
        },
        "8bd1b85e4c1c4de5bc68af341958458d": {
          "model_module": "@jupyter-widgets/controls",
          "model_module_version": "1.5.0",
          "model_name": "DescriptionStyleModel",
          "state": {
            "_model_module": "@jupyter-widgets/controls",
            "_model_module_version": "1.5.0",
            "_model_name": "DescriptionStyleModel",
            "_view_count": null,
            "_view_module": "@jupyter-widgets/base",
            "_view_module_version": "1.2.0",
            "_view_name": "StyleView",
            "description_width": ""
          }
        },
        "8cf032eee56b4ebd8c62359f70c85f4a": {
          "model_module": "@jupyter-widgets/base",
          "model_module_version": "1.2.0",
          "model_name": "LayoutModel",
          "state": {
            "_model_module": "@jupyter-widgets/base",
            "_model_module_version": "1.2.0",
            "_model_name": "LayoutModel",
            "_view_count": null,
            "_view_module": "@jupyter-widgets/base",
            "_view_module_version": "1.2.0",
            "_view_name": "LayoutView",
            "align_content": null,
            "align_items": null,
            "align_self": null,
            "border": null,
            "bottom": null,
            "display": null,
            "flex": null,
            "flex_flow": null,
            "grid_area": null,
            "grid_auto_columns": null,
            "grid_auto_flow": null,
            "grid_auto_rows": null,
            "grid_column": null,
            "grid_gap": null,
            "grid_row": null,
            "grid_template_areas": null,
            "grid_template_columns": null,
            "grid_template_rows": null,
            "height": null,
            "justify_content": null,
            "justify_items": null,
            "left": null,
            "margin": null,
            "max_height": null,
            "max_width": null,
            "min_height": null,
            "min_width": null,
            "object_fit": null,
            "object_position": null,
            "order": null,
            "overflow": null,
            "overflow_x": null,
            "overflow_y": null,
            "padding": null,
            "right": null,
            "top": null,
            "visibility": null,
            "width": null
          }
        },
        "8dbef83d192d45a4a34a3d3bb77f6aaa": {
          "model_module": "@jupyter-widgets/base",
          "model_module_version": "1.2.0",
          "model_name": "LayoutModel",
          "state": {
            "_model_module": "@jupyter-widgets/base",
            "_model_module_version": "1.2.0",
            "_model_name": "LayoutModel",
            "_view_count": null,
            "_view_module": "@jupyter-widgets/base",
            "_view_module_version": "1.2.0",
            "_view_name": "LayoutView",
            "align_content": null,
            "align_items": null,
            "align_self": null,
            "border": null,
            "bottom": null,
            "display": null,
            "flex": null,
            "flex_flow": null,
            "grid_area": null,
            "grid_auto_columns": null,
            "grid_auto_flow": null,
            "grid_auto_rows": null,
            "grid_column": null,
            "grid_gap": null,
            "grid_row": null,
            "grid_template_areas": null,
            "grid_template_columns": null,
            "grid_template_rows": null,
            "height": null,
            "justify_content": null,
            "justify_items": null,
            "left": null,
            "margin": null,
            "max_height": null,
            "max_width": null,
            "min_height": null,
            "min_width": null,
            "object_fit": null,
            "object_position": null,
            "order": null,
            "overflow": null,
            "overflow_x": null,
            "overflow_y": null,
            "padding": null,
            "right": null,
            "top": null,
            "visibility": null,
            "width": null
          }
        },
        "8f85ab10b6a141c2a961a3caa355df7a": {
          "model_module": "@jupyter-widgets/controls",
          "model_module_version": "1.5.0",
          "model_name": "HBoxModel",
          "state": {
            "_dom_classes": [],
            "_model_module": "@jupyter-widgets/controls",
            "_model_module_version": "1.5.0",
            "_model_name": "HBoxModel",
            "_view_count": null,
            "_view_module": "@jupyter-widgets/controls",
            "_view_module_version": "1.5.0",
            "_view_name": "HBoxView",
            "box_style": "",
            "children": [
              "IPY_MODEL_7a0388ef17e04638aab828dbc6634c0d",
              "IPY_MODEL_7aa21085a69c4a989cece2676a2eb0a0",
              "IPY_MODEL_e869e09db5dc4ed382ddab706a08e5b2"
            ],
            "layout": "IPY_MODEL_4e50124253664e72be340a9a25d81531"
          }
        },
        "911caf3f1fe84a2c8016c07798561e38": {
          "model_module": "@jupyter-widgets/base",
          "model_module_version": "1.2.0",
          "model_name": "LayoutModel",
          "state": {
            "_model_module": "@jupyter-widgets/base",
            "_model_module_version": "1.2.0",
            "_model_name": "LayoutModel",
            "_view_count": null,
            "_view_module": "@jupyter-widgets/base",
            "_view_module_version": "1.2.0",
            "_view_name": "LayoutView",
            "align_content": null,
            "align_items": null,
            "align_self": null,
            "border": null,
            "bottom": null,
            "display": null,
            "flex": null,
            "flex_flow": null,
            "grid_area": null,
            "grid_auto_columns": null,
            "grid_auto_flow": null,
            "grid_auto_rows": null,
            "grid_column": null,
            "grid_gap": null,
            "grid_row": null,
            "grid_template_areas": null,
            "grid_template_columns": null,
            "grid_template_rows": null,
            "height": null,
            "justify_content": null,
            "justify_items": null,
            "left": null,
            "margin": null,
            "max_height": null,
            "max_width": null,
            "min_height": null,
            "min_width": null,
            "object_fit": null,
            "object_position": null,
            "order": null,
            "overflow": null,
            "overflow_x": null,
            "overflow_y": null,
            "padding": null,
            "right": null,
            "top": null,
            "visibility": null,
            "width": null
          }
        },
        "92bc5c8e65d24bd98dbc366c8d846fe7": {
          "model_module": "@jupyter-widgets/controls",
          "model_module_version": "1.5.0",
          "model_name": "FloatProgressModel",
          "state": {
            "_dom_classes": [],
            "_model_module": "@jupyter-widgets/controls",
            "_model_module_version": "1.5.0",
            "_model_name": "FloatProgressModel",
            "_view_count": null,
            "_view_module": "@jupyter-widgets/controls",
            "_view_module_version": "1.5.0",
            "_view_name": "ProgressView",
            "bar_style": "success",
            "description": "",
            "description_tooltip": null,
            "layout": "IPY_MODEL_63170c14d6d74d839d843af539e073bd",
            "max": 54,
            "min": 0,
            "orientation": "horizontal",
            "style": "IPY_MODEL_972cd2afcd904b3fa856bfdda4bb24ac",
            "value": 54
          }
        },
        "931a0d29cc89400997a4ce83b1489af8": {
          "model_module": "@jupyter-widgets/controls",
          "model_module_version": "1.5.0",
          "model_name": "DescriptionStyleModel",
          "state": {
            "_model_module": "@jupyter-widgets/controls",
            "_model_module_version": "1.5.0",
            "_model_name": "DescriptionStyleModel",
            "_view_count": null,
            "_view_module": "@jupyter-widgets/base",
            "_view_module_version": "1.2.0",
            "_view_name": "StyleView",
            "description_width": ""
          }
        },
        "94cfe264b64c4e338eb6fc8254116d37": {
          "model_module": "@jupyter-widgets/controls",
          "model_module_version": "1.5.0",
          "model_name": "HTMLModel",
          "state": {
            "_dom_classes": [],
            "_model_module": "@jupyter-widgets/controls",
            "_model_module_version": "1.5.0",
            "_model_name": "HTMLModel",
            "_view_count": null,
            "_view_module": "@jupyter-widgets/controls",
            "_view_module_version": "1.5.0",
            "_view_name": "HTMLView",
            "description": "",
            "description_tooltip": null,
            "layout": "IPY_MODEL_01c9facfa0364941a2e50fa0357e87d0",
            "placeholder": "​",
            "style": "IPY_MODEL_546b37c6da1d4874ac48f580939871ad",
            "value": "100%"
          }
        },
        "94d5e72d1bb34329be2cf29f7ad01817": {
          "model_module": "@jupyter-widgets/controls",
          "model_module_version": "1.5.0",
          "model_name": "DescriptionStyleModel",
          "state": {
            "_model_module": "@jupyter-widgets/controls",
            "_model_module_version": "1.5.0",
            "_model_name": "DescriptionStyleModel",
            "_view_count": null,
            "_view_module": "@jupyter-widgets/base",
            "_view_module_version": "1.2.0",
            "_view_name": "StyleView",
            "description_width": ""
          }
        },
        "96a8fe59f15d4509807dce4f5fd9f1d2": {
          "model_module": "@jupyter-widgets/controls",
          "model_module_version": "1.5.0",
          "model_name": "FloatProgressModel",
          "state": {
            "_dom_classes": [],
            "_model_module": "@jupyter-widgets/controls",
            "_model_module_version": "1.5.0",
            "_model_name": "FloatProgressModel",
            "_view_count": null,
            "_view_module": "@jupyter-widgets/controls",
            "_view_module_version": "1.5.0",
            "_view_name": "ProgressView",
            "bar_style": "success",
            "description": "",
            "description_tooltip": null,
            "layout": "IPY_MODEL_27d40a336d1a40a384e42d99390b47cd",
            "max": 54,
            "min": 0,
            "orientation": "horizontal",
            "style": "IPY_MODEL_70e38cdd63d64c16aa4b673c464f8630",
            "value": 54
          }
        },
        "96ad7cc3769940ee970e38c6bf05481c": {
          "model_module": "@jupyter-widgets/controls",
          "model_module_version": "1.5.0",
          "model_name": "DescriptionStyleModel",
          "state": {
            "_model_module": "@jupyter-widgets/controls",
            "_model_module_version": "1.5.0",
            "_model_name": "DescriptionStyleModel",
            "_view_count": null,
            "_view_module": "@jupyter-widgets/base",
            "_view_module_version": "1.2.0",
            "_view_name": "StyleView",
            "description_width": ""
          }
        },
        "972cd2afcd904b3fa856bfdda4bb24ac": {
          "model_module": "@jupyter-widgets/controls",
          "model_module_version": "1.5.0",
          "model_name": "ProgressStyleModel",
          "state": {
            "_model_module": "@jupyter-widgets/controls",
            "_model_module_version": "1.5.0",
            "_model_name": "ProgressStyleModel",
            "_view_count": null,
            "_view_module": "@jupyter-widgets/base",
            "_view_module_version": "1.2.0",
            "_view_name": "StyleView",
            "bar_color": null,
            "description_width": ""
          }
        },
        "978750848a334675b7ef348fbb09c2bd": {
          "model_module": "@jupyter-widgets/controls",
          "model_module_version": "1.5.0",
          "model_name": "ProgressStyleModel",
          "state": {
            "_model_module": "@jupyter-widgets/controls",
            "_model_module_version": "1.5.0",
            "_model_name": "ProgressStyleModel",
            "_view_count": null,
            "_view_module": "@jupyter-widgets/base",
            "_view_module_version": "1.2.0",
            "_view_name": "StyleView",
            "bar_color": null,
            "description_width": ""
          }
        },
        "9864bc1d23d64f12b30665c924c32950": {
          "model_module": "@jupyter-widgets/controls",
          "model_module_version": "1.5.0",
          "model_name": "HBoxModel",
          "state": {
            "_dom_classes": [],
            "_model_module": "@jupyter-widgets/controls",
            "_model_module_version": "1.5.0",
            "_model_name": "HBoxModel",
            "_view_count": null,
            "_view_module": "@jupyter-widgets/controls",
            "_view_module_version": "1.5.0",
            "_view_name": "HBoxView",
            "box_style": "",
            "children": [
              "IPY_MODEL_04c519315cfd4a1c98086c6e85febc4e",
              "IPY_MODEL_a7467780d4aa4118acc8ddcaa0fd3830",
              "IPY_MODEL_b03417a39fdd4ea589972dc2aab2ec4a"
            ],
            "layout": "IPY_MODEL_ca7625f726a5459186264d314cb18d05"
          }
        },
        "992acfc0fa5140f38c85b93720100240": {
          "model_module": "@jupyter-widgets/controls",
          "model_module_version": "1.5.0",
          "model_name": "HBoxModel",
          "state": {
            "_dom_classes": [],
            "_model_module": "@jupyter-widgets/controls",
            "_model_module_version": "1.5.0",
            "_model_name": "HBoxModel",
            "_view_count": null,
            "_view_module": "@jupyter-widgets/controls",
            "_view_module_version": "1.5.0",
            "_view_name": "HBoxView",
            "box_style": "",
            "children": [
              "IPY_MODEL_718798019b0044f9a04be187c7e7af52",
              "IPY_MODEL_92bc5c8e65d24bd98dbc366c8d846fe7",
              "IPY_MODEL_6e8af70620a246b1a7ace4d9042df817"
            ],
            "layout": "IPY_MODEL_e723eba9afd34feab0f5d496dedcbfd1"
          }
        },
        "9b614c0865674ea19ad2153267b58881": {
          "model_module": "@jupyter-widgets/controls",
          "model_module_version": "1.5.0",
          "model_name": "HTMLModel",
          "state": {
            "_dom_classes": [],
            "_model_module": "@jupyter-widgets/controls",
            "_model_module_version": "1.5.0",
            "_model_name": "HTMLModel",
            "_view_count": null,
            "_view_module": "@jupyter-widgets/controls",
            "_view_module_version": "1.5.0",
            "_view_name": "HTMLView",
            "description": "",
            "description_tooltip": null,
            "layout": "IPY_MODEL_092f2e9cf02b4626a078a6b0c224b590",
            "placeholder": "​",
            "style": "IPY_MODEL_8bd1b85e4c1c4de5bc68af341958458d",
            "value": "100%"
          }
        },
        "a00e73304e3c4dfa8f248f6f5e644f69": {
          "model_module": "@jupyter-widgets/controls",
          "model_module_version": "1.5.0",
          "model_name": "DescriptionStyleModel",
          "state": {
            "_model_module": "@jupyter-widgets/controls",
            "_model_module_version": "1.5.0",
            "_model_name": "DescriptionStyleModel",
            "_view_count": null,
            "_view_module": "@jupyter-widgets/base",
            "_view_module_version": "1.2.0",
            "_view_name": "StyleView",
            "description_width": ""
          }
        },
        "a0376ab4667c41a38b8869a2270bb617": {
          "model_module": "@jupyter-widgets/base",
          "model_module_version": "1.2.0",
          "model_name": "LayoutModel",
          "state": {
            "_model_module": "@jupyter-widgets/base",
            "_model_module_version": "1.2.0",
            "_model_name": "LayoutModel",
            "_view_count": null,
            "_view_module": "@jupyter-widgets/base",
            "_view_module_version": "1.2.0",
            "_view_name": "LayoutView",
            "align_content": null,
            "align_items": null,
            "align_self": null,
            "border": null,
            "bottom": null,
            "display": null,
            "flex": null,
            "flex_flow": null,
            "grid_area": null,
            "grid_auto_columns": null,
            "grid_auto_flow": null,
            "grid_auto_rows": null,
            "grid_column": null,
            "grid_gap": null,
            "grid_row": null,
            "grid_template_areas": null,
            "grid_template_columns": null,
            "grid_template_rows": null,
            "height": null,
            "justify_content": null,
            "justify_items": null,
            "left": null,
            "margin": null,
            "max_height": null,
            "max_width": null,
            "min_height": null,
            "min_width": null,
            "object_fit": null,
            "object_position": null,
            "order": null,
            "overflow": null,
            "overflow_x": null,
            "overflow_y": null,
            "padding": null,
            "right": null,
            "top": null,
            "visibility": null,
            "width": null
          }
        },
        "a0b9fd2966fb48f58dc482fa7e699501": {
          "model_module": "@jupyter-widgets/controls",
          "model_module_version": "1.5.0",
          "model_name": "DescriptionStyleModel",
          "state": {
            "_model_module": "@jupyter-widgets/controls",
            "_model_module_version": "1.5.0",
            "_model_name": "DescriptionStyleModel",
            "_view_count": null,
            "_view_module": "@jupyter-widgets/base",
            "_view_module_version": "1.2.0",
            "_view_name": "StyleView",
            "description_width": ""
          }
        },
        "a0c0429d8cf54d93ba11af0c0086f1ec": {
          "model_module": "@jupyter-widgets/controls",
          "model_module_version": "1.5.0",
          "model_name": "HTMLModel",
          "state": {
            "_dom_classes": [],
            "_model_module": "@jupyter-widgets/controls",
            "_model_module_version": "1.5.0",
            "_model_name": "HTMLModel",
            "_view_count": null,
            "_view_module": "@jupyter-widgets/controls",
            "_view_module_version": "1.5.0",
            "_view_name": "HTMLView",
            "description": "",
            "description_tooltip": null,
            "layout": "IPY_MODEL_db10a75c1b944fa5ba4bbbdc48d82930",
            "placeholder": "​",
            "style": "IPY_MODEL_825e862ccfb043ac84eb8da4c298ad72",
            "value": "100%"
          }
        },
        "a3c4a1e8f88a4c27b8db7aac0ebe363f": {
          "model_module": "@jupyter-widgets/base",
          "model_module_version": "1.2.0",
          "model_name": "LayoutModel",
          "state": {
            "_model_module": "@jupyter-widgets/base",
            "_model_module_version": "1.2.0",
            "_model_name": "LayoutModel",
            "_view_count": null,
            "_view_module": "@jupyter-widgets/base",
            "_view_module_version": "1.2.0",
            "_view_name": "LayoutView",
            "align_content": null,
            "align_items": null,
            "align_self": null,
            "border": null,
            "bottom": null,
            "display": null,
            "flex": null,
            "flex_flow": null,
            "grid_area": null,
            "grid_auto_columns": null,
            "grid_auto_flow": null,
            "grid_auto_rows": null,
            "grid_column": null,
            "grid_gap": null,
            "grid_row": null,
            "grid_template_areas": null,
            "grid_template_columns": null,
            "grid_template_rows": null,
            "height": null,
            "justify_content": null,
            "justify_items": null,
            "left": null,
            "margin": null,
            "max_height": null,
            "max_width": null,
            "min_height": null,
            "min_width": null,
            "object_fit": null,
            "object_position": null,
            "order": null,
            "overflow": null,
            "overflow_x": null,
            "overflow_y": null,
            "padding": null,
            "right": null,
            "top": null,
            "visibility": null,
            "width": null
          }
        },
        "a4584d300f544942a64188a101000b55": {
          "model_module": "@jupyter-widgets/base",
          "model_module_version": "1.2.0",
          "model_name": "LayoutModel",
          "state": {
            "_model_module": "@jupyter-widgets/base",
            "_model_module_version": "1.2.0",
            "_model_name": "LayoutModel",
            "_view_count": null,
            "_view_module": "@jupyter-widgets/base",
            "_view_module_version": "1.2.0",
            "_view_name": "LayoutView",
            "align_content": null,
            "align_items": null,
            "align_self": null,
            "border": null,
            "bottom": null,
            "display": null,
            "flex": null,
            "flex_flow": null,
            "grid_area": null,
            "grid_auto_columns": null,
            "grid_auto_flow": null,
            "grid_auto_rows": null,
            "grid_column": null,
            "grid_gap": null,
            "grid_row": null,
            "grid_template_areas": null,
            "grid_template_columns": null,
            "grid_template_rows": null,
            "height": null,
            "justify_content": null,
            "justify_items": null,
            "left": null,
            "margin": null,
            "max_height": null,
            "max_width": null,
            "min_height": null,
            "min_width": null,
            "object_fit": null,
            "object_position": null,
            "order": null,
            "overflow": null,
            "overflow_x": null,
            "overflow_y": null,
            "padding": null,
            "right": null,
            "top": null,
            "visibility": null,
            "width": null
          }
        },
        "a4bd87276af440fe95a0233dde79277b": {
          "model_module": "@jupyter-widgets/controls",
          "model_module_version": "1.5.0",
          "model_name": "DescriptionStyleModel",
          "state": {
            "_model_module": "@jupyter-widgets/controls",
            "_model_module_version": "1.5.0",
            "_model_name": "DescriptionStyleModel",
            "_view_count": null,
            "_view_module": "@jupyter-widgets/base",
            "_view_module_version": "1.2.0",
            "_view_name": "StyleView",
            "description_width": ""
          }
        },
        "a5387532ca5b493a9cd044d84dbdffbe": {
          "model_module": "@jupyter-widgets/controls",
          "model_module_version": "1.5.0",
          "model_name": "ProgressStyleModel",
          "state": {
            "_model_module": "@jupyter-widgets/controls",
            "_model_module_version": "1.5.0",
            "_model_name": "ProgressStyleModel",
            "_view_count": null,
            "_view_module": "@jupyter-widgets/base",
            "_view_module_version": "1.2.0",
            "_view_name": "StyleView",
            "bar_color": null,
            "description_width": ""
          }
        },
        "a6299d8d944840fcbe947fed70ca840a": {
          "model_module": "@jupyter-widgets/controls",
          "model_module_version": "1.5.0",
          "model_name": "HTMLModel",
          "state": {
            "_dom_classes": [],
            "_model_module": "@jupyter-widgets/controls",
            "_model_module_version": "1.5.0",
            "_model_name": "HTMLModel",
            "_view_count": null,
            "_view_module": "@jupyter-widgets/controls",
            "_view_module_version": "1.5.0",
            "_view_name": "HTMLView",
            "description": "",
            "description_tooltip": null,
            "layout": "IPY_MODEL_d61678568abb43288e8b6f447198e31b",
            "placeholder": "​",
            "style": "IPY_MODEL_20198e2682a5421e8d7b6400e33c426f",
            "value": " 155/155 [03:17&lt;00:00,  1.08it/s]"
          }
        },
        "a6c2610e1d024d75aea5ad0901955201": {
          "model_module": "@jupyter-widgets/controls",
          "model_module_version": "1.5.0",
          "model_name": "ProgressStyleModel",
          "state": {
            "_model_module": "@jupyter-widgets/controls",
            "_model_module_version": "1.5.0",
            "_model_name": "ProgressStyleModel",
            "_view_count": null,
            "_view_module": "@jupyter-widgets/base",
            "_view_module_version": "1.2.0",
            "_view_name": "StyleView",
            "bar_color": null,
            "description_width": ""
          }
        },
        "a7467780d4aa4118acc8ddcaa0fd3830": {
          "model_module": "@jupyter-widgets/controls",
          "model_module_version": "1.5.0",
          "model_name": "FloatProgressModel",
          "state": {
            "_dom_classes": [],
            "_model_module": "@jupyter-widgets/controls",
            "_model_module_version": "1.5.0",
            "_model_name": "FloatProgressModel",
            "_view_count": null,
            "_view_module": "@jupyter-widgets/controls",
            "_view_module_version": "1.5.0",
            "_view_name": "ProgressView",
            "bar_style": "success",
            "description": "",
            "description_tooltip": null,
            "layout": "IPY_MODEL_71bbb9c61c7a4d7bb7ef19554d16f4f4",
            "max": 54,
            "min": 0,
            "orientation": "horizontal",
            "style": "IPY_MODEL_e7397dc417e6407b836ad591196667b4",
            "value": 54
          }
        },
        "a7e3f39e7b51446987791d8ff8bb9fc0": {
          "model_module": "@jupyter-widgets/controls",
          "model_module_version": "1.5.0",
          "model_name": "HBoxModel",
          "state": {
            "_dom_classes": [],
            "_model_module": "@jupyter-widgets/controls",
            "_model_module_version": "1.5.0",
            "_model_name": "HBoxModel",
            "_view_count": null,
            "_view_module": "@jupyter-widgets/controls",
            "_view_module_version": "1.5.0",
            "_view_name": "HBoxView",
            "box_style": "",
            "children": [
              "IPY_MODEL_481d5660404147849fe2fdc8fa1e1729",
              "IPY_MODEL_52de51dbafd743f8ab5d9c5ba817d239",
              "IPY_MODEL_4b28a092043e4e53b34e0f5ee5421ecd"
            ],
            "layout": "IPY_MODEL_59fa20dc01ae410690825fae99247161"
          }
        },
        "a822c46387a7458b828cae0b95f069eb": {
          "model_module": "@jupyter-widgets/base",
          "model_module_version": "1.2.0",
          "model_name": "LayoutModel",
          "state": {
            "_model_module": "@jupyter-widgets/base",
            "_model_module_version": "1.2.0",
            "_model_name": "LayoutModel",
            "_view_count": null,
            "_view_module": "@jupyter-widgets/base",
            "_view_module_version": "1.2.0",
            "_view_name": "LayoutView",
            "align_content": null,
            "align_items": null,
            "align_self": null,
            "border": null,
            "bottom": null,
            "display": null,
            "flex": null,
            "flex_flow": null,
            "grid_area": null,
            "grid_auto_columns": null,
            "grid_auto_flow": null,
            "grid_auto_rows": null,
            "grid_column": null,
            "grid_gap": null,
            "grid_row": null,
            "grid_template_areas": null,
            "grid_template_columns": null,
            "grid_template_rows": null,
            "height": null,
            "justify_content": null,
            "justify_items": null,
            "left": null,
            "margin": null,
            "max_height": null,
            "max_width": null,
            "min_height": null,
            "min_width": null,
            "object_fit": null,
            "object_position": null,
            "order": null,
            "overflow": null,
            "overflow_x": null,
            "overflow_y": null,
            "padding": null,
            "right": null,
            "top": null,
            "visibility": null,
            "width": null
          }
        },
        "a847f78acc1b4d0aa12551f7aa309ede": {
          "model_module": "@jupyter-widgets/controls",
          "model_module_version": "1.5.0",
          "model_name": "FloatProgressModel",
          "state": {
            "_dom_classes": [],
            "_model_module": "@jupyter-widgets/controls",
            "_model_module_version": "1.5.0",
            "_model_name": "FloatProgressModel",
            "_view_count": null,
            "_view_module": "@jupyter-widgets/controls",
            "_view_module_version": "1.5.0",
            "_view_name": "ProgressView",
            "bar_style": "success",
            "description": "",
            "description_tooltip": null,
            "layout": "IPY_MODEL_046f36abe13748818f3644880e98c2f5",
            "max": 155,
            "min": 0,
            "orientation": "horizontal",
            "style": "IPY_MODEL_82726a4ff63542bfb9e9c95415a7a8bd",
            "value": 155
          }
        },
        "ae51756a44ca4f3291bb1fd1a725e1bd": {
          "model_module": "@jupyter-widgets/controls",
          "model_module_version": "1.5.0",
          "model_name": "DescriptionStyleModel",
          "state": {
            "_model_module": "@jupyter-widgets/controls",
            "_model_module_version": "1.5.0",
            "_model_name": "DescriptionStyleModel",
            "_view_count": null,
            "_view_module": "@jupyter-widgets/base",
            "_view_module_version": "1.2.0",
            "_view_name": "StyleView",
            "description_width": ""
          }
        },
        "af2c20daf62c45a1915e7745dd9b276c": {
          "model_module": "@jupyter-widgets/controls",
          "model_module_version": "1.5.0",
          "model_name": "HTMLModel",
          "state": {
            "_dom_classes": [],
            "_model_module": "@jupyter-widgets/controls",
            "_model_module_version": "1.5.0",
            "_model_name": "HTMLModel",
            "_view_count": null,
            "_view_module": "@jupyter-widgets/controls",
            "_view_module_version": "1.5.0",
            "_view_name": "HTMLView",
            "description": "",
            "description_tooltip": null,
            "layout": "IPY_MODEL_59be4756d83d448cb2123030d9a691c4",
            "placeholder": "​",
            "style": "IPY_MODEL_e984af2ee0644085a351c525772e14e6",
            "value": "100%"
          }
        },
        "b03417a39fdd4ea589972dc2aab2ec4a": {
          "model_module": "@jupyter-widgets/controls",
          "model_module_version": "1.5.0",
          "model_name": "HTMLModel",
          "state": {
            "_dom_classes": [],
            "_model_module": "@jupyter-widgets/controls",
            "_model_module_version": "1.5.0",
            "_model_name": "HTMLModel",
            "_view_count": null,
            "_view_module": "@jupyter-widgets/controls",
            "_view_module_version": "1.5.0",
            "_view_name": "HTMLView",
            "description": "",
            "description_tooltip": null,
            "layout": "IPY_MODEL_6bc1f45541bb440982e2969be931ecdf",
            "placeholder": "​",
            "style": "IPY_MODEL_1a4b8ee44f4b4764b51af513a8e4fdd4",
            "value": " 54/54 [00:44&lt;00:00,  1.67it/s]"
          }
        },
        "b20c062c1ee04dfeb456fce313c07ec4": {
          "model_module": "@jupyter-widgets/controls",
          "model_module_version": "1.5.0",
          "model_name": "DescriptionStyleModel",
          "state": {
            "_model_module": "@jupyter-widgets/controls",
            "_model_module_version": "1.5.0",
            "_model_name": "DescriptionStyleModel",
            "_view_count": null,
            "_view_module": "@jupyter-widgets/base",
            "_view_module_version": "1.2.0",
            "_view_name": "StyleView",
            "description_width": ""
          }
        },
        "b28fa192da4946d58a43f502489e4060": {
          "model_module": "@jupyter-widgets/base",
          "model_module_version": "1.2.0",
          "model_name": "LayoutModel",
          "state": {
            "_model_module": "@jupyter-widgets/base",
            "_model_module_version": "1.2.0",
            "_model_name": "LayoutModel",
            "_view_count": null,
            "_view_module": "@jupyter-widgets/base",
            "_view_module_version": "1.2.0",
            "_view_name": "LayoutView",
            "align_content": null,
            "align_items": null,
            "align_self": null,
            "border": null,
            "bottom": null,
            "display": null,
            "flex": null,
            "flex_flow": null,
            "grid_area": null,
            "grid_auto_columns": null,
            "grid_auto_flow": null,
            "grid_auto_rows": null,
            "grid_column": null,
            "grid_gap": null,
            "grid_row": null,
            "grid_template_areas": null,
            "grid_template_columns": null,
            "grid_template_rows": null,
            "height": null,
            "justify_content": null,
            "justify_items": null,
            "left": null,
            "margin": null,
            "max_height": null,
            "max_width": null,
            "min_height": null,
            "min_width": null,
            "object_fit": null,
            "object_position": null,
            "order": null,
            "overflow": null,
            "overflow_x": null,
            "overflow_y": null,
            "padding": null,
            "right": null,
            "top": null,
            "visibility": null,
            "width": null
          }
        },
        "b2f8d1c3c30149f093c68976be10eb4c": {
          "model_module": "@jupyter-widgets/base",
          "model_module_version": "1.2.0",
          "model_name": "LayoutModel",
          "state": {
            "_model_module": "@jupyter-widgets/base",
            "_model_module_version": "1.2.0",
            "_model_name": "LayoutModel",
            "_view_count": null,
            "_view_module": "@jupyter-widgets/base",
            "_view_module_version": "1.2.0",
            "_view_name": "LayoutView",
            "align_content": null,
            "align_items": null,
            "align_self": null,
            "border": null,
            "bottom": null,
            "display": null,
            "flex": null,
            "flex_flow": null,
            "grid_area": null,
            "grid_auto_columns": null,
            "grid_auto_flow": null,
            "grid_auto_rows": null,
            "grid_column": null,
            "grid_gap": null,
            "grid_row": null,
            "grid_template_areas": null,
            "grid_template_columns": null,
            "grid_template_rows": null,
            "height": null,
            "justify_content": null,
            "justify_items": null,
            "left": null,
            "margin": null,
            "max_height": null,
            "max_width": null,
            "min_height": null,
            "min_width": null,
            "object_fit": null,
            "object_position": null,
            "order": null,
            "overflow": null,
            "overflow_x": null,
            "overflow_y": null,
            "padding": null,
            "right": null,
            "top": null,
            "visibility": null,
            "width": null
          }
        },
        "b326854c332a41a7b54b959587be6867": {
          "model_module": "@jupyter-widgets/controls",
          "model_module_version": "1.5.0",
          "model_name": "HBoxModel",
          "state": {
            "_dom_classes": [],
            "_model_module": "@jupyter-widgets/controls",
            "_model_module_version": "1.5.0",
            "_model_name": "HBoxModel",
            "_view_count": null,
            "_view_module": "@jupyter-widgets/controls",
            "_view_module_version": "1.5.0",
            "_view_name": "HBoxView",
            "box_style": "",
            "children": [
              "IPY_MODEL_df053497ffbe4c6a89e67176f492e0a4",
              "IPY_MODEL_a847f78acc1b4d0aa12551f7aa309ede",
              "IPY_MODEL_5a0dee5753b14490ad33543990a1b000"
            ],
            "layout": "IPY_MODEL_caf8947b30004d368ef8b8507b50a0fc"
          }
        },
        "b3d9befa0b364106920bbbbdef6f16b4": {
          "model_module": "@jupyter-widgets/base",
          "model_module_version": "1.2.0",
          "model_name": "LayoutModel",
          "state": {
            "_model_module": "@jupyter-widgets/base",
            "_model_module_version": "1.2.0",
            "_model_name": "LayoutModel",
            "_view_count": null,
            "_view_module": "@jupyter-widgets/base",
            "_view_module_version": "1.2.0",
            "_view_name": "LayoutView",
            "align_content": null,
            "align_items": null,
            "align_self": null,
            "border": null,
            "bottom": null,
            "display": null,
            "flex": null,
            "flex_flow": null,
            "grid_area": null,
            "grid_auto_columns": null,
            "grid_auto_flow": null,
            "grid_auto_rows": null,
            "grid_column": null,
            "grid_gap": null,
            "grid_row": null,
            "grid_template_areas": null,
            "grid_template_columns": null,
            "grid_template_rows": null,
            "height": null,
            "justify_content": null,
            "justify_items": null,
            "left": null,
            "margin": null,
            "max_height": null,
            "max_width": null,
            "min_height": null,
            "min_width": null,
            "object_fit": null,
            "object_position": null,
            "order": null,
            "overflow": null,
            "overflow_x": null,
            "overflow_y": null,
            "padding": null,
            "right": null,
            "top": null,
            "visibility": null,
            "width": null
          }
        },
        "b6312ba3b7f34cf8887dfda661e217d8": {
          "model_module": "@jupyter-widgets/controls",
          "model_module_version": "1.5.0",
          "model_name": "HTMLModel",
          "state": {
            "_dom_classes": [],
            "_model_module": "@jupyter-widgets/controls",
            "_model_module_version": "1.5.0",
            "_model_name": "HTMLModel",
            "_view_count": null,
            "_view_module": "@jupyter-widgets/controls",
            "_view_module_version": "1.5.0",
            "_view_name": "HTMLView",
            "description": "",
            "description_tooltip": null,
            "layout": "IPY_MODEL_ed9c7d2143ff441db61c1ed191b3185e",
            "placeholder": "​",
            "style": "IPY_MODEL_59f6f1231f9242b1b12f7e7cbe0e2a9c",
            "value": " 54/54 [00:44&lt;00:00,  1.68it/s]"
          }
        },
        "b9f4e6edb65045b387609f0b885bfb09": {
          "model_module": "@jupyter-widgets/base",
          "model_module_version": "1.2.0",
          "model_name": "LayoutModel",
          "state": {
            "_model_module": "@jupyter-widgets/base",
            "_model_module_version": "1.2.0",
            "_model_name": "LayoutModel",
            "_view_count": null,
            "_view_module": "@jupyter-widgets/base",
            "_view_module_version": "1.2.0",
            "_view_name": "LayoutView",
            "align_content": null,
            "align_items": null,
            "align_self": null,
            "border": null,
            "bottom": null,
            "display": null,
            "flex": null,
            "flex_flow": null,
            "grid_area": null,
            "grid_auto_columns": null,
            "grid_auto_flow": null,
            "grid_auto_rows": null,
            "grid_column": null,
            "grid_gap": null,
            "grid_row": null,
            "grid_template_areas": null,
            "grid_template_columns": null,
            "grid_template_rows": null,
            "height": null,
            "justify_content": null,
            "justify_items": null,
            "left": null,
            "margin": null,
            "max_height": null,
            "max_width": null,
            "min_height": null,
            "min_width": null,
            "object_fit": null,
            "object_position": null,
            "order": null,
            "overflow": null,
            "overflow_x": null,
            "overflow_y": null,
            "padding": null,
            "right": null,
            "top": null,
            "visibility": null,
            "width": null
          }
        },
        "bc5b34f1ef1f41809ca1659b706cdf23": {
          "model_module": "@jupyter-widgets/controls",
          "model_module_version": "1.5.0",
          "model_name": "DescriptionStyleModel",
          "state": {
            "_model_module": "@jupyter-widgets/controls",
            "_model_module_version": "1.5.0",
            "_model_name": "DescriptionStyleModel",
            "_view_count": null,
            "_view_module": "@jupyter-widgets/base",
            "_view_module_version": "1.2.0",
            "_view_name": "StyleView",
            "description_width": ""
          }
        },
        "bd79c3bf152d41ee8f2372697ff4bc6c": {
          "model_module": "@jupyter-widgets/controls",
          "model_module_version": "1.5.0",
          "model_name": "HBoxModel",
          "state": {
            "_dom_classes": [],
            "_model_module": "@jupyter-widgets/controls",
            "_model_module_version": "1.5.0",
            "_model_name": "HBoxModel",
            "_view_count": null,
            "_view_module": "@jupyter-widgets/controls",
            "_view_module_version": "1.5.0",
            "_view_name": "HBoxView",
            "box_style": "",
            "children": [
              "IPY_MODEL_af2c20daf62c45a1915e7745dd9b276c",
              "IPY_MODEL_2c276af3105d43739f559951322c3a4a",
              "IPY_MODEL_6dd9c90362ec4e11953156ecabdb88f4"
            ],
            "layout": "IPY_MODEL_5ae1e9713bbd4af1a2bfb2cfb05975ec"
          }
        },
        "bdc230bca5b74ab2b4bd7621e7e3c762": {
          "model_module": "@jupyter-widgets/base",
          "model_module_version": "1.2.0",
          "model_name": "LayoutModel",
          "state": {
            "_model_module": "@jupyter-widgets/base",
            "_model_module_version": "1.2.0",
            "_model_name": "LayoutModel",
            "_view_count": null,
            "_view_module": "@jupyter-widgets/base",
            "_view_module_version": "1.2.0",
            "_view_name": "LayoutView",
            "align_content": null,
            "align_items": null,
            "align_self": null,
            "border": null,
            "bottom": null,
            "display": null,
            "flex": null,
            "flex_flow": null,
            "grid_area": null,
            "grid_auto_columns": null,
            "grid_auto_flow": null,
            "grid_auto_rows": null,
            "grid_column": null,
            "grid_gap": null,
            "grid_row": null,
            "grid_template_areas": null,
            "grid_template_columns": null,
            "grid_template_rows": null,
            "height": null,
            "justify_content": null,
            "justify_items": null,
            "left": null,
            "margin": null,
            "max_height": null,
            "max_width": null,
            "min_height": null,
            "min_width": null,
            "object_fit": null,
            "object_position": null,
            "order": null,
            "overflow": null,
            "overflow_x": null,
            "overflow_y": null,
            "padding": null,
            "right": null,
            "top": null,
            "visibility": null,
            "width": null
          }
        },
        "bed8b147842246a9922251e00f8848c7": {
          "model_module": "@jupyter-widgets/controls",
          "model_module_version": "1.5.0",
          "model_name": "HBoxModel",
          "state": {
            "_dom_classes": [],
            "_model_module": "@jupyter-widgets/controls",
            "_model_module_version": "1.5.0",
            "_model_name": "HBoxModel",
            "_view_count": null,
            "_view_module": "@jupyter-widgets/controls",
            "_view_module_version": "1.5.0",
            "_view_name": "HBoxView",
            "box_style": "",
            "children": [
              "IPY_MODEL_579788b4554e48948dd67141e93b959a",
              "IPY_MODEL_c8a983d3e2f449198f39bbc50b523cd0",
              "IPY_MODEL_2d3608f9170a493a970f24e9378ddb25"
            ],
            "layout": "IPY_MODEL_b28fa192da4946d58a43f502489e4060"
          }
        },
        "bf89e21d6e154b5bae647e66291d9a1f": {
          "model_module": "@jupyter-widgets/controls",
          "model_module_version": "1.5.0",
          "model_name": "HTMLModel",
          "state": {
            "_dom_classes": [],
            "_model_module": "@jupyter-widgets/controls",
            "_model_module_version": "1.5.0",
            "_model_name": "HTMLModel",
            "_view_count": null,
            "_view_module": "@jupyter-widgets/controls",
            "_view_module_version": "1.5.0",
            "_view_name": "HTMLView",
            "description": "",
            "description_tooltip": null,
            "layout": "IPY_MODEL_31ffd3e1190b4a93b076114fffc2e0d1",
            "placeholder": "​",
            "style": "IPY_MODEL_2e509a9dae91456198d0d987620545d5",
            "value": " 155/155 [03:16&lt;00:00,  1.03it/s]"
          }
        },
        "bfdbe8c4e241418bb49fbdf4a56a40f3": {
          "model_module": "@jupyter-widgets/base",
          "model_module_version": "1.2.0",
          "model_name": "LayoutModel",
          "state": {
            "_model_module": "@jupyter-widgets/base",
            "_model_module_version": "1.2.0",
            "_model_name": "LayoutModel",
            "_view_count": null,
            "_view_module": "@jupyter-widgets/base",
            "_view_module_version": "1.2.0",
            "_view_name": "LayoutView",
            "align_content": null,
            "align_items": null,
            "align_self": null,
            "border": null,
            "bottom": null,
            "display": null,
            "flex": null,
            "flex_flow": null,
            "grid_area": null,
            "grid_auto_columns": null,
            "grid_auto_flow": null,
            "grid_auto_rows": null,
            "grid_column": null,
            "grid_gap": null,
            "grid_row": null,
            "grid_template_areas": null,
            "grid_template_columns": null,
            "grid_template_rows": null,
            "height": null,
            "justify_content": null,
            "justify_items": null,
            "left": null,
            "margin": null,
            "max_height": null,
            "max_width": null,
            "min_height": null,
            "min_width": null,
            "object_fit": null,
            "object_position": null,
            "order": null,
            "overflow": null,
            "overflow_x": null,
            "overflow_y": null,
            "padding": null,
            "right": null,
            "top": null,
            "visibility": null,
            "width": null
          }
        },
        "c18cf26b2ffa4b01be9925d279052973": {
          "model_module": "@jupyter-widgets/base",
          "model_module_version": "1.2.0",
          "model_name": "LayoutModel",
          "state": {
            "_model_module": "@jupyter-widgets/base",
            "_model_module_version": "1.2.0",
            "_model_name": "LayoutModel",
            "_view_count": null,
            "_view_module": "@jupyter-widgets/base",
            "_view_module_version": "1.2.0",
            "_view_name": "LayoutView",
            "align_content": null,
            "align_items": null,
            "align_self": null,
            "border": null,
            "bottom": null,
            "display": null,
            "flex": null,
            "flex_flow": null,
            "grid_area": null,
            "grid_auto_columns": null,
            "grid_auto_flow": null,
            "grid_auto_rows": null,
            "grid_column": null,
            "grid_gap": null,
            "grid_row": null,
            "grid_template_areas": null,
            "grid_template_columns": null,
            "grid_template_rows": null,
            "height": null,
            "justify_content": null,
            "justify_items": null,
            "left": null,
            "margin": null,
            "max_height": null,
            "max_width": null,
            "min_height": null,
            "min_width": null,
            "object_fit": null,
            "object_position": null,
            "order": null,
            "overflow": null,
            "overflow_x": null,
            "overflow_y": null,
            "padding": null,
            "right": null,
            "top": null,
            "visibility": null,
            "width": null
          }
        },
        "c327568be54d4945a1b3769f0a198fa1": {
          "model_module": "@jupyter-widgets/base",
          "model_module_version": "1.2.0",
          "model_name": "LayoutModel",
          "state": {
            "_model_module": "@jupyter-widgets/base",
            "_model_module_version": "1.2.0",
            "_model_name": "LayoutModel",
            "_view_count": null,
            "_view_module": "@jupyter-widgets/base",
            "_view_module_version": "1.2.0",
            "_view_name": "LayoutView",
            "align_content": null,
            "align_items": null,
            "align_self": null,
            "border": null,
            "bottom": null,
            "display": null,
            "flex": null,
            "flex_flow": null,
            "grid_area": null,
            "grid_auto_columns": null,
            "grid_auto_flow": null,
            "grid_auto_rows": null,
            "grid_column": null,
            "grid_gap": null,
            "grid_row": null,
            "grid_template_areas": null,
            "grid_template_columns": null,
            "grid_template_rows": null,
            "height": null,
            "justify_content": null,
            "justify_items": null,
            "left": null,
            "margin": null,
            "max_height": null,
            "max_width": null,
            "min_height": null,
            "min_width": null,
            "object_fit": null,
            "object_position": null,
            "order": null,
            "overflow": null,
            "overflow_x": null,
            "overflow_y": null,
            "padding": null,
            "right": null,
            "top": null,
            "visibility": null,
            "width": null
          }
        },
        "c6b96a5ee0fc4849be91b53f31aa803c": {
          "model_module": "@jupyter-widgets/base",
          "model_module_version": "1.2.0",
          "model_name": "LayoutModel",
          "state": {
            "_model_module": "@jupyter-widgets/base",
            "_model_module_version": "1.2.0",
            "_model_name": "LayoutModel",
            "_view_count": null,
            "_view_module": "@jupyter-widgets/base",
            "_view_module_version": "1.2.0",
            "_view_name": "LayoutView",
            "align_content": null,
            "align_items": null,
            "align_self": null,
            "border": null,
            "bottom": null,
            "display": null,
            "flex": null,
            "flex_flow": null,
            "grid_area": null,
            "grid_auto_columns": null,
            "grid_auto_flow": null,
            "grid_auto_rows": null,
            "grid_column": null,
            "grid_gap": null,
            "grid_row": null,
            "grid_template_areas": null,
            "grid_template_columns": null,
            "grid_template_rows": null,
            "height": null,
            "justify_content": null,
            "justify_items": null,
            "left": null,
            "margin": null,
            "max_height": null,
            "max_width": null,
            "min_height": null,
            "min_width": null,
            "object_fit": null,
            "object_position": null,
            "order": null,
            "overflow": null,
            "overflow_x": null,
            "overflow_y": null,
            "padding": null,
            "right": null,
            "top": null,
            "visibility": null,
            "width": null
          }
        },
        "c74d62920f0b4680aca6af541834adc6": {
          "model_module": "@jupyter-widgets/controls",
          "model_module_version": "1.5.0",
          "model_name": "FloatProgressModel",
          "state": {
            "_dom_classes": [],
            "_model_module": "@jupyter-widgets/controls",
            "_model_module_version": "1.5.0",
            "_model_name": "FloatProgressModel",
            "_view_count": null,
            "_view_module": "@jupyter-widgets/controls",
            "_view_module_version": "1.5.0",
            "_view_name": "ProgressView",
            "bar_style": "success",
            "description": "",
            "description_tooltip": null,
            "layout": "IPY_MODEL_c327568be54d4945a1b3769f0a198fa1",
            "max": 54,
            "min": 0,
            "orientation": "horizontal",
            "style": "IPY_MODEL_4d4b0a6b11084c47b5e0d8383728cf84",
            "value": 54
          }
        },
        "c8a983d3e2f449198f39bbc50b523cd0": {
          "model_module": "@jupyter-widgets/controls",
          "model_module_version": "1.5.0",
          "model_name": "FloatProgressModel",
          "state": {
            "_dom_classes": [],
            "_model_module": "@jupyter-widgets/controls",
            "_model_module_version": "1.5.0",
            "_model_name": "FloatProgressModel",
            "_view_count": null,
            "_view_module": "@jupyter-widgets/controls",
            "_view_module_version": "1.5.0",
            "_view_name": "ProgressView",
            "bar_style": "success",
            "description": "",
            "description_tooltip": null,
            "layout": "IPY_MODEL_3cbd43bfef634b50b07582f2a70ddca9",
            "max": 155,
            "min": 0,
            "orientation": "horizontal",
            "style": "IPY_MODEL_497d87dd0b4a49c1b7d146fdd9c38971",
            "value": 155
          }
        },
        "c9284a1f70fb461092d262dff17221fa": {
          "model_module": "@jupyter-widgets/controls",
          "model_module_version": "1.5.0",
          "model_name": "HBoxModel",
          "state": {
            "_dom_classes": [],
            "_model_module": "@jupyter-widgets/controls",
            "_model_module_version": "1.5.0",
            "_model_name": "HBoxModel",
            "_view_count": null,
            "_view_module": "@jupyter-widgets/controls",
            "_view_module_version": "1.5.0",
            "_view_name": "HBoxView",
            "box_style": "",
            "children": [
              "IPY_MODEL_167f645d3cc047cc89f69adaab76d724",
              "IPY_MODEL_125b0dee5cdd44af8d9aa2b9ce4f58fb",
              "IPY_MODEL_072179626d7d4d76be3047c4fca95480"
            ],
            "layout": "IPY_MODEL_345a610f0ba645b196e0cf19caf4694f"
          }
        },
        "ca7625f726a5459186264d314cb18d05": {
          "model_module": "@jupyter-widgets/base",
          "model_module_version": "1.2.0",
          "model_name": "LayoutModel",
          "state": {
            "_model_module": "@jupyter-widgets/base",
            "_model_module_version": "1.2.0",
            "_model_name": "LayoutModel",
            "_view_count": null,
            "_view_module": "@jupyter-widgets/base",
            "_view_module_version": "1.2.0",
            "_view_name": "LayoutView",
            "align_content": null,
            "align_items": null,
            "align_self": null,
            "border": null,
            "bottom": null,
            "display": null,
            "flex": null,
            "flex_flow": null,
            "grid_area": null,
            "grid_auto_columns": null,
            "grid_auto_flow": null,
            "grid_auto_rows": null,
            "grid_column": null,
            "grid_gap": null,
            "grid_row": null,
            "grid_template_areas": null,
            "grid_template_columns": null,
            "grid_template_rows": null,
            "height": null,
            "justify_content": null,
            "justify_items": null,
            "left": null,
            "margin": null,
            "max_height": null,
            "max_width": null,
            "min_height": null,
            "min_width": null,
            "object_fit": null,
            "object_position": null,
            "order": null,
            "overflow": null,
            "overflow_x": null,
            "overflow_y": null,
            "padding": null,
            "right": null,
            "top": null,
            "visibility": null,
            "width": null
          }
        },
        "caf8947b30004d368ef8b8507b50a0fc": {
          "model_module": "@jupyter-widgets/base",
          "model_module_version": "1.2.0",
          "model_name": "LayoutModel",
          "state": {
            "_model_module": "@jupyter-widgets/base",
            "_model_module_version": "1.2.0",
            "_model_name": "LayoutModel",
            "_view_count": null,
            "_view_module": "@jupyter-widgets/base",
            "_view_module_version": "1.2.0",
            "_view_name": "LayoutView",
            "align_content": null,
            "align_items": null,
            "align_self": null,
            "border": null,
            "bottom": null,
            "display": null,
            "flex": null,
            "flex_flow": null,
            "grid_area": null,
            "grid_auto_columns": null,
            "grid_auto_flow": null,
            "grid_auto_rows": null,
            "grid_column": null,
            "grid_gap": null,
            "grid_row": null,
            "grid_template_areas": null,
            "grid_template_columns": null,
            "grid_template_rows": null,
            "height": null,
            "justify_content": null,
            "justify_items": null,
            "left": null,
            "margin": null,
            "max_height": null,
            "max_width": null,
            "min_height": null,
            "min_width": null,
            "object_fit": null,
            "object_position": null,
            "order": null,
            "overflow": null,
            "overflow_x": null,
            "overflow_y": null,
            "padding": null,
            "right": null,
            "top": null,
            "visibility": null,
            "width": null
          }
        },
        "cc213d62b00a4578a15545529656b13e": {
          "model_module": "@jupyter-widgets/base",
          "model_module_version": "1.2.0",
          "model_name": "LayoutModel",
          "state": {
            "_model_module": "@jupyter-widgets/base",
            "_model_module_version": "1.2.0",
            "_model_name": "LayoutModel",
            "_view_count": null,
            "_view_module": "@jupyter-widgets/base",
            "_view_module_version": "1.2.0",
            "_view_name": "LayoutView",
            "align_content": null,
            "align_items": null,
            "align_self": null,
            "border": null,
            "bottom": null,
            "display": null,
            "flex": null,
            "flex_flow": null,
            "grid_area": null,
            "grid_auto_columns": null,
            "grid_auto_flow": null,
            "grid_auto_rows": null,
            "grid_column": null,
            "grid_gap": null,
            "grid_row": null,
            "grid_template_areas": null,
            "grid_template_columns": null,
            "grid_template_rows": null,
            "height": null,
            "justify_content": null,
            "justify_items": null,
            "left": null,
            "margin": null,
            "max_height": null,
            "max_width": null,
            "min_height": null,
            "min_width": null,
            "object_fit": null,
            "object_position": null,
            "order": null,
            "overflow": null,
            "overflow_x": null,
            "overflow_y": null,
            "padding": null,
            "right": null,
            "top": null,
            "visibility": null,
            "width": null
          }
        },
        "cd29ddcb197d451aa26173677127afce": {
          "model_module": "@jupyter-widgets/controls",
          "model_module_version": "1.5.0",
          "model_name": "HBoxModel",
          "state": {
            "_dom_classes": [],
            "_model_module": "@jupyter-widgets/controls",
            "_model_module_version": "1.5.0",
            "_model_name": "HBoxModel",
            "_view_count": null,
            "_view_module": "@jupyter-widgets/controls",
            "_view_module_version": "1.5.0",
            "_view_name": "HBoxView",
            "box_style": "",
            "children": [
              "IPY_MODEL_a0c0429d8cf54d93ba11af0c0086f1ec",
              "IPY_MODEL_f641a039cd0c4b26a1c49b2cbe91286d",
              "IPY_MODEL_a6299d8d944840fcbe947fed70ca840a"
            ],
            "layout": "IPY_MODEL_ea4445db0ffc4035884e292645e738db"
          }
        },
        "ce2615681ef8461685ec2c18d022d73d": {
          "model_module": "@jupyter-widgets/controls",
          "model_module_version": "1.5.0",
          "model_name": "HTMLModel",
          "state": {
            "_dom_classes": [],
            "_model_module": "@jupyter-widgets/controls",
            "_model_module_version": "1.5.0",
            "_model_name": "HTMLModel",
            "_view_count": null,
            "_view_module": "@jupyter-widgets/controls",
            "_view_module_version": "1.5.0",
            "_view_name": "HTMLView",
            "description": "",
            "description_tooltip": null,
            "layout": "IPY_MODEL_ef979b2087274c8eaea27ec9615ecdad",
            "placeholder": "​",
            "style": "IPY_MODEL_a0b9fd2966fb48f58dc482fa7e699501",
            "value": "100%"
          }
        },
        "cecee78828dc425ea77b29709a499cfd": {
          "model_module": "@jupyter-widgets/controls",
          "model_module_version": "1.5.0",
          "model_name": "DescriptionStyleModel",
          "state": {
            "_model_module": "@jupyter-widgets/controls",
            "_model_module_version": "1.5.0",
            "_model_name": "DescriptionStyleModel",
            "_view_count": null,
            "_view_module": "@jupyter-widgets/base",
            "_view_module_version": "1.2.0",
            "_view_name": "StyleView",
            "description_width": ""
          }
        },
        "cf77940769494d58b8f98160082605d7": {
          "model_module": "@jupyter-widgets/controls",
          "model_module_version": "1.5.0",
          "model_name": "ProgressStyleModel",
          "state": {
            "_model_module": "@jupyter-widgets/controls",
            "_model_module_version": "1.5.0",
            "_model_name": "ProgressStyleModel",
            "_view_count": null,
            "_view_module": "@jupyter-widgets/base",
            "_view_module_version": "1.2.0",
            "_view_name": "StyleView",
            "bar_color": null,
            "description_width": ""
          }
        },
        "d12c59bbe74e48cd8371c7870fa429e5": {
          "model_module": "@jupyter-widgets/base",
          "model_module_version": "1.2.0",
          "model_name": "LayoutModel",
          "state": {
            "_model_module": "@jupyter-widgets/base",
            "_model_module_version": "1.2.0",
            "_model_name": "LayoutModel",
            "_view_count": null,
            "_view_module": "@jupyter-widgets/base",
            "_view_module_version": "1.2.0",
            "_view_name": "LayoutView",
            "align_content": null,
            "align_items": null,
            "align_self": null,
            "border": null,
            "bottom": null,
            "display": null,
            "flex": null,
            "flex_flow": null,
            "grid_area": null,
            "grid_auto_columns": null,
            "grid_auto_flow": null,
            "grid_auto_rows": null,
            "grid_column": null,
            "grid_gap": null,
            "grid_row": null,
            "grid_template_areas": null,
            "grid_template_columns": null,
            "grid_template_rows": null,
            "height": null,
            "justify_content": null,
            "justify_items": null,
            "left": null,
            "margin": null,
            "max_height": null,
            "max_width": null,
            "min_height": null,
            "min_width": null,
            "object_fit": null,
            "object_position": null,
            "order": null,
            "overflow": null,
            "overflow_x": null,
            "overflow_y": null,
            "padding": null,
            "right": null,
            "top": null,
            "visibility": null,
            "width": null
          }
        },
        "d1a9785539a94ea3983bfa5e5ffd6eb2": {
          "model_module": "@jupyter-widgets/controls",
          "model_module_version": "1.5.0",
          "model_name": "HTMLModel",
          "state": {
            "_dom_classes": [],
            "_model_module": "@jupyter-widgets/controls",
            "_model_module_version": "1.5.0",
            "_model_name": "HTMLModel",
            "_view_count": null,
            "_view_module": "@jupyter-widgets/controls",
            "_view_module_version": "1.5.0",
            "_view_name": "HTMLView",
            "description": "",
            "description_tooltip": null,
            "layout": "IPY_MODEL_803d4a5ff80f4b13afaa6c2e6f21e908",
            "placeholder": "​",
            "style": "IPY_MODEL_4c73f07f3ea74d80acbfc74f1f6d9249",
            "value": "100%"
          }
        },
        "d316e281785e4cf8b68e37806ac07c61": {
          "model_module": "@jupyter-widgets/controls",
          "model_module_version": "1.5.0",
          "model_name": "FloatProgressModel",
          "state": {
            "_dom_classes": [],
            "_model_module": "@jupyter-widgets/controls",
            "_model_module_version": "1.5.0",
            "_model_name": "FloatProgressModel",
            "_view_count": null,
            "_view_module": "@jupyter-widgets/controls",
            "_view_module_version": "1.5.0",
            "_view_name": "ProgressView",
            "bar_style": "success",
            "description": "",
            "description_tooltip": null,
            "layout": "IPY_MODEL_08ebfb59b4c74bdeb4c08b67b3464a28",
            "max": 54,
            "min": 0,
            "orientation": "horizontal",
            "style": "IPY_MODEL_7b80a4dfb8bb467cbc2871fa283320f3",
            "value": 54
          }
        },
        "d61678568abb43288e8b6f447198e31b": {
          "model_module": "@jupyter-widgets/base",
          "model_module_version": "1.2.0",
          "model_name": "LayoutModel",
          "state": {
            "_model_module": "@jupyter-widgets/base",
            "_model_module_version": "1.2.0",
            "_model_name": "LayoutModel",
            "_view_count": null,
            "_view_module": "@jupyter-widgets/base",
            "_view_module_version": "1.2.0",
            "_view_name": "LayoutView",
            "align_content": null,
            "align_items": null,
            "align_self": null,
            "border": null,
            "bottom": null,
            "display": null,
            "flex": null,
            "flex_flow": null,
            "grid_area": null,
            "grid_auto_columns": null,
            "grid_auto_flow": null,
            "grid_auto_rows": null,
            "grid_column": null,
            "grid_gap": null,
            "grid_row": null,
            "grid_template_areas": null,
            "grid_template_columns": null,
            "grid_template_rows": null,
            "height": null,
            "justify_content": null,
            "justify_items": null,
            "left": null,
            "margin": null,
            "max_height": null,
            "max_width": null,
            "min_height": null,
            "min_width": null,
            "object_fit": null,
            "object_position": null,
            "order": null,
            "overflow": null,
            "overflow_x": null,
            "overflow_y": null,
            "padding": null,
            "right": null,
            "top": null,
            "visibility": null,
            "width": null
          }
        },
        "d9942a1912b24824b8d45e22d8db2ad3": {
          "model_module": "@jupyter-widgets/controls",
          "model_module_version": "1.5.0",
          "model_name": "DescriptionStyleModel",
          "state": {
            "_model_module": "@jupyter-widgets/controls",
            "_model_module_version": "1.5.0",
            "_model_name": "DescriptionStyleModel",
            "_view_count": null,
            "_view_module": "@jupyter-widgets/base",
            "_view_module_version": "1.2.0",
            "_view_name": "StyleView",
            "description_width": ""
          }
        },
        "d9eafe1c271e402c9bbef790635b0dcf": {
          "model_module": "@jupyter-widgets/controls",
          "model_module_version": "1.5.0",
          "model_name": "ProgressStyleModel",
          "state": {
            "_model_module": "@jupyter-widgets/controls",
            "_model_module_version": "1.5.0",
            "_model_name": "ProgressStyleModel",
            "_view_count": null,
            "_view_module": "@jupyter-widgets/base",
            "_view_module_version": "1.2.0",
            "_view_name": "StyleView",
            "bar_color": null,
            "description_width": ""
          }
        },
        "db10a75c1b944fa5ba4bbbdc48d82930": {
          "model_module": "@jupyter-widgets/base",
          "model_module_version": "1.2.0",
          "model_name": "LayoutModel",
          "state": {
            "_model_module": "@jupyter-widgets/base",
            "_model_module_version": "1.2.0",
            "_model_name": "LayoutModel",
            "_view_count": null,
            "_view_module": "@jupyter-widgets/base",
            "_view_module_version": "1.2.0",
            "_view_name": "LayoutView",
            "align_content": null,
            "align_items": null,
            "align_self": null,
            "border": null,
            "bottom": null,
            "display": null,
            "flex": null,
            "flex_flow": null,
            "grid_area": null,
            "grid_auto_columns": null,
            "grid_auto_flow": null,
            "grid_auto_rows": null,
            "grid_column": null,
            "grid_gap": null,
            "grid_row": null,
            "grid_template_areas": null,
            "grid_template_columns": null,
            "grid_template_rows": null,
            "height": null,
            "justify_content": null,
            "justify_items": null,
            "left": null,
            "margin": null,
            "max_height": null,
            "max_width": null,
            "min_height": null,
            "min_width": null,
            "object_fit": null,
            "object_position": null,
            "order": null,
            "overflow": null,
            "overflow_x": null,
            "overflow_y": null,
            "padding": null,
            "right": null,
            "top": null,
            "visibility": null,
            "width": null
          }
        },
        "dbec5c617b7645ca9a7bc9c45be1129b": {
          "model_module": "@jupyter-widgets/controls",
          "model_module_version": "1.5.0",
          "model_name": "ProgressStyleModel",
          "state": {
            "_model_module": "@jupyter-widgets/controls",
            "_model_module_version": "1.5.0",
            "_model_name": "ProgressStyleModel",
            "_view_count": null,
            "_view_module": "@jupyter-widgets/base",
            "_view_module_version": "1.2.0",
            "_view_name": "StyleView",
            "bar_color": null,
            "description_width": ""
          }
        },
        "dc1992453cab4c47ac1f17976e1ed9a2": {
          "model_module": "@jupyter-widgets/controls",
          "model_module_version": "1.5.0",
          "model_name": "FloatProgressModel",
          "state": {
            "_dom_classes": [],
            "_model_module": "@jupyter-widgets/controls",
            "_model_module_version": "1.5.0",
            "_model_name": "FloatProgressModel",
            "_view_count": null,
            "_view_module": "@jupyter-widgets/controls",
            "_view_module_version": "1.5.0",
            "_view_name": "ProgressView",
            "bar_style": "success",
            "description": "",
            "description_tooltip": null,
            "layout": "IPY_MODEL_7351a133ce3c489589b4f9e6ee2b2966",
            "max": 155,
            "min": 0,
            "orientation": "horizontal",
            "style": "IPY_MODEL_7f858317a1474656bf0ea693a89e28e2",
            "value": 155
          }
        },
        "dd16a708edd945c5a23700d6a1b17c83": {
          "model_module": "@jupyter-widgets/controls",
          "model_module_version": "1.5.0",
          "model_name": "HTMLModel",
          "state": {
            "_dom_classes": [],
            "_model_module": "@jupyter-widgets/controls",
            "_model_module_version": "1.5.0",
            "_model_name": "HTMLModel",
            "_view_count": null,
            "_view_module": "@jupyter-widgets/controls",
            "_view_module_version": "1.5.0",
            "_view_name": "HTMLView",
            "description": "",
            "description_tooltip": null,
            "layout": "IPY_MODEL_8dbef83d192d45a4a34a3d3bb77f6aaa",
            "placeholder": "​",
            "style": "IPY_MODEL_94d5e72d1bb34329be2cf29f7ad01817",
            "value": "100%"
          }
        },
        "dd1b87364bc44e408606c313617d728a": {
          "model_module": "@jupyter-widgets/controls",
          "model_module_version": "1.5.0",
          "model_name": "HTMLModel",
          "state": {
            "_dom_classes": [],
            "_model_module": "@jupyter-widgets/controls",
            "_model_module_version": "1.5.0",
            "_model_name": "HTMLModel",
            "_view_count": null,
            "_view_module": "@jupyter-widgets/controls",
            "_view_module_version": "1.5.0",
            "_view_name": "HTMLView",
            "description": "",
            "description_tooltip": null,
            "layout": "IPY_MODEL_c18cf26b2ffa4b01be9925d279052973",
            "placeholder": "​",
            "style": "IPY_MODEL_010fbb7a481d41e4a2c2947cb3d98c1a",
            "value": "100%"
          }
        },
        "dd902a96365e467abe02f0dcc779a3e2": {
          "model_module": "@jupyter-widgets/controls",
          "model_module_version": "1.5.0",
          "model_name": "HTMLModel",
          "state": {
            "_dom_classes": [],
            "_model_module": "@jupyter-widgets/controls",
            "_model_module_version": "1.5.0",
            "_model_name": "HTMLModel",
            "_view_count": null,
            "_view_module": "@jupyter-widgets/controls",
            "_view_module_version": "1.5.0",
            "_view_name": "HTMLView",
            "description": "",
            "description_tooltip": null,
            "layout": "IPY_MODEL_222f860f88b94aa487ecca886e83d1d2",
            "placeholder": "​",
            "style": "IPY_MODEL_931a0d29cc89400997a4ce83b1489af8",
            "value": "100%"
          }
        },
        "df053497ffbe4c6a89e67176f492e0a4": {
          "model_module": "@jupyter-widgets/controls",
          "model_module_version": "1.5.0",
          "model_name": "HTMLModel",
          "state": {
            "_dom_classes": [],
            "_model_module": "@jupyter-widgets/controls",
            "_model_module_version": "1.5.0",
            "_model_name": "HTMLModel",
            "_view_count": null,
            "_view_module": "@jupyter-widgets/controls",
            "_view_module_version": "1.5.0",
            "_view_name": "HTMLView",
            "description": "",
            "description_tooltip": null,
            "layout": "IPY_MODEL_78f4ea614b934a508ce269a7e2e422a5",
            "placeholder": "​",
            "style": "IPY_MODEL_8803125a182941dfa06f3734f7ae601f",
            "value": "100%"
          }
        },
        "dfe8b2e2d02f4fb28705864a6842d8c7": {
          "model_module": "@jupyter-widgets/controls",
          "model_module_version": "1.5.0",
          "model_name": "HTMLModel",
          "state": {
            "_dom_classes": [],
            "_model_module": "@jupyter-widgets/controls",
            "_model_module_version": "1.5.0",
            "_model_name": "HTMLModel",
            "_view_count": null,
            "_view_module": "@jupyter-widgets/controls",
            "_view_module_version": "1.5.0",
            "_view_name": "HTMLView",
            "description": "",
            "description_tooltip": null,
            "layout": "IPY_MODEL_d12c59bbe74e48cd8371c7870fa429e5",
            "placeholder": "​",
            "style": "IPY_MODEL_882acc4500cd4f99bd63fa9dcbd34c72",
            "value": " 54/54 [00:45&lt;00:00,  1.65it/s]"
          }
        },
        "e210c2414515469a9e179e17865749c9": {
          "model_module": "@jupyter-widgets/base",
          "model_module_version": "1.2.0",
          "model_name": "LayoutModel",
          "state": {
            "_model_module": "@jupyter-widgets/base",
            "_model_module_version": "1.2.0",
            "_model_name": "LayoutModel",
            "_view_count": null,
            "_view_module": "@jupyter-widgets/base",
            "_view_module_version": "1.2.0",
            "_view_name": "LayoutView",
            "align_content": null,
            "align_items": null,
            "align_self": null,
            "border": null,
            "bottom": null,
            "display": null,
            "flex": null,
            "flex_flow": null,
            "grid_area": null,
            "grid_auto_columns": null,
            "grid_auto_flow": null,
            "grid_auto_rows": null,
            "grid_column": null,
            "grid_gap": null,
            "grid_row": null,
            "grid_template_areas": null,
            "grid_template_columns": null,
            "grid_template_rows": null,
            "height": null,
            "justify_content": null,
            "justify_items": null,
            "left": null,
            "margin": null,
            "max_height": null,
            "max_width": null,
            "min_height": null,
            "min_width": null,
            "object_fit": null,
            "object_position": null,
            "order": null,
            "overflow": null,
            "overflow_x": null,
            "overflow_y": null,
            "padding": null,
            "right": null,
            "top": null,
            "visibility": null,
            "width": null
          }
        },
        "e6e6ec49e810423aa5058c3e62aeb3a6": {
          "model_module": "@jupyter-widgets/controls",
          "model_module_version": "1.5.0",
          "model_name": "DescriptionStyleModel",
          "state": {
            "_model_module": "@jupyter-widgets/controls",
            "_model_module_version": "1.5.0",
            "_model_name": "DescriptionStyleModel",
            "_view_count": null,
            "_view_module": "@jupyter-widgets/base",
            "_view_module_version": "1.2.0",
            "_view_name": "StyleView",
            "description_width": ""
          }
        },
        "e723eba9afd34feab0f5d496dedcbfd1": {
          "model_module": "@jupyter-widgets/base",
          "model_module_version": "1.2.0",
          "model_name": "LayoutModel",
          "state": {
            "_model_module": "@jupyter-widgets/base",
            "_model_module_version": "1.2.0",
            "_model_name": "LayoutModel",
            "_view_count": null,
            "_view_module": "@jupyter-widgets/base",
            "_view_module_version": "1.2.0",
            "_view_name": "LayoutView",
            "align_content": null,
            "align_items": null,
            "align_self": null,
            "border": null,
            "bottom": null,
            "display": null,
            "flex": null,
            "flex_flow": null,
            "grid_area": null,
            "grid_auto_columns": null,
            "grid_auto_flow": null,
            "grid_auto_rows": null,
            "grid_column": null,
            "grid_gap": null,
            "grid_row": null,
            "grid_template_areas": null,
            "grid_template_columns": null,
            "grid_template_rows": null,
            "height": null,
            "justify_content": null,
            "justify_items": null,
            "left": null,
            "margin": null,
            "max_height": null,
            "max_width": null,
            "min_height": null,
            "min_width": null,
            "object_fit": null,
            "object_position": null,
            "order": null,
            "overflow": null,
            "overflow_x": null,
            "overflow_y": null,
            "padding": null,
            "right": null,
            "top": null,
            "visibility": null,
            "width": null
          }
        },
        "e7397dc417e6407b836ad591196667b4": {
          "model_module": "@jupyter-widgets/controls",
          "model_module_version": "1.5.0",
          "model_name": "ProgressStyleModel",
          "state": {
            "_model_module": "@jupyter-widgets/controls",
            "_model_module_version": "1.5.0",
            "_model_name": "ProgressStyleModel",
            "_view_count": null,
            "_view_module": "@jupyter-widgets/base",
            "_view_module_version": "1.2.0",
            "_view_name": "StyleView",
            "bar_color": null,
            "description_width": ""
          }
        },
        "e7d8f6e7ce1644fcbdddc892af17d1d7": {
          "model_module": "@jupyter-widgets/controls",
          "model_module_version": "1.5.0",
          "model_name": "DescriptionStyleModel",
          "state": {
            "_model_module": "@jupyter-widgets/controls",
            "_model_module_version": "1.5.0",
            "_model_name": "DescriptionStyleModel",
            "_view_count": null,
            "_view_module": "@jupyter-widgets/base",
            "_view_module_version": "1.2.0",
            "_view_name": "StyleView",
            "description_width": ""
          }
        },
        "e869e09db5dc4ed382ddab706a08e5b2": {
          "model_module": "@jupyter-widgets/controls",
          "model_module_version": "1.5.0",
          "model_name": "HTMLModel",
          "state": {
            "_dom_classes": [],
            "_model_module": "@jupyter-widgets/controls",
            "_model_module_version": "1.5.0",
            "_model_name": "HTMLModel",
            "_view_count": null,
            "_view_module": "@jupyter-widgets/controls",
            "_view_module_version": "1.5.0",
            "_view_name": "HTMLView",
            "description": "",
            "description_tooltip": null,
            "layout": "IPY_MODEL_c6b96a5ee0fc4849be91b53f31aa803c",
            "placeholder": "​",
            "style": "IPY_MODEL_844036173c014524a9dda33963a4ea7c",
            "value": " 53/53 [00:42&lt;00:00,  1.44it/s]"
          }
        },
        "e984af2ee0644085a351c525772e14e6": {
          "model_module": "@jupyter-widgets/controls",
          "model_module_version": "1.5.0",
          "model_name": "DescriptionStyleModel",
          "state": {
            "_model_module": "@jupyter-widgets/controls",
            "_model_module_version": "1.5.0",
            "_model_name": "DescriptionStyleModel",
            "_view_count": null,
            "_view_module": "@jupyter-widgets/base",
            "_view_module_version": "1.2.0",
            "_view_name": "StyleView",
            "description_width": ""
          }
        },
        "e990a13241cd46f68c9eac993c47d817": {
          "model_module": "@jupyter-widgets/controls",
          "model_module_version": "1.5.0",
          "model_name": "DescriptionStyleModel",
          "state": {
            "_model_module": "@jupyter-widgets/controls",
            "_model_module_version": "1.5.0",
            "_model_name": "DescriptionStyleModel",
            "_view_count": null,
            "_view_module": "@jupyter-widgets/base",
            "_view_module_version": "1.2.0",
            "_view_name": "StyleView",
            "description_width": ""
          }
        },
        "e9949007993f4ba5bd95f58be9a01146": {
          "model_module": "@jupyter-widgets/base",
          "model_module_version": "1.2.0",
          "model_name": "LayoutModel",
          "state": {
            "_model_module": "@jupyter-widgets/base",
            "_model_module_version": "1.2.0",
            "_model_name": "LayoutModel",
            "_view_count": null,
            "_view_module": "@jupyter-widgets/base",
            "_view_module_version": "1.2.0",
            "_view_name": "LayoutView",
            "align_content": null,
            "align_items": null,
            "align_self": null,
            "border": null,
            "bottom": null,
            "display": null,
            "flex": null,
            "flex_flow": null,
            "grid_area": null,
            "grid_auto_columns": null,
            "grid_auto_flow": null,
            "grid_auto_rows": null,
            "grid_column": null,
            "grid_gap": null,
            "grid_row": null,
            "grid_template_areas": null,
            "grid_template_columns": null,
            "grid_template_rows": null,
            "height": null,
            "justify_content": null,
            "justify_items": null,
            "left": null,
            "margin": null,
            "max_height": null,
            "max_width": null,
            "min_height": null,
            "min_width": null,
            "object_fit": null,
            "object_position": null,
            "order": null,
            "overflow": null,
            "overflow_x": null,
            "overflow_y": null,
            "padding": null,
            "right": null,
            "top": null,
            "visibility": null,
            "width": null
          }
        },
        "e9f425fcdd4c4156aa1d085ba0d50cb3": {
          "model_module": "@jupyter-widgets/controls",
          "model_module_version": "1.5.0",
          "model_name": "HBoxModel",
          "state": {
            "_dom_classes": [],
            "_model_module": "@jupyter-widgets/controls",
            "_model_module_version": "1.5.0",
            "_model_name": "HBoxModel",
            "_view_count": null,
            "_view_module": "@jupyter-widgets/controls",
            "_view_module_version": "1.5.0",
            "_view_name": "HBoxView",
            "box_style": "",
            "children": [
              "IPY_MODEL_9b614c0865674ea19ad2153267b58881",
              "IPY_MODEL_c74d62920f0b4680aca6af541834adc6",
              "IPY_MODEL_4c21c599613048578e3cc7c1228cb20f"
            ],
            "layout": "IPY_MODEL_ea19ac7ead664e388bbb38d2765b7c92"
          }
        },
        "ea19ac7ead664e388bbb38d2765b7c92": {
          "model_module": "@jupyter-widgets/base",
          "model_module_version": "1.2.0",
          "model_name": "LayoutModel",
          "state": {
            "_model_module": "@jupyter-widgets/base",
            "_model_module_version": "1.2.0",
            "_model_name": "LayoutModel",
            "_view_count": null,
            "_view_module": "@jupyter-widgets/base",
            "_view_module_version": "1.2.0",
            "_view_name": "LayoutView",
            "align_content": null,
            "align_items": null,
            "align_self": null,
            "border": null,
            "bottom": null,
            "display": null,
            "flex": null,
            "flex_flow": null,
            "grid_area": null,
            "grid_auto_columns": null,
            "grid_auto_flow": null,
            "grid_auto_rows": null,
            "grid_column": null,
            "grid_gap": null,
            "grid_row": null,
            "grid_template_areas": null,
            "grid_template_columns": null,
            "grid_template_rows": null,
            "height": null,
            "justify_content": null,
            "justify_items": null,
            "left": null,
            "margin": null,
            "max_height": null,
            "max_width": null,
            "min_height": null,
            "min_width": null,
            "object_fit": null,
            "object_position": null,
            "order": null,
            "overflow": null,
            "overflow_x": null,
            "overflow_y": null,
            "padding": null,
            "right": null,
            "top": null,
            "visibility": null,
            "width": null
          }
        },
        "ea35136f24e2447ba902b64f906087ea": {
          "model_module": "@jupyter-widgets/base",
          "model_module_version": "1.2.0",
          "model_name": "LayoutModel",
          "state": {
            "_model_module": "@jupyter-widgets/base",
            "_model_module_version": "1.2.0",
            "_model_name": "LayoutModel",
            "_view_count": null,
            "_view_module": "@jupyter-widgets/base",
            "_view_module_version": "1.2.0",
            "_view_name": "LayoutView",
            "align_content": null,
            "align_items": null,
            "align_self": null,
            "border": null,
            "bottom": null,
            "display": null,
            "flex": null,
            "flex_flow": null,
            "grid_area": null,
            "grid_auto_columns": null,
            "grid_auto_flow": null,
            "grid_auto_rows": null,
            "grid_column": null,
            "grid_gap": null,
            "grid_row": null,
            "grid_template_areas": null,
            "grid_template_columns": null,
            "grid_template_rows": null,
            "height": null,
            "justify_content": null,
            "justify_items": null,
            "left": null,
            "margin": null,
            "max_height": null,
            "max_width": null,
            "min_height": null,
            "min_width": null,
            "object_fit": null,
            "object_position": null,
            "order": null,
            "overflow": null,
            "overflow_x": null,
            "overflow_y": null,
            "padding": null,
            "right": null,
            "top": null,
            "visibility": null,
            "width": null
          }
        },
        "ea4445db0ffc4035884e292645e738db": {
          "model_module": "@jupyter-widgets/base",
          "model_module_version": "1.2.0",
          "model_name": "LayoutModel",
          "state": {
            "_model_module": "@jupyter-widgets/base",
            "_model_module_version": "1.2.0",
            "_model_name": "LayoutModel",
            "_view_count": null,
            "_view_module": "@jupyter-widgets/base",
            "_view_module_version": "1.2.0",
            "_view_name": "LayoutView",
            "align_content": null,
            "align_items": null,
            "align_self": null,
            "border": null,
            "bottom": null,
            "display": null,
            "flex": null,
            "flex_flow": null,
            "grid_area": null,
            "grid_auto_columns": null,
            "grid_auto_flow": null,
            "grid_auto_rows": null,
            "grid_column": null,
            "grid_gap": null,
            "grid_row": null,
            "grid_template_areas": null,
            "grid_template_columns": null,
            "grid_template_rows": null,
            "height": null,
            "justify_content": null,
            "justify_items": null,
            "left": null,
            "margin": null,
            "max_height": null,
            "max_width": null,
            "min_height": null,
            "min_width": null,
            "object_fit": null,
            "object_position": null,
            "order": null,
            "overflow": null,
            "overflow_x": null,
            "overflow_y": null,
            "padding": null,
            "right": null,
            "top": null,
            "visibility": null,
            "width": null
          }
        },
        "ed9c7d2143ff441db61c1ed191b3185e": {
          "model_module": "@jupyter-widgets/base",
          "model_module_version": "1.2.0",
          "model_name": "LayoutModel",
          "state": {
            "_model_module": "@jupyter-widgets/base",
            "_model_module_version": "1.2.0",
            "_model_name": "LayoutModel",
            "_view_count": null,
            "_view_module": "@jupyter-widgets/base",
            "_view_module_version": "1.2.0",
            "_view_name": "LayoutView",
            "align_content": null,
            "align_items": null,
            "align_self": null,
            "border": null,
            "bottom": null,
            "display": null,
            "flex": null,
            "flex_flow": null,
            "grid_area": null,
            "grid_auto_columns": null,
            "grid_auto_flow": null,
            "grid_auto_rows": null,
            "grid_column": null,
            "grid_gap": null,
            "grid_row": null,
            "grid_template_areas": null,
            "grid_template_columns": null,
            "grid_template_rows": null,
            "height": null,
            "justify_content": null,
            "justify_items": null,
            "left": null,
            "margin": null,
            "max_height": null,
            "max_width": null,
            "min_height": null,
            "min_width": null,
            "object_fit": null,
            "object_position": null,
            "order": null,
            "overflow": null,
            "overflow_x": null,
            "overflow_y": null,
            "padding": null,
            "right": null,
            "top": null,
            "visibility": null,
            "width": null
          }
        },
        "ef979b2087274c8eaea27ec9615ecdad": {
          "model_module": "@jupyter-widgets/base",
          "model_module_version": "1.2.0",
          "model_name": "LayoutModel",
          "state": {
            "_model_module": "@jupyter-widgets/base",
            "_model_module_version": "1.2.0",
            "_model_name": "LayoutModel",
            "_view_count": null,
            "_view_module": "@jupyter-widgets/base",
            "_view_module_version": "1.2.0",
            "_view_name": "LayoutView",
            "align_content": null,
            "align_items": null,
            "align_self": null,
            "border": null,
            "bottom": null,
            "display": null,
            "flex": null,
            "flex_flow": null,
            "grid_area": null,
            "grid_auto_columns": null,
            "grid_auto_flow": null,
            "grid_auto_rows": null,
            "grid_column": null,
            "grid_gap": null,
            "grid_row": null,
            "grid_template_areas": null,
            "grid_template_columns": null,
            "grid_template_rows": null,
            "height": null,
            "justify_content": null,
            "justify_items": null,
            "left": null,
            "margin": null,
            "max_height": null,
            "max_width": null,
            "min_height": null,
            "min_width": null,
            "object_fit": null,
            "object_position": null,
            "order": null,
            "overflow": null,
            "overflow_x": null,
            "overflow_y": null,
            "padding": null,
            "right": null,
            "top": null,
            "visibility": null,
            "width": null
          }
        },
        "f45fa495a1904000b17af973d2dd582d": {
          "model_module": "@jupyter-widgets/controls",
          "model_module_version": "1.5.0",
          "model_name": "HTMLModel",
          "state": {
            "_dom_classes": [],
            "_model_module": "@jupyter-widgets/controls",
            "_model_module_version": "1.5.0",
            "_model_name": "HTMLModel",
            "_view_count": null,
            "_view_module": "@jupyter-widgets/controls",
            "_view_module_version": "1.5.0",
            "_view_name": "HTMLView",
            "description": "",
            "description_tooltip": null,
            "layout": "IPY_MODEL_7a51be74185c496da55638b7a8c9c305",
            "placeholder": "​",
            "style": "IPY_MODEL_e990a13241cd46f68c9eac993c47d817",
            "value": " 54/54 [00:45&lt;00:00,  1.63it/s]"
          }
        },
        "f5929ee4ef2046a6a20f7378ea329243": {
          "model_module": "@jupyter-widgets/base",
          "model_module_version": "1.2.0",
          "model_name": "LayoutModel",
          "state": {
            "_model_module": "@jupyter-widgets/base",
            "_model_module_version": "1.2.0",
            "_model_name": "LayoutModel",
            "_view_count": null,
            "_view_module": "@jupyter-widgets/base",
            "_view_module_version": "1.2.0",
            "_view_name": "LayoutView",
            "align_content": null,
            "align_items": null,
            "align_self": null,
            "border": null,
            "bottom": null,
            "display": null,
            "flex": null,
            "flex_flow": null,
            "grid_area": null,
            "grid_auto_columns": null,
            "grid_auto_flow": null,
            "grid_auto_rows": null,
            "grid_column": null,
            "grid_gap": null,
            "grid_row": null,
            "grid_template_areas": null,
            "grid_template_columns": null,
            "grid_template_rows": null,
            "height": null,
            "justify_content": null,
            "justify_items": null,
            "left": null,
            "margin": null,
            "max_height": null,
            "max_width": null,
            "min_height": null,
            "min_width": null,
            "object_fit": null,
            "object_position": null,
            "order": null,
            "overflow": null,
            "overflow_x": null,
            "overflow_y": null,
            "padding": null,
            "right": null,
            "top": null,
            "visibility": null,
            "width": null
          }
        },
        "f641a039cd0c4b26a1c49b2cbe91286d": {
          "model_module": "@jupyter-widgets/controls",
          "model_module_version": "1.5.0",
          "model_name": "FloatProgressModel",
          "state": {
            "_dom_classes": [],
            "_model_module": "@jupyter-widgets/controls",
            "_model_module_version": "1.5.0",
            "_model_name": "FloatProgressModel",
            "_view_count": null,
            "_view_module": "@jupyter-widgets/controls",
            "_view_module_version": "1.5.0",
            "_view_name": "ProgressView",
            "bar_style": "success",
            "description": "",
            "description_tooltip": null,
            "layout": "IPY_MODEL_2761cc006a964893b8da2c04e7faba11",
            "max": 155,
            "min": 0,
            "orientation": "horizontal",
            "style": "IPY_MODEL_2154ed73288f4ce8b9be4d4e1714c35d",
            "value": 155
          }
        },
        "f728aba0820345de8e9d431009d1c1dc": {
          "model_module": "@jupyter-widgets/base",
          "model_module_version": "1.2.0",
          "model_name": "LayoutModel",
          "state": {
            "_model_module": "@jupyter-widgets/base",
            "_model_module_version": "1.2.0",
            "_model_name": "LayoutModel",
            "_view_count": null,
            "_view_module": "@jupyter-widgets/base",
            "_view_module_version": "1.2.0",
            "_view_name": "LayoutView",
            "align_content": null,
            "align_items": null,
            "align_self": null,
            "border": null,
            "bottom": null,
            "display": null,
            "flex": null,
            "flex_flow": null,
            "grid_area": null,
            "grid_auto_columns": null,
            "grid_auto_flow": null,
            "grid_auto_rows": null,
            "grid_column": null,
            "grid_gap": null,
            "grid_row": null,
            "grid_template_areas": null,
            "grid_template_columns": null,
            "grid_template_rows": null,
            "height": null,
            "justify_content": null,
            "justify_items": null,
            "left": null,
            "margin": null,
            "max_height": null,
            "max_width": null,
            "min_height": null,
            "min_width": null,
            "object_fit": null,
            "object_position": null,
            "order": null,
            "overflow": null,
            "overflow_x": null,
            "overflow_y": null,
            "padding": null,
            "right": null,
            "top": null,
            "visibility": null,
            "width": null
          }
        },
        "f73a01e510a84c14b63f92d3d155e2c6": {
          "model_module": "@jupyter-widgets/controls",
          "model_module_version": "1.5.0",
          "model_name": "ProgressStyleModel",
          "state": {
            "_model_module": "@jupyter-widgets/controls",
            "_model_module_version": "1.5.0",
            "_model_name": "ProgressStyleModel",
            "_view_count": null,
            "_view_module": "@jupyter-widgets/base",
            "_view_module_version": "1.2.0",
            "_view_name": "StyleView",
            "bar_color": null,
            "description_width": ""
          }
        },
        "f7d0733dae8744c890e75c42a02d39e8": {
          "model_module": "@jupyter-widgets/controls",
          "model_module_version": "1.5.0",
          "model_name": "HTMLModel",
          "state": {
            "_dom_classes": [],
            "_model_module": "@jupyter-widgets/controls",
            "_model_module_version": "1.5.0",
            "_model_name": "HTMLModel",
            "_view_count": null,
            "_view_module": "@jupyter-widgets/controls",
            "_view_module_version": "1.5.0",
            "_view_name": "HTMLView",
            "description": "",
            "description_tooltip": null,
            "layout": "IPY_MODEL_2ef20d498cc449259308902d46379db3",
            "placeholder": "​",
            "style": "IPY_MODEL_e6e6ec49e810423aa5058c3e62aeb3a6",
            "value": " 155/155 [03:15&lt;00:00,  1.03it/s]"
          }
        },
        "f7f73af0068a41b2a72bf685571ec913": {
          "model_module": "@jupyter-widgets/controls",
          "model_module_version": "1.5.0",
          "model_name": "DescriptionStyleModel",
          "state": {
            "_model_module": "@jupyter-widgets/controls",
            "_model_module_version": "1.5.0",
            "_model_name": "DescriptionStyleModel",
            "_view_count": null,
            "_view_module": "@jupyter-widgets/base",
            "_view_module_version": "1.2.0",
            "_view_name": "StyleView",
            "description_width": ""
          }
        },
        "f8e9a623393a409e96b9e3be8b8893d3": {
          "model_module": "@jupyter-widgets/controls",
          "model_module_version": "1.5.0",
          "model_name": "FloatProgressModel",
          "state": {
            "_dom_classes": [],
            "_model_module": "@jupyter-widgets/controls",
            "_model_module_version": "1.5.0",
            "_model_name": "FloatProgressModel",
            "_view_count": null,
            "_view_module": "@jupyter-widgets/controls",
            "_view_module_version": "1.5.0",
            "_view_name": "ProgressView",
            "bar_style": "success",
            "description": "",
            "description_tooltip": null,
            "layout": "IPY_MODEL_7d91d6d7208c43ed950141f20cd675c0",
            "max": 54,
            "min": 0,
            "orientation": "horizontal",
            "style": "IPY_MODEL_d9eafe1c271e402c9bbef790635b0dcf",
            "value": 54
          }
        },
        "f9080b98599a4005822f7189965de862": {
          "model_module": "@jupyter-widgets/controls",
          "model_module_version": "1.5.0",
          "model_name": "HBoxModel",
          "state": {
            "_dom_classes": [],
            "_model_module": "@jupyter-widgets/controls",
            "_model_module_version": "1.5.0",
            "_model_name": "HBoxModel",
            "_view_count": null,
            "_view_module": "@jupyter-widgets/controls",
            "_view_module_version": "1.5.0",
            "_view_name": "HBoxView",
            "box_style": "",
            "children": [
              "IPY_MODEL_35f0b7d617d848cdad7f5dbb2db2b7e8",
              "IPY_MODEL_04423ed4c3914a3a9180bb7b934d53cd",
              "IPY_MODEL_fff8d997503949da80e4cdaa062385f5"
            ],
            "layout": "IPY_MODEL_fe50a189522643aba3d5da589822be0c"
          }
        },
        "fe50a189522643aba3d5da589822be0c": {
          "model_module": "@jupyter-widgets/base",
          "model_module_version": "1.2.0",
          "model_name": "LayoutModel",
          "state": {
            "_model_module": "@jupyter-widgets/base",
            "_model_module_version": "1.2.0",
            "_model_name": "LayoutModel",
            "_view_count": null,
            "_view_module": "@jupyter-widgets/base",
            "_view_module_version": "1.2.0",
            "_view_name": "LayoutView",
            "align_content": null,
            "align_items": null,
            "align_self": null,
            "border": null,
            "bottom": null,
            "display": null,
            "flex": null,
            "flex_flow": null,
            "grid_area": null,
            "grid_auto_columns": null,
            "grid_auto_flow": null,
            "grid_auto_rows": null,
            "grid_column": null,
            "grid_gap": null,
            "grid_row": null,
            "grid_template_areas": null,
            "grid_template_columns": null,
            "grid_template_rows": null,
            "height": null,
            "justify_content": null,
            "justify_items": null,
            "left": null,
            "margin": null,
            "max_height": null,
            "max_width": null,
            "min_height": null,
            "min_width": null,
            "object_fit": null,
            "object_position": null,
            "order": null,
            "overflow": null,
            "overflow_x": null,
            "overflow_y": null,
            "padding": null,
            "right": null,
            "top": null,
            "visibility": null,
            "width": null
          }
        },
        "fff8d997503949da80e4cdaa062385f5": {
          "model_module": "@jupyter-widgets/controls",
          "model_module_version": "1.5.0",
          "model_name": "HTMLModel",
          "state": {
            "_dom_classes": [],
            "_model_module": "@jupyter-widgets/controls",
            "_model_module_version": "1.5.0",
            "_model_name": "HTMLModel",
            "_view_count": null,
            "_view_module": "@jupyter-widgets/controls",
            "_view_module_version": "1.5.0",
            "_view_name": "HTMLView",
            "description": "",
            "description_tooltip": null,
            "layout": "IPY_MODEL_7dadeb42f1074af69bbf0f9798be2895",
            "placeholder": "​",
            "style": "IPY_MODEL_e7d8f6e7ce1644fcbdddc892af17d1d7",
            "value": " 155/155 [03:16&lt;00:00,  1.05it/s]"
          }
        }
      }
    }
  },
  "nbformat": 4,
  "nbformat_minor": 0
}
